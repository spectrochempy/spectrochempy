{
 "cells": [
  {
   "cell_type": "markdown",
   "id": "6ac760c7",
   "metadata": {
    "editable": true,
    "slideshow": {
     "slide_type": ""
    }
   },
   "source": [
    "## Import of Bruker OPUS files\n",
    "\n",
    "[Bruker OPUS](https://www.bruker.com/en/products-and-solutions/infrared-and-raman/opus-spectroscopy-software.html)\n",
    "files have also a proprietary file format. The Opus reader (`read_opus()` ) of spectrochempy is essentially a wrapper of the python module\n",
    "[brukeropus](https://github.com/joshduran/brukeropus) developed by Josh Duran.\n",
    "The use of `read_opus()` is similar to that of  `read_omnic()`."
   ]
  },
  {
   "cell_type": "markdown",
   "id": "8e6ede9e",
   "metadata": {},
   "source": [
    "### Basic loading of OPUS file"
   ]
  },
  {
   "cell_type": "markdown",
   "id": "ade0e224",
   "metadata": {},
   "source": [
    "Individual Opus files can be opened and loaded as a new NDDataset using:"
   ]
  },
  {
   "cell_type": "code",
   "execution_count": 1,
   "id": "0eab303c",
   "metadata": {
    "editable": true,
    "execution": {
     "iopub.execute_input": "2025-03-20T15:38:00.488863Z",
     "iopub.status.busy": "2025-03-20T15:38:00.488663Z",
     "iopub.status.idle": "2025-03-20T15:38:00.758547Z",
     "shell.execute_reply": "2025-03-20T15:38:00.757895Z"
    },
    "slideshow": {
     "slide_type": ""
    }
   },
   "outputs": [
    {
     "data": {
      "text/html": [
       "\n",
       "        \n",
       "        <div>\n",
       "        <table>\n",
       "        <tr>\n",
       "        <td>\n",
       "        \n",
       "        <img src='data:image/png;base64,iVBORw0KGgoAAAANSUhEUgAAABgAAAAYCAYAAADgdz34AAAA\n",
       "        AXNSR0IArs4c6QAAAAlwSFlzAAAJOgAACToB8GSSSgAAAetpVFh0WE1MOmNvbS5hZG9iZS54bXAAAAAA\n",
       "        ADx4OnhtcG1ldGEgeG1sbnM6eD0iYWRvYmU6bnM6bWV0YS8iIHg6eG1wdGs9IlhNUCBDb3JlIDUuNC4w\n",
       "        Ij4KICAgPHJkZjpSREYgeG1sbnM6cmRmPSJodHRwOi8vd3d3LnczLm9yZy8xOTk5LzAyLzIyLXJkZi1z\n",
       "        eW50YXgtbnMjIj4KICAgICAgPHJkZjpEZXNjcmlwdGlvbiByZGY6YWJvdXQ9IiIKICAgICAgICAgICAg\n",
       "        eG1sbnM6eG1wPSJodHRwOi8vbnMuYWRvYmUuY29tL3hhcC8xLjAvIgogICAgICAgICAgICB4bWxuczp0\n",
       "        aWZmPSJodHRwOi8vbnMuYWRvYmUuY29tL3RpZmYvMS4wLyI+CiAgICAgICAgIDx4bXA6Q3JlYXRvclRv\n",
       "        b2w+bWF0cGxvdGxpYiB2ZXJzaW9uIDIuMS4wLCBodHRwOi8vbWF0cGxvdGxpYi5vcmcvPC94bXA6Q3Jl\n",
       "        YXRvclRvb2w+CiAgICAgICAgIDx0aWZmOk9yaWVudGF0aW9uPjE8L3RpZmY6T3JpZW50YXRpb24+CiAg\n",
       "        ICAgIDwvcmRmOkRlc2NyaXB0aW9uPgogICA8L3JkZjpSREY+CjwveDp4bXBtZXRhPgqNQaNYAAAGiUlE\n",
       "        QVRIDY1We4xU1Rn/3XPuYx47u8w+hnU38hTcuoUEt/6D2y4RB0ME1BoEd9taJaKh9CFiN7YGp7appUAM\n",
       "        NmktMZFoJTYVLVQ0smsy26CN0SU1QgsuFAaW3WVmx33N677O6XfuyoIxTXqSO/fec+75fd93vt/3/UbD\n",
       "        V0aKSZmCpkFMLz3T9utuu2N+o98aDSMBKVAo89z5y+zEz3ZafcCOfvWdlGCalqKn1Bf71CygTd+mf1es\n",
       "        SOnpdMpTb+vWpTZuWVfe3jLPa5tzHYNm0T5N0gpdkkHaDBeGBU6d1/t/fyS8+/CbqdfUvmsx1PuMgc2b\n",
       "        Nxv79u1zgd31r+7JH1jbIZKxWRXAcYUQ8IWvBfBXNjEuJWPgMA02NR7C3/pYT9fjdZ3A9tGrWF8YSJHn\n",
       "        qcDz3y7q2T967PZv+gnYJdd1mEZ+62zGDQV/dQgKhmLzDNOXCEWM3j6eTT5Y3w78dOBKJLR1PQf+4ivP\n",
       "        j76UPZnssBN+wbM9Aet/AV81Mf1EEULXYfOobvX2WWQk0aoioXwwSmirOlioY0mu8BIouzYl7P8GV3vp\n",
       "        qCCEZvlFz769w08oLDWvyKIyL1asSm28d6WfzA97ztvvV1kexUMsmhlkULEkuGYmFYC6AvfUrITnwUKl\n",
       "        5K79lkjeSSRRTCTbQPd95e1WzMbZSya74XoXAxctCllCnbECMOjZNGRwvzIXnD85wbkMmKK+U045Dtdi\n",
       "        8Qp+SAxU2GTg2bYlC9224pgvmSb54vkVTBQYyhUt2KjAMyMmPjwRQW5Mh2WKwJhlBh6jVGagFM84wZnQ\n",
       "        4bpC0Rt4pk1PbSt0NDcxDA5xryosDHWgtbM0DGZDWLSoiDMDYeQnGVrmOThxLozB0RAaahzkJzjKNqcI\n",
       "        QBymJFMkOlN8Dqjpg0XYTx5xO/QbmmUrqIjGJznq47TqTaClKYfjp+PInLMwnOdYvtQBZ2XcunQY+VwI\n",
       "        o4U4muoFEjVEFE6lQyEUKzHYfgQG9ylCyngU+CxjtOqxCDGHcCsOMCs6iQul5ZiStdATYxjMZXDLTUVw\n",
       "        LY8Jey4uOh2IxjwsrP8UXJYxUrkZrghBahzV5iXU6gNkq0Z1EzIsUBUSCV2nEOHo0LVxHCpuxabJJdhi\n",
       "        5PFnvw5vLXwXIfNZvD/+JNo/X40NegE54sUaazl+UL8XD1x+FB9Ijjt4EQfdGN6J/x131LwIV9ap/AYs\n",
       "        0x1fz1ZKFbh6A7qKy/By9Dg6G36Ep91vUJJ15Cqr0Z67E8/HzmBrw1OwxWyM+3Mo6BAuSB17oyfx0Oyl\n",
       "        2DN0Hqs/70Cx6hBCvESFUY1ShWXZZEE7OTAYxZzaPH4TuoiusZvRnunFy2NbiHYuBp2vB66srX4vMEjp\n",
       "        RKPxKXmnoQ4+Mn4DPiv8CYcrs3GfNUXJLtM+alSOhrMj/KT+wBNW3+E/2liywNO3iSflbaFva/+stGDT\n",
       "        xE0E9Sjaox8HBhxpEamzMGSEaFKg+mjEddzDh1MxTDq3YV1kGBsjfwW3S9Cqanjmko+ndlb1UR3s6K8J\n",
       "        lfphNWq9Ew/7c61T2BB/EbcaNkb8GBaE0tANH7/M34PLdhJDzjIcL9xPbdTG6zyM72Y+wXPHmvB489No\n",
       "        fm0b5HnbQ9Rgp/7DSSd29AeVvPeNyK6JcYl/yQVi5dBjuGvoV/gaJe47s45QUxrDmcYX0MBsdF7egvXZ\n",
       "        7+O0vZA4X8QmOQWjlSK7RDz5wIM30gp9UbWcGjXxhzdDu1SiNSpx6kcQB57rPnr/3dlkZarWLnlRq5oP\n",
       "        ET1dOCIOk4wALib9eeS5iygfhkd09H0DWphB/+gs+PcOAS+ssrFmmXXgVfR0de9cpbAJfH3Q1jofW9DZ\n",
       "        k56dDcVsq9YcsoUMEd1qyLoT3BX1YiyHMJuk97hyjqIoE91t+NcTLeN0ZrfMoXatZbu6G0h4VG+ibqq0\n",
       "        IJVK6cAjo6serG3vSUezCMct0yQeSOFJSUImqb2qbknUpDqlZxE0QZ+ZUpSlZx79h4Nda6zef9dlk121\n",
       "        JDjbR5XggPRZlRnS6bRQRtLpn4++cuie/Yvn2svmNxuLw9WCcYIl4fEoTEGiSTUqJdfgU+8ROqf1iMkL\n",
       "        zS389YtNPXc/PH8l8ONBJZkHD+4JtD04HmVEDWWErmBhzV2/2LB1bemJG6krzv2S6NOHUgtEP0Oif5pE\n",
       "        /3fHoruP7N8RiP61GArzSwbUhJJQpXJKiKbfr/3bIhKq76sKPUdF9NW/LSqfSn6vjv8C45H/6FSgvZQA\n",
       "        AAAASUVORK5CYII='\n",
       "        style='height:25px; border-radius:12px; display:inline-block; float:left;\n",
       "        vertical-align:middle'>\n",
       "        </img>\n",
       "        \n",
       "        </td>\n",
       "        <td>\n",
       "        \n",
       "        &nbsp;&nbsp;<span style='font-size:12px'>SpectroChemPy's API - v.0.8.0<br/>©Copyright 2014-2025 - A.Travert & C.Fernandez @ LCS</span>\n",
       "        \n",
       "        </td>\n",
       "        </tr>\n",
       "        </table>\n",
       "        </div>\n",
       "        "
      ]
     },
     "metadata": {},
     "output_type": "display_data"
    }
   ],
   "source": [
    "import spectrochempy as scp"
   ]
  },
  {
   "cell_type": "code",
   "execution_count": 2,
   "id": "87c884bf",
   "metadata": {
    "editable": true,
    "execution": {
     "iopub.execute_input": "2025-03-20T15:38:00.760796Z",
     "iopub.status.busy": "2025-03-20T15:38:00.760370Z",
     "iopub.status.idle": "2025-03-20T15:38:02.332900Z",
     "shell.execute_reply": "2025-03-20T15:38:02.332249Z"
    },
    "slideshow": {
     "slide_type": ""
    }
   },
   "outputs": [
    {
     "data": {
      "text/html": [
       "<style>/* SpectroChemPy output styling */\n",
       ".scp-output {\n",
       "    display: flex;\n",
       "    flex-direction: column;\n",
       "    gap: 2px;\n",
       "}\n",
       "\n",
       ".scp-output details {\n",
       "    padding: 1px;\n",
       "}\n",
       "\n",
       ".scp-output summary {\n",
       "    cursor: pointer;\n",
       "    font-weight: normal;\n",
       "    /*bold;*/\n",
       "    font-size: 11pt;\n",
       "}\n",
       "\n",
       ".scp-output summary:hover {\n",
       "    color: #888;\n",
       "}\n",
       "\n",
       "/* Parameters display styling */\n",
       ".scp-output .section {\n",
       "    display: flex;\n",
       "    flex-direction: row;\n",
       "    gap: 2px;\n",
       "    font-family: Arial, sans-serif;\n",
       "    font-size: 10pt;\n",
       "    margin-left: 15px;\n",
       "}\n",
       "\n",
       ".scp-output .meta-name,\n",
       ".scp-output .attr-name {\n",
       "    font-weight: 500;\n",
       "    color: #28A745;\n",
       "    text-align: right;\n",
       "}\n",
       "\n",
       ".scp-output .attr-name {\n",
       "    min-width: 100px;\n",
       "}\n",
       "\n",
       ".scp-output .meta-name {\n",
       "    min-width: 150px;\n",
       "}\n",
       "\n",
       ".scp-output .meta-value,\n",
       ".scp-output .attr-value {\n",
       "    flex: 1;\n",
       "}\n",
       "\n",
       ".scp-output .numeric {\n",
       "    color: #2D7FF9;\n",
       "    margin-left: 120px;\n",
       "    font-size: 10pt;\n",
       "}\n",
       "\n",
       ".scp-output .label {\n",
       "    color: darkcyan;\n",
       "    margin-left: 120px;\n",
       "    font-size: 10pt;\n",
       "}\n",
       "\n",
       ".scp-output .attr-value .numeric {\n",
       "    color: #2D7FF9;\n",
       "    margin-left: 0px;\n",
       "    font-size: 10pt;\n",
       "}\n",
       "\n",
       ".scp-output .attr-value .label {\n",
       "    color: darkcyan;\n",
       "    margin-left: 0px;\n",
       "    font-size: 10pt;\n",
       "}\n",
       "</style>"
      ],
      "text/plain": [
       "<IPython.core.display.HTML object>"
      ]
     },
     "metadata": {},
     "output_type": "display_data"
    },
    {
     "name": "stdout",
     "output_type": "stream",
     "text": [
      "Running on GitHub Actions\n",
      "MPL Configuration directory: /home/runner/.config/matplotlib\n",
      "Stylelib directory: /home/runner/.config/matplotlib/stylelib\n"
     ]
    },
    {
     "data": {
      "text/html": [
       "<div class='scp-output'><details><summary>NDDataset: [float64] a.u. (shape: (y:1, x:2567))[test]</summary><div class=\"scp-output section\"><details><summary>Summary</summary>\n",
       "<div class=\"scp-output section\"><div class=\"attr-name\">         name</div><div>:</div><div class=\"attr-value\"> test</div></div>\n",
       "<div class=\"scp-output section\"><div class=\"attr-name\">       author</div><div>:</div><div class=\"attr-value\"> runner@fv-az805-61</div></div>\n",
       "<div class=\"scp-output section\"><div class=\"attr-name\">      created</div><div>:</div><div class=\"attr-value\"> 2025-03-20 15:38:02+00:00</div></div>\n",
       "<div class=\"scp-output section\"><div class=\"attr-name\">  description</div><div>:</div><div class=\"attr-value\"> <div>Dataset from opus files.<br/>               Spectra type: Absorbance</div></div></div>\n",
       "<div class=\"scp-output section\"><div class=\"attr-name\">      history</div><div>:</div><div class=\"attr-value\"> <div>2025-03-20 15:38:02+00:00> 2025-03-20 15:38:02.323307+00:00: import from opus files</div></div></div></details></div>\n",
       "<div class=\"scp-output section\"><details><summary>          Data </summary>\n",
       "<div class=\"scp-output section\"><div class=\"attr-name\">        title</div><div>:</div><div class=\"attr-value\"> absorbance</div></div>\n",
       "<div class=\"scp-output section\"><div class=\"attr-name\">       values</div><div>:</div><div class=\"attr-value\"> ... </div></div>\n",
       "<div class='numeric'>         [[0.0002479 0.0002325 ...   0.5809   0.6376]] a.u.</div>\n",
       "<div class=\"scp-output section\"><div class=\"attr-name\">        shape</div><div>:</div><div class=\"attr-value\"> (y:1, x:2567)</div></div></details></div>\n",
       "<div class=\"scp-output section\"><details><summary>     Dimension `x`</summary>\n",
       "<div class=\"scp-output section\"><div class=\"attr-name\">         size</div><div>:</div><div class=\"attr-value\"> 2567</div></div>\n",
       "<div class=\"scp-output section\"><div class=\"attr-name\">        title</div><div>:</div><div class=\"attr-value\"> wavenumber</div></div>\n",
       "<div class=\"scp-output section\"><div class=\"attr-name\">  coordinates</div><div>:</div><div class=\"attr-value\"> <div class='numeric'>[    3998     3997 ...    700.7    699.4] cm⁻¹</div></div></div></details></div>\n",
       "<div class=\"scp-output section\"><details><summary>     Dimension `y`</summary>\n",
       "<div class=\"scp-output section\"><div class=\"attr-name\">         size</div><div>:</div><div class=\"attr-value\"> 1</div></div>\n",
       "<div class=\"scp-output section\"><div class=\"attr-name\">        title</div><div>:</div><div class=\"attr-value\"> acquisition timestamp (GMT)</div></div>\n",
       "<div class=\"scp-output section\"><div class=\"attr-name\">  coordinates</div><div>:</div><div class=\"attr-value\"> <div class='numeric'>[1.581e+09] s</div></div></div>\n",
       "<div class=\"scp-output section\"><div class=\"attr-name\">       labels</div><div>:</div><div class=\"attr-value\"> ... </div></div>\n",
       "<div class='label'>         [[  2020-02-06 12:10:06.368000+00:00]<br/>          [  MCT D317 1mm² [8500 - 700 Cm-1]]<br/>          [  /home/runner/.spectrochempy/testdata/irdata/OPUS/test.0002]]</div></details></div></details></div>"
      ],
      "text/plain": [
       "NDDataset: [float64] a.u. (shape: (y:1, x:2567))"
      ]
     },
     "execution_count": 2,
     "metadata": {},
     "output_type": "execute_result"
    }
   ],
   "source": [
    "Z = scp.read_opus(\"irdata/OPUS/test.0002\")\n",
    "Z"
   ]
  },
  {
   "cell_type": "markdown",
   "id": "c44889c1",
   "metadata": {
    "editable": true,
    "slideshow": {
     "slide_type": ""
    }
   },
   "source": [
    "<div class='alert alert-info'>\n",
    "<b>Note:</b><br/>\n",
    "In the previous use of <strong>read_opus()</strong>, we have assumed that the file is in <strong>datadir</strong> folder (see the <a href=\"../import.html\">import tutorial</a> or more details on this). <br/>If this not the case, you should use an absolute path or a relative path to the current notebook folder.\n",
    "</div>"
   ]
  },
  {
   "cell_type": "markdown",
   "id": "d814ca86",
   "metadata": {
    "editable": true,
    "slideshow": {
     "slide_type": ""
    }
   },
   "source": [
    "For multifile loading, one can use:"
   ]
  },
  {
   "cell_type": "code",
   "execution_count": 3,
   "id": "60fd4122",
   "metadata": {
    "editable": true,
    "execution": {
     "iopub.execute_input": "2025-03-20T15:38:02.335286Z",
     "iopub.status.busy": "2025-03-20T15:38:02.334696Z",
     "iopub.status.idle": "2025-03-20T15:38:02.429568Z",
     "shell.execute_reply": "2025-03-20T15:38:02.429002Z"
    },
    "slideshow": {
     "slide_type": ""
    }
   },
   "outputs": [
    {
     "data": {
      "text/html": [
       "<div class='scp-output'><details><summary>NDDataset: [float64] a.u. (shape: (y:3, x:2567))[test]</summary><div class=\"scp-output section\"><details><summary>Summary</summary>\n",
       "<div class=\"scp-output section\"><div class=\"attr-name\">         name</div><div>:</div><div class=\"attr-value\"> test</div></div>\n",
       "<div class=\"scp-output section\"><div class=\"attr-name\">       author</div><div>:</div><div class=\"attr-value\"> runner@fv-az805-61</div></div>\n",
       "<div class=\"scp-output section\"><div class=\"attr-name\">      created</div><div>:</div><div class=\"attr-value\"> 2025-03-20 15:38:02+00:00</div></div>\n",
       "<div class=\"scp-output section\"><div class=\"attr-name\">  description</div><div>:</div><div class=\"attr-value\"> <div>Concatenation of 3  datasets:<br/>               ( test, test, test )</div></div></div>\n",
       "<div class=\"scp-output section\"><div class=\"attr-name\">      history</div><div>:</div><div class=\"attr-value\"> <div>2025-03-20 15:38:02+00:00> Created by concatenate<br/>               2025-03-20 15:38:02+00:00> Merged from several files</div></div></div></details></div>\n",
       "<div class=\"scp-output section\"><details><summary>          Data </summary>\n",
       "<div class=\"scp-output section\"><div class=\"attr-name\">        title</div><div>:</div><div class=\"attr-value\"> absorbance</div></div>\n",
       "<div class=\"scp-output section\"><div class=\"attr-name\">       values</div><div>:</div><div class=\"attr-value\"> ... </div></div>\n",
       "<div class='numeric'>         [[0.000459 0.0004219 ...   0.5771   0.6324]<br/>          [0.000451 0.0004229 ...   0.5752   0.6311]<br/>          [0.0002479 0.0002325 ...   0.5809   0.6376]] a.u.</div>\n",
       "<div class=\"scp-output section\"><div class=\"attr-name\">        shape</div><div>:</div><div class=\"attr-value\"> (y:3, x:2567)</div></div></details></div>\n",
       "<div class=\"scp-output section\"><details><summary>     Dimension `x`</summary>\n",
       "<div class=\"scp-output section\"><div class=\"attr-name\">         size</div><div>:</div><div class=\"attr-value\"> 2567</div></div>\n",
       "<div class=\"scp-output section\"><div class=\"attr-name\">        title</div><div>:</div><div class=\"attr-value\"> wavenumber</div></div>\n",
       "<div class=\"scp-output section\"><div class=\"attr-name\">  coordinates</div><div>:</div><div class=\"attr-value\"> <div class='numeric'>[    3998     3997 ...    700.7    699.4] cm⁻¹</div></div></div></details></div>\n",
       "<div class=\"scp-output section\"><details><summary>     Dimension `y`</summary>\n",
       "<div class=\"scp-output section\"><div class=\"attr-name\">         size</div><div>:</div><div class=\"attr-value\"> 3</div></div>\n",
       "<div class=\"scp-output section\"><div class=\"attr-name\">        title</div><div>:</div><div class=\"attr-value\"> acquisition timestamp (GMT)</div></div>\n",
       "<div class=\"scp-output section\"><div class=\"attr-name\">  coordinates</div><div>:</div><div class=\"attr-value\"> <div class='numeric'>[1.581e+09 1.581e+09 1.581e+09] s</div></div></div>\n",
       "<div class=\"scp-output section\"><div class=\"attr-name\">       labels</div><div>:</div><div class=\"attr-value\"> ... </div></div>\n",
       "<div class='label'>         [[  2020-02-06 12:09:58.095000+00:00   2020-02-06 12:10:02.232000+00:00   2020-02-06 12:10:06.368000+00:00]<br/>          [  MCT D317 1mm² [8500 - 700 Cm-1]   MCT D317 1mm² [8500 - 700 Cm-1]   MCT D317 1mm² [8500 - 700 Cm-1]]<br/>          [  /home/runner/.spectrochempy/testdata/irdata/OPUS/test.0000   /home/runner/.spectrochempy/testdata/irdata/OPUS/test.0001<br/>             /home/runner/.spectrochempy/testdata/irdata/OPUS/test.0002]]</div></details></div></details></div>"
      ],
      "text/plain": [
       "NDDataset: [float64] a.u. (shape: (y:3, x:2567))"
      ]
     },
     "execution_count": 3,
     "metadata": {},
     "output_type": "execute_result"
    }
   ],
   "source": [
    "Z1 = scp.read_opus(\"test.0000\", \"test.0001\", \"test.0002\", directory=\"irdata/OPUS\")\n",
    "Z1"
   ]
  },
  {
   "cell_type": "markdown",
   "id": "6c8cd48f",
   "metadata": {
    "editable": true,
    "slideshow": {
     "slide_type": ""
    }
   },
   "source": [
    "<div class='alert alert-info'>\n",
    "<b>Note:</b><br/>\n",
    "    By default all files in the given directory are merged as a single dataset if they are compatibles (*i.e.*, same shape, same type of experiment...).<br/>\n",
    "    If they cannot be merged due to imcompatible shape or type, separate datasets are returned with dataset merged in different groups."
   ]
  },
  {
   "cell_type": "markdown",
   "id": "7ddda065",
   "metadata": {
    "editable": true,
    "slideshow": {
     "slide_type": ""
    }
   },
   "source": [
    "For instance in the following, two dataset will be returned:"
   ]
  },
  {
   "cell_type": "code",
   "execution_count": 4,
   "id": "b6171ad0",
   "metadata": {
    "editable": true,
    "execution": {
     "iopub.execute_input": "2025-03-20T15:38:02.431824Z",
     "iopub.status.busy": "2025-03-20T15:38:02.431351Z",
     "iopub.status.idle": "2025-03-20T15:38:02.622681Z",
     "shell.execute_reply": "2025-03-20T15:38:02.622059Z"
    },
    "slideshow": {
     "slide_type": ""
    }
   },
   "outputs": [
    {
     "data": {
      "text/html": [
       "<div class='scp-output'><details><summary>List (len=2, type=NDDataset)</summary><ul><div class='scp-output section'><div class='scp-output'><details><summary>0: NDDataset: [float64] a.u. (shape: (y:3, x:2567))[test]</summary><div class=\"scp-output section\"><details><summary>Summary</summary>\n",
       "<div class=\"scp-output section\"><div class=\"attr-name\">         name</div><div>:</div><div class=\"attr-value\"> test</div></div>\n",
       "<div class=\"scp-output section\"><div class=\"attr-name\">       author</div><div>:</div><div class=\"attr-value\"> runner@fv-az805-61</div></div>\n",
       "<div class=\"scp-output section\"><div class=\"attr-name\">      created</div><div>:</div><div class=\"attr-value\"> 2025-03-20 15:38:02+00:00</div></div>\n",
       "<div class=\"scp-output section\"><div class=\"attr-name\">  description</div><div>:</div><div class=\"attr-value\"> <div>Concatenation of 3  datasets:<br/>               ( test, test, test )</div></div></div>\n",
       "<div class=\"scp-output section\"><div class=\"attr-name\">      history</div><div>:</div><div class=\"attr-value\"> <div>2025-03-20 15:38:02+00:00> Created by concatenate<br/>               2025-03-20 15:38:02+00:00> Merged from several files</div></div></div></details></div>\n",
       "<div class=\"scp-output section\"><details><summary>          Data </summary>\n",
       "<div class=\"scp-output section\"><div class=\"attr-name\">        title</div><div>:</div><div class=\"attr-value\"> absorbance</div></div>\n",
       "<div class=\"scp-output section\"><div class=\"attr-name\">       values</div><div>:</div><div class=\"attr-value\"> ... </div></div>\n",
       "<div class='numeric'>         [[0.000459 0.0004219 ...   0.5771   0.6324]<br/>          [0.000451 0.0004229 ...   0.5752   0.6311]<br/>          [0.0002479 0.0002325 ...   0.5809   0.6376]] a.u.</div>\n",
       "<div class=\"scp-output section\"><div class=\"attr-name\">        shape</div><div>:</div><div class=\"attr-value\"> (y:3, x:2567)</div></div></details></div>\n",
       "<div class=\"scp-output section\"><details><summary>     Dimension `x`</summary>\n",
       "<div class=\"scp-output section\"><div class=\"attr-name\">         size</div><div>:</div><div class=\"attr-value\"> 2567</div></div>\n",
       "<div class=\"scp-output section\"><div class=\"attr-name\">        title</div><div>:</div><div class=\"attr-value\"> wavenumber</div></div>\n",
       "<div class=\"scp-output section\"><div class=\"attr-name\">  coordinates</div><div>:</div><div class=\"attr-value\"> <div class='numeric'>[    3998     3997 ...    700.7    699.4] cm⁻¹</div></div></div></details></div>\n",
       "<div class=\"scp-output section\"><details><summary>     Dimension `y`</summary>\n",
       "<div class=\"scp-output section\"><div class=\"attr-name\">         size</div><div>:</div><div class=\"attr-value\"> 3</div></div>\n",
       "<div class=\"scp-output section\"><div class=\"attr-name\">        title</div><div>:</div><div class=\"attr-value\"> acquisition timestamp (GMT)</div></div>\n",
       "<div class=\"scp-output section\"><div class=\"attr-name\">  coordinates</div><div>:</div><div class=\"attr-value\"> <div class='numeric'>[1.581e+09 1.581e+09 1.581e+09] s</div></div></div>\n",
       "<div class=\"scp-output section\"><div class=\"attr-name\">       labels</div><div>:</div><div class=\"attr-value\"> ... </div></div>\n",
       "<div class='label'>         [[  2020-02-06 12:09:58.095000+00:00   2020-02-06 12:10:02.232000+00:00   2020-02-06 12:10:06.368000+00:00]<br/>          [  MCT D317 1mm² [8500 - 700 Cm-1]   MCT D317 1mm² [8500 - 700 Cm-1]   MCT D317 1mm² [8500 - 700 Cm-1]]<br/>          [  /home/runner/.spectrochempy/testdata/irdata/OPUS/test.0000   /home/runner/.spectrochempy/testdata/irdata/OPUS/test.0001<br/>             /home/runner/.spectrochempy/testdata/irdata/OPUS/test.0002]]</div></details></div></details></div></div>\n",
       "<div class='scp-output section'><div class='scp-output'><details><summary>1: NDDataset: [float64] unitless (shape: (y:1, x:4096))[background]</summary><div class=\"scp-output section\"><details><summary>Summary</summary>\n",
       "<div class=\"scp-output section\"><div class=\"attr-name\">         name</div><div>:</div><div class=\"attr-value\"> background</div></div>\n",
       "<div class=\"scp-output section\"><div class=\"attr-name\">       author</div><div>:</div><div class=\"attr-value\"> runner@fv-az805-61</div></div>\n",
       "<div class=\"scp-output section\"><div class=\"attr-name\">      created</div><div>:</div><div class=\"attr-value\"> 2025-03-20 15:38:02+00:00</div></div>\n",
       "<div class=\"scp-output section\"><div class=\"attr-name\">  description</div><div>:</div><div class=\"attr-value\"> <div>Concatenation of 1  datasets:<br/>               ( background )</div></div></div>\n",
       "<div class=\"scp-output section\"><div class=\"attr-name\">      history</div><div>:</div><div class=\"attr-value\"> <div>2025-03-20 15:38:02+00:00> Created by concatenate<br/>               2025-03-20 15:38:02+00:00> Merged from several files</div></div></div></details></div>\n",
       "<div class=\"scp-output section\"><details><summary>          Data </summary>\n",
       "<div class=\"scp-output section\"><div class=\"attr-name\">        title</div><div>:</div><div class=\"attr-value\"> single-channel reference spectra</div></div>\n",
       "<div class=\"scp-output section\"><div class=\"attr-name\">       values</div><div>:</div><div class=\"attr-value\"> ... </div></div>\n",
       "<div class='numeric'>         [[ 0.01242  0.01243 ... 0.001023  0.01261]]</div>\n",
       "<div class=\"scp-output section\"><div class=\"attr-name\">        shape</div><div>:</div><div class=\"attr-value\"> (y:1, x:4096)</div></div></details></div>\n",
       "<div class=\"scp-output section\"><details><summary>     Dimension `x`</summary>\n",
       "<div class=\"scp-output section\"><div class=\"attr-name\">         size</div><div>:</div><div class=\"attr-value\"> 4096</div></div>\n",
       "<div class=\"scp-output section\"><div class=\"attr-name\">        title</div><div>:</div><div class=\"attr-value\"> wavenumber</div></div>\n",
       "<div class=\"scp-output section\"><div class=\"attr-name\">  coordinates</div><div>:</div><div class=\"attr-value\"> <div class='numeric'>[    5265     5263 ...    1.286        0] cm⁻¹</div></div></div></details></div>\n",
       "<div class=\"scp-output section\"><details><summary>     Dimension `y`</summary>\n",
       "<div class=\"scp-output section\"><div class=\"attr-name\">         size</div><div>:</div><div class=\"attr-value\"> 1</div></div>\n",
       "<div class=\"scp-output section\"><div class=\"attr-name\">        title</div><div>:</div><div class=\"attr-value\"> acquisition timestamp (GMT)</div></div>\n",
       "<div class=\"scp-output section\"><div class=\"attr-name\">  coordinates</div><div>:</div><div class=\"attr-value\"> <div class='numeric'>[1.581e+09] s</div></div></div>\n",
       "<div class=\"scp-output section\"><div class=\"attr-name\">       labels</div><div>:</div><div class=\"attr-value\"> ... </div></div>\n",
       "<div class='label'>         [[  2020-02-06 12:01:55.349000+00:00]<br/>          [  MCT D317 1mm² [8500 - 700 Cm-1]]<br/>          [  /home/runner/.spectrochempy/testdata/irdata/OPUS/background.0]]</div></details></div></details></div></div>\n",
       "</details></div>"
      ],
      "text/plain": [
       "[NDDataset: [float64] a.u. (shape: (y:3, x:2567)),\n",
       " NDDataset: [float64] unitless (shape: (y:1, x:4096))]"
      ]
     },
     "execution_count": 4,
     "metadata": {},
     "output_type": "execute_result"
    }
   ],
   "source": [
    "LZ1 = scp.read_opus(\n",
    "    \"test.0000\", \"test.0001\", \"test.0002\", \"background.0\", directory=\"irdata/OPUS\"\n",
    ")\n",
    "LZ1"
   ]
  },
  {
   "cell_type": "markdown",
   "id": "83710af3",
   "metadata": {
    "editable": true,
    "slideshow": {
     "slide_type": ""
    }
   },
   "source": [
    "Multifile loading can also be achieved by only specifying the directory to read, if all files in a directory must be read:"
   ]
  },
  {
   "cell_type": "code",
   "execution_count": 5,
   "id": "cbc0a51e",
   "metadata": {
    "editable": true,
    "execution": {
     "iopub.execute_input": "2025-03-20T15:38:02.624969Z",
     "iopub.status.busy": "2025-03-20T15:38:02.624483Z",
     "iopub.status.idle": "2025-03-20T15:38:02.886173Z",
     "shell.execute_reply": "2025-03-20T15:38:02.885473Z"
    },
    "slideshow": {
     "slide_type": ""
    }
   },
   "outputs": [
    {
     "data": {
      "text/html": [
       "<div class='scp-output'><details><summary>List (len=2, type=NDDataset)</summary><ul><div class='scp-output section'><div class='scp-output'><details><summary>0: NDDataset: [float64] a.u. (shape: (y:4, x:2567))[test]</summary><div class=\"scp-output section\"><details><summary>Summary</summary>\n",
       "<div class=\"scp-output section\"><div class=\"attr-name\">         name</div><div>:</div><div class=\"attr-value\"> test</div></div>\n",
       "<div class=\"scp-output section\"><div class=\"attr-name\">       author</div><div>:</div><div class=\"attr-value\"> runner@fv-az805-61</div></div>\n",
       "<div class=\"scp-output section\"><div class=\"attr-name\">      created</div><div>:</div><div class=\"attr-value\"> 2025-03-20 15:38:02+00:00</div></div>\n",
       "<div class=\"scp-output section\"><div class=\"attr-name\">  description</div><div>:</div><div class=\"attr-value\"> <div>Concatenation of 1  datasets:<br/>               ( test )</div></div></div>\n",
       "<div class=\"scp-output section\"><div class=\"attr-name\">      history</div><div>:</div><div class=\"attr-value\"> <div>2025-03-20 15:38:02+00:00> Created by concatenate<br/>               2025-03-20 15:38:02+00:00> Merged from several files</div></div></div></details></div>\n",
       "<div class=\"scp-output section\"><details><summary>          Data </summary>\n",
       "<div class=\"scp-output section\"><div class=\"attr-name\">        title</div><div>:</div><div class=\"attr-value\"> absorbance</div></div>\n",
       "<div class=\"scp-output section\"><div class=\"attr-name\">       values</div><div>:</div><div class=\"attr-value\"> ... </div></div>\n",
       "<div class='numeric'>         [[0.000459 0.0004219 ...   0.5771   0.6324]<br/>          [0.000451 0.0004229 ...   0.5752   0.6311]<br/>          [0.0002479 0.0002325 ...   0.5809   0.6376]<br/>          [0.0003685 0.0003442 ...   0.5827   0.6388]] a.u.</div>\n",
       "<div class=\"scp-output section\"><div class=\"attr-name\">        shape</div><div>:</div><div class=\"attr-value\"> (y:4, x:2567)</div></div></details></div>\n",
       "<div class=\"scp-output section\"><details><summary>     Dimension `x`</summary>\n",
       "<div class=\"scp-output section\"><div class=\"attr-name\">         size</div><div>:</div><div class=\"attr-value\"> 2567</div></div>\n",
       "<div class=\"scp-output section\"><div class=\"attr-name\">        title</div><div>:</div><div class=\"attr-value\"> wavenumber</div></div>\n",
       "<div class=\"scp-output section\"><div class=\"attr-name\">  coordinates</div><div>:</div><div class=\"attr-value\"> <div class='numeric'>[    3998     3997 ...    700.7    699.4] cm⁻¹</div></div></div></details></div>\n",
       "<div class=\"scp-output section\"><details><summary>     Dimension `y`</summary>\n",
       "<div class=\"scp-output section\"><div class=\"attr-name\">         size</div><div>:</div><div class=\"attr-value\"> 4</div></div>\n",
       "<div class=\"scp-output section\"><div class=\"attr-name\">        title</div><div>:</div><div class=\"attr-value\"> acquisition timestamp (GMT)</div></div>\n",
       "<div class=\"scp-output section\"><div class=\"attr-name\">  coordinates</div><div>:</div><div class=\"attr-value\"> <div class='numeric'>[1.581e+09 1.581e+09 1.581e+09 1.581e+09] s</div></div></div>\n",
       "<div class=\"scp-output section\"><div class=\"attr-name\">       labels</div><div>:</div><div class=\"attr-value\"> ... </div></div>\n",
       "<div class='label'>         [[  2020-02-06 12:09:58.095000+00:00   2020-02-06 12:10:02.232000+00:00   2020-02-06 12:10:06.368000+00:00   2020-02-06 12:10:10.505000+00:00]<br/>          [  MCT D317 1mm² [8500 - 700 Cm-1]   MCT D317 1mm² [8500 - 700 Cm-1]   MCT D317 1mm² [8500 - 700 Cm-1]   MCT D317 1mm² [8500 - 700 Cm-1]]<br/>          [  /home/runner/.spectrochempy/testdata/irdata/OPUS/test.0000   /home/runner/.spectrochempy/testdata/irdata/OPUS/test.0001<br/>             /home/runner/.spectrochempy/testdata/irdata/OPUS/test.0002   /home/runner/.spectrochempy/testdata/irdata/OPUS/test.0003]]</div></details></div></details></div></div>\n",
       "<div class='scp-output section'><div class='scp-output'><details><summary>1: NDDataset: [float64] unitless (shape: (y:1, x:4096))[background]</summary><div class=\"scp-output section\"><details><summary>Summary</summary>\n",
       "<div class=\"scp-output section\"><div class=\"attr-name\">         name</div><div>:</div><div class=\"attr-value\"> background</div></div>\n",
       "<div class=\"scp-output section\"><div class=\"attr-name\">       author</div><div>:</div><div class=\"attr-value\"> runner@fv-az805-61</div></div>\n",
       "<div class=\"scp-output section\"><div class=\"attr-name\">      created</div><div>:</div><div class=\"attr-value\"> 2025-03-20 15:38:02+00:00</div></div>\n",
       "<div class=\"scp-output section\"><div class=\"attr-name\">  description</div><div>:</div><div class=\"attr-value\"> <div>Concatenation of 1  datasets:<br/>               ( background )</div></div></div>\n",
       "<div class=\"scp-output section\"><div class=\"attr-name\">      history</div><div>:</div><div class=\"attr-value\"> <div>2025-03-20 15:38:02+00:00> Created by concatenate<br/>               2025-03-20 15:38:02+00:00> Merged from several files</div></div></div></details></div>\n",
       "<div class=\"scp-output section\"><details><summary>          Data </summary>\n",
       "<div class=\"scp-output section\"><div class=\"attr-name\">        title</div><div>:</div><div class=\"attr-value\"> single-channel reference spectra</div></div>\n",
       "<div class=\"scp-output section\"><div class=\"attr-name\">       values</div><div>:</div><div class=\"attr-value\"> ... </div></div>\n",
       "<div class='numeric'>         [[ 0.01242  0.01243 ... 0.001023  0.01261]]</div>\n",
       "<div class=\"scp-output section\"><div class=\"attr-name\">        shape</div><div>:</div><div class=\"attr-value\"> (y:1, x:4096)</div></div></details></div>\n",
       "<div class=\"scp-output section\"><details><summary>     Dimension `x`</summary>\n",
       "<div class=\"scp-output section\"><div class=\"attr-name\">         size</div><div>:</div><div class=\"attr-value\"> 4096</div></div>\n",
       "<div class=\"scp-output section\"><div class=\"attr-name\">        title</div><div>:</div><div class=\"attr-value\"> wavenumber</div></div>\n",
       "<div class=\"scp-output section\"><div class=\"attr-name\">  coordinates</div><div>:</div><div class=\"attr-value\"> <div class='numeric'>[    5265     5263 ...    1.286        0] cm⁻¹</div></div></div></details></div>\n",
       "<div class=\"scp-output section\"><details><summary>     Dimension `y`</summary>\n",
       "<div class=\"scp-output section\"><div class=\"attr-name\">         size</div><div>:</div><div class=\"attr-value\"> 1</div></div>\n",
       "<div class=\"scp-output section\"><div class=\"attr-name\">        title</div><div>:</div><div class=\"attr-value\"> acquisition timestamp (GMT)</div></div>\n",
       "<div class=\"scp-output section\"><div class=\"attr-name\">  coordinates</div><div>:</div><div class=\"attr-value\"> <div class='numeric'>[1.581e+09] s</div></div></div>\n",
       "<div class=\"scp-output section\"><div class=\"attr-name\">       labels</div><div>:</div><div class=\"attr-value\"> ... </div></div>\n",
       "<div class='label'>         [[  2020-02-06 12:01:55.349000+00:00]<br/>          [  MCT D317 1mm² [8500 - 700 Cm-1]]<br/>          [  /home/runner/.spectrochempy/testdata/irdata/OPUS/background.0]]</div></details></div></details></div></div>\n",
       "</details></div>"
      ],
      "text/plain": [
       "[NDDataset: [float64] a.u. (shape: (y:4, x:2567)),\n",
       " NDDataset: [float64] unitless (shape: (y:1, x:4096))]"
      ]
     },
     "execution_count": 5,
     "metadata": {},
     "output_type": "execute_result"
    }
   ],
   "source": [
    "LZ = scp.read_opus(\"irdata/OPUS\")\n",
    "LZ"
   ]
  },
  {
   "cell_type": "markdown",
   "id": "7bd5dfda",
   "metadata": {
    "editable": true,
    "slideshow": {
     "slide_type": ""
    }
   },
   "source": [
    "As previously two datasets are returned due to the imcompatible types and shapes of the experiments.\n",
    "\n",
    "If one desire to load of files into separate datasets, then set the **merge** attribute to False."
   ]
  },
  {
   "cell_type": "code",
   "execution_count": 6,
   "id": "39740d9d",
   "metadata": {
    "editable": true,
    "execution": {
     "iopub.execute_input": "2025-03-20T15:38:02.888619Z",
     "iopub.status.busy": "2025-03-20T15:38:02.888163Z",
     "iopub.status.idle": "2025-03-20T15:38:02.942222Z",
     "shell.execute_reply": "2025-03-20T15:38:02.941666Z"
    },
    "slideshow": {
     "slide_type": ""
    }
   },
   "outputs": [
    {
     "data": {
      "text/html": [
       "<div class='scp-output'><details><summary>List (len=5, type=NDDataset)</summary><ul><div class='scp-output section'><div class='scp-output'><details><summary>0: NDDataset: [float64] a.u. (shape: (y:1, x:2567))[test]</summary><div class=\"scp-output section\"><details><summary>Summary</summary>\n",
       "<div class=\"scp-output section\"><div class=\"attr-name\">         name</div><div>:</div><div class=\"attr-value\"> test</div></div>\n",
       "<div class=\"scp-output section\"><div class=\"attr-name\">       author</div><div>:</div><div class=\"attr-value\"> runner@fv-az805-61</div></div>\n",
       "<div class=\"scp-output section\"><div class=\"attr-name\">      created</div><div>:</div><div class=\"attr-value\"> 2025-03-20 15:38:02+00:00</div></div>\n",
       "<div class=\"scp-output section\"><div class=\"attr-name\">  description</div><div>:</div><div class=\"attr-value\"> <div>Dataset from opus files.<br/>               Spectra type: Absorbance</div></div></div>\n",
       "<div class=\"scp-output section\"><div class=\"attr-name\">      history</div><div>:</div><div class=\"attr-value\"> <div>2025-03-20 15:38:02+00:00> 2025-03-20 15:38:02.902685+00:00: import from opus files</div></div></div></details></div>\n",
       "<div class=\"scp-output section\"><details><summary>          Data </summary>\n",
       "<div class=\"scp-output section\"><div class=\"attr-name\">        title</div><div>:</div><div class=\"attr-value\"> absorbance</div></div>\n",
       "<div class=\"scp-output section\"><div class=\"attr-name\">       values</div><div>:</div><div class=\"attr-value\"> ... </div></div>\n",
       "<div class='numeric'>         [[0.000459 0.0004219 ...   0.5771   0.6324]] a.u.</div>\n",
       "<div class=\"scp-output section\"><div class=\"attr-name\">        shape</div><div>:</div><div class=\"attr-value\"> (y:1, x:2567)</div></div></details></div>\n",
       "<div class=\"scp-output section\"><details><summary>     Dimension `x`</summary>\n",
       "<div class=\"scp-output section\"><div class=\"attr-name\">         size</div><div>:</div><div class=\"attr-value\"> 2567</div></div>\n",
       "<div class=\"scp-output section\"><div class=\"attr-name\">        title</div><div>:</div><div class=\"attr-value\"> wavenumber</div></div>\n",
       "<div class=\"scp-output section\"><div class=\"attr-name\">  coordinates</div><div>:</div><div class=\"attr-value\"> <div class='numeric'>[    3998     3997 ...    700.7    699.4] cm⁻¹</div></div></div></details></div>\n",
       "<div class=\"scp-output section\"><details><summary>     Dimension `y`</summary>\n",
       "<div class=\"scp-output section\"><div class=\"attr-name\">         size</div><div>:</div><div class=\"attr-value\"> 1</div></div>\n",
       "<div class=\"scp-output section\"><div class=\"attr-name\">        title</div><div>:</div><div class=\"attr-value\"> acquisition timestamp (GMT)</div></div>\n",
       "<div class=\"scp-output section\"><div class=\"attr-name\">  coordinates</div><div>:</div><div class=\"attr-value\"> <div class='numeric'>[1.581e+09] s</div></div></div>\n",
       "<div class=\"scp-output section\"><div class=\"attr-name\">       labels</div><div>:</div><div class=\"attr-value\"> ... </div></div>\n",
       "<div class='label'>         [[  2020-02-06 12:09:58.095000+00:00]<br/>          [  MCT D317 1mm² [8500 - 700 Cm-1]]<br/>          [  /home/runner/.spectrochempy/testdata/irdata/OPUS/test.0000]]</div></details></div></details></div></div>\n",
       "<div class='scp-output section'><div class='scp-output'><details><summary>1: NDDataset: [float64] a.u. (shape: (y:1, x:2567))[test]</summary><div class=\"scp-output section\"><details><summary>Summary</summary>\n",
       "<div class=\"scp-output section\"><div class=\"attr-name\">         name</div><div>:</div><div class=\"attr-value\"> test</div></div>\n",
       "<div class=\"scp-output section\"><div class=\"attr-name\">       author</div><div>:</div><div class=\"attr-value\"> runner@fv-az805-61</div></div>\n",
       "<div class=\"scp-output section\"><div class=\"attr-name\">      created</div><div>:</div><div class=\"attr-value\"> 2025-03-20 15:38:02+00:00</div></div>\n",
       "<div class=\"scp-output section\"><div class=\"attr-name\">  description</div><div>:</div><div class=\"attr-value\"> <div>Dataset from opus files.<br/>               Spectra type: Absorbance</div></div></div>\n",
       "<div class=\"scp-output section\"><div class=\"attr-name\">      history</div><div>:</div><div class=\"attr-value\"> <div>2025-03-20 15:38:02+00:00> 2025-03-20 15:38:02.910138+00:00: import from opus files</div></div></div></details></div>\n",
       "<div class=\"scp-output section\"><details><summary>          Data </summary>\n",
       "<div class=\"scp-output section\"><div class=\"attr-name\">        title</div><div>:</div><div class=\"attr-value\"> absorbance</div></div>\n",
       "<div class=\"scp-output section\"><div class=\"attr-name\">       values</div><div>:</div><div class=\"attr-value\"> ... </div></div>\n",
       "<div class='numeric'>         [[0.000451 0.0004229 ...   0.5752   0.6311]] a.u.</div>\n",
       "<div class=\"scp-output section\"><div class=\"attr-name\">        shape</div><div>:</div><div class=\"attr-value\"> (y:1, x:2567)</div></div></details></div>\n",
       "<div class=\"scp-output section\"><details><summary>     Dimension `x`</summary>\n",
       "<div class=\"scp-output section\"><div class=\"attr-name\">         size</div><div>:</div><div class=\"attr-value\"> 2567</div></div>\n",
       "<div class=\"scp-output section\"><div class=\"attr-name\">        title</div><div>:</div><div class=\"attr-value\"> wavenumber</div></div>\n",
       "<div class=\"scp-output section\"><div class=\"attr-name\">  coordinates</div><div>:</div><div class=\"attr-value\"> <div class='numeric'>[    3998     3997 ...    700.7    699.4] cm⁻¹</div></div></div></details></div>\n",
       "<div class=\"scp-output section\"><details><summary>     Dimension `y`</summary>\n",
       "<div class=\"scp-output section\"><div class=\"attr-name\">         size</div><div>:</div><div class=\"attr-value\"> 1</div></div>\n",
       "<div class=\"scp-output section\"><div class=\"attr-name\">        title</div><div>:</div><div class=\"attr-value\"> acquisition timestamp (GMT)</div></div>\n",
       "<div class=\"scp-output section\"><div class=\"attr-name\">  coordinates</div><div>:</div><div class=\"attr-value\"> <div class='numeric'>[1.581e+09] s</div></div></div>\n",
       "<div class=\"scp-output section\"><div class=\"attr-name\">       labels</div><div>:</div><div class=\"attr-value\"> ... </div></div>\n",
       "<div class='label'>         [[  2020-02-06 12:10:02.232000+00:00]<br/>          [  MCT D317 1mm² [8500 - 700 Cm-1]]<br/>          [  /home/runner/.spectrochempy/testdata/irdata/OPUS/test.0001]]</div></details></div></details></div></div>\n",
       "<div class='scp-output section'><div class='scp-output'><details><summary>2: NDDataset: [float64] a.u. (shape: (y:1, x:2567))[test]</summary><div class=\"scp-output section\"><details><summary>Summary</summary>\n",
       "<div class=\"scp-output section\"><div class=\"attr-name\">         name</div><div>:</div><div class=\"attr-value\"> test</div></div>\n",
       "<div class=\"scp-output section\"><div class=\"attr-name\">       author</div><div>:</div><div class=\"attr-value\"> runner@fv-az805-61</div></div>\n",
       "<div class=\"scp-output section\"><div class=\"attr-name\">      created</div><div>:</div><div class=\"attr-value\"> 2025-03-20 15:38:02+00:00</div></div>\n",
       "<div class=\"scp-output section\"><div class=\"attr-name\">  description</div><div>:</div><div class=\"attr-value\"> <div>Dataset from opus files.<br/>               Spectra type: Absorbance</div></div></div>\n",
       "<div class=\"scp-output section\"><div class=\"attr-name\">      history</div><div>:</div><div class=\"attr-value\"> <div>2025-03-20 15:38:02+00:00> 2025-03-20 15:38:02.917630+00:00: import from opus files</div></div></div></details></div>\n",
       "<div class=\"scp-output section\"><details><summary>          Data </summary>\n",
       "<div class=\"scp-output section\"><div class=\"attr-name\">        title</div><div>:</div><div class=\"attr-value\"> absorbance</div></div>\n",
       "<div class=\"scp-output section\"><div class=\"attr-name\">       values</div><div>:</div><div class=\"attr-value\"> ... </div></div>\n",
       "<div class='numeric'>         [[0.0002479 0.0002325 ...   0.5809   0.6376]] a.u.</div>\n",
       "<div class=\"scp-output section\"><div class=\"attr-name\">        shape</div><div>:</div><div class=\"attr-value\"> (y:1, x:2567)</div></div></details></div>\n",
       "<div class=\"scp-output section\"><details><summary>     Dimension `x`</summary>\n",
       "<div class=\"scp-output section\"><div class=\"attr-name\">         size</div><div>:</div><div class=\"attr-value\"> 2567</div></div>\n",
       "<div class=\"scp-output section\"><div class=\"attr-name\">        title</div><div>:</div><div class=\"attr-value\"> wavenumber</div></div>\n",
       "<div class=\"scp-output section\"><div class=\"attr-name\">  coordinates</div><div>:</div><div class=\"attr-value\"> <div class='numeric'>[    3998     3997 ...    700.7    699.4] cm⁻¹</div></div></div></details></div>\n",
       "<div class=\"scp-output section\"><details><summary>     Dimension `y`</summary>\n",
       "<div class=\"scp-output section\"><div class=\"attr-name\">         size</div><div>:</div><div class=\"attr-value\"> 1</div></div>\n",
       "<div class=\"scp-output section\"><div class=\"attr-name\">        title</div><div>:</div><div class=\"attr-value\"> acquisition timestamp (GMT)</div></div>\n",
       "<div class=\"scp-output section\"><div class=\"attr-name\">  coordinates</div><div>:</div><div class=\"attr-value\"> <div class='numeric'>[1.581e+09] s</div></div></div>\n",
       "<div class=\"scp-output section\"><div class=\"attr-name\">       labels</div><div>:</div><div class=\"attr-value\"> ... </div></div>\n",
       "<div class='label'>         [[  2020-02-06 12:10:06.368000+00:00]<br/>          [  MCT D317 1mm² [8500 - 700 Cm-1]]<br/>          [  /home/runner/.spectrochempy/testdata/irdata/OPUS/test.0002]]</div></details></div></details></div></div>\n",
       "<div class='scp-output section'><div class='scp-output'><details><summary>3: NDDataset: [float64] a.u. (shape: (y:1, x:2567))[test]</summary><div class=\"scp-output section\"><details><summary>Summary</summary>\n",
       "<div class=\"scp-output section\"><div class=\"attr-name\">         name</div><div>:</div><div class=\"attr-value\"> test</div></div>\n",
       "<div class=\"scp-output section\"><div class=\"attr-name\">       author</div><div>:</div><div class=\"attr-value\"> runner@fv-az805-61</div></div>\n",
       "<div class=\"scp-output section\"><div class=\"attr-name\">      created</div><div>:</div><div class=\"attr-value\"> 2025-03-20 15:38:02+00:00</div></div>\n",
       "<div class=\"scp-output section\"><div class=\"attr-name\">  description</div><div>:</div><div class=\"attr-value\"> <div>Dataset from opus files.<br/>               Spectra type: Absorbance</div></div></div>\n",
       "<div class=\"scp-output section\"><div class=\"attr-name\">      history</div><div>:</div><div class=\"attr-value\"> <div>2025-03-20 15:38:02+00:00> 2025-03-20 15:38:02.925133+00:00: import from opus files</div></div></div></details></div>\n",
       "<div class=\"scp-output section\"><details><summary>          Data </summary>\n",
       "<div class=\"scp-output section\"><div class=\"attr-name\">        title</div><div>:</div><div class=\"attr-value\"> absorbance</div></div>\n",
       "<div class=\"scp-output section\"><div class=\"attr-name\">       values</div><div>:</div><div class=\"attr-value\"> ... </div></div>\n",
       "<div class='numeric'>         [[0.0003685 0.0003442 ...   0.5827   0.6388]] a.u.</div>\n",
       "<div class=\"scp-output section\"><div class=\"attr-name\">        shape</div><div>:</div><div class=\"attr-value\"> (y:1, x:2567)</div></div></details></div>\n",
       "<div class=\"scp-output section\"><details><summary>     Dimension `x`</summary>\n",
       "<div class=\"scp-output section\"><div class=\"attr-name\">         size</div><div>:</div><div class=\"attr-value\"> 2567</div></div>\n",
       "<div class=\"scp-output section\"><div class=\"attr-name\">        title</div><div>:</div><div class=\"attr-value\"> wavenumber</div></div>\n",
       "<div class=\"scp-output section\"><div class=\"attr-name\">  coordinates</div><div>:</div><div class=\"attr-value\"> <div class='numeric'>[    3998     3997 ...    700.7    699.4] cm⁻¹</div></div></div></details></div>\n",
       "<div class=\"scp-output section\"><details><summary>     Dimension `y`</summary>\n",
       "<div class=\"scp-output section\"><div class=\"attr-name\">         size</div><div>:</div><div class=\"attr-value\"> 1</div></div>\n",
       "<div class=\"scp-output section\"><div class=\"attr-name\">        title</div><div>:</div><div class=\"attr-value\"> acquisition timestamp (GMT)</div></div>\n",
       "<div class=\"scp-output section\"><div class=\"attr-name\">  coordinates</div><div>:</div><div class=\"attr-value\"> <div class='numeric'>[1.581e+09] s</div></div></div>\n",
       "<div class=\"scp-output section\"><div class=\"attr-name\">       labels</div><div>:</div><div class=\"attr-value\"> ... </div></div>\n",
       "<div class='label'>         [[  2020-02-06 12:10:10.505000+00:00]<br/>          [  MCT D317 1mm² [8500 - 700 Cm-1]]<br/>          [  /home/runner/.spectrochempy/testdata/irdata/OPUS/test.0003]]</div></details></div></details></div></div>\n",
       "<div class='scp-output section'><div class='scp-output'><details><summary>4: NDDataset: [float64] unitless (shape: (y:1, x:4096))[background]</summary><div class=\"scp-output section\"><details><summary>Summary</summary>\n",
       "<div class=\"scp-output section\"><div class=\"attr-name\">         name</div><div>:</div><div class=\"attr-value\"> background</div></div>\n",
       "<div class=\"scp-output section\"><div class=\"attr-name\">       author</div><div>:</div><div class=\"attr-value\"> runner@fv-az805-61</div></div>\n",
       "<div class=\"scp-output section\"><div class=\"attr-name\">      created</div><div>:</div><div class=\"attr-value\"> 2025-03-20 15:38:02+00:00</div></div>\n",
       "<div class=\"scp-output section\"><div class=\"attr-name\">  description</div><div>:</div><div class=\"attr-value\"> <div>Dataset from opus files.<br/>               Spectra type: Single-channel reference spectra</div></div></div>\n",
       "<div class=\"scp-output section\"><div class=\"attr-name\">      history</div><div>:</div><div class=\"attr-value\"> <div>2025-03-20 15:38:02+00:00> 2025-03-20 15:38:02.896184+00:00: import from opus files</div></div></div></details></div>\n",
       "<div class=\"scp-output section\"><details><summary>          Data </summary>\n",
       "<div class=\"scp-output section\"><div class=\"attr-name\">        title</div><div>:</div><div class=\"attr-value\"> single-channel reference spectra</div></div>\n",
       "<div class=\"scp-output section\"><div class=\"attr-name\">       values</div><div>:</div><div class=\"attr-value\"> ... </div></div>\n",
       "<div class='numeric'>         [[ 0.01242  0.01243 ... 0.001023  0.01261]]</div>\n",
       "<div class=\"scp-output section\"><div class=\"attr-name\">        shape</div><div>:</div><div class=\"attr-value\"> (y:1, x:4096)</div></div></details></div>\n",
       "<div class=\"scp-output section\"><details><summary>     Dimension `x`</summary>\n",
       "<div class=\"scp-output section\"><div class=\"attr-name\">         size</div><div>:</div><div class=\"attr-value\"> 4096</div></div>\n",
       "<div class=\"scp-output section\"><div class=\"attr-name\">        title</div><div>:</div><div class=\"attr-value\"> wavenumber</div></div>\n",
       "<div class=\"scp-output section\"><div class=\"attr-name\">  coordinates</div><div>:</div><div class=\"attr-value\"> <div class='numeric'>[    5265     5263 ...    1.286        0] cm⁻¹</div></div></div></details></div>\n",
       "<div class=\"scp-output section\"><details><summary>     Dimension `y`</summary>\n",
       "<div class=\"scp-output section\"><div class=\"attr-name\">         size</div><div>:</div><div class=\"attr-value\"> 1</div></div>\n",
       "<div class=\"scp-output section\"><div class=\"attr-name\">        title</div><div>:</div><div class=\"attr-value\"> acquisition timestamp (GMT)</div></div>\n",
       "<div class=\"scp-output section\"><div class=\"attr-name\">  coordinates</div><div>:</div><div class=\"attr-value\"> <div class='numeric'>[1.581e+09] s</div></div></div>\n",
       "<div class=\"scp-output section\"><div class=\"attr-name\">       labels</div><div>:</div><div class=\"attr-value\"> ... </div></div>\n",
       "<div class='label'>         [[  2020-02-06 12:01:55.349000+00:00]<br/>          [  MCT D317 1mm² [8500 - 700 Cm-1]]<br/>          [  /home/runner/.spectrochempy/testdata/irdata/OPUS/background.0]]</div></details></div></details></div></div>\n",
       "</details></div>"
      ],
      "text/plain": [
       "[NDDataset: [float64] a.u. (shape: (y:1, x:2567)),\n",
       " NDDataset: [float64] a.u. (shape: (y:1, x:2567)),\n",
       " NDDataset: [float64] a.u. (shape: (y:1, x:2567)),\n",
       " NDDataset: [float64] a.u. (shape: (y:1, x:2567)),\n",
       " NDDataset: [float64] unitless (shape: (y:1, x:4096))]"
      ]
     },
     "execution_count": 6,
     "metadata": {},
     "output_type": "execute_result"
    }
   ],
   "source": [
    "LZ1 = scp.read_opus(\"irdata/OPUS\", merge=False)\n",
    "LZ1"
   ]
  },
  {
   "cell_type": "markdown",
   "id": "4a701ccf",
   "metadata": {},
   "source": [
    "### Loading given type of OPUS spectra"
   ]
  },
  {
   "cell_type": "markdown",
   "id": "0b31dcad",
   "metadata": {},
   "source": [
    "By default absortion spectra (**AB**) are load, if present in the file.\n",
    "\n",
    "Opus file however can contain several types of spectra and they can be retrieved eventually using the correct type in the call to `read_opus`:\n",
    "\n",
    "Types possibly availables and readables by `read_opus` are listed here:\n",
    "\n",
    "- `AB`: Absorbance (default if present in the file)\n",
    "- `TR`: Transmittance\n",
    "- `KM`: Kubelka-Munk\n",
    "- `RAM`: Raman\n",
    "- `EMI`: Emission\n",
    "- `RFL`: Reflectance\n",
    "- `LRF`: log(Reflectance)\n",
    "- `ATR`: ATR\n",
    "- `PAS`: Photoacoustic\n",
    "- `RF`: Single-channel reference spectra\n",
    "- `SM`: Single-channel sample spectra\n",
    "- `IGRF`: Reference interferogram\n",
    "- `IGSM`: Sample interferogram\n",
    "- `PHRF`: Reference phase\n",
    "- `PHSM`: Sample phase"
   ]
  },
  {
   "cell_type": "markdown",
   "id": "0e1bf1d5",
   "metadata": {},
   "source": [
    "It is possible to know which are the other types availables in the original file:"
   ]
  },
  {
   "cell_type": "code",
   "execution_count": 7,
   "id": "5c339188",
   "metadata": {
    "editable": true,
    "execution": {
     "iopub.execute_input": "2025-03-20T15:38:02.944157Z",
     "iopub.status.busy": "2025-03-20T15:38:02.943973Z",
     "iopub.status.idle": "2025-03-20T15:38:02.948244Z",
     "shell.execute_reply": "2025-03-20T15:38:02.947597Z"
    },
    "slideshow": {
     "slide_type": ""
    }
   },
   "outputs": [
    {
     "data": {
      "text/plain": [
       "['RF', 'IGRF', 'AB', 'SM', 'PHSM', 'IGSM']"
      ]
     },
     "execution_count": 7,
     "metadata": {},
     "output_type": "execute_result"
    }
   ],
   "source": [
    "Z.meta.other_data_types"
   ]
  },
  {
   "cell_type": "markdown",
   "id": "3a00f306",
   "metadata": {
    "editable": true,
    "slideshow": {
     "slide_type": ""
    }
   },
   "source": [
    "Thus if one wants to load the single-channel sample spectra, the read function syntax would be:"
   ]
  },
  {
   "cell_type": "code",
   "execution_count": 8,
   "id": "e7d87f8f",
   "metadata": {
    "execution": {
     "iopub.execute_input": "2025-03-20T15:38:02.950372Z",
     "iopub.status.busy": "2025-03-20T15:38:02.949987Z",
     "iopub.status.idle": "2025-03-20T15:38:02.964805Z",
     "shell.execute_reply": "2025-03-20T15:38:02.964144Z"
    }
   },
   "outputs": [
    {
     "data": {
      "text/html": [
       "<div class='scp-output'><details><summary>NDDataset: [float64] unitless (shape: (y:1, x:2567))[test]</summary><div class=\"scp-output section\"><details><summary>Summary</summary>\n",
       "<div class=\"scp-output section\"><div class=\"attr-name\">         name</div><div>:</div><div class=\"attr-value\"> test</div></div>\n",
       "<div class=\"scp-output section\"><div class=\"attr-name\">       author</div><div>:</div><div class=\"attr-value\"> runner@fv-az805-61</div></div>\n",
       "<div class=\"scp-output section\"><div class=\"attr-name\">      created</div><div>:</div><div class=\"attr-value\"> 2025-03-20 15:38:02+00:00</div></div>\n",
       "<div class=\"scp-output section\"><div class=\"attr-name\">  description</div><div>:</div><div class=\"attr-value\"> <div>Dataset from opus files.<br/>               Spectra type: Single-channel sample spectra</div></div></div>\n",
       "<div class=\"scp-output section\"><div class=\"attr-name\">      history</div><div>:</div><div class=\"attr-value\"> <div>2025-03-20 15:38:02+00:00> 2025-03-20 15:38:02.956447+00:00: import from opus files</div></div></div></details></div>\n",
       "<div class=\"scp-output section\"><details><summary>          Data </summary>\n",
       "<div class=\"scp-output section\"><div class=\"attr-name\">        title</div><div>:</div><div class=\"attr-value\"> single-channel sample spectra</div></div>\n",
       "<div class=\"scp-output section\"><div class=\"attr-name\">       values</div><div>:</div><div class=\"attr-value\"> ... </div></div>\n",
       "<div class='numeric'>         [[ 0.02253  0.02255 ... 0.0008783 0.0007268]]</div>\n",
       "<div class=\"scp-output section\"><div class=\"attr-name\">        shape</div><div>:</div><div class=\"attr-value\"> (y:1, x:2567)</div></div></details></div>\n",
       "<div class=\"scp-output section\"><details><summary>     Dimension `x`</summary>\n",
       "<div class=\"scp-output section\"><div class=\"attr-name\">         size</div><div>:</div><div class=\"attr-value\"> 2567</div></div>\n",
       "<div class=\"scp-output section\"><div class=\"attr-name\">        title</div><div>:</div><div class=\"attr-value\"> wavenumber</div></div>\n",
       "<div class=\"scp-output section\"><div class=\"attr-name\">  coordinates</div><div>:</div><div class=\"attr-value\"> <div class='numeric'>[    3998     3997 ...    700.7    699.4] cm⁻¹</div></div></div></details></div>\n",
       "<div class=\"scp-output section\"><details><summary>     Dimension `y`</summary>\n",
       "<div class=\"scp-output section\"><div class=\"attr-name\">         size</div><div>:</div><div class=\"attr-value\"> 1</div></div>\n",
       "<div class=\"scp-output section\"><div class=\"attr-name\">        title</div><div>:</div><div class=\"attr-value\"> acquisition timestamp (GMT)</div></div>\n",
       "<div class=\"scp-output section\"><div class=\"attr-name\">  coordinates</div><div>:</div><div class=\"attr-value\"> <div class='numeric'>[1.581e+09] s</div></div></div>\n",
       "<div class=\"scp-output section\"><div class=\"attr-name\">       labels</div><div>:</div><div class=\"attr-value\"> ... </div></div>\n",
       "<div class='label'>         [[  2020-02-06 12:10:06.368000+00:00]<br/>          [  MCT D317 1mm² [8500 - 700 Cm-1]]<br/>          [  /home/runner/.spectrochempy/testdata/irdata/OPUS/test.0002]]</div></details></div></details></div>"
      ],
      "text/plain": [
       "NDDataset: [float64] unitless (shape: (y:1, x:2567))"
      ]
     },
     "execution_count": 8,
     "metadata": {},
     "output_type": "execute_result"
    }
   ],
   "source": [
    "ZSM = scp.read_opus(\"irdata/OPUS/test.0002\", type=\"SM\")\n",
    "ZSM"
   ]
  },
  {
   "cell_type": "markdown",
   "id": "3c94fcb2",
   "metadata": {
    "editable": true,
    "slideshow": {
     "slide_type": ""
    }
   },
   "source": [
    "### Reading OPUS file Metadata\n",
    "\n",
    "As just seen above, more informations can be obtained on the experiment and spectrometer parameters using the dataset metadata (**meta** attribute).\n",
    "\n",
    "For instance, to get a display of all metadata:\n"
   ]
  },
  {
   "cell_type": "code",
   "execution_count": 9,
   "id": "f47a114d",
   "metadata": {
    "editable": true,
    "execution": {
     "iopub.execute_input": "2025-03-20T15:38:02.967030Z",
     "iopub.status.busy": "2025-03-20T15:38:02.966623Z",
     "iopub.status.idle": "2025-03-20T15:38:02.974444Z",
     "shell.execute_reply": "2025-03-20T15:38:02.973903Z"
    },
    "slideshow": {
     "slide_type": ""
    }
   },
   "outputs": [
    {
     "data": {
      "text/html": [
       "<div class='scp-output'><details open><summary>OPUS Parameters</summary><div class='scp-output section'><div class='meta-name'>other_data_types</div><div>:</div><div class='meta-value'>['RF', 'IGRF', 'AB', 'SM', 'PHSM', 'IGSM']</div></div><div class='scp-output section'><details><summary>Sample/Result Parameters [params]</summary><div class='meta-value'><div class='scp-output section'><details><summary>Optical Parameters [optical]</summary><div class='meta-value'><div class='scp-output section'><div class='meta-name'>Accessory [acc]</div><div>:</div><div class='meta-value'>Compartiment Echantillon #1112355F</div></div><div class='scp-output section'><div class='meta-name'>Aperture Setting [apt]</div><div>:</div><div class='meta-value'>1.5 mm</div></div><div class='scp-output section'><div class='meta-name'>Beamsplitter [bms]</div><div>:</div><div class='meta-value'>KBr</div></div><div class='scp-output section'><div class='meta-name'>Measurement Channel [chn]</div><div>:</div><div class='meta-value'>Sample Compartment</div></div><div class='scp-output section'><div class='meta-name'>Detector [dtc]</div><div>:</div><div class='meta-value'>LN-MCT Photovoltaic 1mm 8H Fast [Internal Pos.2]</div></div><div class='scp-output section'><div class='meta-name'>High Pass Filter [hpf]</div><div>:</div><div class='meta-value'>0</div></div><div class='scp-output section'><div class='meta-name'>Low Pass Filter [lpf]</div><div>:</div><div class='meta-value'>40.0</div></div><div class='scp-output section'><div class='meta-name'>Optical Filter Setting [opf]</div><div>:</div><div class='meta-value'>Open</div></div><div class='scp-output section'><div class='meta-name'>Preamplifier Gain [pgn]</div><div>:</div><div class='meta-value'>3</div></div><div class='scp-output section'><div class='meta-name'>Extended Ready Check [rdx]</div><div>:</div><div class='meta-value'>0</div></div><div class='scp-output section'><div class='meta-name'>Source [src]</div><div>:</div><div class='meta-value'>MIR</div></div><div class='scp-output section'><div class='meta-name'>Scanner Velocity [vel]</div><div>:</div><div class='meta-value'>120.</div></div><div class='scp-output section'><div class='meta-name'>External Sync [son]</div><div>:</div><div class='meta-value'>Off</div></div></div></details></div><div class='scp-output section'><details><summary>Fourier Transform Parameters [fourier_transform]</summary><div class='meta-value'><div class='scp-output section'><div class='meta-name'>Apodization Function [apf]</div><div>:</div><div class='meta-value'>B3</div></div><div class='scp-output section'><div class='meta-name'>End Frequency Limit for File [hfq]</div><div>:</div><div class='meta-value'>700.0</div></div><div class='scp-output section'><div class='meta-name'>Start Frequency Limit for File [lfq]</div><div>:</div><div class='meta-value'>4000.0</div></div><div class='scp-output section'><div class='meta-name'>Nonlinearity Correction [nli]</div><div>:</div><div class='meta-value'>1</div></div><div class='scp-output section'><div class='meta-name'>Phase Resolution [phr]</div><div>:</div><div class='meta-value'>32.0</div></div><div class='scp-output section'><div class='meta-name'>Phase Correction Mode [phz]</div><div>:</div><div class='meta-value'>ML</div></div><div class='scp-output section'><div class='meta-name'>Stored Phase Mode [spz]</div><div>:</div><div class='meta-value'>NO</div></div><div class='scp-output section'><div class='meta-name'>Zero Filling Factor [zff]</div><div>:</div><div class='meta-value'>2</div></div></div></details></div><div class='scp-output section'><details><summary>Acquisition Parameters [acquisition]</summary><div class='meta-value'><div class='scp-output section'><div class='meta-name'>Additional Data Treatment [adt]</div><div>:</div><div class='meta-value'>0</div></div><div class='scp-output section'><div class='meta-name'>Acquisition Mode [aqm]</div><div>:</div><div class='meta-value'>SN</div></div><div class='scp-output section'><div class='meta-name'>Correlation Test Mode [cor]</div><div>:</div><div class='meta-value'>0</div></div><div class='scp-output section'><div class='meta-name'>Delay Before Measurement [del]</div><div>:</div><div class='meta-value'>0</div></div><div class='scp-output section'><div class='meta-name'>Stabilization Delay [dly]</div><div>:</div><div class='meta-value'>0</div></div><div class='scp-output section'><div class='meta-name'>Wanted High Freq Limit [hfw]</div><div>:</div><div class='meta-value'>4000.0</div></div><div class='scp-output section'><div class='meta-name'>Wanted Low Freq Limit [lfw]</div><div>:</div><div class='meta-value'>400.0</div></div><div class='scp-output section'><div class='meta-name'>Number of Sample Scans [nss]</div><div>:</div><div class='meta-value'>32</div></div><div class='scp-output section'><div class='meta-name'>Result Spectrum Type [plf]</div><div>:</div><div class='meta-value'>AB</div></div><div class='scp-output section'><div class='meta-name'>Resolution (cm-1) [res]</div><div>:</div><div class='meta-value'>4.0</div></div><div class='scp-output section'><div class='meta-name'>Sample Scans or Time [sot]</div><div>:</div><div class='meta-value'>0</div></div><div class='scp-output section'><div class='meta-name'>Command Line for Additional Data Treatment [tcl]</div><div>:</div><div class='meta-value'></div></div><div class='scp-output section'><div class='meta-name'>To Do List [tdl]</div><div>:</div><div class='meta-value'>16777271</div></div><div class='scp-output section'><div class='meta-name'>Sample Signal Gain [sgn]</div><div>:</div><div class='meta-value'>-1</div></div></div></details></div><div class='scp-output section'><details><summary>Sample Origin Parameters [sample_origin]</summary><div class='meta-value'><div class='scp-output section'><div class='meta-name'>Building [bld]</div><div>:</div><div class='meta-value'></div></div><div class='scp-output section'><div class='meta-name'>Operator Name [cnm]</div><div>:</div><div class='meta-value'>Administrator</div></div><div class='scp-output section'><div class='meta-name'>Company [cpy]</div><div>:</div><div class='meta-value'></div></div><div class='scp-output section'><div class='meta-name'>Department [dpm]</div><div>:</div><div class='meta-value'></div></div><div class='scp-output section'><div class='meta-name'>Experiment [exp]</div><div>:</div><div class='meta-value'>transmissionfederico.xpm</div></div><div class='scp-output section'><div class='meta-name'>Location [lct]</div><div>:</div><div class='meta-value'></div></div><div class='scp-output section'><div class='meta-name'>Sample Form [sfm]</div><div>:</div><div class='meta-value'>Energie=9700</div></div><div class='scp-output section'><div class='meta-name'>Sample Name [snm]</div><div>:</div><div class='meta-value'>MCT D317 1mm² [8500 - 700 Cm-1]</div></div><div class='scp-output section'><div class='meta-name'>Experiment Path [xpp]</div><div>:</div><div class='meta-value'>C:\\Documents and Settings\\fts\\Bureau\\LCSAGH FTIR</div></div><div class='scp-output section'><div class='meta-name'>Instrument Status [ist]</div><div>:</div><div class='meta-value'>OK</div></div><div class='scp-output section'><div class='meta-name'>Character Encoding Code Page [cpg]</div><div>:</div><div class='meta-value'>1252</div></div></div></details></div><div class='scp-output section'><details><summary>Instrument Status Parameters [instrument_status]</summary><div class='meta-value'><div class='scp-output section'><div class='meta-name'>High Folding Limit [hfl]</div><div>:</div><div class='meta-value'>5265.987417333333</div></div><div class='scp-output section'><div class='meta-name'>Low Folding Limit [lfl]</div><div>:</div><div class='meta-value'>0.0</div></div><div class='scp-output section'><div class='meta-name'>Laser Wavenumber [lwn]</div><div>:</div><div class='meta-value'>15797.962252</div></div><div class='scp-output section'><div class='meta-name'>Absolute Peak Pos in Laser*2 [abp]</div><div>:</div><div class='meta-value'>52329</div></div><div class='scp-output section'><div class='meta-name'>Sample Spacing Divisor [ssp]</div><div>:</div><div class='meta-value'>3</div></div><div class='scp-output section'><div class='meta-name'>Actual Signal Gain [asg]</div><div>:</div><div class='meta-value'>4</div></div><div class='scp-output section'><div class='meta-name'>Actual Reference Gain [arg]</div><div>:</div><div class='meta-value'>4</div></div><div class='scp-output section'><div class='meta-name'>Number of Sample Scans [ass]</div><div>:</div><div class='meta-value'>32</div></div><div class='scp-output section'><div class='meta-name'>Number of Good Forward Scans [gfw]</div><div>:</div><div class='meta-value'>32</div></div><div class='scp-output section'><div class='meta-name'>Number of Good Backward Scans [gbw]</div><div>:</div><div class='meta-value'>0</div></div><div class='scp-output section'><div class='meta-name'>Number of Bad Forward Scans [bfw]</div><div>:</div><div class='meta-value'>0</div></div><div class='scp-output section'><div class='meta-name'>Number of Bad Backward Scans [bbw]</div><div>:</div><div class='meta-value'>0</div></div><div class='scp-output section'><div class='meta-name'>Peak Amplitude [pka]</div><div>:</div><div class='meta-value'>-5013</div></div><div class='scp-output section'><div class='meta-name'>Peak Location [pkl]</div><div>:</div><div class='meta-value'>562</div></div><div class='scp-output section'><div class='meta-name'>Backward Peak Amplitude [pra]</div><div>:</div><div class='meta-value'>1</div></div><div class='scp-output section'><div class='meta-name'>Backward Peak Location [prl]</div><div>:</div><div class='meta-value'>-1</div></div><div class='scp-output section'><div class='meta-name'>Peak Amplitude Channel 2 [p2a]</div><div>:</div><div class='meta-value'>1</div></div><div class='scp-output section'><div class='meta-name'>Peak Location Channel 2 [p2l]</div><div>:</div><div class='meta-value'>1</div></div><div class='scp-output section'><div class='meta-name'>Backward Peak Amplitude Channel 2 [p2r]</div><div>:</div><div class='meta-value'>1</div></div><div class='scp-output section'><div class='meta-name'>Backward Peak Location Channel 2 [p2k]</div><div>:</div><div class='meta-value'>1</div></div><div class='scp-output section'><div class='meta-name'>Data Acquisition Status [daq]</div><div>:</div><div class='meta-value'>0</div></div><div class='scp-output section'><div class='meta-name'>Actual Signal Gain Channel 2 [ag2]</div><div>:</div><div class='meta-value'>1</div></div><div class='scp-output section'><div class='meta-name'>Relative Humidity Interferometer [hum]</div><div>:</div><div class='meta-value'>3</div></div><div class='scp-output section'><div class='meta-name'>Sample Spacing Multiplier [ssm]</div><div>:</div><div class='meta-value'>1</div></div><div class='scp-output section'><div class='meta-name'>Running Sample Number [rsn]</div><div>:</div><div class='meta-value'>181951</div></div><div class='scp-output section'><div class='meta-name'>Correlation Rejection Reason [crr]</div><div>:</div><div class='meta-value'>0</div></div><div class='scp-output section'><div class='meta-name'>Start Time (sec) [srt]</div><div>:</div><div class='meta-value'>1580994606.3689988</div></div><div class='scp-output section'><div class='meta-name'>Duration (sec) [dur]</div><div>:</div><div class='meta-value'>4.053997039794922</div></div><div class='scp-output section'><div class='meta-name'>Scanner Temperature [tsc]</div><div>:</div><div class='meta-value'>25.8</div></div><div class='scp-output section'><div class='meta-name'>Max Velocity Deviation [mvd]</div><div>:</div><div class='meta-value'>1.678957223892212</div></div><div class='scp-output section'><div class='meta-name'>Pressure Interferometer (hPa) [prs]</div><div>:</div><div class='meta-value'>1029.99997</div></div><div class='scp-output section'><div class='meta-name'>Analog Signal 1 [an1]</div><div>:</div><div class='meta-value'>0.0</div></div><div class='scp-output section'><div class='meta-name'>Analog Signal 2 [an2]</div><div>:</div><div class='meta-value'>0.0</div></div><div class='scp-output section'><div class='meta-name'>Firmware Version [vsn]</div><div>:</div><div class='meta-value'>1.546 Oct 27 2011</div></div><div class='scp-output section'><div class='meta-name'>Instrument Serial Number [srn]</div><div>:</div><div class='meta-value'>0173</div></div><div class='scp-output section'><div class='meta-name'>NL Alpha [nla]</div><div>:</div><div class='meta-value'>1.0032635274973252</div></div><div class='scp-output section'><div class='meta-name'>NL Beta [nlb]</div><div>:</div><div class='meta-value'>-0.008074354619042486</div></div><div class='scp-output section'><div class='meta-name'>Unknown INC [inc]</div><div>:</div><div class='meta-value'>680.0</div></div><div class='scp-output section'><div class='meta-name'>Unknown INE [ine]</div><div>:</div><div class='meta-value'>0.8999999761581421</div></div><div class='scp-output section'><div class='meta-name'>Instrument Type [ins]</div><div>:</div><div class='meta-value'>VERTEX 80V</div></div><div class='scp-output section'><div class='meta-name'>Focal Length [foc]</div><div>:</div><div class='meta-value'>100.0</div></div><div class='scp-output section'><div class='meta-name'>Ready Check [rdy]</div><div>:</div><div class='meta-value'>1</div></div></div></details></div></div></details></div><div class='scp-output section'><details><summary>Reference Parameters [rf_params]</summary><div class='meta-value'><div class='scp-output section'><details><summary>Reference Instrument Status Parameters [instrument_status]</summary><div class='meta-value'><div class='scp-output section'><div class='meta-name'>High Folding Limit [hfl]</div><div>:</div><div class='meta-value'>5265.987417333333</div></div><div class='scp-output section'><div class='meta-name'>Low Folding Limit [lfl]</div><div>:</div><div class='meta-value'>0.0</div></div><div class='scp-output section'><div class='meta-name'>Laser Wavenumber [lwn]</div><div>:</div><div class='meta-value'>15797.962252</div></div><div class='scp-output section'><div class='meta-name'>Absolute Peak Pos in Laser*2 [abp]</div><div>:</div><div class='meta-value'>52329</div></div><div class='scp-output section'><div class='meta-name'>Sample Spacing Divisor [ssp]</div><div>:</div><div class='meta-value'>3</div></div><div class='scp-output section'><div class='meta-name'>Actual Reference Gain [arg]</div><div>:</div><div class='meta-value'>4</div></div><div class='scp-output section'><div class='meta-name'>Actual Signal Gain [asg]</div><div>:</div><div class='meta-value'>4</div></div><div class='scp-output section'><div class='meta-name'>Number of Sample Scans [ass]</div><div>:</div><div class='meta-value'>32</div></div><div class='scp-output section'><div class='meta-name'>Number of Good Forward Scans [gfw]</div><div>:</div><div class='meta-value'>32</div></div><div class='scp-output section'><div class='meta-name'>Number of Good Backward Scans [gbw]</div><div>:</div><div class='meta-value'>0</div></div><div class='scp-output section'><div class='meta-name'>Number of Bad Forward Scans [bfw]</div><div>:</div><div class='meta-value'>0</div></div><div class='scp-output section'><div class='meta-name'>Number of Bad Backward Scans [bbw]</div><div>:</div><div class='meta-value'>0</div></div><div class='scp-output section'><div class='meta-name'>Peak Amplitude [pka]</div><div>:</div><div class='meta-value'>-5274</div></div><div class='scp-output section'><div class='meta-name'>Peak Location [pkl]</div><div>:</div><div class='meta-value'>562</div></div><div class='scp-output section'><div class='meta-name'>Backward Peak Amplitude [pra]</div><div>:</div><div class='meta-value'>1</div></div><div class='scp-output section'><div class='meta-name'>Backward Peak Location [prl]</div><div>:</div><div class='meta-value'>-1</div></div><div class='scp-output section'><div class='meta-name'>Peak Amplitude Channel 2 [p2a]</div><div>:</div><div class='meta-value'>1</div></div><div class='scp-output section'><div class='meta-name'>Peak Location Channel 2 [p2l]</div><div>:</div><div class='meta-value'>1</div></div><div class='scp-output section'><div class='meta-name'>Backward Peak Amplitude Channel 2 [p2r]</div><div>:</div><div class='meta-value'>1</div></div><div class='scp-output section'><div class='meta-name'>Backward Peak Location Channel 2 [p2k]</div><div>:</div><div class='meta-value'>1</div></div><div class='scp-output section'><div class='meta-name'>Data Acquisition Status [daq]</div><div>:</div><div class='meta-value'>0</div></div><div class='scp-output section'><div class='meta-name'>Actual Signal Gain Channel 2 [ag2]</div><div>:</div><div class='meta-value'>1</div></div><div class='scp-output section'><div class='meta-name'>Relative Humidity Interferometer [hum]</div><div>:</div><div class='meta-value'>3</div></div><div class='scp-output section'><div class='meta-name'>Sample Spacing Multiplier [ssm]</div><div>:</div><div class='meta-value'>1</div></div><div class='scp-output section'><div class='meta-name'>Running Sample Number [rsn]</div><div>:</div><div class='meta-value'>1666915</div></div><div class='scp-output section'><div class='meta-name'>Correlation Rejection Reason [crr]</div><div>:</div><div class='meta-value'>0</div></div><div class='scp-output section'><div class='meta-name'>Start Time (sec) [srt]</div><div>:</div><div class='meta-value'>1580994115.349999</div></div><div class='scp-output section'><div class='meta-name'>Duration (sec) [dur]</div><div>:</div><div class='meta-value'>4.053997039794922</div></div><div class='scp-output section'><div class='meta-name'>Scanner Temperature [tsc]</div><div>:</div><div class='meta-value'>25.8</div></div><div class='scp-output section'><div class='meta-name'>Max Velocity Deviation [mvd]</div><div>:</div><div class='meta-value'>1.509278655052185</div></div><div class='scp-output section'><div class='meta-name'>Pressure Interferometer (hPa) [prs]</div><div>:</div><div class='meta-value'>1029.99997</div></div><div class='scp-output section'><div class='meta-name'>Analog Signal 1 [an1]</div><div>:</div><div class='meta-value'>0.1067311915111817</div></div><div class='scp-output section'><div class='meta-name'>Analog Signal 2 [an2]</div><div>:</div><div class='meta-value'>0.24102481595995506</div></div><div class='scp-output section'><div class='meta-name'>Firmware Version [vsn]</div><div>:</div><div class='meta-value'>1.546 Oct 27 2011</div></div><div class='scp-output section'><div class='meta-name'>Instrument Serial Number [srn]</div><div>:</div><div class='meta-value'>0173</div></div><div class='scp-output section'><div class='meta-name'>NL Alpha [nla]</div><div>:</div><div class='meta-value'>1.003937884834645</div></div><div class='scp-output section'><div class='meta-name'>NL Beta [nlb]</div><div>:</div><div class='meta-value'>-0.009290070393253367</div></div><div class='scp-output section'><div class='meta-name'>Unknown INC [inc]</div><div>:</div><div class='meta-value'>680.0</div></div><div class='scp-output section'><div class='meta-name'>Unknown INE [ine]</div><div>:</div><div class='meta-value'>0.8999999761581421</div></div><div class='scp-output section'><div class='meta-name'>Instrument Type [ins]</div><div>:</div><div class='meta-value'>VERTEX 80V</div></div><div class='scp-output section'><div class='meta-name'>Focal Length [foc]</div><div>:</div><div class='meta-value'>100.0</div></div><div class='scp-output section'><div class='meta-name'>Ready Check [rdy]</div><div>:</div><div class='meta-value'>1</div></div><div class='scp-output section'><div class='meta-name'>Number of Reference Scans [ars]</div><div>:</div><div class='meta-value'>32</div></div></div></details></div><div class='scp-output section'><details><summary>Reference Optical Parameters [optical]</summary><div class='meta-value'><div class='scp-output section'><div class='meta-name'>Accessory [acc]</div><div>:</div><div class='meta-value'>Compartiment Echantillon #1112355F</div></div><div class='scp-output section'><div class='meta-name'>Aperture Setting [apt]</div><div>:</div><div class='meta-value'>1.5 mm</div></div><div class='scp-output section'><div class='meta-name'>Beamsplitter [bms]</div><div>:</div><div class='meta-value'>KBr</div></div><div class='scp-output section'><div class='meta-name'>Detector [dtc]</div><div>:</div><div class='meta-value'>LN-MCT Photovoltaic 1mm 8H Fast [Internal Pos.2]</div></div><div class='scp-output section'><div class='meta-name'>High Pass Filter [hpf]</div><div>:</div><div class='meta-value'>0</div></div><div class='scp-output section'><div class='meta-name'>Low Pass Filter [lpf]</div><div>:</div><div class='meta-value'>40.0</div></div><div class='scp-output section'><div class='meta-name'>Optical Filter Setting [opf]</div><div>:</div><div class='meta-value'>Open</div></div><div class='scp-output section'><div class='meta-name'>Reference Preamplifier Gain [pgr]</div><div>:</div><div class='meta-value'>3</div></div><div class='scp-output section'><div class='meta-name'>Reference Measurement Channel [rch]</div><div>:</div><div class='meta-value'>Sample Compartment</div></div><div class='scp-output section'><div class='meta-name'>Extended Ready Check [rdx]</div><div>:</div><div class='meta-value'>0</div></div><div class='scp-output section'><div class='meta-name'>Source [src]</div><div>:</div><div class='meta-value'>MIR</div></div><div class='scp-output section'><div class='meta-name'>Scanner Velocity [vel]</div><div>:</div><div class='meta-value'>120.</div></div><div class='scp-output section'><div class='meta-name'>External Sync [son]</div><div>:</div><div class='meta-value'>Off</div></div></div></details></div><div class='scp-output section'><details><summary>Reference Acquisition Parameters [acquisition]</summary><div class='meta-value'><div class='scp-output section'><div class='meta-name'>Additional Data Treatment [adt]</div><div>:</div><div class='meta-value'>0</div></div><div class='scp-output section'><div class='meta-name'>Acquisition Mode [aqm]</div><div>:</div><div class='meta-value'>SN</div></div><div class='scp-output section'><div class='meta-name'>Correlation Test Mode [cor]</div><div>:</div><div class='meta-value'>0</div></div><div class='scp-output section'><div class='meta-name'>Delay Before Measurement [del]</div><div>:</div><div class='meta-value'>0</div></div><div class='scp-output section'><div class='meta-name'>Stabilization Delay [dly]</div><div>:</div><div class='meta-value'>0</div></div><div class='scp-output section'><div class='meta-name'>Wanted High Freq Limit [hfw]</div><div>:</div><div class='meta-value'>4000.0</div></div><div class='scp-output section'><div class='meta-name'>Wanted Low Freq Limit [lfw]</div><div>:</div><div class='meta-value'>400.0</div></div><div class='scp-output section'><div class='meta-name'>Number of Background Scans [nsr]</div><div>:</div><div class='meta-value'>32</div></div><div class='scp-output section'><div class='meta-name'>Result Spectrum Type [plf]</div><div>:</div><div class='meta-value'>AB</div></div><div class='scp-output section'><div class='meta-name'>Resolution (cm-1) [res]</div><div>:</div><div class='meta-value'>4.0</div></div><div class='scp-output section'><div class='meta-name'>Reference Signal Gain [rgn]</div><div>:</div><div class='meta-value'>-1</div></div><div class='scp-output section'><div class='meta-name'>Scans or Time (Reference) [str]</div><div>:</div><div class='meta-value'>0</div></div><div class='scp-output section'><div class='meta-name'>Command Line for Additional Data Treatment [tcl]</div><div>:</div><div class='meta-value'></div></div><div class='scp-output section'><div class='meta-name'>To Do List [tdl]</div><div>:</div><div class='meta-value'>16777271</div></div></div></details></div><div class='scp-output section'><details><summary>Reference Fourier Transform Parameters [fourier_transform]</summary><div class='meta-value'><div class='scp-output section'><div class='meta-name'>Apodization Function [apf]</div><div>:</div><div class='meta-value'>B3</div></div><div class='scp-output section'><div class='meta-name'>End Frequency Limit for File [hfq]</div><div>:</div><div class='meta-value'>700.0</div></div><div class='scp-output section'><div class='meta-name'>Start Frequency Limit for File [lfq]</div><div>:</div><div class='meta-value'>4000.0</div></div><div class='scp-output section'><div class='meta-name'>Nonlinearity Correction [nli]</div><div>:</div><div class='meta-value'>1</div></div><div class='scp-output section'><div class='meta-name'>Phase Resolution [phr]</div><div>:</div><div class='meta-value'>32.0</div></div><div class='scp-output section'><div class='meta-name'>Phase Correction Mode [phz]</div><div>:</div><div class='meta-value'>ML</div></div><div class='scp-output section'><div class='meta-name'>Stored Phase Mode [spz]</div><div>:</div><div class='meta-value'>NO</div></div><div class='scp-output section'><div class='meta-name'>Zero Filling Factor [zff]</div><div>:</div><div class='meta-value'>2</div></div></div></details></div></div></details></div></details></div>"
      ],
      "text/plain": [
       "<spectrochempy.utils.meta.Meta at 0x7f95b4274d90>"
      ]
     },
     "execution_count": 9,
     "metadata": {},
     "output_type": "execute_result"
    }
   ],
   "source": [
    "Z.meta"
   ]
  },
  {
   "cell_type": "markdown",
   "id": "d3cd012d",
   "metadata": {
    "editable": true,
    "slideshow": {
     "slide_type": ""
    }
   },
   "source": [
    "To display only a sub-group of metadata, you can use :"
   ]
  },
  {
   "cell_type": "code",
   "execution_count": 10,
   "id": "dea5b099",
   "metadata": {
    "editable": true,
    "execution": {
     "iopub.execute_input": "2025-03-20T15:38:02.976262Z",
     "iopub.status.busy": "2025-03-20T15:38:02.976067Z",
     "iopub.status.idle": "2025-03-20T15:38:02.980157Z",
     "shell.execute_reply": "2025-03-20T15:38:02.979670Z"
    },
    "slideshow": {
     "slide_type": ""
    }
   },
   "outputs": [
    {
     "data": {
      "text/html": [
       "<div class='scp-output'><details open><summary>Fourier Transform Parameters</summary><div class='scp-output section'><div class='meta-name'>Apodization Function [apf]</div><div>:</div><div class='meta-value'>B3</div></div><div class='scp-output section'><div class='meta-name'>End Frequency Limit for File [hfq]</div><div>:</div><div class='meta-value'>700.0</div></div><div class='scp-output section'><div class='meta-name'>Start Frequency Limit for File [lfq]</div><div>:</div><div class='meta-value'>4000.0</div></div><div class='scp-output section'><div class='meta-name'>Nonlinearity Correction [nli]</div><div>:</div><div class='meta-value'>1</div></div><div class='scp-output section'><div class='meta-name'>Phase Resolution [phr]</div><div>:</div><div class='meta-value'>32.0</div></div><div class='scp-output section'><div class='meta-name'>Phase Correction Mode [phz]</div><div>:</div><div class='meta-value'>ML</div></div><div class='scp-output section'><div class='meta-name'>Stored Phase Mode [spz]</div><div>:</div><div class='meta-value'>NO</div></div><div class='scp-output section'><div class='meta-name'>Zero Filling Factor [zff]</div><div>:</div><div class='meta-value'>2</div></div></details></div>"
      ],
      "text/plain": [
       "<spectrochempy.utils.meta.Meta at 0x7f95b4275cf0>"
      ]
     },
     "execution_count": 10,
     "metadata": {},
     "output_type": "execute_result"
    }
   ],
   "source": [
    "Z.meta.params.fourier_transform"
   ]
  },
  {
   "cell_type": "markdown",
   "id": "8eda5006",
   "metadata": {
    "editable": true,
    "slideshow": {
     "slide_type": ""
    }
   },
   "source": [
    "or a single parameter:"
   ]
  },
  {
   "cell_type": "code",
   "execution_count": 11,
   "id": "4d32ef1e",
   "metadata": {
    "editable": true,
    "execution": {
     "iopub.execute_input": "2025-03-20T15:38:02.981947Z",
     "iopub.status.busy": "2025-03-20T15:38:02.981757Z",
     "iopub.status.idle": "2025-03-20T15:38:02.986011Z",
     "shell.execute_reply": "2025-03-20T15:38:02.985368Z"
    },
    "slideshow": {
     "slide_type": ""
    }
   },
   "outputs": [
    {
     "data": {
      "text/html": [
       "<div class='scp-output'><details open><summary>Beamsplitter</summary><div class='scp-output section'><div class='meta-name'>value</div><div>:</div><div class='meta-value'>KBr</div></div></details></div>"
      ],
      "text/plain": [
       "<spectrochempy.utils.meta.Meta at 0x7f95b4276230>"
      ]
     },
     "execution_count": 11,
     "metadata": {},
     "output_type": "execute_result"
    }
   ],
   "source": [
    "Z.meta.params.optical.bms"
   ]
  },
  {
   "cell_type": "code",
   "execution_count": 12,
   "id": "bae6192f",
   "metadata": {
    "execution": {
     "iopub.execute_input": "2025-03-20T15:38:02.987985Z",
     "iopub.status.busy": "2025-03-20T15:38:02.987804Z",
     "iopub.status.idle": "2025-03-20T15:38:02.991960Z",
     "shell.execute_reply": "2025-03-20T15:38:02.991408Z"
    }
   },
   "outputs": [
    {
     "data": {
      "text/plain": [
       "'KBr'"
      ]
     },
     "execution_count": 12,
     "metadata": {},
     "output_type": "execute_result"
    }
   ],
   "source": [
    "Z.meta.params.optical.bms.value"
   ]
  },
  {
   "cell_type": "markdown",
   "id": "da27ac7f",
   "metadata": {
    "editable": true,
    "slideshow": {
     "slide_type": ""
    }
   },
   "source": [
    "### Acting on a parameter"
   ]
  },
  {
   "cell_type": "markdown",
   "id": "005e94f0",
   "metadata": {
    "editable": true,
    "slideshow": {
     "slide_type": ""
    }
   },
   "source": [
    "Metadata modification, addition, deletion are forbidden by default (`readonly=True`).\n",
    "\n",
    "For instance, if one want to add a new parameters, the following is not permitted and then raise an error:"
   ]
  },
  {
   "cell_type": "code",
   "execution_count": 13,
   "id": "8ea1d834",
   "metadata": {
    "editable": true,
    "execution": {
     "iopub.execute_input": "2025-03-20T15:38:02.993743Z",
     "iopub.status.busy": "2025-03-20T15:38:02.993544Z",
     "iopub.status.idle": "2025-03-20T15:38:02.997490Z",
     "shell.execute_reply": "2025-03-20T15:38:02.996970Z"
    },
    "slideshow": {
     "slide_type": ""
    }
   },
   "outputs": [
    {
     "name": "stderr",
     "output_type": "stream",
     "text": [
      " ERROR | SpectroChemPyError: meta data dictionary is read only!\n"
     ]
    }
   ],
   "source": [
    "try:\n",
    "    Z.meta.xxx = \"forbidden\"\n",
    "except ValueError:\n",
    "    scp.error_(\"meta data dictionary is read only!\")"
   ]
  },
  {
   "cell_type": "markdown",
   "id": "4490b074",
   "metadata": {
    "editable": true,
    "slideshow": {
     "slide_type": ""
    }
   },
   "source": [
    "To add a new value (or to modifify/delete an existing value), the `readonly` flag must be unset before the operation:"
   ]
  },
  {
   "cell_type": "code",
   "execution_count": 14,
   "id": "41748a6d",
   "metadata": {
    "editable": true,
    "execution": {
     "iopub.execute_input": "2025-03-20T15:38:02.999528Z",
     "iopub.status.busy": "2025-03-20T15:38:02.999162Z",
     "iopub.status.idle": "2025-03-20T15:38:03.007192Z",
     "shell.execute_reply": "2025-03-20T15:38:03.006659Z"
    },
    "slideshow": {
     "slide_type": ""
    }
   },
   "outputs": [
    {
     "data": {
      "text/html": [
       "<div class='scp-output'><details open><summary>OPUS Parameters</summary><div class='scp-output section'><div class='meta-name'>other_data_types</div><div>:</div><div class='meta-value'>['RF', 'IGRF', 'AB', 'SM', 'PHSM', 'IGSM']</div></div><div class='scp-output section'><div class='meta-name'>xxx</div><div>:</div><div class='meta-value'>permitted</div></div><div class='scp-output section'><details><summary>Sample/Result Parameters [params]</summary><div class='meta-value'><div class='scp-output section'><details><summary>Optical Parameters [optical]</summary><div class='meta-value'><div class='scp-output section'><div class='meta-name'>Accessory [acc]</div><div>:</div><div class='meta-value'>Compartiment Echantillon #1112355F</div></div><div class='scp-output section'><div class='meta-name'>Aperture Setting [apt]</div><div>:</div><div class='meta-value'>1.5 mm</div></div><div class='scp-output section'><div class='meta-name'>Beamsplitter [bms]</div><div>:</div><div class='meta-value'>KBr</div></div><div class='scp-output section'><div class='meta-name'>Measurement Channel [chn]</div><div>:</div><div class='meta-value'>Sample Compartment</div></div><div class='scp-output section'><div class='meta-name'>Detector [dtc]</div><div>:</div><div class='meta-value'>LN-MCT Photovoltaic 1mm 8H Fast [Internal Pos.2]</div></div><div class='scp-output section'><div class='meta-name'>High Pass Filter [hpf]</div><div>:</div><div class='meta-value'>0</div></div><div class='scp-output section'><div class='meta-name'>Low Pass Filter [lpf]</div><div>:</div><div class='meta-value'>40.0</div></div><div class='scp-output section'><div class='meta-name'>Optical Filter Setting [opf]</div><div>:</div><div class='meta-value'>Open</div></div><div class='scp-output section'><div class='meta-name'>Preamplifier Gain [pgn]</div><div>:</div><div class='meta-value'>3</div></div><div class='scp-output section'><div class='meta-name'>Extended Ready Check [rdx]</div><div>:</div><div class='meta-value'>0</div></div><div class='scp-output section'><div class='meta-name'>Source [src]</div><div>:</div><div class='meta-value'>MIR</div></div><div class='scp-output section'><div class='meta-name'>Scanner Velocity [vel]</div><div>:</div><div class='meta-value'>120.</div></div><div class='scp-output section'><div class='meta-name'>External Sync [son]</div><div>:</div><div class='meta-value'>Off</div></div></div></details></div><div class='scp-output section'><details><summary>Fourier Transform Parameters [fourier_transform]</summary><div class='meta-value'><div class='scp-output section'><div class='meta-name'>Apodization Function [apf]</div><div>:</div><div class='meta-value'>B3</div></div><div class='scp-output section'><div class='meta-name'>End Frequency Limit for File [hfq]</div><div>:</div><div class='meta-value'>700.0</div></div><div class='scp-output section'><div class='meta-name'>Start Frequency Limit for File [lfq]</div><div>:</div><div class='meta-value'>4000.0</div></div><div class='scp-output section'><div class='meta-name'>Nonlinearity Correction [nli]</div><div>:</div><div class='meta-value'>1</div></div><div class='scp-output section'><div class='meta-name'>Phase Resolution [phr]</div><div>:</div><div class='meta-value'>32.0</div></div><div class='scp-output section'><div class='meta-name'>Phase Correction Mode [phz]</div><div>:</div><div class='meta-value'>ML</div></div><div class='scp-output section'><div class='meta-name'>Stored Phase Mode [spz]</div><div>:</div><div class='meta-value'>NO</div></div><div class='scp-output section'><div class='meta-name'>Zero Filling Factor [zff]</div><div>:</div><div class='meta-value'>2</div></div></div></details></div><div class='scp-output section'><details><summary>Acquisition Parameters [acquisition]</summary><div class='meta-value'><div class='scp-output section'><div class='meta-name'>Additional Data Treatment [adt]</div><div>:</div><div class='meta-value'>0</div></div><div class='scp-output section'><div class='meta-name'>Acquisition Mode [aqm]</div><div>:</div><div class='meta-value'>SN</div></div><div class='scp-output section'><div class='meta-name'>Correlation Test Mode [cor]</div><div>:</div><div class='meta-value'>0</div></div><div class='scp-output section'><div class='meta-name'>Delay Before Measurement [del]</div><div>:</div><div class='meta-value'>0</div></div><div class='scp-output section'><div class='meta-name'>Stabilization Delay [dly]</div><div>:</div><div class='meta-value'>0</div></div><div class='scp-output section'><div class='meta-name'>Wanted High Freq Limit [hfw]</div><div>:</div><div class='meta-value'>4000.0</div></div><div class='scp-output section'><div class='meta-name'>Wanted Low Freq Limit [lfw]</div><div>:</div><div class='meta-value'>400.0</div></div><div class='scp-output section'><div class='meta-name'>Number of Sample Scans [nss]</div><div>:</div><div class='meta-value'>32</div></div><div class='scp-output section'><div class='meta-name'>Result Spectrum Type [plf]</div><div>:</div><div class='meta-value'>AB</div></div><div class='scp-output section'><div class='meta-name'>Resolution (cm-1) [res]</div><div>:</div><div class='meta-value'>4.0</div></div><div class='scp-output section'><div class='meta-name'>Sample Scans or Time [sot]</div><div>:</div><div class='meta-value'>0</div></div><div class='scp-output section'><div class='meta-name'>Command Line for Additional Data Treatment [tcl]</div><div>:</div><div class='meta-value'></div></div><div class='scp-output section'><div class='meta-name'>To Do List [tdl]</div><div>:</div><div class='meta-value'>16777271</div></div><div class='scp-output section'><div class='meta-name'>Sample Signal Gain [sgn]</div><div>:</div><div class='meta-value'>-1</div></div></div></details></div><div class='scp-output section'><details><summary>Sample Origin Parameters [sample_origin]</summary><div class='meta-value'><div class='scp-output section'><div class='meta-name'>Building [bld]</div><div>:</div><div class='meta-value'></div></div><div class='scp-output section'><div class='meta-name'>Operator Name [cnm]</div><div>:</div><div class='meta-value'>Administrator</div></div><div class='scp-output section'><div class='meta-name'>Company [cpy]</div><div>:</div><div class='meta-value'></div></div><div class='scp-output section'><div class='meta-name'>Department [dpm]</div><div>:</div><div class='meta-value'></div></div><div class='scp-output section'><div class='meta-name'>Experiment [exp]</div><div>:</div><div class='meta-value'>transmissionfederico.xpm</div></div><div class='scp-output section'><div class='meta-name'>Location [lct]</div><div>:</div><div class='meta-value'></div></div><div class='scp-output section'><div class='meta-name'>Sample Form [sfm]</div><div>:</div><div class='meta-value'>Energie=9700</div></div><div class='scp-output section'><div class='meta-name'>Sample Name [snm]</div><div>:</div><div class='meta-value'>MCT D317 1mm² [8500 - 700 Cm-1]</div></div><div class='scp-output section'><div class='meta-name'>Experiment Path [xpp]</div><div>:</div><div class='meta-value'>C:\\Documents and Settings\\fts\\Bureau\\LCSAGH FTIR</div></div><div class='scp-output section'><div class='meta-name'>Instrument Status [ist]</div><div>:</div><div class='meta-value'>OK</div></div><div class='scp-output section'><div class='meta-name'>Character Encoding Code Page [cpg]</div><div>:</div><div class='meta-value'>1252</div></div></div></details></div><div class='scp-output section'><details><summary>Instrument Status Parameters [instrument_status]</summary><div class='meta-value'><div class='scp-output section'><div class='meta-name'>High Folding Limit [hfl]</div><div>:</div><div class='meta-value'>5265.987417333333</div></div><div class='scp-output section'><div class='meta-name'>Low Folding Limit [lfl]</div><div>:</div><div class='meta-value'>0.0</div></div><div class='scp-output section'><div class='meta-name'>Laser Wavenumber [lwn]</div><div>:</div><div class='meta-value'>15797.962252</div></div><div class='scp-output section'><div class='meta-name'>Absolute Peak Pos in Laser*2 [abp]</div><div>:</div><div class='meta-value'>52329</div></div><div class='scp-output section'><div class='meta-name'>Sample Spacing Divisor [ssp]</div><div>:</div><div class='meta-value'>3</div></div><div class='scp-output section'><div class='meta-name'>Actual Signal Gain [asg]</div><div>:</div><div class='meta-value'>4</div></div><div class='scp-output section'><div class='meta-name'>Actual Reference Gain [arg]</div><div>:</div><div class='meta-value'>4</div></div><div class='scp-output section'><div class='meta-name'>Number of Sample Scans [ass]</div><div>:</div><div class='meta-value'>32</div></div><div class='scp-output section'><div class='meta-name'>Number of Good Forward Scans [gfw]</div><div>:</div><div class='meta-value'>32</div></div><div class='scp-output section'><div class='meta-name'>Number of Good Backward Scans [gbw]</div><div>:</div><div class='meta-value'>0</div></div><div class='scp-output section'><div class='meta-name'>Number of Bad Forward Scans [bfw]</div><div>:</div><div class='meta-value'>0</div></div><div class='scp-output section'><div class='meta-name'>Number of Bad Backward Scans [bbw]</div><div>:</div><div class='meta-value'>0</div></div><div class='scp-output section'><div class='meta-name'>Peak Amplitude [pka]</div><div>:</div><div class='meta-value'>-5013</div></div><div class='scp-output section'><div class='meta-name'>Peak Location [pkl]</div><div>:</div><div class='meta-value'>562</div></div><div class='scp-output section'><div class='meta-name'>Backward Peak Amplitude [pra]</div><div>:</div><div class='meta-value'>1</div></div><div class='scp-output section'><div class='meta-name'>Backward Peak Location [prl]</div><div>:</div><div class='meta-value'>-1</div></div><div class='scp-output section'><div class='meta-name'>Peak Amplitude Channel 2 [p2a]</div><div>:</div><div class='meta-value'>1</div></div><div class='scp-output section'><div class='meta-name'>Peak Location Channel 2 [p2l]</div><div>:</div><div class='meta-value'>1</div></div><div class='scp-output section'><div class='meta-name'>Backward Peak Amplitude Channel 2 [p2r]</div><div>:</div><div class='meta-value'>1</div></div><div class='scp-output section'><div class='meta-name'>Backward Peak Location Channel 2 [p2k]</div><div>:</div><div class='meta-value'>1</div></div><div class='scp-output section'><div class='meta-name'>Data Acquisition Status [daq]</div><div>:</div><div class='meta-value'>0</div></div><div class='scp-output section'><div class='meta-name'>Actual Signal Gain Channel 2 [ag2]</div><div>:</div><div class='meta-value'>1</div></div><div class='scp-output section'><div class='meta-name'>Relative Humidity Interferometer [hum]</div><div>:</div><div class='meta-value'>3</div></div><div class='scp-output section'><div class='meta-name'>Sample Spacing Multiplier [ssm]</div><div>:</div><div class='meta-value'>1</div></div><div class='scp-output section'><div class='meta-name'>Running Sample Number [rsn]</div><div>:</div><div class='meta-value'>181951</div></div><div class='scp-output section'><div class='meta-name'>Correlation Rejection Reason [crr]</div><div>:</div><div class='meta-value'>0</div></div><div class='scp-output section'><div class='meta-name'>Start Time (sec) [srt]</div><div>:</div><div class='meta-value'>1580994606.3689988</div></div><div class='scp-output section'><div class='meta-name'>Duration (sec) [dur]</div><div>:</div><div class='meta-value'>4.053997039794922</div></div><div class='scp-output section'><div class='meta-name'>Scanner Temperature [tsc]</div><div>:</div><div class='meta-value'>25.8</div></div><div class='scp-output section'><div class='meta-name'>Max Velocity Deviation [mvd]</div><div>:</div><div class='meta-value'>1.678957223892212</div></div><div class='scp-output section'><div class='meta-name'>Pressure Interferometer (hPa) [prs]</div><div>:</div><div class='meta-value'>1029.99997</div></div><div class='scp-output section'><div class='meta-name'>Analog Signal 1 [an1]</div><div>:</div><div class='meta-value'>0.0</div></div><div class='scp-output section'><div class='meta-name'>Analog Signal 2 [an2]</div><div>:</div><div class='meta-value'>0.0</div></div><div class='scp-output section'><div class='meta-name'>Firmware Version [vsn]</div><div>:</div><div class='meta-value'>1.546 Oct 27 2011</div></div><div class='scp-output section'><div class='meta-name'>Instrument Serial Number [srn]</div><div>:</div><div class='meta-value'>0173</div></div><div class='scp-output section'><div class='meta-name'>NL Alpha [nla]</div><div>:</div><div class='meta-value'>1.0032635274973252</div></div><div class='scp-output section'><div class='meta-name'>NL Beta [nlb]</div><div>:</div><div class='meta-value'>-0.008074354619042486</div></div><div class='scp-output section'><div class='meta-name'>Unknown INC [inc]</div><div>:</div><div class='meta-value'>680.0</div></div><div class='scp-output section'><div class='meta-name'>Unknown INE [ine]</div><div>:</div><div class='meta-value'>0.8999999761581421</div></div><div class='scp-output section'><div class='meta-name'>Instrument Type [ins]</div><div>:</div><div class='meta-value'>VERTEX 80V</div></div><div class='scp-output section'><div class='meta-name'>Focal Length [foc]</div><div>:</div><div class='meta-value'>100.0</div></div><div class='scp-output section'><div class='meta-name'>Ready Check [rdy]</div><div>:</div><div class='meta-value'>1</div></div></div></details></div></div></details></div><div class='scp-output section'><details><summary>Reference Parameters [rf_params]</summary><div class='meta-value'><div class='scp-output section'><details><summary>Reference Instrument Status Parameters [instrument_status]</summary><div class='meta-value'><div class='scp-output section'><div class='meta-name'>High Folding Limit [hfl]</div><div>:</div><div class='meta-value'>5265.987417333333</div></div><div class='scp-output section'><div class='meta-name'>Low Folding Limit [lfl]</div><div>:</div><div class='meta-value'>0.0</div></div><div class='scp-output section'><div class='meta-name'>Laser Wavenumber [lwn]</div><div>:</div><div class='meta-value'>15797.962252</div></div><div class='scp-output section'><div class='meta-name'>Absolute Peak Pos in Laser*2 [abp]</div><div>:</div><div class='meta-value'>52329</div></div><div class='scp-output section'><div class='meta-name'>Sample Spacing Divisor [ssp]</div><div>:</div><div class='meta-value'>3</div></div><div class='scp-output section'><div class='meta-name'>Actual Reference Gain [arg]</div><div>:</div><div class='meta-value'>4</div></div><div class='scp-output section'><div class='meta-name'>Actual Signal Gain [asg]</div><div>:</div><div class='meta-value'>4</div></div><div class='scp-output section'><div class='meta-name'>Number of Sample Scans [ass]</div><div>:</div><div class='meta-value'>32</div></div><div class='scp-output section'><div class='meta-name'>Number of Good Forward Scans [gfw]</div><div>:</div><div class='meta-value'>32</div></div><div class='scp-output section'><div class='meta-name'>Number of Good Backward Scans [gbw]</div><div>:</div><div class='meta-value'>0</div></div><div class='scp-output section'><div class='meta-name'>Number of Bad Forward Scans [bfw]</div><div>:</div><div class='meta-value'>0</div></div><div class='scp-output section'><div class='meta-name'>Number of Bad Backward Scans [bbw]</div><div>:</div><div class='meta-value'>0</div></div><div class='scp-output section'><div class='meta-name'>Peak Amplitude [pka]</div><div>:</div><div class='meta-value'>-5274</div></div><div class='scp-output section'><div class='meta-name'>Peak Location [pkl]</div><div>:</div><div class='meta-value'>562</div></div><div class='scp-output section'><div class='meta-name'>Backward Peak Amplitude [pra]</div><div>:</div><div class='meta-value'>1</div></div><div class='scp-output section'><div class='meta-name'>Backward Peak Location [prl]</div><div>:</div><div class='meta-value'>-1</div></div><div class='scp-output section'><div class='meta-name'>Peak Amplitude Channel 2 [p2a]</div><div>:</div><div class='meta-value'>1</div></div><div class='scp-output section'><div class='meta-name'>Peak Location Channel 2 [p2l]</div><div>:</div><div class='meta-value'>1</div></div><div class='scp-output section'><div class='meta-name'>Backward Peak Amplitude Channel 2 [p2r]</div><div>:</div><div class='meta-value'>1</div></div><div class='scp-output section'><div class='meta-name'>Backward Peak Location Channel 2 [p2k]</div><div>:</div><div class='meta-value'>1</div></div><div class='scp-output section'><div class='meta-name'>Data Acquisition Status [daq]</div><div>:</div><div class='meta-value'>0</div></div><div class='scp-output section'><div class='meta-name'>Actual Signal Gain Channel 2 [ag2]</div><div>:</div><div class='meta-value'>1</div></div><div class='scp-output section'><div class='meta-name'>Relative Humidity Interferometer [hum]</div><div>:</div><div class='meta-value'>3</div></div><div class='scp-output section'><div class='meta-name'>Sample Spacing Multiplier [ssm]</div><div>:</div><div class='meta-value'>1</div></div><div class='scp-output section'><div class='meta-name'>Running Sample Number [rsn]</div><div>:</div><div class='meta-value'>1666915</div></div><div class='scp-output section'><div class='meta-name'>Correlation Rejection Reason [crr]</div><div>:</div><div class='meta-value'>0</div></div><div class='scp-output section'><div class='meta-name'>Start Time (sec) [srt]</div><div>:</div><div class='meta-value'>1580994115.349999</div></div><div class='scp-output section'><div class='meta-name'>Duration (sec) [dur]</div><div>:</div><div class='meta-value'>4.053997039794922</div></div><div class='scp-output section'><div class='meta-name'>Scanner Temperature [tsc]</div><div>:</div><div class='meta-value'>25.8</div></div><div class='scp-output section'><div class='meta-name'>Max Velocity Deviation [mvd]</div><div>:</div><div class='meta-value'>1.509278655052185</div></div><div class='scp-output section'><div class='meta-name'>Pressure Interferometer (hPa) [prs]</div><div>:</div><div class='meta-value'>1029.99997</div></div><div class='scp-output section'><div class='meta-name'>Analog Signal 1 [an1]</div><div>:</div><div class='meta-value'>0.1067311915111817</div></div><div class='scp-output section'><div class='meta-name'>Analog Signal 2 [an2]</div><div>:</div><div class='meta-value'>0.24102481595995506</div></div><div class='scp-output section'><div class='meta-name'>Firmware Version [vsn]</div><div>:</div><div class='meta-value'>1.546 Oct 27 2011</div></div><div class='scp-output section'><div class='meta-name'>Instrument Serial Number [srn]</div><div>:</div><div class='meta-value'>0173</div></div><div class='scp-output section'><div class='meta-name'>NL Alpha [nla]</div><div>:</div><div class='meta-value'>1.003937884834645</div></div><div class='scp-output section'><div class='meta-name'>NL Beta [nlb]</div><div>:</div><div class='meta-value'>-0.009290070393253367</div></div><div class='scp-output section'><div class='meta-name'>Unknown INC [inc]</div><div>:</div><div class='meta-value'>680.0</div></div><div class='scp-output section'><div class='meta-name'>Unknown INE [ine]</div><div>:</div><div class='meta-value'>0.8999999761581421</div></div><div class='scp-output section'><div class='meta-name'>Instrument Type [ins]</div><div>:</div><div class='meta-value'>VERTEX 80V</div></div><div class='scp-output section'><div class='meta-name'>Focal Length [foc]</div><div>:</div><div class='meta-value'>100.0</div></div><div class='scp-output section'><div class='meta-name'>Ready Check [rdy]</div><div>:</div><div class='meta-value'>1</div></div><div class='scp-output section'><div class='meta-name'>Number of Reference Scans [ars]</div><div>:</div><div class='meta-value'>32</div></div></div></details></div><div class='scp-output section'><details><summary>Reference Optical Parameters [optical]</summary><div class='meta-value'><div class='scp-output section'><div class='meta-name'>Accessory [acc]</div><div>:</div><div class='meta-value'>Compartiment Echantillon #1112355F</div></div><div class='scp-output section'><div class='meta-name'>Aperture Setting [apt]</div><div>:</div><div class='meta-value'>1.5 mm</div></div><div class='scp-output section'><div class='meta-name'>Beamsplitter [bms]</div><div>:</div><div class='meta-value'>KBr</div></div><div class='scp-output section'><div class='meta-name'>Detector [dtc]</div><div>:</div><div class='meta-value'>LN-MCT Photovoltaic 1mm 8H Fast [Internal Pos.2]</div></div><div class='scp-output section'><div class='meta-name'>High Pass Filter [hpf]</div><div>:</div><div class='meta-value'>0</div></div><div class='scp-output section'><div class='meta-name'>Low Pass Filter [lpf]</div><div>:</div><div class='meta-value'>40.0</div></div><div class='scp-output section'><div class='meta-name'>Optical Filter Setting [opf]</div><div>:</div><div class='meta-value'>Open</div></div><div class='scp-output section'><div class='meta-name'>Reference Preamplifier Gain [pgr]</div><div>:</div><div class='meta-value'>3</div></div><div class='scp-output section'><div class='meta-name'>Reference Measurement Channel [rch]</div><div>:</div><div class='meta-value'>Sample Compartment</div></div><div class='scp-output section'><div class='meta-name'>Extended Ready Check [rdx]</div><div>:</div><div class='meta-value'>0</div></div><div class='scp-output section'><div class='meta-name'>Source [src]</div><div>:</div><div class='meta-value'>MIR</div></div><div class='scp-output section'><div class='meta-name'>Scanner Velocity [vel]</div><div>:</div><div class='meta-value'>120.</div></div><div class='scp-output section'><div class='meta-name'>External Sync [son]</div><div>:</div><div class='meta-value'>Off</div></div></div></details></div><div class='scp-output section'><details><summary>Reference Acquisition Parameters [acquisition]</summary><div class='meta-value'><div class='scp-output section'><div class='meta-name'>Additional Data Treatment [adt]</div><div>:</div><div class='meta-value'>0</div></div><div class='scp-output section'><div class='meta-name'>Acquisition Mode [aqm]</div><div>:</div><div class='meta-value'>SN</div></div><div class='scp-output section'><div class='meta-name'>Correlation Test Mode [cor]</div><div>:</div><div class='meta-value'>0</div></div><div class='scp-output section'><div class='meta-name'>Delay Before Measurement [del]</div><div>:</div><div class='meta-value'>0</div></div><div class='scp-output section'><div class='meta-name'>Stabilization Delay [dly]</div><div>:</div><div class='meta-value'>0</div></div><div class='scp-output section'><div class='meta-name'>Wanted High Freq Limit [hfw]</div><div>:</div><div class='meta-value'>4000.0</div></div><div class='scp-output section'><div class='meta-name'>Wanted Low Freq Limit [lfw]</div><div>:</div><div class='meta-value'>400.0</div></div><div class='scp-output section'><div class='meta-name'>Number of Background Scans [nsr]</div><div>:</div><div class='meta-value'>32</div></div><div class='scp-output section'><div class='meta-name'>Result Spectrum Type [plf]</div><div>:</div><div class='meta-value'>AB</div></div><div class='scp-output section'><div class='meta-name'>Resolution (cm-1) [res]</div><div>:</div><div class='meta-value'>4.0</div></div><div class='scp-output section'><div class='meta-name'>Reference Signal Gain [rgn]</div><div>:</div><div class='meta-value'>-1</div></div><div class='scp-output section'><div class='meta-name'>Scans or Time (Reference) [str]</div><div>:</div><div class='meta-value'>0</div></div><div class='scp-output section'><div class='meta-name'>Command Line for Additional Data Treatment [tcl]</div><div>:</div><div class='meta-value'></div></div><div class='scp-output section'><div class='meta-name'>To Do List [tdl]</div><div>:</div><div class='meta-value'>16777271</div></div></div></details></div><div class='scp-output section'><details><summary>Reference Fourier Transform Parameters [fourier_transform]</summary><div class='meta-value'><div class='scp-output section'><div class='meta-name'>Apodization Function [apf]</div><div>:</div><div class='meta-value'>B3</div></div><div class='scp-output section'><div class='meta-name'>End Frequency Limit for File [hfq]</div><div>:</div><div class='meta-value'>700.0</div></div><div class='scp-output section'><div class='meta-name'>Start Frequency Limit for File [lfq]</div><div>:</div><div class='meta-value'>4000.0</div></div><div class='scp-output section'><div class='meta-name'>Nonlinearity Correction [nli]</div><div>:</div><div class='meta-value'>1</div></div><div class='scp-output section'><div class='meta-name'>Phase Resolution [phr]</div><div>:</div><div class='meta-value'>32.0</div></div><div class='scp-output section'><div class='meta-name'>Phase Correction Mode [phz]</div><div>:</div><div class='meta-value'>ML</div></div><div class='scp-output section'><div class='meta-name'>Stored Phase Mode [spz]</div><div>:</div><div class='meta-value'>NO</div></div><div class='scp-output section'><div class='meta-name'>Zero Filling Factor [zff]</div><div>:</div><div class='meta-value'>2</div></div></div></details></div></div></details></div></details></div>"
      ],
      "text/plain": [
       "<spectrochempy.utils.meta.Meta at 0x7f95b4274d90>"
      ]
     },
     "execution_count": 14,
     "metadata": {},
     "output_type": "execute_result"
    }
   ],
   "source": [
    "Z.meta.readonly = False\n",
    "Z.meta.xxx = \"permitted\"\n",
    "Z.meta"
   ]
  },
  {
   "cell_type": "markdown",
   "id": "c470e44e",
   "metadata": {
    "editable": true,
    "slideshow": {
     "slide_type": ""
    }
   },
   "source": [
    "It is advised to set back the `readonly` flag to True."
   ]
  }
 ],
 "metadata": {
  "jupytext": {
   "cell_metadata_json": true,
   "formats": "ipynb,py:percent",
   "notebook_metadata_filter": "all"
  },
  "kernelspec": {
   "display_name": "Python 3 (ipykernel)",
   "language": "python",
   "name": "python3"
  },
  "language_info": {
   "codemirror_mode": {
    "name": "ipython",
    "version": 3
   },
   "file_extension": ".py",
   "mimetype": "text/x-python",
   "name": "python",
   "nbconvert_exporter": "python",
   "pygments_lexer": "ipython3",
   "version": "3.10.16"
  },
  "widgets": {
   "application/vnd.jupyter.widget-state+json": {
    "state": {},
    "version_major": 2,
    "version_minor": 0
   }
  }
 },
 "nbformat": 4,
 "nbformat_minor": 5
}
