{
  "cells": [
    {
      "cell_type": "markdown",
      "metadata": {},
      "source": [
        "# Using [plot_multiple]{.title-ref} to plot several datasets on the same figure\n\nIn this example, we will display several Raman datasets on the same\nfigure using the [plot_multiple]{.title-ref} method. Several options are\navailable to customize the display.\n"
      ]
    },
    {
      "cell_type": "markdown",
      "metadata": {},
      "source": [
        "Import spectrochempy as usual\n"
      ]
    },
    {
      "cell_type": "code",
      "execution_count": null,
      "metadata": {
        "collapsed": false
      },
      "outputs": [],
      "source": [
        "import spectrochempy as scp"
      ]
    },
    {
      "cell_type": "markdown",
      "metadata": {},
      "source": [
        "Load the data (here 2D spectrum made from a list of 1D spectra):\n"
      ]
    },
    {
      "cell_type": "code",
      "execution_count": null,
      "metadata": {
        "collapsed": false
      },
      "outputs": [],
      "source": [
        "B1 = scp.read(\"ramandata/labspec/serie190214-1.txt\")"
      ]
    },
    {
      "cell_type": "markdown",
      "metadata": {},
      "source": [
        "First we show the basic plot (note here the use of the\n[cmap=None]{.title-ref} option to display the spectra with rotating\ncolors. cmap can be of course set to any other available matplotlib\ncolormap. The second parameter [lw]{.title-ref} is used to set the line\nwidth. In addition, we fix the figsize to have a better view of the\nspectra.\n"
      ]
    },
    {
      "cell_type": "code",
      "execution_count": null,
      "metadata": {
        "collapsed": false
      },
      "outputs": [],
      "source": [
        "prefs = scp.preferences\nprefs.figure.figsize = (8, 4)\nB1.plot(cmap=None, lw=1)"
      ]
    },
    {
      "cell_type": "markdown",
      "metadata": {},
      "source": [
        "We will limit the x range to the region of interest note the float\nnumber to specify that we use coordinates and not indices\n"
      ]
    },
    {
      "cell_type": "code",
      "execution_count": null,
      "metadata": {
        "collapsed": false
      },
      "outputs": [],
      "source": [
        "B2 = B1[:, 60.0:]"
      ]
    },
    {
      "cell_type": "markdown",
      "metadata": {},
      "source": [
        "As there is obviously a drift in these spectra, we will use detrend to\nremove it.\n"
      ]
    },
    {
      "cell_type": "code",
      "execution_count": null,
      "metadata": {
        "collapsed": false
      },
      "outputs": [],
      "source": [
        "B3 = scp.detrend(B2)\nB3.plot(cmap=None)"
      ]
    },
    {
      "cell_type": "markdown",
      "metadata": {},
      "source": [
        "To demonstrate the use of [plot_multiple]{.title-ref} we will take only\na few spectra. For instance the 5 first spectra:\n"
      ]
    },
    {
      "cell_type": "code",
      "execution_count": null,
      "metadata": {
        "collapsed": false
      },
      "outputs": [],
      "source": [
        "B4 = B3[:5]"
      ]
    },
    {
      "cell_type": "markdown",
      "metadata": {},
      "source": [
        "plot it to see what we have selected\n"
      ]
    },
    {
      "cell_type": "code",
      "execution_count": null,
      "metadata": {
        "collapsed": false
      },
      "outputs": [],
      "source": [
        "B4.plot(cmap=None)"
      ]
    },
    {
      "cell_type": "markdown",
      "metadata": {},
      "source": [
        "Now we will use [plot_multiple]{.title-ref} to plot all the spectra of\nthe dataset B4. we need to use [offset]{.title-ref} to separate the\ntraces and we set some labels to identify these traces on the final\nplot. different colors and line width are also used. Note that we can\nuse the [legend]{.title-ref} option to place the legend at the best\nlocation. We can also use the [shift]{.title-ref} option to shift the\ntraces vertically.\n"
      ]
    },
    {
      "cell_type": "code",
      "execution_count": null,
      "metadata": {
        "collapsed": false
      },
      "outputs": [],
      "source": [
        "datasets = list(B4)\nscp.plot_multiple(\n    datasets,\n    method=\"pen\",\n    legend=\"best\",\n    labels=[\"A\", \"B\", \"C\", \"D\", \"E\"],\n    color=[\"black\", \"red\", \"green\", \"blue\", \"violet\"],\n    lw=[1, 2.5, 1, 1, 1],  # line width (we use here different values)\n    ls=\"-\",  # solid line style\n    shift=1000,  # vertical shift\n)"
      ]
    },
    {
      "cell_type": "markdown",
      "metadata": {},
      "source": [
        "This ends the example ! The following line can be uncommented if no plot\nshows when running the .py script with python\n"
      ]
    },
    {
      "cell_type": "code",
      "execution_count": null,
      "metadata": {
        "collapsed": false
      },
      "outputs": [],
      "source": [
        "# scp.show()"
      ]
    }
  ],
  "metadata": {
    "kernelspec": {
      "display_name": "Python 3",
      "language": "python",
      "name": "python3"
    },
    "language_info": {
      "codemirror_mode": {
        "name": "ipython",
        "version": 3
      },
      "file_extension": ".py",
      "mimetype": "text/x-python",
      "name": "python",
      "nbconvert_exporter": "python",
      "pygments_lexer": "ipython3",
      "version": "3.10.16"
    }
  },
  "nbformat": 4,
  "nbformat_minor": 0
}