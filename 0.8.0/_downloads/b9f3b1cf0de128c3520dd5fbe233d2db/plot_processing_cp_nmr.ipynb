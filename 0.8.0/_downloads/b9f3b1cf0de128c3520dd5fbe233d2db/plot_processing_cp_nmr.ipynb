{
  "cells": [
    {
      "cell_type": "markdown",
      "metadata": {},
      "source": [
        "# Analysis CP NMR spectra\n\nExample with handling of a series of CP NMR spectra.\n"
      ]
    },
    {
      "cell_type": "markdown",
      "metadata": {},
      "source": [
        "# Import API\n"
      ]
    },
    {
      "cell_type": "code",
      "execution_count": null,
      "metadata": {
        "collapsed": false
      },
      "outputs": [],
      "source": [
        "import spectrochempy as scp"
      ]
    },
    {
      "cell_type": "markdown",
      "metadata": {},
      "source": [
        "# Import NMR spectra\n\nDefine the folder where are the spectra\n"
      ]
    },
    {
      "cell_type": "code",
      "execution_count": null,
      "metadata": {
        "collapsed": false
      },
      "outputs": [],
      "source": [
        "datadir = scp.preferences.datadir\nnmrdir = datadir / \"nmrdata\" / \"bruker\" / \"tests\" / \"nmr\" / \"CP\""
      ]
    },
    {
      "cell_type": "markdown",
      "metadata": {},
      "source": [
        "Set the [glob]{.title-ref} pattern in order to load a series of spectra\nof given type in the given directory (here we read fid, but we could\nalso read \\\"1r\\\" files when available)\n"
      ]
    },
    {
      "cell_type": "code",
      "execution_count": null,
      "metadata": {
        "collapsed": false
      },
      "outputs": [],
      "source": [
        "dataset = scp.read_topspin(nmrdir, glob=\"**/fid\")"
      ]
    },
    {
      "cell_type": "markdown",
      "metadata": {},
      "source": [
        "15 fids have been read and merged into a single dataset\n"
      ]
    },
    {
      "cell_type": "code",
      "execution_count": null,
      "metadata": {
        "collapsed": false
      },
      "outputs": [],
      "source": [
        "dataset"
      ]
    },
    {
      "cell_type": "markdown",
      "metadata": {},
      "source": [
        "The new dimension (y) have several coordinates corresponding to all\nmetadata that change from fid to fid.\n\nIn the present case, the relevant coordinates is given by the\n[p15]{.title-ref} array which is the array of CP contact times.\n\nTo have y using this coordinates, we need to select it\n"
      ]
    },
    {
      "cell_type": "code",
      "execution_count": null,
      "metadata": {
        "collapsed": false
      },
      "outputs": [],
      "source": [
        "dataset.y.select(3)"
      ]
    },
    {
      "cell_type": "markdown",
      "metadata": {},
      "source": [
        "plot the dataset (zoom on the begining of the fid)\n"
      ]
    },
    {
      "cell_type": "code",
      "execution_count": null,
      "metadata": {
        "collapsed": false
      },
      "outputs": [],
      "source": [
        "prefs = scp.preferences\nprefs.figure.figsize = (9, 4)\nax = dataset.plot(colorbar=True)\nax.set_xlim(0, 5000)"
      ]
    },
    {
      "cell_type": "markdown",
      "metadata": {},
      "source": [
        "Process a fourier transform along the x dimension\n"
      ]
    },
    {
      "cell_type": "code",
      "execution_count": null,
      "metadata": {
        "collapsed": false
      },
      "outputs": [],
      "source": [
        "# exponential multiplication\nnd1 = scp.em(dataset, lb=50)"
      ]
    },
    {
      "cell_type": "markdown",
      "metadata": {},
      "source": [
        "fourier transform\n"
      ]
    },
    {
      "cell_type": "code",
      "execution_count": null,
      "metadata": {
        "collapsed": false
      },
      "outputs": [],
      "source": [
        "nd2 = scp.fft(nd1, si=4096)"
      ]
    },
    {
      "cell_type": "markdown",
      "metadata": {},
      "source": [
        "perform a phase correction of order 0 (need to be tuned carefully)\n"
      ]
    },
    {
      "cell_type": "code",
      "execution_count": null,
      "metadata": {
        "collapsed": false
      },
      "outputs": [],
      "source": [
        "nd3 = scp.pk(nd2, phc0=-118)"
      ]
    },
    {
      "cell_type": "markdown",
      "metadata": {},
      "source": [
        "plot\n"
      ]
    },
    {
      "cell_type": "code",
      "execution_count": null,
      "metadata": {
        "collapsed": false
      },
      "outputs": [],
      "source": [
        "nd3.plot()"
      ]
    },
    {
      "cell_type": "markdown",
      "metadata": {},
      "source": [
        "\\## Baseline correction Here we use the snip algorithm\n"
      ]
    },
    {
      "cell_type": "code",
      "execution_count": null,
      "metadata": {
        "collapsed": false
      },
      "outputs": [],
      "source": [
        "nd4 = scp.snip(nd3, snip_width=200)\n\nax = nd4.plot()\nax.set_xlim(225, 25)\nax.set_ylim(-1, 10)"
      ]
    },
    {
      "cell_type": "markdown",
      "metadata": {},
      "source": [
        "\\## Peak peaking we will use here the max of each spectra\n"
      ]
    },
    {
      "cell_type": "code",
      "execution_count": null,
      "metadata": {
        "collapsed": false
      },
      "outputs": [],
      "source": [
        "peaks, properties = nd4.max(dim=0).find_peaks(height=2.0, width=0.5, wlen=33.0)\nprint(f\"position of the peaks : {peaks.x.data}\")"
      ]
    },
    {
      "cell_type": "markdown",
      "metadata": {},
      "source": [
        "properties of the peaks\n"
      ]
    },
    {
      "cell_type": "code",
      "execution_count": null,
      "metadata": {
        "collapsed": false
      },
      "outputs": [],
      "source": [
        "table_pos = \"  \".join([f\"{peaks[i].x.value.m:>10.3f}\" for i in range(len(peaks))])\nprint(f\"{'peak_position (cm\u207b\u00b9)':>26}: {table_pos}\")\nfor key in properties:\n    table_property = \"  \".join(\n        [f\"{properties[key][i].m:>10.3f}\" for i in range(len(peaks))]\n    )\n    title = f\"{key:>.16} ({properties[key][0].u:~P})\"\n    print(f\"{title:>26}: {table_property}\")"
      ]
    },
    {
      "cell_type": "markdown",
      "metadata": {},
      "source": [
        "plot with peak markers and the left/right-bases indicators\n"
      ]
    },
    {
      "cell_type": "code",
      "execution_count": null,
      "metadata": {
        "collapsed": false
      },
      "outputs": [],
      "source": [
        "ax = nd4.plot()  # output the spectrum on ax. ax will receive next plot too;\npks = peaks + 0.5  # add a small offset on the y position of the markers\npks.plot_scatter(\n    ax=ax,\n    marker=\"v\",\n    color=\"black\",\n    clear=False,  # we need to keep the previous output on ax\n    data_only=True,  # we don't need to redraw all things like labels, etc...\n    ylim=(-0.1, 13),\n    xlim=(225, 25),\n)\nfor i, p in enumerate(pks):\n    x, y = p.x.values, (p + 0.5).values\n    ax.annotate(\n        f\"{x.m:0.1f}\",\n        xy=(x, y),\n        xytext=(-5, 5),\n        rotation=90,\n        textcoords=\"offset points\",\n    )\n    for w in (properties[\"left_bases\"][i], properties[\"right_bases\"][i]):\n        ax.axvline(w, linestyle=\"--\", color=\"green\")\n    for w in (properties[\"left_ips\"][i], properties[\"right_ips\"][i]):\n        ax.axvline(w, linestyle=\":\", color=\"red\")"
      ]
    },
    {
      "cell_type": "markdown",
      "metadata": {},
      "source": [
        "Get the section at once using fancy indexing\n"
      ]
    },
    {
      "cell_type": "code",
      "execution_count": null,
      "metadata": {
        "collapsed": false
      },
      "outputs": [],
      "source": [
        "sections = nd4[:, peaks.x.data]\n\n# The array sections has a shape (15, 3).\n# We must transpose it to plot the three sections has a function of contact time\nsections = sections.T\n\n# now plot it\nax = sections.plot(marker=\"o\", lw=\"1\", ls=\":\", legend=\"best\", colormap=\"jet\")\nax.set_xlim(0, 16000)"
      ]
    },
    {
      "cell_type": "markdown",
      "metadata": {},
      "source": [
        "The sections we have taken here represent the maximum heigths of the\npeaks. However it could may be interesting to have the area of the peak\ninstead. Let\\'s use the left and right bases to perform the integration\nof the peaks.\n"
      ]
    },
    {
      "cell_type": "code",
      "execution_count": null,
      "metadata": {
        "collapsed": false
      },
      "outputs": [],
      "source": [
        "area = []\nfor i in range(len(peaks)):\n    lb, ub = properties[\"left_bases\"][i].m, properties[\"right_bases\"][i].m\n    a = nd4[:, lb:ub].simpson()\n    area.append(a)\n\narea = scp.NDDataset(\n    area,\n    dims=[\"y\", \"x\"],\n    coordset=scp.CoordSet({\"y\": peaks.x.copy(), \"x\": nd4.y.default.copy()}),\n    units=a.units,\n    title=\"area\",\n)\narea.plot(marker=\"o\", lw=\"1\", ls=\":\", legend=\"best\", colormap=\"jet\")\narea"
      ]
    },
    {
      "cell_type": "markdown",
      "metadata": {},
      "source": [
        "Fitting a model to these data\n"
      ]
    },
    {
      "cell_type": "code",
      "execution_count": null,
      "metadata": {
        "collapsed": false
      },
      "outputs": [],
      "source": [
        "import numpy as np\n\n# create an Optimize object using a simple leastsq method\nfitter = scp.Optimize(log_level=\"INFO\", method=\"leastsq\")\n\n\n# define a model\n# Note: This is only for sake of demonstration,\n# as the model is probably not sufficient to fit the data correctly.\ndef cp_model(t, i0, tis, t1irho):  # warning: no underscore in variable names\n    I = i0 * (np.exp(-t / t1irho) - np.exp(-t * (1 / tis))) / (1 - tis / t1irho)\n    return I\n\n\n# Add the model to the fitter usermodels as it it not a built-in model\nfitter.usermodels = {\"CP_model\": cp_model}"
      ]
    },
    {
      "cell_type": "code",
      "execution_count": null,
      "metadata": {
        "collapsed": false
      },
      "outputs": [],
      "source": [
        "index = 0\ns = area[index]\n\n# Define the parameter variables using a script\n# (parameter: value, low_bound,  high_bound)\n# - no underscore in parameters names.\n# - times are in the units of the data time coordinates (here `s`)\n# - initially we assume relaxation (T1rho) time constant vey large\nfitter.script = \"\"\"\n MODEL: cp\n shape: cp_model\n\t$ i0:     25, 0.1, none\n\t$ t1irho: 1e4, 1, none\n\t$ tis:  800, 1, 10000\n\"\"\"\n\nfitter.fit(s)\n\nspred = fitter.predict()\n\nax = fitter.plotmerit(\n    s,\n    spred,\n    method=\"scatter\",\n    show_yaxis=True,\n    title=f\"fitting CP dynamic (peaks at {peaks.x[index].values})\",\n)\nax.set_xlim(0, 16000)"
      ]
    },
    {
      "cell_type": "code",
      "execution_count": null,
      "metadata": {
        "collapsed": false
      },
      "outputs": [],
      "source": [
        "index = 1\ns = area[index]\nfitter.script = \"\"\"\n MODEL: cp\n shape: cp_model\n\t$ i0:     35, 0.1, none\n\t$ t1irho: 1e4, 1, none\n\t$ tis:  800, 1, 10000\n\"\"\"\n\nfitter.fit(s)\n\nspred = fitter.predict()\n\nax = fitter.plotmerit(\n    s,\n    spred,\n    method=\"scatter\",\n    show_yaxis=True,\n    title=f\"fitting CP dynamic (peaks at {peaks.x[index].values})\",\n)\nax.set_xlim(0, 16000)"
      ]
    },
    {
      "cell_type": "code",
      "execution_count": null,
      "metadata": {
        "collapsed": false
      },
      "outputs": [],
      "source": [
        "index = 2\ns = area[index]\nfitter.script = \"\"\"\n MODEL: cp\n shape: cp_model\n\t$ i0:     125, 0.1, none\n\t$ t1irho: 1e4, 1, none\n\t$ tis:  800, 1, 10000\n\"\"\"\n\nfitter.fit(s)\n\nspred = fitter.predict()\n\nax = fitter.plotmerit(\n    s,\n    spred,\n    method=\"scatter\",\n    show_yaxis=True,\n    title=f\"fitting CP dynamic (peaks at {peaks.x[index].values})\",\n)\nax.set_xlim(0, 16000)"
      ]
    },
    {
      "cell_type": "markdown",
      "metadata": {},
      "source": [
        "The model looks good for the peak at 174 ppm. This peak appears to be\ncomposed of a single species, which is not the case for the other peaks\nat 99 and 70 ppm. Deconvolution of these two peaks is therefore probably\nnecessary for a better analysis.\n"
      ]
    },
    {
      "cell_type": "markdown",
      "metadata": {},
      "source": [
        "This ends the example ! The following line can be removed or commented\nwhen the example is run as a notebook ([.ipynb]{.title-ref}).\n"
      ]
    },
    {
      "cell_type": "code",
      "execution_count": null,
      "metadata": {
        "collapsed": false
      },
      "outputs": [],
      "source": [
        "# scp.show()"
      ]
    }
  ],
  "metadata": {
    "kernelspec": {
      "display_name": "Python 3",
      "language": "python",
      "name": "python3"
    },
    "language_info": {
      "codemirror_mode": {
        "name": "ipython",
        "version": 3
      },
      "file_extension": ".py",
      "mimetype": "text/x-python",
      "name": "python",
      "nbconvert_exporter": "python",
      "pygments_lexer": "ipython3",
      "version": "3.10.16"
    }
  },
  "nbformat": 4,
  "nbformat_minor": 0
}