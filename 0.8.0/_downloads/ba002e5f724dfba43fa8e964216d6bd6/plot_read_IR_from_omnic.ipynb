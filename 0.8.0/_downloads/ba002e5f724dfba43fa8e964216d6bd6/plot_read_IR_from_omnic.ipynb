{
  "cells": [
    {
      "cell_type": "markdown",
      "metadata": {},
      "source": [
        "# Loading an IR (omnic SPG) experimental file\n\nHere we load an experimental SPG file (OMNIC) and plot it.\n"
      ]
    },
    {
      "cell_type": "code",
      "execution_count": null,
      "metadata": {
        "collapsed": false
      },
      "outputs": [],
      "source": [
        "import spectrochempy as scp"
      ]
    },
    {
      "cell_type": "markdown",
      "metadata": {},
      "source": [
        "Loading and stacked plot of the original\n"
      ]
    },
    {
      "cell_type": "code",
      "execution_count": null,
      "metadata": {
        "collapsed": false
      },
      "outputs": [],
      "source": [
        "datadir = scp.preferences.datadir\ndataset = scp.read_omnic(datadir / \"irdata\" / \"nh4y-activation.spg\")\ndataset.plot_stack(style=\"paper\")"
      ]
    },
    {
      "cell_type": "code",
      "execution_count": null,
      "metadata": {
        "collapsed": false
      },
      "outputs": [],
      "source": [
        "c = scp.NDDataset\nscp.sort(dataset)\nscp.write(dataset, overwrite=True)"
      ]
    },
    {
      "cell_type": "markdown",
      "metadata": {},
      "source": [
        "change the unit of y-axis, the y origin as well as the title of the axis\n"
      ]
    },
    {
      "cell_type": "code",
      "execution_count": null,
      "metadata": {
        "collapsed": false
      },
      "outputs": [],
      "source": [
        "dataset.y.to(\"hour\")\ndataset.y -= dataset.y[0]\ndataset.y.title = \"acquisition time\"\n\ndataset.plot_stack()"
      ]
    },
    {
      "cell_type": "markdown",
      "metadata": {},
      "source": [
        "This ends the example ! The following line can be uncommented if no plot\nshows when running the .py script with python\n"
      ]
    },
    {
      "cell_type": "code",
      "execution_count": null,
      "metadata": {
        "collapsed": false
      },
      "outputs": [],
      "source": [
        "# scp.show()"
      ]
    }
  ],
  "metadata": {
    "kernelspec": {
      "display_name": "Python 3",
      "language": "python",
      "name": "python3"
    },
    "language_info": {
      "codemirror_mode": {
        "name": "ipython",
        "version": 3
      },
      "file_extension": ".py",
      "mimetype": "text/x-python",
      "name": "python",
      "nbconvert_exporter": "python",
      "pygments_lexer": "ipython3",
      "version": "3.10.16"
    }
  },
  "nbformat": 4,
  "nbformat_minor": 0
}