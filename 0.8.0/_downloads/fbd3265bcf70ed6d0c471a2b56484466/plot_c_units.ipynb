{
  "cells": [
    {
      "cell_type": "markdown",
      "metadata": {},
      "source": [
        "# Units manipulation examples\n\nIn this example, we show how units can be used in SpectroChemPy\n"
      ]
    },
    {
      "cell_type": "code",
      "execution_count": null,
      "metadata": {
        "collapsed": false
      },
      "outputs": [],
      "source": [
        "import spectrochempy as scp"
      ]
    },
    {
      "cell_type": "markdown",
      "metadata": {},
      "source": [
        "Spectrochempy can do calculations with units - it uses\n\\[pint\\](<https://pint.readthedocs.io>) to define and perform operation\non data with units.\n"
      ]
    },
    {
      "cell_type": "markdown",
      "metadata": {},
      "source": [
        "# Create quantities\n\nTo create quantity, use for instance, one of the following expression:\n"
      ]
    },
    {
      "cell_type": "code",
      "execution_count": null,
      "metadata": {
        "collapsed": false
      },
      "outputs": [],
      "source": [
        "scp.Quantity(\"10.0 cm^-1\")\n\n\"\"\nscp.Quantity(1.0, \"cm^-1/hour\")"
      ]
    },
    {
      "cell_type": "markdown",
      "metadata": {},
      "source": [
        "or may be simpler using \\`ur\\`:\n"
      ]
    },
    {
      "cell_type": "code",
      "execution_count": null,
      "metadata": {
        "collapsed": false
      },
      "outputs": [],
      "source": [
        "ur = scp.ur\n10.0 * ur.meter / ur.gram / ur.volt"
      ]
    },
    {
      "cell_type": "markdown",
      "metadata": {},
      "source": [
        "[ur]{.title-ref} stands for **unit registry**, which handle many type of\nunits (and conversion between them)\n"
      ]
    },
    {
      "cell_type": "markdown",
      "metadata": {},
      "source": [
        "# Units for dataset\n\nWhen loading experimental dataset using the [read]{.title-ref} method,\nunits are generally attributed to coordinates and data\n"
      ]
    },
    {
      "cell_type": "code",
      "execution_count": null,
      "metadata": {
        "collapsed": false
      },
      "outputs": [],
      "source": [
        "ds = scp.read(\"wodger.spg\")[0]\nprefs = scp.preferences\nprefs.figure.figsize = (7, 3)\nds.plot()"
      ]
    },
    {
      "cell_type": "markdown",
      "metadata": {},
      "source": [
        "-   [wavenumbers]{.title-ref} ([x]{.title-ref} ) coordinates are here\n    expressed in \\$cm\\^{-1}\\$\n-   and [data]{.title-ref} are in absorbance (\\$a.u.\\$) units.\n"
      ]
    },
    {
      "cell_type": "markdown",
      "metadata": {},
      "source": [
        "# Convert between units\n\nHere are some examples\n"
      ]
    },
    {
      "cell_type": "code",
      "execution_count": null,
      "metadata": {
        "collapsed": false
      },
      "outputs": [],
      "source": [
        "x = 36 * ur(\"km/hr\")\nx.to(\"cm/s\")"
      ]
    },
    {
      "cell_type": "markdown",
      "metadata": {},
      "source": [
        "We can make the conversion *inplace* using *ito* instead of *to*\n"
      ]
    },
    {
      "cell_type": "code",
      "execution_count": null,
      "metadata": {
        "collapsed": false
      },
      "outputs": [],
      "source": [
        "x.ito(\"m/s\")\nx"
      ]
    },
    {
      "cell_type": "markdown",
      "metadata": {},
      "source": [
        "Obviously you cannot convert between incompatible units\n"
      ]
    },
    {
      "cell_type": "code",
      "execution_count": null,
      "metadata": {
        "collapsed": false
      },
      "outputs": [],
      "source": [
        "try:\n    x.to(\"hour\")\nexcept Exception as e:\n    scp.error_(e)\n    # scp.error_(pint.DimensionalityError, e)"
      ]
    },
    {
      "cell_type": "markdown",
      "metadata": {},
      "source": [
        "This, of course, also applies to NDDataset. Let\\'s try for the\n[x]{.title-ref} coordinate. It is [wavenumber]{.title-ref} in\n\\$cm\\^{-1}\\$ that can be transformed in \\$Hz\\$ for instance:\n"
      ]
    },
    {
      "cell_type": "code",
      "execution_count": null,
      "metadata": {
        "collapsed": false
      },
      "outputs": [],
      "source": [
        "ds.x.ito(\"terahertz\")\nds.plot()"
      ]
    },
    {
      "cell_type": "markdown",
      "metadata": {},
      "source": [
        "We can also change the wavenumbers (or frequency units), to energy units\nor wavelength as Spectrochempy (thanks to\n\\[pint\\](<https://pint.readthedocs.io>)) knows how to make the\ntransformation.\n"
      ]
    },
    {
      "cell_type": "code",
      "execution_count": null,
      "metadata": {
        "collapsed": false
      },
      "outputs": [],
      "source": [
        "ds.x.ito(\"eV\")\nds.plot()"
      ]
    },
    {
      "cell_type": "code",
      "execution_count": null,
      "metadata": {
        "collapsed": false
      },
      "outputs": [],
      "source": [
        "try:\n    ds.x.ito(\"nanometer\")\nexcept Exception as e:\n    scp.error_(Exception, e)\n\nds.x = ds.x.to(\"nanometer\")\nds.x"
      ]
    },
    {
      "cell_type": "code",
      "execution_count": null,
      "metadata": {
        "collapsed": false
      },
      "outputs": [],
      "source": [
        "ds.plot()"
      ]
    },
    {
      "cell_type": "markdown",
      "metadata": {},
      "source": [
        "[absorbance]{.title-ref} units (the units of the data) can also be\ntransformed into [transmittance]{.title-ref}\n"
      ]
    },
    {
      "cell_type": "code",
      "execution_count": null,
      "metadata": {
        "collapsed": false
      },
      "outputs": [],
      "source": [
        "ds.ito(\"transmittance\")\nds.plot()"
      ]
    },
    {
      "cell_type": "markdown",
      "metadata": {},
      "source": [
        "back into \\`ansorbance\n"
      ]
    },
    {
      "cell_type": "code",
      "execution_count": null,
      "metadata": {
        "collapsed": false
      },
      "outputs": [],
      "source": [
        "ds.ito(\"absorbance\")\nds.x.ito(\"cm^-1\")\nds.plot()"
      ]
    },
    {
      "cell_type": "markdown",
      "metadata": {},
      "source": [
        "This ends the example ! The following line can be uncommented if no plot\nshows when running the .py script with python\n"
      ]
    },
    {
      "cell_type": "code",
      "execution_count": null,
      "metadata": {
        "collapsed": false
      },
      "outputs": [],
      "source": [
        "# scp.show()"
      ]
    }
  ],
  "metadata": {
    "kernelspec": {
      "display_name": "Python 3",
      "language": "python",
      "name": "python3"
    },
    "language_info": {
      "codemirror_mode": {
        "name": "ipython",
        "version": 3
      },
      "file_extension": ".py",
      "mimetype": "text/x-python",
      "name": "python",
      "nbconvert_exporter": "python",
      "pygments_lexer": "ipython3",
      "version": "3.10.16"
    }
  },
  "nbformat": 4,
  "nbformat_minor": 0
}