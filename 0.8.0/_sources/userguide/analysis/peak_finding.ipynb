{
 "cells": [
  {
   "cell_type": "markdown",
   "id": "48d88993",
   "metadata": {},
   "source": [
    "# Peak Maxima Finding\n",
    "\n",
    "This tutorial shows how to find peaks and determine peak maxima with spectrochempy.\n",
    "As prerequisite, the user is\n",
    "expected to have read the [Import](../importexport/import.rst),\n",
    "[Import IR](../importexport/importIR.rst),\n",
    "[slicing](../processing/slicing.rst) tutorials.\n"
   ]
  },
  {
   "cell_type": "markdown",
   "id": "a1aae9d8",
   "metadata": {},
   "source": [
    "Fist, as usual, we need to load the API."
   ]
  },
  {
   "cell_type": "code",
   "execution_count": null,
   "id": "b2d7b963",
   "metadata": {},
   "outputs": [],
   "source": [
    "import spectrochempy as scp"
   ]
  },
  {
   "cell_type": "markdown",
   "id": "a6034b57",
   "metadata": {},
   "source": [
    "## Loading an experimental dataset"
   ]
  },
  {
   "cell_type": "markdown",
   "id": "907dd1ea",
   "metadata": {},
   "source": [
    "A typical IR dataset (CO adsorption on supported CoMo catalyst\n",
    "in the 2300-1900 cm-1 region) will be used throughout."
   ]
  },
  {
   "cell_type": "markdown",
   "id": "1d59ca0f",
   "metadata": {},
   "source": [
    "We load the data using the generic API method  `read` (the type of data is inferred\n",
    "from the extension)"
   ]
  },
  {
   "cell_type": "code",
   "execution_count": null,
   "id": "eed76125",
   "metadata": {},
   "outputs": [],
   "source": [
    "ds = scp.read(\"irdata/CO@Mo_Al2O3.SPG\")"
   ]
  },
  {
   "cell_type": "code",
   "execution_count": null,
   "id": "d55ab524",
   "metadata": {},
   "outputs": [],
   "source": [
    "ds.y -= ds.y.data[0]  # start time a 0 for the  first spectrum\n",
    "ds.y.title = \"time\"\n",
    "ds.y = ds.y.to(\"minutes\")"
   ]
  },
  {
   "cell_type": "markdown",
   "id": "5f90f4f1",
   "metadata": {},
   "source": [
    "Let's set some preferences for plotting"
   ]
  },
  {
   "cell_type": "code",
   "execution_count": null,
   "id": "7953b846",
   "metadata": {},
   "outputs": [],
   "source": [
    "prefs = scp.preferences\n",
    "prefs.method_1D = \"scatter+pen\"\n",
    "prefs.method_2D = \"stack\"\n",
    "prefs.colorbar = True\n",
    "prefs.colormap = \"Dark2\""
   ]
  },
  {
   "cell_type": "markdown",
   "id": "05615dd8",
   "metadata": {},
   "source": [
    "We select the desired region and plot it."
   ]
  },
  {
   "cell_type": "code",
   "execution_count": null,
   "id": "19f54249",
   "metadata": {},
   "outputs": [],
   "source": [
    "reg = ds[:, 2300.0:1900.0]\n",
    "reg.plot()"
   ]
  },
  {
   "cell_type": "markdown",
   "id": "06263015",
   "metadata": {},
   "source": [
    "## Find maxima by manual inspection of the plot\n",
    "Once a given maximum has been approximately located manually with the mouse, it is\n",
    "possible to obtain [markdown]\n",
    "For instance, after zooming on the highest peak of the last spectrum,\n",
    "one finds that it is located at ~ 2115.5 cm$^{-1}$. The exact x-coordinate value can\n",
    "be obtained using the\n",
    "following code\n",
    "(see the [slicing tutorial](../processing/slicing.rst) for more info):"
   ]
  },
  {
   "cell_type": "code",
   "execution_count": null,
   "id": "6085b470",
   "metadata": {},
   "outputs": [],
   "source": [
    "pos = reg.x[2115.5].values\n",
    "pos"
   ]
  },
  {
   "cell_type": "markdown",
   "id": "1a1c899e",
   "metadata": {},
   "source": [
    "We can easily get the list of all individual maximas at this position"
   ]
  },
  {
   "cell_type": "code",
   "execution_count": null,
   "id": "8a52681b",
   "metadata": {},
   "outputs": [],
   "source": [
    "maximas = reg[:, pos].squeeze()\n",
    "maximas.plot(marker=\"s\", ls=\"--\", color=\"blue\")"
   ]
  },
  {
   "cell_type": "code",
   "execution_count": null,
   "id": "edb00142",
   "metadata": {},
   "outputs": [],
   "source": [
    "ax = reg.plot()\n",
    "x = pos.max()\n",
    "y = maximas.max()\n",
    "ax.set_ylim(-0.01, 0.3)\n",
    "_ = ax.annotate(\n",
    "    f\"{x: ~0.2fP} {y: ~.3fP}\",\n",
    "    xy=(2115.5, maximas.max()),\n",
    "    xytext=(30, -20),\n",
    "    textcoords=\"offset points\",\n",
    "    bbox={\"boxstyle\": \"round4,pad=.7\", \"fc\": \"0.9\"},\n",
    "    arrowprops={\"arrowstyle\": \"->\", \"connectionstyle\": \"angle3\"},\n",
    ")"
   ]
  },
  {
   "cell_type": "markdown",
   "id": "eda69395",
   "metadata": {},
   "source": [
    "## Find maxima with an automated method: `find_peaks()`\n",
    "Exploring the spectra manually is useful, but cannot be made systematically in large\n",
    "datasets with many - possibly\n",
    "shifting peaks. The maxima of a given spectrum can be found automatically by the\n",
    "find_peaks() method which is based\n",
    "on [scpy.signal.find_peaks()](\n",
    "https://docs.scipy.org/doc/scipy/reference/generated/scipy.signal.find_peaks.html).\n",
    "It returns two outputs: `peaks` a NDDataset grouping the peak maxima (wavenumbers and\n",
    "absorbance) and `properties`\n",
    "a dictionary containing properties of the returned peaks (it is empty\n",
    "if no particular option is selected,\n",
    "`see below<#options>`_ for more information)."
   ]
  },
  {
   "cell_type": "markdown",
   "id": "bbdef5c4",
   "metadata": {},
   "source": [
    "###  Default behaviour"
   ]
  },
  {
   "cell_type": "markdown",
   "id": "74bd107f",
   "metadata": {},
   "source": [
    "Applying this method on the last spectrum without any option will yield 7 peaks. But\n",
    "some peaks are very close so we use the option `distance` to avoid this."
   ]
  },
  {
   "cell_type": "code",
   "execution_count": null,
   "id": "c12b4e2f",
   "metadata": {},
   "outputs": [],
   "source": [
    "last = reg[-1]\n",
    "peaks, _ = last.find_peaks(distance=5.0)\n",
    "# we do not catch the second output (properties) as it is void in this case"
   ]
  },
  {
   "cell_type": "markdown",
   "id": "14962409",
   "metadata": {},
   "source": [
    "`peaks` is a NDDataset. Its `x` attribute gives the peak position:"
   ]
  },
  {
   "cell_type": "code",
   "execution_count": null,
   "id": "afed32a2",
   "metadata": {},
   "outputs": [],
   "source": [
    "peaks.x.values"
   ]
  },
  {
   "cell_type": "markdown",
   "id": "56953557",
   "metadata": {},
   "source": [
    "The code below shows how the peaks found by this method can be marked on the plot:"
   ]
  },
  {
   "cell_type": "code",
   "execution_count": null,
   "id": "cf234266",
   "metadata": {},
   "outputs": [],
   "source": [
    "ax = last.plot_pen()  # output the spectrum on ax. ax will receive next plot too\n",
    "pks = peaks + 0.02  # add a small offset on the y position of the markers\n",
    "_ = pks.plot_scatter(\n",
    "    ax=ax,\n",
    "    marker=\"v\",\n",
    "    color=\"black\",\n",
    "    clear=False,  # we need to keep the previous output on ax\n",
    "    data_only=True,  # we don't need to redraw all things like labels, etc...\n",
    "    ylim=(-0.01, 0.35),\n",
    ")\n",
    "\n",
    "for p in pks:\n",
    "    x, y = p.x.values, p.values + 0.02\n",
    "    _ = ax.annotate(\n",
    "        f\"{x.m: 0.0f}\",\n",
    "        xy=(x, y),\n",
    "        xytext=(-5, 0),\n",
    "        rotation=90,\n",
    "        textcoords=\"offset points\",\n",
    "    )"
   ]
  },
  {
   "cell_type": "markdown",
   "id": "91a8e21f",
   "metadata": {},
   "source": [
    "Now we will do a peak-finding for the whole dataset:"
   ]
  },
  {
   "cell_type": "code",
   "execution_count": null,
   "id": "a0f7ff7d",
   "metadata": {},
   "outputs": [],
   "source": [
    "peakslist = [s.find_peaks(distance=5)[0] for s in reg]"
   ]
  },
  {
   "cell_type": "code",
   "execution_count": null,
   "id": "b3024234",
   "metadata": {},
   "outputs": [],
   "source": [
    "ax = reg.plot()\n",
    "for peaks in peakslist:\n",
    "    peaks.plot_scatter(\n",
    "        ax=ax,\n",
    "        marker=\"v\",\n",
    "        ms=3,\n",
    "        color=\"red\",\n",
    "        clear=False,\n",
    "        data_only=True,\n",
    "        ylim=(-0.01, 0.30),\n",
    "    )"
   ]
  },
  {
   "cell_type": "markdown",
   "id": "83a8a3ac",
   "metadata": {},
   "source": [
    "It should be noted that this method finds only true maxima, not shoulders (!).\n",
    "For the detection of such underlying\n",
    "peaks, the use of methods based on derivatives or advanced detection methods -\n",
    "which will be treated in separate\n",
    "tutorial - are required. Once their maxima of a given peak have been found,\n",
    "it is possible, for instance,\n",
    "to plot its evolution with, e.g. the time. For instance for the peaks located\n",
    "at 2220-2180 cm$^{-1}$:"
   ]
  },
  {
   "cell_type": "code",
   "execution_count": null,
   "id": "211cf21c",
   "metadata": {},
   "outputs": [],
   "source": [
    "# Find peak's position\n",
    "positions = [s.find_peaks(distance=5)[0].x.values for s in reg[:, 2220.0:2180.0]]\n",
    "\n",
    "# Make a NDDataset\n",
    "evol = scp.NDDataset(positions, title=\"wavenumber at the maximum\")\n",
    "evol.x = scp.Coord(\n",
    "    reg.y, title=\"acquisition time\"\n",
    ")  # the x coordinate is st to the acquisition time for each spectra\n",
    "evol.preferences.method_1D = \"scatter+pen\"\n",
    "\n",
    "# plot it\n",
    "evol.plot(ls=\":\")"
   ]
  },
  {
   "cell_type": "markdown",
   "id": "885dd158",
   "metadata": {},
   "source": [
    "###  Options of `find_peaks()` <a id='options'></a>\n",
    "The default behaviour of find_peaks() will return *all* the detected maxima.\n",
    "The user can choose various options to\n",
    "select among these peaks:\n",
    "\n",
    "**Parameters relative to \"peak intensity\":**\n",
    "- `height` : minimal required height of the peaks (single number) or minimal\n",
    "and maximal heights\n",
    "(sequence of two numbers)\n",
    "- `prominence` : minimal prominence of the peak to be detected\n",
    "(single number) or minimal and maximal prominence (sequence of 2 numbers). In brief\n",
    "the \"prominence\" of a peak\n",
    "measures how much a peak stands out from its surrounding and is the vertical distance\n",
    "between the peak and its\n",
    "lowest \"contour line\". It should not be confused with the height as a peak can have\n",
    "an important height but a small\n",
    "prominence when surrounded by other peaks (see below for an illustration).\n",
    "    - in addition to the prominence, the user can define `wlen` , the width (in points)\n",
    "    of the window used to look\n",
    "    at neighboring minima, the peak maximum being is at the center of the window.\n",
    "- `threshold` : a single number (the minimal required threshold) or a sequence of two\n",
    "numbers (minimal and maximal).\n",
    "The thresholds are the difference of height of the\n",
    "maximum with its two neighboring points (useful to detect spikes for instance)\n",
    "\n",
    "**Parameters relative to \"peak spacing\":**\n",
    "- `distance` : the required minimal horizontal distance between neighbouring peaks.\n",
    "Smaller peaks are removed first.\n",
    "- `width` : Required minimal width of peaks in samples (single number) or minimal and\n",
    "maximal width. The width is\n",
    "assessed from the peak height,\n",
    "prominence and neighboring signal. - In addition the user can define `rel_height`\n",
    "(a float between 0. and 1.) used\n",
    "to compute the width - see the [scipy documentation](\n",
    "https://docs.scipy.org/doc/scipy/reference/generated/scipy.signal.peak_widths.html)\n",
    "for further details.\n",
    "- Finally, we mention en passant a last parameter, `plateau_size()` used for\n",
    "selecting peaks having truly flat tops (\n",
    "as in e.g. square-boxed signals).\n",
    "\n",
    "The use of some of these options for the last spectrum of the dataset is\n",
    "exemplified in the following:"
   ]
  },
  {
   "cell_type": "code",
   "execution_count": null,
   "id": "91875488",
   "metadata": {},
   "outputs": [],
   "source": [
    "s = reg[-1].squeeze()"
   ]
  },
  {
   "cell_type": "markdown",
   "id": "64df159f",
   "metadata": {},
   "source": [
    "we use squeeze it because one of the dimensions for this dataset of shape (1, N)\n",
    "is useless"
   ]
  },
  {
   "cell_type": "code",
   "execution_count": null,
   "id": "66dcb071",
   "metadata": {},
   "outputs": [],
   "source": [
    "# default settings\n",
    "\n",
    "peaks, properties = s.find_peaks()\n",
    "ax = s.plot_pen(color=\"black\")\n",
    "peaks.plot_scatter(\n",
    "    ax=ax,\n",
    "    label=\"default\",\n",
    "    marker=\"v\",\n",
    "    ms=4,\n",
    "    color=\"black\",\n",
    "    clear=False,\n",
    "    data_only=True,\n",
    "    ylim=(-0.01, 0.35),\n",
    ")\n",
    "\n",
    "# find peaks higher than 0.05  (NB: the spectra are shifted for the display.\n",
    "# Refer to the 1st spectrum for true heights)\n",
    "\n",
    "peaks, properties = s.find_peaks(height=0.05)\n",
    "color = \"blue\"\n",
    "label = \"0.05<height\"\n",
    "offset = 0.05\n",
    "(s + offset).plot_pen(color=color, clear=False)\n",
    "(peaks + offset).plot_scatter(\n",
    "    ax=ax, label=label, m=\"v\", mfc=color, mec=color, ms=5, clear=False, data_only=True\n",
    ")\n",
    "\n",
    "# find peaks heights between 0.05 and 0.2 (the highest peak won't be detected)\n",
    "\n",
    "peaks, properties = s.find_peaks(height=(0.05, 0.2))\n",
    "color = \"green\"\n",
    "label = \"0.05<height<0.2\"\n",
    "offset = 0.1\n",
    "(s + offset).plot_pen(color=color, clear=False)\n",
    "(peaks + offset).plot_scatter(\n",
    "    ax=ax, label=label, m=\"v\", mfc=color, mec=color, ms=5, clear=False, data_only=True\n",
    ")\n",
    "\n",
    "# find peaks with prominence >= 0.05 (only the two most prominent peaks are detected)\n",
    "\n",
    "peaks, properties = s.find_peaks(prominence=0.05)\n",
    "color = \"purple\"\n",
    "label = \"prominence=0.05\"\n",
    "offset = 0.15\n",
    "(s + offset).plot_pen(color=color, clear=False)\n",
    "(peaks + offset).plot_scatter(\n",
    "    ax=ax, label=label, m=\"v\", mfc=color, mec=color, ms=5, clear=False, data_only=True\n",
    ")\n",
    "\n",
    "# find peaks with distance >= 10 (only the highest of the two maxima at ~ 2075 is\n",
    "# detected)\n",
    "\n",
    "peaks, properties = s.find_peaks(distance=10)\n",
    "color = \"red\"\n",
    "label = \"distance>10\"\n",
    "offset = 0.20\n",
    "(s + offset).plot_pen(color=color, clear=False)\n",
    "(peaks + offset).plot_scatter(\n",
    "    ax=ax, label=label, m=\"v\", mfc=color, mec=color, ms=5, clear=False, data_only=True\n",
    ")\n",
    "\n",
    "# find peaks with width >= 10 (none of the two maxima at ~ 2075 is detected)\n",
    "\n",
    "peaks, properties = s.find_peaks(width=10)\n",
    "color = \"grey\"\n",
    "label = \"width>10\"\n",
    "offset = 0.25\n",
    "(s + offset).plot_pen(color=color, clear=False)\n",
    "(peaks + offset).plot_scatter(\n",
    "    ax=ax, label=label, m=\"v\", mfc=color, mec=color, ms=5, clear=False, data_only=True\n",
    ")\n",
    "\n",
    "_ = ax.legend(fontsize=6)"
   ]
  },
  {
   "cell_type": "markdown",
   "id": "30b7e2bd",
   "metadata": {},
   "source": [
    "### More on peak properties\n",
    "\n",
    "If the concept of \"peak height\" is pretty clear, it is worth examining further some\n",
    "peak properties as defined and\n",
    "used in `find_peaks()` . They can be obtained (and used) by passing the parameters\n",
    "`height` , `prominence` ,\n",
    "`threshold`  and `width` . Then `find_peaks()` will return the corresponding properties\n",
    "of the detected peaks in the\n",
    "`properties` dictionary.\n",
    "\n",
    "#### Prominence\n",
    "\n",
    "The prominence of a peak can be defined as the vertical distance from the peak’s\n",
    "maximum to *the lowest horizontal\n",
    "line passing through a minimum but not containing any higher peak*. This is\n",
    "illustrated below for the three most\n",
    "prominent peaks of the above spectra:\n",
    "\n",
    "<img src=\"images/prominence.png\" alt=\"prominence_def\" width=\"350\" align=\"center\" />\n",
    "\n",
    "Let's illustrate this for the second-highest peak which height is comprised between\n",
    "~ 0.15 and 0.22 and see which\n",
    "properties are returned when, on top of `height` , we pass `prominence=0`: this will\n",
    "return the properties\n",
    "associated to the prominence and warrant that this peak will not be rejected on the\n",
    "prominence criterion."
   ]
  },
  {
   "cell_type": "code",
   "execution_count": null,
   "id": "916f8122",
   "metadata": {},
   "outputs": [],
   "source": [
    "peaks, properties = s.find_peaks(height=(0.15, 0.22), prominence=0)\n",
    "properties"
   ]
  },
  {
   "cell_type": "markdown",
   "id": "c8eb5430",
   "metadata": {},
   "source": [
    "The actual prominence of the peak is this 0.0689, a value significantly lower\n",
    "that is peak height ( [markdown]\n",
    "The peak prominence is 0.0689, a much lower value than the height (0.1995), as\n",
    "could be expected by the illustration\n",
    "above.\n",
    "\n",
    "The algorithm used to determine the left and right 'bases' is illustrated below:\n",
    "- (1) extend a line to the left and right of the maximum until it reaches the window\n",
    "border (here on\n",
    "the left) or the signal (here on the right).\n",
    "- (2) find the minimum value within the intervals defined above. These\n",
    "points are the peak's bases.\n",
    "- (3) use the higher base (here the right base) and peak maximum to calculate the\n",
    "prominence.\n",
    "\n",
    "<img src=\"images/prominence_algo.png\" alt=\"prominence_algo\" width=\"350\"\n",
    "align=\"center\" />\n",
    "\n",
    "The following code shows how to plot the maximum and the two \"base points\" from the\n",
    "previous output of `find_peaks()`:"
   ]
  },
  {
   "cell_type": "code",
   "execution_count": null,
   "id": "84923935",
   "metadata": {},
   "outputs": [],
   "source": [
    "ax = s.plot_pen()\n",
    "\n",
    "# plots the  maximum\n",
    "_ = peaks.plot_scatter(\n",
    "    ax=ax, marker=\"v\", mfc=\"green\", mec=\"green\", data_only=True, clear=False\n",
    ")\n",
    "\n",
    "wl, wr = properties[\"left_bases\"][0], properties[\"right_bases\"][0]\n",
    "\n",
    "# wavenumbers of left and right bases\n",
    "for w in (wl, wr):\n",
    "    ax.axvline(w, linestyle=\"--\")  # add vertical line at the bases\n",
    "    ax.plot(w, s[w].data, \"v\", color=\"red\")\n",
    "    # and a red mark  #TODO: add function to plot this easily\n",
    "\n",
    "ax = ax.set_xlim(2310.0, 1900.0)  # change x limits to better see the 'left_base'"
   ]
  },
  {
   "cell_type": "markdown",
   "id": "7237b73d",
   "metadata": {},
   "source": [
    "It leads to base marks at their expected locations. We can further check that the\n",
    "prominence of the [markdown]\n",
    "We can check that the correct value of the peak prominence is obtained by the\n",
    "difference between its height\n",
    "and the highest base, here the 'right_base':"
   ]
  },
  {
   "cell_type": "code",
   "execution_count": null,
   "id": "debf77a5",
   "metadata": {},
   "outputs": [],
   "source": [
    "prominence = peaks[0].values - s[wr].values\n",
    "print(f\"calc. prominence = {prominence: 0.4f}\")"
   ]
  },
  {
   "cell_type": "markdown",
   "id": "8b028d83",
   "metadata": {},
   "source": [
    "Finally, we illustrate how the use of the `wlen` parameter - which limits the\n",
    "search of the \"base [markdown]\n",
    "Finally, the figure below shows how the prominence can be affected by `wlen` , the\n",
    "size of the window used to determine the peaks' bases.\n",
    "\n",
    "<img src=\"images/prominence_wlen.png\" alt=\"prominence_def\"\n",
    "width=\"700\" align=\"center\" />\n",
    "\n",
    "As illustrated above a reduction of the window should reduce the prominence of the\n",
    "peak. This impact can be checked\n",
    "with the code below:"
   ]
  },
  {
   "cell_type": "code",
   "execution_count": null,
   "id": "2a93e43e",
   "metadata": {},
   "outputs": [],
   "source": [
    "peak, properties = s.find_peaks(height=0.2, prominence=0)\n",
    "print(f\"prominence with full spectrum: {properties['prominences'][0]: 0.4f}\")\n",
    "\n",
    "peak, properties = s.find_peaks(\n",
    "    height=0.2, prominence=0, wlen=50.0\n",
    ")  # a float should be explicitly passed, else will be considered as points\n",
    "print(f\"prominence with reduced window: {properties['prominences'][0]: 0.4f}\")"
   ]
  },
  {
   "cell_type": "markdown",
   "id": "d404e4b9",
   "metadata": {},
   "source": [
    "#### Width"
   ]
  },
  {
   "cell_type": "markdown",
   "id": "56d8db42",
   "metadata": {
    "lines_to_next_cell": 0
   },
   "source": [
    "The peak widths, as returned by `find_peaks()` can be *very approximate* and for\n",
    "precise assessment,\n",
    "The find_peaks() method also returns the peak widths. As we will see below, the\n",
    "method is **very approximate** and\n",
    "more advanced methods (such as peak fitting), also implemented in spectrochempy\n",
    "should be used (see e.g.,\n",
    "[this example](../../gettingstarted/examples/gallery/auto_examples_analysis/c_curvefitting/plot_fit.html)).\n",
    "On the other hand, **the magnitude of the width is generally fine**.\n",
    "\n",
    "This estimate is based on an algorithm similar to that used for the \"bases\" above,\n",
    "except that the horizontal\n",
    "line starts from a `width_height` computed from the peak height subtracted by a\n",
    "*fraction* of the peak prominence\n",
    "defined bay `rel_height` (default = 0.5). The algorithm is illustrated below for the\n",
    "two most prominent peaks:\n",
    "\n",
    "<img src=\"images/width_algo.jpg\" alt=\"width_algo\" width=\"900\" align=\"center\" />\n",
    "\n",
    "When the `width` keyword is used, `properties` dictionary returns the prominence\n",
    "parameters (as it is used for\n",
    "the calculation of the width), the width and the left and right interpolated positions\n",
    "(\"ips\") of the intersection\n",
    "of the horizontal line with the spectrum:"
   ]
  },
  {
   "cell_type": "code",
   "execution_count": null,
   "id": "59d58cb6",
   "metadata": {},
   "outputs": [],
   "source": [
    "peaks, properties = s.find_peaks(height=0.2, width=0)\n",
    "properties"
   ]
  },
  {
   "cell_type": "markdown",
   "id": "5d588703",
   "metadata": {},
   "source": [
    "The code below shows how these heights and widths can be extracted from the\n",
    "dictionary and plotted [markdown]\n",
    "The code below shows how these data can be extracted and then plotted:"
   ]
  },
  {
   "cell_type": "code",
   "execution_count": null,
   "id": "38958e1d",
   "metadata": {},
   "outputs": [],
   "source": [
    "# extraction of data (for better readability of the code below)\n",
    "\n",
    "height = properties[\"peak_heights\"][0]\n",
    "width_height = properties[\"width_heights\"][0]\n",
    "wl = properties[\"left_ips\"][0]\n",
    "wr = properties[\"right_ips\"][0]\n",
    "\n",
    "ax = s.plot_pen()\n",
    "_ = peaks.plot_scatter(\n",
    "    ax=ax, marker=\"v\", mfc=\"green\", mec=\"green\", data_only=True, clear=False\n",
    ")\n",
    "_ = ax.axhline(height, linestyle=\"--\", color=\"blue\")\n",
    "_ = ax.axhline(width_height, linestyle=\"--\", color=\"red\")\n",
    "_ = ax.axvline(wl, linestyle=\"--\", color=\"green\")\n",
    "_ = ax.axvline(wr, linestyle=\"--\", color=\"green\")"
   ]
  },
  {
   "cell_type": "markdown",
   "id": "e13d2ca9",
   "metadata": {},
   "source": [
    "As stressed above, we see here that the peak width is very approximate and probably\n",
    "exaggerated in\n",
    "It is obvious here that the peak width is overestimated in the present case due to the\n",
    "presence of the second peak on\n",
    "the left. Here a better estimate would be obtained by considering the right\n",
    "half-width, or reducing the `rel_height`\n",
    "parameter as shown below."
   ]
  },
  {
   "cell_type": "markdown",
   "id": "b166f644",
   "metadata": {},
   "source": [
    "### A code snippet to display properties\n",
    "\n",
    "The self-contained code snippet below can be used to display in a matplotlib plot\n",
    "and print the various\n",
    "peak properties of a single peak as returned by `find_peaks()`:"
   ]
  },
  {
   "cell_type": "code",
   "execution_count": null,
   "id": "37fabbd6",
   "metadata": {},
   "outputs": [],
   "source": [
    "# user defined parameters ------------------------------\n",
    "\n",
    "s = reg[-1]  # define a single-row NDDataset\n",
    "s.preferences.method_1D = \"pen\"\n",
    "\n",
    "# peak selection parameters; should be set to return a single peak\n",
    "\n",
    "height = 0.08  # minimal height or min and max heights)\n",
    "prominence = 0.0  # minimal prominence or min and max prominences\n",
    "width = 0.0  # minimal width or min and max widths\n",
    "threshold = None  # minimal threshold or min and max threshold)\n",
    "\n",
    "# prominence and width parameter\n",
    "\n",
    "wlen = None  # the length of the window used to compute the prominence\n",
    "rel_height = 0.47  # the fraction of the prominence used to compute the width\n",
    "\n",
    "# code: find peaks, plot and print properties -------------------\n",
    "\n",
    "peaks, properties = s.find_peaks(\n",
    "    distance=10,\n",
    "    height=height,\n",
    "    prominence=prominence,\n",
    "    wlen=wlen,\n",
    "    threshold=threshold,\n",
    "    width=width,\n",
    "    rel_height=rel_height,\n",
    ")\n",
    "\n",
    "table_pos = \"  \".join([f\"{peaks[i].x.value.m: >10.3f}\" for i in range(len(peaks))])\n",
    "print(f\"{'peak_position (cm⁻¹)': >26}: {table_pos}\")\n",
    "for key in properties:\n",
    "    table_property = \"  \".join(\n",
    "        [f\"{properties[key][i].m: >10.3f}\" for i in range(len(peaks))]\n",
    "    )\n",
    "    title = f\"{key: >.16} ({properties[key][0].u: ~P})\"\n",
    "    print(f\"{title: >26}: {table_property}\")\n",
    "\n",
    "ax = s.plot()\n",
    "peaks.plot_scatter(\n",
    "    ax=ax, marker=\"v\", mfc=\"green\", mec=\"green\", data_only=True, clear=False\n",
    ")\n",
    "\n",
    "for i in range(len(peaks)):\n",
    "    for w in (properties[\"left_bases\"][i], properties[\"right_bases\"][i]):\n",
    "        ax.plot(w, s[0, w].data.T, \"v\", color=\"red\")\n",
    "    for w in (properties[\"left_ips\"][i], properties[\"right_ips\"][i]):\n",
    "        ax.axvline(w, linestyle=\"--\", color=\"green\")"
   ]
  },
  {
   "cell_type": "markdown",
   "id": "50108b70",
   "metadata": {},
   "source": [
    "-- this is the end of this tutorial --"
   ]
  }
 ],
 "metadata": {
  "jupytext": {
   "formats": "ipynb,py:percent",
   "notebook_metadata_filter": "all"
  },
  "kernelspec": {
   "display_name": "Python 3 (ipykernel)",
   "language": "python",
   "name": "python3"
  },
  "language_info": {
   "codemirror_mode": {
    "name": "ipython",
    "version": 3
   },
   "file_extension": ".py",
   "mimetype": "text/x-python",
   "name": "python",
   "nbconvert_exporter": "python",
   "pygments_lexer": "ipython3",
   "version": "3.10.11"
  }
 },
 "nbformat": 4,
 "nbformat_minor": 5
}
