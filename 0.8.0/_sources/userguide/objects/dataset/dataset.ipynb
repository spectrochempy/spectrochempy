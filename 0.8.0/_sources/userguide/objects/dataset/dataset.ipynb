{
 "cells": [
  {
   "cell_type": "markdown",
   "id": "f0a0cb9f",
   "metadata": {},
   "source": [
    "# The NDDataset object"
   ]
  },
  {
   "cell_type": "markdown",
   "id": "95302db0",
   "metadata": {},
   "source": [
    "The NDDataset is the main object used by **SpectroChemPy**.\n",
    "\n",
    "Like numpy ndarrays, NDDatasets have the capability to be sliced, sorted and subjected to\n",
    "mathematical operations.\n",
    "\n",
    "But, in addition, NDDatasets may have units, can be masked and each dimension can have\n",
    "coordinates also with units.\n",
    "This makes NDDatasets aware of units compatibility, *e.g.*, for binary operations such as\n",
    "addition or subtraction or during the application of mathematical operations.\n",
    "In addition to or in replacement of numerical data for coordinates,\n",
    "NDDatasets can also have labeled coordinates where labels can be different kinds of\n",
    "objects (strings, datetime objects, numpy ndarrays or other NDDatasets, etc.).\n",
    "\n",
    "This offers a lot of flexibility in using NDDatasets that, we hope, will be useful\n",
    "for applications.\n",
    "See the [Examples](../../../gettingstarted/examples/gallery/auto_examples_core/index.rst) for\n",
    "additional information about such possible applications."
   ]
  },
  {
   "cell_type": "markdown",
   "id": "1add638e",
   "metadata": {},
   "source": [
    "## Table of Contents\n",
    "\n",
    "* [Introduction](#Introduction)\n",
    "  * [1D-Dataset (unidimensional dataset)](#1D-Dataset-(unidimensional-dataset))\n",
    "  * [nD-Dataset (multidimensional dataset)](#nD-Dataset-(multidimensional-dataset))\n",
    "* [Metadata and Attributes](#About-the-dates-and-times)\n",
    "  * [About dates and times](#About-dates-and-times)\n",
    "  * [About the history attribute](#About-the-history-attribute)\n",
    "* [Units](#Units)\n",
    "* [Coordinates](#Coordinates)\n",
    "  * [Labels](#Labels)\n",
    "  * [Sharing coordinates between dimensions](#Sharing-coordinates-between-dimensions)\n",
    "  * [Setting coordinates using set_coordset](#Setting-coordinates-using-set_coordset)\n",
    "  * [Adding several coordinates to a single dimension](#Adding-several-coordinates-to-a-single-dimension)\n",
    "  * [Math operations on coordinates](#Math-operations-on-coordinates)\n",
    "  * [Summary of coordinate setting syntax](#Summary-of-the-coordinate-setting-syntax)\n",
    "* [Methods to create NDDataset](#Methods-to-create-NDDataset)\n",
    "  * [Create a dataset from a function](#Create-a-dataset-from-a-function)\n",
    "  * [Using numpy-like constructors](#Using-numpy-like-constructors-of-NDDatasets)\n",
    "  * [Copying existing NDDataset](#Copying-existing-NDDataset)\n",
    "  * [Importing from external datasets](#Importing-from-external-datasets)"
   ]
  },
  {
   "cell_type": "markdown",
   "id": "c5758eb0",
   "metadata": {},
   "source": [
    "## Introduction"
   ]
  },
  {
   "cell_type": "markdown",
   "id": "b172fa96",
   "metadata": {},
   "source": [
    "**Below (and in the next sections), we try to give an almost complete view of the\n",
    "NDDataset features.**"
   ]
  },
  {
   "cell_type": "markdown",
   "id": "8d455505",
   "metadata": {
    "lines_to_next_cell": 0
   },
   "source": [
    "As we will make some reference to the\n",
    "**[numpy](https://numpy.org/doc/stable/index.html)** library, we also import it here."
   ]
  },
  {
   "cell_type": "code",
   "execution_count": null,
   "id": "9a67cf15",
   "metadata": {},
   "outputs": [],
   "source": [
    "import numpy as np\n",
    "\n",
    "import spectrochempy as scp"
   ]
  },
  {
   "cell_type": "markdown",
   "id": "591d8a5f",
   "metadata": {
    "lines_to_next_cell": 0
   },
   "source": [
    "We additionally import the three main SpectroChemPy objects that we will use through\n",
    "this tutorial"
   ]
  },
  {
   "cell_type": "code",
   "execution_count": null,
   "id": "0b30dafa",
   "metadata": {},
   "outputs": [],
   "source": [
    "from spectrochempy import Coord\n",
    "from spectrochempy import CoordSet\n",
    "from spectrochempy import NDDataset"
   ]
  },
  {
   "cell_type": "markdown",
   "id": "9732feaa",
   "metadata": {
    "lines_to_next_cell": 0
   },
   "source": [
    "For a convenient usage of units, we will also directly import\n",
    "**[ur](#Units)**, the unit registry which contains all available\n",
    "units."
   ]
  },
  {
   "cell_type": "code",
   "execution_count": null,
   "id": "fad1ff94",
   "metadata": {},
   "outputs": [],
   "source": [
    "from spectrochempy import ur"
   ]
  },
  {
   "cell_type": "markdown",
   "id": "ec538913",
   "metadata": {},
   "source": [
    "Multidimensional arrays are defined in Spectrochempy using the `NDDataset` object.\n",
    "\n",
    "`NDDataset` objects mostly behave like numpy's `numpy.ndarray`\n",
    "(see for instance\n",
    "[numpy quickstart tutorial](https://numpy.org/doc/stable/user/quickstart.html))."
   ]
  },
  {
   "cell_type": "markdown",
   "id": "47f924a6",
   "metadata": {},
   "source": [
    "However, unlike raw numpy arrays, the presence of optional properties makes\n",
    "them (hopefully) more appropriate for handling spectroscopic information,\n",
    "which is one of the major objectives of the SpectroChemPy package:\n",
    "\n",
    "* `mask`: Data can be partially masked at will\n",
    "* `units`: Data can have units, allowing units-aware operations\n",
    "* `CoordSet`: Data can have a set of coordinates, one or several per dimension\n",
    "\n",
    "Additional metadata can also be added to the instances of this class\n",
    "through the `meta` properties."
   ]
  },
  {
   "cell_type": "markdown",
   "id": "1b3e29bc",
   "metadata": {},
   "source": [
    "## 1D-Dataset (unidimensional dataset)"
   ]
  },
  {
   "cell_type": "markdown",
   "id": "f98d442f",
   "metadata": {},
   "source": [
    "In the following example, a minimal 1D dataset is created from a simple list,\n",
    "to which we can add some metadata:"
   ]
  },
  {
   "cell_type": "code",
   "execution_count": null,
   "id": "1ea5966d",
   "metadata": {},
   "outputs": [],
   "source": [
    "d1D = NDDataset(\n",
    "    [10.0, 20.0, 30.0],\n",
    "    name=\"Dataset N1\",\n",
    "    author=\"Blake and Mortimer\",\n",
    "    description=\"A dataset from scratch\",\n",
    "    history=\"creation\",\n",
    ")\n",
    "d1D"
   ]
  },
  {
   "cell_type": "code",
   "execution_count": null,
   "id": "4d30ca27",
   "metadata": {},
   "outputs": [],
   "source": [
    "print(d1D)"
   ]
  },
  {
   "cell_type": "code",
   "execution_count": null,
   "id": "5a5ad8ac",
   "metadata": {},
   "outputs": [],
   "source": [
    "d1D.plot(figsize=(3, 2))"
   ]
  },
  {
   "cell_type": "markdown",
   "id": "49e6b408",
   "metadata": {},
   "source": [
    "Except few additional metadata such `author` , `created` ..., there is not much\n",
    "difference with respect to a conventional\n",
    "**[numpy.array](\n",
    "https://numpy.org/doc/stable/reference/generated/numpy.array.html#numpy.array)**.\n",
    "For example, one\n",
    "can apply numpy\n",
    "**[ufunc](https://numpy.org/doc/stable/reference/ufuncs.html#available-ufuncs)'s**\n",
    "directly to a NDDataset or make basic arithmetic\n",
    "operation with these objects:"
   ]
  },
  {
   "cell_type": "code",
   "execution_count": null,
   "id": "c9a42b73",
   "metadata": {},
   "outputs": [],
   "source": [
    "np.sqrt(d1D)"
   ]
  },
  {
   "cell_type": "code",
   "execution_count": null,
   "id": "ad30e93c",
   "metadata": {},
   "outputs": [],
   "source": [
    "d1D += d1D / 2.0\n",
    "d1D"
   ]
  },
  {
   "cell_type": "markdown",
   "id": "91411b81",
   "metadata": {},
   "source": [
    "As seen above, there are some attributes that are automatically added to the dataset:\n",
    "\n",
    "* `id`: This is a unique identifier for the object.\n",
    "* `name`: A short and unique name for the dataset. It will be equal to the automatic\n",
    "  `id` if it is not provided.\n",
    "* `author`: Author determined from the computer name if not provided.\n",
    "* `created`: Date and time of creation.\n",
    "* `modified`: Date and time of modification.\n",
    "\n",
    "These attributes can be modified by the user, but the `id`, `created` and `modified`\n",
    "attributes are read only.\n",
    "\n",
    "Some other attributes are defined to describe the data:\n",
    "* `title`: A long name that will be used in plots or in some other operations.\n",
    "* `history`: History of operations performed on the object since its creation.\n",
    "* `description`: A comment or a description of the object's purpose or contents.\n",
    "* `origin`: An optional reference to the source of the data."
   ]
  },
  {
   "cell_type": "markdown",
   "id": "c391c283",
   "metadata": {},
   "source": [
    "Here is an example of the use of the NDDataset attributes:"
   ]
  },
  {
   "cell_type": "code",
   "execution_count": null,
   "id": "1b55e851",
   "metadata": {},
   "outputs": [],
   "source": [
    "d1D.title = \"intensity\"\n",
    "d1D.name = \"mydataset\"\n",
    "d1D.history = \"created from scratch\"\n",
    "d1D.description = \"Some experimental measurements\"\n",
    "d1D"
   ]
  },
  {
   "cell_type": "markdown",
   "id": "e5f8a234",
   "metadata": {},
   "source": [
    "d1D is a 1D (1-dimensional) dataset with only one dimension.\n",
    "\n",
    "Some attributes are useful to check this kind of information:"
   ]
  },
  {
   "cell_type": "code",
   "execution_count": null,
   "id": "8842d58b",
   "metadata": {},
   "outputs": [],
   "source": [
    "d1D.shape  # the shape of 1D contain only one dimension size"
   ]
  },
  {
   "cell_type": "code",
   "execution_count": null,
   "id": "92de36ea",
   "metadata": {},
   "outputs": [],
   "source": [
    "d1D.ndim  # the number of dimensions"
   ]
  },
  {
   "cell_type": "code",
   "execution_count": null,
   "id": "23d762fd",
   "metadata": {},
   "outputs": [],
   "source": [
    "d1D.dims  # the name of the dimension (it has been automatically attributed)"
   ]
  },
  {
   "cell_type": "markdown",
   "id": "f97db476",
   "metadata": {},
   "source": [
    "**Note**: The names of the dimensions are set automatically. But they can be changed,\n",
    "with <u>the limitation</u> that the\n",
    "name must be a single letter."
   ]
  },
  {
   "cell_type": "code",
   "execution_count": null,
   "id": "6f14b9c8",
   "metadata": {},
   "outputs": [],
   "source": [
    "d1D.dims = [\"q\"]  # change the list of dim names."
   ]
  },
  {
   "cell_type": "code",
   "execution_count": null,
   "id": "09267531",
   "metadata": {},
   "outputs": [],
   "source": [
    "d1D.dims"
   ]
  },
  {
   "cell_type": "markdown",
   "id": "2aaa3b58",
   "metadata": {},
   "source": [
    "### nD-Dataset (multidimensional dataset)"
   ]
  },
  {
   "cell_type": "markdown",
   "id": "0706acdb",
   "metadata": {},
   "source": [
    "To create a nD NDDataset, we can provide a nD-array like object to the NDDataset\n",
    "instance constructor"
   ]
  },
  {
   "cell_type": "code",
   "execution_count": null,
   "id": "bc987662",
   "metadata": {},
   "outputs": [],
   "source": [
    "a = np.random.rand(2, 4, 6)\n",
    "a"
   ]
  },
  {
   "cell_type": "code",
   "execution_count": null,
   "id": "8f8acf15",
   "metadata": {},
   "outputs": [],
   "source": [
    "d3D = NDDataset(a)\n",
    "d3D.title = \"energy\"\n",
    "d3D.author = \"Someone\"\n",
    "d3D.name = \"3D dataset creation\"\n",
    "d3D.history = \"created from scratch\"\n",
    "d3D.description = \"Some example\"\n",
    "d3D.dims = [\"u\", \"v\", \"t\"]\n",
    "d3D"
   ]
  },
  {
   "cell_type": "markdown",
   "id": "b2ad20a8",
   "metadata": {},
   "source": [
    "We can also add all information in a single statement"
   ]
  },
  {
   "cell_type": "code",
   "execution_count": null,
   "id": "38bfc96e",
   "metadata": {},
   "outputs": [],
   "source": [
    "d3D = NDDataset(\n",
    "    a,\n",
    "    dims=[\"u\", \"v\", \"t\"],\n",
    "    title=\"Energy\",\n",
    "    author=\"Someone\",\n",
    "    name=\"3D_dataset\",\n",
    "    history=\"created from scratch\",\n",
    "    description=\"a single statement creation example\",\n",
    ")\n",
    "d3D"
   ]
  },
  {
   "cell_type": "markdown",
   "id": "754d300c",
   "metadata": {},
   "source": [
    "Three names are attributed at creation (if they are not provided with the `dims`\n",
    "attribute, then the names\n",
    "'z','y','x' are automatically attributed)"
   ]
  },
  {
   "cell_type": "code",
   "execution_count": null,
   "id": "edebf478",
   "metadata": {},
   "outputs": [],
   "source": [
    "d3D.dims"
   ]
  },
  {
   "cell_type": "code",
   "execution_count": null,
   "id": "72914029",
   "metadata": {},
   "outputs": [],
   "source": [
    "d3D.ndim"
   ]
  },
  {
   "cell_type": "code",
   "execution_count": null,
   "id": "f114d700",
   "metadata": {},
   "outputs": [],
   "source": [
    "d3D.shape"
   ]
  },
  {
   "cell_type": "markdown",
   "id": "1a8a919f",
   "metadata": {},
   "source": [
    "## About dates and times\n",
    "The dates and times are stored internally as\n",
    "[UTC (Coordinated Universal Time)](https://en.wikipedia.org/wiki/Coordinated_Universal_Time).\n",
    "Timezone information is stored in the timezone attribute.\n",
    "If not set, the default is to use the local timezone,\n",
    "which is probably the most common case."
   ]
  },
  {
   "cell_type": "code",
   "execution_count": null,
   "id": "d079f813",
   "metadata": {},
   "outputs": [],
   "source": [
    "nd = NDDataset()\n",
    "nd.created"
   ]
  },
  {
   "cell_type": "markdown",
   "id": "a46a649b",
   "metadata": {},
   "source": [
    "In this case our local timezone has been used by default for the conversion from\n",
    "UTC datetime."
   ]
  },
  {
   "cell_type": "code",
   "execution_count": null,
   "id": "f1572f7c",
   "metadata": {},
   "outputs": [],
   "source": [
    "nd.local_timezone"
   ]
  },
  {
   "cell_type": "code",
   "execution_count": null,
   "id": "d82d7b0f",
   "metadata": {},
   "outputs": [],
   "source": [
    "nd.timezone = \"EST\"\n",
    "nd.created"
   ]
  },
  {
   "cell_type": "markdown",
   "id": "12090afd",
   "metadata": {},
   "source": [
    "For a list of timezone code (TZ) you can have a look at\n",
    "[List_of_tz_database_time_zones](\n",
    "https://en.wikipedia.org/wiki/List_of_tz_database_time_zones)."
   ]
  },
  {
   "cell_type": "markdown",
   "id": "20286c3d",
   "metadata": {},
   "source": [
    "## About the `history` attribute"
   ]
  },
  {
   "cell_type": "markdown",
   "id": "3688f2d1",
   "metadata": {},
   "source": [
    "The history is saved internally as a list, but it has a different behavior than\n",
    "the usual list.\n",
    "The first time a NDDataset is created, the list is empty."
   ]
  },
  {
   "cell_type": "code",
   "execution_count": null,
   "id": "8f326843",
   "metadata": {},
   "outputs": [],
   "source": [
    "nd = NDDataset()\n",
    "nd.history"
   ]
  },
  {
   "cell_type": "markdown",
   "id": "c88f00d4",
   "metadata": {},
   "source": [
    "Assigning a string to the history attribute has two effects. First,\n",
    "the string is appended automatically to the previous history list, and second, it is\n",
    "preceded by the time it was added."
   ]
  },
  {
   "cell_type": "code",
   "execution_count": null,
   "id": "46ad5802",
   "metadata": {},
   "outputs": [],
   "source": [
    "nd.history = \"some history\"\n",
    "nd.history = \"another history to append\"\n",
    "nd.history = \"...\"\n",
    "nd.history"
   ]
  },
  {
   "cell_type": "markdown",
   "id": "03969405",
   "metadata": {},
   "source": [
    "If you want to erase the history, assign an empty list"
   ]
  },
  {
   "cell_type": "code",
   "execution_count": null,
   "id": "a26a419c",
   "metadata": {},
   "outputs": [],
   "source": [
    "nd.history = []\n",
    "nd.history"
   ]
  },
  {
   "cell_type": "markdown",
   "id": "e93f5761",
   "metadata": {},
   "source": [
    "If you want to replace the full history, use brackets around your history line:"
   ]
  },
  {
   "cell_type": "code",
   "execution_count": null,
   "id": "86f3778d",
   "metadata": {},
   "outputs": [],
   "source": [
    "nd.history = \"Created form scratch\"\n",
    "nd.history = \"a second ligne that will be erased\"\n",
    "nd.history = [\"A more interesting message\"]\n",
    "nd.history"
   ]
  },
  {
   "cell_type": "markdown",
   "id": "95e6b0d8",
   "metadata": {},
   "source": [
    "## Units"
   ]
  },
  {
   "cell_type": "markdown",
   "id": "43618157",
   "metadata": {},
   "source": [
    "One interesting feature of NDDataset is the ability to define units for the internal\n",
    "data."
   ]
  },
  {
   "cell_type": "code",
   "execution_count": null,
   "id": "eaf42ece",
   "metadata": {},
   "outputs": [],
   "source": [
    "d1D.units = ur.eV  # ur is a registry containing all available units"
   ]
  },
  {
   "cell_type": "code",
   "execution_count": null,
   "id": "531374de",
   "metadata": {},
   "outputs": [],
   "source": [
    "d1D  # note the eV symbol of the units added to the values field below"
   ]
  },
  {
   "cell_type": "markdown",
   "id": "2a097b5c",
   "metadata": {},
   "source": [
    "This allows to make units-aware calculations:"
   ]
  },
  {
   "cell_type": "code",
   "execution_count": null,
   "id": "28bba972",
   "metadata": {},
   "outputs": [],
   "source": [
    "d1D**2  # note the results in eV^2"
   ]
  },
  {
   "cell_type": "code",
   "execution_count": null,
   "id": "e82c39ce",
   "metadata": {},
   "outputs": [],
   "source": [
    "np.sqrt(d1D)  # note the result in e^0.5"
   ]
  },
  {
   "cell_type": "code",
   "execution_count": null,
   "id": "0e8e7f2d",
   "metadata": {},
   "outputs": [],
   "source": [
    "time = 5.0 * ur.second\n",
    "d1D / time  # here we get results in eV/s"
   ]
  },
  {
   "cell_type": "markdown",
   "id": "78ca5f19",
   "metadata": {},
   "source": [
    "Conversion can be done between different units transparently"
   ]
  },
  {
   "cell_type": "code",
   "execution_count": null,
   "id": "a8236e66",
   "metadata": {},
   "outputs": [],
   "source": [
    "d1D.to(\"J\")"
   ]
  },
  {
   "cell_type": "code",
   "execution_count": null,
   "id": "faf2f6a2",
   "metadata": {},
   "outputs": [],
   "source": [
    "d1D.to(\"K\")"
   ]
  },
  {
   "cell_type": "markdown",
   "id": "e19044cb",
   "metadata": {},
   "source": [
    "For more examples on how to use units with NDDataset, see the\n",
    "[gallery example](../../../gettingstarted/examples/gallery/auto_examples_core/a_nddataset/plot_c_units.html)"
   ]
  },
  {
   "cell_type": "markdown",
   "id": "413ff25b",
   "metadata": {},
   "source": [
    "## Coordinates"
   ]
  },
  {
   "cell_type": "markdown",
   "id": "c0b404bd",
   "metadata": {},
   "source": [
    "The above created `d3D` dataset has 3 dimensions, but no coordinates for these\n",
    "dimensions. Here arises a big difference\n",
    "with simple `numpy` arrays:\n",
    "* We can add coordinates to each dimension of a NDDataset."
   ]
  },
  {
   "cell_type": "markdown",
   "id": "05aee16b",
   "metadata": {},
   "source": [
    "To get the list of all defined coordinates, we can use the `coords` attribute:"
   ]
  },
  {
   "cell_type": "code",
   "execution_count": null,
   "id": "070fae9e",
   "metadata": {},
   "outputs": [],
   "source": [
    "d3D.coordset  # no coordinates, so it returns nothing (None)"
   ]
  },
  {
   "cell_type": "code",
   "execution_count": null,
   "id": "c7fd6409",
   "metadata": {},
   "outputs": [],
   "source": [
    "d3D.t  # the same for coordinate  t, v, u which are not yet set"
   ]
  },
  {
   "cell_type": "markdown",
   "id": "bcd12b65",
   "metadata": {},
   "source": [
    "To add coordinates, one way is to set them one by one:"
   ]
  },
  {
   "cell_type": "code",
   "execution_count": null,
   "id": "e0b3e347",
   "metadata": {},
   "outputs": [],
   "source": [
    "d3D.t = (\n",
    "    Coord.arange(6) * 0.1\n",
    ")  # we need a sequence of 6 values for `t` dimension (see shape above)\n",
    "d3D.t.title = \"time\"\n",
    "d3D.t.units = ur.seconds\n",
    "d3D.coordset  # now return a list of coordinates"
   ]
  },
  {
   "cell_type": "code",
   "execution_count": null,
   "id": "5156778c",
   "metadata": {},
   "outputs": [],
   "source": [
    "d3D.t"
   ]
  },
  {
   "cell_type": "code",
   "execution_count": null,
   "id": "e6ab7c90",
   "metadata": {},
   "outputs": [],
   "source": [
    "d3D.coordset(\"t\")  # Alternative way to get a given coordinates"
   ]
  },
  {
   "cell_type": "code",
   "execution_count": null,
   "id": "78f793a6",
   "metadata": {},
   "outputs": [],
   "source": [
    "d3D[\"t\"]  # another alternative way to get a given coordinates"
   ]
  },
  {
   "cell_type": "markdown",
   "id": "c72e4690",
   "metadata": {},
   "source": [
    "The two other coordinates u and v are still undefined"
   ]
  },
  {
   "cell_type": "code",
   "execution_count": null,
   "id": "fb480b06",
   "metadata": {},
   "outputs": [],
   "source": [
    "d3D.u, d3D.v"
   ]
  },
  {
   "cell_type": "markdown",
   "id": "142e3529",
   "metadata": {},
   "source": [
    "When the dataset is printed, only the information for the existing coordinates is\n",
    "given."
   ]
  },
  {
   "cell_type": "code",
   "execution_count": null,
   "id": "a1752264",
   "metadata": {},
   "outputs": [],
   "source": [
    "d3D"
   ]
  },
  {
   "cell_type": "markdown",
   "id": "a423f8af",
   "metadata": {},
   "source": [
    "Programmatically, we can use the attribute `is_empty` or `has_data` to check this"
   ]
  },
  {
   "cell_type": "code",
   "execution_count": null,
   "id": "07bf31a9",
   "metadata": {},
   "outputs": [],
   "source": [
    "d3D.v.has_data, d3D.v.is_empty"
   ]
  },
  {
   "cell_type": "markdown",
   "id": "0003ec3a",
   "metadata": {},
   "source": [
    "An error is raised when a coordinate doesn't exist"
   ]
  },
  {
   "cell_type": "code",
   "execution_count": null,
   "id": "a231b432",
   "metadata": {},
   "outputs": [],
   "source": [
    "try:\n",
    "    d3D.x\n",
    "except Exception as e:\n",
    "    scp.error_(Exception, e)"
   ]
  },
  {
   "cell_type": "markdown",
   "id": "948f3fb3",
   "metadata": {},
   "source": [
    "In some case it can also be useful to get a coordinate from its title instead of its\n",
    "name (the limitation is that if\n",
    "several coordinates have the same title, then only the first ones that is found in\n",
    "the coordinate list, will be\n",
    "returned - this can be ambiguous)"
   ]
  },
  {
   "cell_type": "code",
   "execution_count": null,
   "id": "14babb3c",
   "metadata": {},
   "outputs": [],
   "source": [
    "d3D[\"time\"]"
   ]
  },
  {
   "cell_type": "code",
   "execution_count": null,
   "id": "a716fe39",
   "metadata": {},
   "outputs": [],
   "source": [
    "d3D.time"
   ]
  },
  {
   "cell_type": "markdown",
   "id": "f7e6acda",
   "metadata": {},
   "source": [
    "## Labels"
   ]
  },
  {
   "cell_type": "markdown",
   "id": "c95e180a",
   "metadata": {},
   "source": [
    "It is possible to use labels instead of numerical coordinates. Labels are sequences of\n",
    "objects. The length of the sequence must be equal to the size of the dimension."
   ]
  },
  {
   "cell_type": "code",
   "execution_count": null,
   "id": "c2269b9c",
   "metadata": {},
   "outputs": [],
   "source": [
    "tags = list(\"ab\")\n",
    "d3D.u.title = \"some tags\"\n",
    "d3D.u.labels = tags\n",
    "d3D"
   ]
  },
  {
   "cell_type": "markdown",
   "id": "70ee27cf",
   "metadata": {},
   "source": [
    "or more complex objects.\n",
    "\n",
    "For instance here we use datetime.timedelta objects:"
   ]
  },
  {
   "cell_type": "code",
   "execution_count": null,
   "id": "0b60ea89",
   "metadata": {},
   "outputs": [],
   "source": [
    "from datetime import timedelta\n",
    "\n",
    "start = timedelta(0)\n",
    "times = [start + timedelta(seconds=x * 60) for x in range(6)]\n",
    "d3D.t = None\n",
    "d3D.t.labels = times\n",
    "d3D.t.title = \"time\"\n",
    "d3D"
   ]
  },
  {
   "cell_type": "markdown",
   "id": "fe5d5ff1",
   "metadata": {},
   "source": [
    "In this case, getting a coordinate that doesn't possess numerical data but labels,\n",
    "will return the labels"
   ]
  },
  {
   "cell_type": "code",
   "execution_count": null,
   "id": "39678dd8",
   "metadata": {},
   "outputs": [],
   "source": [
    "d3D.time"
   ]
  },
  {
   "cell_type": "markdown",
   "id": "90eb966a",
   "metadata": {},
   "source": [
    "# More insight on coordinates"
   ]
  },
  {
   "cell_type": "markdown",
   "id": "4f5b3a7e",
   "metadata": {},
   "source": [
    "## Sharing coordinates between dimensions"
   ]
  },
  {
   "cell_type": "markdown",
   "id": "10f7c4b6",
   "metadata": {},
   "source": [
    "Sometimes it is not necessary to have different coordinates for each axis. Some can be\n",
    "shared between axes.\n",
    "\n",
    "For example, if we have a square matrix with the same coordinate in the two\n",
    "dimensions, the second dimension can\n",
    "refer to the first. Here we create a square 2D dataset, using the `diag` method:"
   ]
  },
  {
   "cell_type": "code",
   "execution_count": null,
   "id": "1ba8fc93",
   "metadata": {},
   "outputs": [],
   "source": [
    "nd = NDDataset.diag((3, 3, 2.5))\n",
    "nd"
   ]
  },
  {
   "cell_type": "markdown",
   "id": "ed08f301",
   "metadata": {},
   "source": [
    "and then we add the same coordinate for both dimensions"
   ]
  },
  {
   "cell_type": "code",
   "execution_count": null,
   "id": "043dc5fe",
   "metadata": {},
   "outputs": [],
   "source": [
    "coordx = Coord.arange(3)\n",
    "nd.set_coordset(x=coordx, y=\"x\")\n",
    "nd"
   ]
  },
  {
   "cell_type": "markdown",
   "id": "463ca8a4",
   "metadata": {},
   "source": [
    "## Setting coordinates using `set_coordset`"
   ]
  },
  {
   "cell_type": "markdown",
   "id": "c05d75f9",
   "metadata": {},
   "source": [
    "Let's create 3 `Coord` objects to be used as coordinates for the 3 dimensions of the\n",
    "previous d3D dataset."
   ]
  },
  {
   "cell_type": "code",
   "execution_count": null,
   "id": "73ec0221",
   "metadata": {},
   "outputs": [],
   "source": [
    "d3D.dims = [\"t\", \"v\", \"u\"]\n",
    "s0, s1, s2 = d3D.shape\n",
    "coord0 = Coord.linspace(10.0, 100.0, s0, units=\"m\", title=\"distance\")\n",
    "coord1 = Coord.linspace(20.0, 25.0, s1, units=\"K\", title=\"temperature\")\n",
    "coord2 = Coord.linspace(0.0, 1000.0, s2, units=\"hour\", title=\"elapsed time\")"
   ]
  },
  {
   "cell_type": "markdown",
   "id": "7936e445",
   "metadata": {},
   "source": [
    "### Syntax 1"
   ]
  },
  {
   "cell_type": "code",
   "execution_count": null,
   "id": "48d2c6df",
   "metadata": {},
   "outputs": [],
   "source": [
    "d3D.set_coordset(u=coord2, v=coord1, t=coord0)\n",
    "d3D"
   ]
  },
  {
   "cell_type": "markdown",
   "id": "be1b30fb",
   "metadata": {},
   "source": [
    "### Syntax 2"
   ]
  },
  {
   "cell_type": "code",
   "execution_count": null,
   "id": "d140fc66",
   "metadata": {},
   "outputs": [],
   "source": [
    "d3D.set_coordset({\"u\": coord2, \"v\": coord1, \"t\": coord0})\n",
    "d3D"
   ]
  },
  {
   "cell_type": "markdown",
   "id": "77189d2f",
   "metadata": {},
   "source": [
    "## Adding several coordinates to a single dimension\n",
    "We can add several coordinates to the same dimension"
   ]
  },
  {
   "cell_type": "code",
   "execution_count": null,
   "id": "077222db",
   "metadata": {},
   "outputs": [],
   "source": [
    "coord1b = Coord([1, 2, 3, 4], units=\"millitesla\", title=\"magnetic field\")"
   ]
  },
  {
   "cell_type": "code",
   "execution_count": null,
   "id": "1da3b7bc",
   "metadata": {},
   "outputs": [],
   "source": [
    "d3D.set_coordset(u=coord2, v=[coord1, coord1b], t=coord0)\n",
    "d3D"
   ]
  },
  {
   "cell_type": "markdown",
   "id": "0ea91ec5",
   "metadata": {},
   "source": [
    "We can retrieve the various coordinates for a single dimension easily:"
   ]
  },
  {
   "cell_type": "code",
   "execution_count": null,
   "id": "5ab28135",
   "metadata": {},
   "outputs": [],
   "source": [
    "d3D.v_1"
   ]
  },
  {
   "cell_type": "markdown",
   "id": "4e7f3a7e",
   "metadata": {},
   "source": [
    "## Math operations on coordinates\n",
    "Arithmetic operations can be performed on single coordinates:"
   ]
  },
  {
   "cell_type": "code",
   "execution_count": null,
   "id": "9a6955bf",
   "metadata": {},
   "outputs": [],
   "source": [
    "d3D.u = d3D.u * 2\n",
    "d3D.u"
   ]
  },
  {
   "cell_type": "markdown",
   "id": "d05eec63",
   "metadata": {},
   "source": [
    "The ufunc numpy functions can also be applied, and will affect both the magnitude and\n",
    "the units of the coordinates:"
   ]
  },
  {
   "cell_type": "code",
   "execution_count": null,
   "id": "5722b238",
   "metadata": {},
   "outputs": [],
   "source": [
    "d3D.u = 1.5 + np.sqrt(d3D.u)\n",
    "d3D.u"
   ]
  },
  {
   "cell_type": "markdown",
   "id": "f35c879a",
   "metadata": {},
   "source": [
    "A particularly frequent use case is to subtract the initial value from a coordinate. This can be done\n",
    "directly with the `-` operator:"
   ]
  },
  {
   "cell_type": "code",
   "execution_count": null,
   "id": "12e133e0",
   "metadata": {},
   "outputs": [],
   "source": [
    "d3D.u = d3D.u - d3D.u[0]\n",
    "d3D.u"
   ]
  },
  {
   "cell_type": "markdown",
   "id": "61966247",
   "metadata": {},
   "source": [
    "The operations above will generally *not* work on multiple coordinates, and\n",
    "will raise an error if attempted:"
   ]
  },
  {
   "cell_type": "code",
   "execution_count": null,
   "id": "f90ad5af",
   "metadata": {},
   "outputs": [],
   "source": [
    "try:\n",
    "    d3D.v = d3D.v - 1.5\n",
    "except NotImplementedError as e:\n",
    "    scp.error_(NotImplementedError, e)"
   ]
  },
  {
   "cell_type": "markdown",
   "id": "a2a10873",
   "metadata": {},
   "source": [
    "Only subtraction between multiple coordinates is allowed, and will return a new `CoordSet` where each coordinate\n",
    "has been subtracted:"
   ]
  },
  {
   "cell_type": "code",
   "execution_count": null,
   "id": "1fd170cd",
   "metadata": {},
   "outputs": [],
   "source": [
    "d3D.v = d3D.v - d3D.v[0]\n",
    "d3D.v"
   ]
  },
  {
   "cell_type": "markdown",
   "id": "74104638",
   "metadata": {},
   "source": [
    "It is always possible to carry out operations on a given coordinate\n",
    "of a CoordSet. This must be done by accessing the coordinate by its name, e.g. `'temperature'` or `'_2'` for\n",
    "the second coordinate of the `v` dimension:"
   ]
  },
  {
   "cell_type": "code",
   "execution_count": null,
   "id": "1cfded35",
   "metadata": {},
   "outputs": [],
   "source": [
    "d3D.v[\"_2\"] = d3D.v[\"_2\"] + 5.0\n",
    "d3D.v"
   ]
  },
  {
   "cell_type": "markdown",
   "id": "4a910b89",
   "metadata": {},
   "source": [
    "## Summary of the coordinate setting syntax\n",
    "Some additional information about coordinate setting syntax"
   ]
  },
  {
   "cell_type": "markdown",
   "id": "186c795a",
   "metadata": {},
   "source": [
    "**A.** First syntax (probably the safer because the name of the dimension is\n",
    "specified, so this is less prone to\n",
    "errors!)"
   ]
  },
  {
   "cell_type": "code",
   "execution_count": null,
   "id": "bf558b8a",
   "metadata": {},
   "outputs": [],
   "source": [
    "d3D.set_coordset(u=coord2, v=[coord1, coord1b], t=coord0)\n",
    "# or equivalent\n",
    "d3D.set_coordset(u=coord2, v=CoordSet(coord1, coord1b), t=coord0)\n",
    "d3D"
   ]
  },
  {
   "cell_type": "markdown",
   "id": "0f57b706",
   "metadata": {},
   "source": [
    "**B.** Second syntax assuming the coordinates are given in the order of the\n",
    "dimensions.\n",
    "\n",
    "Remember that we can check this order using the `dims` attribute of a NDDataset"
   ]
  },
  {
   "cell_type": "code",
   "execution_count": null,
   "id": "a0f14d51",
   "metadata": {},
   "outputs": [],
   "source": [
    "d3D.dims"
   ]
  },
  {
   "cell_type": "code",
   "execution_count": null,
   "id": "455c5d5d",
   "metadata": {},
   "outputs": [],
   "source": [
    "d3D.set_coordset((coord0, [coord1, coord1b], coord2))\n",
    "# or equivalent\n",
    "d3D.set_coordset(coord0, CoordSet(coord1, coord1b), coord2)\n",
    "d3D"
   ]
  },
  {
   "cell_type": "markdown",
   "id": "71e72bfa",
   "metadata": {},
   "source": [
    "**C.** Third syntax (from a dictionary)"
   ]
  },
  {
   "cell_type": "code",
   "execution_count": null,
   "id": "f16f6985",
   "metadata": {},
   "outputs": [],
   "source": [
    "d3D.set_coordset({\"t\": coord0, \"u\": coord2, \"v\": [coord1, coord1b]})\n",
    "d3D"
   ]
  },
  {
   "cell_type": "markdown",
   "id": "90926715",
   "metadata": {},
   "source": [
    "**D.** It is also possible to use directly the `CoordSet` property"
   ]
  },
  {
   "cell_type": "code",
   "execution_count": null,
   "id": "53696632",
   "metadata": {},
   "outputs": [],
   "source": [
    "d3D.coordset = coord0, [coord1, coord1b], coord2\n",
    "d3D"
   ]
  },
  {
   "cell_type": "code",
   "execution_count": null,
   "id": "9706c0c8",
   "metadata": {},
   "outputs": [],
   "source": [
    "d3D.coordset = {\"t\": coord0, \"u\": coord2, \"v\": [coord1, coord1b]}\n",
    "d3D"
   ]
  },
  {
   "cell_type": "code",
   "execution_count": null,
   "id": "8d6ecfe8",
   "metadata": {},
   "outputs": [],
   "source": [
    "d3D.coordset = CoordSet(t=coord0, u=coord2, v=[coord1, coord1b])\n",
    "d3D"
   ]
  },
  {
   "cell_type": "markdown",
   "id": "bff4dd5a",
   "metadata": {},
   "source": [
    "<div class='alert alert-warning'>\n",
    "<b>WARNING</b>\n",
    "<p>\n",
    "Do not use lists for setting multiple coordinates across different dimensions! Use tuples instead.\n",
    "</p>\n",
    "<p>\n",
    "Lists have a special meaning in SpectroChemPy - they're used to set multiple coordinates for the same dimension.\n",
    "</p>\n",
    "</div>"
   ]
  },
  {
   "cell_type": "markdown",
   "id": "9618e0b1",
   "metadata": {},
   "source": [
    "This raises an error (lists have another meaning: they're used to set multiple coordinates\n",
    "for the same dimension, as shown in examples A and B above):"
   ]
  },
  {
   "cell_type": "code",
   "execution_count": null,
   "id": "b605772d",
   "metadata": {},
   "outputs": [],
   "source": [
    "try:\n",
    "    d3D.coordset = [coord0, coord1, coord2]\n",
    "except ValueError:\n",
    "    scp.error_(\n",
    "        ValueError,\n",
    "        \"Coordinates must be of the same size for a dimension with multiple coordinates\",\n",
    "    )"
   ]
  },
  {
   "cell_type": "markdown",
   "id": "1d566953",
   "metadata": {},
   "source": [
    "This works: it uses a tuple `()`, not a list `[]`"
   ]
  },
  {
   "cell_type": "code",
   "execution_count": null,
   "id": "869a43be",
   "metadata": {},
   "outputs": [],
   "source": [
    "d3D.coordset = (\n",
    "    coord0,\n",
    "    coord1,\n",
    "    coord2,\n",
    ")  # equivalent to d3D.coordset = coord0, coord1, coord2\n",
    "d3D"
   ]
  },
  {
   "cell_type": "markdown",
   "id": "72d12e5d",
   "metadata": {},
   "source": [
    "**E.** Setting the coordinates individually"
   ]
  },
  {
   "cell_type": "markdown",
   "id": "b636a519",
   "metadata": {},
   "source": [
    "Either a single coordinate"
   ]
  },
  {
   "cell_type": "code",
   "execution_count": null,
   "id": "1df99614",
   "metadata": {
    "lines_to_next_cell": 0
   },
   "outputs": [],
   "source": [
    "d3D.u = coord2\n",
    "d3D"
   ]
  },
  {
   "cell_type": "markdown",
   "id": "9ef90b98",
   "metadata": {},
   "source": [
    "or multiple coordinates for a single dimension"
   ]
  },
  {
   "cell_type": "code",
   "execution_count": null,
   "id": "cb008e91",
   "metadata": {
    "lines_to_next_cell": 0
   },
   "outputs": [],
   "source": [
    "d3D.v = [coord1, coord1b]\n",
    "d3D"
   ]
  },
  {
   "cell_type": "markdown",
   "id": "bf0dad14",
   "metadata": {},
   "source": [
    "or using a CoordSet object."
   ]
  },
  {
   "cell_type": "code",
   "execution_count": null,
   "id": "bcc1fa14",
   "metadata": {},
   "outputs": [],
   "source": [
    "d3D.v = CoordSet(coord1, coord1b)\n",
    "d3D"
   ]
  },
  {
   "cell_type": "markdown",
   "id": "6ecdf584",
   "metadata": {},
   "source": [
    "# Methods to create NDDataset\n",
    "\n",
    "There are many ways to create `NDDataset` objects.\n",
    "\n",
    "Let's first create 2 coordinate objects, for which we can define `labels` and `units`.\n",
    "Note the use of the function `linspace` to generate the data."
   ]
  },
  {
   "cell_type": "code",
   "execution_count": null,
   "id": "7d8fbe7b",
   "metadata": {},
   "outputs": [],
   "source": [
    "c0 = Coord.linspace(\n",
    "    start=4000.0, stop=1000.0, num=5, labels=None, units=\"cm^-1\", title=\"wavenumber\"\n",
    ")"
   ]
  },
  {
   "cell_type": "code",
   "execution_count": null,
   "id": "c88ab8fb",
   "metadata": {},
   "outputs": [],
   "source": [
    "c1 = Coord.linspace(\n",
    "    10.0, 40.0, 3, labels=[\"Cold\", \"RT\", \"Hot\"], units=\"K\", title=\"temperature\"\n",
    ")"
   ]
  },
  {
   "cell_type": "markdown",
   "id": "4a55d390",
   "metadata": {},
   "source": [
    "The full coordset will be the following"
   ]
  },
  {
   "cell_type": "code",
   "execution_count": null,
   "id": "3b6cb27b",
   "metadata": {
    "lines_to_next_cell": 2
   },
   "outputs": [],
   "source": [
    "cs = CoordSet(c0, c1)\n",
    "cs"
   ]
  },
  {
   "cell_type": "markdown",
   "id": "230a876b",
   "metadata": {},
   "source": [
    "Now we will generate the full dataset using the `fromfunction` method.\n",
    "All needed information is passed as\n",
    "parameters to the NDDataset constructor."
   ]
  },
  {
   "cell_type": "markdown",
   "id": "dd3d789a",
   "metadata": {
    "lines_to_next_cell": 2
   },
   "source": [
    "## Create a dataset from a function"
   ]
  },
  {
   "cell_type": "code",
   "execution_count": null,
   "id": "87151205",
   "metadata": {},
   "outputs": [],
   "source": [
    "def func(x, y, extra):\n",
    "    return x * y / extra"
   ]
  },
  {
   "cell_type": "code",
   "execution_count": null,
   "id": "62f7493f",
   "metadata": {},
   "outputs": [],
   "source": [
    "ds = NDDataset.fromfunction(\n",
    "    func,\n",
    "    extra=100 * ur.cm**-1,  # extra arguments passed to the function\n",
    "    coordset=cs,\n",
    "    name=\"mydataset\",\n",
    "    title=\"absorbance\",\n",
    "    units=None,\n",
    ")  # when None, units will be determined from the function results\n",
    "\n",
    "ds.description = \"\"\"Dataset example created for this tutorial.\n",
    "It's a 2-D dataset\"\"\"\n",
    "\n",
    "ds.author = \"Blake & Mortimer\"\n",
    "ds"
   ]
  },
  {
   "cell_type": "markdown",
   "id": "a562c77e",
   "metadata": {},
   "source": [
    "## Using numpy-like constructors of NDDatasets"
   ]
  },
  {
   "cell_type": "code",
   "execution_count": null,
   "id": "f84a751b",
   "metadata": {},
   "outputs": [],
   "source": [
    "dz = NDDataset.zeros(\n",
    "    (5, 3), coordset=cs, units=\"meters\", title=\"Datasets with only zeros\"\n",
    ")"
   ]
  },
  {
   "cell_type": "code",
   "execution_count": null,
   "id": "6b4adfca",
   "metadata": {},
   "outputs": [],
   "source": [
    "do = NDDataset.ones(\n",
    "    (5, 3), coordset=cs, units=\"kilograms\", title=\"Datasets with only ones\"\n",
    ")"
   ]
  },
  {
   "cell_type": "code",
   "execution_count": null,
   "id": "ea95112f",
   "metadata": {},
   "outputs": [],
   "source": [
    "df = NDDataset.full(\n",
    "    (5, 3), fill_value=1.25, coordset=cs, units=\"radians\", title=\"with only float=1.25\"\n",
    ")\n",
    "df"
   ]
  },
  {
   "cell_type": "markdown",
   "id": "90b0dcbf",
   "metadata": {},
   "source": [
    "As with numpy, it is also possible to take another dataset as a template:"
   ]
  },
  {
   "cell_type": "code",
   "execution_count": null,
   "id": "f53e8936",
   "metadata": {},
   "outputs": [],
   "source": [
    "df = NDDataset.full_like(d3D, dtype=\"int\", fill_value=2)\n",
    "df"
   ]
  },
  {
   "cell_type": "code",
   "execution_count": null,
   "id": "9568f196",
   "metadata": {},
   "outputs": [],
   "source": [
    "nd = NDDataset.diag((3, 3, 2.5))\n",
    "nd"
   ]
  },
  {
   "cell_type": "markdown",
   "id": "764d0d9d",
   "metadata": {},
   "source": [
    "## Copying existing NDDataset\n",
    "\n",
    "To copy an existing dataset, this is as simple as:"
   ]
  },
  {
   "cell_type": "code",
   "execution_count": null,
   "id": "f8f46e68",
   "metadata": {},
   "outputs": [],
   "source": [
    "d3D_copy = d3D.copy()"
   ]
  },
  {
   "cell_type": "markdown",
   "id": "2822ee43",
   "metadata": {},
   "source": [
    "or alternatively:"
   ]
  },
  {
   "cell_type": "code",
   "execution_count": null,
   "id": "817c2f09",
   "metadata": {},
   "outputs": [],
   "source": [
    "d3D_copy = d3D[:]"
   ]
  },
  {
   "cell_type": "markdown",
   "id": "09f0d61f",
   "metadata": {},
   "source": [
    "Finally, it is also possible to initialize a dataset using an existing one:"
   ]
  },
  {
   "cell_type": "code",
   "execution_count": null,
   "id": "554bc443",
   "metadata": {},
   "outputs": [],
   "source": [
    "d3Dduplicate = NDDataset(d3D, name=f\"duplicate of {d3D.name}\", units=\"absorbance\")\n",
    "d3Dduplicate"
   ]
  },
  {
   "cell_type": "markdown",
   "id": "8eeb1cca",
   "metadata": {},
   "source": [
    "## Importing from external datasets\n",
    "\n",
    "NDDatasets can be created from the importation of external data.\n",
    "\n",
    "A **test** data folder contains some sample data for experimenting with features of\n",
    "datasets."
   ]
  },
  {
   "cell_type": "code",
   "execution_count": null,
   "id": "03f6253a",
   "metadata": {},
   "outputs": [],
   "source": [
    "# let check if this directory exists and display its actual content:\n",
    "datadir = scp.preferences.datadir\n",
    "if datadir.exists():\n",
    "    print(datadir.name)"
   ]
  },
  {
   "cell_type": "markdown",
   "id": "40728d92",
   "metadata": {},
   "source": [
    "Let's load grouped IR spectra acquired using OMNIC:"
   ]
  },
  {
   "cell_type": "code",
   "execution_count": null,
   "id": "7d597386",
   "metadata": {},
   "outputs": [],
   "source": [
    "nd = scp.read_omnic(datadir / \"irdata/nh4y-activation.spg\")\n",
    "scp.preferences.reset()\n",
    "nd.plot()"
   ]
  },
  {
   "cell_type": "markdown",
   "id": "77b0c794",
   "metadata": {},
   "source": [
    "Even if we do not specify the **datadir**, the application first looks in the\n",
    "default directory."
   ]
  },
  {
   "cell_type": "markdown",
   "id": "ef3f3213",
   "metadata": {},
   "source": [
    "Now, lets load a NMR dataset (in the Bruker format)."
   ]
  },
  {
   "cell_type": "code",
   "execution_count": null,
   "id": "2ab61d8a",
   "metadata": {},
   "outputs": [],
   "source": [
    "path = datadir / \"nmrdata\" / \"bruker\" / \"tests\" / \"nmr\" / \"topspin_2d\"\n",
    "\n",
    "# load the data directly (no need to create the dataset first)\n",
    "nd2 = scp.read_topspin(path, expno=1, remove_digital_filter=True)\n",
    "\n",
    "# view it...\n",
    "nd2.x.to(\"s\")\n",
    "nd2.y.to(\"ms\")\n",
    "\n",
    "ax = nd2.plot(method=\"map\")"
   ]
  }
 ],
 "metadata": {
  "jupytext": {
   "formats": "ipynb,py:percent",
   "notebook_metadata_filter": "all"
  },
  "kernelspec": {
   "display_name": "Python 3 (ipykernel)",
   "language": "python",
   "name": "python3"
  },
  "language_info": {
   "codemirror_mode": {
    "name": "ipython",
    "version": 3
   },
   "file_extension": ".py",
   "mimetype": "text/x-python",
   "name": "python",
   "nbconvert_exporter": "python",
   "pygments_lexer": "ipython3",
   "version": "3.13.2"
  },
  "widgets": {
   "application/vnd.jupyter.widget-state+json": {
    "state": {},
    "version_major": 2,
    "version_minor": 0
   }
  }
 },
 "nbformat": 4,
 "nbformat_minor": 5
}
