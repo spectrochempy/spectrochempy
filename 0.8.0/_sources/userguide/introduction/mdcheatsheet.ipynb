{
 "cells": [
  {
   "cell_type": "markdown",
   "id": "f9aaaacb",
   "metadata": {},
   "source": [
    "# Markdown Cheat Sheet"
   ]
  },
  {
   "cell_type": "markdown",
   "id": "df4c988d",
   "metadata": {},
   "source": [
    "Copied and adapted\n",
    "from __[this guide](https://www.ibm.com/support/knowledgecenter/en/SSGNPV_2.0.0/dsx/markd-jupyter.html)__!\n",
    "\n",
    "This Markdown cheat sheet provides a quick overview of all the Markdown syntax elements to format Markdown cells in\n",
    "Jupyter notebooks."
   ]
  },
  {
   "cell_type": "markdown",
   "id": "3fea0446",
   "metadata": {},
   "source": [
    "## Headings"
   ]
  },
  {
   "cell_type": "markdown",
   "id": "4355946b",
   "metadata": {},
   "source": [
    "Use the number sign (#) followed by a blank space for notebook titles and section headings, e.g.:\n",
    "```md\n",
    "# for titles\n",
    "## for major headings\n",
    "### for subheadings\n",
    "#### for 4th level subheading\n",
    "```"
   ]
  },
  {
   "cell_type": "markdown",
   "id": "ad7f5170",
   "metadata": {},
   "source": [
    "## Emphasis"
   ]
  },
  {
   "cell_type": "markdown",
   "id": "198bc923",
   "metadata": {},
   "source": [
    "Use the surrounding _ or * to emphasize text, e.g.:\n",
    "```\n",
    "Bold text: `__string___ or **string**`\n",
    "Italic text:  `_string_ or *string`\n",
    "```"
   ]
  },
  {
   "cell_type": "markdown",
   "id": "76d7cec8",
   "metadata": {},
   "source": [
    "## Mathematical symbols"
   ]
  },
  {
   "cell_type": "markdown",
   "id": "697c2660",
   "metadata": {},
   "source": [
    "Surround mathematical symbols with a dollar sign (\\$), for example:\n",
    "```\n",
    "$ \\lambda = \\sqrt{2*\\pi} $\n",
    "```\n",
    "gives $ \\lambda = \\sqrt{2*\\pi} $"
   ]
  },
  {
   "cell_type": "markdown",
   "id": "7881842e",
   "metadata": {},
   "source": [
    "## Monospace font"
   ]
  },
  {
   "cell_type": "markdown",
   "id": "8a269ebc",
   "metadata": {},
   "source": [
    "Surround text with a grave accent (\\` ) also called a back single quotation mark, for example:\n",
    "```\n",
    "`string`\n",
    "```\n",
    "You can use the monospace font for `file paths` , `file names` ,`message text` ..."
   ]
  },
  {
   "cell_type": "markdown",
   "id": "b6b10cf9",
   "metadata": {},
   "source": [
    "## Line breaks"
   ]
  },
  {
   "cell_type": "markdown",
   "id": "b85a6106",
   "metadata": {},
   "source": [
    "Sometimes markdown does not make line breaks when you want them. To force a linebreak, use the following code: `<br>`"
   ]
  },
  {
   "cell_type": "markdown",
   "id": "8130b381",
   "metadata": {},
   "source": [
    "## Indenting"
   ]
  },
  {
   "cell_type": "markdown",
   "id": "fd2b35d4",
   "metadata": {},
   "source": [
    "Use the greater than sign (>) followed by a space, for example:\n",
    "```\n",
    "> Text that will be indented when the Markdown is rendered.\n",
    "Any subsequent text is indented until the next carriage return.\n",
    "```"
   ]
  },
  {
   "cell_type": "markdown",
   "id": "e36f6388",
   "metadata": {},
   "source": [
    "## Bullets"
   ]
  },
  {
   "cell_type": "markdown",
   "id": "70d68a37",
   "metadata": {},
   "source": [
    "To create a circular bullet point, use one of the following methods. Each bullet point must be on its own line.\n",
    "\n",
    "-  A hyphen (-) followed by one or two spaces, for example:\n",
    "\n",
    "```\n",
    "- Bulleted item\n",
    "```\n",
    "\n",
    " - A space, a hyphen (-) and a space, for example:\n",
    "\n",
    "```\n",
    " - Bulleted item\n",
    "```\n",
    "\n",
    "* An asterisk (*) followed by one or two spaces, for example:\n",
    "\n",
    "```\n",
    "* Bulleted item\n",
    "```\n",
    "\n",
    "To create a sub bullet, press Tab before entering the bullet point using one of the methods described above. For\n",
    "example:\n",
    "\n",
    "```\n",
    "- Main bullet point\n",
    "     - Sub bullet point\n",
    "```"
   ]
  },
  {
   "cell_type": "markdown",
   "id": "ce360e23",
   "metadata": {},
   "source": [
    "## Numbered lists"
   ]
  },
  {
   "cell_type": "markdown",
   "id": "1dde776b",
   "metadata": {},
   "source": [
    "To create a numbered list, enter 1. followed by a space, for example:\n",
    "```\n",
    "1. Numbered item\n",
    "1. Numbered item\n",
    "```\n",
    "For simplicity, you use 1. before each entry. The list will be numbered correctly when you run the cell.\n",
    "\n",
    "To create a substep, press Tab before entering the numbered item, for example:\n",
    "```\n",
    "1. Numbered item\n",
    "     1. Substep\n",
    "```"
   ]
  },
  {
   "cell_type": "markdown",
   "id": "ea756f17",
   "metadata": {},
   "source": [
    "## Colored note boxes"
   ]
  },
  {
   "cell_type": "markdown",
   "id": "dad6e539",
   "metadata": {},
   "source": [
    "Use one of the following <div> tags to display text in a colored box.\n",
    "\n",
    "**Restriction**:\n",
    "Not all Markdown code displays correctly within <div> tags, so review your colored boxes carefully.\n",
    "For example, to make a word bold, surround it with the HTML code for bold\n",
    "(`<b>text</b>` -> <b>text</b>) instead of the Markdown code.\n",
    "\n",
    "The color of the box is determined by the alert type that you specify:\n",
    "\n",
    "* Blue boxes (alert-info)\n",
    "* Yellow boxes (alert-warning)\n",
    "* Green boxes (alert-success)\n",
    "* Red boxes (alert-danger)\n",
    "\n",
    "```\n",
    "<div class=\"alert alert-block alert-info\">\n",
    "<b>Tip:</b>  For example use blue boxes to highlight a tip.\n",
    "If it’s a note, you don’t have to include the word “Note”.\n",
    "</div>\n",
    "```\n",
    "\n",
    "<div class=\"alert alert-block alert-info\">\n",
    "<b>Tip:</b> For example use blue boxes to highlight a tip.\n",
    "If it’s a note, you don’t have to include the word “Note”.\n",
    "</div>"
   ]
  },
  {
   "cell_type": "markdown",
   "id": "5ca64fc2",
   "metadata": {},
   "source": [
    "## Graphics"
   ]
  },
  {
   "cell_type": "markdown",
   "id": "0cdb82b6",
   "metadata": {},
   "source": [
    "You can attach image files directly to a notebook in Markdown cells by dragging and dropping it into the cell.\n",
    "To add images to other types of cells, you must use a graphic that is hosted on the web and use the following code\n",
    "to insert the graphic:\n",
    "```\n",
    "<img src=\"url.gif\" alt=\"Alt text that describes the graphic\" title=\"Title text\" />\n",
    "\n",
    "```\n",
    "<img src=\"images/scpy.png\" alt=\"Alt text that describes the graphic\" width=100 title=\"Title text\" />\n",
    "\n",
    "**Restriction**\n",
    "You cannot add captions to graphics."
   ]
  },
  {
   "cell_type": "markdown",
   "id": "b1cd7603",
   "metadata": {},
   "source": [
    "## Geometric shapes\n",
    "Use &# followed by the decimal or hex reference number for the shape, for example:\n",
    "```\n",
    "&#reference_number;\n",
    "```\n",
    "e.g., `&#9664;`: &#9664;\n",
    "\n",
    "For a list of reference numbers, see __[UTF-8 Geometric shapes](https://en.wikipedia.org/wiki/Geometric_Shapes)__."
   ]
  },
  {
   "cell_type": "markdown",
   "id": "12df4f2c",
   "metadata": {},
   "source": [
    "## Horizontal lines\n",
    "On a new line, enter three asterisks: `***`\n",
    "***"
   ]
  },
  {
   "cell_type": "markdown",
   "id": "57572e2a",
   "metadata": {},
   "source": [
    "## Internal links\n",
    "To link to a section within your notebook, use the following code:\n",
    "```\n",
    "[Section title](#section-title)\n",
    "```\n",
    "\n",
    "For the text inside the parentheses, replace any spaces and special characters with a hyphen. For example,\n",
    "if your section is called `Processing functions` , you'd enter:\n",
    "```\n",
    "[processing functions](#processing-functions)\n",
    "```\n",
    "[processing functions](#processing-functions)"
   ]
  },
  {
   "cell_type": "markdown",
   "id": "169c47f8",
   "metadata": {},
   "source": [
    "## Processing functions\n",
    "This is the section that the internal link points to."
   ]
  },
  {
   "cell_type": "markdown",
   "id": "95cef1b4",
   "metadata": {},
   "source": [
    "Now you can link to the section using:\n",
    "```\n",
    "[processing functions](#processing-functions)\n",
    "```\n",
    "[processing functions](#processing-functions)"
   ]
  },
  {
   "cell_type": "markdown",
   "id": "cf31f660",
   "metadata": {},
   "source": [
    "## External links"
   ]
  },
  {
   "cell_type": "markdown",
   "id": "696c3a92",
   "metadata": {},
   "source": [
    "To link to an external site, use the following code:\n",
    "```\n",
    " __[link text](https://github.com/spectrochempy/spectrochempy)__\n",
    "```\n",
    "Surround the link with two underscores (_) on each side\n",
    "__[link text](https://github.com/spectrochempy/spectrochempy)__"
   ]
  }
 ],
 "metadata": {
  "jupytext": {
   "cell_metadata_filter": "all",
   "formats": "ipynb,py:percent",
   "notebook_metadata_filter": "all"
  },
  "kernelspec": {
   "display_name": "Python 3 (ipykernel)",
   "language": "python",
   "name": "python3"
  },
  "language_info": {
   "codemirror_mode": {
    "name": "ipython",
    "version": 3
   },
   "file_extension": ".py",
   "mimetype": "text/x-python",
   "name": "python",
   "nbconvert_exporter": "python",
   "pygments_lexer": "ipython3"
  },
  "nbsphinx": {
   "orphan": true
  }
 },
 "nbformat": 4,
 "nbformat_minor": 5
}
