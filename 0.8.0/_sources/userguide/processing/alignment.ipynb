{
 "cells": [
  {
   "cell_type": "markdown",
   "id": "b39660fc",
   "metadata": {},
   "source": [
    "# Alignment of datasets"
   ]
  },
  {
   "cell_type": "code",
   "execution_count": null,
   "id": "6ae34536",
   "metadata": {},
   "outputs": [],
   "source": [
    "import spectrochempy as scp"
   ]
  },
  {
   "cell_type": "markdown",
   "id": "75544718",
   "metadata": {},
   "source": [
    "## Example"
   ]
  },
  {
   "cell_type": "markdown",
   "id": "be63c1f0",
   "metadata": {},
   "source": [
    "To allow some mathematical operations or dataset processing, it is often necessary that the datasets are aligned,\n",
    "*i.e.,* that they have compatible coordinate for the dimensions.\n",
    "\n",
    "For sake of demonstration, let's take an experimental dataset that will be arbitrary split into four unaligned\n",
    "datasets. Then will realign them and apply some binary mathematical operation such as addition or subtraction that\n",
    "required aligned coordinates."
   ]
  },
  {
   "cell_type": "code",
   "execution_count": null,
   "id": "356755f0",
   "metadata": {},
   "outputs": [],
   "source": [
    "dataset = scp.read_omnic(\"irdata/nh4y-activation.spg\")\n",
    "dataset.y = dataset.y - dataset.y[0]  # remove offset in the time\n",
    "dataset.y.title = \"time\"\n",
    "prefs = scp.preferences\n",
    "prefs.reset()\n",
    "prefs.figure.figsize = (7, 3)\n",
    "prefs.figure.dpi = 100\n",
    "dataset.plot_map(colormap=\"viridis\", colorbar=True)\n",
    "print(\"shape:\", dataset.shape)"
   ]
  },
  {
   "cell_type": "code",
   "execution_count": null,
   "id": "fba5207a",
   "metadata": {},
   "outputs": [],
   "source": [
    "nd1 = dataset[0:30, 0:4000]\n",
    "nd2 = dataset[0:30, 2000:5549]\n",
    "nd3 = dataset[10:55, 0:4000]\n",
    "nd4 = dataset[10:55, 2000:5549]\n",
    "_ = scp.multiplot_map(\n",
    "    datasets=[nd1, nd2, nd3, nd4],\n",
    "    colormap=\"viridis\",\n",
    "    nrow=2,\n",
    "    ncol=2,\n",
    "    sharex=True,\n",
    "    sharey=True,\n",
    "    dpi=100,\n",
    ")"
   ]
  },
  {
   "cell_type": "markdown",
   "id": "5025f0f0",
   "metadata": {},
   "source": [
    "The four datasets `nd1` to `nd4` have some overlapping in both dimensions. But if we want for example to add `nd2`\n",
    "with `nd4` . This will fail because the dimension are not aligned."
   ]
  },
  {
   "cell_type": "code",
   "execution_count": null,
   "id": "6aeb20d5",
   "metadata": {},
   "outputs": [],
   "source": [
    "try:\n",
    "    nd2 + nd4\n",
    "except Exception as e:\n",
    "    scp.error_(Exception, str(e) + \" Cannot add unaligned datasets.\")"
   ]
  },
  {
   "cell_type": "markdown",
   "id": "270ee9b6",
   "metadata": {},
   "source": [
    "Let try to align them, in the `y` dimension (*i.e.* the first) as this the one which differ in size.\n",
    "(NOTE: to find the actual names of the dimensions, just get the `dims` attribute of the datasets)."
   ]
  },
  {
   "cell_type": "code",
   "execution_count": null,
   "id": "a770ff36",
   "metadata": {},
   "outputs": [],
   "source": [
    "nd2.dims, nd4.dims"
   ]
  },
  {
   "cell_type": "markdown",
   "id": "2a846d20",
   "metadata": {},
   "source": [
    "To align we can use different methods, depending on the expected results (missing values in the aligned datasets\n",
    "will be masked)"
   ]
  },
  {
   "cell_type": "code",
   "execution_count": null,
   "id": "2fb99508",
   "metadata": {},
   "outputs": [],
   "source": [
    "# `outer` method => union of the coordinates\n",
    "nd2a, nd4a = scp.align(nd2, nd4, dim=\"y\", method=\"outer\")"
   ]
  },
  {
   "cell_type": "markdown",
   "id": "c9267941",
   "metadata": {},
   "source": [
    "Now we can perform an addition without any problem"
   ]
  },
  {
   "cell_type": "code",
   "execution_count": null,
   "id": "cbf474fe",
   "metadata": {},
   "outputs": [],
   "source": [
    "ndadd = nd2a + nd4a\n",
    "ndadd.shape"
   ]
  },
  {
   "cell_type": "markdown",
   "id": "a9483d63",
   "metadata": {},
   "source": [
    "Let's plot both individual aligned arrays, and their sum. Note, that only the common region appears in the result\n",
    "array, as the mathematical operation are aware of the masks."
   ]
  },
  {
   "cell_type": "code",
   "execution_count": null,
   "id": "62b6dacf",
   "metadata": {},
   "outputs": [],
   "source": [
    "_ = scp.multiplot_map(\n",
    "    datasets=[nd2a, nd4a, ndadd],\n",
    "    colormap=\"viridis\",\n",
    "    sharey=True,\n",
    "    nrow=1,\n",
    "    ncol=3,\n",
    "    figsize=(8, 3),\n",
    "    dpi=100,\n",
    ")"
   ]
  },
  {
   "cell_type": "markdown",
   "id": "c8cc76bb",
   "metadata": {},
   "source": [
    "Now, assume we want to align in the other dimension, or both"
   ]
  },
  {
   "cell_type": "code",
   "execution_count": null,
   "id": "c07b2a30",
   "metadata": {},
   "outputs": [],
   "source": [
    "try:\n",
    "    nd1 + nd2\n",
    "except Exception as e:\n",
    "    scp.error_(Exception, str(e) + \" Cannot add unaligned datasets.\")"
   ]
  },
  {
   "cell_type": "code",
   "execution_count": null,
   "id": "5213bdf1",
   "metadata": {},
   "outputs": [],
   "source": [
    "nd1a, nd2a = scp.align(nd1, nd2, dim=\"x\", method=\"outer\")\n",
    "ndadd = nd1a + nd2a\n",
    "_ = scp.multiplot_map(\n",
    "    datasets=[nd1a, nd2a, ndadd],\n",
    "    colormap=\"viridis\",\n",
    "    sharey=True,\n",
    "    nrow=1,\n",
    "    ncol=3,\n",
    "    figsize=(8, 3),\n",
    "    dpi=100,\n",
    ")\n",
    "ndadd.shape"
   ]
  },
  {
   "cell_type": "markdown",
   "id": "8b1247c7",
   "metadata": {},
   "source": [
    "## Methods for alignments\n",
    "Method for alignments are:\n",
    "\n",
    "* **outer** which means that a union of the different coordinates is achieved (missing values are masked)\n",
    "* **inner** which means that the intersection of the coordinates is used\n",
    "* **first** which means that the first dataset is used as reference\n",
    "* **last** which means that the last dataset is used as reference\n",
    "* **interpolate** means that interpolation is performed to handle missing points whenever it is possible (Not yet\n",
    "implemented)"
   ]
  },
  {
   "cell_type": "markdown",
   "id": "a4abd098",
   "metadata": {
    "lines_to_next_cell": 2
   },
   "source": [
    "### `inner` method"
   ]
  },
  {
   "cell_type": "code",
   "execution_count": null,
   "id": "c3cfa0a6",
   "metadata": {},
   "outputs": [],
   "source": [
    "# `inner` method => intersection of the coordinates\n",
    "nd2a, nd4a = scp.align(nd2, nd4, dim=\"y\", method=\"inner\")\n",
    "ndadd = nd2a + nd4a\n",
    "ndadd.shape  # note the difference with the outer method above (the shape correspond to the intersection)"
   ]
  },
  {
   "cell_type": "code",
   "execution_count": null,
   "id": "7eedcc6a",
   "metadata": {},
   "outputs": [],
   "source": [
    "_ = scp.multiplot_map(\n",
    "    datasets=[nd2a, nd4a, ndadd],\n",
    "    colormap=\"viridis\",\n",
    "    sharey=True,\n",
    "    nrow=1,\n",
    "    ncol=3,\n",
    "    figsize=(8, 3),\n",
    "    dpi=100,\n",
    ")"
   ]
  },
  {
   "cell_type": "markdown",
   "id": "2f6c4d07",
   "metadata": {},
   "source": [
    "### `first` method"
   ]
  },
  {
   "cell_type": "code",
   "execution_count": null,
   "id": "e52b4070",
   "metadata": {},
   "outputs": [],
   "source": [
    "# `inner` method => align on the first dataset\n",
    "nd2a, nd4a = scp.align(nd2, nd4, dim=\"y\", method=\"first\")\n",
    "ndadd = nd2a + nd4a\n",
    "ndadd.shape  # note the difference with the outer method above"
   ]
  },
  {
   "cell_type": "code",
   "execution_count": null,
   "id": "937c1c70",
   "metadata": {},
   "outputs": [],
   "source": [
    "_ = scp.multiplot_map(\n",
    "    datasets=[nd2a, nd4a, ndadd],\n",
    "    colormap=\"viridis\",\n",
    "    sharey=True,\n",
    "    nrow=1,\n",
    "    ncol=3,\n",
    "    figsize=(8, 3),\n",
    "    dpi=100,\n",
    ")"
   ]
  },
  {
   "cell_type": "markdown",
   "id": "0204c682",
   "metadata": {},
   "source": [
    "### `last` method"
   ]
  },
  {
   "cell_type": "code",
   "execution_count": null,
   "id": "069e9299",
   "metadata": {},
   "outputs": [],
   "source": [
    "# `last` method => align on the last dataset\n",
    "nd2a, nd4a = scp.align(nd2, nd4, dim=\"y\", method=\"last\")\n",
    "ndadd = nd2a + nd4a\n",
    "ndadd.shape  # note the difference with the outer method above"
   ]
  },
  {
   "cell_type": "code",
   "execution_count": null,
   "id": "ec3fa66e",
   "metadata": {},
   "outputs": [],
   "source": [
    "_ = scp.multiplot_map(\n",
    "    datasets=[nd2a, nd4a, ndadd],\n",
    "    colormap=\"viridis\",\n",
    "    sharey=True,\n",
    "    nrow=1,\n",
    "    ncol=3,\n",
    "    figsize=(8, 3),\n",
    "    dpi=100,\n",
    ")"
   ]
  },
  {
   "cell_type": "markdown",
   "id": "545baa4f",
   "metadata": {},
   "source": [
    "## Alignment along several dimensions"
   ]
  },
  {
   "cell_type": "code",
   "execution_count": null,
   "id": "b01b32d5",
   "metadata": {},
   "outputs": [],
   "source": [
    "nd1a, nd4a = scp.align(nd1, nd4, dims=[\"y\", \"x\"])  # by default the outer method is used\n",
    "ndadd = nd1a + nd4a\n",
    "# Comparison of the result array with the original (only the common region is visible, due to the masks)\n",
    "_ = scp.multiplot_map(\n",
    "    datasets=[nd1a, nd4a, ndadd],\n",
    "    colormap=\"viridis\",\n",
    "    sharex=0,\n",
    "    sharey=True,\n",
    "    nrow=1,\n",
    "    ncol=3,\n",
    "    figsize=(8, 3),\n",
    "    dpi=100,\n",
    ")\n",
    "nd1a.shape, nd4a.shape, ndadd.shape"
   ]
  },
  {
   "cell_type": "code",
   "execution_count": null,
   "id": "f8c68750",
   "metadata": {},
   "outputs": [],
   "source": [
    "nd1a, nd4a = scp.align(\n",
    "    nd1, nd4, dims=[\"y\", \"x\"], method=\"inner\"\n",
    ")  # by default the outer method is used\n",
    "ndadd = nd1a + nd4a\n",
    "# Comparison of the result array with the original (only the common region is visible, due to the masks)\n",
    "_ = scp.multiplot_map(\n",
    "    datasets=[nd1a, nd4a, ndadd],\n",
    "    colormap=\"viridis\",\n",
    "    sharex=0,\n",
    "    sharey=True,\n",
    "    nrow=1,\n",
    "    ncol=3,\n",
    "    figsize=(8, 3),\n",
    "    dpi=100,\n",
    ")"
   ]
  },
  {
   "cell_type": "code",
   "execution_count": null,
   "id": "7134b1cb",
   "metadata": {},
   "outputs": [],
   "source": [
    "nd1a, nd4a = scp.align(\n",
    "    nd1, nd4, dims=[\"y\", \"x\"], method=\"first\"\n",
    ")  # by default the outer method is used\n",
    "ndadd = nd1a + nd4a\n",
    "# Comparison of the result array with the original (only the common region is visible, due to the masks)\n",
    "_ = scp.multiplot_map(\n",
    "    datasets=[nd1a, nd4a, ndadd],\n",
    "    colormap=\"viridis\",\n",
    "    sharex=0,\n",
    "    sharey=True,\n",
    "    nrow=1,\n",
    "    ncol=3,\n",
    "    figsize=(8, 3),\n",
    "    dpi=100,\n",
    ")"
   ]
  },
  {
   "cell_type": "code",
   "execution_count": null,
   "id": "ca9dfe78",
   "metadata": {},
   "outputs": [],
   "source": [
    "nd1a, nd4a = scp.align(\n",
    "    nd1, nd4, dims=[\"y\", \"x\"], method=\"last\"\n",
    ")  # by default the outer method is used\n",
    "ndadd = nd1a + nd4a\n",
    "# Comparison of the result array with the original (only the common region is visible, due to the masks)\n",
    "_ = scp.multiplot_map(\n",
    "    datasets=[nd1a, nd4a, ndadd],\n",
    "    colormap=\"viridis\",\n",
    "    sharex=0,\n",
    "    sharey=True,\n",
    "    nrow=1,\n",
    "    ncol=3,\n",
    "    figsize=(8, 3),\n",
    "    dpi=100,\n",
    ")"
   ]
  }
 ],
 "metadata": {
  "jupytext": {
   "formats": "ipynb,py:percent",
   "notebook_metadata_filter": "all"
  },
  "kernelspec": {
   "display_name": "Python 3",
   "language": "python",
   "name": "python3"
  },
  "language_info": {
   "codemirror_mode": {
    "name": "ipython",
    "version": 3
   },
   "file_extension": ".py",
   "mimetype": "text/x-python",
   "name": "python",
   "nbconvert_exporter": "python",
   "pygments_lexer": "ipython3",
   "version": "3.9.1"
  },
  "widgets": {
   "application/vnd.jupyter.widget-state+json": {
    "state": {},
    "version_major": 2,
    "version_minor": 0
   }
  }
 },
 "nbformat": 4,
 "nbformat_minor": 5
}
