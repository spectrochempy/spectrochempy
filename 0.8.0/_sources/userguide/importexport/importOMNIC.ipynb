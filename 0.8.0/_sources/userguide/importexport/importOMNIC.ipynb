{
 "cells": [
  {
   "cell_type": "markdown",
   "id": "bfa2d049",
   "metadata": {},
   "source": [
    "# Import of OMNIC files\n",
    "\n",
    "Thermo Scientific [OMNIC](https://www.thermofisher.com/search/results?query=OMNIC)\n",
    "software have two proprietary binary file formats:\n",
    "\n",
    "- .spa files that handle single spectra\n",
    "- .spg files which contain a group of spectra\n",
    "\n",
    "Both have been reverse engineered, hence allowing extracting their key data.\n",
    "The Omnic reader of Spectrochempy ( `read_omnic()` ) has been developed based on\n",
    "posts in open forums on the .spa file format and extended to .spg file formats."
   ]
  },
  {
   "cell_type": "markdown",
   "id": "7038e34f",
   "metadata": {},
   "source": [
    "## Import spg file\n",
    "\n",
    "Let's import an .spg file from the `datadir` (see :ref:`import.ipynb` for details)):\n",
    "and display its main attributes:"
   ]
  },
  {
   "cell_type": "code",
   "execution_count": null,
   "id": "ed730e79",
   "metadata": {},
   "outputs": [],
   "source": [
    "import spectrochempy as scp"
   ]
  },
  {
   "cell_type": "code",
   "execution_count": null,
   "id": "821a520e",
   "metadata": {
    "pycharm": {
     "name": "#%%\n"
    }
   },
   "outputs": [],
   "source": [
    "X = scp.read_omnic(\"irdata/CO@Mo_Al2O3.SPG\")\n",
    "X"
   ]
  },
  {
   "cell_type": "markdown",
   "id": "8f2e06cb",
   "metadata": {
    "lines_to_next_cell": 2
   },
   "source": [
    "The displayed attributes are detailed in the following:\n",
    "\n",
    "- `name` is the name of the group of spectra as it appears in the .spg file. OMNIC\n",
    "  sets this name to the .spg filename used at the creation of the group.\n",
    "  In this example, the name (\"Group sust Mo_Al2O3_base line.SPG\") differs\n",
    "  from the filename (`\"CO@Mo_Al2O3.SPG\"`) because the latter has been changed from\n",
    "  outside OMNIC (directly in the OS).\n",
    "\n",
    "- `author` is that of the creator of the NDDataset (not of the .spg file, which, to\n",
    "  our knowledge, does not have\n",
    "  this type of attribute). The string is composed of the username and of the machine\n",
    "  name as given by the OS, e.g., `\"username@machinename\"`.\n",
    "  It can be accessed and changed using `X.author` .\n",
    "\n",
    "- `created` is the creation date of the NDDataset (again not that of the .spg file).\n",
    "  It can be accessed (or even changed) using `X.created` .\n",
    "\n",
    "- `description` indicates the complete pathname of the .spg file. As the pathname is\n",
    "  also given in the history (below), it can be a good practice to give a\n",
    "  self-explaining description of the group, for instance:"
   ]
  },
  {
   "cell_type": "code",
   "execution_count": null,
   "id": "2c1ed7b6",
   "metadata": {},
   "outputs": [],
   "source": [
    "X.description = \"CO adsorption on CoMo/Al2O3, difference spectra\"\n",
    "X.description"
   ]
  },
  {
   "cell_type": "markdown",
   "id": "3a52db2c",
   "metadata": {},
   "source": [
    "or directly at the import:"
   ]
  },
  {
   "cell_type": "code",
   "execution_count": null,
   "id": "991e19f9",
   "metadata": {},
   "outputs": [],
   "source": [
    "X = scp.read_omnic(\"irdata//CO@Mo_Al2O3.SPG\", description=\"CO@CoMo/Al2O3, diff spectra\")\n",
    "X.description"
   ]
  },
  {
   "cell_type": "markdown",
   "id": "6bf355ac",
   "metadata": {},
   "source": [
    "- `history` records changes made to the dataset. Here, right after its creation, it\n",
    "  has been sorted by date (see below).\n",
    "\n",
    "Then come the attributes related to the data themselves:\n",
    "\n",
    "- `title` (not to be confused with the `name` of the dataset) describes the nature\n",
    "  of data (here **absorbance** ).\n",
    "\n",
    "- `values` shows the data as quantity (with their units when they exist - here a.u.\n",
    "  for absorbance units).\n",
    "\n",
    "- The numerical values ar accessed through the `data` attribute and the units\n",
    "  throughout `units` attribute."
   ]
  },
  {
   "cell_type": "code",
   "execution_count": null,
   "id": "2f7e41c1",
   "metadata": {},
   "outputs": [],
   "source": [
    "X.values"
   ]
  },
  {
   "cell_type": "code",
   "execution_count": null,
   "id": "b5fceb07",
   "metadata": {},
   "outputs": [],
   "source": [
    "X.data"
   ]
  },
  {
   "cell_type": "code",
   "execution_count": null,
   "id": "fbf272e6",
   "metadata": {},
   "outputs": [],
   "source": [
    "X.units"
   ]
  },
  {
   "cell_type": "markdown",
   "id": "eeef7a0e",
   "metadata": {},
   "source": [
    "- `shape` is the same as the ndarray `shape` attribute and gives the shape of the\n",
    "  data array, here 19 x 3112.\n",
    "\n",
    "Then come the attributes related to the dimensions of the dataset.\n",
    "\n",
    "- `x` : this dimension has one coordinate (a `Coord` object) made of the 3112 the\n",
    "  wavenumbers."
   ]
  },
  {
   "cell_type": "code",
   "execution_count": null,
   "id": "68e3a42c",
   "metadata": {},
   "outputs": [],
   "source": [
    "print(X.x)\n",
    "X.x"
   ]
  },
  {
   "cell_type": "markdown",
   "id": "437c1455",
   "metadata": {},
   "source": [
    "- `y` : this dimension contains:\n",
    "\n",
    "  - one coordinate made of the 19 acquisition timestamps\n",
    "  - two labels:\n",
    "\n",
    "    - the acquisition date (UTC) of each spectrum\n",
    "    - the name of each spectrum."
   ]
  },
  {
   "cell_type": "code",
   "execution_count": null,
   "id": "d84b3f28",
   "metadata": {},
   "outputs": [],
   "source": [
    "X.y"
   ]
  },
  {
   "cell_type": "markdown",
   "id": "c28c31db",
   "metadata": {},
   "source": [
    "- `dims` : Note that the `x` and `y` dimensions are the second and first\n",
    "   dimension respectively. Hence, `X[i,j]` will return the absorbance of the ith\n",
    "   spectrum at the jth  wavenumber.\n",
    "   However, this is subject to change, for instance if you perform operation on your\n",
    "   data such as\n",
    "   [Transposition](../processing/transformations.ipynb#Transposition). At any time\n",
    "   the attribute `dims` gives the correct names (which can be modified) and order of\n",
    "   the dimensions."
   ]
  },
  {
   "cell_type": "code",
   "execution_count": null,
   "id": "543e580e",
   "metadata": {},
   "outputs": [],
   "source": [
    "X.dims"
   ]
  },
  {
   "cell_type": "markdown",
   "id": "0bd7ad29",
   "metadata": {},
   "source": [
    "### Acquisition dates and `y` axis\n",
    "\n",
    "The acquisition timestamps are the *Unix times* of the acquisition, i.e. the time\n",
    "elapsed in seconds since the\n",
    "reference date of Jan 1st 1970, 00:00:00 UTC."
   ]
  },
  {
   "cell_type": "code",
   "execution_count": null,
   "id": "343b7dc5",
   "metadata": {},
   "outputs": [],
   "source": [
    "X.y.values"
   ]
  },
  {
   "cell_type": "markdown",
   "id": "1aa201b3",
   "metadata": {},
   "source": [
    "In OMNIC, the acquisition time is that of the start of the acquisition.\n",
    "As such these may be not convenient to use directly (they are currently in the order\n",
    "of 1.5 billion...)\n",
    "With this respect, it can be convenient to shift the origin of time coordinate to\n",
    "that of the 1st spectrum,\n",
    "which has the index `0` :"
   ]
  },
  {
   "cell_type": "code",
   "execution_count": null,
   "id": "3adc8371",
   "metadata": {},
   "outputs": [],
   "source": [
    "X.y = X.y - X.y[0]\n",
    "X.y.values"
   ]
  },
  {
   "cell_type": "markdown",
   "id": "560411b3",
   "metadata": {},
   "source": [
    "Note that you can also use the inplace subtract operator to perform the same\n",
    "operation."
   ]
  },
  {
   "cell_type": "code",
   "execution_count": null,
   "id": "5b86c175",
   "metadata": {},
   "outputs": [],
   "source": [
    "X.y -= X.y[0]"
   ]
  },
  {
   "cell_type": "markdown",
   "id": "b6a8bf62",
   "metadata": {},
   "source": [
    "It is also possible to use the ability of SpectroChemPy to handle unit changes. For\n",
    "this one can use the `to` or `ito` (inplace) methods.\n",
    "\n",
    "```ipython\n",
    "val = val.to(some_units)\n",
    "val.ito(some_units)   # the same inplace\n",
    "```"
   ]
  },
  {
   "cell_type": "code",
   "execution_count": null,
   "id": "77528213",
   "metadata": {},
   "outputs": [],
   "source": [
    "X.y.ito(\"minute\")\n",
    "X.y.values"
   ]
  },
  {
   "cell_type": "markdown",
   "id": "ce9fa1b4",
   "metadata": {},
   "source": [
    "As shown above, the values of the `Coord` object are accessed through the `values`\n",
    "attribute. To get the last\n",
    "values corresponding to the last row of the `X` dataset, you can use:"
   ]
  },
  {
   "cell_type": "code",
   "execution_count": null,
   "id": "b9c3c4ea",
   "metadata": {},
   "outputs": [],
   "source": [
    "tf = X.y.values[-1]\n",
    "tf"
   ]
  },
  {
   "cell_type": "markdown",
   "id": "8427963b",
   "metadata": {},
   "source": [
    "Negative index in python indicates the position in a sequence from the end, so -1\n",
    "indicate the last element."
   ]
  },
  {
   "cell_type": "markdown",
   "id": "99087bff",
   "metadata": {},
   "source": [
    "Finally, if for instance you want the `x` time axis to be shifted by 2 minutes, it\n",
    "is also very easy to do so:"
   ]
  },
  {
   "cell_type": "code",
   "execution_count": null,
   "id": "f1c4177b",
   "metadata": {},
   "outputs": [],
   "source": [
    "X.y = X.y + 2\n",
    "X.y.values"
   ]
  },
  {
   "cell_type": "markdown",
   "id": "93d39d45",
   "metadata": {},
   "source": [
    "or using the inplace add/subtract operator:"
   ]
  },
  {
   "cell_type": "code",
   "execution_count": null,
   "id": "0961d5ed",
   "metadata": {},
   "outputs": [],
   "source": [
    "X.y -= 2  # this restore the previous coordinates\n",
    "X.y.values"
   ]
  },
  {
   "cell_type": "markdown",
   "id": "6c676e98",
   "metadata": {},
   "source": [
    "### The order of spectra\n",
    "\n",
    "The order of spectra in OMNIC .spg files depends on the order in which the spectra\n",
    "were included in the OMNIC\n",
    "window before the group was saved. By default, spectrochempy reorders the spectra\n",
    "by acquisition date but the\n",
    "original OMNIC order can be kept using the `sortbydate=True` at the function call.\n",
    "For instance:"
   ]
  },
  {
   "cell_type": "code",
   "execution_count": null,
   "id": "6dc30071",
   "metadata": {},
   "outputs": [],
   "source": [
    "X2 = scp.read_omnic(\"irdata/CO@Mo_Al2O3.SPG\", sortbydate=False)"
   ]
  },
  {
   "cell_type": "markdown",
   "id": "16ab0de8",
   "metadata": {},
   "source": [
    "In the present case, this will change nothing because the spectra in the OMNIC file\n",
    "were already ordered by increasing data.\n",
    "\n",
    "Finally, it is worth mentioning that a `NDDataset` can generally be manipulated as\n",
    "numpy ndarray. Hence, for\n",
    "instance, the following will inverse the order of the first dimension:"
   ]
  },
  {
   "cell_type": "code",
   "execution_count": null,
   "id": "cc87f103",
   "metadata": {},
   "outputs": [],
   "source": [
    "X = X[::-1]  # reorders the NDDataset along the first dimension going backward\n",
    "X.y.values  # displays the `y` dimension"
   ]
  },
  {
   "cell_type": "markdown",
   "id": "072ccd9b",
   "metadata": {},
   "source": [
    "<div class='alert alert-info'>\n",
    "<b>Note</b>\n",
    "\n",
    "<strong>Case of groups with different wavenumbers</strong> <br/>\n",
    "An OMNIC .spg file can contain spectra having different wavenumber axes (e.g.\n",
    "different spacings or wavenumber\n",
    "ranges). In its current implementation, the spg reader will purposely return an error\n",
    "because such spectra\n",
    "<i>cannot</i> be included in a single NDDataset which, by definition, contains items that\n",
    "share common axes or dimensions !\n",
    "Future releases might include an option to deal with such a case and return a list of\n",
    "NDDatasets. Let us know if you\n",
    "are interested in such a feature, see <a href=\"https://www.spectrochempy.fr/devguide/issues.html\">Bug reports and enhancement requests.</a>\n",
    "</div>\n"
   ]
  },
  {
   "cell_type": "markdown",
   "id": "5fc76e9c",
   "metadata": {},
   "source": [
    "## Import of .spa files\n",
    "\n",
    "The import of a single spectrum follows exactly the same rules as that of the import\n",
    "of a group:"
   ]
  },
  {
   "cell_type": "code",
   "execution_count": null,
   "id": "8c3fc728",
   "metadata": {},
   "outputs": [],
   "source": [
    "scp.read_omnic(\"irdata/subdir/7_CZ0-100_Pd_101.SPA\")"
   ]
  },
  {
   "cell_type": "markdown",
   "id": "04e6eac1",
   "metadata": {},
   "source": [
    "The omnic reader can also import several spa files together, providing that they share\n",
    "a common axis for the wavenumbers.\n",
    "\n",
    "This is the case of the following files in the irdata/subdir directory:\n",
    "\"7_CZ0-100 Pd_101.SPA\", ..., \"7_CZ0-100 Pd_104.spa\".\n",
    "\n",
    "It is possible to import them in a single NDDataset by using\n",
    "the list of filenames\n",
    "in the function call:"
   ]
  },
  {
   "cell_type": "code",
   "execution_count": null,
   "id": "7682df20",
   "metadata": {},
   "outputs": [],
   "source": [
    "list_files = (\n",
    "    \"7_CZ0-100_Pd_101.SPA\",\n",
    "    \"7_CZ0-100_Pd_102.SPA\",\n",
    "    \"7_CZ0-100_Pd_103.SPA\",\n",
    "    \"7_CZ0-100_Pd_104.SPA\",\n",
    ")\n",
    "scp.read_omnic(list_files, directory=\"irdata/subdir\", name=\"Merged 7_CZ0-100 Pd\")"
   ]
  },
  {
   "cell_type": "markdown",
   "id": "e562105a",
   "metadata": {},
   "source": [
    "When compatible .spa files are alone in a directory, a very convenient is to call the\n",
    "read_omnic method\n",
    "using only the directory path as argument that will gather the .spa files together:"
   ]
  },
  {
   "cell_type": "code",
   "execution_count": null,
   "id": "a497e846",
   "metadata": {},
   "outputs": [],
   "source": [
    "scp.read_omnic(\"irdata/subdir/1-20\")"
   ]
  },
  {
   "cell_type": "markdown",
   "id": "02ef04c2",
   "metadata": {},
   "source": [
    "In the case  where not all files are compatibles, they are returned in different NDDatasets(with independent merging).\n",
    "\n",
    "For example:"
   ]
  },
  {
   "cell_type": "code",
   "execution_count": null,
   "id": "9cd1bde7",
   "metadata": {},
   "outputs": [],
   "source": [
    "Y = scp.read_omnic(\"irdata/subdir/\")\n",
    "Y"
   ]
  },
  {
   "cell_type": "markdown",
   "id": "04315184",
   "metadata": {},
   "source": [
    "Here we get a list of two NDDataset because there is two type of file in the directory (`.spa` and `.srs`).\n",
    "\n",
    "The desired dataset can be obtained using a list:"
   ]
  },
  {
   "cell_type": "code",
   "execution_count": null,
   "id": "ae58bd3f",
   "metadata": {},
   "outputs": [],
   "source": [
    "Y[1]"
   ]
  },
  {
   "cell_type": "markdown",
   "id": "9cf8ca0a",
   "metadata": {},
   "source": [
    "Other ways to select only the required file with extension (`.spa`)are:\n",
    "\n",
    "- writing a list as previously explicitely  listing the required files.\n",
    "- using a more specific reader:"
   ]
  },
  {
   "cell_type": "code",
   "execution_count": null,
   "id": "9b5e3365",
   "metadata": {},
   "outputs": [],
   "source": [
    "scp.read_spa(\"irdata/subdir/\")"
   ]
  },
  {
   "cell_type": "markdown",
   "id": "dbede016",
   "metadata": {},
   "source": [
    "- using a pattern filter"
   ]
  },
  {
   "cell_type": "code",
   "execution_count": null,
   "id": "45b18a48",
   "metadata": {},
   "outputs": [],
   "source": [
    "scp.read_omnic(\"irdata/subdir/\", pattern=\"*.spa\")"
   ]
  },
  {
   "cell_type": "markdown",
   "id": "c9d2dfc6",
   "metadata": {},
   "source": [
    "One advantage of the latter solution is a greter flexibility. For instance the lollowing will select only the `*101.spa` and `*102.spa`:"
   ]
  },
  {
   "cell_type": "code",
   "execution_count": null,
   "id": "f76e540b",
   "metadata": {},
   "outputs": [],
   "source": [
    "scp.read_omnic(\"irdata/subdir/\", pattern=\"*10[12].spa\", merge=False)"
   ]
  },
  {
   "cell_type": "markdown",
   "id": "c7ab27ae",
   "metadata": {},
   "source": [
    "## Handling Metadata"
   ]
  },
  {
   "cell_type": "markdown",
   "id": "08c69b18",
   "metadata": {},
   "source": [
    "Here is an example of accessing metadata"
   ]
  },
  {
   "cell_type": "code",
   "execution_count": null,
   "id": "7a4ce10b",
   "metadata": {},
   "outputs": [],
   "source": [
    "X = scp.read_omnic(\"irdata/CO@Mo_Al2O3.SPG\")\n",
    "print(f\"Title: {X.title}\")\n",
    "print(f\"Origin: {X.origin}\")\n",
    "print(f\"Description: {X.description}\")"
   ]
  },
  {
   "cell_type": "markdown",
   "id": "2e13c597",
   "metadata": {},
   "source": [
    "and now do some modifications:"
   ]
  },
  {
   "cell_type": "code",
   "execution_count": null,
   "id": "5593b054",
   "metadata": {},
   "outputs": [],
   "source": [
    "X.title = \"Modified title\"\n",
    "X.origin = \"OMNIC measurement\"\n",
    "X.description = \"Modified description\"\n",
    "print(\"Modified metadata:\")\n",
    "print(f\"Title: {X.title}\")\n",
    "print(f\"Origin: {X.origin}\")\n",
    "print(f\"Description: {X.description}\")"
   ]
  },
  {
   "cell_type": "markdown",
   "id": "c39c3272",
   "metadata": {},
   "source": [
    "Reading the metadata now reflect the change"
   ]
  },
  {
   "cell_type": "code",
   "execution_count": null,
   "id": "5bcf9b9e",
   "metadata": {},
   "outputs": [],
   "source": [
    "X.title"
   ]
  },
  {
   "cell_type": "markdown",
   "id": "f7174140",
   "metadata": {},
   "source": [
    "## Error Handling"
   ]
  },
  {
   "cell_type": "markdown",
   "id": "659df4b9",
   "metadata": {},
   "source": [
    "When trying to read file, it is a good practice to handle errors explicitely. For example:"
   ]
  },
  {
   "cell_type": "code",
   "execution_count": null,
   "id": "d1e10908",
   "metadata": {},
   "outputs": [],
   "source": [
    "try:\n",
    "    X = scp.read_omnic(\"nonexistent_file.spa\")\n",
    "except FileNotFoundError:\n",
    "    scp.error_(FileNotFoundError, \"File not found\")\n",
    "except Exception as e:\n",
    "    scp.error_(f\"Error reading file: {e}\")"
   ]
  },
  {
   "cell_type": "markdown",
   "id": "29ec9aa3",
   "metadata": {},
   "source": [
    "## Advanced Data Operations"
   ]
  },
  {
   "cell_type": "markdown",
   "id": "af0d0663",
   "metadata": {},
   "source": [
    "Example of data manipulation:"
   ]
  },
  {
   "cell_type": "code",
   "execution_count": null,
   "id": "7a98bb4a",
   "metadata": {},
   "outputs": [],
   "source": [
    "X = scp.read_omnic(\"irdata/CO@Mo_Al2O3.SPG\")"
   ]
  },
  {
   "cell_type": "markdown",
   "id": "c720e52f",
   "metadata": {},
   "source": [
    "- Baseline correction"
   ]
  },
  {
   "cell_type": "code",
   "execution_count": null,
   "id": "646e48e2",
   "metadata": {},
   "outputs": [],
   "source": [
    "X_corrected = X - X[0]  # Subtract first spectrum as baseline"
   ]
  },
  {
   "cell_type": "markdown",
   "id": "691449ce",
   "metadata": {},
   "source": [
    "- Normalization"
   ]
  },
  {
   "cell_type": "code",
   "execution_count": null,
   "id": "5807a2bf",
   "metadata": {},
   "outputs": [],
   "source": [
    "X_normalized = X / X.max()"
   ]
  },
  {
   "cell_type": "code",
   "execution_count": null,
   "id": "c0054379",
   "metadata": {},
   "outputs": [],
   "source": [
    "print(\"Original data shape:\", X.shape)\n",
    "print(\"Max value before normalization:\", X.max())\n",
    "print(\"Max value after normalization:\", X_normalized.max())"
   ]
  }
 ],
 "metadata": {
  "jupytext": {
   "cell_metadata_json": true,
   "formats": "ipynb,py:percent",
   "notebook_metadata_filter": "all"
  },
  "kernelspec": {
   "display_name": "Python 3 (ipykernel)",
   "language": "python",
   "name": "python3"
  },
  "language_info": {
   "codemirror_mode": {
    "name": "ipython",
    "version": 3
   },
   "file_extension": ".py",
   "mimetype": "text/x-python",
   "name": "python",
   "nbconvert_exporter": "python",
   "pygments_lexer": "ipython3",
   "version": "3.13.2"
  },
  "widgets": {
   "application/vnd.jupyter.widget-state+json": {
    "state": {},
    "version_major": 2,
    "version_minor": 0
   }
  }
 },
 "nbformat": 4,
 "nbformat_minor": 5
}
