{
 "cells": [
  {
   "cell_type": "markdown",
   "id": "5b3d20b8",
   "metadata": {},
   "source": [
    "# Import Data in SpectroChemPy\n",
    "\n",
    "This tutorial shows how to import data in **SpectroChemPy (SCPy)** .\n",
    "\n",
    "First, let's `import spectrochempy as scp` in the current\n",
    "namespace, so that all spectrochempy commands will be called as\n",
    "`scp.method(<method parameters>)` ."
   ]
  },
  {
   "cell_type": "code",
   "execution_count": null,
   "id": "24ff8e5e",
   "metadata": {},
   "outputs": [],
   "source": [
    "import spectrochempy as scp"
   ]
  },
  {
   "cell_type": "markdown",
   "id": "a53b711d",
   "metadata": {},
   "source": [
    "## Generic read command"
   ]
  },
  {
   "cell_type": "markdown",
   "id": "638b00e6",
   "metadata": {},
   "source": [
    "To read a file containing spectrocopic data or similar,\n",
    "the `read` method can be used.\n",
    "This method will try to guess the file format based on\n",
    "the file extension."
   ]
  },
  {
   "cell_type": "code",
   "execution_count": null,
   "id": "38a5224e",
   "metadata": {},
   "outputs": [],
   "source": [
    "X = scp.read(\"wodger.spg\")"
   ]
  },
  {
   "cell_type": "markdown",
   "id": "651bbdba",
   "metadata": {
    "lines_to_next_cell": 0
   },
   "source": [
    "The above command will extract the data from the file `wodger.spg`\n",
    "and store it in a `NDDataset` object named `X`.\n",
    "To display information about the dataset, simply type `X`\n",
    "in a cell and run it."
   ]
  },
  {
   "cell_type": "code",
   "execution_count": null,
   "id": "26865706",
   "metadata": {},
   "outputs": [],
   "source": [
    "X"
   ]
  },
  {
   "cell_type": "markdown",
   "id": "0f8ef652",
   "metadata": {},
   "source": [
    "In this case, the data were in an OMNIC file format,\n",
    "and the `read` method guessed it correctly using the file name extension.\n",
    "The `read` method can also read other file formats, such as\n",
    "OPUS, JCAMP-DX, CSV, MATLAB, TOPSPIN, etc. or even a directory."
   ]
  },
  {
   "cell_type": "markdown",
   "id": "582949eb",
   "metadata": {},
   "source": [
    "## Using a specific reader"
   ]
  },
  {
   "cell_type": "markdown",
   "id": "5390d667",
   "metadata": {},
   "source": [
    "Instead of using the generic read method, you can also use a specific\n",
    "reader, such as `read_omnic`, `read_opus`, `read_csv`, `read_jcamp`, etc.\n",
    "These methods are more specific and will only read the file format\n",
    "they are. For example, `read_omnic` will only read OMNIC files."
   ]
  },
  {
   "cell_type": "markdown",
   "id": "38e22dba",
   "metadata": {},
   "source": [
    "The following table lists the available file readers in SCPy\n",
    "along with the corresponding file formats and extensions they support:\n",
    "\n",
    "| Reader         | File Formats                                      | Extensions      |\n",
    "|---------------|-------------------------------------------------|----------------|\n",
    "| read_omnic,<br/>read_spa,<br/>read_spg,<br/>read_srs    | Thermo Scientific/Nicolet OMNIC files          | .spa, .spg, .srs     |\n",
    "| read_opus     | Bruker OPUS files                              | .0, .1, .000, ... |\n",
    "| read_csv      | Comma-Separated Values (CSV) files             | .csv           |\n",
    "| read_jcamp, <br/>read_dx| JCAMP-DX spectral data files                   | .dx, .jdx      |\n",
    "| read_matlab,<br/>read_mat   | MATLAB files                                   | .mat, .dso     |\n",
    "| read_topspin  | Bruker TopSpin NMR files                       | fid, ser, 1r, 1i, 2rr... |\n",
    "| read_labspec  | LABSPEC6 spectral data files                   | .txt           |\n",
    "| read_wire,<br/>read_wdf | Renishaw Wire files                     | .wdf           |\n",
    "| read_scp      | SpectroChemPy-specific files                   | .scp           |\n",
    "| read_soc,<br/>read_ddr,<br/>read_hdr,<br/>read_sdr     | Surface Optics Corporation files               | .ddr, .hdr, .sdr |\n",
    "| read_galactic | Galactic spectral files                        | .spc           |\n",
    "| read_quadera  | Pfeiffer Vacuum QUADERA mass spectrometer files | .txt           |\n",
    "| read          | Generic reader (automatically detects format)  | -              |\n",
    "| read_dir      | Reads all supported files in a directory       | -              |\n",
    "| read_zip      | Reads files from a ZIP archive                 | .zip           |\n",
    "| read_carroucell | Reads files from a carrousel experiment directory | -          |\n",
    "\n",
    "The `read_dir` function scans a directory and reads all supported files,\n",
    "returning a list of `NDDataset` objects.\n",
    "\n",
    "Other reader functions return either a single `NDDataset` or multiple `NDDataset`\n",
    "objects, depending on the file type and content.\n",
    "\n",
    "Further details on specific cases are provided below. See the section [Reading directories](#Reading-directories)."
   ]
  },
  {
   "cell_type": "markdown",
   "id": "4283e164",
   "metadata": {},
   "source": [
    "## Using relative or absolute pathnames"
   ]
  },
  {
   "cell_type": "markdown",
   "id": "ccada04d",
   "metadata": {},
   "source": [
    "In the above examples, the file `wodger.spg` was read from the current working directory.\n",
    "\n",
    "If the file is located in another directory, the full path to the file can be provided. For example:\n",
    "\n",
    "```ipython\n",
    "X = scp.read('/users/Brian/s/Life/wodger.spg')\n",
    "```\n",
    "\n",
    "or, for Windows:\n",
    "\n",
    "```ipython\n",
    "X = scp.read(r'C:\\users\\Brian\\s\\Life\\wodger.spg')\n",
    "```\n",
    "\n",
    "Notes:\n",
    "- The path separator is a backslash `\\` on Windows, but in many contexts, backslash is also used as an escape character to\n",
    "  represent non-printable characters.\n",
    "  To avoid problems, either it has to be escaped itself, a double backslash `\\\\`, or one can also use raw string literals\n",
    "  to represent Windows paths.\n",
    "  These are string literals that have an `r` prepended to them. In raw string literals, the `\\\\` represents\n",
    "  a literal backslash: `r'C:\\users\\Brian'`.\n",
    "- In python, the slash `/` is used as the path separator in all systems (Windows, Linux, OSX, ...).\n",
    "  So it can be used in all cases. For exemple:\n",
    "\n",
    "  ```ipython\n",
    "  X = scp.read('C:/users/Brian/s/Life/wodger.spg')\n",
    "\n",
    "  ```\n",
    "\n",
    "- The use of relative pathnames is a good practice. SpectroChemPy readers use relative paths.\n",
    "  If the given path is not absolute,\n",
    "  then SpectroChemPy will search relative to the current directory or to a directory specified using the `directory`keywords.\n",
    "\n",
    "  For example:\n",
    "\n",
    "  ```ipython\n",
    "  X = scp.read('wodger.spg', directory='C:/users/Brian/s/Life')\n",
    "  X = scp.read('Life/wodger.spg', directory='C:\\\\users\\\\Brian\\\\s')\n",
    "\n",
    "  ```\n",
    "\n",
    "- The `os` or `pathlib` modules can be used to work with pathnames.\n",
    "  See the section\n",
    "  [Good practice:Use of os or pathlib packages](#Use-os-or-pathlib-packages).\n",
    "- The `preferences.datadir` variable can be used to set a default directory where to look for data.\n",
    "  See the section [Another default search directory: datadir](#Another-default-search-directory:-datadir).\n"
   ]
  },
  {
   "cell_type": "markdown",
   "id": "50f67dec",
   "metadata": {},
   "source": [
    "## Good practices\n",
    "\n",
    "\n",
    "\n",
    "\n",
    "\n",
    "\n",
    "\n",
    "\n",
    "\n",
    "\n",
    "\n",
    "\n",
    "\n",
    "\n",
    "\n",
    "\n",
    "\n",
    "\n",
    "\n",
    "\n",
    "\n",
    "\n",
    "\n",
    "\n",
    "\n",
    "\n",
    "\n",
    "\n",
    "\n",
    "\n",
    "\n",
    "\n",
    "### Use relative paths\n",
    "\n",
    "As path are system dependent, it is a good practice to use relative pathnames in scripts and notebooks.\n",
    "\n",
    "If, for instance, Brian has a project organised in a folder (`s` ) with a directory\n",
    "dedicated to input data (`Life` )\n",
    "and a notebook for preprocessing (`welease.ipynb` ) as illustrate below:\n",
    "\n",
    "```\n",
    "C:\\users\n",
    "|    +-- Brian\n",
    "|    |    +-- s\n",
    "|    |    |   +-- Life\n",
    "|    |    |   |   +-- wodger.spg\n",
    "|    |    |   +-- welease.ipynb\n",
    "\n",
    "```\n",
    "\n",
    "Then running this project in John's Linux computer (e.g. in `/home/john/s_copy` )\n",
    "will certainly result in execution\n",
    "errors if absolute paths are used in the notebook:\n",
    "\n",
    "```text\n",
    "OSError: Can't find this filename C:\\users\\Brian\\s\\life\\wodger.spg\n",
    "```\n",
    "\n",
    "Fortunately, SpectroChemPy readers use relative paths. If the given path is not\n",
    "absolute, then SpectroChemPy will search in the current directory. Hence, the opening\n",
    "of the `spg` file from scripts in `welease.ipynb` can be made\n",
    "by the command:\n",
    "\n",
    "```ipython\n",
    "X = scp.read('Life/wodger.spg')\n",
    "```\n",
    "\n",
    "or:\n",
    "\n",
    "```ipython\n",
    "X = scp.read('wodger.spg', directory='Life')\n",
    "```\n",
    "\n",
    "### Use os or pathlib packages\n",
    "\n",
    "In python, working with pathnames is classically done with dedicated modules such as\n",
    "`os` or `pathlib` python modules.\n",
    "With `os` we mention the following methods that can be particularly useful:\n",
    "\n",
    "```ipython\n",
    "import os\n",
    "os.getcwd()              # returns the absolute path of the current working directory\n",
    "                         # preferences.datadir\n",
    "os.path.expanduser(\"~\")  # returns the home directory of the user\n",
    "os.path.join('path1','path2','path3', ...)\n",
    "                         # intelligently concatenates path components\n",
    "                         # using the system separator (`/` or `\\\\` )\n",
    "```\n",
    "\n",
    "Using `Pathlib` is even simpler:\n",
    "\n",
    "```ipython\n",
    "from pathlib import Path\n",
    "Path.cwd()               # returns the absolute path of the current working directory\n",
    "Path.home()              # returns the home directory of the user\n",
    "Path('path1') / 'path2' / 'path3' / '...'   # intelligently concatenates path\n",
    "components\n",
    "```\n",
    "\n",
    "The interested readers will find more details on the use of these modules here:\n",
    "\n",
    "- [os](https://docs.python.org/3/library/os.html)\n",
    "- [pathlib](https://docs.python.org/3/library/pathlib.html)\n",
    "\n",
    "#### Another default search directory: datadir\n",
    "\n",
    "Spectrochempy also comes with the definition of a second default directory path where\n",
    "to look at the data: the `datadir` directory. It is defined in the variable `preferences.datadir` which\n",
    "is imported at the same time as spectrochempy. By default, `datadir` points in the\n",
    "'$HOME/.spectrochempy/tesdata' directory.:"
   ]
  },
  {
   "cell_type": "code",
   "execution_count": null,
   "id": "ed970ba5",
   "metadata": {},
   "outputs": [],
   "source": [
    "DATADIR = scp.preferences.datadir\n",
    "DATADIR"
   ]
  },
  {
   "cell_type": "markdown",
   "id": "c79efefd",
   "metadata": {},
   "source": [
    "DATADIR is already a pathlib object and so can be used easily"
   ]
  },
  {
   "cell_type": "code",
   "execution_count": null,
   "id": "30f1afb1",
   "metadata": {},
   "outputs": [],
   "source": [
    "scp.read_omnic(DATADIR / \"wodger.spg\")"
   ]
  },
  {
   "cell_type": "markdown",
   "id": "399684bb",
   "metadata": {
    "lines_to_next_cell": 0
   },
   "source": [
    "It can be set to another pathname *permanently* (i.e., even after computer restart)\n",
    "by a new assignment:\n",
    "\n",
    "```python\n",
    "scp.preferences.datadir = 'C:/users/Brian/s/Life'\n",
    "```\n",
    "\n",
    "This will change the default value in the SCPy preference file located in the hidden\n",
    "folder\n",
    "` .spectrochempy/` at the root of the user home directory.\n",
    "\n",
    "Finally, by default, the import functions used in Spectrochempy will search the data\n",
    "files using this order of\n",
    "precedence:\n",
    "\n",
    "1. try absolute path\n",
    "2. try in current working directory\n",
    "3. try in `datadir`\n",
    "4. if none of these works: generate an OSError (file or directory not found)\n"
   ]
  },
  {
   "cell_type": "markdown",
   "id": "46f13d48",
   "metadata": {},
   "source": [
    "## Reading directories"
   ]
  },
  {
   "cell_type": "markdown",
   "id": "0fcfb419",
   "metadata": {},
   "source": [
    "The `read_dir` function is designed to read an entire directory, create NDDatasets for each file, and finally merge all compatible datasets. Let's see an example:"
   ]
  },
  {
   "cell_type": "markdown",
   "id": "eb6e3d6b",
   "metadata": {},
   "source": [
    "- Here is a list of the files presents in `DATADIR/irdata/subdir/`"
   ]
  },
  {
   "cell_type": "code",
   "execution_count": null,
   "id": "f942dc8f",
   "metadata": {},
   "outputs": [],
   "source": [
    "folder = DATADIR / \"irdata\" / \"subdir\"\n",
    "[str(item.relative_to(DATADIR)) for item in folder.glob(\"*.*\")]"
   ]
  },
  {
   "cell_type": "markdown",
   "id": "bdf3f389",
   "metadata": {},
   "source": [
    "- Now read all files in the `DATADIR/irdata/subdir/` directory  (*i.e.,*, four `.spa` files and one `.srs` file). Any file in unknown format will be ignored silently:"
   ]
  },
  {
   "cell_type": "code",
   "execution_count": null,
   "id": "7877d5c4",
   "metadata": {
    "lines_to_next_cell": 0
   },
   "outputs": [],
   "source": [
    "scp.read_dir(folder)"
   ]
  },
  {
   "cell_type": "markdown",
   "id": "7fa4e4cf",
   "metadata": {},
   "source": [
    "The above command have read all files in the `DATADIR/irdata/subdir/` directory and merged them into two groups of compatible NDDatasets:\n",
    "\n",
    "* a first `NDDataset` object (id: 0, shape [335,1868]) comes from the single `.srs` file.\n",
    "* a second `NDDataset` object (id: 1, shape [335,1868]) comes from the merging of four `.spa` files."
   ]
  },
  {
   "cell_type": "markdown",
   "id": "ee144c57",
   "metadata": {
    "lines_to_next_cell": 0
   },
   "source": [
    "Merging  compatible NDDataset is the default behavior of `read_dir`  (or  equivalently `read`). If you want to read the files separately, you can use the `merge=False` keyword:"
   ]
  },
  {
   "cell_type": "code",
   "execution_count": null,
   "id": "a7373380",
   "metadata": {},
   "outputs": [],
   "source": [
    "scp.read_dir(folder, merge=False)"
   ]
  },
  {
   "cell_type": "markdown",
   "id": "65e1974f",
   "metadata": {},
   "source": [
    "As expected the result is a list of 5 NDDataset objects, one for each file in the directory."
   ]
  },
  {
   "cell_type": "markdown",
   "id": "2a6ebe9b",
   "metadata": {},
   "source": [
    "## Additional options for reading directories"
   ]
  },
  {
   "cell_type": "markdown",
   "id": "3b1457ac",
   "metadata": {},
   "source": [
    "The `read_dir`/`read` function has additional options to control the behavior of the reading process:\n",
    "\n",
    "- `recursive`: if `True`, the function will scan the directory recursively and read all supported files in all subdirectories.\n",
    "- `pattern`: a string or a list of strings that can be used to filter the files to be read. Only files whose name matches the pattern will be read."
   ]
  },
  {
   "cell_type": "markdown",
   "id": "2c4a6c37",
   "metadata": {},
   "source": [
    "Let's see an example with the `recursive` option:\n",
    "\n",
    "First we list files in all directories under `DATADIR/irdata/subdir/`:"
   ]
  },
  {
   "cell_type": "code",
   "execution_count": null,
   "id": "bfeb6a44",
   "metadata": {},
   "outputs": [],
   "source": [
    "[str(item.relative_to(DATADIR)) for item in folder.glob(\"**/*.*\")]"
   ]
  },
  {
   "cell_type": "markdown",
   "id": "3f677bc1",
   "metadata": {
    "lines_to_next_cell": 0
   },
   "source": [
    "the ìrdata/subdir/` directory contains two subdirectory `1-20` and `20-50` with two additional `.spa` files.\n",
    "\n",
    "Now we read all files (a total of 9) in the `DATADIR/irdata/subdir/` directory and its subdirectories:"
   ]
  },
  {
   "cell_type": "code",
   "execution_count": null,
   "id": "895c6a4e",
   "metadata": {
    "lines_to_next_cell": 0
   },
   "outputs": [],
   "source": [
    "scp.read_dir(folder, recursive=True, merge=False)"
   ]
  },
  {
   "cell_type": "markdown",
   "id": "41c382f4",
   "metadata": {
    "lines_to_next_cell": 0
   },
   "source": [
    "and we allow merging them:"
   ]
  },
  {
   "cell_type": "code",
   "execution_count": null,
   "id": "feab2824",
   "metadata": {
    "lines_to_next_cell": 0
   },
   "outputs": [],
   "source": [
    "scp.read_dir(folder, recursive=True)"
   ]
  },
  {
   "cell_type": "markdown",
   "id": "f6c0ce66",
   "metadata": {},
   "source": [
    "As the 8 `.spa` files are compatible, they are merged into a single `NDDataset` object. The `.srs` file is read separately."
   ]
  },
  {
   "cell_type": "markdown",
   "id": "f450cb7b",
   "metadata": {
    "lines_to_next_cell": 0
   },
   "source": [
    "Specific reader can equivalently read folder recursively:"
   ]
  },
  {
   "cell_type": "code",
   "execution_count": null,
   "id": "be1bf456",
   "metadata": {},
   "outputs": [],
   "source": [
    "scp.read_omnic(folder, recursive=True)"
   ]
  },
  {
   "cell_type": "markdown",
   "id": "4a0d4b5d",
   "metadata": {
    "lines_to_next_cell": 0
   },
   "source": [
    "Let's see an example with the `pattern` option:\n",
    "\n",
    "We read all files in the `DATADIR/irdata/subdir/` directory and its subdirectories, but only those with the `.spa` extension and whose name contains the string `4`:"
   ]
  },
  {
   "cell_type": "code",
   "execution_count": null,
   "id": "f05043ab",
   "metadata": {},
   "outputs": [],
   "source": [
    "scp.read_dir(folder, recursive=True, pattern=\"*4*\")"
   ]
  },
  {
   "cell_type": "markdown",
   "id": "3fb3f5b9",
   "metadata": {},
   "source": [
    "The above pattern \"\\*4\\*\" match only two files which are then merged and returned as a single `NDDataset` object."
   ]
  },
  {
   "cell_type": "markdown",
   "id": "2eba7238",
   "metadata": {},
   "source": [
    "This `pattern` option is obviously interesting to select only a type of extension:"
   ]
  },
  {
   "cell_type": "code",
   "execution_count": null,
   "id": "0aaa61b0",
   "metadata": {},
   "outputs": [],
   "source": [
    "scp.read_dir(folder, recursive=True, pattern=\"*.spa\")"
   ]
  },
  {
   "cell_type": "code",
   "execution_count": null,
   "id": "cb900b71",
   "metadata": {},
   "outputs": [],
   "source": [
    "scp.read(folder, recursive=True, pattern=\"*.spa\")  # equivalent"
   ]
  },
  {
   "cell_type": "code",
   "execution_count": null,
   "id": "d9a1541c",
   "metadata": {},
   "outputs": [],
   "source": [
    "scp.read_omnic(folder, recursive=True, pattern=\"*4.spa\")  # equivalent"
   ]
  },
  {
   "cell_type": "markdown",
   "id": "78f33933",
   "metadata": {},
   "source": [
    "This way the \".srs\" file is ignored."
   ]
  },
  {
   "cell_type": "markdown",
   "id": "bcb71171",
   "metadata": {},
   "source": [
    "## Reading files from a ZIP archive"
   ]
  },
  {
   "cell_type": "markdown",
   "id": "80ba3086",
   "metadata": {},
   "source": [
    "The `read_zip` function is designed to read files from a ZIP archive. It can be used to read a single file\n",
    "or all files in the archive. As usual, by default all files are merged. The `merge` keyword can be used to\n",
    "read the files separately."
   ]
  },
  {
   "cell_type": "code",
   "execution_count": null,
   "id": "e26260be",
   "metadata": {},
   "outputs": [],
   "source": [
    "scp.read(\n",
    "    \"https://eigenvector.com/wp-content/uploads/2019/06/corn.mat_.zip\", merge=False\n",
    ")"
   ]
  }
 ],
 "metadata": {
  "jupytext": {
   "formats": "ipynb,py:percent",
   "notebook_metadata_filter": "all"
  },
  "kernelspec": {
   "display_name": "Python 3 (ipykernel)",
   "language": "python",
   "name": "python3"
  },
  "language_info": {
   "codemirror_mode": {
    "name": "ipython",
    "version": 3
   },
   "file_extension": ".py",
   "mimetype": "text/x-python",
   "name": "python",
   "nbconvert_exporter": "python",
   "pygments_lexer": "ipython3",
   "version": "3.13.2"
  },
  "toc-showcode": false,
  "toc-showtags": false,
  "widgets": {
   "application/vnd.jupyter.widget-state+json": {
    "state": {},
    "version_major": 2,
    "version_minor": 0
   }
  }
 },
 "nbformat": 4,
 "nbformat_minor": 5
}
