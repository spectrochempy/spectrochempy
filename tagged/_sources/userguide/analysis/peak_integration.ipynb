{
 "cells": [
  {
   "cell_type": "markdown",
   "id": "fb51dbaf",
   "metadata": {},
   "source": [
    "# Peak Integration\n",
    "\n",
    "This tutorial shows how to find peak maxima and determine peak areas with\n",
    "SpectroChemPy. As a prerequisite,\n",
    "the user is expected to have read the [Import](../importexport/import.rst),\n",
    "[Import IR](../importexport/importIR.rst),\n",
    "[Slicing](../processing/slicing.rst), and\n",
    "[Baseline Correction](../processing/baseline.rst) tutorials."
   ]
  },
  {
   "cell_type": "markdown",
   "id": "8c91d738",
   "metadata": {},
   "source": [
    "First, let's import the SpectroChemPy API."
   ]
  },
  {
   "cell_type": "code",
   "execution_count": null,
   "id": "137897f4",
   "metadata": {},
   "outputs": [],
   "source": [
    "import spectrochempy as scp"
   ]
  },
  {
   "cell_type": "markdown",
   "id": "e545921a",
   "metadata": {},
   "source": [
    "Now, import some 2D data into an NDDataset object."
   ]
  },
  {
   "cell_type": "code",
   "execution_count": null,
   "id": "375a576a",
   "metadata": {},
   "outputs": [],
   "source": [
    "ds = scp.read_omnic(\"irdata/nh4y-activation.spg\")\n",
    "ds"
   ]
  },
  {
   "cell_type": "markdown",
   "id": "6ea31597",
   "metadata": {},
   "source": [
    "It's a series of 55 spectra.\n",
    "\n",
    "For the demonstration, select only the first 20 on a limited region from 1250 to\n",
    "1800 cm$^{-1}$ (Do not forget to\n",
    "use floating numbers for slicing)."
   ]
  },
  {
   "cell_type": "code",
   "execution_count": null,
   "id": "dc550ad7",
   "metadata": {},
   "outputs": [],
   "source": [
    "X = ds[:20, 1250.0:1800.0]"
   ]
  },
  {
   "cell_type": "markdown",
   "id": "44e75820",
   "metadata": {},
   "source": [
    "We can also eventually remove the offset on the acquisition time dimension (y)."
   ]
  },
  {
   "cell_type": "code",
   "execution_count": null,
   "id": "66d15c49",
   "metadata": {},
   "outputs": [],
   "source": [
    "X.y -= X.y[0]\n",
    "X.y.ito(\"min\")\n",
    "X.y.title = \"acquisition time\""
   ]
  },
  {
   "cell_type": "markdown",
   "id": "ff139a5d",
   "metadata": {},
   "source": [
    "We set some plotting preferences and then plot the raw data."
   ]
  },
  {
   "cell_type": "code",
   "execution_count": null,
   "id": "4366d96c",
   "metadata": {},
   "outputs": [],
   "source": [
    "prefs = X.preferences\n",
    "prefs.figure.figsize = (6, 3)\n",
    "prefs.colormap = \"Dark2\"\n",
    "prefs.colorbar = True\n",
    "X.plot()"
   ]
  },
  {
   "cell_type": "markdown",
   "id": "de54a7a0",
   "metadata": {},
   "source": [
    "Now we can perform some baseline correction."
   ]
  },
  {
   "cell_type": "code",
   "execution_count": null,
   "id": "ce1e4fb4",
   "metadata": {},
   "outputs": [],
   "source": [
    "blc = scp.Baseline()\n",
    "blc.ranges = (\n",
    "    [1740.0, 1800.0],\n",
    "    [1550.0, 1570.0],\n",
    "    [1250.0, 1300.0],\n",
    ")  # define 3 regions where we want the baseline to reach zero.\n",
    "blc.model = \"polynomial\"\n",
    "blc.order = 3\n",
    "\n",
    "blc.fit(X)  # fit the baseline\n",
    "\n",
    "Xcorr = blc.corrected  # get the corrected dataset\n",
    "Xcorr.plot()"
   ]
  },
  {
   "cell_type": "markdown",
   "id": "0498a5bb",
   "metadata": {},
   "source": [
    "To integrate each row on the full range, we can use the sum or trapz method of an\n",
    "NDDataset."
   ]
  },
  {
   "cell_type": "code",
   "execution_count": null,
   "id": "1ce844d1",
   "metadata": {},
   "outputs": [],
   "source": [
    "inttrapz = Xcorr.trapezoid(dim=\"x\")\n",
    "intsimps = Xcorr.simpson(dim=\"x\")"
   ]
  },
  {
   "cell_type": "markdown",
   "id": "256f522a",
   "metadata": {},
   "source": [
    "As you can see, both methods give almost the same results in this case."
   ]
  },
  {
   "cell_type": "code",
   "execution_count": null,
   "id": "2b0010e6",
   "metadata": {},
   "outputs": [],
   "source": [
    "scp.plot_multiple(\n",
    "    method=\"scatter\",\n",
    "    ms=5,\n",
    "    datasets=[inttrapz, intsimps],\n",
    "    labels=[\"trapezoidal rule\", \"Simpson's rule\"],\n",
    "    legend=\"best\",\n",
    ")"
   ]
  },
  {
   "cell_type": "markdown",
   "id": "42770f35",
   "metadata": {},
   "source": [
    "The difference between the trapezoidal and Simpson integration methods is visualized\n",
    "below. In this case, they are\n",
    "extremely close."
   ]
  },
  {
   "cell_type": "code",
   "execution_count": null,
   "id": "32f559ad",
   "metadata": {},
   "outputs": [],
   "source": [
    "diff = (inttrapz - intsimps) * 100.0 / intsimps\n",
    "diff.title = \"difference\"\n",
    "diff.units = \"percent\"\n",
    "diff.plot(scatter=True, ms=5)"
   ]
  }
 ],
 "metadata": {
  "jupytext": {
   "formats": "ipynb,py:percent",
   "notebook_metadata_filter": "all"
  },
  "kernelspec": {
   "display_name": "Python 3",
   "language": "python",
   "name": "python3"
  }
 },
 "nbformat": 4,
 "nbformat_minor": 5
}
