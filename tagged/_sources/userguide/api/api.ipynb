{
 "cells": [
  {
   "cell_type": "markdown",
   "id": "c8b6f10d",
   "metadata": {},
   "source": [
    "# API Configuration"
   ]
  },
  {
   "cell_type": "markdown",
   "id": "cb29419a",
   "metadata": {},
   "source": [
    "Many options of the API can be set up.\n",
    "Let's first import it in the usual way:"
   ]
  },
  {
   "cell_type": "code",
   "execution_count": null,
   "id": "75ba76e4",
   "metadata": {},
   "outputs": [],
   "source": [
    "import spectrochempy as scp"
   ]
  },
  {
   "cell_type": "markdown",
   "id": "ee44d078",
   "metadata": {},
   "source": [
    "## General information\n",
    "General information on the API can be obtained the following variables:"
   ]
  },
  {
   "cell_type": "code",
   "execution_count": null,
   "id": "135e4bcf",
   "metadata": {},
   "outputs": [],
   "source": [
    "print(f\"   copyright : {scp.copyright}\")\n",
    "print(f\"     version : {scp.version}\")\n",
    "print(f\"     release : {scp.release}\")\n",
    "print(f\"     license : {scp.license}\")\n",
    "print(f\"         url : {scp.url}\")\n",
    "print(f\"release_date : {scp.release_date}\")\n",
    "print(f\"     authors : {scp.authors}\")\n",
    "print(f\"contributors : {scp.contributors}\")\n",
    "print(f\" description : {scp.description}\")"
   ]
  },
  {
   "cell_type": "markdown",
   "id": "6be05ad9",
   "metadata": {
    "lines_to_next_cell": 0
   },
   "source": [
    "## Loglevel\n",
    "During the execution, the API can display, besides the expected output, various\n",
    "messages categorized according\n",
    "to their criticality:\n",
    "\n",
    "| Loglevel / criticality | use |\n",
    "| --- | --- |\n",
    "| `DEBUG` / `10` | diagnose problems on the running process or help developers |\n",
    "| `INFO`  / `20` | general information on the running process |\n",
    "| `WARNING` / `30` (default) | a condition might cause a problem WRT expected\n",
    "behaviour |\n",
    "| `ERROR`   / `40` | wrong argument/commands or bug |\n",
    "| `CRITICAL` / `50` | could lead to a system crash |\n",
    "\n",
    " Not all this information is always necessary and the level of information displayed\n",
    " by SpectroChemPy can be\n",
    " tuned using the command `scp.set_loglevel()` with the rule that only information\n",
    " having a\n",
    " criticality larger than that passed to the `set_loglevel()` function will be shown.\n",
    "\n",
    " For instance, the `DEBUG` level can be triggered by using one of the\n",
    " equivalent instructions\n",
    "\n",
    "```python\n",
    "scp.set_loglevel('DEBUG')\n",
    "scp.set_loglevel(10)\n",
    "```\n",
    "\n",
    "The current loglevel can be obtained with the `scp.get_loglevel()` function.\n",
    "\n",
    "The following instruction prints the current loglevel"
   ]
  },
  {
   "cell_type": "code",
   "execution_count": null,
   "id": "b47b78b5",
   "metadata": {},
   "outputs": [],
   "source": [
    "print(f\"Default: {scp.get_loglevel()}\")  # print the current loglevel"
   ]
  },
  {
   "cell_type": "markdown",
   "id": "41b97a06",
   "metadata": {
    "lines_to_next_cell": 0
   },
   "source": [
    "It yields `30` the numerical value corresponding to the `WARNING` level. Now, the\n",
    "next instruction\n",
    "lowers the loglevel to ``\"INFO\"``:"
   ]
  },
  {
   "cell_type": "code",
   "execution_count": null,
   "id": "6fdd7203",
   "metadata": {
    "lines_to_next_cell": 2
   },
   "outputs": [],
   "source": [
    "scp.set_loglevel(scp.INFO)"
   ]
  },
  {
   "cell_type": "markdown",
   "id": "86ef09fa",
   "metadata": {},
   "source": [
    "We see that the API then delivers the INFO message:\n",
    "``\"changed default log_level to INFO\"``."
   ]
  },
  {
   "cell_type": "markdown",
   "id": "3eacc3ce",
   "metadata": {},
   "source": [
    "And  finally, the next instructions reset the loglevel to ``\"WARNING\"``\n",
    "level (default), and print it.\n",
    "As seen below, no message ``\"changed default log_level to ...\"`` is delivered"
   ]
  },
  {
   "cell_type": "code",
   "execution_count": null,
   "id": "8a66206b",
   "metadata": {},
   "outputs": [],
   "source": [
    "scp.set_loglevel(\"WARNING\")  # reset to default\n",
    "print(f\"New loglevel: {scp.get_loglevel()}\")"
   ]
  },
  {
   "cell_type": "markdown",
   "id": "490d3c57",
   "metadata": {},
   "source": [
    "It is also possible to issue such messages in scripts. In the cell below, we set\n",
    "the loglevel to `INFO` and try to\n",
    "print two types of messages:"
   ]
  },
  {
   "cell_type": "code",
   "execution_count": null,
   "id": "42c83b6f",
   "metadata": {},
   "outputs": [],
   "source": [
    "scp.set_loglevel(\"INFO\")\n",
    "scp.info_(\"this is an info message!\")\n",
    "scp.debug_(\"this is a debug message!\")"
   ]
  },
  {
   "cell_type": "markdown",
   "id": "957b1990",
   "metadata": {},
   "source": [
    "As expected, only the info message was displayed.\n",
    "\n",
    "If we change the loglevel to `DEBUG` , then the two messages will be printed:"
   ]
  },
  {
   "cell_type": "code",
   "execution_count": null,
   "id": "f496fcb4",
   "metadata": {},
   "outputs": [],
   "source": [
    "scp.set_loglevel(scp.DEBUG)\n",
    "scp.info_(\"this is an info message!\")\n",
    "scp.debug_(\"this is a debug message!\")"
   ]
  },
  {
   "cell_type": "markdown",
   "id": "e6f681f8",
   "metadata": {},
   "source": [
    "Finally, we come back to the standard level of message for the rest of the Tutorial\n",
    "-- in this case neither `DEBUG`\n",
    "nor `INFO` messages will be printed."
   ]
  },
  {
   "cell_type": "code",
   "execution_count": null,
   "id": "60085067",
   "metadata": {},
   "outputs": [],
   "source": [
    "scp.set_loglevel(scp.WARNING)\n",
    "\n",
    "scp.info_(\"this is an info message!\")\n",
    "scp.debug_(\"this is a debug message!\")"
   ]
  },
  {
   "cell_type": "markdown",
   "id": "0f299594",
   "metadata": {},
   "source": [
    "\n",
    "### Error handling\n",
    "If something goes wrong with during a cell execution,  a `traceback` is displayed.\n",
    "\n",
    "For instance, the object or method `toto` does not exist in the API, so an error\n",
    "(`ImportError` ) is generated\n",
    "when trying to import this from the API.\n",
    "\n",
    "Here we catch the error with a conventional `try-except` structure"
   ]
  },
  {
   "cell_type": "code",
   "execution_count": null,
   "id": "ddf9f938",
   "metadata": {},
   "outputs": [],
   "source": [
    "try:\n",
    "    from spectrochempy import toto\n",
    "except ImportError as e:\n",
    "    scp.error_(ImportError, f\"OOPS, THAT'S AN IMPORT ERROR! : {e}\")"
   ]
  },
  {
   "cell_type": "markdown",
   "id": "1be1eee8",
   "metadata": {},
   "source": [
    "The error will stop the execution if not caught.\n",
    "\n",
    "This is a basic behavior of python : one way to avoid stopping the execution without\n",
    "displaying a message is :"
   ]
  },
  {
   "cell_type": "code",
   "execution_count": null,
   "id": "9b6122b8",
   "metadata": {},
   "outputs": [],
   "source": [
    "from contextlib import suppress\n",
    "\n",
    "with suppress(Exception):\n",
    "    from spectrochempy import toto  # noqa: F401"
   ]
  }
 ],
 "metadata": {
  "jupytext": {
   "cell_metadata_json": true,
   "formats": "ipynb,py:percent",
   "notebook_metadata_filter": "all"
  },
  "kernelspec": {
   "display_name": "Python 3",
   "language": "python",
   "name": "python3"
  },
  "language_info": {
   "codemirror_mode": {
    "name": "ipython",
    "version": 3
   },
   "file_extension": ".py",
   "mimetype": "text/x-python",
   "name": "python",
   "nbconvert_exporter": "python",
   "pygments_lexer": "ipython3",
   "version": "3.8.8"
  },
  "widgets": {
   "application/vnd.jupyter.widget-state+json": {
    "state": {},
    "version_major": 2,
    "version_minor": 0
   }
  }
 },
 "nbformat": 4,
 "nbformat_minor": 5
}
