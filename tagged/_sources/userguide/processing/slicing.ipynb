{
 "cells": [
  {
   "cell_type": "markdown",
   "id": "77e3d4df",
   "metadata": {},
   "source": [
    "# Slicing NDDatasets\n",
    "\n",
    "This tutorial shows how to handle NDDatasets using python slicing. As prerequisite, the user is\n",
    "expected to have read the [Import Tutorials](../importexport/import.rst)."
   ]
  },
  {
   "cell_type": "code",
   "execution_count": null,
   "id": "0400578b",
   "metadata": {},
   "outputs": [],
   "source": [
    "import numpy as np\n",
    "\n",
    "import spectrochempy as scp"
   ]
  },
  {
   "cell_type": "markdown",
   "id": "f1506668",
   "metadata": {},
   "source": [
    "## What is the slicing ?\n",
    "\n",
    "The slicing of a list or an array means taking elements from a given index\n",
    "(or set of indexes) to another index (or set of indexes).\n",
    "Slicing is specified using the colon operator `:` with a `from` and `to` index\n",
    "before and after the first column, and a `step` after the second column.\n",
    "Hence, a slice of the object `X` will be set as:\n",
    "\n",
    "`X[from:to:step]`\n",
    "\n",
    "and will extend from the ‘from’ index, ends one item before the ‘to’ index\n",
    "and with an increment of `step`between each index. When not given the default\n",
    "values are respectively 0 (i.e. starts at the 1st index),\n",
    "length in the dimension (stops at the last index), and 1.\n",
    "\n",
    "Let's first illustrate the concept on a 1D example:"
   ]
  },
  {
   "cell_type": "code",
   "execution_count": null,
   "id": "0a23e5c9",
   "metadata": {},
   "outputs": [],
   "source": [
    "X = np.arange(10)  # generates a 1D array of 10 elements from 0 to 9\n",
    "print(X)\n",
    "print(X[2:5])  # selects all elements from 2 to 4\n",
    "print(X[::2])  # selects one out of two elements\n",
    "print(X[:-3])  # a negative index will be counted from the end of the array\n",
    "print(\n",
    "    X[::-2]\n",
    ")  # a negative step will slice backward, starting from 'to', ending at 'from'"
   ]
  },
  {
   "cell_type": "markdown",
   "id": "149fda6f",
   "metadata": {},
   "source": [
    "The same applies to multidimensional arrays by indicating slices separated by commas:"
   ]
  },
  {
   "cell_type": "code",
   "execution_count": null,
   "id": "62effb48",
   "metadata": {},
   "outputs": [],
   "source": [
    "X = np.random.rand(10, 10)  # generates a 10x10 array filled with random values\n",
    "print(X.shape)\n",
    "print(X[2:5, :].shape)  # slices along the 1st dimension, X[2:5,] is equivalent\n",
    "print(\n",
    "    X[2:5, ::2].shape\n",
    ")  # same slice along 1st dimension and takes one 1 column out of two along the second"
   ]
  },
  {
   "cell_type": "markdown",
   "id": "d2c6b5bb",
   "metadata": {},
   "source": [
    "## Slicing of NDDatasets\n",
    "\n",
    "Let's import a group of IR spectra, look at its content and plot it:"
   ]
  },
  {
   "cell_type": "code",
   "execution_count": null,
   "id": "4b0859b6",
   "metadata": {},
   "outputs": [],
   "source": [
    "X = scp.read_omnic(\"irdata/CO@Mo_Al2O3.SPG\", description=\"CO adsorption, diff spectra\")\n",
    "X.y = (X.y - X[0].y).to(\"minute\")\n",
    "X"
   ]
  },
  {
   "cell_type": "code",
   "execution_count": null,
   "id": "e19eab4b",
   "metadata": {},
   "outputs": [],
   "source": [
    "subplot = X.plot()  # assignment avoids the display of the object address (<matplotlib.axes._subplots.AxesSubplot ...)"
   ]
  },
  {
   "cell_type": "markdown",
   "id": "0a514024",
   "metadata": {},
   "source": [
    "### Slicing with indexes\n",
    "\n",
    "The classical slicing, using integers, can be used. For instance, along the 1st dimension:"
   ]
  },
  {
   "cell_type": "code",
   "execution_count": null,
   "id": "71127d3f",
   "metadata": {},
   "outputs": [],
   "source": [
    "print(X[:4])  # selects the first four spectra\n",
    "print(X[-3:])  # selects the last three spectra\n",
    "print(X[::2])  # selects one spectrum out of 2"
   ]
  },
  {
   "cell_type": "markdown",
   "id": "21ad4e4e",
   "metadata": {},
   "source": [
    "The same can be made along the second dimension, simultaneously or not with the first one. For instance"
   ]
  },
  {
   "cell_type": "code",
   "execution_count": null,
   "id": "88fae797",
   "metadata": {},
   "outputs": [],
   "source": [
    "print(\n",
    "    X[:, ::2]\n",
    ")  # all spectra, one wavenumber out of 2   (note the bug: X[,::2] generates an error)\n",
    "print(\n",
    "    X[0:3, 200:1000:2]\n",
    ")  # 3 first spectra, one wavenumbers out of 2, from index 200 to 1000"
   ]
  },
  {
   "cell_type": "markdown",
   "id": "ae3df226",
   "metadata": {},
   "source": [
    "Would you easily guess which wavenumber range have been actually selected ?...\n",
    "probably not because the relationship between the index and the wavenumber\n",
    "is not straightforward as it depends on the value of the first wavenumber,\n",
    "the wavenumber spacing, and whether the wavenumbers are arranged in ascending\n",
    "or descending order...\n",
    "Here is the answer:"
   ]
  },
  {
   "cell_type": "code",
   "execution_count": null,
   "id": "9e4b3578",
   "metadata": {},
   "outputs": [],
   "source": [
    "X[\n",
    "    :, 200:1000:2\n",
    "].x  # as the Coord can be sliced, the same is obtained with: X.x[200:1000:2]"
   ]
  },
  {
   "cell_type": "markdown",
   "id": "8ecdf48b",
   "metadata": {},
   "source": [
    "### Slicing with coordinates\n",
    "\n",
    "Now the spectroscopist is generally interested in a particular region of the\n",
    "spectrum, for instance, 2300-1900 cm$^{-1}$. Can you easily guess the indexes\n",
    "that one should use to spectrum this region ? probably not without a calculator...\n",
    "\n",
    "Fortunately, a simple mechanism has been implemented in spectrochempy\n",
    "for this purpose: the use of floats instead of integers will slice the\n",
    "NDDataset at the corresponding coordinates. For instance to select the 2300-1900 cm$^{-1}$ region:"
   ]
  },
  {
   "cell_type": "code",
   "execution_count": null,
   "id": "14551514",
   "metadata": {},
   "outputs": [],
   "source": [
    "subplot = X[:, 2300.0:1900.0:].plot()"
   ]
  },
  {
   "cell_type": "markdown",
   "id": "83c58a14",
   "metadata": {},
   "source": [
    "The same mechanism can be used along the first dimension (`y` ).\n",
    "For instance, to select and plot the same region and the spectra recorded between 80 and 180 minutes:"
   ]
  },
  {
   "cell_type": "code",
   "execution_count": null,
   "id": "6f77c24f",
   "metadata": {},
   "outputs": [],
   "source": [
    "subplot = X[\n",
    "    80.0:180.0, 2300.0:1900.0\n",
    "].plot()  # Note that a decimal point is enough to get a float\n",
    "# a warning is raised if one or several values are beyond the limits"
   ]
  },
  {
   "cell_type": "markdown",
   "id": "3e52128b",
   "metadata": {},
   "source": [
    "Similarly, the spectrum recorded at the time the closest to 60 minutes can be selected using a float:"
   ]
  },
  {
   "cell_type": "code",
   "execution_count": null,
   "id": "21518095",
   "metadata": {},
   "outputs": [],
   "source": [
    "X[60.0].y  # X[60.] slices the spectrum,  .y returns the corresponding `y` axis."
   ]
  },
  {
   "cell_type": "markdown",
   "id": "d853788f",
   "metadata": {},
   "source": [
    "--- End of Tutorial ---\n",
    "   (todo: add advanced slicing by array of indexes, array of bool,  ...)"
   ]
  }
 ],
 "metadata": {
  "jupytext": {
   "formats": "ipynb,py:percent",
   "notebook_metadata_filter": "all"
  },
  "kernelspec": {
   "display_name": "Python 3",
   "language": "python",
   "name": "python3"
  }
 },
 "nbformat": 4,
 "nbformat_minor": 5
}
