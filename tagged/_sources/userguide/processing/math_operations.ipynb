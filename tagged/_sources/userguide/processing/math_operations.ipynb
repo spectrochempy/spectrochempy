{
 "cells": [
  {
   "cell_type": "markdown",
   "id": "71b0bd65",
   "metadata": {},
   "source": [
    "# Mathematical operations"
   ]
  },
  {
   "cell_type": "code",
   "execution_count": null,
   "id": "cf4579e0",
   "metadata": {},
   "outputs": [],
   "source": [
    "import numpy as np\n",
    "\n",
    "import spectrochempy as scp\n",
    "from spectrochempy import MASKED\n",
    "from spectrochempy import DimensionalityError\n",
    "from spectrochempy import error_"
   ]
  },
  {
   "cell_type": "markdown",
   "id": "3c903198",
   "metadata": {},
   "source": [
    "## Ufuncs (Universal Numpy's functions)\n",
    "A universal function (or `ufunc` in short) is a function that operates on numpy arrays in an element-by-element\n",
    "fashion, supporting array broadcasting, type casting, and several other standard features. That is, a `ufunc` is a\n",
    "“vectorized” wrapper for a function that takes a fixed number of specific inputs and produces a fixed number of\n",
    "specific outputs.\n",
    "\n",
    "For instance, in numpy to calculate the square root of each element of a given nd-array, we can write something\n",
    "like this using the `np.sqrt` functions :"
   ]
  },
  {
   "cell_type": "code",
   "execution_count": null,
   "id": "ad8c3dd8",
   "metadata": {},
   "outputs": [],
   "source": [
    "x = np.array([1.0, 2.0, 3.0, 4.0, 6.0])\n",
    "np.sqrt(x)"
   ]
  },
  {
   "cell_type": "markdown",
   "id": "c71b34b0",
   "metadata": {},
   "source": [
    "As seen above, `np.sqrt(x)` return a numpy array.\n",
    "\n",
    "The interesting thing, it that `ufunc`'s can also work with `NDDataset` ."
   ]
  },
  {
   "cell_type": "code",
   "execution_count": null,
   "id": "16dab755",
   "metadata": {},
   "outputs": [],
   "source": [
    "dx = scp.NDDataset(x)\n",
    "np.sqrt(dx)"
   ]
  },
  {
   "cell_type": "markdown",
   "id": "3d81c9ff",
   "metadata": {},
   "source": [
    "## List of UFuncs working on `NDDataset`:\n",
    "\n",
    "### Functions affecting magnitudes of the number but keeping units\n",
    "* [negative](#negative)(x, **kwargs): Numerical negative, element-wise.\n",
    "* [absolute](#abs)(x, **kwargs): Calculate the absolute value, element-wise. Alias: [abs](#abs)\n",
    "* [fabs](#abs)(x, **kwargs): Calculate the absolute value, element-wise. Complex values are not handled,\n",
    "use [absolute](#abs) to find the absolute values of complex data.\n",
    "* [conj](#)(x, **kwargs): Return the complex conjugate, element-wise.\n",
    "* [rint](#rint)(x, **kwargs) :Round to the nearest integer, element-wise.\n",
    "* [floor](#floor)(x, **kwargs): Return the floor of the input, element-wise.\n",
    "* [ceil](#ceil)(x, **kwargs): Return the ceiling of the input, element-wise.\n",
    "* [trunc](#trunc)(x, **kwargs): Return the truncated value of the input, element-wise.\n",
    "\n",
    "### Functions affecting magnitudes of the number but also units\n",
    "* [sqrt](#sqrt)(x, **kwargs): Return the non-negative square-root of an array, element-wise.\n",
    "* [square](#square)(x, **kwargs): Return the element-wise square of the input.\n",
    "* [cbrt](#cbrt)(x, **kwargs): Return the cube-root of an array, element-wise.\n",
    "* [reciprocal](#reciprocal)(x, **kwargs): Return the reciprocal of the argument, element-wise.\n",
    "\n",
    "### Functions that require no units or dimensionless units for inputs. Returns dimensionless objects.\n",
    "* [exp](#exp)(x, **kwargs): Calculate the exponential of all elements in the input array.\n",
    "* [exp2](#exp)(x, **kwargs): Calculate 2**p for all p in the input array.\n",
    "* [expm1](#exp)(x, **kwargs): Calculate `exp(x) - 1` for all elements in the array.\n",
    "* [log](#log)(x, **kwargs): Natural logarithm, element-wise.\n",
    "* [log2](#log)(x, **kwargs): Base-2 logarithm of x.\n",
    "* [log10](#log)(x, **kwargs): Return the base 10 logarithm of the input array, element-wise.\n",
    "* [log1p](#log)(x, **kwargs): Return `log(x + 1)` , element-wise.\n",
    "\n",
    "### Functions that return numpy arrays (*Work only for NDDataset*)\n",
    "* [sign](#sign)(x): Returns an element-wise indication of the sign of a number.\n",
    "* [logical_not](#logical_not)(x): Compute the truth value of NOT x element-wise.\n",
    "* [isfinite](#isfinite)(x): Test element-wise for finiteness.\n",
    "* [isinf](#isinf)(x): Test element-wise for positive or negative infinity.\n",
    "* [isnan](#isnan)(x): Test element-wise for `NaN` and return result as a boolean array.\n",
    "* [signbit](#signbit)(x): Returns element-wise `True` where signbit is set.\n",
    "\n",
    "### Trigonometric functions. Require unitless data or radian units.\n",
    "* [sin](#sin)(x, **kwargs): Trigonometric sine, element-wise.\n",
    "* [cos](#cos)(x, **kwargs): Trigonometric cosine element-wise.\n",
    "* [tan](#tan)(x, **kwargs): Compute tangent element-wise.\n",
    "* [arcsin](#arcsin)(x, **kwargs): Inverse sine, element-wise.\n",
    "* [arccos](#arccos)(x, **kwargs): Trigonometric inverse cosine, element-wise.\n",
    "* [arctan](#arctan)(x, **kwargs): Trigonometric inverse tangent, element-wise.\n",
    "\n",
    "### Hyperbolic functions\n",
    "* [sinh](#sinh)(x, **kwargs): Hyperbolic sine, element-wise.\n",
    "* [cosh](#cosh)(x, **kwargs): Hyperbolic cosine, element-wise.\n",
    "* [tanh](#tanh)(x, **kwargs): Compute hyperbolic tangent element-wise.\n",
    "* [arcsinh](#arcsinh)(x, **kwargs): Inverse hyperbolic sine element-wise.\n",
    "* [arccosh](#arccosh)(x, **kwargs): Inverse hyperbolic cosine, element-wise.\n",
    "* [arctanh](#arctanh)(x, **kwargs): Inverse hyperbolic tangent element-wise.\n",
    "\n",
    "### Unit conversions\n",
    "* [deg2rad](#deg2rad)(x, **kwargs): Convert angles from degrees to radians.\n",
    "* [rad2deg](#rad2deg)(x, **kwargs): Convert angles from radians to degrees.\n",
    "\n",
    "### Binary Ufuncs\n",
    "\n",
    "* [add](#add)(x1, x2, **kwargs): Add arguments element-wise.\n",
    "* [subtract](#subtract)(x1, x2, **kwargs): Subtract arguments, element-wise.\n",
    "* [multiply](#multiply)(x1, x2, **kwargs): Multiply arguments element-wise.\n",
    "* [divide](#divide) or [true_divide](#divide)(x1, x2, **kwargs): Returns a true division of the inputs,\n",
    "element-wise.\n",
    "* [floor_divide](#floor_divide)(x1, x2, **kwargs): Return the largest integer smaller or equal to the division of\n",
    "the inputs."
   ]
  },
  {
   "cell_type": "markdown",
   "id": "668b5ad4",
   "metadata": {},
   "source": [
    "## Usage\n",
    "To demonstrate the use of mathematical operations on spectrochempy object, we will first load an experimental 2D\n",
    "dataset."
   ]
  },
  {
   "cell_type": "code",
   "execution_count": null,
   "id": "43e2f1aa",
   "metadata": {},
   "outputs": [],
   "source": [
    "d2D = scp.read_omnic(\"irdata/nh4y-activation.spg\")\n",
    "prefs = d2D.preferences\n",
    "prefs.colormap = \"magma\"\n",
    "prefs.colorbar = False\n",
    "prefs.figure.figsize = (6, 3)\n",
    "_ = d2D.plot()"
   ]
  },
  {
   "cell_type": "markdown",
   "id": "ff2af9ee",
   "metadata": {},
   "source": [
    "Let's select only the first row of the 2D dataset ( the `squeeze` method is used to remove\n",
    "the residual size 1 dimension). In addition, we mask the saturated region."
   ]
  },
  {
   "cell_type": "code",
   "execution_count": null,
   "id": "c0a608b0",
   "metadata": {},
   "outputs": [],
   "source": [
    "dataset = d2D[0].squeeze()\n",
    "_ = dataset.plot()"
   ]
  },
  {
   "cell_type": "markdown",
   "id": "a6d58dae",
   "metadata": {},
   "source": [
    "This dataset will be artificially modified already using some mathematical operation (subtraction with a scalar) to\n",
    "present negative values, and we will also mask some data"
   ]
  },
  {
   "cell_type": "code",
   "execution_count": null,
   "id": "d0bfec4c",
   "metadata": {},
   "outputs": [],
   "source": [
    "dataset -= 2.0  # add an offset to make that some of the values become negative\n",
    "dataset[1290.0:890.0] = scp.MASKED  # additionally we mask some data\n",
    "_ = dataset.plot()"
   ]
  },
  {
   "cell_type": "markdown",
   "id": "4144c034",
   "metadata": {},
   "source": [
    "### Unary functions"
   ]
  },
  {
   "cell_type": "markdown",
   "id": "f84036fc",
   "metadata": {},
   "source": [
    "#### Functions affecting magnitudes of the number but keeping units"
   ]
  },
  {
   "cell_type": "markdown",
   "id": "34afd07c",
   "metadata": {},
   "source": [
    "##### negative\n",
    "Numerical negative, element-wise, keep units"
   ]
  },
  {
   "cell_type": "code",
   "execution_count": null,
   "id": "d60e7560",
   "metadata": {},
   "outputs": [],
   "source": [
    "out = np.negative(dataset)  # the same results is obtained using out=-dataset\n",
    "_ = out.plot(figsize=(6, 2.5), show_mask=True)"
   ]
  },
  {
   "cell_type": "markdown",
   "id": "b03038f9",
   "metadata": {},
   "source": [
    "##### abs\n",
    "##### absolute (alias of abs)\n",
    "##### fabs (absolute for float arrays)\n",
    "Numerical absolute value element-wise, element-wise, keep units"
   ]
  },
  {
   "cell_type": "code",
   "execution_count": null,
   "id": "15ec39dd",
   "metadata": {},
   "outputs": [],
   "source": [
    "out = np.abs(dataset)\n",
    "_ = out.plot(figsize=(6, 2.5))"
   ]
  },
  {
   "cell_type": "markdown",
   "id": "98f1dd4f",
   "metadata": {},
   "source": [
    "##### rint\n",
    "Round elements of the array to the nearest integer, element-wise, keep units"
   ]
  },
  {
   "cell_type": "code",
   "execution_count": null,
   "id": "46bdc55a",
   "metadata": {},
   "outputs": [],
   "source": [
    "out = np.rint(dataset)\n",
    "_ = out.plot(figsize=(6, 2.5))  # not that title is not modified for this ufunc"
   ]
  },
  {
   "cell_type": "markdown",
   "id": "d66dd395",
   "metadata": {},
   "source": [
    "##### floor\n",
    "Return the floor of the input, element-wise."
   ]
  },
  {
   "cell_type": "code",
   "execution_count": null,
   "id": "f394c6d2",
   "metadata": {},
   "outputs": [],
   "source": [
    "out = np.floor(dataset)\n",
    "_ = out.plot(figsize=(6, 2.5))"
   ]
  },
  {
   "cell_type": "markdown",
   "id": "ffe934ce",
   "metadata": {},
   "source": [
    "##### ceil\n",
    "Return the ceiling of the input, element-wise."
   ]
  },
  {
   "cell_type": "code",
   "execution_count": null,
   "id": "e643db4f",
   "metadata": {},
   "outputs": [],
   "source": [
    "out = np.ceil(dataset)\n",
    "_ = out.plot(figsize=(6, 2.5))"
   ]
  },
  {
   "cell_type": "markdown",
   "id": "bd6898ac",
   "metadata": {},
   "source": [
    "##### trunc\n",
    "Return the truncated value of the input, element-wise."
   ]
  },
  {
   "cell_type": "code",
   "execution_count": null,
   "id": "9e1f7926",
   "metadata": {},
   "outputs": [],
   "source": [
    "out = np.trunc(dataset)\n",
    "_ = out.plot(figsize=(6, 2.5))"
   ]
  },
  {
   "cell_type": "markdown",
   "id": "889859bd",
   "metadata": {},
   "source": [
    "#### Functions affecting magnitudes of the number but also units\n",
    "##### sqrt\n",
    "Return the non-negative square-root of an array, element-wise."
   ]
  },
  {
   "cell_type": "code",
   "execution_count": null,
   "id": "c0f99514",
   "metadata": {},
   "outputs": [],
   "source": [
    "out = np.sqrt(\n",
    "    dataset\n",
    ")  # as they are some negative elements, return dataset has complex dtype.\n",
    "_ = out.plot_1D(show_complex=True, figsize=(6, 2.5))"
   ]
  },
  {
   "cell_type": "markdown",
   "id": "3a0888a1",
   "metadata": {},
   "source": [
    "##### square\n",
    "Return the element-wise square of the input."
   ]
  },
  {
   "cell_type": "code",
   "execution_count": null,
   "id": "ab49f307",
   "metadata": {},
   "outputs": [],
   "source": [
    "out = np.square(dataset)\n",
    "_ = out.plot(figsize=(6, 2.5))"
   ]
  },
  {
   "cell_type": "markdown",
   "id": "1dd323d6",
   "metadata": {},
   "source": [
    "##### cbrt\n",
    "Return the cube-root of an array, element-wise."
   ]
  },
  {
   "cell_type": "code",
   "execution_count": null,
   "id": "13f9bcc2",
   "metadata": {},
   "outputs": [],
   "source": [
    "out = np.cbrt(dataset)\n",
    "_ = out.plot(figsize=(6, 2.5))"
   ]
  },
  {
   "cell_type": "markdown",
   "id": "8e4a6d91",
   "metadata": {},
   "source": [
    "##### reciprocal\n",
    "Return the reciprocal of the argument, element-wise."
   ]
  },
  {
   "cell_type": "code",
   "execution_count": null,
   "id": "8be66896",
   "metadata": {},
   "outputs": [],
   "source": [
    "out = np.reciprocal(dataset + 3.0)\n",
    "_ = out.plot(figsize=(6, 2.5))"
   ]
  },
  {
   "cell_type": "markdown",
   "id": "a2fad2ed",
   "metadata": {},
   "source": [
    "#### Functions that require no units or dimensionless units for inputs. Returns dimensionless objects."
   ]
  },
  {
   "cell_type": "markdown",
   "id": "c0bfc2fd",
   "metadata": {},
   "source": [
    "##### exp\n",
    "Exponential of all elements in the input array, element-wise"
   ]
  },
  {
   "cell_type": "code",
   "execution_count": null,
   "id": "acd584fa",
   "metadata": {},
   "outputs": [],
   "source": [
    "out = np.exp(dataset)\n",
    "_ = out.plot(figsize=(6, 2.5))"
   ]
  },
  {
   "cell_type": "markdown",
   "id": "6dbb9b1e",
   "metadata": {},
   "source": [
    "Obviously numpy exponential functions applies only to dimensionless array. Else an error is generated."
   ]
  },
  {
   "cell_type": "code",
   "execution_count": null,
   "id": "3415d883",
   "metadata": {},
   "outputs": [],
   "source": [
    "x = scp.NDDataset(np.arange(5), units=\"m\")\n",
    "try:\n",
    "    np.exp(x)  # A dimensionality error will be generated\n",
    "except DimensionalityError as e:\n",
    "    error_(DimensionalityError, e)"
   ]
  },
  {
   "cell_type": "markdown",
   "id": "e58775f4",
   "metadata": {},
   "source": [
    "##### exp2\n",
    "Calculate 2**p for all p in the input array."
   ]
  },
  {
   "cell_type": "code",
   "execution_count": null,
   "id": "42cb06ff",
   "metadata": {},
   "outputs": [],
   "source": [
    "out = np.exp2(dataset)\n",
    "_ = out.plot(figsize=(6, 2.5))"
   ]
  },
  {
   "cell_type": "markdown",
   "id": "45fbab04",
   "metadata": {},
   "source": [
    "##### expm1\n",
    "Calculate `exp(x) - 1` for all elements in the array."
   ]
  },
  {
   "cell_type": "code",
   "execution_count": null,
   "id": "6b0bf3e2",
   "metadata": {},
   "outputs": [],
   "source": [
    "out = np.expm1(dataset)\n",
    "_ = out.plot(figsize=(6, 2.5))"
   ]
  },
  {
   "cell_type": "markdown",
   "id": "c89a0128",
   "metadata": {},
   "source": [
    "##### log\n",
    "Natural logarithm, element-wise.\n",
    "\n",
    "This doesn't generate un error for negative numbrs, but the output is masked for those values"
   ]
  },
  {
   "cell_type": "code",
   "execution_count": null,
   "id": "4c05c7d9",
   "metadata": {},
   "outputs": [],
   "source": [
    "out = np.log(dataset)\n",
    "ax = out.plot(figsize=(6, 2.5), show_mask=True)"
   ]
  },
  {
   "cell_type": "code",
   "execution_count": null,
   "id": "3c80e17d",
   "metadata": {},
   "outputs": [],
   "source": [
    "out = np.log(dataset - dataset.min())\n",
    "_ = out.plot(figsize=(6, 2.5))"
   ]
  },
  {
   "cell_type": "markdown",
   "id": "09999866",
   "metadata": {},
   "source": [
    "##### log2\n",
    "Base-2 logarithm of x."
   ]
  },
  {
   "cell_type": "code",
   "execution_count": null,
   "id": "a0741ebf",
   "metadata": {},
   "outputs": [],
   "source": [
    "out = np.log2(dataset)\n",
    "_ = out.plot(figsize=(6, 2.5))"
   ]
  },
  {
   "cell_type": "markdown",
   "id": "6d10f9d9",
   "metadata": {},
   "source": [
    "##### log10\n",
    "Return the base 10 logarithm of the input array, element-wise."
   ]
  },
  {
   "cell_type": "code",
   "execution_count": null,
   "id": "99d24340",
   "metadata": {},
   "outputs": [],
   "source": [
    "out = np.log10(dataset)\n",
    "_ = out.plot(figsize=(6, 2.5))"
   ]
  },
  {
   "cell_type": "markdown",
   "id": "40427c95",
   "metadata": {},
   "source": [
    "##### log1p\n",
    "Return `log(x + 1)` , element-wise."
   ]
  },
  {
   "cell_type": "code",
   "execution_count": null,
   "id": "afe7e4fc",
   "metadata": {},
   "outputs": [],
   "source": [
    "out = np.log1p(dataset)\n",
    "_ = out.plot(figsize=(6, 2.5))"
   ]
  },
  {
   "cell_type": "markdown",
   "id": "473f6110",
   "metadata": {},
   "source": [
    "#### Functions that return numpy arrays (*Work only for NDDataset*)"
   ]
  },
  {
   "cell_type": "markdown",
   "id": "6a5d446a",
   "metadata": {},
   "source": [
    "##### sign\n",
    "Returns an element-wise indication of the sign of a number. Returned object is a ndarray"
   ]
  },
  {
   "cell_type": "code",
   "execution_count": null,
   "id": "a4017037",
   "metadata": {},
   "outputs": [],
   "source": [
    "np.sign(dataset)"
   ]
  },
  {
   "cell_type": "markdown",
   "id": "f75db02f",
   "metadata": {
    "lines_to_next_cell": 0
   },
   "source": [
    "##### logical_not\n",
    "Compute the truth value of NOT x element-wise. Returned object is a ndarray"
   ]
  },
  {
   "cell_type": "code",
   "execution_count": null,
   "id": "60598407",
   "metadata": {},
   "outputs": [],
   "source": [
    "np.logical_not(dataset < 0)"
   ]
  },
  {
   "cell_type": "markdown",
   "id": "8acf36c9",
   "metadata": {},
   "source": [
    "##### isfinite\n",
    "Test element-wise for finiteness."
   ]
  },
  {
   "cell_type": "code",
   "execution_count": null,
   "id": "73af6b0e",
   "metadata": {},
   "outputs": [],
   "source": [
    "np.isfinite(dataset)"
   ]
  },
  {
   "cell_type": "markdown",
   "id": "f7b55ad0",
   "metadata": {},
   "source": [
    "##### isinf\n",
    "Test element-wise for positive or negative infinity."
   ]
  },
  {
   "cell_type": "code",
   "execution_count": null,
   "id": "b891cd8e",
   "metadata": {},
   "outputs": [],
   "source": [
    "np.isinf(dataset)"
   ]
  },
  {
   "cell_type": "markdown",
   "id": "4ed7a214",
   "metadata": {},
   "source": [
    "##### isnan\n",
    "Test element-wise for `NaN` and return result as a boolean array."
   ]
  },
  {
   "cell_type": "code",
   "execution_count": null,
   "id": "0e1e3dfe",
   "metadata": {},
   "outputs": [],
   "source": [
    "np.isnan(dataset)"
   ]
  },
  {
   "cell_type": "markdown",
   "id": "ba2d90f1",
   "metadata": {},
   "source": [
    "##### signbit\n",
    "Returns element-wise `True` where signbit is set."
   ]
  },
  {
   "cell_type": "code",
   "execution_count": null,
   "id": "7654b0f0",
   "metadata": {},
   "outputs": [],
   "source": [
    "np.signbit(dataset)"
   ]
  },
  {
   "cell_type": "markdown",
   "id": "8b9a794e",
   "metadata": {},
   "source": [
    "#### Trigonometric functions. Require dimensionless/unitless  dataset or radians.\n",
    "\n",
    "In the below examples, unit of data in dataset is absorbance (then dimensionless)"
   ]
  },
  {
   "cell_type": "markdown",
   "id": "c7bcf0d7",
   "metadata": {},
   "source": [
    "##### sin\n",
    "Trigonometric sine, element-wise."
   ]
  },
  {
   "cell_type": "code",
   "execution_count": null,
   "id": "c436d694",
   "metadata": {},
   "outputs": [],
   "source": [
    "out = np.sin(dataset)\n",
    "_ = out.plot(figsize=(6, 2.5))"
   ]
  },
  {
   "cell_type": "markdown",
   "id": "c0bea5ee",
   "metadata": {},
   "source": [
    "##### cos\n",
    "Trigonometric cosine element-wise."
   ]
  },
  {
   "cell_type": "code",
   "execution_count": null,
   "id": "6c97eb28",
   "metadata": {},
   "outputs": [],
   "source": [
    "out = np.cos(dataset)\n",
    "_ = out.plot(figsize=(6, 2.5))"
   ]
  },
  {
   "cell_type": "markdown",
   "id": "74e3071c",
   "metadata": {},
   "source": [
    "##### tan\n",
    "Compute tangent element-wise."
   ]
  },
  {
   "cell_type": "code",
   "execution_count": null,
   "id": "3f9d0b0f",
   "metadata": {},
   "outputs": [],
   "source": [
    "out = np.tan(dataset / np.max(dataset))\n",
    "_ = out.plot(figsize=(6, 2.5))"
   ]
  },
  {
   "cell_type": "markdown",
   "id": "e9c81962",
   "metadata": {},
   "source": [
    "##### arcsin\n",
    "Inverse sine, element-wise."
   ]
  },
  {
   "cell_type": "code",
   "execution_count": null,
   "id": "8ba0b596",
   "metadata": {},
   "outputs": [],
   "source": [
    "out = np.arcsin(dataset)\n",
    "_ = out.plot(figsize=(6, 2.5))"
   ]
  },
  {
   "cell_type": "markdown",
   "id": "52c758d1",
   "metadata": {},
   "source": [
    "##### arccos\n",
    "Trigonometric inverse cosine, element-wise."
   ]
  },
  {
   "cell_type": "code",
   "execution_count": null,
   "id": "3360efa3",
   "metadata": {},
   "outputs": [],
   "source": [
    "out = np.arccos(dataset)\n",
    "_ = out.plot(figsize=(6, 2.5))"
   ]
  },
  {
   "cell_type": "markdown",
   "id": "24ec230e",
   "metadata": {},
   "source": [
    "##### arctan\n",
    "Trigonometric inverse tangent, element-wise."
   ]
  },
  {
   "cell_type": "code",
   "execution_count": null,
   "id": "df7de079",
   "metadata": {},
   "outputs": [],
   "source": [
    "out = np.arctan(dataset)\n",
    "_ = out.plot(figsize=(6, 2.5))"
   ]
  },
  {
   "cell_type": "markdown",
   "id": "dd1d528a",
   "metadata": {},
   "source": [
    "#### Angle units conversion"
   ]
  },
  {
   "cell_type": "markdown",
   "id": "b4d45a76",
   "metadata": {
    "lines_to_next_cell": 2
   },
   "source": [
    "##### rad2deg\n",
    "Convert angles from radians to degrees (warning: unitless or dimensionless are assumed to be radians, so no error\n",
    "will be issued)."
   ]
  },
  {
   "cell_type": "markdown",
   "id": "7504bac5",
   "metadata": {
    "lines_to_next_cell": 2
   },
   "source": [
    "for instance, if we take the z axis (the data magnitude) in the figure above, it's expressed in radians. We can\n",
    "change to degrees easily."
   ]
  },
  {
   "cell_type": "code",
   "execution_count": null,
   "id": "2f59e5ca",
   "metadata": {},
   "outputs": [],
   "source": [
    "out = np.rad2deg(dataset)\n",
    "out.title = \"data\"  # just to avoid a too long title\n",
    "_ = out.plot(figsize=(6, 2.5))"
   ]
  },
  {
   "cell_type": "markdown",
   "id": "8864461e",
   "metadata": {
    "lines_to_next_cell": 2
   },
   "source": [
    "##### deg2rad\n",
    "Convert angles from degrees to radians."
   ]
  },
  {
   "cell_type": "code",
   "execution_count": null,
   "id": "00b6913c",
   "metadata": {},
   "outputs": [],
   "source": [
    "out = np.deg2rad(out)\n",
    "out.title = \"data\"\n",
    "_ = out.plot(figsize=(6, 2.5))"
   ]
  },
  {
   "cell_type": "markdown",
   "id": "8cc81f70",
   "metadata": {},
   "source": [
    "#### Hyperbolic functions"
   ]
  },
  {
   "cell_type": "markdown",
   "id": "fc593aee",
   "metadata": {},
   "source": [
    "##### sinh\n",
    "Hyperbolic sine, element-wise."
   ]
  },
  {
   "cell_type": "code",
   "execution_count": null,
   "id": "105aac57",
   "metadata": {},
   "outputs": [],
   "source": [
    "out = np.sinh(dataset)\n",
    "_ = out.plot(figsize=(6, 2.5))"
   ]
  },
  {
   "cell_type": "markdown",
   "id": "6de83a79",
   "metadata": {},
   "source": [
    "##### cosh\n",
    "Hyperbolic cosine, element-wise."
   ]
  },
  {
   "cell_type": "code",
   "execution_count": null,
   "id": "59d754ef",
   "metadata": {},
   "outputs": [],
   "source": [
    "out = np.cosh(dataset)\n",
    "_ = out.plot(figsize=(6, 2.5))"
   ]
  },
  {
   "cell_type": "markdown",
   "id": "1be4edc0",
   "metadata": {},
   "source": [
    "##### tanh\n",
    "Compute hyperbolic tangent element-wise."
   ]
  },
  {
   "cell_type": "code",
   "execution_count": null,
   "id": "d869400d",
   "metadata": {},
   "outputs": [],
   "source": [
    "out = np.tanh(dataset)\n",
    "_ = out.plot(figsize=(6, 2.5))"
   ]
  },
  {
   "cell_type": "markdown",
   "id": "c6768ba7",
   "metadata": {},
   "source": [
    "##### arcsinh\n",
    "Inverse hyperbolic sine element-wise."
   ]
  },
  {
   "cell_type": "code",
   "execution_count": null,
   "id": "d15fc22f",
   "metadata": {},
   "outputs": [],
   "source": [
    "out = np.arcsinh(dataset)\n",
    "_ = out.plot(figsize=(6, 2.5))"
   ]
  },
  {
   "cell_type": "markdown",
   "id": "15c2ec91",
   "metadata": {},
   "source": [
    "##### arccosh\n",
    "Inverse hyperbolic cosine, element-wise."
   ]
  },
  {
   "cell_type": "code",
   "execution_count": null,
   "id": "d54ada8f",
   "metadata": {},
   "outputs": [],
   "source": [
    "out = np.arccosh(dataset)\n",
    "_ = out.plot(figsize=(6, 2.5))"
   ]
  },
  {
   "cell_type": "markdown",
   "id": "aa9454f7",
   "metadata": {},
   "source": [
    "##### arctanh\n",
    "Inverse hyperbolic tangent element-wise."
   ]
  },
  {
   "cell_type": "code",
   "execution_count": null,
   "id": "3ce4420f",
   "metadata": {},
   "outputs": [],
   "source": [
    "out = np.arctanh(dataset)\n",
    "_ = out.plot(figsize=(6, 2.5))"
   ]
  },
  {
   "cell_type": "markdown",
   "id": "6012886e",
   "metadata": {},
   "source": [
    "### Binary functions"
   ]
  },
  {
   "cell_type": "code",
   "execution_count": null,
   "id": "7a93cd89",
   "metadata": {},
   "outputs": [],
   "source": [
    "dataset2 = np.reciprocal(dataset + 3)  # create a second dataset\n",
    "dataset2[5000.0:4000.0] = MASKED\n",
    "_ = dataset.plot(figsize=(6, 2.5))\n",
    "_ = dataset2.plot(figsize=(6, 2.5))"
   ]
  },
  {
   "cell_type": "markdown",
   "id": "3b0567f8",
   "metadata": {},
   "source": [
    "#### Arithmetic"
   ]
  },
  {
   "cell_type": "markdown",
   "id": "59eae368",
   "metadata": {},
   "source": [
    "##### add\n",
    "Add arguments element-wise."
   ]
  },
  {
   "cell_type": "code",
   "execution_count": null,
   "id": "1b295857",
   "metadata": {},
   "outputs": [],
   "source": [
    "out = np.add(dataset, dataset2)\n",
    "_ = out.plot(figsize=(6, 2.5))"
   ]
  },
  {
   "cell_type": "markdown",
   "id": "592365b3",
   "metadata": {},
   "source": [
    "##### subtract\n",
    "Subtract arguments, element-wise."
   ]
  },
  {
   "cell_type": "code",
   "execution_count": null,
   "id": "8bcaa1b9",
   "metadata": {},
   "outputs": [],
   "source": [
    "out = np.subtract(dataset, dataset2)\n",
    "_ = out.plot(figsize=(6, 2.5))"
   ]
  },
  {
   "cell_type": "markdown",
   "id": "acbd375f",
   "metadata": {},
   "source": [
    "##### multiply\n",
    "Multiply arguments element-wise."
   ]
  },
  {
   "cell_type": "code",
   "execution_count": null,
   "id": "5b924433",
   "metadata": {},
   "outputs": [],
   "source": [
    "out = np.multiply(dataset, dataset2)\n",
    "_ = out.plot(figsize=(6, 2.5))"
   ]
  },
  {
   "cell_type": "markdown",
   "id": "ebfbeafe",
   "metadata": {},
   "source": [
    "##### divide\n",
    "or\n",
    "##### true_divide\n",
    "Returns a true division of the inputs, element-wise."
   ]
  },
  {
   "cell_type": "code",
   "execution_count": null,
   "id": "7d1dd4a7",
   "metadata": {},
   "outputs": [],
   "source": [
    "out = np.divide(dataset, dataset2)\n",
    "_ = out.plot(figsize=(6, 2.5))"
   ]
  },
  {
   "cell_type": "markdown",
   "id": "4c52bed7",
   "metadata": {},
   "source": [
    "##### floor_divide\n",
    "Return the largest integer smaller or equal to the division of the inputs."
   ]
  },
  {
   "cell_type": "code",
   "execution_count": null,
   "id": "5bad7dee",
   "metadata": {},
   "outputs": [],
   "source": [
    "out = np.floor_divide(dataset, dataset2)\n",
    "_ = out.plot(figsize=(6, 2.5))"
   ]
  },
  {
   "cell_type": "markdown",
   "id": "d64e00b4",
   "metadata": {},
   "source": [
    "## Complex or hypercomplex NDDatasets\n",
    "\n",
    "\n",
    "NDDataset objects with complex data are handled differently than in\n",
    "`numpy.ndarray` .\n",
    "\n",
    "Instead, complex data are stored by interlacing the real and imaginary part.\n",
    "This allows the definition of data that can be complex in several axis, and *e\n",
    ".g.,* allows 2D-hypercomplex array that can be transposed (useful for NMR data)."
   ]
  },
  {
   "cell_type": "code",
   "execution_count": null,
   "id": "907b7652",
   "metadata": {},
   "outputs": [],
   "source": [
    "da = scp.NDDataset(\n",
    "    [\n",
    "        [1.0 + 2.0j, 2.0 + 0j],\n",
    "        [1.3 + 2.0j, 2.0 + 0.5j],\n",
    "        [1.0 + 4.2j, 2.0 + 3j],\n",
    "        [5.0 + 4.2j, 2.0 + 3j],\n",
    "    ]\n",
    ")\n",
    "da"
   ]
  },
  {
   "cell_type": "markdown",
   "id": "c22ddd70",
   "metadata": {},
   "source": [
    "A dataset of type float can be transformed into a complex dataset (using two consecutive rows to create a complex\n",
    "row)"
   ]
  },
  {
   "cell_type": "code",
   "execution_count": null,
   "id": "fd5acbab",
   "metadata": {},
   "outputs": [],
   "source": [
    "da = scp.NDDataset(np.arange(40).reshape(10, 4))\n",
    "da"
   ]
  },
  {
   "cell_type": "code",
   "execution_count": null,
   "id": "5673383e",
   "metadata": {},
   "outputs": [],
   "source": [
    "dac = da.set_complex()\n",
    "dac"
   ]
  },
  {
   "cell_type": "markdown",
   "id": "4fe0fb2a",
   "metadata": {},
   "source": [
    "Note the `x`dimension size is divided by a factor of two"
   ]
  },
  {
   "cell_type": "markdown",
   "id": "76a4a635",
   "metadata": {},
   "source": [
    "A dataset which is complex in two dimensions is called hypercomplex (it's datatype in SpectroChemPy is set to\n",
    "quaternion)."
   ]
  },
  {
   "cell_type": "code",
   "execution_count": null,
   "id": "b230a399",
   "metadata": {},
   "outputs": [],
   "source": [
    "daq = da.set_quaternion()  # equivalently one can use the set_hypercomplex method\n",
    "daq"
   ]
  },
  {
   "cell_type": "code",
   "execution_count": null,
   "id": "f2828611",
   "metadata": {},
   "outputs": [],
   "source": [
    "daq.dtype"
   ]
  }
 ],
 "metadata": {
  "jupytext": {
   "formats": "ipynb,py:percent",
   "notebook_metadata_filter": "all"
  },
  "kernelspec": {
   "display_name": "Python 3 (ipykernel)",
   "language": "python",
   "name": "python3"
  },
  "language_info": {
   "codemirror_mode": {
    "name": "ipython",
    "version": 3
   },
   "file_extension": ".py",
   "mimetype": "text/x-python",
   "name": "python",
   "nbconvert_exporter": "python",
   "pygments_lexer": "ipython3",
   "version": "3.10.8"
  }
 },
 "nbformat": 4,
 "nbformat_minor": 5
}
