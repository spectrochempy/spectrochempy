{
 "cells": [
  {
   "cell_type": "markdown",
   "id": "383ba99a",
   "metadata": {},
   "source": [
    "# SpectroChemPy Overview\n",
    "\n",
    "Welcome to SpectroChemPy! This tutorial will give you a quick overview of the main features\n",
    "and capabilities of the library. We'll cover:\n",
    "\n",
    "1. Loading and displaying spectroscopic data\n",
    "2. Basic data manipulation and plotting\n",
    "3. Processing techniques (smoothing, baseline correction)\n",
    "4. Advanced analysis methods\n",
    "\n",
    "For more detailed information, check out:\n",
    "* [Gallery of Examples](examples/index.rst)\n",
    "* [User's Guide](../userguide/introduction/introduction.rst)\n",
    "* [API Reference](../reference/index.rst)"
   ]
  },
  {
   "cell_type": "markdown",
   "id": "65d99337",
   "metadata": {},
   "source": [
    "## Getting Started\n",
    "\n",
    "First, let's import SpectroChemPy. By convention, we use the alias `scp`:"
   ]
  },
  {
   "cell_type": "code",
   "execution_count": null,
   "id": "30536465",
   "metadata": {},
   "outputs": [],
   "source": [
    "import spectrochempy as scp"
   ]
  },
  {
   "cell_type": "markdown",
   "id": "7090cfcd",
   "metadata": {},
   "source": [
    "## Working with NDDataset Objects\n",
    "\n",
    "The `NDDataset` is the core data structure in SpectroChemPy. It's designed specifically\n",
    "for spectroscopic data and provides:\n",
    "\n",
    "* Multi-dimensional data support\n",
    "* Coordinates and units handling\n",
    "* Built-in visualization\n",
    "* Processing methods\n",
    "\n",
    "Let's load some example FTIR (Fourier Transform Infrared) data:"
   ]
  },
  {
   "cell_type": "code",
   "execution_count": null,
   "id": "d2453722",
   "metadata": {},
   "outputs": [],
   "source": [
    "ds = scp.read(\"irdata/nh4y-activation.spg\")"
   ]
  },
  {
   "cell_type": "markdown",
   "id": "c5ba2e88",
   "metadata": {},
   "source": [
    "### Exploring Your Data\n",
    "\n",
    "SpectroChemPy provides multiple ways to inspect your data. Let's look at:\n",
    "\n",
    "1. Basic information summary\n",
    "2. Detailed metadata"
   ]
  },
  {
   "cell_type": "code",
   "execution_count": null,
   "id": "4078f551",
   "metadata": {},
   "outputs": [],
   "source": [
    "# Quick overview\n",
    "scp.set_loglevel(\"INFO\")  # to see information\n",
    "scp.info_(ds)"
   ]
  },
  {
   "cell_type": "code",
   "execution_count": null,
   "id": "5b31cf75",
   "metadata": {},
   "outputs": [],
   "source": [
    "# Detailed information\n",
    "ds"
   ]
  },
  {
   "cell_type": "markdown",
   "id": "5f88c4db",
   "metadata": {},
   "source": [
    "### Data Visualization\n",
    "\n",
    "SpectroChemPy's plotting capabilities are built on matplotlib but provide\n",
    "spectroscopy-specific features:"
   ]
  },
  {
   "cell_type": "code",
   "execution_count": null,
   "id": "bd41af1b",
   "metadata": {},
   "outputs": [],
   "source": [
    "_ = ds.plot()"
   ]
  },
  {
   "cell_type": "markdown",
   "id": "6006727e",
   "metadata": {},
   "source": [
    "### Data Selection and Manipulation\n",
    "\n",
    "You can easily select specific regions of your spectra using intuitive slicing.\n",
    "Here we select wavenumbers between 4000 and 2000 cm⁻¹:"
   ]
  },
  {
   "cell_type": "code",
   "execution_count": null,
   "id": "5de6b324",
   "metadata": {},
   "outputs": [],
   "source": [
    "region = ds[:, 4000.0:2000.0]\n",
    "_ = region.plot()"
   ]
  },
  {
   "cell_type": "markdown",
   "id": "dd4b1f5d",
   "metadata": {},
   "source": [
    "### Mathematical Operations\n",
    "\n",
    "NDDataset supports various mathematical operations. Here's an example of baseline correction:"
   ]
  },
  {
   "cell_type": "code",
   "execution_count": null,
   "id": "baaa6028",
   "metadata": {},
   "outputs": [],
   "source": [
    "# Make y coordinate relative to the first point\n",
    "region.y -= region.y[0]\n",
    "region.y.title = \"Dehydration time\"\n",
    "\n",
    "# Subtract the last spectrum from all spectra\n",
    "region -= region[-1]\n",
    "\n",
    "# Plot with colorbar to show intensity changes\n",
    "_ = region.plot(colorbar=True)"
   ]
  },
  {
   "cell_type": "markdown",
   "id": "f40f7885",
   "metadata": {},
   "source": [
    "## Data Processing Techniques\n",
    "\n",
    "SpectroChemPy includes numerous processing methods. Here are some common examples:"
   ]
  },
  {
   "cell_type": "markdown",
   "id": "6b90dbfa",
   "metadata": {},
   "source": [
    "### 1. Spectral Smoothing\n",
    "\n",
    "Reduce noise while preserving spectral features:"
   ]
  },
  {
   "cell_type": "code",
   "execution_count": null,
   "id": "69073c77",
   "metadata": {},
   "outputs": [],
   "source": [
    "smoothed = region.smooth(size=51, window=\"hanning\")\n",
    "_ = smoothed.plot(colormap=\"magma\")"
   ]
  },
  {
   "cell_type": "markdown",
   "id": "441f00e6",
   "metadata": {},
   "source": [
    "### 2. Baseline Correction\n",
    "\n",
    "Remove baseline artifacts using various algorithms:"
   ]
  },
  {
   "cell_type": "code",
   "execution_count": null,
   "id": "72f8c6af",
   "metadata": {},
   "outputs": [],
   "source": [
    "# Prepare data\n",
    "region = ds[:, 4000.0:2000.0]\n",
    "smoothed = region.smooth(size=51, window=\"hanning\")\n",
    "\n",
    "# Configure baseline correction\n",
    "blc = scp.Baseline()\n",
    "blc.ranges = [[2000.0, 2300.0], [3800.0, 3900.0]]  # Baseline regions\n",
    "blc.multivariate = True\n",
    "blc.model = \"polynomial\"\n",
    "blc.order = \"pchip\"\n",
    "blc.n_components = 5\n",
    "\n",
    "# Apply correction\n",
    "_ = blc.fit(smoothed)\n",
    "_ = blc.corrected.plot()"
   ]
  },
  {
   "cell_type": "markdown",
   "id": "66f21d62",
   "metadata": {},
   "source": [
    "## Advanced Analysis as for instance IRIS Processing\n",
    "\n",
    "IRIS (Iterative Regularized Inverse Solver) is an advanced technique for analyzing\n",
    "spectroscopic data. Here's an example with CO adsorption data:"
   ]
  },
  {
   "cell_type": "code",
   "execution_count": null,
   "id": "579df6b5",
   "metadata": {},
   "outputs": [],
   "source": [
    "# Load and prepare CO adsorption data\n",
    "ds = scp.read_omnic(\"irdata/CO@Mo_Al2O3.SPG\")[:, 2250.0:1950.0]\n",
    "\n",
    "# Define pressure coordinates\n",
    "pressure = [\n",
    "    0.00300,\n",
    "    0.00400,\n",
    "    0.00900,\n",
    "    0.01400,\n",
    "    0.02100,\n",
    "    0.02600,\n",
    "    0.03600,\n",
    "    0.05100,\n",
    "    0.09300,\n",
    "    0.15000,\n",
    "    0.20300,\n",
    "    0.30000,\n",
    "    0.40400,\n",
    "    0.50300,\n",
    "    0.60200,\n",
    "    0.70200,\n",
    "    0.80100,\n",
    "    0.90500,\n",
    "    1.00400,\n",
    "]\n",
    "ds.y = scp.Coord(pressure, title=\"Pressure\", units=\"torr\")\n",
    "\n",
    "# Plot the dataset\n",
    "_ = ds.plot(colormap=\"magma\")"
   ]
  },
  {
   "cell_type": "code",
   "execution_count": null,
   "id": "adeab07d",
   "metadata": {},
   "outputs": [],
   "source": [
    "# Perform IRIS analysis\n",
    "iris = scp.IRIS(reg_par=[-10, 1, 12])\n",
    "K = scp.IrisKernel(ds, \"langmuir\", q=[-8, -1, 50])\n",
    "iris.fit(ds, K)\n",
    "_ = iris.plotdistribution(-7, colormap=\"magma\")"
   ]
  }
 ],
 "metadata": {
  "jupytext": {
   "formats": "ipynb,py:percent",
   "notebook_metadata_filter": "all"
  },
  "kernelspec": {
   "display_name": "Python 3 (ipykernel)",
   "language": "python",
   "name": "python3"
  },
  "language_info": {
   "codemirror_mode": {
    "name": "ipython",
    "version": 3
   },
   "file_extension": ".py",
   "mimetype": "text/x-python",
   "name": "python",
   "nbconvert_exporter": "python",
   "pygments_lexer": "ipython3",
   "version": "3.11.11"
  },
  "widgets": {
   "application/vnd.jupyter.widget-state+json": {
    "state": {},
    "version_major": 2,
    "version_minor": 0
   }
  }
 },
 "nbformat": 4,
 "nbformat_minor": 5
}
