{
 "cells": [
  {
   "cell_type": "markdown",
   "id": "b2efeba9",
   "metadata": {
    "lines_to_next_cell": 2
   },
   "source": [
    "# Baseline corrections\n",
    "\n",
    "This tutorial shows how to make baseline corrections with **SpectroChemPy** using the\n",
    "`Baseline`class processor - which allows performing all the implemented correction\n",
    "operations with a maximum of flexibility and settings - or using equivalent\n",
    "SpectroChemPy API or NDDataset methods which allow performing specific corrections\n",
    "operations in a more direct way.\n",
    "\n",
    "As prerequisite,\n",
    "the user is expected to have read the [Import](../importexport/import.rst)\n",
    "and [Import IR](../importexport/importIR.rst) tutorials."
   ]
  },
  {
   "cell_type": "markdown",
   "id": "baea2283",
   "metadata": {},
   "source": [
    "We first import spectrochempy"
   ]
  },
  {
   "cell_type": "code",
   "execution_count": null,
   "id": "b9a0f4da",
   "metadata": {},
   "outputs": [],
   "source": [
    "import spectrochempy as scp"
   ]
  },
  {
   "cell_type": "markdown",
   "id": "d79af53e",
   "metadata": {},
   "source": [
    "Then we load a FTIR series of spectra on which we will demonstrate theprocessor capabilities"
   ]
  },
  {
   "cell_type": "code",
   "execution_count": null,
   "id": "9ccf2c7a",
   "metadata": {},
   "outputs": [],
   "source": [
    "# loading\n",
    "X = scp.read(\"irdata/nh4y-activation.spg\")\n",
    "# set figsize preference\n",
    "prefs = X.preferences\n",
    "prefs.figure.figsize = (8, 4)\n",
    "# plot the spectra\n",
    "_ = X.plot()"
   ]
  },
  {
   "cell_type": "markdown",
   "id": "d046b0a5",
   "metadata": {},
   "source": [
    "## The `Baseline` processor\n",
    "\n",
    "The `Baseline` class processor proposes several algorithms (models) for Baseline determination.\n",
    "\n",
    "- `detrend` : Remove polynomial trend along a dimension from dataset.\n",
    "- `polynomial` : Perform a polynomial interpolation on pretermined regions\n",
    "- `asls` : Perform an Asymmetric Least Squares Smoothing baseline correction.\n",
    "- `snip` : Perform a Simple Non-Iterative Peak (SNIP) detection algorithm.\n",
    "- `rubberband` : Perform a Rubberband baseline correction.\n",
    "\n",
    "### How it works?\n",
    "\n",
    "Basically, determining a correct `baseline`, belongs to the decomposition type methods (See `Analysis`):\n",
    "\n",
    "The sequence of command is thus quite similar:\n",
    "\n",
    "1) Initialize an instance of the processor and set the models parameters\n",
    "2) Fit the model on a given dataset to extract a `baseline`.\n",
    "3) Transform the original spectra by subtracting the determined baseline.\n",
    "\n",
    "### Example\n",
    "Let's fit a simple `rubberband` correction model. This is actually the only model in SpectroChemPy which is fully automatic (no parameter).\n"
   ]
  },
  {
   "cell_type": "code",
   "execution_count": null,
   "id": "06df5042",
   "metadata": {},
   "outputs": [],
   "source": [
    "# instance initalisation and model selection\n",
    "blc = scp.Baseline()\n",
    "blc.model = \"rubberband\"\n",
    "# model can also be passed as a parameter\n",
    "blc = scp.Baseline(model=\"rubberband\")\n",
    "# fit the model on the first spectra in X (index:0)\n",
    "blc.fit(X[0])\n",
    "# get the new dataset with the baseline subtracted\n",
    "X1 = blc.transform()\n",
    "# plot X, X1 and the baseline using the processor plot method\n",
    "_ = blc.plot()"
   ]
  },
  {
   "cell_type": "markdown",
   "id": "7932c500",
   "metadata": {},
   "source": [
    "One can also use the property `corrected` instead of the method `transform()`,\n",
    "both giving equivalent results."
   ]
  },
  {
   "cell_type": "code",
   "execution_count": null,
   "id": "6f7bc535",
   "metadata": {},
   "outputs": [],
   "source": [
    "X1 = blc.corrected"
   ]
  },
  {
   "cell_type": "markdown",
   "id": "ecf33635",
   "metadata": {},
   "source": [
    "Of course, we can also apply the model to the complete series sequentially"
   ]
  },
  {
   "cell_type": "code",
   "execution_count": null,
   "id": "3147d7c2",
   "metadata": {},
   "outputs": [],
   "source": [
    "# fit the model on the full X series\n",
    "blc.fit(X)\n",
    "# get the new dataset with the baseline subtracted\n",
    "X2 = blc.transform()\n",
    "# plot the baseline corrected series of spectra\n",
    "_ = X2.plot()"
   ]
  },
  {
   "cell_type": "markdown",
   "id": "a46f381e",
   "metadata": {},
   "source": [
    "The baseline models implemented in SpectroChemPy are able to handle missing data.\n",
    "\n",
    "For instance, let's condider masking the saturated region of the spectra."
   ]
  },
  {
   "cell_type": "code",
   "execution_count": null,
   "id": "48ca61ed",
   "metadata": {},
   "outputs": [],
   "source": [
    "X[:, 891.0:1234.0] = scp.MASKED\n",
    "_ = X.plot()"
   ]
  },
  {
   "cell_type": "markdown",
   "id": "d37e7f65",
   "metadata": {},
   "source": [
    "Fitting the baseline is done transparently"
   ]
  },
  {
   "cell_type": "code",
   "execution_count": null,
   "id": "91b69598",
   "metadata": {},
   "outputs": [],
   "source": [
    "blc.fit(X)\n",
    "X3 = blc.transform()\n",
    "_ = X3.plot()"
   ]
  },
  {
   "cell_type": "markdown",
   "id": "d3c11f9f",
   "metadata": {},
   "source": [
    "### Overview of the other model"
   ]
  },
  {
   "cell_type": "markdown",
   "id": "51bbf9a2",
   "metadata": {},
   "source": [
    "#### Polynomial\n",
    "With this model, a polynomial is fitted using range of coordinate which are considered as belonging to the baseline."
   ]
  },
  {
   "cell_type": "markdown",
   "id": "a1ae8468",
   "metadata": {},
   "source": [
    "- The first step is then to select the various regions that we expect to belong to\n",
    "  the baseline.\n",
    "- Then the degree of the polynomial is set (using the `order` parameters).\n",
    "  A special cas is encountered, if `order` is set to \"pchip\". In this case a piecewise cubic hermite interpolation\n",
    "  is performed in place of the classic polynomial interpolation.\n",
    "\n",
    "**Range selection**\n",
    "\n",
    "Each spectral range is defined by a list of two values indicating the limits of the\n",
    "spectral ranges, e.g. `[4500.,\n",
    "3500.]` to\n",
    "select the 4500-3500 cm$^{-1}$ range. Note that the ordering has no importance and\n",
    "using `[3500.0, 4500.]` would\n",
    "lead to exactly the same result. It is also possible to formally pick a single\n",
    "wavenumber `3750.`."
   ]
  },
  {
   "cell_type": "code",
   "execution_count": null,
   "id": "a1e2272f",
   "metadata": {},
   "outputs": [],
   "source": [
    "ranges = (\n",
    "    [5900.0, 5400.0],\n",
    "    4550.0,\n",
    "    [4230.0, 4330.0],\n",
    "    3780,\n",
    "    [2100.0, 2000.0],\n",
    "    [1550.0, 1555.0],\n",
    "    1305.0,\n",
    "    840.0,\n",
    ")"
   ]
  },
  {
   "cell_type": "markdown",
   "id": "a7883aff",
   "metadata": {},
   "source": [
    "**Polynomial of degree: order**\n",
    "\n",
    "In this case, the base methods used for the interpolation are those of the\n",
    "[polynomial module](\n",
    "https://numpy.org/doc/stable/reference/routines.polynomials.polynomial.html)\n",
    "of spectrochempy, in particular the\n",
    "[numpy.polynomial.polynomial.polyfit()](\n",
    "https://numpy.org/doc/stable/reference/generated/numpy.polynomial.polynomial.polyfit.html#numpy.polynomial.polynomial.polyfit)\n",
    "method."
   ]
  },
  {
   "cell_type": "code",
   "execution_count": null,
   "id": "b9384c6a",
   "metadata": {},
   "outputs": [],
   "source": [
    "# set the model\n",
    "blc.model = \"polynomial\"\n",
    "# set the polynomial order\n",
    "blc.order = 7\n",
    "# set the ranges\n",
    "blc.ranges = ranges\n",
    "# fit the model on the first spectra X[0]\n",
    "blc.fit(X[0])\n",
    "# get and plot the corrected dataset\n",
    "X4 = blc.transform()\n",
    "ax = blc.plot()"
   ]
  },
  {
   "cell_type": "markdown",
   "id": "abd7b542",
   "metadata": {},
   "source": [
    "The method `show_regions` can be used to display the regions used for the baseline"
   ]
  },
  {
   "cell_type": "code",
   "execution_count": null,
   "id": "6c7bdf55",
   "metadata": {},
   "outputs": [],
   "source": [
    "blc.show_regions(ax)"
   ]
  },
  {
   "cell_type": "markdown",
   "id": "02147bfd",
   "metadata": {},
   "source": [
    "To examine which ranges has been used, use the `used_ranges` attribute. Note, the\n",
    "extrema have been automatically added."
   ]
  },
  {
   "cell_type": "code",
   "execution_count": null,
   "id": "5babbbf4",
   "metadata": {},
   "outputs": [],
   "source": [
    "blc.used_ranges"
   ]
  },
  {
   "cell_type": "markdown",
   "id": "5d68e474",
   "metadata": {},
   "source": [
    "**Polynomial and pchip interpolation**\n",
    "\n",
    "An interpolation using cubic Hermite spline interpolation can be used:\n",
    "`order='pchip'` (`pchip` stands for **P**iecewise **C**ubic **H**ermite **I**nterpolating **P**olynomial).\n",
    "\n",
    "This option triggers the use of\n",
    "[scipy.interpolate.PchipInterpolator()](\n",
    "https://docs.scipy.org/doc/scipy/reference/generated/scipy.interpolate.PchipInterpolator.html)\n",
    "to which we refer the interested readers."
   ]
  },
  {
   "cell_type": "code",
   "execution_count": null,
   "id": "9da11a66",
   "metadata": {},
   "outputs": [],
   "source": [
    "# set the polynomial order to 'pchip'\n",
    "blc.order = \"pchip\"\n",
    "# fit the model on the first spectra X[0]\n",
    "blc.fit(X[0])\n",
    "# get and plot the corrected dataset\n",
    "X5 = blc.transform()\n",
    "_ = blc.plot()"
   ]
  },
  {
   "cell_type": "markdown",
   "id": "009d2364",
   "metadata": {},
   "source": [
    "**AsLS :  Asymmetric Least Squares Smoothing baseline correction**\n",
    "\n",
    "Example:"
   ]
  },
  {
   "cell_type": "code",
   "execution_count": null,
   "id": "b53c75b7",
   "metadata": {},
   "outputs": [],
   "source": [
    "blc.model = \"asls\"\n",
    "blc.lamb = 10**9\n",
    "blc.asymmetry = 0.002\n",
    "blc.fit(X)\n",
    "X6 = blc.transform()\n",
    "_ = X6.plot()"
   ]
  },
  {
   "cell_type": "markdown",
   "id": "c92e2ced",
   "metadata": {},
   "source": [
    "**SNIP : Perform a Simple Non-Iterative Peak (SNIP) detection algorithm**\n",
    "\n",
    "Example:"
   ]
  },
  {
   "cell_type": "code",
   "execution_count": null,
   "id": "6ba6755a",
   "metadata": {},
   "outputs": [],
   "source": [
    "blc.model = \"snip\"\n",
    "blc.snip_width = 200\n",
    "blc.fit(X)\n",
    "X7 = blc.transform()\n",
    "_ = X7.plot()"
   ]
  },
  {
   "cell_type": "markdown",
   "id": "e73fa5ff",
   "metadata": {},
   "source": [
    "### Multivariate approach\n",
    "In the previous example, we have fitted the model sequentially on all spectra.\n",
    "\n",
    "Another useful approach is multivariate, where SVD/PCA or NMF is used to perform a dimensionality reduction into principal components (eignenvectors), followed by a model fitting on each of these components. This obviously require a 2D dataset, so it is not applicable to single spectra.\n",
    "\n",
    "The 'multivariate' option is useful when the signal to noise ratio is low and/or when baseline changes in different regions of the spectrum are different regions of the spectrum are correlated. It consists of (i) modeling the baseline regions by a principal component analysis (PCA), (ii) interpolating the loadings of the first principal components over the whole spectrum and (iii) model the baselines of the spectra from the product of the PCA scores and the interpolated loadings. (For details: see Vilmin et al. Analytica Chimica Acta 891 (2015)).\n",
    "\n",
    "If this option is selected, the user must also set the n_components parameter, i.e. the number of principal components used to model the baseline. In a sense, this parameter has the same role as the order parameter, except that it affects how the baseline fits the selected regions on both dimensions: wavelength and acquisition time. In particular, a large value of n_components will lead to an overfitting of the baseline variation with time and lead to the same result as the while a value that is too small may fail to detect a main component underlying the baseline variation over time. Typical optimal values are n_components=2 or n_components=3.\n",
    "\n",
    "Let's demonstrate this on the previously used dataset.\n"
   ]
  },
  {
   "cell_type": "code",
   "execution_count": null,
   "id": "79bde0f9",
   "metadata": {},
   "outputs": [],
   "source": [
    "# set to multivariate (SVD by default)\n",
    "blc.multivariate = True\n",
    "# set the model\n",
    "blc.model = \"polynomial\"\n",
    "blc.order = 10\n",
    "# Set the number of components\n",
    "blc.n_components = 3\n",
    "# Fit the model on X\n",
    "blc.fit(X)\n",
    "# get the corrected dataset\n",
    "X8 = blc.transform()\n",
    "# plot the result\n",
    "_ = X8.plot()"
   ]
  },
  {
   "cell_type": "markdown",
   "id": "1118e99f",
   "metadata": {},
   "source": [
    "Finally, for all the example shown above, we have used the same instance of Baseline. It may be a problem to remember which setting has been done, and may impact new output. To know the actual status, one can use the `params` method. This will list all actual parameters.\n"
   ]
  },
  {
   "cell_type": "code",
   "execution_count": null,
   "id": "ea8a88d0",
   "metadata": {},
   "outputs": [],
   "source": [
    "blc.params()"
   ]
  },
  {
   "cell_type": "markdown",
   "id": "164961a3",
   "metadata": {},
   "source": [
    "## Baseline correction using NDDataset or API methods"
   ]
  },
  {
   "cell_type": "markdown",
   "id": "55d8746b",
   "metadata": {},
   "source": [
    "The `Baseline` processor is very flexible but it may be useful to use simpler way to compute baseline. This is the role of the methods\n",
    "described below (which call the `Baseline` processor transparently)."
   ]
  },
  {
   "cell_type": "markdown",
   "id": "5b4b6fab",
   "metadata": {},
   "source": [
    "As an example, we can now use a dataset consisting of 80 samples of corn measured on a NIR\n",
    "spectrometer. This dataset (and others) can be loaded from http://www.eigenvector.com."
   ]
  },
  {
   "cell_type": "code",
   "execution_count": null,
   "id": "1b058f47",
   "metadata": {},
   "outputs": [],
   "source": [
    "A = scp.read(\"http://www.eigenvector.com/data/Corn/corn.mat\")[4]"
   ]
  },
  {
   "cell_type": "markdown",
   "id": "a1952feb",
   "metadata": {},
   "source": [
    "Add some label for a better reading of the data axis"
   ]
  },
  {
   "cell_type": "code",
   "execution_count": null,
   "id": "17fab6a2",
   "metadata": {},
   "outputs": [],
   "source": [
    "A.title = \"absorbance\"\n",
    "A.units = \"a.u.\"\n",
    "A.x.title = \"Wavelength\"\n",
    "A.x.units = \"nm\""
   ]
  },
  {
   "cell_type": "markdown",
   "id": "c44175c1",
   "metadata": {},
   "source": [
    "Now plot the original dataset A:"
   ]
  },
  {
   "cell_type": "code",
   "execution_count": null,
   "id": "8ffb6763",
   "metadata": {},
   "outputs": [],
   "source": [
    "prefs = A.preferences\n",
    "prefs.figure.figsize = (7, 3)\n",
    "prefs.colormap = \"magma_r\"\n",
    "_ = A.plot()"
   ]
  },
  {
   "cell_type": "markdown",
   "id": "97e75004",
   "metadata": {},
   "source": [
    "### Detrending\n",
    "\n",
    "It is quite clear that this spectrum series has an increasing trend with both a\n",
    "vertical shift and a drift.\n",
    "\n",
    "The `detrend` method can help to remove such trends (Note that we did not talk about this before, but the model is also available in the`Baseline`processor:\n",
    "`model='detrend'`)"
   ]
  },
  {
   "cell_type": "markdown",
   "id": "093676e0",
   "metadata": {},
   "source": [
    "#### Constant trend\n",
    "\n",
    "When the trend is simply a shift one can subtract the mean absorbance to each spectrum."
   ]
  },
  {
   "cell_type": "code",
   "execution_count": null,
   "id": "3c9ec75c",
   "metadata": {},
   "outputs": [],
   "source": [
    "A1 = A.detrend(order=\"constant\")  # Here we use a NDDataset method\n",
    "_ = A1.plot()"
   ]
  },
  {
   "cell_type": "markdown",
   "id": "02ff341c",
   "metadata": {},
   "source": [
    "#### Linear trend\n",
    "But here the trend is clearly closer to a linear trend. So we can use a linear correction\n",
    "with `A.detrend(order=\"linear\")` or simply `A.detrend()` as \"linear\" is the default."
   ]
  },
  {
   "cell_type": "code",
   "execution_count": null,
   "id": "136729cd",
   "metadata": {},
   "outputs": [],
   "source": [
    "A2 = scp.detrend(\n",
    "    A\n",
    ")  # Here we use the API method (this is fully equivalent to the NDDataset method)\n",
    "_ = A2.plot()"
   ]
  },
  {
   "cell_type": "markdown",
   "id": "62079e1a",
   "metadata": {},
   "source": [
    "#### Polynomial trend\n",
    "\n",
    "If a higher degree of polynomial is necessary, it is possible to use a nonnegative integer scalar to define order (degree).\n",
    "Note that for degree 2 and 3, the \"quadratic\" and \"cubic\" keywords are also available to define 2 and 3-degree of polynomial."
   ]
  },
  {
   "cell_type": "code",
   "execution_count": null,
   "id": "96017419",
   "metadata": {},
   "outputs": [],
   "source": [
    "A3 = A.detrend(order=\"quadratic\")  # one can also use `order=2`\n",
    "_ = A3.plot()"
   ]
  },
  {
   "cell_type": "markdown",
   "id": "0579ebd8",
   "metadata": {},
   "source": [
    "#### Detrend independently on several data segment\n",
    "\n",
    "For this we must define a vector (`bp`) which contains the location of the break-points,\n",
    "which determine the limits of each segments.\n",
    "\n",
    "For example, let's try on a single spectrum for clarity:"
   ]
  },
  {
   "cell_type": "code",
   "execution_count": null,
   "id": "c8f0213c",
   "metadata": {},
   "outputs": [],
   "source": [
    "# without breakpoint\n",
    "R = A[0]\n",
    "R1 = R.detrend()\n",
    "\n",
    "# plots\n",
    "_ = R.plot(label=\"original\")\n",
    "R1.plot(label=\"detrended\", clear=False)\n",
    "ax = (R - R1).plot(label=\"trend\", clear=False, cmap=None, color=\"red\", ls=\":\")\n",
    "ax.legend(loc=\"upper left\")\n",
    "_ = ax.set_ylim([-0.3, 0.8])"
   ]
  },
  {
   "cell_type": "markdown",
   "id": "7877d3ec",
   "metadata": {},
   "source": [
    "<div class=\"alert alert-info\">\n",
    "<b>Note</b>\n",
    "\n",
    " we use float number to define breakpoint as coordinate.\n",
    " Integer number would mean that we use indice starting at 0 (not the same thing!).\n",
    " in this case, indice 1856 does not exist as the size of the x axis is 700.</div>"
   ]
  },
  {
   "cell_type": "code",
   "execution_count": null,
   "id": "4dae18ae",
   "metadata": {},
   "outputs": [],
   "source": [
    "# with breakpoints\n",
    "bp = [1300.0, 1856.0]  # warning must be float to set location, in int for indices\n",
    "R2 = R.detrend(breakpoints=bp)\n",
    "_ = R.plot()\n",
    "R2.plot(clear=False)\n",
    "ax = (R - R2).plot(clear=False, cmap=None, color=\"red\", ls=\":\")\n",
    "_ = ax.set_ylim([-0.3, 0.8])"
   ]
  },
  {
   "cell_type": "markdown",
   "id": "aae1f06c",
   "metadata": {},
   "source": [
    "### basc\n",
    "Make a baseline correction using the `Baseline` class.\n",
    "\n",
    "Examples:"
   ]
  },
  {
   "cell_type": "markdown",
   "id": "affc47f3",
   "metadata": {},
   "source": [
    "**Automatic linear baseline correction**\n",
    "\n",
    "When the baseline to remove is a simple linear correction, one can use `basc` without\n",
    "entering any parameter. This performs an automatic linear baseline correction.\n",
    "This is close to detrend(oreder=1), exceot that the linear baseline is fitted on the\n",
    "the spectra limit to fit the baseline. This is useful when the spectra limits are\n",
    "signal free."
   ]
  },
  {
   "cell_type": "code",
   "execution_count": null,
   "id": "2ed1d9b2",
   "metadata": {},
   "outputs": [],
   "source": [
    "Aa = A.basc()\n",
    "_ = Aa.plot()  # range are automatically set to the start and end of the spectra, model='polynomial', order='linear'"
   ]
  },
  {
   "cell_type": "markdown",
   "id": "ce678593",
   "metadata": {},
   "source": [
    "All parameters of `Baseline` can be used in basc. It is thus probably quite conveninent if one wants to write shorter code."
   ]
  },
  {
   "cell_type": "markdown",
   "id": "23757ce9",
   "metadata": {},
   "source": [
    "### Rubberband\n",
    "\n",
    "Method such as `ruberband`, `asls` and `snip` can be called directly.\n",
    "\n",
    "Example:\n"
   ]
  },
  {
   "cell_type": "code",
   "execution_count": null,
   "id": "cce0b898",
   "metadata": {},
   "outputs": [],
   "source": [
    "Ab = scp.rubberband(A)\n",
    "_ = Ab.plot()"
   ]
  },
  {
   "cell_type": "markdown",
   "id": "adac6680",
   "metadata": {},
   "source": [
    "### Code snippet for 'advanced' baseline correction\n",
    "The following code in which the user can change any of the parameters and look at\n",
    "the changes after re-running\n",
    "the cell:"
   ]
  },
  {
   "cell_type": "code",
   "execution_count": null,
   "id": "571c5c8b",
   "metadata": {
    "lines_to_next_cell": 2
   },
   "outputs": [],
   "source": [
    "# Create a baseline instance and give it a name (here basc)\n",
    "# ---------------------------------------------------------\n",
    "basc = scp.Baseline()\n",
    "\n",
    "# user defined parameters\n",
    "# -----------------------\n",
    "basc.ranges = (  # ranges can be pair or single values\n",
    "    [5900.0, 5400.0],\n",
    "    [4000.0, 4500.0],\n",
    "    4550.0,\n",
    "    [2100.0, 2000.0],\n",
    "    [1550.0, 1555.0],\n",
    "    [1250.0, 1300.0],\n",
    "    [800.0, 850.0],\n",
    ")\n",
    "basc.interpolation = \"pchip\"  # choose 'polynomial' or 'pchip'\n",
    "basc.order = 5  # only used for 'polynomial'\n",
    "basc.method = \"sequential\"  # choose 'sequential' or 'multivariate'\n",
    "basc.n_components = 3  # only used for 'multivariate'\n",
    "\n",
    "# fit baseline, plot original and corrected NDDatasets and ranges\n",
    "# ---------------------------------------------------------------\n",
    "_ = basc.fit(X)\n",
    "Xc = basc.corrected\n",
    "\n",
    "axs = scp.multiplot(\n",
    "    [X, Xc],\n",
    "    labels=[\"Original\", \"Baseline corrected\"],\n",
    "    sharex=True,\n",
    "    nrow=2,\n",
    "    ncol=1,\n",
    "    figsize=(7, 6),\n",
    "    dpi=96,\n",
    ")\n",
    "basc.show_regions(axs[\"axe21\"])"
   ]
  },
  {
   "cell_type": "markdown",
   "id": "c85a6a3e",
   "metadata": {},
   "source": [
    "<div class='alert alert-info'>\n",
    "    <b>Exercises</b>\n",
    "\n",
    "**basic:**\n",
    "- write commands to subtract (i) the first spectrum from a dataset and (ii)\n",
    "the mean spectrum from a dataset\n",
    "- write a code to correct the baseline of the last 10 spectra of the above dataset\n",
    "in the 4000-3500 cm$^{-1}$ range\n",
    "\n",
    "**intermediate:**\n",
    "- what would be the parameters to use in 'advanced' baseline correction to mimic\n",
    "'detrend' ? Write a code to check\n",
    "your answer.\n",
    "\n",
    "**advanced:**\n",
    "- simulate noisy spectra with baseline drifts and compare the performances of\n",
    "`multivariate` vs `sequential` methods\n",
    "</div>"
   ]
  }
 ],
 "metadata": {
  "jupytext": {
   "formats": "ipynb,py:percent",
   "notebook_metadata_filter": "all"
  },
  "kernelspec": {
   "display_name": "Python 3 (ipykernel)",
   "language": "python",
   "name": "python3"
  },
  "language_info": {
   "codemirror_mode": {
    "name": "ipython",
    "version": 3
   },
   "file_extension": ".py",
   "mimetype": "text/x-python",
   "name": "python",
   "nbconvert_exporter": "python",
   "pygments_lexer": "ipython3",
   "version": "3.11.5"
  }
 },
 "nbformat": 4,
 "nbformat_minor": 5
}
