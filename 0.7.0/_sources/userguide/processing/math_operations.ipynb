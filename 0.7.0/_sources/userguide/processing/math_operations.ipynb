{
 "cells": [
  {
   "cell_type": "markdown",
   "id": "305dc44b",
   "metadata": {},
   "source": [
    "# Mathematical operations"
   ]
  },
  {
   "cell_type": "code",
   "execution_count": null,
   "id": "27cf1c17",
   "metadata": {},
   "outputs": [],
   "source": [
    "import numpy as np\n",
    "\n",
    "import spectrochempy as scp\n",
    "from spectrochempy import MASKED\n",
    "from spectrochempy import DimensionalityError\n",
    "from spectrochempy import error_"
   ]
  },
  {
   "cell_type": "markdown",
   "id": "9b932629",
   "metadata": {},
   "source": [
    "## Ufuncs (Universal Numpy's functions)\n",
    "A universal function (or `ufunc` in short) is a function that operates on numpy arrays in an element-by-element\n",
    "fashion, supporting array broadcasting, type casting, and several other standard features. That is, a `ufunc` is a\n",
    "“vectorized” wrapper for a function that takes a fixed number of specific inputs and produces a fixed number of\n",
    "specific outputs.\n",
    "\n",
    "For instance, in numpy to calculate the square root of each element of a given nd-array, we can write something\n",
    "like this using the `np.sqrt` functions :"
   ]
  },
  {
   "cell_type": "code",
   "execution_count": null,
   "id": "3daa50a0",
   "metadata": {},
   "outputs": [],
   "source": [
    "x = np.array([1.0, 2.0, 3.0, 4.0, 6.0])\n",
    "np.sqrt(x)"
   ]
  },
  {
   "cell_type": "markdown",
   "id": "e8d5edf2",
   "metadata": {},
   "source": [
    "As seen above, `np.sqrt(x)` return a numpy array.\n",
    "\n",
    "The interesting thing, it that `ufunc`'s can also work with `NDDataset` ."
   ]
  },
  {
   "cell_type": "code",
   "execution_count": null,
   "id": "5eb92ef7",
   "metadata": {},
   "outputs": [],
   "source": [
    "dx = scp.NDDataset(x)\n",
    "np.sqrt(dx)"
   ]
  },
  {
   "cell_type": "markdown",
   "id": "391b0205",
   "metadata": {},
   "source": [
    "## List of UFuncs working on `NDDataset`:\n",
    "\n",
    "### Functions affecting magnitudes of the number but keeping units\n",
    "* [negative](#negative)(x, **kwargs): Numerical negative, element-wise.\n",
    "* [absolute](#abs)(x, **kwargs): Calculate the absolute value, element-wise. Alias: [abs](#abs)\n",
    "* [fabs](#abs)(x, **kwargs): Calculate the absolute value, element-wise. Complex values are not handled,\n",
    "use [absolute](#abs) to find the absolute values of complex data.\n",
    "* [conj](#)(x, **kwargs): Return the complex conjugate, element-wise.\n",
    "* [rint](#rint)(x, **kwargs) :Round to the nearest integer, element-wise.\n",
    "* [floor](#floor)(x, **kwargs): Return the floor of the input, element-wise.\n",
    "* [ceil](#ceil)(x, **kwargs): Return the ceiling of the input, element-wise.\n",
    "* [trunc](#trunc)(x, **kwargs): Return the truncated value of the input, element-wise.\n",
    "\n",
    "### Functions affecting magnitudes of the number but also units\n",
    "* [sqrt](#sqrt)(x, **kwargs): Return the non-negative square-root of an array, element-wise.\n",
    "* [square](#square)(x, **kwargs): Return the element-wise square of the input.\n",
    "* [cbrt](#cbrt)(x, **kwargs): Return the cube-root of an array, element-wise.\n",
    "* [reciprocal](#reciprocal)(x, **kwargs): Return the reciprocal of the argument, element-wise.\n",
    "\n",
    "### Functions that require no units or dimensionless units for inputs. Returns dimensionless objects.\n",
    "* [exp](#exp)(x, **kwargs): Calculate the exponential of all elements in the input array.\n",
    "* [exp2](#exp)(x, **kwargs): Calculate 2**p for all p in the input array.\n",
    "* [expm1](#exp)(x, **kwargs): Calculate `exp(x) - 1` for all elements in the array.\n",
    "* [log](#log)(x, **kwargs): Natural logarithm, element-wise.\n",
    "* [log2](#log)(x, **kwargs): Base-2 logarithm of x.\n",
    "* [log10](#log)(x, **kwargs): Return the base 10 logarithm of the input array, element-wise.\n",
    "* [log1p](#log)(x, **kwargs): Return `log(x + 1)` , element-wise.\n",
    "\n",
    "### Functions that return numpy arrays (*Work only for NDDataset*)\n",
    "* [sign](#sign)(x): Returns an element-wise indication of the sign of a number.\n",
    "* [logical_not](#logical_not)(x): Compute the truth value of NOT x element-wise.\n",
    "* [isfinite](#isfinite)(x): Test element-wise for finiteness.\n",
    "* [isinf](#isinf)(x): Test element-wise for positive or negative infinity.\n",
    "* [isnan](#isnan)(x): Test element-wise for `NaN` and return result as a boolean array.\n",
    "* [signbit](#signbit)(x): Returns element-wise `True` where signbit is set.\n",
    "\n",
    "### Trigonometric functions. Require unitless data or radian units.\n",
    "* [sin](#sin)(x, **kwargs): Trigonometric sine, element-wise.\n",
    "* [cos](#cos)(x, **kwargs): Trigonometric cosine element-wise.\n",
    "* [tan](#tan)(x, **kwargs): Compute tangent element-wise.\n",
    "* [arcsin](#arcsin)(x, **kwargs): Inverse sine, element-wise.\n",
    "* [arccos](#arccos)(x, **kwargs): Trigonometric inverse cosine, element-wise.\n",
    "* [arctan](#arctan)(x, **kwargs): Trigonometric inverse tangent, element-wise.\n",
    "\n",
    "### Hyperbolic functions\n",
    "* [sinh](#sinh)(x, **kwargs): Hyperbolic sine, element-wise.\n",
    "* [cosh](#cosh)(x, **kwargs): Hyperbolic cosine, element-wise.\n",
    "* [tanh](#tanh)(x, **kwargs): Compute hyperbolic tangent element-wise.\n",
    "* [arcsinh](#arcsinh)(x, **kwargs): Inverse hyperbolic sine element-wise.\n",
    "* [arccosh](#arccosh)(x, **kwargs): Inverse hyperbolic cosine, element-wise.\n",
    "* [arctanh](#arctanh)(x, **kwargs): Inverse hyperbolic tangent element-wise.\n",
    "\n",
    "### Unit conversions\n",
    "* [deg2rad](#deg2rad)(x, **kwargs): Convert angles from degrees to radians.\n",
    "* [rad2deg](#rad2deg)(x, **kwargs): Convert angles from radians to degrees.\n",
    "\n",
    "### Binary Ufuncs\n",
    "\n",
    "* [add](#add)(x1, x2, **kwargs): Add arguments element-wise.\n",
    "* [subtract](#subtract)(x1, x2, **kwargs): Subtract arguments, element-wise.\n",
    "* [multiply](#multiply)(x1, x2, **kwargs): Multiply arguments element-wise.\n",
    "* [divide](#divide) or [true_divide](#divide)(x1, x2, **kwargs): Returns a true division of the inputs,\n",
    "element-wise.\n",
    "* [floor_divide](#floor_divide)(x1, x2, **kwargs): Return the largest integer smaller or equal to the division of\n",
    "the inputs."
   ]
  },
  {
   "cell_type": "markdown",
   "id": "abd7f07a",
   "metadata": {},
   "source": [
    "## Usage\n",
    "To demonstrate the use of mathematical operations on spectrochempy object, we will first load an experimental 2D\n",
    "dataset."
   ]
  },
  {
   "cell_type": "code",
   "execution_count": null,
   "id": "7a899343",
   "metadata": {},
   "outputs": [],
   "source": [
    "d2D = scp.read_omnic(\"irdata/nh4y-activation.spg\")\n",
    "prefs = d2D.preferences\n",
    "prefs.colormap = \"magma\"\n",
    "prefs.colorbar = False\n",
    "prefs.figure.figsize = (6, 3)\n",
    "_ = d2D.plot()"
   ]
  },
  {
   "cell_type": "markdown",
   "id": "94c0c482",
   "metadata": {},
   "source": [
    "Let's select only the first row of the 2D dataset ( the `squeeze` method is used to remove\n",
    "the residual size 1 dimension). In addition, we mask the saturated region."
   ]
  },
  {
   "cell_type": "code",
   "execution_count": null,
   "id": "e117dde0",
   "metadata": {},
   "outputs": [],
   "source": [
    "dataset = d2D[0].squeeze()\n",
    "_ = dataset.plot()"
   ]
  },
  {
   "cell_type": "markdown",
   "id": "8971d421",
   "metadata": {},
   "source": [
    "This dataset will be artificially modified already using some mathematical operation (subtraction with a scalar) to\n",
    "present negative values, and we will also mask some data"
   ]
  },
  {
   "cell_type": "code",
   "execution_count": null,
   "id": "47a2e604",
   "metadata": {},
   "outputs": [],
   "source": [
    "dataset -= 2.0  # add an offset to make that some of the values become negative\n",
    "dataset[1290.0:890.0] = scp.MASKED  # additionally we mask some data\n",
    "_ = dataset.plot()"
   ]
  },
  {
   "cell_type": "markdown",
   "id": "106eb510",
   "metadata": {},
   "source": [
    "### Unary functions"
   ]
  },
  {
   "cell_type": "markdown",
   "id": "0564595f",
   "metadata": {},
   "source": [
    "#### Functions affecting magnitudes of the number but keeping units"
   ]
  },
  {
   "cell_type": "markdown",
   "id": "d97c7a2c",
   "metadata": {},
   "source": [
    "##### negative\n",
    "Numerical negative, element-wise, keep units"
   ]
  },
  {
   "cell_type": "code",
   "execution_count": null,
   "id": "462838e2",
   "metadata": {},
   "outputs": [],
   "source": [
    "out = np.negative(dataset)  # the same results is obtained using out=-dataset\n",
    "_ = out.plot(figsize=(6, 2.5), show_mask=True)"
   ]
  },
  {
   "cell_type": "markdown",
   "id": "84069a00",
   "metadata": {},
   "source": [
    "##### abs\n",
    "##### absolute (alias of abs)\n",
    "##### fabs (absolute for float arrays)\n",
    "Numerical absolute value element-wise, element-wise, keep units"
   ]
  },
  {
   "cell_type": "code",
   "execution_count": null,
   "id": "7a7026f4",
   "metadata": {},
   "outputs": [],
   "source": [
    "out = np.abs(dataset)\n",
    "_ = out.plot(figsize=(6, 2.5))"
   ]
  },
  {
   "cell_type": "markdown",
   "id": "da181663",
   "metadata": {},
   "source": [
    "##### rint\n",
    "Round elements of the array to the nearest integer, element-wise, keep units"
   ]
  },
  {
   "cell_type": "code",
   "execution_count": null,
   "id": "59f1f3ce",
   "metadata": {},
   "outputs": [],
   "source": [
    "out = np.rint(dataset)\n",
    "_ = out.plot(figsize=(6, 2.5))  # not that title is not modified for this ufunc"
   ]
  },
  {
   "cell_type": "markdown",
   "id": "2633fc83",
   "metadata": {},
   "source": [
    "##### floor\n",
    "Return the floor of the input, element-wise."
   ]
  },
  {
   "cell_type": "code",
   "execution_count": null,
   "id": "41c98be6",
   "metadata": {},
   "outputs": [],
   "source": [
    "out = np.floor(dataset)\n",
    "_ = out.plot(figsize=(6, 2.5))"
   ]
  },
  {
   "cell_type": "markdown",
   "id": "9465c41c",
   "metadata": {},
   "source": [
    "##### ceil\n",
    "Return the ceiling of the input, element-wise."
   ]
  },
  {
   "cell_type": "code",
   "execution_count": null,
   "id": "fdc2bb0d",
   "metadata": {},
   "outputs": [],
   "source": [
    "out = np.ceil(dataset)\n",
    "_ = out.plot(figsize=(6, 2.5))"
   ]
  },
  {
   "cell_type": "markdown",
   "id": "bd19538f",
   "metadata": {},
   "source": [
    "##### trunc\n",
    "Return the truncated value of the input, element-wise."
   ]
  },
  {
   "cell_type": "code",
   "execution_count": null,
   "id": "307a8654",
   "metadata": {},
   "outputs": [],
   "source": [
    "out = np.trunc(dataset)\n",
    "_ = out.plot(figsize=(6, 2.5))"
   ]
  },
  {
   "cell_type": "markdown",
   "id": "08cd7f96",
   "metadata": {},
   "source": [
    "#### Functions affecting magnitudes of the number but also units\n",
    "##### sqrt\n",
    "Return the non-negative square-root of an array, element-wise."
   ]
  },
  {
   "cell_type": "code",
   "execution_count": null,
   "id": "4f48842a",
   "metadata": {},
   "outputs": [],
   "source": [
    "out = np.sqrt(\n",
    "    dataset\n",
    ")  # as they are some negative elements, return dataset has complex dtype.\n",
    "_ = out.plot_1D(show_complex=True, figsize=(6, 2.5))"
   ]
  },
  {
   "cell_type": "markdown",
   "id": "e583668e",
   "metadata": {},
   "source": [
    "##### square\n",
    "Return the element-wise square of the input."
   ]
  },
  {
   "cell_type": "code",
   "execution_count": null,
   "id": "0bf025a0",
   "metadata": {},
   "outputs": [],
   "source": [
    "out = np.square(dataset)\n",
    "_ = out.plot(figsize=(6, 2.5))"
   ]
  },
  {
   "cell_type": "markdown",
   "id": "dbc6554e",
   "metadata": {},
   "source": [
    "##### cbrt\n",
    "Return the cube-root of an array, element-wise."
   ]
  },
  {
   "cell_type": "code",
   "execution_count": null,
   "id": "88176dca",
   "metadata": {},
   "outputs": [],
   "source": [
    "out = np.cbrt(dataset)\n",
    "_ = out.plot(figsize=(6, 2.5))"
   ]
  },
  {
   "cell_type": "markdown",
   "id": "b2dc39a6",
   "metadata": {},
   "source": [
    "##### reciprocal\n",
    "Return the reciprocal of the argument, element-wise."
   ]
  },
  {
   "cell_type": "code",
   "execution_count": null,
   "id": "eb8b195c",
   "metadata": {},
   "outputs": [],
   "source": [
    "out = np.reciprocal(dataset + 3.0)\n",
    "_ = out.plot(figsize=(6, 2.5))"
   ]
  },
  {
   "cell_type": "markdown",
   "id": "d3a02343",
   "metadata": {},
   "source": [
    "#### Functions that require no units or dimensionless units for inputs. Returns dimensionless objects."
   ]
  },
  {
   "cell_type": "markdown",
   "id": "66b3762d",
   "metadata": {},
   "source": [
    "##### exp\n",
    "Exponential of all elements in the input array, element-wise"
   ]
  },
  {
   "cell_type": "code",
   "execution_count": null,
   "id": "aef77272",
   "metadata": {},
   "outputs": [],
   "source": [
    "out = np.exp(dataset)\n",
    "_ = out.plot(figsize=(6, 2.5))"
   ]
  },
  {
   "cell_type": "markdown",
   "id": "48e1f6b7",
   "metadata": {},
   "source": [
    "Obviously numpy exponential functions applies only to dimensionless array. Else an error is generated."
   ]
  },
  {
   "cell_type": "code",
   "execution_count": null,
   "id": "75e41659",
   "metadata": {},
   "outputs": [],
   "source": [
    "x = scp.NDDataset(np.arange(5), units=\"m\")\n",
    "try:\n",
    "    np.exp(x)  # A dimensionality error will be generated\n",
    "except DimensionalityError as e:\n",
    "    error_(DimensionalityError, e)"
   ]
  },
  {
   "cell_type": "markdown",
   "id": "45884e73",
   "metadata": {},
   "source": [
    "##### exp2\n",
    "Calculate 2**p for all p in the input array."
   ]
  },
  {
   "cell_type": "code",
   "execution_count": null,
   "id": "98657b71",
   "metadata": {},
   "outputs": [],
   "source": [
    "out = np.exp2(dataset)\n",
    "_ = out.plot(figsize=(6, 2.5))"
   ]
  },
  {
   "cell_type": "markdown",
   "id": "9e122cc9",
   "metadata": {},
   "source": [
    "##### expm1\n",
    "Calculate `exp(x) - 1` for all elements in the array."
   ]
  },
  {
   "cell_type": "code",
   "execution_count": null,
   "id": "c6c5cc41",
   "metadata": {},
   "outputs": [],
   "source": [
    "out = np.expm1(dataset)\n",
    "_ = out.plot(figsize=(6, 2.5))"
   ]
  },
  {
   "cell_type": "markdown",
   "id": "87188a35",
   "metadata": {},
   "source": [
    "##### log\n",
    "Natural logarithm, element-wise.\n",
    "\n",
    "This doesn't generate un error for negative numbrs, but the output is masked for those values"
   ]
  },
  {
   "cell_type": "code",
   "execution_count": null,
   "id": "64af906e",
   "metadata": {},
   "outputs": [],
   "source": [
    "out = np.log(dataset)\n",
    "ax = out.plot(figsize=(6, 2.5), show_mask=True)"
   ]
  },
  {
   "cell_type": "code",
   "execution_count": null,
   "id": "943aaee8",
   "metadata": {},
   "outputs": [],
   "source": [
    "out = np.log(dataset - dataset.min())\n",
    "_ = out.plot(figsize=(6, 2.5))"
   ]
  },
  {
   "cell_type": "markdown",
   "id": "d2ba5a6c",
   "metadata": {},
   "source": [
    "##### log2\n",
    "Base-2 logarithm of x."
   ]
  },
  {
   "cell_type": "code",
   "execution_count": null,
   "id": "5b407ad3",
   "metadata": {},
   "outputs": [],
   "source": [
    "out = np.log2(dataset)\n",
    "_ = out.plot(figsize=(6, 2.5))"
   ]
  },
  {
   "cell_type": "markdown",
   "id": "b9cf9717",
   "metadata": {},
   "source": [
    "##### log10\n",
    "Return the base 10 logarithm of the input array, element-wise."
   ]
  },
  {
   "cell_type": "code",
   "execution_count": null,
   "id": "66897f20",
   "metadata": {},
   "outputs": [],
   "source": [
    "out = np.log10(dataset)\n",
    "_ = out.plot(figsize=(6, 2.5))"
   ]
  },
  {
   "cell_type": "markdown",
   "id": "4faa4a5d",
   "metadata": {},
   "source": [
    "##### log1p\n",
    "Return `log(x + 1)` , element-wise."
   ]
  },
  {
   "cell_type": "code",
   "execution_count": null,
   "id": "95ea6ec2",
   "metadata": {},
   "outputs": [],
   "source": [
    "out = np.log1p(dataset)\n",
    "_ = out.plot(figsize=(6, 2.5))"
   ]
  },
  {
   "cell_type": "markdown",
   "id": "3a3202cc",
   "metadata": {},
   "source": [
    "#### Functions that return numpy arrays (*Work only for NDDataset*)"
   ]
  },
  {
   "cell_type": "markdown",
   "id": "72c51b94",
   "metadata": {},
   "source": [
    "##### sign\n",
    "Returns an element-wise indication of the sign of a number. Returned object is a ndarray"
   ]
  },
  {
   "cell_type": "code",
   "execution_count": null,
   "id": "4d1a5455",
   "metadata": {},
   "outputs": [],
   "source": [
    "np.sign(dataset)"
   ]
  },
  {
   "cell_type": "markdown",
   "id": "32050423",
   "metadata": {
    "lines_to_next_cell": 0
   },
   "source": [
    "##### logical_not\n",
    "Compute the truth value of NOT x element-wise. Returned object is a ndarray"
   ]
  },
  {
   "cell_type": "code",
   "execution_count": null,
   "id": "85bd5b9f",
   "metadata": {},
   "outputs": [],
   "source": [
    "np.logical_not(dataset < 0)"
   ]
  },
  {
   "cell_type": "markdown",
   "id": "bbda1789",
   "metadata": {},
   "source": [
    "##### isfinite\n",
    "Test element-wise for finiteness."
   ]
  },
  {
   "cell_type": "code",
   "execution_count": null,
   "id": "3995efe8",
   "metadata": {},
   "outputs": [],
   "source": [
    "np.isfinite(dataset)"
   ]
  },
  {
   "cell_type": "markdown",
   "id": "a2e2840c",
   "metadata": {},
   "source": [
    "##### isinf\n",
    "Test element-wise for positive or negative infinity."
   ]
  },
  {
   "cell_type": "code",
   "execution_count": null,
   "id": "d607cdcc",
   "metadata": {},
   "outputs": [],
   "source": [
    "np.isinf(dataset)"
   ]
  },
  {
   "cell_type": "markdown",
   "id": "8c4b3882",
   "metadata": {},
   "source": [
    "##### isnan\n",
    "Test element-wise for `NaN` and return result as a boolean array."
   ]
  },
  {
   "cell_type": "code",
   "execution_count": null,
   "id": "20adb700",
   "metadata": {},
   "outputs": [],
   "source": [
    "np.isnan(dataset)"
   ]
  },
  {
   "cell_type": "markdown",
   "id": "78811074",
   "metadata": {},
   "source": [
    "##### signbit\n",
    "Returns element-wise `True` where signbit is set."
   ]
  },
  {
   "cell_type": "code",
   "execution_count": null,
   "id": "ecb528aa",
   "metadata": {},
   "outputs": [],
   "source": [
    "np.signbit(dataset)"
   ]
  },
  {
   "cell_type": "markdown",
   "id": "5a81e381",
   "metadata": {},
   "source": [
    "#### Trigonometric functions. Require dimensionless/unitless  dataset or radians.\n",
    "\n",
    "In the below examples, unit of data in dataset is absorbance (then dimensionless)"
   ]
  },
  {
   "cell_type": "markdown",
   "id": "e67b64f6",
   "metadata": {},
   "source": [
    "##### sin\n",
    "Trigonometric sine, element-wise."
   ]
  },
  {
   "cell_type": "code",
   "execution_count": null,
   "id": "acb20796",
   "metadata": {},
   "outputs": [],
   "source": [
    "out = np.sin(dataset)\n",
    "_ = out.plot(figsize=(6, 2.5))"
   ]
  },
  {
   "cell_type": "markdown",
   "id": "79554372",
   "metadata": {},
   "source": [
    "##### cos\n",
    "Trigonometric cosine element-wise."
   ]
  },
  {
   "cell_type": "code",
   "execution_count": null,
   "id": "b65d88b3",
   "metadata": {},
   "outputs": [],
   "source": [
    "out = np.cos(dataset)\n",
    "_ = out.plot(figsize=(6, 2.5))"
   ]
  },
  {
   "cell_type": "markdown",
   "id": "4946aea0",
   "metadata": {},
   "source": [
    "##### tan\n",
    "Compute tangent element-wise."
   ]
  },
  {
   "cell_type": "code",
   "execution_count": null,
   "id": "8da81602",
   "metadata": {},
   "outputs": [],
   "source": [
    "out = np.tan(dataset / np.max(dataset))\n",
    "_ = out.plot(figsize=(6, 2.5))"
   ]
  },
  {
   "cell_type": "markdown",
   "id": "696a543b",
   "metadata": {},
   "source": [
    "##### arcsin\n",
    "Inverse sine, element-wise."
   ]
  },
  {
   "cell_type": "code",
   "execution_count": null,
   "id": "d429e675",
   "metadata": {},
   "outputs": [],
   "source": [
    "out = np.arcsin(dataset)\n",
    "_ = out.plot(figsize=(6, 2.5))"
   ]
  },
  {
   "cell_type": "markdown",
   "id": "18214b3d",
   "metadata": {},
   "source": [
    "##### arccos\n",
    "Trigonometric inverse cosine, element-wise."
   ]
  },
  {
   "cell_type": "code",
   "execution_count": null,
   "id": "1b9c2d6f",
   "metadata": {},
   "outputs": [],
   "source": [
    "out = np.arccos(dataset)\n",
    "_ = out.plot(figsize=(6, 2.5))"
   ]
  },
  {
   "cell_type": "markdown",
   "id": "383911e2",
   "metadata": {},
   "source": [
    "##### arctan\n",
    "Trigonometric inverse tangent, element-wise."
   ]
  },
  {
   "cell_type": "code",
   "execution_count": null,
   "id": "360bd441",
   "metadata": {},
   "outputs": [],
   "source": [
    "out = np.arctan(dataset)\n",
    "_ = out.plot(figsize=(6, 2.5))"
   ]
  },
  {
   "cell_type": "markdown",
   "id": "48c5fbcd",
   "metadata": {},
   "source": [
    "#### Angle units conversion"
   ]
  },
  {
   "cell_type": "markdown",
   "id": "68762492",
   "metadata": {
    "lines_to_next_cell": 2
   },
   "source": [
    "##### rad2deg\n",
    "Convert angles from radians to degrees (warning: unitless or dimensionless are assumed to be radians, so no error\n",
    "will be issued)."
   ]
  },
  {
   "cell_type": "markdown",
   "id": "613e5a52",
   "metadata": {
    "lines_to_next_cell": 2
   },
   "source": [
    "for instance, if we take the z axis (the data magnitude) in the figure above, it's expressed in radians. We can\n",
    "change to degrees easily."
   ]
  },
  {
   "cell_type": "code",
   "execution_count": null,
   "id": "60ef2669",
   "metadata": {},
   "outputs": [],
   "source": [
    "out = np.rad2deg(dataset)\n",
    "out.title = \"data\"  # just to avoid a too long title\n",
    "_ = out.plot(figsize=(6, 2.5))"
   ]
  },
  {
   "cell_type": "markdown",
   "id": "6f7870f9",
   "metadata": {
    "lines_to_next_cell": 2
   },
   "source": [
    "##### deg2rad\n",
    "Convert angles from degrees to radians."
   ]
  },
  {
   "cell_type": "code",
   "execution_count": null,
   "id": "5c2ae2b0",
   "metadata": {},
   "outputs": [],
   "source": [
    "out = np.deg2rad(out)\n",
    "out.title = \"data\"\n",
    "_ = out.plot(figsize=(6, 2.5))"
   ]
  },
  {
   "cell_type": "markdown",
   "id": "3c5a6a10",
   "metadata": {},
   "source": [
    "#### Hyperbolic functions"
   ]
  },
  {
   "cell_type": "markdown",
   "id": "b075b887",
   "metadata": {},
   "source": [
    "##### sinh\n",
    "Hyperbolic sine, element-wise."
   ]
  },
  {
   "cell_type": "code",
   "execution_count": null,
   "id": "6b0b2e55",
   "metadata": {},
   "outputs": [],
   "source": [
    "out = np.sinh(dataset)\n",
    "_ = out.plot(figsize=(6, 2.5))"
   ]
  },
  {
   "cell_type": "markdown",
   "id": "6ed80522",
   "metadata": {},
   "source": [
    "##### cosh\n",
    "Hyperbolic cosine, element-wise."
   ]
  },
  {
   "cell_type": "code",
   "execution_count": null,
   "id": "fd814cf5",
   "metadata": {},
   "outputs": [],
   "source": [
    "out = np.cosh(dataset)\n",
    "_ = out.plot(figsize=(6, 2.5))"
   ]
  },
  {
   "cell_type": "markdown",
   "id": "969c562e",
   "metadata": {},
   "source": [
    "##### tanh\n",
    "Compute hyperbolic tangent element-wise."
   ]
  },
  {
   "cell_type": "code",
   "execution_count": null,
   "id": "ba851cf3",
   "metadata": {},
   "outputs": [],
   "source": [
    "out = np.tanh(dataset)\n",
    "_ = out.plot(figsize=(6, 2.5))"
   ]
  },
  {
   "cell_type": "markdown",
   "id": "daffa270",
   "metadata": {},
   "source": [
    "##### arcsinh\n",
    "Inverse hyperbolic sine element-wise."
   ]
  },
  {
   "cell_type": "code",
   "execution_count": null,
   "id": "3493d61f",
   "metadata": {},
   "outputs": [],
   "source": [
    "out = np.arcsinh(dataset)\n",
    "_ = out.plot(figsize=(6, 2.5))"
   ]
  },
  {
   "cell_type": "markdown",
   "id": "b8b78539",
   "metadata": {},
   "source": [
    "##### arccosh\n",
    "Inverse hyperbolic cosine, element-wise."
   ]
  },
  {
   "cell_type": "code",
   "execution_count": null,
   "id": "fa17cfcd",
   "metadata": {},
   "outputs": [],
   "source": [
    "out = np.arccosh(dataset)\n",
    "_ = out.plot(figsize=(6, 2.5))"
   ]
  },
  {
   "cell_type": "markdown",
   "id": "a909cc1d",
   "metadata": {},
   "source": [
    "##### arctanh\n",
    "Inverse hyperbolic tangent element-wise."
   ]
  },
  {
   "cell_type": "code",
   "execution_count": null,
   "id": "1e77ca26",
   "metadata": {},
   "outputs": [],
   "source": [
    "out = np.arctanh(dataset)\n",
    "_ = out.plot(figsize=(6, 2.5))"
   ]
  },
  {
   "cell_type": "markdown",
   "id": "0f84d9ab",
   "metadata": {},
   "source": [
    "### Binary functions"
   ]
  },
  {
   "cell_type": "code",
   "execution_count": null,
   "id": "3d495642",
   "metadata": {},
   "outputs": [],
   "source": [
    "dataset2 = np.reciprocal(dataset + 3)  # create a second dataset\n",
    "dataset2[5000.0:4000.0] = MASKED\n",
    "_ = dataset.plot(figsize=(6, 2.5))\n",
    "_ = dataset2.plot(figsize=(6, 2.5))"
   ]
  },
  {
   "cell_type": "markdown",
   "id": "822ecfd3",
   "metadata": {},
   "source": [
    "#### Arithmetic"
   ]
  },
  {
   "cell_type": "markdown",
   "id": "03823a19",
   "metadata": {},
   "source": [
    "##### add\n",
    "Add arguments element-wise."
   ]
  },
  {
   "cell_type": "code",
   "execution_count": null,
   "id": "22dd5881",
   "metadata": {},
   "outputs": [],
   "source": [
    "out = np.add(dataset, dataset2)\n",
    "_ = out.plot(figsize=(6, 2.5))"
   ]
  },
  {
   "cell_type": "markdown",
   "id": "cd272d11",
   "metadata": {},
   "source": [
    "##### subtract\n",
    "Subtract arguments, element-wise."
   ]
  },
  {
   "cell_type": "code",
   "execution_count": null,
   "id": "66c86dc8",
   "metadata": {},
   "outputs": [],
   "source": [
    "out = np.subtract(dataset, dataset2)\n",
    "_ = out.plot(figsize=(6, 2.5))"
   ]
  },
  {
   "cell_type": "markdown",
   "id": "d71d8486",
   "metadata": {},
   "source": [
    "##### multiply\n",
    "Multiply arguments element-wise."
   ]
  },
  {
   "cell_type": "code",
   "execution_count": null,
   "id": "ed01fe91",
   "metadata": {},
   "outputs": [],
   "source": [
    "out = np.multiply(dataset, dataset2)\n",
    "_ = out.plot(figsize=(6, 2.5))"
   ]
  },
  {
   "cell_type": "markdown",
   "id": "d7893117",
   "metadata": {},
   "source": [
    "##### divide\n",
    "or\n",
    "##### true_divide\n",
    "Returns a true division of the inputs, element-wise."
   ]
  },
  {
   "cell_type": "code",
   "execution_count": null,
   "id": "7364d1aa",
   "metadata": {},
   "outputs": [],
   "source": [
    "out = np.divide(dataset, dataset2)\n",
    "_ = out.plot(figsize=(6, 2.5))"
   ]
  },
  {
   "cell_type": "markdown",
   "id": "5dc52b0c",
   "metadata": {},
   "source": [
    "##### floor_divide\n",
    "Return the largest integer smaller or equal to the division of the inputs."
   ]
  },
  {
   "cell_type": "code",
   "execution_count": null,
   "id": "e354acce",
   "metadata": {},
   "outputs": [],
   "source": [
    "out = np.floor_divide(dataset, dataset2)\n",
    "_ = out.plot(figsize=(6, 2.5))"
   ]
  },
  {
   "cell_type": "markdown",
   "id": "de9b774e",
   "metadata": {},
   "source": [
    "## Complex or hypercomplex NDDatasets\n",
    "\n",
    "\n",
    "NDDataset objects with complex data are handled differently than in\n",
    "`numpy.ndarray` .\n",
    "\n",
    "Instead, complex data are stored by interlacing the real and imaginary part.\n",
    "This allows the definition of data that can be complex in several axis, and *e\n",
    ".g.,* allows 2D-hypercomplex array that can be transposed (useful for NMR data)."
   ]
  },
  {
   "cell_type": "code",
   "execution_count": null,
   "id": "7a6b31c4",
   "metadata": {},
   "outputs": [],
   "source": [
    "da = scp.NDDataset(\n",
    "    [\n",
    "        [1.0 + 2.0j, 2.0 + 0j],\n",
    "        [1.3 + 2.0j, 2.0 + 0.5j],\n",
    "        [1.0 + 4.2j, 2.0 + 3j],\n",
    "        [5.0 + 4.2j, 2.0 + 3j],\n",
    "    ]\n",
    ")\n",
    "da"
   ]
  },
  {
   "cell_type": "markdown",
   "id": "dbd8632f",
   "metadata": {},
   "source": [
    "A dataset of type float can be transformed into a complex dataset (using two consecutive rows to create a complex\n",
    "row)"
   ]
  },
  {
   "cell_type": "code",
   "execution_count": null,
   "id": "a5dc3734",
   "metadata": {},
   "outputs": [],
   "source": [
    "da = scp.NDDataset(np.arange(40).reshape(10, 4))\n",
    "da"
   ]
  },
  {
   "cell_type": "code",
   "execution_count": null,
   "id": "9854fea1",
   "metadata": {},
   "outputs": [],
   "source": [
    "dac = da.set_complex()\n",
    "dac"
   ]
  },
  {
   "cell_type": "markdown",
   "id": "787d98c5",
   "metadata": {},
   "source": [
    "Note the `x`dimension size is divided by a factor of two"
   ]
  },
  {
   "cell_type": "markdown",
   "id": "92ce0b98",
   "metadata": {},
   "source": [
    "A dataset which is complex in two dimensions is called hypercomplex (it's datatype in SpectroChemPy is set to\n",
    "quaternion)."
   ]
  },
  {
   "cell_type": "code",
   "execution_count": null,
   "id": "ba0bbb1e",
   "metadata": {},
   "outputs": [],
   "source": [
    "daq = da.set_quaternion()  # equivalently one can use the set_hypercomplex method\n",
    "daq"
   ]
  },
  {
   "cell_type": "code",
   "execution_count": null,
   "id": "49f23b2e",
   "metadata": {},
   "outputs": [],
   "source": [
    "daq.dtype"
   ]
  }
 ],
 "metadata": {
  "jupytext": {
   "formats": "ipynb,py:percent",
   "notebook_metadata_filter": "all"
  },
  "kernelspec": {
   "display_name": "Python 3 (ipykernel)",
   "language": "python",
   "name": "python3"
  },
  "language_info": {
   "codemirror_mode": {
    "name": "ipython",
    "version": 3
   },
   "file_extension": ".py",
   "mimetype": "text/x-python",
   "name": "python",
   "nbconvert_exporter": "python",
   "pygments_lexer": "ipython3",
   "version": "3.10.8"
  }
 },
 "nbformat": 4,
 "nbformat_minor": 5
}
