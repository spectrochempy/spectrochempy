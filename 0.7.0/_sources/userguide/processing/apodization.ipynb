{
 "cells": [
  {
   "cell_type": "markdown",
   "id": "e9b09925",
   "metadata": {},
   "source": [
    "# Apodization"
   ]
  },
  {
   "cell_type": "code",
   "execution_count": null,
   "id": "8e34196e",
   "metadata": {},
   "outputs": [],
   "source": [
    "import spectrochempy as scp\n",
    "from spectrochempy.core.units import ur"
   ]
  },
  {
   "cell_type": "markdown",
   "id": "8bd51380",
   "metadata": {},
   "source": [
    "## Introduction\n",
    "\n",
    "As an example, apodization is a transformation particularly useful for preprocessing NMR time domain data before\n",
    "Fourier transformation. It generally helps for signal-to-noise improvement."
   ]
  },
  {
   "cell_type": "code",
   "execution_count": null,
   "id": "7a49547f",
   "metadata": {},
   "outputs": [],
   "source": [
    "# read an experimental spectra\n",
    "path = scp.pathclean(\"nmrdata/bruker/tests/nmr/topspin_1d\")\n",
    "\n",
    "# the method pathclean allow to write pth in linux or window style indifferently\n",
    "dataset = scp.read_topspin(path, expno=1, remove_digital_filter=True)\n",
    "dataset = dataset / dataset.max()  # normalization\n",
    "\n",
    "# store original data\n",
    "nd = dataset.copy()\n",
    "\n",
    "# show data\n",
    "nd"
   ]
  },
  {
   "cell_type": "markdown",
   "id": "ccea028c",
   "metadata": {},
   "source": [
    "### Plot of the Real and Imaginary original data"
   ]
  },
  {
   "cell_type": "code",
   "execution_count": null,
   "id": "6196b68e",
   "metadata": {},
   "outputs": [],
   "source": [
    "_ = nd.plot(xlim=(0.0, 15000.0))\n",
    "_ = nd.plot(imag=True, data_only=True, clear=False, color=\"r\")"
   ]
  },
  {
   "cell_type": "markdown",
   "id": "bf5a97df",
   "metadata": {},
   "source": [
    "### Exponential multiplication"
   ]
  },
  {
   "cell_type": "code",
   "execution_count": null,
   "id": "d415abb3",
   "metadata": {},
   "outputs": [],
   "source": [
    "_ = nd.plot(xlim=(0.0, 15000.0))\n",
    "_ = nd.em(lb=300.0 * ur.Hz)\n",
    "_ = nd.plot(data_only=True, clear=False, color=\"g\")"
   ]
  },
  {
   "cell_type": "markdown",
   "id": "6dad7ec0",
   "metadata": {},
   "source": [
    "**Warning:** processing function are most of the time applied inplace. Use\n",
    "`inplace=False` option to avoid this if\n",
    "necessary"
   ]
  },
  {
   "cell_type": "code",
   "execution_count": null,
   "id": "764d3da8",
   "metadata": {},
   "outputs": [],
   "source": [
    "nd = dataset.copy()  # to go back to the original data\n",
    "_ = nd.plot(xlim=(0.0, 5000.0))\n",
    "ndlb = nd.em(lb=300.0 * ur.Hz, inplace=False)  # ndlb contain the processed data\n",
    "_ = nd.plot(data_only=True, clear=False, color=\"g\")  # nd dataset remain unchanged\n",
    "_ = ndlb.plot(data_only=True, clear=False, color=\"b\")"
   ]
  },
  {
   "cell_type": "markdown",
   "id": "918ad3d5",
   "metadata": {},
   "source": [
    "Of course, imaginary data are also transformed at the same time"
   ]
  },
  {
   "cell_type": "code",
   "execution_count": null,
   "id": "e907dd83",
   "metadata": {},
   "outputs": [],
   "source": [
    "_ = nd.plot(imag=True, xlim=(0, 5000), color=\"r\")\n",
    "_ = ndlb.plot(imag=True, data_only=True, clear=False, color=\"b\")"
   ]
  },
  {
   "cell_type": "markdown",
   "id": "bc67aa92",
   "metadata": {},
   "source": [
    "If we want to display the apodization function, we can use the `retapod=True` parameter."
   ]
  },
  {
   "cell_type": "code",
   "execution_count": null,
   "id": "9a71d51e",
   "metadata": {},
   "outputs": [],
   "source": [
    "nd = dataset.copy()\n",
    "_ = nd.plot(xlim=(0.0, 5000.0))\n",
    "ndlb, apod = nd.em(\n",
    "    lb=300.0 * ur.Hz, inplace=False, retapod=True\n",
    ")  # ndlb contain the processed data and apod the\n",
    "# apodization function\n",
    "_ = ndlb.plot(data_only=True, clear=False, color=\"b\")\n",
    "_ = apod.plot(data_only=True, clear=False, color=\"m\", linestyle=\"--\")"
   ]
  },
  {
   "cell_type": "markdown",
   "id": "50ebfeb4",
   "metadata": {},
   "source": [
    "#### Shifted apodization"
   ]
  },
  {
   "cell_type": "code",
   "execution_count": null,
   "id": "2881ff93",
   "metadata": {},
   "outputs": [],
   "source": [
    "nd = dataset.copy()\n",
    "_ = nd.plot(xlim=(0.0, 5000.0))\n",
    "ndlb, apod = nd.em(\n",
    "    lb=300.0 * ur.Hz, shifted=1000 * ur.us, inplace=False, retapod=True\n",
    ")  # ndlb contain the processed data and apod the apodization function\n",
    "_ = ndlb.plot(data_only=True, clear=False, color=\"b\")\n",
    "_ = apod.plot(data_only=True, clear=False, color=\"m\", linestyle=\"--\")"
   ]
  },
  {
   "cell_type": "markdown",
   "id": "448c931d",
   "metadata": {},
   "source": [
    "### Other apodization functions"
   ]
  },
  {
   "cell_type": "markdown",
   "id": "eee0e74a",
   "metadata": {},
   "source": [
    "#### Gaussian-Lorentzian apodization"
   ]
  },
  {
   "cell_type": "code",
   "execution_count": null,
   "id": "eef6cc8a",
   "metadata": {},
   "outputs": [],
   "source": [
    "nd = dataset.copy()\n",
    "lb = 10.0\n",
    "gb = 200.0\n",
    "ndlg, apod = nd.gm(lb=lb, gb=gb, inplace=False, retapod=True)\n",
    "_ = nd.plot(xlim=(0.0, 5000.0))\n",
    "_ = ndlg.plot(data_only=True, clear=False, color=\"b\")\n",
    "_ = apod.plot(data_only=True, clear=False, color=\"m\", linestyle=\"--\")"
   ]
  },
  {
   "cell_type": "markdown",
   "id": "012c93e1",
   "metadata": {},
   "source": [
    "#### Shifted Gaussian-Lorentzian apodization"
   ]
  },
  {
   "cell_type": "code",
   "execution_count": null,
   "id": "1f1926c4",
   "metadata": {},
   "outputs": [],
   "source": [
    "nd = dataset.copy()\n",
    "lb = 10.0\n",
    "gb = 200.0\n",
    "ndlg, apod = nd.gm(lb=lb, gb=gb, shifted=2000 * ur.us, inplace=False, retapod=True)\n",
    "_ = nd.plot(xlim=(0.0, 5000.0))\n",
    "_ = ndlg.plot(data_only=True, clear=False, color=\"b\")\n",
    "_ = apod.plot(data_only=True, clear=False, color=\"m\", linestyle=\"--\")"
   ]
  },
  {
   "cell_type": "markdown",
   "id": "34b05e84",
   "metadata": {},
   "source": [
    "#### Apodization using sine window multiplication\n",
    "\n",
    "The`sp`  apodization is by default performed on the last dimension.\n",
    "\n",
    "Functional form of apodization window (cfBruker TOPSPIN manual): $sp(t) = \\sin(\\frac{(\\pi - \\phi) t }{\\text{aq}} +\n",
    "\\phi)^{pow}$\n",
    "\n",
    "where\n",
    "* $0 < t < \\text{aq}$ and  $\\phi = \\pi ⁄ \\text{sbb}$ when $\\text{ssb} \\ge 2$\n",
    "\n",
    "or\n",
    "*    $\\phi = 0$ when $\\text{ssb} < 2$\n",
    "\n",
    "$\\text{aq}$ is an acquisition status parameter and $\\text{ssb}$ is a processing parameter (see below) and $\\text{\n",
    "pow}$ is an exponent equal to 1 for a sine bell window or 2 for a squared sine bell window.\n",
    "\n",
    "The $\\text{ssb}$ parameter mimics the behaviour of the `SSB` parameter on bruker TOPSPIN software:\n",
    "* Typical values are 1 for a pure sine function and 2 for a pure cosine function.\n",
    "* Values greater than 2 give a mixed sine/cosine function. Note that all values smaller than 2, for example 0,\n",
    "have the same effect as $\\text{ssb}=1$, namely a pure sine function.\n",
    "\n",
    "**Shortcuts**:\n",
    "* `sine` is strictly an alias of `sp`\n",
    "* `sinm` is equivalent to `sp` with $\\text{pow}=1$\n",
    "* `qsin` is equivalent to `sp` with $\\text{pow}=2$\n",
    "\n",
    "Below are several examples of `sinm` and `qsin` apodization functions."
   ]
  },
  {
   "cell_type": "code",
   "execution_count": null,
   "id": "e9f43862",
   "metadata": {},
   "outputs": [],
   "source": [
    "nd = dataset.copy()\n",
    "_ = nd.plot()\n",
    "\n",
    "new, curve = nd.qsin(ssb=3, retapod=True)\n",
    "_ = curve.plot(color=\"r\", clear=False)\n",
    "_ = new.plot(xlim=(0, 25000), zlim=(-2, 2), data_only=True, color=\"r\", clear=False)"
   ]
  },
  {
   "cell_type": "code",
   "execution_count": null,
   "id": "f4039096",
   "metadata": {},
   "outputs": [],
   "source": [
    "nd = dataset.copy()\n",
    "_ = nd.plot()\n",
    "\n",
    "new, curve = nd.sinm(ssb=1, retapod=True)\n",
    "_ = curve.plot(color=\"b\", clear=False)\n",
    "_ = new.plot(xlim=(0, 25000), zlim=(-2, 2), data_only=True, color=\"b\", clear=False)"
   ]
  },
  {
   "cell_type": "code",
   "execution_count": null,
   "id": "1f9110f4",
   "metadata": {},
   "outputs": [],
   "source": [
    "nd = dataset.copy()\n",
    "_ = nd.plot()\n",
    "\n",
    "new, curve = nd.sinm(ssb=3, retapod=True)\n",
    "_ = curve.plot(color=\"b\", ls=\"--\", clear=False)\n",
    "_ = new.plot(xlim=(0, 25000), zlim=(-2, 2), data_only=True, color=\"b\", clear=False)"
   ]
  },
  {
   "cell_type": "code",
   "execution_count": null,
   "id": "49427416",
   "metadata": {},
   "outputs": [],
   "source": [
    "nd = dataset.copy()\n",
    "_ = nd.plot()\n",
    "\n",
    "new, curve = nd.qsin(ssb=2, retapod=True)\n",
    "_ = curve.plot(color=\"m\", clear=False)\n",
    "_ = new.plot(xlim=(0, 25000), zlim=(-2, 2), data_only=True, color=\"m\", clear=False)"
   ]
  },
  {
   "cell_type": "code",
   "execution_count": null,
   "id": "84045fe3",
   "metadata": {},
   "outputs": [],
   "source": [
    "nd = dataset.copy()\n",
    "_ = nd.plot()\n",
    "\n",
    "new, curve = nd.qsin(ssb=1, retapod=True)\n",
    "_ = curve.plot(color=\"g\", clear=False)\n",
    "_ = new.plot(xlim=(0, 25000), zlim=(-2, 2), data_only=True, color=\"g\", clear=False)"
   ]
  }
 ],
 "metadata": {
  "jupytext": {
   "formats": "ipynb,py:percent",
   "notebook_metadata_filter": "all"
  },
  "kernelspec": {
   "display_name": "Python 3",
   "language": "python",
   "name": "python3"
  },
  "language_info": {
   "codemirror_mode": {
    "name": "ipython",
    "version": 3
   },
   "file_extension": ".py",
   "mimetype": "text/x-python",
   "name": "python",
   "nbconvert_exporter": "python",
   "pygments_lexer": "ipython3",
   "version": "3.9.1"
  },
  "widgets": {
   "application/vnd.jupyter.widget-state+json": {
    "state": {},
    "version_major": 2,
    "version_minor": 0
   }
  }
 },
 "nbformat": 4,
 "nbformat_minor": 5
}
