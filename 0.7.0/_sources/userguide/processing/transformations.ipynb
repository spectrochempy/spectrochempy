{
 "cells": [
  {
   "cell_type": "markdown",
   "id": "e15d805f",
   "metadata": {},
   "source": [
    "# Basic transformations\n",
    "\n",
    "Let's show some SpectroChemPy features on a group of IR spectra"
   ]
  },
  {
   "cell_type": "code",
   "execution_count": null,
   "id": "6622e683",
   "metadata": {},
   "outputs": [],
   "source": [
    "import spectrochempy as scp\n",
    "from spectrochempy import MASKED\n",
    "from spectrochempy import DimensionalityError\n",
    "from spectrochempy import error_"
   ]
  },
  {
   "cell_type": "code",
   "execution_count": null,
   "id": "506574f7",
   "metadata": {},
   "outputs": [],
   "source": [
    "dataset = scp.read_omnic(\"irdata/nh4y-activation.spg\")\n",
    "dataset.y -= dataset.y[0]\n",
    "dataset.y.title = \"time\"\n",
    "dataset"
   ]
  },
  {
   "cell_type": "code",
   "execution_count": null,
   "id": "693f60df",
   "metadata": {},
   "outputs": [],
   "source": [
    "prefs = dataset.preferences\n",
    "prefs.figure.figsize = (6, 3)\n",
    "prefs.colormap = \"Dark2\"\n",
    "prefs.colorbar = True\n",
    "ax = dataset.plot()"
   ]
  },
  {
   "cell_type": "markdown",
   "id": "05474c91",
   "metadata": {},
   "source": [
    "## Masking data"
   ]
  },
  {
   "cell_type": "markdown",
   "id": "8653577b",
   "metadata": {},
   "source": [
    "if we try to get for example the maximum of this dataset, we face a problem due to the saturation around\n",
    "1100 cm$^{-1}$."
   ]
  },
  {
   "cell_type": "code",
   "execution_count": null,
   "id": "fe475762",
   "metadata": {},
   "outputs": [],
   "source": [
    "dataset.max()"
   ]
  },
  {
   "cell_type": "markdown",
   "id": "a2ebb4ee",
   "metadata": {},
   "source": [
    "One way is to apply the max function to only a part of the spectrum (using [slicing](slicing.rst)). Another way is to\n",
    "mask the undesired data.\n",
    "\n",
    "Masking values in this case is straightforward. Just set a value `masked` or True for those data you want to mask."
   ]
  },
  {
   "cell_type": "code",
   "execution_count": null,
   "id": "4f66186e",
   "metadata": {},
   "outputs": [],
   "source": [
    "dataset[:, 1290.0:890.0] = MASKED\n",
    "# note that we specify floating values in order to sect wavenumbers, not index."
   ]
  },
  {
   "cell_type": "markdown",
   "id": "8ed01180",
   "metadata": {},
   "source": [
    "Here is a display the figure with the new mask"
   ]
  },
  {
   "cell_type": "code",
   "execution_count": null,
   "id": "3aa685ac",
   "metadata": {},
   "outputs": [],
   "source": [
    "_ = dataset.plot_stack()"
   ]
  },
  {
   "cell_type": "markdown",
   "id": "72359bf8",
   "metadata": {},
   "source": [
    "Now the max function return the  maximum in the unmasked region, which is exactly what we wanted."
   ]
  },
  {
   "cell_type": "code",
   "execution_count": null,
   "id": "9f160662",
   "metadata": {},
   "outputs": [],
   "source": [
    "dataset.max()"
   ]
  },
  {
   "cell_type": "markdown",
   "id": "8744e7be",
   "metadata": {},
   "source": [
    "To clear this mask, we can simply do:"
   ]
  },
  {
   "cell_type": "code",
   "execution_count": null,
   "id": "ce971c9c",
   "metadata": {},
   "outputs": [],
   "source": [
    "dataset.remove_masks()\n",
    "_ = dataset.plot()"
   ]
  },
  {
   "cell_type": "markdown",
   "id": "a0e711ae",
   "metadata": {},
   "source": [
    "## Transposition"
   ]
  },
  {
   "cell_type": "markdown",
   "id": "1a91b9ee",
   "metadata": {},
   "source": [
    "Dataset can be transposed"
   ]
  },
  {
   "cell_type": "code",
   "execution_count": null,
   "id": "e2287099",
   "metadata": {},
   "outputs": [],
   "source": [
    "dataset[:, 1290.0:890.0] = MASKED  # we mask the unwanted columns\n",
    "t_dataset = dataset.T\n",
    "t_dataset"
   ]
  },
  {
   "cell_type": "markdown",
   "id": "4eaf9d4a",
   "metadata": {},
   "source": [
    "As it can be observed the dimension `x`and `y`have been exchanged, *e.g.* the original shape was **(x: 5549, y: 55)**,\n",
    "and after transposition it is **(y:55, x:5549)**.\n",
    "(the dimension names stay the same, but the index of the corresponding axis are exchanged)."
   ]
  },
  {
   "cell_type": "markdown",
   "id": "222ac80e",
   "metadata": {},
   "source": [
    "Let's visualize the result:"
   ]
  },
  {
   "cell_type": "code",
   "execution_count": null,
   "id": "dc038e2d",
   "metadata": {},
   "outputs": [],
   "source": [
    "_ = t_dataset.plot()"
   ]
  },
  {
   "cell_type": "markdown",
   "id": "919f4eba",
   "metadata": {},
   "source": [
    "## Changing units"
   ]
  },
  {
   "cell_type": "markdown",
   "id": "8891ca96",
   "metadata": {},
   "source": [
    "Units of the data and coordinates can be changed, but only towards compatible units. For instance, data are in\n",
    "absorbance units, which are dimensionless (**a.u**). So a dimensionless units such as **radian** is allowed,\n",
    "even if in this case it makes very little sense."
   ]
  },
  {
   "cell_type": "code",
   "execution_count": null,
   "id": "c937fd53",
   "metadata": {},
   "outputs": [],
   "source": [
    "dataset.units = \"radian\""
   ]
  },
  {
   "cell_type": "code",
   "execution_count": null,
   "id": "2a73d8cf",
   "metadata": {},
   "outputs": [],
   "source": [
    "_ = dataset.plot()"
   ]
  },
  {
   "cell_type": "markdown",
   "id": "f829d68a",
   "metadata": {},
   "source": [
    "Trying to change it in 'meter' for instance, will generate an error!"
   ]
  },
  {
   "cell_type": "code",
   "execution_count": null,
   "id": "d168a6ca",
   "metadata": {},
   "outputs": [],
   "source": [
    "try:\n",
    "    dataset.to(\"meter\")\n",
    "except DimensionalityError as e:\n",
    "    error_(DimensionalityError, e)"
   ]
  },
  {
   "cell_type": "markdown",
   "id": "598fa4c7",
   "metadata": {},
   "source": [
    "If this is for some reasons something you want to do, you must for the change:"
   ]
  },
  {
   "cell_type": "code",
   "execution_count": null,
   "id": "b5071b09",
   "metadata": {},
   "outputs": [],
   "source": [
    "d = dataset.to(\"meter\", force=True)\n",
    "d.units"
   ]
  },
  {
   "cell_type": "markdown",
   "id": "2508f4ce",
   "metadata": {},
   "source": [
    "When units are compatible there is no problem to modify it. For instance, we can\n",
    "change the `y` dimension units (\n",
    "Time) to hours. Her we use the inplace transformation `ito` ."
   ]
  },
  {
   "cell_type": "code",
   "execution_count": null,
   "id": "88b0abd5",
   "metadata": {},
   "outputs": [],
   "source": [
    "dataset.y.ito(\"hours\")\n",
    "_ = dataset.plot()"
   ]
  },
  {
   "cell_type": "markdown",
   "id": "55273d85",
   "metadata": {},
   "source": [
    "See [Units](../objects/dataset/dataset.ipynb#Units) for more details on these units operations"
   ]
  }
 ],
 "metadata": {
  "jupytext": {
   "formats": "ipynb,py:percent",
   "notebook_metadata_filter": "all"
  },
  "kernelspec": {
   "display_name": "Python 3 (ipykernel)",
   "language": "python",
   "name": "python3"
  },
  "language_info": {
   "codemirror_mode": {
    "name": "ipython",
    "version": 3
   },
   "file_extension": ".py",
   "mimetype": "text/x-python",
   "name": "python",
   "nbconvert_exporter": "python",
   "pygments_lexer": "ipython3",
   "version": "3.9.16"
  }
 },
 "nbformat": 4,
 "nbformat_minor": 5
}
