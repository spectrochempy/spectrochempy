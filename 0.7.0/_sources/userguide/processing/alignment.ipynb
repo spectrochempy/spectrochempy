{
 "cells": [
  {
   "cell_type": "markdown",
   "id": "a0db5dbc",
   "metadata": {},
   "source": [
    "# Alignment of datasets"
   ]
  },
  {
   "cell_type": "code",
   "execution_count": null,
   "id": "aa3c213e",
   "metadata": {},
   "outputs": [],
   "source": [
    "import spectrochempy as scp"
   ]
  },
  {
   "cell_type": "markdown",
   "id": "d0506c9e",
   "metadata": {},
   "source": [
    "## Example"
   ]
  },
  {
   "cell_type": "markdown",
   "id": "b6ea1955",
   "metadata": {},
   "source": [
    "To allow some mathematical operations or dataset processing, it is often necessary that the datasets are aligned,\n",
    "*i.e.,* that they have compatible coordinate for the dimensions.\n",
    "\n",
    "For sake of demonstration, let's take an experimental dataset that will be arbitrary split into four unaligned\n",
    "datasets. Then will realign them and apply some binary mathematical operation such as addition or subtraction that\n",
    "required aligned coordinates."
   ]
  },
  {
   "cell_type": "code",
   "execution_count": null,
   "id": "677ddd8e",
   "metadata": {},
   "outputs": [],
   "source": [
    "dataset = scp.read_omnic(\"irdata/nh4y-activation.spg\")\n",
    "dataset.y = dataset.y - dataset.y[0]  # remove offset in the time\n",
    "dataset.y.title = \"time\"\n",
    "prefs = dataset.preferences\n",
    "prefs.reset()\n",
    "prefs.figure.figsize = (7, 3)\n",
    "prefs.figure.dpi = 100\n",
    "_ = dataset.plot_map(colormap=\"viridis\", colorbar=True)\n",
    "print(\"shape:\", dataset.shape)"
   ]
  },
  {
   "cell_type": "code",
   "execution_count": null,
   "id": "4591a27f",
   "metadata": {},
   "outputs": [],
   "source": [
    "nd1 = dataset[0:30, 0:4000]\n",
    "nd2 = dataset[0:30, 2000:5549]\n",
    "nd3 = dataset[10:55, 0:4000]\n",
    "nd4 = dataset[10:55, 2000:5549]\n",
    "_ = scp.multiplot_map(\n",
    "    datasets=[nd1, nd2, nd3, nd4],\n",
    "    colormap=\"viridis\",\n",
    "    nrow=2,\n",
    "    ncol=2,\n",
    "    sharex=True,\n",
    "    sharey=True,\n",
    "    dpi=100,\n",
    ")"
   ]
  },
  {
   "cell_type": "markdown",
   "id": "96e8a6b7",
   "metadata": {},
   "source": [
    "The four datasets `nd1` to `nd4` have some overlapping in both dimensions. But if we want for example to add `nd2`\n",
    "with `nd4` . This will fail because the dimension are not aligned."
   ]
  },
  {
   "cell_type": "code",
   "execution_count": null,
   "id": "3d6e67b6",
   "metadata": {},
   "outputs": [],
   "source": [
    "try:\n",
    "    nd2 + nd4\n",
    "except Exception as e:\n",
    "    scp.error_(Exception, str(e) + \" Cannot add unaligned datasets.\")"
   ]
  },
  {
   "cell_type": "markdown",
   "id": "a8c53f2e",
   "metadata": {},
   "source": [
    "Let try to align them, in the `y` dimension (*i.e.* the first) as this the one which differ in size.\n",
    "(NOTE: to find the actual names of the dimensions, just get the `dims` attribute of the datasets)."
   ]
  },
  {
   "cell_type": "code",
   "execution_count": null,
   "id": "ddde8ef8",
   "metadata": {},
   "outputs": [],
   "source": [
    "nd2.dims, nd4.dims"
   ]
  },
  {
   "cell_type": "markdown",
   "id": "537f5470",
   "metadata": {},
   "source": [
    "To align we can use different methods, depending on the expected results (missing values in the aligned datasets\n",
    "will be masked)"
   ]
  },
  {
   "cell_type": "code",
   "execution_count": null,
   "id": "ea39ab07",
   "metadata": {},
   "outputs": [],
   "source": [
    "# `outer` method => union of the coordinates\n",
    "nd2a, nd4a = scp.align(nd2, nd4, dim=\"y\", method=\"outer\")"
   ]
  },
  {
   "cell_type": "markdown",
   "id": "5ad70647",
   "metadata": {},
   "source": [
    "Now we can perform an addition without any problem"
   ]
  },
  {
   "cell_type": "code",
   "execution_count": null,
   "id": "f6ca36fb",
   "metadata": {},
   "outputs": [],
   "source": [
    "ndadd = nd2a + nd4a\n",
    "ndadd.shape"
   ]
  },
  {
   "cell_type": "markdown",
   "id": "71df1f19",
   "metadata": {},
   "source": [
    "Let's plot both individual aligned arrays, and their sum. Note, that only the common region appears in the result\n",
    "array, as the mathematical operation are aware of the masks."
   ]
  },
  {
   "cell_type": "code",
   "execution_count": null,
   "id": "3fb8a808",
   "metadata": {},
   "outputs": [],
   "source": [
    "_ = scp.multiplot_map(\n",
    "    datasets=[nd2a, nd4a, ndadd],\n",
    "    colormap=\"viridis\",\n",
    "    sharey=True,\n",
    "    nrow=1,\n",
    "    ncol=3,\n",
    "    figsize=(8, 3),\n",
    "    dpi=100,\n",
    ")"
   ]
  },
  {
   "cell_type": "markdown",
   "id": "5edacec6",
   "metadata": {},
   "source": [
    "Now, assume we want to align in the other dimension, or both"
   ]
  },
  {
   "cell_type": "code",
   "execution_count": null,
   "id": "37e2ceb1",
   "metadata": {},
   "outputs": [],
   "source": [
    "try:\n",
    "    nd1 + nd2\n",
    "except Exception as e:\n",
    "    scp.error_(Exception, str(e) + \" Cannot add unaligned datasets.\")"
   ]
  },
  {
   "cell_type": "code",
   "execution_count": null,
   "id": "5516b19d",
   "metadata": {},
   "outputs": [],
   "source": [
    "nd1a, nd2a = scp.align(nd1, nd2, dim=\"x\", method=\"outer\")\n",
    "ndadd = nd1a + nd2a\n",
    "_ = scp.multiplot_map(\n",
    "    datasets=[nd1a, nd2a, ndadd],\n",
    "    colormap=\"viridis\",\n",
    "    sharey=True,\n",
    "    nrow=1,\n",
    "    ncol=3,\n",
    "    figsize=(8, 3),\n",
    "    dpi=100,\n",
    ")\n",
    "ndadd.shape"
   ]
  },
  {
   "cell_type": "markdown",
   "id": "f8ef43c1",
   "metadata": {},
   "source": [
    "## Methods for alignments\n",
    "Method for alignments are:\n",
    "\n",
    "* **outer** which means that a union of the different coordinates is achieved (missing values are masked)\n",
    "* **inner** which means that the intersection of the coordinates is used\n",
    "* **first** which means that the first dataset is used as reference\n",
    "* **last** which means that the last dataset is used as reference\n",
    "* **interpolate** means that interpolation is performed to handle missing points whenever it is possible (Not yet\n",
    "implemented)"
   ]
  },
  {
   "cell_type": "markdown",
   "id": "ccb65faf",
   "metadata": {
    "lines_to_next_cell": 2
   },
   "source": [
    "### `inner` method"
   ]
  },
  {
   "cell_type": "code",
   "execution_count": null,
   "id": "82b831b7",
   "metadata": {},
   "outputs": [],
   "source": [
    "# `inner` method => intersection of the coordinates\n",
    "nd2a, nd4a = scp.align(nd2, nd4, dim=\"y\", method=\"inner\")\n",
    "ndadd = nd2a + nd4a\n",
    "ndadd.shape  # note the difference with the outer method above (the shape correspond to the intersection)"
   ]
  },
  {
   "cell_type": "code",
   "execution_count": null,
   "id": "50b61dfb",
   "metadata": {},
   "outputs": [],
   "source": [
    "_ = scp.multiplot_map(\n",
    "    datasets=[nd2a, nd4a, ndadd],\n",
    "    colormap=\"viridis\",\n",
    "    sharey=True,\n",
    "    nrow=1,\n",
    "    ncol=3,\n",
    "    figsize=(8, 3),\n",
    "    dpi=100,\n",
    ")"
   ]
  },
  {
   "cell_type": "markdown",
   "id": "fe25e106",
   "metadata": {},
   "source": [
    "### `first` method"
   ]
  },
  {
   "cell_type": "code",
   "execution_count": null,
   "id": "759b8c08",
   "metadata": {},
   "outputs": [],
   "source": [
    "# `inner` method => align on the first dataset\n",
    "nd2a, nd4a = scp.align(nd2, nd4, dim=\"y\", method=\"first\")\n",
    "ndadd = nd2a + nd4a\n",
    "ndadd.shape  # note the difference with the outer method above"
   ]
  },
  {
   "cell_type": "code",
   "execution_count": null,
   "id": "17909ad5",
   "metadata": {},
   "outputs": [],
   "source": [
    "_ = scp.multiplot_map(\n",
    "    datasets=[nd2a, nd4a, ndadd],\n",
    "    colormap=\"viridis\",\n",
    "    sharey=True,\n",
    "    nrow=1,\n",
    "    ncol=3,\n",
    "    figsize=(8, 3),\n",
    "    dpi=100,\n",
    ")"
   ]
  },
  {
   "cell_type": "markdown",
   "id": "92f3e5a6",
   "metadata": {},
   "source": [
    "### `last` method"
   ]
  },
  {
   "cell_type": "code",
   "execution_count": null,
   "id": "5e5e5917",
   "metadata": {},
   "outputs": [],
   "source": [
    "# `last` method => align on the last dataset\n",
    "nd2a, nd4a = scp.align(nd2, nd4, dim=\"y\", method=\"last\")\n",
    "ndadd = nd2a + nd4a\n",
    "ndadd.shape  # note the difference with the outer method above"
   ]
  },
  {
   "cell_type": "code",
   "execution_count": null,
   "id": "ed752ec7",
   "metadata": {},
   "outputs": [],
   "source": [
    "_ = scp.multiplot_map(\n",
    "    datasets=[nd2a, nd4a, ndadd],\n",
    "    colormap=\"viridis\",\n",
    "    sharey=True,\n",
    "    nrow=1,\n",
    "    ncol=3,\n",
    "    figsize=(8, 3),\n",
    "    dpi=100,\n",
    ")"
   ]
  },
  {
   "cell_type": "markdown",
   "id": "c63bb354",
   "metadata": {},
   "source": [
    "## Alignment along several dimensions"
   ]
  },
  {
   "cell_type": "code",
   "execution_count": null,
   "id": "0c3e7f08",
   "metadata": {},
   "outputs": [],
   "source": [
    "nd1a, nd4a = scp.align(nd1, nd4, dims=[\"y\", \"x\"])  # by default the outer method is used\n",
    "ndadd = nd1a + nd4a\n",
    "# Comparison of the result array with the original (only the common region is visible, due to the masks)\n",
    "_ = scp.multiplot_map(\n",
    "    datasets=[nd1a, nd4a, ndadd],\n",
    "    colormap=\"viridis\",\n",
    "    sharex=0,\n",
    "    sharey=True,\n",
    "    nrow=1,\n",
    "    ncol=3,\n",
    "    figsize=(8, 3),\n",
    "    dpi=100,\n",
    ")\n",
    "nd1a.shape, nd4a.shape, ndadd.shape"
   ]
  },
  {
   "cell_type": "code",
   "execution_count": null,
   "id": "51193daa",
   "metadata": {},
   "outputs": [],
   "source": [
    "nd1a, nd4a = scp.align(\n",
    "    nd1, nd4, dims=[\"y\", \"x\"], method=\"inner\"\n",
    ")  # by default the outer method is used\n",
    "ndadd = nd1a + nd4a\n",
    "# Comparison of the result array with the original (only the common region is visible, due to the masks)\n",
    "_ = scp.multiplot_map(\n",
    "    datasets=[nd1a, nd4a, ndadd],\n",
    "    colormap=\"viridis\",\n",
    "    sharex=0,\n",
    "    sharey=True,\n",
    "    nrow=1,\n",
    "    ncol=3,\n",
    "    figsize=(8, 3),\n",
    "    dpi=100,\n",
    ")"
   ]
  },
  {
   "cell_type": "code",
   "execution_count": null,
   "id": "72a02706",
   "metadata": {},
   "outputs": [],
   "source": [
    "nd1a, nd4a = scp.align(\n",
    "    nd1, nd4, dims=[\"y\", \"x\"], method=\"first\"\n",
    ")  # by default the outer method is used\n",
    "ndadd = nd1a + nd4a\n",
    "# Comparison of the result array with the original (only the common region is visible, due to the masks)\n",
    "_ = scp.multiplot_map(\n",
    "    datasets=[nd1a, nd4a, ndadd],\n",
    "    colormap=\"viridis\",\n",
    "    sharex=0,\n",
    "    sharey=True,\n",
    "    nrow=1,\n",
    "    ncol=3,\n",
    "    figsize=(8, 3),\n",
    "    dpi=100,\n",
    ")"
   ]
  },
  {
   "cell_type": "code",
   "execution_count": null,
   "id": "5cceb6d4",
   "metadata": {},
   "outputs": [],
   "source": [
    "nd1a, nd4a = scp.align(\n",
    "    nd1, nd4, dims=[\"y\", \"x\"], method=\"last\"\n",
    ")  # by default the outer method is used\n",
    "ndadd = nd1a + nd4a\n",
    "# Comparison of the result array with the original (only the common region is visible, due to the masks)\n",
    "_ = scp.multiplot_map(\n",
    "    datasets=[nd1a, nd4a, ndadd],\n",
    "    colormap=\"viridis\",\n",
    "    sharex=0,\n",
    "    sharey=True,\n",
    "    nrow=1,\n",
    "    ncol=3,\n",
    "    figsize=(8, 3),\n",
    "    dpi=100,\n",
    ")"
   ]
  }
 ],
 "metadata": {
  "jupytext": {
   "formats": "ipynb,py:percent",
   "notebook_metadata_filter": "all"
  },
  "kernelspec": {
   "display_name": "Python 3",
   "language": "python",
   "name": "python3"
  },
  "language_info": {
   "codemirror_mode": {
    "name": "ipython",
    "version": 3
   },
   "file_extension": ".py",
   "mimetype": "text/x-python",
   "name": "python",
   "nbconvert_exporter": "python",
   "pygments_lexer": "ipython3",
   "version": "3.9.1"
  },
  "widgets": {
   "application/vnd.jupyter.widget-state+json": {
    "state": {},
    "version_major": 2,
    "version_minor": 0
   }
  }
 },
 "nbformat": 4,
 "nbformat_minor": 5
}
