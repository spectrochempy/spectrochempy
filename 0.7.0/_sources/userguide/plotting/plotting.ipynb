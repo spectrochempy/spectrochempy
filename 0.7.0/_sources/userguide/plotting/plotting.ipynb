{
 "cells": [
  {
   "cell_type": "markdown",
   "id": "7308e179",
   "metadata": {
    "lines_to_next_cell": 0
   },
   "source": [
    "# Plotting\n",
    "\n",
    "This section shows the main plotting capabilities of SpectroChemPy. Most of them are based on [Matplotlib](\n",
    "https://matplotlib.org), one of the most used plotting library for Python, and its\n",
    "[pyplot](https://matplotlib.org/stable/tutorials/introductory/pyplot.html) interface. While not mandatory, to follow\n",
    "this tutorial, some familiarity with this library can help, and we recommend a brief look at some\n",
    "[matplotlib tutorials](https://matplotlib.org/stable/tutorials/index.html) as well.\n",
    "\n",
    "Note that in the near future, SpectroChemPy should also offer the possibility to use [Plotly](https://plotly.com/)\n",
    "for a better interactivity inside a notebook.\n",
    "\n",
    "Finally, some commands and objects used here are described in-depth in the sections related to\n",
    "[import](../importexport/import.rst) and [slicing](../processing/slicing.rst) of NDDatasets and the *\n",
    "[NDDatasets](../objects/dataset/dataset.ipynb) themselves."
   ]
  },
  {
   "cell_type": "markdown",
   "id": "5f7ef96b",
   "metadata": {},
   "source": [
    "## Load the API\n",
    "First, before anything else, we import the spectrochempy API:"
   ]
  },
  {
   "cell_type": "code",
   "execution_count": null,
   "id": "c5393072",
   "metadata": {},
   "outputs": [],
   "source": [
    "import spectrochempy as scp"
   ]
  },
  {
   "cell_type": "markdown",
   "id": "19cb57b1",
   "metadata": {},
   "source": [
    "## Loading the data\n",
    "For sake of demonstration we import a NDDataset consisting in infrared spectra from an omnic .spg file\n",
    "and make some (optional) preparation of the data to display\n",
    "(see also [Import IR Data](../importexport/importIR.rst))."
   ]
  },
  {
   "cell_type": "code",
   "execution_count": null,
   "id": "5ee1fbbf",
   "metadata": {},
   "outputs": [],
   "source": [
    "dataset = scp.read(\"irdata/nh4y-activation.spg\")"
   ]
  },
  {
   "cell_type": "markdown",
   "id": "584248f4",
   "metadata": {},
   "source": [
    "## Preparing the data"
   ]
  },
  {
   "cell_type": "markdown",
   "id": "2aea8787",
   "metadata": {
    "lines_to_next_cell": 2
   },
   "source": []
  },
  {
   "cell_type": "code",
   "execution_count": null,
   "id": "087ac3e1",
   "metadata": {},
   "outputs": [],
   "source": [
    "dataset = dataset[:, 4000.0:650.0]  # We keep only the region that we want to display"
   ]
  },
  {
   "cell_type": "markdown",
   "id": "e8531394",
   "metadata": {},
   "source": [
    "We change the y coordinated so that times start at 0, put it in minutes and change its title/"
   ]
  },
  {
   "cell_type": "code",
   "execution_count": null,
   "id": "dd9d3d8b",
   "metadata": {},
   "outputs": [],
   "source": [
    "dataset.y -= dataset.y[0]\n",
    "dataset.y.ito(\"minutes\")\n",
    "dataset.y.title = \"relative time on stream\""
   ]
  },
  {
   "cell_type": "markdown",
   "id": "a2565c04",
   "metadata": {},
   "source": [
    "We also mask a region that we do not want to display"
   ]
  },
  {
   "cell_type": "code",
   "execution_count": null,
   "id": "4c3f1c87",
   "metadata": {},
   "outputs": [],
   "source": [
    "dataset[:, 1290.0:920.0] = scp.MASKED"
   ]
  },
  {
   "cell_type": "markdown",
   "id": "8f488477",
   "metadata": {},
   "source": [
    "## Selecting the output window"
   ]
  },
  {
   "cell_type": "markdown",
   "id": "55878c2f",
   "metadata": {},
   "source": [
    "For the examples below, we use inline matplotlib figures (non-interactive): this can be forced using the magic\n",
    "function before loading spectrochempy.:\n",
    "```ipython3\n",
    "%matplotlib inline\n",
    "```\n",
    "but it is also the default in `Jupyter lab` (so we don't really need to specify this). Note that when such magic\n",
    "function has been used, it is not possible to change the setting, except by resetting the notebook kernel.\n",
    "\n",
    "If one wants interactive displays (with selection, zooming, etc...) one can use:\n",
    "```ipython3\n",
    "    %matplotlib widget\n",
    "```\n",
    "However, this suffers (at least for us) some incompatibilities in `jupyter lab` ...\n",
    "it is worth to try!\n",
    "If you can not get it working in `jupyter lab` and you need interactivity, you can\n",
    "use the following:\n",
    "```ipython3\n",
    "    %matplotlib\n",
    "```\n",
    "which has the effect of displaying the figures in independent windows using default\n",
    "matplotlib backend (e.g.,\n",
    "`Tk` ), with all the interactivity of matplotlib.\n",
    "\n",
    "But you can explicitly request a different GUI backend:\n",
    "```ipython3\n",
    "    %matplotlib qt\n",
    "```"
   ]
  },
  {
   "cell_type": "code",
   "execution_count": null,
   "id": "a90645ca",
   "metadata": {},
   "outputs": [],
   "source": [
    "%matplotlib inline"
   ]
  },
  {
   "cell_type": "markdown",
   "id": "796ece70",
   "metadata": {},
   "source": [
    "## Default plotting"
   ]
  },
  {
   "cell_type": "markdown",
   "id": "5e5b3985",
   "metadata": {},
   "source": [
    "To plot the previously loaded dataset, it is very simple: we use the `plot` command (generic plot).\n",
    "\n",
    "As the current NDDataset is 2D, a **stack plot** is displayed by default, with a **viridis** colormap."
   ]
  },
  {
   "cell_type": "code",
   "execution_count": null,
   "id": "e64cc14c",
   "metadata": {},
   "outputs": [],
   "source": [
    "_ = dataset.plot()"
   ]
  },
  {
   "cell_type": "markdown",
   "id": "0272fa64",
   "metadata": {
    "lines_to_next_cell": 0
   },
   "source": [
    "Note, in the cell above, that we used ` _ = ... `  syntax.\n",
    "This is to avoid any output but the plot from this statement.\n",
    "\n",
    "Note also that the `plot()` method uses some of NDDataset metadata: the `NDDataset.x` coordinate `data` (here the\n",
    "wavenumber values), `name` (here 'wavenumbers'), `units` (here 'cm-1') as well as the `NDDataset.title`\n",
    "(here 'absorbance') and `NDDataset.units (here 'absorbance')."
   ]
  },
  {
   "cell_type": "markdown",
   "id": "872ab58a",
   "metadata": {},
   "source": [
    "## Changing the aspect of the plot"
   ]
  },
  {
   "cell_type": "markdown",
   "id": "77448e25",
   "metadata": {},
   "source": [
    "### Change the `NDDataset.preferences`\n",
    "We can change the default plot configuration for this dataset by changing its `preferences' attributes\n",
    "(see at the end of this tutorial  for an overview of all the available parameters)."
   ]
  },
  {
   "cell_type": "code",
   "execution_count": null,
   "id": "69f7a0cc",
   "metadata": {
    "lines_to_next_cell": 2
   },
   "outputs": [],
   "source": [
    "prefs = dataset.preferences  # we will use prefs instead of dataset.preference\n",
    "prefs.figure.figsize = (6, 3)  # The default figsize is (6.8,4.4)\n",
    "prefs.colorbar = True  # This add a color bar on a side\n",
    "prefs.colormap = \"magma\"  # The default colormap is viridis\n",
    "prefs.axes.facecolor = \".95\"  # Make the graph background colored in a light gray\n",
    "prefs.axes.grid = True\n",
    "\n",
    "_ = dataset.plot()"
   ]
  },
  {
   "cell_type": "markdown",
   "id": "6c50e871",
   "metadata": {},
   "source": [
    "The colormap can also be changed by setting `cmap` in the arguments.\n",
    "If you prefer not using colormap, `cmap=None` should be used. For instance:"
   ]
  },
  {
   "cell_type": "code",
   "execution_count": null,
   "id": "38c73cfe",
   "metadata": {},
   "outputs": [],
   "source": [
    "_ = dataset.plot(cmap=None, colorbar=False)"
   ]
  },
  {
   "cell_type": "markdown",
   "id": "b51724e6",
   "metadata": {},
   "source": [
    "Note that, by default, **sans-serif** font are used for all text in the figure.\n",
    "But if you prefer, **serif**, or *monospace* font can be used instead. For instance:"
   ]
  },
  {
   "cell_type": "code",
   "execution_count": null,
   "id": "04bbb904",
   "metadata": {},
   "outputs": [],
   "source": [
    "prefs.font.family = \"monospace\"\n",
    "_ = dataset.plot()"
   ]
  },
  {
   "cell_type": "markdown",
   "id": "cd06309d",
   "metadata": {},
   "source": [
    "Once changed, the `NDDataset.preferences` attributes will be used for the subsequent plots, but can be reset to the\n",
    "initial defaults anytime using the `NDDataset.preferences.reset()` method. For instance:"
   ]
  },
  {
   "cell_type": "code",
   "execution_count": null,
   "id": "59dfa586",
   "metadata": {},
   "outputs": [],
   "source": [
    "print(f\"font before reset: {prefs.font.family}\")\n",
    "prefs.reset()\n",
    "print(f\"font after reset: {prefs.font.family}\")"
   ]
  },
  {
   "cell_type": "markdown",
   "id": "5bfd896a",
   "metadata": {},
   "source": [
    "It is also possible to change a parameter for a single plot without changing the `preferences` attribute by passing\n",
    "it as an argument of the `plot()`method. For instance, as in matplotlib, the default colormap is `viridis':"
   ]
  },
  {
   "cell_type": "code",
   "execution_count": null,
   "id": "1c84b1b1",
   "metadata": {},
   "outputs": [],
   "source": [
    "prefs.colormap"
   ]
  },
  {
   "cell_type": "markdown",
   "id": "764becd9",
   "metadata": {},
   "source": [
    "but 'magma' can be passed to the `plot()` method:"
   ]
  },
  {
   "cell_type": "code",
   "execution_count": null,
   "id": "8996bf26",
   "metadata": {},
   "outputs": [],
   "source": [
    "_ = dataset.plot(colormap=\"magma\")"
   ]
  },
  {
   "cell_type": "markdown",
   "id": "2d26e4de",
   "metadata": {},
   "source": [
    "while the `preferences.colormap` is still set to `viridis':"
   ]
  },
  {
   "cell_type": "code",
   "execution_count": null,
   "id": "477ce237",
   "metadata": {},
   "outputs": [],
   "source": [
    "prefs.colormap"
   ]
  },
  {
   "cell_type": "markdown",
   "id": "cdbeacfa",
   "metadata": {},
   "source": [
    "and will be used by default for the next plots:"
   ]
  },
  {
   "cell_type": "code",
   "execution_count": null,
   "id": "2d4b7288",
   "metadata": {},
   "outputs": [],
   "source": [
    "_ = dataset.plot()"
   ]
  },
  {
   "cell_type": "markdown",
   "id": "903fb44e",
   "metadata": {},
   "source": [
    "## Adding titles and annotations"
   ]
  },
  {
   "cell_type": "markdown",
   "id": "699654a9",
   "metadata": {},
   "source": [
    "The plot function return a reference to the subplot `ax` object on which the data have been plotted.\n",
    "We can then use this reference to modify some element of the plot.\n",
    "\n",
    "For example, here we add a title and some annotations:"
   ]
  },
  {
   "cell_type": "code",
   "execution_count": null,
   "id": "7a78ff08",
   "metadata": {},
   "outputs": [],
   "source": [
    "prefs.reset()\n",
    "prefs.colorbar = False\n",
    "prefs.colormap = \"terrain\"\n",
    "prefs.font.family = \"monospace\"\n",
    "\n",
    "ax = dataset.plot()\n",
    "ax.grid(\n",
    "    False\n",
    ")  # This temporarily suppress the grid after the plot is done but is not saved in prefs\n",
    "\n",
    "# set title\n",
    "title = ax.set_title(\"NH$_4$Y IR spectra during activation\")\n",
    "title.set_color(\"red\")\n",
    "title.set_fontstyle(\"italic\")\n",
    "title.set_fontsize(14)\n",
    "\n",
    "# put some text\n",
    "ax.text(1200.0, 1, \"Masked region\\n (saturation)\", rotation=90)\n",
    "\n",
    "# put some fancy annotations (see matplotlib documentation to learn how to design this)\n",
    "_ = ax.annotate(\n",
    "    \"OH groups\",\n",
    "    xy=(3600.0, 1.25),\n",
    "    xytext=(-10, -50),\n",
    "    textcoords=\"offset points\",\n",
    "    arrowprops={\n",
    "        \"arrowstyle\": \"fancy\",\n",
    "        \"color\": \"0.5\",\n",
    "        \"shrinkB\": 5,\n",
    "        \"connectionstyle\": \"arc3,rad=-0.3\",\n",
    "    },\n",
    ")"
   ]
  },
  {
   "cell_type": "markdown",
   "id": "e6f688f6",
   "metadata": {},
   "source": [
    "More information about annotation can be found in the [matplotlib documentation:  annotations](\n",
    "https://matplotlib.org/stable/tutorials/text/annotations.html)"
   ]
  },
  {
   "cell_type": "markdown",
   "id": "60b31f44",
   "metadata": {},
   "source": [
    "## Changing the plot style using matplotlib style sheets"
   ]
  },
  {
   "cell_type": "markdown",
   "id": "0242fd2a",
   "metadata": {},
   "source": [
    " The easiest way to change the plot style may be to use pre-defined styles such as those used in [matplotlib\n",
    " styles](https://matplotlib.org/stable/tutorials/introductory/customizing.html). This is directly included in the\n",
    " preferences of SpectroChemPy"
   ]
  },
  {
   "cell_type": "code",
   "execution_count": null,
   "id": "50a02ae7",
   "metadata": {},
   "outputs": [],
   "source": [
    "prefs.style = \"grayscale\"\n",
    "_ = dataset.plot()"
   ]
  },
  {
   "cell_type": "code",
   "execution_count": null,
   "id": "2ffeb54f",
   "metadata": {},
   "outputs": [],
   "source": [
    "prefs.style = \"ggplot\"\n",
    "_ = dataset.plot()"
   ]
  },
  {
   "cell_type": "markdown",
   "id": "819513d1",
   "metadata": {},
   "source": [
    "Other styles are :\n",
    "* paper , which create figure suitable for two columns article (fig width: 3.4 inch)\n",
    "* poster\n",
    "* talk"
   ]
  },
  {
   "cell_type": "markdown",
   "id": "12b45da1",
   "metadata": {},
   "source": [
    "the styles can be combined, so you can have a style sheet that customizes\n",
    "colors and a separate style sheet that alters element sizes for presentations:"
   ]
  },
  {
   "cell_type": "code",
   "execution_count": null,
   "id": "5fb7cbda",
   "metadata": {},
   "outputs": [],
   "source": [
    "prefs.reset()\n",
    "prefs.style = \"grayscale\", \"paper\"\n",
    "_ = dataset.plot(colorbar=True)"
   ]
  },
  {
   "cell_type": "markdown",
   "id": "0a609422",
   "metadata": {},
   "source": [
    "As previously, style specification can also be done directly in the plot method without\n",
    "affecting the `preferences' attribute."
   ]
  },
  {
   "cell_type": "code",
   "execution_count": null,
   "id": "049e53ba",
   "metadata": {},
   "outputs": [],
   "source": [
    "prefs.colormap = \"magma\"\n",
    "_ = dataset.plot(style=[\"scpy\", \"paper\"])"
   ]
  },
  {
   "cell_type": "markdown",
   "id": "b2cb0f3a",
   "metadata": {},
   "source": [
    "To get a list of all available styles :"
   ]
  },
  {
   "cell_type": "code",
   "execution_count": null,
   "id": "e1c8f80a",
   "metadata": {},
   "outputs": [],
   "source": [
    "prefs.available_styles"
   ]
  },
  {
   "cell_type": "markdown",
   "id": "4e2439e7",
   "metadata": {},
   "source": [
    "Again, to restore the default setting, you can use the reset function"
   ]
  },
  {
   "cell_type": "code",
   "execution_count": null,
   "id": "e93ee44e",
   "metadata": {},
   "outputs": [],
   "source": [
    "prefs.reset()\n",
    "_ = dataset.plot()"
   ]
  },
  {
   "cell_type": "markdown",
   "id": "e9629b86",
   "metadata": {},
   "source": [
    "## Create your own style\n",
    "\n",
    "If you want to create your own style for later use, you can use the command  `makestyle` (**warning**: you can not\n",
    "use `scpy` which is the READONLY default style:"
   ]
  },
  {
   "cell_type": "code",
   "execution_count": null,
   "id": "94fc6f4f",
   "metadata": {},
   "outputs": [],
   "source": [
    "prefs.makestyle(\"scpy\")"
   ]
  },
  {
   "cell_type": "markdown",
   "id": "6a245559",
   "metadata": {},
   "source": [
    "If no name is provided a default name is used :`mydefault`"
   ]
  },
  {
   "cell_type": "code",
   "execution_count": null,
   "id": "0942bb68",
   "metadata": {},
   "outputs": [],
   "source": [
    "prefs.makestyle()"
   ]
  },
  {
   "cell_type": "markdown",
   "id": "fd6bc1be",
   "metadata": {},
   "source": [
    "**Example:**\n"
   ]
  },
  {
   "cell_type": "code",
   "execution_count": null,
   "id": "933e55fc",
   "metadata": {},
   "outputs": [],
   "source": [
    "prefs.reset()\n",
    "prefs.colorbar = True\n",
    "prefs.colormap = \"jet\"\n",
    "prefs.font.family = \"monospace\"\n",
    "prefs.font.size = 14\n",
    "prefs.axes.labelcolor = \"blue\"\n",
    "prefs.axes.grid = True\n",
    "prefs.axes.grid_axis = \"x\"\n",
    "\n",
    "_ = dataset.plot()\n",
    "\n",
    "prefs.makestyle()"
   ]
  },
  {
   "cell_type": "code",
   "execution_count": null,
   "id": "dcfca2cc",
   "metadata": {},
   "outputs": [],
   "source": [
    "prefs.reset()\n",
    "_ = dataset.plot()  # plot with the default scpy style"
   ]
  },
  {
   "cell_type": "code",
   "execution_count": null,
   "id": "9ca6eaf3",
   "metadata": {},
   "outputs": [],
   "source": [
    "prefs.style = \"mydefault\"\n",
    "_ = dataset.plot()  # plot with our own style"
   ]
  },
  {
   "cell_type": "markdown",
   "id": "5d3624ca",
   "metadata": {},
   "source": [
    "## Changing the type of plot"
   ]
  },
  {
   "cell_type": "markdown",
   "id": "6565f16c",
   "metadata": {},
   "source": [
    "By default, plots of 2D datasets are done in 'stack' mode. Other available modes are 'map', 'image', 'surface' and\n",
    "'waterfall'.\n",
    "\n",
    "The default can be changed permanently by setting the variable `pref.method_2D` to one of these alternative modes,\n",
    "for instance if you like to have contour plot, you can use:"
   ]
  },
  {
   "cell_type": "code",
   "execution_count": null,
   "id": "eea03939",
   "metadata": {},
   "outputs": [],
   "source": [
    "prefs.reset()\n",
    "\n",
    "prefs.method_2D = \"map\"  # this will change permanently the type of 2D plot\n",
    "prefs.colormap = \"magma\"\n",
    "prefs.figure_figsize = (5, 3)\n",
    "_ = dataset.plot()"
   ]
  },
  {
   "cell_type": "markdown",
   "id": "dd9c425d",
   "metadata": {
    "lines_to_next_cell": 0
   },
   "source": [
    "You can also, for an individual plot use specialised plot commands, such as `plot_stack()` , `plot_map()` ,\n",
    "`plot_waterfall()` , `plot_surface()` or `plot_image()` , or equivalently the generic `plot` function with\n",
    "the `method` parameter, i.e., `plot(method='stack')` , `plot(method='map')` , etc...\n",
    "\n",
    "These modes are illustrated below:"
   ]
  },
  {
   "cell_type": "code",
   "execution_count": null,
   "id": "7da52337",
   "metadata": {},
   "outputs": [],
   "source": [
    "prefs.axes_facecolor = \"white\"\n",
    "_ = dataset.plot_image(colorbar=True)  # will use image_cmap preference!"
   ]
  },
  {
   "cell_type": "markdown",
   "id": "e53a9c40",
   "metadata": {},
   "source": [
    "Here we use the generic `plot()` with the `method' argument and we change the image_cmap:"
   ]
  },
  {
   "cell_type": "code",
   "execution_count": null,
   "id": "b14da1e4",
   "metadata": {},
   "outputs": [],
   "source": [
    "_ = dataset.plot(method=\"image\", image_cmap=\"jet\", colorbar=True)"
   ]
  },
  {
   "cell_type": "markdown",
   "id": "b8a3bb19",
   "metadata": {},
   "source": [
    "The colormap normalization can be changed using the `norm` parameter, as illustrated below,\n",
    "for a centered colomap:"
   ]
  },
  {
   "cell_type": "code",
   "execution_count": null,
   "id": "68d99877",
   "metadata": {},
   "outputs": [],
   "source": [
    "import matplotlib as mpl\n",
    "\n",
    "norm = mpl.colors.CenteredNorm()\n",
    "_ = dataset.plot(method=\"image\", image_cmap=\"jet\", colorbar=True, norm=norm)"
   ]
  },
  {
   "cell_type": "markdown",
   "id": "e122c0f7",
   "metadata": {},
   "source": [
    "or below for a log scale (more information about colormap normalization can be found\n",
    "[here](https://matplotlib.org/stable/users/explain/colors/colormapnorms.html))."
   ]
  },
  {
   "cell_type": "code",
   "execution_count": null,
   "id": "727e6c95",
   "metadata": {},
   "outputs": [],
   "source": [
    "norm = mpl.colors.LogNorm(vmin=0.1, vmax=4.0)\n",
    "_ = dataset.plot(method=\"image\", image_cmap=\"jet\", colorbar=True, norm=norm)"
   ]
  },
  {
   "cell_type": "markdown",
   "id": "36c5014f",
   "metadata": {},
   "source": [
    "Below an example of a waterfall plot:"
   ]
  },
  {
   "cell_type": "code",
   "execution_count": null,
   "id": "d421a0e5",
   "metadata": {},
   "outputs": [],
   "source": [
    "prefs.reset()\n",
    "_ = dataset.plot_waterfall(figsize=(7, 4), y_reverse=True)"
   ]
  },
  {
   "cell_type": "markdown",
   "id": "df98308b",
   "metadata": {},
   "source": [
    "And finally an example of a surface plot:"
   ]
  },
  {
   "cell_type": "code",
   "execution_count": null,
   "id": "fc891e3b",
   "metadata": {
    "lines_to_next_cell": 0
   },
   "outputs": [],
   "source": [
    "prefs.reset()\n",
    "_ = dataset.plot_surface(figsize=(7, 7), linewidth=0, y_reverse=True, autolayout=False)"
   ]
  },
  {
   "cell_type": "markdown",
   "id": "ef05ee1e",
   "metadata": {},
   "source": [
    "## Plotting 1D datasets"
   ]
  },
  {
   "cell_type": "code",
   "execution_count": null,
   "id": "12e130b6",
   "metadata": {},
   "outputs": [],
   "source": [
    "prefs.reset()\n",
    "d1D = dataset[-1]  # select the last row of the previous 2D dataset\n",
    "_ = d1D.plot(color=\"r\")"
   ]
  },
  {
   "cell_type": "code",
   "execution_count": null,
   "id": "8b5f5342",
   "metadata": {},
   "outputs": [],
   "source": [
    "prefs.style = \"seaborn-v0_8-paper\"\n",
    "_ = dataset[3].plot(scatter=True, pen=False, me=30, ms=5)"
   ]
  },
  {
   "cell_type": "markdown",
   "id": "567fa7ea",
   "metadata": {},
   "source": [
    "## Plotting several dataset on the same figure"
   ]
  },
  {
   "cell_type": "markdown",
   "id": "f2dd3368",
   "metadata": {},
   "source": [
    "We can plot several datasets on the same figure using the `clear` argument."
   ]
  },
  {
   "cell_type": "code",
   "execution_count": null,
   "id": "841ddcf1",
   "metadata": {},
   "outputs": [],
   "source": [
    "nspec = int(len(dataset) / 4)\n",
    "ds1 = dataset[:nspec]  # split the dataset into too parts\n",
    "ds2 = dataset[nspec:] - 2.0  # add an offset to the second part\n",
    "\n",
    "ax1 = ds1.plot_stack()\n",
    "_ = ds2.plot_stack(ax=ax1, clear=False, zlim=(-2.5, 4))"
   ]
  },
  {
   "cell_type": "markdown",
   "id": "ceb8bbb5",
   "metadata": {},
   "source": [
    "For 1D datasets only, you can also use the `plot_multiple`method:"
   ]
  },
  {
   "cell_type": "code",
   "execution_count": null,
   "id": "2ec1b191",
   "metadata": {},
   "outputs": [],
   "source": [
    "datasets = [dataset[0], dataset[10], dataset[20], dataset[50], dataset[53]]\n",
    "labels = [f\"sample {label}\" for label in [\"S1\", \"S10\", \"S20\", \"S50\", \"S53\"]]\n",
    "prefs.reset()\n",
    "prefs.axes.facecolor = \".99\"\n",
    "prefs.axes.grid = True\n",
    "_ = scp.plot_multiple(\n",
    "    method=\"scatter\", me=10, datasets=datasets, labels=labels, legend=\"best\"\n",
    ")"
   ]
  },
  {
   "cell_type": "markdown",
   "id": "6adb57a8",
   "metadata": {},
   "source": [
    "## Overview of the main configuration parameters"
   ]
  },
  {
   "cell_type": "markdown",
   "id": "6e23cb60",
   "metadata": {},
   "source": [
    "To display a dictionary of the current settings (**compared to those set by default**\n",
    "at API startup), you can simply type :"
   ]
  },
  {
   "cell_type": "code",
   "execution_count": null,
   "id": "ed72c770",
   "metadata": {},
   "outputs": [],
   "source": [
    "prefs"
   ]
  },
  {
   "cell_type": "markdown",
   "id": "1b2fd10f",
   "metadata": {},
   "source": [
    "**Warning**: Note that with respect to matplotlib,the parameters in the `dataset.preferences` dictionary\n",
    "have a slightly different name, e.g. `figure_figsize` (SpectroChemPy) instead of `figure.figsize` (matplotlib syntax)\n",
    "(this is because in SpectroChemPy, dot (` .` ) cannot be used in parameter name,\n",
    "and thus it is replaced by an underscore (`_` ))\n"
   ]
  },
  {
   "cell_type": "markdown",
   "id": "3b796f1f",
   "metadata": {},
   "source": [
    "To display the current values of **all parameters** corresponding to one group, e.g. `lines` , type:"
   ]
  },
  {
   "cell_type": "code",
   "execution_count": null,
   "id": "23ec650b",
   "metadata": {},
   "outputs": [],
   "source": [
    "prefs.lines"
   ]
  },
  {
   "cell_type": "markdown",
   "id": "add70863",
   "metadata": {},
   "source": [
    "To display **help** on a single parameter, type:"
   ]
  },
  {
   "cell_type": "code",
   "execution_count": null,
   "id": "333157f3",
   "metadata": {},
   "outputs": [],
   "source": [
    "prefs.help(\"lines_linewidth\")"
   ]
  },
  {
   "cell_type": "markdown",
   "id": "f742d654",
   "metadata": {},
   "source": [
    "To view **all parameters**:"
   ]
  },
  {
   "cell_type": "code",
   "execution_count": null,
   "id": "910fcd05",
   "metadata": {},
   "outputs": [],
   "source": [
    "prefs.all()"
   ]
  }
 ],
 "metadata": {
  "jupytext": {
   "formats": "ipynb,py:percent",
   "notebook_metadata_filter": "all"
  },
  "kernelspec": {
   "display_name": "Python 3",
   "language": "python",
   "name": "python3"
  },
  "language_info": {
   "codemirror_mode": {
    "name": "ipython",
    "version": 3
   },
   "file_extension": ".py",
   "mimetype": "text/x-python",
   "name": "python",
   "nbconvert_exporter": "python",
   "pygments_lexer": "ipython3",
   "version": "3.9.1"
  },
  "widgets": {
   "application/vnd.jupyter.widget-state+json": {
    "state": {},
    "version_major": 2,
    "version_minor": 0
   }
  }
 },
 "nbformat": 4,
 "nbformat_minor": 5
}
