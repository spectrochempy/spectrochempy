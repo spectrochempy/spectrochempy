{
 "cells": [
  {
   "cell_type": "markdown",
   "id": "7ab01c9d",
   "metadata": {},
   "source": [
    "# Import Data in SpectroChemPy\n",
    "\n",
    "This tutorial shows how to import data in **SpectroChemPy (SCPy)** .\n",
    "\n",
    "First, let's `import spectrochempy as scp` in the current\n",
    "namespace, so that all spectrochempy commands will be called as\n",
    "`scp.method(<method parameters>)` ."
   ]
  },
  {
   "cell_type": "code",
   "execution_count": null,
   "id": "b764915c",
   "metadata": {},
   "outputs": [],
   "source": [
    "import spectrochempy as scp"
   ]
  },
  {
   "cell_type": "markdown",
   "id": "7c953ca5",
   "metadata": {},
   "source": [
    "## Dialog boxes\n",
    "\n",
    "Retrieving Files and Directories, in day-to-day work is often made through Dialog\n",
    "Boxes. While we do not recommend\n",
    "this procedure for advanced usage (see below), it is quite easy to do that with SCPy.\n",
    "To do so, we can use the\n",
    "`read` function which open a dialog, allowing the selection of data file form various\n",
    "origin. By default,\n",
    "the native SCPy type of data is proposed (file suffix: ` .scp` ). The desired type of\n",
    "files to display can be chosen\n",
    "in a dropdown field."
   ]
  },
  {
   "cell_type": "code",
   "execution_count": null,
   "id": "84befb6f",
   "metadata": {},
   "outputs": [],
   "source": [
    "X = scp.read()"
   ]
  },
  {
   "cell_type": "markdown",
   "id": "7dac1a52",
   "metadata": {},
   "source": [
    "The dialog box such as shown in this image:\n",
    "\n",
    "<center><img id='drawings' width='600px'  src='./images/read.png'></img></center>\n",
    "\n",
    "The dialog Box allows selecting the file which data will be loaded in the variable\n",
    "`X`\\. Try for instance to run the\n",
    "cell below, and select an omnic spg datafile (select the .spg extension), which you\n",
    "can find in the `irdata` directory.\n",
    "\n",
    "<div class='alert alert-warning'>\n",
    "<b>Tip</b>\n",
    "\n",
    "the dialog box does not necessarily pop up in the foreground: check your task bar !\n",
    "</div>\n",
    "\n",
    "Printing the returned NDDataset object X should read like this, with indication of\n",
    "the dataset `shape` , *i.e., * the `y` and  `x` dimension sizes:"
   ]
  },
  {
   "cell_type": "code",
   "execution_count": null,
   "id": "70fdc485",
   "metadata": {},
   "outputs": [],
   "source": [
    "print(X)"
   ]
  },
  {
   "cell_type": "markdown",
   "id": "77b8135a",
   "metadata": {},
   "source": [
    "The size of the `y` and `x` dimension will depend, of course, of the file that you\n",
    "have selected ! If you did not\n",
    "select any file ( *e.g.,* by pressing 'cancel' in th Dialog Box), the result will be\n",
    "`None` , as nothing has been loaded in `X` .\n",
    "\n",
    "<div class='alert alert-info'>\n",
    "<b>Note</b>\n",
    "\n",
    "By default, the Dialog Box opens in the last directory you have used. However, if a\n",
    "directory path is specified, the dialog should open from this directory.\n",
    "</div>"
   ]
  },
  {
   "cell_type": "code",
   "execution_count": null,
   "id": "3c09f0aa",
   "metadata": {},
   "outputs": [],
   "source": [
    "X = scp.read_omnic(\n",
    "    \"irdata/subdir\"\n",
    ")  # a WARNING is issued when some files are unreadable in the subdir (and thus ignored)\n",
    "print(X)"
   ]
  },
  {
   "cell_type": "markdown",
   "id": "577d4727",
   "metadata": {},
   "source": [
    "See below for more information\n",
    "\n",
    "- At the time of writing this tutorial (SpectroChemPy v.0.1.23), the following\n",
    "commands will behave similarly:\n",
    "    - `read` to open any kind of recognised data files based on the file suffix\n",
    "      (e.g., .spg, etc...)\n",
    "    - `read_omnic` to open omnic (spa and spg) files\n",
    "    - `read_opus` to open Bruker Opus (.0, ...) files\n",
    "    - `read_labspec` to open LABSPEC6 files - this assumes they have been exported\n",
    "      as .txt files\n",
    "    - `read_topspin` to open Bruker Topspin NMR files\n",
    "    - `read_csv` to open csv files\n",
    "    - `read_jcamp` to open an IR JCAMP-DX datafile\n",
    "    - `read_matlab` to open MATLAB (.mat) files including Eingenvector's Dataset\n",
    "      objects\n",
    "\n",
    "\n",
    "- Additionally\n",
    "    - `read_dir` to open readable files in a directory\n",
    "\n",
    "\n",
    "- The list of readers available will hopefully increase in future **SCPy** releases.\n",
    "\n",
    "If successful, the output of the above cell should read something like\n",
    "\n",
    "    Out[2] NDDataset: [float64] a.u. (shape: (y:4, x:5549))"
   ]
  },
  {
   "cell_type": "markdown",
   "id": "7c8aba58",
   "metadata": {},
   "source": [
    "## Import with explicit directory or file pathnames\n",
    "\n",
    "While the use of Dialog Box seems at first 'user-friendly', you will probably\n",
    "experience that this is often **NOT**\n",
    "efficient because you will have to select the file *each time* the notebook (or the\n",
    "script) is run... Hence, the above commands can be used with the indication of the\n",
    "path to a directory, and/or to a filename.\n",
    "\n",
    "If only a directory is indicated, the dialog box will open in this directory.\n",
    "\n",
    "Note that on Windows the path separator is a backslash `\\\\` .\n",
    "However, in many contexts,\n",
    "backslash is also used as an escape character in order to represent non-printable\n",
    "characters. To avoid problems,\n",
    "either it has to be escaped itself,  a double backslash or one can also use raw\n",
    "string literals\n",
    "to represent Windows paths. These are string literals that have an `r` prepended to\n",
    "them. In raw string literals\n",
    "the `\\\\` represents a literal backslash: `r'C:\\users\\Brian'` :\n",
    "\n",
    "For instance, on Windows systems, the two following commands are fully equivalent:\n",
    "\n",
    "```ipython3\n",
    "X = scp.read_omnic(directory='C:\\\\users\\\\Brian')\n",
    "```\n",
    "\n",
    "or\n",
    "\n",
    "```ipython3\n",
    "X = scp.read_omnic(directory=r'C:\\users\\Brian')\n",
    "```\n",
    "\n",
    "and will open the dialog box at the root directory of the `C:` drive.\n",
    "\n",
    "You can avoid using the form `\\\\` or the use of raw strings by using conventional\n",
    "slash `/` . In python, they play the path separator role, as well in Windows than in\n",
    "other UNIX-based system (Linux, OSX, ...)\n",
    "\n",
    "```ipython3\n",
    "X = scp.read_omnic(directory='C:/users/Brian')\n",
    "```"
   ]
  },
  {
   "cell_type": "markdown",
   "id": "789550aa",
   "metadata": {},
   "source": [
    "If a `filename` is passed in argument, like here:\n",
    "```ipython3\n",
    "X = scp.read_omnic('wodger.spg', directory='C:/')\n",
    "```\n",
    "then SpectroChemPy will attempt opening a file named `wodger.spg` supposedly located\n",
    "in `C:\\\\` .\n",
    "\n",
    "\n",
    "Imagine now that the file of interest is actually located in\n",
    "`C:\\users\\Brian\\s\\Life` . The following\n",
    "commands are all equivalent and will allow opening the file:\n",
    "\n",
    "- using only the full pathname of the file:\n",
    "```ipython3\n",
    "X = scp.read_omnic('C:/users/Brian/s/Life/wodger.spg')\n",
    "```\n",
    "\n",
    "- or using a combination of directory and file pathnames:\n",
    "```ipython3\n",
    "X = scp.read_omnic('wodger.spg', directory='C:/users/Brian/s/Life'\n",
    "X = scp.read_omnic('Life/wodger.spg', directory='C:/users/Brian/s')\n",
    "```\n",
    "\n",
    "- etc..."
   ]
  },
  {
   "cell_type": "markdown",
   "id": "87c41477",
   "metadata": {},
   "source": [
    "### A good practice: use relative paths\n",
    "\n",
    "The above directives require explicitly writing the absolute pathnames, which are\n",
    "virtually always computer specific.\n",
    "If, for instance, Brian has a project organised in a folder (`s` ) with a directory\n",
    "dedicated to input data (`Life` )\n",
    "and a notebook for preprocessing (`welease.ipynb` ) as illustrate below:\n",
    "\n",
    "```\n",
    "C:\\users\n",
    "|    +-- Brian\n",
    "|    |    +-- s\n",
    "|    |    |   +-- Life\n",
    "|    |    |   |   +-- wodger.spg\n",
    "|    |    |   +-- welease.ipynb\n",
    "\n",
    "```\n",
    "\n",
    "Then running this project in John's Linux computer (e.g. in `/home/john/s_copy` )\n",
    "will certainly result in execution\n",
    "errors if absolute paths are used in the notebook:\n",
    "```text\n",
    "OSError: Can't find this filename C:\\users\\Brian\\s\\life\\wodger.spg\n",
    "```\n",
    "In this respect, a good practice consists in using relative pathnames in scripts and\n",
    "notebooks.\n",
    "Fortunately, SpectroChemPy readers use relative paths. If the given path is not\n",
    "absolute, then SpectroChemPy will search in the current directory. Hence, the opening\n",
    "of the `spg` file from scripts in `welease.ipynb` can be made\n",
    "by the command:\n",
    "```ipython3\n",
    "X = scp.read_omnic('Life/wodger.spg')\n",
    "```\n",
    "or:\n",
    "```ipython3\n",
    "X = scp.read_omnic('wodger.spg', directory='Life')\n",
    "```\n",
    "\n",
    "### Good practice: use `os` or `pathlib` modules\n",
    "\n",
    "In python, working with pathnames is classically done with dedicated modules such as\n",
    "`os` or `pathlib` python modules.\n",
    "With `os` we mention the following methods that can be particularly useful:\n",
    "\n",
    "```ipython3\n",
    "import os\n",
    "os.getcwd()              # returns the absolute path of the current working directory\n",
    "                         # preferences.datadir\n",
    "os.path.expanduser(\"~\")  # returns the home directory of the user\n",
    "os.path.join('path1','path2','path3', ...)\n",
    "                         # intelligently concatenates path components\n",
    "                         # using the system separator (`/` or `\\\\` )\n",
    "```\n",
    "\n",
    "Using `Pathlib` is even simpler:\n",
    "```ipython3\n",
    "from pathlib import Path\n",
    "Path.cwd()               # returns the absolute path of the current working directory\n",
    "Path.home()              # returns the home directory of the user\n",
    "Path('path1') / 'path2' / 'path3' / '...'   # intelligently concatenates path\n",
    "components\n",
    "```\n",
    "\n",
    " The interested readers will find more details on the use of these modules here:\n",
    "- [os](https://docs.python.org/3/library/os.html)\n",
    "- [pathlib](https://docs.python.org/3/library/pathlib.html)\n",
    "\n",
    "## Another default search directory: `datadir`\n",
    "\n",
    "Spectrochempy also comes with the definition of a second default directory path where\n",
    "to look at the data:\n",
    "the `datadir` directory. It is defined in the variable `preferences.datadir` which\n",
    "is imported at the same time as spectrochempy. By default, `datadir` points in the\n",
    "'$HOME/.spectrochempy/tesdata' directory.:"
   ]
  },
  {
   "cell_type": "code",
   "execution_count": null,
   "id": "51e6912b",
   "metadata": {},
   "outputs": [],
   "source": [
    "DATADIR = scp.preferences.datadir\n",
    "DATADIR"
   ]
  },
  {
   "cell_type": "markdown",
   "id": "4eb518c3",
   "metadata": {},
   "source": [
    "DATADIR is already a pathlib object and so can be used easily"
   ]
  },
  {
   "cell_type": "code",
   "execution_count": null,
   "id": "989ce91b",
   "metadata": {},
   "outputs": [],
   "source": [
    "X = scp.read_omnic(DATADIR / \"wodger.spg\")"
   ]
  },
  {
   "cell_type": "markdown",
   "id": "bc11c0bc",
   "metadata": {},
   "source": [
    "It can be set to another pathname *permanently* (i.e., even after computer restart)\n",
    "by a new assignment:\n",
    "\n",
    "```ipython3\n",
    "scp.preferences.datadir = 'C:/users/Brian/s/Life'\n",
    "```\n",
    "\n",
    "This will change the default value in the SCPy preference file located in the hidden\n",
    "folder\n",
    "` .spectrochempy/` at the root of the user home directory.\n",
    "\n",
    "Finally, by default, the import functions used in Spectrochempy will search the data\n",
    "files using this order of\n",
    "precedence:\n",
    "\n",
    "   1. try absolute path\n",
    "   2. try in current working directory\n",
    "   3. try in `datadir`\n",
    "   4. if none of these works: generate an OSError (file or directory not found)\n"
   ]
  }
 ],
 "metadata": {
  "jupytext": {
   "formats": "ipynb,py:percent",
   "notebook_metadata_filter": "all"
  },
  "kernelspec": {
   "display_name": "Python 3 (ipykernel)",
   "language": "python",
   "name": "python3"
  },
  "language_info": {
   "codemirror_mode": {
    "name": "ipython",
    "version": 3
   },
   "file_extension": ".py",
   "mimetype": "text/x-python",
   "name": "python",
   "nbconvert_exporter": "python",
   "pygments_lexer": "ipython3",
   "version": "3.9.16"
  },
  "toc-showcode": false,
  "toc-showtags": false,
  "widgets": {
   "application/vnd.jupyter.widget-state+json": {
    "state": {},
    "version_major": 2,
    "version_minor": 0
   }
  }
 },
 "nbformat": 4,
 "nbformat_minor": 5
}
