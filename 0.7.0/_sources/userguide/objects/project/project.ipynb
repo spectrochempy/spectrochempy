{
 "cells": [
  {
   "cell_type": "markdown",
   "id": "176e9d52",
   "metadata": {},
   "source": [
    "# Project management\n",
    "\n",
    "from pathlib import Path"
   ]
  },
  {
   "cell_type": "code",
   "execution_count": null,
   "id": "20e856c7",
   "metadata": {},
   "outputs": [],
   "source": [
    "from spectrochempy import NDDataset\n",
    "from spectrochempy import Project\n",
    "from spectrochempy import pathclean\n",
    "from spectrochempy import preferences as prefs"
   ]
  },
  {
   "cell_type": "markdown",
   "id": "ac82ab83",
   "metadata": {},
   "source": [
    "## Project creation\n",
    "We can easily create a new project to store various datasets"
   ]
  },
  {
   "cell_type": "code",
   "execution_count": null,
   "id": "5dcb017d",
   "metadata": {},
   "outputs": [],
   "source": [
    "proj = Project()"
   ]
  },
  {
   "cell_type": "markdown",
   "id": "1d808edf",
   "metadata": {},
   "source": [
    "As we did not specify a name, a name has been attributed automatically:"
   ]
  },
  {
   "cell_type": "code",
   "execution_count": null,
   "id": "bbbf4cd6",
   "metadata": {},
   "outputs": [],
   "source": [
    "proj.name"
   ]
  },
  {
   "cell_type": "markdown",
   "id": "5144876b",
   "metadata": {},
   "source": [
    "------\n",
    "To get the signature of the object, one can use the usual '?'. Uncomment the following line to check"
   ]
  },
  {
   "cell_type": "code",
   "execution_count": null,
   "id": "9ed3bce8",
   "metadata": {},
   "outputs": [],
   "source": [
    "# Project?"
   ]
  },
  {
   "cell_type": "markdown",
   "id": "23a4e26a",
   "metadata": {},
   "source": [
    "----\n",
    "Let's change this name"
   ]
  },
  {
   "cell_type": "code",
   "execution_count": null,
   "id": "71d612fa",
   "metadata": {},
   "outputs": [],
   "source": [
    "proj.name = \"myNMRdata\"\n",
    "proj"
   ]
  },
  {
   "cell_type": "markdown",
   "id": "c51729e5",
   "metadata": {},
   "source": [
    "Now we will add a dataset to the project.\n",
    "\n",
    "First we read the dataset (here some NMR data) and we give it some name (e.g. 'nmr n°1')"
   ]
  },
  {
   "cell_type": "code",
   "execution_count": null,
   "id": "ac150751",
   "metadata": {},
   "outputs": [],
   "source": [
    "datadir = pathclean(prefs.datadir)\n",
    "path = datadir / \"nmrdata\" / \"bruker\" / \"tests\" / \"nmr\"\n",
    "nd1 = NDDataset.read_topspin(\n",
    "    path / \"topspin_1d\", expno=1, remove_digital_filter=True, name=\"NMR_1D\"\n",
    ")\n",
    "nd2 = NDDataset.read_topspin(\n",
    "    path / \"topspin_2d\", expno=1, remove_digital_filter=True, name=\"NMR_2D\"\n",
    ")"
   ]
  },
  {
   "cell_type": "markdown",
   "id": "afd5e46a",
   "metadata": {},
   "source": [
    "To add it to the project, we use the `add_dataset` function for a single dataset:"
   ]
  },
  {
   "cell_type": "code",
   "execution_count": null,
   "id": "19f67255",
   "metadata": {},
   "outputs": [],
   "source": [
    "proj.add_datasets(nd1)"
   ]
  },
  {
   "cell_type": "markdown",
   "id": "cb0a0b81",
   "metadata": {},
   "source": [
    "or `add_datasets` for several datasets."
   ]
  },
  {
   "cell_type": "code",
   "execution_count": null,
   "id": "51bf0e94",
   "metadata": {},
   "outputs": [],
   "source": [
    "proj.add_datasets(nd1, nd2)"
   ]
  },
  {
   "cell_type": "markdown",
   "id": "8b39729a",
   "metadata": {},
   "source": [
    "Display its structure"
   ]
  },
  {
   "cell_type": "code",
   "execution_count": null,
   "id": "29bbdc21",
   "metadata": {},
   "outputs": [],
   "source": [
    "proj"
   ]
  },
  {
   "cell_type": "markdown",
   "id": "863bf314",
   "metadata": {},
   "source": [
    "It is also possible to add other projects as sub-project (using the `add_project` )"
   ]
  },
  {
   "cell_type": "markdown",
   "id": "d3bb5e92",
   "metadata": {},
   "source": [
    "## Remove an element from a project"
   ]
  },
  {
   "cell_type": "code",
   "execution_count": null,
   "id": "849244a3",
   "metadata": {},
   "outputs": [],
   "source": [
    "proj.remove_dataset(\"NMR_1D\")\n",
    "proj"
   ]
  },
  {
   "cell_type": "markdown",
   "id": "37c1b312",
   "metadata": {},
   "source": [
    "## Get project's elements"
   ]
  },
  {
   "cell_type": "code",
   "execution_count": null,
   "id": "382db500",
   "metadata": {},
   "outputs": [],
   "source": [
    "proj.add_datasets(nd1, nd2)\n",
    "proj"
   ]
  },
  {
   "cell_type": "markdown",
   "id": "24cab416",
   "metadata": {},
   "source": [
    "We can just use the name of the element as a project attribute."
   ]
  },
  {
   "cell_type": "code",
   "execution_count": null,
   "id": "fc9713eb",
   "metadata": {},
   "outputs": [],
   "source": [
    "proj.NMR_1D"
   ]
  },
  {
   "cell_type": "code",
   "execution_count": null,
   "id": "8e125290",
   "metadata": {},
   "outputs": [],
   "source": [
    "_ = proj.NMR_1D.plot()"
   ]
  },
  {
   "cell_type": "markdown",
   "id": "0282b229",
   "metadata": {},
   "source": [
    "However, this work only if the name contains no space, dot, comma, colon, etc.\n",
    "The only special character allowed is\n",
    "the underscore `_` .  If the name is not respecting this, then it is possible to use\n",
    "the following syntax (as a\n",
    "project behave as a dictionary). For example:"
   ]
  },
  {
   "cell_type": "code",
   "execution_count": null,
   "id": "c4b19823",
   "metadata": {},
   "outputs": [],
   "source": [
    "proj[\"NMR_1D\"].data"
   ]
  },
  {
   "cell_type": "code",
   "execution_count": null,
   "id": "632659a3",
   "metadata": {},
   "outputs": [],
   "source": [
    "proj.NMR_2D"
   ]
  },
  {
   "cell_type": "markdown",
   "id": "ac68f018",
   "metadata": {},
   "source": [
    "## Saving and loading projects"
   ]
  },
  {
   "cell_type": "code",
   "execution_count": null,
   "id": "be941791",
   "metadata": {},
   "outputs": [],
   "source": [
    "proj"
   ]
  },
  {
   "cell_type": "markdown",
   "id": "8fbbb1ce",
   "metadata": {},
   "source": [
    "#### Saving"
   ]
  },
  {
   "cell_type": "code",
   "execution_count": null,
   "id": "45d52e1e",
   "metadata": {},
   "outputs": [],
   "source": [
    "proj.save_as(\"NMR\")"
   ]
  },
  {
   "cell_type": "markdown",
   "id": "f878691a",
   "metadata": {},
   "source": [
    "#### Loading"
   ]
  },
  {
   "cell_type": "code",
   "execution_count": null,
   "id": "6ddb5147",
   "metadata": {},
   "outputs": [],
   "source": [
    "proj2 = Project.load(\"NMR\")"
   ]
  },
  {
   "cell_type": "code",
   "execution_count": null,
   "id": "bd1ac743",
   "metadata": {},
   "outputs": [],
   "source": [
    "proj2"
   ]
  },
  {
   "cell_type": "code",
   "execution_count": null,
   "id": "1e277c6f",
   "metadata": {},
   "outputs": [],
   "source": [
    "_ = proj2.NMR_1D.plot()"
   ]
  },
  {
   "cell_type": "code",
   "execution_count": null,
   "id": "e0922dba",
   "metadata": {},
   "outputs": [],
   "source": [
    "proj2.NMR_2D"
   ]
  },
  {
   "cell_type": "code",
   "execution_count": null,
   "id": "8fc47698",
   "metadata": {},
   "outputs": [],
   "source": [
    "_ = proj.NMR_2D.plot()"
   ]
  },
  {
   "cell_type": "code",
   "execution_count": null,
   "id": "66d0dfd6",
   "metadata": {},
   "outputs": [],
   "source": []
  }
 ],
 "metadata": {
  "jupytext": {
   "formats": "ipynb,py:percent",
   "notebook_metadata_filter": "all"
  },
  "kernelspec": {
   "display_name": "Python 3 (ipykernel)",
   "language": "python",
   "name": "python3"
  },
  "language_info": {
   "codemirror_mode": {
    "name": "ipython",
    "version": 3
   },
   "file_extension": ".py",
   "mimetype": "text/x-python",
   "name": "python",
   "nbconvert_exporter": "python",
   "pygments_lexer": "ipython3",
   "version": "3.9.9"
  },
  "widgets": {
   "application/vnd.jupyter.widget-state+json": {
    "state": {},
    "version_major": 2,
    "version_minor": 0
   }
  }
 },
 "nbformat": 4,
 "nbformat_minor": 5
}
