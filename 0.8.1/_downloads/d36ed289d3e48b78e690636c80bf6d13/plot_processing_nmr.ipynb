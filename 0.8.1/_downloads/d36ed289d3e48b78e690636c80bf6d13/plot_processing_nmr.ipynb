{
  "cells": [
    {
      "cell_type": "markdown",
      "metadata": {},
      "source": [
        "# Processing NMR spectra (slicing, baseline correction, peak picking, peak fitting)\n\nVarious examples of processing NMR spectra\n"
      ]
    },
    {
      "cell_type": "markdown",
      "metadata": {},
      "source": [
        "# Import API\n"
      ]
    },
    {
      "cell_type": "code",
      "execution_count": null,
      "metadata": {
        "collapsed": false
      },
      "outputs": [],
      "source": [
        "import spectrochempy as scp"
      ]
    },
    {
      "cell_type": "markdown",
      "metadata": {},
      "source": [
        "# Importing a 2D NMR spectra\n\nDefine the folder where are the spectra\n"
      ]
    },
    {
      "cell_type": "code",
      "execution_count": null,
      "metadata": {
        "collapsed": false
      },
      "outputs": [],
      "source": [
        "datadir = scp.preferences.datadir\nnmrdir = datadir / \"nmrdata\"\n\ndataset = scp.read_topspin(\n    nmrdir / \"bruker\" / \"tests\" / \"nmr\" / \"topspin_2d\" / \"1\" / \"pdata\" / \"1\" / \"2rr\"\n)"
      ]
    },
    {
      "cell_type": "markdown",
      "metadata": {},
      "source": [
        "# Analysing the 2D NMD dataset\n\nPrint dataset summary\n"
      ]
    },
    {
      "cell_type": "code",
      "execution_count": null,
      "metadata": {
        "collapsed": false
      },
      "outputs": [],
      "source": [
        "dataset"
      ]
    },
    {
      "cell_type": "markdown",
      "metadata": {},
      "source": [
        "Plot the dataset\n"
      ]
    },
    {
      "cell_type": "code",
      "execution_count": null,
      "metadata": {
        "collapsed": false
      },
      "outputs": [],
      "source": [
        "dataset.plot_map()"
      ]
    },
    {
      "cell_type": "markdown",
      "metadata": {},
      "source": [
        "Extract slices along x\n"
      ]
    },
    {
      "cell_type": "code",
      "execution_count": null,
      "metadata": {
        "collapsed": false
      },
      "outputs": [],
      "source": [
        "s = dataset[-27.6, :]\ns.plot()"
      ]
    },
    {
      "cell_type": "markdown",
      "metadata": {},
      "source": [
        "Baseline correction of this slice Note that only the real part is\ncorrected\n"
      ]
    },
    {
      "cell_type": "code",
      "execution_count": null,
      "metadata": {
        "collapsed": false
      },
      "outputs": [],
      "source": [
        "sa = s.snip(snip_width=100)\nsa.plot()"
      ]
    },
    {
      "cell_type": "markdown",
      "metadata": {},
      "source": [
        "apply this correction to the whole dataset\n"
      ]
    },
    {
      "cell_type": "code",
      "execution_count": null,
      "metadata": {
        "collapsed": false
      },
      "outputs": [],
      "source": [
        "sb = dataset.snip(snip_width=100)\nsb.plot_map()"
      ]
    },
    {
      "cell_type": "markdown",
      "metadata": {},
      "source": [
        "Select a region of interest\n"
      ]
    },
    {
      "cell_type": "code",
      "execution_count": null,
      "metadata": {
        "collapsed": false
      },
      "outputs": [],
      "source": [
        "sc = sb[\n    -40.0:-15.0, 55.0:20.0\n]  # note the use of float to make selection using coordinates (not point indexes)\nsc.plot_map()"
      ]
    },
    {
      "cell_type": "markdown",
      "metadata": {},
      "source": [
        "Extract slices along x\n"
      ]
    },
    {
      "cell_type": "code",
      "execution_count": null,
      "metadata": {
        "collapsed": false
      },
      "outputs": [],
      "source": [
        "s1 = sc[-27.6, :]\ns1.plot()"
      ]
    },
    {
      "cell_type": "code",
      "execution_count": null,
      "metadata": {
        "collapsed": false
      },
      "outputs": [],
      "source": [
        "s2 = sc[-25.7, :]\ns2.plot()"
      ]
    },
    {
      "cell_type": "markdown",
      "metadata": {},
      "source": [
        "plot two slices on the same figure\n"
      ]
    },
    {
      "cell_type": "code",
      "execution_count": null,
      "metadata": {
        "collapsed": false
      },
      "outputs": [],
      "source": [
        "s1.plot()\ns2.plot(\n    clear=False,\n    color=\"red\",\n    linestyle=\"-\",\n)"
      ]
    },
    {
      "cell_type": "markdown",
      "metadata": {},
      "source": [
        "Now slice along y\n"
      ]
    },
    {
      "cell_type": "code",
      "execution_count": null,
      "metadata": {
        "collapsed": false
      },
      "outputs": [],
      "source": [
        "s3 = sc[:, 40.0]\ns4 = sc[:, 36.0]"
      ]
    },
    {
      "cell_type": "markdown",
      "metadata": {},
      "source": [
        "IMPORTANT: note that when the slice is along y, this results in a column\nvector of shape (308, 1). When an NDDataset method is applied to this\nslice, such as a baseline correction, it will be applied by default to\nthe last dimension \\[rows\\] (in this case the dimension of size 1, which\nis not what is generally expected). To avoid this, we can use the\nsqueeze method to remove this dimension or transpose the slice to obtain\na vector of rows of shape (1, 308)\n"
      ]
    },
    {
      "cell_type": "code",
      "execution_count": null,
      "metadata": {
        "collapsed": false
      },
      "outputs": [],
      "source": [
        "s3 = s3.squeeze()\ns4 = s4.squeeze()"
      ]
    },
    {
      "cell_type": "markdown",
      "metadata": {},
      "source": [
        "plot the two slices on the same figure\n"
      ]
    },
    {
      "cell_type": "code",
      "execution_count": null,
      "metadata": {
        "collapsed": false
      },
      "outputs": [],
      "source": [
        "s3.plot(color=\"violet\", ls=\"-\", lw=\"2\")\ns4.plot(clear=False, color=\"green\", ls=\"-\", lw=\"2\")"
      ]
    },
    {
      "cell_type": "markdown",
      "metadata": {},
      "source": [
        "# Peak picking\n"
      ]
    },
    {
      "cell_type": "code",
      "execution_count": null,
      "metadata": {
        "collapsed": false
      },
      "outputs": [],
      "source": [
        "peaks, _ = s2.find_peaks()"
      ]
    },
    {
      "cell_type": "markdown",
      "metadata": {},
      "source": [
        "plot the position of the peaks For this we will define a plot function\nthat we be reused later\n"
      ]
    },
    {
      "cell_type": "code",
      "execution_count": null,
      "metadata": {
        "collapsed": false
      },
      "outputs": [],
      "source": [
        "def plot_with_pp(s, peaks):\n    ax = s.plot()  # output the spectrum on ax. ax will receive next plot too;\n    pks = peaks + 0.2  # add a small offset on the y position of the markers\n    pks.plot_scatter(\n        ax=ax,\n        marker=\"v\",\n        color=\"black\",\n        clear=False,  # we need to keep the previous output on ax\n        data_only=True,  # we don't need to redraw all things like labels, etc...\n        ylim=(-0.1, 7),\n    )\n    for p in pks:\n        x, y = p.coord(-1).values, (p + 0.2).values\n        ax.annotate(\n            f\"{x.m:0.1f}\",\n            xy=(x, y),\n            xytext=(-5, 5),\n            rotation=90,\n            textcoords=\"offset points\",\n        )\n\n\nplot_with_pp(s2, peaks)"
      ]
    },
    {
      "cell_type": "markdown",
      "metadata": {},
      "source": [
        "Set some parameters to get less but significant peaks\n"
      ]
    },
    {
      "cell_type": "code",
      "execution_count": null,
      "metadata": {
        "collapsed": false
      },
      "outputs": [],
      "source": [
        "peaks, _ = s2.find_peaks(height=1.0, distance=1.0)\nplot_with_pp(s2, peaks)"
      ]
    },
    {
      "cell_type": "markdown",
      "metadata": {},
      "source": [
        "Now look in the other dimension using slice s4\n"
      ]
    },
    {
      "cell_type": "code",
      "execution_count": null,
      "metadata": {
        "collapsed": false
      },
      "outputs": [],
      "source": [
        "peaks, _ = s4.find_peaks(height=1.0, distance=1.0)\nplot_with_pp(s4, peaks)"
      ]
    },
    {
      "cell_type": "markdown",
      "metadata": {},
      "source": [
        "# Peak fitting\n\nFit parameters are defined in a script (a single text as below)\n"
      ]
    },
    {
      "cell_type": "code",
      "execution_count": null,
      "metadata": {
        "collapsed": false
      },
      "outputs": [],
      "source": [
        "script = \"\"\"\n#-----------------------------------------------------------\n# syntax for parameters definition:\n# name: value, low_bound,  high_bound\n# available prefix:\n#  # for comments\n#  * for fixed parameters\n#  $ for variable parameters\n#  > for reference to a parameter in the COMMON block\n#    (> is forbidden in the COMMON block)\n# common block parameters should not have a _ in their names\n#-----------------------------------------------------------\n#\n\nCOMMON:\n$ commonwidth: 1, 0, 5\n$ commonratio: .5, 0, 1\n\nMODEL: LINE_1\nshape: voigtmodel\n    $ ampl:  1, 0.0, none\n    $ pos:   -21.7, -22., -20\n    > ratio: commonratio\n    > width: commonwidth\n\nMODEL: LINE_2\nshape: voigtmodel\n    $ ampl:  4, 0.0, none\n    $ pos:   -24, -24.5, -23.5\n    > ratio: commonratio\n    > width: commonwidth\n\nMODEL: LINE_3\nshape: voigtmodel\n    $ ampl:  4, 0.0, none\n    $ pos:   -25.4, -25.8, -25\n    > ratio: commonratio\n    > width: commonwidth\n\nMODEL: LINE_4\nshape: voigtmodel\n    $ ampl:  4, 0.0, none\n    $ pos:   -27.8, -28.5, -27\n    > ratio: commonratio\n    > width: commonwidth\n\nMODEL: LINE_5\nshape: voigtmodel\n    $ ampl:  4, 0.0, none\n    $ pos:   -31.5, -32, -31\n    > ratio: commonratio\n    > width: commonwidth\n\n\"\"\""
      ]
    },
    {
      "cell_type": "markdown",
      "metadata": {},
      "source": [
        "We will work here on the slice s4 (taken in the y dimension).\n"
      ]
    },
    {
      "cell_type": "code",
      "execution_count": null,
      "metadata": {
        "collapsed": false
      },
      "outputs": [],
      "source": [
        "s4p = s4.snip()  # Baseline correction"
      ]
    },
    {
      "cell_type": "markdown",
      "metadata": {},
      "source": [
        "create an Optimize object\n"
      ]
    },
    {
      "cell_type": "code",
      "execution_count": null,
      "metadata": {
        "collapsed": false
      },
      "outputs": [],
      "source": [
        "f1 = scp.Optimize(log_level=\"INFO\")"
      ]
    },
    {
      "cell_type": "markdown",
      "metadata": {},
      "source": [
        "Set parameters\n"
      ]
    },
    {
      "cell_type": "code",
      "execution_count": null,
      "metadata": {
        "collapsed": false
      },
      "outputs": [],
      "source": [
        "f1.script = script\nf1.max_iter = 5000"
      ]
    },
    {
      "cell_type": "markdown",
      "metadata": {},
      "source": [
        "Fit the slice s4p\n"
      ]
    },
    {
      "cell_type": "code",
      "execution_count": null,
      "metadata": {
        "collapsed": false
      },
      "outputs": [],
      "source": [
        "f1.fit(s4p)"
      ]
    },
    {
      "cell_type": "markdown",
      "metadata": {},
      "source": [
        "Show the result\n"
      ]
    },
    {
      "cell_type": "code",
      "execution_count": null,
      "metadata": {
        "collapsed": false
      },
      "outputs": [],
      "source": [
        "s4p.plot()\nax = (f1.components[:]).plot(clear=False)\nax.autoscale(enable=True, axis=\"y\")\n\n# Plotmerit\nsom = f1.inverse_transform()\nf1.plotmerit(offset=2)"
      ]
    },
    {
      "cell_type": "markdown",
      "metadata": {},
      "source": [
        "This ends the example ! The following line can be removed or commented\nwhen the example is run as a notebook ([.ipynb]{.title-ref}).\n"
      ]
    },
    {
      "cell_type": "code",
      "execution_count": null,
      "metadata": {
        "collapsed": false
      },
      "outputs": [],
      "source": [
        "# scp.show()"
      ]
    }
  ],
  "metadata": {
    "kernelspec": {
      "display_name": "Python 3",
      "language": "python",
      "name": "python3"
    },
    "language_info": {
      "codemirror_mode": {
        "name": "ipython",
        "version": 3
      },
      "file_extension": ".py",
      "mimetype": "text/x-python",
      "name": "python",
      "nbconvert_exporter": "python",
      "pygments_lexer": "ipython3",
      "version": "3.13.2"
    }
  },
  "nbformat": 4,
  "nbformat_minor": 0
}