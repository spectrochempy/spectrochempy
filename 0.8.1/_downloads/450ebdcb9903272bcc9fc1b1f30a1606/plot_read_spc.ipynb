{
  "cells": [
    {
      "cell_type": "markdown",
      "metadata": {},
      "source": [
        "# Reading SPC format files\n\nThis example shows reading of \\'Galactic Industries' SPC data file\nformat. (`.spc` format).\n"
      ]
    },
    {
      "cell_type": "markdown",
      "metadata": {},
      "source": [
        "First we need to import the spectrochempy API package\n"
      ]
    },
    {
      "cell_type": "code",
      "execution_count": null,
      "metadata": {
        "collapsed": false
      },
      "outputs": [],
      "source": [
        "import spectrochempy as scp"
      ]
    },
    {
      "cell_type": "markdown",
      "metadata": {},
      "source": [
        "The SPC format is a proprietary format from Galactic Industries. It is\nused for storing spectroscopic data. The SPC format is a binary file\nformat that can store multiple spectra in a single file. The SPC format\nis widely used in the field of spectroscopy and is supported by many\nspectroscopic software packages.\n"
      ]
    },
    {
      "cell_type": "markdown",
      "metadata": {},
      "source": [
        "Reading single file\n"
      ]
    },
    {
      "cell_type": "code",
      "execution_count": null,
      "metadata": {
        "collapsed": false
      },
      "outputs": [],
      "source": [
        "ex1 = scp.read_spc(\"galacticdata/BENZENE.SPC\")\nex1.plot()\nex1"
      ]
    },
    {
      "cell_type": "markdown",
      "metadata": {},
      "source": [
        "reading SPC file with multiple subfiles with same x coordinates (they\nare merged by default)\n"
      ]
    },
    {
      "cell_type": "code",
      "execution_count": null,
      "metadata": {
        "collapsed": false
      },
      "outputs": [],
      "source": [
        "ex2 = scp.read_spc(\"galacticdata/CONTOUR.SPC\")\nex2.plot()\nex2"
      ]
    },
    {
      "cell_type": "markdown",
      "metadata": {},
      "source": [
        "Reading SPC file with multiple subfiles with different x coordinates\n(they are not merged)\n"
      ]
    },
    {
      "cell_type": "code",
      "execution_count": null,
      "metadata": {
        "collapsed": false
      },
      "outputs": [],
      "source": [
        "ex3 = scp.read_spc(\"galacticdata/DRUG_SAMPLE_PEAKS.SPC\")\nfor nd in ex3:\n    nd.plot_bar(width=0.1, clear=False)\nex3\n\n# This ends the example ! The following line can be uncommented if no plot shows when\n# running the .py script with python\n\n# scp.show()"
      ]
    }
  ],
  "metadata": {
    "kernelspec": {
      "display_name": "Python 3",
      "language": "python",
      "name": "python3"
    },
    "language_info": {
      "codemirror_mode": {
        "name": "ipython",
        "version": 3
      },
      "file_extension": ".py",
      "mimetype": "text/x-python",
      "name": "python",
      "nbconvert_exporter": "python",
      "pygments_lexer": "ipython3",
      "version": "3.13.2"
    }
  },
  "nbformat": 4,
  "nbformat_minor": 0
}