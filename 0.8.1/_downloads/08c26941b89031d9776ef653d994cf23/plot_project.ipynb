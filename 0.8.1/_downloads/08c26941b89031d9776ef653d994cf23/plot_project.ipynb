{
  "cells": [
    {
      "cell_type": "markdown",
      "metadata": {},
      "source": [
        "# Project creation\n\nIn this example, we create a Project from scratch\n"
      ]
    },
    {
      "cell_type": "code",
      "execution_count": null,
      "metadata": {
        "collapsed": false
      },
      "outputs": [],
      "source": [
        "import spectrochempy as scp"
      ]
    },
    {
      "cell_type": "markdown",
      "metadata": {},
      "source": [
        "Let\\'s assume we have three subproject to group in a single project\n"
      ]
    },
    {
      "cell_type": "code",
      "execution_count": null,
      "metadata": {
        "collapsed": false
      },
      "outputs": [],
      "source": [
        "proj = scp.Project(\n    # subprojects\n    scp.Project(name=\"P350\", label=r\"$\\mathrm{M_P}\\,(623\\,K)$\"),\n    scp.Project(name=\"A350\", label=r\"$\\mathrm{M_A}\\,(623\\,K)$\"),\n    scp.Project(name=\"B350\", label=r\"$\\mathrm{M_B}\\,(623\\,K)$\"),\n    # attributes\n    name=\"project_1\",\n    label=\"main project\",\n)\n\nproj.projects_names"
      ]
    },
    {
      "cell_type": "markdown",
      "metadata": {},
      "source": [
        "Add for example two datasets to the [A350]{.title-ref} subproject.\n"
      ]
    },
    {
      "cell_type": "markdown",
      "metadata": {},
      "source": [
        "Create two datasets\n"
      ]
    },
    {
      "cell_type": "code",
      "execution_count": null,
      "metadata": {
        "collapsed": false
      },
      "outputs": [],
      "source": [
        "ir = scp.NDDataset([1.1, 2.2, 3.3], coords=[[1, 2, 3]])\nir"
      ]
    },
    {
      "cell_type": "code",
      "execution_count": null,
      "metadata": {
        "collapsed": false
      },
      "outputs": [],
      "source": [
        "tg = scp.NDDataset([1, 3, 4], coords=[[1, 2, 3]])\ntg"
      ]
    },
    {
      "cell_type": "markdown",
      "metadata": {},
      "source": [
        "Add the datasets to the subproject\n"
      ]
    },
    {
      "cell_type": "code",
      "execution_count": null,
      "metadata": {
        "collapsed": false
      },
      "outputs": [],
      "source": [
        "proj.A350[\"IR\"] = ir\nproj.A350[\"TG\"] = tg"
      ]
    },
    {
      "cell_type": "markdown",
      "metadata": {},
      "source": [
        "Members of the project or attributes are easily accessed:\n"
      ]
    },
    {
      "cell_type": "code",
      "execution_count": null,
      "metadata": {
        "collapsed": false
      },
      "outputs": [],
      "source": [
        "print(proj.A350)\nprint(proj)\nprint(proj.A350.label)\nprint(proj.A350.TG)"
      ]
    },
    {
      "cell_type": "markdown",
      "metadata": {},
      "source": [
        "Save this project\n"
      ]
    },
    {
      "cell_type": "code",
      "execution_count": null,
      "metadata": {
        "collapsed": false
      },
      "outputs": [],
      "source": [
        "proj.save()"
      ]
    },
    {
      "cell_type": "markdown",
      "metadata": {},
      "source": [
        "RELOAD the project from disk as newproj\n"
      ]
    },
    {
      "cell_type": "code",
      "execution_count": null,
      "metadata": {
        "collapsed": false
      },
      "outputs": [],
      "source": [
        "newproj = scp.Project.load(\"project_1\")\nnewproj"
      ]
    },
    {
      "cell_type": "markdown",
      "metadata": {},
      "source": [
        "Now we add a script to the original proj\n"
      ]
    },
    {
      "cell_type": "code",
      "execution_count": null,
      "metadata": {
        "collapsed": false
      },
      "outputs": [],
      "source": [
        "script_source = \"\"\"\nset_loglevel(INFO)\ninfo_('samples contained in the project are:%s'%proj.projects_names)\n\"\"\"\n\nproj[\"print_info\"] = scp.Script(\"print_info\", script_source)\nproj"
      ]
    },
    {
      "cell_type": "markdown",
      "metadata": {},
      "source": [
        "save but do not change the original data\n"
      ]
    },
    {
      "cell_type": "code",
      "execution_count": null,
      "metadata": {
        "collapsed": false
      },
      "outputs": [],
      "source": [
        "proj.save(overwrite_data=False)"
      ]
    },
    {
      "cell_type": "markdown",
      "metadata": {},
      "source": [
        "RELOAD it\n"
      ]
    },
    {
      "cell_type": "code",
      "execution_count": null,
      "metadata": {
        "collapsed": false
      },
      "outputs": [],
      "source": [
        "newproj = scp.Project.load(\"project_1\")\nnewproj"
      ]
    },
    {
      "cell_type": "markdown",
      "metadata": {},
      "source": [
        "Execute a script\n"
      ]
    },
    {
      "cell_type": "code",
      "execution_count": null,
      "metadata": {
        "collapsed": false
      },
      "outputs": [],
      "source": [
        "scp.run_script(newproj.print_info)"
      ]
    },
    {
      "cell_type": "markdown",
      "metadata": {},
      "source": [
        "Another way to do the same thing is ith the following syntax (which may\nseem simpler\n"
      ]
    },
    {
      "cell_type": "code",
      "execution_count": null,
      "metadata": {
        "collapsed": false
      },
      "outputs": [],
      "source": [
        "newproj.print_info()"
      ]
    },
    {
      "cell_type": "markdown",
      "metadata": {},
      "source": [
        "Finally lets use a more useful script\n"
      ]
    },
    {
      "cell_type": "code",
      "execution_count": null,
      "metadata": {
        "collapsed": false
      },
      "outputs": [],
      "source": [
        "script_source_2 = \"\"\"\nproj.A350.TG.plot_scatter(title='my scatter plot');\n#show()\n\"\"\"\nproj[\"tgscatter\"] = scp.Script(\"tgscatter\", script_source_2)\n\nproj.tgscatter()"
      ]
    },
    {
      "cell_type": "markdown",
      "metadata": {},
      "source": [
        "This ends the example ! The following line can be uncommented if no plot\nshows when running the .py script with python\n"
      ]
    },
    {
      "cell_type": "code",
      "execution_count": null,
      "metadata": {
        "collapsed": false
      },
      "outputs": [],
      "source": [
        "# scp.show()"
      ]
    }
  ],
  "metadata": {
    "kernelspec": {
      "display_name": "Python 3",
      "language": "python",
      "name": "python3"
    },
    "language_info": {
      "codemirror_mode": {
        "name": "ipython",
        "version": 3
      },
      "file_extension": ".py",
      "mimetype": "text/x-python",
      "name": "python",
      "nbconvert_exporter": "python",
      "pygments_lexer": "ipython3",
      "version": "3.13.2"
    }
  },
  "nbformat": 4,
  "nbformat_minor": 0
}