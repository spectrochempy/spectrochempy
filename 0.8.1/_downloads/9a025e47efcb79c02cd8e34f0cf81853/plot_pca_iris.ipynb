{
  "cells": [
    {
      "cell_type": "markdown",
      "metadata": {},
      "source": [
        "# PCA example (iris dataset)\n\nIn this example, we perform the PCA dimensionality reduction of the\nclassical [iris]{.title-ref} dataset (Ronald A. Fisher. \\\"The Use of\nMultiple Measurements in Taxonomic Problems. Annals of Eugenics, 7,\npp.179-188, 1936).\n"
      ]
    },
    {
      "cell_type": "markdown",
      "metadata": {},
      "source": [
        "First we laod the spectrochempy API package\n"
      ]
    },
    {
      "cell_type": "code",
      "execution_count": null,
      "metadata": {
        "collapsed": false
      },
      "outputs": [],
      "source": [
        "import spectrochempy as scp"
      ]
    },
    {
      "cell_type": "markdown",
      "metadata": {},
      "source": [
        "load a dataset from scikit-learn\n"
      ]
    },
    {
      "cell_type": "code",
      "execution_count": null,
      "metadata": {
        "collapsed": false
      },
      "outputs": [],
      "source": [
        "dataset = scp.load_iris()"
      ]
    },
    {
      "cell_type": "markdown",
      "metadata": {},
      "source": [
        "Create a PCA object Here, the number of components wich is used by the\nmodel is automatically determined using\n[n_components=\\\"mle\\\"]{.title-ref}. Warning: [mle]{.title-ref} cannot be\nused when n_observations \\< n_features.\n"
      ]
    },
    {
      "cell_type": "code",
      "execution_count": null,
      "metadata": {
        "collapsed": false
      },
      "outputs": [],
      "source": [
        "pca = scp.PCA(n_components=\"mle\")"
      ]
    },
    {
      "cell_type": "markdown",
      "metadata": {},
      "source": [
        "Fit dataset with the PCA model\n"
      ]
    },
    {
      "cell_type": "code",
      "execution_count": null,
      "metadata": {
        "collapsed": false
      },
      "outputs": [],
      "source": [
        "pca.fit(dataset)"
      ]
    },
    {
      "cell_type": "markdown",
      "metadata": {},
      "source": [
        "The number of components found is 3:\n"
      ]
    },
    {
      "cell_type": "code",
      "execution_count": null,
      "metadata": {
        "collapsed": false
      },
      "outputs": [],
      "source": [
        "pca.n_components"
      ]
    },
    {
      "cell_type": "markdown",
      "metadata": {},
      "source": [
        "It explain 99.5 % of the variance\n"
      ]
    },
    {
      "cell_type": "code",
      "execution_count": null,
      "metadata": {
        "collapsed": false
      },
      "outputs": [],
      "source": [
        "pca.cumulative_explained_variance[-1].value"
      ]
    },
    {
      "cell_type": "markdown",
      "metadata": {},
      "source": [
        "We can also specify the amount of explained variance to compute how much\ncomponents are needed (a number between 0 and 1 for n_components is\nrequired to do this). we found 4 components in this case\n"
      ]
    },
    {
      "cell_type": "code",
      "execution_count": null,
      "metadata": {
        "collapsed": false
      },
      "outputs": [],
      "source": [
        "pca = scp.PCA(n_components=0.999)\npca.fit(dataset)\npca.n_components"
      ]
    },
    {
      "cell_type": "markdown",
      "metadata": {},
      "source": [
        "the 4 components found are in the [components]{.title-ref} attribute of\npca. These components are often called loadings in PCA analysis.\n"
      ]
    },
    {
      "cell_type": "code",
      "execution_count": null,
      "metadata": {
        "collapsed": false
      },
      "outputs": [],
      "source": [
        "loadings = pca.components\nloadings"
      ]
    },
    {
      "cell_type": "markdown",
      "metadata": {},
      "source": [
        "Note: it is equivalently possible to use the [loadings]{.title-ref}\nattribute of pca, which produce the same results.\n"
      ]
    },
    {
      "cell_type": "code",
      "execution_count": null,
      "metadata": {
        "collapsed": false
      },
      "outputs": [],
      "source": [
        "pca.loadings"
      ]
    },
    {
      "cell_type": "markdown",
      "metadata": {},
      "source": [
        "To Reduce the data to a lower dimensionality using these three\ncomponents, we use the transform methods. The results is often called\n[scores]{.title-ref} for PCA analysis.\n"
      ]
    },
    {
      "cell_type": "code",
      "execution_count": null,
      "metadata": {
        "collapsed": false
      },
      "outputs": [],
      "source": [
        "scores = pca.transform()\nscores"
      ]
    },
    {
      "cell_type": "markdown",
      "metadata": {},
      "source": [
        "Again, we can also use the [scores]{.title-ref} attribute to get this\nresults\n"
      ]
    },
    {
      "cell_type": "code",
      "execution_count": null,
      "metadata": {
        "collapsed": false
      },
      "outputs": [],
      "source": [
        "scores = pca.scores\nscores"
      ]
    },
    {
      "cell_type": "markdown",
      "metadata": {},
      "source": [
        "The figures of merit (explained and cumulative variance) confirm that\nthese 4 PC\\'s explain 100% of the variance:\n"
      ]
    },
    {
      "cell_type": "code",
      "execution_count": null,
      "metadata": {
        "collapsed": false
      },
      "outputs": [],
      "source": [
        "pca.printev()"
      ]
    },
    {
      "cell_type": "markdown",
      "metadata": {},
      "source": [
        "These figures of merit can also be displayed graphically\n\nThe ScreePlot\n"
      ]
    },
    {
      "cell_type": "code",
      "execution_count": null,
      "metadata": {
        "collapsed": false
      },
      "outputs": [],
      "source": [
        "pca.screeplot()"
      ]
    },
    {
      "cell_type": "markdown",
      "metadata": {},
      "source": [
        "The score plots can be used for classification purposes. The first one -\nin 2D for the 2 first PC\\'s - shows that the first PC allows\ndistinguishing Iris-setosa (score of PC#1 \\< -1) from other species\n(score of PC#1 \\> -1), while more PC\\'s are required to distinguish\nversicolor from viginica.\n"
      ]
    },
    {
      "cell_type": "code",
      "execution_count": null,
      "metadata": {
        "collapsed": false
      },
      "outputs": [],
      "source": [
        "pca.scoreplot(scores, 1, 2, color_mapping=\"labels\")"
      ]
    },
    {
      "cell_type": "markdown",
      "metadata": {},
      "source": [
        "The second one - in 3D for the 3 first PC\\'s - indicates that a thid PC\nwon\\'t allow better distinguishing versicolor from viginica.\n"
      ]
    },
    {
      "cell_type": "code",
      "execution_count": null,
      "metadata": {
        "collapsed": false
      },
      "outputs": [],
      "source": [
        "ax = pca.scoreplot(scores, 1, 2, 3, color_mapping=\"labels\")\nax.view_init(10, 75)"
      ]
    },
    {
      "cell_type": "markdown",
      "metadata": {},
      "source": [
        "This ends the example ! The following line can be uncommented if no plot\nshows when running the .py script with python\n"
      ]
    },
    {
      "cell_type": "code",
      "execution_count": null,
      "metadata": {
        "collapsed": false
      },
      "outputs": [],
      "source": [
        "# scp.show()"
      ]
    }
  ],
  "metadata": {
    "kernelspec": {
      "display_name": "Python 3",
      "language": "python",
      "name": "python3"
    },
    "language_info": {
      "codemirror_mode": {
        "name": "ipython",
        "version": 3
      },
      "file_extension": ".py",
      "mimetype": "text/x-python",
      "name": "python",
      "nbconvert_exporter": "python",
      "pygments_lexer": "ipython3",
      "version": "3.13.2"
    }
  },
  "nbformat": 4,
  "nbformat_minor": 0
}