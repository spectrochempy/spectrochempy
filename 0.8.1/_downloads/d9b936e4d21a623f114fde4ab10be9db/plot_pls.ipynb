{
  "cells": [
    {
      "cell_type": "markdown",
      "metadata": {},
      "source": [
        "# PLS regression example\n\nIn this example, we perform a PLS regression to predict the moisture of\ncorn samples from their NIR spectra.\n"
      ]
    },
    {
      "cell_type": "markdown",
      "metadata": {},
      "source": [
        "Import the spectrochempy API package\n"
      ]
    },
    {
      "cell_type": "code",
      "execution_count": null,
      "metadata": {
        "collapsed": false
      },
      "outputs": [],
      "source": [
        "import spectrochempy as scp"
      ]
    },
    {
      "cell_type": "markdown",
      "metadata": {},
      "source": [
        "The data set is available to download from the Eigenvector Archive:\n"
      ]
    },
    {
      "cell_type": "code",
      "execution_count": null,
      "metadata": {
        "collapsed": false
      },
      "outputs": [],
      "source": [
        "ds_list = scp.read(\"http://www.eigenvector.com/data/Corn/corn.mat\", merge=False)\nds_list_names = [f\"{i} : {ds.name}({ds.shape})\" for i, ds in enumerate(ds_list)]\nprint(ds_list_names)"
      ]
    },
    {
      "cell_type": "markdown",
      "metadata": {},
      "source": [
        "This data set, originally taken at Cargil, consists of 80 samples of\ncorn measured on 3 different NIR spectrometers together with the\nmoisture, oil, protein and starch values for each of the samples is also\nincluded. The 5th dataset named [\\'m5spec\\']{.title-ref}, contains the\nNIR spectra of 80 corn samples recorded on the same instrument. Let\\'s\nassign this NDDataset specta to [X]{.title-ref}, add few informations\nand plot it: %%\n"
      ]
    },
    {
      "cell_type": "code",
      "execution_count": null,
      "metadata": {
        "collapsed": false
      },
      "outputs": [],
      "source": [
        "X = ds_list[4]\nX.title = \"reflectance\"\nX.x.title = \"Wavelength\"\nX.x.units = \"nm\"\nX.plot(cmap=None)"
      ]
    },
    {
      "cell_type": "markdown",
      "metadata": {},
      "source": [
        "The values of the properties we want to predict are in the 4th dattaset\nnamed [\\'propval\\']{.title-ref} dataset:\n"
      ]
    },
    {
      "cell_type": "code",
      "execution_count": null,
      "metadata": {
        "collapsed": false
      },
      "outputs": [],
      "source": [
        "Y = ds_list[3]\nY.T.plot(cmap=None, legend=Y.x.labels)"
      ]
    },
    {
      "cell_type": "markdown",
      "metadata": {},
      "source": [
        "We are interested to predict the moisture content:\n"
      ]
    },
    {
      "cell_type": "code",
      "execution_count": null,
      "metadata": {
        "collapsed": false
      },
      "outputs": [],
      "source": [
        "y = Y[:, \"Moisture\"]"
      ]
    },
    {
      "cell_type": "markdown",
      "metadata": {},
      "source": [
        "First we select 57 first samples (2/3 of the total) to train/calibrate\nthe model and the remaining ones to test/validate the model:\n"
      ]
    },
    {
      "cell_type": "code",
      "execution_count": null,
      "metadata": {
        "collapsed": false
      },
      "outputs": [],
      "source": [
        "X_train = X[:57]\nX_test = X[57:]\ny_train = y[:57]\ny_test = y[57:]"
      ]
    },
    {
      "cell_type": "markdown",
      "metadata": {},
      "source": [
        "Then we create a PLSRegression object and fit the train datasets:\n"
      ]
    },
    {
      "cell_type": "code",
      "execution_count": null,
      "metadata": {
        "collapsed": false
      },
      "outputs": [],
      "source": [
        "pls = scp.PLSRegression(n_components=5)\npls.fit(X_train, y_train)"
      ]
    },
    {
      "cell_type": "markdown",
      "metadata": {},
      "source": [
        "Finally we generate a parity plot comparing the predicted and actual\nvalues, for both train set and test set.\n"
      ]
    },
    {
      "cell_type": "code",
      "execution_count": null,
      "metadata": {
        "collapsed": false
      },
      "outputs": [],
      "source": [
        "ax = pls.parityplot(label=\"calibration\", s=150)\npls.parityplot(\n    y_test, pls.predict(X_test), s=150, c=\"red\", label=\"validation\", clear=False\n)\nax.legend(loc=\"lower right\")"
      ]
    },
    {
      "cell_type": "markdown",
      "metadata": {},
      "source": [
        "This ends the example ! The following line can be uncommented if no plot\nshows when running the .py script with python\n"
      ]
    },
    {
      "cell_type": "code",
      "execution_count": null,
      "metadata": {
        "collapsed": false
      },
      "outputs": [],
      "source": [
        "scp.show()"
      ]
    }
  ],
  "metadata": {
    "kernelspec": {
      "display_name": "Python 3",
      "language": "python",
      "name": "python3"
    },
    "language_info": {
      "codemirror_mode": {
        "name": "ipython",
        "version": 3
      },
      "file_extension": ".py",
      "mimetype": "text/x-python",
      "name": "python",
      "nbconvert_exporter": "python",
      "pygments_lexer": "ipython3",
      "version": "3.13.2"
    }
  },
  "nbformat": 4,
  "nbformat_minor": 0
}