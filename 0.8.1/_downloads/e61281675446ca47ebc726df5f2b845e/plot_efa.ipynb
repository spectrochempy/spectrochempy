{
  "cells": [
    {
      "cell_type": "markdown",
      "metadata": {},
      "source": [
        "# EFA example\n\nIn this example, we perform the Evolving Factor Analysis\n"
      ]
    },
    {
      "cell_type": "markdown",
      "metadata": {},
      "source": [
        "sphinx_gallery_thumbnail_number = 2\n"
      ]
    },
    {
      "cell_type": "code",
      "execution_count": null,
      "metadata": {
        "collapsed": false
      },
      "outputs": [],
      "source": [
        "import os\n\nimport spectrochempy as scp"
      ]
    },
    {
      "cell_type": "markdown",
      "metadata": {},
      "source": [
        "Upload and preprocess a dataset\n"
      ]
    },
    {
      "cell_type": "code",
      "execution_count": null,
      "metadata": {
        "collapsed": false
      },
      "outputs": [],
      "source": [
        "datadir = scp.preferences.datadir\ndataset = scp.read_omnic(os.path.join(datadir, \"irdata\", \"nh4y-activation.spg\"))"
      ]
    },
    {
      "cell_type": "markdown",
      "metadata": {},
      "source": [
        "Change the time origin\n"
      ]
    },
    {
      "cell_type": "code",
      "execution_count": null,
      "metadata": {
        "collapsed": false
      },
      "outputs": [],
      "source": [
        "dataset.y -= dataset.y[0]"
      ]
    },
    {
      "cell_type": "markdown",
      "metadata": {},
      "source": [
        "columns masking\n"
      ]
    },
    {
      "cell_type": "code",
      "execution_count": null,
      "metadata": {
        "collapsed": false
      },
      "outputs": [],
      "source": [
        "dataset[:, 1230.0:920.0] = scp.MASKED  # do not forget to use float in slicing\ndataset[:, 5997.0:5993.0] = scp.MASKED"
      ]
    },
    {
      "cell_type": "markdown",
      "metadata": {},
      "source": [
        "difference spectra dataset -= dataset\\[-1\\]\n"
      ]
    },
    {
      "cell_type": "code",
      "execution_count": null,
      "metadata": {
        "collapsed": false
      },
      "outputs": [],
      "source": [
        "dataset.plot_stack(title=\"NH4_Y activation dataset\")"
      ]
    },
    {
      "cell_type": "markdown",
      "metadata": {},
      "source": [
        "Evolving Factor Analysis\n"
      ]
    },
    {
      "cell_type": "code",
      "execution_count": null,
      "metadata": {
        "collapsed": false
      },
      "outputs": [],
      "source": [
        "efa1 = scp.EFA()\nefa1.fit(dataset)"
      ]
    },
    {
      "cell_type": "markdown",
      "metadata": {},
      "source": [
        "Forward evolution of the 5 first components\n"
      ]
    },
    {
      "cell_type": "code",
      "execution_count": null,
      "metadata": {
        "collapsed": false
      },
      "outputs": [],
      "source": [
        "f = efa1.f_ev[:, :5]\nf.T.plot(yscale=\"log\", legend=f.k.labels)"
      ]
    },
    {
      "cell_type": "markdown",
      "metadata": {},
      "source": [
        "Note the use of coordinate \\'k\\' (component axis) in the expression\nabove. Remember taht to find the actul names of the coordinates, the\n[dims]{.title-ref} attribute can be used as in the following:\n"
      ]
    },
    {
      "cell_type": "code",
      "execution_count": null,
      "metadata": {
        "collapsed": false
      },
      "outputs": [],
      "source": [
        "f.dims\n\n# Backward evolution\nb = efa1.b_ev[:, :5]\nb.T[:5].plot(yscale=\"log\", legend=b.k.labels)"
      ]
    },
    {
      "cell_type": "markdown",
      "metadata": {},
      "source": [
        "Show results with 3 components (which seems to already explain a large\npart of the dataset) we use the magnitude of the 4th component for the\ncut-off value (assuming it corresponds mostly to noise)\n"
      ]
    },
    {
      "cell_type": "code",
      "execution_count": null,
      "metadata": {
        "collapsed": false
      },
      "outputs": [],
      "source": [
        "efa1.n_components = 3\nefa1.cutoff = efa1.f_ev[:, 3].max()\n\n# get concentration\nC1 = efa1.transform()\nC1.T.plot(title=\"EFA determined concentrations\", legend=C1.k.labels)"
      ]
    },
    {
      "cell_type": "markdown",
      "metadata": {},
      "source": [
        "Fit transform : Get the concentration in too commands The number of\ndesired components can be passed to the EFA model, followed by the\nfit_transform method:\n"
      ]
    },
    {
      "cell_type": "code",
      "execution_count": null,
      "metadata": {
        "collapsed": false
      },
      "outputs": [],
      "source": [
        "efa2 = scp.EFA(n_components=3)\nC2 = efa2.fit_transform(dataset)\nassert C1 == C2"
      ]
    },
    {
      "cell_type": "markdown",
      "metadata": {},
      "source": [
        "Get components\n"
      ]
    },
    {
      "cell_type": "code",
      "execution_count": null,
      "metadata": {
        "collapsed": false
      },
      "outputs": [],
      "source": [
        "St = efa2.get_components()\nSt.plot(title=\"components\", legend=St.k.labels)"
      ]
    },
    {
      "cell_type": "markdown",
      "metadata": {},
      "source": [
        "Compare with PCA\n"
      ]
    },
    {
      "cell_type": "code",
      "execution_count": null,
      "metadata": {
        "collapsed": false
      },
      "outputs": [],
      "source": [
        "pca = scp.PCA(n_components=3)\nC3 = pca.fit_transform(dataset)"
      ]
    },
    {
      "cell_type": "code",
      "execution_count": null,
      "metadata": {
        "collapsed": false
      },
      "outputs": [],
      "source": [
        "C3.T.plot(title=\"PCA scores\")"
      ]
    },
    {
      "cell_type": "code",
      "execution_count": null,
      "metadata": {
        "collapsed": false
      },
      "outputs": [],
      "source": [
        "LT = pca.loadings\nLT.plot(title=\"PCA components\", legend=LT.k.labels)"
      ]
    },
    {
      "cell_type": "markdown",
      "metadata": {},
      "source": [
        "This ends the example ! The following line can be uncommented if no plot\nshows when running the .py script with python\n"
      ]
    },
    {
      "cell_type": "code",
      "execution_count": null,
      "metadata": {
        "collapsed": false
      },
      "outputs": [],
      "source": [
        "# scp.show()"
      ]
    }
  ],
  "metadata": {
    "kernelspec": {
      "display_name": "Python 3",
      "language": "python",
      "name": "python3"
    },
    "language_info": {
      "codemirror_mode": {
        "name": "ipython",
        "version": 3
      },
      "file_extension": ".py",
      "mimetype": "text/x-python",
      "name": "python",
      "nbconvert_exporter": "python",
      "pygments_lexer": "ipython3",
      "version": "3.13.2"
    }
  },
  "nbformat": 4,
  "nbformat_minor": 0
}