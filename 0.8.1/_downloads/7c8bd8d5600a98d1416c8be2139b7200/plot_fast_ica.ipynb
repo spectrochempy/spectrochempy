{
  "cells": [
    {
      "cell_type": "markdown",
      "metadata": {},
      "source": [
        "# FastICA example\n"
      ]
    },
    {
      "cell_type": "markdown",
      "metadata": {},
      "source": [
        "Import the spectrochempy API package\n"
      ]
    },
    {
      "cell_type": "code",
      "execution_count": null,
      "metadata": {
        "collapsed": false
      },
      "outputs": [],
      "source": [
        "import spectrochempy as scp"
      ]
    },
    {
      "cell_type": "markdown",
      "metadata": {},
      "source": [
        "# Load, prepare and plot the dataset\n"
      ]
    },
    {
      "cell_type": "markdown",
      "metadata": {},
      "source": [
        "Here we use a dataset from `jaumot:2005`{.interpreted-text\nrole=\"cite:t\"}\n"
      ]
    },
    {
      "cell_type": "code",
      "execution_count": null,
      "metadata": {
        "collapsed": false
      },
      "outputs": [],
      "source": [
        "X = scp.read(\"matlabdata/als2004dataset.MAT\")[-1]\n\nX.title = \"absorbance\"\nX.units = \"absorbance\"\nX.set_coordset(None, None)\nX.y.title = \"elution time\"\nX.x.title = \"wavelength\"\nX.y.units = \"hours\"\nX.x.units = \"cm^-1\"\nX.plot()"
      ]
    },
    {
      "cell_type": "markdown",
      "metadata": {},
      "source": [
        "# Create and fit a FastICA object\n\nAs argument of the object constructor we define log_level to `\"INFO\"` to\nobtain verbose output during fit, and we set the number of component to\nuse at 4.\n"
      ]
    },
    {
      "cell_type": "code",
      "execution_count": null,
      "metadata": {
        "collapsed": false
      },
      "outputs": [],
      "source": [
        "ica = scp.FastICA(n_components=4)\nica.fit(X)"
      ]
    },
    {
      "cell_type": "markdown",
      "metadata": {},
      "source": [
        "# Get the mixing system and source spectral profiles\n\nThe mixing system $A$ and the source spectral profiles $S^T$ can be\nobtained as follows (the Sklearn equivalents - also valid with Scpy -\nare indicated as comments\n"
      ]
    },
    {
      "cell_type": "code",
      "execution_count": null,
      "metadata": {
        "collapsed": false
      },
      "outputs": [],
      "source": [
        "A = ica.A  # or model.transform()\nSt = ica.St  # or model.mixing.T"
      ]
    },
    {
      "cell_type": "markdown",
      "metadata": {},
      "source": [
        "Plot them\n"
      ]
    },
    {
      "cell_type": "code",
      "execution_count": null,
      "metadata": {
        "collapsed": false
      },
      "outputs": [],
      "source": [
        "A.T.plot(title=\"Mixing System\", colormap=None)\nSt.plot(title=\"Sources spectral profiles\", colormap=None)"
      ]
    },
    {
      "cell_type": "markdown",
      "metadata": {},
      "source": [
        "# Reconstruct the dataset\n\nThe dataset can be reconstructed from these matrices and the mean:\n"
      ]
    },
    {
      "cell_type": "code",
      "execution_count": null,
      "metadata": {
        "collapsed": false
      },
      "outputs": [],
      "source": [
        "X_hat_a = scp.dot(A, St) + X.mean(dim=0).data\nX_hat_a.plot(title=r\"$\\hat{X} = \\bar{X} + A S^t$\")"
      ]
    },
    {
      "cell_type": "markdown",
      "metadata": {},
      "source": [
        "Or using the transform() method:\n"
      ]
    },
    {
      "cell_type": "code",
      "execution_count": null,
      "metadata": {
        "collapsed": false
      },
      "outputs": [],
      "source": [
        "X_hat_b = ica.inverse_transform()\nX_hat_b.plot(title=r\"$\\hat{X} =$ ica.inverse_transform()\")"
      ]
    },
    {
      "cell_type": "markdown",
      "metadata": {},
      "source": [
        "Finally, the quality of the reconstriction can be checked by\n[plotmerit()]{.title-ref}\n"
      ]
    },
    {
      "cell_type": "code",
      "execution_count": null,
      "metadata": {
        "collapsed": false
      },
      "outputs": [],
      "source": [
        "ica.plotmerit(nb_traces=15)"
      ]
    },
    {
      "cell_type": "markdown",
      "metadata": {},
      "source": [
        "This ends the example ! The following line can be uncommented if no plot\nshows when running the .py script with python\n"
      ]
    },
    {
      "cell_type": "code",
      "execution_count": null,
      "metadata": {
        "collapsed": false
      },
      "outputs": [],
      "source": [
        "# scp.show()"
      ]
    }
  ],
  "metadata": {
    "kernelspec": {
      "display_name": "Python 3",
      "language": "python",
      "name": "python3"
    },
    "language_info": {
      "codemirror_mode": {
        "name": "ipython",
        "version": 3
      },
      "file_extension": ".py",
      "mimetype": "text/x-python",
      "name": "python",
      "nbconvert_exporter": "python",
      "pygments_lexer": "ipython3",
      "version": "3.13.2"
    }
  },
  "nbformat": 4,
  "nbformat_minor": 0
}