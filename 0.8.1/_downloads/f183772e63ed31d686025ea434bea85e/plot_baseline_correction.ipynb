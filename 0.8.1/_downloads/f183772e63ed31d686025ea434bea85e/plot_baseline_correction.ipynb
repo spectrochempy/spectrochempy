{
  "cells": [
    {
      "cell_type": "markdown",
      "metadata": {},
      "source": [
        "# NDDataset baseline correction\n\nIn this example, we perform a baseline correction of a 2D NDDataset\ninteractively, using the `multivariate` method and a\n`pchip`/`polynomial` interpolation.\n\nFor comparison, we also use the [asls\\`and \\`snip]{.title-ref} models.\n"
      ]
    },
    {
      "cell_type": "markdown",
      "metadata": {},
      "source": [
        "As usual we start by importing the useful library, and at least the\nspectrochempy library.\n"
      ]
    },
    {
      "cell_type": "code",
      "execution_count": null,
      "metadata": {
        "collapsed": false
      },
      "outputs": [],
      "source": [
        "import spectrochempy as scp"
      ]
    },
    {
      "cell_type": "markdown",
      "metadata": {},
      "source": [
        "Load data\n"
      ]
    },
    {
      "cell_type": "code",
      "execution_count": null,
      "metadata": {
        "collapsed": false
      },
      "outputs": [],
      "source": [
        "datadir = scp.preferences.datadir\nnd = scp.read_omnic(datadir / \"irdata\" / \"nh4y-activation.spg\")"
      ]
    },
    {
      "cell_type": "markdown",
      "metadata": {},
      "source": [
        "Do some slicing to keep only the interesting region\n"
      ]
    },
    {
      "cell_type": "code",
      "execution_count": null,
      "metadata": {
        "collapsed": false
      },
      "outputs": [],
      "source": [
        "ndp = nd[:, 1291.0:5999.0]\n# Important:  notice that we use floating point number\n# integer would mean points, not wavenumbers!"
      ]
    },
    {
      "cell_type": "markdown",
      "metadata": {},
      "source": [
        "Plot the dataset\n"
      ]
    },
    {
      "cell_type": "code",
      "execution_count": null,
      "metadata": {
        "collapsed": false
      },
      "outputs": [],
      "source": [
        "ndp.plot()"
      ]
    },
    {
      "cell_type": "markdown",
      "metadata": {},
      "source": [
        "Remove a basic linear baseline using \\`basc\\`:\n"
      ]
    },
    {
      "cell_type": "code",
      "execution_count": null,
      "metadata": {
        "collapsed": false
      },
      "outputs": [],
      "source": [
        "ndp = ndp.basc()"
      ]
    },
    {
      "cell_type": "markdown",
      "metadata": {},
      "source": [
        "Make it positive\n"
      ]
    },
    {
      "cell_type": "code",
      "execution_count": null,
      "metadata": {
        "collapsed": false
      },
      "outputs": [],
      "source": [
        "offset = ndp.min()\nndp -= offset\nndp.plot()"
      ]
    },
    {
      "cell_type": "markdown",
      "metadata": {},
      "source": [
        "Define the Baseline object for a multivariate baseline correction model.\nThe [n_components]{.title-ref} parameter is the number of components to\nuse for the multivariate baseline correction. The [model]{.title-ref}\nparameter is the baseline correction model to use, here a\n[pchip]{.title-ref} interpolation (piecewise cubic Hermite\ninterpolation).\n"
      ]
    },
    {
      "cell_type": "code",
      "execution_count": null,
      "metadata": {
        "collapsed": false
      },
      "outputs": [],
      "source": [
        "blc = scp.Baseline(\n    log_level=\"WARNING\",\n    multivariate=True,  # use a multivariate baseline correction approach\n    model=\"polynomial\",  # use a polynomial model\n    order=\"pchip\",  # with a pchip interpolation method\n    n_components=5,\n)"
      ]
    },
    {
      "cell_type": "markdown",
      "metadata": {},
      "source": [
        "Now we select the regions ( [ranges]{.title-ref} ) to use for the\nbaseline correction.\n"
      ]
    },
    {
      "cell_type": "code",
      "execution_count": null,
      "metadata": {
        "collapsed": false
      },
      "outputs": [],
      "source": [
        "blc.ranges = [\n    [1556.30, 1568.26],\n    [1795.00, 1956.75],\n    [3766.03, 3915.81],\n    [4574.26, 4616.04],\n    [4980.10, 4998.01],\n    [5437.52, 5994.70],\n]"
      ]
    },
    {
      "cell_type": "markdown",
      "metadata": {},
      "source": [
        "We can now fit the baseline correction model to the data:\n"
      ]
    },
    {
      "cell_type": "code",
      "execution_count": null,
      "metadata": {
        "collapsed": false
      },
      "outputs": [],
      "source": [
        "blc.fit(ndp)"
      ]
    },
    {
      "cell_type": "markdown",
      "metadata": {},
      "source": [
        "The baseline is now stored in the [baseline]{.title-ref} attribute of\nthe processor: (note that the baseline is a NDDataset too). The\ncorrected dataset (the dataset after the baseline subtraction) is stored\nin the [corrected]{.title-ref} attribute of the processor:\n"
      ]
    },
    {
      "cell_type": "code",
      "execution_count": null,
      "metadata": {
        "collapsed": false
      },
      "outputs": [],
      "source": [
        "baseline = blc.baseline\ncorrected = blc.corrected"
      ]
    },
    {
      "cell_type": "markdown",
      "metadata": {},
      "source": [
        "Plot the result of the correction\n"
      ]
    },
    {
      "cell_type": "code",
      "execution_count": null,
      "metadata": {
        "collapsed": false
      },
      "outputs": [],
      "source": [
        "corrected.plot()"
      ]
    },
    {
      "cell_type": "markdown",
      "metadata": {},
      "source": [
        "We can have a more detailed representation using plot\n"
      ]
    },
    {
      "cell_type": "code",
      "execution_count": null,
      "metadata": {
        "collapsed": false
      },
      "outputs": [],
      "source": [
        "ax = blc.plot(nb_traces=2, offset=50)\nblc.show_regions(ax)"
      ]
    },
    {
      "cell_type": "markdown",
      "metadata": {},
      "source": [
        "We can also plot the baseline and the corrected dataset together: for\nsome individual spectra to, for example, check the quality of the\ncorrection:\n"
      ]
    },
    {
      "cell_type": "code",
      "execution_count": null,
      "metadata": {
        "collapsed": false
      },
      "outputs": [],
      "source": [
        "corrected[0].plot()\nbaseline[0].plot(clear=False, color=\"red\", ls=\"-\")\nndp[0].plot(clear=False, color=\"green\", ls=\"--\")"
      ]
    },
    {
      "cell_type": "code",
      "execution_count": null,
      "metadata": {
        "collapsed": false
      },
      "outputs": [],
      "source": [
        "corrected[10].plot()\nbaseline[10].plot(clear=False, color=\"red\", ls=\"-\")\nndp[10].plot(clear=False, color=\"green\", ls=\"--\")"
      ]
    },
    {
      "cell_type": "markdown",
      "metadata": {},
      "source": [
        "The baseline correction looks ok in some part of the spectra but not in\nothers where the variation seems a little to rigid. This is may be due\nto the fact that the [pchip]{.title-ref} interpolation is perhaps not\nthe best choice for this dataset. We can try to use a n-th degree\n[polynomial]{.title-ref} model instead:\n\nWe don\\'t need to redefine a new Baseline object, we can just change the\nmodel and the order of the polynomial:\n"
      ]
    },
    {
      "cell_type": "code",
      "execution_count": null,
      "metadata": {
        "collapsed": false
      },
      "outputs": [],
      "source": [
        "blc.model = \"polynomial\"\nblc.order = 5  # use a 5th degree polynomial"
      ]
    },
    {
      "cell_type": "markdown",
      "metadata": {},
      "source": [
        "and fit again the baseline correction model to the data:\n"
      ]
    },
    {
      "cell_type": "code",
      "execution_count": null,
      "metadata": {
        "collapsed": false
      },
      "outputs": [],
      "source": [
        "blc.fit(ndp)\n\nbaseline = blc.baseline\ncorrected = blc.corrected\n\ncorrected[0].plot()\nbaseline[0].plot(clear=False, color=\"red\", ls=\"-\")\nndp[0].plot(clear=False, color=\"green\", ls=\"--\")"
      ]
    },
    {
      "cell_type": "code",
      "execution_count": null,
      "metadata": {
        "collapsed": false
      },
      "outputs": [],
      "source": [
        "corrected[10].plot()\nbaseline[10].plot(clear=False, color=\"red\", ls=\"-\")\nndp[10].plot(clear=False, color=\"green\", ls=\"--\")"
      ]
    },
    {
      "cell_type": "code",
      "execution_count": null,
      "metadata": {
        "collapsed": false
      },
      "outputs": [],
      "source": [
        "corrected.plot()"
      ]
    },
    {
      "cell_type": "markdown",
      "metadata": {},
      "source": [
        "This looks better and smoother. But not perfect.\n"
      ]
    },
    {
      "cell_type": "markdown",
      "metadata": {},
      "source": [
        "We can also try to use a [asls]{.title-ref} (Asymmetric Least Squares)\nmodel instead. This model is based on the work of Eilers and Boelens\n(2005) and performs a baseline correction by iteratively fitting\nasymmetrically weighted least squares regression curves to the data. The\n[asls]{.title-ref} model has two parameters: [mu]{.title-ref} and\n[assymetry]{.title-ref}. The [mu]{.title-ref} parameter is a\nregularisation parameters which control the smoothness of the baseline.\nThe larger [mu]{.title-ref} is, the smoother the baseline will be. The\n[assymetry]{.title-ref} parameter is a parameter which control the\nassymetry if the AsLS algorithm.\n"
      ]
    },
    {
      "cell_type": "code",
      "execution_count": null,
      "metadata": {
        "collapsed": false
      },
      "outputs": [],
      "source": [
        "blc.multivariate = False  # use a sequential approach\nblc.model = \"asls\"\nblc.mu = 10**9\nblc.asymmetry = 0.002\nblc.fit(ndp)"
      ]
    },
    {
      "cell_type": "code",
      "execution_count": null,
      "metadata": {
        "collapsed": false
      },
      "outputs": [],
      "source": [
        "baseline = blc.baseline\ncorrected = blc.corrected"
      ]
    },
    {
      "cell_type": "code",
      "execution_count": null,
      "metadata": {
        "collapsed": false
      },
      "outputs": [],
      "source": [
        "corrected[0].plot()\nbaseline[0].plot(clear=False, color=\"red\", ls=\"-\")\nndp[0].plot(clear=False, color=\"green\", ls=\"--\")"
      ]
    },
    {
      "cell_type": "code",
      "execution_count": null,
      "metadata": {
        "collapsed": false
      },
      "outputs": [],
      "source": [
        "corrected[-1].plot()\nbaseline[-1].plot(clear=False, color=\"red\", ls=\"-\")\nndp[-1].plot(clear=False, color=\"green\", ls=\"--\")"
      ]
    },
    {
      "cell_type": "code",
      "execution_count": null,
      "metadata": {
        "collapsed": false
      },
      "outputs": [],
      "source": [
        "corrected.plot()"
      ]
    },
    {
      "cell_type": "markdown",
      "metadata": {},
      "source": [
        "Finally, we will use the snip model\n"
      ]
    },
    {
      "cell_type": "code",
      "execution_count": null,
      "metadata": {
        "collapsed": false
      },
      "outputs": [],
      "source": [
        "blc.multivariate = False  # use a sequential approach\nblc.model = \"snip\"\nblc.snip_width = 200\nblc.fit(ndp)"
      ]
    },
    {
      "cell_type": "code",
      "execution_count": null,
      "metadata": {
        "collapsed": false
      },
      "outputs": [],
      "source": [
        "baseline = blc.baseline\ncorrected = blc.corrected"
      ]
    },
    {
      "cell_type": "code",
      "execution_count": null,
      "metadata": {
        "collapsed": false
      },
      "outputs": [],
      "source": [
        "corrected[0].plot()\nbaseline[0].plot(clear=False, color=\"red\", ls=\"-\")\nndp[0].plot(clear=False, color=\"green\", ls=\"--\")"
      ]
    },
    {
      "cell_type": "code",
      "execution_count": null,
      "metadata": {
        "collapsed": false
      },
      "outputs": [],
      "source": [
        "corrected[-1].plot()\nbaseline[-1].plot(clear=False, color=\"red\", ls=\"-\")\nndp[-1].plot(clear=False, color=\"green\", ls=\"--\")"
      ]
    },
    {
      "cell_type": "code",
      "execution_count": null,
      "metadata": {
        "collapsed": false
      },
      "outputs": [],
      "source": [
        "corrected.plot()"
      ]
    },
    {
      "cell_type": "markdown",
      "metadata": {},
      "source": [
        "This ends the example ! The following line can be uncommented if no plot\nshows when running the .py script with python\n"
      ]
    },
    {
      "cell_type": "code",
      "execution_count": null,
      "metadata": {
        "collapsed": false
      },
      "outputs": [],
      "source": [
        "# scp.show()"
      ]
    }
  ],
  "metadata": {
    "kernelspec": {
      "display_name": "Python 3",
      "language": "python",
      "name": "python3"
    },
    "language_info": {
      "codemirror_mode": {
        "name": "ipython",
        "version": 3
      },
      "file_extension": ".py",
      "mimetype": "text/x-python",
      "name": "python",
      "nbconvert_exporter": "python",
      "pygments_lexer": "ipython3",
      "version": "3.13.2"
    }
  },
  "nbformat": 4,
  "nbformat_minor": 0
}