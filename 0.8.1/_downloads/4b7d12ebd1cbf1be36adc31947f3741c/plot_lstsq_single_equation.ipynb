{
  "cells": [
    {
      "cell_type": "markdown",
      "metadata": {},
      "source": [
        "# Solve a linear equation using LSTSQ\n\nIn this example, we find the least square solution of a simple linear\nequation.\n"
      ]
    },
    {
      "cell_type": "code",
      "execution_count": null,
      "metadata": {
        "collapsed": false
      },
      "outputs": [],
      "source": [
        ""
      ]
    },
    {
      "cell_type": "code",
      "execution_count": null,
      "metadata": {
        "collapsed": false
      },
      "outputs": [],
      "source": [
        "import spectrochempy as scp"
      ]
    },
    {
      "cell_type": "markdown",
      "metadata": {},
      "source": [
        "Let\\'s take a similar example to the one given in the\n[numpy.linalg]{.title-ref} documentation\n\nWe have some noisy data that represent the distance [d]{.title-ref}\ntraveled by some objects versus time \\`t\\`:\n"
      ]
    },
    {
      "cell_type": "code",
      "execution_count": null,
      "metadata": {
        "collapsed": false
      },
      "outputs": [],
      "source": [
        "time = [0, 1, 2, 3]\ndistance = [-1, 0.2, 0.9, 2.1]"
      ]
    },
    {
      "cell_type": "markdown",
      "metadata": {},
      "source": [
        "\\### 1) Using arrays (or list) inputs\n\nWe would like v and d0 such as\n\n:   distance = v.time + d0\n"
      ]
    },
    {
      "cell_type": "code",
      "execution_count": null,
      "metadata": {
        "collapsed": false
      },
      "outputs": [],
      "source": [
        "lstsq = scp.LSTSQ()\nlstsq.fit(time, distance)\nv = lstsq.coef\nd0 = lstsq.intercept\nrsquare = lstsq.score()\nv, d0, rsquare"
      ]
    },
    {
      "cell_type": "markdown",
      "metadata": {},
      "source": [
        "Plot (we need to import the matplotlib library)\n"
      ]
    },
    {
      "cell_type": "code",
      "execution_count": null,
      "metadata": {
        "collapsed": false
      },
      "outputs": [],
      "source": [
        "import matplotlib.pyplot as plt\n\nplt.plot(time, distance, \"o\", label=\"Original data\", markersize=5)\ndistance_fitted = lstsq.predict()\nplt.plot(time, distance_fitted, \":r\", label=\"Linear regression output\")\nplt.xlabel(\"time / h\")\nplt.ylabel(\"distance / km\")\nplt.title(f\"Linear regression, $R^2={rsquare:.3f}$\")\nplt.legend()"
      ]
    },
    {
      "cell_type": "markdown",
      "metadata": {},
      "source": [
        "\\### 2) Using NDDataset as input for X and Y\n\nUsing NDDataset as input offer the straightforward possibility to use\nmetadata such as units in the calculation and coordset\n"
      ]
    },
    {
      "cell_type": "code",
      "execution_count": null,
      "metadata": {
        "collapsed": false
      },
      "outputs": [],
      "source": [
        "time = scp.NDDataset([0, 1, 2, 3], title=\"time\", units=\"hour\")\ndistance = scp.NDDataset([-1, 0.2, 0.9, 2.1], title=\"distance\", units=\"kilometer\")"
      ]
    },
    {
      "cell_type": "markdown",
      "metadata": {},
      "source": [
        "we fit it using the new defined time and distance NDDatasets\n"
      ]
    },
    {
      "cell_type": "code",
      "execution_count": null,
      "metadata": {
        "collapsed": false
      },
      "outputs": [],
      "source": [
        "lstsq = scp.LSTSQ()\nlstsq.fit(time, distance)\n\n# The results are the same as previously (but with units information)\nv = lstsq.coef\nd0 = lstsq.intercept\nrsquare = lstsq.score()\nprint(f\"speed : {v: .2f},  d0 : {d0: .2f},  r^2={rsquare: .3f}\")"
      ]
    },
    {
      "cell_type": "markdown",
      "metadata": {},
      "source": [
        "Predict return a NDDataset since the inputs were NDDatasets\n"
      ]
    },
    {
      "cell_type": "code",
      "execution_count": null,
      "metadata": {
        "collapsed": false
      },
      "outputs": [],
      "source": [
        "distance_fitted2 = lstsq.predict()\nprint(distance_fitted2)\n\nassert (distance_fitted == distance_fitted2.data).all()"
      ]
    },
    {
      "cell_type": "markdown",
      "metadata": {},
      "source": [
        "\\### 3) Using a single NDDataset with X coordinates as input\n\nUsing NDDataset as input offer the straightforward possibility to use\nthe X coordinate directly, ie., we use lstsq.fit(Y) with Y.x = X,\ninstead of lstsq.fit(X, Y)\n"
      ]
    },
    {
      "cell_type": "code",
      "execution_count": null,
      "metadata": {
        "collapsed": false
      },
      "outputs": [],
      "source": [
        "time = scp.Coord([0, 1, 2, 3], title=\"time\", units=\"hour\")\ndistance = scp.NDDataset(\n    data=[-1, 0.2, 0.9, 2.1], coordset=[time], title=\"distance\", units=\"kilometer\"\n)"
      ]
    },
    {
      "cell_type": "markdown",
      "metadata": {},
      "source": [
        "Now we fit the model, but here we just need to pass the distance dataset\nas argument. The time information being the x coordinates.\n"
      ]
    },
    {
      "cell_type": "code",
      "execution_count": null,
      "metadata": {
        "collapsed": false
      },
      "outputs": [],
      "source": [
        "lstsq = scp.LSTSQ()\nlstsq.fit(distance)\n\n# The results are the same as previously.\nv = lstsq.coef\nd0 = lstsq.intercept\nrsquare = lstsq.score()\nprint(f\"speed : {v:.2f~C},  d0 : {d0:.2f~C},  r^2={rsquare:.3f}\")"
      ]
    },
    {
      "cell_type": "markdown",
      "metadata": {},
      "source": [
        "Final plot\n"
      ]
    },
    {
      "cell_type": "code",
      "execution_count": null,
      "metadata": {
        "collapsed": false
      },
      "outputs": [],
      "source": [
        "distance.plot_scatter(\n    markersize=10,\n    mfc=\"red\",\n    mec=\"black\",\n    label=\"Original data\",\n    title=f\"Least-square regression, $r^2={rsquare:.3f}$\",\n)\ndistance_fitted3 = lstsq.predict()\ndistance_fitted3.plot_pen(clear=False, color=\"g\", label=\"Fitted line\", legend=True)"
      ]
    },
    {
      "cell_type": "markdown",
      "metadata": {},
      "source": [
        "This ends the example ! The following line can be uncommented if no plot\nshows when running the .py script with python\n"
      ]
    },
    {
      "cell_type": "code",
      "execution_count": null,
      "metadata": {
        "collapsed": false
      },
      "outputs": [],
      "source": [
        "# scp.show()"
      ]
    }
  ],
  "metadata": {
    "kernelspec": {
      "display_name": "Python 3",
      "language": "python",
      "name": "python3"
    },
    "language_info": {
      "codemirror_mode": {
        "name": "ipython",
        "version": 3
      },
      "file_extension": ".py",
      "mimetype": "text/x-python",
      "name": "python",
      "nbconvert_exporter": "python",
      "pygments_lexer": "ipython3",
      "version": "3.13.2"
    }
  },
  "nbformat": 4,
  "nbformat_minor": 0
}