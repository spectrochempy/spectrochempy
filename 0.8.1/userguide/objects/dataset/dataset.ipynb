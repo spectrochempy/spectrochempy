{
 "cells": [
  {
   "cell_type": "markdown",
   "id": "cbcbe96b",
   "metadata": {},
   "source": [
    "# The NDDataset object"
   ]
  },
  {
   "cell_type": "markdown",
   "id": "a6dc94a0",
   "metadata": {},
   "source": [
    "The NDDataset is the main object used by **SpectroChemPy**.\n",
    "\n",
    "Like numpy ndarrays, NDDatasets have the capability to be sliced, sorted and subjected to\n",
    "mathematical operations.\n",
    "\n",
    "But, in addition, NDDatasets may have units, can be masked and each dimension can have\n",
    "coordinates also with units.\n",
    "This makes NDDatasets aware of units compatibility, *e.g.*, for binary operations such as\n",
    "addition or subtraction or during the application of mathematical operations.\n",
    "In addition to or in replacement of numerical data for coordinates,\n",
    "NDDatasets can also have labeled coordinates where labels can be different kinds of\n",
    "objects (strings, datetime objects, numpy ndarrays or other NDDatasets, etc.).\n",
    "\n",
    "This offers a lot of flexibility in using NDDatasets that, we hope, will be useful\n",
    "for applications.\n",
    "See the [Examples](../../../gettingstarted/examples/gallery/auto_examples_core/index.rst) for\n",
    "additional information about such possible applications."
   ]
  },
  {
   "cell_type": "markdown",
   "id": "8937a73b",
   "metadata": {},
   "source": [
    "## Table of Contents\n",
    "\n",
    "* [Introduction](#Introduction)\n",
    "  * [1D-Dataset (unidimensional dataset)](#1D-Dataset-(unidimensional-dataset))\n",
    "  * [nD-Dataset (multidimensional dataset)](#nD-Dataset-(multidimensional-dataset))\n",
    "* [Metadata and Attributes](#About-the-dates-and-times)\n",
    "  * [About dates and times](#About-dates-and-times)\n",
    "  * [About the history attribute](#About-the-history-attribute)\n",
    "* [Units](#Units)\n",
    "* [Coordinates](#Coordinates)\n",
    "  * [Labels](#Labels)\n",
    "  * [Sharing coordinates between dimensions](#Sharing-coordinates-between-dimensions)\n",
    "  * [Setting coordinates using set_coordset](#Setting-coordinates-using-set_coordset)\n",
    "  * [Adding several coordinates to a single dimension](#Adding-several-coordinates-to-a-single-dimension)\n",
    "  * [Math operations on coordinates](#Math-operations-on-coordinates)\n",
    "  * [Summary of coordinate setting syntax](#Summary-of-the-coordinate-setting-syntax)\n",
    "* [Methods to create NDDataset](#Methods-to-create-NDDataset)\n",
    "  * [Create a dataset from a function](#Create-a-dataset-from-a-function)\n",
    "  * [Using numpy-like constructors](#Using-numpy-like-constructors-of-NDDatasets)\n",
    "  * [Copying existing NDDataset](#Copying-existing-NDDataset)\n",
    "  * [Importing from external datasets](#Importing-from-external-datasets)"
   ]
  },
  {
   "cell_type": "markdown",
   "id": "09b39363",
   "metadata": {},
   "source": [
    "## Introduction"
   ]
  },
  {
   "cell_type": "markdown",
   "id": "df319dc5",
   "metadata": {},
   "source": [
    "**Below (and in the next sections), we try to give an almost complete view of the\n",
    "NDDataset features.**"
   ]
  },
  {
   "cell_type": "markdown",
   "id": "fb8e58dd",
   "metadata": {
    "lines_to_next_cell": 0
   },
   "source": [
    "As we will make some reference to the\n",
    "**[numpy](https://numpy.org/doc/stable/index.html)** library, we also import it here."
   ]
  },
  {
   "cell_type": "code",
   "execution_count": 1,
   "id": "ad923ad1",
   "metadata": {
    "execution": {
     "iopub.execute_input": "2025-03-23T01:41:47.363585Z",
     "iopub.status.busy": "2025-03-23T01:41:47.363400Z",
     "iopub.status.idle": "2025-03-23T01:41:47.584547Z",
     "shell.execute_reply": "2025-03-23T01:41:47.583963Z"
    }
   },
   "outputs": [
    {
     "data": {
      "text/html": [
       "\n",
       "        \n",
       "        <div>\n",
       "        <table>\n",
       "        <tr>\n",
       "        <td>\n",
       "        \n",
       "        <img src='data:image/png;base64,iVBORw0KGgoAAAANSUhEUgAAABgAAAAYCAYAAADgdz34AAAA\n",
       "        AXNSR0IArs4c6QAAAAlwSFlzAAAJOgAACToB8GSSSgAAAetpVFh0WE1MOmNvbS5hZG9iZS54bXAAAAAA\n",
       "        ADx4OnhtcG1ldGEgeG1sbnM6eD0iYWRvYmU6bnM6bWV0YS8iIHg6eG1wdGs9IlhNUCBDb3JlIDUuNC4w\n",
       "        Ij4KICAgPHJkZjpSREYgeG1sbnM6cmRmPSJodHRwOi8vd3d3LnczLm9yZy8xOTk5LzAyLzIyLXJkZi1z\n",
       "        eW50YXgtbnMjIj4KICAgICAgPHJkZjpEZXNjcmlwdGlvbiByZGY6YWJvdXQ9IiIKICAgICAgICAgICAg\n",
       "        eG1sbnM6eG1wPSJodHRwOi8vbnMuYWRvYmUuY29tL3hhcC8xLjAvIgogICAgICAgICAgICB4bWxuczp0\n",
       "        aWZmPSJodHRwOi8vbnMuYWRvYmUuY29tL3RpZmYvMS4wLyI+CiAgICAgICAgIDx4bXA6Q3JlYXRvclRv\n",
       "        b2w+bWF0cGxvdGxpYiB2ZXJzaW9uIDIuMS4wLCBodHRwOi8vbWF0cGxvdGxpYi5vcmcvPC94bXA6Q3Jl\n",
       "        YXRvclRvb2w+CiAgICAgICAgIDx0aWZmOk9yaWVudGF0aW9uPjE8L3RpZmY6T3JpZW50YXRpb24+CiAg\n",
       "        ICAgIDwvcmRmOkRlc2NyaXB0aW9uPgogICA8L3JkZjpSREY+CjwveDp4bXBtZXRhPgqNQaNYAAAGiUlE\n",
       "        QVRIDY1We4xU1Rn/3XPuYx47u8w+hnU38hTcuoUEt/6D2y4RB0ME1BoEd9taJaKh9CFiN7YGp7appUAM\n",
       "        NmktMZFoJTYVLVQ0smsy26CN0SU1QgsuFAaW3WVmx33N677O6XfuyoIxTXqSO/fec+75fd93vt/3/UbD\n",
       "        V0aKSZmCpkFMLz3T9utuu2N+o98aDSMBKVAo89z5y+zEz3ZafcCOfvWdlGCalqKn1Bf71CygTd+mf1es\n",
       "        SOnpdMpTb+vWpTZuWVfe3jLPa5tzHYNm0T5N0gpdkkHaDBeGBU6d1/t/fyS8+/CbqdfUvmsx1PuMgc2b\n",
       "        Nxv79u1zgd31r+7JH1jbIZKxWRXAcYUQ8IWvBfBXNjEuJWPgMA02NR7C3/pYT9fjdZ3A9tGrWF8YSJHn\n",
       "        qcDz3y7q2T967PZv+gnYJdd1mEZ+62zGDQV/dQgKhmLzDNOXCEWM3j6eTT5Y3w78dOBKJLR1PQf+4ivP\n",
       "        j76UPZnssBN+wbM9Aet/AV81Mf1EEULXYfOobvX2WWQk0aoioXwwSmirOlioY0mu8BIouzYl7P8GV3vp\n",
       "        qCCEZvlFz769w08oLDWvyKIyL1asSm28d6WfzA97ztvvV1kexUMsmhlkULEkuGYmFYC6AvfUrITnwUKl\n",
       "        5K79lkjeSSRRTCTbQPd95e1WzMbZSya74XoXAxctCllCnbECMOjZNGRwvzIXnD85wbkMmKK+U045Dtdi\n",
       "        8Qp+SAxU2GTg2bYlC9224pgvmSb54vkVTBQYyhUt2KjAMyMmPjwRQW5Mh2WKwJhlBh6jVGagFM84wZnQ\n",
       "        4bpC0Rt4pk1PbSt0NDcxDA5xryosDHWgtbM0DGZDWLSoiDMDYeQnGVrmOThxLozB0RAaahzkJzjKNqcI\n",
       "        QBymJFMkOlN8Dqjpg0XYTx5xO/QbmmUrqIjGJznq47TqTaClKYfjp+PInLMwnOdYvtQBZ2XcunQY+VwI\n",
       "        o4U4muoFEjVEFE6lQyEUKzHYfgQG9ylCyngU+CxjtOqxCDGHcCsOMCs6iQul5ZiStdATYxjMZXDLTUVw\n",
       "        LY8Jey4uOh2IxjwsrP8UXJYxUrkZrghBahzV5iXU6gNkq0Z1EzIsUBUSCV2nEOHo0LVxHCpuxabJJdhi\n",
       "        5PFnvw5vLXwXIfNZvD/+JNo/X40NegE54sUaazl+UL8XD1x+FB9Ijjt4EQfdGN6J/x131LwIV9ap/AYs\n",
       "        0x1fz1ZKFbh6A7qKy/By9Dg6G36Ep91vUJJ15Cqr0Z67E8/HzmBrw1OwxWyM+3Mo6BAuSB17oyfx0Oyl\n",
       "        2DN0Hqs/70Cx6hBCvESFUY1ShWXZZEE7OTAYxZzaPH4TuoiusZvRnunFy2NbiHYuBp2vB66srX4vMEjp\n",
       "        RKPxKXmnoQ4+Mn4DPiv8CYcrs3GfNUXJLtM+alSOhrMj/KT+wBNW3+E/2liywNO3iSflbaFva/+stGDT\n",
       "        xE0E9Sjaox8HBhxpEamzMGSEaFKg+mjEddzDh1MxTDq3YV1kGBsjfwW3S9Cqanjmko+ndlb1UR3s6K8J\n",
       "        lfphNWq9Ew/7c61T2BB/EbcaNkb8GBaE0tANH7/M34PLdhJDzjIcL9xPbdTG6zyM72Y+wXPHmvB489No\n",
       "        fm0b5HnbQ9Rgp/7DSSd29AeVvPeNyK6JcYl/yQVi5dBjuGvoV/gaJe47s45QUxrDmcYX0MBsdF7egvXZ\n",
       "        7+O0vZA4X8QmOQWjlSK7RDz5wIM30gp9UbWcGjXxhzdDu1SiNSpx6kcQB57rPnr/3dlkZarWLnlRq5oP\n",
       "        ET1dOCIOk4wALib9eeS5iygfhkd09H0DWphB/+gs+PcOAS+ssrFmmXXgVfR0de9cpbAJfH3Q1jofW9DZ\n",
       "        k56dDcVsq9YcsoUMEd1qyLoT3BX1YiyHMJuk97hyjqIoE91t+NcTLeN0ZrfMoXatZbu6G0h4VG+ibqq0\n",
       "        IJVK6cAjo6serG3vSUezCMct0yQeSOFJSUImqb2qbknUpDqlZxE0QZ+ZUpSlZx79h4Nda6zef9dlk121\n",
       "        JDjbR5XggPRZlRnS6bRQRtLpn4++cuie/Yvn2svmNxuLw9WCcYIl4fEoTEGiSTUqJdfgU+8ROqf1iMkL\n",
       "        zS389YtNPXc/PH8l8ONBJZkHD+4JtD04HmVEDWWErmBhzV2/2LB1bemJG6krzv2S6NOHUgtEP0Oif5pE\n",
       "        /3fHoruP7N8RiP61GArzSwbUhJJQpXJKiKbfr/3bIhKq76sKPUdF9NW/LSqfSn6vjv8C45H/6FSgvZQA\n",
       "        AAAASUVORK5CYII='\n",
       "        style='height:25px; border-radius:12px; display:inline-block; float:left;\n",
       "        vertical-align:middle'>\n",
       "        </img>\n",
       "        \n",
       "        </td>\n",
       "        <td>\n",
       "        \n",
       "        &nbsp;&nbsp;<span style='font-size:12px'>SpectroChemPy's API - v.0.8.1<br/>©Copyright 2014-2025 - A.Travert & C.Fernandez @ LCS</span>\n",
       "        \n",
       "        </td>\n",
       "        </tr>\n",
       "        </table>\n",
       "        </div>\n",
       "        "
      ]
     },
     "metadata": {},
     "output_type": "display_data"
    }
   ],
   "source": [
    "import numpy as np\n",
    "\n",
    "import spectrochempy as scp"
   ]
  },
  {
   "cell_type": "markdown",
   "id": "53932795",
   "metadata": {
    "lines_to_next_cell": 0
   },
   "source": [
    "We additionally import the three main SpectroChemPy objects that we will use through\n",
    "this tutorial"
   ]
  },
  {
   "cell_type": "code",
   "execution_count": 2,
   "id": "aef2739e",
   "metadata": {
    "execution": {
     "iopub.execute_input": "2025-03-23T01:41:47.586615Z",
     "iopub.status.busy": "2025-03-23T01:41:47.586216Z",
     "iopub.status.idle": "2025-03-23T01:41:49.043332Z",
     "shell.execute_reply": "2025-03-23T01:41:49.042666Z"
    }
   },
   "outputs": [
    {
     "data": {
      "text/html": [
       "<style>/* SpectroChemPy output styling */\n",
       ".scp-output {\n",
       "    display: flex;\n",
       "    flex-direction: column;\n",
       "    gap: 2px;\n",
       "}\n",
       "\n",
       ".scp-output details {\n",
       "    padding: 1px;\n",
       "}\n",
       "\n",
       ".scp-output summary {\n",
       "    cursor: pointer;\n",
       "    font-weight: normal;\n",
       "    /*bold;*/\n",
       "    font-size: 11pt;\n",
       "}\n",
       "\n",
       ".scp-output summary:hover {\n",
       "    color: #888;\n",
       "}\n",
       "\n",
       "/* Parameters display styling */\n",
       ".scp-output .section {\n",
       "    display: flex;\n",
       "    flex-direction: row;\n",
       "    gap: 2px;\n",
       "    font-family: Arial, sans-serif;\n",
       "    font-size: 10pt;\n",
       "    margin-left: 15px;\n",
       "}\n",
       "\n",
       ".scp-output .meta-name,\n",
       ".scp-output .attr-name {\n",
       "    font-weight: 500;\n",
       "    color: #28A745;\n",
       "    text-align: right;\n",
       "}\n",
       "\n",
       ".scp-output .attr-name {\n",
       "    min-width: 100px;\n",
       "}\n",
       "\n",
       ".scp-output .meta-name {\n",
       "    min-width: 150px;\n",
       "}\n",
       "\n",
       ".scp-output .meta-value,\n",
       ".scp-output .attr-value {\n",
       "    flex: 1;\n",
       "}\n",
       "\n",
       ".scp-output .numeric {\n",
       "    color: #2D7FF9;\n",
       "    margin-left: 120px;\n",
       "    font-size: 10pt;\n",
       "}\n",
       "\n",
       ".scp-output .label {\n",
       "    color: darkcyan;\n",
       "    margin-left: 120px;\n",
       "    font-size: 10pt;\n",
       "}\n",
       "\n",
       ".scp-output .attr-value .numeric {\n",
       "    color: #2D7FF9;\n",
       "    margin-left: 0px;\n",
       "    font-size: 10pt;\n",
       "}\n",
       "\n",
       ".scp-output .attr-value .label {\n",
       "    color: darkcyan;\n",
       "    margin-left: 0px;\n",
       "    font-size: 10pt;\n",
       "}\n",
       "</style>"
      ],
      "text/plain": [
       "<IPython.core.display.HTML object>"
      ]
     },
     "metadata": {},
     "output_type": "display_data"
    },
    {
     "name": "stdout",
     "output_type": "stream",
     "text": [
      "Running on GitHub Actions\n",
      "MPL Configuration directory: /home/runner/.config/matplotlib\n",
      "Stylelib directory: /home/runner/.config/matplotlib/stylelib\n"
     ]
    }
   ],
   "source": [
    "from spectrochempy import Coord\n",
    "from spectrochempy import CoordSet\n",
    "from spectrochempy import NDDataset"
   ]
  },
  {
   "cell_type": "markdown",
   "id": "5f9372be",
   "metadata": {
    "lines_to_next_cell": 0
   },
   "source": [
    "For a convenient usage of units, we will also directly import\n",
    "**[ur](#Units)**, the unit registry which contains all available\n",
    "units."
   ]
  },
  {
   "cell_type": "code",
   "execution_count": 3,
   "id": "536bc0e7",
   "metadata": {
    "execution": {
     "iopub.execute_input": "2025-03-23T01:41:49.045915Z",
     "iopub.status.busy": "2025-03-23T01:41:49.045274Z",
     "iopub.status.idle": "2025-03-23T01:41:49.048519Z",
     "shell.execute_reply": "2025-03-23T01:41:49.047962Z"
    }
   },
   "outputs": [],
   "source": [
    "from spectrochempy import ur"
   ]
  },
  {
   "cell_type": "markdown",
   "id": "700d6db3",
   "metadata": {},
   "source": [
    "Multidimensional arrays are defined in Spectrochempy using the `NDDataset` object.\n",
    "\n",
    "`NDDataset` objects mostly behave like numpy's `numpy.ndarray`\n",
    "(see for instance\n",
    "[numpy quickstart tutorial](https://numpy.org/doc/stable/user/quickstart.html))."
   ]
  },
  {
   "cell_type": "markdown",
   "id": "0887a4fd",
   "metadata": {},
   "source": [
    "However, unlike raw numpy arrays, the presence of optional properties makes\n",
    "them (hopefully) more appropriate for handling spectroscopic information,\n",
    "which is one of the major objectives of the SpectroChemPy package:\n",
    "\n",
    "* `mask`: Data can be partially masked at will\n",
    "* `units`: Data can have units, allowing units-aware operations\n",
    "* `CoordSet`: Data can have a set of coordinates, one or several per dimension\n",
    "\n",
    "Additional metadata can also be added to the instances of this class\n",
    "through the `meta` properties."
   ]
  },
  {
   "cell_type": "markdown",
   "id": "a11a6cb9",
   "metadata": {},
   "source": [
    "## 1D-Dataset (unidimensional dataset)"
   ]
  },
  {
   "cell_type": "markdown",
   "id": "318e02f0",
   "metadata": {},
   "source": [
    "In the following example, a minimal 1D dataset is created from a simple list,\n",
    "to which we can add some metadata:"
   ]
  },
  {
   "cell_type": "code",
   "execution_count": 4,
   "id": "0d34ff1b",
   "metadata": {
    "execution": {
     "iopub.execute_input": "2025-03-23T01:41:49.050374Z",
     "iopub.status.busy": "2025-03-23T01:41:49.050052Z",
     "iopub.status.idle": "2025-03-23T01:41:49.057974Z",
     "shell.execute_reply": "2025-03-23T01:41:49.057390Z"
    }
   },
   "outputs": [
    {
     "data": {
      "text/html": [
       "<div class='scp-output'><details><summary>NDDataset: [float64] unitless (size: 3)[Dataset N1]</summary><div class=\"scp-output section\"><details><summary>Summary</summary>\n",
       "<div class=\"scp-output section\"><div class=\"attr-name\">         name</div><div>:</div><div class=\"attr-value\"> Dataset N1</div></div>\n",
       "<div class=\"scp-output section\"><div class=\"attr-name\">       author</div><div>:</div><div class=\"attr-value\"> Blake and Mortimer</div></div>\n",
       "<div class=\"scp-output section\"><div class=\"attr-name\">      created</div><div>:</div><div class=\"attr-value\"> 2025-03-23 01:41:49+00:00</div></div>\n",
       "<div class=\"scp-output section\"><div class=\"attr-name\">  description</div><div>:</div><div class=\"attr-value\"> <div>A dataset from scratch</div></div></div>\n",
       "<div class=\"scp-output section\"><div class=\"attr-name\">      history</div><div>:</div><div class=\"attr-value\"> <div>2025-03-23 01:41:49+00:00> Creation</div></div></div></details></div>\n",
       "<div class=\"scp-output section\"><details><summary>          Data </summary>\n",
       "<div class=\"scp-output section\"><div class=\"attr-name\">        title</div><div>:</div><div class=\"attr-value\"> <untitled></div></div>\n",
       "<div class=\"scp-output section\"><div class=\"attr-name\">       values</div><div>:</div><div class=\"attr-value\"> ... </div></div>\n",
       "<div class='numeric'>         [      10       20       30]</div>\n",
       "<div class=\"scp-output section\"><div class=\"attr-name\">         size</div><div>:</div><div class=\"attr-value\"> 3</div></div></details></div></details></div>"
      ],
      "text/plain": [
       "NDDataset: [float64] unitless (size: 3)"
      ]
     },
     "execution_count": 4,
     "metadata": {},
     "output_type": "execute_result"
    }
   ],
   "source": [
    "d1D = NDDataset(\n",
    "    [10.0, 20.0, 30.0],\n",
    "    name=\"Dataset N1\",\n",
    "    author=\"Blake and Mortimer\",\n",
    "    description=\"A dataset from scratch\",\n",
    "    history=\"creation\",\n",
    ")\n",
    "d1D"
   ]
  },
  {
   "cell_type": "code",
   "execution_count": 5,
   "id": "449e90dc",
   "metadata": {
    "execution": {
     "iopub.execute_input": "2025-03-23T01:41:49.059836Z",
     "iopub.status.busy": "2025-03-23T01:41:49.059480Z",
     "iopub.status.idle": "2025-03-23T01:41:49.062423Z",
     "shell.execute_reply": "2025-03-23T01:41:49.061917Z"
    }
   },
   "outputs": [
    {
     "name": "stdout",
     "output_type": "stream",
     "text": [
      "NDDataset: [float64] unitless (size: 3)\n"
     ]
    }
   ],
   "source": [
    "print(d1D)"
   ]
  },
  {
   "cell_type": "code",
   "execution_count": 6,
   "id": "08cf044e",
   "metadata": {
    "execution": {
     "iopub.execute_input": "2025-03-23T01:41:49.064235Z",
     "iopub.status.busy": "2025-03-23T01:41:49.063869Z",
     "iopub.status.idle": "2025-03-23T01:41:49.266235Z",
     "shell.execute_reply": "2025-03-23T01:41:49.265676Z"
    }
   },
   "outputs": [
    {
     "data": {
      "text/html": [],
      "text/plain": [
       "<Matplotlib Axes object>"
      ]
     },
     "execution_count": 6,
     "metadata": {},
     "output_type": "execute_result"
    },
    {
     "data": {
      "image/jpeg": "[encoded data removed]",
      "image/png": "[encoded data removed]",
      "text/plain": [
       "<Figure size 288x192 with 1 Axes>"
      ]
     },
     "metadata": {},
     "output_type": "display_data"
    }
   ],
   "source": [
    "d1D.plot(figsize=(3, 2))"
   ]
  },
  {
   "cell_type": "markdown",
   "id": "520da2b9",
   "metadata": {},
   "source": [
    "Except few additional metadata such `author` , `created` ..., there is not much\n",
    "difference with respect to a conventional\n",
    "**[numpy.array](\n",
    "https://numpy.org/doc/stable/reference/generated/numpy.array.html#numpy.array)**.\n",
    "For example, one\n",
    "can apply numpy\n",
    "**[ufunc](https://numpy.org/doc/stable/reference/ufuncs.html#available-ufuncs)'s**\n",
    "directly to a NDDataset or make basic arithmetic\n",
    "operation with these objects:"
   ]
  },
  {
   "cell_type": "code",
   "execution_count": 7,
   "id": "77b7333d",
   "metadata": {
    "execution": {
     "iopub.execute_input": "2025-03-23T01:41:49.268263Z",
     "iopub.status.busy": "2025-03-23T01:41:49.267871Z",
     "iopub.status.idle": "2025-03-23T01:41:49.274383Z",
     "shell.execute_reply": "2025-03-23T01:41:49.273792Z"
    }
   },
   "outputs": [
    {
     "data": {
      "text/html": [
       "<div class='scp-output'><details><summary>NDDataset: [float64] unitless (size: 3)[Dataset N1]</summary><div class=\"scp-output section\"><details><summary>Summary</summary>\n",
       "<div class=\"scp-output section\"><div class=\"attr-name\">         name</div><div>:</div><div class=\"attr-value\"> Dataset N1</div></div>\n",
       "<div class=\"scp-output section\"><div class=\"attr-name\">       author</div><div>:</div><div class=\"attr-value\"> Blake and Mortimer</div></div>\n",
       "<div class=\"scp-output section\"><div class=\"attr-name\">      created</div><div>:</div><div class=\"attr-value\"> 2025-03-23 01:41:49+00:00</div></div>\n",
       "<div class=\"scp-output section\"><div class=\"attr-name\">  description</div><div>:</div><div class=\"attr-value\"> <div>A dataset from scratch</div></div></div>\n",
       "<div class=\"scp-output section\"><div class=\"attr-name\">      history</div><div>:</div><div class=\"attr-value\"> <div>2025-03-23 01:41:49+00:00> Creation<br/>               2025-03-23 01:41:49+00:00> Ufunc sqrt applied.</div></div></div></details></div>\n",
       "<div class=\"scp-output section\"><details><summary>          Data </summary>\n",
       "<div class=\"scp-output section\"><div class=\"attr-name\">        title</div><div>:</div><div class=\"attr-value\"> sqrt(<untitled>)</div></div>\n",
       "<div class=\"scp-output section\"><div class=\"attr-name\">       values</div><div>:</div><div class=\"attr-value\"> ... </div></div>\n",
       "<div class='numeric'>         [   3.162    4.472    5.477]</div>\n",
       "<div class=\"scp-output section\"><div class=\"attr-name\">         size</div><div>:</div><div class=\"attr-value\"> 3</div></div></details></div></details></div>"
      ],
      "text/plain": [
       "NDDataset: [float64] unitless (size: 3)"
      ]
     },
     "execution_count": 7,
     "metadata": {},
     "output_type": "execute_result"
    }
   ],
   "source": [
    "np.sqrt(d1D)"
   ]
  },
  {
   "cell_type": "code",
   "execution_count": 8,
   "id": "fb5e175f",
   "metadata": {
    "execution": {
     "iopub.execute_input": "2025-03-23T01:41:49.276468Z",
     "iopub.status.busy": "2025-03-23T01:41:49.276125Z",
     "iopub.status.idle": "2025-03-23T01:41:49.283706Z",
     "shell.execute_reply": "2025-03-23T01:41:49.283154Z"
    }
   },
   "outputs": [
    {
     "data": {
      "text/html": [
       "<div class='scp-output'><details><summary>NDDataset: [float64] unitless (size: 3)[Dataset N1]</summary><div class=\"scp-output section\"><details><summary>Summary</summary>\n",
       "<div class=\"scp-output section\"><div class=\"attr-name\">         name</div><div>:</div><div class=\"attr-value\"> Dataset N1</div></div>\n",
       "<div class=\"scp-output section\"><div class=\"attr-name\">       author</div><div>:</div><div class=\"attr-value\"> Blake and Mortimer</div></div>\n",
       "<div class=\"scp-output section\"><div class=\"attr-name\">      created</div><div>:</div><div class=\"attr-value\"> 2025-03-23 01:41:49+00:00</div></div>\n",
       "<div class=\"scp-output section\"><div class=\"attr-name\">  description</div><div>:</div><div class=\"attr-value\"> <div>A dataset from scratch</div></div></div>\n",
       "<div class=\"scp-output section\"><div class=\"attr-name\">      history</div><div>:</div><div class=\"attr-value\"> <div>2025-03-23 01:41:49+00:00> Creation<br/>               2025-03-23 01:41:49+00:00> Inplace binary op: iadd  with `Dataset N1`</div></div></div></details></div>\n",
       "<div class=\"scp-output section\"><details><summary>          Data </summary>\n",
       "<div class=\"scp-output section\"><div class=\"attr-name\">        title</div><div>:</div><div class=\"attr-value\"> <untitled></div></div>\n",
       "<div class=\"scp-output section\"><div class=\"attr-name\">       values</div><div>:</div><div class=\"attr-value\"> ... </div></div>\n",
       "<div class='numeric'>         [      15       30       45]</div>\n",
       "<div class=\"scp-output section\"><div class=\"attr-name\">         size</div><div>:</div><div class=\"attr-value\"> 3</div></div></details></div></details></div>"
      ],
      "text/plain": [
       "NDDataset: [float64] unitless (size: 3)"
      ]
     },
     "execution_count": 8,
     "metadata": {},
     "output_type": "execute_result"
    }
   ],
   "source": [
    "d1D += d1D / 2.0\n",
    "d1D"
   ]
  },
  {
   "cell_type": "markdown",
   "id": "3a900bae",
   "metadata": {},
   "source": [
    "As seen above, there are some attributes that are automatically added to the dataset:\n",
    "\n",
    "* `id`: This is a unique identifier for the object.\n",
    "* `name`: A short and unique name for the dataset. It will be equal to the automatic\n",
    "  `id` if it is not provided.\n",
    "* `author`: Author determined from the computer name if not provided.\n",
    "* `created`: Date and time of creation.\n",
    "* `modified`: Date and time of modification.\n",
    "\n",
    "These attributes can be modified by the user, but the `id`, `created` and `modified`\n",
    "attributes are read only.\n",
    "\n",
    "Some other attributes are defined to describe the data:\n",
    "* `title`: A long name that will be used in plots or in some other operations.\n",
    "* `history`: History of operations performed on the object since its creation.\n",
    "* `description`: A comment or a description of the object's purpose or contents.\n",
    "* `origin`: An optional reference to the source of the data."
   ]
  },
  {
   "cell_type": "markdown",
   "id": "2d503e97",
   "metadata": {},
   "source": [
    "Here is an example of the use of the NDDataset attributes:"
   ]
  },
  {
   "cell_type": "code",
   "execution_count": 9,
   "id": "f9d3818a",
   "metadata": {
    "execution": {
     "iopub.execute_input": "2025-03-23T01:41:49.285693Z",
     "iopub.status.busy": "2025-03-23T01:41:49.285338Z",
     "iopub.status.idle": "2025-03-23T01:41:49.290474Z",
     "shell.execute_reply": "2025-03-23T01:41:49.289957Z"
    }
   },
   "outputs": [
    {
     "data": {
      "text/html": [
       "<div class='scp-output'><details><summary>NDDataset: [float64] unitless (size: 3)[mydataset]</summary><div class=\"scp-output section\"><details><summary>Summary</summary>\n",
       "<div class=\"scp-output section\"><div class=\"attr-name\">         name</div><div>:</div><div class=\"attr-value\"> mydataset</div></div>\n",
       "<div class=\"scp-output section\"><div class=\"attr-name\">       author</div><div>:</div><div class=\"attr-value\"> Blake and Mortimer</div></div>\n",
       "<div class=\"scp-output section\"><div class=\"attr-name\">      created</div><div>:</div><div class=\"attr-value\"> 2025-03-23 01:41:49+00:00</div></div>\n",
       "<div class=\"scp-output section\"><div class=\"attr-name\">  description</div><div>:</div><div class=\"attr-value\"> <div>Some experimental measurements</div></div></div>\n",
       "<div class=\"scp-output section\"><div class=\"attr-name\">      history</div><div>:</div><div class=\"attr-value\"> <div>2025-03-23 01:41:49+00:00> Creation<br/>               2025-03-23 01:41:49+00:00> Inplace binary op: iadd  with `Dataset N1` <br/>               2025-03-23 01:41:49+00:00> Created from scratch</div></div></div></details></div>\n",
       "<div class=\"scp-output section\"><details><summary>          Data </summary>\n",
       "<div class=\"scp-output section\"><div class=\"attr-name\">        title</div><div>:</div><div class=\"attr-value\"> intensity</div></div>\n",
       "<div class=\"scp-output section\"><div class=\"attr-name\">       values</div><div>:</div><div class=\"attr-value\"> ... </div></div>\n",
       "<div class='numeric'>         [      15       30       45]</div>\n",
       "<div class=\"scp-output section\"><div class=\"attr-name\">         size</div><div>:</div><div class=\"attr-value\"> 3</div></div></details></div></details></div>"
      ],
      "text/plain": [
       "NDDataset: [float64] unitless (size: 3)"
      ]
     },
     "execution_count": 9,
     "metadata": {},
     "output_type": "execute_result"
    }
   ],
   "source": [
    "d1D.title = \"intensity\"\n",
    "d1D.name = \"mydataset\"\n",
    "d1D.history = \"created from scratch\"\n",
    "d1D.description = \"Some experimental measurements\"\n",
    "d1D"
   ]
  },
  {
   "cell_type": "markdown",
   "id": "609bcd84",
   "metadata": {},
   "source": [
    "d1D is a 1D (1-dimensional) dataset with only one dimension.\n",
    "\n",
    "Some attributes are useful to check this kind of information:"
   ]
  },
  {
   "cell_type": "code",
   "execution_count": 10,
   "id": "04353d28",
   "metadata": {
    "execution": {
     "iopub.execute_input": "2025-03-23T01:41:49.292418Z",
     "iopub.status.busy": "2025-03-23T01:41:49.292235Z",
     "iopub.status.idle": "2025-03-23T01:41:49.296164Z",
     "shell.execute_reply": "2025-03-23T01:41:49.295688Z"
    }
   },
   "outputs": [
    {
     "data": {
      "text/plain": [
       "(3,)"
      ]
     },
     "execution_count": 10,
     "metadata": {},
     "output_type": "execute_result"
    }
   ],
   "source": [
    "d1D.shape  # the shape of 1D contain only one dimension size"
   ]
  },
  {
   "cell_type": "code",
   "execution_count": 11,
   "id": "d0dfcd9b",
   "metadata": {
    "execution": {
     "iopub.execute_input": "2025-03-23T01:41:49.297798Z",
     "iopub.status.busy": "2025-03-23T01:41:49.297616Z",
     "iopub.status.idle": "2025-03-23T01:41:49.301409Z",
     "shell.execute_reply": "2025-03-23T01:41:49.300941Z"
    }
   },
   "outputs": [
    {
     "data": {
      "text/plain": [
       "1"
      ]
     },
     "execution_count": 11,
     "metadata": {},
     "output_type": "execute_result"
    }
   ],
   "source": [
    "d1D.ndim  # the number of dimensions"
   ]
  },
  {
   "cell_type": "code",
   "execution_count": 12,
   "id": "5f775a2b",
   "metadata": {
    "execution": {
     "iopub.execute_input": "2025-03-23T01:41:49.303177Z",
     "iopub.status.busy": "2025-03-23T01:41:49.302864Z",
     "iopub.status.idle": "2025-03-23T01:41:49.306680Z",
     "shell.execute_reply": "2025-03-23T01:41:49.306137Z"
    }
   },
   "outputs": [
    {
     "data": {
      "text/plain": [
       "['x']"
      ]
     },
     "execution_count": 12,
     "metadata": {},
     "output_type": "execute_result"
    }
   ],
   "source": [
    "d1D.dims  # the name of the dimension (it has been automatically attributed)"
   ]
  },
  {
   "cell_type": "markdown",
   "id": "20b5bed7",
   "metadata": {},
   "source": [
    "**Note**: The names of the dimensions are set automatically. But they can be changed,\n",
    "with <u>the limitation</u> that the\n",
    "name must be a single letter."
   ]
  },
  {
   "cell_type": "code",
   "execution_count": 13,
   "id": "9e24bf40",
   "metadata": {
    "execution": {
     "iopub.execute_input": "2025-03-23T01:41:49.308619Z",
     "iopub.status.busy": "2025-03-23T01:41:49.308213Z",
     "iopub.status.idle": "2025-03-23T01:41:49.310866Z",
     "shell.execute_reply": "2025-03-23T01:41:49.310420Z"
    }
   },
   "outputs": [],
   "source": [
    "d1D.dims = [\"q\"]  # change the list of dim names."
   ]
  },
  {
   "cell_type": "code",
   "execution_count": 14,
   "id": "f114cd5e",
   "metadata": {
    "execution": {
     "iopub.execute_input": "2025-03-23T01:41:49.312790Z",
     "iopub.status.busy": "2025-03-23T01:41:49.312424Z",
     "iopub.status.idle": "2025-03-23T01:41:49.316244Z",
     "shell.execute_reply": "2025-03-23T01:41:49.315779Z"
    }
   },
   "outputs": [
    {
     "data": {
      "text/plain": [
       "['q']"
      ]
     },
     "execution_count": 14,
     "metadata": {},
     "output_type": "execute_result"
    }
   ],
   "source": [
    "d1D.dims"
   ]
  },
  {
   "cell_type": "markdown",
   "id": "11019a00",
   "metadata": {},
   "source": [
    "### nD-Dataset (multidimensional dataset)"
   ]
  },
  {
   "cell_type": "markdown",
   "id": "d92c1642",
   "metadata": {},
   "source": [
    "To create a nD NDDataset, we can provide a nD-array like object to the NDDataset\n",
    "instance constructor"
   ]
  },
  {
   "cell_type": "code",
   "execution_count": 15,
   "id": "f221a895",
   "metadata": {
    "execution": {
     "iopub.execute_input": "2025-03-23T01:41:49.318071Z",
     "iopub.status.busy": "2025-03-23T01:41:49.317706Z",
     "iopub.status.idle": "2025-03-23T01:41:49.321924Z",
     "shell.execute_reply": "2025-03-23T01:41:49.321456Z"
    }
   },
   "outputs": [
    {
     "data": {
      "text/plain": [
       "array([[[  0.3369,  0.05231, ...,   0.1966,   0.9632],\n",
       "        [  0.9854,   0.3874, ...,   0.5618,   0.8939],\n",
       "        [   0.531,   0.3263, ...,   0.1999,   0.5257],\n",
       "        [  0.4342,    0.804, ...,   0.5103,    0.462]],\n",
       "\n",
       "       [[  0.1426,   0.4167, ...,   0.2737,   0.1098],\n",
       "        [  0.8346,   0.4662, ...,    0.324,  0.08045],\n",
       "        [  0.3628,   0.8164, ...,     0.13,   0.5417],\n",
       "        [  0.5358,   0.5377, ...,   0.4398,   0.7871]]])"
      ]
     },
     "execution_count": 15,
     "metadata": {},
     "output_type": "execute_result"
    }
   ],
   "source": [
    "a = np.random.rand(2, 4, 6)\n",
    "a"
   ]
  },
  {
   "cell_type": "code",
   "execution_count": 16,
   "id": "9ebfc6a7",
   "metadata": {
    "execution": {
     "iopub.execute_input": "2025-03-23T01:41:49.323751Z",
     "iopub.status.busy": "2025-03-23T01:41:49.323335Z",
     "iopub.status.idle": "2025-03-23T01:41:49.330346Z",
     "shell.execute_reply": "2025-03-23T01:41:49.329866Z"
    }
   },
   "outputs": [
    {
     "data": {
      "text/html": [
       "<div class='scp-output'><details><summary>NDDataset: [float64] unitless (shape: (u:2, v:4, t:6))[3D dataset creation]</summary><div class=\"scp-output section\"><details><summary>Summary</summary>\n",
       "<div class=\"scp-output section\"><div class=\"attr-name\">         name</div><div>:</div><div class=\"attr-value\"> 3D dataset creation</div></div>\n",
       "<div class=\"scp-output section\"><div class=\"attr-name\">       author</div><div>:</div><div class=\"attr-value\"> Someone</div></div>\n",
       "<div class=\"scp-output section\"><div class=\"attr-name\">      created</div><div>:</div><div class=\"attr-value\"> 2025-03-23 01:41:49+00:00</div></div>\n",
       "<div class=\"scp-output section\"><div class=\"attr-name\">  description</div><div>:</div><div class=\"attr-value\"> <div>Some example</div></div></div>\n",
       "<div class=\"scp-output section\"><div class=\"attr-name\">      history</div><div>:</div><div class=\"attr-value\"> <div>2025-03-23 01:41:49+00:00> Created from scratch</div></div></div></details></div>\n",
       "<div class=\"scp-output section\"><details><summary>          Data </summary>\n",
       "<div class=\"scp-output section\"><div class=\"attr-name\">        title</div><div>:</div><div class=\"attr-value\"> energy</div></div>\n",
       "<div class=\"scp-output section\"><div class=\"attr-name\">       values</div><div>:</div><div class=\"attr-value\"> ... </div></div>\n",
       "<div class='numeric'>         [[[  0.3369  0.05231 ...   0.1966   0.9632]<br/>           [  0.9854   0.3874 ...   0.5618   0.8939]<br/>           [   0.531   0.3263 ...   0.1999   0.5257]<br/>           [  0.4342    0.804 ...   0.5103    0.462]]<br/><br/>          [[  0.1426   0.4167 ...   0.2737   0.1098]<br/>           [  0.8346   0.4662 ...    0.324  0.08045]<br/>           [  0.3628   0.8164 ...     0.13   0.5417]<br/>           [  0.5358   0.5377 ...   0.4398   0.7871]]]</div>\n",
       "<div class=\"scp-output section\"><div class=\"attr-name\">        shape</div><div>:</div><div class=\"attr-value\"> (u:2, v:4, t:6)</div></div></details></div></details></div>"
      ],
      "text/plain": [
       "NDDataset: [float64] unitless (shape: (u:2, v:4, t:6))"
      ]
     },
     "execution_count": 16,
     "metadata": {},
     "output_type": "execute_result"
    }
   ],
   "source": [
    "d3D = NDDataset(a)\n",
    "d3D.title = \"energy\"\n",
    "d3D.author = \"Someone\"\n",
    "d3D.name = \"3D dataset creation\"\n",
    "d3D.history = \"created from scratch\"\n",
    "d3D.description = \"Some example\"\n",
    "d3D.dims = [\"u\", \"v\", \"t\"]\n",
    "d3D"
   ]
  },
  {
   "cell_type": "markdown",
   "id": "a45b8e23",
   "metadata": {},
   "source": [
    "We can also add all information in a single statement"
   ]
  },
  {
   "cell_type": "code",
   "execution_count": 17,
   "id": "3584462e",
   "metadata": {
    "execution": {
     "iopub.execute_input": "2025-03-23T01:41:49.332334Z",
     "iopub.status.busy": "2025-03-23T01:41:49.331975Z",
     "iopub.status.idle": "2025-03-23T01:41:49.338269Z",
     "shell.execute_reply": "2025-03-23T01:41:49.337813Z"
    }
   },
   "outputs": [
    {
     "data": {
      "text/html": [
       "<div class='scp-output'><details><summary>NDDataset: [float64] unitless (shape: (u:2, v:4, t:6))[3D_dataset]</summary><div class=\"scp-output section\"><details><summary>Summary</summary>\n",
       "<div class=\"scp-output section\"><div class=\"attr-name\">         name</div><div>:</div><div class=\"attr-value\"> 3D_dataset</div></div>\n",
       "<div class=\"scp-output section\"><div class=\"attr-name\">       author</div><div>:</div><div class=\"attr-value\"> Someone</div></div>\n",
       "<div class=\"scp-output section\"><div class=\"attr-name\">      created</div><div>:</div><div class=\"attr-value\"> 2025-03-23 01:41:49+00:00</div></div>\n",
       "<div class=\"scp-output section\"><div class=\"attr-name\">  description</div><div>:</div><div class=\"attr-value\"> <div>a single statement creation example</div></div></div>\n",
       "<div class=\"scp-output section\"><div class=\"attr-name\">      history</div><div>:</div><div class=\"attr-value\"> <div>2025-03-23 01:41:49+00:00> Created from scratch</div></div></div></details></div>\n",
       "<div class=\"scp-output section\"><details><summary>          Data </summary>\n",
       "<div class=\"scp-output section\"><div class=\"attr-name\">        title</div><div>:</div><div class=\"attr-value\"> Energy</div></div>\n",
       "<div class=\"scp-output section\"><div class=\"attr-name\">       values</div><div>:</div><div class=\"attr-value\"> ... </div></div>\n",
       "<div class='numeric'>         [[[  0.3369  0.05231 ...   0.1966   0.9632]<br/>           [  0.9854   0.3874 ...   0.5618   0.8939]<br/>           [   0.531   0.3263 ...   0.1999   0.5257]<br/>           [  0.4342    0.804 ...   0.5103    0.462]]<br/><br/>          [[  0.1426   0.4167 ...   0.2737   0.1098]<br/>           [  0.8346   0.4662 ...    0.324  0.08045]<br/>           [  0.3628   0.8164 ...     0.13   0.5417]<br/>           [  0.5358   0.5377 ...   0.4398   0.7871]]]</div>\n",
       "<div class=\"scp-output section\"><div class=\"attr-name\">        shape</div><div>:</div><div class=\"attr-value\"> (u:2, v:4, t:6)</div></div></details></div></details></div>"
      ],
      "text/plain": [
       "NDDataset: [float64] unitless (shape: (u:2, v:4, t:6))"
      ]
     },
     "execution_count": 17,
     "metadata": {},
     "output_type": "execute_result"
    }
   ],
   "source": [
    "d3D = NDDataset(\n",
    "    a,\n",
    "    dims=[\"u\", \"v\", \"t\"],\n",
    "    title=\"Energy\",\n",
    "    author=\"Someone\",\n",
    "    name=\"3D_dataset\",\n",
    "    history=\"created from scratch\",\n",
    "    description=\"a single statement creation example\",\n",
    ")\n",
    "d3D"
   ]
  },
  {
   "cell_type": "markdown",
   "id": "ceb9aac2",
   "metadata": {},
   "source": [
    "Three names are attributed at creation (if they are not provided with the `dims`\n",
    "attribute, then the names\n",
    "'z','y','x' are automatically attributed)"
   ]
  },
  {
   "cell_type": "code",
   "execution_count": 18,
   "id": "0a07e8c2",
   "metadata": {
    "execution": {
     "iopub.execute_input": "2025-03-23T01:41:49.340127Z",
     "iopub.status.busy": "2025-03-23T01:41:49.339781Z",
     "iopub.status.idle": "2025-03-23T01:41:49.343560Z",
     "shell.execute_reply": "2025-03-23T01:41:49.343011Z"
    }
   },
   "outputs": [
    {
     "data": {
      "text/plain": [
       "['u', 'v', 't']"
      ]
     },
     "execution_count": 18,
     "metadata": {},
     "output_type": "execute_result"
    }
   ],
   "source": [
    "d3D.dims"
   ]
  },
  {
   "cell_type": "code",
   "execution_count": 19,
   "id": "0f076857",
   "metadata": {
    "execution": {
     "iopub.execute_input": "2025-03-23T01:41:49.345381Z",
     "iopub.status.busy": "2025-03-23T01:41:49.345062Z",
     "iopub.status.idle": "2025-03-23T01:41:49.348697Z",
     "shell.execute_reply": "2025-03-23T01:41:49.348163Z"
    }
   },
   "outputs": [
    {
     "data": {
      "text/plain": [
       "3"
      ]
     },
     "execution_count": 19,
     "metadata": {},
     "output_type": "execute_result"
    }
   ],
   "source": [
    "d3D.ndim"
   ]
  },
  {
   "cell_type": "code",
   "execution_count": 20,
   "id": "13374c18",
   "metadata": {
    "execution": {
     "iopub.execute_input": "2025-03-23T01:41:49.350659Z",
     "iopub.status.busy": "2025-03-23T01:41:49.350382Z",
     "iopub.status.idle": "2025-03-23T01:41:49.354099Z",
     "shell.execute_reply": "2025-03-23T01:41:49.353536Z"
    }
   },
   "outputs": [
    {
     "data": {
      "text/plain": [
       "(2, 4, 6)"
      ]
     },
     "execution_count": 20,
     "metadata": {},
     "output_type": "execute_result"
    }
   ],
   "source": [
    "d3D.shape"
   ]
  },
  {
   "cell_type": "markdown",
   "id": "b0ed6b02",
   "metadata": {},
   "source": [
    "## About dates and times\n",
    "The dates and times are stored internally as\n",
    "[UTC (Coordinated Universal Time)](https://en.wikipedia.org/wiki/Coordinated_Universal_Time).\n",
    "Timezone information is stored in the timezone attribute.\n",
    "If not set, the default is to use the local timezone,\n",
    "which is probably the most common case."
   ]
  },
  {
   "cell_type": "code",
   "execution_count": 21,
   "id": "ef63d698",
   "metadata": {
    "execution": {
     "iopub.execute_input": "2025-03-23T01:41:49.355904Z",
     "iopub.status.busy": "2025-03-23T01:41:49.355580Z",
     "iopub.status.idle": "2025-03-23T01:41:49.359565Z",
     "shell.execute_reply": "2025-03-23T01:41:49.359026Z"
    }
   },
   "outputs": [
    {
     "data": {
      "text/plain": [
       "'2025-03-23 01:41:49+00:00'"
      ]
     },
     "execution_count": 21,
     "metadata": {},
     "output_type": "execute_result"
    }
   ],
   "source": [
    "nd = NDDataset()\n",
    "nd.created"
   ]
  },
  {
   "cell_type": "markdown",
   "id": "7afbc1be",
   "metadata": {},
   "source": [
    "In this case our local timezone has been used by default for the conversion from\n",
    "UTC datetime."
   ]
  },
  {
   "cell_type": "code",
   "execution_count": 22,
   "id": "857dd2a9",
   "metadata": {
    "execution": {
     "iopub.execute_input": "2025-03-23T01:41:49.361335Z",
     "iopub.status.busy": "2025-03-23T01:41:49.361024Z",
     "iopub.status.idle": "2025-03-23T01:41:49.364585Z",
     "shell.execute_reply": "2025-03-23T01:41:49.364040Z"
    }
   },
   "outputs": [
    {
     "data": {
      "text/plain": [
       "'Etc/UTC'"
      ]
     },
     "execution_count": 22,
     "metadata": {},
     "output_type": "execute_result"
    }
   ],
   "source": [
    "nd.local_timezone"
   ]
  },
  {
   "cell_type": "code",
   "execution_count": 23,
   "id": "5f036605",
   "metadata": {
    "execution": {
     "iopub.execute_input": "2025-03-23T01:41:49.366434Z",
     "iopub.status.busy": "2025-03-23T01:41:49.366147Z",
     "iopub.status.idle": "2025-03-23T01:41:49.392315Z",
     "shell.execute_reply": "2025-03-23T01:41:49.391732Z"
    }
   },
   "outputs": [
    {
     "data": {
      "text/plain": [
       "'2025-03-22 20:41:49-05:00'"
      ]
     },
     "execution_count": 23,
     "metadata": {},
     "output_type": "execute_result"
    }
   ],
   "source": [
    "nd.timezone = \"EST\"\n",
    "nd.created"
   ]
  },
  {
   "cell_type": "markdown",
   "id": "78194a03",
   "metadata": {},
   "source": [
    "For a list of timezone code (TZ) you can have a look at\n",
    "[List_of_tz_database_time_zones](\n",
    "https://en.wikipedia.org/wiki/List_of_tz_database_time_zones)."
   ]
  },
  {
   "cell_type": "markdown",
   "id": "2844f49e",
   "metadata": {},
   "source": [
    "## About the `history` attribute"
   ]
  },
  {
   "cell_type": "markdown",
   "id": "8d015d0d",
   "metadata": {},
   "source": [
    "The history is saved internally as a list, but it has a different behavior than\n",
    "the usual list.\n",
    "The first time a NDDataset is created, the list is empty."
   ]
  },
  {
   "cell_type": "code",
   "execution_count": 24,
   "id": "130f04ab",
   "metadata": {
    "execution": {
     "iopub.execute_input": "2025-03-23T01:41:49.394425Z",
     "iopub.status.busy": "2025-03-23T01:41:49.393954Z",
     "iopub.status.idle": "2025-03-23T01:41:49.398026Z",
     "shell.execute_reply": "2025-03-23T01:41:49.397565Z"
    }
   },
   "outputs": [
    {
     "data": {
      "text/plain": [
       "[]"
      ]
     },
     "execution_count": 24,
     "metadata": {},
     "output_type": "execute_result"
    }
   ],
   "source": [
    "nd = NDDataset()\n",
    "nd.history"
   ]
  },
  {
   "cell_type": "markdown",
   "id": "f86bf0a2",
   "metadata": {},
   "source": [
    "Assigning a string to the history attribute has two effects. First,\n",
    "the string is appended automatically to the previous history list, and second, it is\n",
    "preceded by the time it was added."
   ]
  },
  {
   "cell_type": "code",
   "execution_count": 25,
   "id": "51121838",
   "metadata": {
    "execution": {
     "iopub.execute_input": "2025-03-23T01:41:49.399670Z",
     "iopub.status.busy": "2025-03-23T01:41:49.399489Z",
     "iopub.status.idle": "2025-03-23T01:41:49.403434Z",
     "shell.execute_reply": "2025-03-23T01:41:49.403001Z"
    }
   },
   "outputs": [
    {
     "data": {
      "text/plain": [
       "['2025-03-23 01:41:49+00:00> Some history',\n",
       " '2025-03-23 01:41:49+00:00> Another history to append',\n",
       " '2025-03-23 01:41:49+00:00> ...']"
      ]
     },
     "execution_count": 25,
     "metadata": {},
     "output_type": "execute_result"
    }
   ],
   "source": [
    "nd.history = \"some history\"\n",
    "nd.history = \"another history to append\"\n",
    "nd.history = \"...\"\n",
    "nd.history"
   ]
  },
  {
   "cell_type": "markdown",
   "id": "e15344a1",
   "metadata": {},
   "source": [
    "If you want to erase the history, assign an empty list"
   ]
  },
  {
   "cell_type": "code",
   "execution_count": 26,
   "id": "02eaa80b",
   "metadata": {
    "execution": {
     "iopub.execute_input": "2025-03-23T01:41:49.405296Z",
     "iopub.status.busy": "2025-03-23T01:41:49.404850Z",
     "iopub.status.idle": "2025-03-23T01:41:49.408695Z",
     "shell.execute_reply": "2025-03-23T01:41:49.408144Z"
    }
   },
   "outputs": [
    {
     "data": {
      "text/plain": [
       "[]"
      ]
     },
     "execution_count": 26,
     "metadata": {},
     "output_type": "execute_result"
    }
   ],
   "source": [
    "nd.history = []\n",
    "nd.history"
   ]
  },
  {
   "cell_type": "markdown",
   "id": "ab915661",
   "metadata": {},
   "source": [
    "If you want to replace the full history, use brackets around your history line:"
   ]
  },
  {
   "cell_type": "code",
   "execution_count": 27,
   "id": "80ea93ae",
   "metadata": {
    "execution": {
     "iopub.execute_input": "2025-03-23T01:41:49.410751Z",
     "iopub.status.busy": "2025-03-23T01:41:49.410463Z",
     "iopub.status.idle": "2025-03-23T01:41:49.414444Z",
     "shell.execute_reply": "2025-03-23T01:41:49.413888Z"
    }
   },
   "outputs": [
    {
     "data": {
      "text/plain": [
       "['2025-03-23 01:41:49+00:00> A more interesting message']"
      ]
     },
     "execution_count": 27,
     "metadata": {},
     "output_type": "execute_result"
    }
   ],
   "source": [
    "nd.history = \"Created form scratch\"\n",
    "nd.history = \"a second ligne that will be erased\"\n",
    "nd.history = [\"A more interesting message\"]\n",
    "nd.history"
   ]
  },
  {
   "cell_type": "markdown",
   "id": "ec799222",
   "metadata": {},
   "source": [
    "## Units"
   ]
  },
  {
   "cell_type": "markdown",
   "id": "bcdfb88a",
   "metadata": {},
   "source": [
    "One interesting feature of NDDataset is the ability to define units for the internal\n",
    "data."
   ]
  },
  {
   "cell_type": "code",
   "execution_count": 28,
   "id": "3fc3160f",
   "metadata": {
    "execution": {
     "iopub.execute_input": "2025-03-23T01:41:49.416340Z",
     "iopub.status.busy": "2025-03-23T01:41:49.416003Z",
     "iopub.status.idle": "2025-03-23T01:41:49.418673Z",
     "shell.execute_reply": "2025-03-23T01:41:49.418249Z"
    }
   },
   "outputs": [],
   "source": [
    "d1D.units = ur.eV  # ur is a registry containing all available units"
   ]
  },
  {
   "cell_type": "code",
   "execution_count": 29,
   "id": "eb1c9a9e",
   "metadata": {
    "execution": {
     "iopub.execute_input": "2025-03-23T01:41:49.420304Z",
     "iopub.status.busy": "2025-03-23T01:41:49.420124Z",
     "iopub.status.idle": "2025-03-23T01:41:49.425091Z",
     "shell.execute_reply": "2025-03-23T01:41:49.424641Z"
    }
   },
   "outputs": [
    {
     "data": {
      "text/html": [
       "<div class='scp-output'><details><summary>NDDataset: [float64] eV (size: 3)[mydataset]</summary><div class=\"scp-output section\"><details><summary>Summary</summary>\n",
       "<div class=\"scp-output section\"><div class=\"attr-name\">         name</div><div>:</div><div class=\"attr-value\"> mydataset</div></div>\n",
       "<div class=\"scp-output section\"><div class=\"attr-name\">       author</div><div>:</div><div class=\"attr-value\"> Blake and Mortimer</div></div>\n",
       "<div class=\"scp-output section\"><div class=\"attr-name\">      created</div><div>:</div><div class=\"attr-value\"> 2025-03-23 01:41:49+00:00</div></div>\n",
       "<div class=\"scp-output section\"><div class=\"attr-name\">  description</div><div>:</div><div class=\"attr-value\"> <div>Some experimental measurements</div></div></div>\n",
       "<div class=\"scp-output section\"><div class=\"attr-name\">      history</div><div>:</div><div class=\"attr-value\"> <div>2025-03-23 01:41:49+00:00> Creation<br/>               2025-03-23 01:41:49+00:00> Inplace binary op: iadd  with `Dataset N1` <br/>               2025-03-23 01:41:49+00:00> Created from scratch</div></div></div></details></div>\n",
       "<div class=\"scp-output section\"><details><summary>          Data </summary>\n",
       "<div class=\"scp-output section\"><div class=\"attr-name\">        title</div><div>:</div><div class=\"attr-value\"> intensity</div></div>\n",
       "<div class=\"scp-output section\"><div class=\"attr-name\">       values</div><div>:</div><div class=\"attr-value\"> ... </div></div>\n",
       "<div class='numeric'>         [      15       30       45] eV</div>\n",
       "<div class=\"scp-output section\"><div class=\"attr-name\">         size</div><div>:</div><div class=\"attr-value\"> 3</div></div></details></div></details></div>"
      ],
      "text/plain": [
       "NDDataset: [float64] eV (size: 3)"
      ]
     },
     "execution_count": 29,
     "metadata": {},
     "output_type": "execute_result"
    }
   ],
   "source": [
    "d1D  # note the eV symbol of the units added to the values field below"
   ]
  },
  {
   "cell_type": "markdown",
   "id": "b28f72e3",
   "metadata": {},
   "source": [
    "This allows to make units-aware calculations:"
   ]
  },
  {
   "cell_type": "code",
   "execution_count": 30,
   "id": "54ae188c",
   "metadata": {
    "execution": {
     "iopub.execute_input": "2025-03-23T01:41:49.426903Z",
     "iopub.status.busy": "2025-03-23T01:41:49.426719Z",
     "iopub.status.idle": "2025-03-23T01:41:49.433492Z",
     "shell.execute_reply": "2025-03-23T01:41:49.432923Z"
    }
   },
   "outputs": [
    {
     "data": {
      "text/html": [
       "<div class='scp-output'><details><summary>NDDataset: [float64] eV² (size: 3)[mydataset]</summary><div class=\"scp-output section\"><details><summary>Summary</summary>\n",
       "<div class=\"scp-output section\"><div class=\"attr-name\">         name</div><div>:</div><div class=\"attr-value\"> mydataset</div></div>\n",
       "<div class=\"scp-output section\"><div class=\"attr-name\">       author</div><div>:</div><div class=\"attr-value\"> Blake and Mortimer</div></div>\n",
       "<div class=\"scp-output section\"><div class=\"attr-name\">      created</div><div>:</div><div class=\"attr-value\"> 2025-03-23 01:41:49+00:00</div></div>\n",
       "<div class=\"scp-output section\"><div class=\"attr-name\">  description</div><div>:</div><div class=\"attr-value\"> <div>Some experimental measurements</div></div></div>\n",
       "<div class=\"scp-output section\"><div class=\"attr-name\">      history</div><div>:</div><div class=\"attr-value\"> <div>2025-03-23 01:41:49+00:00> Creation<br/>               2025-03-23 01:41:49+00:00> Inplace binary op: iadd  with `Dataset N1` <br/>               2025-03-23 01:41:49+00:00> Created from scratch<br/>               2025-03-23 01:41:49+00:00> Binary operation pow with `2` has been performed</div></div></div></details></div>\n",
       "<div class=\"scp-output section\"><details><summary>          Data </summary>\n",
       "<div class=\"scp-output section\"><div class=\"attr-name\">        title</div><div>:</div><div class=\"attr-value\"> intensity</div></div>\n",
       "<div class=\"scp-output section\"><div class=\"attr-name\">       values</div><div>:</div><div class=\"attr-value\"> ... </div></div>\n",
       "<div class='numeric'>         [     225      900     2025] eV²</div>\n",
       "<div class=\"scp-output section\"><div class=\"attr-name\">         size</div><div>:</div><div class=\"attr-value\"> 3</div></div></details></div></details></div>"
      ],
      "text/plain": [
       "NDDataset: [float64] eV² (size: 3)"
      ]
     },
     "execution_count": 30,
     "metadata": {},
     "output_type": "execute_result"
    }
   ],
   "source": [
    "d1D**2  # note the results in eV^2"
   ]
  },
  {
   "cell_type": "code",
   "execution_count": 31,
   "id": "278e54a4",
   "metadata": {
    "execution": {
     "iopub.execute_input": "2025-03-23T01:41:49.435260Z",
     "iopub.status.busy": "2025-03-23T01:41:49.435072Z",
     "iopub.status.idle": "2025-03-23T01:41:49.441793Z",
     "shell.execute_reply": "2025-03-23T01:41:49.441257Z"
    }
   },
   "outputs": [
    {
     "data": {
      "text/html": [
       "<div class='scp-output'><details><summary>NDDataset: [float64] eV⁰⋅⁵ (size: 3)[mydataset]</summary><div class=\"scp-output section\"><details><summary>Summary</summary>\n",
       "<div class=\"scp-output section\"><div class=\"attr-name\">         name</div><div>:</div><div class=\"attr-value\"> mydataset</div></div>\n",
       "<div class=\"scp-output section\"><div class=\"attr-name\">       author</div><div>:</div><div class=\"attr-value\"> Blake and Mortimer</div></div>\n",
       "<div class=\"scp-output section\"><div class=\"attr-name\">      created</div><div>:</div><div class=\"attr-value\"> 2025-03-23 01:41:49+00:00</div></div>\n",
       "<div class=\"scp-output section\"><div class=\"attr-name\">  description</div><div>:</div><div class=\"attr-value\"> <div>Some experimental measurements</div></div></div>\n",
       "<div class=\"scp-output section\"><div class=\"attr-name\">      history</div><div>:</div><div class=\"attr-value\"> <div>2025-03-23 01:41:49+00:00> Creation<br/>               2025-03-23 01:41:49+00:00> Inplace binary op: iadd  with `Dataset N1` <br/>               2025-03-23 01:41:49+00:00> Created from scratch<br/>               2025-03-23 01:41:49+00:00> Ufunc sqrt applied.</div></div></div></details></div>\n",
       "<div class=\"scp-output section\"><details><summary>          Data </summary>\n",
       "<div class=\"scp-output section\"><div class=\"attr-name\">        title</div><div>:</div><div class=\"attr-value\"> sqrt(intensity)</div></div>\n",
       "<div class=\"scp-output section\"><div class=\"attr-name\">       values</div><div>:</div><div class=\"attr-value\"> ... </div></div>\n",
       "<div class='numeric'>         [   3.873    5.477    6.708] eV⁰⋅⁵</div>\n",
       "<div class=\"scp-output section\"><div class=\"attr-name\">         size</div><div>:</div><div class=\"attr-value\"> 3</div></div></details></div></details></div>"
      ],
      "text/plain": [
       "NDDataset: [float64] eV⁰⋅⁵ (size: 3)"
      ]
     },
     "execution_count": 31,
     "metadata": {},
     "output_type": "execute_result"
    }
   ],
   "source": [
    "np.sqrt(d1D)  # note the result in e^0.5"
   ]
  },
  {
   "cell_type": "code",
   "execution_count": 32,
   "id": "ba38ba4e",
   "metadata": {
    "execution": {
     "iopub.execute_input": "2025-03-23T01:41:49.443741Z",
     "iopub.status.busy": "2025-03-23T01:41:49.443415Z",
     "iopub.status.idle": "2025-03-23T01:41:49.450547Z",
     "shell.execute_reply": "2025-03-23T01:41:49.450068Z"
    }
   },
   "outputs": [
    {
     "data": {
      "text/html": [
       "<div class='scp-output'><details><summary>NDDataset: [float64] eV⋅s⁻¹ (size: 3)[mydataset]</summary><div class=\"scp-output section\"><details><summary>Summary</summary>\n",
       "<div class=\"scp-output section\"><div class=\"attr-name\">         name</div><div>:</div><div class=\"attr-value\"> mydataset</div></div>\n",
       "<div class=\"scp-output section\"><div class=\"attr-name\">       author</div><div>:</div><div class=\"attr-value\"> Blake and Mortimer</div></div>\n",
       "<div class=\"scp-output section\"><div class=\"attr-name\">      created</div><div>:</div><div class=\"attr-value\"> 2025-03-23 01:41:49+00:00</div></div>\n",
       "<div class=\"scp-output section\"><div class=\"attr-name\">  description</div><div>:</div><div class=\"attr-value\"> <div>Some experimental measurements</div></div></div>\n",
       "<div class=\"scp-output section\"><div class=\"attr-name\">      history</div><div>:</div><div class=\"attr-value\"> <div>2025-03-23 01:41:49+00:00> Creation<br/>               2025-03-23 01:41:49+00:00> Inplace binary op: iadd  with `Dataset N1` <br/>               2025-03-23 01:41:49+00:00> Created from scratch<br/>               2025-03-23 01:41:49+00:00> Binary operation truediv with `5.0 s` has been performed</div></div></div></details></div>\n",
       "<div class=\"scp-output section\"><details><summary>          Data </summary>\n",
       "<div class=\"scp-output section\"><div class=\"attr-name\">        title</div><div>:</div><div class=\"attr-value\"> intensity</div></div>\n",
       "<div class=\"scp-output section\"><div class=\"attr-name\">       values</div><div>:</div><div class=\"attr-value\"> ... </div></div>\n",
       "<div class='numeric'>         [       3        6        9] eV⋅s⁻¹</div>\n",
       "<div class=\"scp-output section\"><div class=\"attr-name\">         size</div><div>:</div><div class=\"attr-value\"> 3</div></div></details></div></details></div>"
      ],
      "text/plain": [
       "NDDataset: [float64] eV⋅s⁻¹ (size: 3)"
      ]
     },
     "execution_count": 32,
     "metadata": {},
     "output_type": "execute_result"
    }
   ],
   "source": [
    "time = 5.0 * ur.second\n",
    "d1D / time  # here we get results in eV/s"
   ]
  },
  {
   "cell_type": "markdown",
   "id": "191570f3",
   "metadata": {},
   "source": [
    "Conversion can be done between different units transparently"
   ]
  },
  {
   "cell_type": "code",
   "execution_count": 33,
   "id": "edfdbe33",
   "metadata": {
    "execution": {
     "iopub.execute_input": "2025-03-23T01:41:49.452270Z",
     "iopub.status.busy": "2025-03-23T01:41:49.452086Z",
     "iopub.status.idle": "2025-03-23T01:41:49.458921Z",
     "shell.execute_reply": "2025-03-23T01:41:49.458351Z"
    }
   },
   "outputs": [
    {
     "data": {
      "text/html": [
       "<div class='scp-output'><details><summary>NDDataset: [float64] J (size: 3)[mydataset]</summary><div class=\"scp-output section\"><details><summary>Summary</summary>\n",
       "<div class=\"scp-output section\"><div class=\"attr-name\">         name</div><div>:</div><div class=\"attr-value\"> mydataset</div></div>\n",
       "<div class=\"scp-output section\"><div class=\"attr-name\">       author</div><div>:</div><div class=\"attr-value\"> Blake and Mortimer</div></div>\n",
       "<div class=\"scp-output section\"><div class=\"attr-name\">      created</div><div>:</div><div class=\"attr-value\"> 2025-03-23 01:41:49+00:00</div></div>\n",
       "<div class=\"scp-output section\"><div class=\"attr-name\">  description</div><div>:</div><div class=\"attr-value\"> <div>Some experimental measurements</div></div></div>\n",
       "<div class=\"scp-output section\"><div class=\"attr-name\">      history</div><div>:</div><div class=\"attr-value\"> <div>2025-03-23 01:41:49+00:00> Creation<br/>               2025-03-23 01:41:49+00:00> Inplace binary op: iadd  with `Dataset N1` <br/>               2025-03-23 01:41:49+00:00> Created from scratch</div></div></div></details></div>\n",
       "<div class=\"scp-output section\"><details><summary>          Data </summary>\n",
       "<div class=\"scp-output section\"><div class=\"attr-name\">        title</div><div>:</div><div class=\"attr-value\"> intensity</div></div>\n",
       "<div class=\"scp-output section\"><div class=\"attr-name\">       values</div><div>:</div><div class=\"attr-value\"> ... </div></div>\n",
       "<div class='numeric'>         [2.403e-18 4.807e-18 7.21e-18] J</div>\n",
       "<div class=\"scp-output section\"><div class=\"attr-name\">         size</div><div>:</div><div class=\"attr-value\"> 3</div></div></details></div></details></div>"
      ],
      "text/plain": [
       "NDDataset: [float64] J (size: 3)"
      ]
     },
     "execution_count": 33,
     "metadata": {},
     "output_type": "execute_result"
    }
   ],
   "source": [
    "d1D.to(\"J\")"
   ]
  },
  {
   "cell_type": "code",
   "execution_count": 34,
   "id": "965fab48",
   "metadata": {
    "execution": {
     "iopub.execute_input": "2025-03-23T01:41:49.460891Z",
     "iopub.status.busy": "2025-03-23T01:41:49.460529Z",
     "iopub.status.idle": "2025-03-23T01:41:49.467416Z",
     "shell.execute_reply": "2025-03-23T01:41:49.466920Z"
    }
   },
   "outputs": [
    {
     "data": {
      "text/html": [
       "<div class='scp-output'><details><summary>NDDataset: [float64] K (size: 3)[mydataset]</summary><div class=\"scp-output section\"><details><summary>Summary</summary>\n",
       "<div class=\"scp-output section\"><div class=\"attr-name\">         name</div><div>:</div><div class=\"attr-value\"> mydataset</div></div>\n",
       "<div class=\"scp-output section\"><div class=\"attr-name\">       author</div><div>:</div><div class=\"attr-value\"> Blake and Mortimer</div></div>\n",
       "<div class=\"scp-output section\"><div class=\"attr-name\">      created</div><div>:</div><div class=\"attr-value\"> 2025-03-23 01:41:49+00:00</div></div>\n",
       "<div class=\"scp-output section\"><div class=\"attr-name\">  description</div><div>:</div><div class=\"attr-value\"> <div>Some experimental measurements</div></div></div>\n",
       "<div class=\"scp-output section\"><div class=\"attr-name\">      history</div><div>:</div><div class=\"attr-value\"> <div>2025-03-23 01:41:49+00:00> Creation<br/>               2025-03-23 01:41:49+00:00> Inplace binary op: iadd  with `Dataset N1` <br/>               2025-03-23 01:41:49+00:00> Created from scratch</div></div></div></details></div>\n",
       "<div class=\"scp-output section\"><details><summary>          Data </summary>\n",
       "<div class=\"scp-output section\"><div class=\"attr-name\">        title</div><div>:</div><div class=\"attr-value\"> intensity</div></div>\n",
       "<div class=\"scp-output section\"><div class=\"attr-name\">       values</div><div>:</div><div class=\"attr-value\"> ... </div></div>\n",
       "<div class='numeric'>         [1.741e+05 3.481e+05 5.222e+05] K</div>\n",
       "<div class=\"scp-output section\"><div class=\"attr-name\">         size</div><div>:</div><div class=\"attr-value\"> 3</div></div></details></div></details></div>"
      ],
      "text/plain": [
       "NDDataset: [float64] K (size: 3)"
      ]
     },
     "execution_count": 34,
     "metadata": {},
     "output_type": "execute_result"
    }
   ],
   "source": [
    "d1D.to(\"K\")"
   ]
  },
  {
   "cell_type": "markdown",
   "id": "1471d1f1",
   "metadata": {},
   "source": [
    "For more examples on how to use units with NDDataset, see the\n",
    "[gallery example](../../../gettingstarted/examples/gallery/auto_examples_core/a_nddataset/plot_c_units.html)"
   ]
  },
  {
   "cell_type": "markdown",
   "id": "56f17271",
   "metadata": {},
   "source": [
    "## Coordinates"
   ]
  },
  {
   "cell_type": "markdown",
   "id": "9b860fd6",
   "metadata": {},
   "source": [
    "The above created `d3D` dataset has 3 dimensions, but no coordinates for these\n",
    "dimensions. Here arises a big difference\n",
    "with simple `numpy` arrays:\n",
    "* We can add coordinates to each dimension of a NDDataset."
   ]
  },
  {
   "cell_type": "markdown",
   "id": "b2cead35",
   "metadata": {},
   "source": [
    "To get the list of all defined coordinates, we can use the `coords` attribute:"
   ]
  },
  {
   "cell_type": "code",
   "execution_count": 35,
   "id": "da2f8bf2",
   "metadata": {
    "execution": {
     "iopub.execute_input": "2025-03-23T01:41:49.469392Z",
     "iopub.status.busy": "2025-03-23T01:41:49.469030Z",
     "iopub.status.idle": "2025-03-23T01:41:49.471632Z",
     "shell.execute_reply": "2025-03-23T01:41:49.471206Z"
    }
   },
   "outputs": [],
   "source": [
    "d3D.coordset  # no coordinates, so it returns nothing (None)"
   ]
  },
  {
   "cell_type": "code",
   "execution_count": 36,
   "id": "744f2557",
   "metadata": {
    "execution": {
     "iopub.execute_input": "2025-03-23T01:41:49.473273Z",
     "iopub.status.busy": "2025-03-23T01:41:49.473089Z",
     "iopub.status.idle": "2025-03-23T01:41:49.475570Z",
     "shell.execute_reply": "2025-03-23T01:41:49.475138Z"
    }
   },
   "outputs": [],
   "source": [
    "d3D.t  # the same for coordinate  t, v, u which are not yet set"
   ]
  },
  {
   "cell_type": "markdown",
   "id": "d3c4ae04",
   "metadata": {},
   "source": [
    "To add coordinates, one way is to set them one by one:"
   ]
  },
  {
   "cell_type": "code",
   "execution_count": 37,
   "id": "29fae101",
   "metadata": {
    "execution": {
     "iopub.execute_input": "2025-03-23T01:41:49.477182Z",
     "iopub.status.busy": "2025-03-23T01:41:49.477000Z",
     "iopub.status.idle": "2025-03-23T01:41:49.488301Z",
     "shell.execute_reply": "2025-03-23T01:41:49.487696Z"
    }
   },
   "outputs": [
    {
     "data": {
      "text/html": [
       "<div class='scp-output'><details><summary>CoordSet: [t:time, u:<untitled>, v:<untitled>][CoordSet_fcbc848b]</summary><div class=\"scp-output section\"><details><summary>     Dimension `t`</summary>\n",
       "<div class=\"scp-output section\"><div class=\"attr-name\">         size</div><div>:</div><div class=\"attr-value\"> 6</div></div>\n",
       "<div class=\"scp-output section\"><div class=\"attr-name\">        title</div><div>:</div><div class=\"attr-value\"> time</div></div>\n",
       "<div class=\"scp-output section\"><div class=\"attr-name\">  coordinates</div><div>:</div><div class=\"attr-value\"> <div class='numeric'>[       0      0.1      0.2      0.3      0.4      0.5] s</div></div></div></details></div></details></div>"
      ],
      "text/plain": [
       "CoordSet: [t:time, u:<untitled>, v:<untitled>]"
      ]
     },
     "execution_count": 37,
     "metadata": {},
     "output_type": "execute_result"
    }
   ],
   "source": [
    "d3D.t = (\n",
    "    Coord.arange(6) * 0.1\n",
    ")  # we need a sequence of 6 values for `t` dimension (see shape above)\n",
    "d3D.t.title = \"time\"\n",
    "d3D.t.units = ur.seconds\n",
    "d3D.coordset  # now return a list of coordinates"
   ]
  },
  {
   "cell_type": "code",
   "execution_count": 38,
   "id": "a804b4af",
   "metadata": {
    "execution": {
     "iopub.execute_input": "2025-03-23T01:41:49.490046Z",
     "iopub.status.busy": "2025-03-23T01:41:49.489805Z",
     "iopub.status.idle": "2025-03-23T01:41:49.494591Z",
     "shell.execute_reply": "2025-03-23T01:41:49.494036Z"
    }
   },
   "outputs": [
    {
     "data": {
      "text/html": [
       "<div class='scp-output'><details><summary>Coord: [float64] s (size: 6)[t]</summary><div class=\"scp-output section\"><details><summary>Summary</summary>\n",
       "<div class=\"scp-output section\"><div class=\"attr-name\">         size</div><div>:</div><div class=\"attr-value\"> 6</div></div>\n",
       "<div class=\"scp-output section\"><div class=\"attr-name\">        title</div><div>:</div><div class=\"attr-value\"> time</div></div>\n",
       "<div class=\"scp-output section\"><div class=\"attr-name\">  coordinates</div><div>:</div><div class=\"attr-value\"> <div class='numeric'>[       0      0.1      0.2      0.3      0.4      0.5] s</div></div></div></details></div></details></div>"
      ],
      "text/plain": [
       "Coord: [float64] s (size: 6)"
      ]
     },
     "execution_count": 38,
     "metadata": {},
     "output_type": "execute_result"
    }
   ],
   "source": [
    "d3D.t"
   ]
  },
  {
   "cell_type": "code",
   "execution_count": 39,
   "id": "d980ce1d",
   "metadata": {
    "execution": {
     "iopub.execute_input": "2025-03-23T01:41:49.496351Z",
     "iopub.status.busy": "2025-03-23T01:41:49.496059Z",
     "iopub.status.idle": "2025-03-23T01:41:49.500559Z",
     "shell.execute_reply": "2025-03-23T01:41:49.500125Z"
    }
   },
   "outputs": [
    {
     "data": {
      "text/html": [
       "<div class='scp-output'><details><summary>Coord: [float64] s (size: 6)[t]</summary><div class=\"scp-output section\"><details><summary>Summary</summary>\n",
       "<div class=\"scp-output section\"><div class=\"attr-name\">         size</div><div>:</div><div class=\"attr-value\"> 6</div></div>\n",
       "<div class=\"scp-output section\"><div class=\"attr-name\">        title</div><div>:</div><div class=\"attr-value\"> time</div></div>\n",
       "<div class=\"scp-output section\"><div class=\"attr-name\">  coordinates</div><div>:</div><div class=\"attr-value\"> <div class='numeric'>[       0      0.1      0.2      0.3      0.4      0.5] s</div></div></div></details></div></details></div>"
      ],
      "text/plain": [
       "Coord: [float64] s (size: 6)"
      ]
     },
     "execution_count": 39,
     "metadata": {},
     "output_type": "execute_result"
    }
   ],
   "source": [
    "d3D.coordset(\"t\")  # Alternative way to get a given coordinates"
   ]
  },
  {
   "cell_type": "code",
   "execution_count": 40,
   "id": "b674cb14",
   "metadata": {
    "execution": {
     "iopub.execute_input": "2025-03-23T01:41:49.502495Z",
     "iopub.status.busy": "2025-03-23T01:41:49.502075Z",
     "iopub.status.idle": "2025-03-23T01:41:49.506616Z",
     "shell.execute_reply": "2025-03-23T01:41:49.506170Z"
    }
   },
   "outputs": [
    {
     "data": {
      "text/html": [
       "<div class='scp-output'><details><summary>Coord: [float64] s (size: 6)[t]</summary><div class=\"scp-output section\"><details><summary>Summary</summary>\n",
       "<div class=\"scp-output section\"><div class=\"attr-name\">         size</div><div>:</div><div class=\"attr-value\"> 6</div></div>\n",
       "<div class=\"scp-output section\"><div class=\"attr-name\">        title</div><div>:</div><div class=\"attr-value\"> time</div></div>\n",
       "<div class=\"scp-output section\"><div class=\"attr-name\">  coordinates</div><div>:</div><div class=\"attr-value\"> <div class='numeric'>[       0      0.1      0.2      0.3      0.4      0.5] s</div></div></div></details></div></details></div>"
      ],
      "text/plain": [
       "Coord: [float64] s (size: 6)"
      ]
     },
     "execution_count": 40,
     "metadata": {},
     "output_type": "execute_result"
    }
   ],
   "source": [
    "d3D[\"t\"]  # another alternative way to get a given coordinates"
   ]
  },
  {
   "cell_type": "markdown",
   "id": "d8c21e73",
   "metadata": {},
   "source": [
    "The two other coordinates u and v are still undefined"
   ]
  },
  {
   "cell_type": "code",
   "execution_count": 41,
   "id": "7c9617ef",
   "metadata": {
    "execution": {
     "iopub.execute_input": "2025-03-23T01:41:49.508548Z",
     "iopub.status.busy": "2025-03-23T01:41:49.508126Z",
     "iopub.status.idle": "2025-03-23T01:41:49.511923Z",
     "shell.execute_reply": "2025-03-23T01:41:49.511493Z"
    }
   },
   "outputs": [
    {
     "data": {
      "text/plain": [
       "(Coord: empty, Coord: empty)"
      ]
     },
     "execution_count": 41,
     "metadata": {},
     "output_type": "execute_result"
    }
   ],
   "source": [
    "d3D.u, d3D.v"
   ]
  },
  {
   "cell_type": "markdown",
   "id": "0cb7612c",
   "metadata": {},
   "source": [
    "When the dataset is printed, only the information for the existing coordinates is\n",
    "given."
   ]
  },
  {
   "cell_type": "code",
   "execution_count": 42,
   "id": "6baf1881",
   "metadata": {
    "execution": {
     "iopub.execute_input": "2025-03-23T01:41:49.513855Z",
     "iopub.status.busy": "2025-03-23T01:41:49.513440Z",
     "iopub.status.idle": "2025-03-23T01:41:49.518673Z",
     "shell.execute_reply": "2025-03-23T01:41:49.518244Z"
    }
   },
   "outputs": [
    {
     "data": {
      "text/html": [
       "<div class='scp-output'><details><summary>NDDataset: [float64] unitless (shape: (u:2, v:4, t:6))[3D_dataset]</summary><div class=\"scp-output section\"><details><summary>Summary</summary>\n",
       "<div class=\"scp-output section\"><div class=\"attr-name\">         name</div><div>:</div><div class=\"attr-value\"> 3D_dataset</div></div>\n",
       "<div class=\"scp-output section\"><div class=\"attr-name\">       author</div><div>:</div><div class=\"attr-value\"> Someone</div></div>\n",
       "<div class=\"scp-output section\"><div class=\"attr-name\">      created</div><div>:</div><div class=\"attr-value\"> 2025-03-23 01:41:49+00:00</div></div>\n",
       "<div class=\"scp-output section\"><div class=\"attr-name\">  description</div><div>:</div><div class=\"attr-value\"> <div>a single statement creation example</div></div></div>\n",
       "<div class=\"scp-output section\"><div class=\"attr-name\">      history</div><div>:</div><div class=\"attr-value\"> <div>2025-03-23 01:41:49+00:00> Created from scratch</div></div></div></details></div>\n",
       "<div class=\"scp-output section\"><details><summary>          Data </summary>\n",
       "<div class=\"scp-output section\"><div class=\"attr-name\">        title</div><div>:</div><div class=\"attr-value\"> Energy</div></div>\n",
       "<div class=\"scp-output section\"><div class=\"attr-name\">       values</div><div>:</div><div class=\"attr-value\"> ... </div></div>\n",
       "<div class='numeric'>         [[[  0.3369  0.05231 ...   0.1966   0.9632]<br/>           [  0.9854   0.3874 ...   0.5618   0.8939]<br/>           [   0.531   0.3263 ...   0.1999   0.5257]<br/>           [  0.4342    0.804 ...   0.5103    0.462]]<br/><br/>          [[  0.1426   0.4167 ...   0.2737   0.1098]<br/>           [  0.8346   0.4662 ...    0.324  0.08045]<br/>           [  0.3628   0.8164 ...     0.13   0.5417]<br/>           [  0.5358   0.5377 ...   0.4398   0.7871]]]</div>\n",
       "<div class=\"scp-output section\"><div class=\"attr-name\">        shape</div><div>:</div><div class=\"attr-value\"> (u:2, v:4, t:6)</div></div></details></div>\n",
       "<div class=\"scp-output section\"><details><summary>     Dimension `t`</summary>\n",
       "<div class=\"scp-output section\"><div class=\"attr-name\">         size</div><div>:</div><div class=\"attr-value\"> 6</div></div>\n",
       "<div class=\"scp-output section\"><div class=\"attr-name\">        title</div><div>:</div><div class=\"attr-value\"> time</div></div>\n",
       "<div class=\"scp-output section\"><div class=\"attr-name\">  coordinates</div><div>:</div><div class=\"attr-value\"> <div class='numeric'>[       0      0.1      0.2      0.3      0.4      0.5] s</div></div></div></details></div></details></div>"
      ],
      "text/plain": [
       "NDDataset: [float64] unitless (shape: (u:2, v:4, t:6))"
      ]
     },
     "execution_count": 42,
     "metadata": {},
     "output_type": "execute_result"
    }
   ],
   "source": [
    "d3D"
   ]
  },
  {
   "cell_type": "markdown",
   "id": "0683baf2",
   "metadata": {},
   "source": [
    "Programmatically, we can use the attribute `is_empty` or `has_data` to check this"
   ]
  },
  {
   "cell_type": "code",
   "execution_count": 43,
   "id": "836a2512",
   "metadata": {
    "execution": {
     "iopub.execute_input": "2025-03-23T01:41:49.520469Z",
     "iopub.status.busy": "2025-03-23T01:41:49.520124Z",
     "iopub.status.idle": "2025-03-23T01:41:49.524087Z",
     "shell.execute_reply": "2025-03-23T01:41:49.523522Z"
    }
   },
   "outputs": [
    {
     "data": {
      "text/plain": [
       "(False, True)"
      ]
     },
     "execution_count": 43,
     "metadata": {},
     "output_type": "execute_result"
    }
   ],
   "source": [
    "d3D.v.has_data, d3D.v.is_empty"
   ]
  },
  {
   "cell_type": "markdown",
   "id": "17209c76",
   "metadata": {},
   "source": [
    "An error is raised when a coordinate doesn't exist"
   ]
  },
  {
   "cell_type": "code",
   "execution_count": 44,
   "id": "be6c8218",
   "metadata": {
    "execution": {
     "iopub.execute_input": "2025-03-23T01:41:49.526032Z",
     "iopub.status.busy": "2025-03-23T01:41:49.525593Z",
     "iopub.status.idle": "2025-03-23T01:41:49.529286Z",
     "shell.execute_reply": "2025-03-23T01:41:49.528732Z"
    }
   },
   "outputs": [
    {
     "name": "stderr",
     "output_type": "stream",
     "text": [
      " ERROR | Exception: \n"
     ]
    }
   ],
   "source": [
    "try:\n",
    "    d3D.x\n",
    "except Exception as e:\n",
    "    scp.error_(Exception, e)"
   ]
  },
  {
   "cell_type": "markdown",
   "id": "d7621fd2",
   "metadata": {},
   "source": [
    "In some case it can also be useful to get a coordinate from its title instead of its\n",
    "name (the limitation is that if\n",
    "several coordinates have the same title, then only the first ones that is found in\n",
    "the coordinate list, will be\n",
    "returned - this can be ambiguous)"
   ]
  },
  {
   "cell_type": "code",
   "execution_count": 45,
   "id": "0beff1f8",
   "metadata": {
    "execution": {
     "iopub.execute_input": "2025-03-23T01:41:49.530907Z",
     "iopub.status.busy": "2025-03-23T01:41:49.530712Z",
     "iopub.status.idle": "2025-03-23T01:41:49.535397Z",
     "shell.execute_reply": "2025-03-23T01:41:49.534838Z"
    }
   },
   "outputs": [
    {
     "data": {
      "text/html": [
       "<div class='scp-output'><details><summary>Coord: [float64] s (size: 6)[t]</summary><div class=\"scp-output section\"><details><summary>Summary</summary>\n",
       "<div class=\"scp-output section\"><div class=\"attr-name\">         size</div><div>:</div><div class=\"attr-value\"> 6</div></div>\n",
       "<div class=\"scp-output section\"><div class=\"attr-name\">        title</div><div>:</div><div class=\"attr-value\"> time</div></div>\n",
       "<div class=\"scp-output section\"><div class=\"attr-name\">  coordinates</div><div>:</div><div class=\"attr-value\"> <div class='numeric'>[       0      0.1      0.2      0.3      0.4      0.5] s</div></div></div></details></div></details></div>"
      ],
      "text/plain": [
       "Coord: [float64] s (size: 6)"
      ]
     },
     "execution_count": 45,
     "metadata": {},
     "output_type": "execute_result"
    }
   ],
   "source": [
    "d3D[\"time\"]"
   ]
  },
  {
   "cell_type": "code",
   "execution_count": 46,
   "id": "7d7cb45f",
   "metadata": {
    "execution": {
     "iopub.execute_input": "2025-03-23T01:41:49.537226Z",
     "iopub.status.busy": "2025-03-23T01:41:49.536855Z",
     "iopub.status.idle": "2025-03-23T01:41:49.541420Z",
     "shell.execute_reply": "2025-03-23T01:41:49.540970Z"
    }
   },
   "outputs": [
    {
     "data": {
      "text/html": [
       "<div class='scp-output'><details><summary>Coord: [float64] s (size: 6)[t]</summary><div class=\"scp-output section\"><details><summary>Summary</summary>\n",
       "<div class=\"scp-output section\"><div class=\"attr-name\">         size</div><div>:</div><div class=\"attr-value\"> 6</div></div>\n",
       "<div class=\"scp-output section\"><div class=\"attr-name\">        title</div><div>:</div><div class=\"attr-value\"> time</div></div>\n",
       "<div class=\"scp-output section\"><div class=\"attr-name\">  coordinates</div><div>:</div><div class=\"attr-value\"> <div class='numeric'>[       0      0.1      0.2      0.3      0.4      0.5] s</div></div></div></details></div></details></div>"
      ],
      "text/plain": [
       "Coord: [float64] s (size: 6)"
      ]
     },
     "execution_count": 46,
     "metadata": {},
     "output_type": "execute_result"
    }
   ],
   "source": [
    "d3D.time"
   ]
  },
  {
   "cell_type": "markdown",
   "id": "9f8852c4",
   "metadata": {},
   "source": [
    "## Labels"
   ]
  },
  {
   "cell_type": "markdown",
   "id": "53634364",
   "metadata": {},
   "source": [
    "It is possible to use labels instead of numerical coordinates. Labels are sequences of\n",
    "objects. The length of the sequence must be equal to the size of the dimension."
   ]
  },
  {
   "cell_type": "code",
   "execution_count": 47,
   "id": "634534ce",
   "metadata": {
    "execution": {
     "iopub.execute_input": "2025-03-23T01:41:49.543277Z",
     "iopub.status.busy": "2025-03-23T01:41:49.542900Z",
     "iopub.status.idle": "2025-03-23T01:41:49.549086Z",
     "shell.execute_reply": "2025-03-23T01:41:49.548615Z"
    }
   },
   "outputs": [
    {
     "data": {
      "text/html": [
       "<div class='scp-output'><details><summary>NDDataset: [float64] unitless (shape: (u:2, v:4, t:6))[3D_dataset]</summary><div class=\"scp-output section\"><details><summary>Summary</summary>\n",
       "<div class=\"scp-output section\"><div class=\"attr-name\">         name</div><div>:</div><div class=\"attr-value\"> 3D_dataset</div></div>\n",
       "<div class=\"scp-output section\"><div class=\"attr-name\">       author</div><div>:</div><div class=\"attr-value\"> Someone</div></div>\n",
       "<div class=\"scp-output section\"><div class=\"attr-name\">      created</div><div>:</div><div class=\"attr-value\"> 2025-03-23 01:41:49+00:00</div></div>\n",
       "<div class=\"scp-output section\"><div class=\"attr-name\">  description</div><div>:</div><div class=\"attr-value\"> <div>a single statement creation example</div></div></div>\n",
       "<div class=\"scp-output section\"><div class=\"attr-name\">      history</div><div>:</div><div class=\"attr-value\"> <div>2025-03-23 01:41:49+00:00> Created from scratch</div></div></div></details></div>\n",
       "<div class=\"scp-output section\"><details><summary>          Data </summary>\n",
       "<div class=\"scp-output section\"><div class=\"attr-name\">        title</div><div>:</div><div class=\"attr-value\"> Energy</div></div>\n",
       "<div class=\"scp-output section\"><div class=\"attr-name\">       values</div><div>:</div><div class=\"attr-value\"> ... </div></div>\n",
       "<div class='numeric'>         [[[  0.3369  0.05231 ...   0.1966   0.9632]<br/>           [  0.9854   0.3874 ...   0.5618   0.8939]<br/>           [   0.531   0.3263 ...   0.1999   0.5257]<br/>           [  0.4342    0.804 ...   0.5103    0.462]]<br/><br/>          [[  0.1426   0.4167 ...   0.2737   0.1098]<br/>           [  0.8346   0.4662 ...    0.324  0.08045]<br/>           [  0.3628   0.8164 ...     0.13   0.5417]<br/>           [  0.5358   0.5377 ...   0.4398   0.7871]]]</div>\n",
       "<div class=\"scp-output section\"><div class=\"attr-name\">        shape</div><div>:</div><div class=\"attr-value\"> (u:2, v:4, t:6)</div></div></details></div>\n",
       "<div class=\"scp-output section\"><details><summary>     Dimension `t`</summary>\n",
       "<div class=\"scp-output section\"><div class=\"attr-name\">         size</div><div>:</div><div class=\"attr-value\"> 6</div></div>\n",
       "<div class=\"scp-output section\"><div class=\"attr-name\">        title</div><div>:</div><div class=\"attr-value\"> time</div></div>\n",
       "<div class=\"scp-output section\"><div class=\"attr-name\">  coordinates</div><div>:</div><div class=\"attr-value\"> <div class='numeric'>[       0      0.1      0.2      0.3      0.4      0.5] s</div></div></div></details></div>\n",
       "<div class=\"scp-output section\"><details><summary>     Dimension `u`</summary>\n",
       "<div class=\"scp-output section\"><div class=\"attr-name\">         size</div><div>:</div><div class=\"attr-value\"> 2</div></div>\n",
       "<div class=\"scp-output section\"><div class=\"attr-name\">        title</div><div>:</div><div class=\"attr-value\"> some tags</div></div>\n",
       "<div class=\"scp-output section\"><div class=\"attr-name\">       labels</div><div>:</div><div class=\"attr-value\"> <div class='label'>[  a   b]</div></div></div></details></div></details></div>"
      ],
      "text/plain": [
       "NDDataset: [float64] unitless (shape: (u:2, v:4, t:6))"
      ]
     },
     "execution_count": 47,
     "metadata": {},
     "output_type": "execute_result"
    }
   ],
   "source": [
    "tags = list(\"ab\")\n",
    "d3D.u.title = \"some tags\"\n",
    "d3D.u.labels = tags\n",
    "d3D"
   ]
  },
  {
   "cell_type": "markdown",
   "id": "f0b12ace",
   "metadata": {},
   "source": [
    "or more complex objects.\n",
    "\n",
    "For instance here we use datetime.timedelta objects:"
   ]
  },
  {
   "cell_type": "code",
   "execution_count": 48,
   "id": "841996a7",
   "metadata": {
    "execution": {
     "iopub.execute_input": "2025-03-23T01:41:49.550913Z",
     "iopub.status.busy": "2025-03-23T01:41:49.550557Z",
     "iopub.status.idle": "2025-03-23T01:41:49.558190Z",
     "shell.execute_reply": "2025-03-23T01:41:49.557624Z"
    }
   },
   "outputs": [
    {
     "data": {
      "text/html": [
       "<div class='scp-output'><details><summary>NDDataset: [float64] unitless (shape: (u:2, v:4, t:6))[3D_dataset]</summary><div class=\"scp-output section\"><details><summary>Summary</summary>\n",
       "<div class=\"scp-output section\"><div class=\"attr-name\">         name</div><div>:</div><div class=\"attr-value\"> 3D_dataset</div></div>\n",
       "<div class=\"scp-output section\"><div class=\"attr-name\">       author</div><div>:</div><div class=\"attr-value\"> Someone</div></div>\n",
       "<div class=\"scp-output section\"><div class=\"attr-name\">      created</div><div>:</div><div class=\"attr-value\"> 2025-03-23 01:41:49+00:00</div></div>\n",
       "<div class=\"scp-output section\"><div class=\"attr-name\">  description</div><div>:</div><div class=\"attr-value\"> <div>a single statement creation example</div></div></div>\n",
       "<div class=\"scp-output section\"><div class=\"attr-name\">      history</div><div>:</div><div class=\"attr-value\"> <div>2025-03-23 01:41:49+00:00> Created from scratch</div></div></div></details></div>\n",
       "<div class=\"scp-output section\"><details><summary>          Data </summary>\n",
       "<div class=\"scp-output section\"><div class=\"attr-name\">        title</div><div>:</div><div class=\"attr-value\"> Energy</div></div>\n",
       "<div class=\"scp-output section\"><div class=\"attr-name\">       values</div><div>:</div><div class=\"attr-value\"> ... </div></div>\n",
       "<div class='numeric'>         [[[  0.3369  0.05231 ...   0.1966   0.9632]<br/>           [  0.9854   0.3874 ...   0.5618   0.8939]<br/>           [   0.531   0.3263 ...   0.1999   0.5257]<br/>           [  0.4342    0.804 ...   0.5103    0.462]]<br/><br/>          [[  0.1426   0.4167 ...   0.2737   0.1098]<br/>           [  0.8346   0.4662 ...    0.324  0.08045]<br/>           [  0.3628   0.8164 ...     0.13   0.5417]<br/>           [  0.5358   0.5377 ...   0.4398   0.7871]]]</div>\n",
       "<div class=\"scp-output section\"><div class=\"attr-name\">        shape</div><div>:</div><div class=\"attr-value\"> (u:2, v:4, t:6)</div></div></details></div>\n",
       "<div class=\"scp-output section\"><details><summary>     Dimension `t`</summary>\n",
       "<div class=\"scp-output section\"><div class=\"attr-name\">         size</div><div>:</div><div class=\"attr-value\"> 6</div></div>\n",
       "<div class=\"scp-output section\"><div class=\"attr-name\">        title</div><div>:</div><div class=\"attr-value\"> time</div></div>\n",
       "<div class=\"scp-output section\"><div class=\"attr-name\">       labels</div><div>:</div><div class=\"attr-value\"> <div class='label'>[  0:00:00   0:01:00   0:02:00   0:03:00   0:04:00   0:05:00]</div> </div></div></details></div>\n",
       "<div class=\"scp-output section\"><details><summary>     Dimension `u`</summary>\n",
       "<div class=\"scp-output section\"><div class=\"attr-name\">         size</div><div>:</div><div class=\"attr-value\"> 2</div></div>\n",
       "<div class=\"scp-output section\"><div class=\"attr-name\">        title</div><div>:</div><div class=\"attr-value\"> some tags</div></div>\n",
       "<div class=\"scp-output section\"><div class=\"attr-name\">       labels</div><div>:</div><div class=\"attr-value\"> <div class='label'>[  a   b]</div></div></div></details></div></details></div>"
      ],
      "text/plain": [
       "NDDataset: [float64] unitless (shape: (u:2, v:4, t:6))"
      ]
     },
     "execution_count": 48,
     "metadata": {},
     "output_type": "execute_result"
    }
   ],
   "source": [
    "from datetime import timedelta\n",
    "\n",
    "start = timedelta(0)\n",
    "times = [start + timedelta(seconds=x * 60) for x in range(6)]\n",
    "d3D.t = None\n",
    "d3D.t.labels = times\n",
    "d3D.t.title = \"time\"\n",
    "d3D"
   ]
  },
  {
   "cell_type": "markdown",
   "id": "94029559",
   "metadata": {},
   "source": [
    "In this case, getting a coordinate that doesn't possess numerical data but labels,\n",
    "will return the labels"
   ]
  },
  {
   "cell_type": "code",
   "execution_count": 49,
   "id": "f5066a5b",
   "metadata": {
    "execution": {
     "iopub.execute_input": "2025-03-23T01:41:49.560007Z",
     "iopub.status.busy": "2025-03-23T01:41:49.559653Z",
     "iopub.status.idle": "2025-03-23T01:41:49.564072Z",
     "shell.execute_reply": "2025-03-23T01:41:49.563518Z"
    }
   },
   "outputs": [
    {
     "data": {
      "text/html": [
       "<div class='scp-output'><details><summary>Coord: [labels] [  0:00:00   0:01:00   0:02:00   0:03:00   0:04:00   0:05:00] (size: 6)[t]</summary><div class=\"scp-output section\"><details><summary>Summary</summary>\n",
       "<div class=\"scp-output section\"><div class=\"attr-name\">         size</div><div>:</div><div class=\"attr-value\"> 6</div></div>\n",
       "<div class=\"scp-output section\"><div class=\"attr-name\">        title</div><div>:</div><div class=\"attr-value\"> time</div></div>\n",
       "<div class=\"scp-output section\"><div class=\"attr-name\">       labels</div><div>:</div><div class=\"attr-value\"> <div class='label'>[  0:00:00   0:01:00   0:02:00   0:03:00   0:04:00   0:05:00]</div> </div></div></details></div></details></div>"
      ],
      "text/plain": [
       "Coord: [labels] [  0:00:00   0:01:00   0:02:00   0:03:00   0:04:00   0:05:00] (size: 6)"
      ]
     },
     "execution_count": 49,
     "metadata": {},
     "output_type": "execute_result"
    }
   ],
   "source": [
    "d3D.time"
   ]
  },
  {
   "cell_type": "markdown",
   "id": "0844e7e7",
   "metadata": {},
   "source": [
    "# More insight on coordinates"
   ]
  },
  {
   "cell_type": "markdown",
   "id": "2e8b6392",
   "metadata": {},
   "source": [
    "## Sharing coordinates between dimensions"
   ]
  },
  {
   "cell_type": "markdown",
   "id": "ec6455b7",
   "metadata": {},
   "source": [
    "Sometimes it is not necessary to have different coordinates for each axis. Some can be\n",
    "shared between axes.\n",
    "\n",
    "For example, if we have a square matrix with the same coordinate in the two\n",
    "dimensions, the second dimension can\n",
    "refer to the first. Here we create a square 2D dataset, using the `diag` method:"
   ]
  },
  {
   "cell_type": "code",
   "execution_count": 50,
   "id": "a27cd655",
   "metadata": {
    "execution": {
     "iopub.execute_input": "2025-03-23T01:41:49.566010Z",
     "iopub.status.busy": "2025-03-23T01:41:49.565556Z",
     "iopub.status.idle": "2025-03-23T01:41:49.571536Z",
     "shell.execute_reply": "2025-03-23T01:41:49.570992Z"
    }
   },
   "outputs": [
    {
     "data": {
      "text/html": [
       "<div class='scp-output'><details><summary>NDDataset: [float64] unitless (shape: (y:3, x:3))[NDDataset_fcbc8490]</summary><div class=\"scp-output section\"><details><summary>Summary</summary>\n",
       "<div class=\"scp-output section\"><div class=\"attr-name\">         name</div><div>:</div><div class=\"attr-value\"> NDDataset_fcbc8490</div></div>\n",
       "<div class=\"scp-output section\"><div class=\"attr-name\">       author</div><div>:</div><div class=\"attr-value\"> runner@fv-az1436-235</div></div>\n",
       "<div class=\"scp-output section\"><div class=\"attr-name\">      created</div><div>:</div><div class=\"attr-value\"> 2025-03-23 01:41:49+00:00</div></div>\n",
       "<div class=\"scp-output section\"><div class=\"attr-name\">      history</div><div>:</div><div class=\"attr-value\"> <div>2025-03-23 01:41:49+00:00> Created using method : diag</div></div></div></details></div>\n",
       "<div class=\"scp-output section\"><details><summary>          Data </summary>\n",
       "<div class=\"scp-output section\"><div class=\"attr-name\">        title</div><div>:</div><div class=\"attr-value\"> <untitled></div></div>\n",
       "<div class=\"scp-output section\"><div class=\"attr-name\">       values</div><div>:</div><div class=\"attr-value\"> ... </div></div>\n",
       "<div class='numeric'>         [[       3        0        0]<br/>          [       0        3        0]<br/>          [       0        0      2.5]]</div>\n",
       "<div class=\"scp-output section\"><div class=\"attr-name\">        shape</div><div>:</div><div class=\"attr-value\"> (y:3, x:3)</div></div></details></div></details></div>"
      ],
      "text/plain": [
       "NDDataset: [float64] unitless (shape: (y:3, x:3))"
      ]
     },
     "execution_count": 50,
     "metadata": {},
     "output_type": "execute_result"
    }
   ],
   "source": [
    "nd = NDDataset.diag((3, 3, 2.5))\n",
    "nd"
   ]
  },
  {
   "cell_type": "markdown",
   "id": "66ecf3c9",
   "metadata": {},
   "source": [
    "and then we add the same coordinate for both dimensions"
   ]
  },
  {
   "cell_type": "code",
   "execution_count": 51,
   "id": "f0a67863",
   "metadata": {
    "execution": {
     "iopub.execute_input": "2025-03-23T01:41:49.573426Z",
     "iopub.status.busy": "2025-03-23T01:41:49.573022Z",
     "iopub.status.idle": "2025-03-23T01:41:49.579791Z",
     "shell.execute_reply": "2025-03-23T01:41:49.579247Z"
    }
   },
   "outputs": [
    {
     "data": {
      "text/html": [
       "<div class='scp-output'><details><summary>NDDataset: [float64] unitless (shape: (y:3, x:3))[NDDataset_fcbc8490]</summary><div class=\"scp-output section\"><details><summary>Summary</summary>\n",
       "<div class=\"scp-output section\"><div class=\"attr-name\">         name</div><div>:</div><div class=\"attr-value\"> NDDataset_fcbc8490</div></div>\n",
       "<div class=\"scp-output section\"><div class=\"attr-name\">       author</div><div>:</div><div class=\"attr-value\"> runner@fv-az1436-235</div></div>\n",
       "<div class=\"scp-output section\"><div class=\"attr-name\">      created</div><div>:</div><div class=\"attr-value\"> 2025-03-23 01:41:49+00:00</div></div>\n",
       "<div class=\"scp-output section\"><div class=\"attr-name\">      history</div><div>:</div><div class=\"attr-value\"> <div>2025-03-23 01:41:49+00:00> Created using method : diag</div></div></div></details></div>\n",
       "<div class=\"scp-output section\"><details><summary>          Data </summary>\n",
       "<div class=\"scp-output section\"><div class=\"attr-name\">        title</div><div>:</div><div class=\"attr-value\"> <untitled></div></div>\n",
       "<div class=\"scp-output section\"><div class=\"attr-name\">       values</div><div>:</div><div class=\"attr-value\"> ... </div></div>\n",
       "<div class='numeric'>         [[       3        0        0]<br/>          [       0        3        0]<br/>          [       0        0      2.5]]</div>\n",
       "<div class=\"scp-output section\"><div class=\"attr-name\">        shape</div><div>:</div><div class=\"attr-value\"> (y:3, x:3)</div></div></details></div>\n",
       "<div class=\"scp-output section\"><details><summary>     Dimension `x`=`y`</summary>\n",
       "<div class=\"scp-output section\"><div class=\"attr-name\">         size</div><div>:</div><div class=\"attr-value\"> 3</div></div>\n",
       "<div class=\"scp-output section\"><div class=\"attr-name\">        title</div><div>:</div><div class=\"attr-value\"> <untitled></div></div>\n",
       "<div class=\"scp-output section\"><div class=\"attr-name\">  coordinates</div><div>:</div><div class=\"attr-value\"> <div class='numeric'>[       0        1        2]</div></div></div></details></div></details></div>"
      ],
      "text/plain": [
       "NDDataset: [float64] unitless (shape: (y:3, x:3))"
      ]
     },
     "execution_count": 51,
     "metadata": {},
     "output_type": "execute_result"
    }
   ],
   "source": [
    "coordx = Coord.arange(3)\n",
    "nd.set_coordset(x=coordx, y=\"x\")\n",
    "nd"
   ]
  },
  {
   "cell_type": "markdown",
   "id": "9dbd4d87",
   "metadata": {},
   "source": [
    "## Setting coordinates using `set_coordset`"
   ]
  },
  {
   "cell_type": "markdown",
   "id": "8b3edcc1",
   "metadata": {},
   "source": [
    "Let's create 3 `Coord` objects to be used as coordinates for the 3 dimensions of the\n",
    "previous d3D dataset."
   ]
  },
  {
   "cell_type": "code",
   "execution_count": 52,
   "id": "0a15ef6e",
   "metadata": {
    "execution": {
     "iopub.execute_input": "2025-03-23T01:41:49.581552Z",
     "iopub.status.busy": "2025-03-23T01:41:49.581384Z",
     "iopub.status.idle": "2025-03-23T01:41:49.587126Z",
     "shell.execute_reply": "2025-03-23T01:41:49.586649Z"
    }
   },
   "outputs": [],
   "source": [
    "d3D.dims = [\"t\", \"v\", \"u\"]\n",
    "s0, s1, s2 = d3D.shape\n",
    "coord0 = Coord.linspace(10.0, 100.0, s0, units=\"m\", title=\"distance\")\n",
    "coord1 = Coord.linspace(20.0, 25.0, s1, units=\"K\", title=\"temperature\")\n",
    "coord2 = Coord.linspace(0.0, 1000.0, s2, units=\"hour\", title=\"elapsed time\")"
   ]
  },
  {
   "cell_type": "markdown",
   "id": "a6883c22",
   "metadata": {},
   "source": [
    "### Syntax 1"
   ]
  },
  {
   "cell_type": "code",
   "execution_count": 53,
   "id": "bb0c4d72",
   "metadata": {
    "execution": {
     "iopub.execute_input": "2025-03-23T01:41:49.589077Z",
     "iopub.status.busy": "2025-03-23T01:41:49.588716Z",
     "iopub.status.idle": "2025-03-23T01:41:49.597655Z",
     "shell.execute_reply": "2025-03-23T01:41:49.597103Z"
    }
   },
   "outputs": [
    {
     "data": {
      "text/html": [
       "<div class='scp-output'><details><summary>NDDataset: [float64] unitless (shape: (t:2, v:4, u:6))[3D_dataset]</summary><div class=\"scp-output section\"><details><summary>Summary</summary>\n",
       "<div class=\"scp-output section\"><div class=\"attr-name\">         name</div><div>:</div><div class=\"attr-value\"> 3D_dataset</div></div>\n",
       "<div class=\"scp-output section\"><div class=\"attr-name\">       author</div><div>:</div><div class=\"attr-value\"> Someone</div></div>\n",
       "<div class=\"scp-output section\"><div class=\"attr-name\">      created</div><div>:</div><div class=\"attr-value\"> 2025-03-23 01:41:49+00:00</div></div>\n",
       "<div class=\"scp-output section\"><div class=\"attr-name\">  description</div><div>:</div><div class=\"attr-value\"> <div>a single statement creation example</div></div></div>\n",
       "<div class=\"scp-output section\"><div class=\"attr-name\">      history</div><div>:</div><div class=\"attr-value\"> <div>2025-03-23 01:41:49+00:00> Created from scratch</div></div></div></details></div>\n",
       "<div class=\"scp-output section\"><details><summary>          Data </summary>\n",
       "<div class=\"scp-output section\"><div class=\"attr-name\">        title</div><div>:</div><div class=\"attr-value\"> Energy</div></div>\n",
       "<div class=\"scp-output section\"><div class=\"attr-name\">       values</div><div>:</div><div class=\"attr-value\"> ... </div></div>\n",
       "<div class='numeric'>         [[[  0.3369  0.05231 ...   0.1966   0.9632]<br/>           [  0.9854   0.3874 ...   0.5618   0.8939]<br/>           [   0.531   0.3263 ...   0.1999   0.5257]<br/>           [  0.4342    0.804 ...   0.5103    0.462]]<br/><br/>          [[  0.1426   0.4167 ...   0.2737   0.1098]<br/>           [  0.8346   0.4662 ...    0.324  0.08045]<br/>           [  0.3628   0.8164 ...     0.13   0.5417]<br/>           [  0.5358   0.5377 ...   0.4398   0.7871]]]</div>\n",
       "<div class=\"scp-output section\"><div class=\"attr-name\">        shape</div><div>:</div><div class=\"attr-value\"> (t:2, v:4, u:6)</div></div></details></div>\n",
       "<div class=\"scp-output section\"><details><summary>     Dimension `t`</summary>\n",
       "<div class=\"scp-output section\"><div class=\"attr-name\">         size</div><div>:</div><div class=\"attr-value\"> 2</div></div>\n",
       "<div class=\"scp-output section\"><div class=\"attr-name\">        title</div><div>:</div><div class=\"attr-value\"> distance</div></div>\n",
       "<div class=\"scp-output section\"><div class=\"attr-name\">  coordinates</div><div>:</div><div class=\"attr-value\"> <div class='numeric'>[      10      100] m</div></div></div></details></div>\n",
       "<div class=\"scp-output section\"><details><summary>     Dimension `u`</summary>\n",
       "<div class=\"scp-output section\"><div class=\"attr-name\">         size</div><div>:</div><div class=\"attr-value\"> 6</div></div>\n",
       "<div class=\"scp-output section\"><div class=\"attr-name\">        title</div><div>:</div><div class=\"attr-value\"> elapsed time</div></div>\n",
       "<div class=\"scp-output section\"><div class=\"attr-name\">  coordinates</div><div>:</div><div class=\"attr-value\"> <div class='numeric'>[       0      200      400      600      800     1000] h</div></div></div></details></div>\n",
       "<div class=\"scp-output section\"><details><summary>     Dimension `v`</summary>\n",
       "<div class=\"scp-output section\"><div class=\"attr-name\">         size</div><div>:</div><div class=\"attr-value\"> 4</div></div>\n",
       "<div class=\"scp-output section\"><div class=\"attr-name\">        title</div><div>:</div><div class=\"attr-value\"> temperature</div></div>\n",
       "<div class=\"scp-output section\"><div class=\"attr-name\">  coordinates</div><div>:</div><div class=\"attr-value\"> <div class='numeric'>[      20    21.67    23.33       25] K</div></div></div></details></div></details></div>"
      ],
      "text/plain": [
       "NDDataset: [float64] unitless (shape: (t:2, v:4, u:6))"
      ]
     },
     "execution_count": 53,
     "metadata": {},
     "output_type": "execute_result"
    }
   ],
   "source": [
    "d3D.set_coordset(u=coord2, v=coord1, t=coord0)\n",
    "d3D"
   ]
  },
  {
   "cell_type": "markdown",
   "id": "b1ea7773",
   "metadata": {},
   "source": [
    "### Syntax 2"
   ]
  },
  {
   "cell_type": "code",
   "execution_count": 54,
   "id": "9db54248",
   "metadata": {
    "execution": {
     "iopub.execute_input": "2025-03-23T01:41:49.599628Z",
     "iopub.status.busy": "2025-03-23T01:41:49.599292Z",
     "iopub.status.idle": "2025-03-23T01:41:49.608379Z",
     "shell.execute_reply": "2025-03-23T01:41:49.607794Z"
    }
   },
   "outputs": [
    {
     "data": {
      "text/html": [
       "<div class='scp-output'><details><summary>NDDataset: [float64] unitless (shape: (t:2, v:4, u:6))[3D_dataset]</summary><div class=\"scp-output section\"><details><summary>Summary</summary>\n",
       "<div class=\"scp-output section\"><div class=\"attr-name\">         name</div><div>:</div><div class=\"attr-value\"> 3D_dataset</div></div>\n",
       "<div class=\"scp-output section\"><div class=\"attr-name\">       author</div><div>:</div><div class=\"attr-value\"> Someone</div></div>\n",
       "<div class=\"scp-output section\"><div class=\"attr-name\">      created</div><div>:</div><div class=\"attr-value\"> 2025-03-23 01:41:49+00:00</div></div>\n",
       "<div class=\"scp-output section\"><div class=\"attr-name\">  description</div><div>:</div><div class=\"attr-value\"> <div>a single statement creation example</div></div></div>\n",
       "<div class=\"scp-output section\"><div class=\"attr-name\">      history</div><div>:</div><div class=\"attr-value\"> <div>2025-03-23 01:41:49+00:00> Created from scratch</div></div></div></details></div>\n",
       "<div class=\"scp-output section\"><details><summary>          Data </summary>\n",
       "<div class=\"scp-output section\"><div class=\"attr-name\">        title</div><div>:</div><div class=\"attr-value\"> Energy</div></div>\n",
       "<div class=\"scp-output section\"><div class=\"attr-name\">       values</div><div>:</div><div class=\"attr-value\"> ... </div></div>\n",
       "<div class='numeric'>         [[[  0.3369  0.05231 ...   0.1966   0.9632]<br/>           [  0.9854   0.3874 ...   0.5618   0.8939]<br/>           [   0.531   0.3263 ...   0.1999   0.5257]<br/>           [  0.4342    0.804 ...   0.5103    0.462]]<br/><br/>          [[  0.1426   0.4167 ...   0.2737   0.1098]<br/>           [  0.8346   0.4662 ...    0.324  0.08045]<br/>           [  0.3628   0.8164 ...     0.13   0.5417]<br/>           [  0.5358   0.5377 ...   0.4398   0.7871]]]</div>\n",
       "<div class=\"scp-output section\"><div class=\"attr-name\">        shape</div><div>:</div><div class=\"attr-value\"> (t:2, v:4, u:6)</div></div></details></div>\n",
       "<div class=\"scp-output section\"><details><summary>     Dimension `t`</summary>\n",
       "<div class=\"scp-output section\"><div class=\"attr-name\">         size</div><div>:</div><div class=\"attr-value\"> 2</div></div>\n",
       "<div class=\"scp-output section\"><div class=\"attr-name\">        title</div><div>:</div><div class=\"attr-value\"> distance</div></div>\n",
       "<div class=\"scp-output section\"><div class=\"attr-name\">  coordinates</div><div>:</div><div class=\"attr-value\"> <div class='numeric'>[      10      100] m</div></div></div></details></div>\n",
       "<div class=\"scp-output section\"><details><summary>     Dimension `u`</summary>\n",
       "<div class=\"scp-output section\"><div class=\"attr-name\">         size</div><div>:</div><div class=\"attr-value\"> 6</div></div>\n",
       "<div class=\"scp-output section\"><div class=\"attr-name\">        title</div><div>:</div><div class=\"attr-value\"> elapsed time</div></div>\n",
       "<div class=\"scp-output section\"><div class=\"attr-name\">  coordinates</div><div>:</div><div class=\"attr-value\"> <div class='numeric'>[       0      200      400      600      800     1000] h</div></div></div></details></div>\n",
       "<div class=\"scp-output section\"><details><summary>     Dimension `v`</summary>\n",
       "<div class=\"scp-output section\"><div class=\"attr-name\">         size</div><div>:</div><div class=\"attr-value\"> 4</div></div>\n",
       "<div class=\"scp-output section\"><div class=\"attr-name\">        title</div><div>:</div><div class=\"attr-value\"> temperature</div></div>\n",
       "<div class=\"scp-output section\"><div class=\"attr-name\">  coordinates</div><div>:</div><div class=\"attr-value\"> <div class='numeric'>[      20    21.67    23.33       25] K</div></div></div></details></div></details></div>"
      ],
      "text/plain": [
       "NDDataset: [float64] unitless (shape: (t:2, v:4, u:6))"
      ]
     },
     "execution_count": 54,
     "metadata": {},
     "output_type": "execute_result"
    }
   ],
   "source": [
    "d3D.set_coordset({\"u\": coord2, \"v\": coord1, \"t\": coord0})\n",
    "d3D"
   ]
  },
  {
   "cell_type": "markdown",
   "id": "45e69b73",
   "metadata": {},
   "source": [
    "## Adding several coordinates to a single dimension\n",
    "We can add several coordinates to the same dimension"
   ]
  },
  {
   "cell_type": "code",
   "execution_count": 55,
   "id": "5a42cc30",
   "metadata": {
    "execution": {
     "iopub.execute_input": "2025-03-23T01:41:49.610184Z",
     "iopub.status.busy": "2025-03-23T01:41:49.609992Z",
     "iopub.status.idle": "2025-03-23T01:41:49.613635Z",
     "shell.execute_reply": "2025-03-23T01:41:49.613091Z"
    }
   },
   "outputs": [],
   "source": [
    "coord1b = Coord([1, 2, 3, 4], units=\"millitesla\", title=\"magnetic field\")"
   ]
  },
  {
   "cell_type": "code",
   "execution_count": 56,
   "id": "9b5e108c",
   "metadata": {
    "execution": {
     "iopub.execute_input": "2025-03-23T01:41:49.615623Z",
     "iopub.status.busy": "2025-03-23T01:41:49.615217Z",
     "iopub.status.idle": "2025-03-23T01:41:49.631427Z",
     "shell.execute_reply": "2025-03-23T01:41:49.630924Z"
    }
   },
   "outputs": [
    {
     "data": {
      "text/html": [
       "<div class='scp-output'><details><summary>NDDataset: [float64] unitless (shape: (t:2, v:4, u:6))[3D_dataset]</summary><div class=\"scp-output section\"><details><summary>Summary</summary>\n",
       "<div class=\"scp-output section\"><div class=\"attr-name\">         name</div><div>:</div><div class=\"attr-value\"> 3D_dataset</div></div>\n",
       "<div class=\"scp-output section\"><div class=\"attr-name\">       author</div><div>:</div><div class=\"attr-value\"> Someone</div></div>\n",
       "<div class=\"scp-output section\"><div class=\"attr-name\">      created</div><div>:</div><div class=\"attr-value\"> 2025-03-23 01:41:49+00:00</div></div>\n",
       "<div class=\"scp-output section\"><div class=\"attr-name\">  description</div><div>:</div><div class=\"attr-value\"> <div>a single statement creation example</div></div></div>\n",
       "<div class=\"scp-output section\"><div class=\"attr-name\">      history</div><div>:</div><div class=\"attr-value\"> <div>2025-03-23 01:41:49+00:00> Created from scratch</div></div></div></details></div>\n",
       "<div class=\"scp-output section\"><details><summary>          Data </summary>\n",
       "<div class=\"scp-output section\"><div class=\"attr-name\">        title</div><div>:</div><div class=\"attr-value\"> Energy</div></div>\n",
       "<div class=\"scp-output section\"><div class=\"attr-name\">       values</div><div>:</div><div class=\"attr-value\"> ... </div></div>\n",
       "<div class='numeric'>         [[[  0.3369  0.05231 ...   0.1966   0.9632]<br/>           [  0.9854   0.3874 ...   0.5618   0.8939]<br/>           [   0.531   0.3263 ...   0.1999   0.5257]<br/>           [  0.4342    0.804 ...   0.5103    0.462]]<br/><br/>          [[  0.1426   0.4167 ...   0.2737   0.1098]<br/>           [  0.8346   0.4662 ...    0.324  0.08045]<br/>           [  0.3628   0.8164 ...     0.13   0.5417]<br/>           [  0.5358   0.5377 ...   0.4398   0.7871]]]</div>\n",
       "<div class=\"scp-output section\"><div class=\"attr-name\">        shape</div><div>:</div><div class=\"attr-value\"> (t:2, v:4, u:6)</div></div></details></div>\n",
       "<div class=\"scp-output section\"><details><summary>     Dimension `t`</summary>\n",
       "<div class=\"scp-output section\"><div class=\"attr-name\">         size</div><div>:</div><div class=\"attr-value\"> 2</div></div>\n",
       "<div class=\"scp-output section\"><div class=\"attr-name\">        title</div><div>:</div><div class=\"attr-value\"> distance</div></div>\n",
       "<div class=\"scp-output section\"><div class=\"attr-name\">  coordinates</div><div>:</div><div class=\"attr-value\"> <div class='numeric'>[      10      100] m</div></div></div></details></div>\n",
       "<div class=\"scp-output section\"><details><summary>     Dimension `u`</summary>\n",
       "<div class=\"scp-output section\"><div class=\"attr-name\">         size</div><div>:</div><div class=\"attr-value\"> 6</div></div>\n",
       "<div class=\"scp-output section\"><div class=\"attr-name\">        title</div><div>:</div><div class=\"attr-value\"> elapsed time</div></div>\n",
       "<div class=\"scp-output section\"><div class=\"attr-name\">  coordinates</div><div>:</div><div class=\"attr-value\"> <div class='numeric'>[       0      200      400      600      800     1000] h</div></div></div></details></div>\n",
       "<div class=\"scp-output section\"><details><summary>     Dimension `v`</summary>\n",
       "<div class=\"scp-output section\"><div class=\"attr-name\">         size</div><div>:</div><div class=\"attr-value\"> 4</div></div>\n",
       "<span>          (_1)</span>\n",
       "<div class=\"scp-output section\"><div class=\"attr-name\">        title</div><div>:</div><div class=\"attr-value\"> magnetic field</div></div>\n",
       "<div class=\"scp-output section\"><div class=\"attr-name\">  coordinates</div><div>:</div><div class=\"attr-value\"> <div class='numeric'>[       1        2        3        4] mT</div></div></div>\n",
       "<span>          (_2)</span>\n",
       "<div class=\"scp-output section\"><div class=\"attr-name\">        title</div><div>:</div><div class=\"attr-value\"> temperature</div></div>\n",
       "<div class=\"scp-output section\"><div class=\"attr-name\">  coordinates</div><div>:</div><div class=\"attr-value\"> <div class='numeric'>[      20    21.67    23.33       25] K</div></div></div></details></div></details></div>"
      ],
      "text/plain": [
       "NDDataset: [float64] unitless (shape: (t:2, v:4, u:6))"
      ]
     },
     "execution_count": 56,
     "metadata": {},
     "output_type": "execute_result"
    }
   ],
   "source": [
    "d3D.set_coordset(u=coord2, v=[coord1, coord1b], t=coord0)\n",
    "d3D"
   ]
  },
  {
   "cell_type": "markdown",
   "id": "c4348860",
   "metadata": {},
   "source": [
    "We can retrieve the various coordinates for a single dimension easily:"
   ]
  },
  {
   "cell_type": "code",
   "execution_count": 57,
   "id": "b5d5c151",
   "metadata": {
    "execution": {
     "iopub.execute_input": "2025-03-23T01:41:49.633148Z",
     "iopub.status.busy": "2025-03-23T01:41:49.632961Z",
     "iopub.status.idle": "2025-03-23T01:41:49.637515Z",
     "shell.execute_reply": "2025-03-23T01:41:49.636979Z"
    }
   },
   "outputs": [
    {
     "data": {
      "text/html": [
       "<div class='scp-output'><details><summary>Coord: [float64] mT (size: 4)[_1]</summary><div class=\"scp-output section\"><details><summary>Summary</summary>\n",
       "<div class=\"scp-output section\"><div class=\"attr-name\">         size</div><div>:</div><div class=\"attr-value\"> 4</div></div>\n",
       "<div class=\"scp-output section\"><div class=\"attr-name\">        title</div><div>:</div><div class=\"attr-value\"> magnetic field</div></div>\n",
       "<div class=\"scp-output section\"><div class=\"attr-name\">  coordinates</div><div>:</div><div class=\"attr-value\"> <div class='numeric'>[       1        2        3        4] mT</div></div></div></details></div></details></div>"
      ],
      "text/plain": [
       "Coord: [float64] mT (size: 4)"
      ]
     },
     "execution_count": 57,
     "metadata": {},
     "output_type": "execute_result"
    }
   ],
   "source": [
    "d3D.v_1"
   ]
  },
  {
   "cell_type": "markdown",
   "id": "2a420d97",
   "metadata": {},
   "source": [
    "## Math operations on coordinates\n",
    "Arithmetic operations can be performed on single coordinates:"
   ]
  },
  {
   "cell_type": "code",
   "execution_count": 58,
   "id": "c0832f59",
   "metadata": {
    "execution": {
     "iopub.execute_input": "2025-03-23T01:41:49.639551Z",
     "iopub.status.busy": "2025-03-23T01:41:49.639130Z",
     "iopub.status.idle": "2025-03-23T01:41:49.648637Z",
     "shell.execute_reply": "2025-03-23T01:41:49.648085Z"
    }
   },
   "outputs": [
    {
     "data": {
      "text/html": [
       "<div class='scp-output'><details><summary>Coord: [float64] h (size: 6)[u]</summary><div class=\"scp-output section\"><details><summary>Summary</summary>\n",
       "<div class=\"scp-output section\"><div class=\"attr-name\">         size</div><div>:</div><div class=\"attr-value\"> 6</div></div>\n",
       "<div class=\"scp-output section\"><div class=\"attr-name\">        title</div><div>:</div><div class=\"attr-value\"> elapsed time</div></div>\n",
       "<div class=\"scp-output section\"><div class=\"attr-name\">  coordinates</div><div>:</div><div class=\"attr-value\"> <div class='numeric'>[       0      400      800     1200     1600     2000] h</div></div></div></details></div></details></div>"
      ],
      "text/plain": [
       "Coord: [float64] h (size: 6)"
      ]
     },
     "execution_count": 58,
     "metadata": {},
     "output_type": "execute_result"
    }
   ],
   "source": [
    "d3D.u = d3D.u * 2\n",
    "d3D.u"
   ]
  },
  {
   "cell_type": "markdown",
   "id": "bff6918a",
   "metadata": {},
   "source": [
    "The ufunc numpy functions can also be applied, and will affect both the magnitude and\n",
    "the units of the coordinates:"
   ]
  },
  {
   "cell_type": "code",
   "execution_count": 59,
   "id": "85854529",
   "metadata": {
    "execution": {
     "iopub.execute_input": "2025-03-23T01:41:49.650521Z",
     "iopub.status.busy": "2025-03-23T01:41:49.650098Z",
     "iopub.status.idle": "2025-03-23T01:41:49.660518Z",
     "shell.execute_reply": "2025-03-23T01:41:49.659966Z"
    }
   },
   "outputs": [
    {
     "data": {
      "text/html": [
       "<div class='scp-output'><details><summary>Coord: [float64] h⁰⋅⁵ (size: 6)[u]</summary><div class=\"scp-output section\"><details><summary>Summary</summary>\n",
       "<div class=\"scp-output section\"><div class=\"attr-name\">         size</div><div>:</div><div class=\"attr-value\"> 6</div></div>\n",
       "<div class=\"scp-output section\"><div class=\"attr-name\">        title</div><div>:</div><div class=\"attr-value\"> sqrt(elapsed time)</div></div>\n",
       "<div class=\"scp-output section\"><div class=\"attr-name\">  coordinates</div><div>:</div><div class=\"attr-value\"> <div class='numeric'>[     1.5     21.5    29.78    36.14     41.5    46.22] h⁰⋅⁵</div></div></div></details></div></details></div>"
      ],
      "text/plain": [
       "Coord: [float64] h⁰⋅⁵ (size: 6)"
      ]
     },
     "execution_count": 59,
     "metadata": {},
     "output_type": "execute_result"
    }
   ],
   "source": [
    "d3D.u = 1.5 + np.sqrt(d3D.u)\n",
    "d3D.u"
   ]
  },
  {
   "cell_type": "markdown",
   "id": "dfd34518",
   "metadata": {},
   "source": [
    "A particularly frequent use case is to subtract the initial value from a coordinate. This can be done\n",
    "directly with the `-` operator:"
   ]
  },
  {
   "cell_type": "code",
   "execution_count": 60,
   "id": "84175584",
   "metadata": {
    "execution": {
     "iopub.execute_input": "2025-03-23T01:41:49.662455Z",
     "iopub.status.busy": "2025-03-23T01:41:49.662095Z",
     "iopub.status.idle": "2025-03-23T01:41:49.673692Z",
     "shell.execute_reply": "2025-03-23T01:41:49.673123Z"
    }
   },
   "outputs": [
    {
     "data": {
      "text/html": [
       "<div class='scp-output'><details><summary>Coord: [float64] h⁰⋅⁵ (size: 6)[u]</summary><div class=\"scp-output section\"><details><summary>Summary</summary>\n",
       "<div class=\"scp-output section\"><div class=\"attr-name\">         size</div><div>:</div><div class=\"attr-value\"> 6</div></div>\n",
       "<div class=\"scp-output section\"><div class=\"attr-name\">        title</div><div>:</div><div class=\"attr-value\"> sqrt(elapsed time)</div></div>\n",
       "<div class=\"scp-output section\"><div class=\"attr-name\">  coordinates</div><div>:</div><div class=\"attr-value\"> <div class='numeric'>[       0       20    28.28    34.64       40    44.72] h⁰⋅⁵</div></div></div></details></div></details></div>"
      ],
      "text/plain": [
       "Coord: [float64] h⁰⋅⁵ (size: 6)"
      ]
     },
     "execution_count": 60,
     "metadata": {},
     "output_type": "execute_result"
    }
   ],
   "source": [
    "d3D.u = d3D.u - d3D.u[0]\n",
    "d3D.u"
   ]
  },
  {
   "cell_type": "markdown",
   "id": "71df061b",
   "metadata": {},
   "source": [
    "The operations above will generally *not* work on multiple coordinates, and\n",
    "will raise an error if attempted:"
   ]
  },
  {
   "cell_type": "code",
   "execution_count": 61,
   "id": "3fe4c763",
   "metadata": {
    "execution": {
     "iopub.execute_input": "2025-03-23T01:41:49.675881Z",
     "iopub.status.busy": "2025-03-23T01:41:49.675465Z",
     "iopub.status.idle": "2025-03-23T01:41:49.679608Z",
     "shell.execute_reply": "2025-03-23T01:41:49.679155Z"
    }
   },
   "outputs": [
    {
     "name": "stderr",
     "output_type": "stream",
     "text": [
      " ERROR | NotImplementedError: Subtraction f a CoordSet with an object of type <class 'float'> is not implemented yet\n"
     ]
    }
   ],
   "source": [
    "try:\n",
    "    d3D.v = d3D.v - 1.5\n",
    "except NotImplementedError as e:\n",
    "    scp.error_(NotImplementedError, e)"
   ]
  },
  {
   "cell_type": "markdown",
   "id": "d060552c",
   "metadata": {},
   "source": [
    "Only subtraction between multiple coordinates is allowed, and will return a new `CoordSet` where each coordinate\n",
    "has been subtracted:"
   ]
  },
  {
   "cell_type": "code",
   "execution_count": 62,
   "id": "4973a94c",
   "metadata": {
    "execution": {
     "iopub.execute_input": "2025-03-23T01:41:49.681530Z",
     "iopub.status.busy": "2025-03-23T01:41:49.681209Z",
     "iopub.status.idle": "2025-03-23T01:41:49.704154Z",
     "shell.execute_reply": "2025-03-23T01:41:49.703558Z"
    }
   },
   "outputs": [
    {
     "data": {
      "text/html": [
       "<div class='scp-output'><details><summary>CoordSet: [_1:magnetic field, _2:temperature][v]</summary><div class=\"scp-output section\"><details><summary>     Dimension `_1`</summary>\n",
       "<div class=\"scp-output section\"><div class=\"attr-name\">         size</div><div>:</div><div class=\"attr-value\"> 4</div></div>\n",
       "<div class=\"scp-output section\"><div class=\"attr-name\">        title</div><div>:</div><div class=\"attr-value\"> magnetic field</div></div>\n",
       "<div class=\"scp-output section\"><div class=\"attr-name\">  coordinates</div><div>:</div><div class=\"attr-value\"> <div class='numeric'>[       0        1        2        3] mT</div></div></div></details></div>\n",
       "<div class=\"scp-output section\"><details><summary>     Dimension `_2`</summary>\n",
       "<div class=\"scp-output section\"><div class=\"attr-name\">         size</div><div>:</div><div class=\"attr-value\"> 4</div></div>\n",
       "<div class=\"scp-output section\"><div class=\"attr-name\">        title</div><div>:</div><div class=\"attr-value\"> temperature</div></div>\n",
       "<div class=\"scp-output section\"><div class=\"attr-name\">  coordinates</div><div>:</div><div class=\"attr-value\"> <div class='numeric'>[       0    1.667    3.333        5] K</div></div></div></details></div></details></div>"
      ],
      "text/plain": [
       "CoordSet: [_1:magnetic field, _2:temperature]"
      ]
     },
     "execution_count": 62,
     "metadata": {},
     "output_type": "execute_result"
    }
   ],
   "source": [
    "d3D.v = d3D.v - d3D.v[0]\n",
    "d3D.v"
   ]
  },
  {
   "cell_type": "markdown",
   "id": "8c7cfe44",
   "metadata": {},
   "source": [
    "It is always possible to carry out operations on a given coordinate\n",
    "of a CoordSet. This must be done by accessing the coordinate by its name, e.g. `'temperature'` or `'_2'` for\n",
    "the second coordinate of the `v` dimension:"
   ]
  },
  {
   "cell_type": "code",
   "execution_count": 63,
   "id": "1f38b37d",
   "metadata": {
    "execution": {
     "iopub.execute_input": "2025-03-23T01:41:49.706016Z",
     "iopub.status.busy": "2025-03-23T01:41:49.705695Z",
     "iopub.status.idle": "2025-03-23T01:41:49.712490Z",
     "shell.execute_reply": "2025-03-23T01:41:49.711954Z"
    }
   },
   "outputs": [
    {
     "data": {
      "text/html": [
       "<div class='scp-output'><details><summary>CoordSet: [_1:magnetic field, _2:temperature][v]</summary><div class=\"scp-output section\"><details><summary>     Dimension `_1`</summary>\n",
       "<div class=\"scp-output section\"><div class=\"attr-name\">         size</div><div>:</div><div class=\"attr-value\"> 4</div></div>\n",
       "<div class=\"scp-output section\"><div class=\"attr-name\">        title</div><div>:</div><div class=\"attr-value\"> magnetic field</div></div>\n",
       "<div class=\"scp-output section\"><div class=\"attr-name\">  coordinates</div><div>:</div><div class=\"attr-value\"> <div class='numeric'>[       0        1        2        3] mT</div></div></div></details></div>\n",
       "<div class=\"scp-output section\"><details><summary>     Dimension `_2`</summary>\n",
       "<div class=\"scp-output section\"><div class=\"attr-name\">         size</div><div>:</div><div class=\"attr-value\"> 4</div></div>\n",
       "<div class=\"scp-output section\"><div class=\"attr-name\">        title</div><div>:</div><div class=\"attr-value\"> temperature</div></div>\n",
       "<div class=\"scp-output section\"><div class=\"attr-name\">  coordinates</div><div>:</div><div class=\"attr-value\"> <div class='numeric'>[       5    6.667    8.333       10] K</div></div></div></details></div></details></div>"
      ],
      "text/plain": [
       "CoordSet: [_1:magnetic field, _2:temperature]"
      ]
     },
     "execution_count": 63,
     "metadata": {},
     "output_type": "execute_result"
    }
   ],
   "source": [
    "d3D.v[\"_2\"] = d3D.v[\"_2\"] + 5.0\n",
    "d3D.v"
   ]
  },
  {
   "cell_type": "markdown",
   "id": "4e781d68",
   "metadata": {},
   "source": [
    "## Summary of the coordinate setting syntax\n",
    "Some additional information about coordinate setting syntax"
   ]
  },
  {
   "cell_type": "markdown",
   "id": "9e2460c8",
   "metadata": {},
   "source": [
    "**A.** First syntax (probably the safer because the name of the dimension is\n",
    "specified, so this is less prone to\n",
    "errors!)"
   ]
  },
  {
   "cell_type": "code",
   "execution_count": 64,
   "id": "fd11005c",
   "metadata": {
    "execution": {
     "iopub.execute_input": "2025-03-23T01:41:49.714354Z",
     "iopub.status.busy": "2025-03-23T01:41:49.714071Z",
     "iopub.status.idle": "2025-03-23T01:41:49.739464Z",
     "shell.execute_reply": "2025-03-23T01:41:49.738864Z"
    }
   },
   "outputs": [
    {
     "data": {
      "text/html": [
       "<div class='scp-output'><details><summary>NDDataset: [float64] unitless (shape: (t:2, v:4, u:6))[3D_dataset]</summary><div class=\"scp-output section\"><details><summary>Summary</summary>\n",
       "<div class=\"scp-output section\"><div class=\"attr-name\">         name</div><div>:</div><div class=\"attr-value\"> 3D_dataset</div></div>\n",
       "<div class=\"scp-output section\"><div class=\"attr-name\">       author</div><div>:</div><div class=\"attr-value\"> Someone</div></div>\n",
       "<div class=\"scp-output section\"><div class=\"attr-name\">      created</div><div>:</div><div class=\"attr-value\"> 2025-03-23 01:41:49+00:00</div></div>\n",
       "<div class=\"scp-output section\"><div class=\"attr-name\">  description</div><div>:</div><div class=\"attr-value\"> <div>a single statement creation example</div></div></div>\n",
       "<div class=\"scp-output section\"><div class=\"attr-name\">      history</div><div>:</div><div class=\"attr-value\"> <div>2025-03-23 01:41:49+00:00> Created from scratch</div></div></div></details></div>\n",
       "<div class=\"scp-output section\"><details><summary>          Data </summary>\n",
       "<div class=\"scp-output section\"><div class=\"attr-name\">        title</div><div>:</div><div class=\"attr-value\"> Energy</div></div>\n",
       "<div class=\"scp-output section\"><div class=\"attr-name\">       values</div><div>:</div><div class=\"attr-value\"> ... </div></div>\n",
       "<div class='numeric'>         [[[  0.3369  0.05231 ...   0.1966   0.9632]<br/>           [  0.9854   0.3874 ...   0.5618   0.8939]<br/>           [   0.531   0.3263 ...   0.1999   0.5257]<br/>           [  0.4342    0.804 ...   0.5103    0.462]]<br/><br/>          [[  0.1426   0.4167 ...   0.2737   0.1098]<br/>           [  0.8346   0.4662 ...    0.324  0.08045]<br/>           [  0.3628   0.8164 ...     0.13   0.5417]<br/>           [  0.5358   0.5377 ...   0.4398   0.7871]]]</div>\n",
       "<div class=\"scp-output section\"><div class=\"attr-name\">        shape</div><div>:</div><div class=\"attr-value\"> (t:2, v:4, u:6)</div></div></details></div>\n",
       "<div class=\"scp-output section\"><details><summary>     Dimension `t`</summary>\n",
       "<div class=\"scp-output section\"><div class=\"attr-name\">         size</div><div>:</div><div class=\"attr-value\"> 2</div></div>\n",
       "<div class=\"scp-output section\"><div class=\"attr-name\">        title</div><div>:</div><div class=\"attr-value\"> distance</div></div>\n",
       "<div class=\"scp-output section\"><div class=\"attr-name\">  coordinates</div><div>:</div><div class=\"attr-value\"> <div class='numeric'>[      10      100] m</div></div></div></details></div>\n",
       "<div class=\"scp-output section\"><details><summary>     Dimension `u`</summary>\n",
       "<div class=\"scp-output section\"><div class=\"attr-name\">         size</div><div>:</div><div class=\"attr-value\"> 6</div></div>\n",
       "<div class=\"scp-output section\"><div class=\"attr-name\">        title</div><div>:</div><div class=\"attr-value\"> elapsed time</div></div>\n",
       "<div class=\"scp-output section\"><div class=\"attr-name\">  coordinates</div><div>:</div><div class=\"attr-value\"> <div class='numeric'>[       0      200      400      600      800     1000] h</div></div></div></details></div>\n",
       "<div class=\"scp-output section\"><details><summary>     Dimension `v`</summary>\n",
       "<div class=\"scp-output section\"><div class=\"attr-name\">         size</div><div>:</div><div class=\"attr-value\"> 4</div></div>\n",
       "<span>          (_1)</span>\n",
       "<div class=\"scp-output section\"><div class=\"attr-name\">        title</div><div>:</div><div class=\"attr-value\"> magnetic field</div></div>\n",
       "<div class=\"scp-output section\"><div class=\"attr-name\">  coordinates</div><div>:</div><div class=\"attr-value\"> <div class='numeric'>[       1        2        3        4] mT</div></div></div>\n",
       "<span>          (_2)</span>\n",
       "<div class=\"scp-output section\"><div class=\"attr-name\">        title</div><div>:</div><div class=\"attr-value\"> temperature</div></div>\n",
       "<div class=\"scp-output section\"><div class=\"attr-name\">  coordinates</div><div>:</div><div class=\"attr-value\"> <div class='numeric'>[      20    21.67    23.33       25] K</div></div></div></details></div></details></div>"
      ],
      "text/plain": [
       "NDDataset: [float64] unitless (shape: (t:2, v:4, u:6))"
      ]
     },
     "execution_count": 64,
     "metadata": {},
     "output_type": "execute_result"
    }
   ],
   "source": [
    "d3D.set_coordset(u=coord2, v=[coord1, coord1b], t=coord0)\n",
    "# or equivalent\n",
    "d3D.set_coordset(u=coord2, v=CoordSet(coord1, coord1b), t=coord0)\n",
    "d3D"
   ]
  },
  {
   "cell_type": "markdown",
   "id": "2b0aa9e0",
   "metadata": {},
   "source": [
    "**B.** Second syntax assuming the coordinates are given in the order of the\n",
    "dimensions.\n",
    "\n",
    "Remember that we can check this order using the `dims` attribute of a NDDataset"
   ]
  },
  {
   "cell_type": "code",
   "execution_count": 65,
   "id": "84945ccc",
   "metadata": {
    "execution": {
     "iopub.execute_input": "2025-03-23T01:41:49.741671Z",
     "iopub.status.busy": "2025-03-23T01:41:49.741183Z",
     "iopub.status.idle": "2025-03-23T01:41:49.745234Z",
     "shell.execute_reply": "2025-03-23T01:41:49.744666Z"
    }
   },
   "outputs": [
    {
     "data": {
      "text/plain": [
       "['t', 'v', 'u']"
      ]
     },
     "execution_count": 65,
     "metadata": {},
     "output_type": "execute_result"
    }
   ],
   "source": [
    "d3D.dims"
   ]
  },
  {
   "cell_type": "code",
   "execution_count": 66,
   "id": "05ab7906",
   "metadata": {
    "execution": {
     "iopub.execute_input": "2025-03-23T01:41:49.747027Z",
     "iopub.status.busy": "2025-03-23T01:41:49.746704Z",
     "iopub.status.idle": "2025-03-23T01:41:49.776513Z",
     "shell.execute_reply": "2025-03-23T01:41:49.775944Z"
    }
   },
   "outputs": [
    {
     "data": {
      "text/html": [
       "<div class='scp-output'><details><summary>NDDataset: [float64] unitless (shape: (t:2, v:4, u:6))[3D_dataset]</summary><div class=\"scp-output section\"><details><summary>Summary</summary>\n",
       "<div class=\"scp-output section\"><div class=\"attr-name\">         name</div><div>:</div><div class=\"attr-value\"> 3D_dataset</div></div>\n",
       "<div class=\"scp-output section\"><div class=\"attr-name\">       author</div><div>:</div><div class=\"attr-value\"> Someone</div></div>\n",
       "<div class=\"scp-output section\"><div class=\"attr-name\">      created</div><div>:</div><div class=\"attr-value\"> 2025-03-23 01:41:49+00:00</div></div>\n",
       "<div class=\"scp-output section\"><div class=\"attr-name\">  description</div><div>:</div><div class=\"attr-value\"> <div>a single statement creation example</div></div></div>\n",
       "<div class=\"scp-output section\"><div class=\"attr-name\">      history</div><div>:</div><div class=\"attr-value\"> <div>2025-03-23 01:41:49+00:00> Created from scratch</div></div></div></details></div>\n",
       "<div class=\"scp-output section\"><details><summary>          Data </summary>\n",
       "<div class=\"scp-output section\"><div class=\"attr-name\">        title</div><div>:</div><div class=\"attr-value\"> Energy</div></div>\n",
       "<div class=\"scp-output section\"><div class=\"attr-name\">       values</div><div>:</div><div class=\"attr-value\"> ... </div></div>\n",
       "<div class='numeric'>         [[[  0.3369  0.05231 ...   0.1966   0.9632]<br/>           [  0.9854   0.3874 ...   0.5618   0.8939]<br/>           [   0.531   0.3263 ...   0.1999   0.5257]<br/>           [  0.4342    0.804 ...   0.5103    0.462]]<br/><br/>          [[  0.1426   0.4167 ...   0.2737   0.1098]<br/>           [  0.8346   0.4662 ...    0.324  0.08045]<br/>           [  0.3628   0.8164 ...     0.13   0.5417]<br/>           [  0.5358   0.5377 ...   0.4398   0.7871]]]</div>\n",
       "<div class=\"scp-output section\"><div class=\"attr-name\">        shape</div><div>:</div><div class=\"attr-value\"> (t:2, v:4, u:6)</div></div></details></div>\n",
       "<div class=\"scp-output section\"><details><summary>     Dimension `t`</summary>\n",
       "<div class=\"scp-output section\"><div class=\"attr-name\">         size</div><div>:</div><div class=\"attr-value\"> 2</div></div>\n",
       "<div class=\"scp-output section\"><div class=\"attr-name\">        title</div><div>:</div><div class=\"attr-value\"> distance</div></div>\n",
       "<div class=\"scp-output section\"><div class=\"attr-name\">  coordinates</div><div>:</div><div class=\"attr-value\"> <div class='numeric'>[      10      100] m</div></div></div></details></div>\n",
       "<div class=\"scp-output section\"><details><summary>     Dimension `u`</summary>\n",
       "<div class=\"scp-output section\"><div class=\"attr-name\">         size</div><div>:</div><div class=\"attr-value\"> 6</div></div>\n",
       "<div class=\"scp-output section\"><div class=\"attr-name\">        title</div><div>:</div><div class=\"attr-value\"> elapsed time</div></div>\n",
       "<div class=\"scp-output section\"><div class=\"attr-name\">  coordinates</div><div>:</div><div class=\"attr-value\"> <div class='numeric'>[       0      200      400      600      800     1000] h</div></div></div></details></div>\n",
       "<div class=\"scp-output section\"><details><summary>     Dimension `v`</summary>\n",
       "<div class=\"scp-output section\"><div class=\"attr-name\">         size</div><div>:</div><div class=\"attr-value\"> 4</div></div>\n",
       "<span>          (_1)</span>\n",
       "<div class=\"scp-output section\"><div class=\"attr-name\">        title</div><div>:</div><div class=\"attr-value\"> magnetic field</div></div>\n",
       "<div class=\"scp-output section\"><div class=\"attr-name\">  coordinates</div><div>:</div><div class=\"attr-value\"> <div class='numeric'>[       1        2        3        4] mT</div></div></div>\n",
       "<span>          (_2)</span>\n",
       "<div class=\"scp-output section\"><div class=\"attr-name\">        title</div><div>:</div><div class=\"attr-value\"> temperature</div></div>\n",
       "<div class=\"scp-output section\"><div class=\"attr-name\">  coordinates</div><div>:</div><div class=\"attr-value\"> <div class='numeric'>[      20    21.67    23.33       25] K</div></div></div></details></div></details></div>"
      ],
      "text/plain": [
       "NDDataset: [float64] unitless (shape: (t:2, v:4, u:6))"
      ]
     },
     "execution_count": 66,
     "metadata": {},
     "output_type": "execute_result"
    }
   ],
   "source": [
    "d3D.set_coordset((coord0, [coord1, coord1b], coord2))\n",
    "# or equivalent\n",
    "d3D.set_coordset(coord0, CoordSet(coord1, coord1b), coord2)\n",
    "d3D"
   ]
  },
  {
   "cell_type": "markdown",
   "id": "aadf66e6",
   "metadata": {},
   "source": [
    "**C.** Third syntax (from a dictionary)"
   ]
  },
  {
   "cell_type": "code",
   "execution_count": 67,
   "id": "7d2633e9",
   "metadata": {
    "execution": {
     "iopub.execute_input": "2025-03-23T01:41:49.778521Z",
     "iopub.status.busy": "2025-03-23T01:41:49.778148Z",
     "iopub.status.idle": "2025-03-23T01:41:49.791871Z",
     "shell.execute_reply": "2025-03-23T01:41:49.791257Z"
    }
   },
   "outputs": [
    {
     "data": {
      "text/html": [
       "<div class='scp-output'><details><summary>NDDataset: [float64] unitless (shape: (t:2, v:4, u:6))[3D_dataset]</summary><div class=\"scp-output section\"><details><summary>Summary</summary>\n",
       "<div class=\"scp-output section\"><div class=\"attr-name\">         name</div><div>:</div><div class=\"attr-value\"> 3D_dataset</div></div>\n",
       "<div class=\"scp-output section\"><div class=\"attr-name\">       author</div><div>:</div><div class=\"attr-value\"> Someone</div></div>\n",
       "<div class=\"scp-output section\"><div class=\"attr-name\">      created</div><div>:</div><div class=\"attr-value\"> 2025-03-23 01:41:49+00:00</div></div>\n",
       "<div class=\"scp-output section\"><div class=\"attr-name\">  description</div><div>:</div><div class=\"attr-value\"> <div>a single statement creation example</div></div></div>\n",
       "<div class=\"scp-output section\"><div class=\"attr-name\">      history</div><div>:</div><div class=\"attr-value\"> <div>2025-03-23 01:41:49+00:00> Created from scratch</div></div></div></details></div>\n",
       "<div class=\"scp-output section\"><details><summary>          Data </summary>\n",
       "<div class=\"scp-output section\"><div class=\"attr-name\">        title</div><div>:</div><div class=\"attr-value\"> Energy</div></div>\n",
       "<div class=\"scp-output section\"><div class=\"attr-name\">       values</div><div>:</div><div class=\"attr-value\"> ... </div></div>\n",
       "<div class='numeric'>         [[[  0.3369  0.05231 ...   0.1966   0.9632]<br/>           [  0.9854   0.3874 ...   0.5618   0.8939]<br/>           [   0.531   0.3263 ...   0.1999   0.5257]<br/>           [  0.4342    0.804 ...   0.5103    0.462]]<br/><br/>          [[  0.1426   0.4167 ...   0.2737   0.1098]<br/>           [  0.8346   0.4662 ...    0.324  0.08045]<br/>           [  0.3628   0.8164 ...     0.13   0.5417]<br/>           [  0.5358   0.5377 ...   0.4398   0.7871]]]</div>\n",
       "<div class=\"scp-output section\"><div class=\"attr-name\">        shape</div><div>:</div><div class=\"attr-value\"> (t:2, v:4, u:6)</div></div></details></div>\n",
       "<div class=\"scp-output section\"><details><summary>     Dimension `t`</summary>\n",
       "<div class=\"scp-output section\"><div class=\"attr-name\">         size</div><div>:</div><div class=\"attr-value\"> 2</div></div>\n",
       "<div class=\"scp-output section\"><div class=\"attr-name\">        title</div><div>:</div><div class=\"attr-value\"> distance</div></div>\n",
       "<div class=\"scp-output section\"><div class=\"attr-name\">  coordinates</div><div>:</div><div class=\"attr-value\"> <div class='numeric'>[      10      100] m</div></div></div></details></div>\n",
       "<div class=\"scp-output section\"><details><summary>     Dimension `u`</summary>\n",
       "<div class=\"scp-output section\"><div class=\"attr-name\">         size</div><div>:</div><div class=\"attr-value\"> 6</div></div>\n",
       "<div class=\"scp-output section\"><div class=\"attr-name\">        title</div><div>:</div><div class=\"attr-value\"> elapsed time</div></div>\n",
       "<div class=\"scp-output section\"><div class=\"attr-name\">  coordinates</div><div>:</div><div class=\"attr-value\"> <div class='numeric'>[       0      200      400      600      800     1000] h</div></div></div></details></div>\n",
       "<div class=\"scp-output section\"><details><summary>     Dimension `v`</summary>\n",
       "<div class=\"scp-output section\"><div class=\"attr-name\">         size</div><div>:</div><div class=\"attr-value\"> 4</div></div>\n",
       "<span>          (_1)</span>\n",
       "<div class=\"scp-output section\"><div class=\"attr-name\">        title</div><div>:</div><div class=\"attr-value\"> magnetic field</div></div>\n",
       "<div class=\"scp-output section\"><div class=\"attr-name\">  coordinates</div><div>:</div><div class=\"attr-value\"> <div class='numeric'>[       1        2        3        4] mT</div></div></div>\n",
       "<span>          (_2)</span>\n",
       "<div class=\"scp-output section\"><div class=\"attr-name\">        title</div><div>:</div><div class=\"attr-value\"> temperature</div></div>\n",
       "<div class=\"scp-output section\"><div class=\"attr-name\">  coordinates</div><div>:</div><div class=\"attr-value\"> <div class='numeric'>[      20    21.67    23.33       25] K</div></div></div></details></div></details></div>"
      ],
      "text/plain": [
       "NDDataset: [float64] unitless (shape: (t:2, v:4, u:6))"
      ]
     },
     "execution_count": 67,
     "metadata": {},
     "output_type": "execute_result"
    }
   ],
   "source": [
    "d3D.set_coordset({\"t\": coord0, \"u\": coord2, \"v\": [coord1, coord1b]})\n",
    "d3D"
   ]
  },
  {
   "cell_type": "markdown",
   "id": "866b1cca",
   "metadata": {},
   "source": [
    "**D.** It is also possible to use directly the `CoordSet` property"
   ]
  },
  {
   "cell_type": "code",
   "execution_count": 68,
   "id": "d1acfa38",
   "metadata": {
    "execution": {
     "iopub.execute_input": "2025-03-23T01:41:49.794245Z",
     "iopub.status.busy": "2025-03-23T01:41:49.793815Z",
     "iopub.status.idle": "2025-03-23T01:41:49.811007Z",
     "shell.execute_reply": "2025-03-23T01:41:49.810497Z"
    }
   },
   "outputs": [
    {
     "data": {
      "text/html": [
       "<div class='scp-output'><details><summary>NDDataset: [float64] unitless (shape: (t:2, v:4, u:6))[3D_dataset]</summary><div class=\"scp-output section\"><details><summary>Summary</summary>\n",
       "<div class=\"scp-output section\"><div class=\"attr-name\">         name</div><div>:</div><div class=\"attr-value\"> 3D_dataset</div></div>\n",
       "<div class=\"scp-output section\"><div class=\"attr-name\">       author</div><div>:</div><div class=\"attr-value\"> Someone</div></div>\n",
       "<div class=\"scp-output section\"><div class=\"attr-name\">      created</div><div>:</div><div class=\"attr-value\"> 2025-03-23 01:41:49+00:00</div></div>\n",
       "<div class=\"scp-output section\"><div class=\"attr-name\">  description</div><div>:</div><div class=\"attr-value\"> <div>a single statement creation example</div></div></div>\n",
       "<div class=\"scp-output section\"><div class=\"attr-name\">      history</div><div>:</div><div class=\"attr-value\"> <div>2025-03-23 01:41:49+00:00> Created from scratch</div></div></div></details></div>\n",
       "<div class=\"scp-output section\"><details><summary>          Data </summary>\n",
       "<div class=\"scp-output section\"><div class=\"attr-name\">        title</div><div>:</div><div class=\"attr-value\"> Energy</div></div>\n",
       "<div class=\"scp-output section\"><div class=\"attr-name\">       values</div><div>:</div><div class=\"attr-value\"> ... </div></div>\n",
       "<div class='numeric'>         [[[  0.3369  0.05231 ...   0.1966   0.9632]<br/>           [  0.9854   0.3874 ...   0.5618   0.8939]<br/>           [   0.531   0.3263 ...   0.1999   0.5257]<br/>           [  0.4342    0.804 ...   0.5103    0.462]]<br/><br/>          [[  0.1426   0.4167 ...   0.2737   0.1098]<br/>           [  0.8346   0.4662 ...    0.324  0.08045]<br/>           [  0.3628   0.8164 ...     0.13   0.5417]<br/>           [  0.5358   0.5377 ...   0.4398   0.7871]]]</div>\n",
       "<div class=\"scp-output section\"><div class=\"attr-name\">        shape</div><div>:</div><div class=\"attr-value\"> (t:2, v:4, u:6)</div></div></details></div>\n",
       "<div class=\"scp-output section\"><details><summary>     Dimension `t`</summary>\n",
       "<div class=\"scp-output section\"><div class=\"attr-name\">         size</div><div>:</div><div class=\"attr-value\"> 2</div></div>\n",
       "<div class=\"scp-output section\"><div class=\"attr-name\">        title</div><div>:</div><div class=\"attr-value\"> distance</div></div>\n",
       "<div class=\"scp-output section\"><div class=\"attr-name\">  coordinates</div><div>:</div><div class=\"attr-value\"> <div class='numeric'>[      10      100] m</div></div></div></details></div>\n",
       "<div class=\"scp-output section\"><details><summary>     Dimension `u`</summary>\n",
       "<div class=\"scp-output section\"><div class=\"attr-name\">         size</div><div>:</div><div class=\"attr-value\"> 6</div></div>\n",
       "<div class=\"scp-output section\"><div class=\"attr-name\">        title</div><div>:</div><div class=\"attr-value\"> elapsed time</div></div>\n",
       "<div class=\"scp-output section\"><div class=\"attr-name\">  coordinates</div><div>:</div><div class=\"attr-value\"> <div class='numeric'>[       0      200      400      600      800     1000] h</div></div></div></details></div>\n",
       "<div class=\"scp-output section\"><details><summary>     Dimension `v`</summary>\n",
       "<div class=\"scp-output section\"><div class=\"attr-name\">         size</div><div>:</div><div class=\"attr-value\"> 4</div></div>\n",
       "<span>          (_1)</span>\n",
       "<div class=\"scp-output section\"><div class=\"attr-name\">        title</div><div>:</div><div class=\"attr-value\"> temperature</div></div>\n",
       "<div class=\"scp-output section\"><div class=\"attr-name\">  coordinates</div><div>:</div><div class=\"attr-value\"> <div class='numeric'>[      20    21.67    23.33       25] K</div></div></div>\n",
       "<span>          (_2)</span>\n",
       "<div class=\"scp-output section\"><div class=\"attr-name\">        title</div><div>:</div><div class=\"attr-value\"> magnetic field</div></div>\n",
       "<div class=\"scp-output section\"><div class=\"attr-name\">  coordinates</div><div>:</div><div class=\"attr-value\"> <div class='numeric'>[       1        2        3        4] mT</div></div></div></details></div></details></div>"
      ],
      "text/plain": [
       "NDDataset: [float64] unitless (shape: (t:2, v:4, u:6))"
      ]
     },
     "execution_count": 68,
     "metadata": {},
     "output_type": "execute_result"
    }
   ],
   "source": [
    "d3D.coordset = coord0, [coord1, coord1b], coord2\n",
    "d3D"
   ]
  },
  {
   "cell_type": "code",
   "execution_count": 69,
   "id": "4e8df580",
   "metadata": {
    "execution": {
     "iopub.execute_input": "2025-03-23T01:41:49.812670Z",
     "iopub.status.busy": "2025-03-23T01:41:49.812486Z",
     "iopub.status.idle": "2025-03-23T01:41:49.826257Z",
     "shell.execute_reply": "2025-03-23T01:41:49.825758Z"
    }
   },
   "outputs": [
    {
     "data": {
      "text/html": [
       "<div class='scp-output'><details><summary>NDDataset: [float64] unitless (shape: (t:2, v:4, u:6))[3D_dataset]</summary><div class=\"scp-output section\"><details><summary>Summary</summary>\n",
       "<div class=\"scp-output section\"><div class=\"attr-name\">         name</div><div>:</div><div class=\"attr-value\"> 3D_dataset</div></div>\n",
       "<div class=\"scp-output section\"><div class=\"attr-name\">       author</div><div>:</div><div class=\"attr-value\"> Someone</div></div>\n",
       "<div class=\"scp-output section\"><div class=\"attr-name\">      created</div><div>:</div><div class=\"attr-value\"> 2025-03-23 01:41:49+00:00</div></div>\n",
       "<div class=\"scp-output section\"><div class=\"attr-name\">  description</div><div>:</div><div class=\"attr-value\"> <div>a single statement creation example</div></div></div>\n",
       "<div class=\"scp-output section\"><div class=\"attr-name\">      history</div><div>:</div><div class=\"attr-value\"> <div>2025-03-23 01:41:49+00:00> Created from scratch</div></div></div></details></div>\n",
       "<div class=\"scp-output section\"><details><summary>          Data </summary>\n",
       "<div class=\"scp-output section\"><div class=\"attr-name\">        title</div><div>:</div><div class=\"attr-value\"> Energy</div></div>\n",
       "<div class=\"scp-output section\"><div class=\"attr-name\">       values</div><div>:</div><div class=\"attr-value\"> ... </div></div>\n",
       "<div class='numeric'>         [[[  0.3369  0.05231 ...   0.1966   0.9632]<br/>           [  0.9854   0.3874 ...   0.5618   0.8939]<br/>           [   0.531   0.3263 ...   0.1999   0.5257]<br/>           [  0.4342    0.804 ...   0.5103    0.462]]<br/><br/>          [[  0.1426   0.4167 ...   0.2737   0.1098]<br/>           [  0.8346   0.4662 ...    0.324  0.08045]<br/>           [  0.3628   0.8164 ...     0.13   0.5417]<br/>           [  0.5358   0.5377 ...   0.4398   0.7871]]]</div>\n",
       "<div class=\"scp-output section\"><div class=\"attr-name\">        shape</div><div>:</div><div class=\"attr-value\"> (t:2, v:4, u:6)</div></div></details></div>\n",
       "<div class=\"scp-output section\"><details><summary>     Dimension `t`</summary>\n",
       "<div class=\"scp-output section\"><div class=\"attr-name\">         size</div><div>:</div><div class=\"attr-value\"> 2</div></div>\n",
       "<div class=\"scp-output section\"><div class=\"attr-name\">        title</div><div>:</div><div class=\"attr-value\"> distance</div></div>\n",
       "<div class=\"scp-output section\"><div class=\"attr-name\">  coordinates</div><div>:</div><div class=\"attr-value\"> <div class='numeric'>[      10      100] m</div></div></div></details></div>\n",
       "<div class=\"scp-output section\"><details><summary>     Dimension `u`</summary>\n",
       "<div class=\"scp-output section\"><div class=\"attr-name\">         size</div><div>:</div><div class=\"attr-value\"> 6</div></div>\n",
       "<div class=\"scp-output section\"><div class=\"attr-name\">        title</div><div>:</div><div class=\"attr-value\"> elapsed time</div></div>\n",
       "<div class=\"scp-output section\"><div class=\"attr-name\">  coordinates</div><div>:</div><div class=\"attr-value\"> <div class='numeric'>[       0      200      400      600      800     1000] h</div></div></div></details></div>\n",
       "<div class=\"scp-output section\"><details><summary>     Dimension `v`</summary>\n",
       "<div class=\"scp-output section\"><div class=\"attr-name\">         size</div><div>:</div><div class=\"attr-value\"> 4</div></div>\n",
       "<span>          (_1)</span>\n",
       "<div class=\"scp-output section\"><div class=\"attr-name\">        title</div><div>:</div><div class=\"attr-value\"> magnetic field</div></div>\n",
       "<div class=\"scp-output section\"><div class=\"attr-name\">  coordinates</div><div>:</div><div class=\"attr-value\"> <div class='numeric'>[       1        2        3        4] mT</div></div></div>\n",
       "<span>          (_2)</span>\n",
       "<div class=\"scp-output section\"><div class=\"attr-name\">        title</div><div>:</div><div class=\"attr-value\"> temperature</div></div>\n",
       "<div class=\"scp-output section\"><div class=\"attr-name\">  coordinates</div><div>:</div><div class=\"attr-value\"> <div class='numeric'>[      20    21.67    23.33       25] K</div></div></div></details></div></details></div>"
      ],
      "text/plain": [
       "NDDataset: [float64] unitless (shape: (t:2, v:4, u:6))"
      ]
     },
     "execution_count": 69,
     "metadata": {},
     "output_type": "execute_result"
    }
   ],
   "source": [
    "d3D.coordset = {\"t\": coord0, \"u\": coord2, \"v\": [coord1, coord1b]}\n",
    "d3D"
   ]
  },
  {
   "cell_type": "code",
   "execution_count": 70,
   "id": "eee7d061",
   "metadata": {
    "execution": {
     "iopub.execute_input": "2025-03-23T01:41:49.827983Z",
     "iopub.status.busy": "2025-03-23T01:41:49.827776Z",
     "iopub.status.idle": "2025-03-23T01:41:49.845917Z",
     "shell.execute_reply": "2025-03-23T01:41:49.845435Z"
    }
   },
   "outputs": [
    {
     "data": {
      "text/html": [
       "<div class='scp-output'><details><summary>NDDataset: [float64] unitless (shape: (t:2, v:4, u:6))[3D_dataset]</summary><div class=\"scp-output section\"><details><summary>Summary</summary>\n",
       "<div class=\"scp-output section\"><div class=\"attr-name\">         name</div><div>:</div><div class=\"attr-value\"> 3D_dataset</div></div>\n",
       "<div class=\"scp-output section\"><div class=\"attr-name\">       author</div><div>:</div><div class=\"attr-value\"> Someone</div></div>\n",
       "<div class=\"scp-output section\"><div class=\"attr-name\">      created</div><div>:</div><div class=\"attr-value\"> 2025-03-23 01:41:49+00:00</div></div>\n",
       "<div class=\"scp-output section\"><div class=\"attr-name\">  description</div><div>:</div><div class=\"attr-value\"> <div>a single statement creation example</div></div></div>\n",
       "<div class=\"scp-output section\"><div class=\"attr-name\">      history</div><div>:</div><div class=\"attr-value\"> <div>2025-03-23 01:41:49+00:00> Created from scratch</div></div></div></details></div>\n",
       "<div class=\"scp-output section\"><details><summary>          Data </summary>\n",
       "<div class=\"scp-output section\"><div class=\"attr-name\">        title</div><div>:</div><div class=\"attr-value\"> Energy</div></div>\n",
       "<div class=\"scp-output section\"><div class=\"attr-name\">       values</div><div>:</div><div class=\"attr-value\"> ... </div></div>\n",
       "<div class='numeric'>         [[[  0.3369  0.05231 ...   0.1966   0.9632]<br/>           [  0.9854   0.3874 ...   0.5618   0.8939]<br/>           [   0.531   0.3263 ...   0.1999   0.5257]<br/>           [  0.4342    0.804 ...   0.5103    0.462]]<br/><br/>          [[  0.1426   0.4167 ...   0.2737   0.1098]<br/>           [  0.8346   0.4662 ...    0.324  0.08045]<br/>           [  0.3628   0.8164 ...     0.13   0.5417]<br/>           [  0.5358   0.5377 ...   0.4398   0.7871]]]</div>\n",
       "<div class=\"scp-output section\"><div class=\"attr-name\">        shape</div><div>:</div><div class=\"attr-value\"> (t:2, v:4, u:6)</div></div></details></div>\n",
       "<div class=\"scp-output section\"><details><summary>     Dimension `t`</summary>\n",
       "<div class=\"scp-output section\"><div class=\"attr-name\">         size</div><div>:</div><div class=\"attr-value\"> 2</div></div>\n",
       "<div class=\"scp-output section\"><div class=\"attr-name\">        title</div><div>:</div><div class=\"attr-value\"> distance</div></div>\n",
       "<div class=\"scp-output section\"><div class=\"attr-name\">  coordinates</div><div>:</div><div class=\"attr-value\"> <div class='numeric'>[      10      100] m</div></div></div></details></div>\n",
       "<div class=\"scp-output section\"><details><summary>     Dimension `u`</summary>\n",
       "<div class=\"scp-output section\"><div class=\"attr-name\">         size</div><div>:</div><div class=\"attr-value\"> 6</div></div>\n",
       "<div class=\"scp-output section\"><div class=\"attr-name\">        title</div><div>:</div><div class=\"attr-value\"> elapsed time</div></div>\n",
       "<div class=\"scp-output section\"><div class=\"attr-name\">  coordinates</div><div>:</div><div class=\"attr-value\"> <div class='numeric'>[       0      200      400      600      800     1000] h</div></div></div></details></div>\n",
       "<div class=\"scp-output section\"><details><summary>     Dimension `v`</summary>\n",
       "<div class=\"scp-output section\"><div class=\"attr-name\">         size</div><div>:</div><div class=\"attr-value\"> 4</div></div>\n",
       "<span>          (_1)</span>\n",
       "<div class=\"scp-output section\"><div class=\"attr-name\">        title</div><div>:</div><div class=\"attr-value\"> magnetic field</div></div>\n",
       "<div class=\"scp-output section\"><div class=\"attr-name\">  coordinates</div><div>:</div><div class=\"attr-value\"> <div class='numeric'>[       1        2        3        4] mT</div></div></div>\n",
       "<span>          (_2)</span>\n",
       "<div class=\"scp-output section\"><div class=\"attr-name\">        title</div><div>:</div><div class=\"attr-value\"> temperature</div></div>\n",
       "<div class=\"scp-output section\"><div class=\"attr-name\">  coordinates</div><div>:</div><div class=\"attr-value\"> <div class='numeric'>[      20    21.67    23.33       25] K</div></div></div></details></div></details></div>"
      ],
      "text/plain": [
       "NDDataset: [float64] unitless (shape: (t:2, v:4, u:6))"
      ]
     },
     "execution_count": 70,
     "metadata": {},
     "output_type": "execute_result"
    }
   ],
   "source": [
    "d3D.coordset = CoordSet(t=coord0, u=coord2, v=[coord1, coord1b])\n",
    "d3D"
   ]
  },
  {
   "cell_type": "markdown",
   "id": "32efbbac",
   "metadata": {},
   "source": [
    "<div class='alert alert-warning'>\n",
    "<b>WARNING</b>\n",
    "<p>\n",
    "Do not use lists for setting multiple coordinates across different dimensions! Use tuples instead.\n",
    "</p>\n",
    "<p>\n",
    "Lists have a special meaning in SpectroChemPy - they're used to set multiple coordinates for the same dimension.\n",
    "</p>\n",
    "</div>"
   ]
  },
  {
   "cell_type": "markdown",
   "id": "7d39fb79",
   "metadata": {},
   "source": [
    "This raises an error (lists have another meaning: they're used to set multiple coordinates\n",
    "for the same dimension, as shown in examples A and B above):"
   ]
  },
  {
   "cell_type": "code",
   "execution_count": 71,
   "id": "96c3cc5e",
   "metadata": {
    "execution": {
     "iopub.execute_input": "2025-03-23T01:41:49.847826Z",
     "iopub.status.busy": "2025-03-23T01:41:49.847636Z",
     "iopub.status.idle": "2025-03-23T01:41:49.859410Z",
     "shell.execute_reply": "2025-03-23T01:41:49.858918Z"
    }
   },
   "outputs": [
    {
     "name": "stderr",
     "output_type": "stream",
     "text": [
      " ERROR | ValueError: Coordinates must be of the same size for a dimension with multiple coordinates\n"
     ]
    }
   ],
   "source": [
    "try:\n",
    "    d3D.coordset = [coord0, coord1, coord2]\n",
    "except ValueError:\n",
    "    scp.error_(\n",
    "        ValueError,\n",
    "        \"Coordinates must be of the same size for a dimension with multiple coordinates\",\n",
    "    )"
   ]
  },
  {
   "cell_type": "markdown",
   "id": "7257bf6f",
   "metadata": {},
   "source": [
    "This works: it uses a tuple `()`, not a list `[]`"
   ]
  },
  {
   "cell_type": "code",
   "execution_count": 72,
   "id": "c7905059",
   "metadata": {
    "execution": {
     "iopub.execute_input": "2025-03-23T01:41:49.861258Z",
     "iopub.status.busy": "2025-03-23T01:41:49.861069Z",
     "iopub.status.idle": "2025-03-23T01:41:49.871407Z",
     "shell.execute_reply": "2025-03-23T01:41:49.870818Z"
    }
   },
   "outputs": [
    {
     "data": {
      "text/html": [
       "<div class='scp-output'><details><summary>NDDataset: [float64] unitless (shape: (t:2, v:4, u:6))[3D_dataset]</summary><div class=\"scp-output section\"><details><summary>Summary</summary>\n",
       "<div class=\"scp-output section\"><div class=\"attr-name\">         name</div><div>:</div><div class=\"attr-value\"> 3D_dataset</div></div>\n",
       "<div class=\"scp-output section\"><div class=\"attr-name\">       author</div><div>:</div><div class=\"attr-value\"> Someone</div></div>\n",
       "<div class=\"scp-output section\"><div class=\"attr-name\">      created</div><div>:</div><div class=\"attr-value\"> 2025-03-23 01:41:49+00:00</div></div>\n",
       "<div class=\"scp-output section\"><div class=\"attr-name\">  description</div><div>:</div><div class=\"attr-value\"> <div>a single statement creation example</div></div></div>\n",
       "<div class=\"scp-output section\"><div class=\"attr-name\">      history</div><div>:</div><div class=\"attr-value\"> <div>2025-03-23 01:41:49+00:00> Created from scratch</div></div></div></details></div>\n",
       "<div class=\"scp-output section\"><details><summary>          Data </summary>\n",
       "<div class=\"scp-output section\"><div class=\"attr-name\">        title</div><div>:</div><div class=\"attr-value\"> Energy</div></div>\n",
       "<div class=\"scp-output section\"><div class=\"attr-name\">       values</div><div>:</div><div class=\"attr-value\"> ... </div></div>\n",
       "<div class='numeric'>         [[[  0.3369  0.05231 ...   0.1966   0.9632]<br/>           [  0.9854   0.3874 ...   0.5618   0.8939]<br/>           [   0.531   0.3263 ...   0.1999   0.5257]<br/>           [  0.4342    0.804 ...   0.5103    0.462]]<br/><br/>          [[  0.1426   0.4167 ...   0.2737   0.1098]<br/>           [  0.8346   0.4662 ...    0.324  0.08045]<br/>           [  0.3628   0.8164 ...     0.13   0.5417]<br/>           [  0.5358   0.5377 ...   0.4398   0.7871]]]</div>\n",
       "<div class=\"scp-output section\"><div class=\"attr-name\">        shape</div><div>:</div><div class=\"attr-value\"> (t:2, v:4, u:6)</div></div></details></div>\n",
       "<div class=\"scp-output section\"><details><summary>     Dimension `t`</summary>\n",
       "<div class=\"scp-output section\"><div class=\"attr-name\">         size</div><div>:</div><div class=\"attr-value\"> 2</div></div>\n",
       "<div class=\"scp-output section\"><div class=\"attr-name\">        title</div><div>:</div><div class=\"attr-value\"> distance</div></div>\n",
       "<div class=\"scp-output section\"><div class=\"attr-name\">  coordinates</div><div>:</div><div class=\"attr-value\"> <div class='numeric'>[      10      100] m</div></div></div></details></div>\n",
       "<div class=\"scp-output section\"><details><summary>     Dimension `u`</summary>\n",
       "<div class=\"scp-output section\"><div class=\"attr-name\">         size</div><div>:</div><div class=\"attr-value\"> 6</div></div>\n",
       "<div class=\"scp-output section\"><div class=\"attr-name\">        title</div><div>:</div><div class=\"attr-value\"> elapsed time</div></div>\n",
       "<div class=\"scp-output section\"><div class=\"attr-name\">  coordinates</div><div>:</div><div class=\"attr-value\"> <div class='numeric'>[       0      200      400      600      800     1000] h</div></div></div></details></div>\n",
       "<div class=\"scp-output section\"><details><summary>     Dimension `v`</summary>\n",
       "<div class=\"scp-output section\"><div class=\"attr-name\">         size</div><div>:</div><div class=\"attr-value\"> 4</div></div>\n",
       "<div class=\"scp-output section\"><div class=\"attr-name\">        title</div><div>:</div><div class=\"attr-value\"> temperature</div></div>\n",
       "<div class=\"scp-output section\"><div class=\"attr-name\">  coordinates</div><div>:</div><div class=\"attr-value\"> <div class='numeric'>[      20    21.67    23.33       25] K</div></div></div></details></div></details></div>"
      ],
      "text/plain": [
       "NDDataset: [float64] unitless (shape: (t:2, v:4, u:6))"
      ]
     },
     "execution_count": 72,
     "metadata": {},
     "output_type": "execute_result"
    }
   ],
   "source": [
    "d3D.coordset = (\n",
    "    coord0,\n",
    "    coord1,\n",
    "    coord2,\n",
    ")  # equivalent to d3D.coordset = coord0, coord1, coord2\n",
    "d3D"
   ]
  },
  {
   "cell_type": "markdown",
   "id": "8b8339e4",
   "metadata": {},
   "source": [
    "**E.** Setting the coordinates individually"
   ]
  },
  {
   "cell_type": "markdown",
   "id": "e2669982",
   "metadata": {},
   "source": [
    "Either a single coordinate"
   ]
  },
  {
   "cell_type": "code",
   "execution_count": 73,
   "id": "2ffd3aee",
   "metadata": {
    "execution": {
     "iopub.execute_input": "2025-03-23T01:41:49.873203Z",
     "iopub.status.busy": "2025-03-23T01:41:49.873013Z",
     "iopub.status.idle": "2025-03-23T01:41:49.881087Z",
     "shell.execute_reply": "2025-03-23T01:41:49.880525Z"
    },
    "lines_to_next_cell": 0
   },
   "outputs": [
    {
     "data": {
      "text/html": [
       "<div class='scp-output'><details><summary>NDDataset: [float64] unitless (shape: (t:2, v:4, u:6))[3D_dataset]</summary><div class=\"scp-output section\"><details><summary>Summary</summary>\n",
       "<div class=\"scp-output section\"><div class=\"attr-name\">         name</div><div>:</div><div class=\"attr-value\"> 3D_dataset</div></div>\n",
       "<div class=\"scp-output section\"><div class=\"attr-name\">       author</div><div>:</div><div class=\"attr-value\"> Someone</div></div>\n",
       "<div class=\"scp-output section\"><div class=\"attr-name\">      created</div><div>:</div><div class=\"attr-value\"> 2025-03-23 01:41:49+00:00</div></div>\n",
       "<div class=\"scp-output section\"><div class=\"attr-name\">  description</div><div>:</div><div class=\"attr-value\"> <div>a single statement creation example</div></div></div>\n",
       "<div class=\"scp-output section\"><div class=\"attr-name\">      history</div><div>:</div><div class=\"attr-value\"> <div>2025-03-23 01:41:49+00:00> Created from scratch</div></div></div></details></div>\n",
       "<div class=\"scp-output section\"><details><summary>          Data </summary>\n",
       "<div class=\"scp-output section\"><div class=\"attr-name\">        title</div><div>:</div><div class=\"attr-value\"> Energy</div></div>\n",
       "<div class=\"scp-output section\"><div class=\"attr-name\">       values</div><div>:</div><div class=\"attr-value\"> ... </div></div>\n",
       "<div class='numeric'>         [[[  0.3369  0.05231 ...   0.1966   0.9632]<br/>           [  0.9854   0.3874 ...   0.5618   0.8939]<br/>           [   0.531   0.3263 ...   0.1999   0.5257]<br/>           [  0.4342    0.804 ...   0.5103    0.462]]<br/><br/>          [[  0.1426   0.4167 ...   0.2737   0.1098]<br/>           [  0.8346   0.4662 ...    0.324  0.08045]<br/>           [  0.3628   0.8164 ...     0.13   0.5417]<br/>           [  0.5358   0.5377 ...   0.4398   0.7871]]]</div>\n",
       "<div class=\"scp-output section\"><div class=\"attr-name\">        shape</div><div>:</div><div class=\"attr-value\"> (t:2, v:4, u:6)</div></div></details></div>\n",
       "<div class=\"scp-output section\"><details><summary>     Dimension `t`</summary>\n",
       "<div class=\"scp-output section\"><div class=\"attr-name\">         size</div><div>:</div><div class=\"attr-value\"> 2</div></div>\n",
       "<div class=\"scp-output section\"><div class=\"attr-name\">        title</div><div>:</div><div class=\"attr-value\"> distance</div></div>\n",
       "<div class=\"scp-output section\"><div class=\"attr-name\">  coordinates</div><div>:</div><div class=\"attr-value\"> <div class='numeric'>[      10      100] m</div></div></div></details></div>\n",
       "<div class=\"scp-output section\"><details><summary>     Dimension `u`</summary>\n",
       "<div class=\"scp-output section\"><div class=\"attr-name\">         size</div><div>:</div><div class=\"attr-value\"> 6</div></div>\n",
       "<div class=\"scp-output section\"><div class=\"attr-name\">        title</div><div>:</div><div class=\"attr-value\"> elapsed time</div></div>\n",
       "<div class=\"scp-output section\"><div class=\"attr-name\">  coordinates</div><div>:</div><div class=\"attr-value\"> <div class='numeric'>[       0      200      400      600      800     1000] h</div></div></div></details></div>\n",
       "<div class=\"scp-output section\"><details><summary>     Dimension `v`</summary>\n",
       "<div class=\"scp-output section\"><div class=\"attr-name\">         size</div><div>:</div><div class=\"attr-value\"> 4</div></div>\n",
       "<div class=\"scp-output section\"><div class=\"attr-name\">        title</div><div>:</div><div class=\"attr-value\"> temperature</div></div>\n",
       "<div class=\"scp-output section\"><div class=\"attr-name\">  coordinates</div><div>:</div><div class=\"attr-value\"> <div class='numeric'>[      20    21.67    23.33       25] K</div></div></div></details></div></details></div>"
      ],
      "text/plain": [
       "NDDataset: [float64] unitless (shape: (t:2, v:4, u:6))"
      ]
     },
     "execution_count": 73,
     "metadata": {},
     "output_type": "execute_result"
    }
   ],
   "source": [
    "d3D.u = coord2\n",
    "d3D"
   ]
  },
  {
   "cell_type": "markdown",
   "id": "4e2a4f16",
   "metadata": {},
   "source": [
    "or multiple coordinates for a single dimension"
   ]
  },
  {
   "cell_type": "code",
   "execution_count": 74,
   "id": "08ec952a",
   "metadata": {
    "execution": {
     "iopub.execute_input": "2025-03-23T01:41:49.883029Z",
     "iopub.status.busy": "2025-03-23T01:41:49.882699Z",
     "iopub.status.idle": "2025-03-23T01:41:49.900168Z",
     "shell.execute_reply": "2025-03-23T01:41:49.899591Z"
    },
    "lines_to_next_cell": 0
   },
   "outputs": [
    {
     "data": {
      "text/html": [
       "<div class='scp-output'><details><summary>NDDataset: [float64] unitless (shape: (t:2, v:4, u:6))[3D_dataset]</summary><div class=\"scp-output section\"><details><summary>Summary</summary>\n",
       "<div class=\"scp-output section\"><div class=\"attr-name\">         name</div><div>:</div><div class=\"attr-value\"> 3D_dataset</div></div>\n",
       "<div class=\"scp-output section\"><div class=\"attr-name\">       author</div><div>:</div><div class=\"attr-value\"> Someone</div></div>\n",
       "<div class=\"scp-output section\"><div class=\"attr-name\">      created</div><div>:</div><div class=\"attr-value\"> 2025-03-23 01:41:49+00:00</div></div>\n",
       "<div class=\"scp-output section\"><div class=\"attr-name\">  description</div><div>:</div><div class=\"attr-value\"> <div>a single statement creation example</div></div></div>\n",
       "<div class=\"scp-output section\"><div class=\"attr-name\">      history</div><div>:</div><div class=\"attr-value\"> <div>2025-03-23 01:41:49+00:00> Created from scratch</div></div></div></details></div>\n",
       "<div class=\"scp-output section\"><details><summary>          Data </summary>\n",
       "<div class=\"scp-output section\"><div class=\"attr-name\">        title</div><div>:</div><div class=\"attr-value\"> Energy</div></div>\n",
       "<div class=\"scp-output section\"><div class=\"attr-name\">       values</div><div>:</div><div class=\"attr-value\"> ... </div></div>\n",
       "<div class='numeric'>         [[[  0.3369  0.05231 ...   0.1966   0.9632]<br/>           [  0.9854   0.3874 ...   0.5618   0.8939]<br/>           [   0.531   0.3263 ...   0.1999   0.5257]<br/>           [  0.4342    0.804 ...   0.5103    0.462]]<br/><br/>          [[  0.1426   0.4167 ...   0.2737   0.1098]<br/>           [  0.8346   0.4662 ...    0.324  0.08045]<br/>           [  0.3628   0.8164 ...     0.13   0.5417]<br/>           [  0.5358   0.5377 ...   0.4398   0.7871]]]</div>\n",
       "<div class=\"scp-output section\"><div class=\"attr-name\">        shape</div><div>:</div><div class=\"attr-value\"> (t:2, v:4, u:6)</div></div></details></div>\n",
       "<div class=\"scp-output section\"><details><summary>     Dimension `t`</summary>\n",
       "<div class=\"scp-output section\"><div class=\"attr-name\">         size</div><div>:</div><div class=\"attr-value\"> 2</div></div>\n",
       "<div class=\"scp-output section\"><div class=\"attr-name\">        title</div><div>:</div><div class=\"attr-value\"> distance</div></div>\n",
       "<div class=\"scp-output section\"><div class=\"attr-name\">  coordinates</div><div>:</div><div class=\"attr-value\"> <div class='numeric'>[      10      100] m</div></div></div></details></div>\n",
       "<div class=\"scp-output section\"><details><summary>     Dimension `u`</summary>\n",
       "<div class=\"scp-output section\"><div class=\"attr-name\">         size</div><div>:</div><div class=\"attr-value\"> 6</div></div>\n",
       "<div class=\"scp-output section\"><div class=\"attr-name\">        title</div><div>:</div><div class=\"attr-value\"> elapsed time</div></div>\n",
       "<div class=\"scp-output section\"><div class=\"attr-name\">  coordinates</div><div>:</div><div class=\"attr-value\"> <div class='numeric'>[       0      200      400      600      800     1000] h</div></div></div></details></div>\n",
       "<div class=\"scp-output section\"><details><summary>     Dimension `v`</summary>\n",
       "<div class=\"scp-output section\"><div class=\"attr-name\">         size</div><div>:</div><div class=\"attr-value\"> 4</div></div>\n",
       "<span>          (_1)</span>\n",
       "<div class=\"scp-output section\"><div class=\"attr-name\">        title</div><div>:</div><div class=\"attr-value\"> temperature</div></div>\n",
       "<div class=\"scp-output section\"><div class=\"attr-name\">  coordinates</div><div>:</div><div class=\"attr-value\"> <div class='numeric'>[      20    21.67    23.33       25] K</div></div></div>\n",
       "<span>          (_2)</span>\n",
       "<div class=\"scp-output section\"><div class=\"attr-name\">        title</div><div>:</div><div class=\"attr-value\"> magnetic field</div></div>\n",
       "<div class=\"scp-output section\"><div class=\"attr-name\">  coordinates</div><div>:</div><div class=\"attr-value\"> <div class='numeric'>[       1        2        3        4] mT</div></div></div></details></div></details></div>"
      ],
      "text/plain": [
       "NDDataset: [float64] unitless (shape: (t:2, v:4, u:6))"
      ]
     },
     "execution_count": 74,
     "metadata": {},
     "output_type": "execute_result"
    }
   ],
   "source": [
    "d3D.v = [coord1, coord1b]\n",
    "d3D"
   ]
  },
  {
   "cell_type": "markdown",
   "id": "9c314334",
   "metadata": {},
   "source": [
    "or using a CoordSet object."
   ]
  },
  {
   "cell_type": "code",
   "execution_count": 75,
   "id": "7773e234",
   "metadata": {
    "execution": {
     "iopub.execute_input": "2025-03-23T01:41:49.902366Z",
     "iopub.status.busy": "2025-03-23T01:41:49.901865Z",
     "iopub.status.idle": "2025-03-23T01:41:49.922030Z",
     "shell.execute_reply": "2025-03-23T01:41:49.921429Z"
    }
   },
   "outputs": [
    {
     "data": {
      "text/html": [
       "<div class='scp-output'><details><summary>NDDataset: [float64] unitless (shape: (t:2, v:4, u:6))[3D_dataset]</summary><div class=\"scp-output section\"><details><summary>Summary</summary>\n",
       "<div class=\"scp-output section\"><div class=\"attr-name\">         name</div><div>:</div><div class=\"attr-value\"> 3D_dataset</div></div>\n",
       "<div class=\"scp-output section\"><div class=\"attr-name\">       author</div><div>:</div><div class=\"attr-value\"> Someone</div></div>\n",
       "<div class=\"scp-output section\"><div class=\"attr-name\">      created</div><div>:</div><div class=\"attr-value\"> 2025-03-23 01:41:49+00:00</div></div>\n",
       "<div class=\"scp-output section\"><div class=\"attr-name\">  description</div><div>:</div><div class=\"attr-value\"> <div>a single statement creation example</div></div></div>\n",
       "<div class=\"scp-output section\"><div class=\"attr-name\">      history</div><div>:</div><div class=\"attr-value\"> <div>2025-03-23 01:41:49+00:00> Created from scratch</div></div></div></details></div>\n",
       "<div class=\"scp-output section\"><details><summary>          Data </summary>\n",
       "<div class=\"scp-output section\"><div class=\"attr-name\">        title</div><div>:</div><div class=\"attr-value\"> Energy</div></div>\n",
       "<div class=\"scp-output section\"><div class=\"attr-name\">       values</div><div>:</div><div class=\"attr-value\"> ... </div></div>\n",
       "<div class='numeric'>         [[[  0.3369  0.05231 ...   0.1966   0.9632]<br/>           [  0.9854   0.3874 ...   0.5618   0.8939]<br/>           [   0.531   0.3263 ...   0.1999   0.5257]<br/>           [  0.4342    0.804 ...   0.5103    0.462]]<br/><br/>          [[  0.1426   0.4167 ...   0.2737   0.1098]<br/>           [  0.8346   0.4662 ...    0.324  0.08045]<br/>           [  0.3628   0.8164 ...     0.13   0.5417]<br/>           [  0.5358   0.5377 ...   0.4398   0.7871]]]</div>\n",
       "<div class=\"scp-output section\"><div class=\"attr-name\">        shape</div><div>:</div><div class=\"attr-value\"> (t:2, v:4, u:6)</div></div></details></div>\n",
       "<div class=\"scp-output section\"><details><summary>     Dimension `t`</summary>\n",
       "<div class=\"scp-output section\"><div class=\"attr-name\">         size</div><div>:</div><div class=\"attr-value\"> 2</div></div>\n",
       "<div class=\"scp-output section\"><div class=\"attr-name\">        title</div><div>:</div><div class=\"attr-value\"> distance</div></div>\n",
       "<div class=\"scp-output section\"><div class=\"attr-name\">  coordinates</div><div>:</div><div class=\"attr-value\"> <div class='numeric'>[      10      100] m</div></div></div></details></div>\n",
       "<div class=\"scp-output section\"><details><summary>     Dimension `u`</summary>\n",
       "<div class=\"scp-output section\"><div class=\"attr-name\">         size</div><div>:</div><div class=\"attr-value\"> 6</div></div>\n",
       "<div class=\"scp-output section\"><div class=\"attr-name\">        title</div><div>:</div><div class=\"attr-value\"> elapsed time</div></div>\n",
       "<div class=\"scp-output section\"><div class=\"attr-name\">  coordinates</div><div>:</div><div class=\"attr-value\"> <div class='numeric'>[       0      200      400      600      800     1000] h</div></div></div></details></div>\n",
       "<div class=\"scp-output section\"><details><summary>     Dimension `v`</summary>\n",
       "<div class=\"scp-output section\"><div class=\"attr-name\">         size</div><div>:</div><div class=\"attr-value\"> 4</div></div>\n",
       "<span>          (_1)</span>\n",
       "<div class=\"scp-output section\"><div class=\"attr-name\">        title</div><div>:</div><div class=\"attr-value\"> magnetic field</div></div>\n",
       "<div class=\"scp-output section\"><div class=\"attr-name\">  coordinates</div><div>:</div><div class=\"attr-value\"> <div class='numeric'>[       1        2        3        4] mT</div></div></div>\n",
       "<span>          (_2)</span>\n",
       "<div class=\"scp-output section\"><div class=\"attr-name\">        title</div><div>:</div><div class=\"attr-value\"> temperature</div></div>\n",
       "<div class=\"scp-output section\"><div class=\"attr-name\">  coordinates</div><div>:</div><div class=\"attr-value\"> <div class='numeric'>[      20    21.67    23.33       25] K</div></div></div></details></div></details></div>"
      ],
      "text/plain": [
       "NDDataset: [float64] unitless (shape: (t:2, v:4, u:6))"
      ]
     },
     "execution_count": 75,
     "metadata": {},
     "output_type": "execute_result"
    }
   ],
   "source": [
    "d3D.v = CoordSet(coord1, coord1b)\n",
    "d3D"
   ]
  },
  {
   "cell_type": "markdown",
   "id": "6043da02",
   "metadata": {},
   "source": [
    "# Methods to create NDDataset\n",
    "\n",
    "There are many ways to create `NDDataset` objects.\n",
    "\n",
    "Let's first create 2 coordinate objects, for which we can define `labels` and `units`.\n",
    "Note the use of the function `linspace` to generate the data."
   ]
  },
  {
   "cell_type": "code",
   "execution_count": 76,
   "id": "2bb1cc0e",
   "metadata": {
    "execution": {
     "iopub.execute_input": "2025-03-23T01:41:49.924025Z",
     "iopub.status.busy": "2025-03-23T01:41:49.923565Z",
     "iopub.status.idle": "2025-03-23T01:41:49.927617Z",
     "shell.execute_reply": "2025-03-23T01:41:49.927188Z"
    }
   },
   "outputs": [],
   "source": [
    "c0 = Coord.linspace(\n",
    "    start=4000.0, stop=1000.0, num=5, labels=None, units=\"cm^-1\", title=\"wavenumber\"\n",
    ")"
   ]
  },
  {
   "cell_type": "code",
   "execution_count": 77,
   "id": "fe27731e",
   "metadata": {
    "execution": {
     "iopub.execute_input": "2025-03-23T01:41:49.929357Z",
     "iopub.status.busy": "2025-03-23T01:41:49.929070Z",
     "iopub.status.idle": "2025-03-23T01:41:49.932783Z",
     "shell.execute_reply": "2025-03-23T01:41:49.932356Z"
    }
   },
   "outputs": [],
   "source": [
    "c1 = Coord.linspace(\n",
    "    10.0, 40.0, 3, labels=[\"Cold\", \"RT\", \"Hot\"], units=\"K\", title=\"temperature\"\n",
    ")"
   ]
  },
  {
   "cell_type": "markdown",
   "id": "159c0951",
   "metadata": {},
   "source": [
    "The full coordset will be the following"
   ]
  },
  {
   "cell_type": "code",
   "execution_count": 78,
   "id": "32260f77",
   "metadata": {
    "execution": {
     "iopub.execute_input": "2025-03-23T01:41:49.934592Z",
     "iopub.status.busy": "2025-03-23T01:41:49.934261Z",
     "iopub.status.idle": "2025-03-23T01:41:49.942149Z",
     "shell.execute_reply": "2025-03-23T01:41:49.941584Z"
    },
    "lines_to_next_cell": 2
   },
   "outputs": [
    {
     "data": {
      "text/html": [
       "<div class='scp-output'><details><summary>CoordSet: [x:temperature, y:wavenumber][CoordSet_fd2547c0]</summary><div class=\"scp-output section\"><details><summary>     Dimension `x`</summary>\n",
       "<div class=\"scp-output section\"><div class=\"attr-name\">         size</div><div>:</div><div class=\"attr-value\"> 3</div></div>\n",
       "<div class=\"scp-output section\"><div class=\"attr-name\">        title</div><div>:</div><div class=\"attr-value\"> temperature</div></div>\n",
       "<div class=\"scp-output section\"><div class=\"attr-name\">  coordinates</div><div>:</div><div class=\"attr-value\"> <div class='numeric'>[      10       25       40] K</div></div></div>\n",
       "<div class=\"scp-output section\"><div class=\"attr-name\">       labels</div><div>:</div><div class=\"attr-value\"> <div class='label'>[  Cold   RT   Hot]</div> </div></div></details></div>\n",
       "<div class=\"scp-output section\"><details><summary>     Dimension `y`</summary>\n",
       "<div class=\"scp-output section\"><div class=\"attr-name\">         size</div><div>:</div><div class=\"attr-value\"> 5</div></div>\n",
       "<div class=\"scp-output section\"><div class=\"attr-name\">        title</div><div>:</div><div class=\"attr-value\"> wavenumber</div></div>\n",
       "<div class=\"scp-output section\"><div class=\"attr-name\">  coordinates</div><div>:</div><div class=\"attr-value\"> <div class='numeric'>[    4000     3250     2500     1750     1000] cm⁻¹</div></div></div></details></div></details></div>"
      ],
      "text/plain": [
       "CoordSet: [x:temperature, y:wavenumber]"
      ]
     },
     "execution_count": 78,
     "metadata": {},
     "output_type": "execute_result"
    }
   ],
   "source": [
    "cs = CoordSet(c0, c1)\n",
    "cs"
   ]
  },
  {
   "cell_type": "markdown",
   "id": "742e3d3f",
   "metadata": {},
   "source": [
    "Now we will generate the full dataset using the `fromfunction` method.\n",
    "All needed information is passed as\n",
    "parameters to the NDDataset constructor."
   ]
  },
  {
   "cell_type": "markdown",
   "id": "53994e6c",
   "metadata": {
    "lines_to_next_cell": 2
   },
   "source": [
    "## Create a dataset from a function"
   ]
  },
  {
   "cell_type": "code",
   "execution_count": 79,
   "id": "5233fc2b",
   "metadata": {
    "execution": {
     "iopub.execute_input": "2025-03-23T01:41:49.944089Z",
     "iopub.status.busy": "2025-03-23T01:41:49.943735Z",
     "iopub.status.idle": "2025-03-23T01:41:49.946589Z",
     "shell.execute_reply": "2025-03-23T01:41:49.946045Z"
    }
   },
   "outputs": [],
   "source": [
    "def func(x, y, extra):\n",
    "    return x * y / extra"
   ]
  },
  {
   "cell_type": "code",
   "execution_count": 80,
   "id": "4ef2fc93",
   "metadata": {
    "execution": {
     "iopub.execute_input": "2025-03-23T01:41:49.948378Z",
     "iopub.status.busy": "2025-03-23T01:41:49.948158Z",
     "iopub.status.idle": "2025-03-23T01:41:49.961913Z",
     "shell.execute_reply": "2025-03-23T01:41:49.961352Z"
    }
   },
   "outputs": [
    {
     "data": {
      "text/html": [
       "<div class='scp-output'><details><summary>NDDataset: [float64] K (shape: (y:5, x:3))[mydataset]</summary><div class=\"scp-output section\"><details><summary>Summary</summary>\n",
       "<div class=\"scp-output section\"><div class=\"attr-name\">         name</div><div>:</div><div class=\"attr-value\"> mydataset</div></div>\n",
       "<div class=\"scp-output section\"><div class=\"attr-name\">       author</div><div>:</div><div class=\"attr-value\"> Blake & Mortimer</div></div>\n",
       "<div class=\"scp-output section\"><div class=\"attr-name\">      created</div><div>:</div><div class=\"attr-value\"> 2025-03-23 01:41:49+00:00</div></div>\n",
       "<div class=\"scp-output section\"><div class=\"attr-name\">  description</div><div>:</div><div class=\"attr-value\"> <div>Dataset example created for this tutorial.<br/>               It's a 2-D dataset</div></div></div>\n",
       "<div class=\"scp-output section\"><div class=\"attr-name\">      history</div><div>:</div><div class=\"attr-value\"> <div>2025-03-23 01:41:49+00:00> Created using method : fromfunction</div></div></div></details></div>\n",
       "<div class=\"scp-output section\"><details><summary>          Data </summary>\n",
       "<div class=\"scp-output section\"><div class=\"attr-name\">        title</div><div>:</div><div class=\"attr-value\"> absorbance</div></div>\n",
       "<div class=\"scp-output section\"><div class=\"attr-name\">       values</div><div>:</div><div class=\"attr-value\"> ... </div></div>\n",
       "<div class='numeric'>         [[     400     1000     1600]<br/>          [     325    812.5     1300]<br/>          ...<br/>          [     175    437.5      700]<br/>          [     100      250      400]] K</div>\n",
       "<div class=\"scp-output section\"><div class=\"attr-name\">        shape</div><div>:</div><div class=\"attr-value\"> (y:5, x:3)</div></div></details></div>\n",
       "<div class=\"scp-output section\"><details><summary>     Dimension `x`</summary>\n",
       "<div class=\"scp-output section\"><div class=\"attr-name\">         size</div><div>:</div><div class=\"attr-value\"> 3</div></div>\n",
       "<div class=\"scp-output section\"><div class=\"attr-name\">        title</div><div>:</div><div class=\"attr-value\"> temperature</div></div>\n",
       "<div class=\"scp-output section\"><div class=\"attr-name\">  coordinates</div><div>:</div><div class=\"attr-value\"> <div class='numeric'>[      10       25       40] K</div></div></div>\n",
       "<div class=\"scp-output section\"><div class=\"attr-name\">       labels</div><div>:</div><div class=\"attr-value\"> <div class='label'>[  Cold   RT   Hot]</div> </div></div></details></div>\n",
       "<div class=\"scp-output section\"><details><summary>     Dimension `y`</summary>\n",
       "<div class=\"scp-output section\"><div class=\"attr-name\">         size</div><div>:</div><div class=\"attr-value\"> 5</div></div>\n",
       "<div class=\"scp-output section\"><div class=\"attr-name\">        title</div><div>:</div><div class=\"attr-value\"> wavenumber</div></div>\n",
       "<div class=\"scp-output section\"><div class=\"attr-name\">  coordinates</div><div>:</div><div class=\"attr-value\"> <div class='numeric'>[    4000     3250     2500     1750     1000] cm⁻¹</div></div></div></details></div></details></div>"
      ],
      "text/plain": [
       "NDDataset: [float64] K (shape: (y:5, x:3))"
      ]
     },
     "execution_count": 80,
     "metadata": {},
     "output_type": "execute_result"
    }
   ],
   "source": [
    "ds = NDDataset.fromfunction(\n",
    "    func,\n",
    "    extra=100 * ur.cm**-1,  # extra arguments passed to the function\n",
    "    coordset=cs,\n",
    "    name=\"mydataset\",\n",
    "    title=\"absorbance\",\n",
    "    units=None,\n",
    ")  # when None, units will be determined from the function results\n",
    "\n",
    "ds.description = \"\"\"Dataset example created for this tutorial.\n",
    "It's a 2-D dataset\"\"\"\n",
    "\n",
    "ds.author = \"Blake & Mortimer\"\n",
    "ds"
   ]
  },
  {
   "cell_type": "markdown",
   "id": "4a964046",
   "metadata": {},
   "source": [
    "## Using numpy-like constructors of NDDatasets"
   ]
  },
  {
   "cell_type": "code",
   "execution_count": 81,
   "id": "f4f4d0de",
   "metadata": {
    "execution": {
     "iopub.execute_input": "2025-03-23T01:41:49.964004Z",
     "iopub.status.busy": "2025-03-23T01:41:49.963619Z",
     "iopub.status.idle": "2025-03-23T01:41:49.968824Z",
     "shell.execute_reply": "2025-03-23T01:41:49.968382Z"
    }
   },
   "outputs": [],
   "source": [
    "dz = NDDataset.zeros(\n",
    "    (5, 3), coordset=cs, units=\"meters\", title=\"Datasets with only zeros\"\n",
    ")"
   ]
  },
  {
   "cell_type": "code",
   "execution_count": 82,
   "id": "211d4020",
   "metadata": {
    "execution": {
     "iopub.execute_input": "2025-03-23T01:41:49.970588Z",
     "iopub.status.busy": "2025-03-23T01:41:49.970239Z",
     "iopub.status.idle": "2025-03-23T01:41:49.975397Z",
     "shell.execute_reply": "2025-03-23T01:41:49.974959Z"
    }
   },
   "outputs": [],
   "source": [
    "do = NDDataset.ones(\n",
    "    (5, 3), coordset=cs, units=\"kilograms\", title=\"Datasets with only ones\"\n",
    ")"
   ]
  },
  {
   "cell_type": "code",
   "execution_count": 83,
   "id": "305f452f",
   "metadata": {
    "execution": {
     "iopub.execute_input": "2025-03-23T01:41:49.977228Z",
     "iopub.status.busy": "2025-03-23T01:41:49.976909Z",
     "iopub.status.idle": "2025-03-23T01:41:49.985411Z",
     "shell.execute_reply": "2025-03-23T01:41:49.984845Z"
    }
   },
   "outputs": [
    {
     "data": {
      "text/html": [
       "<div class='scp-output'><details><summary>NDDataset: [float64] rad (shape: (y:5, x:3))[NDDataset_fd2547d4]</summary><div class=\"scp-output section\"><details><summary>Summary</summary>\n",
       "<div class=\"scp-output section\"><div class=\"attr-name\">         name</div><div>:</div><div class=\"attr-value\"> NDDataset_fd2547d4</div></div>\n",
       "<div class=\"scp-output section\"><div class=\"attr-name\">       author</div><div>:</div><div class=\"attr-value\"> runner@fv-az1436-235</div></div>\n",
       "<div class=\"scp-output section\"><div class=\"attr-name\">      created</div><div>:</div><div class=\"attr-value\"> 2025-03-23 01:41:49+00:00</div></div>\n",
       "<div class=\"scp-output section\"><div class=\"attr-name\">      history</div><div>:</div><div class=\"attr-value\"> <div>2025-03-23 01:41:49+00:00> Created using method : full</div></div></div></details></div>\n",
       "<div class=\"scp-output section\"><details><summary>          Data </summary>\n",
       "<div class=\"scp-output section\"><div class=\"attr-name\">        title</div><div>:</div><div class=\"attr-value\"> with only float=1.25</div></div>\n",
       "<div class=\"scp-output section\"><div class=\"attr-name\">       values</div><div>:</div><div class=\"attr-value\"> ... </div></div>\n",
       "<div class='numeric'>         [[    1.25     1.25     1.25]<br/>          [    1.25     1.25     1.25]<br/>          ...<br/>          [    1.25     1.25     1.25]<br/>          [    1.25     1.25     1.25]] rad</div>\n",
       "<div class=\"scp-output section\"><div class=\"attr-name\">        shape</div><div>:</div><div class=\"attr-value\"> (y:5, x:3)</div></div></details></div>\n",
       "<div class=\"scp-output section\"><details><summary>     Dimension `x`</summary>\n",
       "<div class=\"scp-output section\"><div class=\"attr-name\">         size</div><div>:</div><div class=\"attr-value\"> 3</div></div>\n",
       "<div class=\"scp-output section\"><div class=\"attr-name\">        title</div><div>:</div><div class=\"attr-value\"> temperature</div></div>\n",
       "<div class=\"scp-output section\"><div class=\"attr-name\">  coordinates</div><div>:</div><div class=\"attr-value\"> <div class='numeric'>[      10       25       40] K</div></div></div>\n",
       "<div class=\"scp-output section\"><div class=\"attr-name\">       labels</div><div>:</div><div class=\"attr-value\"> <div class='label'>[  Cold   RT   Hot]</div> </div></div></details></div>\n",
       "<div class=\"scp-output section\"><details><summary>     Dimension `y`</summary>\n",
       "<div class=\"scp-output section\"><div class=\"attr-name\">         size</div><div>:</div><div class=\"attr-value\"> 5</div></div>\n",
       "<div class=\"scp-output section\"><div class=\"attr-name\">        title</div><div>:</div><div class=\"attr-value\"> wavenumber</div></div>\n",
       "<div class=\"scp-output section\"><div class=\"attr-name\">  coordinates</div><div>:</div><div class=\"attr-value\"> <div class='numeric'>[    4000     3250     2500     1750     1000] cm⁻¹</div></div></div></details></div></details></div>"
      ],
      "text/plain": [
       "NDDataset: [float64] rad (shape: (y:5, x:3))"
      ]
     },
     "execution_count": 83,
     "metadata": {},
     "output_type": "execute_result"
    }
   ],
   "source": [
    "df = NDDataset.full(\n",
    "    (5, 3), fill_value=1.25, coordset=cs, units=\"radians\", title=\"with only float=1.25\"\n",
    ")\n",
    "df"
   ]
  },
  {
   "cell_type": "markdown",
   "id": "2e89c777",
   "metadata": {},
   "source": [
    "As with numpy, it is also possible to take another dataset as a template:"
   ]
  },
  {
   "cell_type": "code",
   "execution_count": 84,
   "id": "f33a1c5b",
   "metadata": {
    "execution": {
     "iopub.execute_input": "2025-03-23T01:41:49.987315Z",
     "iopub.status.busy": "2025-03-23T01:41:49.986958Z",
     "iopub.status.idle": "2025-03-23T01:41:50.011306Z",
     "shell.execute_reply": "2025-03-23T01:41:50.010799Z"
    }
   },
   "outputs": [
    {
     "data": {
      "text/html": [
       "<div class='scp-output'><details><summary>NDDataset: [float64] unitless (shape: (t:2, v:4, u:6))[3D_dataset]</summary><div class=\"scp-output section\"><details><summary>Summary</summary>\n",
       "<div class=\"scp-output section\"><div class=\"attr-name\">         name</div><div>:</div><div class=\"attr-value\"> 3D_dataset</div></div>\n",
       "<div class=\"scp-output section\"><div class=\"attr-name\">       author</div><div>:</div><div class=\"attr-value\"> runner@fv-az1436-235</div></div>\n",
       "<div class=\"scp-output section\"><div class=\"attr-name\">      created</div><div>:</div><div class=\"attr-value\"> 2025-03-23 01:41:50+00:00</div></div>\n",
       "<div class=\"scp-output section\"><div class=\"attr-name\">      history</div><div>:</div><div class=\"attr-value\"> <div>2025-03-23 01:41:49+00:00> Created from scratch<br/>               2025-03-23 01:41:50+00:00> Created using method : full_like</div></div></div></details></div>\n",
       "<div class=\"scp-output section\"><details><summary>          Data </summary>\n",
       "<div class=\"scp-output section\"><div class=\"attr-name\">        title</div><div>:</div><div class=\"attr-value\"> Energy</div></div>\n",
       "<div class=\"scp-output section\"><div class=\"attr-name\">       values</div><div>:</div><div class=\"attr-value\"> ... </div></div>\n",
       "<div class='numeric'>         [[[       2        2 ...        2        2]<br/>           [       2        2 ...        2        2]<br/>           [       2        2 ...        2        2]<br/>           [       2        2 ...        2        2]]<br/><br/>          [[       2        2 ...        2        2]<br/>           [       2        2 ...        2        2]<br/>           [       2        2 ...        2        2]<br/>           [       2        2 ...        2        2]]]</div>\n",
       "<div class=\"scp-output section\"><div class=\"attr-name\">        shape</div><div>:</div><div class=\"attr-value\"> (t:2, v:4, u:6)</div></div></details></div>\n",
       "<div class=\"scp-output section\"><details><summary>     Dimension `t`</summary>\n",
       "<div class=\"scp-output section\"><div class=\"attr-name\">         size</div><div>:</div><div class=\"attr-value\"> 2</div></div>\n",
       "<div class=\"scp-output section\"><div class=\"attr-name\">        title</div><div>:</div><div class=\"attr-value\"> distance</div></div>\n",
       "<div class=\"scp-output section\"><div class=\"attr-name\">  coordinates</div><div>:</div><div class=\"attr-value\"> <div class='numeric'>[      10      100] m</div></div></div></details></div>\n",
       "<div class=\"scp-output section\"><details><summary>     Dimension `u`</summary>\n",
       "<div class=\"scp-output section\"><div class=\"attr-name\">         size</div><div>:</div><div class=\"attr-value\"> 6</div></div>\n",
       "<div class=\"scp-output section\"><div class=\"attr-name\">        title</div><div>:</div><div class=\"attr-value\"> elapsed time</div></div>\n",
       "<div class=\"scp-output section\"><div class=\"attr-name\">  coordinates</div><div>:</div><div class=\"attr-value\"> <div class='numeric'>[       0      200      400      600      800     1000] h</div></div></div></details></div>\n",
       "<div class=\"scp-output section\"><details><summary>     Dimension `v`</summary>\n",
       "<div class=\"scp-output section\"><div class=\"attr-name\">         size</div><div>:</div><div class=\"attr-value\"> 4</div></div>\n",
       "<span>          (_1)</span>\n",
       "<div class=\"scp-output section\"><div class=\"attr-name\">        title</div><div>:</div><div class=\"attr-value\"> magnetic field</div></div>\n",
       "<div class=\"scp-output section\"><div class=\"attr-name\">  coordinates</div><div>:</div><div class=\"attr-value\"> <div class='numeric'>[       1        2        3        4] mT</div></div></div>\n",
       "<span>          (_2)</span>\n",
       "<div class=\"scp-output section\"><div class=\"attr-name\">        title</div><div>:</div><div class=\"attr-value\"> temperature</div></div>\n",
       "<div class=\"scp-output section\"><div class=\"attr-name\">  coordinates</div><div>:</div><div class=\"attr-value\"> <div class='numeric'>[      20    21.67    23.33       25] K</div></div></div></details></div></details></div>"
      ],
      "text/plain": [
       "NDDataset: [float64] unitless (shape: (t:2, v:4, u:6))"
      ]
     },
     "execution_count": 84,
     "metadata": {},
     "output_type": "execute_result"
    }
   ],
   "source": [
    "df = NDDataset.full_like(d3D, dtype=\"int\", fill_value=2)\n",
    "df"
   ]
  },
  {
   "cell_type": "code",
   "execution_count": 85,
   "id": "fafbdba0",
   "metadata": {
    "execution": {
     "iopub.execute_input": "2025-03-23T01:41:50.013210Z",
     "iopub.status.busy": "2025-03-23T01:41:50.012824Z",
     "iopub.status.idle": "2025-03-23T01:41:50.019003Z",
     "shell.execute_reply": "2025-03-23T01:41:50.018436Z"
    }
   },
   "outputs": [
    {
     "data": {
      "text/html": [
       "<div class='scp-output'><details><summary>NDDataset: [float64] unitless (shape: (y:3, x:3))[NDDataset_fd2547f8]</summary><div class=\"scp-output section\"><details><summary>Summary</summary>\n",
       "<div class=\"scp-output section\"><div class=\"attr-name\">         name</div><div>:</div><div class=\"attr-value\"> NDDataset_fd2547f8</div></div>\n",
       "<div class=\"scp-output section\"><div class=\"attr-name\">       author</div><div>:</div><div class=\"attr-value\"> runner@fv-az1436-235</div></div>\n",
       "<div class=\"scp-output section\"><div class=\"attr-name\">      created</div><div>:</div><div class=\"attr-value\"> 2025-03-23 01:41:50+00:00</div></div>\n",
       "<div class=\"scp-output section\"><div class=\"attr-name\">      history</div><div>:</div><div class=\"attr-value\"> <div>2025-03-23 01:41:50+00:00> Created using method : diag</div></div></div></details></div>\n",
       "<div class=\"scp-output section\"><details><summary>          Data </summary>\n",
       "<div class=\"scp-output section\"><div class=\"attr-name\">        title</div><div>:</div><div class=\"attr-value\"> <untitled></div></div>\n",
       "<div class=\"scp-output section\"><div class=\"attr-name\">       values</div><div>:</div><div class=\"attr-value\"> ... </div></div>\n",
       "<div class='numeric'>         [[       3        0        0]<br/>          [       0        3        0]<br/>          [       0        0      2.5]]</div>\n",
       "<div class=\"scp-output section\"><div class=\"attr-name\">        shape</div><div>:</div><div class=\"attr-value\"> (y:3, x:3)</div></div></details></div></details></div>"
      ],
      "text/plain": [
       "NDDataset: [float64] unitless (shape: (y:3, x:3))"
      ]
     },
     "execution_count": 85,
     "metadata": {},
     "output_type": "execute_result"
    }
   ],
   "source": [
    "nd = NDDataset.diag((3, 3, 2.5))\n",
    "nd"
   ]
  },
  {
   "cell_type": "markdown",
   "id": "e913e676",
   "metadata": {},
   "source": [
    "## Copying existing NDDataset\n",
    "\n",
    "To copy an existing dataset, this is as simple as:"
   ]
  },
  {
   "cell_type": "code",
   "execution_count": 86,
   "id": "11e98c97",
   "metadata": {
    "execution": {
     "iopub.execute_input": "2025-03-23T01:41:50.021042Z",
     "iopub.status.busy": "2025-03-23T01:41:50.020603Z",
     "iopub.status.idle": "2025-03-23T01:41:50.039904Z",
     "shell.execute_reply": "2025-03-23T01:41:50.039424Z"
    }
   },
   "outputs": [],
   "source": [
    "d3D_copy = d3D.copy()"
   ]
  },
  {
   "cell_type": "markdown",
   "id": "5024af04",
   "metadata": {},
   "source": [
    "or alternatively:"
   ]
  },
  {
   "cell_type": "code",
   "execution_count": 87,
   "id": "efc19fb6",
   "metadata": {
    "execution": {
     "iopub.execute_input": "2025-03-23T01:41:50.041861Z",
     "iopub.status.busy": "2025-03-23T01:41:50.041494Z",
     "iopub.status.idle": "2025-03-23T01:41:50.094581Z",
     "shell.execute_reply": "2025-03-23T01:41:50.093960Z"
    }
   },
   "outputs": [],
   "source": [
    "d3D_copy = d3D[:]"
   ]
  },
  {
   "cell_type": "markdown",
   "id": "82ce3847",
   "metadata": {},
   "source": [
    "Finally, it is also possible to initialize a dataset using an existing one:"
   ]
  },
  {
   "cell_type": "code",
   "execution_count": 88,
   "id": "556671a8",
   "metadata": {
    "execution": {
     "iopub.execute_input": "2025-03-23T01:41:50.096781Z",
     "iopub.status.busy": "2025-03-23T01:41:50.096337Z",
     "iopub.status.idle": "2025-03-23T01:41:50.105134Z",
     "shell.execute_reply": "2025-03-23T01:41:50.104645Z"
    }
   },
   "outputs": [
    {
     "data": {
      "text/html": [
       "<div class='scp-output'><details><summary>NDDataset: [float64] a.u. (shape: (t:2, v:4, u:6))[duplicate of 3D_dataset]</summary><div class=\"scp-output section\"><details><summary>Summary</summary>\n",
       "<div class=\"scp-output section\"><div class=\"attr-name\">         name</div><div>:</div><div class=\"attr-value\"> duplicate of 3D_dataset</div></div>\n",
       "<div class=\"scp-output section\"><div class=\"attr-name\">       author</div><div>:</div><div class=\"attr-value\"> runner@fv-az1436-235</div></div>\n",
       "<div class=\"scp-output section\"><div class=\"attr-name\">      created</div><div>:</div><div class=\"attr-value\"> 2025-03-23 01:41:50+00:00</div></div>\n",
       "<div class=\"scp-output section\"><div class=\"attr-name\">      history</div><div>:</div><div class=\"attr-value\"> <div>2025-03-23 01:41:49+00:00> Created from scratch</div></div></div></details></div>\n",
       "<div class=\"scp-output section\"><details><summary>          Data </summary>\n",
       "<div class=\"scp-output section\"><div class=\"attr-name\">        title</div><div>:</div><div class=\"attr-value\"> Energy</div></div>\n",
       "<div class=\"scp-output section\"><div class=\"attr-name\">       values</div><div>:</div><div class=\"attr-value\"> ... </div></div>\n",
       "<div class='numeric'>         [[[  0.3369  0.05231 ...   0.1966   0.9632]<br/>           [  0.9854   0.3874 ...   0.5618   0.8939]<br/>           [   0.531   0.3263 ...   0.1999   0.5257]<br/>           [  0.4342    0.804 ...   0.5103    0.462]]<br/><br/>          [[  0.1426   0.4167 ...   0.2737   0.1098]<br/>           [  0.8346   0.4662 ...    0.324  0.08045]<br/>           [  0.3628   0.8164 ...     0.13   0.5417]<br/>           [  0.5358   0.5377 ...   0.4398   0.7871]]] a.u.</div>\n",
       "<div class=\"scp-output section\"><div class=\"attr-name\">        shape</div><div>:</div><div class=\"attr-value\"> (t:2, v:4, u:6)</div></div></details></div>\n",
       "<div class=\"scp-output section\"><details><summary>     Dimension `t`</summary>\n",
       "<div class=\"scp-output section\"><div class=\"attr-name\">         size</div><div>:</div><div class=\"attr-value\"> 2</div></div>\n",
       "<div class=\"scp-output section\"><div class=\"attr-name\">        title</div><div>:</div><div class=\"attr-value\"> distance</div></div>\n",
       "<div class=\"scp-output section\"><div class=\"attr-name\">  coordinates</div><div>:</div><div class=\"attr-value\"> <div class='numeric'>[      10      100] m</div></div></div></details></div>\n",
       "<div class=\"scp-output section\"><details><summary>     Dimension `u`</summary>\n",
       "<div class=\"scp-output section\"><div class=\"attr-name\">         size</div><div>:</div><div class=\"attr-value\"> 6</div></div>\n",
       "<div class=\"scp-output section\"><div class=\"attr-name\">        title</div><div>:</div><div class=\"attr-value\"> elapsed time</div></div>\n",
       "<div class=\"scp-output section\"><div class=\"attr-name\">  coordinates</div><div>:</div><div class=\"attr-value\"> <div class='numeric'>[       0      200      400      600      800     1000] h</div></div></div></details></div>\n",
       "<div class=\"scp-output section\"><details><summary>     Dimension `v`</summary>\n",
       "<div class=\"scp-output section\"><div class=\"attr-name\">         size</div><div>:</div><div class=\"attr-value\"> 4</div></div>\n",
       "<span>          (_1)</span>\n",
       "<div class=\"scp-output section\"><div class=\"attr-name\">        title</div><div>:</div><div class=\"attr-value\"> magnetic field</div></div>\n",
       "<div class=\"scp-output section\"><div class=\"attr-name\">  coordinates</div><div>:</div><div class=\"attr-value\"> <div class='numeric'>[       1        2        3        4] mT</div></div></div>\n",
       "<span>          (_2)</span>\n",
       "<div class=\"scp-output section\"><div class=\"attr-name\">        title</div><div>:</div><div class=\"attr-value\"> temperature</div></div>\n",
       "<div class=\"scp-output section\"><div class=\"attr-name\">  coordinates</div><div>:</div><div class=\"attr-value\"> <div class='numeric'>[      20    21.67    23.33       25] K</div></div></div></details></div></details></div>"
      ],
      "text/plain": [
       "NDDataset: [float64] a.u. (shape: (t:2, v:4, u:6))"
      ]
     },
     "execution_count": 88,
     "metadata": {},
     "output_type": "execute_result"
    }
   ],
   "source": [
    "d3Dduplicate = NDDataset(d3D, name=f\"duplicate of {d3D.name}\", units=\"absorbance\")\n",
    "d3Dduplicate"
   ]
  },
  {
   "cell_type": "markdown",
   "id": "32bb531e",
   "metadata": {},
   "source": [
    "## Importing from external datasets\n",
    "\n",
    "NDDatasets can be created from the importation of external data.\n",
    "\n",
    "A **test** data folder contains some sample data for experimenting with features of\n",
    "datasets."
   ]
  },
  {
   "cell_type": "code",
   "execution_count": 89,
   "id": "a43b4449",
   "metadata": {
    "execution": {
     "iopub.execute_input": "2025-03-23T01:41:50.106896Z",
     "iopub.status.busy": "2025-03-23T01:41:50.106699Z",
     "iopub.status.idle": "2025-03-23T01:41:50.110272Z",
     "shell.execute_reply": "2025-03-23T01:41:50.109713Z"
    }
   },
   "outputs": [
    {
     "name": "stdout",
     "output_type": "stream",
     "text": [
      "testdata\n"
     ]
    }
   ],
   "source": [
    "# let check if this directory exists and display its actual content:\n",
    "datadir = scp.preferences.datadir\n",
    "if datadir.exists():\n",
    "    print(datadir.name)"
   ]
  },
  {
   "cell_type": "markdown",
   "id": "62efc50b",
   "metadata": {},
   "source": [
    "Let's load grouped IR spectra acquired using OMNIC:"
   ]
  },
  {
   "cell_type": "code",
   "execution_count": 90,
   "id": "f65568e1",
   "metadata": {
    "execution": {
     "iopub.execute_input": "2025-03-23T01:41:50.112013Z",
     "iopub.status.busy": "2025-03-23T01:41:50.111710Z",
     "iopub.status.idle": "2025-03-23T01:41:50.798464Z",
     "shell.execute_reply": "2025-03-23T01:41:50.797961Z"
    }
   },
   "outputs": [
    {
     "data": {
      "text/html": [],
      "text/plain": [
       "<Matplotlib Axes object>"
      ]
     },
     "execution_count": 90,
     "metadata": {},
     "output_type": "execute_result"
    },
    {
     "data": {
      "image/jpeg": "[encoded data removed]",
      "image/png": "[encoded data removed]",
      "text/plain": [
       "<Figure size 528x336 with 1 Axes>"
      ]
     },
     "metadata": {},
     "output_type": "display_data"
    }
   ],
   "source": [
    "nd = scp.read_omnic(datadir / \"irdata/nh4y-activation.spg\")\n",
    "scp.preferences.reset()\n",
    "nd.plot()"
   ]
  },
  {
   "cell_type": "markdown",
   "id": "7301b42a",
   "metadata": {},
   "source": [
    "Even if we do not specify the **datadir**, the application first looks in the\n",
    "default directory."
   ]
  },
  {
   "cell_type": "markdown",
   "id": "b1e590a4",
   "metadata": {},
   "source": [
    "Now, lets load a NMR dataset (in the Bruker format)."
   ]
  },
  {
   "cell_type": "code",
   "execution_count": 91,
   "id": "3914c1b2",
   "metadata": {
    "execution": {
     "iopub.execute_input": "2025-03-23T01:41:50.800550Z",
     "iopub.status.busy": "2025-03-23T01:41:50.800186Z",
     "iopub.status.idle": "2025-03-23T01:41:51.204253Z",
     "shell.execute_reply": "2025-03-23T01:41:51.203638Z"
    }
   },
   "outputs": [
    {
     "name": "stderr",
     "output_type": "stream",
     "text": [
      " WARNING | (UserWarning) (196608,)cannot be shaped into(147, 1024)\n"
     ]
    },
    {
     "data": {
      "image/jpeg": "[encoded data removed]",
      "image/png": "[encoded data removed]",
      "text/plain": [
       "<Figure size 528x336 with 1 Axes>"
      ]
     },
     "metadata": {},
     "output_type": "display_data"
    }
   ],
   "source": [
    "path = datadir / \"nmrdata\" / \"bruker\" / \"tests\" / \"nmr\" / \"topspin_2d\"\n",
    "\n",
    "# load the data directly (no need to create the dataset first)\n",
    "nd2 = scp.read_topspin(path, expno=1, remove_digital_filter=True)\n",
    "\n",
    "# view it...\n",
    "nd2.x.to(\"s\")\n",
    "nd2.y.to(\"ms\")\n",
    "\n",
    "ax = nd2.plot(method=\"map\")"
   ]
  }
 ],
 "metadata": {
  "jupytext": {
   "formats": "ipynb,py:percent",
   "notebook_metadata_filter": "all"
  },
  "kernelspec": {
   "display_name": "Python 3 (ipykernel)",
   "language": "python",
   "name": "python3"
  },
  "language_info": {
   "codemirror_mode": {
    "name": "ipython",
    "version": 3
   },
   "file_extension": ".py",
   "mimetype": "text/x-python",
   "name": "python",
   "nbconvert_exporter": "python",
   "pygments_lexer": "ipython3",
   "version": "3.13.2"
  },
  "widgets": {
   "application/vnd.jupyter.widget-state+json": {
    "state": {},
    "version_major": 2,
    "version_minor": 0
   }
  }
 },
 "nbformat": 4,
 "nbformat_minor": 5
}
