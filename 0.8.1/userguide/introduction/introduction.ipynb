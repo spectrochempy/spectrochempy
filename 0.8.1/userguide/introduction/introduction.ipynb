{
 "cells": [
  {
   "cell_type": "markdown",
   "id": "ebf542ec",
   "metadata": {},
   "source": [
    "# Introduction\n",
    "\n",
    "The **SpectroChemPy** project was developed to provide advanced tools for processing and\n",
    "analyzing spectroscopic data, initially for internal purposes within the\n",
    "[LCS (https://www.lcs.ensicaen.fr)](https://www.lcs.ensicaen.fr).\n",
    "\n",
    "The **SpectroChemPy** project is essentially a library written in\n",
    "[python](https://www.python.org) language and provides objects,\n",
    "[NDDataset](../../reference/generated/spectrochempy.NDDataset.rst)\n",
    "and [Project](../../reference/generated/spectrochempy.Project.rst),\n",
    "to hold data, equipped with methods to analyze, transform or display these data in a\n",
    "simple way through a python type interface.\n",
    "\n",
    "The processed data are mainly spectroscopic data from techniques such as IR, Raman or\n",
    "NMR, but they are not limited to this type of application, as any type of data can be\n",
    "used."
   ]
  },
  {
   "cell_type": "markdown",
   "id": "d1a19d66",
   "metadata": {},
   "source": [
    "## About this user's guide\n",
    "\n",
    "The ``User's guide and tutorials`` section is designed to give you a quick overview of the main features of **SpectroChemPy**. It does not cover all\n",
    "features, but should help you to get started quickly, and to find your way around.\n",
    "For more details on the various features, check out the [Public API reference](../../reference/index.rst) section which gives\n",
    "[Gallery of Examples](../../gettingstarted/examples/index.rst)\n",
    "\n",
    "## What to do if questions arise\n",
    "\n",
    "If, despite this documentation, which we're constantly trying to improve,\n",
    "you still have unresolved questions, don't hesitate to post your question on the\n",
    "[discussion forum](https://github.com/spectrochempy/spectrochempy/discussions).\n",
    "You can also post on [StackOverflow](https://stackoverflow.com),\n",
    "if you prefer, but don't forget to put \"Spectrochempy\" in the title\n",
    "(as there are no tags yet to enable us to find new questions easily."
   ]
  },
  {
   "cell_type": "markdown",
   "id": "0038661f",
   "metadata": {},
   "source": [
    "## How to get started\n",
    "\n",
    "We assume that the SpectroChemPy package has been correctly\n",
    "installed. if is not the case, please go to [SpectroChemPy installation\n",
    "procedure](../../gettingstarted/install/index.rst)."
   ]
  },
  {
   "cell_type": "markdown",
   "id": "e325d6db",
   "metadata": {},
   "source": [
    "### Writing and executing SpectroChemPy scripts\n",
    "\n",
    "If you are already an experienced `python` user, you can certainly use your favorite\n",
    "IDE to run your scripts, debug them and display the results. But if you want an easier\n",
    "way, especially if you are a beginner, we recommend you to use `Jupyter Lab` to do it.\n",
    "To get started, you can follow this link : [Jupyter Lab interface](interface.rst)."
   ]
  },
  {
   "cell_type": "markdown",
   "id": "d98bd681",
   "metadata": {},
   "source": [
    "### Loading the API\n",
    "\n",
    "Before using SpectroChemPy, we need to load the **API\n",
    "(Application Programming Interface)**: it exposes many\n",
    "objects and functions.\n",
    "\n",
    "To load the API, you must import it using one of the following syntax.\n",
    "\n",
    "**Syntax 1** (recommended)\n",
    "\n",
    "In the first syntax we load the library into a namespace called `scp`\n",
    "(we recommend this name, but you can choose whatever\n",
    "you want - except something already in use):"
   ]
  },
  {
   "cell_type": "code",
   "execution_count": 1,
   "id": "2c940141",
   "metadata": {
    "execution": {
     "iopub.execute_input": "2025-03-23T01:41:41.840573Z",
     "iopub.status.busy": "2025-03-23T01:41:41.840117Z",
     "iopub.status.idle": "2025-03-23T01:41:43.507411Z",
     "shell.execute_reply": "2025-03-23T01:41:43.506883Z"
    }
   },
   "outputs": [
    {
     "data": {
      "text/html": [
       "\n",
       "        \n",
       "        <div>\n",
       "        <table>\n",
       "        <tr>\n",
       "        <td>\n",
       "        \n",
       "        <img src='data:image/png;base64,iVBORw0KGgoAAAANSUhEUgAAABgAAAAYCAYAAADgdz34AAAA\n",
       "        AXNSR0IArs4c6QAAAAlwSFlzAAAJOgAACToB8GSSSgAAAetpVFh0WE1MOmNvbS5hZG9iZS54bXAAAAAA\n",
       "        ADx4OnhtcG1ldGEgeG1sbnM6eD0iYWRvYmU6bnM6bWV0YS8iIHg6eG1wdGs9IlhNUCBDb3JlIDUuNC4w\n",
       "        Ij4KICAgPHJkZjpSREYgeG1sbnM6cmRmPSJodHRwOi8vd3d3LnczLm9yZy8xOTk5LzAyLzIyLXJkZi1z\n",
       "        eW50YXgtbnMjIj4KICAgICAgPHJkZjpEZXNjcmlwdGlvbiByZGY6YWJvdXQ9IiIKICAgICAgICAgICAg\n",
       "        eG1sbnM6eG1wPSJodHRwOi8vbnMuYWRvYmUuY29tL3hhcC8xLjAvIgogICAgICAgICAgICB4bWxuczp0\n",
       "        aWZmPSJodHRwOi8vbnMuYWRvYmUuY29tL3RpZmYvMS4wLyI+CiAgICAgICAgIDx4bXA6Q3JlYXRvclRv\n",
       "        b2w+bWF0cGxvdGxpYiB2ZXJzaW9uIDIuMS4wLCBodHRwOi8vbWF0cGxvdGxpYi5vcmcvPC94bXA6Q3Jl\n",
       "        YXRvclRvb2w+CiAgICAgICAgIDx0aWZmOk9yaWVudGF0aW9uPjE8L3RpZmY6T3JpZW50YXRpb24+CiAg\n",
       "        ICAgIDwvcmRmOkRlc2NyaXB0aW9uPgogICA8L3JkZjpSREY+CjwveDp4bXBtZXRhPgqNQaNYAAAGiUlE\n",
       "        QVRIDY1We4xU1Rn/3XPuYx47u8w+hnU38hTcuoUEt/6D2y4RB0ME1BoEd9taJaKh9CFiN7YGp7appUAM\n",
       "        NmktMZFoJTYVLVQ0smsy26CN0SU1QgsuFAaW3WVmx33N677O6XfuyoIxTXqSO/fec+75fd93vt/3/UbD\n",
       "        V0aKSZmCpkFMLz3T9utuu2N+o98aDSMBKVAo89z5y+zEz3ZafcCOfvWdlGCalqKn1Bf71CygTd+mf1es\n",
       "        SOnpdMpTb+vWpTZuWVfe3jLPa5tzHYNm0T5N0gpdkkHaDBeGBU6d1/t/fyS8+/CbqdfUvmsx1PuMgc2b\n",
       "        Nxv79u1zgd31r+7JH1jbIZKxWRXAcYUQ8IWvBfBXNjEuJWPgMA02NR7C3/pYT9fjdZ3A9tGrWF8YSJHn\n",
       "        qcDz3y7q2T967PZv+gnYJdd1mEZ+62zGDQV/dQgKhmLzDNOXCEWM3j6eTT5Y3w78dOBKJLR1PQf+4ivP\n",
       "        j76UPZnssBN+wbM9Aet/AV81Mf1EEULXYfOobvX2WWQk0aoioXwwSmirOlioY0mu8BIouzYl7P8GV3vp\n",
       "        qCCEZvlFz769w08oLDWvyKIyL1asSm28d6WfzA97ztvvV1kexUMsmhlkULEkuGYmFYC6AvfUrITnwUKl\n",
       "        5K79lkjeSSRRTCTbQPd95e1WzMbZSya74XoXAxctCllCnbECMOjZNGRwvzIXnD85wbkMmKK+U045Dtdi\n",
       "        8Qp+SAxU2GTg2bYlC9224pgvmSb54vkVTBQYyhUt2KjAMyMmPjwRQW5Mh2WKwJhlBh6jVGagFM84wZnQ\n",
       "        4bpC0Rt4pk1PbSt0NDcxDA5xryosDHWgtbM0DGZDWLSoiDMDYeQnGVrmOThxLozB0RAaahzkJzjKNqcI\n",
       "        QBymJFMkOlN8Dqjpg0XYTx5xO/QbmmUrqIjGJznq47TqTaClKYfjp+PInLMwnOdYvtQBZ2XcunQY+VwI\n",
       "        o4U4muoFEjVEFE6lQyEUKzHYfgQG9ylCyngU+CxjtOqxCDGHcCsOMCs6iQul5ZiStdATYxjMZXDLTUVw\n",
       "        LY8Jey4uOh2IxjwsrP8UXJYxUrkZrghBahzV5iXU6gNkq0Z1EzIsUBUSCV2nEOHo0LVxHCpuxabJJdhi\n",
       "        5PFnvw5vLXwXIfNZvD/+JNo/X40NegE54sUaazl+UL8XD1x+FB9Ijjt4EQfdGN6J/x131LwIV9ap/AYs\n",
       "        0x1fz1ZKFbh6A7qKy/By9Dg6G36Ep91vUJJ15Cqr0Z67E8/HzmBrw1OwxWyM+3Mo6BAuSB17oyfx0Oyl\n",
       "        2DN0Hqs/70Cx6hBCvESFUY1ShWXZZEE7OTAYxZzaPH4TuoiusZvRnunFy2NbiHYuBp2vB66srX4vMEjp\n",
       "        RKPxKXmnoQ4+Mn4DPiv8CYcrs3GfNUXJLtM+alSOhrMj/KT+wBNW3+E/2liywNO3iSflbaFva/+stGDT\n",
       "        xE0E9Sjaox8HBhxpEamzMGSEaFKg+mjEddzDh1MxTDq3YV1kGBsjfwW3S9Cqanjmko+ndlb1UR3s6K8J\n",
       "        lfphNWq9Ew/7c61T2BB/EbcaNkb8GBaE0tANH7/M34PLdhJDzjIcL9xPbdTG6zyM72Y+wXPHmvB489No\n",
       "        fm0b5HnbQ9Rgp/7DSSd29AeVvPeNyK6JcYl/yQVi5dBjuGvoV/gaJe47s45QUxrDmcYX0MBsdF7egvXZ\n",
       "        7+O0vZA4X8QmOQWjlSK7RDz5wIM30gp9UbWcGjXxhzdDu1SiNSpx6kcQB57rPnr/3dlkZarWLnlRq5oP\n",
       "        ET1dOCIOk4wALib9eeS5iygfhkd09H0DWphB/+gs+PcOAS+ssrFmmXXgVfR0de9cpbAJfH3Q1jofW9DZ\n",
       "        k56dDcVsq9YcsoUMEd1qyLoT3BX1YiyHMJuk97hyjqIoE91t+NcTLeN0ZrfMoXatZbu6G0h4VG+ibqq0\n",
       "        IJVK6cAjo6serG3vSUezCMct0yQeSOFJSUImqb2qbknUpDqlZxE0QZ+ZUpSlZx79h4Nda6zef9dlk121\n",
       "        JDjbR5XggPRZlRnS6bRQRtLpn4++cuie/Yvn2svmNxuLw9WCcYIl4fEoTEGiSTUqJdfgU+8ROqf1iMkL\n",
       "        zS389YtNPXc/PH8l8ONBJZkHD+4JtD04HmVEDWWErmBhzV2/2LB1bemJG6krzv2S6NOHUgtEP0Oif5pE\n",
       "        /3fHoruP7N8RiP61GArzSwbUhJJQpXJKiKbfr/3bIhKq76sKPUdF9NW/LSqfSn6vjv8C45H/6FSgvZQA\n",
       "        AAAASUVORK5CYII='\n",
       "        style='height:25px; border-radius:12px; display:inline-block; float:left;\n",
       "        vertical-align:middle'>\n",
       "        </img>\n",
       "        \n",
       "        </td>\n",
       "        <td>\n",
       "        \n",
       "        &nbsp;&nbsp;<span style='font-size:12px'>SpectroChemPy's API - v.0.8.1<br/>©Copyright 2014-2025 - A.Travert & C.Fernandez @ LCS</span>\n",
       "        \n",
       "        </td>\n",
       "        </tr>\n",
       "        </table>\n",
       "        </div>\n",
       "        "
      ]
     },
     "metadata": {},
     "output_type": "display_data"
    },
    {
     "data": {
      "text/html": [
       "<style>/* SpectroChemPy output styling */\n",
       ".scp-output {\n",
       "    display: flex;\n",
       "    flex-direction: column;\n",
       "    gap: 2px;\n",
       "}\n",
       "\n",
       ".scp-output details {\n",
       "    padding: 1px;\n",
       "}\n",
       "\n",
       ".scp-output summary {\n",
       "    cursor: pointer;\n",
       "    font-weight: normal;\n",
       "    /*bold;*/\n",
       "    font-size: 11pt;\n",
       "}\n",
       "\n",
       ".scp-output summary:hover {\n",
       "    color: #888;\n",
       "}\n",
       "\n",
       "/* Parameters display styling */\n",
       ".scp-output .section {\n",
       "    display: flex;\n",
       "    flex-direction: row;\n",
       "    gap: 2px;\n",
       "    font-family: Arial, sans-serif;\n",
       "    font-size: 10pt;\n",
       "    margin-left: 15px;\n",
       "}\n",
       "\n",
       ".scp-output .meta-name,\n",
       ".scp-output .attr-name {\n",
       "    font-weight: 500;\n",
       "    color: #28A745;\n",
       "    text-align: right;\n",
       "}\n",
       "\n",
       ".scp-output .attr-name {\n",
       "    min-width: 100px;\n",
       "}\n",
       "\n",
       ".scp-output .meta-name {\n",
       "    min-width: 150px;\n",
       "}\n",
       "\n",
       ".scp-output .meta-value,\n",
       ".scp-output .attr-value {\n",
       "    flex: 1;\n",
       "}\n",
       "\n",
       ".scp-output .numeric {\n",
       "    color: #2D7FF9;\n",
       "    margin-left: 120px;\n",
       "    font-size: 10pt;\n",
       "}\n",
       "\n",
       ".scp-output .label {\n",
       "    color: darkcyan;\n",
       "    margin-left: 120px;\n",
       "    font-size: 10pt;\n",
       "}\n",
       "\n",
       ".scp-output .attr-value .numeric {\n",
       "    color: #2D7FF9;\n",
       "    margin-left: 0px;\n",
       "    font-size: 10pt;\n",
       "}\n",
       "\n",
       ".scp-output .attr-value .label {\n",
       "    color: darkcyan;\n",
       "    margin-left: 0px;\n",
       "    font-size: 10pt;\n",
       "}\n",
       "</style>"
      ],
      "text/plain": [
       "<IPython.core.display.HTML object>"
      ]
     },
     "metadata": {},
     "output_type": "display_data"
    },
    {
     "name": "stdout",
     "output_type": "stream",
     "text": [
      "Running on GitHub Actions\n",
      "MPL Configuration directory: /home/runner/.config/matplotlib\n",
      "Stylelib directory: /home/runner/.config/matplotlib/stylelib\n"
     ]
    }
   ],
   "source": [
    "import spectrochempy as scp\n",
    "\n",
    "nd = scp.NDDataset()"
   ]
  },
  {
   "cell_type": "markdown",
   "id": "07f69c3a",
   "metadata": {},
   "source": [
    "**Syntax 2** (discouraged)\n",
    "\n",
    "With a wild `*` import. In this second syntax, the access to objects/functions can be\n",
    "greatly simplified. For example, we can use directly `NDDataset` without a prefix\n",
    "instead of `scp.NDDataset` but there is always a risk of overwriting some variables or\n",
    "functions already present in the namespace. Therefore, the first syntax is generally\n",
    "highly recommended."
   ]
  },
  {
   "cell_type": "code",
   "execution_count": 2,
   "id": "d747d7fa",
   "metadata": {
    "execution": {
     "iopub.execute_input": "2025-03-23T01:41:43.509794Z",
     "iopub.status.busy": "2025-03-23T01:41:43.509309Z",
     "iopub.status.idle": "2025-03-23T01:41:43.971282Z",
     "shell.execute_reply": "2025-03-23T01:41:43.970751Z"
    }
   },
   "outputs": [],
   "source": [
    "from spectrochempy import *  # noqa: F403\n",
    "\n",
    "nd = NDDataset()  # noqa: F405"
   ]
  },
  {
   "cell_type": "markdown",
   "id": "faf54fbf",
   "metadata": {},
   "source": [
    "Alternatively, you can also load only the objects and function required by your\n",
    "application:"
   ]
  },
  {
   "cell_type": "code",
   "execution_count": 3,
   "id": "fac9c18a",
   "metadata": {
    "execution": {
     "iopub.execute_input": "2025-03-23T01:41:43.973471Z",
     "iopub.status.busy": "2025-03-23T01:41:43.973140Z",
     "iopub.status.idle": "2025-03-23T01:41:43.976460Z",
     "shell.execute_reply": "2025-03-23T01:41:43.975889Z"
    },
    "lines_to_next_cell": 2
   },
   "outputs": [],
   "source": [
    "from spectrochempy import NDDataset\n",
    "\n",
    "nd = NDDataset()"
   ]
  },
  {
   "cell_type": "code",
   "execution_count": 4,
   "id": "4d5ec4c5",
   "metadata": {
    "execution": {
     "iopub.execute_input": "2025-03-23T01:41:43.978222Z",
     "iopub.status.busy": "2025-03-23T01:41:43.977916Z",
     "iopub.status.idle": "2025-03-23T01:41:43.983284Z",
     "shell.execute_reply": "2025-03-23T01:41:43.982725Z"
    }
   },
   "outputs": [
    {
     "data": {
      "text/html": [
       "<div class='scp-output'><details><summary>NDDataset: empty (size: 0)[NDDataset_f9b414bc]</summary><div class=\"scp-output section\"><details><summary>Summary</summary>\n",
       "<div class=\"scp-output section\"><div class=\"attr-name\">         name</div><div>:</div><div class=\"attr-value\"> NDDataset_f9b414bc</div></div>\n",
       "<div class=\"scp-output section\"><div class=\"attr-name\">       author</div><div>:</div><div class=\"attr-value\"> runner@fv-az1436-235</div></div>\n",
       "<div class=\"scp-output section\"><div class=\"attr-name\">      created</div><div>:</div><div class=\"attr-value\"> 2025-03-23 01:41:43+00:00</div></div>\n",
       "<div class=\"scp-output section\"><div class=\"attr-name\">       values</div><div>:</div><div class=\"attr-value\"> ... </div></div>\n",
       "         empty\n",
       "<div class=\"scp-output section\"><div class=\"attr-name\">         size</div><div>:</div><div class=\"attr-value\"> 0</div></div></details></div></details></div>"
      ],
      "text/plain": [
       "NDDataset: empty (size: 0)"
      ]
     },
     "execution_count": 4,
     "metadata": {},
     "output_type": "execute_result"
    }
   ],
   "source": [
    "nd"
   ]
  },
  {
   "cell_type": "markdown",
   "id": "56131314",
   "metadata": {},
   "source": [
    "## Where to go next?"
   ]
  },
  {
   "cell_type": "markdown",
   "id": "2237d0a5",
   "metadata": {},
   "source": [
    "The ``User's guide & tutorial`` section is divided into several sections describing the main features of spectrochempy.\n",
    "\n",
    "* [Core objects](../objects/index.rst) : This is really the starting point for understanding how SpectroChemPy works. In fact, virtually all the functions offered by the API use one of these objects: `NDDataset` (the most important!) , `Project` or `Script`.\n",
    "\n",
    "* [Import & export](../importexport/index.rst) : This part shows how to import spectroscopic data and transform it into an NDDataset, the object on which processsing and analysis procedures will then be applied.\n",
    "\n",
    "* [Processing](../processing/index.rst) : This section explains how to prepare datasets for future analysis. By processing, we mean methods which generally return the same dataset transformed by mathematical operations (for example, this may be a `sqrt` or `log` operation, or a `fft` operation or many others), or part of a dataset transformed by a slicing or concatenation operation.\n",
    "\n",
    "* [Analysis](../analysis/index.rst) : This section presents the analysis methods implemented in SpectroChemPy. Generally speaking, analysis methods are any methods used to extract properties or characteristics from one or more NDDatasets. Analysis methods include statistical methods (mean, standard deviation, etc.), peaks, integration, etc.\n",
    "But perhaps the most important is the implementation of various chemometrics methods (PCA, PLS-R, EFA, MCR-ALS, ...), data fit methods, and baseline extraction.\n",
    "\n",
    "* [Plotting](../plotting/plotting.ipynb) : Finally, this section attempts to give the basics for using the plot methods included in SpectroChemPy.  These methods do not claim to cover all needs, and so it may be worthwhile for the user to learn how to use packages such as matplotlib, on which the methods described in this section are based."
   ]
  }
 ],
 "metadata": {
  "jupytext": {
   "cell_metadata_json": true,
   "formats": "ipynb,py:percent",
   "notebook_metadata_filter": "all"
  },
  "kernelspec": {
   "display_name": "Python 3 (ipykernel)",
   "language": "python",
   "name": "python3"
  },
  "language_info": {
   "codemirror_mode": {
    "name": "ipython",
    "version": 3
   },
   "file_extension": ".py",
   "mimetype": "text/x-python",
   "name": "python",
   "nbconvert_exporter": "python",
   "pygments_lexer": "ipython3",
   "version": "3.13.2"
  },
  "widgets": {
   "application/vnd.jupyter.widget-state+json": {
    "state": {},
    "version_major": 2,
    "version_minor": 0
   }
  }
 },
 "nbformat": 4,
 "nbformat_minor": 5
}
