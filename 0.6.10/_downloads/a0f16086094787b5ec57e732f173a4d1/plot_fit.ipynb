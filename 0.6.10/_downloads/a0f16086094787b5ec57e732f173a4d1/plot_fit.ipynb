{
  "cells": [
    {
      "cell_type": "markdown",
      "metadata": {},
      "source": [
        "# Fitting 1D dataset\n\nIn this example, we find the least square solution of a simple linear\nequation.\n"
      ]
    },
    {
      "cell_type": "code",
      "execution_count": null,
      "metadata": {
        "collapsed": false
      },
      "outputs": [],
      "source": [
        ""
      ]
    },
    {
      "cell_type": "code",
      "execution_count": null,
      "metadata": {
        "collapsed": false
      },
      "outputs": [],
      "source": [
        "import os\n\nimport spectrochempy as scp"
      ]
    },
    {
      "cell_type": "markdown",
      "metadata": {},
      "source": [
        "Let\\'s take an IR spectrum\n"
      ]
    },
    {
      "cell_type": "code",
      "execution_count": null,
      "metadata": {
        "collapsed": false
      },
      "outputs": [],
      "source": [
        "nd = scp.NDDataset.read_omnic(os.path.join(\"irdata\", \"nh4y-activation.spg\"))"
      ]
    },
    {
      "cell_type": "markdown",
      "metadata": {},
      "source": [
        "and select only the OH region:\n"
      ]
    },
    {
      "cell_type": "code",
      "execution_count": null,
      "metadata": {
        "collapsed": false
      },
      "outputs": [],
      "source": [
        "ndOH = nd[54, 3800.0:3300.0]\n# masking\nndOH[:, 3505.0:3500.0] = scp.MASKED\n_ = ndOH.plot()"
      ]
    },
    {
      "cell_type": "markdown",
      "metadata": {},
      "source": [
        "Perform a Fit Fit parameters are defined in a script (a single text as\nbelow)\n"
      ]
    },
    {
      "cell_type": "code",
      "execution_count": null,
      "metadata": {
        "collapsed": false
      },
      "outputs": [],
      "source": [
        "script = \"\"\"\n#-----------------------------------------------------------\n# syntax for parameters definition:\n# name: value, low_bound,  high_bound\n# available prefix:\n#  # for comments\n#  * for fixed parameters\n#  $ for variable parameters\n#  > for reference to a parameter in the COMMON block\n#    (> is forbidden in the COMMON block)\n# common block parameters should not have a _ in their names\n#-----------------------------------------------------------\n#\n\nCOMMON:\n# common parameters ex.\n# $ gwidth: 1.0, 0.0, none\n$ gratio: 0.1, 0.0, 1.0\n\nMODEL: LINE_1\nshape: asymmetricvoigtmodel\n    * ampl:  1.1, 0.0, none\n    $ pos:   3620, 3400.0, 3700.0\n    $ ratio: 0.0147, 0.0, 1.0\n    $ asym: 0.1, 0, 1\n    $ width: 50, 0, 1000\n\nMODEL: LINE_2\nshape: asymmetricvoigtmodel\n    $ ampl:  0.8, 0.0, none\n    $ pos:   3540, 3400.0, 3700.0\n    > ratio: gratio\n    $ asym: 0.1, 0, 1\n    $ width: 50, 0, 1000\n\n\"\"\""
      ]
    },
    {
      "cell_type": "markdown",
      "metadata": {},
      "source": [
        "create an Optimize object\n"
      ]
    },
    {
      "cell_type": "code",
      "execution_count": null,
      "metadata": {
        "collapsed": false
      },
      "outputs": [],
      "source": [
        "f1 = scp.Optimize(log_level=\"INFO\")"
      ]
    },
    {
      "cell_type": "markdown",
      "metadata": {},
      "source": [
        "Show plot and the starting model using the dry parameters (of course it\nis advisable to be as close as possible of a good expectation\n"
      ]
    },
    {
      "cell_type": "code",
      "execution_count": null,
      "metadata": {
        "collapsed": false
      },
      "outputs": [],
      "source": [
        "f1.script = script\n\n# set dry and continue to show starting model\n# reset dry and continue to show starting model\nf1.dry = True\nf1.autobase = True\nf1.fit(ndOH)\n\n# get some information\nscp.info_(f\"numbers of components: {f1.n_components}\")\nndOH.plot()\nax = (f1.components[:]).plot(clear=False)\nax.autoscale(enable=True, axis=\"y\")"
      ]
    },
    {
      "cell_type": "markdown",
      "metadata": {},
      "source": [
        "Now perform a fit with maximum 1000 iterations\n"
      ]
    },
    {
      "cell_type": "code",
      "execution_count": null,
      "metadata": {
        "collapsed": false
      },
      "outputs": [],
      "source": [
        "f1.max_iter = 1000\n_ = f1.fit(ndOH)"
      ]
    },
    {
      "cell_type": "markdown",
      "metadata": {},
      "source": [
        "Show the result\n"
      ]
    },
    {
      "cell_type": "code",
      "execution_count": null,
      "metadata": {
        "collapsed": false
      },
      "outputs": [],
      "source": [
        "ndOH.plot()\nax = (f1.components[:]).plot(clear=False)\nax.autoscale(enable=True, axis=\"y\")"
      ]
    },
    {
      "cell_type": "markdown",
      "metadata": {},
      "source": [
        "plotmerit\n"
      ]
    },
    {
      "cell_type": "code",
      "execution_count": null,
      "metadata": {
        "collapsed": false
      },
      "outputs": [],
      "source": [
        "som = f1.inverse_transform()\n_ = f1.plotmerit(ndOH, som, method=\"scatter\", markevery=5, markersize=2, lw=2)"
      ]
    },
    {
      "cell_type": "markdown",
      "metadata": {},
      "source": [
        "This ends the example ! The following line can be uncommented if no plot\nshows when running the .py script with python\n"
      ]
    },
    {
      "cell_type": "code",
      "execution_count": null,
      "metadata": {
        "collapsed": false
      },
      "outputs": [],
      "source": [
        "# scp.show()"
      ]
    }
  ],
  "metadata": {
    "kernelspec": {
      "display_name": "Python 3",
      "language": "python",
      "name": "python3"
    },
    "language_info": {
      "codemirror_mode": {
        "name": "ipython",
        "version": 3
      },
      "file_extension": ".py",
      "mimetype": "text/x-python",
      "name": "python",
      "nbconvert_exporter": "python",
      "pygments_lexer": "ipython3",
      "version": "3.10.16"
    }
  },
  "nbformat": 4,
  "nbformat_minor": 0
}