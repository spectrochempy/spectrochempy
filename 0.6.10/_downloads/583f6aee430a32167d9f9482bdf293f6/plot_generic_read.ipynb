{
  "cells": [
    {
      "cell_type": "markdown",
      "metadata": {},
      "source": [
        "# Reading datasets\n\nIn this example, we show the use of the generic [read]{.title-ref}\nmethod to create dataset either from local or remote files.\n"
      ]
    },
    {
      "cell_type": "markdown",
      "metadata": {},
      "source": [
        "First we need to import the spectrochempy API package\n"
      ]
    },
    {
      "cell_type": "code",
      "execution_count": null,
      "metadata": {
        "collapsed": false
      },
      "outputs": [],
      "source": [
        "import spectrochempy as scp"
      ]
    },
    {
      "cell_type": "markdown",
      "metadata": {},
      "source": [
        "# Import dataset from local files\n\nRead a IR data recorded in Omnic format (`.spg` extension). We just pass\nthe file name as parameter.\n"
      ]
    },
    {
      "cell_type": "code",
      "execution_count": null,
      "metadata": {
        "collapsed": false
      },
      "outputs": [],
      "source": [
        "dataset = scp.read(\"irdata/nh4y-activation.spg\")\ndataset"
      ]
    },
    {
      "cell_type": "code",
      "execution_count": null,
      "metadata": {
        "collapsed": false
      },
      "outputs": [],
      "source": [
        "_ = dataset.plot(style=\"paper\")"
      ]
    },
    {
      "cell_type": "markdown",
      "metadata": {},
      "source": [
        "When using [read]{.title-ref}, we can pass filename as a\n[str]{.title-ref} or a [\\~pathlib.Path]{.title-ref} object.\n"
      ]
    },
    {
      "cell_type": "code",
      "execution_count": null,
      "metadata": {
        "collapsed": false
      },
      "outputs": [],
      "source": [
        "from pathlib import Path\n\nfilename = Path(\"irdata/nh4y-activation.spg\")\ndataset = scp.read(filename)"
      ]
    },
    {
      "cell_type": "markdown",
      "metadata": {},
      "source": [
        "Note that is the file is not found in the current working directory,\n[SpectroChemPy]{.title-ref} will try to find it in the `datadir`\ndirectory defined in [preferences]{.title-ref} :\n"
      ]
    },
    {
      "cell_type": "code",
      "execution_count": null,
      "metadata": {
        "collapsed": false
      },
      "outputs": [],
      "source": [
        "datadir = scp.preferences.datadir\ndatadir"
      ]
    },
    {
      "cell_type": "markdown",
      "metadata": {},
      "source": [
        "If the supplied argument is a directory, then the whole directory is\nread at once. By default, the different files will be merged along the\nfirst dimension (y). However, for this to work, the second dimension (x)\nmust be compatible (same size) or else a WARNING appears. To avoid the\nwarning and get individual spectra, you can set `merge` to\n[False]{.title-ref} .\n"
      ]
    },
    {
      "cell_type": "code",
      "execution_count": null,
      "metadata": {
        "collapsed": false
      },
      "outputs": [],
      "source": [
        "dataset_list = scp.read(\"irdata\", merge=False)\ndataset_list"
      ]
    },
    {
      "cell_type": "markdown",
      "metadata": {},
      "source": [
        "to get full details on the parameters that can be used, look at the API\ndocumentation: [spectrochempy.read]{.title-ref} .\n"
      ]
    },
    {
      "cell_type": "markdown",
      "metadata": {},
      "source": [
        "# Import dataset from remote files\n\nTo download and read file from remote server you can use urls.\n"
      ]
    },
    {
      "cell_type": "code",
      "execution_count": null,
      "metadata": {
        "collapsed": false
      },
      "outputs": [],
      "source": [
        "dataset_list = scp.read(\"http://www.eigenvector.com/data/Corn/corn.mat\")"
      ]
    },
    {
      "cell_type": "markdown",
      "metadata": {},
      "source": [
        "In this case the matlab data contains 7 arrays that have been\nautomatically transformed to [NDDataset]{.title-ref} .\n"
      ]
    },
    {
      "cell_type": "code",
      "execution_count": null,
      "metadata": {
        "collapsed": false
      },
      "outputs": [],
      "source": [
        "for nd in dataset_list:\n    print(f\"{nd.name} : {nd.shape}\")"
      ]
    },
    {
      "cell_type": "markdown",
      "metadata": {},
      "source": [
        "The [eigenvector.com](eigenvector.com) website contains the same data in\na compressed (zipped) format:\n[corn.mat\\_.zip](https://eigenvector.com/wp-content/uploads/2019/06/corn.mat_.zip)\n. This can also be used by the [read]{.title-ref} method.\n"
      ]
    },
    {
      "cell_type": "code",
      "execution_count": null,
      "metadata": {
        "collapsed": false
      },
      "outputs": [],
      "source": [
        "dataset_list = scp.read(\n    \"https://eigenvector.com/wp-content/uploads/2019/06/corn.mat_.zip\"\n)\n_ = dataset_list[-1].plot()\n_ = dataset_list[-2].plot()\n_ = dataset_list[-3].plot()\n_ = dataset_list[-4].plot()"
      ]
    },
    {
      "cell_type": "markdown",
      "metadata": {},
      "source": [
        "This ends the example ! The following line can be uncommented if no plot\nshows when running the .py script with python\n"
      ]
    },
    {
      "cell_type": "code",
      "execution_count": null,
      "metadata": {
        "collapsed": false
      },
      "outputs": [],
      "source": [
        "# scp.show()"
      ]
    }
  ],
  "metadata": {
    "kernelspec": {
      "display_name": "Python 3",
      "language": "python",
      "name": "python3"
    },
    "language_info": {
      "codemirror_mode": {
        "name": "ipython",
        "version": 3
      },
      "file_extension": ".py",
      "mimetype": "text/x-python",
      "name": "python",
      "nbconvert_exporter": "python",
      "pygments_lexer": "ipython3",
      "version": "3.10.16"
    }
  },
  "nbformat": 4,
  "nbformat_minor": 0
}