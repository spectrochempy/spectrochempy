{
  "cells": [
    {
      "cell_type": "markdown",
      "metadata": {},
      "source": [
        "# NDDataset coordinates example\n\nIn this example, we show how coordinates can be used in SpectroChemPy\n"
      ]
    },
    {
      "cell_type": "code",
      "execution_count": null,
      "metadata": {
        "collapsed": false
      },
      "outputs": [],
      "source": [
        "import spectrochempy as scp"
      ]
    },
    {
      "cell_type": "markdown",
      "metadata": {},
      "source": [
        "# Uploading a dataset\n"
      ]
    },
    {
      "cell_type": "code",
      "execution_count": null,
      "metadata": {
        "collapsed": false
      },
      "outputs": [],
      "source": [
        "X = scp.read(\"irdata/CO@Mo_Al2O3.SPG\")"
      ]
    },
    {
      "cell_type": "markdown",
      "metadata": {},
      "source": [
        "[X]{.title-ref} has two coordinates: \\* [wavenumbers]{.title-ref} named\n\\\"x\\\" \\* and [timestamps]{.title-ref} (*i.e.,* the time of recording)\nnamed \\\"y\\\".\n"
      ]
    },
    {
      "cell_type": "code",
      "execution_count": null,
      "metadata": {
        "collapsed": false
      },
      "outputs": [],
      "source": [
        "print(X.coordset)"
      ]
    },
    {
      "cell_type": "markdown",
      "metadata": {},
      "source": [
        "To display them individually use the [x]{.title-ref} and [y]{.title-ref}\nattributes of the dataset \\`X\\`:\n"
      ]
    },
    {
      "cell_type": "code",
      "execution_count": null,
      "metadata": {
        "collapsed": false
      },
      "outputs": [],
      "source": [
        "X.x"
      ]
    },
    {
      "cell_type": "code",
      "execution_count": null,
      "metadata": {
        "collapsed": false
      },
      "outputs": [],
      "source": [
        "X.y"
      ]
    },
    {
      "cell_type": "markdown",
      "metadata": {},
      "source": [
        "# Setting new coordinates\n\nIn this example, each experiment have a timestamp corresponds to the\ntime when a given pressure of CO in the infrared cell was set.\n\nHence, it would be interesting to replace the \\\"useless\\\" timestamps\n([y]{.title-ref} ) by a pressure coordinates:\n"
      ]
    },
    {
      "cell_type": "code",
      "execution_count": null,
      "metadata": {
        "collapsed": false
      },
      "outputs": [],
      "source": [
        "pressures = [\n    0.00300,\n    0.00400,\n    0.00900,\n    0.01400,\n    0.02100,\n    0.02600,\n    0.03600,\n    0.05100,\n    0.09300,\n    0.15000,\n    0.20300,\n    0.30000,\n    0.40400,\n    0.50300,\n    0.60200,\n    0.70200,\n    0.80100,\n    0.90500,\n    1.00400,\n]"
      ]
    },
    {
      "cell_type": "markdown",
      "metadata": {},
      "source": [
        "1.  A first way to do this is to replace the time coordinates by the\n    pressure coordinate\n"
      ]
    },
    {
      "cell_type": "markdown",
      "metadata": {},
      "source": [
        "*(we first make a copy of the time coordinates for later use the\noriginal will be destroyed by the following operation)*\n"
      ]
    },
    {
      "cell_type": "code",
      "execution_count": null,
      "metadata": {
        "collapsed": false
      },
      "outputs": [],
      "source": [
        "c_times = X.y.copy()"
      ]
    },
    {
      "cell_type": "markdown",
      "metadata": {},
      "source": [
        "Now we perform the replacement with this new coordinate:\n"
      ]
    },
    {
      "cell_type": "code",
      "execution_count": null,
      "metadata": {
        "collapsed": false
      },
      "outputs": [],
      "source": [
        "c_pressures = scp.Coord(pressures, title=\"pressure\", units=\"torr\")\nX.y = c_pressures\nprint(X.y)"
      ]
    },
    {
      "cell_type": "markdown",
      "metadata": {},
      "source": [
        "2.  A second way is to affect several coordinates to the corresponding\n    dimension. To do this, the simplest is to affect a list of\n    coordinates instead of a single one:\n"
      ]
    },
    {
      "cell_type": "code",
      "execution_count": null,
      "metadata": {
        "collapsed": false
      },
      "outputs": [],
      "source": [
        "X.y = [c_times, c_pressures]\nprint(X.y)"
      ]
    },
    {
      "cell_type": "markdown",
      "metadata": {},
      "source": [
        "By default, the current coordinate is the first one (here\n[c_times]{.title-ref} ). For example, it will be used for plotting:\n"
      ]
    },
    {
      "cell_type": "code",
      "execution_count": null,
      "metadata": {
        "collapsed": false
      },
      "outputs": [],
      "source": [
        "prefs = X.preferences\nprefs.figure.figsize = (7, 3)\n_ = X.plot(colorbar=True)\n_ = X.plot_map(colorbar=True)"
      ]
    },
    {
      "cell_type": "markdown",
      "metadata": {},
      "source": [
        "To seamlessly work with the second coordinates (pressures), we can\nchange the default coordinate:\n"
      ]
    },
    {
      "cell_type": "code",
      "execution_count": null,
      "metadata": {
        "collapsed": false
      },
      "outputs": [],
      "source": [
        "X.y.select(2)  # to select coordinate `_2`\nX.y.default"
      ]
    },
    {
      "cell_type": "markdown",
      "metadata": {},
      "source": [
        "Let\\'s now plot the spectral range of interest. The default coordinate\nis now used:\n"
      ]
    },
    {
      "cell_type": "code",
      "execution_count": null,
      "metadata": {
        "collapsed": false
      },
      "outputs": [],
      "source": [
        "X_ = X[:, 2250.0:1950.0]\nprint(X_.y.default)\n_ = X_.plot()\n_ = X_.plot_map()"
      ]
    },
    {
      "cell_type": "markdown",
      "metadata": {},
      "source": [
        "The same can be done for the x coordinates.\n\nLet\\'s take for instance row with index 10 of the previous dataset\n"
      ]
    },
    {
      "cell_type": "code",
      "execution_count": null,
      "metadata": {
        "collapsed": false
      },
      "outputs": [],
      "source": [
        "row10 = X_[10].squeeze()\nrow10.plot()\nprint(row10.coordset)"
      ]
    },
    {
      "cell_type": "markdown",
      "metadata": {},
      "source": [
        "Now we wants to add a coordinate with the wavelength instead of\nwavenumber.\n"
      ]
    },
    {
      "cell_type": "code",
      "execution_count": null,
      "metadata": {
        "collapsed": false
      },
      "outputs": [],
      "source": [
        "c_wavenumber = row10.x.copy()\nc_wavelength = row10.x.to(\"nanometer\")\nprint(c_wavenumber, c_wavelength)\nrow10.x = [c_wavenumber, c_wavelength]\nrow10.x.select(2)\n_ = row10.plot()"
      ]
    },
    {
      "cell_type": "markdown",
      "metadata": {},
      "source": [
        "This ends the example ! The following line can be uncommented if no plot\nshows when running the .py script with python\n"
      ]
    },
    {
      "cell_type": "code",
      "execution_count": null,
      "metadata": {
        "collapsed": false
      },
      "outputs": [],
      "source": [
        "# scp.show()"
      ]
    }
  ],
  "metadata": {
    "kernelspec": {
      "display_name": "Python 3",
      "language": "python",
      "name": "python3"
    },
    "language_info": {
      "codemirror_mode": {
        "name": "ipython",
        "version": 3
      },
      "file_extension": ".py",
      "mimetype": "text/x-python",
      "name": "python",
      "nbconvert_exporter": "python",
      "pygments_lexer": "ipython3",
      "version": "3.10.16"
    }
  },
  "nbformat": 4,
  "nbformat_minor": 0
}