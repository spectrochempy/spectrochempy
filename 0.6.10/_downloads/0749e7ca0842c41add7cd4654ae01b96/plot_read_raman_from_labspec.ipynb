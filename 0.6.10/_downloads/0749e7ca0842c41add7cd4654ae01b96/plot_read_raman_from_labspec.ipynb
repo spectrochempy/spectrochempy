{
  "cells": [
    {
      "cell_type": "markdown",
      "metadata": {},
      "source": [
        "# Loading RAMAN experimental file\n\nHere we load experimental LABSPEC spectra and plot them.\n"
      ]
    },
    {
      "cell_type": "code",
      "execution_count": null,
      "metadata": {
        "collapsed": false
      },
      "outputs": [],
      "source": [
        "import spectrochempy as scp"
      ]
    },
    {
      "cell_type": "markdown",
      "metadata": {},
      "source": [
        "define the folder where are the spectra\n"
      ]
    },
    {
      "cell_type": "code",
      "execution_count": null,
      "metadata": {
        "collapsed": false
      },
      "outputs": [],
      "source": [
        "datadir = scp.preferences.datadir\nramandir = datadir / \"ramandata/labspec\""
      ]
    },
    {
      "cell_type": "code",
      "execution_count": null,
      "metadata": {
        "collapsed": false
      },
      "outputs": [],
      "source": [
        "A = scp.read_labspec(\"Activation.txt\", directory=ramandir)\nA.plot()\n\nA = scp.read_labspec(\"532nm-191216-Si_200mu.txt\", directory=ramandir)\nA.plot()\n\nA = scp.read_labspec(\"serie190214-1.txt\", directory=ramandir)\nA.plot(colorbar=True)\nA.plot_map(colorbar=True)\n\nA = scp.read_labspec(\"SMC1-Initial_RT.txt\", directory=ramandir)\n_ = A.plot()"
      ]
    },
    {
      "cell_type": "markdown",
      "metadata": {},
      "source": [
        "Open a dialog - note the presence of the keyword directory\n"
      ]
    },
    {
      "cell_type": "code",
      "execution_count": null,
      "metadata": {
        "collapsed": false
      },
      "outputs": [],
      "source": [
        "B = scp.read_labspec(directory=ramandir)"
      ]
    },
    {
      "cell_type": "markdown",
      "metadata": {},
      "source": [
        "this pack all spectra of the subdir directory (without dialog - look at\nthe difference above)\n"
      ]
    },
    {
      "cell_type": "code",
      "execution_count": null,
      "metadata": {
        "collapsed": false
      },
      "outputs": [],
      "source": [
        "B = scp.read_labspec(ramandir / \"subdir\")\n_ = B.plot()"
      ]
    },
    {
      "cell_type": "markdown",
      "metadata": {},
      "source": [
        "This ends the example ! The following line can be uncommented if no plot\nshows when running the .py script with python\n"
      ]
    },
    {
      "cell_type": "code",
      "execution_count": null,
      "metadata": {
        "collapsed": false
      },
      "outputs": [],
      "source": [
        "# scp.show()"
      ]
    }
  ],
  "metadata": {
    "kernelspec": {
      "display_name": "Python 3",
      "language": "python",
      "name": "python3"
    },
    "language_info": {
      "codemirror_mode": {
        "name": "ipython",
        "version": 3
      },
      "file_extension": ".py",
      "mimetype": "text/x-python",
      "name": "python",
      "nbconvert_exporter": "python",
      "pygments_lexer": "ipython3",
      "version": "3.10.16"
    }
  },
  "nbformat": 4,
  "nbformat_minor": 0
}