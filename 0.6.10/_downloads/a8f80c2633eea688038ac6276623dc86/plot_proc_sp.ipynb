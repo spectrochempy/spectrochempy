{
  "cells": [
    {
      "cell_type": "markdown",
      "metadata": {},
      "source": [
        "# Sine bell and squared Sine bell window multiplication\n\nIn this example, we use sine bell or squared sine bell window\nmultiplication to apodize a NMR signal in the time domain.\n"
      ]
    },
    {
      "cell_type": "code",
      "execution_count": null,
      "metadata": {
        "collapsed": false
      },
      "outputs": [],
      "source": [
        "import os\n\nimport spectrochempy as scp\n\npath = os.path.join(\n    scp.preferences.datadir, \"nmrdata\", \"bruker\", \"tests\", \"nmr\", \"topspin_1d\"\n)\ndataset1D = scp.read_topspin(path, expno=1, remove_digital_filter=True)"
      ]
    },
    {
      "cell_type": "markdown",
      "metadata": {},
      "source": [
        "Normalize the dataset values and reduce the time domain\n"
      ]
    },
    {
      "cell_type": "code",
      "execution_count": null,
      "metadata": {
        "collapsed": false
      },
      "outputs": [],
      "source": [
        "dataset1D /= dataset1D.real.data.max()  # normalize\ndataset1D = dataset1D[0.0:15000.0]"
      ]
    },
    {
      "cell_type": "markdown",
      "metadata": {},
      "source": [
        "Apply Sine bell window apodization with parameter ssb=2, which\ncorrespond to a cosine function\n"
      ]
    },
    {
      "cell_type": "code",
      "execution_count": null,
      "metadata": {
        "collapsed": false
      },
      "outputs": [],
      "source": [
        "new1, curve1 = scp.sinm(dataset1D, ssb=2, retapod=True, inplace=False)"
      ]
    },
    {
      "cell_type": "markdown",
      "metadata": {},
      "source": [
        "this is equivalent to\n"
      ]
    },
    {
      "cell_type": "code",
      "execution_count": null,
      "metadata": {
        "collapsed": false
      },
      "outputs": [],
      "source": [
        "_ = dataset1D.sinm(ssb=2, retapod=True, inplace=False)"
      ]
    },
    {
      "cell_type": "markdown",
      "metadata": {},
      "source": [
        "or also\n"
      ]
    },
    {
      "cell_type": "code",
      "execution_count": null,
      "metadata": {
        "collapsed": false
      },
      "outputs": [],
      "source": [
        "_ = scp.sp(dataset1D, ssb=2, pow=1, retapod=True, inplace=False)"
      ]
    },
    {
      "cell_type": "markdown",
      "metadata": {},
      "source": [
        "Apply Sine bell window apodization with parameter ssb=2, which\ncorrespond to a sine function\n"
      ]
    },
    {
      "cell_type": "code",
      "execution_count": null,
      "metadata": {
        "collapsed": false
      },
      "outputs": [],
      "source": [
        "new2, curve2 = dataset1D.sinm(ssb=1, retapod=True, inplace=False)"
      ]
    },
    {
      "cell_type": "markdown",
      "metadata": {},
      "source": [
        "Apply Squared Sine bell window apodization with parameter ssb=1 and\nssb=2\n"
      ]
    },
    {
      "cell_type": "code",
      "execution_count": null,
      "metadata": {
        "collapsed": false
      },
      "outputs": [],
      "source": [
        "new3, curve3 = scp.qsin(dataset1D, ssb=2, retapod=True, inplace=False)\n\nnew4, curve4 = dataset1D.qsin(ssb=1, retapod=True, inplace=False)"
      ]
    },
    {
      "cell_type": "markdown",
      "metadata": {},
      "source": [
        "Apply shifted Sine bell window apodization with parameter ssb=8 (mixed\nsine/cosine window)\n"
      ]
    },
    {
      "cell_type": "code",
      "execution_count": null,
      "metadata": {
        "collapsed": false
      },
      "outputs": [],
      "source": [
        "new5, curve5 = dataset1D.sinm(ssb=8, retapod=True, inplace=False)"
      ]
    },
    {
      "cell_type": "markdown",
      "metadata": {},
      "source": [
        "Plotting\n"
      ]
    },
    {
      "cell_type": "code",
      "execution_count": null,
      "metadata": {
        "collapsed": false
      },
      "outputs": [],
      "source": [
        "p = dataset1D.plot(zlim=(-2, 2), color=\"k\")\n\ncurve1.plot(color=\"r\", clear=False)\nnew1.plot(\n    data_only=True, color=\"r\", clear=False, label=\" sinm with ssb= 2 (cosine window)\"\n)\n\ncurve2.plot(color=\"b\", clear=False)\nnew2.plot(\n    data_only=True, color=\"b\", clear=False, label=\" sinm with ssb= 1 (sine window)\"\n)\n\ncurve3.plot(color=\"m\", clear=False)\nnew3.plot(data_only=True, color=\"m\", clear=False, label=\" qsin with ssb= 2\")\n\ncurve4.plot(color=\"g\", clear=False)\nnew4.plot(data_only=True, color=\"g\", clear=False, label=\" qsin with ssb= 1\")\n\ncurve5.plot(color=\"c\", ls=\"--\", clear=False)\nnew5.plot(\n    data_only=True,\n    color=\"c\",\n    ls=\"--\",\n    clear=False,\n    label=\" sinm with ssb= 8\",\n    legend=\"best\",\n)"
      ]
    },
    {
      "cell_type": "markdown",
      "metadata": {},
      "source": [
        "This ends the example ! The following line can be uncommented if no plot\nshows when running the .py script with python\n"
      ]
    },
    {
      "cell_type": "code",
      "execution_count": null,
      "metadata": {
        "collapsed": false
      },
      "outputs": [],
      "source": [
        "# scp.show()"
      ]
    }
  ],
  "metadata": {
    "kernelspec": {
      "display_name": "Python 3",
      "language": "python",
      "name": "python3"
    },
    "language_info": {
      "codemirror_mode": {
        "name": "ipython",
        "version": 3
      },
      "file_extension": ".py",
      "mimetype": "text/x-python",
      "name": "python",
      "nbconvert_exporter": "python",
      "pygments_lexer": "ipython3",
      "version": "3.10.16"
    }
  },
  "nbformat": 4,
  "nbformat_minor": 0
}