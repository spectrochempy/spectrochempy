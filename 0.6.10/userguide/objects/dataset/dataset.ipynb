{
 "cells": [
  {
   "cell_type": "markdown",
   "id": "e8a61638",
   "metadata": {},
   "source": [
    "# The NDDataset object"
   ]
  },
  {
   "cell_type": "markdown",
   "id": "f8154d9d",
   "metadata": {},
   "source": [
    "The NDDataset is the main object use by **SpectroChemPy**.\n",
    "\n",
    "Like numpy ndarrays, NDDataset have the capability to be sliced, sorted and subject to\n",
    "mathematical operations.\n",
    "\n",
    "But, in addition, NDDataset may have units, can be masked and each dimensions can have\n",
    "coordinates also with units.\n",
    "This make NDDataset aware of units compatibility, *e.g.*, for binary operation such as\n",
    "additions or subtraction or during the application of mathematical operations.\n",
    "In addition or in replacement of numerical data for coordinates,\n",
    "NDDataset can also have labeled coordinates where labels can be different kind of\n",
    "objects (strings, datetime,\n",
    "numpy nd.ndarray or other NDDatasets, etc...).\n",
    "\n",
    "This offers a lot of flexibility in using NDDatasets that,  we hope, will be useful\n",
    "for applications.\n",
    "See the **[Examples](../../gallery/auto_examples/index.rst)** for\n",
    "additional information about such possible applications."
   ]
  },
  {
   "cell_type": "markdown",
   "id": "3a52d79b",
   "metadata": {},
   "source": [
    "**Below (and in the next sections), we try to give an almost complete view of the\n",
    "NDDataset features.**"
   ]
  },
  {
   "cell_type": "code",
   "execution_count": 1,
   "id": "0c02230f",
   "metadata": {
    "execution": {
     "iopub.execute_input": "2025-02-12T23:21:00.392338Z",
     "iopub.status.busy": "2025-02-12T23:21:00.391778Z",
     "iopub.status.idle": "2025-02-12T23:21:02.310615Z",
     "shell.execute_reply": "2025-02-12T23:21:02.310085Z"
    }
   },
   "outputs": [
    {
     "data": {
      "text/html": [
       "\n",
       "    \n",
       "    <div>\n",
       "    <table>\n",
       "    <tr>\n",
       "    <td>\n",
       "    \n",
       "    <img src='data:image/png;base64,iVBORw0KGgoAAAANSUhEUgAAABgAAAAYCAYAAADgdz34AAAAAXNSR0IArs4c6QAAAAlw\n",
       "    SFlzAAAJOgAACToB8GSSSgAAAetpVFh0WE1MOmNvbS5hZG9iZS54bXAAAAAAADx4OnhtcG1ldGEgeG1sbnM6eD0iYWRvYmU6bnM6\n",
       "    bWV0YS8iIHg6eG1wdGs9IlhNUCBDb3JlIDUuNC4wIj4KICAgPHJkZjpSREYgeG1sbnM6cmRmPSJodHRwOi8vd3d3LnczLm9yZy8x\n",
       "    OTk5LzAyLzIyLXJkZi1zeW50YXgtbnMjIj4KICAgICAgPHJkZjpEZXNjcmlwdGlvbiByZGY6YWJvdXQ9IiIKICAgICAgICAgICAg\n",
       "    eG1sbnM6eG1wPSJodHRwOi8vbnMuYWRvYmUuY29tL3hhcC8xLjAvIgogICAgICAgICAgICB4bWxuczp0aWZmPSJodHRwOi8vbnMu\n",
       "    YWRvYmUuY29tL3RpZmYvMS4wLyI+CiAgICAgICAgIDx4bXA6Q3JlYXRvclRvb2w+bWF0cGxvdGxpYiB2ZXJzaW9uIDIuMS4wLCBo\n",
       "    dHRwOi8vbWF0cGxvdGxpYi5vcmcvPC94bXA6Q3JlYXRvclRvb2w+CiAgICAgICAgIDx0aWZmOk9yaWVudGF0aW9uPjE8L3RpZmY6\n",
       "    T3JpZW50YXRpb24+CiAgICAgIDwvcmRmOkRlc2NyaXB0aW9uPgogICA8L3JkZjpSREY+CjwveDp4bXBtZXRhPgqNQaNYAAAGiUlE\n",
       "    QVRIDY1We4xU1Rn/3XPuYx47u8w+hnU38hTcuoUEt/6D2y4RB0ME1BoEd9taJaKh9CFiN7YGp7appUAMNmktMZFoJTYVLVQ0smsy\n",
       "    26CN0SU1QgsuFAaW3WVmx33N677O6XfuyoIxTXqSO/fec+75fd93vt/3/UbDV0aKSZmCpkFMLz3T9utuu2N+o98aDSMBKVAo89z5\n",
       "    y+zEz3ZafcCOfvWdlGCalqKn1Bf71CygTd+mf1esSOnpdMpTb+vWpTZuWVfe3jLPa5tzHYNm0T5N0gpdkkHaDBeGBU6d1/t/fyS8\n",
       "    +/CbqdfUvmsx1PuMgc2bNxv79u1zgd31r+7JH1jbIZKxWRXAcYUQ8IWvBfBXNjEuJWPgMA02NR7C3/pYT9fjdZ3A9tGrWF8YSJHn\n",
       "    qcDz3y7q2T967PZv+gnYJdd1mEZ+62zGDQV/dQgKhmLzDNOXCEWM3j6eTT5Y3w78dOBKJLR1PQf+4ivPj76UPZnssBN+wbM9Aet/\n",
       "    AV81Mf1EEULXYfOobvX2WWQk0aoioXwwSmirOlioY0mu8BIouzYl7P8GV3vpqCCEZvlFz769w08oLDWvyKIyL1asSm28d6WfzA97\n",
       "    ztvvV1kexUMsmhlkULEkuGYmFYC6AvfUrITnwUKl5K79lkjeSSRRTCTbQPd95e1WzMbZSya74XoXAxctCllCnbECMOjZNGRwvzIX\n",
       "    nD85wbkMmKK+U045Dtdi8Qp+SAxU2GTg2bYlC9224pgvmSb54vkVTBQYyhUt2KjAMyMmPjwRQW5Mh2WKwJhlBh6jVGagFM84wZnQ\n",
       "    4bpC0Rt4pk1PbSt0NDcxDA5xryosDHWgtbM0DGZDWLSoiDMDYeQnGVrmOThxLozB0RAaahzkJzjKNqcIQBymJFMkOlN8Dqjpg0XY\n",
       "    Tx5xO/QbmmUrqIjGJznq47TqTaClKYfjp+PInLMwnOdYvtQBZ2XcunQY+VwIo4U4muoFEjVEFE6lQyEUKzHYfgQG9ylCyngU+Cxj\n",
       "    tOqxCDGHcCsOMCs6iQul5ZiStdATYxjMZXDLTUVwLY8Jey4uOh2IxjwsrP8UXJYxUrkZrghBahzV5iXU6gNkq0Z1EzIsUBUSCV2n\n",
       "    EOHo0LVxHCpuxabJJdhi5PFnvw5vLXwXIfNZvD/+JNo/X40NegE54sUaazl+UL8XD1x+FB9Ijjt4EQfdGN6J/x131LwIV9ap/AYs\n",
       "    0x1fz1ZKFbh6A7qKy/By9Dg6G36Ep91vUJJ15Cqr0Z67E8/HzmBrw1OwxWyM+3Mo6BAuSB17oyfx0Oyl2DN0Hqs/70Cx6hBCvESF\n",
       "    UY1ShWXZZEE7OTAYxZzaPH4TuoiusZvRnunFy2NbiHYuBp2vB66srX4vMEjpRKPxKXmnoQ4+Mn4DPiv8CYcrs3GfNUXJLtM+alSO\n",
       "    hrMj/KT+wBNW3+E/2liywNO3iSflbaFva/+stGDTxE0E9Sjaox8HBhxpEamzMGSEaFKg+mjEddzDh1MxTDq3YV1kGBsjfwW3S9Cq\n",
       "    anjmko+ndlb1UR3s6K8JlfphNWq9Ew/7c61T2BB/EbcaNkb8GBaE0tANH7/M34PLdhJDzjIcL9xPbdTG6zyM72Y+wXPHmvB489No\n",
       "    fm0b5HnbQ9Rgp/7DSSd29AeVvPeNyK6JcYl/yQVi5dBjuGvoV/gaJe47s45QUxrDmcYX0MBsdF7egvXZ7+O0vZA4X8QmOQWjlSK7\n",
       "    RDz5wIM30gp9UbWcGjXxhzdDu1SiNSpx6kcQB57rPnr/3dlkZarWLnlRq5oPET1dOCIOk4wALib9eeS5iygfhkd09H0DWphB/+gs\n",
       "    +PcOAS+ssrFmmXXgVfR0de9cpbAJfH3Q1jofW9DZk56dDcVsq9YcsoUMEd1qyLoT3BX1YiyHMJuk97hyjqIoE91t+NcTLeN0ZrfM\n",
       "    oXatZbu6G0h4VG+ibqq0IJVK6cAjo6serG3vSUezCMct0yQeSOFJSUImqb2qbknUpDqlZxE0QZ+ZUpSlZx79h4Nda6zef9dlk121\n",
       "    JDjbR5XggPRZlRnS6bRQRtLpn4++cuie/Yvn2svmNxuLw9WCcYIl4fEoTEGiSTUqJdfgU+8ROqf1iMkLzS389YtNPXc/PH8l8ONB\n",
       "    JZkHD+4JtD04HmVEDWWErmBhzV2/2LB1bemJG6krzv2S6NOHUgtEP0Oif5pE/3fHoruP7N8RiP61GArzSwbUhJJQpXJKiKbfr/3b\n",
       "    IhKq76sKPUdF9NW/LSqfSn6vjv8C45H/6FSgvZQAAAAASUVORK5CYII='\n",
       "         style='height:25px; border-radius:12px; display:inline-block; float:left; vertical-align:middle'>\n",
       "    </img>\n",
       "    \n",
       "    </td>\n",
       "    <td>\n",
       "    \n",
       "    &nbsp;&nbsp;<span style='font-size:12px'>SpectroChemPy's API - v.0.6.11.dev0+g92c43643.d20250212<br/>© Copyright 2014-2025 - A.Travert & C.Fernandez @ LCS</span>\n",
       "    \n",
       "    </td>\n",
       "    </tr>\n",
       "    </table>\n",
       "    </div>\n",
       "    "
      ]
     },
     "metadata": {},
     "output_type": "display_data"
    }
   ],
   "source": [
    "import spectrochempy as scp"
   ]
  },
  {
   "cell_type": "markdown",
   "id": "69d9dc19",
   "metadata": {},
   "source": [
    "As we will make some reference to the\n",
    "**[numpy](https://numpy.org/doc/stable/index.html)** library, we also import it here."
   ]
  },
  {
   "cell_type": "code",
   "execution_count": 2,
   "id": "23215c82",
   "metadata": {
    "execution": {
     "iopub.execute_input": "2025-02-12T23:21:02.312797Z",
     "iopub.status.busy": "2025-02-12T23:21:02.312472Z",
     "iopub.status.idle": "2025-02-12T23:21:02.315402Z",
     "shell.execute_reply": "2025-02-12T23:21:02.314865Z"
    }
   },
   "outputs": [],
   "source": [
    "import numpy as np"
   ]
  },
  {
   "cell_type": "markdown",
   "id": "fe49de75",
   "metadata": {},
   "source": [
    "We additionally import the three main SpectroChemPy objects that we will use through\n",
    "this tutorial"
   ]
  },
  {
   "cell_type": "code",
   "execution_count": 3,
   "id": "7bc87f30",
   "metadata": {
    "execution": {
     "iopub.execute_input": "2025-02-12T23:21:02.317412Z",
     "iopub.status.busy": "2025-02-12T23:21:02.316977Z",
     "iopub.status.idle": "2025-02-12T23:21:02.319826Z",
     "shell.execute_reply": "2025-02-12T23:21:02.319317Z"
    }
   },
   "outputs": [],
   "source": [
    "from spectrochempy import Coord, CoordSet, NDDataset"
   ]
  },
  {
   "cell_type": "markdown",
   "id": "86d5b9e6",
   "metadata": {},
   "source": [
    "For a convenient usage of units, we will also directly import\n",
    "**[ur]((../units/units.ipynb)**, the unit registry which contains all available\n",
    "units."
   ]
  },
  {
   "cell_type": "code",
   "execution_count": 4,
   "id": "0adf8a86",
   "metadata": {
    "execution": {
     "iopub.execute_input": "2025-02-12T23:21:02.321608Z",
     "iopub.status.busy": "2025-02-12T23:21:02.321412Z",
     "iopub.status.idle": "2025-02-12T23:21:02.324667Z",
     "shell.execute_reply": "2025-02-12T23:21:02.323823Z"
    }
   },
   "outputs": [],
   "source": [
    "from spectrochempy import ur"
   ]
  },
  {
   "cell_type": "markdown",
   "id": "40ed463a",
   "metadata": {},
   "source": [
    "Multidimensional array are defined in Spectrochempy using the `NDDataset` object.\n",
    "\n",
    "`NDDataset` objects mostly behave as numpy's `numpy.ndarray`\n",
    "(see for instance __\n",
    "[numpy quickstart tutorial](https://numpy.org/doc/stable/user/quickstart.html)__)."
   ]
  },
  {
   "cell_type": "markdown",
   "id": "3cbbe96d",
   "metadata": {},
   "source": [
    "However, unlike raw numpy's ndarray, the presence of optional properties make\n",
    "them (hopefully) more appropriate for handling spectroscopic information,\n",
    "one of the major objectives of the SpectroChemPy package:\n",
    "\n",
    "*  `mask`: Data can be partially masked at will\n",
    "*  `units`: Data can have units, allowing units-aware operations\n",
    "*  `CoordSet`: Data can have a set of coordinates, one or several by dimensions\n",
    "\n",
    "Additional metadata can also be added to the instances of this class\n",
    "through the `meta` properties."
   ]
  },
  {
   "cell_type": "markdown",
   "id": "0b362011",
   "metadata": {},
   "source": [
    "## 1D-Dataset (unidimensional dataset)"
   ]
  },
  {
   "cell_type": "markdown",
   "id": "10246ed3",
   "metadata": {},
   "source": [
    "In the following example, a minimal 1D dataset is created from a simple list,\n",
    "to which we can add some metadata:"
   ]
  },
  {
   "cell_type": "code",
   "execution_count": 5,
   "id": "6071eddf",
   "metadata": {
    "execution": {
     "iopub.execute_input": "2025-02-12T23:21:02.326811Z",
     "iopub.status.busy": "2025-02-12T23:21:02.326634Z",
     "iopub.status.idle": "2025-02-12T23:21:02.334536Z",
     "shell.execute_reply": "2025-02-12T23:21:02.333897Z"
    }
   },
   "outputs": [
    {
     "data": {
      "text/html": [
       "<table style='background:transparent'>\n",
       "<tr><td style='padding-right:5px; padding-bottom:0px; padding-top:0px; width:124px'><font color='green'>         name</font> </td><td style='text-align:left; padding-bottom:0px; padding-top:0px; border:.5px solid lightgray;  '> Dataset N1</td><tr>\n",
       "<tr><td style='padding-right:5px; padding-bottom:0px; padding-top:0px; width:124px'><font color='green'>       author</font> </td><td style='text-align:left; padding-bottom:0px; padding-top:0px; border:.5px solid lightgray;  '> Blake and Mortimer</td><tr>\n",
       "<tr><td style='padding-right:5px; padding-bottom:0px; padding-top:0px; width:124px'><font color='green'>      created</font> </td><td style='text-align:left; padding-bottom:0px; padding-top:0px; border:.5px solid lightgray;  '> 2025-02-12 23:21:02+00:00</td><tr>\n",
       "<tr><td style='padding-right:5px; padding-bottom:0px; padding-top:0px; width:124px'><font color='green'>  description</font> </td><td style='text-align:left; padding-bottom:0px; padding-top:0px; border:.5px solid lightgray;  '> <div>A dataset from scratch</div></td><tr>\n",
       "<tr><td style='padding-right:5px; padding-bottom:0px; padding-top:0px; width:124px'><font color='green'>      history</font> </td><td style='text-align:left; padding-bottom:0px; padding-top:0px; border:.5px solid lightgray;  '> <div>2025-02-12 23:21:02+00:00> Creation</div></td><tr>\n",
       "<tr><td style='padding-right:5px; padding-bottom:0px; padding-top:0px; width:124px'><strong>          DATA </strong></td><td style='text-align:left; padding-bottom:0px; padding-top:0px; padding-top:10px; '><hr/></td><tr>\n",
       "<tr><td style='padding-right:5px; padding-bottom:0px; padding-top:0px; width:124px'><font color='green'>        title</font> </td><td style='text-align:left; padding-bottom:0px; padding-top:0px; border:.5px solid lightgray;  '> <untitled></td><tr>\n",
       "<tr><td style='padding-right:5px; padding-bottom:0px; padding-top:0px; width:124px'><font color='green'>       values</font> </td><td style='text-align:left; padding-bottom:0px; padding-top:0px; border:.5px solid lightgray;  '> <div><font color='blue'>         [      10       20       30]</font></div></td><tr>\n",
       "<tr><td style='padding-right:5px; padding-bottom:0px; padding-top:0px; width:124px'><font color='green'>         size</font> </td><td style='text-align:left; padding-bottom:0px; padding-top:0px; border:.5px solid lightgray;  '> 3</td><tr>\n",
       "</table>"
      ],
      "text/plain": [
       "NDDataset: [float64] unitless (size: 3)"
      ]
     },
     "execution_count": 5,
     "metadata": {},
     "output_type": "execute_result"
    }
   ],
   "source": [
    "d1D = NDDataset(\n",
    "    [10.0, 20.0, 30.0],\n",
    "    name=\"Dataset N1\",\n",
    "    author=\"Blake and Mortimer\",\n",
    "    description=\"A dataset from scratch\",\n",
    "    history=\"creation\",\n",
    ")\n",
    "d1D"
   ]
  },
  {
   "cell_type": "code",
   "execution_count": 6,
   "id": "41057037",
   "metadata": {
    "execution": {
     "iopub.execute_input": "2025-02-12T23:21:02.336540Z",
     "iopub.status.busy": "2025-02-12T23:21:02.336150Z",
     "iopub.status.idle": "2025-02-12T23:21:02.339861Z",
     "shell.execute_reply": "2025-02-12T23:21:02.339299Z"
    }
   },
   "outputs": [
    {
     "name": "stdout",
     "output_type": "stream",
     "text": [
      "NDDataset: [float64] unitless (size: 3)\n"
     ]
    }
   ],
   "source": [
    "print(d1D)"
   ]
  },
  {
   "cell_type": "code",
   "execution_count": 7,
   "id": "ef50467a",
   "metadata": {
    "execution": {
     "iopub.execute_input": "2025-02-12T23:21:02.341906Z",
     "iopub.status.busy": "2025-02-12T23:21:02.341518Z",
     "iopub.status.idle": "2025-02-12T23:21:02.649020Z",
     "shell.execute_reply": "2025-02-12T23:21:02.648342Z"
    }
   },
   "outputs": [
    {
     "data": {
      "image/jpeg": "[encoded data removed]",
      "image/png": "[encoded data removed]",
      "text/plain": [
       "<Figure size 288x192 with 1 Axes>"
      ]
     },
     "metadata": {},
     "output_type": "display_data"
    }
   ],
   "source": [
    "_ = d1D.plot(figsize=(3, 2))"
   ]
  },
  {
   "cell_type": "markdown",
   "id": "1a3292f7",
   "metadata": {},
   "source": [
    "Except few additional metadata such `author` , `created` ..., there is not much\n",
    "difference with respect to a conventional\n",
    "**[numpy.array](\n",
    "https://numpy.org/doc/stable/reference/generated/numpy.array.html#numpy.array)**.\n",
    "For example, one\n",
    "can apply numpy\n",
    "**[ufunc](https://numpy.org/doc/stable/reference/ufuncs.html#available-ufuncs)'s**\n",
    "directly to a NDDataset or make basic arithmetic\n",
    "operation with these objects:"
   ]
  },
  {
   "cell_type": "code",
   "execution_count": 8,
   "id": "18f138cf",
   "metadata": {
    "execution": {
     "iopub.execute_input": "2025-02-12T23:21:02.651835Z",
     "iopub.status.busy": "2025-02-12T23:21:02.651383Z",
     "iopub.status.idle": "2025-02-12T23:21:02.659758Z",
     "shell.execute_reply": "2025-02-12T23:21:02.659171Z"
    }
   },
   "outputs": [
    {
     "data": {
      "text/html": [
       "<table style='background:transparent'>\n",
       "<tr><td style='padding-right:5px; padding-bottom:0px; padding-top:0px; width:124px'><font color='green'>         name</font> </td><td style='text-align:left; padding-bottom:0px; padding-top:0px; border:.5px solid lightgray;  '> Dataset N1</td><tr>\n",
       "<tr><td style='padding-right:5px; padding-bottom:0px; padding-top:0px; width:124px'><font color='green'>       author</font> </td><td style='text-align:left; padding-bottom:0px; padding-top:0px; border:.5px solid lightgray;  '> Blake and Mortimer</td><tr>\n",
       "<tr><td style='padding-right:5px; padding-bottom:0px; padding-top:0px; width:124px'><font color='green'>      created</font> </td><td style='text-align:left; padding-bottom:0px; padding-top:0px; border:.5px solid lightgray;  '> 2025-02-12 23:21:02+00:00</td><tr>\n",
       "<tr><td style='padding-right:5px; padding-bottom:0px; padding-top:0px; width:124px'><font color='green'>  description</font> </td><td style='text-align:left; padding-bottom:0px; padding-top:0px; border:.5px solid lightgray;  '> <div>A dataset from scratch</div></td><tr>\n",
       "<tr><td style='padding-right:5px; padding-bottom:0px; padding-top:0px; width:124px'><font color='green'>      history</font> </td><td style='text-align:left; padding-bottom:0px; padding-top:0px; border:.5px solid lightgray;  '> <div>2025-02-12 23:21:02+00:00> Creation<br/>               2025-02-12 23:21:02+00:00> Ufunc sqrt applied.</div></td><tr>\n",
       "<tr><td style='padding-right:5px; padding-bottom:0px; padding-top:0px; width:124px'><strong>          DATA </strong></td><td style='text-align:left; padding-bottom:0px; padding-top:0px; padding-top:10px; '><hr/></td><tr>\n",
       "<tr><td style='padding-right:5px; padding-bottom:0px; padding-top:0px; width:124px'><font color='green'>        title</font> </td><td style='text-align:left; padding-bottom:0px; padding-top:0px; border:.5px solid lightgray;  '> sqrt(<untitled>)</td><tr>\n",
       "<tr><td style='padding-right:5px; padding-bottom:0px; padding-top:0px; width:124px'><font color='green'>       values</font> </td><td style='text-align:left; padding-bottom:0px; padding-top:0px; border:.5px solid lightgray;  '> <div><font color='blue'>         [   3.162    4.472    5.477]</font></div></td><tr>\n",
       "<tr><td style='padding-right:5px; padding-bottom:0px; padding-top:0px; width:124px'><font color='green'>         size</font> </td><td style='text-align:left; padding-bottom:0px; padding-top:0px; border:.5px solid lightgray;  '> 3</td><tr>\n",
       "</table>"
      ],
      "text/plain": [
       "NDDataset: [float64] unitless (size: 3)"
      ]
     },
     "execution_count": 8,
     "metadata": {},
     "output_type": "execute_result"
    }
   ],
   "source": [
    "np.sqrt(d1D)"
   ]
  },
  {
   "cell_type": "code",
   "execution_count": 9,
   "id": "311ba94a",
   "metadata": {
    "execution": {
     "iopub.execute_input": "2025-02-12T23:21:02.661956Z",
     "iopub.status.busy": "2025-02-12T23:21:02.661489Z",
     "iopub.status.idle": "2025-02-12T23:21:02.672088Z",
     "shell.execute_reply": "2025-02-12T23:21:02.671424Z"
    }
   },
   "outputs": [
    {
     "data": {
      "text/html": [
       "<table style='background:transparent'>\n",
       "<tr><td style='padding-right:5px; padding-bottom:0px; padding-top:0px; width:124px'><font color='green'>         name</font> </td><td style='text-align:left; padding-bottom:0px; padding-top:0px; border:.5px solid lightgray;  '> Dataset N1</td><tr>\n",
       "<tr><td style='padding-right:5px; padding-bottom:0px; padding-top:0px; width:124px'><font color='green'>       author</font> </td><td style='text-align:left; padding-bottom:0px; padding-top:0px; border:.5px solid lightgray;  '> Blake and Mortimer</td><tr>\n",
       "<tr><td style='padding-right:5px; padding-bottom:0px; padding-top:0px; width:124px'><font color='green'>      created</font> </td><td style='text-align:left; padding-bottom:0px; padding-top:0px; border:.5px solid lightgray;  '> 2025-02-12 23:21:02+00:00</td><tr>\n",
       "<tr><td style='padding-right:5px; padding-bottom:0px; padding-top:0px; width:124px'><font color='green'>  description</font> </td><td style='text-align:left; padding-bottom:0px; padding-top:0px; border:.5px solid lightgray;  '> <div>A dataset from scratch</div></td><tr>\n",
       "<tr><td style='padding-right:5px; padding-bottom:0px; padding-top:0px; width:124px'><font color='green'>      history</font> </td><td style='text-align:left; padding-bottom:0px; padding-top:0px; border:.5px solid lightgray;  '> <div>2025-02-12 23:21:02+00:00> Creation<br/>               2025-02-12 23:21:02+00:00> Inplace binary op: iadd  with `Dataset N1`</div></td><tr>\n",
       "<tr><td style='padding-right:5px; padding-bottom:0px; padding-top:0px; width:124px'><strong>          DATA </strong></td><td style='text-align:left; padding-bottom:0px; padding-top:0px; padding-top:10px; '><hr/></td><tr>\n",
       "<tr><td style='padding-right:5px; padding-bottom:0px; padding-top:0px; width:124px'><font color='green'>        title</font> </td><td style='text-align:left; padding-bottom:0px; padding-top:0px; border:.5px solid lightgray;  '> <untitled></td><tr>\n",
       "<tr><td style='padding-right:5px; padding-bottom:0px; padding-top:0px; width:124px'><font color='green'>       values</font> </td><td style='text-align:left; padding-bottom:0px; padding-top:0px; border:.5px solid lightgray;  '> <div><font color='blue'>         [      15       30       45]</font></div></td><tr>\n",
       "<tr><td style='padding-right:5px; padding-bottom:0px; padding-top:0px; width:124px'><font color='green'>         size</font> </td><td style='text-align:left; padding-bottom:0px; padding-top:0px; border:.5px solid lightgray;  '> 3</td><tr>\n",
       "</table>"
      ],
      "text/plain": [
       "NDDataset: [float64] unitless (size: 3)"
      ]
     },
     "execution_count": 9,
     "metadata": {},
     "output_type": "execute_result"
    }
   ],
   "source": [
    "d1D += d1D / 2.0\n",
    "d1D"
   ]
  },
  {
   "cell_type": "markdown",
   "id": "4d06765a",
   "metadata": {},
   "source": [
    "As seen above, there are some attributes that are automatically added to the dataset:\n",
    "\n",
    "* `id`      : This is a unique identifier for the object.\n",
    "* `name`: A short and unique name for the dataset. It will beequal to the automatic\n",
    "`id` if it is not provided.\n",
    "* `author`  : Author determined from the computer name if not provided.\n",
    "* `created` : Date and time of creation.\n",
    "* `modified`: Date and time of modification.\n",
    "\n",
    "These attributes can be modified by the user, but the `id` , `created` and `modified`\n",
    "attributes are read only.\n",
    "\n",
    "Some other attributes are defined to describe the data:\n",
    "* `title`: A long name that will be used in plots or in some other operations.\n",
    "* `history`: history of operation achieved on the object since the object creation.\n",
    "* `description`: A comment or a description of the objects purpose or contents.\n",
    "* `origin`: An optional reference to the source of the data."
   ]
  },
  {
   "cell_type": "markdown",
   "id": "8c78093d",
   "metadata": {},
   "source": [
    "Here is an example of the use of the NDDataset attributes:"
   ]
  },
  {
   "cell_type": "code",
   "execution_count": 10,
   "id": "fdbadead",
   "metadata": {
    "execution": {
     "iopub.execute_input": "2025-02-12T23:21:02.674456Z",
     "iopub.status.busy": "2025-02-12T23:21:02.674061Z",
     "iopub.status.idle": "2025-02-12T23:21:02.681295Z",
     "shell.execute_reply": "2025-02-12T23:21:02.680662Z"
    }
   },
   "outputs": [
    {
     "data": {
      "text/html": [
       "<table style='background:transparent'>\n",
       "<tr><td style='padding-right:5px; padding-bottom:0px; padding-top:0px; width:124px'><font color='green'>         name</font> </td><td style='text-align:left; padding-bottom:0px; padding-top:0px; border:.5px solid lightgray;  '> mydataset</td><tr>\n",
       "<tr><td style='padding-right:5px; padding-bottom:0px; padding-top:0px; width:124px'><font color='green'>       author</font> </td><td style='text-align:left; padding-bottom:0px; padding-top:0px; border:.5px solid lightgray;  '> Blake and Mortimer</td><tr>\n",
       "<tr><td style='padding-right:5px; padding-bottom:0px; padding-top:0px; width:124px'><font color='green'>      created</font> </td><td style='text-align:left; padding-bottom:0px; padding-top:0px; border:.5px solid lightgray;  '> 2025-02-12 23:21:02+00:00</td><tr>\n",
       "<tr><td style='padding-right:5px; padding-bottom:0px; padding-top:0px; width:124px'><font color='green'>  description</font> </td><td style='text-align:left; padding-bottom:0px; padding-top:0px; border:.5px solid lightgray;  '> <div>Some experimental measurements</div></td><tr>\n",
       "<tr><td style='padding-right:5px; padding-bottom:0px; padding-top:0px; width:124px'><font color='green'>      history</font> </td><td style='text-align:left; padding-bottom:0px; padding-top:0px; border:.5px solid lightgray;  '> <div>2025-02-12 23:21:02+00:00> Creation<br/>               2025-02-12 23:21:02+00:00> Inplace binary op: iadd  with `Dataset N1` <br/>               2025-02-12 23:21:02+00:00> Created from scratch</div></td><tr>\n",
       "<tr><td style='padding-right:5px; padding-bottom:0px; padding-top:0px; width:124px'><strong>          DATA </strong></td><td style='text-align:left; padding-bottom:0px; padding-top:0px; padding-top:10px; '><hr/></td><tr>\n",
       "<tr><td style='padding-right:5px; padding-bottom:0px; padding-top:0px; width:124px'><font color='green'>        title</font> </td><td style='text-align:left; padding-bottom:0px; padding-top:0px; border:.5px solid lightgray;  '> intensity</td><tr>\n",
       "<tr><td style='padding-right:5px; padding-bottom:0px; padding-top:0px; width:124px'><font color='green'>       values</font> </td><td style='text-align:left; padding-bottom:0px; padding-top:0px; border:.5px solid lightgray;  '> <div><font color='blue'>         [      15       30       45]</font></div></td><tr>\n",
       "<tr><td style='padding-right:5px; padding-bottom:0px; padding-top:0px; width:124px'><font color='green'>         size</font> </td><td style='text-align:left; padding-bottom:0px; padding-top:0px; border:.5px solid lightgray;  '> 3</td><tr>\n",
       "</table>"
      ],
      "text/plain": [
       "NDDataset: [float64] unitless (size: 3)"
      ]
     },
     "execution_count": 10,
     "metadata": {},
     "output_type": "execute_result"
    }
   ],
   "source": [
    "d1D.title = \"intensity\"\n",
    "d1D.name = \"mydataset\"\n",
    "d1D.history = \"created from scratch\"\n",
    "d1D.description = \"Some experimental measurements\"\n",
    "d1D"
   ]
  },
  {
   "cell_type": "markdown",
   "id": "fba6c654",
   "metadata": {},
   "source": [
    "d1D is a 1D (1-dimensional) dataset with only one dimension.\n",
    "\n",
    "Some attributes are useful to check this kind of information:"
   ]
  },
  {
   "cell_type": "code",
   "execution_count": 11,
   "id": "1cd554fe",
   "metadata": {
    "execution": {
     "iopub.execute_input": "2025-02-12T23:21:02.684032Z",
     "iopub.status.busy": "2025-02-12T23:21:02.683508Z",
     "iopub.status.idle": "2025-02-12T23:21:02.688924Z",
     "shell.execute_reply": "2025-02-12T23:21:02.688340Z"
    }
   },
   "outputs": [
    {
     "data": {
      "text/plain": [
       "(3,)"
      ]
     },
     "execution_count": 11,
     "metadata": {},
     "output_type": "execute_result"
    }
   ],
   "source": [
    "d1D.shape  # the shape of 1D contain only one dimension size"
   ]
  },
  {
   "cell_type": "code",
   "execution_count": 12,
   "id": "064a34b8",
   "metadata": {
    "execution": {
     "iopub.execute_input": "2025-02-12T23:21:02.690764Z",
     "iopub.status.busy": "2025-02-12T23:21:02.690580Z",
     "iopub.status.idle": "2025-02-12T23:21:02.694638Z",
     "shell.execute_reply": "2025-02-12T23:21:02.694101Z"
    }
   },
   "outputs": [
    {
     "data": {
      "text/plain": [
       "1"
      ]
     },
     "execution_count": 12,
     "metadata": {},
     "output_type": "execute_result"
    }
   ],
   "source": [
    "d1D.ndim  # the number of dimensions"
   ]
  },
  {
   "cell_type": "code",
   "execution_count": 13,
   "id": "5315ef11",
   "metadata": {
    "execution": {
     "iopub.execute_input": "2025-02-12T23:21:02.696393Z",
     "iopub.status.busy": "2025-02-12T23:21:02.696210Z",
     "iopub.status.idle": "2025-02-12T23:21:02.700270Z",
     "shell.execute_reply": "2025-02-12T23:21:02.699724Z"
    }
   },
   "outputs": [
    {
     "data": {
      "text/plain": [
       "['x']"
      ]
     },
     "execution_count": 13,
     "metadata": {},
     "output_type": "execute_result"
    }
   ],
   "source": [
    "d1D.dims  # the name of the dimension (it has been automatically attributed)"
   ]
  },
  {
   "cell_type": "markdown",
   "id": "8335ee41",
   "metadata": {},
   "source": [
    "**Note**: The names of the dimensions are set automatically. But they can be changed,\n",
    "with <u>the limitation</u> that the\n",
    "name must be a single letter."
   ]
  },
  {
   "cell_type": "code",
   "execution_count": 14,
   "id": "67b6f40d",
   "metadata": {
    "execution": {
     "iopub.execute_input": "2025-02-12T23:21:02.702183Z",
     "iopub.status.busy": "2025-02-12T23:21:02.701830Z",
     "iopub.status.idle": "2025-02-12T23:21:02.704854Z",
     "shell.execute_reply": "2025-02-12T23:21:02.704324Z"
    }
   },
   "outputs": [],
   "source": [
    "d1D.dims = [\"q\"]  # change the list of dim names."
   ]
  },
  {
   "cell_type": "code",
   "execution_count": 15,
   "id": "cdec9431",
   "metadata": {
    "execution": {
     "iopub.execute_input": "2025-02-12T23:21:02.706726Z",
     "iopub.status.busy": "2025-02-12T23:21:02.706524Z",
     "iopub.status.idle": "2025-02-12T23:21:02.710575Z",
     "shell.execute_reply": "2025-02-12T23:21:02.709935Z"
    }
   },
   "outputs": [
    {
     "data": {
      "text/plain": [
       "['q']"
      ]
     },
     "execution_count": 15,
     "metadata": {},
     "output_type": "execute_result"
    }
   ],
   "source": [
    "d1D.dims"
   ]
  },
  {
   "cell_type": "markdown",
   "id": "0eccd1f0",
   "metadata": {},
   "source": [
    "### nD-Dataset (multidimensional dataset)"
   ]
  },
  {
   "cell_type": "markdown",
   "id": "dd0fa221",
   "metadata": {},
   "source": [
    "To create a nD NDDataset, we can provide a nD-array like object to the NDDataset\n",
    "instance constructor"
   ]
  },
  {
   "cell_type": "code",
   "execution_count": 16,
   "id": "8e0bdedb",
   "metadata": {
    "execution": {
     "iopub.execute_input": "2025-02-12T23:21:02.712441Z",
     "iopub.status.busy": "2025-02-12T23:21:02.712243Z",
     "iopub.status.idle": "2025-02-12T23:21:02.716860Z",
     "shell.execute_reply": "2025-02-12T23:21:02.716219Z"
    }
   },
   "outputs": [
    {
     "data": {
      "text/plain": [
       "array([[[   0.164,   0.9365, ...,   0.4008,   0.4923],\n",
       "        [  0.2139,   0.3074, ...,   0.2605,    0.562],\n",
       "        [ 0.07699,   0.3609, ...,   0.4141,   0.1073],\n",
       "        [  0.2037,   0.3726, ...,   0.1487,   0.6037]],\n",
       "\n",
       "       [[  0.3881,   0.4777, ...,   0.2281,   0.7669],\n",
       "        [ 0.06873,      0.2, ...,   0.5199,   0.7288],\n",
       "        [  0.2233,   0.3144, ...,   0.8081,   0.3282],\n",
       "        [  0.2258,   0.8783, ...,   0.4655,   0.4265]]])"
      ]
     },
     "execution_count": 16,
     "metadata": {},
     "output_type": "execute_result"
    }
   ],
   "source": [
    "a = np.random.rand(2, 4, 6)\n",
    "a"
   ]
  },
  {
   "cell_type": "code",
   "execution_count": 17,
   "id": "3f8041e7",
   "metadata": {
    "execution": {
     "iopub.execute_input": "2025-02-12T23:21:02.719150Z",
     "iopub.status.busy": "2025-02-12T23:21:02.718620Z",
     "iopub.status.idle": "2025-02-12T23:21:02.726159Z",
     "shell.execute_reply": "2025-02-12T23:21:02.725617Z"
    }
   },
   "outputs": [
    {
     "data": {
      "text/html": [
       "<table style='background:transparent'>\n",
       "<tr><td style='padding-right:5px; padding-bottom:0px; padding-top:0px; width:124px'><font color='green'>         name</font> </td><td style='text-align:left; padding-bottom:0px; padding-top:0px; border:.5px solid lightgray;  '> 3D dataset creation</td><tr>\n",
       "<tr><td style='padding-right:5px; padding-bottom:0px; padding-top:0px; width:124px'><font color='green'>       author</font> </td><td style='text-align:left; padding-bottom:0px; padding-top:0px; border:.5px solid lightgray;  '> Someone</td><tr>\n",
       "<tr><td style='padding-right:5px; padding-bottom:0px; padding-top:0px; width:124px'><font color='green'>      created</font> </td><td style='text-align:left; padding-bottom:0px; padding-top:0px; border:.5px solid lightgray;  '> 2025-02-12 23:21:02+00:00</td><tr>\n",
       "<tr><td style='padding-right:5px; padding-bottom:0px; padding-top:0px; width:124px'><font color='green'>  description</font> </td><td style='text-align:left; padding-bottom:0px; padding-top:0px; border:.5px solid lightgray;  '> <div>Some example</div></td><tr>\n",
       "<tr><td style='padding-right:5px; padding-bottom:0px; padding-top:0px; width:124px'><font color='green'>      history</font> </td><td style='text-align:left; padding-bottom:0px; padding-top:0px; border:.5px solid lightgray;  '> <div>2025-02-12 23:21:02+00:00> Created from scratch</div></td><tr>\n",
       "<tr><td style='padding-right:5px; padding-bottom:0px; padding-top:0px; width:124px'><strong>          DATA </strong></td><td style='text-align:left; padding-bottom:0px; padding-top:0px; padding-top:10px; '><hr/></td><tr>\n",
       "<tr><td style='padding-right:5px; padding-bottom:0px; padding-top:0px; width:124px'><font color='green'>        title</font> </td><td style='text-align:left; padding-bottom:0px; padding-top:0px; border:.5px solid lightgray;  '> energy</td><tr>\n",
       "<tr><td style='padding-right:5px; padding-bottom:0px; padding-top:0px; width:124px'><font color='green'>       values</font> </td><td style='text-align:left; padding-bottom:0px; padding-top:0px; border:.5px solid lightgray;  '> <div><font color='blue'>         [[[   0.164   0.9365 ...   0.4008   0.4923]<br/>           [  0.2139   0.3074 ...   0.2605    0.562]<br/>           [ 0.07699   0.3609 ...   0.4141   0.1073]<br/>           [  0.2037   0.3726 ...   0.1487   0.6037]]<br/><br/>          [[  0.3881   0.4777 ...   0.2281   0.7669]<br/>           [ 0.06873      0.2 ...   0.5199   0.7288]<br/>           [  0.2233   0.3144 ...   0.8081   0.3282]<br/>           [  0.2258   0.8783 ...   0.4655   0.4265]]]</font></div></td><tr>\n",
       "<tr><td style='padding-right:5px; padding-bottom:0px; padding-top:0px; width:124px'><font color='green'>        shape</font> </td><td style='text-align:left; padding-bottom:0px; padding-top:0px; border:.5px solid lightgray;  '> (u:2, v:4, t:6)</td><tr>\n",
       "</table>"
      ],
      "text/plain": [
       "NDDataset: [float64] unitless (shape: (u:2, v:4, t:6))"
      ]
     },
     "execution_count": 17,
     "metadata": {},
     "output_type": "execute_result"
    }
   ],
   "source": [
    "d3D = NDDataset(a)\n",
    "d3D.title = \"energy\"\n",
    "d3D.author = \"Someone\"\n",
    "d3D.name = \"3D dataset creation\"\n",
    "d3D.history = \"created from scratch\"\n",
    "d3D.description = \"Some example\"\n",
    "d3D.dims = [\"u\", \"v\", \"t\"]\n",
    "d3D"
   ]
  },
  {
   "cell_type": "markdown",
   "id": "1854c472",
   "metadata": {},
   "source": [
    "We can also add all information in a single statement"
   ]
  },
  {
   "cell_type": "code",
   "execution_count": 18,
   "id": "777f68af",
   "metadata": {
    "execution": {
     "iopub.execute_input": "2025-02-12T23:21:02.728102Z",
     "iopub.status.busy": "2025-02-12T23:21:02.727893Z",
     "iopub.status.idle": "2025-02-12T23:21:02.734567Z",
     "shell.execute_reply": "2025-02-12T23:21:02.734061Z"
    }
   },
   "outputs": [
    {
     "data": {
      "text/html": [
       "<table style='background:transparent'>\n",
       "<tr><td style='padding-right:5px; padding-bottom:0px; padding-top:0px; width:124px'><font color='green'>         name</font> </td><td style='text-align:left; padding-bottom:0px; padding-top:0px; border:.5px solid lightgray;  '> 3D_dataset</td><tr>\n",
       "<tr><td style='padding-right:5px; padding-bottom:0px; padding-top:0px; width:124px'><font color='green'>       author</font> </td><td style='text-align:left; padding-bottom:0px; padding-top:0px; border:.5px solid lightgray;  '> Someone</td><tr>\n",
       "<tr><td style='padding-right:5px; padding-bottom:0px; padding-top:0px; width:124px'><font color='green'>      created</font> </td><td style='text-align:left; padding-bottom:0px; padding-top:0px; border:.5px solid lightgray;  '> 2025-02-12 23:21:02+00:00</td><tr>\n",
       "<tr><td style='padding-right:5px; padding-bottom:0px; padding-top:0px; width:124px'><font color='green'>  description</font> </td><td style='text-align:left; padding-bottom:0px; padding-top:0px; border:.5px solid lightgray;  '> <div>a single statement creation example</div></td><tr>\n",
       "<tr><td style='padding-right:5px; padding-bottom:0px; padding-top:0px; width:124px'><font color='green'>      history</font> </td><td style='text-align:left; padding-bottom:0px; padding-top:0px; border:.5px solid lightgray;  '> <div>2025-02-12 23:21:02+00:00> Created from scratch</div></td><tr>\n",
       "<tr><td style='padding-right:5px; padding-bottom:0px; padding-top:0px; width:124px'><strong>          DATA </strong></td><td style='text-align:left; padding-bottom:0px; padding-top:0px; padding-top:10px; '><hr/></td><tr>\n",
       "<tr><td style='padding-right:5px; padding-bottom:0px; padding-top:0px; width:124px'><font color='green'>        title</font> </td><td style='text-align:left; padding-bottom:0px; padding-top:0px; border:.5px solid lightgray;  '> Energy</td><tr>\n",
       "<tr><td style='padding-right:5px; padding-bottom:0px; padding-top:0px; width:124px'><font color='green'>       values</font> </td><td style='text-align:left; padding-bottom:0px; padding-top:0px; border:.5px solid lightgray;  '> <div><font color='blue'>         [[[   0.164   0.9365 ...   0.4008   0.4923]<br/>           [  0.2139   0.3074 ...   0.2605    0.562]<br/>           [ 0.07699   0.3609 ...   0.4141   0.1073]<br/>           [  0.2037   0.3726 ...   0.1487   0.6037]]<br/><br/>          [[  0.3881   0.4777 ...   0.2281   0.7669]<br/>           [ 0.06873      0.2 ...   0.5199   0.7288]<br/>           [  0.2233   0.3144 ...   0.8081   0.3282]<br/>           [  0.2258   0.8783 ...   0.4655   0.4265]]]</font></div></td><tr>\n",
       "<tr><td style='padding-right:5px; padding-bottom:0px; padding-top:0px; width:124px'><font color='green'>        shape</font> </td><td style='text-align:left; padding-bottom:0px; padding-top:0px; border:.5px solid lightgray;  '> (u:2, v:4, t:6)</td><tr>\n",
       "</table>"
      ],
      "text/plain": [
       "NDDataset: [float64] unitless (shape: (u:2, v:4, t:6))"
      ]
     },
     "execution_count": 18,
     "metadata": {},
     "output_type": "execute_result"
    }
   ],
   "source": [
    "d3D = NDDataset(\n",
    "    a,\n",
    "    dims=[\"u\", \"v\", \"t\"],\n",
    "    title=\"Energy\",\n",
    "    author=\"Someone\",\n",
    "    name=\"3D_dataset\",\n",
    "    history=\"created from scratch\",\n",
    "    description=\"a single statement creation example\",\n",
    ")\n",
    "d3D"
   ]
  },
  {
   "cell_type": "markdown",
   "id": "0fb9ab13",
   "metadata": {},
   "source": [
    "Three names are attributed at the creation (if they are not provided with the `dims`\n",
    "attribute, then the name are:\n",
    "'z','y','x' automatically attributed)"
   ]
  },
  {
   "cell_type": "code",
   "execution_count": 19,
   "id": "bdb170a3",
   "metadata": {
    "execution": {
     "iopub.execute_input": "2025-02-12T23:21:02.736399Z",
     "iopub.status.busy": "2025-02-12T23:21:02.736199Z",
     "iopub.status.idle": "2025-02-12T23:21:02.740368Z",
     "shell.execute_reply": "2025-02-12T23:21:02.739805Z"
    }
   },
   "outputs": [
    {
     "data": {
      "text/plain": [
       "['u', 'v', 't']"
      ]
     },
     "execution_count": 19,
     "metadata": {},
     "output_type": "execute_result"
    }
   ],
   "source": [
    "d3D.dims"
   ]
  },
  {
   "cell_type": "code",
   "execution_count": 20,
   "id": "798e6c6b",
   "metadata": {
    "execution": {
     "iopub.execute_input": "2025-02-12T23:21:02.742128Z",
     "iopub.status.busy": "2025-02-12T23:21:02.741931Z",
     "iopub.status.idle": "2025-02-12T23:21:02.745756Z",
     "shell.execute_reply": "2025-02-12T23:21:02.745237Z"
    }
   },
   "outputs": [
    {
     "data": {
      "text/plain": [
       "3"
      ]
     },
     "execution_count": 20,
     "metadata": {},
     "output_type": "execute_result"
    }
   ],
   "source": [
    "d3D.ndim"
   ]
  },
  {
   "cell_type": "code",
   "execution_count": 21,
   "id": "843e16f0",
   "metadata": {
    "execution": {
     "iopub.execute_input": "2025-02-12T23:21:02.747656Z",
     "iopub.status.busy": "2025-02-12T23:21:02.747277Z",
     "iopub.status.idle": "2025-02-12T23:21:02.751150Z",
     "shell.execute_reply": "2025-02-12T23:21:02.750607Z"
    }
   },
   "outputs": [
    {
     "data": {
      "text/plain": [
       "(2, 4, 6)"
      ]
     },
     "execution_count": 21,
     "metadata": {},
     "output_type": "execute_result"
    }
   ],
   "source": [
    "d3D.shape"
   ]
  },
  {
   "cell_type": "markdown",
   "id": "ef5a4d9a",
   "metadata": {},
   "source": [
    "## About the dates and times\n",
    "The dates and times are stored internally as\n",
    "[UTC (Coordinated_Universal_Time)](https://en.wikipedia.org/wiki/Coordinated_\n",
    "Universal_Time).\n",
    "Timezone information is stored in the timezone attribute.\n",
    "If not set, the default is to use the local timezone,\n",
    "which is probably the most common case."
   ]
  },
  {
   "cell_type": "code",
   "execution_count": 22,
   "id": "d2f2c424",
   "metadata": {
    "execution": {
     "iopub.execute_input": "2025-02-12T23:21:02.753118Z",
     "iopub.status.busy": "2025-02-12T23:21:02.752717Z",
     "iopub.status.idle": "2025-02-12T23:21:02.757076Z",
     "shell.execute_reply": "2025-02-12T23:21:02.756408Z"
    }
   },
   "outputs": [
    {
     "data": {
      "text/plain": [
       "'2025-02-12 23:21:02+00:00'"
      ]
     },
     "execution_count": 22,
     "metadata": {},
     "output_type": "execute_result"
    }
   ],
   "source": [
    "nd = NDDataset()\n",
    "nd.created"
   ]
  },
  {
   "cell_type": "markdown",
   "id": "f08f8ff3",
   "metadata": {},
   "source": [
    "In this case our local timezone has been used by default for the conversion from\n",
    "UTC datetime."
   ]
  },
  {
   "cell_type": "code",
   "execution_count": 23,
   "id": "0cdbbf64",
   "metadata": {
    "execution": {
     "iopub.execute_input": "2025-02-12T23:21:02.759218Z",
     "iopub.status.busy": "2025-02-12T23:21:02.758808Z",
     "iopub.status.idle": "2025-02-12T23:21:02.762945Z",
     "shell.execute_reply": "2025-02-12T23:21:02.762402Z"
    }
   },
   "outputs": [
    {
     "data": {
      "text/plain": [
       "'Etc/UTC'"
      ]
     },
     "execution_count": 23,
     "metadata": {},
     "output_type": "execute_result"
    }
   ],
   "source": [
    "nd.local_timezone"
   ]
  },
  {
   "cell_type": "code",
   "execution_count": 24,
   "id": "c73c4ebd",
   "metadata": {
    "execution": {
     "iopub.execute_input": "2025-02-12T23:21:02.764852Z",
     "iopub.status.busy": "2025-02-12T23:21:02.764454Z",
     "iopub.status.idle": "2025-02-12T23:21:02.768563Z",
     "shell.execute_reply": "2025-02-12T23:21:02.768058Z"
    }
   },
   "outputs": [
    {
     "data": {
      "text/plain": [
       "'2025-02-12 18:21:02-05:00'"
      ]
     },
     "execution_count": 24,
     "metadata": {},
     "output_type": "execute_result"
    }
   ],
   "source": [
    "nd.timezone = \"EST\"\n",
    "nd.created"
   ]
  },
  {
   "cell_type": "markdown",
   "id": "0ced4133",
   "metadata": {},
   "source": [
    "For a list of timezone code (TZ) you can have a look at\n",
    "[List_of_tz_database_time_zones](\n",
    "https://en.wikipedia.org/wiki/List_of_tz_database_time_zones)."
   ]
  },
  {
   "cell_type": "markdown",
   "id": "39883afa",
   "metadata": {},
   "source": [
    "## About the `history` attribute"
   ]
  },
  {
   "cell_type": "markdown",
   "id": "2f9d10ae",
   "metadata": {},
   "source": [
    "The history is saved internally into a list, but its has a different behaviour than\n",
    "the usual list.\n",
    "The first time a NDDataset is created, the list is empty"
   ]
  },
  {
   "cell_type": "code",
   "execution_count": 25,
   "id": "5772e8e2",
   "metadata": {
    "execution": {
     "iopub.execute_input": "2025-02-12T23:21:02.770353Z",
     "iopub.status.busy": "2025-02-12T23:21:02.770171Z",
     "iopub.status.idle": "2025-02-12T23:21:02.774496Z",
     "shell.execute_reply": "2025-02-12T23:21:02.773850Z"
    }
   },
   "outputs": [
    {
     "data": {
      "text/plain": [
       "[]"
      ]
     },
     "execution_count": 25,
     "metadata": {},
     "output_type": "execute_result"
    }
   ],
   "source": [
    "nd = NDDataset()\n",
    "nd.history"
   ]
  },
  {
   "cell_type": "markdown",
   "id": "fae000b5",
   "metadata": {},
   "source": [
    "Assigning a string to the history attribute has two effects. The first one is that\n",
    "the string is appended automatically to the previous history list, and second it is\n",
    "preceeded by the time it has been added."
   ]
  },
  {
   "cell_type": "code",
   "execution_count": 26,
   "id": "07372cfd",
   "metadata": {
    "execution": {
     "iopub.execute_input": "2025-02-12T23:21:02.776382Z",
     "iopub.status.busy": "2025-02-12T23:21:02.776185Z",
     "iopub.status.idle": "2025-02-12T23:21:02.780700Z",
     "shell.execute_reply": "2025-02-12T23:21:02.780026Z"
    }
   },
   "outputs": [
    {
     "data": {
      "text/plain": [
       "['2025-02-12 23:21:02+00:00> Some history',\n",
       " '2025-02-12 23:21:02+00:00> Another history to append',\n",
       " '2025-02-12 23:21:02+00:00> ...']"
      ]
     },
     "execution_count": 26,
     "metadata": {},
     "output_type": "execute_result"
    }
   ],
   "source": [
    "nd.history = \"some history\"\n",
    "nd.history = \"another history to append\"\n",
    "nd.history = \"...\"\n",
    "nd.history"
   ]
  },
  {
   "cell_type": "markdown",
   "id": "a8ea18ef",
   "metadata": {},
   "source": [
    "If you want to erase the history, assign an empty list"
   ]
  },
  {
   "cell_type": "code",
   "execution_count": 27,
   "id": "1f05e5df",
   "metadata": {
    "execution": {
     "iopub.execute_input": "2025-02-12T23:21:02.782646Z",
     "iopub.status.busy": "2025-02-12T23:21:02.782282Z",
     "iopub.status.idle": "2025-02-12T23:21:02.786428Z",
     "shell.execute_reply": "2025-02-12T23:21:02.785782Z"
    }
   },
   "outputs": [
    {
     "data": {
      "text/plain": [
       "[]"
      ]
     },
     "execution_count": 27,
     "metadata": {},
     "output_type": "execute_result"
    }
   ],
   "source": [
    "nd.history = []\n",
    "nd.history"
   ]
  },
  {
   "cell_type": "markdown",
   "id": "d788d18b",
   "metadata": {},
   "source": [
    "If you want to replace the full history use bracket around your history line:"
   ]
  },
  {
   "cell_type": "code",
   "execution_count": 28,
   "id": "0bd0ab37",
   "metadata": {
    "execution": {
     "iopub.execute_input": "2025-02-12T23:21:02.788662Z",
     "iopub.status.busy": "2025-02-12T23:21:02.788277Z",
     "iopub.status.idle": "2025-02-12T23:21:02.792803Z",
     "shell.execute_reply": "2025-02-12T23:21:02.792271Z"
    }
   },
   "outputs": [
    {
     "data": {
      "text/plain": [
       "['2025-02-12 23:21:02+00:00> A more interesting message']"
      ]
     },
     "execution_count": 28,
     "metadata": {},
     "output_type": "execute_result"
    }
   ],
   "source": [
    "nd.history = \"Created form scratch\"\n",
    "nd.history = \"a second ligne that will be erased\"\n",
    "nd.history = [\"A more interesting message\"]\n",
    "nd.history"
   ]
  },
  {
   "cell_type": "markdown",
   "id": "2d147d31",
   "metadata": {},
   "source": [
    "## Units"
   ]
  },
  {
   "cell_type": "markdown",
   "id": "185bf9b0",
   "metadata": {},
   "source": [
    "One interesting possibility for a NDDataset is to have defined units for the internal\n",
    "data."
   ]
  },
  {
   "cell_type": "code",
   "execution_count": 29,
   "id": "583cfb3d",
   "metadata": {
    "execution": {
     "iopub.execute_input": "2025-02-12T23:21:02.794658Z",
     "iopub.status.busy": "2025-02-12T23:21:02.794458Z",
     "iopub.status.idle": "2025-02-12T23:21:02.797728Z",
     "shell.execute_reply": "2025-02-12T23:21:02.797071Z"
    }
   },
   "outputs": [],
   "source": [
    "d1D.units = ur.eV  # ur is a registry containing all available units"
   ]
  },
  {
   "cell_type": "code",
   "execution_count": 30,
   "id": "ecfa58aa",
   "metadata": {
    "execution": {
     "iopub.execute_input": "2025-02-12T23:21:02.799813Z",
     "iopub.status.busy": "2025-02-12T23:21:02.799452Z",
     "iopub.status.idle": "2025-02-12T23:21:02.804367Z",
     "shell.execute_reply": "2025-02-12T23:21:02.803698Z"
    }
   },
   "outputs": [
    {
     "data": {
      "text/html": [
       "<table style='background:transparent'>\n",
       "<tr><td style='padding-right:5px; padding-bottom:0px; padding-top:0px; width:124px'><font color='green'>         name</font> </td><td style='text-align:left; padding-bottom:0px; padding-top:0px; border:.5px solid lightgray;  '> mydataset</td><tr>\n",
       "<tr><td style='padding-right:5px; padding-bottom:0px; padding-top:0px; width:124px'><font color='green'>       author</font> </td><td style='text-align:left; padding-bottom:0px; padding-top:0px; border:.5px solid lightgray;  '> Blake and Mortimer</td><tr>\n",
       "<tr><td style='padding-right:5px; padding-bottom:0px; padding-top:0px; width:124px'><font color='green'>      created</font> </td><td style='text-align:left; padding-bottom:0px; padding-top:0px; border:.5px solid lightgray;  '> 2025-02-12 23:21:02+00:00</td><tr>\n",
       "<tr><td style='padding-right:5px; padding-bottom:0px; padding-top:0px; width:124px'><font color='green'>  description</font> </td><td style='text-align:left; padding-bottom:0px; padding-top:0px; border:.5px solid lightgray;  '> <div>Some experimental measurements</div></td><tr>\n",
       "<tr><td style='padding-right:5px; padding-bottom:0px; padding-top:0px; width:124px'><font color='green'>      history</font> </td><td style='text-align:left; padding-bottom:0px; padding-top:0px; border:.5px solid lightgray;  '> <div>2025-02-12 23:21:02+00:00> Creation<br/>               2025-02-12 23:21:02+00:00> Inplace binary op: iadd  with `Dataset N1` <br/>               2025-02-12 23:21:02+00:00> Created from scratch</div></td><tr>\n",
       "<tr><td style='padding-right:5px; padding-bottom:0px; padding-top:0px; width:124px'><strong>          DATA </strong></td><td style='text-align:left; padding-bottom:0px; padding-top:0px; padding-top:10px; '><hr/></td><tr>\n",
       "<tr><td style='padding-right:5px; padding-bottom:0px; padding-top:0px; width:124px'><font color='green'>        title</font> </td><td style='text-align:left; padding-bottom:0px; padding-top:0px; border:.5px solid lightgray;  '> intensity</td><tr>\n",
       "<tr><td style='padding-right:5px; padding-bottom:0px; padding-top:0px; width:124px'><font color='green'>       values</font> </td><td style='text-align:left; padding-bottom:0px; padding-top:0px; border:.5px solid lightgray;  '> <div><font color='blue'>         [      15       30       45] eV</font></div></td><tr>\n",
       "<tr><td style='padding-right:5px; padding-bottom:0px; padding-top:0px; width:124px'><font color='green'>         size</font> </td><td style='text-align:left; padding-bottom:0px; padding-top:0px; border:.5px solid lightgray;  '> 3</td><tr>\n",
       "</table>"
      ],
      "text/plain": [
       "NDDataset: [float64] eV (size: 3)"
      ]
     },
     "execution_count": 30,
     "metadata": {},
     "output_type": "execute_result"
    }
   ],
   "source": [
    "d1D  # note the eV symbol of the units added to the values field below"
   ]
  },
  {
   "cell_type": "markdown",
   "id": "5ffcd0cd",
   "metadata": {},
   "source": [
    "This allows to make units-aware calculations:"
   ]
  },
  {
   "cell_type": "code",
   "execution_count": 31,
   "id": "39f3265d",
   "metadata": {
    "execution": {
     "iopub.execute_input": "2025-02-12T23:21:02.806472Z",
     "iopub.status.busy": "2025-02-12T23:21:02.806117Z",
     "iopub.status.idle": "2025-02-12T23:21:02.813219Z",
     "shell.execute_reply": "2025-02-12T23:21:02.812565Z"
    }
   },
   "outputs": [
    {
     "data": {
      "text/html": [
       "<table style='background:transparent'>\n",
       "<tr><td style='padding-right:5px; padding-bottom:0px; padding-top:0px; width:124px'><font color='green'>         name</font> </td><td style='text-align:left; padding-bottom:0px; padding-top:0px; border:.5px solid lightgray;  '> mydataset</td><tr>\n",
       "<tr><td style='padding-right:5px; padding-bottom:0px; padding-top:0px; width:124px'><font color='green'>       author</font> </td><td style='text-align:left; padding-bottom:0px; padding-top:0px; border:.5px solid lightgray;  '> Blake and Mortimer</td><tr>\n",
       "<tr><td style='padding-right:5px; padding-bottom:0px; padding-top:0px; width:124px'><font color='green'>      created</font> </td><td style='text-align:left; padding-bottom:0px; padding-top:0px; border:.5px solid lightgray;  '> 2025-02-12 23:21:02+00:00</td><tr>\n",
       "<tr><td style='padding-right:5px; padding-bottom:0px; padding-top:0px; width:124px'><font color='green'>  description</font> </td><td style='text-align:left; padding-bottom:0px; padding-top:0px; border:.5px solid lightgray;  '> <div>Some experimental measurements</div></td><tr>\n",
       "<tr><td style='padding-right:5px; padding-bottom:0px; padding-top:0px; width:124px'><font color='green'>      history</font> </td><td style='text-align:left; padding-bottom:0px; padding-top:0px; border:.5px solid lightgray;  '> <div>2025-02-12 23:21:02+00:00> Creation<br/>               2025-02-12 23:21:02+00:00> Inplace binary op: iadd  with `Dataset N1` <br/>               2025-02-12 23:21:02+00:00> Created from scratch<br/>               2025-02-12 23:21:02+00:00> Binary operation pow with `2` has been performed</div></td><tr>\n",
       "<tr><td style='padding-right:5px; padding-bottom:0px; padding-top:0px; width:124px'><strong>          DATA </strong></td><td style='text-align:left; padding-bottom:0px; padding-top:0px; padding-top:10px; '><hr/></td><tr>\n",
       "<tr><td style='padding-right:5px; padding-bottom:0px; padding-top:0px; width:124px'><font color='green'>        title</font> </td><td style='text-align:left; padding-bottom:0px; padding-top:0px; border:.5px solid lightgray;  '> intensity</td><tr>\n",
       "<tr><td style='padding-right:5px; padding-bottom:0px; padding-top:0px; width:124px'><font color='green'>       values</font> </td><td style='text-align:left; padding-bottom:0px; padding-top:0px; border:.5px solid lightgray;  '> <div><font color='blue'>         [     225      900     2025] eV²</font></div></td><tr>\n",
       "<tr><td style='padding-right:5px; padding-bottom:0px; padding-top:0px; width:124px'><font color='green'>         size</font> </td><td style='text-align:left; padding-bottom:0px; padding-top:0px; border:.5px solid lightgray;  '> 3</td><tr>\n",
       "</table>"
      ],
      "text/plain": [
       "NDDataset: [float64] eV² (size: 3)"
      ]
     },
     "execution_count": 31,
     "metadata": {},
     "output_type": "execute_result"
    }
   ],
   "source": [
    "d1D**2  # note the results in eV^2"
   ]
  },
  {
   "cell_type": "code",
   "execution_count": 32,
   "id": "9a4f7ae3",
   "metadata": {
    "execution": {
     "iopub.execute_input": "2025-02-12T23:21:02.815254Z",
     "iopub.status.busy": "2025-02-12T23:21:02.814843Z",
     "iopub.status.idle": "2025-02-12T23:21:02.821921Z",
     "shell.execute_reply": "2025-02-12T23:21:02.821364Z"
    }
   },
   "outputs": [
    {
     "data": {
      "text/html": [
       "<table style='background:transparent'>\n",
       "<tr><td style='padding-right:5px; padding-bottom:0px; padding-top:0px; width:124px'><font color='green'>         name</font> </td><td style='text-align:left; padding-bottom:0px; padding-top:0px; border:.5px solid lightgray;  '> mydataset</td><tr>\n",
       "<tr><td style='padding-right:5px; padding-bottom:0px; padding-top:0px; width:124px'><font color='green'>       author</font> </td><td style='text-align:left; padding-bottom:0px; padding-top:0px; border:.5px solid lightgray;  '> Blake and Mortimer</td><tr>\n",
       "<tr><td style='padding-right:5px; padding-bottom:0px; padding-top:0px; width:124px'><font color='green'>      created</font> </td><td style='text-align:left; padding-bottom:0px; padding-top:0px; border:.5px solid lightgray;  '> 2025-02-12 23:21:02+00:00</td><tr>\n",
       "<tr><td style='padding-right:5px; padding-bottom:0px; padding-top:0px; width:124px'><font color='green'>  description</font> </td><td style='text-align:left; padding-bottom:0px; padding-top:0px; border:.5px solid lightgray;  '> <div>Some experimental measurements</div></td><tr>\n",
       "<tr><td style='padding-right:5px; padding-bottom:0px; padding-top:0px; width:124px'><font color='green'>      history</font> </td><td style='text-align:left; padding-bottom:0px; padding-top:0px; border:.5px solid lightgray;  '> <div>2025-02-12 23:21:02+00:00> Creation<br/>               2025-02-12 23:21:02+00:00> Inplace binary op: iadd  with `Dataset N1` <br/>               2025-02-12 23:21:02+00:00> Created from scratch<br/>               2025-02-12 23:21:02+00:00> Ufunc sqrt applied.</div></td><tr>\n",
       "<tr><td style='padding-right:5px; padding-bottom:0px; padding-top:0px; width:124px'><strong>          DATA </strong></td><td style='text-align:left; padding-bottom:0px; padding-top:0px; padding-top:10px; '><hr/></td><tr>\n",
       "<tr><td style='padding-right:5px; padding-bottom:0px; padding-top:0px; width:124px'><font color='green'>        title</font> </td><td style='text-align:left; padding-bottom:0px; padding-top:0px; border:.5px solid lightgray;  '> sqrt(intensity)</td><tr>\n",
       "<tr><td style='padding-right:5px; padding-bottom:0px; padding-top:0px; width:124px'><font color='green'>       values</font> </td><td style='text-align:left; padding-bottom:0px; padding-top:0px; border:.5px solid lightgray;  '> <div><font color='blue'>         [   3.873    5.477    6.708] eV⁰⋅⁵</font></div></td><tr>\n",
       "<tr><td style='padding-right:5px; padding-bottom:0px; padding-top:0px; width:124px'><font color='green'>         size</font> </td><td style='text-align:left; padding-bottom:0px; padding-top:0px; border:.5px solid lightgray;  '> 3</td><tr>\n",
       "</table>"
      ],
      "text/plain": [
       "NDDataset: [float64] eV⁰⋅⁵ (size: 3)"
      ]
     },
     "execution_count": 32,
     "metadata": {},
     "output_type": "execute_result"
    }
   ],
   "source": [
    "np.sqrt(d1D)  # note the result in e^0.5"
   ]
  },
  {
   "cell_type": "code",
   "execution_count": 33,
   "id": "3dd50094",
   "metadata": {
    "execution": {
     "iopub.execute_input": "2025-02-12T23:21:02.823902Z",
     "iopub.status.busy": "2025-02-12T23:21:02.823499Z",
     "iopub.status.idle": "2025-02-12T23:21:02.831143Z",
     "shell.execute_reply": "2025-02-12T23:21:02.830484Z"
    }
   },
   "outputs": [
    {
     "data": {
      "text/html": [
       "<table style='background:transparent'>\n",
       "<tr><td style='padding-right:5px; padding-bottom:0px; padding-top:0px; width:124px'><font color='green'>         name</font> </td><td style='text-align:left; padding-bottom:0px; padding-top:0px; border:.5px solid lightgray;  '> mydataset</td><tr>\n",
       "<tr><td style='padding-right:5px; padding-bottom:0px; padding-top:0px; width:124px'><font color='green'>       author</font> </td><td style='text-align:left; padding-bottom:0px; padding-top:0px; border:.5px solid lightgray;  '> Blake and Mortimer</td><tr>\n",
       "<tr><td style='padding-right:5px; padding-bottom:0px; padding-top:0px; width:124px'><font color='green'>      created</font> </td><td style='text-align:left; padding-bottom:0px; padding-top:0px; border:.5px solid lightgray;  '> 2025-02-12 23:21:02+00:00</td><tr>\n",
       "<tr><td style='padding-right:5px; padding-bottom:0px; padding-top:0px; width:124px'><font color='green'>  description</font> </td><td style='text-align:left; padding-bottom:0px; padding-top:0px; border:.5px solid lightgray;  '> <div>Some experimental measurements</div></td><tr>\n",
       "<tr><td style='padding-right:5px; padding-bottom:0px; padding-top:0px; width:124px'><font color='green'>      history</font> </td><td style='text-align:left; padding-bottom:0px; padding-top:0px; border:.5px solid lightgray;  '> <div>2025-02-12 23:21:02+00:00> Creation<br/>               2025-02-12 23:21:02+00:00> Inplace binary op: iadd  with `Dataset N1` <br/>               2025-02-12 23:21:02+00:00> Created from scratch<br/>               2025-02-12 23:21:02+00:00> Binary operation truediv with `5.0 s` has been performed</div></td><tr>\n",
       "<tr><td style='padding-right:5px; padding-bottom:0px; padding-top:0px; width:124px'><strong>          DATA </strong></td><td style='text-align:left; padding-bottom:0px; padding-top:0px; padding-top:10px; '><hr/></td><tr>\n",
       "<tr><td style='padding-right:5px; padding-bottom:0px; padding-top:0px; width:124px'><font color='green'>        title</font> </td><td style='text-align:left; padding-bottom:0px; padding-top:0px; border:.5px solid lightgray;  '> intensity</td><tr>\n",
       "<tr><td style='padding-right:5px; padding-bottom:0px; padding-top:0px; width:124px'><font color='green'>       values</font> </td><td style='text-align:left; padding-bottom:0px; padding-top:0px; border:.5px solid lightgray;  '> <div><font color='blue'>         [       3        6        9] eV⋅s⁻¹</font></div></td><tr>\n",
       "<tr><td style='padding-right:5px; padding-bottom:0px; padding-top:0px; width:124px'><font color='green'>         size</font> </td><td style='text-align:left; padding-bottom:0px; padding-top:0px; border:.5px solid lightgray;  '> 3</td><tr>\n",
       "</table>"
      ],
      "text/plain": [
       "NDDataset: [float64] eV⋅s⁻¹ (size: 3)"
      ]
     },
     "execution_count": 33,
     "metadata": {},
     "output_type": "execute_result"
    }
   ],
   "source": [
    "time = 5.0 * ur.second\n",
    "d1D / time  # here we get results in eV/s"
   ]
  },
  {
   "cell_type": "markdown",
   "id": "09209d64",
   "metadata": {},
   "source": [
    "Conversion can be done between different units transparently"
   ]
  },
  {
   "cell_type": "code",
   "execution_count": 34,
   "id": "e5a515c3",
   "metadata": {
    "execution": {
     "iopub.execute_input": "2025-02-12T23:21:02.833151Z",
     "iopub.status.busy": "2025-02-12T23:21:02.832949Z",
     "iopub.status.idle": "2025-02-12T23:21:02.839732Z",
     "shell.execute_reply": "2025-02-12T23:21:02.839223Z"
    }
   },
   "outputs": [
    {
     "data": {
      "text/html": [
       "<table style='background:transparent'>\n",
       "<tr><td style='padding-right:5px; padding-bottom:0px; padding-top:0px; width:124px'><font color='green'>         name</font> </td><td style='text-align:left; padding-bottom:0px; padding-top:0px; border:.5px solid lightgray;  '> mydataset</td><tr>\n",
       "<tr><td style='padding-right:5px; padding-bottom:0px; padding-top:0px; width:124px'><font color='green'>       author</font> </td><td style='text-align:left; padding-bottom:0px; padding-top:0px; border:.5px solid lightgray;  '> Blake and Mortimer</td><tr>\n",
       "<tr><td style='padding-right:5px; padding-bottom:0px; padding-top:0px; width:124px'><font color='green'>      created</font> </td><td style='text-align:left; padding-bottom:0px; padding-top:0px; border:.5px solid lightgray;  '> 2025-02-12 23:21:02+00:00</td><tr>\n",
       "<tr><td style='padding-right:5px; padding-bottom:0px; padding-top:0px; width:124px'><font color='green'>  description</font> </td><td style='text-align:left; padding-bottom:0px; padding-top:0px; border:.5px solid lightgray;  '> <div>Some experimental measurements</div></td><tr>\n",
       "<tr><td style='padding-right:5px; padding-bottom:0px; padding-top:0px; width:124px'><font color='green'>      history</font> </td><td style='text-align:left; padding-bottom:0px; padding-top:0px; border:.5px solid lightgray;  '> <div>2025-02-12 23:21:02+00:00> Creation<br/>               2025-02-12 23:21:02+00:00> Inplace binary op: iadd  with `Dataset N1` <br/>               2025-02-12 23:21:02+00:00> Created from scratch</div></td><tr>\n",
       "<tr><td style='padding-right:5px; padding-bottom:0px; padding-top:0px; width:124px'><strong>          DATA </strong></td><td style='text-align:left; padding-bottom:0px; padding-top:0px; padding-top:10px; '><hr/></td><tr>\n",
       "<tr><td style='padding-right:5px; padding-bottom:0px; padding-top:0px; width:124px'><font color='green'>        title</font> </td><td style='text-align:left; padding-bottom:0px; padding-top:0px; border:.5px solid lightgray;  '> intensity</td><tr>\n",
       "<tr><td style='padding-right:5px; padding-bottom:0px; padding-top:0px; width:124px'><font color='green'>       values</font> </td><td style='text-align:left; padding-bottom:0px; padding-top:0px; border:.5px solid lightgray;  '> <div><font color='blue'>         [2.403e-18 4.807e-18 7.21e-18] J</font></div></td><tr>\n",
       "<tr><td style='padding-right:5px; padding-bottom:0px; padding-top:0px; width:124px'><font color='green'>         size</font> </td><td style='text-align:left; padding-bottom:0px; padding-top:0px; border:.5px solid lightgray;  '> 3</td><tr>\n",
       "</table>"
      ],
      "text/plain": [
       "NDDataset: [float64] J (size: 3)"
      ]
     },
     "execution_count": 34,
     "metadata": {},
     "output_type": "execute_result"
    }
   ],
   "source": [
    "d1D.to(\"J\")"
   ]
  },
  {
   "cell_type": "code",
   "execution_count": 35,
   "id": "1cf17200",
   "metadata": {
    "execution": {
     "iopub.execute_input": "2025-02-12T23:21:02.841711Z",
     "iopub.status.busy": "2025-02-12T23:21:02.841334Z",
     "iopub.status.idle": "2025-02-12T23:21:02.847708Z",
     "shell.execute_reply": "2025-02-12T23:21:02.847186Z"
    }
   },
   "outputs": [
    {
     "data": {
      "text/html": [
       "<table style='background:transparent'>\n",
       "<tr><td style='padding-right:5px; padding-bottom:0px; padding-top:0px; width:124px'><font color='green'>         name</font> </td><td style='text-align:left; padding-bottom:0px; padding-top:0px; border:.5px solid lightgray;  '> mydataset</td><tr>\n",
       "<tr><td style='padding-right:5px; padding-bottom:0px; padding-top:0px; width:124px'><font color='green'>       author</font> </td><td style='text-align:left; padding-bottom:0px; padding-top:0px; border:.5px solid lightgray;  '> Blake and Mortimer</td><tr>\n",
       "<tr><td style='padding-right:5px; padding-bottom:0px; padding-top:0px; width:124px'><font color='green'>      created</font> </td><td style='text-align:left; padding-bottom:0px; padding-top:0px; border:.5px solid lightgray;  '> 2025-02-12 23:21:02+00:00</td><tr>\n",
       "<tr><td style='padding-right:5px; padding-bottom:0px; padding-top:0px; width:124px'><font color='green'>  description</font> </td><td style='text-align:left; padding-bottom:0px; padding-top:0px; border:.5px solid lightgray;  '> <div>Some experimental measurements</div></td><tr>\n",
       "<tr><td style='padding-right:5px; padding-bottom:0px; padding-top:0px; width:124px'><font color='green'>      history</font> </td><td style='text-align:left; padding-bottom:0px; padding-top:0px; border:.5px solid lightgray;  '> <div>2025-02-12 23:21:02+00:00> Creation<br/>               2025-02-12 23:21:02+00:00> Inplace binary op: iadd  with `Dataset N1` <br/>               2025-02-12 23:21:02+00:00> Created from scratch</div></td><tr>\n",
       "<tr><td style='padding-right:5px; padding-bottom:0px; padding-top:0px; width:124px'><strong>          DATA </strong></td><td style='text-align:left; padding-bottom:0px; padding-top:0px; padding-top:10px; '><hr/></td><tr>\n",
       "<tr><td style='padding-right:5px; padding-bottom:0px; padding-top:0px; width:124px'><font color='green'>        title</font> </td><td style='text-align:left; padding-bottom:0px; padding-top:0px; border:.5px solid lightgray;  '> intensity</td><tr>\n",
       "<tr><td style='padding-right:5px; padding-bottom:0px; padding-top:0px; width:124px'><font color='green'>       values</font> </td><td style='text-align:left; padding-bottom:0px; padding-top:0px; border:.5px solid lightgray;  '> <div><font color='blue'>         [1.741e+05 3.481e+05 5.222e+05] K</font></div></td><tr>\n",
       "<tr><td style='padding-right:5px; padding-bottom:0px; padding-top:0px; width:124px'><font color='green'>         size</font> </td><td style='text-align:left; padding-bottom:0px; padding-top:0px; border:.5px solid lightgray;  '> 3</td><tr>\n",
       "</table>"
      ],
      "text/plain": [
       "NDDataset: [float64] K (size: 3)"
      ]
     },
     "execution_count": 35,
     "metadata": {},
     "output_type": "execute_result"
    }
   ],
   "source": [
    "d1D.to(\"K\")"
   ]
  },
  {
   "cell_type": "markdown",
   "id": "2acea09b",
   "metadata": {},
   "source": [
    "## Coordinates"
   ]
  },
  {
   "cell_type": "markdown",
   "id": "fc67b180",
   "metadata": {},
   "source": [
    "The above created `d3D` dataset has 3 dimensions, but no coordinate for these\n",
    "dimensions. Here arises a big difference\n",
    "with simple `numpy`-arrays:\n",
    "* We can add coordinates to each dimension of a NDDataset."
   ]
  },
  {
   "cell_type": "markdown",
   "id": "9a097eb1",
   "metadata": {},
   "source": [
    "To get the list of all defined coordinates, we can use the `coords` attribute:"
   ]
  },
  {
   "cell_type": "code",
   "execution_count": 36,
   "id": "4e9963fe",
   "metadata": {
    "execution": {
     "iopub.execute_input": "2025-02-12T23:21:02.849763Z",
     "iopub.status.busy": "2025-02-12T23:21:02.849374Z",
     "iopub.status.idle": "2025-02-12T23:21:02.852338Z",
     "shell.execute_reply": "2025-02-12T23:21:02.851780Z"
    }
   },
   "outputs": [],
   "source": [
    "d3D.coordset  # no coordinates, so it returns nothing (None)"
   ]
  },
  {
   "cell_type": "code",
   "execution_count": 37,
   "id": "916f3f6f",
   "metadata": {
    "execution": {
     "iopub.execute_input": "2025-02-12T23:21:02.854256Z",
     "iopub.status.busy": "2025-02-12T23:21:02.853889Z",
     "iopub.status.idle": "2025-02-12T23:21:02.856937Z",
     "shell.execute_reply": "2025-02-12T23:21:02.856289Z"
    }
   },
   "outputs": [],
   "source": [
    "d3D.t  # the same for coordinate  t, v, u which are not yet set"
   ]
  },
  {
   "cell_type": "markdown",
   "id": "c9bd5e86",
   "metadata": {},
   "source": [
    "To add coordinates, on way is to set them one by one:"
   ]
  },
  {
   "cell_type": "code",
   "execution_count": 38,
   "id": "689ad3b6",
   "metadata": {
    "execution": {
     "iopub.execute_input": "2025-02-12T23:21:02.859103Z",
     "iopub.status.busy": "2025-02-12T23:21:02.858710Z",
     "iopub.status.idle": "2025-02-12T23:21:02.869960Z",
     "shell.execute_reply": "2025-02-12T23:21:02.869424Z"
    }
   },
   "outputs": [
    {
     "data": {
      "text/html": [
       "<table style='background:transparent'>\n",
       "<tr><td style='padding-right:5px; padding-bottom:0px; padding-top:0px; width:124px'><strong>     DIMENSION `t`</strong></td><td style='text-align:left; padding-bottom:0px; padding-top:0px; padding-top:10px; '><hr/></td><tr>\n",
       "<tr><td style='padding-right:5px; padding-bottom:0px; padding-top:0px; width:124px'><font color='green'>         size</font> </td><td style='text-align:left; padding-bottom:0px; padding-top:0px; border:.5px solid lightgray;  '> 6</td><tr>\n",
       "<tr><td style='padding-right:5px; padding-bottom:0px; padding-top:0px; width:124px'><font color='green'>        title</font> </td><td style='text-align:left; padding-bottom:0px; padding-top:0px; border:.5px solid lightgray;  '> time</td><tr>\n",
       "<tr><td style='padding-right:5px; padding-bottom:0px; padding-top:0px; width:124px'><font color='green'>  coordinates</font> </td><td style='text-align:left; padding-bottom:0px; padding-top:0px; border:.5px solid lightgray;  '> <div><font color='blue'>[       0      0.1      0.2      0.3      0.4      0.5] s</font></div></td><tr>\n",
       "</table>"
      ],
      "text/plain": [
       "CoordSet: [t:time, u:<untitled>, v:<untitled>]"
      ]
     },
     "execution_count": 38,
     "metadata": {},
     "output_type": "execute_result"
    }
   ],
   "source": [
    "d3D.t = (\n",
    "    Coord.arange(6) * 0.1\n",
    ")  # we need a sequence of 6 values for `t` dimension (see shape above)\n",
    "d3D.t.title = \"time\"\n",
    "d3D.t.units = ur.seconds\n",
    "d3D.coordset  # now return a list of coordinates"
   ]
  },
  {
   "cell_type": "code",
   "execution_count": 39,
   "id": "e01a8d47",
   "metadata": {
    "execution": {
     "iopub.execute_input": "2025-02-12T23:21:02.871984Z",
     "iopub.status.busy": "2025-02-12T23:21:02.871584Z",
     "iopub.status.idle": "2025-02-12T23:21:02.876378Z",
     "shell.execute_reply": "2025-02-12T23:21:02.875833Z"
    }
   },
   "outputs": [
    {
     "data": {
      "text/html": [
       "<table style='background:transparent'>\n",
       "<tr><td style='padding-right:5px; padding-bottom:0px; padding-top:0px; width:124px'><font color='green'>         size</font> </td><td style='text-align:left; padding-bottom:0px; padding-top:0px; border:.5px solid lightgray;  '> 6</td><tr>\n",
       "<tr><td style='padding-right:5px; padding-bottom:0px; padding-top:0px; width:124px'><font color='green'>        title</font> </td><td style='text-align:left; padding-bottom:0px; padding-top:0px; border:.5px solid lightgray;  '> time</td><tr>\n",
       "<tr><td style='padding-right:5px; padding-bottom:0px; padding-top:0px; width:124px'><font color='green'>  coordinates</font> </td><td style='text-align:left; padding-bottom:0px; padding-top:0px; border:.5px solid lightgray;  '> <div><font color='blue'>[       0      0.1      0.2      0.3      0.4      0.5] s</font></div></td><tr>\n",
       "</table>"
      ],
      "text/plain": [
       "Coord: [float64] s (size: 6)"
      ]
     },
     "execution_count": 39,
     "metadata": {},
     "output_type": "execute_result"
    }
   ],
   "source": [
    "d3D.t"
   ]
  },
  {
   "cell_type": "code",
   "execution_count": 40,
   "id": "698c4ddd",
   "metadata": {
    "execution": {
     "iopub.execute_input": "2025-02-12T23:21:02.878484Z",
     "iopub.status.busy": "2025-02-12T23:21:02.878104Z",
     "iopub.status.idle": "2025-02-12T23:21:02.882800Z",
     "shell.execute_reply": "2025-02-12T23:21:02.882290Z"
    }
   },
   "outputs": [
    {
     "data": {
      "text/html": [
       "<table style='background:transparent'>\n",
       "<tr><td style='padding-right:5px; padding-bottom:0px; padding-top:0px; width:124px'><font color='green'>         size</font> </td><td style='text-align:left; padding-bottom:0px; padding-top:0px; border:.5px solid lightgray;  '> 6</td><tr>\n",
       "<tr><td style='padding-right:5px; padding-bottom:0px; padding-top:0px; width:124px'><font color='green'>        title</font> </td><td style='text-align:left; padding-bottom:0px; padding-top:0px; border:.5px solid lightgray;  '> time</td><tr>\n",
       "<tr><td style='padding-right:5px; padding-bottom:0px; padding-top:0px; width:124px'><font color='green'>  coordinates</font> </td><td style='text-align:left; padding-bottom:0px; padding-top:0px; border:.5px solid lightgray;  '> <div><font color='blue'>[       0      0.1      0.2      0.3      0.4      0.5] s</font></div></td><tr>\n",
       "</table>"
      ],
      "text/plain": [
       "Coord: [float64] s (size: 6)"
      ]
     },
     "execution_count": 40,
     "metadata": {},
     "output_type": "execute_result"
    }
   ],
   "source": [
    "d3D.coordset(\"t\")  # Alternative way to get a given coordinates"
   ]
  },
  {
   "cell_type": "code",
   "execution_count": 41,
   "id": "4635e8a9",
   "metadata": {
    "execution": {
     "iopub.execute_input": "2025-02-12T23:21:02.884809Z",
     "iopub.status.busy": "2025-02-12T23:21:02.884436Z",
     "iopub.status.idle": "2025-02-12T23:21:02.889214Z",
     "shell.execute_reply": "2025-02-12T23:21:02.888544Z"
    }
   },
   "outputs": [
    {
     "data": {
      "text/html": [
       "<table style='background:transparent'>\n",
       "<tr><td style='padding-right:5px; padding-bottom:0px; padding-top:0px; width:124px'><font color='green'>         size</font> </td><td style='text-align:left; padding-bottom:0px; padding-top:0px; border:.5px solid lightgray;  '> 6</td><tr>\n",
       "<tr><td style='padding-right:5px; padding-bottom:0px; padding-top:0px; width:124px'><font color='green'>        title</font> </td><td style='text-align:left; padding-bottom:0px; padding-top:0px; border:.5px solid lightgray;  '> time</td><tr>\n",
       "<tr><td style='padding-right:5px; padding-bottom:0px; padding-top:0px; width:124px'><font color='green'>  coordinates</font> </td><td style='text-align:left; padding-bottom:0px; padding-top:0px; border:.5px solid lightgray;  '> <div><font color='blue'>[       0      0.1      0.2      0.3      0.4      0.5] s</font></div></td><tr>\n",
       "</table>"
      ],
      "text/plain": [
       "Coord: [float64] s (size: 6)"
      ]
     },
     "execution_count": 41,
     "metadata": {},
     "output_type": "execute_result"
    }
   ],
   "source": [
    "d3D[\"t\"]  # another alternative way to get a given coordinates"
   ]
  },
  {
   "cell_type": "markdown",
   "id": "8646b4d9",
   "metadata": {},
   "source": [
    "The two other coordinates u and v are still undefined"
   ]
  },
  {
   "cell_type": "code",
   "execution_count": 42,
   "id": "db6ff635",
   "metadata": {
    "execution": {
     "iopub.execute_input": "2025-02-12T23:21:02.891265Z",
     "iopub.status.busy": "2025-02-12T23:21:02.890845Z",
     "iopub.status.idle": "2025-02-12T23:21:02.895204Z",
     "shell.execute_reply": "2025-02-12T23:21:02.894661Z"
    }
   },
   "outputs": [
    {
     "data": {
      "text/plain": [
       "(Coord: empty, Coord: empty)"
      ]
     },
     "execution_count": 42,
     "metadata": {},
     "output_type": "execute_result"
    }
   ],
   "source": [
    "d3D.u, d3D.v"
   ]
  },
  {
   "cell_type": "markdown",
   "id": "d217c2d9",
   "metadata": {},
   "source": [
    "When the dataset is printed, only the information for the existing coordinates is\n",
    "given."
   ]
  },
  {
   "cell_type": "code",
   "execution_count": 43,
   "id": "140fbddd",
   "metadata": {
    "execution": {
     "iopub.execute_input": "2025-02-12T23:21:02.897228Z",
     "iopub.status.busy": "2025-02-12T23:21:02.896814Z",
     "iopub.status.idle": "2025-02-12T23:21:02.902135Z",
     "shell.execute_reply": "2025-02-12T23:21:02.901595Z"
    }
   },
   "outputs": [
    {
     "data": {
      "text/html": [
       "<table style='background:transparent'>\n",
       "<tr><td style='padding-right:5px; padding-bottom:0px; padding-top:0px; width:124px'><font color='green'>         name</font> </td><td style='text-align:left; padding-bottom:0px; padding-top:0px; border:.5px solid lightgray;  '> 3D_dataset</td><tr>\n",
       "<tr><td style='padding-right:5px; padding-bottom:0px; padding-top:0px; width:124px'><font color='green'>       author</font> </td><td style='text-align:left; padding-bottom:0px; padding-top:0px; border:.5px solid lightgray;  '> Someone</td><tr>\n",
       "<tr><td style='padding-right:5px; padding-bottom:0px; padding-top:0px; width:124px'><font color='green'>      created</font> </td><td style='text-align:left; padding-bottom:0px; padding-top:0px; border:.5px solid lightgray;  '> 2025-02-12 23:21:02+00:00</td><tr>\n",
       "<tr><td style='padding-right:5px; padding-bottom:0px; padding-top:0px; width:124px'><font color='green'>  description</font> </td><td style='text-align:left; padding-bottom:0px; padding-top:0px; border:.5px solid lightgray;  '> <div>a single statement creation example</div></td><tr>\n",
       "<tr><td style='padding-right:5px; padding-bottom:0px; padding-top:0px; width:124px'><font color='green'>      history</font> </td><td style='text-align:left; padding-bottom:0px; padding-top:0px; border:.5px solid lightgray;  '> <div>2025-02-12 23:21:02+00:00> Created from scratch</div></td><tr>\n",
       "<tr><td style='padding-right:5px; padding-bottom:0px; padding-top:0px; width:124px'><strong>          DATA </strong></td><td style='text-align:left; padding-bottom:0px; padding-top:0px; padding-top:10px; '><hr/></td><tr>\n",
       "<tr><td style='padding-right:5px; padding-bottom:0px; padding-top:0px; width:124px'><font color='green'>        title</font> </td><td style='text-align:left; padding-bottom:0px; padding-top:0px; border:.5px solid lightgray;  '> Energy</td><tr>\n",
       "<tr><td style='padding-right:5px; padding-bottom:0px; padding-top:0px; width:124px'><font color='green'>       values</font> </td><td style='text-align:left; padding-bottom:0px; padding-top:0px; border:.5px solid lightgray;  '> <div><font color='blue'>         [[[   0.164   0.9365 ...   0.4008   0.4923]<br/>           [  0.2139   0.3074 ...   0.2605    0.562]<br/>           [ 0.07699   0.3609 ...   0.4141   0.1073]<br/>           [  0.2037   0.3726 ...   0.1487   0.6037]]<br/><br/>          [[  0.3881   0.4777 ...   0.2281   0.7669]<br/>           [ 0.06873      0.2 ...   0.5199   0.7288]<br/>           [  0.2233   0.3144 ...   0.8081   0.3282]<br/>           [  0.2258   0.8783 ...   0.4655   0.4265]]]</font></div></td><tr>\n",
       "<tr><td style='padding-right:5px; padding-bottom:0px; padding-top:0px; width:124px'><font color='green'>        shape</font> </td><td style='text-align:left; padding-bottom:0px; padding-top:0px; border:.5px solid lightgray;  '> (u:2, v:4, t:6)</td><tr>\n",
       "<tr><td style='padding-right:5px; padding-bottom:0px; padding-top:0px; width:124px'><strong>     DIMENSION `t`</strong></td><td style='text-align:left; padding-bottom:0px; padding-top:0px; padding-top:10px; '><hr/></td><tr>\n",
       "<tr><td style='padding-right:5px; padding-bottom:0px; padding-top:0px; width:124px'><font color='green'>         size</font> </td><td style='text-align:left; padding-bottom:0px; padding-top:0px; border:.5px solid lightgray;  '> 6</td><tr>\n",
       "<tr><td style='padding-right:5px; padding-bottom:0px; padding-top:0px; width:124px'><font color='green'>        title</font> </td><td style='text-align:left; padding-bottom:0px; padding-top:0px; border:.5px solid lightgray;  '> time</td><tr>\n",
       "<tr><td style='padding-right:5px; padding-bottom:0px; padding-top:0px; width:124px'><font color='green'>  coordinates</font> </td><td style='text-align:left; padding-bottom:0px; padding-top:0px; border:.5px solid lightgray;  '> <div><font color='blue'>[       0      0.1      0.2      0.3      0.4      0.5] s</font></div></td><tr>\n",
       "</table>"
      ],
      "text/plain": [
       "NDDataset: [float64] unitless (shape: (u:2, v:4, t:6))"
      ]
     },
     "execution_count": 43,
     "metadata": {},
     "output_type": "execute_result"
    }
   ],
   "source": [
    "d3D"
   ]
  },
  {
   "cell_type": "markdown",
   "id": "ddb5172d",
   "metadata": {},
   "source": [
    "Programmatically, we can use the attribute `is_empty` or `has_data` to check this"
   ]
  },
  {
   "cell_type": "code",
   "execution_count": 44,
   "id": "f9583e26",
   "metadata": {
    "execution": {
     "iopub.execute_input": "2025-02-12T23:21:02.903891Z",
     "iopub.status.busy": "2025-02-12T23:21:02.903683Z",
     "iopub.status.idle": "2025-02-12T23:21:02.907970Z",
     "shell.execute_reply": "2025-02-12T23:21:02.907411Z"
    }
   },
   "outputs": [
    {
     "data": {
      "text/plain": [
       "(False, True)"
      ]
     },
     "execution_count": 44,
     "metadata": {},
     "output_type": "execute_result"
    }
   ],
   "source": [
    "d3D.v.has_data, d3D.v.is_empty"
   ]
  },
  {
   "cell_type": "markdown",
   "id": "407ca61d",
   "metadata": {},
   "source": [
    "An error is raised when a coordinate doesn't exist"
   ]
  },
  {
   "cell_type": "code",
   "execution_count": 45,
   "id": "00564fbd",
   "metadata": {
    "execution": {
     "iopub.execute_input": "2025-02-12T23:21:02.910172Z",
     "iopub.status.busy": "2025-02-12T23:21:02.909665Z",
     "iopub.status.idle": "2025-02-12T23:21:02.913777Z",
     "shell.execute_reply": "2025-02-12T23:21:02.913253Z"
    }
   },
   "outputs": [
    {
     "name": "stderr",
     "output_type": "stream",
     "text": [
      " ERROR | KeyError: 'Could not find `x` in coordinates names or titles'\n"
     ]
    }
   ],
   "source": [
    "try:\n",
    "    d3D.x\n",
    "except KeyError as e:\n",
    "    scp.error_(KeyError, e)"
   ]
  },
  {
   "cell_type": "markdown",
   "id": "94e28638",
   "metadata": {},
   "source": [
    "In some case it can also be useful to get a coordinate from its title instead of its\n",
    "name (the limitation is that if\n",
    "several coordinates have the same title, then only the first ones that is found in\n",
    "the coordinate list, will be\n",
    "returned - this can be ambiguous)"
   ]
  },
  {
   "cell_type": "code",
   "execution_count": 46,
   "id": "29466893",
   "metadata": {
    "execution": {
     "iopub.execute_input": "2025-02-12T23:21:02.915538Z",
     "iopub.status.busy": "2025-02-12T23:21:02.915339Z",
     "iopub.status.idle": "2025-02-12T23:21:02.920383Z",
     "shell.execute_reply": "2025-02-12T23:21:02.919687Z"
    }
   },
   "outputs": [
    {
     "data": {
      "text/html": [
       "<table style='background:transparent'>\n",
       "<tr><td style='padding-right:5px; padding-bottom:0px; padding-top:0px; width:124px'><font color='green'>         size</font> </td><td style='text-align:left; padding-bottom:0px; padding-top:0px; border:.5px solid lightgray;  '> 6</td><tr>\n",
       "<tr><td style='padding-right:5px; padding-bottom:0px; padding-top:0px; width:124px'><font color='green'>        title</font> </td><td style='text-align:left; padding-bottom:0px; padding-top:0px; border:.5px solid lightgray;  '> time</td><tr>\n",
       "<tr><td style='padding-right:5px; padding-bottom:0px; padding-top:0px; width:124px'><font color='green'>  coordinates</font> </td><td style='text-align:left; padding-bottom:0px; padding-top:0px; border:.5px solid lightgray;  '> <div><font color='blue'>[       0      0.1      0.2      0.3      0.4      0.5] s</font></div></td><tr>\n",
       "</table>"
      ],
      "text/plain": [
       "Coord: [float64] s (size: 6)"
      ]
     },
     "execution_count": 46,
     "metadata": {},
     "output_type": "execute_result"
    }
   ],
   "source": [
    "d3D[\"time\"]"
   ]
  },
  {
   "cell_type": "code",
   "execution_count": 47,
   "id": "e740c2bf",
   "metadata": {
    "execution": {
     "iopub.execute_input": "2025-02-12T23:21:02.922305Z",
     "iopub.status.busy": "2025-02-12T23:21:02.922104Z",
     "iopub.status.idle": "2025-02-12T23:21:02.926817Z",
     "shell.execute_reply": "2025-02-12T23:21:02.926188Z"
    }
   },
   "outputs": [
    {
     "data": {
      "text/html": [
       "<table style='background:transparent'>\n",
       "<tr><td style='padding-right:5px; padding-bottom:0px; padding-top:0px; width:124px'><font color='green'>         size</font> </td><td style='text-align:left; padding-bottom:0px; padding-top:0px; border:.5px solid lightgray;  '> 6</td><tr>\n",
       "<tr><td style='padding-right:5px; padding-bottom:0px; padding-top:0px; width:124px'><font color='green'>        title</font> </td><td style='text-align:left; padding-bottom:0px; padding-top:0px; border:.5px solid lightgray;  '> time</td><tr>\n",
       "<tr><td style='padding-right:5px; padding-bottom:0px; padding-top:0px; width:124px'><font color='green'>  coordinates</font> </td><td style='text-align:left; padding-bottom:0px; padding-top:0px; border:.5px solid lightgray;  '> <div><font color='blue'>[       0      0.1      0.2      0.3      0.4      0.5] s</font></div></td><tr>\n",
       "</table>"
      ],
      "text/plain": [
       "Coord: [float64] s (size: 6)"
      ]
     },
     "execution_count": 47,
     "metadata": {},
     "output_type": "execute_result"
    }
   ],
   "source": [
    "d3D.time"
   ]
  },
  {
   "cell_type": "markdown",
   "id": "569d1fad",
   "metadata": {},
   "source": [
    "## Labels"
   ]
  },
  {
   "cell_type": "markdown",
   "id": "00de2f6c",
   "metadata": {},
   "source": [
    "It is possible to use labels instead of numerical coordinates. They are sequence of\n",
    "objects .The length of the\n",
    "sequence must be equal to the size of a dimension."
   ]
  },
  {
   "cell_type": "markdown",
   "id": "b945bdd2",
   "metadata": {},
   "source": [
    "The labels can be simple strings, *e.g.,*"
   ]
  },
  {
   "cell_type": "code",
   "execution_count": 48,
   "id": "dd40a7d5",
   "metadata": {
    "execution": {
     "iopub.execute_input": "2025-02-12T23:21:02.929250Z",
     "iopub.status.busy": "2025-02-12T23:21:02.928780Z",
     "iopub.status.idle": "2025-02-12T23:21:02.935131Z",
     "shell.execute_reply": "2025-02-12T23:21:02.934486Z"
    }
   },
   "outputs": [
    {
     "data": {
      "text/html": [
       "<table style='background:transparent'>\n",
       "<tr><td style='padding-right:5px; padding-bottom:0px; padding-top:0px; width:124px'><font color='green'>         name</font> </td><td style='text-align:left; padding-bottom:0px; padding-top:0px; border:.5px solid lightgray;  '> 3D_dataset</td><tr>\n",
       "<tr><td style='padding-right:5px; padding-bottom:0px; padding-top:0px; width:124px'><font color='green'>       author</font> </td><td style='text-align:left; padding-bottom:0px; padding-top:0px; border:.5px solid lightgray;  '> Someone</td><tr>\n",
       "<tr><td style='padding-right:5px; padding-bottom:0px; padding-top:0px; width:124px'><font color='green'>      created</font> </td><td style='text-align:left; padding-bottom:0px; padding-top:0px; border:.5px solid lightgray;  '> 2025-02-12 23:21:02+00:00</td><tr>\n",
       "<tr><td style='padding-right:5px; padding-bottom:0px; padding-top:0px; width:124px'><font color='green'>  description</font> </td><td style='text-align:left; padding-bottom:0px; padding-top:0px; border:.5px solid lightgray;  '> <div>a single statement creation example</div></td><tr>\n",
       "<tr><td style='padding-right:5px; padding-bottom:0px; padding-top:0px; width:124px'><font color='green'>      history</font> </td><td style='text-align:left; padding-bottom:0px; padding-top:0px; border:.5px solid lightgray;  '> <div>2025-02-12 23:21:02+00:00> Created from scratch</div></td><tr>\n",
       "<tr><td style='padding-right:5px; padding-bottom:0px; padding-top:0px; width:124px'><strong>          DATA </strong></td><td style='text-align:left; padding-bottom:0px; padding-top:0px; padding-top:10px; '><hr/></td><tr>\n",
       "<tr><td style='padding-right:5px; padding-bottom:0px; padding-top:0px; width:124px'><font color='green'>        title</font> </td><td style='text-align:left; padding-bottom:0px; padding-top:0px; border:.5px solid lightgray;  '> Energy</td><tr>\n",
       "<tr><td style='padding-right:5px; padding-bottom:0px; padding-top:0px; width:124px'><font color='green'>       values</font> </td><td style='text-align:left; padding-bottom:0px; padding-top:0px; border:.5px solid lightgray;  '> <div><font color='blue'>         [[[   0.164   0.9365 ...   0.4008   0.4923]<br/>           [  0.2139   0.3074 ...   0.2605    0.562]<br/>           [ 0.07699   0.3609 ...   0.4141   0.1073]<br/>           [  0.2037   0.3726 ...   0.1487   0.6037]]<br/><br/>          [[  0.3881   0.4777 ...   0.2281   0.7669]<br/>           [ 0.06873      0.2 ...   0.5199   0.7288]<br/>           [  0.2233   0.3144 ...   0.8081   0.3282]<br/>           [  0.2258   0.8783 ...   0.4655   0.4265]]]</font></div></td><tr>\n",
       "<tr><td style='padding-right:5px; padding-bottom:0px; padding-top:0px; width:124px'><font color='green'>        shape</font> </td><td style='text-align:left; padding-bottom:0px; padding-top:0px; border:.5px solid lightgray;  '> (u:2, v:4, t:6)</td><tr>\n",
       "<tr><td style='padding-right:5px; padding-bottom:0px; padding-top:0px; width:124px'><strong>     DIMENSION `t`</strong></td><td style='text-align:left; padding-bottom:0px; padding-top:0px; padding-top:10px; '><hr/></td><tr>\n",
       "<tr><td style='padding-right:5px; padding-bottom:0px; padding-top:0px; width:124px'><font color='green'>         size</font> </td><td style='text-align:left; padding-bottom:0px; padding-top:0px; border:.5px solid lightgray;  '> 6</td><tr>\n",
       "<tr><td style='padding-right:5px; padding-bottom:0px; padding-top:0px; width:124px'><font color='green'>        title</font> </td><td style='text-align:left; padding-bottom:0px; padding-top:0px; border:.5px solid lightgray;  '> time</td><tr>\n",
       "<tr><td style='padding-right:5px; padding-bottom:0px; padding-top:0px; width:124px'><font color='green'>  coordinates</font> </td><td style='text-align:left; padding-bottom:0px; padding-top:0px; border:.5px solid lightgray;  '> <div><font color='blue'>[       0      0.1      0.2      0.3      0.4      0.5] s</font></div></td><tr>\n",
       "<tr><td style='padding-right:5px; padding-bottom:0px; padding-top:0px; width:124px'><strong>     DIMENSION `u`</strong></td><td style='text-align:left; padding-bottom:0px; padding-top:0px; padding-top:10px; '><hr/></td><tr>\n",
       "<tr><td style='padding-right:5px; padding-bottom:0px; padding-top:0px; width:124px'><font color='green'>         size</font> </td><td style='text-align:left; padding-bottom:0px; padding-top:0px; border:.5px solid lightgray;  '> 2</td><tr>\n",
       "<tr><td style='padding-right:5px; padding-bottom:0px; padding-top:0px; width:124px'><font color='green'>        title</font> </td><td style='text-align:left; padding-bottom:0px; padding-top:0px; border:.5px solid lightgray;  '> some tags</td><tr>\n",
       "<tr><td style='padding-right:5px; padding-bottom:0px; padding-top:0px; width:124px'><font color='green'>       labels</font> </td><td style='text-align:left; padding-bottom:0px; padding-top:0px; border:.5px solid lightgray;  '> <div><font color='darkcyan'>[  a   b]</font></div></td><tr>\n",
       "</table>"
      ],
      "text/plain": [
       "NDDataset: [float64] unitless (shape: (u:2, v:4, t:6))"
      ]
     },
     "execution_count": 48,
     "metadata": {},
     "output_type": "execute_result"
    }
   ],
   "source": [
    "tags = list(\"ab\")\n",
    "d3D.u.title = \"some tags\"\n",
    "d3D.u.labels = tags  # TODO: avoid repetition\n",
    "d3D"
   ]
  },
  {
   "cell_type": "markdown",
   "id": "6530798c",
   "metadata": {},
   "source": [
    "or more complex objects.\n",
    "\n",
    "For instance here we use datetime.timedelta objects:"
   ]
  },
  {
   "cell_type": "code",
   "execution_count": 49,
   "id": "eae20032",
   "metadata": {
    "execution": {
     "iopub.execute_input": "2025-02-12T23:21:02.937087Z",
     "iopub.status.busy": "2025-02-12T23:21:02.936860Z",
     "iopub.status.idle": "2025-02-12T23:21:02.945224Z",
     "shell.execute_reply": "2025-02-12T23:21:02.944570Z"
    }
   },
   "outputs": [
    {
     "data": {
      "text/html": [
       "<table style='background:transparent'>\n",
       "<tr><td style='padding-right:5px; padding-bottom:0px; padding-top:0px; width:124px'><font color='green'>         name</font> </td><td style='text-align:left; padding-bottom:0px; padding-top:0px; border:.5px solid lightgray;  '> 3D_dataset</td><tr>\n",
       "<tr><td style='padding-right:5px; padding-bottom:0px; padding-top:0px; width:124px'><font color='green'>       author</font> </td><td style='text-align:left; padding-bottom:0px; padding-top:0px; border:.5px solid lightgray;  '> Someone</td><tr>\n",
       "<tr><td style='padding-right:5px; padding-bottom:0px; padding-top:0px; width:124px'><font color='green'>      created</font> </td><td style='text-align:left; padding-bottom:0px; padding-top:0px; border:.5px solid lightgray;  '> 2025-02-12 23:21:02+00:00</td><tr>\n",
       "<tr><td style='padding-right:5px; padding-bottom:0px; padding-top:0px; width:124px'><font color='green'>  description</font> </td><td style='text-align:left; padding-bottom:0px; padding-top:0px; border:.5px solid lightgray;  '> <div>a single statement creation example</div></td><tr>\n",
       "<tr><td style='padding-right:5px; padding-bottom:0px; padding-top:0px; width:124px'><font color='green'>      history</font> </td><td style='text-align:left; padding-bottom:0px; padding-top:0px; border:.5px solid lightgray;  '> <div>2025-02-12 23:21:02+00:00> Created from scratch</div></td><tr>\n",
       "<tr><td style='padding-right:5px; padding-bottom:0px; padding-top:0px; width:124px'><strong>          DATA </strong></td><td style='text-align:left; padding-bottom:0px; padding-top:0px; padding-top:10px; '><hr/></td><tr>\n",
       "<tr><td style='padding-right:5px; padding-bottom:0px; padding-top:0px; width:124px'><font color='green'>        title</font> </td><td style='text-align:left; padding-bottom:0px; padding-top:0px; border:.5px solid lightgray;  '> Energy</td><tr>\n",
       "<tr><td style='padding-right:5px; padding-bottom:0px; padding-top:0px; width:124px'><font color='green'>       values</font> </td><td style='text-align:left; padding-bottom:0px; padding-top:0px; border:.5px solid lightgray;  '> <div><font color='blue'>         [[[   0.164   0.9365 ...   0.4008   0.4923]<br/>           [  0.2139   0.3074 ...   0.2605    0.562]<br/>           [ 0.07699   0.3609 ...   0.4141   0.1073]<br/>           [  0.2037   0.3726 ...   0.1487   0.6037]]<br/><br/>          [[  0.3881   0.4777 ...   0.2281   0.7669]<br/>           [ 0.06873      0.2 ...   0.5199   0.7288]<br/>           [  0.2233   0.3144 ...   0.8081   0.3282]<br/>           [  0.2258   0.8783 ...   0.4655   0.4265]]]</font></div></td><tr>\n",
       "<tr><td style='padding-right:5px; padding-bottom:0px; padding-top:0px; width:124px'><font color='green'>        shape</font> </td><td style='text-align:left; padding-bottom:0px; padding-top:0px; border:.5px solid lightgray;  '> (u:2, v:4, t:6)</td><tr>\n",
       "<tr><td style='padding-right:5px; padding-bottom:0px; padding-top:0px; width:124px'><strong>     DIMENSION `t`</strong></td><td style='text-align:left; padding-bottom:0px; padding-top:0px; padding-top:10px; '><hr/></td><tr>\n",
       "<tr><td style='padding-right:5px; padding-bottom:0px; padding-top:0px; width:124px'><font color='green'>         size</font> </td><td style='text-align:left; padding-bottom:0px; padding-top:0px; border:.5px solid lightgray;  '> 6</td><tr>\n",
       "<tr><td style='padding-right:5px; padding-bottom:0px; padding-top:0px; width:124px'><font color='green'>        title</font> </td><td style='text-align:left; padding-bottom:0px; padding-top:0px; border:.5px solid lightgray;  '> time</td><tr>\n",
       "<tr><td style='padding-right:5px; padding-bottom:0px; padding-top:0px; width:124px'><font color='green'>       labels</font> </td><td style='text-align:left; padding-bottom:0px; padding-top:0px; border:.5px solid lightgray;  '> <div><font color='darkcyan'>[  0:00:00   0:01:00   0:02:00   0:03:00   0:04:00   0:05:00]</font></div> </td><tr>\n",
       "<tr><td style='padding-right:5px; padding-bottom:0px; padding-top:0px; width:124px'><strong>     DIMENSION `u`</strong></td><td style='text-align:left; padding-bottom:0px; padding-top:0px; padding-top:10px; '><hr/></td><tr>\n",
       "<tr><td style='padding-right:5px; padding-bottom:0px; padding-top:0px; width:124px'><font color='green'>         size</font> </td><td style='text-align:left; padding-bottom:0px; padding-top:0px; border:.5px solid lightgray;  '> 2</td><tr>\n",
       "<tr><td style='padding-right:5px; padding-bottom:0px; padding-top:0px; width:124px'><font color='green'>        title</font> </td><td style='text-align:left; padding-bottom:0px; padding-top:0px; border:.5px solid lightgray;  '> some tags</td><tr>\n",
       "<tr><td style='padding-right:5px; padding-bottom:0px; padding-top:0px; width:124px'><font color='green'>       labels</font> </td><td style='text-align:left; padding-bottom:0px; padding-top:0px; border:.5px solid lightgray;  '> <div><font color='darkcyan'>[  a   b]</font></div></td><tr>\n",
       "</table>"
      ],
      "text/plain": [
       "NDDataset: [float64] unitless (shape: (u:2, v:4, t:6))"
      ]
     },
     "execution_count": 49,
     "metadata": {},
     "output_type": "execute_result"
    }
   ],
   "source": [
    "from datetime import timedelta\n",
    "\n",
    "start = timedelta(0)\n",
    "times = [start + timedelta(seconds=x * 60) for x in range(6)]\n",
    "d3D.t = None\n",
    "d3D.t.labels = times\n",
    "d3D.t.title = \"time\"\n",
    "d3D"
   ]
  },
  {
   "cell_type": "markdown",
   "id": "5d38c7f2",
   "metadata": {},
   "source": [
    "In this case, getting a coordinate that doesn't possess numerical data but labels,\n",
    "will return the labels"
   ]
  },
  {
   "cell_type": "code",
   "execution_count": 50,
   "id": "bd22e768",
   "metadata": {
    "execution": {
     "iopub.execute_input": "2025-02-12T23:21:02.947374Z",
     "iopub.status.busy": "2025-02-12T23:21:02.947154Z",
     "iopub.status.idle": "2025-02-12T23:21:02.952223Z",
     "shell.execute_reply": "2025-02-12T23:21:02.951639Z"
    }
   },
   "outputs": [
    {
     "data": {
      "text/html": [
       "<table style='background:transparent'>\n",
       "<tr><td style='padding-right:5px; padding-bottom:0px; padding-top:0px; width:124px'><font color='green'>         size</font> </td><td style='text-align:left; padding-bottom:0px; padding-top:0px; border:.5px solid lightgray;  '> 6</td><tr>\n",
       "<tr><td style='padding-right:5px; padding-bottom:0px; padding-top:0px; width:124px'><font color='green'>        title</font> </td><td style='text-align:left; padding-bottom:0px; padding-top:0px; border:.5px solid lightgray;  '> time</td><tr>\n",
       "<tr><td style='padding-right:5px; padding-bottom:0px; padding-top:0px; width:124px'><font color='green'>       labels</font> </td><td style='text-align:left; padding-bottom:0px; padding-top:0px; border:.5px solid lightgray;  '> <div><font color='darkcyan'>[  0:00:00   0:01:00   0:02:00   0:03:00   0:04:00   0:05:00]</font></div> </td><tr>\n",
       "</table>"
      ],
      "text/plain": [
       "Coord: [labels] [  0:00:00   0:01:00   0:02:00   0:03:00   0:04:00   0:05:00] (size: 6)"
      ]
     },
     "execution_count": 50,
     "metadata": {},
     "output_type": "execute_result"
    }
   ],
   "source": [
    "d3D.time"
   ]
  },
  {
   "cell_type": "markdown",
   "id": "4d694363",
   "metadata": {},
   "source": [
    "# More insight on coordinates"
   ]
  },
  {
   "cell_type": "markdown",
   "id": "1240b1ab",
   "metadata": {},
   "source": [
    "## Sharing coordinates between dimensions"
   ]
  },
  {
   "cell_type": "markdown",
   "id": "0aeed5a0",
   "metadata": {},
   "source": [
    "Sometimes it is not necessary to have different coordinates for each axe. Some can be\n",
    "shared between axes.\n",
    "\n",
    "For example, if we have a square matrix with the same coordinate in the two\n",
    "dimensions, the second dimension can\n",
    "refer to the first. Here we create a square 2D dataset, using the `diag` method:"
   ]
  },
  {
   "cell_type": "code",
   "execution_count": 51,
   "id": "ca85e111",
   "metadata": {
    "execution": {
     "iopub.execute_input": "2025-02-12T23:21:02.954280Z",
     "iopub.status.busy": "2025-02-12T23:21:02.954080Z",
     "iopub.status.idle": "2025-02-12T23:21:02.960442Z",
     "shell.execute_reply": "2025-02-12T23:21:02.959798Z"
    }
   },
   "outputs": [
    {
     "data": {
      "text/html": [
       "<table style='background:transparent'>\n",
       "<tr><td style='padding-right:5px; padding-bottom:0px; padding-top:0px; width:124px'><font color='green'>         name</font> </td><td style='text-align:left; padding-bottom:0px; padding-top:0px; border:.5px solid lightgray;  '> NDDataset_06662e4f</td><tr>\n",
       "<tr><td style='padding-right:5px; padding-bottom:0px; padding-top:0px; width:124px'><font color='green'>       author</font> </td><td style='text-align:left; padding-bottom:0px; padding-top:0px; border:.5px solid lightgray;  '> runner@fv-az1333-513</td><tr>\n",
       "<tr><td style='padding-right:5px; padding-bottom:0px; padding-top:0px; width:124px'><font color='green'>      created</font> </td><td style='text-align:left; padding-bottom:0px; padding-top:0px; border:.5px solid lightgray;  '> 2025-02-12 23:21:02+00:00</td><tr>\n",
       "<tr><td style='padding-right:5px; padding-bottom:0px; padding-top:0px; width:124px'><font color='green'>      history</font> </td><td style='text-align:left; padding-bottom:0px; padding-top:0px; border:.5px solid lightgray;  '> <div>2025-02-12 23:21:02+00:00> Created using method : diag</div></td><tr>\n",
       "<tr><td style='padding-right:5px; padding-bottom:0px; padding-top:0px; width:124px'><strong>          DATA </strong></td><td style='text-align:left; padding-bottom:0px; padding-top:0px; padding-top:10px; '><hr/></td><tr>\n",
       "<tr><td style='padding-right:5px; padding-bottom:0px; padding-top:0px; width:124px'><font color='green'>        title</font> </td><td style='text-align:left; padding-bottom:0px; padding-top:0px; border:.5px solid lightgray;  '> <untitled></td><tr>\n",
       "<tr><td style='padding-right:5px; padding-bottom:0px; padding-top:0px; width:124px'><font color='green'>       values</font> </td><td style='text-align:left; padding-bottom:0px; padding-top:0px; border:.5px solid lightgray;  '> <div><font color='blue'>         [[       3        0        0]<br/>          [       0        3        0]<br/>          [       0        0      2.5]]</font></div></td><tr>\n",
       "<tr><td style='padding-right:5px; padding-bottom:0px; padding-top:0px; width:124px'><font color='green'>        shape</font> </td><td style='text-align:left; padding-bottom:0px; padding-top:0px; border:.5px solid lightgray;  '> (y:3, x:3)</td><tr>\n",
       "</table>"
      ],
      "text/plain": [
       "NDDataset: [float64] unitless (shape: (y:3, x:3))"
      ]
     },
     "execution_count": 51,
     "metadata": {},
     "output_type": "execute_result"
    }
   ],
   "source": [
    "nd = NDDataset.diag((3, 3, 2.5))\n",
    "nd"
   ]
  },
  {
   "cell_type": "markdown",
   "id": "1b8f02b9",
   "metadata": {},
   "source": [
    "and then we add the same coordinate for both dimensions"
   ]
  },
  {
   "cell_type": "code",
   "execution_count": 52,
   "id": "2ff0fa83",
   "metadata": {
    "execution": {
     "iopub.execute_input": "2025-02-12T23:21:02.962569Z",
     "iopub.status.busy": "2025-02-12T23:21:02.962210Z",
     "iopub.status.idle": "2025-02-12T23:21:02.969432Z",
     "shell.execute_reply": "2025-02-12T23:21:02.968895Z"
    }
   },
   "outputs": [
    {
     "data": {
      "text/html": [
       "<table style='background:transparent'>\n",
       "<tr><td style='padding-right:5px; padding-bottom:0px; padding-top:0px; width:124px'><font color='green'>         name</font> </td><td style='text-align:left; padding-bottom:0px; padding-top:0px; border:.5px solid lightgray;  '> NDDataset_06662e4f</td><tr>\n",
       "<tr><td style='padding-right:5px; padding-bottom:0px; padding-top:0px; width:124px'><font color='green'>       author</font> </td><td style='text-align:left; padding-bottom:0px; padding-top:0px; border:.5px solid lightgray;  '> runner@fv-az1333-513</td><tr>\n",
       "<tr><td style='padding-right:5px; padding-bottom:0px; padding-top:0px; width:124px'><font color='green'>      created</font> </td><td style='text-align:left; padding-bottom:0px; padding-top:0px; border:.5px solid lightgray;  '> 2025-02-12 23:21:02+00:00</td><tr>\n",
       "<tr><td style='padding-right:5px; padding-bottom:0px; padding-top:0px; width:124px'><font color='green'>      history</font> </td><td style='text-align:left; padding-bottom:0px; padding-top:0px; border:.5px solid lightgray;  '> <div>2025-02-12 23:21:02+00:00> Created using method : diag</div></td><tr>\n",
       "<tr><td style='padding-right:5px; padding-bottom:0px; padding-top:0px; width:124px'><strong>          DATA </strong></td><td style='text-align:left; padding-bottom:0px; padding-top:0px; padding-top:10px; '><hr/></td><tr>\n",
       "<tr><td style='padding-right:5px; padding-bottom:0px; padding-top:0px; width:124px'><font color='green'>        title</font> </td><td style='text-align:left; padding-bottom:0px; padding-top:0px; border:.5px solid lightgray;  '> <untitled></td><tr>\n",
       "<tr><td style='padding-right:5px; padding-bottom:0px; padding-top:0px; width:124px'><font color='green'>       values</font> </td><td style='text-align:left; padding-bottom:0px; padding-top:0px; border:.5px solid lightgray;  '> <div><font color='blue'>         [[       3        0        0]<br/>          [       0        3        0]<br/>          [       0        0      2.5]]</font></div></td><tr>\n",
       "<tr><td style='padding-right:5px; padding-bottom:0px; padding-top:0px; width:124px'><font color='green'>        shape</font> </td><td style='text-align:left; padding-bottom:0px; padding-top:0px; border:.5px solid lightgray;  '> (y:3, x:3)</td><tr>\n",
       "<tr><td style='padding-right:5px; padding-bottom:0px; padding-top:0px; width:124px'><strong>     DIMENSION `x`=`y`</strong></td><td style='text-align:left; padding-bottom:0px; padding-top:0px; padding-top:10px; '><hr/></td><tr>\n",
       "<tr><td style='padding-right:5px; padding-bottom:0px; padding-top:0px; width:124px'><font color='green'>         size</font> </td><td style='text-align:left; padding-bottom:0px; padding-top:0px; border:.5px solid lightgray;  '> 3</td><tr>\n",
       "<tr><td style='padding-right:5px; padding-bottom:0px; padding-top:0px; width:124px'><font color='green'>        title</font> </td><td style='text-align:left; padding-bottom:0px; padding-top:0px; border:.5px solid lightgray;  '> <untitled></td><tr>\n",
       "<tr><td style='padding-right:5px; padding-bottom:0px; padding-top:0px; width:124px'><font color='green'>  coordinates</font> </td><td style='text-align:left; padding-bottom:0px; padding-top:0px; border:.5px solid lightgray;  '> <div><font color='blue'>[       0        1        2]</font></div></td><tr>\n",
       "</table>"
      ],
      "text/plain": [
       "NDDataset: [float64] unitless (shape: (y:3, x:3))"
      ]
     },
     "execution_count": 52,
     "metadata": {},
     "output_type": "execute_result"
    }
   ],
   "source": [
    "coordx = Coord.arange(3)\n",
    "nd.set_coordset(x=coordx, y=\"x\")\n",
    "nd"
   ]
  },
  {
   "cell_type": "markdown",
   "id": "686beddb",
   "metadata": {},
   "source": [
    "## Setting coordinates using `set_coordset`"
   ]
  },
  {
   "cell_type": "markdown",
   "id": "c953f7d7",
   "metadata": {},
   "source": [
    "Let's create 3 `Coord` objects to be used as coordinates for the 3 dimensions of the\n",
    "previous d3D dataset."
   ]
  },
  {
   "cell_type": "code",
   "execution_count": 53,
   "id": "6c42d730",
   "metadata": {
    "execution": {
     "iopub.execute_input": "2025-02-12T23:21:02.971383Z",
     "iopub.status.busy": "2025-02-12T23:21:02.971018Z",
     "iopub.status.idle": "2025-02-12T23:21:02.977648Z",
     "shell.execute_reply": "2025-02-12T23:21:02.977006Z"
    }
   },
   "outputs": [],
   "source": [
    "d3D.dims = [\"t\", \"v\", \"u\"]\n",
    "s0, s1, s2 = d3D.shape\n",
    "coord0 = Coord.linspace(10.0, 100.0, s0, units=\"m\", title=\"distance\")\n",
    "coord1 = Coord.linspace(20.0, 25.0, s1, units=\"K\", title=\"temperature\")\n",
    "coord2 = Coord.linspace(0.0, 1000.0, s2, units=\"hour\", title=\"elapsed time\")"
   ]
  },
  {
   "cell_type": "markdown",
   "id": "41e21915",
   "metadata": {},
   "source": [
    "### Syntax 1"
   ]
  },
  {
   "cell_type": "code",
   "execution_count": 54,
   "id": "51944ebb",
   "metadata": {
    "execution": {
     "iopub.execute_input": "2025-02-12T23:21:02.979903Z",
     "iopub.status.busy": "2025-02-12T23:21:02.979503Z",
     "iopub.status.idle": "2025-02-12T23:21:02.989073Z",
     "shell.execute_reply": "2025-02-12T23:21:02.988412Z"
    }
   },
   "outputs": [
    {
     "data": {
      "text/html": [
       "<table style='background:transparent'>\n",
       "<tr><td style='padding-right:5px; padding-bottom:0px; padding-top:0px; width:124px'><font color='green'>         name</font> </td><td style='text-align:left; padding-bottom:0px; padding-top:0px; border:.5px solid lightgray;  '> 3D_dataset</td><tr>\n",
       "<tr><td style='padding-right:5px; padding-bottom:0px; padding-top:0px; width:124px'><font color='green'>       author</font> </td><td style='text-align:left; padding-bottom:0px; padding-top:0px; border:.5px solid lightgray;  '> Someone</td><tr>\n",
       "<tr><td style='padding-right:5px; padding-bottom:0px; padding-top:0px; width:124px'><font color='green'>      created</font> </td><td style='text-align:left; padding-bottom:0px; padding-top:0px; border:.5px solid lightgray;  '> 2025-02-12 23:21:02+00:00</td><tr>\n",
       "<tr><td style='padding-right:5px; padding-bottom:0px; padding-top:0px; width:124px'><font color='green'>  description</font> </td><td style='text-align:left; padding-bottom:0px; padding-top:0px; border:.5px solid lightgray;  '> <div>a single statement creation example</div></td><tr>\n",
       "<tr><td style='padding-right:5px; padding-bottom:0px; padding-top:0px; width:124px'><font color='green'>      history</font> </td><td style='text-align:left; padding-bottom:0px; padding-top:0px; border:.5px solid lightgray;  '> <div>2025-02-12 23:21:02+00:00> Created from scratch</div></td><tr>\n",
       "<tr><td style='padding-right:5px; padding-bottom:0px; padding-top:0px; width:124px'><strong>          DATA </strong></td><td style='text-align:left; padding-bottom:0px; padding-top:0px; padding-top:10px; '><hr/></td><tr>\n",
       "<tr><td style='padding-right:5px; padding-bottom:0px; padding-top:0px; width:124px'><font color='green'>        title</font> </td><td style='text-align:left; padding-bottom:0px; padding-top:0px; border:.5px solid lightgray;  '> Energy</td><tr>\n",
       "<tr><td style='padding-right:5px; padding-bottom:0px; padding-top:0px; width:124px'><font color='green'>       values</font> </td><td style='text-align:left; padding-bottom:0px; padding-top:0px; border:.5px solid lightgray;  '> <div><font color='blue'>         [[[   0.164   0.9365 ...   0.4008   0.4923]<br/>           [  0.2139   0.3074 ...   0.2605    0.562]<br/>           [ 0.07699   0.3609 ...   0.4141   0.1073]<br/>           [  0.2037   0.3726 ...   0.1487   0.6037]]<br/><br/>          [[  0.3881   0.4777 ...   0.2281   0.7669]<br/>           [ 0.06873      0.2 ...   0.5199   0.7288]<br/>           [  0.2233   0.3144 ...   0.8081   0.3282]<br/>           [  0.2258   0.8783 ...   0.4655   0.4265]]]</font></div></td><tr>\n",
       "<tr><td style='padding-right:5px; padding-bottom:0px; padding-top:0px; width:124px'><font color='green'>        shape</font> </td><td style='text-align:left; padding-bottom:0px; padding-top:0px; border:.5px solid lightgray;  '> (t:2, v:4, u:6)</td><tr>\n",
       "<tr><td style='padding-right:5px; padding-bottom:0px; padding-top:0px; width:124px'><strong>     DIMENSION `t`</strong></td><td style='text-align:left; padding-bottom:0px; padding-top:0px; padding-top:10px; '><hr/></td><tr>\n",
       "<tr><td style='padding-right:5px; padding-bottom:0px; padding-top:0px; width:124px'><font color='green'>         size</font> </td><td style='text-align:left; padding-bottom:0px; padding-top:0px; border:.5px solid lightgray;  '> 2</td><tr>\n",
       "<tr><td style='padding-right:5px; padding-bottom:0px; padding-top:0px; width:124px'><font color='green'>        title</font> </td><td style='text-align:left; padding-bottom:0px; padding-top:0px; border:.5px solid lightgray;  '> distance</td><tr>\n",
       "<tr><td style='padding-right:5px; padding-bottom:0px; padding-top:0px; width:124px'><font color='green'>  coordinates</font> </td><td style='text-align:left; padding-bottom:0px; padding-top:0px; border:.5px solid lightgray;  '> <div><font color='blue'>[      10      100] m</font></div></td><tr>\n",
       "<tr><td style='padding-right:5px; padding-bottom:0px; padding-top:0px; width:124px'><strong>     DIMENSION `u`</strong></td><td style='text-align:left; padding-bottom:0px; padding-top:0px; padding-top:10px; '><hr/></td><tr>\n",
       "<tr><td style='padding-right:5px; padding-bottom:0px; padding-top:0px; width:124px'><font color='green'>         size</font> </td><td style='text-align:left; padding-bottom:0px; padding-top:0px; border:.5px solid lightgray;  '> 6</td><tr>\n",
       "<tr><td style='padding-right:5px; padding-bottom:0px; padding-top:0px; width:124px'><font color='green'>        title</font> </td><td style='text-align:left; padding-bottom:0px; padding-top:0px; border:.5px solid lightgray;  '> elapsed time</td><tr>\n",
       "<tr><td style='padding-right:5px; padding-bottom:0px; padding-top:0px; width:124px'><font color='green'>  coordinates</font> </td><td style='text-align:left; padding-bottom:0px; padding-top:0px; border:.5px solid lightgray;  '> <div><font color='blue'>[       0      200      400      600      800     1000] h</font></div></td><tr>\n",
       "<tr><td style='padding-right:5px; padding-bottom:0px; padding-top:0px; width:124px'><strong>     DIMENSION `v`</strong></td><td style='text-align:left; padding-bottom:0px; padding-top:0px; padding-top:10px; '><hr/></td><tr>\n",
       "<tr><td style='padding-right:5px; padding-bottom:0px; padding-top:0px; width:124px'><font color='green'>         size</font> </td><td style='text-align:left; padding-bottom:0px; padding-top:0px; border:.5px solid lightgray;  '> 4</td><tr>\n",
       "<tr><td style='padding-right:5px; padding-bottom:0px; padding-top:0px; width:124px'><font color='green'>        title</font> </td><td style='text-align:left; padding-bottom:0px; padding-top:0px; border:.5px solid lightgray;  '> temperature</td><tr>\n",
       "<tr><td style='padding-right:5px; padding-bottom:0px; padding-top:0px; width:124px'><font color='green'>  coordinates</font> </td><td style='text-align:left; padding-bottom:0px; padding-top:0px; border:.5px solid lightgray;  '> <div><font color='blue'>[      20    21.67    23.33       25] K</font></div></td><tr>\n",
       "</table>"
      ],
      "text/plain": [
       "NDDataset: [float64] unitless (shape: (t:2, v:4, u:6))"
      ]
     },
     "execution_count": 54,
     "metadata": {},
     "output_type": "execute_result"
    }
   ],
   "source": [
    "d3D.set_coordset(u=coord2, v=coord1, t=coord0)\n",
    "d3D"
   ]
  },
  {
   "cell_type": "markdown",
   "id": "f0ab8723",
   "metadata": {},
   "source": [
    "### Syntax 2"
   ]
  },
  {
   "cell_type": "code",
   "execution_count": 55,
   "id": "ea98975f",
   "metadata": {
    "execution": {
     "iopub.execute_input": "2025-02-12T23:21:02.991231Z",
     "iopub.status.busy": "2025-02-12T23:21:02.990838Z",
     "iopub.status.idle": "2025-02-12T23:21:03.000484Z",
     "shell.execute_reply": "2025-02-12T23:21:02.999949Z"
    }
   },
   "outputs": [
    {
     "data": {
      "text/html": [
       "<table style='background:transparent'>\n",
       "<tr><td style='padding-right:5px; padding-bottom:0px; padding-top:0px; width:124px'><font color='green'>         name</font> </td><td style='text-align:left; padding-bottom:0px; padding-top:0px; border:.5px solid lightgray;  '> 3D_dataset</td><tr>\n",
       "<tr><td style='padding-right:5px; padding-bottom:0px; padding-top:0px; width:124px'><font color='green'>       author</font> </td><td style='text-align:left; padding-bottom:0px; padding-top:0px; border:.5px solid lightgray;  '> Someone</td><tr>\n",
       "<tr><td style='padding-right:5px; padding-bottom:0px; padding-top:0px; width:124px'><font color='green'>      created</font> </td><td style='text-align:left; padding-bottom:0px; padding-top:0px; border:.5px solid lightgray;  '> 2025-02-12 23:21:02+00:00</td><tr>\n",
       "<tr><td style='padding-right:5px; padding-bottom:0px; padding-top:0px; width:124px'><font color='green'>  description</font> </td><td style='text-align:left; padding-bottom:0px; padding-top:0px; border:.5px solid lightgray;  '> <div>a single statement creation example</div></td><tr>\n",
       "<tr><td style='padding-right:5px; padding-bottom:0px; padding-top:0px; width:124px'><font color='green'>      history</font> </td><td style='text-align:left; padding-bottom:0px; padding-top:0px; border:.5px solid lightgray;  '> <div>2025-02-12 23:21:02+00:00> Created from scratch</div></td><tr>\n",
       "<tr><td style='padding-right:5px; padding-bottom:0px; padding-top:0px; width:124px'><strong>          DATA </strong></td><td style='text-align:left; padding-bottom:0px; padding-top:0px; padding-top:10px; '><hr/></td><tr>\n",
       "<tr><td style='padding-right:5px; padding-bottom:0px; padding-top:0px; width:124px'><font color='green'>        title</font> </td><td style='text-align:left; padding-bottom:0px; padding-top:0px; border:.5px solid lightgray;  '> Energy</td><tr>\n",
       "<tr><td style='padding-right:5px; padding-bottom:0px; padding-top:0px; width:124px'><font color='green'>       values</font> </td><td style='text-align:left; padding-bottom:0px; padding-top:0px; border:.5px solid lightgray;  '> <div><font color='blue'>         [[[   0.164   0.9365 ...   0.4008   0.4923]<br/>           [  0.2139   0.3074 ...   0.2605    0.562]<br/>           [ 0.07699   0.3609 ...   0.4141   0.1073]<br/>           [  0.2037   0.3726 ...   0.1487   0.6037]]<br/><br/>          [[  0.3881   0.4777 ...   0.2281   0.7669]<br/>           [ 0.06873      0.2 ...   0.5199   0.7288]<br/>           [  0.2233   0.3144 ...   0.8081   0.3282]<br/>           [  0.2258   0.8783 ...   0.4655   0.4265]]]</font></div></td><tr>\n",
       "<tr><td style='padding-right:5px; padding-bottom:0px; padding-top:0px; width:124px'><font color='green'>        shape</font> </td><td style='text-align:left; padding-bottom:0px; padding-top:0px; border:.5px solid lightgray;  '> (t:2, v:4, u:6)</td><tr>\n",
       "<tr><td style='padding-right:5px; padding-bottom:0px; padding-top:0px; width:124px'><strong>     DIMENSION `t`</strong></td><td style='text-align:left; padding-bottom:0px; padding-top:0px; padding-top:10px; '><hr/></td><tr>\n",
       "<tr><td style='padding-right:5px; padding-bottom:0px; padding-top:0px; width:124px'><font color='green'>         size</font> </td><td style='text-align:left; padding-bottom:0px; padding-top:0px; border:.5px solid lightgray;  '> 2</td><tr>\n",
       "<tr><td style='padding-right:5px; padding-bottom:0px; padding-top:0px; width:124px'><font color='green'>        title</font> </td><td style='text-align:left; padding-bottom:0px; padding-top:0px; border:.5px solid lightgray;  '> distance</td><tr>\n",
       "<tr><td style='padding-right:5px; padding-bottom:0px; padding-top:0px; width:124px'><font color='green'>  coordinates</font> </td><td style='text-align:left; padding-bottom:0px; padding-top:0px; border:.5px solid lightgray;  '> <div><font color='blue'>[      10      100] m</font></div></td><tr>\n",
       "<tr><td style='padding-right:5px; padding-bottom:0px; padding-top:0px; width:124px'><strong>     DIMENSION `u`</strong></td><td style='text-align:left; padding-bottom:0px; padding-top:0px; padding-top:10px; '><hr/></td><tr>\n",
       "<tr><td style='padding-right:5px; padding-bottom:0px; padding-top:0px; width:124px'><font color='green'>         size</font> </td><td style='text-align:left; padding-bottom:0px; padding-top:0px; border:.5px solid lightgray;  '> 6</td><tr>\n",
       "<tr><td style='padding-right:5px; padding-bottom:0px; padding-top:0px; width:124px'><font color='green'>        title</font> </td><td style='text-align:left; padding-bottom:0px; padding-top:0px; border:.5px solid lightgray;  '> elapsed time</td><tr>\n",
       "<tr><td style='padding-right:5px; padding-bottom:0px; padding-top:0px; width:124px'><font color='green'>  coordinates</font> </td><td style='text-align:left; padding-bottom:0px; padding-top:0px; border:.5px solid lightgray;  '> <div><font color='blue'>[       0      200      400      600      800     1000] h</font></div></td><tr>\n",
       "<tr><td style='padding-right:5px; padding-bottom:0px; padding-top:0px; width:124px'><strong>     DIMENSION `v`</strong></td><td style='text-align:left; padding-bottom:0px; padding-top:0px; padding-top:10px; '><hr/></td><tr>\n",
       "<tr><td style='padding-right:5px; padding-bottom:0px; padding-top:0px; width:124px'><font color='green'>         size</font> </td><td style='text-align:left; padding-bottom:0px; padding-top:0px; border:.5px solid lightgray;  '> 4</td><tr>\n",
       "<tr><td style='padding-right:5px; padding-bottom:0px; padding-top:0px; width:124px'><font color='green'>        title</font> </td><td style='text-align:left; padding-bottom:0px; padding-top:0px; border:.5px solid lightgray;  '> temperature</td><tr>\n",
       "<tr><td style='padding-right:5px; padding-bottom:0px; padding-top:0px; width:124px'><font color='green'>  coordinates</font> </td><td style='text-align:left; padding-bottom:0px; padding-top:0px; border:.5px solid lightgray;  '> <div><font color='blue'>[      20    21.67    23.33       25] K</font></div></td><tr>\n",
       "</table>"
      ],
      "text/plain": [
       "NDDataset: [float64] unitless (shape: (t:2, v:4, u:6))"
      ]
     },
     "execution_count": 55,
     "metadata": {},
     "output_type": "execute_result"
    }
   ],
   "source": [
    "d3D.set_coordset({\"u\": coord2, \"v\": coord1, \"t\": coord0})\n",
    "d3D"
   ]
  },
  {
   "cell_type": "markdown",
   "id": "ec0a565a",
   "metadata": {},
   "source": [
    "## Adding several coordinates to a single dimension\n",
    "We can add several coordinates to the same dimension"
   ]
  },
  {
   "cell_type": "code",
   "execution_count": 56,
   "id": "dbb8a4d7",
   "metadata": {
    "execution": {
     "iopub.execute_input": "2025-02-12T23:21:03.002339Z",
     "iopub.status.busy": "2025-02-12T23:21:03.002138Z",
     "iopub.status.idle": "2025-02-12T23:21:03.006002Z",
     "shell.execute_reply": "2025-02-12T23:21:03.005330Z"
    }
   },
   "outputs": [],
   "source": [
    "coord1b = Coord([1, 2, 3, 4], units=\"millitesla\", title=\"magnetic field\")"
   ]
  },
  {
   "cell_type": "code",
   "execution_count": 57,
   "id": "267f2ccd",
   "metadata": {
    "execution": {
     "iopub.execute_input": "2025-02-12T23:21:03.008146Z",
     "iopub.status.busy": "2025-02-12T23:21:03.007633Z",
     "iopub.status.idle": "2025-02-12T23:21:03.025418Z",
     "shell.execute_reply": "2025-02-12T23:21:03.024773Z"
    }
   },
   "outputs": [
    {
     "data": {
      "text/html": [
       "<table style='background:transparent'>\n",
       "<tr><td style='padding-right:5px; padding-bottom:0px; padding-top:0px; width:124px'><font color='green'>         name</font> </td><td style='text-align:left; padding-bottom:0px; padding-top:0px; border:.5px solid lightgray;  '> 3D_dataset</td><tr>\n",
       "<tr><td style='padding-right:5px; padding-bottom:0px; padding-top:0px; width:124px'><font color='green'>       author</font> </td><td style='text-align:left; padding-bottom:0px; padding-top:0px; border:.5px solid lightgray;  '> Someone</td><tr>\n",
       "<tr><td style='padding-right:5px; padding-bottom:0px; padding-top:0px; width:124px'><font color='green'>      created</font> </td><td style='text-align:left; padding-bottom:0px; padding-top:0px; border:.5px solid lightgray;  '> 2025-02-12 23:21:02+00:00</td><tr>\n",
       "<tr><td style='padding-right:5px; padding-bottom:0px; padding-top:0px; width:124px'><font color='green'>  description</font> </td><td style='text-align:left; padding-bottom:0px; padding-top:0px; border:.5px solid lightgray;  '> <div>a single statement creation example</div></td><tr>\n",
       "<tr><td style='padding-right:5px; padding-bottom:0px; padding-top:0px; width:124px'><font color='green'>      history</font> </td><td style='text-align:left; padding-bottom:0px; padding-top:0px; border:.5px solid lightgray;  '> <div>2025-02-12 23:21:02+00:00> Created from scratch</div></td><tr>\n",
       "<tr><td style='padding-right:5px; padding-bottom:0px; padding-top:0px; width:124px'><strong>          DATA </strong></td><td style='text-align:left; padding-bottom:0px; padding-top:0px; padding-top:10px; '><hr/></td><tr>\n",
       "<tr><td style='padding-right:5px; padding-bottom:0px; padding-top:0px; width:124px'><font color='green'>        title</font> </td><td style='text-align:left; padding-bottom:0px; padding-top:0px; border:.5px solid lightgray;  '> Energy</td><tr>\n",
       "<tr><td style='padding-right:5px; padding-bottom:0px; padding-top:0px; width:124px'><font color='green'>       values</font> </td><td style='text-align:left; padding-bottom:0px; padding-top:0px; border:.5px solid lightgray;  '> <div><font color='blue'>         [[[   0.164   0.9365 ...   0.4008   0.4923]<br/>           [  0.2139   0.3074 ...   0.2605    0.562]<br/>           [ 0.07699   0.3609 ...   0.4141   0.1073]<br/>           [  0.2037   0.3726 ...   0.1487   0.6037]]<br/><br/>          [[  0.3881   0.4777 ...   0.2281   0.7669]<br/>           [ 0.06873      0.2 ...   0.5199   0.7288]<br/>           [  0.2233   0.3144 ...   0.8081   0.3282]<br/>           [  0.2258   0.8783 ...   0.4655   0.4265]]]</font></div></td><tr>\n",
       "<tr><td style='padding-right:5px; padding-bottom:0px; padding-top:0px; width:124px'><font color='green'>        shape</font> </td><td style='text-align:left; padding-bottom:0px; padding-top:0px; border:.5px solid lightgray;  '> (t:2, v:4, u:6)</td><tr>\n",
       "<tr><td style='padding-right:5px; padding-bottom:0px; padding-top:0px; width:124px'><strong>     DIMENSION `t`</strong></td><td style='text-align:left; padding-bottom:0px; padding-top:0px; padding-top:10px; '><hr/></td><tr>\n",
       "<tr><td style='padding-right:5px; padding-bottom:0px; padding-top:0px; width:124px'><font color='green'>         size</font> </td><td style='text-align:left; padding-bottom:0px; padding-top:0px; border:.5px solid lightgray;  '> 2</td><tr>\n",
       "<tr><td style='padding-right:5px; padding-bottom:0px; padding-top:0px; width:124px'><font color='green'>        title</font> </td><td style='text-align:left; padding-bottom:0px; padding-top:0px; border:.5px solid lightgray;  '> distance</td><tr>\n",
       "<tr><td style='padding-right:5px; padding-bottom:0px; padding-top:0px; width:124px'><font color='green'>  coordinates</font> </td><td style='text-align:left; padding-bottom:0px; padding-top:0px; border:.5px solid lightgray;  '> <div><font color='blue'>[      10      100] m</font></div></td><tr>\n",
       "<tr><td style='padding-right:5px; padding-bottom:0px; padding-top:0px; width:124px'><strong>     DIMENSION `u`</strong></td><td style='text-align:left; padding-bottom:0px; padding-top:0px; padding-top:10px; '><hr/></td><tr>\n",
       "<tr><td style='padding-right:5px; padding-bottom:0px; padding-top:0px; width:124px'><font color='green'>         size</font> </td><td style='text-align:left; padding-bottom:0px; padding-top:0px; border:.5px solid lightgray;  '> 6</td><tr>\n",
       "<tr><td style='padding-right:5px; padding-bottom:0px; padding-top:0px; width:124px'><font color='green'>        title</font> </td><td style='text-align:left; padding-bottom:0px; padding-top:0px; border:.5px solid lightgray;  '> elapsed time</td><tr>\n",
       "<tr><td style='padding-right:5px; padding-bottom:0px; padding-top:0px; width:124px'><font color='green'>  coordinates</font> </td><td style='text-align:left; padding-bottom:0px; padding-top:0px; border:.5px solid lightgray;  '> <div><font color='blue'>[       0      200      400      600      800     1000] h</font></div></td><tr>\n",
       "<tr><td style='padding-right:5px; padding-bottom:0px; padding-top:0px; width:124px'><strong>     DIMENSION `v`</strong></td><td style='text-align:left; padding-bottom:0px; padding-top:0px; padding-top:10px; '><hr/></td><tr>\n",
       "<tr><td style='padding-right:5px; padding-bottom:0px; padding-top:0px; width:124px'><font color='green'>         size</font> </td><td style='text-align:left; padding-bottom:0px; padding-top:0px; border:.5px solid lightgray;  '> 4</td><tr>\n",
       "<tr><td style='padding-right:5px; padding-bottom:0px; padding-top:0px; width:124px'><strong>          (_1)</strong></td><td style='text-align:left; padding-bottom:0px; padding-top:0px; padding-top:10px; '><hr/></td><tr>\n",
       "<tr><td style='padding-right:5px; padding-bottom:0px; padding-top:0px; width:124px'><font color='green'>        title</font> </td><td style='text-align:left; padding-bottom:0px; padding-top:0px; border:.5px solid lightgray;  '> magnetic field</td><tr>\n",
       "<tr><td style='padding-right:5px; padding-bottom:0px; padding-top:0px; width:124px'><font color='green'>  coordinates</font> </td><td style='text-align:left; padding-bottom:0px; padding-top:0px; border:.5px solid lightgray;  '> <div><font color='blue'>[       1        2        3        4] mT</font></div></td><tr>\n",
       "<tr><td style='padding-right:5px; padding-bottom:0px; padding-top:0px; width:124px'><strong>          (_2)</strong></td><td style='text-align:left; padding-bottom:0px; padding-top:0px; padding-top:10px; '><hr/></td><tr>\n",
       "<tr><td style='padding-right:5px; padding-bottom:0px; padding-top:0px; width:124px'><font color='green'>        title</font> </td><td style='text-align:left; padding-bottom:0px; padding-top:0px; border:.5px solid lightgray;  '> temperature</td><tr>\n",
       "<tr><td style='padding-right:5px; padding-bottom:0px; padding-top:0px; width:124px'><font color='green'>  coordinates</font> </td><td style='text-align:left; padding-bottom:0px; padding-top:0px; border:.5px solid lightgray;  '> <div><font color='blue'>[      20    21.67    23.33       25] K</font></div></td><tr>\n",
       "</table>"
      ],
      "text/plain": [
       "NDDataset: [float64] unitless (shape: (t:2, v:4, u:6))"
      ]
     },
     "execution_count": 57,
     "metadata": {},
     "output_type": "execute_result"
    }
   ],
   "source": [
    "d3D.set_coordset(u=coord2, v=[coord1, coord1b], t=coord0)\n",
    "d3D"
   ]
  },
  {
   "cell_type": "markdown",
   "id": "dc65139b",
   "metadata": {},
   "source": [
    "We can retrieve the various coordinates for a single dimension easily:"
   ]
  },
  {
   "cell_type": "code",
   "execution_count": 58,
   "id": "632237f8",
   "metadata": {
    "execution": {
     "iopub.execute_input": "2025-02-12T23:21:03.027451Z",
     "iopub.status.busy": "2025-02-12T23:21:03.027094Z",
     "iopub.status.idle": "2025-02-12T23:21:03.031805Z",
     "shell.execute_reply": "2025-02-12T23:21:03.031186Z"
    }
   },
   "outputs": [
    {
     "data": {
      "text/html": [
       "<table style='background:transparent'>\n",
       "<tr><td style='padding-right:5px; padding-bottom:0px; padding-top:0px; width:124px'><font color='green'>         size</font> </td><td style='text-align:left; padding-bottom:0px; padding-top:0px; border:.5px solid lightgray;  '> 4</td><tr>\n",
       "<tr><td style='padding-right:5px; padding-bottom:0px; padding-top:0px; width:124px'><font color='green'>        title</font> </td><td style='text-align:left; padding-bottom:0px; padding-top:0px; border:.5px solid lightgray;  '> magnetic field</td><tr>\n",
       "<tr><td style='padding-right:5px; padding-bottom:0px; padding-top:0px; width:124px'><font color='green'>  coordinates</font> </td><td style='text-align:left; padding-bottom:0px; padding-top:0px; border:.5px solid lightgray;  '> <div><font color='blue'>[       1        2        3        4] mT</font></div></td><tr>\n",
       "</table>"
      ],
      "text/plain": [
       "Coord: [float64] mT (size: 4)"
      ]
     },
     "execution_count": 58,
     "metadata": {},
     "output_type": "execute_result"
    }
   ],
   "source": [
    "d3D.v_1"
   ]
  },
  {
   "cell_type": "markdown",
   "id": "d74e9946",
   "metadata": {},
   "source": [
    "## Summary of the coordinate setting syntax\n",
    "Some additional information about coordinate setting syntax"
   ]
  },
  {
   "cell_type": "markdown",
   "id": "1787268a",
   "metadata": {},
   "source": [
    "**A.** First syntax (probably the safer because the name of the dimension is\n",
    "specified, so this is less prone to\n",
    "errors!)"
   ]
  },
  {
   "cell_type": "code",
   "execution_count": 59,
   "id": "dce770a1",
   "metadata": {
    "execution": {
     "iopub.execute_input": "2025-02-12T23:21:03.034118Z",
     "iopub.status.busy": "2025-02-12T23:21:03.033718Z",
     "iopub.status.idle": "2025-02-12T23:21:03.060601Z",
     "shell.execute_reply": "2025-02-12T23:21:03.060072Z"
    }
   },
   "outputs": [
    {
     "data": {
      "text/html": [
       "<table style='background:transparent'>\n",
       "<tr><td style='padding-right:5px; padding-bottom:0px; padding-top:0px; width:124px'><font color='green'>         name</font> </td><td style='text-align:left; padding-bottom:0px; padding-top:0px; border:.5px solid lightgray;  '> 3D_dataset</td><tr>\n",
       "<tr><td style='padding-right:5px; padding-bottom:0px; padding-top:0px; width:124px'><font color='green'>       author</font> </td><td style='text-align:left; padding-bottom:0px; padding-top:0px; border:.5px solid lightgray;  '> Someone</td><tr>\n",
       "<tr><td style='padding-right:5px; padding-bottom:0px; padding-top:0px; width:124px'><font color='green'>      created</font> </td><td style='text-align:left; padding-bottom:0px; padding-top:0px; border:.5px solid lightgray;  '> 2025-02-12 23:21:02+00:00</td><tr>\n",
       "<tr><td style='padding-right:5px; padding-bottom:0px; padding-top:0px; width:124px'><font color='green'>  description</font> </td><td style='text-align:left; padding-bottom:0px; padding-top:0px; border:.5px solid lightgray;  '> <div>a single statement creation example</div></td><tr>\n",
       "<tr><td style='padding-right:5px; padding-bottom:0px; padding-top:0px; width:124px'><font color='green'>      history</font> </td><td style='text-align:left; padding-bottom:0px; padding-top:0px; border:.5px solid lightgray;  '> <div>2025-02-12 23:21:02+00:00> Created from scratch</div></td><tr>\n",
       "<tr><td style='padding-right:5px; padding-bottom:0px; padding-top:0px; width:124px'><strong>          DATA </strong></td><td style='text-align:left; padding-bottom:0px; padding-top:0px; padding-top:10px; '><hr/></td><tr>\n",
       "<tr><td style='padding-right:5px; padding-bottom:0px; padding-top:0px; width:124px'><font color='green'>        title</font> </td><td style='text-align:left; padding-bottom:0px; padding-top:0px; border:.5px solid lightgray;  '> Energy</td><tr>\n",
       "<tr><td style='padding-right:5px; padding-bottom:0px; padding-top:0px; width:124px'><font color='green'>       values</font> </td><td style='text-align:left; padding-bottom:0px; padding-top:0px; border:.5px solid lightgray;  '> <div><font color='blue'>         [[[   0.164   0.9365 ...   0.4008   0.4923]<br/>           [  0.2139   0.3074 ...   0.2605    0.562]<br/>           [ 0.07699   0.3609 ...   0.4141   0.1073]<br/>           [  0.2037   0.3726 ...   0.1487   0.6037]]<br/><br/>          [[  0.3881   0.4777 ...   0.2281   0.7669]<br/>           [ 0.06873      0.2 ...   0.5199   0.7288]<br/>           [  0.2233   0.3144 ...   0.8081   0.3282]<br/>           [  0.2258   0.8783 ...   0.4655   0.4265]]]</font></div></td><tr>\n",
       "<tr><td style='padding-right:5px; padding-bottom:0px; padding-top:0px; width:124px'><font color='green'>        shape</font> </td><td style='text-align:left; padding-bottom:0px; padding-top:0px; border:.5px solid lightgray;  '> (t:2, v:4, u:6)</td><tr>\n",
       "<tr><td style='padding-right:5px; padding-bottom:0px; padding-top:0px; width:124px'><strong>     DIMENSION `t`</strong></td><td style='text-align:left; padding-bottom:0px; padding-top:0px; padding-top:10px; '><hr/></td><tr>\n",
       "<tr><td style='padding-right:5px; padding-bottom:0px; padding-top:0px; width:124px'><font color='green'>         size</font> </td><td style='text-align:left; padding-bottom:0px; padding-top:0px; border:.5px solid lightgray;  '> 2</td><tr>\n",
       "<tr><td style='padding-right:5px; padding-bottom:0px; padding-top:0px; width:124px'><font color='green'>        title</font> </td><td style='text-align:left; padding-bottom:0px; padding-top:0px; border:.5px solid lightgray;  '> distance</td><tr>\n",
       "<tr><td style='padding-right:5px; padding-bottom:0px; padding-top:0px; width:124px'><font color='green'>  coordinates</font> </td><td style='text-align:left; padding-bottom:0px; padding-top:0px; border:.5px solid lightgray;  '> <div><font color='blue'>[      10      100] m</font></div></td><tr>\n",
       "<tr><td style='padding-right:5px; padding-bottom:0px; padding-top:0px; width:124px'><strong>     DIMENSION `u`</strong></td><td style='text-align:left; padding-bottom:0px; padding-top:0px; padding-top:10px; '><hr/></td><tr>\n",
       "<tr><td style='padding-right:5px; padding-bottom:0px; padding-top:0px; width:124px'><font color='green'>         size</font> </td><td style='text-align:left; padding-bottom:0px; padding-top:0px; border:.5px solid lightgray;  '> 6</td><tr>\n",
       "<tr><td style='padding-right:5px; padding-bottom:0px; padding-top:0px; width:124px'><font color='green'>        title</font> </td><td style='text-align:left; padding-bottom:0px; padding-top:0px; border:.5px solid lightgray;  '> elapsed time</td><tr>\n",
       "<tr><td style='padding-right:5px; padding-bottom:0px; padding-top:0px; width:124px'><font color='green'>  coordinates</font> </td><td style='text-align:left; padding-bottom:0px; padding-top:0px; border:.5px solid lightgray;  '> <div><font color='blue'>[       0      200      400      600      800     1000] h</font></div></td><tr>\n",
       "<tr><td style='padding-right:5px; padding-bottom:0px; padding-top:0px; width:124px'><strong>     DIMENSION `v`</strong></td><td style='text-align:left; padding-bottom:0px; padding-top:0px; padding-top:10px; '><hr/></td><tr>\n",
       "<tr><td style='padding-right:5px; padding-bottom:0px; padding-top:0px; width:124px'><font color='green'>         size</font> </td><td style='text-align:left; padding-bottom:0px; padding-top:0px; border:.5px solid lightgray;  '> 4</td><tr>\n",
       "<tr><td style='padding-right:5px; padding-bottom:0px; padding-top:0px; width:124px'><strong>          (_1)</strong></td><td style='text-align:left; padding-bottom:0px; padding-top:0px; padding-top:10px; '><hr/></td><tr>\n",
       "<tr><td style='padding-right:5px; padding-bottom:0px; padding-top:0px; width:124px'><font color='green'>        title</font> </td><td style='text-align:left; padding-bottom:0px; padding-top:0px; border:.5px solid lightgray;  '> magnetic field</td><tr>\n",
       "<tr><td style='padding-right:5px; padding-bottom:0px; padding-top:0px; width:124px'><font color='green'>  coordinates</font> </td><td style='text-align:left; padding-bottom:0px; padding-top:0px; border:.5px solid lightgray;  '> <div><font color='blue'>[       1        2        3        4] mT</font></div></td><tr>\n",
       "<tr><td style='padding-right:5px; padding-bottom:0px; padding-top:0px; width:124px'><strong>          (_2)</strong></td><td style='text-align:left; padding-bottom:0px; padding-top:0px; padding-top:10px; '><hr/></td><tr>\n",
       "<tr><td style='padding-right:5px; padding-bottom:0px; padding-top:0px; width:124px'><font color='green'>        title</font> </td><td style='text-align:left; padding-bottom:0px; padding-top:0px; border:.5px solid lightgray;  '> temperature</td><tr>\n",
       "<tr><td style='padding-right:5px; padding-bottom:0px; padding-top:0px; width:124px'><font color='green'>  coordinates</font> </td><td style='text-align:left; padding-bottom:0px; padding-top:0px; border:.5px solid lightgray;  '> <div><font color='blue'>[      20    21.67    23.33       25] K</font></div></td><tr>\n",
       "</table>"
      ],
      "text/plain": [
       "NDDataset: [float64] unitless (shape: (t:2, v:4, u:6))"
      ]
     },
     "execution_count": 59,
     "metadata": {},
     "output_type": "execute_result"
    }
   ],
   "source": [
    "d3D.set_coordset(u=coord2, v=[coord1, coord1b], t=coord0)\n",
    "# or equivalent\n",
    "d3D.set_coordset(u=coord2, v=CoordSet(coord1, coord1b), t=coord0)\n",
    "d3D"
   ]
  },
  {
   "cell_type": "markdown",
   "id": "a973dda1",
   "metadata": {},
   "source": [
    "**B.** Second syntax assuming the coordinates are given in the order of the\n",
    "dimensions.\n",
    "\n",
    "Remember that we can check this order using the `dims` attribute of a NDDataset"
   ]
  },
  {
   "cell_type": "code",
   "execution_count": 60,
   "id": "a88e44b3",
   "metadata": {
    "execution": {
     "iopub.execute_input": "2025-02-12T23:21:03.062592Z",
     "iopub.status.busy": "2025-02-12T23:21:03.062208Z",
     "iopub.status.idle": "2025-02-12T23:21:03.066338Z",
     "shell.execute_reply": "2025-02-12T23:21:03.065790Z"
    }
   },
   "outputs": [
    {
     "data": {
      "text/plain": [
       "['t', 'v', 'u']"
      ]
     },
     "execution_count": 60,
     "metadata": {},
     "output_type": "execute_result"
    }
   ],
   "source": [
    "d3D.dims"
   ]
  },
  {
   "cell_type": "code",
   "execution_count": 61,
   "id": "5aa27421",
   "metadata": {
    "execution": {
     "iopub.execute_input": "2025-02-12T23:21:03.068253Z",
     "iopub.status.busy": "2025-02-12T23:21:03.067844Z",
     "iopub.status.idle": "2025-02-12T23:21:03.099197Z",
     "shell.execute_reply": "2025-02-12T23:21:03.098653Z"
    }
   },
   "outputs": [
    {
     "data": {
      "text/html": [
       "<table style='background:transparent'>\n",
       "<tr><td style='padding-right:5px; padding-bottom:0px; padding-top:0px; width:124px'><font color='green'>         name</font> </td><td style='text-align:left; padding-bottom:0px; padding-top:0px; border:.5px solid lightgray;  '> 3D_dataset</td><tr>\n",
       "<tr><td style='padding-right:5px; padding-bottom:0px; padding-top:0px; width:124px'><font color='green'>       author</font> </td><td style='text-align:left; padding-bottom:0px; padding-top:0px; border:.5px solid lightgray;  '> Someone</td><tr>\n",
       "<tr><td style='padding-right:5px; padding-bottom:0px; padding-top:0px; width:124px'><font color='green'>      created</font> </td><td style='text-align:left; padding-bottom:0px; padding-top:0px; border:.5px solid lightgray;  '> 2025-02-12 23:21:02+00:00</td><tr>\n",
       "<tr><td style='padding-right:5px; padding-bottom:0px; padding-top:0px; width:124px'><font color='green'>  description</font> </td><td style='text-align:left; padding-bottom:0px; padding-top:0px; border:.5px solid lightgray;  '> <div>a single statement creation example</div></td><tr>\n",
       "<tr><td style='padding-right:5px; padding-bottom:0px; padding-top:0px; width:124px'><font color='green'>      history</font> </td><td style='text-align:left; padding-bottom:0px; padding-top:0px; border:.5px solid lightgray;  '> <div>2025-02-12 23:21:02+00:00> Created from scratch</div></td><tr>\n",
       "<tr><td style='padding-right:5px; padding-bottom:0px; padding-top:0px; width:124px'><strong>          DATA </strong></td><td style='text-align:left; padding-bottom:0px; padding-top:0px; padding-top:10px; '><hr/></td><tr>\n",
       "<tr><td style='padding-right:5px; padding-bottom:0px; padding-top:0px; width:124px'><font color='green'>        title</font> </td><td style='text-align:left; padding-bottom:0px; padding-top:0px; border:.5px solid lightgray;  '> Energy</td><tr>\n",
       "<tr><td style='padding-right:5px; padding-bottom:0px; padding-top:0px; width:124px'><font color='green'>       values</font> </td><td style='text-align:left; padding-bottom:0px; padding-top:0px; border:.5px solid lightgray;  '> <div><font color='blue'>         [[[   0.164   0.9365 ...   0.4008   0.4923]<br/>           [  0.2139   0.3074 ...   0.2605    0.562]<br/>           [ 0.07699   0.3609 ...   0.4141   0.1073]<br/>           [  0.2037   0.3726 ...   0.1487   0.6037]]<br/><br/>          [[  0.3881   0.4777 ...   0.2281   0.7669]<br/>           [ 0.06873      0.2 ...   0.5199   0.7288]<br/>           [  0.2233   0.3144 ...   0.8081   0.3282]<br/>           [  0.2258   0.8783 ...   0.4655   0.4265]]]</font></div></td><tr>\n",
       "<tr><td style='padding-right:5px; padding-bottom:0px; padding-top:0px; width:124px'><font color='green'>        shape</font> </td><td style='text-align:left; padding-bottom:0px; padding-top:0px; border:.5px solid lightgray;  '> (t:2, v:4, u:6)</td><tr>\n",
       "<tr><td style='padding-right:5px; padding-bottom:0px; padding-top:0px; width:124px'><strong>     DIMENSION `t`</strong></td><td style='text-align:left; padding-bottom:0px; padding-top:0px; padding-top:10px; '><hr/></td><tr>\n",
       "<tr><td style='padding-right:5px; padding-bottom:0px; padding-top:0px; width:124px'><font color='green'>         size</font> </td><td style='text-align:left; padding-bottom:0px; padding-top:0px; border:.5px solid lightgray;  '> 2</td><tr>\n",
       "<tr><td style='padding-right:5px; padding-bottom:0px; padding-top:0px; width:124px'><font color='green'>        title</font> </td><td style='text-align:left; padding-bottom:0px; padding-top:0px; border:.5px solid lightgray;  '> distance</td><tr>\n",
       "<tr><td style='padding-right:5px; padding-bottom:0px; padding-top:0px; width:124px'><font color='green'>  coordinates</font> </td><td style='text-align:left; padding-bottom:0px; padding-top:0px; border:.5px solid lightgray;  '> <div><font color='blue'>[      10      100] m</font></div></td><tr>\n",
       "<tr><td style='padding-right:5px; padding-bottom:0px; padding-top:0px; width:124px'><strong>     DIMENSION `u`</strong></td><td style='text-align:left; padding-bottom:0px; padding-top:0px; padding-top:10px; '><hr/></td><tr>\n",
       "<tr><td style='padding-right:5px; padding-bottom:0px; padding-top:0px; width:124px'><font color='green'>         size</font> </td><td style='text-align:left; padding-bottom:0px; padding-top:0px; border:.5px solid lightgray;  '> 6</td><tr>\n",
       "<tr><td style='padding-right:5px; padding-bottom:0px; padding-top:0px; width:124px'><font color='green'>        title</font> </td><td style='text-align:left; padding-bottom:0px; padding-top:0px; border:.5px solid lightgray;  '> elapsed time</td><tr>\n",
       "<tr><td style='padding-right:5px; padding-bottom:0px; padding-top:0px; width:124px'><font color='green'>  coordinates</font> </td><td style='text-align:left; padding-bottom:0px; padding-top:0px; border:.5px solid lightgray;  '> <div><font color='blue'>[       0      200      400      600      800     1000] h</font></div></td><tr>\n",
       "<tr><td style='padding-right:5px; padding-bottom:0px; padding-top:0px; width:124px'><strong>     DIMENSION `v`</strong></td><td style='text-align:left; padding-bottom:0px; padding-top:0px; padding-top:10px; '><hr/></td><tr>\n",
       "<tr><td style='padding-right:5px; padding-bottom:0px; padding-top:0px; width:124px'><font color='green'>         size</font> </td><td style='text-align:left; padding-bottom:0px; padding-top:0px; border:.5px solid lightgray;  '> 4</td><tr>\n",
       "<tr><td style='padding-right:5px; padding-bottom:0px; padding-top:0px; width:124px'><strong>          (_1)</strong></td><td style='text-align:left; padding-bottom:0px; padding-top:0px; padding-top:10px; '><hr/></td><tr>\n",
       "<tr><td style='padding-right:5px; padding-bottom:0px; padding-top:0px; width:124px'><font color='green'>        title</font> </td><td style='text-align:left; padding-bottom:0px; padding-top:0px; border:.5px solid lightgray;  '> magnetic field</td><tr>\n",
       "<tr><td style='padding-right:5px; padding-bottom:0px; padding-top:0px; width:124px'><font color='green'>  coordinates</font> </td><td style='text-align:left; padding-bottom:0px; padding-top:0px; border:.5px solid lightgray;  '> <div><font color='blue'>[       1        2        3        4] mT</font></div></td><tr>\n",
       "<tr><td style='padding-right:5px; padding-bottom:0px; padding-top:0px; width:124px'><strong>          (_2)</strong></td><td style='text-align:left; padding-bottom:0px; padding-top:0px; padding-top:10px; '><hr/></td><tr>\n",
       "<tr><td style='padding-right:5px; padding-bottom:0px; padding-top:0px; width:124px'><font color='green'>        title</font> </td><td style='text-align:left; padding-bottom:0px; padding-top:0px; border:.5px solid lightgray;  '> temperature</td><tr>\n",
       "<tr><td style='padding-right:5px; padding-bottom:0px; padding-top:0px; width:124px'><font color='green'>  coordinates</font> </td><td style='text-align:left; padding-bottom:0px; padding-top:0px; border:.5px solid lightgray;  '> <div><font color='blue'>[      20    21.67    23.33       25] K</font></div></td><tr>\n",
       "</table>"
      ],
      "text/plain": [
       "NDDataset: [float64] unitless (shape: (t:2, v:4, u:6))"
      ]
     },
     "execution_count": 61,
     "metadata": {},
     "output_type": "execute_result"
    }
   ],
   "source": [
    "d3D.set_coordset((coord0, [coord1, coord1b], coord2))\n",
    "# or equivalent\n",
    "d3D.set_coordset(coord0, CoordSet(coord1, coord1b), coord2)\n",
    "d3D"
   ]
  },
  {
   "cell_type": "markdown",
   "id": "d1742c6a",
   "metadata": {},
   "source": [
    "**C.** Third syntax (from a dictionary)"
   ]
  },
  {
   "cell_type": "code",
   "execution_count": 62,
   "id": "47e0f8df",
   "metadata": {
    "execution": {
     "iopub.execute_input": "2025-02-12T23:21:03.101216Z",
     "iopub.status.busy": "2025-02-12T23:21:03.100805Z",
     "iopub.status.idle": "2025-02-12T23:21:03.115250Z",
     "shell.execute_reply": "2025-02-12T23:21:03.114585Z"
    }
   },
   "outputs": [
    {
     "data": {
      "text/html": [
       "<table style='background:transparent'>\n",
       "<tr><td style='padding-right:5px; padding-bottom:0px; padding-top:0px; width:124px'><font color='green'>         name</font> </td><td style='text-align:left; padding-bottom:0px; padding-top:0px; border:.5px solid lightgray;  '> 3D_dataset</td><tr>\n",
       "<tr><td style='padding-right:5px; padding-bottom:0px; padding-top:0px; width:124px'><font color='green'>       author</font> </td><td style='text-align:left; padding-bottom:0px; padding-top:0px; border:.5px solid lightgray;  '> Someone</td><tr>\n",
       "<tr><td style='padding-right:5px; padding-bottom:0px; padding-top:0px; width:124px'><font color='green'>      created</font> </td><td style='text-align:left; padding-bottom:0px; padding-top:0px; border:.5px solid lightgray;  '> 2025-02-12 23:21:02+00:00</td><tr>\n",
       "<tr><td style='padding-right:5px; padding-bottom:0px; padding-top:0px; width:124px'><font color='green'>  description</font> </td><td style='text-align:left; padding-bottom:0px; padding-top:0px; border:.5px solid lightgray;  '> <div>a single statement creation example</div></td><tr>\n",
       "<tr><td style='padding-right:5px; padding-bottom:0px; padding-top:0px; width:124px'><font color='green'>      history</font> </td><td style='text-align:left; padding-bottom:0px; padding-top:0px; border:.5px solid lightgray;  '> <div>2025-02-12 23:21:02+00:00> Created from scratch</div></td><tr>\n",
       "<tr><td style='padding-right:5px; padding-bottom:0px; padding-top:0px; width:124px'><strong>          DATA </strong></td><td style='text-align:left; padding-bottom:0px; padding-top:0px; padding-top:10px; '><hr/></td><tr>\n",
       "<tr><td style='padding-right:5px; padding-bottom:0px; padding-top:0px; width:124px'><font color='green'>        title</font> </td><td style='text-align:left; padding-bottom:0px; padding-top:0px; border:.5px solid lightgray;  '> Energy</td><tr>\n",
       "<tr><td style='padding-right:5px; padding-bottom:0px; padding-top:0px; width:124px'><font color='green'>       values</font> </td><td style='text-align:left; padding-bottom:0px; padding-top:0px; border:.5px solid lightgray;  '> <div><font color='blue'>         [[[   0.164   0.9365 ...   0.4008   0.4923]<br/>           [  0.2139   0.3074 ...   0.2605    0.562]<br/>           [ 0.07699   0.3609 ...   0.4141   0.1073]<br/>           [  0.2037   0.3726 ...   0.1487   0.6037]]<br/><br/>          [[  0.3881   0.4777 ...   0.2281   0.7669]<br/>           [ 0.06873      0.2 ...   0.5199   0.7288]<br/>           [  0.2233   0.3144 ...   0.8081   0.3282]<br/>           [  0.2258   0.8783 ...   0.4655   0.4265]]]</font></div></td><tr>\n",
       "<tr><td style='padding-right:5px; padding-bottom:0px; padding-top:0px; width:124px'><font color='green'>        shape</font> </td><td style='text-align:left; padding-bottom:0px; padding-top:0px; border:.5px solid lightgray;  '> (t:2, v:4, u:6)</td><tr>\n",
       "<tr><td style='padding-right:5px; padding-bottom:0px; padding-top:0px; width:124px'><strong>     DIMENSION `t`</strong></td><td style='text-align:left; padding-bottom:0px; padding-top:0px; padding-top:10px; '><hr/></td><tr>\n",
       "<tr><td style='padding-right:5px; padding-bottom:0px; padding-top:0px; width:124px'><font color='green'>         size</font> </td><td style='text-align:left; padding-bottom:0px; padding-top:0px; border:.5px solid lightgray;  '> 2</td><tr>\n",
       "<tr><td style='padding-right:5px; padding-bottom:0px; padding-top:0px; width:124px'><font color='green'>        title</font> </td><td style='text-align:left; padding-bottom:0px; padding-top:0px; border:.5px solid lightgray;  '> distance</td><tr>\n",
       "<tr><td style='padding-right:5px; padding-bottom:0px; padding-top:0px; width:124px'><font color='green'>  coordinates</font> </td><td style='text-align:left; padding-bottom:0px; padding-top:0px; border:.5px solid lightgray;  '> <div><font color='blue'>[      10      100] m</font></div></td><tr>\n",
       "<tr><td style='padding-right:5px; padding-bottom:0px; padding-top:0px; width:124px'><strong>     DIMENSION `u`</strong></td><td style='text-align:left; padding-bottom:0px; padding-top:0px; padding-top:10px; '><hr/></td><tr>\n",
       "<tr><td style='padding-right:5px; padding-bottom:0px; padding-top:0px; width:124px'><font color='green'>         size</font> </td><td style='text-align:left; padding-bottom:0px; padding-top:0px; border:.5px solid lightgray;  '> 6</td><tr>\n",
       "<tr><td style='padding-right:5px; padding-bottom:0px; padding-top:0px; width:124px'><font color='green'>        title</font> </td><td style='text-align:left; padding-bottom:0px; padding-top:0px; border:.5px solid lightgray;  '> elapsed time</td><tr>\n",
       "<tr><td style='padding-right:5px; padding-bottom:0px; padding-top:0px; width:124px'><font color='green'>  coordinates</font> </td><td style='text-align:left; padding-bottom:0px; padding-top:0px; border:.5px solid lightgray;  '> <div><font color='blue'>[       0      200      400      600      800     1000] h</font></div></td><tr>\n",
       "<tr><td style='padding-right:5px; padding-bottom:0px; padding-top:0px; width:124px'><strong>     DIMENSION `v`</strong></td><td style='text-align:left; padding-bottom:0px; padding-top:0px; padding-top:10px; '><hr/></td><tr>\n",
       "<tr><td style='padding-right:5px; padding-bottom:0px; padding-top:0px; width:124px'><font color='green'>         size</font> </td><td style='text-align:left; padding-bottom:0px; padding-top:0px; border:.5px solid lightgray;  '> 4</td><tr>\n",
       "<tr><td style='padding-right:5px; padding-bottom:0px; padding-top:0px; width:124px'><strong>          (_1)</strong></td><td style='text-align:left; padding-bottom:0px; padding-top:0px; padding-top:10px; '><hr/></td><tr>\n",
       "<tr><td style='padding-right:5px; padding-bottom:0px; padding-top:0px; width:124px'><font color='green'>        title</font> </td><td style='text-align:left; padding-bottom:0px; padding-top:0px; border:.5px solid lightgray;  '> magnetic field</td><tr>\n",
       "<tr><td style='padding-right:5px; padding-bottom:0px; padding-top:0px; width:124px'><font color='green'>  coordinates</font> </td><td style='text-align:left; padding-bottom:0px; padding-top:0px; border:.5px solid lightgray;  '> <div><font color='blue'>[       1        2        3        4] mT</font></div></td><tr>\n",
       "<tr><td style='padding-right:5px; padding-bottom:0px; padding-top:0px; width:124px'><strong>          (_2)</strong></td><td style='text-align:left; padding-bottom:0px; padding-top:0px; padding-top:10px; '><hr/></td><tr>\n",
       "<tr><td style='padding-right:5px; padding-bottom:0px; padding-top:0px; width:124px'><font color='green'>        title</font> </td><td style='text-align:left; padding-bottom:0px; padding-top:0px; border:.5px solid lightgray;  '> temperature</td><tr>\n",
       "<tr><td style='padding-right:5px; padding-bottom:0px; padding-top:0px; width:124px'><font color='green'>  coordinates</font> </td><td style='text-align:left; padding-bottom:0px; padding-top:0px; border:.5px solid lightgray;  '> <div><font color='blue'>[      20    21.67    23.33       25] K</font></div></td><tr>\n",
       "</table>"
      ],
      "text/plain": [
       "NDDataset: [float64] unitless (shape: (t:2, v:4, u:6))"
      ]
     },
     "execution_count": 62,
     "metadata": {},
     "output_type": "execute_result"
    }
   ],
   "source": [
    "d3D.set_coordset({\"t\": coord0, \"u\": coord2, \"v\": [coord1, coord1b]})\n",
    "d3D"
   ]
  },
  {
   "cell_type": "markdown",
   "id": "ac2b23b4",
   "metadata": {},
   "source": [
    "**D.** It is also possible to use directly the `CoordSet` property"
   ]
  },
  {
   "cell_type": "code",
   "execution_count": 63,
   "id": "4bd104a6",
   "metadata": {
    "execution": {
     "iopub.execute_input": "2025-02-12T23:21:03.117131Z",
     "iopub.status.busy": "2025-02-12T23:21:03.116945Z",
     "iopub.status.idle": "2025-02-12T23:21:03.134768Z",
     "shell.execute_reply": "2025-02-12T23:21:03.134145Z"
    }
   },
   "outputs": [
    {
     "data": {
      "text/html": [
       "<table style='background:transparent'>\n",
       "<tr><td style='padding-right:5px; padding-bottom:0px; padding-top:0px; width:124px'><font color='green'>         name</font> </td><td style='text-align:left; padding-bottom:0px; padding-top:0px; border:.5px solid lightgray;  '> 3D_dataset</td><tr>\n",
       "<tr><td style='padding-right:5px; padding-bottom:0px; padding-top:0px; width:124px'><font color='green'>       author</font> </td><td style='text-align:left; padding-bottom:0px; padding-top:0px; border:.5px solid lightgray;  '> Someone</td><tr>\n",
       "<tr><td style='padding-right:5px; padding-bottom:0px; padding-top:0px; width:124px'><font color='green'>      created</font> </td><td style='text-align:left; padding-bottom:0px; padding-top:0px; border:.5px solid lightgray;  '> 2025-02-12 23:21:02+00:00</td><tr>\n",
       "<tr><td style='padding-right:5px; padding-bottom:0px; padding-top:0px; width:124px'><font color='green'>  description</font> </td><td style='text-align:left; padding-bottom:0px; padding-top:0px; border:.5px solid lightgray;  '> <div>a single statement creation example</div></td><tr>\n",
       "<tr><td style='padding-right:5px; padding-bottom:0px; padding-top:0px; width:124px'><font color='green'>      history</font> </td><td style='text-align:left; padding-bottom:0px; padding-top:0px; border:.5px solid lightgray;  '> <div>2025-02-12 23:21:02+00:00> Created from scratch</div></td><tr>\n",
       "<tr><td style='padding-right:5px; padding-bottom:0px; padding-top:0px; width:124px'><strong>          DATA </strong></td><td style='text-align:left; padding-bottom:0px; padding-top:0px; padding-top:10px; '><hr/></td><tr>\n",
       "<tr><td style='padding-right:5px; padding-bottom:0px; padding-top:0px; width:124px'><font color='green'>        title</font> </td><td style='text-align:left; padding-bottom:0px; padding-top:0px; border:.5px solid lightgray;  '> Energy</td><tr>\n",
       "<tr><td style='padding-right:5px; padding-bottom:0px; padding-top:0px; width:124px'><font color='green'>       values</font> </td><td style='text-align:left; padding-bottom:0px; padding-top:0px; border:.5px solid lightgray;  '> <div><font color='blue'>         [[[   0.164   0.9365 ...   0.4008   0.4923]<br/>           [  0.2139   0.3074 ...   0.2605    0.562]<br/>           [ 0.07699   0.3609 ...   0.4141   0.1073]<br/>           [  0.2037   0.3726 ...   0.1487   0.6037]]<br/><br/>          [[  0.3881   0.4777 ...   0.2281   0.7669]<br/>           [ 0.06873      0.2 ...   0.5199   0.7288]<br/>           [  0.2233   0.3144 ...   0.8081   0.3282]<br/>           [  0.2258   0.8783 ...   0.4655   0.4265]]]</font></div></td><tr>\n",
       "<tr><td style='padding-right:5px; padding-bottom:0px; padding-top:0px; width:124px'><font color='green'>        shape</font> </td><td style='text-align:left; padding-bottom:0px; padding-top:0px; border:.5px solid lightgray;  '> (t:2, v:4, u:6)</td><tr>\n",
       "<tr><td style='padding-right:5px; padding-bottom:0px; padding-top:0px; width:124px'><strong>     DIMENSION `t`</strong></td><td style='text-align:left; padding-bottom:0px; padding-top:0px; padding-top:10px; '><hr/></td><tr>\n",
       "<tr><td style='padding-right:5px; padding-bottom:0px; padding-top:0px; width:124px'><font color='green'>         size</font> </td><td style='text-align:left; padding-bottom:0px; padding-top:0px; border:.5px solid lightgray;  '> 2</td><tr>\n",
       "<tr><td style='padding-right:5px; padding-bottom:0px; padding-top:0px; width:124px'><font color='green'>        title</font> </td><td style='text-align:left; padding-bottom:0px; padding-top:0px; border:.5px solid lightgray;  '> distance</td><tr>\n",
       "<tr><td style='padding-right:5px; padding-bottom:0px; padding-top:0px; width:124px'><font color='green'>  coordinates</font> </td><td style='text-align:left; padding-bottom:0px; padding-top:0px; border:.5px solid lightgray;  '> <div><font color='blue'>[      10      100] m</font></div></td><tr>\n",
       "<tr><td style='padding-right:5px; padding-bottom:0px; padding-top:0px; width:124px'><strong>     DIMENSION `u`</strong></td><td style='text-align:left; padding-bottom:0px; padding-top:0px; padding-top:10px; '><hr/></td><tr>\n",
       "<tr><td style='padding-right:5px; padding-bottom:0px; padding-top:0px; width:124px'><font color='green'>         size</font> </td><td style='text-align:left; padding-bottom:0px; padding-top:0px; border:.5px solid lightgray;  '> 6</td><tr>\n",
       "<tr><td style='padding-right:5px; padding-bottom:0px; padding-top:0px; width:124px'><font color='green'>        title</font> </td><td style='text-align:left; padding-bottom:0px; padding-top:0px; border:.5px solid lightgray;  '> elapsed time</td><tr>\n",
       "<tr><td style='padding-right:5px; padding-bottom:0px; padding-top:0px; width:124px'><font color='green'>  coordinates</font> </td><td style='text-align:left; padding-bottom:0px; padding-top:0px; border:.5px solid lightgray;  '> <div><font color='blue'>[       0      200      400      600      800     1000] h</font></div></td><tr>\n",
       "<tr><td style='padding-right:5px; padding-bottom:0px; padding-top:0px; width:124px'><strong>     DIMENSION `v`</strong></td><td style='text-align:left; padding-bottom:0px; padding-top:0px; padding-top:10px; '><hr/></td><tr>\n",
       "<tr><td style='padding-right:5px; padding-bottom:0px; padding-top:0px; width:124px'><font color='green'>         size</font> </td><td style='text-align:left; padding-bottom:0px; padding-top:0px; border:.5px solid lightgray;  '> 4</td><tr>\n",
       "<tr><td style='padding-right:5px; padding-bottom:0px; padding-top:0px; width:124px'><strong>          (_1)</strong></td><td style='text-align:left; padding-bottom:0px; padding-top:0px; padding-top:10px; '><hr/></td><tr>\n",
       "<tr><td style='padding-right:5px; padding-bottom:0px; padding-top:0px; width:124px'><font color='green'>        title</font> </td><td style='text-align:left; padding-bottom:0px; padding-top:0px; border:.5px solid lightgray;  '> temperature</td><tr>\n",
       "<tr><td style='padding-right:5px; padding-bottom:0px; padding-top:0px; width:124px'><font color='green'>  coordinates</font> </td><td style='text-align:left; padding-bottom:0px; padding-top:0px; border:.5px solid lightgray;  '> <div><font color='blue'>[      20    21.67    23.33       25] K</font></div></td><tr>\n",
       "<tr><td style='padding-right:5px; padding-bottom:0px; padding-top:0px; width:124px'><strong>          (_2)</strong></td><td style='text-align:left; padding-bottom:0px; padding-top:0px; padding-top:10px; '><hr/></td><tr>\n",
       "<tr><td style='padding-right:5px; padding-bottom:0px; padding-top:0px; width:124px'><font color='green'>        title</font> </td><td style='text-align:left; padding-bottom:0px; padding-top:0px; border:.5px solid lightgray;  '> magnetic field</td><tr>\n",
       "<tr><td style='padding-right:5px; padding-bottom:0px; padding-top:0px; width:124px'><font color='green'>  coordinates</font> </td><td style='text-align:left; padding-bottom:0px; padding-top:0px; border:.5px solid lightgray;  '> <div><font color='blue'>[       1        2        3        4] mT</font></div></td><tr>\n",
       "</table>"
      ],
      "text/plain": [
       "NDDataset: [float64] unitless (shape: (t:2, v:4, u:6))"
      ]
     },
     "execution_count": 63,
     "metadata": {},
     "output_type": "execute_result"
    }
   ],
   "source": [
    "d3D.coordset = coord0, [coord1, coord1b], coord2\n",
    "d3D"
   ]
  },
  {
   "cell_type": "code",
   "execution_count": 64,
   "id": "dfa13754",
   "metadata": {
    "execution": {
     "iopub.execute_input": "2025-02-12T23:21:03.136859Z",
     "iopub.status.busy": "2025-02-12T23:21:03.136483Z",
     "iopub.status.idle": "2025-02-12T23:21:03.150927Z",
     "shell.execute_reply": "2025-02-12T23:21:03.150389Z"
    }
   },
   "outputs": [
    {
     "data": {
      "text/html": [
       "<table style='background:transparent'>\n",
       "<tr><td style='padding-right:5px; padding-bottom:0px; padding-top:0px; width:124px'><font color='green'>         name</font> </td><td style='text-align:left; padding-bottom:0px; padding-top:0px; border:.5px solid lightgray;  '> 3D_dataset</td><tr>\n",
       "<tr><td style='padding-right:5px; padding-bottom:0px; padding-top:0px; width:124px'><font color='green'>       author</font> </td><td style='text-align:left; padding-bottom:0px; padding-top:0px; border:.5px solid lightgray;  '> Someone</td><tr>\n",
       "<tr><td style='padding-right:5px; padding-bottom:0px; padding-top:0px; width:124px'><font color='green'>      created</font> </td><td style='text-align:left; padding-bottom:0px; padding-top:0px; border:.5px solid lightgray;  '> 2025-02-12 23:21:02+00:00</td><tr>\n",
       "<tr><td style='padding-right:5px; padding-bottom:0px; padding-top:0px; width:124px'><font color='green'>  description</font> </td><td style='text-align:left; padding-bottom:0px; padding-top:0px; border:.5px solid lightgray;  '> <div>a single statement creation example</div></td><tr>\n",
       "<tr><td style='padding-right:5px; padding-bottom:0px; padding-top:0px; width:124px'><font color='green'>      history</font> </td><td style='text-align:left; padding-bottom:0px; padding-top:0px; border:.5px solid lightgray;  '> <div>2025-02-12 23:21:02+00:00> Created from scratch</div></td><tr>\n",
       "<tr><td style='padding-right:5px; padding-bottom:0px; padding-top:0px; width:124px'><strong>          DATA </strong></td><td style='text-align:left; padding-bottom:0px; padding-top:0px; padding-top:10px; '><hr/></td><tr>\n",
       "<tr><td style='padding-right:5px; padding-bottom:0px; padding-top:0px; width:124px'><font color='green'>        title</font> </td><td style='text-align:left; padding-bottom:0px; padding-top:0px; border:.5px solid lightgray;  '> Energy</td><tr>\n",
       "<tr><td style='padding-right:5px; padding-bottom:0px; padding-top:0px; width:124px'><font color='green'>       values</font> </td><td style='text-align:left; padding-bottom:0px; padding-top:0px; border:.5px solid lightgray;  '> <div><font color='blue'>         [[[   0.164   0.9365 ...   0.4008   0.4923]<br/>           [  0.2139   0.3074 ...   0.2605    0.562]<br/>           [ 0.07699   0.3609 ...   0.4141   0.1073]<br/>           [  0.2037   0.3726 ...   0.1487   0.6037]]<br/><br/>          [[  0.3881   0.4777 ...   0.2281   0.7669]<br/>           [ 0.06873      0.2 ...   0.5199   0.7288]<br/>           [  0.2233   0.3144 ...   0.8081   0.3282]<br/>           [  0.2258   0.8783 ...   0.4655   0.4265]]]</font></div></td><tr>\n",
       "<tr><td style='padding-right:5px; padding-bottom:0px; padding-top:0px; width:124px'><font color='green'>        shape</font> </td><td style='text-align:left; padding-bottom:0px; padding-top:0px; border:.5px solid lightgray;  '> (t:2, v:4, u:6)</td><tr>\n",
       "<tr><td style='padding-right:5px; padding-bottom:0px; padding-top:0px; width:124px'><strong>     DIMENSION `t`</strong></td><td style='text-align:left; padding-bottom:0px; padding-top:0px; padding-top:10px; '><hr/></td><tr>\n",
       "<tr><td style='padding-right:5px; padding-bottom:0px; padding-top:0px; width:124px'><font color='green'>         size</font> </td><td style='text-align:left; padding-bottom:0px; padding-top:0px; border:.5px solid lightgray;  '> 2</td><tr>\n",
       "<tr><td style='padding-right:5px; padding-bottom:0px; padding-top:0px; width:124px'><font color='green'>        title</font> </td><td style='text-align:left; padding-bottom:0px; padding-top:0px; border:.5px solid lightgray;  '> distance</td><tr>\n",
       "<tr><td style='padding-right:5px; padding-bottom:0px; padding-top:0px; width:124px'><font color='green'>  coordinates</font> </td><td style='text-align:left; padding-bottom:0px; padding-top:0px; border:.5px solid lightgray;  '> <div><font color='blue'>[      10      100] m</font></div></td><tr>\n",
       "<tr><td style='padding-right:5px; padding-bottom:0px; padding-top:0px; width:124px'><strong>     DIMENSION `u`</strong></td><td style='text-align:left; padding-bottom:0px; padding-top:0px; padding-top:10px; '><hr/></td><tr>\n",
       "<tr><td style='padding-right:5px; padding-bottom:0px; padding-top:0px; width:124px'><font color='green'>         size</font> </td><td style='text-align:left; padding-bottom:0px; padding-top:0px; border:.5px solid lightgray;  '> 6</td><tr>\n",
       "<tr><td style='padding-right:5px; padding-bottom:0px; padding-top:0px; width:124px'><font color='green'>        title</font> </td><td style='text-align:left; padding-bottom:0px; padding-top:0px; border:.5px solid lightgray;  '> elapsed time</td><tr>\n",
       "<tr><td style='padding-right:5px; padding-bottom:0px; padding-top:0px; width:124px'><font color='green'>  coordinates</font> </td><td style='text-align:left; padding-bottom:0px; padding-top:0px; border:.5px solid lightgray;  '> <div><font color='blue'>[       0      200      400      600      800     1000] h</font></div></td><tr>\n",
       "<tr><td style='padding-right:5px; padding-bottom:0px; padding-top:0px; width:124px'><strong>     DIMENSION `v`</strong></td><td style='text-align:left; padding-bottom:0px; padding-top:0px; padding-top:10px; '><hr/></td><tr>\n",
       "<tr><td style='padding-right:5px; padding-bottom:0px; padding-top:0px; width:124px'><font color='green'>         size</font> </td><td style='text-align:left; padding-bottom:0px; padding-top:0px; border:.5px solid lightgray;  '> 4</td><tr>\n",
       "<tr><td style='padding-right:5px; padding-bottom:0px; padding-top:0px; width:124px'><strong>          (_1)</strong></td><td style='text-align:left; padding-bottom:0px; padding-top:0px; padding-top:10px; '><hr/></td><tr>\n",
       "<tr><td style='padding-right:5px; padding-bottom:0px; padding-top:0px; width:124px'><font color='green'>        title</font> </td><td style='text-align:left; padding-bottom:0px; padding-top:0px; border:.5px solid lightgray;  '> magnetic field</td><tr>\n",
       "<tr><td style='padding-right:5px; padding-bottom:0px; padding-top:0px; width:124px'><font color='green'>  coordinates</font> </td><td style='text-align:left; padding-bottom:0px; padding-top:0px; border:.5px solid lightgray;  '> <div><font color='blue'>[       1        2        3        4] mT</font></div></td><tr>\n",
       "<tr><td style='padding-right:5px; padding-bottom:0px; padding-top:0px; width:124px'><strong>          (_2)</strong></td><td style='text-align:left; padding-bottom:0px; padding-top:0px; padding-top:10px; '><hr/></td><tr>\n",
       "<tr><td style='padding-right:5px; padding-bottom:0px; padding-top:0px; width:124px'><font color='green'>        title</font> </td><td style='text-align:left; padding-bottom:0px; padding-top:0px; border:.5px solid lightgray;  '> temperature</td><tr>\n",
       "<tr><td style='padding-right:5px; padding-bottom:0px; padding-top:0px; width:124px'><font color='green'>  coordinates</font> </td><td style='text-align:left; padding-bottom:0px; padding-top:0px; border:.5px solid lightgray;  '> <div><font color='blue'>[      20    21.67    23.33       25] K</font></div></td><tr>\n",
       "</table>"
      ],
      "text/plain": [
       "NDDataset: [float64] unitless (shape: (t:2, v:4, u:6))"
      ]
     },
     "execution_count": 64,
     "metadata": {},
     "output_type": "execute_result"
    }
   ],
   "source": [
    "d3D.coordset = {\"t\": coord0, \"u\": coord2, \"v\": [coord1, coord1b]}\n",
    "d3D"
   ]
  },
  {
   "cell_type": "code",
   "execution_count": 65,
   "id": "9f5cc108",
   "metadata": {
    "execution": {
     "iopub.execute_input": "2025-02-12T23:21:03.152767Z",
     "iopub.status.busy": "2025-02-12T23:21:03.152565Z",
     "iopub.status.idle": "2025-02-12T23:21:03.172380Z",
     "shell.execute_reply": "2025-02-12T23:21:03.171736Z"
    }
   },
   "outputs": [
    {
     "data": {
      "text/html": [
       "<table style='background:transparent'>\n",
       "<tr><td style='padding-right:5px; padding-bottom:0px; padding-top:0px; width:124px'><font color='green'>         name</font> </td><td style='text-align:left; padding-bottom:0px; padding-top:0px; border:.5px solid lightgray;  '> 3D_dataset</td><tr>\n",
       "<tr><td style='padding-right:5px; padding-bottom:0px; padding-top:0px; width:124px'><font color='green'>       author</font> </td><td style='text-align:left; padding-bottom:0px; padding-top:0px; border:.5px solid lightgray;  '> Someone</td><tr>\n",
       "<tr><td style='padding-right:5px; padding-bottom:0px; padding-top:0px; width:124px'><font color='green'>      created</font> </td><td style='text-align:left; padding-bottom:0px; padding-top:0px; border:.5px solid lightgray;  '> 2025-02-12 23:21:02+00:00</td><tr>\n",
       "<tr><td style='padding-right:5px; padding-bottom:0px; padding-top:0px; width:124px'><font color='green'>  description</font> </td><td style='text-align:left; padding-bottom:0px; padding-top:0px; border:.5px solid lightgray;  '> <div>a single statement creation example</div></td><tr>\n",
       "<tr><td style='padding-right:5px; padding-bottom:0px; padding-top:0px; width:124px'><font color='green'>      history</font> </td><td style='text-align:left; padding-bottom:0px; padding-top:0px; border:.5px solid lightgray;  '> <div>2025-02-12 23:21:02+00:00> Created from scratch</div></td><tr>\n",
       "<tr><td style='padding-right:5px; padding-bottom:0px; padding-top:0px; width:124px'><strong>          DATA </strong></td><td style='text-align:left; padding-bottom:0px; padding-top:0px; padding-top:10px; '><hr/></td><tr>\n",
       "<tr><td style='padding-right:5px; padding-bottom:0px; padding-top:0px; width:124px'><font color='green'>        title</font> </td><td style='text-align:left; padding-bottom:0px; padding-top:0px; border:.5px solid lightgray;  '> Energy</td><tr>\n",
       "<tr><td style='padding-right:5px; padding-bottom:0px; padding-top:0px; width:124px'><font color='green'>       values</font> </td><td style='text-align:left; padding-bottom:0px; padding-top:0px; border:.5px solid lightgray;  '> <div><font color='blue'>         [[[   0.164   0.9365 ...   0.4008   0.4923]<br/>           [  0.2139   0.3074 ...   0.2605    0.562]<br/>           [ 0.07699   0.3609 ...   0.4141   0.1073]<br/>           [  0.2037   0.3726 ...   0.1487   0.6037]]<br/><br/>          [[  0.3881   0.4777 ...   0.2281   0.7669]<br/>           [ 0.06873      0.2 ...   0.5199   0.7288]<br/>           [  0.2233   0.3144 ...   0.8081   0.3282]<br/>           [  0.2258   0.8783 ...   0.4655   0.4265]]]</font></div></td><tr>\n",
       "<tr><td style='padding-right:5px; padding-bottom:0px; padding-top:0px; width:124px'><font color='green'>        shape</font> </td><td style='text-align:left; padding-bottom:0px; padding-top:0px; border:.5px solid lightgray;  '> (t:2, v:4, u:6)</td><tr>\n",
       "<tr><td style='padding-right:5px; padding-bottom:0px; padding-top:0px; width:124px'><strong>     DIMENSION `t`</strong></td><td style='text-align:left; padding-bottom:0px; padding-top:0px; padding-top:10px; '><hr/></td><tr>\n",
       "<tr><td style='padding-right:5px; padding-bottom:0px; padding-top:0px; width:124px'><font color='green'>         size</font> </td><td style='text-align:left; padding-bottom:0px; padding-top:0px; border:.5px solid lightgray;  '> 2</td><tr>\n",
       "<tr><td style='padding-right:5px; padding-bottom:0px; padding-top:0px; width:124px'><font color='green'>        title</font> </td><td style='text-align:left; padding-bottom:0px; padding-top:0px; border:.5px solid lightgray;  '> distance</td><tr>\n",
       "<tr><td style='padding-right:5px; padding-bottom:0px; padding-top:0px; width:124px'><font color='green'>  coordinates</font> </td><td style='text-align:left; padding-bottom:0px; padding-top:0px; border:.5px solid lightgray;  '> <div><font color='blue'>[      10      100] m</font></div></td><tr>\n",
       "<tr><td style='padding-right:5px; padding-bottom:0px; padding-top:0px; width:124px'><strong>     DIMENSION `u`</strong></td><td style='text-align:left; padding-bottom:0px; padding-top:0px; padding-top:10px; '><hr/></td><tr>\n",
       "<tr><td style='padding-right:5px; padding-bottom:0px; padding-top:0px; width:124px'><font color='green'>         size</font> </td><td style='text-align:left; padding-bottom:0px; padding-top:0px; border:.5px solid lightgray;  '> 6</td><tr>\n",
       "<tr><td style='padding-right:5px; padding-bottom:0px; padding-top:0px; width:124px'><font color='green'>        title</font> </td><td style='text-align:left; padding-bottom:0px; padding-top:0px; border:.5px solid lightgray;  '> elapsed time</td><tr>\n",
       "<tr><td style='padding-right:5px; padding-bottom:0px; padding-top:0px; width:124px'><font color='green'>  coordinates</font> </td><td style='text-align:left; padding-bottom:0px; padding-top:0px; border:.5px solid lightgray;  '> <div><font color='blue'>[       0      200      400      600      800     1000] h</font></div></td><tr>\n",
       "<tr><td style='padding-right:5px; padding-bottom:0px; padding-top:0px; width:124px'><strong>     DIMENSION `v`</strong></td><td style='text-align:left; padding-bottom:0px; padding-top:0px; padding-top:10px; '><hr/></td><tr>\n",
       "<tr><td style='padding-right:5px; padding-bottom:0px; padding-top:0px; width:124px'><font color='green'>         size</font> </td><td style='text-align:left; padding-bottom:0px; padding-top:0px; border:.5px solid lightgray;  '> 4</td><tr>\n",
       "<tr><td style='padding-right:5px; padding-bottom:0px; padding-top:0px; width:124px'><strong>          (_1)</strong></td><td style='text-align:left; padding-bottom:0px; padding-top:0px; padding-top:10px; '><hr/></td><tr>\n",
       "<tr><td style='padding-right:5px; padding-bottom:0px; padding-top:0px; width:124px'><font color='green'>        title</font> </td><td style='text-align:left; padding-bottom:0px; padding-top:0px; border:.5px solid lightgray;  '> magnetic field</td><tr>\n",
       "<tr><td style='padding-right:5px; padding-bottom:0px; padding-top:0px; width:124px'><font color='green'>  coordinates</font> </td><td style='text-align:left; padding-bottom:0px; padding-top:0px; border:.5px solid lightgray;  '> <div><font color='blue'>[       1        2        3        4] mT</font></div></td><tr>\n",
       "<tr><td style='padding-right:5px; padding-bottom:0px; padding-top:0px; width:124px'><strong>          (_2)</strong></td><td style='text-align:left; padding-bottom:0px; padding-top:0px; padding-top:10px; '><hr/></td><tr>\n",
       "<tr><td style='padding-right:5px; padding-bottom:0px; padding-top:0px; width:124px'><font color='green'>        title</font> </td><td style='text-align:left; padding-bottom:0px; padding-top:0px; border:.5px solid lightgray;  '> temperature</td><tr>\n",
       "<tr><td style='padding-right:5px; padding-bottom:0px; padding-top:0px; width:124px'><font color='green'>  coordinates</font> </td><td style='text-align:left; padding-bottom:0px; padding-top:0px; border:.5px solid lightgray;  '> <div><font color='blue'>[      20    21.67    23.33       25] K</font></div></td><tr>\n",
       "</table>"
      ],
      "text/plain": [
       "NDDataset: [float64] unitless (shape: (t:2, v:4, u:6))"
      ]
     },
     "execution_count": 65,
     "metadata": {},
     "output_type": "execute_result"
    }
   ],
   "source": [
    "d3D.coordset = CoordSet(t=coord0, u=coord2, v=[coord1, coord1b])\n",
    "d3D"
   ]
  },
  {
   "cell_type": "markdown",
   "id": "6a8b4722",
   "metadata": {},
   "source": [
    "<div class='alert alert-warning'>\n",
    "<b>WARNING</b>\n",
    "\n",
    "Do not use list for setting multiples coordinates! use tuples\n",
    "</div>"
   ]
  },
  {
   "cell_type": "markdown",
   "id": "91677073",
   "metadata": {},
   "source": [
    "This raise an error (list have another signification: it's used to set a \"same dim\"\n",
    "CoordSet see example A or B)"
   ]
  },
  {
   "cell_type": "code",
   "execution_count": 66,
   "id": "006275ff",
   "metadata": {
    "execution": {
     "iopub.execute_input": "2025-02-12T23:21:03.174516Z",
     "iopub.status.busy": "2025-02-12T23:21:03.174161Z",
     "iopub.status.idle": "2025-02-12T23:21:03.187203Z",
     "shell.execute_reply": "2025-02-12T23:21:03.186560Z"
    }
   },
   "outputs": [
    {
     "name": "stderr",
     "output_type": "stream",
     "text": [
      " ERROR | ValueError: Coordinates must be of the same size for a dimension with multiple coordinates\n"
     ]
    }
   ],
   "source": [
    "try:\n",
    "    d3D.coordset = [coord0, coord1, coord2]\n",
    "except ValueError:\n",
    "    scp.error_(\n",
    "        ValueError,\n",
    "        \"Coordinates must be of the same size for a dimension with multiple coordinates\",\n",
    "    )"
   ]
  },
  {
   "cell_type": "markdown",
   "id": "a18d963b",
   "metadata": {},
   "source": [
    "This works : it uses a tuple `()` , not a list `[]`"
   ]
  },
  {
   "cell_type": "code",
   "execution_count": 67,
   "id": "7d0e4bac",
   "metadata": {
    "execution": {
     "iopub.execute_input": "2025-02-12T23:21:03.189241Z",
     "iopub.status.busy": "2025-02-12T23:21:03.188862Z",
     "iopub.status.idle": "2025-02-12T23:21:03.199694Z",
     "shell.execute_reply": "2025-02-12T23:21:03.199058Z"
    }
   },
   "outputs": [
    {
     "data": {
      "text/html": [
       "<table style='background:transparent'>\n",
       "<tr><td style='padding-right:5px; padding-bottom:0px; padding-top:0px; width:124px'><font color='green'>         name</font> </td><td style='text-align:left; padding-bottom:0px; padding-top:0px; border:.5px solid lightgray;  '> 3D_dataset</td><tr>\n",
       "<tr><td style='padding-right:5px; padding-bottom:0px; padding-top:0px; width:124px'><font color='green'>       author</font> </td><td style='text-align:left; padding-bottom:0px; padding-top:0px; border:.5px solid lightgray;  '> Someone</td><tr>\n",
       "<tr><td style='padding-right:5px; padding-bottom:0px; padding-top:0px; width:124px'><font color='green'>      created</font> </td><td style='text-align:left; padding-bottom:0px; padding-top:0px; border:.5px solid lightgray;  '> 2025-02-12 23:21:02+00:00</td><tr>\n",
       "<tr><td style='padding-right:5px; padding-bottom:0px; padding-top:0px; width:124px'><font color='green'>  description</font> </td><td style='text-align:left; padding-bottom:0px; padding-top:0px; border:.5px solid lightgray;  '> <div>a single statement creation example</div></td><tr>\n",
       "<tr><td style='padding-right:5px; padding-bottom:0px; padding-top:0px; width:124px'><font color='green'>      history</font> </td><td style='text-align:left; padding-bottom:0px; padding-top:0px; border:.5px solid lightgray;  '> <div>2025-02-12 23:21:02+00:00> Created from scratch</div></td><tr>\n",
       "<tr><td style='padding-right:5px; padding-bottom:0px; padding-top:0px; width:124px'><strong>          DATA </strong></td><td style='text-align:left; padding-bottom:0px; padding-top:0px; padding-top:10px; '><hr/></td><tr>\n",
       "<tr><td style='padding-right:5px; padding-bottom:0px; padding-top:0px; width:124px'><font color='green'>        title</font> </td><td style='text-align:left; padding-bottom:0px; padding-top:0px; border:.5px solid lightgray;  '> Energy</td><tr>\n",
       "<tr><td style='padding-right:5px; padding-bottom:0px; padding-top:0px; width:124px'><font color='green'>       values</font> </td><td style='text-align:left; padding-bottom:0px; padding-top:0px; border:.5px solid lightgray;  '> <div><font color='blue'>         [[[   0.164   0.9365 ...   0.4008   0.4923]<br/>           [  0.2139   0.3074 ...   0.2605    0.562]<br/>           [ 0.07699   0.3609 ...   0.4141   0.1073]<br/>           [  0.2037   0.3726 ...   0.1487   0.6037]]<br/><br/>          [[  0.3881   0.4777 ...   0.2281   0.7669]<br/>           [ 0.06873      0.2 ...   0.5199   0.7288]<br/>           [  0.2233   0.3144 ...   0.8081   0.3282]<br/>           [  0.2258   0.8783 ...   0.4655   0.4265]]]</font></div></td><tr>\n",
       "<tr><td style='padding-right:5px; padding-bottom:0px; padding-top:0px; width:124px'><font color='green'>        shape</font> </td><td style='text-align:left; padding-bottom:0px; padding-top:0px; border:.5px solid lightgray;  '> (t:2, v:4, u:6)</td><tr>\n",
       "<tr><td style='padding-right:5px; padding-bottom:0px; padding-top:0px; width:124px'><strong>     DIMENSION `t`</strong></td><td style='text-align:left; padding-bottom:0px; padding-top:0px; padding-top:10px; '><hr/></td><tr>\n",
       "<tr><td style='padding-right:5px; padding-bottom:0px; padding-top:0px; width:124px'><font color='green'>         size</font> </td><td style='text-align:left; padding-bottom:0px; padding-top:0px; border:.5px solid lightgray;  '> 2</td><tr>\n",
       "<tr><td style='padding-right:5px; padding-bottom:0px; padding-top:0px; width:124px'><font color='green'>        title</font> </td><td style='text-align:left; padding-bottom:0px; padding-top:0px; border:.5px solid lightgray;  '> distance</td><tr>\n",
       "<tr><td style='padding-right:5px; padding-bottom:0px; padding-top:0px; width:124px'><font color='green'>  coordinates</font> </td><td style='text-align:left; padding-bottom:0px; padding-top:0px; border:.5px solid lightgray;  '> <div><font color='blue'>[      10      100] m</font></div></td><tr>\n",
       "<tr><td style='padding-right:5px; padding-bottom:0px; padding-top:0px; width:124px'><strong>     DIMENSION `u`</strong></td><td style='text-align:left; padding-bottom:0px; padding-top:0px; padding-top:10px; '><hr/></td><tr>\n",
       "<tr><td style='padding-right:5px; padding-bottom:0px; padding-top:0px; width:124px'><font color='green'>         size</font> </td><td style='text-align:left; padding-bottom:0px; padding-top:0px; border:.5px solid lightgray;  '> 6</td><tr>\n",
       "<tr><td style='padding-right:5px; padding-bottom:0px; padding-top:0px; width:124px'><font color='green'>        title</font> </td><td style='text-align:left; padding-bottom:0px; padding-top:0px; border:.5px solid lightgray;  '> elapsed time</td><tr>\n",
       "<tr><td style='padding-right:5px; padding-bottom:0px; padding-top:0px; width:124px'><font color='green'>  coordinates</font> </td><td style='text-align:left; padding-bottom:0px; padding-top:0px; border:.5px solid lightgray;  '> <div><font color='blue'>[       0      200      400      600      800     1000] h</font></div></td><tr>\n",
       "<tr><td style='padding-right:5px; padding-bottom:0px; padding-top:0px; width:124px'><strong>     DIMENSION `v`</strong></td><td style='text-align:left; padding-bottom:0px; padding-top:0px; padding-top:10px; '><hr/></td><tr>\n",
       "<tr><td style='padding-right:5px; padding-bottom:0px; padding-top:0px; width:124px'><font color='green'>         size</font> </td><td style='text-align:left; padding-bottom:0px; padding-top:0px; border:.5px solid lightgray;  '> 4</td><tr>\n",
       "<tr><td style='padding-right:5px; padding-bottom:0px; padding-top:0px; width:124px'><font color='green'>        title</font> </td><td style='text-align:left; padding-bottom:0px; padding-top:0px; border:.5px solid lightgray;  '> temperature</td><tr>\n",
       "<tr><td style='padding-right:5px; padding-bottom:0px; padding-top:0px; width:124px'><font color='green'>  coordinates</font> </td><td style='text-align:left; padding-bottom:0px; padding-top:0px; border:.5px solid lightgray;  '> <div><font color='blue'>[      20    21.67    23.33       25] K</font></div></td><tr>\n",
       "</table>"
      ],
      "text/plain": [
       "NDDataset: [float64] unitless (shape: (t:2, v:4, u:6))"
      ]
     },
     "execution_count": 67,
     "metadata": {},
     "output_type": "execute_result"
    }
   ],
   "source": [
    "d3D.coordset = (\n",
    "    coord0,\n",
    "    coord1,\n",
    "    coord2,\n",
    ")  # equivalent to d3D.coordset = coord0, coord1, coord2\n",
    "d3D"
   ]
  },
  {
   "cell_type": "markdown",
   "id": "05f5b45e",
   "metadata": {},
   "source": [
    "**E.** Setting the coordinates individually"
   ]
  },
  {
   "cell_type": "markdown",
   "id": "480e14ee",
   "metadata": {},
   "source": [
    "Either a single coordinate"
   ]
  },
  {
   "cell_type": "code",
   "execution_count": 68,
   "id": "431ba0c6",
   "metadata": {
    "execution": {
     "iopub.execute_input": "2025-02-12T23:21:03.201692Z",
     "iopub.status.busy": "2025-02-12T23:21:03.201338Z",
     "iopub.status.idle": "2025-02-12T23:21:03.209391Z",
     "shell.execute_reply": "2025-02-12T23:21:03.208751Z"
    },
    "lines_to_next_cell": 0
   },
   "outputs": [
    {
     "data": {
      "text/html": [
       "<table style='background:transparent'>\n",
       "<tr><td style='padding-right:5px; padding-bottom:0px; padding-top:0px; width:124px'><font color='green'>         name</font> </td><td style='text-align:left; padding-bottom:0px; padding-top:0px; border:.5px solid lightgray;  '> 3D_dataset</td><tr>\n",
       "<tr><td style='padding-right:5px; padding-bottom:0px; padding-top:0px; width:124px'><font color='green'>       author</font> </td><td style='text-align:left; padding-bottom:0px; padding-top:0px; border:.5px solid lightgray;  '> Someone</td><tr>\n",
       "<tr><td style='padding-right:5px; padding-bottom:0px; padding-top:0px; width:124px'><font color='green'>      created</font> </td><td style='text-align:left; padding-bottom:0px; padding-top:0px; border:.5px solid lightgray;  '> 2025-02-12 23:21:02+00:00</td><tr>\n",
       "<tr><td style='padding-right:5px; padding-bottom:0px; padding-top:0px; width:124px'><font color='green'>  description</font> </td><td style='text-align:left; padding-bottom:0px; padding-top:0px; border:.5px solid lightgray;  '> <div>a single statement creation example</div></td><tr>\n",
       "<tr><td style='padding-right:5px; padding-bottom:0px; padding-top:0px; width:124px'><font color='green'>      history</font> </td><td style='text-align:left; padding-bottom:0px; padding-top:0px; border:.5px solid lightgray;  '> <div>2025-02-12 23:21:02+00:00> Created from scratch</div></td><tr>\n",
       "<tr><td style='padding-right:5px; padding-bottom:0px; padding-top:0px; width:124px'><strong>          DATA </strong></td><td style='text-align:left; padding-bottom:0px; padding-top:0px; padding-top:10px; '><hr/></td><tr>\n",
       "<tr><td style='padding-right:5px; padding-bottom:0px; padding-top:0px; width:124px'><font color='green'>        title</font> </td><td style='text-align:left; padding-bottom:0px; padding-top:0px; border:.5px solid lightgray;  '> Energy</td><tr>\n",
       "<tr><td style='padding-right:5px; padding-bottom:0px; padding-top:0px; width:124px'><font color='green'>       values</font> </td><td style='text-align:left; padding-bottom:0px; padding-top:0px; border:.5px solid lightgray;  '> <div><font color='blue'>         [[[   0.164   0.9365 ...   0.4008   0.4923]<br/>           [  0.2139   0.3074 ...   0.2605    0.562]<br/>           [ 0.07699   0.3609 ...   0.4141   0.1073]<br/>           [  0.2037   0.3726 ...   0.1487   0.6037]]<br/><br/>          [[  0.3881   0.4777 ...   0.2281   0.7669]<br/>           [ 0.06873      0.2 ...   0.5199   0.7288]<br/>           [  0.2233   0.3144 ...   0.8081   0.3282]<br/>           [  0.2258   0.8783 ...   0.4655   0.4265]]]</font></div></td><tr>\n",
       "<tr><td style='padding-right:5px; padding-bottom:0px; padding-top:0px; width:124px'><font color='green'>        shape</font> </td><td style='text-align:left; padding-bottom:0px; padding-top:0px; border:.5px solid lightgray;  '> (t:2, v:4, u:6)</td><tr>\n",
       "<tr><td style='padding-right:5px; padding-bottom:0px; padding-top:0px; width:124px'><strong>     DIMENSION `t`</strong></td><td style='text-align:left; padding-bottom:0px; padding-top:0px; padding-top:10px; '><hr/></td><tr>\n",
       "<tr><td style='padding-right:5px; padding-bottom:0px; padding-top:0px; width:124px'><font color='green'>         size</font> </td><td style='text-align:left; padding-bottom:0px; padding-top:0px; border:.5px solid lightgray;  '> 2</td><tr>\n",
       "<tr><td style='padding-right:5px; padding-bottom:0px; padding-top:0px; width:124px'><font color='green'>        title</font> </td><td style='text-align:left; padding-bottom:0px; padding-top:0px; border:.5px solid lightgray;  '> distance</td><tr>\n",
       "<tr><td style='padding-right:5px; padding-bottom:0px; padding-top:0px; width:124px'><font color='green'>  coordinates</font> </td><td style='text-align:left; padding-bottom:0px; padding-top:0px; border:.5px solid lightgray;  '> <div><font color='blue'>[      10      100] m</font></div></td><tr>\n",
       "<tr><td style='padding-right:5px; padding-bottom:0px; padding-top:0px; width:124px'><strong>     DIMENSION `u`</strong></td><td style='text-align:left; padding-bottom:0px; padding-top:0px; padding-top:10px; '><hr/></td><tr>\n",
       "<tr><td style='padding-right:5px; padding-bottom:0px; padding-top:0px; width:124px'><font color='green'>         size</font> </td><td style='text-align:left; padding-bottom:0px; padding-top:0px; border:.5px solid lightgray;  '> 6</td><tr>\n",
       "<tr><td style='padding-right:5px; padding-bottom:0px; padding-top:0px; width:124px'><font color='green'>        title</font> </td><td style='text-align:left; padding-bottom:0px; padding-top:0px; border:.5px solid lightgray;  '> elapsed time</td><tr>\n",
       "<tr><td style='padding-right:5px; padding-bottom:0px; padding-top:0px; width:124px'><font color='green'>  coordinates</font> </td><td style='text-align:left; padding-bottom:0px; padding-top:0px; border:.5px solid lightgray;  '> <div><font color='blue'>[       0      200      400      600      800     1000] h</font></div></td><tr>\n",
       "<tr><td style='padding-right:5px; padding-bottom:0px; padding-top:0px; width:124px'><strong>     DIMENSION `v`</strong></td><td style='text-align:left; padding-bottom:0px; padding-top:0px; padding-top:10px; '><hr/></td><tr>\n",
       "<tr><td style='padding-right:5px; padding-bottom:0px; padding-top:0px; width:124px'><font color='green'>         size</font> </td><td style='text-align:left; padding-bottom:0px; padding-top:0px; border:.5px solid lightgray;  '> 4</td><tr>\n",
       "<tr><td style='padding-right:5px; padding-bottom:0px; padding-top:0px; width:124px'><font color='green'>        title</font> </td><td style='text-align:left; padding-bottom:0px; padding-top:0px; border:.5px solid lightgray;  '> temperature</td><tr>\n",
       "<tr><td style='padding-right:5px; padding-bottom:0px; padding-top:0px; width:124px'><font color='green'>  coordinates</font> </td><td style='text-align:left; padding-bottom:0px; padding-top:0px; border:.5px solid lightgray;  '> <div><font color='blue'>[      20    21.67    23.33       25] K</font></div></td><tr>\n",
       "</table>"
      ],
      "text/plain": [
       "NDDataset: [float64] unitless (shape: (t:2, v:4, u:6))"
      ]
     },
     "execution_count": 68,
     "metadata": {},
     "output_type": "execute_result"
    }
   ],
   "source": [
    "d3D.u = coord2\n",
    "d3D"
   ]
  },
  {
   "cell_type": "markdown",
   "id": "91b4cbce",
   "metadata": {},
   "source": [
    "or multiple coordinates for a single dimension"
   ]
  },
  {
   "cell_type": "code",
   "execution_count": 69,
   "id": "7e4209e9",
   "metadata": {
    "execution": {
     "iopub.execute_input": "2025-02-12T23:21:03.211437Z",
     "iopub.status.busy": "2025-02-12T23:21:03.211063Z",
     "iopub.status.idle": "2025-02-12T23:21:03.229290Z",
     "shell.execute_reply": "2025-02-12T23:21:03.228638Z"
    },
    "lines_to_next_cell": 0
   },
   "outputs": [
    {
     "data": {
      "text/html": [
       "<table style='background:transparent'>\n",
       "<tr><td style='padding-right:5px; padding-bottom:0px; padding-top:0px; width:124px'><font color='green'>         name</font> </td><td style='text-align:left; padding-bottom:0px; padding-top:0px; border:.5px solid lightgray;  '> 3D_dataset</td><tr>\n",
       "<tr><td style='padding-right:5px; padding-bottom:0px; padding-top:0px; width:124px'><font color='green'>       author</font> </td><td style='text-align:left; padding-bottom:0px; padding-top:0px; border:.5px solid lightgray;  '> Someone</td><tr>\n",
       "<tr><td style='padding-right:5px; padding-bottom:0px; padding-top:0px; width:124px'><font color='green'>      created</font> </td><td style='text-align:left; padding-bottom:0px; padding-top:0px; border:.5px solid lightgray;  '> 2025-02-12 23:21:02+00:00</td><tr>\n",
       "<tr><td style='padding-right:5px; padding-bottom:0px; padding-top:0px; width:124px'><font color='green'>  description</font> </td><td style='text-align:left; padding-bottom:0px; padding-top:0px; border:.5px solid lightgray;  '> <div>a single statement creation example</div></td><tr>\n",
       "<tr><td style='padding-right:5px; padding-bottom:0px; padding-top:0px; width:124px'><font color='green'>      history</font> </td><td style='text-align:left; padding-bottom:0px; padding-top:0px; border:.5px solid lightgray;  '> <div>2025-02-12 23:21:02+00:00> Created from scratch</div></td><tr>\n",
       "<tr><td style='padding-right:5px; padding-bottom:0px; padding-top:0px; width:124px'><strong>          DATA </strong></td><td style='text-align:left; padding-bottom:0px; padding-top:0px; padding-top:10px; '><hr/></td><tr>\n",
       "<tr><td style='padding-right:5px; padding-bottom:0px; padding-top:0px; width:124px'><font color='green'>        title</font> </td><td style='text-align:left; padding-bottom:0px; padding-top:0px; border:.5px solid lightgray;  '> Energy</td><tr>\n",
       "<tr><td style='padding-right:5px; padding-bottom:0px; padding-top:0px; width:124px'><font color='green'>       values</font> </td><td style='text-align:left; padding-bottom:0px; padding-top:0px; border:.5px solid lightgray;  '> <div><font color='blue'>         [[[   0.164   0.9365 ...   0.4008   0.4923]<br/>           [  0.2139   0.3074 ...   0.2605    0.562]<br/>           [ 0.07699   0.3609 ...   0.4141   0.1073]<br/>           [  0.2037   0.3726 ...   0.1487   0.6037]]<br/><br/>          [[  0.3881   0.4777 ...   0.2281   0.7669]<br/>           [ 0.06873      0.2 ...   0.5199   0.7288]<br/>           [  0.2233   0.3144 ...   0.8081   0.3282]<br/>           [  0.2258   0.8783 ...   0.4655   0.4265]]]</font></div></td><tr>\n",
       "<tr><td style='padding-right:5px; padding-bottom:0px; padding-top:0px; width:124px'><font color='green'>        shape</font> </td><td style='text-align:left; padding-bottom:0px; padding-top:0px; border:.5px solid lightgray;  '> (t:2, v:4, u:6)</td><tr>\n",
       "<tr><td style='padding-right:5px; padding-bottom:0px; padding-top:0px; width:124px'><strong>     DIMENSION `t`</strong></td><td style='text-align:left; padding-bottom:0px; padding-top:0px; padding-top:10px; '><hr/></td><tr>\n",
       "<tr><td style='padding-right:5px; padding-bottom:0px; padding-top:0px; width:124px'><font color='green'>         size</font> </td><td style='text-align:left; padding-bottom:0px; padding-top:0px; border:.5px solid lightgray;  '> 2</td><tr>\n",
       "<tr><td style='padding-right:5px; padding-bottom:0px; padding-top:0px; width:124px'><font color='green'>        title</font> </td><td style='text-align:left; padding-bottom:0px; padding-top:0px; border:.5px solid lightgray;  '> distance</td><tr>\n",
       "<tr><td style='padding-right:5px; padding-bottom:0px; padding-top:0px; width:124px'><font color='green'>  coordinates</font> </td><td style='text-align:left; padding-bottom:0px; padding-top:0px; border:.5px solid lightgray;  '> <div><font color='blue'>[      10      100] m</font></div></td><tr>\n",
       "<tr><td style='padding-right:5px; padding-bottom:0px; padding-top:0px; width:124px'><strong>     DIMENSION `u`</strong></td><td style='text-align:left; padding-bottom:0px; padding-top:0px; padding-top:10px; '><hr/></td><tr>\n",
       "<tr><td style='padding-right:5px; padding-bottom:0px; padding-top:0px; width:124px'><font color='green'>         size</font> </td><td style='text-align:left; padding-bottom:0px; padding-top:0px; border:.5px solid lightgray;  '> 6</td><tr>\n",
       "<tr><td style='padding-right:5px; padding-bottom:0px; padding-top:0px; width:124px'><font color='green'>        title</font> </td><td style='text-align:left; padding-bottom:0px; padding-top:0px; border:.5px solid lightgray;  '> elapsed time</td><tr>\n",
       "<tr><td style='padding-right:5px; padding-bottom:0px; padding-top:0px; width:124px'><font color='green'>  coordinates</font> </td><td style='text-align:left; padding-bottom:0px; padding-top:0px; border:.5px solid lightgray;  '> <div><font color='blue'>[       0      200      400      600      800     1000] h</font></div></td><tr>\n",
       "<tr><td style='padding-right:5px; padding-bottom:0px; padding-top:0px; width:124px'><strong>     DIMENSION `v`</strong></td><td style='text-align:left; padding-bottom:0px; padding-top:0px; padding-top:10px; '><hr/></td><tr>\n",
       "<tr><td style='padding-right:5px; padding-bottom:0px; padding-top:0px; width:124px'><font color='green'>         size</font> </td><td style='text-align:left; padding-bottom:0px; padding-top:0px; border:.5px solid lightgray;  '> 4</td><tr>\n",
       "<tr><td style='padding-right:5px; padding-bottom:0px; padding-top:0px; width:124px'><strong>          (_1)</strong></td><td style='text-align:left; padding-bottom:0px; padding-top:0px; padding-top:10px; '><hr/></td><tr>\n",
       "<tr><td style='padding-right:5px; padding-bottom:0px; padding-top:0px; width:124px'><font color='green'>        title</font> </td><td style='text-align:left; padding-bottom:0px; padding-top:0px; border:.5px solid lightgray;  '> temperature</td><tr>\n",
       "<tr><td style='padding-right:5px; padding-bottom:0px; padding-top:0px; width:124px'><font color='green'>  coordinates</font> </td><td style='text-align:left; padding-bottom:0px; padding-top:0px; border:.5px solid lightgray;  '> <div><font color='blue'>[      20    21.67    23.33       25] K</font></div></td><tr>\n",
       "<tr><td style='padding-right:5px; padding-bottom:0px; padding-top:0px; width:124px'><strong>          (_2)</strong></td><td style='text-align:left; padding-bottom:0px; padding-top:0px; padding-top:10px; '><hr/></td><tr>\n",
       "<tr><td style='padding-right:5px; padding-bottom:0px; padding-top:0px; width:124px'><font color='green'>        title</font> </td><td style='text-align:left; padding-bottom:0px; padding-top:0px; border:.5px solid lightgray;  '> magnetic field</td><tr>\n",
       "<tr><td style='padding-right:5px; padding-bottom:0px; padding-top:0px; width:124px'><font color='green'>  coordinates</font> </td><td style='text-align:left; padding-bottom:0px; padding-top:0px; border:.5px solid lightgray;  '> <div><font color='blue'>[       1        2        3        4] mT</font></div></td><tr>\n",
       "</table>"
      ],
      "text/plain": [
       "NDDataset: [float64] unitless (shape: (t:2, v:4, u:6))"
      ]
     },
     "execution_count": 69,
     "metadata": {},
     "output_type": "execute_result"
    }
   ],
   "source": [
    "d3D.v = [coord1, coord1b]\n",
    "d3D"
   ]
  },
  {
   "cell_type": "markdown",
   "id": "e35ad365",
   "metadata": {},
   "source": [
    "or using a CoordSet object."
   ]
  },
  {
   "cell_type": "code",
   "execution_count": 70,
   "id": "694331a6",
   "metadata": {
    "execution": {
     "iopub.execute_input": "2025-02-12T23:21:03.231448Z",
     "iopub.status.busy": "2025-02-12T23:21:03.231085Z",
     "iopub.status.idle": "2025-02-12T23:21:03.254705Z",
     "shell.execute_reply": "2025-02-12T23:21:03.254075Z"
    }
   },
   "outputs": [
    {
     "data": {
      "text/html": [
       "<table style='background:transparent'>\n",
       "<tr><td style='padding-right:5px; padding-bottom:0px; padding-top:0px; width:124px'><font color='green'>         name</font> </td><td style='text-align:left; padding-bottom:0px; padding-top:0px; border:.5px solid lightgray;  '> 3D_dataset</td><tr>\n",
       "<tr><td style='padding-right:5px; padding-bottom:0px; padding-top:0px; width:124px'><font color='green'>       author</font> </td><td style='text-align:left; padding-bottom:0px; padding-top:0px; border:.5px solid lightgray;  '> Someone</td><tr>\n",
       "<tr><td style='padding-right:5px; padding-bottom:0px; padding-top:0px; width:124px'><font color='green'>      created</font> </td><td style='text-align:left; padding-bottom:0px; padding-top:0px; border:.5px solid lightgray;  '> 2025-02-12 23:21:02+00:00</td><tr>\n",
       "<tr><td style='padding-right:5px; padding-bottom:0px; padding-top:0px; width:124px'><font color='green'>  description</font> </td><td style='text-align:left; padding-bottom:0px; padding-top:0px; border:.5px solid lightgray;  '> <div>a single statement creation example</div></td><tr>\n",
       "<tr><td style='padding-right:5px; padding-bottom:0px; padding-top:0px; width:124px'><font color='green'>      history</font> </td><td style='text-align:left; padding-bottom:0px; padding-top:0px; border:.5px solid lightgray;  '> <div>2025-02-12 23:21:02+00:00> Created from scratch</div></td><tr>\n",
       "<tr><td style='padding-right:5px; padding-bottom:0px; padding-top:0px; width:124px'><strong>          DATA </strong></td><td style='text-align:left; padding-bottom:0px; padding-top:0px; padding-top:10px; '><hr/></td><tr>\n",
       "<tr><td style='padding-right:5px; padding-bottom:0px; padding-top:0px; width:124px'><font color='green'>        title</font> </td><td style='text-align:left; padding-bottom:0px; padding-top:0px; border:.5px solid lightgray;  '> Energy</td><tr>\n",
       "<tr><td style='padding-right:5px; padding-bottom:0px; padding-top:0px; width:124px'><font color='green'>       values</font> </td><td style='text-align:left; padding-bottom:0px; padding-top:0px; border:.5px solid lightgray;  '> <div><font color='blue'>         [[[   0.164   0.9365 ...   0.4008   0.4923]<br/>           [  0.2139   0.3074 ...   0.2605    0.562]<br/>           [ 0.07699   0.3609 ...   0.4141   0.1073]<br/>           [  0.2037   0.3726 ...   0.1487   0.6037]]<br/><br/>          [[  0.3881   0.4777 ...   0.2281   0.7669]<br/>           [ 0.06873      0.2 ...   0.5199   0.7288]<br/>           [  0.2233   0.3144 ...   0.8081   0.3282]<br/>           [  0.2258   0.8783 ...   0.4655   0.4265]]]</font></div></td><tr>\n",
       "<tr><td style='padding-right:5px; padding-bottom:0px; padding-top:0px; width:124px'><font color='green'>        shape</font> </td><td style='text-align:left; padding-bottom:0px; padding-top:0px; border:.5px solid lightgray;  '> (t:2, v:4, u:6)</td><tr>\n",
       "<tr><td style='padding-right:5px; padding-bottom:0px; padding-top:0px; width:124px'><strong>     DIMENSION `t`</strong></td><td style='text-align:left; padding-bottom:0px; padding-top:0px; padding-top:10px; '><hr/></td><tr>\n",
       "<tr><td style='padding-right:5px; padding-bottom:0px; padding-top:0px; width:124px'><font color='green'>         size</font> </td><td style='text-align:left; padding-bottom:0px; padding-top:0px; border:.5px solid lightgray;  '> 2</td><tr>\n",
       "<tr><td style='padding-right:5px; padding-bottom:0px; padding-top:0px; width:124px'><font color='green'>        title</font> </td><td style='text-align:left; padding-bottom:0px; padding-top:0px; border:.5px solid lightgray;  '> distance</td><tr>\n",
       "<tr><td style='padding-right:5px; padding-bottom:0px; padding-top:0px; width:124px'><font color='green'>  coordinates</font> </td><td style='text-align:left; padding-bottom:0px; padding-top:0px; border:.5px solid lightgray;  '> <div><font color='blue'>[      10      100] m</font></div></td><tr>\n",
       "<tr><td style='padding-right:5px; padding-bottom:0px; padding-top:0px; width:124px'><strong>     DIMENSION `u`</strong></td><td style='text-align:left; padding-bottom:0px; padding-top:0px; padding-top:10px; '><hr/></td><tr>\n",
       "<tr><td style='padding-right:5px; padding-bottom:0px; padding-top:0px; width:124px'><font color='green'>         size</font> </td><td style='text-align:left; padding-bottom:0px; padding-top:0px; border:.5px solid lightgray;  '> 6</td><tr>\n",
       "<tr><td style='padding-right:5px; padding-bottom:0px; padding-top:0px; width:124px'><font color='green'>        title</font> </td><td style='text-align:left; padding-bottom:0px; padding-top:0px; border:.5px solid lightgray;  '> elapsed time</td><tr>\n",
       "<tr><td style='padding-right:5px; padding-bottom:0px; padding-top:0px; width:124px'><font color='green'>  coordinates</font> </td><td style='text-align:left; padding-bottom:0px; padding-top:0px; border:.5px solid lightgray;  '> <div><font color='blue'>[       0      200      400      600      800     1000] h</font></div></td><tr>\n",
       "<tr><td style='padding-right:5px; padding-bottom:0px; padding-top:0px; width:124px'><strong>     DIMENSION `v`</strong></td><td style='text-align:left; padding-bottom:0px; padding-top:0px; padding-top:10px; '><hr/></td><tr>\n",
       "<tr><td style='padding-right:5px; padding-bottom:0px; padding-top:0px; width:124px'><font color='green'>         size</font> </td><td style='text-align:left; padding-bottom:0px; padding-top:0px; border:.5px solid lightgray;  '> 4</td><tr>\n",
       "<tr><td style='padding-right:5px; padding-bottom:0px; padding-top:0px; width:124px'><strong>          (_1)</strong></td><td style='text-align:left; padding-bottom:0px; padding-top:0px; padding-top:10px; '><hr/></td><tr>\n",
       "<tr><td style='padding-right:5px; padding-bottom:0px; padding-top:0px; width:124px'><font color='green'>        title</font> </td><td style='text-align:left; padding-bottom:0px; padding-top:0px; border:.5px solid lightgray;  '> magnetic field</td><tr>\n",
       "<tr><td style='padding-right:5px; padding-bottom:0px; padding-top:0px; width:124px'><font color='green'>  coordinates</font> </td><td style='text-align:left; padding-bottom:0px; padding-top:0px; border:.5px solid lightgray;  '> <div><font color='blue'>[       1        2        3        4] mT</font></div></td><tr>\n",
       "<tr><td style='padding-right:5px; padding-bottom:0px; padding-top:0px; width:124px'><strong>          (_2)</strong></td><td style='text-align:left; padding-bottom:0px; padding-top:0px; padding-top:10px; '><hr/></td><tr>\n",
       "<tr><td style='padding-right:5px; padding-bottom:0px; padding-top:0px; width:124px'><font color='green'>        title</font> </td><td style='text-align:left; padding-bottom:0px; padding-top:0px; border:.5px solid lightgray;  '> temperature</td><tr>\n",
       "<tr><td style='padding-right:5px; padding-bottom:0px; padding-top:0px; width:124px'><font color='green'>  coordinates</font> </td><td style='text-align:left; padding-bottom:0px; padding-top:0px; border:.5px solid lightgray;  '> <div><font color='blue'>[      20    21.67    23.33       25] K</font></div></td><tr>\n",
       "</table>"
      ],
      "text/plain": [
       "NDDataset: [float64] unitless (shape: (t:2, v:4, u:6))"
      ]
     },
     "execution_count": 70,
     "metadata": {},
     "output_type": "execute_result"
    }
   ],
   "source": [
    "d3D.v = CoordSet(coord1, coord1b)\n",
    "d3D"
   ]
  },
  {
   "cell_type": "markdown",
   "id": "e9626869",
   "metadata": {},
   "source": [
    "# Methods to create NDDataset\n",
    "\n",
    "There are many ways to create `NDDataset` objects.\n",
    "\n",
    "Let's first create 2 coordinate objects, for which we can define `labels` and `units`!\n",
    "Note the use of the function\n",
    "`linspace`to generate the data."
   ]
  },
  {
   "cell_type": "code",
   "execution_count": 71,
   "id": "db284e24",
   "metadata": {
    "execution": {
     "iopub.execute_input": "2025-02-12T23:21:03.256730Z",
     "iopub.status.busy": "2025-02-12T23:21:03.256371Z",
     "iopub.status.idle": "2025-02-12T23:21:03.260708Z",
     "shell.execute_reply": "2025-02-12T23:21:03.260073Z"
    }
   },
   "outputs": [],
   "source": [
    "c0 = Coord.linspace(\n",
    "    start=4000.0, stop=1000.0, num=5, labels=None, units=\"cm^-1\", title=\"wavenumber\"\n",
    ")"
   ]
  },
  {
   "cell_type": "code",
   "execution_count": 72,
   "id": "899967e6",
   "metadata": {
    "execution": {
     "iopub.execute_input": "2025-02-12T23:21:03.262621Z",
     "iopub.status.busy": "2025-02-12T23:21:03.262238Z",
     "iopub.status.idle": "2025-02-12T23:21:03.266409Z",
     "shell.execute_reply": "2025-02-12T23:21:03.265851Z"
    }
   },
   "outputs": [],
   "source": [
    "c1 = Coord.linspace(\n",
    "    10.0, 40.0, 3, labels=[\"Cold\", \"RT\", \"Hot\"], units=\"K\", title=\"temperature\"\n",
    ")"
   ]
  },
  {
   "cell_type": "markdown",
   "id": "6bfd8b15",
   "metadata": {},
   "source": [
    "The full coordset will be the following"
   ]
  },
  {
   "cell_type": "code",
   "execution_count": 73,
   "id": "77712d8f",
   "metadata": {
    "execution": {
     "iopub.execute_input": "2025-02-12T23:21:03.268395Z",
     "iopub.status.busy": "2025-02-12T23:21:03.268015Z",
     "iopub.status.idle": "2025-02-12T23:21:03.276303Z",
     "shell.execute_reply": "2025-02-12T23:21:03.275651Z"
    }
   },
   "outputs": [
    {
     "data": {
      "text/html": [
       "<table style='background:transparent'>\n",
       "<tr><td style='padding-right:5px; padding-bottom:0px; padding-top:0px; width:124px'><strong>     DIMENSION `x`</strong></td><td style='text-align:left; padding-bottom:0px; padding-top:0px; padding-top:10px; '><hr/></td><tr>\n",
       "<tr><td style='padding-right:5px; padding-bottom:0px; padding-top:0px; width:124px'><font color='green'>         size</font> </td><td style='text-align:left; padding-bottom:0px; padding-top:0px; border:.5px solid lightgray;  '> 3</td><tr>\n",
       "<tr><td style='padding-right:5px; padding-bottom:0px; padding-top:0px; width:124px'><font color='green'>        title</font> </td><td style='text-align:left; padding-bottom:0px; padding-top:0px; border:.5px solid lightgray;  '> temperature</td><tr>\n",
       "<tr><td style='padding-right:5px; padding-bottom:0px; padding-top:0px; width:124px'><font color='green'>  coordinates</font> </td><td style='text-align:left; padding-bottom:0px; padding-top:0px; border:.5px solid lightgray;  '> <div><font color='blue'>[      10       25       40] K</font></div></td><tr>\n",
       "<tr><td style='padding-right:5px; padding-bottom:0px; padding-top:0px; width:124px'><font color='green'>       labels</font> </td><td style='text-align:left; padding-bottom:0px; padding-top:0px; border:.5px solid lightgray;  '> <div><font color='darkcyan'>[  Cold   RT   Hot]</font></div> </td><tr>\n",
       "<tr><td style='padding-right:5px; padding-bottom:0px; padding-top:0px; width:124px'><strong>     DIMENSION `y`</strong></td><td style='text-align:left; padding-bottom:0px; padding-top:0px; padding-top:10px; '><hr/></td><tr>\n",
       "<tr><td style='padding-right:5px; padding-bottom:0px; padding-top:0px; width:124px'><font color='green'>         size</font> </td><td style='text-align:left; padding-bottom:0px; padding-top:0px; border:.5px solid lightgray;  '> 5</td><tr>\n",
       "<tr><td style='padding-right:5px; padding-bottom:0px; padding-top:0px; width:124px'><font color='green'>        title</font> </td><td style='text-align:left; padding-bottom:0px; padding-top:0px; border:.5px solid lightgray;  '> wavenumber</td><tr>\n",
       "<tr><td style='padding-right:5px; padding-bottom:0px; padding-top:0px; width:124px'><font color='green'>  coordinates</font> </td><td style='text-align:left; padding-bottom:0px; padding-top:0px; border:.5px solid lightgray;  '> <div><font color='blue'>[    4000     3250     2500     1750     1000] cm⁻¹</font></div></td><tr>\n",
       "</table>"
      ],
      "text/plain": [
       "CoordSet: [x:temperature, y:wavenumber]"
      ]
     },
     "execution_count": 73,
     "metadata": {},
     "output_type": "execute_result"
    }
   ],
   "source": [
    "cs = CoordSet(c0, c1)\n",
    "cs"
   ]
  },
  {
   "cell_type": "markdown",
   "id": "8386e340",
   "metadata": {},
   "source": [
    "Now we will generate the full dataset, using a `fromfunction` method.\n",
    "All needed information are passed as\n",
    "parameter of the NDDataset instance constructor."
   ]
  },
  {
   "cell_type": "markdown",
   "id": "f70216ce",
   "metadata": {},
   "source": [
    "## Create a dataset from a function"
   ]
  },
  {
   "cell_type": "code",
   "execution_count": 74,
   "id": "10237764",
   "metadata": {
    "execution": {
     "iopub.execute_input": "2025-02-12T23:21:03.278350Z",
     "iopub.status.busy": "2025-02-12T23:21:03.277962Z",
     "iopub.status.idle": "2025-02-12T23:21:03.280765Z",
     "shell.execute_reply": "2025-02-12T23:21:03.280253Z"
    }
   },
   "outputs": [],
   "source": [
    "def func(x, y, extra):\n",
    "    return x * y / extra"
   ]
  },
  {
   "cell_type": "code",
   "execution_count": 75,
   "id": "74d9d071",
   "metadata": {
    "execution": {
     "iopub.execute_input": "2025-02-12T23:21:03.282797Z",
     "iopub.status.busy": "2025-02-12T23:21:03.282422Z",
     "iopub.status.idle": "2025-02-12T23:21:03.296424Z",
     "shell.execute_reply": "2025-02-12T23:21:03.295912Z"
    }
   },
   "outputs": [
    {
     "data": {
      "text/html": [
       "<table style='background:transparent'>\n",
       "<tr><td style='padding-right:5px; padding-bottom:0px; padding-top:0px; width:124px'><font color='green'>         name</font> </td><td style='text-align:left; padding-bottom:0px; padding-top:0px; border:.5px solid lightgray;  '> mydataset</td><tr>\n",
       "<tr><td style='padding-right:5px; padding-bottom:0px; padding-top:0px; width:124px'><font color='green'>       author</font> </td><td style='text-align:left; padding-bottom:0px; padding-top:0px; border:.5px solid lightgray;  '> Blake & Mortimer</td><tr>\n",
       "<tr><td style='padding-right:5px; padding-bottom:0px; padding-top:0px; width:124px'><font color='green'>      created</font> </td><td style='text-align:left; padding-bottom:0px; padding-top:0px; border:.5px solid lightgray;  '> 2025-02-12 23:21:03+00:00</td><tr>\n",
       "<tr><td style='padding-right:5px; padding-bottom:0px; padding-top:0px; width:124px'><font color='green'>  description</font> </td><td style='text-align:left; padding-bottom:0px; padding-top:0px; border:.5px solid lightgray;  '> <div>Dataset example created for this tutorial.<br/>               It's a 2-D dataset</div></td><tr>\n",
       "<tr><td style='padding-right:5px; padding-bottom:0px; padding-top:0px; width:124px'><font color='green'>      history</font> </td><td style='text-align:left; padding-bottom:0px; padding-top:0px; border:.5px solid lightgray;  '> <div>2025-02-12 23:21:03+00:00> Created using method : fromfunction</div></td><tr>\n",
       "<tr><td style='padding-right:5px; padding-bottom:0px; padding-top:0px; width:124px'><strong>          DATA </strong></td><td style='text-align:left; padding-bottom:0px; padding-top:0px; padding-top:10px; '><hr/></td><tr>\n",
       "<tr><td style='padding-right:5px; padding-bottom:0px; padding-top:0px; width:124px'><font color='green'>        title</font> </td><td style='text-align:left; padding-bottom:0px; padding-top:0px; border:.5px solid lightgray;  '> absorbance</td><tr>\n",
       "<tr><td style='padding-right:5px; padding-bottom:0px; padding-top:0px; width:124px'><font color='green'>       values</font> </td><td style='text-align:left; padding-bottom:0px; padding-top:0px; border:.5px solid lightgray;  '> <div><font color='blue'>         [[     400     1000     1600]<br/>          [     325    812.5     1300]<br/>          ...<br/>          [     175    437.5      700]<br/>          [     100      250      400]] K</font></div></td><tr>\n",
       "<tr><td style='padding-right:5px; padding-bottom:0px; padding-top:0px; width:124px'><font color='green'>        shape</font> </td><td style='text-align:left; padding-bottom:0px; padding-top:0px; border:.5px solid lightgray;  '> (y:5, x:3)</td><tr>\n",
       "<tr><td style='padding-right:5px; padding-bottom:0px; padding-top:0px; width:124px'><strong>     DIMENSION `x`</strong></td><td style='text-align:left; padding-bottom:0px; padding-top:0px; padding-top:10px; '><hr/></td><tr>\n",
       "<tr><td style='padding-right:5px; padding-bottom:0px; padding-top:0px; width:124px'><font color='green'>         size</font> </td><td style='text-align:left; padding-bottom:0px; padding-top:0px; border:.5px solid lightgray;  '> 3</td><tr>\n",
       "<tr><td style='padding-right:5px; padding-bottom:0px; padding-top:0px; width:124px'><font color='green'>        title</font> </td><td style='text-align:left; padding-bottom:0px; padding-top:0px; border:.5px solid lightgray;  '> temperature</td><tr>\n",
       "<tr><td style='padding-right:5px; padding-bottom:0px; padding-top:0px; width:124px'><font color='green'>  coordinates</font> </td><td style='text-align:left; padding-bottom:0px; padding-top:0px; border:.5px solid lightgray;  '> <div><font color='blue'>[      10       25       40] K</font></div></td><tr>\n",
       "<tr><td style='padding-right:5px; padding-bottom:0px; padding-top:0px; width:124px'><font color='green'>       labels</font> </td><td style='text-align:left; padding-bottom:0px; padding-top:0px; border:.5px solid lightgray;  '> <div><font color='darkcyan'>[  Cold   RT   Hot]</font></div> </td><tr>\n",
       "<tr><td style='padding-right:5px; padding-bottom:0px; padding-top:0px; width:124px'><strong>     DIMENSION `y`</strong></td><td style='text-align:left; padding-bottom:0px; padding-top:0px; padding-top:10px; '><hr/></td><tr>\n",
       "<tr><td style='padding-right:5px; padding-bottom:0px; padding-top:0px; width:124px'><font color='green'>         size</font> </td><td style='text-align:left; padding-bottom:0px; padding-top:0px; border:.5px solid lightgray;  '> 5</td><tr>\n",
       "<tr><td style='padding-right:5px; padding-bottom:0px; padding-top:0px; width:124px'><font color='green'>        title</font> </td><td style='text-align:left; padding-bottom:0px; padding-top:0px; border:.5px solid lightgray;  '> wavenumber</td><tr>\n",
       "<tr><td style='padding-right:5px; padding-bottom:0px; padding-top:0px; width:124px'><font color='green'>  coordinates</font> </td><td style='text-align:left; padding-bottom:0px; padding-top:0px; border:.5px solid lightgray;  '> <div><font color='blue'>[    4000     3250     2500     1750     1000] cm⁻¹</font></div></td><tr>\n",
       "</table>"
      ],
      "text/plain": [
       "NDDataset: [float64] K (shape: (y:5, x:3))"
      ]
     },
     "execution_count": 75,
     "metadata": {},
     "output_type": "execute_result"
    }
   ],
   "source": [
    "ds = NDDataset.fromfunction(\n",
    "    func,\n",
    "    extra=100 * ur.cm**-1,  # extra arguments passed to the function\n",
    "    coordset=cs,\n",
    "    name=\"mydataset\",\n",
    "    title=\"absorbance\",\n",
    "    units=None,\n",
    ")  # when None, units will be determined from the function results\n",
    "\n",
    "ds.description = \"\"\"Dataset example created for this tutorial.\n",
    "It's a 2-D dataset\"\"\"\n",
    "\n",
    "ds.author = \"Blake & Mortimer\"\n",
    "ds"
   ]
  },
  {
   "cell_type": "markdown",
   "id": "f1250e40",
   "metadata": {},
   "source": [
    "## Using numpy-like constructors of NDDatasets"
   ]
  },
  {
   "cell_type": "code",
   "execution_count": 76,
   "id": "8289a7b0",
   "metadata": {
    "execution": {
     "iopub.execute_input": "2025-02-12T23:21:03.298412Z",
     "iopub.status.busy": "2025-02-12T23:21:03.298030Z",
     "iopub.status.idle": "2025-02-12T23:21:03.303532Z",
     "shell.execute_reply": "2025-02-12T23:21:03.303025Z"
    }
   },
   "outputs": [],
   "source": [
    "dz = NDDataset.zeros(\n",
    "    (5, 3), coordset=cs, units=\"meters\", title=\"Datasets with only zeros\"\n",
    ")"
   ]
  },
  {
   "cell_type": "code",
   "execution_count": 77,
   "id": "51a2f444",
   "metadata": {
    "execution": {
     "iopub.execute_input": "2025-02-12T23:21:03.305559Z",
     "iopub.status.busy": "2025-02-12T23:21:03.305185Z",
     "iopub.status.idle": "2025-02-12T23:21:03.311010Z",
     "shell.execute_reply": "2025-02-12T23:21:03.310339Z"
    }
   },
   "outputs": [],
   "source": [
    "do = NDDataset.ones(\n",
    "    (5, 3), coordset=cs, units=\"kilograms\", title=\"Datasets with only ones\"\n",
    ")"
   ]
  },
  {
   "cell_type": "code",
   "execution_count": 78,
   "id": "3e547849",
   "metadata": {
    "execution": {
     "iopub.execute_input": "2025-02-12T23:21:03.312919Z",
     "iopub.status.busy": "2025-02-12T23:21:03.312539Z",
     "iopub.status.idle": "2025-02-12T23:21:03.321581Z",
     "shell.execute_reply": "2025-02-12T23:21:03.320954Z"
    }
   },
   "outputs": [
    {
     "data": {
      "text/html": [
       "<table style='background:transparent'>\n",
       "<tr><td style='padding-right:5px; padding-bottom:0px; padding-top:0px; width:124px'><font color='green'>         name</font> </td><td style='text-align:left; padding-bottom:0px; padding-top:0px; border:.5px solid lightgray;  '> NDDataset_06e057a5</td><tr>\n",
       "<tr><td style='padding-right:5px; padding-bottom:0px; padding-top:0px; width:124px'><font color='green'>       author</font> </td><td style='text-align:left; padding-bottom:0px; padding-top:0px; border:.5px solid lightgray;  '> runner@fv-az1333-513</td><tr>\n",
       "<tr><td style='padding-right:5px; padding-bottom:0px; padding-top:0px; width:124px'><font color='green'>      created</font> </td><td style='text-align:left; padding-bottom:0px; padding-top:0px; border:.5px solid lightgray;  '> 2025-02-12 23:21:03+00:00</td><tr>\n",
       "<tr><td style='padding-right:5px; padding-bottom:0px; padding-top:0px; width:124px'><font color='green'>      history</font> </td><td style='text-align:left; padding-bottom:0px; padding-top:0px; border:.5px solid lightgray;  '> <div>2025-02-12 23:21:03+00:00> Created using method : full</div></td><tr>\n",
       "<tr><td style='padding-right:5px; padding-bottom:0px; padding-top:0px; width:124px'><strong>          DATA </strong></td><td style='text-align:left; padding-bottom:0px; padding-top:0px; padding-top:10px; '><hr/></td><tr>\n",
       "<tr><td style='padding-right:5px; padding-bottom:0px; padding-top:0px; width:124px'><font color='green'>        title</font> </td><td style='text-align:left; padding-bottom:0px; padding-top:0px; border:.5px solid lightgray;  '> with only float=1.25</td><tr>\n",
       "<tr><td style='padding-right:5px; padding-bottom:0px; padding-top:0px; width:124px'><font color='green'>       values</font> </td><td style='text-align:left; padding-bottom:0px; padding-top:0px; border:.5px solid lightgray;  '> <div><font color='blue'>         [[    1.25     1.25     1.25]<br/>          [    1.25     1.25     1.25]<br/>          ...<br/>          [    1.25     1.25     1.25]<br/>          [    1.25     1.25     1.25]] rad</font></div></td><tr>\n",
       "<tr><td style='padding-right:5px; padding-bottom:0px; padding-top:0px; width:124px'><font color='green'>        shape</font> </td><td style='text-align:left; padding-bottom:0px; padding-top:0px; border:.5px solid lightgray;  '> (y:5, x:3)</td><tr>\n",
       "<tr><td style='padding-right:5px; padding-bottom:0px; padding-top:0px; width:124px'><strong>     DIMENSION `x`</strong></td><td style='text-align:left; padding-bottom:0px; padding-top:0px; padding-top:10px; '><hr/></td><tr>\n",
       "<tr><td style='padding-right:5px; padding-bottom:0px; padding-top:0px; width:124px'><font color='green'>         size</font> </td><td style='text-align:left; padding-bottom:0px; padding-top:0px; border:.5px solid lightgray;  '> 3</td><tr>\n",
       "<tr><td style='padding-right:5px; padding-bottom:0px; padding-top:0px; width:124px'><font color='green'>        title</font> </td><td style='text-align:left; padding-bottom:0px; padding-top:0px; border:.5px solid lightgray;  '> temperature</td><tr>\n",
       "<tr><td style='padding-right:5px; padding-bottom:0px; padding-top:0px; width:124px'><font color='green'>  coordinates</font> </td><td style='text-align:left; padding-bottom:0px; padding-top:0px; border:.5px solid lightgray;  '> <div><font color='blue'>[      10       25       40] K</font></div></td><tr>\n",
       "<tr><td style='padding-right:5px; padding-bottom:0px; padding-top:0px; width:124px'><font color='green'>       labels</font> </td><td style='text-align:left; padding-bottom:0px; padding-top:0px; border:.5px solid lightgray;  '> <div><font color='darkcyan'>[  Cold   RT   Hot]</font></div> </td><tr>\n",
       "<tr><td style='padding-right:5px; padding-bottom:0px; padding-top:0px; width:124px'><strong>     DIMENSION `y`</strong></td><td style='text-align:left; padding-bottom:0px; padding-top:0px; padding-top:10px; '><hr/></td><tr>\n",
       "<tr><td style='padding-right:5px; padding-bottom:0px; padding-top:0px; width:124px'><font color='green'>         size</font> </td><td style='text-align:left; padding-bottom:0px; padding-top:0px; border:.5px solid lightgray;  '> 5</td><tr>\n",
       "<tr><td style='padding-right:5px; padding-bottom:0px; padding-top:0px; width:124px'><font color='green'>        title</font> </td><td style='text-align:left; padding-bottom:0px; padding-top:0px; border:.5px solid lightgray;  '> wavenumber</td><tr>\n",
       "<tr><td style='padding-right:5px; padding-bottom:0px; padding-top:0px; width:124px'><font color='green'>  coordinates</font> </td><td style='text-align:left; padding-bottom:0px; padding-top:0px; border:.5px solid lightgray;  '> <div><font color='blue'>[    4000     3250     2500     1750     1000] cm⁻¹</font></div></td><tr>\n",
       "</table>"
      ],
      "text/plain": [
       "NDDataset: [float64] rad (shape: (y:5, x:3))"
      ]
     },
     "execution_count": 78,
     "metadata": {},
     "output_type": "execute_result"
    }
   ],
   "source": [
    "df = NDDataset.full(\n",
    "    (5, 3), fill_value=1.25, coordset=cs, units=\"radians\", title=\"with only float=1.25\"\n",
    ")\n",
    "df"
   ]
  },
  {
   "cell_type": "markdown",
   "id": "03249e06",
   "metadata": {},
   "source": [
    "As with numpy, it is also possible to take another dataset as a template:"
   ]
  },
  {
   "cell_type": "code",
   "execution_count": 79,
   "id": "1712ed38",
   "metadata": {
    "execution": {
     "iopub.execute_input": "2025-02-12T23:21:03.323662Z",
     "iopub.status.busy": "2025-02-12T23:21:03.323311Z",
     "iopub.status.idle": "2025-02-12T23:21:03.351167Z",
     "shell.execute_reply": "2025-02-12T23:21:03.350515Z"
    }
   },
   "outputs": [
    {
     "data": {
      "text/html": [
       "<table style='background:transparent'>\n",
       "<tr><td style='padding-right:5px; padding-bottom:0px; padding-top:0px; width:124px'><font color='green'>         name</font> </td><td style='text-align:left; padding-bottom:0px; padding-top:0px; border:.5px solid lightgray;  '> 3D_dataset</td><tr>\n",
       "<tr><td style='padding-right:5px; padding-bottom:0px; padding-top:0px; width:124px'><font color='green'>       author</font> </td><td style='text-align:left; padding-bottom:0px; padding-top:0px; border:.5px solid lightgray;  '> runner@fv-az1333-513</td><tr>\n",
       "<tr><td style='padding-right:5px; padding-bottom:0px; padding-top:0px; width:124px'><font color='green'>      created</font> </td><td style='text-align:left; padding-bottom:0px; padding-top:0px; border:.5px solid lightgray;  '> 2025-02-12 23:21:03+00:00</td><tr>\n",
       "<tr><td style='padding-right:5px; padding-bottom:0px; padding-top:0px; width:124px'><font color='green'>      history</font> </td><td style='text-align:left; padding-bottom:0px; padding-top:0px; border:.5px solid lightgray;  '> <div>2025-02-12 23:21:02+00:00> Created from scratch<br/>               2025-02-12 23:21:03+00:00> Created using method : full_like</div></td><tr>\n",
       "<tr><td style='padding-right:5px; padding-bottom:0px; padding-top:0px; width:124px'><strong>          DATA </strong></td><td style='text-align:left; padding-bottom:0px; padding-top:0px; padding-top:10px; '><hr/></td><tr>\n",
       "<tr><td style='padding-right:5px; padding-bottom:0px; padding-top:0px; width:124px'><font color='green'>        title</font> </td><td style='text-align:left; padding-bottom:0px; padding-top:0px; border:.5px solid lightgray;  '> Energy</td><tr>\n",
       "<tr><td style='padding-right:5px; padding-bottom:0px; padding-top:0px; width:124px'><font color='green'>       values</font> </td><td style='text-align:left; padding-bottom:0px; padding-top:0px; border:.5px solid lightgray;  '> <div><font color='blue'>         [[[       2        2 ...        2        2]<br/>           [       2        2 ...        2        2]<br/>           [       2        2 ...        2        2]<br/>           [       2        2 ...        2        2]]<br/><br/>          [[       2        2 ...        2        2]<br/>           [       2        2 ...        2        2]<br/>           [       2        2 ...        2        2]<br/>           [       2        2 ...        2        2]]]</font></div></td><tr>\n",
       "<tr><td style='padding-right:5px; padding-bottom:0px; padding-top:0px; width:124px'><font color='green'>        shape</font> </td><td style='text-align:left; padding-bottom:0px; padding-top:0px; border:.5px solid lightgray;  '> (t:2, v:4, u:6)</td><tr>\n",
       "<tr><td style='padding-right:5px; padding-bottom:0px; padding-top:0px; width:124px'><strong>     DIMENSION `t`</strong></td><td style='text-align:left; padding-bottom:0px; padding-top:0px; padding-top:10px; '><hr/></td><tr>\n",
       "<tr><td style='padding-right:5px; padding-bottom:0px; padding-top:0px; width:124px'><font color='green'>         size</font> </td><td style='text-align:left; padding-bottom:0px; padding-top:0px; border:.5px solid lightgray;  '> 2</td><tr>\n",
       "<tr><td style='padding-right:5px; padding-bottom:0px; padding-top:0px; width:124px'><font color='green'>        title</font> </td><td style='text-align:left; padding-bottom:0px; padding-top:0px; border:.5px solid lightgray;  '> distance</td><tr>\n",
       "<tr><td style='padding-right:5px; padding-bottom:0px; padding-top:0px; width:124px'><font color='green'>  coordinates</font> </td><td style='text-align:left; padding-bottom:0px; padding-top:0px; border:.5px solid lightgray;  '> <div><font color='blue'>[      10      100] m</font></div></td><tr>\n",
       "<tr><td style='padding-right:5px; padding-bottom:0px; padding-top:0px; width:124px'><strong>     DIMENSION `u`</strong></td><td style='text-align:left; padding-bottom:0px; padding-top:0px; padding-top:10px; '><hr/></td><tr>\n",
       "<tr><td style='padding-right:5px; padding-bottom:0px; padding-top:0px; width:124px'><font color='green'>         size</font> </td><td style='text-align:left; padding-bottom:0px; padding-top:0px; border:.5px solid lightgray;  '> 6</td><tr>\n",
       "<tr><td style='padding-right:5px; padding-bottom:0px; padding-top:0px; width:124px'><font color='green'>        title</font> </td><td style='text-align:left; padding-bottom:0px; padding-top:0px; border:.5px solid lightgray;  '> elapsed time</td><tr>\n",
       "<tr><td style='padding-right:5px; padding-bottom:0px; padding-top:0px; width:124px'><font color='green'>  coordinates</font> </td><td style='text-align:left; padding-bottom:0px; padding-top:0px; border:.5px solid lightgray;  '> <div><font color='blue'>[       0      200      400      600      800     1000] h</font></div></td><tr>\n",
       "<tr><td style='padding-right:5px; padding-bottom:0px; padding-top:0px; width:124px'><strong>     DIMENSION `v`</strong></td><td style='text-align:left; padding-bottom:0px; padding-top:0px; padding-top:10px; '><hr/></td><tr>\n",
       "<tr><td style='padding-right:5px; padding-bottom:0px; padding-top:0px; width:124px'><font color='green'>         size</font> </td><td style='text-align:left; padding-bottom:0px; padding-top:0px; border:.5px solid lightgray;  '> 4</td><tr>\n",
       "<tr><td style='padding-right:5px; padding-bottom:0px; padding-top:0px; width:124px'><strong>          (_1)</strong></td><td style='text-align:left; padding-bottom:0px; padding-top:0px; padding-top:10px; '><hr/></td><tr>\n",
       "<tr><td style='padding-right:5px; padding-bottom:0px; padding-top:0px; width:124px'><font color='green'>        title</font> </td><td style='text-align:left; padding-bottom:0px; padding-top:0px; border:.5px solid lightgray;  '> magnetic field</td><tr>\n",
       "<tr><td style='padding-right:5px; padding-bottom:0px; padding-top:0px; width:124px'><font color='green'>  coordinates</font> </td><td style='text-align:left; padding-bottom:0px; padding-top:0px; border:.5px solid lightgray;  '> <div><font color='blue'>[       1        2        3        4] mT</font></div></td><tr>\n",
       "<tr><td style='padding-right:5px; padding-bottom:0px; padding-top:0px; width:124px'><strong>          (_2)</strong></td><td style='text-align:left; padding-bottom:0px; padding-top:0px; padding-top:10px; '><hr/></td><tr>\n",
       "<tr><td style='padding-right:5px; padding-bottom:0px; padding-top:0px; width:124px'><font color='green'>        title</font> </td><td style='text-align:left; padding-bottom:0px; padding-top:0px; border:.5px solid lightgray;  '> temperature</td><tr>\n",
       "<tr><td style='padding-right:5px; padding-bottom:0px; padding-top:0px; width:124px'><font color='green'>  coordinates</font> </td><td style='text-align:left; padding-bottom:0px; padding-top:0px; border:.5px solid lightgray;  '> <div><font color='blue'>[      20    21.67    23.33       25] K</font></div></td><tr>\n",
       "</table>"
      ],
      "text/plain": [
       "NDDataset: [float64] unitless (shape: (t:2, v:4, u:6))"
      ]
     },
     "execution_count": 79,
     "metadata": {},
     "output_type": "execute_result"
    }
   ],
   "source": [
    "df = NDDataset.full_like(d3D, dtype=\"int\", fill_value=2)\n",
    "df"
   ]
  },
  {
   "cell_type": "code",
   "execution_count": 80,
   "id": "b92e3570",
   "metadata": {
    "execution": {
     "iopub.execute_input": "2025-02-12T23:21:03.353220Z",
     "iopub.status.busy": "2025-02-12T23:21:03.352847Z",
     "iopub.status.idle": "2025-02-12T23:21:03.358997Z",
     "shell.execute_reply": "2025-02-12T23:21:03.358359Z"
    }
   },
   "outputs": [
    {
     "data": {
      "text/html": [
       "<table style='background:transparent'>\n",
       "<tr><td style='padding-right:5px; padding-bottom:0px; padding-top:0px; width:124px'><font color='green'>         name</font> </td><td style='text-align:left; padding-bottom:0px; padding-top:0px; border:.5px solid lightgray;  '> NDDataset_06e057c9</td><tr>\n",
       "<tr><td style='padding-right:5px; padding-bottom:0px; padding-top:0px; width:124px'><font color='green'>       author</font> </td><td style='text-align:left; padding-bottom:0px; padding-top:0px; border:.5px solid lightgray;  '> runner@fv-az1333-513</td><tr>\n",
       "<tr><td style='padding-right:5px; padding-bottom:0px; padding-top:0px; width:124px'><font color='green'>      created</font> </td><td style='text-align:left; padding-bottom:0px; padding-top:0px; border:.5px solid lightgray;  '> 2025-02-12 23:21:03+00:00</td><tr>\n",
       "<tr><td style='padding-right:5px; padding-bottom:0px; padding-top:0px; width:124px'><font color='green'>      history</font> </td><td style='text-align:left; padding-bottom:0px; padding-top:0px; border:.5px solid lightgray;  '> <div>2025-02-12 23:21:03+00:00> Created using method : diag</div></td><tr>\n",
       "<tr><td style='padding-right:5px; padding-bottom:0px; padding-top:0px; width:124px'><strong>          DATA </strong></td><td style='text-align:left; padding-bottom:0px; padding-top:0px; padding-top:10px; '><hr/></td><tr>\n",
       "<tr><td style='padding-right:5px; padding-bottom:0px; padding-top:0px; width:124px'><font color='green'>        title</font> </td><td style='text-align:left; padding-bottom:0px; padding-top:0px; border:.5px solid lightgray;  '> <untitled></td><tr>\n",
       "<tr><td style='padding-right:5px; padding-bottom:0px; padding-top:0px; width:124px'><font color='green'>       values</font> </td><td style='text-align:left; padding-bottom:0px; padding-top:0px; border:.5px solid lightgray;  '> <div><font color='blue'>         [[       3        0        0]<br/>          [       0        3        0]<br/>          [       0        0      2.5]]</font></div></td><tr>\n",
       "<tr><td style='padding-right:5px; padding-bottom:0px; padding-top:0px; width:124px'><font color='green'>        shape</font> </td><td style='text-align:left; padding-bottom:0px; padding-top:0px; border:.5px solid lightgray;  '> (y:3, x:3)</td><tr>\n",
       "</table>"
      ],
      "text/plain": [
       "NDDataset: [float64] unitless (shape: (y:3, x:3))"
      ]
     },
     "execution_count": 80,
     "metadata": {},
     "output_type": "execute_result"
    }
   ],
   "source": [
    "nd = NDDataset.diag((3, 3, 2.5))\n",
    "nd"
   ]
  },
  {
   "cell_type": "markdown",
   "id": "9de6b69f",
   "metadata": {},
   "source": [
    "## Copying existing NDDataset\n",
    "\n",
    "To copy an existing dataset, this is as simple as:"
   ]
  },
  {
   "cell_type": "code",
   "execution_count": 81,
   "id": "5bfd291b",
   "metadata": {
    "execution": {
     "iopub.execute_input": "2025-02-12T23:21:03.360847Z",
     "iopub.status.busy": "2025-02-12T23:21:03.360664Z",
     "iopub.status.idle": "2025-02-12T23:21:03.381311Z",
     "shell.execute_reply": "2025-02-12T23:21:03.380734Z"
    }
   },
   "outputs": [],
   "source": [
    "d3D_copy = d3D.copy()"
   ]
  },
  {
   "cell_type": "markdown",
   "id": "ee78c99a",
   "metadata": {},
   "source": [
    "or alternatively:"
   ]
  },
  {
   "cell_type": "code",
   "execution_count": 82,
   "id": "86c676da",
   "metadata": {
    "execution": {
     "iopub.execute_input": "2025-02-12T23:21:03.383228Z",
     "iopub.status.busy": "2025-02-12T23:21:03.383027Z",
     "iopub.status.idle": "2025-02-12T23:21:03.444691Z",
     "shell.execute_reply": "2025-02-12T23:21:03.444173Z"
    }
   },
   "outputs": [],
   "source": [
    "d3D_copy = d3D[:]"
   ]
  },
  {
   "cell_type": "markdown",
   "id": "6b52be0d",
   "metadata": {},
   "source": [
    "Finally, it is also possible to initialize a dataset using an existing one:"
   ]
  },
  {
   "cell_type": "code",
   "execution_count": 83,
   "id": "05c36895",
   "metadata": {
    "execution": {
     "iopub.execute_input": "2025-02-12T23:21:03.446524Z",
     "iopub.status.busy": "2025-02-12T23:21:03.446325Z",
     "iopub.status.idle": "2025-02-12T23:21:03.455136Z",
     "shell.execute_reply": "2025-02-12T23:21:03.454466Z"
    }
   },
   "outputs": [
    {
     "data": {
      "text/html": [
       "<table style='background:transparent'>\n",
       "<tr><td style='padding-right:5px; padding-bottom:0px; padding-top:0px; width:124px'><font color='green'>         name</font> </td><td style='text-align:left; padding-bottom:0px; padding-top:0px; border:.5px solid lightgray;  '> duplicate of 3D_dataset</td><tr>\n",
       "<tr><td style='padding-right:5px; padding-bottom:0px; padding-top:0px; width:124px'><font color='green'>       author</font> </td><td style='text-align:left; padding-bottom:0px; padding-top:0px; border:.5px solid lightgray;  '> runner@fv-az1333-513</td><tr>\n",
       "<tr><td style='padding-right:5px; padding-bottom:0px; padding-top:0px; width:124px'><font color='green'>      created</font> </td><td style='text-align:left; padding-bottom:0px; padding-top:0px; border:.5px solid lightgray;  '> 2025-02-12 23:21:03+00:00</td><tr>\n",
       "<tr><td style='padding-right:5px; padding-bottom:0px; padding-top:0px; width:124px'><font color='green'>      history</font> </td><td style='text-align:left; padding-bottom:0px; padding-top:0px; border:.5px solid lightgray;  '> <div>2025-02-12 23:21:02+00:00> Created from scratch</div></td><tr>\n",
       "<tr><td style='padding-right:5px; padding-bottom:0px; padding-top:0px; width:124px'><strong>          DATA </strong></td><td style='text-align:left; padding-bottom:0px; padding-top:0px; padding-top:10px; '><hr/></td><tr>\n",
       "<tr><td style='padding-right:5px; padding-bottom:0px; padding-top:0px; width:124px'><font color='green'>        title</font> </td><td style='text-align:left; padding-bottom:0px; padding-top:0px; border:.5px solid lightgray;  '> Energy</td><tr>\n",
       "<tr><td style='padding-right:5px; padding-bottom:0px; padding-top:0px; width:124px'><font color='green'>       values</font> </td><td style='text-align:left; padding-bottom:0px; padding-top:0px; border:.5px solid lightgray;  '> <div><font color='blue'>         [[[   0.164   0.9365 ...   0.4008   0.4923]<br/>           [  0.2139   0.3074 ...   0.2605    0.562]<br/>           [ 0.07699   0.3609 ...   0.4141   0.1073]<br/>           [  0.2037   0.3726 ...   0.1487   0.6037]]<br/><br/>          [[  0.3881   0.4777 ...   0.2281   0.7669]<br/>           [ 0.06873      0.2 ...   0.5199   0.7288]<br/>           [  0.2233   0.3144 ...   0.8081   0.3282]<br/>           [  0.2258   0.8783 ...   0.4655   0.4265]]] a.u.</font></div></td><tr>\n",
       "<tr><td style='padding-right:5px; padding-bottom:0px; padding-top:0px; width:124px'><font color='green'>        shape</font> </td><td style='text-align:left; padding-bottom:0px; padding-top:0px; border:.5px solid lightgray;  '> (t:2, v:4, u:6)</td><tr>\n",
       "<tr><td style='padding-right:5px; padding-bottom:0px; padding-top:0px; width:124px'><strong>     DIMENSION `t`</strong></td><td style='text-align:left; padding-bottom:0px; padding-top:0px; padding-top:10px; '><hr/></td><tr>\n",
       "<tr><td style='padding-right:5px; padding-bottom:0px; padding-top:0px; width:124px'><font color='green'>         size</font> </td><td style='text-align:left; padding-bottom:0px; padding-top:0px; border:.5px solid lightgray;  '> 2</td><tr>\n",
       "<tr><td style='padding-right:5px; padding-bottom:0px; padding-top:0px; width:124px'><font color='green'>        title</font> </td><td style='text-align:left; padding-bottom:0px; padding-top:0px; border:.5px solid lightgray;  '> distance</td><tr>\n",
       "<tr><td style='padding-right:5px; padding-bottom:0px; padding-top:0px; width:124px'><font color='green'>  coordinates</font> </td><td style='text-align:left; padding-bottom:0px; padding-top:0px; border:.5px solid lightgray;  '> <div><font color='blue'>[      10      100] m</font></div></td><tr>\n",
       "<tr><td style='padding-right:5px; padding-bottom:0px; padding-top:0px; width:124px'><strong>     DIMENSION `u`</strong></td><td style='text-align:left; padding-bottom:0px; padding-top:0px; padding-top:10px; '><hr/></td><tr>\n",
       "<tr><td style='padding-right:5px; padding-bottom:0px; padding-top:0px; width:124px'><font color='green'>         size</font> </td><td style='text-align:left; padding-bottom:0px; padding-top:0px; border:.5px solid lightgray;  '> 6</td><tr>\n",
       "<tr><td style='padding-right:5px; padding-bottom:0px; padding-top:0px; width:124px'><font color='green'>        title</font> </td><td style='text-align:left; padding-bottom:0px; padding-top:0px; border:.5px solid lightgray;  '> elapsed time</td><tr>\n",
       "<tr><td style='padding-right:5px; padding-bottom:0px; padding-top:0px; width:124px'><font color='green'>  coordinates</font> </td><td style='text-align:left; padding-bottom:0px; padding-top:0px; border:.5px solid lightgray;  '> <div><font color='blue'>[       0      200      400      600      800     1000] h</font></div></td><tr>\n",
       "<tr><td style='padding-right:5px; padding-bottom:0px; padding-top:0px; width:124px'><strong>     DIMENSION `v`</strong></td><td style='text-align:left; padding-bottom:0px; padding-top:0px; padding-top:10px; '><hr/></td><tr>\n",
       "<tr><td style='padding-right:5px; padding-bottom:0px; padding-top:0px; width:124px'><font color='green'>         size</font> </td><td style='text-align:left; padding-bottom:0px; padding-top:0px; border:.5px solid lightgray;  '> 4</td><tr>\n",
       "<tr><td style='padding-right:5px; padding-bottom:0px; padding-top:0px; width:124px'><strong>          (_1)</strong></td><td style='text-align:left; padding-bottom:0px; padding-top:0px; padding-top:10px; '><hr/></td><tr>\n",
       "<tr><td style='padding-right:5px; padding-bottom:0px; padding-top:0px; width:124px'><font color='green'>        title</font> </td><td style='text-align:left; padding-bottom:0px; padding-top:0px; border:.5px solid lightgray;  '> magnetic field</td><tr>\n",
       "<tr><td style='padding-right:5px; padding-bottom:0px; padding-top:0px; width:124px'><font color='green'>  coordinates</font> </td><td style='text-align:left; padding-bottom:0px; padding-top:0px; border:.5px solid lightgray;  '> <div><font color='blue'>[       1        2        3        4] mT</font></div></td><tr>\n",
       "<tr><td style='padding-right:5px; padding-bottom:0px; padding-top:0px; width:124px'><strong>          (_2)</strong></td><td style='text-align:left; padding-bottom:0px; padding-top:0px; padding-top:10px; '><hr/></td><tr>\n",
       "<tr><td style='padding-right:5px; padding-bottom:0px; padding-top:0px; width:124px'><font color='green'>        title</font> </td><td style='text-align:left; padding-bottom:0px; padding-top:0px; border:.5px solid lightgray;  '> temperature</td><tr>\n",
       "<tr><td style='padding-right:5px; padding-bottom:0px; padding-top:0px; width:124px'><font color='green'>  coordinates</font> </td><td style='text-align:left; padding-bottom:0px; padding-top:0px; border:.5px solid lightgray;  '> <div><font color='blue'>[      20    21.67    23.33       25] K</font></div></td><tr>\n",
       "</table>"
      ],
      "text/plain": [
       "NDDataset: [float64] a.u. (shape: (t:2, v:4, u:6))"
      ]
     },
     "execution_count": 83,
     "metadata": {},
     "output_type": "execute_result"
    }
   ],
   "source": [
    "d3Dduplicate = NDDataset(d3D, name=\"duplicate of %s\" % d3D.name, units=\"absorbance\")\n",
    "d3Dduplicate"
   ]
  },
  {
   "cell_type": "markdown",
   "id": "781e85d7",
   "metadata": {},
   "source": [
    "## Importing from external dataset\n",
    "\n",
    "NDDataset can be created from the importation of external data\n",
    "\n",
    "A **test**'s data folder contains some data for experimenting some features of\n",
    "datasets."
   ]
  },
  {
   "cell_type": "code",
   "execution_count": 84,
   "id": "bf5cd29b",
   "metadata": {
    "execution": {
     "iopub.execute_input": "2025-02-12T23:21:03.457035Z",
     "iopub.status.busy": "2025-02-12T23:21:03.456811Z",
     "iopub.status.idle": "2025-02-12T23:21:03.460634Z",
     "shell.execute_reply": "2025-02-12T23:21:03.460096Z"
    }
   },
   "outputs": [
    {
     "name": "stdout",
     "output_type": "stream",
     "text": [
      "testdata\n"
     ]
    }
   ],
   "source": [
    "# let check if this directory exists and display its actual content:\n",
    "datadir = scp.preferences.datadir\n",
    "if datadir.exists():\n",
    "    print(datadir.name)"
   ]
  },
  {
   "cell_type": "markdown",
   "id": "51158e8f",
   "metadata": {},
   "source": [
    "Let's load grouped IR spectra acquired using OMNIC:"
   ]
  },
  {
   "cell_type": "code",
   "execution_count": 85,
   "id": "257cc963",
   "metadata": {
    "execution": {
     "iopub.execute_input": "2025-02-12T23:21:03.462430Z",
     "iopub.status.busy": "2025-02-12T23:21:03.462238Z",
     "iopub.status.idle": "2025-02-12T23:21:04.287673Z",
     "shell.execute_reply": "2025-02-12T23:21:04.287044Z"
    }
   },
   "outputs": [
    {
     "data": {
      "image/jpeg": "[encoded data removed]",
      "image/png": "[encoded data removed]",
      "text/plain": [
       "<Figure size 528x336 with 1 Axes>"
      ]
     },
     "metadata": {},
     "output_type": "display_data"
    }
   ],
   "source": [
    "nd = NDDataset.read_omnic(datadir / \"irdata/nh4y-activation.spg\")\n",
    "nd.preferences.reset()\n",
    "_ = nd.plot()"
   ]
  },
  {
   "cell_type": "markdown",
   "id": "61344102",
   "metadata": {},
   "source": [
    "Even if we do not specify the **datadir**, the application first look in the\n",
    "directory by default."
   ]
  },
  {
   "cell_type": "markdown",
   "id": "1ef2899e",
   "metadata": {},
   "source": [
    "Now, lets load a NMR dataset (in the Bruker format)."
   ]
  },
  {
   "cell_type": "code",
   "execution_count": 86,
   "id": "e6becaa9",
   "metadata": {
    "execution": {
     "iopub.execute_input": "2025-02-12T23:21:04.290093Z",
     "iopub.status.busy": "2025-02-12T23:21:04.289620Z",
     "iopub.status.idle": "2025-02-12T23:21:04.964313Z",
     "shell.execute_reply": "2025-02-12T23:21:04.963678Z"
    }
   },
   "outputs": [
    {
     "name": "stderr",
     "output_type": "stream",
     "text": [
      " WARNING | (UserWarning) (196608,)cannot be shaped into(147, 1024)\n"
     ]
    },
    {
     "data": {
      "image/jpeg": "[encoded data removed]",
      "image/png": "[encoded data removed]",
      "text/plain": [
       "<Figure size 528x336 with 1 Axes>"
      ]
     },
     "metadata": {},
     "output_type": "display_data"
    }
   ],
   "source": [
    "path = datadir / \"nmrdata\" / \"bruker\" / \"tests\" / \"nmr\" / \"topspin_2d\"\n",
    "\n",
    "# load the data directly (no need to create the dataset first)\n",
    "nd2 = NDDataset.read_topspin(path, expno=1, remove_digital_filter=True)\n",
    "\n",
    "# view it...\n",
    "nd2.x.to(\"s\")\n",
    "nd2.y.to(\"ms\")\n",
    "\n",
    "ax = nd2.plot(method=\"map\")"
   ]
  }
 ],
 "metadata": {
  "jupytext": {
   "formats": "ipynb,py:percent",
   "notebook_metadata_filter": "all"
  },
  "kernelspec": {
   "display_name": "Python 3 (ipykernel)",
   "language": "python",
   "name": "python3"
  },
  "language_info": {
   "codemirror_mode": {
    "name": "ipython",
    "version": 3
   },
   "file_extension": ".py",
   "mimetype": "text/x-python",
   "name": "python",
   "nbconvert_exporter": "python",
   "pygments_lexer": "ipython3",
   "version": "3.10.16"
  },
  "widgets": {
   "application/vnd.jupyter.widget-state+json": {
    "state": {},
    "version_major": 2,
    "version_minor": 0
   }
  }
 },
 "nbformat": 4,
 "nbformat_minor": 5
}
