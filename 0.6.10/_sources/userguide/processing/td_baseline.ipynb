{
 "cells": [
  {
   "cell_type": "markdown",
   "id": "4d24216e",
   "metadata": {},
   "source": [
    "# Time domain baseline correction (NMR)\n",
    "\n",
    "Here we show how to baseline correct dataset in the time domain before applying FFT.\n",
    "\n",
    "The example spectra were downloaded from [this page](\n",
    "http://anorganik.uni-tuebingen.de/klaus/nmr/processing/index.php?p=dcoffset/dcoffset) where you can find some\n",
    "explanations on this kind of process."
   ]
  },
  {
   "cell_type": "code",
   "execution_count": null,
   "id": "b5c01228",
   "metadata": {},
   "outputs": [],
   "source": [
    "import spectrochempy as scp"
   ]
  },
  {
   "cell_type": "code",
   "execution_count": null,
   "id": "2b31931a",
   "metadata": {},
   "outputs": [],
   "source": [
    "path = scp.preferences.datadir / \"nmrdata\" / \"bruker\" / \"tests\" / \"nmr\" / \"h3po4\"\n",
    "fid = scp.read_topspin(path, expno=4)\n",
    "prefs = fid.preferences\n",
    "prefs.figure.figsize = (7, 3)\n",
    "_ = fid.plot(show_complex=True)"
   ]
  },
  {
   "cell_type": "code",
   "execution_count": null,
   "id": "92b44055",
   "metadata": {},
   "outputs": [],
   "source": [
    "spec = scp.fft(fid)\n",
    "_ = spec.plot(xlim=(5, -5))"
   ]
  },
  {
   "cell_type": "markdown",
   "id": "ff3c5bcf",
   "metadata": {},
   "source": [
    "We can see that in the middle of the spectrum there are an artifact (a transmitter spike)\n",
    "due to different DC offset between imaginary.\n",
    "\n",
    "In SpectroChemPy, for now, we provide a simple kind of dc correction using the `dc`command."
   ]
  },
  {
   "cell_type": "code",
   "execution_count": null,
   "id": "f2905089",
   "metadata": {},
   "outputs": [],
   "source": [
    "dc_corrected_fid = fid.dc()\n",
    "spec = scp.fft(dc_corrected_fid)\n",
    "_ = spec.plot(xlim=(5, -5))"
   ]
  },
  {
   "cell_type": "code",
   "execution_count": null,
   "id": "ba2cd959",
   "metadata": {},
   "outputs": [],
   "source": [
    "path = scp.preferences.datadir / \"nmrdata\" / \"bruker\" / \"tests\" / \"nmr\" / \"cadmium\"\n",
    "fid2 = scp.read_topspin(path, expno=100)\n",
    "_ = fid2.plot(show_complex=True)"
   ]
  },
  {
   "cell_type": "code",
   "execution_count": null,
   "id": "b7f58284",
   "metadata": {},
   "outputs": [],
   "source": [
    "spec2 = scp.fft(fid2)\n",
    "_ = spec2.plot()"
   ]
  },
  {
   "cell_type": "code",
   "execution_count": null,
   "id": "ed9650d4",
   "metadata": {},
   "outputs": [],
   "source": [
    "dc_corrected_fid2 = fid2.dc()\n",
    "spec2 = scp.fft(dc_corrected_fid2)\n",
    "_ = spec2.plot()"
   ]
  }
 ],
 "metadata": {
  "jupytext": {
   "formats": "ipynb,py:percent",
   "notebook_metadata_filter": "all"
  },
  "kernelspec": {
   "display_name": "Python 3",
   "language": "python",
   "name": "python3"
  },
  "language_info": {
   "codemirror_mode": {
    "name": "ipython",
    "version": 3
   },
   "file_extension": ".py",
   "mimetype": "text/x-python",
   "name": "python",
   "nbconvert_exporter": "python",
   "pygments_lexer": "ipython3",
   "version": "3.9.1"
  },
  "widgets": {
   "application/vnd.jupyter.widget-state+json": {
    "state": {},
    "version_major": 2,
    "version_minor": 0
   }
  }
 },
 "nbformat": 4,
 "nbformat_minor": 5
}
