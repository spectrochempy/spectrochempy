{
 "cells": [
  {
   "cell_type": "markdown",
   "id": "327f3124",
   "metadata": {},
   "source": [
    "# Denoising"
   ]
  },
  {
   "cell_type": "code",
   "execution_count": null,
   "id": "e3c3eb65",
   "metadata": {
    "lines_to_next_cell": 2
   },
   "outputs": [],
   "source": [
    "import spectrochempy as scp"
   ]
  },
  {
   "cell_type": "markdown",
   "id": "09b18735",
   "metadata": {},
   "source": [
    "## Denoising 2D spectra\n",
    "Denoising 2D spectra can be done using the above filtering techniques which can be applied sequentially\n",
    "to each rows of a 2D dataset.\n",
    "\n",
    "e.g., let's take a series of Raman spectra for demonstration: These spectra present both a significant noise and cosmic rays spikes."
   ]
  },
  {
   "cell_type": "code",
   "execution_count": null,
   "id": "44c77a48",
   "metadata": {},
   "outputs": [],
   "source": [
    "# Load the data  ( )\n",
    "dataset = scp.read(\"ramandata/labspec/serie190214-1.txt\")\n",
    "# select the useful region (in particular spectra are 0 after 6500 s)\n",
    "nd = dataset[0.0:6500.0, 70.0:]\n",
    "# baseline correction the data (for a easier comparison)\n",
    "nd1 = nd.snip()\n",
    "# plot\n",
    "prefs = nd1.preferences\n",
    "prefs.figure.figsize = (9, 5)\n",
    "_ = nd1.plot()"
   ]
  },
  {
   "cell_type": "markdown",
   "id": "64f1c715",
   "metadata": {},
   "source": [
    "We can apply a Savgol filter to denoise the spectra"
   ]
  },
  {
   "cell_type": "code",
   "execution_count": null,
   "id": "cee2a875",
   "metadata": {},
   "outputs": [],
   "source": [
    "nd2 = nd1.savgol(size=7, order=2)\n",
    "_ = nd2.plot()"
   ]
  },
  {
   "cell_type": "markdown",
   "id": "b2a3a734",
   "metadata": {},
   "source": [
    "The problem is that, not only the spikes are not removed, but they are also broadened."
   ]
  },
  {
   "cell_type": "markdown",
   "id": "f7a39096",
   "metadata": {},
   "source": [
    "A better way to simply denoise this spectra is to use the `denoise` dataset method.\n",
    "\n",
    "The ratio parameter fix the amount of variance we want to preserve in % (default 99.8%)"
   ]
  },
  {
   "cell_type": "code",
   "execution_count": null,
   "id": "be3e853d",
   "metadata": {},
   "outputs": [],
   "source": [
    "nd3 = nd1.denoise(ratio=90)\n",
    "_ = nd3.plot()"
   ]
  },
  {
   "cell_type": "markdown",
   "id": "e4b58bab",
   "metadata": {},
   "source": [
    "This clearly help to increase the signal-to-noise ratio.\n",
    "However, it apparently has in the present case a poor effect on eliminating cosmic ray peaks."
   ]
  },
  {
   "cell_type": "markdown",
   "id": "2145c5f1",
   "metadata": {},
   "source": [
    "## Removing cosmic rays spike from Raman spectra"
   ]
  },
  {
   "cell_type": "markdown",
   "id": "5e29e93d",
   "metadata": {},
   "source": [
    "### Median filter"
   ]
  },
  {
   "cell_type": "markdown",
   "id": "bdbf6c57",
   "metadata": {},
   "source": [
    "A first way to perform this is to apply a median-filter to the data"
   ]
  },
  {
   "cell_type": "code",
   "execution_count": null,
   "id": "4c0ccf9c",
   "metadata": {},
   "outputs": [],
   "source": [
    "filter = scp.Filter(method=\"median\", size=5)\n",
    "nd4 = filter(nd1)\n",
    "_ = nd4.plot()"
   ]
  },
  {
   "cell_type": "markdown",
   "id": "fda16306",
   "metadata": {},
   "source": [
    "However, the spike are not fully removed, and are broadened."
   ]
  },
  {
   "cell_type": "markdown",
   "id": "6b8855f9",
   "metadata": {},
   "source": [
    "### `despike` method\n",
    "\n",
    "To obtain better results, one can use the despike methods. The default method ('katsumo') is based on\n",
    ":cite:t:`katsumoto:2003`. The second one ('whitaker') is based on :cite:t:`Whitaker:2018`\n",
    "For both methods, only two parameters needs to be tuned: `delta`, a threshold for the detection of spikes, and\n",
    "`size` the size of the window to consider around the spike to estimate the original intensity."
   ]
  },
  {
   "cell_type": "code",
   "execution_count": null,
   "id": "20538067",
   "metadata": {},
   "outputs": [],
   "source": [
    "X = nd1[0]\n",
    "nd5 = scp.despike(X, size=11, delta=5)\n",
    "_ = X.plot()\n",
    "_ = nd5.plot(clear=False, ls=\"-\", c=\"r\")"
   ]
  },
  {
   "cell_type": "markdown",
   "id": "ad9e0e52",
   "metadata": {},
   "source": [
    "Getting the desired results require the tuning of size and delta parameters. And sometimes may need to repeat the procedure on a previously filtered spectra.\n",
    "\n",
    "For example, it size or delta are badly chosen, valid peaks could be removed. So careful inspection of the results is crucial."
   ]
  },
  {
   "cell_type": "code",
   "execution_count": null,
   "id": "1fd999fa",
   "metadata": {},
   "outputs": [],
   "source": [
    "nd5b = scp.despike(X, size=21, delta=2)\n",
    "_ = X.plot()\n",
    "_ = nd5b.plot(clear=False, ls=\"-\", c=\"r\")"
   ]
  },
  {
   "cell_type": "markdown",
   "id": "12964683",
   "metadata": {},
   "source": [
    "Last we can apply it to the full 2D dataset"
   ]
  },
  {
   "cell_type": "code",
   "execution_count": null,
   "id": "db47df21",
   "metadata": {},
   "outputs": [],
   "source": [
    "nd6 = scp.despike(nd1, size=11, delta=5)\n",
    "_ = nd6.plot()"
   ]
  },
  {
   "cell_type": "markdown",
   "id": "272f8544",
   "metadata": {},
   "source": [
    "It is however rarely perfect as the setting of size and delta may be depending on the row.\n",
    "\n",
    "A possibility to improve it is to apply a denoise filter afterward."
   ]
  },
  {
   "cell_type": "code",
   "execution_count": null,
   "id": "3d714f46",
   "metadata": {},
   "outputs": [],
   "source": [
    "nd7 = nd6.denoise(ratio=92)\n",
    "_ = nd7.plot()"
   ]
  },
  {
   "cell_type": "markdown",
   "id": "e016e3f9",
   "metadata": {
    "lines_to_next_cell": 0
   },
   "source": [
    "The 'whitaker' method is also available:"
   ]
  },
  {
   "cell_type": "code",
   "execution_count": null,
   "id": "3a18f86f",
   "metadata": {},
   "outputs": [],
   "source": [
    "nd8 = scp.despike(nd1, size=11, delta=5, method=\"whitaker\")\n",
    "_ = nd8.plot()"
   ]
  }
 ],
 "metadata": {
  "jupytext": {
   "cell_metadata_filter": "title,-all",
   "encoding": "# -*- coding: utf-8 -*-",
   "formats": "ipynb,py:percent",
   "notebook_metadata_filter": "all"
  },
  "kernelspec": {
   "display_name": "Python 3 (ipykernel)",
   "language": "python",
   "name": "python3"
  },
  "language_info": {
   "codemirror_mode": {
    "name": "ipython",
    "version": 3
   },
   "file_extension": ".py",
   "mimetype": "text/x-python",
   "name": "python",
   "nbconvert_exporter": "python",
   "pygments_lexer": "ipython3",
   "version": "3.10.10"
  }
 },
 "nbformat": 4,
 "nbformat_minor": 5
}
