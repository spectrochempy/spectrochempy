{
 "cells": [
  {
   "cell_type": "markdown",
   "id": "dc52ed01",
   "metadata": {},
   "source": [
    "# Apodization"
   ]
  },
  {
   "cell_type": "code",
   "execution_count": null,
   "id": "17e9e3bf",
   "metadata": {},
   "outputs": [],
   "source": [
    "import spectrochempy as scp\n",
    "from spectrochempy.core.units import ur"
   ]
  },
  {
   "cell_type": "markdown",
   "id": "7211b8ce",
   "metadata": {},
   "source": [
    "## Introduction\n",
    "\n",
    "As an example, apodization is a transformation particularly useful for preprocessing NMR time domain data before\n",
    "Fourier transformation. It generally helps for signal-to-noise improvement."
   ]
  },
  {
   "cell_type": "code",
   "execution_count": null,
   "id": "9b99baa7",
   "metadata": {},
   "outputs": [],
   "source": [
    "# read an experimental spectra\n",
    "path = scp.pathclean(\"nmrdata/bruker/tests/nmr/topspin_1d\")\n",
    "\n",
    "# the method pathclean allow to write pth in linux or window style indifferently\n",
    "dataset = scp.read_topspin(path, expno=1, remove_digital_filter=True)\n",
    "dataset = dataset / dataset.max()  # normalization\n",
    "\n",
    "# store original data\n",
    "nd = dataset.copy()\n",
    "\n",
    "# show data\n",
    "nd"
   ]
  },
  {
   "cell_type": "markdown",
   "id": "8c7cd088",
   "metadata": {},
   "source": [
    "### Plot of the Real and Imaginary original data"
   ]
  },
  {
   "cell_type": "code",
   "execution_count": null,
   "id": "85874da1",
   "metadata": {},
   "outputs": [],
   "source": [
    "_ = nd.plot(xlim=(0.0, 15000.0))\n",
    "_ = nd.plot(imag=True, data_only=True, clear=False, color=\"r\")"
   ]
  },
  {
   "cell_type": "markdown",
   "id": "7bc2363f",
   "metadata": {},
   "source": [
    "### Exponential multiplication"
   ]
  },
  {
   "cell_type": "code",
   "execution_count": null,
   "id": "7de3ee69",
   "metadata": {},
   "outputs": [],
   "source": [
    "_ = nd.plot(xlim=(0.0, 15000.0))\n",
    "_ = nd.em(lb=300.0 * ur.Hz)\n",
    "_ = nd.plot(data_only=True, clear=False, color=\"g\")"
   ]
  },
  {
   "cell_type": "markdown",
   "id": "8006a9b3",
   "metadata": {},
   "source": [
    "**Warning:** processing function are most of the time applied inplace. Use\n",
    "`inplace=False` option to avoid this if\n",
    "necessary"
   ]
  },
  {
   "cell_type": "code",
   "execution_count": null,
   "id": "336fcf46",
   "metadata": {},
   "outputs": [],
   "source": [
    "nd = dataset.copy()  # to go back to the original data\n",
    "_ = nd.plot(xlim=(0.0, 5000.0))\n",
    "ndlb = nd.em(lb=300.0 * ur.Hz, inplace=False)  # ndlb contain the processed data\n",
    "_ = nd.plot(data_only=True, clear=False, color=\"g\")  # nd dataset remain unchanged\n",
    "_ = ndlb.plot(data_only=True, clear=False, color=\"b\")"
   ]
  },
  {
   "cell_type": "markdown",
   "id": "a90e214b",
   "metadata": {},
   "source": [
    "Of course, imaginary data are also transformed at the same time"
   ]
  },
  {
   "cell_type": "code",
   "execution_count": null,
   "id": "ce2e48fb",
   "metadata": {},
   "outputs": [],
   "source": [
    "_ = nd.plot(imag=True, xlim=(0, 5000), color=\"r\")\n",
    "_ = ndlb.plot(imag=True, data_only=True, clear=False, color=\"b\")"
   ]
  },
  {
   "cell_type": "markdown",
   "id": "b5820d4a",
   "metadata": {},
   "source": [
    "If we want to display the apodization function, we can use the `retapod=True` parameter."
   ]
  },
  {
   "cell_type": "code",
   "execution_count": null,
   "id": "098a3189",
   "metadata": {},
   "outputs": [],
   "source": [
    "nd = dataset.copy()\n",
    "_ = nd.plot(xlim=(0.0, 5000.0))\n",
    "ndlb, apod = nd.em(\n",
    "    lb=300.0 * ur.Hz, inplace=False, retapod=True\n",
    ")  # ndlb contain the processed data and apod the\n",
    "# apodization function\n",
    "_ = ndlb.plot(data_only=True, clear=False, color=\"b\")\n",
    "_ = apod.plot(data_only=True, clear=False, color=\"m\", linestyle=\"--\")"
   ]
  },
  {
   "cell_type": "markdown",
   "id": "0e92d972",
   "metadata": {},
   "source": [
    "#### Shifted apodization"
   ]
  },
  {
   "cell_type": "code",
   "execution_count": null,
   "id": "35469721",
   "metadata": {},
   "outputs": [],
   "source": [
    "nd = dataset.copy()\n",
    "_ = nd.plot(xlim=(0.0, 5000.0))\n",
    "ndlb, apod = nd.em(\n",
    "    lb=300.0 * ur.Hz, shifted=1000 * ur.us, inplace=False, retapod=True\n",
    ")  # ndlb contain the processed data and apod the apodization function\n",
    "_ = ndlb.plot(data_only=True, clear=False, color=\"b\")\n",
    "_ = apod.plot(data_only=True, clear=False, color=\"m\", linestyle=\"--\")"
   ]
  },
  {
   "cell_type": "markdown",
   "id": "087f3d54",
   "metadata": {},
   "source": [
    "### Other apodization functions"
   ]
  },
  {
   "cell_type": "markdown",
   "id": "602088b1",
   "metadata": {},
   "source": [
    "#### Gaussian-Lorentzian apodization"
   ]
  },
  {
   "cell_type": "code",
   "execution_count": null,
   "id": "0fa6f26d",
   "metadata": {},
   "outputs": [],
   "source": [
    "nd = dataset.copy()\n",
    "lb = 10.0\n",
    "gb = 200.0\n",
    "ndlg, apod = nd.gm(lb=lb, gb=gb, inplace=False, retapod=True)\n",
    "_ = nd.plot(xlim=(0.0, 5000.0))\n",
    "_ = ndlg.plot(data_only=True, clear=False, color=\"b\")\n",
    "_ = apod.plot(data_only=True, clear=False, color=\"m\", linestyle=\"--\")"
   ]
  },
  {
   "cell_type": "markdown",
   "id": "36927e1f",
   "metadata": {},
   "source": [
    "#### Shifted Gaussian-Lorentzian apodization"
   ]
  },
  {
   "cell_type": "code",
   "execution_count": null,
   "id": "c65be03f",
   "metadata": {},
   "outputs": [],
   "source": [
    "nd = dataset.copy()\n",
    "lb = 10.0\n",
    "gb = 200.0\n",
    "ndlg, apod = nd.gm(lb=lb, gb=gb, shifted=2000 * ur.us, inplace=False, retapod=True)\n",
    "_ = nd.plot(xlim=(0.0, 5000.0))\n",
    "_ = ndlg.plot(data_only=True, clear=False, color=\"b\")\n",
    "_ = apod.plot(data_only=True, clear=False, color=\"m\", linestyle=\"--\")"
   ]
  },
  {
   "cell_type": "markdown",
   "id": "ddb44464",
   "metadata": {},
   "source": [
    "#### Apodization using sine window multiplication\n",
    "\n",
    "The`sp`  apodization is by default performed on the last dimension.\n",
    "\n",
    "Functional form of apodization window (cfBruker TOPSPIN manual): $sp(t) = \\sin(\\frac{(\\pi - \\phi) t }{\\text{aq}} +\n",
    "\\phi)^{pow}$\n",
    "\n",
    "where\n",
    "* $0 < t < \\text{aq}$ and  $\\phi = \\pi ⁄ \\text{sbb}$ when $\\text{ssb} \\ge 2$\n",
    "\n",
    "or\n",
    "*    $\\phi = 0$ when $\\text{ssb} < 2$\n",
    "\n",
    "$\\text{aq}$ is an acquisition status parameter and $\\text{ssb}$ is a processing parameter (see below) and $\\text{\n",
    "pow}$ is an exponent equal to 1 for a sine bell window or 2 for a squared sine bell window.\n",
    "\n",
    "The $\\text{ssb}$ parameter mimics the behaviour of the `SSB` parameter on bruker TOPSPIN software:\n",
    "* Typical values are 1 for a pure sine function and 2 for a pure cosine function.\n",
    "* Values greater than 2 give a mixed sine/cosine function. Note that all values smaller than 2, for example 0,\n",
    "have the same effect as $\\text{ssb}=1$, namely a pure sine function.\n",
    "\n",
    "**Shortcuts**:\n",
    "* `sine` is strictly an alias of `sp`\n",
    "* `sinm` is equivalent to `sp` with $\\text{pow}=1$\n",
    "* `qsin` is equivalent to `sp` with $\\text{pow}=2$\n",
    "\n",
    "Below are several examples of `sinm` and `qsin` apodization functions."
   ]
  },
  {
   "cell_type": "code",
   "execution_count": null,
   "id": "e1cabe44",
   "metadata": {},
   "outputs": [],
   "source": [
    "nd = dataset.copy()\n",
    "_ = nd.plot()\n",
    "\n",
    "new, curve = nd.qsin(ssb=3, retapod=True)\n",
    "_ = curve.plot(color=\"r\", clear=False)\n",
    "_ = new.plot(xlim=(0, 25000), zlim=(-2, 2), data_only=True, color=\"r\", clear=False)"
   ]
  },
  {
   "cell_type": "code",
   "execution_count": null,
   "id": "b083322f",
   "metadata": {},
   "outputs": [],
   "source": [
    "nd = dataset.copy()\n",
    "_ = nd.plot()\n",
    "\n",
    "new, curve = nd.sinm(ssb=1, retapod=True)\n",
    "_ = curve.plot(color=\"b\", clear=False)\n",
    "_ = new.plot(xlim=(0, 25000), zlim=(-2, 2), data_only=True, color=\"b\", clear=False)"
   ]
  },
  {
   "cell_type": "code",
   "execution_count": null,
   "id": "6b54f272",
   "metadata": {},
   "outputs": [],
   "source": [
    "nd = dataset.copy()\n",
    "_ = nd.plot()\n",
    "\n",
    "new, curve = nd.sinm(ssb=3, retapod=True)\n",
    "_ = curve.plot(color=\"b\", ls=\"--\", clear=False)\n",
    "_ = new.plot(xlim=(0, 25000), zlim=(-2, 2), data_only=True, color=\"b\", clear=False)"
   ]
  },
  {
   "cell_type": "code",
   "execution_count": null,
   "id": "99d5c2e5",
   "metadata": {},
   "outputs": [],
   "source": [
    "nd = dataset.copy()\n",
    "_ = nd.plot()\n",
    "\n",
    "new, curve = nd.qsin(ssb=2, retapod=True)\n",
    "_ = curve.plot(color=\"m\", clear=False)\n",
    "_ = new.plot(xlim=(0, 25000), zlim=(-2, 2), data_only=True, color=\"m\", clear=False)"
   ]
  },
  {
   "cell_type": "code",
   "execution_count": null,
   "id": "42839a5f",
   "metadata": {},
   "outputs": [],
   "source": [
    "nd = dataset.copy()\n",
    "_ = nd.plot()\n",
    "\n",
    "new, curve = nd.qsin(ssb=1, retapod=True)\n",
    "_ = curve.plot(color=\"g\", clear=False)\n",
    "_ = new.plot(xlim=(0, 25000), zlim=(-2, 2), data_only=True, color=\"g\", clear=False)"
   ]
  }
 ],
 "metadata": {
  "jupytext": {
   "encoding": "# -*- coding: utf-8 -*-",
   "formats": "ipynb,py:percent",
   "notebook_metadata_filter": "all"
  },
  "kernelspec": {
   "display_name": "Python 3",
   "language": "python",
   "name": "python3"
  },
  "language_info": {
   "codemirror_mode": {
    "name": "ipython",
    "version": 3
   },
   "file_extension": ".py",
   "mimetype": "text/x-python",
   "name": "python",
   "nbconvert_exporter": "python",
   "pygments_lexer": "ipython3",
   "version": "3.9.1"
  },
  "widgets": {
   "application/vnd.jupyter.widget-state+json": {
    "state": {},
    "version_major": 2,
    "version_minor": 0
   }
  }
 },
 "nbformat": 4,
 "nbformat_minor": 5
}
