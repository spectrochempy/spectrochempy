{
 "cells": [
  {
   "cell_type": "markdown",
   "id": "ffb966e7",
   "metadata": {},
   "source": [
    "# Introduction\n",
    "\n",
    "The **SpectroChemPy** project was developed to provide advanced tools for processing and\n",
    "analyzing spectroscopic data, initially for internal purposes within the\n",
    "[LCS (https://www.lcs.ensicaen.fr)](https://www.lcs.ensicaen.fr).\n",
    "\n",
    "The **SpectroChemPy** project is essentially a library written in\n",
    "[python](https://www.python.org) language and provides objects,\n",
    "[NDDataset](../../reference/generated/spectrochempy.NDDataset.rst)\n",
    "and [Project](../../reference/generated/spectrochempy.Project.rst),\n",
    "to hold data, equipped with methods to analyze, transform or display these data in a\n",
    "simple way through a python type interface.\n",
    "\n",
    "The processed data are mainly spectroscopic data from techniques such as IR, Raman or\n",
    "NMR, but they are not limited to this type of application, as any type of data can be\n",
    "used."
   ]
  },
  {
   "cell_type": "markdown",
   "id": "ec556d1e",
   "metadata": {},
   "source": [
    "## About this user's guide\n",
    "\n",
    "The ``User's guide and tutorials`` section is designed to give you a quick overview of the main features of **SpectroChemPy**. It does not cover all\n",
    "features, but should help you to get started quickly, and to find your way around.\n",
    "For more details on the various features, check out the [Public API reference](../../reference/index.rst) section which gives\n",
    "a more detailed description of the API. You can also refer to the [Gallery of example](../../gallery/auto_examples/index.html)\n",
    "\n",
    "## What to do if questions arise\n",
    "\n",
    "If, despite this documentation, which we're constantly trying to improve, you still have unresolved questions, don't hesitate to post your question on the [discussion forum](https://github.com/spectrochempy/spectrochempy/discussions). You can also post on [StackOverflow](https://stackoverflow.com), if you prefer, but don't forget to put \"Spectrochempy\" in the title (as there are no tags yet to enable us to find new questions easily."
   ]
  },
  {
   "cell_type": "markdown",
   "id": "b7f9488c",
   "metadata": {},
   "source": [
    "## How to get started\n",
    "\n",
    "We assume that the SpectroChemPy package has been correctly\n",
    "installed. if is not the case, please go to [SpectroChemPy installation\n",
    "procedure](../../gettingstarted/install/index.rst)."
   ]
  },
  {
   "cell_type": "markdown",
   "id": "64024ece",
   "metadata": {},
   "source": [
    "### Writing and executing SpectroChemPy scripts\n",
    "\n",
    "If you are already an experienced `python` user, you can certainly use your favorite\n",
    "IDE to run your scripts, debug them and display the results. But if you want an easier\n",
    "way, especially if you are a beginner, we recommend you to use `Jupyter Lab` to do it.\n",
    "To get started, you can follow this link : [Jupyter Lab interface](interface.ipynb)."
   ]
  },
  {
   "cell_type": "markdown",
   "id": "d90f0a48",
   "metadata": {},
   "source": [
    "### Loading the API\n",
    "\n",
    "Before using SpectroChemPy, we need to load the **API\n",
    "(Application Programming Interface)**: it exposes many\n",
    "objects and functions.\n",
    "\n",
    "To load the API, you must import it using one of the following syntax.\n",
    "\n",
    "**Syntax 1** (recommended)\n",
    "\n",
    "In the first syntax we load the library into a namespace called `scp`\n",
    "(we recommend this name, but you can choose whatever\n",
    "you want - except something already in use):"
   ]
  },
  {
   "cell_type": "code",
   "execution_count": null,
   "id": "c5bd8332",
   "metadata": {},
   "outputs": [],
   "source": [
    "import spectrochempy as scp\n",
    "\n",
    "nd = scp.NDDataset()"
   ]
  },
  {
   "cell_type": "markdown",
   "id": "358fbeb8",
   "metadata": {},
   "source": [
    "**Syntax 2** (discouraged)\n",
    "\n",
    "With a wild `*` import. In this second syntax, the access to objects/functions can be\n",
    "greatly simplified. For example, we can use directly `NDDataset` without a prefix\n",
    "instead of `scp.NDDataset` but there is always a risk of overwriting some variables or\n",
    "functions already present in the namespace. Therefore, the first syntax is generally\n",
    "highly recommended."
   ]
  },
  {
   "cell_type": "code",
   "execution_count": null,
   "id": "b802635f",
   "metadata": {},
   "outputs": [],
   "source": [
    "from spectrochempy import *  # noqa\n",
    "\n",
    "nd = NDDataset()"
   ]
  },
  {
   "cell_type": "markdown",
   "id": "7aee8768",
   "metadata": {},
   "source": [
    "Alternatively, you can also load only the objects and function required by your\n",
    "application:"
   ]
  },
  {
   "cell_type": "code",
   "execution_count": null,
   "id": "3f51e4da",
   "metadata": {
    "lines_to_next_cell": 2
   },
   "outputs": [],
   "source": [
    "from spectrochempy import NDDataset\n",
    "\n",
    "nd = NDDataset()"
   ]
  },
  {
   "cell_type": "code",
   "execution_count": null,
   "id": "34ef49d3",
   "metadata": {},
   "outputs": [],
   "source": [
    "nd"
   ]
  },
  {
   "cell_type": "markdown",
   "id": "fc21b91e",
   "metadata": {},
   "source": [
    "## Where to go next?"
   ]
  },
  {
   "cell_type": "markdown",
   "id": "171d36dd",
   "metadata": {},
   "source": [
    "The ``User's guide & tutorial`` section is divided into several sections describing the main features of spectrochempy.\n",
    "\n",
    "* [Core objects](../objects/index.rst) : This is really the starting point for understanding how SpectroChemPy works. In fact, virtually all the functions offered by the API use one of these objects: `NDDataset` (the most important!) , `Project` or `Script`.\n",
    "\n",
    "* [Import & export](../importexport.importexport.rst) : This part shows how to import spectroscopic data and transform it into an NDDataset, the object on which processsing and analysis procedures will then be applied.\n",
    "\n",
    "* [Processing](../processing/processing.rst) : This section explains how to prepare datasets for future analysis. By processing, we mean methods which generally return the same dataset transformed by mathematical operations (for example, this may be a `sqrt` or `log` operation, or a `fft` operation or many others), or part of a dataset transformed by a slicing or concatenation operation.\n",
    "\n",
    "* [Analysis](../analysis/analysis.rst) : This section presents the analysis methods implemented in SpectroChemPy. Generally speaking, analysis methods are any methods used to extract properties or characteristics from one or more NDDatasets. Analysis methods include statistical methods (mean, standard deviation, etc.), peaks, integration, etc.\n",
    "But perhaps the most important is the implementation of various chemometrics methods (PCA, PLS-R, EFA, MCR-ALS, ...), data fit methods, and baseline extraction.\n",
    "\n",
    "* [Plotting](../plotting/plotting.py) : Finally, this section attempts to give the basics for using the plot methods included in SpectroChemPy.  These methods do not claim to cover all needs, and so it may be worthwhile for the user to learn how to use packages such as matplotlib, on which the methods described in this section are based."
   ]
  }
 ],
 "metadata": {
  "jupytext": {
   "cell_metadata_json": true,
   "formats": "ipynb,py:percent",
   "notebook_metadata_filter": "all"
  },
  "kernelspec": {
   "display_name": "Python 3 (ipykernel)",
   "language": "python",
   "name": "python3"
  },
  "language_info": {
   "codemirror_mode": {
    "name": "ipython",
    "version": 3
   },
   "file_extension": ".py",
   "mimetype": "text/x-python",
   "name": "python",
   "nbconvert_exporter": "python",
   "pygments_lexer": "ipython3",
   "version": "3.10.11"
  },
  "widgets": {
   "application/vnd.jupyter.widget-state+json": {
    "state": {},
    "version_major": 2,
    "version_minor": 0
   }
  }
 },
 "nbformat": 4,
 "nbformat_minor": 5
}
