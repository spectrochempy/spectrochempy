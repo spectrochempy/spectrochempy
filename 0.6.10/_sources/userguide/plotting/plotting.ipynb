{
 "cells": [
  {
   "cell_type": "markdown",
   "id": "cae820e2",
   "metadata": {
    "lines_to_next_cell": 0
   },
   "source": [
    "# Plotting\n",
    "\n",
    "This section shows the main plotting capabilities of SpectroChemPy. Most of them are based on [Matplotlib](\n",
    "https://matplotlib.org), one of the most used plotting library for Python, and its\n",
    "[pyplot](https://matplotlib.org/stable/tutorials/introductory/pyplot.html) interface. While not mandatory, to follow\n",
    "this tutorial, some familiarity with this library can help, and we recommend a brief look at some\n",
    "[matplotlib tutorials](https://matplotlib.org/stable/tutorials/index.html) as well.\n",
    "\n",
    "Note that in the near future, SpectroChemPy should also offer the possibility to use [Plotly](https://plotly.com/)\n",
    "for a better interactivity inside a notebook.\n",
    "\n",
    "Finally, some commands and objects used here are described in-depth in the sections related to\n",
    "[import](../importexport/import.ipynb) and [slicing](../processing/slicing.ipynb) of NDDatasets and the *\n",
    "[NDDatasets](../dataset/dataset.ipynb) themselves."
   ]
  },
  {
   "cell_type": "markdown",
   "id": "e12ffdfa",
   "metadata": {},
   "source": [
    "## Load the API\n",
    "First, before anything else, we import the spectrochempy API:"
   ]
  },
  {
   "cell_type": "code",
   "execution_count": null,
   "id": "a296377f",
   "metadata": {},
   "outputs": [],
   "source": [
    "import spectrochempy as scp"
   ]
  },
  {
   "cell_type": "markdown",
   "id": "e5fbd58b",
   "metadata": {},
   "source": [
    "## Loading the data\n",
    "For sake of demonstration we import a NDDataset consisting in infrared spectra from an omnic .spg file\n",
    "and make some (optional) preparation of the data to display\n",
    "(see also [Import IR Data](../importexport/importIR.ipynb))."
   ]
  },
  {
   "cell_type": "code",
   "execution_count": null,
   "id": "02fc9024",
   "metadata": {},
   "outputs": [],
   "source": [
    "dataset = scp.read(\"irdata/nh4y-activation.spg\")"
   ]
  },
  {
   "cell_type": "markdown",
   "id": "f6f1b5d4",
   "metadata": {},
   "source": [
    "## Preparing the data"
   ]
  },
  {
   "cell_type": "markdown",
   "id": "26ab2832",
   "metadata": {
    "lines_to_next_cell": 2
   },
   "source": []
  },
  {
   "cell_type": "code",
   "execution_count": null,
   "id": "51be9d29",
   "metadata": {},
   "outputs": [],
   "source": [
    "dataset = dataset[:, 4000.0:650.0]  # We keep only the region that we want to display"
   ]
  },
  {
   "cell_type": "markdown",
   "id": "22d2baf3",
   "metadata": {},
   "source": [
    "We change the y coordinated so that times start at 0, put it in minutes and change its title/"
   ]
  },
  {
   "cell_type": "code",
   "execution_count": null,
   "id": "91014027",
   "metadata": {},
   "outputs": [],
   "source": [
    "dataset.y -= dataset.y[0]\n",
    "dataset.y.ito(\"minutes\")\n",
    "dataset.y.title = \"relative time on stream\""
   ]
  },
  {
   "cell_type": "markdown",
   "id": "ed8f1afc",
   "metadata": {},
   "source": [
    "We also mask a region that we do not want to display"
   ]
  },
  {
   "cell_type": "code",
   "execution_count": null,
   "id": "28df8738",
   "metadata": {},
   "outputs": [],
   "source": [
    "dataset[:, 1290.0:920.0] = scp.MASKED"
   ]
  },
  {
   "cell_type": "markdown",
   "id": "eec8d572",
   "metadata": {},
   "source": [
    "## Selecting the output window"
   ]
  },
  {
   "cell_type": "markdown",
   "id": "4e5c3bb4",
   "metadata": {},
   "source": [
    "For the examples below, we use inline matplotlib figures (non-interactive): this can be forced using the magic\n",
    "function before loading spectrochempy.:\n",
    "```ipython3\n",
    "%matplotlib inline\n",
    "```\n",
    "but it is also the default in `Jupyter lab` (so we don't really need to specify this). Note that when such magic\n",
    "function has been used, it is not possible to change the setting, except by resetting the notebook kernel.\n",
    "\n",
    "If one wants interactive displays (with selection, zooming, etc...) one can use:\n",
    "```ipython3\n",
    "    %matplotlib widget\n",
    "```\n",
    "However, this suffers (at least for us) some incompatibilities in `jupyter lab` ...\n",
    "it is worth to try!\n",
    "If you can not get it working in `jupyter lab` and you need interactivity, you can\n",
    "use the following:\n",
    "```ipython3\n",
    "    %matplotlib\n",
    "```\n",
    "which has the effect of displaying the figures in independent windows using default\n",
    "matplotlib backend (e.g.,\n",
    "`Tk` ), with all the interactivity of matplotlib.\n",
    "\n",
    "But you can explicitly request a different GUI backend:\n",
    "```ipython3\n",
    "    %matplotlib qt\n",
    "```"
   ]
  },
  {
   "cell_type": "code",
   "execution_count": null,
   "id": "4c66c3f9",
   "metadata": {},
   "outputs": [],
   "source": [
    "%matplotlib inline"
   ]
  },
  {
   "cell_type": "markdown",
   "id": "707aea5a",
   "metadata": {},
   "source": [
    "## Default plotting"
   ]
  },
  {
   "cell_type": "markdown",
   "id": "e33c1db2",
   "metadata": {},
   "source": [
    "To plot the previously loaded dataset, it is very simple: we use the `plot` command (generic plot).\n",
    "\n",
    "As the current NDDataset is 2D, a **stack plot** is displayed by default, with a **viridis** colormap."
   ]
  },
  {
   "cell_type": "code",
   "execution_count": null,
   "id": "11cd47bd",
   "metadata": {},
   "outputs": [],
   "source": [
    "_ = dataset.plot()"
   ]
  },
  {
   "cell_type": "markdown",
   "id": "7cd6a737",
   "metadata": {
    "lines_to_next_cell": 0
   },
   "source": [
    "Note, in the cell above, that we used ` _ = ... `  syntax.\n",
    "This is to avoid any output but the plot from this statement.\n",
    "\n",
    "Note also that the `plot()` method uses some of NDDataset metadata: the `NDDataset.x` coordinate `data` (here the\n",
    "wavenumber values), `name` (here 'wavenumbers'), `units` (here 'cm-1') as well as the `NDDataset.title`\n",
    "(here 'absorbance') and `NDDataset.units (here 'absorbance')."
   ]
  },
  {
   "cell_type": "markdown",
   "id": "2ea5df7f",
   "metadata": {},
   "source": [
    "## Changing the aspect of the plot"
   ]
  },
  {
   "cell_type": "markdown",
   "id": "ad1b1810",
   "metadata": {},
   "source": [
    "### Change the `NDDataset.preferences`\n",
    "We can change the default plot configuration for this dataset by changing its `preferences' attributes\n",
    "(see at the end of this tutorial  for an overview of all the available parameters)."
   ]
  },
  {
   "cell_type": "code",
   "execution_count": null,
   "id": "043c210c",
   "metadata": {
    "lines_to_next_cell": 2
   },
   "outputs": [],
   "source": [
    "prefs = dataset.preferences  # we will use prefs instead of dataset.preference\n",
    "prefs.figure.figsize = (6, 3)  # The default figsize is (6.8,4.4)\n",
    "prefs.colorbar = True  # This add a color bar on a side\n",
    "prefs.colormap = \"magma\"  # The default colormap is viridis\n",
    "prefs.axes.facecolor = \".95\"  # Make the graph background colored in a light gray\n",
    "prefs.axes.grid = True\n",
    "\n",
    "_ = dataset.plot()"
   ]
  },
  {
   "cell_type": "markdown",
   "id": "ed9d3576",
   "metadata": {},
   "source": [
    "The colormap can also be changed by setting `cmap` in the arguments.\n",
    "If you prefer not using colormap, `cmap=None` should be used. For instance:"
   ]
  },
  {
   "cell_type": "code",
   "execution_count": null,
   "id": "14feabc5",
   "metadata": {},
   "outputs": [],
   "source": [
    "_ = dataset.plot(cmap=None, colorbar=False)"
   ]
  },
  {
   "cell_type": "markdown",
   "id": "54614856",
   "metadata": {},
   "source": [
    "Note that, by default, **sans-serif** font are used for all text in the figure.\n",
    "But if you prefer, **serif**, or *monospace* font can be used instead. For instance:"
   ]
  },
  {
   "cell_type": "code",
   "execution_count": null,
   "id": "6296681a",
   "metadata": {},
   "outputs": [],
   "source": [
    "prefs.font.family = \"monospace\"\n",
    "_ = dataset.plot()"
   ]
  },
  {
   "cell_type": "markdown",
   "id": "06dc7691",
   "metadata": {},
   "source": [
    "Once changed, the `NDDataset.preferences` attributes will be used for the subsequent plots, but can be reset to the\n",
    "initial defaults anytime using the `NDDataset.preferences.reset()` method. For instance:"
   ]
  },
  {
   "cell_type": "code",
   "execution_count": null,
   "id": "9a1506bc",
   "metadata": {},
   "outputs": [],
   "source": [
    "print(f\"font before reset: {prefs.font.family}\")\n",
    "prefs.reset()\n",
    "print(f\"font after reset: {prefs.font.family}\")"
   ]
  },
  {
   "cell_type": "markdown",
   "id": "7dd2d417",
   "metadata": {},
   "source": [
    "It is also possible to change a parameter for a single plot without changing the `preferences` attribute by passing\n",
    "it as an argument of the `plot()`method. For instance, as in matplotlib, the default colormap is `viridis':"
   ]
  },
  {
   "cell_type": "code",
   "execution_count": null,
   "id": "ab486c86",
   "metadata": {},
   "outputs": [],
   "source": [
    "prefs.colormap"
   ]
  },
  {
   "cell_type": "markdown",
   "id": "38c9a910",
   "metadata": {},
   "source": [
    "but 'magma' can be passed to the `plot()` method:"
   ]
  },
  {
   "cell_type": "code",
   "execution_count": null,
   "id": "bea9b776",
   "metadata": {},
   "outputs": [],
   "source": [
    "_ = dataset.plot(colormap=\"magma\")"
   ]
  },
  {
   "cell_type": "markdown",
   "id": "b3695d77",
   "metadata": {},
   "source": [
    "while the `preferences.colormap` is still set to `viridis':"
   ]
  },
  {
   "cell_type": "code",
   "execution_count": null,
   "id": "e99bf20d",
   "metadata": {},
   "outputs": [],
   "source": [
    "prefs.colormap"
   ]
  },
  {
   "cell_type": "markdown",
   "id": "73a01f26",
   "metadata": {},
   "source": [
    "and will be used by default for the next plots:"
   ]
  },
  {
   "cell_type": "code",
   "execution_count": null,
   "id": "5c888723",
   "metadata": {},
   "outputs": [],
   "source": [
    "_ = dataset.plot()"
   ]
  },
  {
   "cell_type": "markdown",
   "id": "f7231ebc",
   "metadata": {},
   "source": [
    "## Adding titles and annotations"
   ]
  },
  {
   "cell_type": "markdown",
   "id": "08482c97",
   "metadata": {},
   "source": [
    "The plot function return a reference to the subplot `ax` object on which the data have been plotted.\n",
    "We can then use this reference to modify some element of the plot.\n",
    "\n",
    "For example, here we add a title and some annotations:"
   ]
  },
  {
   "cell_type": "code",
   "execution_count": null,
   "id": "90d151c0",
   "metadata": {},
   "outputs": [],
   "source": [
    "prefs.reset()\n",
    "prefs.colorbar = False\n",
    "prefs.colormap = \"terrain\"\n",
    "prefs.font.family = \"monospace\"\n",
    "\n",
    "ax = dataset.plot()\n",
    "ax.grid(\n",
    "    False\n",
    ")  # This temporarily suppress the grid after the plot is done but is not saved in prefs\n",
    "\n",
    "# set title\n",
    "title = ax.set_title(\"NH$_4$Y IR spectra during activation\")\n",
    "title.set_color(\"red\")\n",
    "title.set_fontstyle(\"italic\")\n",
    "title.set_fontsize(14)\n",
    "\n",
    "# put some text\n",
    "ax.text(1200.0, 1, \"Masked region\\n (saturation)\", rotation=90)\n",
    "\n",
    "# put some fancy annotations (see matplotlib documentation to learn how to design this)\n",
    "_ = ax.annotate(\n",
    "    \"OH groups\",\n",
    "    xy=(3600.0, 1.25),\n",
    "    xytext=(-10, -50),\n",
    "    textcoords=\"offset points\",\n",
    "    arrowprops=dict(\n",
    "        arrowstyle=\"fancy\",\n",
    "        color=\"0.5\",\n",
    "        shrinkB=5,\n",
    "        connectionstyle=\"arc3,rad=-0.3\",\n",
    "    ),\n",
    ")"
   ]
  },
  {
   "cell_type": "markdown",
   "id": "9d33def4",
   "metadata": {},
   "source": [
    "More information about annotation can be found in the [matplotlib documentation:  annotations](\n",
    "https://matplotlib.org/stable/tutorials/text/annotations.html)"
   ]
  },
  {
   "cell_type": "markdown",
   "id": "74215a8a",
   "metadata": {},
   "source": [
    "## Changing the plot style using matplotlib style sheets"
   ]
  },
  {
   "cell_type": "markdown",
   "id": "732f7f29",
   "metadata": {},
   "source": [
    " The easiest way to change the plot style may be to use pre-defined styles such as those used in [matplotlib\n",
    " styles](https://matplotlib.org/stable/tutorials/introductory/customizing.html). This is directly included in the\n",
    " preferences of SpectroChemPy"
   ]
  },
  {
   "cell_type": "code",
   "execution_count": null,
   "id": "a1b94a97",
   "metadata": {},
   "outputs": [],
   "source": [
    "prefs.style = \"grayscale\"\n",
    "_ = dataset.plot()"
   ]
  },
  {
   "cell_type": "code",
   "execution_count": null,
   "id": "df2c835d",
   "metadata": {},
   "outputs": [],
   "source": [
    "prefs.style = \"ggplot\"\n",
    "_ = dataset.plot()"
   ]
  },
  {
   "cell_type": "markdown",
   "id": "06cdbd95",
   "metadata": {},
   "source": [
    "Other styles are :\n",
    "* paper , which create figure suitable for two columns article (fig width: 3.4 inch)\n",
    "* poster\n",
    "* talk"
   ]
  },
  {
   "cell_type": "markdown",
   "id": "55699d47",
   "metadata": {},
   "source": [
    "the styles can be combined, so you can have a style sheet that customizes\n",
    "colors and a separate style sheet that alters element sizes for presentations:"
   ]
  },
  {
   "cell_type": "code",
   "execution_count": null,
   "id": "0101e048",
   "metadata": {},
   "outputs": [],
   "source": [
    "prefs.reset()\n",
    "prefs.style = \"grayscale\", \"paper\"\n",
    "_ = dataset.plot(colorbar=True)"
   ]
  },
  {
   "cell_type": "markdown",
   "id": "7793f02d",
   "metadata": {},
   "source": [
    "As previously, style specification can also be done directly in the plot method without\n",
    "affecting the `preferences' attribute."
   ]
  },
  {
   "cell_type": "code",
   "execution_count": null,
   "id": "219e9c5c",
   "metadata": {},
   "outputs": [],
   "source": [
    "prefs.colormap = \"magma\"\n",
    "_ = dataset.plot(style=[\"scpy\", \"paper\"])"
   ]
  },
  {
   "cell_type": "markdown",
   "id": "2c3539d5",
   "metadata": {},
   "source": [
    "To get a list of all available styles :"
   ]
  },
  {
   "cell_type": "code",
   "execution_count": null,
   "id": "69e77eee",
   "metadata": {},
   "outputs": [],
   "source": [
    "prefs.available_styles"
   ]
  },
  {
   "cell_type": "markdown",
   "id": "eacbeeed",
   "metadata": {},
   "source": [
    "Again, to restore the default setting, you can use the reset function"
   ]
  },
  {
   "cell_type": "code",
   "execution_count": null,
   "id": "1bdd4473",
   "metadata": {},
   "outputs": [],
   "source": [
    "prefs.reset()\n",
    "_ = dataset.plot()"
   ]
  },
  {
   "cell_type": "markdown",
   "id": "df0d4b4e",
   "metadata": {},
   "source": [
    "## Create your own style\n",
    "\n",
    "If you want to create your own style for later use, you can use the command  `makestyle` (**warning**: you can not\n",
    "use `scpy` which is the READONLY default style:"
   ]
  },
  {
   "cell_type": "code",
   "execution_count": null,
   "id": "35afde20",
   "metadata": {},
   "outputs": [],
   "source": [
    "prefs.makestyle(\"scpy\")"
   ]
  },
  {
   "cell_type": "markdown",
   "id": "2236f35e",
   "metadata": {},
   "source": [
    "If no name is provided a default name is used :`mydefault`"
   ]
  },
  {
   "cell_type": "code",
   "execution_count": null,
   "id": "5ca6a033",
   "metadata": {},
   "outputs": [],
   "source": [
    "prefs.makestyle()"
   ]
  },
  {
   "cell_type": "markdown",
   "id": "ba245379",
   "metadata": {},
   "source": [
    "**Example:**\n"
   ]
  },
  {
   "cell_type": "code",
   "execution_count": null,
   "id": "81f96a61",
   "metadata": {},
   "outputs": [],
   "source": [
    "prefs.reset()\n",
    "prefs.colorbar = True\n",
    "prefs.colormap = \"jet\"\n",
    "prefs.font.family = \"monospace\"\n",
    "prefs.font.size = 14\n",
    "prefs.axes.labelcolor = \"blue\"\n",
    "prefs.axes.grid = True\n",
    "prefs.axes.grid_axis = \"x\"\n",
    "\n",
    "_ = dataset.plot()\n",
    "\n",
    "prefs.makestyle()"
   ]
  },
  {
   "cell_type": "code",
   "execution_count": null,
   "id": "84e08678",
   "metadata": {},
   "outputs": [],
   "source": [
    "prefs.reset()\n",
    "_ = dataset.plot()  # plot with the default scpy style"
   ]
  },
  {
   "cell_type": "code",
   "execution_count": null,
   "id": "ebc59b5d",
   "metadata": {},
   "outputs": [],
   "source": [
    "prefs.style = \"mydefault\"\n",
    "_ = dataset.plot()  # plot with our own style"
   ]
  },
  {
   "cell_type": "markdown",
   "id": "8d0369d6",
   "metadata": {},
   "source": [
    "## Changing the type of plot"
   ]
  },
  {
   "cell_type": "markdown",
   "id": "b2b175a6",
   "metadata": {},
   "source": [
    "By default, plots of 2D datasets are done in 'stack' mode. Other available modes are 'map', 'image', 'surface' and\n",
    "'waterfall'.\n",
    "\n",
    "The default can be changed permanently by setting the variable `pref.method_2D` to one of these alternative modes,\n",
    "for instance if you like to have contour plot, you can use:"
   ]
  },
  {
   "cell_type": "code",
   "execution_count": null,
   "id": "243f64a0",
   "metadata": {},
   "outputs": [],
   "source": [
    "prefs.reset()\n",
    "\n",
    "prefs.method_2D = \"map\"  # this will change permanently the type of 2D plot\n",
    "prefs.colormap = \"magma\"\n",
    "prefs.figure_figsize = (5, 3)\n",
    "_ = dataset.plot()"
   ]
  },
  {
   "cell_type": "markdown",
   "id": "63316f96",
   "metadata": {
    "lines_to_next_cell": 0
   },
   "source": [
    "You can also, for an individual plot use specialised plot commands, such as `plot_stack()` , `plot_map()` ,\n",
    "`plot_waterfall()` , `plot_surface()` or `plot_image()` , or equivalently the generic `plot` function with\n",
    "the `method` parameter, i.e., `plot(method='stack')` , `plot(method='map')` , etc...\n",
    "\n",
    "These modes are illustrated below:"
   ]
  },
  {
   "cell_type": "code",
   "execution_count": null,
   "id": "d62b91eb",
   "metadata": {},
   "outputs": [],
   "source": [
    "prefs.axes_facecolor = \"white\"\n",
    "_ = dataset.plot_image(colorbar=True)  # will use image_cmap preference!"
   ]
  },
  {
   "cell_type": "markdown",
   "id": "36707fa7",
   "metadata": {},
   "source": [
    "Here we use the generic `plot()` with the `method' argument and we change the image_cmap:"
   ]
  },
  {
   "cell_type": "code",
   "execution_count": null,
   "id": "985acb39",
   "metadata": {},
   "outputs": [],
   "source": [
    "_ = dataset.plot(method=\"image\", image_cmap=\"jet\", colorbar=True)"
   ]
  },
  {
   "cell_type": "markdown",
   "id": "6a3b4d44",
   "metadata": {},
   "source": [
    "The colormap normalization can be changed using the `norm` parameter, as illustrated below,\n",
    "for a centered colomap:"
   ]
  },
  {
   "cell_type": "code",
   "execution_count": null,
   "id": "c9900fbf",
   "metadata": {},
   "outputs": [],
   "source": [
    "import matplotlib as mpl\n",
    "\n",
    "norm = mpl.colors.CenteredNorm()\n",
    "_ = dataset.plot(method=\"image\", image_cmap=\"jet\", colorbar=True, norm=norm)"
   ]
  },
  {
   "cell_type": "markdown",
   "id": "51d46230",
   "metadata": {},
   "source": [
    "or below for a log scale (more information about colormap normalization can be found\n",
    "[here](https://matplotlib.org/stable/users/explain/colors/colormapnorms.html))."
   ]
  },
  {
   "cell_type": "code",
   "execution_count": null,
   "id": "17332b5e",
   "metadata": {},
   "outputs": [],
   "source": [
    "norm = mpl.colors.LogNorm(vmin=0.1, vmax=4.0)\n",
    "_ = dataset.plot(method=\"image\", image_cmap=\"jet\", colorbar=True, norm=norm)"
   ]
  },
  {
   "cell_type": "markdown",
   "id": "ccfdcb5e",
   "metadata": {},
   "source": [
    "Below an example of a waterfall plot:"
   ]
  },
  {
   "cell_type": "code",
   "execution_count": null,
   "id": "528ef643",
   "metadata": {},
   "outputs": [],
   "source": [
    "prefs.reset()\n",
    "_ = dataset.plot_waterfall(figsize=(7, 4), y_reverse=True)"
   ]
  },
  {
   "cell_type": "markdown",
   "id": "7e308ba2",
   "metadata": {},
   "source": [
    "And finally an example of a surface plot:"
   ]
  },
  {
   "cell_type": "code",
   "execution_count": null,
   "id": "eae84219",
   "metadata": {
    "lines_to_next_cell": 0
   },
   "outputs": [],
   "source": [
    "prefs.reset()\n",
    "_ = dataset.plot_surface(figsize=(7, 7), linewidth=0, y_reverse=True, autolayout=False)"
   ]
  },
  {
   "cell_type": "markdown",
   "id": "a22a6662",
   "metadata": {},
   "source": [
    "## Plotting 1D datasets"
   ]
  },
  {
   "cell_type": "code",
   "execution_count": null,
   "id": "54658be8",
   "metadata": {},
   "outputs": [],
   "source": [
    "prefs.reset()\n",
    "d1D = dataset[-1]  # select the last row of the previous 2D dataset\n",
    "_ = d1D.plot(color=\"r\")"
   ]
  },
  {
   "cell_type": "code",
   "execution_count": null,
   "id": "e67e1c8c",
   "metadata": {},
   "outputs": [],
   "source": [
    "prefs.style = \"seaborn-v0_8-paper\"\n",
    "_ = dataset[3].plot(scatter=True, pen=False, me=30, ms=5)"
   ]
  },
  {
   "cell_type": "markdown",
   "id": "6f30b926",
   "metadata": {},
   "source": [
    "## Plotting several dataset on the same figure"
   ]
  },
  {
   "cell_type": "markdown",
   "id": "767c1b57",
   "metadata": {},
   "source": [
    "We can plot several datasets on the same figure using the `clear` argument."
   ]
  },
  {
   "cell_type": "code",
   "execution_count": null,
   "id": "58e03cf5",
   "metadata": {},
   "outputs": [],
   "source": [
    "nspec = int(len(dataset) / 4)\n",
    "ds1 = dataset[:nspec]  # split the dataset into too parts\n",
    "ds2 = dataset[nspec:] - 2.0  # add an offset to the second part\n",
    "\n",
    "ax1 = ds1.plot_stack()\n",
    "_ = ds2.plot_stack(ax=ax1, clear=False, zlim=(-2.5, 4))"
   ]
  },
  {
   "cell_type": "markdown",
   "id": "b8a0d95e",
   "metadata": {},
   "source": [
    "For 1D datasets only, you can also use the `plot_multiple`method:"
   ]
  },
  {
   "cell_type": "code",
   "execution_count": null,
   "id": "6409c11d",
   "metadata": {},
   "outputs": [],
   "source": [
    "datasets = [dataset[0], dataset[10], dataset[20], dataset[50], dataset[53]]\n",
    "labels = [\"sample {}\".format(label) for label in [\"S1\", \"S10\", \"S20\", \"S50\", \"S53\"]]\n",
    "prefs.reset()\n",
    "prefs.axes.facecolor = \".99\"\n",
    "prefs.axes.grid = True\n",
    "_ = scp.plot_multiple(\n",
    "    method=\"scatter\", me=10, datasets=datasets, labels=labels, legend=\"best\"\n",
    ")"
   ]
  },
  {
   "cell_type": "markdown",
   "id": "b1c4f913",
   "metadata": {},
   "source": [
    "## Overview of the main configuration parameters"
   ]
  },
  {
   "cell_type": "markdown",
   "id": "3301d191",
   "metadata": {},
   "source": [
    "To display a dictionary of the current settings (**compared to those set by default**\n",
    "at API startup), you can simply type :"
   ]
  },
  {
   "cell_type": "code",
   "execution_count": null,
   "id": "5a9b8377",
   "metadata": {},
   "outputs": [],
   "source": [
    "prefs"
   ]
  },
  {
   "cell_type": "markdown",
   "id": "475db80f",
   "metadata": {},
   "source": [
    "**Warning**: Note that with respect to matplotlib,the parameters in the `dataset.preferences` dictionary\n",
    "have a slightly different name, e.g. `figure_figsize` (SpectroChemPy) instead of `figure.figsize` (matplotlib syntax)\n",
    "(this is because in SpectroChemPy, dot (` .` ) cannot be used in parameter name,\n",
    "and thus it is replaced by an underscore (`_` ))\n"
   ]
  },
  {
   "cell_type": "markdown",
   "id": "9f125ff9",
   "metadata": {},
   "source": [
    "To display the current values of **all parameters** corresponding to one group, e.g. `lines` , type:"
   ]
  },
  {
   "cell_type": "code",
   "execution_count": null,
   "id": "d9c6ade0",
   "metadata": {},
   "outputs": [],
   "source": [
    "prefs.lines"
   ]
  },
  {
   "cell_type": "markdown",
   "id": "bd7ec1b0",
   "metadata": {},
   "source": [
    "To display **help** on a single parameter, type:"
   ]
  },
  {
   "cell_type": "code",
   "execution_count": null,
   "id": "8f70b7a9",
   "metadata": {},
   "outputs": [],
   "source": [
    "prefs.help(\"lines_linewidth\")"
   ]
  },
  {
   "cell_type": "markdown",
   "id": "d0012dfb",
   "metadata": {},
   "source": [
    "To view **all parameters**:"
   ]
  },
  {
   "cell_type": "code",
   "execution_count": null,
   "id": "35f247f0",
   "metadata": {},
   "outputs": [],
   "source": [
    "prefs.all()"
   ]
  }
 ],
 "metadata": {
  "jupytext": {
   "encoding": "# -*- coding: utf-8 -*-",
   "formats": "ipynb,py:percent",
   "notebook_metadata_filter": "all"
  },
  "kernelspec": {
   "display_name": "Python 3",
   "language": "python",
   "name": "python3"
  },
  "language_info": {
   "codemirror_mode": {
    "name": "ipython",
    "version": 3
   },
   "file_extension": ".py",
   "mimetype": "text/x-python",
   "name": "python",
   "nbconvert_exporter": "python",
   "pygments_lexer": "ipython3",
   "version": "3.9.1"
  },
  "widgets": {
   "application/vnd.jupyter.widget-state+json": {
    "state": {},
    "version_major": 2,
    "version_minor": 0
   }
  }
 },
 "nbformat": 4,
 "nbformat_minor": 5
}
