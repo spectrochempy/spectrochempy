{
 "cells": [
  {
   "cell_type": "markdown",
   "metadata": {
    "id": "poawrNtp9F0J"
   },
   "source": [
    "## <font color='green'>Tutorial on the installation on Colaboratory</font>\n",
    "\n",
    "In this notebook we want to demonstrate how to run spectrochempy on Colaboratory. For\n",
    " a demonstration of the usage of SpectroChemPy refer to our [tutorial pages](tutorials.spectrochempy.fr).\n"
   ]
  },
  {
   "cell_type": "markdown",
   "metadata": {
    "id": "0nCwMjll0mnt",
    "pycharm": {
     "name": "#%% md\n"
    }
   },
   "source": [
    "### SpectroChemPy installation\n",
    "\n",
    "**SpectroChemPy** is not pre-installed in Colab. It is therefore necessary to install it before using it.\n",
    "\n",
    "To do this, we execute the following shell command:"
   ]
  },
  {
   "cell_type": "code",
   "execution_count": 1,
   "metadata": {
    "id": "nqn1d3KIQsDl",
    "pycharm": {
     "name": "#%%\n"
    }
   },
   "outputs": [],
   "source": [
    "!python -m pip install spectrochempy &>> output.log\n",
    "exit(0)"
   ]
  },
  {
   "cell_type": "markdown",
   "metadata": {
    "id": "6JBhkXDxRU2Y"
   },
   "source": [
    "Note that the `!`, at the beginning of the command, means that it is not a python command but that it belongs to the shell (*i.e.,* the interface to the Linux operating system used by the Google Colab servers).\n",
    "\n",
    "To avoid having too many messages, we redirect the output to a log file (`output.log`).\n",
    "\n",
    "The whole installation process which requires the loading of several libraries not preinstalled by Colab takes 1 to 2 minutes.\n",
    "\n",
    "The second instruction ``exit()`` automatically restarts the runtime environment to take into account the new libraries we just installed: don't pay attention to the popup messages about the crash/restart of the session. You can close them safely."
   ]
  },
  {
   "cell_type": "markdown",
   "metadata": {
    "id": "jr26EpTDRj7C",
    "pycharm": {
     "name": "#%% md\n"
    }
   },
   "source": [
    "If you want to try our latest development version instead of the stable version, use the following command. Using the development version is recommended to take advantage of the latest improvements and bug fixes:"
   ]
  },
  {
   "cell_type": "code",
   "execution_count": null,
   "metadata": {
    "id": "Zg0c-xKb_hQD",
    "pycharm": {
     "name": "#%%\n"
    }
   },
   "outputs": [],
   "source": [
    "!python -m pip install git+https://github.com/spectrochempy/spectrochempy.git &>> output.log\n",
    "exit(0)"
   ]
  },
  {
   "cell_type": "markdown",
   "metadata": {
    "id": "hg44iACm2Ffd",
    "pycharm": {
     "name": "#%% md\n"
    }
   },
   "source": [
    "### Loading the SpectroChemPy API\n",
    "\n",
    "The recommended way of loading SpectroChemPy in the notebook namespace is as follows:"
   ]
  },
  {
   "cell_type": "code",
   "execution_count": 1,
   "metadata": {
    "id": "a1_yv0dzH3bk",
    "pycharm": {
     "name": "#%%\n"
    }
   },
   "outputs": [
    {
     "data": {
      "text/html": [
       "\n",
       "    \n",
       "    <div>\n",
       "    <table>\n",
       "    <tr>\n",
       "    <td>\n",
       "    \n",
       "    <img src='data:image/png;base64,iVBORw0KGgoAAAANSUhEUgAAABgAAAAYCAYAAADgdz34AAAAAXNSR0IArs4c6QAAAAlw\n",
       "    SFlzAAAJOgAACToB8GSSSgAAAetpVFh0WE1MOmNvbS5hZG9iZS54bXAAAAAAADx4OnhtcG1ldGEgeG1sbnM6eD0iYWRvYmU6bnM6\n",
       "    bWV0YS8iIHg6eG1wdGs9IlhNUCBDb3JlIDUuNC4wIj4KICAgPHJkZjpSREYgeG1sbnM6cmRmPSJodHRwOi8vd3d3LnczLm9yZy8x\n",
       "    OTk5LzAyLzIyLXJkZi1zeW50YXgtbnMjIj4KICAgICAgPHJkZjpEZXNjcmlwdGlvbiByZGY6YWJvdXQ9IiIKICAgICAgICAgICAg\n",
       "    eG1sbnM6eG1wPSJodHRwOi8vbnMuYWRvYmUuY29tL3hhcC8xLjAvIgogICAgICAgICAgICB4bWxuczp0aWZmPSJodHRwOi8vbnMu\n",
       "    YWRvYmUuY29tL3RpZmYvMS4wLyI+CiAgICAgICAgIDx4bXA6Q3JlYXRvclRvb2w+bWF0cGxvdGxpYiB2ZXJzaW9uIDIuMS4wLCBo\n",
       "    dHRwOi8vbWF0cGxvdGxpYi5vcmcvPC94bXA6Q3JlYXRvclRvb2w+CiAgICAgICAgIDx0aWZmOk9yaWVudGF0aW9uPjE8L3RpZmY6\n",
       "    T3JpZW50YXRpb24+CiAgICAgIDwvcmRmOkRlc2NyaXB0aW9uPgogICA8L3JkZjpSREY+CjwveDp4bXBtZXRhPgqNQaNYAAAGiUlE\n",
       "    QVRIDY1We4xU1Rn/3XPuYx47u8w+hnU38hTcuoUEt/6D2y4RB0ME1BoEd9taJaKh9CFiN7YGp7appUAMNmktMZFoJTYVLVQ0smsy\n",
       "    26CN0SU1QgsuFAaW3WVmx33N677O6XfuyoIxTXqSO/fec+75fd93vt/3/UbDV0aKSZmCpkFMLz3T9utuu2N+o98aDSMBKVAo89z5\n",
       "    y+zEz3ZafcCOfvWdlGCalqKn1Bf71CygTd+mf1esSOnpdMpTb+vWpTZuWVfe3jLPa5tzHYNm0T5N0gpdkkHaDBeGBU6d1/t/fyS8\n",
       "    +/CbqdfUvmsx1PuMgc2bNxv79u1zgd31r+7JH1jbIZKxWRXAcYUQ8IWvBfBXNjEuJWPgMA02NR7C3/pYT9fjdZ3A9tGrWF8YSJHn\n",
       "    qcDz3y7q2T967PZv+gnYJdd1mEZ+62zGDQV/dQgKhmLzDNOXCEWM3j6eTT5Y3w78dOBKJLR1PQf+4ivPj76UPZnssBN+wbM9Aet/\n",
       "    AV81Mf1EEULXYfOobvX2WWQk0aoioXwwSmirOlioY0mu8BIouzYl7P8GV3vpqCCEZvlFz769w08oLDWvyKIyL1asSm28d6WfzA97\n",
       "    ztvvV1kexUMsmhlkULEkuGYmFYC6AvfUrITnwUKl5K79lkjeSSRRTCTbQPd95e1WzMbZSya74XoXAxctCllCnbECMOjZNGRwvzIX\n",
       "    nD85wbkMmKK+U045Dtdi8Qp+SAxU2GTg2bYlC9224pgvmSb54vkVTBQYyhUt2KjAMyMmPjwRQW5Mh2WKwJhlBh6jVGagFM84wZnQ\n",
       "    4bpC0Rt4pk1PbSt0NDcxDA5xryosDHWgtbM0DGZDWLSoiDMDYeQnGVrmOThxLozB0RAaahzkJzjKNqcIQBymJFMkOlN8Dqjpg0XY\n",
       "    Tx5xO/QbmmUrqIjGJznq47TqTaClKYfjp+PInLMwnOdYvtQBZ2XcunQY+VwIo4U4muoFEjVEFE6lQyEUKzHYfgQG9ylCyngU+Cxj\n",
       "    tOqxCDGHcCsOMCs6iQul5ZiStdATYxjMZXDLTUVwLY8Jey4uOh2IxjwsrP8UXJYxUrkZrghBahzV5iXU6gNkq0Z1EzIsUBUSCV2n\n",
       "    EOHo0LVxHCpuxabJJdhi5PFnvw5vLXwXIfNZvD/+JNo/X40NegE54sUaazl+UL8XD1x+FB9Ijjt4EQfdGN6J/x131LwIV9ap/AYs\n",
       "    0x1fz1ZKFbh6A7qKy/By9Dg6G36Ep91vUJJ15Cqr0Z67E8/HzmBrw1OwxWyM+3Mo6BAuSB17oyfx0Oyl2DN0Hqs/70Cx6hBCvESF\n",
       "    UY1ShWXZZEE7OTAYxZzaPH4TuoiusZvRnunFy2NbiHYuBp2vB66srX4vMEjpRKPxKXmnoQ4+Mn4DPiv8CYcrs3GfNUXJLtM+alSO\n",
       "    hrMj/KT+wBNW3+E/2liywNO3iSflbaFva/+stGDTxE0E9Sjaox8HBhxpEamzMGSEaFKg+mjEddzDh1MxTDq3YV1kGBsjfwW3S9Cq\n",
       "    anjmko+ndlb1UR3s6K8JlfphNWq9Ew/7c61T2BB/EbcaNkb8GBaE0tANH7/M34PLdhJDzjIcL9xPbdTG6zyM72Y+wXPHmvB489No\n",
       "    fm0b5HnbQ9Rgp/7DSSd29AeVvPeNyK6JcYl/yQVi5dBjuGvoV/gaJe47s45QUxrDmcYX0MBsdF7egvXZ7+O0vZA4X8QmOQWjlSK7\n",
       "    RDz5wIM30gp9UbWcGjXxhzdDu1SiNSpx6kcQB57rPnr/3dlkZarWLnlRq5oPET1dOCIOk4wALib9eeS5iygfhkd09H0DWphB/+gs\n",
       "    +PcOAS+ssrFmmXXgVfR0de9cpbAJfH3Q1jofW9DZk56dDcVsq9YcsoUMEd1qyLoT3BX1YiyHMJuk97hyjqIoE91t+NcTLeN0ZrfM\n",
       "    oXatZbu6G0h4VG+ibqq0IJVK6cAjo6serG3vSUezCMct0yQeSOFJSUImqb2qbknUpDqlZxE0QZ+ZUpSlZx79h4Nda6zef9dlk121\n",
       "    JDjbR5XggPRZlRnS6bRQRtLpn4++cuie/Yvn2svmNxuLw9WCcYIl4fEoTEGiSTUqJdfgU+8ROqf1iMkLzS389YtNPXc/PH8l8ONB\n",
       "    JZkHD+4JtD04HmVEDWWErmBhzV2/2LB1bemJG6krzv2S6NOHUgtEP0Oif5pE/3fHoruP7N8RiP61GArzSwbUhJJQpXJKiKbfr/3b\n",
       "    IhKq76sKPUdF9NW/LSqfSn6vjv8C45H/6FSgvZQAAAAASUVORK5CYII='\n",
       "         style='height:25px; border-radius:12px; display:inline-block; float:left; vertical-align:middle'>\n",
       "    </img>\n",
       "    \n",
       "    </td>\n",
       "    <td>\n",
       "    \n",
       "    &nbsp;&nbsp;<span style='font-size:12px'>SpectroChemPy's API - v.0.4.5.dev17+gfdc8dea14.d20220325<br/>© Copyright 2014-2022 - A.Travert & C.Fernandez @ LCS</span>\n",
       "    \n",
       "    </td>\n",
       "    </tr>\n",
       "    </table>\n",
       "    </div>\n",
       "    "
      ]
     },
     "metadata": {},
     "output_type": "display_data"
    }
   ],
   "source": [
    "import spectrochempy as scp"
   ]
  },
  {
   "cell_type": "markdown",
   "metadata": {
    "id": "XXMTcnl7Ym9E",
    "pycharm": {
     "name": "#%% md\n"
    }
   },
   "source": [
    "### Matplotlib configuration\n",
    "\n",
    "In Colab, to be able to plot with matplotlib, using the default spectrochempy setting, it is necessary to execute the next cell. This is due to the default matplotlib backend used by SpectroChemPy which use custom widgets."
   ]
  },
  {
   "cell_type": "code",
   "execution_count": 2,
   "metadata": {
    "id": "BT70jkoJJHwI",
    "pycharm": {
     "name": "#%%\n"
    }
   },
   "outputs": [
    {
     "name": "stderr",
     "output_type": "stream",
     "text": [
      " ERROR | ModuleNotFoundError: No module named 'google'\n"
     ]
    }
   ],
   "source": [
    "from google.colab import output\n",
    "#  Necessary only in SpectroChemPy version < 0.4.4\n",
    "if scp.version < \"0.4.4\":\n",
    "  output.enable_custom_widget_manager()"
   ]
  },
  {
   "cell_type": "markdown",
   "metadata": {
    "id": "kUIhdl-yJUCp",
    "pycharm": {
     "name": "#%% md\n"
    }
   },
   "source": []
  },
  {
   "cell_type": "code",
   "execution_count": 3,
   "metadata": {
    "id": "xf8F16bg_8TU",
    "pycharm": {
     "name": "#%%\n"
    }
   },
   "outputs": [],
   "source": [
    "# %matplotlib inline"
   ]
  },
  {
   "cell_type": "markdown",
   "metadata": {
    "id": "ayLWe5pMdqqr",
    "pycharm": {
     "name": "#%% md\n"
    }
   },
   "source": [
    "### Importing experimental data\n",
    "\n",
    "Let's show a first example. In the following cell we read experimental data aquired on an IR spectrometer in the `OMNC (spg)` format and stored in our example repository on GitHub: [spectrochempy_data/testdata](https://github.com/spectrochempy/spectrochempy_data/tree/master/testdata).\n",
    "\n",
    "We simply specified the relative path with respect to the `testdata` folder, *i.e.,* `\"irdata/nh4y-activation.spg\"`."
   ]
  },
  {
   "cell_type": "code",
   "execution_count": 4,
   "metadata": {
    "id": "cpZeUpPns2dx",
    "pycharm": {
     "name": "#%%\n"
    }
   },
   "outputs": [],
   "source": [
    "_ = scp.read(\"irdata/nh4y-activation.spg\")"
   ]
  },
  {
   "cell_type": "markdown",
   "metadata": {
    "id": "Tg0t6oVWuM_s",
    "pycharm": {
     "name": "#%% md\n"
    }
   },
   "source": [
    "It is worth to note that the data are downloaded from the remote repository and stored locall in the ``datadir`` default directory. As it is stored locally, if for some reason we need to download it again, it will be faster as no connection with the remote server need to be established again.\n",
    "\n",
    "The local path for the default directory is easily retrieved from the `preferences`:"
   ]
  },
  {
   "cell_type": "code",
   "execution_count": 5,
   "metadata": {
    "pycharm": {
     "name": "#%%\n"
    }
   },
   "outputs": [
    {
     "data": {
      "text/plain": [
       "PosixPath('/Users/christian/.spectrochempy/testdata')"
      ]
     },
     "execution_count": 5,
     "metadata": {},
     "output_type": "execute_result"
    }
   ],
   "source": [
    "prefs = scp.preferences\n",
    "DATADIR = prefs.datadir\n",
    "DATADIR"
   ]
  },
  {
   "cell_type": "markdown",
   "metadata": {
    "pycharm": {
     "name": "#%% md\n"
    }
   },
   "source": [
    "This preference setting can be changed. For exemple, as the default directory\n",
    "will not allow keeping permanently our data (erased after closing the Colab\n",
    "session), it may be desirable to store our data in your Google Drive.\n",
    "\n",
    "This assumes that your personal Google Drive is already mounted, you should see the `drive` folder in the Files explorer. If it is not the case, mount it using:"
   ]
  },
  {
   "cell_type": "code",
   "execution_count": 6,
   "metadata": {
    "id": "izw4YRsnagJ1",
    "pycharm": {
     "name": "#%%\n"
    }
   },
   "outputs": [
    {
     "name": "stderr",
     "output_type": "stream",
     "text": [
      " ERROR | ModuleNotFoundError: No module named 'google'\n"
     ]
    }
   ],
   "source": [
    "from google.colab import drive\n",
    "drive.mount('/content/drive')"
   ]
  },
  {
   "cell_type": "markdown",
   "metadata": {
    "id": "CRPLLU76LXqO",
    "pycharm": {
     "name": "#%% md\n"
    }
   },
   "source": [
    "Now let's create a directory for our data in the `drive` and next, change the\n",
    "preferences settings to set this directory the default to load/save data."
   ]
  },
  {
   "cell_type": "code",
   "execution_count": 7,
   "metadata": {
    "id": "QwjjarsOuLUG",
    "pycharm": {
     "name": "#%%\n"
    }
   },
   "outputs": [
    {
     "name": "stderr",
     "output_type": "stream",
     "text": [
      " ERROR | FileNotFoundError: [Errno 2] No such file or directory: '/content/drive/MyDrive/MyData'\n"
     ]
    }
   ],
   "source": [
    "from pathlib import Path\n",
    "DATADIR = Path(\"/content/drive/MyDrive/MyData\")\n",
    "DATADIR.mkdir(exist_ok=True)\n",
    "prefs.datadir = DATADIR\n",
    "prefs.datadir"
   ]
  },
  {
   "cell_type": "markdown",
   "metadata": {
    "id": "tKQ4o0pOgo3r",
    "pycharm": {
     "name": "#%% md\n"
    }
   },
   "source": [
    "Now if we try to get data, SpectroChempy will look in this directory and if\n",
    "not found, the file will be downloaded and saved, e.g.,"
   ]
  },
  {
   "cell_type": "code",
   "execution_count": 8,
   "metadata": {
    "id": "z7DUm-1Qa3lJ",
    "pycharm": {
     "name": "#%%\n"
    }
   },
   "outputs": [],
   "source": [
    "X = scp.read(\"irdata/nh4y-activation.spg\")"
   ]
  },
  {
   "cell_type": "markdown",
   "metadata": {
    "id": "_jTZRuLnbA7G",
    "pycharm": {
     "name": "#%% md\n"
    }
   },
   "source": [
    "If everything goes well, you should have this output for the next cell:\n",
    "\n",
    "```\n",
    "('nh4y-activation.spg', PosixPath('/content/drive/MyDrive/MyData/irdata'))\n",
    "```\n",
    "\n"
   ]
  },
  {
   "cell_type": "code",
   "execution_count": 9,
   "metadata": {
    "pycharm": {
     "name": "#%%\n"
    }
   },
   "outputs": [
    {
     "data": {
      "text/plain": [
       "('nh4y-activation.spg',\n",
       " PosixPath('/Users/christian/.spectrochempy/testdata/irdata'))"
      ]
     },
     "execution_count": 9,
     "metadata": {},
     "output_type": "execute_result"
    }
   ],
   "source": [
    "X.filename, X.directory\n"
   ]
  }
 ],
 "metadata": {
  "colab": {
   "collapsed_sections": [],
   "include_colab_link": true,
   "name": "spectrochempy_on_colaboratory_tutorial.ipynb",
   "private_outputs": true,
   "provenance": []
  },
  "kernelspec": {
   "display_name": "Python 3 (ipykernel)",
   "language": "python",
   "name": "python3"
  },
  "language_info": {
   "codemirror_mode": {
    "name": "ipython",
    "version": 3
   },
   "file_extension": ".py",
   "mimetype": "text/x-python",
   "name": "python",
   "nbconvert_exporter": "python",
   "pygments_lexer": "ipython3",
   "version": "3.9.10"
  }
 },
 "nbformat": 4,
 "nbformat_minor": 1
}