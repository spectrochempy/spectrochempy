{
 "nbformat": 4,
 "nbformat_minor": 0,
 "metadata": {
  "colab": {
   "name": "spectrochempy_on_colaboratory_tutorial.ipynb",
   "provenance": [],
   "collapsed_sections": [],
   "private_outputs": true,
   "include_colab_link": true
  },
  "kernelspec": {
   "name": "python3",
   "display_name": "Python 3"
  },
  "language_info": {
   "name": "python"
  }
 },
 "cells": [
  {
   "cell_type": "markdown",
   "source": [
    "## <font color='green'>Tutorial on the installation on Colaboratory</font>\n",
    "\n",
    "In this notebook we want to demonstrate how to run spectrochempy on Colaboratory. For\n",
    " a demonstration of the usage of SpectroChemPy refer to our [tutorial pages](tutorials.spectrochempy.fr).\n"
   ],
   "metadata": {
    "id": "poawrNtp9F0J"
   }
  },
  {
   "cell_type": "markdown",
   "metadata": {
    "id": "0nCwMjll0mnt",
    "pycharm": {
     "name": "#%% md\n"
    }
   },
   "source": [
    "### SpectroChemPy installation\n",
    "\n",
    "**SpectroChemPy** is not pre-installed in Colab. It is therefore necessary to install it before using it.\n",
    "\n",
    "To do this, we execute the following shell command:"
   ]
  },
  {
   "cell_type": "code",
   "source": [
    "!python -m pip install spectrochempy &>> output.log\n",
    "exit(0)"
   ],
   "metadata": {
    "collapsed": false,
    "id": "nqn1d3KIQsDl",
    "pycharm": {
     "name": "#%%\n"
    }
   },
   "execution_count": null,
   "outputs": []
  },
  {
   "cell_type": "markdown",
   "source": [
    "Note that the `!`, at the beginning of the command, means that it is not a python command but that it belongs to the shell (i.e. the interface to the Linux operating system used by the Google Colab servers).\n",
    "\n",
    "To avoid having too many messages, we redirect the output to a log file (`output.log`)\n",
    "\n",
    "The whole installation process which requires the loading of several libraries not preinstalled by Colab) takes 1 to 2 minutes.\n",
    "\n",
    "The second instruction ``exit()`` automatically restarts the runtime environment to take into account the new libraries we just installed: don't pay attention to the popup messages about the crash/restart of the session. You can close them safely."
   ],
   "metadata": {
    "id": "6JBhkXDxRU2Y"
   }
  },
  {
   "cell_type": "markdown",
   "source": [
    "If you want to try our latest development version instead of the stable version, use the following command. Using the development version is recommended to take advantage of the latest improvements and bug fixes:"
   ],
   "metadata": {
    "id": "jr26EpTDRj7C",
    "pycharm": {
     "name": "#%% md\n"
    }
   }
  },
  {
   "cell_type": "code",
   "source": [
    "!python -m pip install git+https://github.com/spectrochempy/spectrochempy.git &>> output.log\n",
    "exit(0)"
   ],
   "metadata": {
    "id": "Zg0c-xKb_hQD",
    "pycharm": {
     "name": "#%%\n"
    }
   },
   "execution_count": null,
   "outputs": []
  },
  {
   "cell_type": "markdown",
   "source": [
    "### Loading the SpectroChemPy API\n",
    "\n",
    "The recommended way of loading SpectroChemPy in the notebook namespace is as follow:"
   ],
   "metadata": {
    "id": "hg44iACm2Ffd",
    "pycharm": {
     "name": "#%% md\n"
    }
   }
  },
  {
   "cell_type": "code",
   "source": [
    "import spectrochempy as scp"
   ],
   "metadata": {
    "id": "a1_yv0dzH3bk",
    "pycharm": {
     "name": "#%%\n"
    }
   },
   "execution_count": null,
   "outputs": []
  },
  {
   "cell_type": "markdown",
   "source": [
    "### Matplotlib configuration\n",
    "\n",
    "In Colab, to be able to plot with matplotlib, using the default spectrochempy setting, it is necessary to execute the next cell. This is due to the default matplotlib backend used by SpectroChemPy which use custom widgets."
   ],
   "metadata": {
    "id": "XXMTcnl7Ym9E",
    "pycharm": {
     "name": "#%% md\n"
    }
   }
  },
  {
   "cell_type": "code",
   "source": [
    "from google.colab import output\n",
    "#  Necessary only in SpectroChemPy version < 0.4.4\n",
    "if scp.version < \"0.4.4\":\n",
    "  output.enable_custom_widget_manager()"
   ],
   "metadata": {
    "id": "BT70jkoJJHwI",
    "pycharm": {
     "name": "#%%\n"
    }
   },
   "execution_count": null,
   "outputs": []
  },
  {
   "cell_type": "markdown",
   "source": [],
   "metadata": {
    "id": "kUIhdl-yJUCp",
    "pycharm": {
     "name": "#%% md\n"
    }
   }
  },
  {
   "cell_type": "code",
   "source": [
    "# %matplotlib inline"
   ],
   "metadata": {
    "id": "xf8F16bg_8TU",
    "pycharm": {
     "name": "#%%\n"
    }
   },
   "execution_count": null,
   "outputs": []
  },
  {
   "cell_type": "markdown",
   "source": [
    "### Importing experimental data\n",
    "\n",
    "Let's show a first example. In the following cell we read experimental data aquired on an IR spectrometer in the `OMNC (spg)` format and stored in our example repository on GitHub: [spectrochempy_data/testdata](https://github.com/spectrochempy/spectrochempy_data/tree/master/testdata).\n",
    "\n",
    "We simply specified the relative path with respect to the `testdata` folder, *i.e.,* `\"irdata/nh4y-activation.spg\"`."
   ],
   "metadata": {
    "id": "ayLWe5pMdqqr",
    "pycharm": {
     "name": "#%% md\n"
    }
   }
  },
  {
   "cell_type": "code",
   "source": [
    "X = scp.read(\"irdata/nh4y-activation.spg\")"
   ],
   "metadata": {
    "id": "cpZeUpPns2dx",
    "pycharm": {
     "name": "#%%\n"
    }
   },
   "execution_count": null,
   "outputs": []
  },
  {
   "cell_type": "markdown",
   "source": [
    "It is worth to note that the data are downloaded from the remote repository and stored locall in the ``datadir`` default directory. As it is stored locally, if for some reason we need to download it again, it will be faster as no connection with the remote server need to be established again.\n",
    "\n",
    "The local path for the default directory is easily retrieved from the `preferences`:"
   ],
   "metadata": {
    "id": "Tg0t6oVWuM_s",
    "pycharm": {
     "name": "#%% md\n"
    }
   }
  },
  {
   "cell_type": "code",
   "source": [
    "prefs = scp.preferences\n",
    "DATADIR = prefs.datadir\n",
    "DATADIR"
   ],
   "metadata": {
    "collapsed": false,
    "pycharm": {
     "name": "#%%\n"
    }
   },
   "execution_count": null,
   "outputs": []
  },
  {
   "cell_type": "markdown",
   "source": [
    "This preference setting can be changed. For exemple, as the default directory\n",
    "will not allow keeping permanently our data (erased after closing the Colab\n",
    "session), it may be desirable to store our data in your Google Drive.\n",
    "\n",
    "This assumes that your personal Google Drive is already mounted, you should see the `drive` folder in the Files explorer. If it is not the case, mount it using:"
   ],
   "metadata": {
    "collapsed": false,
    "pycharm": {
     "name": "#%% md\n"
    }
   }
  },
  {
   "cell_type": "code",
   "source": [
    "from google.colab import drive\n",
    "drive.mount('/content/drive')"
   ],
   "metadata": {
    "id": "izw4YRsnagJ1",
    "pycharm": {
     "name": "#%%\n"
    }
   },
   "execution_count": null,
   "outputs": []
  },
  {
   "cell_type": "markdown",
   "source": [
    "Now lets create a directory for our data in the `drive` and next, change the\n",
    "preferences settings to set this directory the default to load/save data."
   ],
   "metadata": {
    "id": "CRPLLU76LXqO",
    "pycharm": {
     "name": "#%% md\n"
    }
   }
  },
  {
   "cell_type": "code",
   "source": [
    "from pathlib import Path\n",
    "DATADIR = Path(\"/content/drive/MyDrive/MyData\")\n",
    "DATADIR.mkdir(exist_ok=True)\n",
    "prefs.datadir = DATADIR\n",
    "prefs.datadir"
   ],
   "metadata": {
    "id": "QwjjarsOuLUG",
    "pycharm": {
     "name": "#%%\n"
    }
   },
   "execution_count": null,
   "outputs": []
  },
  {
   "cell_type": "markdown",
   "source": [
    "Now if we try to get data, SpectroChempy will look in this directory and if\n",
    "not found, the file will be downloaded and saved, e.g.,"
   ],
   "metadata": {
    "id": "tKQ4o0pOgo3r",
    "pycharm": {
     "name": "#%% md\n"
    }
   }
  },
  {
   "cell_type": "code",
   "source": [
    "X = scp.read(\"irdata/nh4y-activation.spg\")"
   ],
   "metadata": {
    "id": "z7DUm-1Qa3lJ",
    "pycharm": {
     "name": "#%%\n"
    }
   },
   "execution_count": null,
   "outputs": []
  },
  {
   "cell_type": "markdown",
   "source": [
    "If everything goes well, you should have this output for the next cell:\n",
    "\n",
    "```\n",
    "('nh4y-activation.spg', PosixPath('/content/drive/MyDrive/MyData/irdata'))\n",
    "```\n",
    "\n"
   ],
   "metadata": {
    "id": "_jTZRuLnbA7G",
    "pycharm": {
     "name": "#%% md\n"
    }
   }
  },
  {
   "cell_type": "code",
   "execution_count": null,
   "outputs": [],
   "source": [
    "X.filename, X.directory\n"
   ],
   "metadata": {
    "collapsed": false,
    "pycharm": {
     "name": "#%%\n"
    }
   }
  }
 ]
}