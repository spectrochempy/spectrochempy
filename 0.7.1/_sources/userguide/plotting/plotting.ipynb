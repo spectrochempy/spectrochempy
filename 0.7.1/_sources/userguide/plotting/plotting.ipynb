{
 "cells": [
  {
   "cell_type": "markdown",
   "id": "42532477",
   "metadata": {
    "lines_to_next_cell": 0
   },
   "source": [
    "# Plotting\n",
    "\n",
    "This section shows the main plotting capabilities of SpectroChemPy. Most of them are based on [Matplotlib](\n",
    "https://matplotlib.org), one of the most used plotting library for Python, and its\n",
    "[pyplot](https://matplotlib.org/stable/tutorials/introductory/pyplot.html) interface. While not mandatory, to follow\n",
    "this tutorial, some familiarity with this library can help, and we recommend a brief look at some\n",
    "[matplotlib tutorials](https://matplotlib.org/stable/tutorials/index.html) as well.\n",
    "\n",
    "Note that in the near future, SpectroChemPy should also offer the possibility to use [Plotly](https://plotly.com/)\n",
    "for a better interactivity inside a notebook.\n",
    "\n",
    "Finally, some commands and objects used here are described in-depth in the sections related to\n",
    "[import](../importexport/import.rst) and [slicing](../processing/slicing.rst) of NDDatasets and the *\n",
    "[NDDatasets](../objects/dataset/dataset.ipynb) themselves."
   ]
  },
  {
   "cell_type": "markdown",
   "id": "e6894f0c",
   "metadata": {},
   "source": [
    "## Load the API\n",
    "First, before anything else, we import the spectrochempy API:"
   ]
  },
  {
   "cell_type": "code",
   "execution_count": null,
   "id": "0a274cfc",
   "metadata": {},
   "outputs": [],
   "source": [
    "import spectrochempy as scp"
   ]
  },
  {
   "cell_type": "markdown",
   "id": "03facc48",
   "metadata": {},
   "source": [
    "## Loading the data\n",
    "For sake of demonstration we import a NDDataset consisting in infrared spectra from an omnic .spg file\n",
    "and make some (optional) preparation of the data to display\n",
    "(see also [Import IR Data](../importexport/importIR.rst))."
   ]
  },
  {
   "cell_type": "code",
   "execution_count": null,
   "id": "1a5e65e2",
   "metadata": {},
   "outputs": [],
   "source": [
    "dataset = scp.read(\"irdata/nh4y-activation.spg\")"
   ]
  },
  {
   "cell_type": "markdown",
   "id": "db482d10",
   "metadata": {},
   "source": [
    "## Preparing the data"
   ]
  },
  {
   "cell_type": "markdown",
   "id": "ad75f5e9",
   "metadata": {
    "lines_to_next_cell": 2
   },
   "source": []
  },
  {
   "cell_type": "code",
   "execution_count": null,
   "id": "c800814c",
   "metadata": {},
   "outputs": [],
   "source": [
    "dataset = dataset[:, 4000.0:650.0]  # We keep only the region that we want to display"
   ]
  },
  {
   "cell_type": "markdown",
   "id": "75b847b4",
   "metadata": {},
   "source": [
    "We change the y coordinated so that times start at 0, put it in minutes and change its title/"
   ]
  },
  {
   "cell_type": "code",
   "execution_count": null,
   "id": "bd62b60b",
   "metadata": {},
   "outputs": [],
   "source": [
    "dataset.y -= dataset.y[0]\n",
    "dataset.y.ito(\"minutes\")\n",
    "dataset.y.title = \"relative time on stream\""
   ]
  },
  {
   "cell_type": "markdown",
   "id": "49614f7b",
   "metadata": {},
   "source": [
    "We also mask a region that we do not want to display"
   ]
  },
  {
   "cell_type": "code",
   "execution_count": null,
   "id": "2c0f869b",
   "metadata": {},
   "outputs": [],
   "source": [
    "dataset[:, 1290.0:920.0] = scp.MASKED"
   ]
  },
  {
   "cell_type": "markdown",
   "id": "50afac8e",
   "metadata": {},
   "source": [
    "## Selecting the output window"
   ]
  },
  {
   "cell_type": "markdown",
   "id": "9d8f76f4",
   "metadata": {},
   "source": [
    "For the examples below, we use inline matplotlib figures (non-interactive): this can be forced using the magic\n",
    "function before loading spectrochempy.:\n",
    "```ipython3\n",
    "%matplotlib inline\n",
    "```\n",
    "but it is also the default in `Jupyter lab` (so we don't really need to specify this). Note that when such magic\n",
    "function has been used, it is not possible to change the setting, except by resetting the notebook kernel.\n",
    "\n",
    "If one wants interactive displays (with selection, zooming, etc...) one can use:\n",
    "```ipython3\n",
    "    %matplotlib widget\n",
    "```\n",
    "However, this suffers (at least for us) some incompatibilities in `jupyter lab` ...\n",
    "it is worth to try!\n",
    "If you can not get it working in `jupyter lab` and you need interactivity, you can\n",
    "use the following:\n",
    "```ipython3\n",
    "    %matplotlib\n",
    "```\n",
    "which has the effect of displaying the figures in independent windows using default\n",
    "matplotlib backend (e.g.,\n",
    "`Tk` ), with all the interactivity of matplotlib.\n",
    "\n",
    "But you can explicitly request a different GUI backend:\n",
    "```ipython3\n",
    "    %matplotlib qt\n",
    "```"
   ]
  },
  {
   "cell_type": "code",
   "execution_count": null,
   "id": "167be95a",
   "metadata": {},
   "outputs": [],
   "source": [
    "%matplotlib inline"
   ]
  },
  {
   "cell_type": "markdown",
   "id": "879e67b3",
   "metadata": {},
   "source": [
    "## Default plotting"
   ]
  },
  {
   "cell_type": "markdown",
   "id": "2c33df50",
   "metadata": {},
   "source": [
    "To plot the previously loaded dataset, it is very simple: we use the `plot` command (generic plot).\n",
    "\n",
    "As the current NDDataset is 2D, a **stack plot** is displayed by default, with a **viridis** colormap."
   ]
  },
  {
   "cell_type": "code",
   "execution_count": null,
   "id": "6204ab8a",
   "metadata": {},
   "outputs": [],
   "source": [
    "_ = dataset.plot()"
   ]
  },
  {
   "cell_type": "markdown",
   "id": "929bd1d8",
   "metadata": {
    "lines_to_next_cell": 0
   },
   "source": [
    "Note, in the cell above, that we used ` _ = ... `  syntax.\n",
    "This is to avoid any output but the plot from this statement.\n",
    "\n",
    "Note also that the `plot()` method uses some of NDDataset metadata: the `NDDataset.x` coordinate `data` (here the\n",
    "wavenumber values), `name` (here 'wavenumbers'), `units` (here 'cm-1') as well as the `NDDataset.title`\n",
    "(here 'absorbance') and `NDDataset.units (here 'absorbance')."
   ]
  },
  {
   "cell_type": "markdown",
   "id": "146cf654",
   "metadata": {},
   "source": [
    "## Changing the aspect of the plot"
   ]
  },
  {
   "cell_type": "markdown",
   "id": "e080cb06",
   "metadata": {},
   "source": [
    "### Change the `NDDataset.preferences`\n",
    "We can change the default plot configuration for this dataset by changing its `preferences' attributes\n",
    "(see at the end of this tutorial  for an overview of all the available parameters)."
   ]
  },
  {
   "cell_type": "code",
   "execution_count": null,
   "id": "b77b5fe2",
   "metadata": {
    "lines_to_next_cell": 2
   },
   "outputs": [],
   "source": [
    "prefs = dataset.preferences  # we will use prefs instead of dataset.preference\n",
    "prefs.figure.figsize = (6, 3)  # The default figsize is (6.8,4.4)\n",
    "prefs.colorbar = True  # This add a color bar on a side\n",
    "prefs.colormap = \"magma\"  # The default colormap is viridis\n",
    "prefs.axes.facecolor = \".95\"  # Make the graph background colored in a light gray\n",
    "prefs.axes.grid = True\n",
    "\n",
    "_ = dataset.plot()"
   ]
  },
  {
   "cell_type": "markdown",
   "id": "cb8007d3",
   "metadata": {},
   "source": [
    "The colormap can also be changed by setting `cmap` in the arguments.\n",
    "If you prefer not using colormap, `cmap=None` should be used. For instance:"
   ]
  },
  {
   "cell_type": "code",
   "execution_count": null,
   "id": "62cb138a",
   "metadata": {},
   "outputs": [],
   "source": [
    "_ = dataset.plot(cmap=None, colorbar=False)"
   ]
  },
  {
   "cell_type": "markdown",
   "id": "e63b2fc8",
   "metadata": {},
   "source": [
    "Note that, by default, **sans-serif** font are used for all text in the figure.\n",
    "But if you prefer, **serif**, or *monospace* font can be used instead. For instance:"
   ]
  },
  {
   "cell_type": "code",
   "execution_count": null,
   "id": "38dc4dcf",
   "metadata": {},
   "outputs": [],
   "source": [
    "prefs.font.family = \"monospace\"\n",
    "_ = dataset.plot()"
   ]
  },
  {
   "cell_type": "markdown",
   "id": "fdfa5919",
   "metadata": {},
   "source": [
    "Once changed, the `NDDataset.preferences` attributes will be used for the subsequent plots, but can be reset to the\n",
    "initial defaults anytime using the `NDDataset.preferences.reset()` method. For instance:"
   ]
  },
  {
   "cell_type": "code",
   "execution_count": null,
   "id": "5c563c1e",
   "metadata": {},
   "outputs": [],
   "source": [
    "print(f\"font before reset: {prefs.font.family}\")\n",
    "prefs.reset()\n",
    "print(f\"font after reset: {prefs.font.family}\")"
   ]
  },
  {
   "cell_type": "markdown",
   "id": "acda6e5c",
   "metadata": {},
   "source": [
    "It is also possible to change a parameter for a single plot without changing the `preferences` attribute by passing\n",
    "it as an argument of the `plot()`method. For instance, as in matplotlib, the default colormap is `viridis':"
   ]
  },
  {
   "cell_type": "code",
   "execution_count": null,
   "id": "87c0c8ad",
   "metadata": {},
   "outputs": [],
   "source": [
    "prefs.colormap"
   ]
  },
  {
   "cell_type": "markdown",
   "id": "bdc5a97c",
   "metadata": {},
   "source": [
    "but 'magma' can be passed to the `plot()` method:"
   ]
  },
  {
   "cell_type": "code",
   "execution_count": null,
   "id": "f887bfd2",
   "metadata": {},
   "outputs": [],
   "source": [
    "_ = dataset.plot(colormap=\"magma\")"
   ]
  },
  {
   "cell_type": "markdown",
   "id": "9a4ea4ea",
   "metadata": {},
   "source": [
    "while the `preferences.colormap` is still set to `viridis':"
   ]
  },
  {
   "cell_type": "code",
   "execution_count": null,
   "id": "efc3f412",
   "metadata": {},
   "outputs": [],
   "source": [
    "prefs.colormap"
   ]
  },
  {
   "cell_type": "markdown",
   "id": "e33ec826",
   "metadata": {},
   "source": [
    "and will be used by default for the next plots:"
   ]
  },
  {
   "cell_type": "code",
   "execution_count": null,
   "id": "af60ab7c",
   "metadata": {},
   "outputs": [],
   "source": [
    "_ = dataset.plot()"
   ]
  },
  {
   "cell_type": "markdown",
   "id": "f4f7ab37",
   "metadata": {},
   "source": [
    "## Adding titles and annotations"
   ]
  },
  {
   "cell_type": "markdown",
   "id": "3f9c707b",
   "metadata": {},
   "source": [
    "The plot function return a reference to the subplot `ax` object on which the data have been plotted.\n",
    "We can then use this reference to modify some element of the plot.\n",
    "\n",
    "For example, here we add a title and some annotations:"
   ]
  },
  {
   "cell_type": "code",
   "execution_count": null,
   "id": "f937e5cc",
   "metadata": {},
   "outputs": [],
   "source": [
    "prefs.reset()\n",
    "prefs.colorbar = False\n",
    "prefs.colormap = \"terrain\"\n",
    "prefs.font.family = \"monospace\"\n",
    "\n",
    "ax = dataset.plot()\n",
    "ax.grid(\n",
    "    False\n",
    ")  # This temporarily suppress the grid after the plot is done but is not saved in prefs\n",
    "\n",
    "# set title\n",
    "title = ax.set_title(\"NH$_4$Y IR spectra during activation\")\n",
    "title.set_color(\"red\")\n",
    "title.set_fontstyle(\"italic\")\n",
    "title.set_fontsize(14)\n",
    "\n",
    "# put some text\n",
    "ax.text(1200.0, 1, \"Masked region\\n (saturation)\", rotation=90)\n",
    "\n",
    "# put some fancy annotations (see matplotlib documentation to learn how to design this)\n",
    "_ = ax.annotate(\n",
    "    \"OH groups\",\n",
    "    xy=(3600.0, 1.25),\n",
    "    xytext=(-10, -50),\n",
    "    textcoords=\"offset points\",\n",
    "    arrowprops={\n",
    "        \"arrowstyle\": \"fancy\",\n",
    "        \"color\": \"0.5\",\n",
    "        \"shrinkB\": 5,\n",
    "        \"connectionstyle\": \"arc3,rad=-0.3\",\n",
    "    },\n",
    ")"
   ]
  },
  {
   "cell_type": "markdown",
   "id": "1ee68c06",
   "metadata": {},
   "source": [
    "More information about annotation can be found in the [matplotlib documentation:  annotations](\n",
    "https://matplotlib.org/stable/tutorials/text/annotations.html)"
   ]
  },
  {
   "cell_type": "markdown",
   "id": "213c9d21",
   "metadata": {},
   "source": [
    "## Changing the plot style using matplotlib style sheets"
   ]
  },
  {
   "cell_type": "markdown",
   "id": "39f80690",
   "metadata": {},
   "source": [
    " The easiest way to change the plot style may be to use pre-defined styles such as those used in [matplotlib\n",
    " styles](https://matplotlib.org/stable/tutorials/introductory/customizing.html). This is directly included in the\n",
    " preferences of SpectroChemPy"
   ]
  },
  {
   "cell_type": "code",
   "execution_count": null,
   "id": "b851db0e",
   "metadata": {},
   "outputs": [],
   "source": [
    "prefs.style = \"grayscale\"\n",
    "_ = dataset.plot()"
   ]
  },
  {
   "cell_type": "code",
   "execution_count": null,
   "id": "f94b0866",
   "metadata": {},
   "outputs": [],
   "source": [
    "prefs.style = \"ggplot\"\n",
    "_ = dataset.plot()"
   ]
  },
  {
   "cell_type": "markdown",
   "id": "826b410d",
   "metadata": {},
   "source": [
    "Other styles are :\n",
    "* paper , which create figure suitable for two columns article (fig width: 3.4 inch)\n",
    "* poster\n",
    "* talk"
   ]
  },
  {
   "cell_type": "markdown",
   "id": "75ec473b",
   "metadata": {},
   "source": [
    "the styles can be combined, so you can have a style sheet that customizes\n",
    "colors and a separate style sheet that alters element sizes for presentations:"
   ]
  },
  {
   "cell_type": "code",
   "execution_count": null,
   "id": "6fc109eb",
   "metadata": {},
   "outputs": [],
   "source": [
    "prefs.reset()\n",
    "prefs.style = \"grayscale\", \"paper\"\n",
    "_ = dataset.plot(colorbar=True)"
   ]
  },
  {
   "cell_type": "markdown",
   "id": "61e79954",
   "metadata": {},
   "source": [
    "As previously, style specification can also be done directly in the plot method without\n",
    "affecting the `preferences' attribute."
   ]
  },
  {
   "cell_type": "code",
   "execution_count": null,
   "id": "f619a9f3",
   "metadata": {},
   "outputs": [],
   "source": [
    "prefs.colormap = \"magma\"\n",
    "_ = dataset.plot(style=[\"scpy\", \"paper\"])"
   ]
  },
  {
   "cell_type": "markdown",
   "id": "14063199",
   "metadata": {},
   "source": [
    "To get a list of all available styles :"
   ]
  },
  {
   "cell_type": "code",
   "execution_count": null,
   "id": "f30b9721",
   "metadata": {},
   "outputs": [],
   "source": [
    "prefs.available_styles"
   ]
  },
  {
   "cell_type": "markdown",
   "id": "965ebc80",
   "metadata": {},
   "source": [
    "Again, to restore the default setting, you can use the reset function"
   ]
  },
  {
   "cell_type": "code",
   "execution_count": null,
   "id": "5f9129f6",
   "metadata": {},
   "outputs": [],
   "source": [
    "prefs.reset()\n",
    "_ = dataset.plot()"
   ]
  },
  {
   "cell_type": "markdown",
   "id": "d821a65f",
   "metadata": {},
   "source": [
    "## Create your own style\n",
    "\n",
    "If you want to create your own style for later use, you can use the command  `makestyle` (**warning**: you can not\n",
    "use `scpy` which is the READONLY default style:"
   ]
  },
  {
   "cell_type": "code",
   "execution_count": null,
   "id": "523da459",
   "metadata": {},
   "outputs": [],
   "source": [
    "prefs.makestyle(\"scpy\")"
   ]
  },
  {
   "cell_type": "markdown",
   "id": "12d988d5",
   "metadata": {},
   "source": [
    "If no name is provided a default name is used :`mydefault`"
   ]
  },
  {
   "cell_type": "code",
   "execution_count": null,
   "id": "faf306ee",
   "metadata": {},
   "outputs": [],
   "source": [
    "prefs.makestyle()"
   ]
  },
  {
   "cell_type": "markdown",
   "id": "6e842754",
   "metadata": {},
   "source": [
    "**Example:**\n"
   ]
  },
  {
   "cell_type": "code",
   "execution_count": null,
   "id": "966a2f51",
   "metadata": {},
   "outputs": [],
   "source": [
    "prefs.reset()\n",
    "prefs.colorbar = True\n",
    "prefs.colormap = \"jet\"\n",
    "prefs.font.family = \"monospace\"\n",
    "prefs.font.size = 14\n",
    "prefs.axes.labelcolor = \"blue\"\n",
    "prefs.axes.grid = True\n",
    "prefs.axes.grid_axis = \"x\"\n",
    "\n",
    "_ = dataset.plot()\n",
    "\n",
    "prefs.makestyle()"
   ]
  },
  {
   "cell_type": "code",
   "execution_count": null,
   "id": "ab3c7c8c",
   "metadata": {},
   "outputs": [],
   "source": [
    "prefs.reset()\n",
    "_ = dataset.plot()  # plot with the default scpy style"
   ]
  },
  {
   "cell_type": "code",
   "execution_count": null,
   "id": "7f6db6f2",
   "metadata": {},
   "outputs": [],
   "source": [
    "prefs.style = \"mydefault\"\n",
    "_ = dataset.plot()  # plot with our own style"
   ]
  },
  {
   "cell_type": "markdown",
   "id": "06e9fb3c",
   "metadata": {},
   "source": [
    "## Changing the type of plot"
   ]
  },
  {
   "cell_type": "markdown",
   "id": "a0e75eaf",
   "metadata": {},
   "source": [
    "By default, plots of 2D datasets are done in 'stack' mode. Other available modes are 'map', 'image', 'surface' and\n",
    "'waterfall'.\n",
    "\n",
    "The default can be changed permanently by setting the variable `pref.method_2D` to one of these alternative modes,\n",
    "for instance if you like to have contour plot, you can use:"
   ]
  },
  {
   "cell_type": "code",
   "execution_count": null,
   "id": "c236c201",
   "metadata": {},
   "outputs": [],
   "source": [
    "prefs.reset()\n",
    "\n",
    "prefs.method_2D = \"map\"  # this will change permanently the type of 2D plot\n",
    "prefs.colormap = \"magma\"\n",
    "prefs.figure_figsize = (5, 3)\n",
    "_ = dataset.plot()"
   ]
  },
  {
   "cell_type": "markdown",
   "id": "80954184",
   "metadata": {
    "lines_to_next_cell": 0
   },
   "source": [
    "You can also, for an individual plot use specialised plot commands, such as `plot_stack()` , `plot_map()` ,\n",
    "`plot_waterfall()` , `plot_surface()` or `plot_image()` , or equivalently the generic `plot` function with\n",
    "the `method` parameter, i.e., `plot(method='stack')` , `plot(method='map')` , etc...\n",
    "\n",
    "These modes are illustrated below:"
   ]
  },
  {
   "cell_type": "code",
   "execution_count": null,
   "id": "e6993334",
   "metadata": {},
   "outputs": [],
   "source": [
    "prefs.axes_facecolor = \"white\"\n",
    "_ = dataset.plot_image(colorbar=True)  # will use image_cmap preference!"
   ]
  },
  {
   "cell_type": "markdown",
   "id": "a1503730",
   "metadata": {},
   "source": [
    "Here we use the generic `plot()` with the `method' argument and we change the image_cmap:"
   ]
  },
  {
   "cell_type": "code",
   "execution_count": null,
   "id": "f5d02e40",
   "metadata": {},
   "outputs": [],
   "source": [
    "_ = dataset.plot(method=\"image\", image_cmap=\"jet\", colorbar=True)"
   ]
  },
  {
   "cell_type": "markdown",
   "id": "ed1f1969",
   "metadata": {},
   "source": [
    "The colormap normalization can be changed using the `norm` parameter, as illustrated below,\n",
    "for a centered colomap:"
   ]
  },
  {
   "cell_type": "code",
   "execution_count": null,
   "id": "ae430d5f",
   "metadata": {},
   "outputs": [],
   "source": [
    "import matplotlib as mpl\n",
    "\n",
    "norm = mpl.colors.CenteredNorm()\n",
    "_ = dataset.plot(method=\"image\", image_cmap=\"jet\", colorbar=True, norm=norm)"
   ]
  },
  {
   "cell_type": "markdown",
   "id": "7a83430c",
   "metadata": {},
   "source": [
    "or below for a log scale (more information about colormap normalization can be found\n",
    "[here](https://matplotlib.org/stable/users/explain/colors/colormapnorms.html))."
   ]
  },
  {
   "cell_type": "code",
   "execution_count": null,
   "id": "328cdd78",
   "metadata": {},
   "outputs": [],
   "source": [
    "norm = mpl.colors.LogNorm(vmin=0.1, vmax=4.0)\n",
    "_ = dataset.plot(method=\"image\", image_cmap=\"jet\", colorbar=True, norm=norm)"
   ]
  },
  {
   "cell_type": "markdown",
   "id": "50a5a63d",
   "metadata": {},
   "source": [
    "Below an example of a waterfall plot:"
   ]
  },
  {
   "cell_type": "code",
   "execution_count": null,
   "id": "e5de09e0",
   "metadata": {},
   "outputs": [],
   "source": [
    "prefs.reset()\n",
    "_ = dataset.plot_waterfall(figsize=(7, 4), y_reverse=True)"
   ]
  },
  {
   "cell_type": "markdown",
   "id": "94261a63",
   "metadata": {},
   "source": [
    "And finally an example of a surface plot:"
   ]
  },
  {
   "cell_type": "code",
   "execution_count": null,
   "id": "829fab35",
   "metadata": {
    "lines_to_next_cell": 0
   },
   "outputs": [],
   "source": [
    "prefs.reset()\n",
    "_ = dataset.plot_surface(figsize=(7, 7), linewidth=0, y_reverse=True, autolayout=False)"
   ]
  },
  {
   "cell_type": "markdown",
   "id": "49b1fb67",
   "metadata": {},
   "source": [
    "## Plotting 1D datasets"
   ]
  },
  {
   "cell_type": "code",
   "execution_count": null,
   "id": "6dcbf8de",
   "metadata": {},
   "outputs": [],
   "source": [
    "prefs.reset()\n",
    "d1D = dataset[-1]  # select the last row of the previous 2D dataset\n",
    "_ = d1D.plot(color=\"r\")"
   ]
  },
  {
   "cell_type": "code",
   "execution_count": null,
   "id": "07b680ba",
   "metadata": {},
   "outputs": [],
   "source": [
    "prefs.style = \"seaborn-v0_8-paper\"\n",
    "_ = dataset[3].plot(scatter=True, pen=False, me=30, ms=5)"
   ]
  },
  {
   "cell_type": "markdown",
   "id": "f8470bda",
   "metadata": {},
   "source": [
    "## Plotting several dataset on the same figure"
   ]
  },
  {
   "cell_type": "markdown",
   "id": "41875ff9",
   "metadata": {},
   "source": [
    "We can plot several datasets on the same figure using the `clear` argument."
   ]
  },
  {
   "cell_type": "code",
   "execution_count": null,
   "id": "4e987eef",
   "metadata": {},
   "outputs": [],
   "source": [
    "nspec = int(len(dataset) / 4)\n",
    "ds1 = dataset[:nspec]  # split the dataset into too parts\n",
    "ds2 = dataset[nspec:] - 2.0  # add an offset to the second part\n",
    "\n",
    "ax1 = ds1.plot_stack()\n",
    "_ = ds2.plot_stack(ax=ax1, clear=False, zlim=(-2.5, 4))"
   ]
  },
  {
   "cell_type": "markdown",
   "id": "09e23bd4",
   "metadata": {},
   "source": [
    "For 1D datasets only, you can also use the `plot_multiple`method:"
   ]
  },
  {
   "cell_type": "code",
   "execution_count": null,
   "id": "a0d50426",
   "metadata": {},
   "outputs": [],
   "source": [
    "datasets = [dataset[0], dataset[10], dataset[20], dataset[50], dataset[53]]\n",
    "labels = [f\"sample {label}\" for label in [\"S1\", \"S10\", \"S20\", \"S50\", \"S53\"]]\n",
    "prefs.reset()\n",
    "prefs.axes.facecolor = \".99\"\n",
    "prefs.axes.grid = True\n",
    "_ = scp.plot_multiple(\n",
    "    method=\"scatter\", me=10, datasets=datasets, labels=labels, legend=\"best\"\n",
    ")"
   ]
  },
  {
   "cell_type": "markdown",
   "id": "921e5704",
   "metadata": {},
   "source": [
    "## Overview of the main configuration parameters"
   ]
  },
  {
   "cell_type": "markdown",
   "id": "02e75e0f",
   "metadata": {},
   "source": [
    "To display a dictionary of the current settings (**compared to those set by default**\n",
    "at API startup), you can simply type :"
   ]
  },
  {
   "cell_type": "code",
   "execution_count": null,
   "id": "3b74f351",
   "metadata": {},
   "outputs": [],
   "source": [
    "prefs"
   ]
  },
  {
   "cell_type": "markdown",
   "id": "62186ab6",
   "metadata": {},
   "source": [
    "**Warning**: Note that with respect to matplotlib,the parameters in the `dataset.preferences` dictionary\n",
    "have a slightly different name, e.g. `figure_figsize` (SpectroChemPy) instead of `figure.figsize` (matplotlib syntax)\n",
    "(this is because in SpectroChemPy, dot (` .` ) cannot be used in parameter name,\n",
    "and thus it is replaced by an underscore (`_` ))\n"
   ]
  },
  {
   "cell_type": "markdown",
   "id": "c2aef956",
   "metadata": {},
   "source": [
    "To display the current values of **all parameters** corresponding to one group, e.g. `lines` , type:"
   ]
  },
  {
   "cell_type": "code",
   "execution_count": null,
   "id": "7bda6c02",
   "metadata": {},
   "outputs": [],
   "source": [
    "prefs.lines"
   ]
  },
  {
   "cell_type": "markdown",
   "id": "8e726528",
   "metadata": {},
   "source": [
    "To display **help** on a single parameter, type:"
   ]
  },
  {
   "cell_type": "code",
   "execution_count": null,
   "id": "2132a139",
   "metadata": {},
   "outputs": [],
   "source": [
    "prefs.help(\"lines_linewidth\")"
   ]
  },
  {
   "cell_type": "markdown",
   "id": "dd696f1d",
   "metadata": {},
   "source": [
    "To view **all parameters**:"
   ]
  },
  {
   "cell_type": "code",
   "execution_count": null,
   "id": "8363dc42",
   "metadata": {},
   "outputs": [],
   "source": [
    "prefs.all()"
   ]
  }
 ],
 "metadata": {
  "jupytext": {
   "formats": "ipynb,py:percent",
   "notebook_metadata_filter": "all"
  },
  "kernelspec": {
   "display_name": "Python 3",
   "language": "python",
   "name": "python3"
  },
  "language_info": {
   "codemirror_mode": {
    "name": "ipython",
    "version": 3
   },
   "file_extension": ".py",
   "mimetype": "text/x-python",
   "name": "python",
   "nbconvert_exporter": "python",
   "pygments_lexer": "ipython3",
   "version": "3.9.1"
  },
  "widgets": {
   "application/vnd.jupyter.widget-state+json": {
    "state": {},
    "version_major": 2,
    "version_minor": 0
   }
  }
 },
 "nbformat": 4,
 "nbformat_minor": 5
}
