{
 "cells": [
  {
   "cell_type": "markdown",
   "id": "5ce74306",
   "metadata": {},
   "source": [
    "# FTIR interferogram processing\n",
    "\n",
    "A situation where we need transform of real data is the case of FTIR interferogram."
   ]
  },
  {
   "cell_type": "code",
   "execution_count": null,
   "id": "bcefe5a6",
   "metadata": {},
   "outputs": [],
   "source": [
    "import spectrochempy as scp\n",
    "from spectrochempy.core.units import ur"
   ]
  },
  {
   "cell_type": "code",
   "execution_count": null,
   "id": "44e40a92",
   "metadata": {},
   "outputs": [],
   "source": [
    "ir = scp.read_spa(\"irdata/interferogram/interfero.SPA\")"
   ]
  },
  {
   "cell_type": "markdown",
   "id": "6a07ff49",
   "metadata": {},
   "source": [
    "By default, the interferogram is displayed with an axis in points (no units)."
   ]
  },
  {
   "cell_type": "code",
   "execution_count": null,
   "id": "793430e8",
   "metadata": {},
   "outputs": [],
   "source": [
    "prefs = ir.preferences\n",
    "prefs.figure.figsize = (7, 3)\n",
    "_ = ir.plot()\n",
    "print(\"number of points = \", ir.size)"
   ]
  },
  {
   "cell_type": "markdown",
   "id": "c01c7c56",
   "metadata": {},
   "source": [
    "Plotting a zoomed region around the maximum of the interferogram\n",
    "(the so-called `ZPD`: `Zero optical Path Difference` ) we can see that it is located\n",
    "around the 64th points. The FFT processing will need this information,\n",
    "but it will be determined automatically."
   ]
  },
  {
   "cell_type": "code",
   "execution_count": null,
   "id": "910ed87a",
   "metadata": {},
   "outputs": [],
   "source": [
    "_ = ir.plot(xlim=(0, 128))"
   ]
  },
  {
   "cell_type": "markdown",
   "id": "797a8e88",
   "metadata": {},
   "source": [
    "The `x` scale of the interferogram can also be displayed as a function of optical\n",
    "path difference. For this we just make `show_datapoints` to False:"
   ]
  },
  {
   "cell_type": "code",
   "execution_count": null,
   "id": "2ec6a54c",
   "metadata": {},
   "outputs": [],
   "source": [
    "ir.x.show_datapoints = False\n",
    "_ = ir.plot(xlim=(-0.04, 0.04))"
   ]
  },
  {
   "cell_type": "markdown",
   "id": "3c409f79",
   "metadata": {},
   "source": [
    "Note that the `x` scale of the interferogram has been calculated using the laser\n",
    "frequency indicated in the original omnic file. It is stored in the `meta` attribute\n",
    "of the NDDataset:"
   ]
  },
  {
   "cell_type": "code",
   "execution_count": null,
   "id": "89b1da08",
   "metadata": {},
   "outputs": [],
   "source": [
    "print(ir.meta.laser_frequency)"
   ]
  },
  {
   "cell_type": "markdown",
   "id": "58299d35",
   "metadata": {},
   "source": [
    "If absent, it can be set using the `set_laser_frequency()` method, e.g.:"
   ]
  },
  {
   "cell_type": "code",
   "execution_count": null,
   "id": "c35f5a87",
   "metadata": {},
   "outputs": [],
   "source": [
    "ir.x.set_laser_frequency(15798.26 * ur(\"cm^-1\"))"
   ]
  },
  {
   "cell_type": "markdown",
   "id": "c37a6611",
   "metadata": {},
   "source": [
    "Now we can perform the Fourier transform. By default, no zero-filling level is applied\n",
    "prior the Fourier transform for FTIR. To add some level of zero-filling,\n",
    "use the `zf` method."
   ]
  },
  {
   "cell_type": "code",
   "execution_count": null,
   "id": "71145407",
   "metadata": {},
   "outputs": [],
   "source": [
    "ird = ir.dc()\n",
    "ird = ird.zf(size=2 * ird.size)\n",
    "irt = ird.fft()\n",
    "\n",
    "_ = irt.plot(xlim=(3999, 400))"
   ]
  },
  {
   "cell_type": "markdown",
   "id": "61055a1e",
   "metadata": {},
   "source": [
    "A `Happ-Genzel` (Hamming window) apodization can also be applied prior to the\n",
    "Fourier transformation in order to decrease the H2O narrow bands."
   ]
  },
  {
   "cell_type": "code",
   "execution_count": null,
   "id": "f8feaa6d",
   "metadata": {},
   "outputs": [],
   "source": [
    "ird = ir.dc()\n",
    "irdh = ird.hamming()\n",
    "irdh.zf(inplace=True, size=2 * ird.size)\n",
    "irth = irdh.fft()\n",
    "_ = irth.plot(xlim=(3999, 400))"
   ]
  },
  {
   "cell_type": "markdown",
   "id": "fc20551a",
   "metadata": {},
   "source": [
    "## Comparison with the OMNIC processing.\n",
    "\n",
    "Here we compare the OMNIC processed spectra of the same interferogram and ours in red.\n",
    "One can see that the results are very close"
   ]
  },
  {
   "cell_type": "code",
   "execution_count": null,
   "id": "9be496dc",
   "metadata": {},
   "outputs": [],
   "source": [
    "irs = scp.read_spa(\"irdata/interferogram/spectre.SPA\")\n",
    "prefs.figure.figsize = (7, 6)\n",
    "ax = irs.plot(label=\"omnic\")\n",
    "(irt + 0.4).plot(c=\"red\", linestyle=\"solid\", clear=False, label=\"no hamming\")\n",
    "(irth + 0.2).plot(c=\"green\", linestyle=\"solid\", clear=False, label=\"hamming\")\n",
    "ax.set_xlim(4000.0, 400.0)\n",
    "ax.set_ylim(0.0, 3.1)\n",
    "_ = ax.legend()"
   ]
  }
 ],
 "metadata": {
  "jupytext": {
   "cell_metadata_filter": "title,-all",
   "formats": "ipynb,py:percent",
   "notebook_metadata_filter": "all"
  },
  "kernelspec": {
   "display_name": "Python 3",
   "language": "python",
   "name": "python3"
  },
  "language_info": {
   "codemirror_mode": {
    "name": "ipython",
    "version": 3
   },
   "file_extension": ".py",
   "mimetype": "text/x-python",
   "name": "python",
   "nbconvert_exporter": "python",
   "pygments_lexer": "ipython3",
   "version": "3.9.1"
  },
  "widgets": {
   "application/vnd.jupyter.widget-state+json": {
    "state": {},
    "version_major": 2,
    "version_minor": 0
   }
  }
 },
 "nbformat": 4,
 "nbformat_minor": 5
}
