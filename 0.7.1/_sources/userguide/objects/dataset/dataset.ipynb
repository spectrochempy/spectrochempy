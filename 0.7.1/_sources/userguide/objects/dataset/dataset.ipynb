{
 "cells": [
  {
   "cell_type": "markdown",
   "id": "8188f821",
   "metadata": {},
   "source": [
    "# The NDDataset object"
   ]
  },
  {
   "cell_type": "markdown",
   "id": "22d4cc9c",
   "metadata": {},
   "source": [
    "The NDDataset is the main object use by **SpectroChemPy**.\n",
    "\n",
    "Like numpy ndarrays, NDDataset have the capability to be sliced, sorted and subject to\n",
    "mathematical operations.\n",
    "\n",
    "But, in addition, NDDataset may have units, can be masked and each dimensions can have\n",
    "coordinates also with units.\n",
    "This make NDDataset aware of units compatibility, *e.g.*, for binary operation such as\n",
    "additions or subtraction or during the application of mathematical operations.\n",
    "In addition or in replacement of numerical data for coordinates,\n",
    "NDDataset can also have labeled coordinates where labels can be different kind of\n",
    "objects (strings, datetime,\n",
    "numpy nd.ndarray or other NDDatasets, etc...).\n",
    "\n",
    "This offers a lot of flexibility in using NDDatasets that,  we hope, will be useful\n",
    "for applications.\n",
    "See the See the [Examples](../../../gettingstarted/examples/gallery/auto_examples_core/index.rst) for\n",
    "additional information about such possible applications."
   ]
  },
  {
   "cell_type": "markdown",
   "id": "b6a46f6d",
   "metadata": {},
   "source": [
    "**Below (and in the next sections), we try to give an almost complete view of the\n",
    "NDDataset features.**"
   ]
  },
  {
   "cell_type": "markdown",
   "id": "51402a78",
   "metadata": {
    "lines_to_next_cell": 0
   },
   "source": [
    "As we will make some reference to the\n",
    "**[numpy](https://numpy.org/doc/stable/index.html)** library, we also import it here."
   ]
  },
  {
   "cell_type": "code",
   "execution_count": null,
   "id": "495d1d14",
   "metadata": {},
   "outputs": [],
   "source": [
    "import numpy as np\n",
    "\n",
    "import spectrochempy as scp"
   ]
  },
  {
   "cell_type": "markdown",
   "id": "508e3e48",
   "metadata": {
    "lines_to_next_cell": 0
   },
   "source": [
    "We additionally import the three main SpectroChemPy objects that we will use through\n",
    "this tutorial"
   ]
  },
  {
   "cell_type": "code",
   "execution_count": null,
   "id": "f3a32804",
   "metadata": {},
   "outputs": [],
   "source": [
    "from spectrochempy import Coord\n",
    "from spectrochempy import CoordSet\n",
    "from spectrochempy import NDDataset"
   ]
  },
  {
   "cell_type": "markdown",
   "id": "4a5ea939",
   "metadata": {
    "lines_to_next_cell": 0
   },
   "source": [
    "For a convenient usage of units, we will also directly import\n",
    "**[ur]((#Units)**, the unit registry which contains all available\n",
    "units."
   ]
  },
  {
   "cell_type": "code",
   "execution_count": null,
   "id": "4d86d1f6",
   "metadata": {},
   "outputs": [],
   "source": [
    "from spectrochempy import ur"
   ]
  },
  {
   "cell_type": "markdown",
   "id": "caa5dcde",
   "metadata": {},
   "source": [
    "Multidimensional array are defined in Spectrochempy using the `NDDataset` object.\n",
    "\n",
    "`NDDataset` objects mostly behave as numpy's `numpy.ndarray`\n",
    "(see for instance __\n",
    "[numpy quickstart tutorial](https://numpy.org/doc/stable/user/quickstart.html)__)."
   ]
  },
  {
   "cell_type": "markdown",
   "id": "421dd92e",
   "metadata": {},
   "source": [
    "However, unlike raw numpy's ndarray, the presence of optional properties make\n",
    "them (hopefully) more appropriate for handling spectroscopic information,\n",
    "one of the major objectives of the SpectroChemPy package:\n",
    "\n",
    "*  `mask`: Data can be partially masked at will\n",
    "*  `units`: Data can have units, allowing units-aware operations\n",
    "*  `CoordSet`: Data can have a set of coordinates, one or several by dimensions\n",
    "\n",
    "Additional metadata can also be added to the instances of this class\n",
    "through the `meta` properties."
   ]
  },
  {
   "cell_type": "markdown",
   "id": "a0ca9d51",
   "metadata": {},
   "source": [
    "## 1D-Dataset (unidimensional dataset)"
   ]
  },
  {
   "cell_type": "markdown",
   "id": "c09ad0ba",
   "metadata": {},
   "source": [
    "In the following example, a minimal 1D dataset is created from a simple list,\n",
    "to which we can add some metadata:"
   ]
  },
  {
   "cell_type": "code",
   "execution_count": null,
   "id": "e69ac7f2",
   "metadata": {},
   "outputs": [],
   "source": [
    "d1D = NDDataset(\n",
    "    [10.0, 20.0, 30.0],\n",
    "    name=\"Dataset N1\",\n",
    "    author=\"Blake and Mortimer\",\n",
    "    description=\"A dataset from scratch\",\n",
    "    history=\"creation\",\n",
    ")\n",
    "d1D"
   ]
  },
  {
   "cell_type": "code",
   "execution_count": null,
   "id": "1300898f",
   "metadata": {},
   "outputs": [],
   "source": [
    "print(d1D)"
   ]
  },
  {
   "cell_type": "code",
   "execution_count": null,
   "id": "16ad6dc3",
   "metadata": {},
   "outputs": [],
   "source": [
    "_ = d1D.plot(figsize=(3, 2))"
   ]
  },
  {
   "cell_type": "markdown",
   "id": "a710de02",
   "metadata": {},
   "source": [
    "Except few additional metadata such `author` , `created` ..., there is not much\n",
    "difference with respect to a conventional\n",
    "**[numpy.array](\n",
    "https://numpy.org/doc/stable/reference/generated/numpy.array.html#numpy.array)**.\n",
    "For example, one\n",
    "can apply numpy\n",
    "**[ufunc](https://numpy.org/doc/stable/reference/ufuncs.html#available-ufuncs)'s**\n",
    "directly to a NDDataset or make basic arithmetic\n",
    "operation with these objects:"
   ]
  },
  {
   "cell_type": "code",
   "execution_count": null,
   "id": "8dc2c7f5",
   "metadata": {},
   "outputs": [],
   "source": [
    "np.sqrt(d1D)"
   ]
  },
  {
   "cell_type": "code",
   "execution_count": null,
   "id": "5bcf08c2",
   "metadata": {},
   "outputs": [],
   "source": [
    "d1D += d1D / 2.0\n",
    "d1D"
   ]
  },
  {
   "cell_type": "markdown",
   "id": "b004c830",
   "metadata": {},
   "source": [
    "As seen above, there are some attributes that are automatically added to the dataset:\n",
    "\n",
    "* `id`      : This is a unique identifier for the object.\n",
    "* `name`: A short and unique name for the dataset. It will beequal to the automatic\n",
    "`id` if it is not provided.\n",
    "* `author`  : Author determined from the computer name if not provided.\n",
    "* `created` : Date and time of creation.\n",
    "* `modified`: Date and time of modification.\n",
    "\n",
    "These attributes can be modified by the user, but the `id` , `created` and `modified`\n",
    "attributes are read only.\n",
    "\n",
    "Some other attributes are defined to describe the data:\n",
    "* `title`: A long name that will be used in plots or in some other operations.\n",
    "* `history`: history of operation achieved on the object since the object creation.\n",
    "* `description`: A comment or a description of the objects purpose or contents.\n",
    "* `origin`: An optional reference to the source of the data."
   ]
  },
  {
   "cell_type": "markdown",
   "id": "ae9c603b",
   "metadata": {},
   "source": [
    "Here is an example of the use of the NDDataset attributes:"
   ]
  },
  {
   "cell_type": "code",
   "execution_count": null,
   "id": "0c1d82ea",
   "metadata": {},
   "outputs": [],
   "source": [
    "d1D.title = \"intensity\"\n",
    "d1D.name = \"mydataset\"\n",
    "d1D.history = \"created from scratch\"\n",
    "d1D.description = \"Some experimental measurements\"\n",
    "d1D"
   ]
  },
  {
   "cell_type": "markdown",
   "id": "c9f40e82",
   "metadata": {},
   "source": [
    "d1D is a 1D (1-dimensional) dataset with only one dimension.\n",
    "\n",
    "Some attributes are useful to check this kind of information:"
   ]
  },
  {
   "cell_type": "code",
   "execution_count": null,
   "id": "b8fb2782",
   "metadata": {},
   "outputs": [],
   "source": [
    "d1D.shape  # the shape of 1D contain only one dimension size"
   ]
  },
  {
   "cell_type": "code",
   "execution_count": null,
   "id": "5f915e8a",
   "metadata": {},
   "outputs": [],
   "source": [
    "d1D.ndim  # the number of dimensions"
   ]
  },
  {
   "cell_type": "code",
   "execution_count": null,
   "id": "d3e44249",
   "metadata": {},
   "outputs": [],
   "source": [
    "d1D.dims  # the name of the dimension (it has been automatically attributed)"
   ]
  },
  {
   "cell_type": "markdown",
   "id": "6f918c74",
   "metadata": {},
   "source": [
    "**Note**: The names of the dimensions are set automatically. But they can be changed,\n",
    "with <u>the limitation</u> that the\n",
    "name must be a single letter."
   ]
  },
  {
   "cell_type": "code",
   "execution_count": null,
   "id": "3ad8e222",
   "metadata": {},
   "outputs": [],
   "source": [
    "d1D.dims = [\"q\"]  # change the list of dim names."
   ]
  },
  {
   "cell_type": "code",
   "execution_count": null,
   "id": "7a6e0566",
   "metadata": {},
   "outputs": [],
   "source": [
    "d1D.dims"
   ]
  },
  {
   "cell_type": "markdown",
   "id": "3a34ab46",
   "metadata": {},
   "source": [
    "### nD-Dataset (multidimensional dataset)"
   ]
  },
  {
   "cell_type": "markdown",
   "id": "3bb6a0c3",
   "metadata": {},
   "source": [
    "To create a nD NDDataset, we can provide a nD-array like object to the NDDataset\n",
    "instance constructor"
   ]
  },
  {
   "cell_type": "code",
   "execution_count": null,
   "id": "2ffd1d48",
   "metadata": {},
   "outputs": [],
   "source": [
    "a = np.random.rand(2, 4, 6)\n",
    "a"
   ]
  },
  {
   "cell_type": "code",
   "execution_count": null,
   "id": "132c8aa7",
   "metadata": {},
   "outputs": [],
   "source": [
    "d3D = NDDataset(a)\n",
    "d3D.title = \"energy\"\n",
    "d3D.author = \"Someone\"\n",
    "d3D.name = \"3D dataset creation\"\n",
    "d3D.history = \"created from scratch\"\n",
    "d3D.description = \"Some example\"\n",
    "d3D.dims = [\"u\", \"v\", \"t\"]\n",
    "d3D"
   ]
  },
  {
   "cell_type": "markdown",
   "id": "4c78565a",
   "metadata": {},
   "source": [
    "We can also add all information in a single statement"
   ]
  },
  {
   "cell_type": "code",
   "execution_count": null,
   "id": "81b96dcc",
   "metadata": {},
   "outputs": [],
   "source": [
    "d3D = NDDataset(\n",
    "    a,\n",
    "    dims=[\"u\", \"v\", \"t\"],\n",
    "    title=\"Energy\",\n",
    "    author=\"Someone\",\n",
    "    name=\"3D_dataset\",\n",
    "    history=\"created from scratch\",\n",
    "    description=\"a single statement creation example\",\n",
    ")\n",
    "d3D"
   ]
  },
  {
   "cell_type": "markdown",
   "id": "b592f0ae",
   "metadata": {},
   "source": [
    "Three names are attributed at the creation (if they are not provided with the `dims`\n",
    "attribute, then the name are:\n",
    "'z','y','x' automatically attributed)"
   ]
  },
  {
   "cell_type": "code",
   "execution_count": null,
   "id": "0e946f00",
   "metadata": {},
   "outputs": [],
   "source": [
    "d3D.dims"
   ]
  },
  {
   "cell_type": "code",
   "execution_count": null,
   "id": "215b51cd",
   "metadata": {},
   "outputs": [],
   "source": [
    "d3D.ndim"
   ]
  },
  {
   "cell_type": "code",
   "execution_count": null,
   "id": "3c097c75",
   "metadata": {},
   "outputs": [],
   "source": [
    "d3D.shape"
   ]
  },
  {
   "cell_type": "markdown",
   "id": "f44fab25",
   "metadata": {},
   "source": [
    "## About the dates and times\n",
    "The dates and times are stored internally as\n",
    "[UTC (Coordinated_Universal_Time)](https://en.wikipedia.org/wiki/Coordinated_\n",
    "Universal_Time).\n",
    "Timezone information is stored in the timezone attribute.\n",
    "If not set, the default is to use the local timezone,\n",
    "which is probably the most common case."
   ]
  },
  {
   "cell_type": "code",
   "execution_count": null,
   "id": "7cc64b5c",
   "metadata": {},
   "outputs": [],
   "source": [
    "nd = NDDataset()\n",
    "nd.created"
   ]
  },
  {
   "cell_type": "markdown",
   "id": "1332832b",
   "metadata": {},
   "source": [
    "In this case our local timezone has been used by default for the conversion from\n",
    "UTC datetime."
   ]
  },
  {
   "cell_type": "code",
   "execution_count": null,
   "id": "08dfe6f4",
   "metadata": {},
   "outputs": [],
   "source": [
    "nd.local_timezone"
   ]
  },
  {
   "cell_type": "code",
   "execution_count": null,
   "id": "fb672dc3",
   "metadata": {},
   "outputs": [],
   "source": [
    "nd.timezone = \"EST\"\n",
    "nd.created"
   ]
  },
  {
   "cell_type": "markdown",
   "id": "5eff55be",
   "metadata": {},
   "source": [
    "For a list of timezone code (TZ) you can have a look at\n",
    "[List_of_tz_database_time_zones](\n",
    "https://en.wikipedia.org/wiki/List_of_tz_database_time_zones)."
   ]
  },
  {
   "cell_type": "markdown",
   "id": "3d95cc55",
   "metadata": {},
   "source": [
    "## About the `history` attribute"
   ]
  },
  {
   "cell_type": "markdown",
   "id": "82a81d88",
   "metadata": {},
   "source": [
    "The history is saved internally into a list, but its has a different behaviour than\n",
    "the usual list.\n",
    "The first time a NDDataset is created, the list is empty"
   ]
  },
  {
   "cell_type": "code",
   "execution_count": null,
   "id": "4ce30ccf",
   "metadata": {},
   "outputs": [],
   "source": [
    "nd = NDDataset()\n",
    "nd.history"
   ]
  },
  {
   "cell_type": "markdown",
   "id": "c6fb873d",
   "metadata": {},
   "source": [
    "Assigning a string to the history attribute has two effects. The first one is that\n",
    "the string is appended automatically to the previous history list, and second it is\n",
    "preceeded by the time it has been added."
   ]
  },
  {
   "cell_type": "code",
   "execution_count": null,
   "id": "1a09f31c",
   "metadata": {},
   "outputs": [],
   "source": [
    "nd.history = \"some history\"\n",
    "nd.history = \"another history to append\"\n",
    "nd.history = \"...\"\n",
    "nd.history"
   ]
  },
  {
   "cell_type": "markdown",
   "id": "fe9641ff",
   "metadata": {},
   "source": [
    "If you want to erase the history, assign an empty list"
   ]
  },
  {
   "cell_type": "code",
   "execution_count": null,
   "id": "2a5d3568",
   "metadata": {},
   "outputs": [],
   "source": [
    "nd.history = []\n",
    "nd.history"
   ]
  },
  {
   "cell_type": "markdown",
   "id": "44a70c02",
   "metadata": {},
   "source": [
    "If you want to replace the full history use bracket around your history line:"
   ]
  },
  {
   "cell_type": "code",
   "execution_count": null,
   "id": "eb84a82b",
   "metadata": {},
   "outputs": [],
   "source": [
    "nd.history = \"Created form scratch\"\n",
    "nd.history = \"a second ligne that will be erased\"\n",
    "nd.history = [\"A more interesting message\"]\n",
    "nd.history"
   ]
  },
  {
   "cell_type": "markdown",
   "id": "06905435",
   "metadata": {},
   "source": [
    "## Units"
   ]
  },
  {
   "cell_type": "markdown",
   "id": "bd9b2205",
   "metadata": {},
   "source": [
    "One interesting possibility for a NDDataset is to have defined units for the internal\n",
    "data."
   ]
  },
  {
   "cell_type": "code",
   "execution_count": null,
   "id": "b2de9d7d",
   "metadata": {},
   "outputs": [],
   "source": [
    "d1D.units = ur.eV  # ur is a registry containing all available units"
   ]
  },
  {
   "cell_type": "code",
   "execution_count": null,
   "id": "9e8d2113",
   "metadata": {},
   "outputs": [],
   "source": [
    "d1D  # note the eV symbol of the units added to the values field below"
   ]
  },
  {
   "cell_type": "markdown",
   "id": "e3d4e706",
   "metadata": {},
   "source": [
    "This allows to make units-aware calculations:"
   ]
  },
  {
   "cell_type": "code",
   "execution_count": null,
   "id": "8ccf4ceb",
   "metadata": {},
   "outputs": [],
   "source": [
    "d1D**2  # note the results in eV^2"
   ]
  },
  {
   "cell_type": "code",
   "execution_count": null,
   "id": "6f9f40b8",
   "metadata": {},
   "outputs": [],
   "source": [
    "np.sqrt(d1D)  # note the result in e^0.5"
   ]
  },
  {
   "cell_type": "code",
   "execution_count": null,
   "id": "f0998e68",
   "metadata": {},
   "outputs": [],
   "source": [
    "time = 5.0 * ur.second\n",
    "d1D / time  # here we get results in eV/s"
   ]
  },
  {
   "cell_type": "markdown",
   "id": "4569b826",
   "metadata": {},
   "source": [
    "Conversion can be done between different units transparently"
   ]
  },
  {
   "cell_type": "code",
   "execution_count": null,
   "id": "c98a75d6",
   "metadata": {},
   "outputs": [],
   "source": [
    "d1D.to(\"J\")"
   ]
  },
  {
   "cell_type": "code",
   "execution_count": null,
   "id": "c1148dc4",
   "metadata": {},
   "outputs": [],
   "source": [
    "d1D.to(\"K\")"
   ]
  },
  {
   "cell_type": "markdown",
   "id": "7d522646",
   "metadata": {},
   "source": [
    "For more examples on how to use units with NDDataset, see the\n",
    "[gallery example](gettingstarted/examples/gallery/auto_examples_core/a_nddataset/plot_c_units.html"
   ]
  },
  {
   "cell_type": "markdown",
   "id": "76604639",
   "metadata": {},
   "source": [
    "## Coordinates"
   ]
  },
  {
   "cell_type": "markdown",
   "id": "ce962ab8",
   "metadata": {},
   "source": [
    "The above created `d3D` dataset has 3 dimensions, but no coordinate for these\n",
    "dimensions. Here arises a big difference\n",
    "with simple `numpy`-arrays:\n",
    "* We can add coordinates to each dimension of a NDDataset."
   ]
  },
  {
   "cell_type": "markdown",
   "id": "5b4df80c",
   "metadata": {},
   "source": [
    "To get the list of all defined coordinates, we can use the `coords` attribute:"
   ]
  },
  {
   "cell_type": "code",
   "execution_count": null,
   "id": "a20ccec9",
   "metadata": {},
   "outputs": [],
   "source": [
    "d3D.coordset  # no coordinates, so it returns nothing (None)"
   ]
  },
  {
   "cell_type": "code",
   "execution_count": null,
   "id": "2c27c661",
   "metadata": {},
   "outputs": [],
   "source": [
    "d3D.t  # the same for coordinate  t, v, u which are not yet set"
   ]
  },
  {
   "cell_type": "markdown",
   "id": "a1aec8d5",
   "metadata": {},
   "source": [
    "To add coordinates, on way is to set them one by one:"
   ]
  },
  {
   "cell_type": "code",
   "execution_count": null,
   "id": "df992921",
   "metadata": {},
   "outputs": [],
   "source": [
    "d3D.t = (\n",
    "    Coord.arange(6) * 0.1\n",
    ")  # we need a sequence of 6 values for `t` dimension (see shape above)\n",
    "d3D.t.title = \"time\"\n",
    "d3D.t.units = ur.seconds\n",
    "d3D.coordset  # now return a list of coordinates"
   ]
  },
  {
   "cell_type": "code",
   "execution_count": null,
   "id": "e8016935",
   "metadata": {},
   "outputs": [],
   "source": [
    "d3D.t"
   ]
  },
  {
   "cell_type": "code",
   "execution_count": null,
   "id": "e720ba53",
   "metadata": {},
   "outputs": [],
   "source": [
    "d3D.coordset(\"t\")  # Alternative way to get a given coordinates"
   ]
  },
  {
   "cell_type": "code",
   "execution_count": null,
   "id": "a7439e60",
   "metadata": {},
   "outputs": [],
   "source": [
    "d3D[\"t\"]  # another alternative way to get a given coordinates"
   ]
  },
  {
   "cell_type": "markdown",
   "id": "5b6ec916",
   "metadata": {},
   "source": [
    "The two other coordinates u and v are still undefined"
   ]
  },
  {
   "cell_type": "code",
   "execution_count": null,
   "id": "18a3d740",
   "metadata": {},
   "outputs": [],
   "source": [
    "d3D.u, d3D.v"
   ]
  },
  {
   "cell_type": "markdown",
   "id": "302a1fcf",
   "metadata": {},
   "source": [
    "When the dataset is printed, only the information for the existing coordinates is\n",
    "given."
   ]
  },
  {
   "cell_type": "code",
   "execution_count": null,
   "id": "6b6eb20f",
   "metadata": {},
   "outputs": [],
   "source": [
    "d3D"
   ]
  },
  {
   "cell_type": "markdown",
   "id": "31bf19ca",
   "metadata": {},
   "source": [
    "Programmatically, we can use the attribute `is_empty` or `has_data` to check this"
   ]
  },
  {
   "cell_type": "code",
   "execution_count": null,
   "id": "c6347e73",
   "metadata": {},
   "outputs": [],
   "source": [
    "d3D.v.has_data, d3D.v.is_empty"
   ]
  },
  {
   "cell_type": "markdown",
   "id": "137e09d5",
   "metadata": {},
   "source": [
    "An error is raised when a coordinate doesn't exist"
   ]
  },
  {
   "cell_type": "code",
   "execution_count": null,
   "id": "76596846",
   "metadata": {},
   "outputs": [],
   "source": [
    "try:\n",
    "    d3D.x\n",
    "except KeyError as e:\n",
    "    scp.error_(KeyError, e)"
   ]
  },
  {
   "cell_type": "markdown",
   "id": "7816b78a",
   "metadata": {},
   "source": [
    "In some case it can also be useful to get a coordinate from its title instead of its\n",
    "name (the limitation is that if\n",
    "several coordinates have the same title, then only the first ones that is found in\n",
    "the coordinate list, will be\n",
    "returned - this can be ambiguous)"
   ]
  },
  {
   "cell_type": "code",
   "execution_count": null,
   "id": "fc0865f9",
   "metadata": {},
   "outputs": [],
   "source": [
    "d3D[\"time\"]"
   ]
  },
  {
   "cell_type": "code",
   "execution_count": null,
   "id": "391413c4",
   "metadata": {},
   "outputs": [],
   "source": [
    "d3D.time"
   ]
  },
  {
   "cell_type": "markdown",
   "id": "8ff0731c",
   "metadata": {},
   "source": [
    "## Labels"
   ]
  },
  {
   "cell_type": "markdown",
   "id": "726cc24d",
   "metadata": {},
   "source": [
    "It is possible to use labels instead of numerical coordinates. They are sequence of\n",
    "objects .The length of the\n",
    "sequence must be equal to the size of a dimension."
   ]
  },
  {
   "cell_type": "markdown",
   "id": "68d46afa",
   "metadata": {},
   "source": [
    "The labels can be simple strings, *e.g.,*"
   ]
  },
  {
   "cell_type": "code",
   "execution_count": null,
   "id": "d64e21ee",
   "metadata": {},
   "outputs": [],
   "source": [
    "tags = list(\"ab\")\n",
    "d3D.u.title = \"some tags\"\n",
    "d3D.u.labels = tags  # TODO: avoid repetition\n",
    "d3D"
   ]
  },
  {
   "cell_type": "markdown",
   "id": "9a5d70c7",
   "metadata": {},
   "source": [
    "or more complex objects.\n",
    "\n",
    "For instance here we use datetime.timedelta objects:"
   ]
  },
  {
   "cell_type": "code",
   "execution_count": null,
   "id": "a3d575e3",
   "metadata": {},
   "outputs": [],
   "source": [
    "from datetime import timedelta\n",
    "\n",
    "start = timedelta(0)\n",
    "times = [start + timedelta(seconds=x * 60) for x in range(6)]\n",
    "d3D.t = None\n",
    "d3D.t.labels = times\n",
    "d3D.t.title = \"time\"\n",
    "d3D"
   ]
  },
  {
   "cell_type": "markdown",
   "id": "0ea229a7",
   "metadata": {},
   "source": [
    "In this case, getting a coordinate that doesn't possess numerical data but labels,\n",
    "will return the labels"
   ]
  },
  {
   "cell_type": "code",
   "execution_count": null,
   "id": "8ccd737f",
   "metadata": {},
   "outputs": [],
   "source": [
    "d3D.time"
   ]
  },
  {
   "cell_type": "markdown",
   "id": "ce985958",
   "metadata": {},
   "source": [
    "# More insight on coordinates"
   ]
  },
  {
   "cell_type": "markdown",
   "id": "4b18b346",
   "metadata": {},
   "source": [
    "## Sharing coordinates between dimensions"
   ]
  },
  {
   "cell_type": "markdown",
   "id": "b353242f",
   "metadata": {},
   "source": [
    "Sometimes it is not necessary to have different coordinates for each axe. Some can be\n",
    "shared between axes.\n",
    "\n",
    "For example, if we have a square matrix with the same coordinate in the two\n",
    "dimensions, the second dimension can\n",
    "refer to the first. Here we create a square 2D dataset, using the `diag` method:"
   ]
  },
  {
   "cell_type": "code",
   "execution_count": null,
   "id": "3712374d",
   "metadata": {},
   "outputs": [],
   "source": [
    "nd = NDDataset.diag((3, 3, 2.5))\n",
    "nd"
   ]
  },
  {
   "cell_type": "markdown",
   "id": "4560ff50",
   "metadata": {},
   "source": [
    "and then we add the same coordinate for both dimensions"
   ]
  },
  {
   "cell_type": "code",
   "execution_count": null,
   "id": "eb766935",
   "metadata": {},
   "outputs": [],
   "source": [
    "coordx = Coord.arange(3)\n",
    "nd.set_coordset(x=coordx, y=\"x\")\n",
    "nd"
   ]
  },
  {
   "cell_type": "markdown",
   "id": "786e44f2",
   "metadata": {},
   "source": [
    "## Setting coordinates using `set_coordset`"
   ]
  },
  {
   "cell_type": "markdown",
   "id": "4aad75d5",
   "metadata": {},
   "source": [
    "Let's create 3 `Coord` objects to be used as coordinates for the 3 dimensions of the\n",
    "previous d3D dataset."
   ]
  },
  {
   "cell_type": "code",
   "execution_count": null,
   "id": "88f28ad2",
   "metadata": {},
   "outputs": [],
   "source": [
    "d3D.dims = [\"t\", \"v\", \"u\"]\n",
    "s0, s1, s2 = d3D.shape\n",
    "coord0 = Coord.linspace(10.0, 100.0, s0, units=\"m\", title=\"distance\")\n",
    "coord1 = Coord.linspace(20.0, 25.0, s1, units=\"K\", title=\"temperature\")\n",
    "coord2 = Coord.linspace(0.0, 1000.0, s2, units=\"hour\", title=\"elapsed time\")"
   ]
  },
  {
   "cell_type": "markdown",
   "id": "5685c7ec",
   "metadata": {},
   "source": [
    "### Syntax 1"
   ]
  },
  {
   "cell_type": "code",
   "execution_count": null,
   "id": "71d391a6",
   "metadata": {},
   "outputs": [],
   "source": [
    "d3D.set_coordset(u=coord2, v=coord1, t=coord0)\n",
    "d3D"
   ]
  },
  {
   "cell_type": "markdown",
   "id": "e02fd0fb",
   "metadata": {},
   "source": [
    "### Syntax 2"
   ]
  },
  {
   "cell_type": "code",
   "execution_count": null,
   "id": "b0db2b70",
   "metadata": {},
   "outputs": [],
   "source": [
    "d3D.set_coordset({\"u\": coord2, \"v\": coord1, \"t\": coord0})\n",
    "d3D"
   ]
  },
  {
   "cell_type": "markdown",
   "id": "2efeaad1",
   "metadata": {},
   "source": [
    "## Adding several coordinates to a single dimension\n",
    "We can add several coordinates to the same dimension"
   ]
  },
  {
   "cell_type": "code",
   "execution_count": null,
   "id": "539bdc40",
   "metadata": {},
   "outputs": [],
   "source": [
    "coord1b = Coord([1, 2, 3, 4], units=\"millitesla\", title=\"magnetic field\")"
   ]
  },
  {
   "cell_type": "code",
   "execution_count": null,
   "id": "b28eaaa7",
   "metadata": {},
   "outputs": [],
   "source": [
    "d3D.set_coordset(u=coord2, v=[coord1, coord1b], t=coord0)\n",
    "d3D"
   ]
  },
  {
   "cell_type": "markdown",
   "id": "139323c9",
   "metadata": {},
   "source": [
    "We can retrieve the various coordinates for a single dimension easily:"
   ]
  },
  {
   "cell_type": "code",
   "execution_count": null,
   "id": "abe6dc62",
   "metadata": {},
   "outputs": [],
   "source": [
    "d3D.v_1"
   ]
  },
  {
   "cell_type": "markdown",
   "id": "a8f3de88",
   "metadata": {},
   "source": [
    "## Math operations on coordinates\n",
    "Arithmetic operations can be performed on single coordinates:"
   ]
  },
  {
   "cell_type": "code",
   "execution_count": null,
   "id": "5da93ca3",
   "metadata": {},
   "outputs": [],
   "source": [
    "d3D.u = d3D.u * 2\n",
    "d3D.u"
   ]
  },
  {
   "cell_type": "markdown",
   "id": "f0e42784",
   "metadata": {},
   "source": [
    "The ufunc numpy functions can also be applied, and will affect both the magnitude and\n",
    "the units of the coordinates:"
   ]
  },
  {
   "cell_type": "code",
   "execution_count": null,
   "id": "d829db3c",
   "metadata": {},
   "outputs": [],
   "source": [
    "d3D.u = 1.5 + np.sqrt(d3D.u)\n",
    "d3D.u"
   ]
  },
  {
   "cell_type": "markdown",
   "id": "b787aafe",
   "metadata": {},
   "source": [
    "A particularly frequent use case is to subtract the initial value from a coordinate. This can be done\n",
    "directly with the `-` operator:"
   ]
  },
  {
   "cell_type": "code",
   "execution_count": null,
   "id": "0c6bf05e",
   "metadata": {},
   "outputs": [],
   "source": [
    "d3D.u = d3D.u - d3D.u[0]\n",
    "d3D.u"
   ]
  },
  {
   "cell_type": "markdown",
   "id": "3a629660",
   "metadata": {},
   "source": [
    "The operations above will generally *not* work on multiple coordinates, and\n",
    "will raise an error if attempted:"
   ]
  },
  {
   "cell_type": "code",
   "execution_count": null,
   "id": "3649b4b5",
   "metadata": {},
   "outputs": [],
   "source": [
    "try:\n",
    "    d3D.v = d3D.v - 1.5\n",
    "except NotImplementedError as e:\n",
    "    scp.error_(NotImplementedError, e)"
   ]
  },
  {
   "cell_type": "markdown",
   "id": "9fcf5110",
   "metadata": {},
   "source": [
    "Only subtraction between multiple coordinates is allowed, and will return a new `CoordSet` where each coordinate\n",
    "has been subtracted:"
   ]
  },
  {
   "cell_type": "code",
   "execution_count": null,
   "id": "1d431e84",
   "metadata": {},
   "outputs": [],
   "source": [
    "d3D.v = d3D.v - d3D.v[0]\n",
    "d3D.v"
   ]
  },
  {
   "cell_type": "markdown",
   "id": "29f4ac53",
   "metadata": {},
   "source": [
    "It is always possible to carry out operations on a given coordinate\n",
    "of a CoordSet. This must be done by accessing the coordinate by its name, e.g. `'temperature'` or `'_2'` for\n",
    "the second coordinate of the `v` dimension:"
   ]
  },
  {
   "cell_type": "code",
   "execution_count": null,
   "id": "4e33ecb1",
   "metadata": {},
   "outputs": [],
   "source": [
    "d3D.v[\"_2\"] = d3D.v[\"_2\"] + 5.0\n",
    "d3D.v"
   ]
  },
  {
   "cell_type": "markdown",
   "id": "193fbe11",
   "metadata": {},
   "source": [
    "## Summary of the coordinate setting syntax\n",
    "Some additional information about coordinate setting syntax"
   ]
  },
  {
   "cell_type": "markdown",
   "id": "4f14df5e",
   "metadata": {},
   "source": [
    "**A.** First syntax (probably the safer because the name of the dimension is\n",
    "specified, so this is less prone to\n",
    "errors!)"
   ]
  },
  {
   "cell_type": "code",
   "execution_count": null,
   "id": "2d7199bd",
   "metadata": {},
   "outputs": [],
   "source": [
    "d3D.set_coordset(u=coord2, v=[coord1, coord1b], t=coord0)\n",
    "# or equivalent\n",
    "d3D.set_coordset(u=coord2, v=CoordSet(coord1, coord1b), t=coord0)\n",
    "d3D"
   ]
  },
  {
   "cell_type": "markdown",
   "id": "c379c3e6",
   "metadata": {},
   "source": [
    "**B.** Second syntax assuming the coordinates are given in the order of the\n",
    "dimensions.\n",
    "\n",
    "Remember that we can check this order using the `dims` attribute of a NDDataset"
   ]
  },
  {
   "cell_type": "code",
   "execution_count": null,
   "id": "1eb18134",
   "metadata": {},
   "outputs": [],
   "source": [
    "d3D.dims"
   ]
  },
  {
   "cell_type": "code",
   "execution_count": null,
   "id": "3bbe10a6",
   "metadata": {},
   "outputs": [],
   "source": [
    "d3D.set_coordset((coord0, [coord1, coord1b], coord2))\n",
    "# or equivalent\n",
    "d3D.set_coordset(coord0, CoordSet(coord1, coord1b), coord2)\n",
    "d3D"
   ]
  },
  {
   "cell_type": "markdown",
   "id": "02de8adc",
   "metadata": {},
   "source": [
    "**C.** Third syntax (from a dictionary)"
   ]
  },
  {
   "cell_type": "code",
   "execution_count": null,
   "id": "d5daef41",
   "metadata": {},
   "outputs": [],
   "source": [
    "d3D.set_coordset({\"t\": coord0, \"u\": coord2, \"v\": [coord1, coord1b]})\n",
    "d3D"
   ]
  },
  {
   "cell_type": "markdown",
   "id": "40ee8657",
   "metadata": {},
   "source": [
    "**D.** It is also possible to use directly the `CoordSet` property"
   ]
  },
  {
   "cell_type": "code",
   "execution_count": null,
   "id": "c9ddd288",
   "metadata": {},
   "outputs": [],
   "source": [
    "d3D.coordset = coord0, [coord1, coord1b], coord2\n",
    "d3D"
   ]
  },
  {
   "cell_type": "code",
   "execution_count": null,
   "id": "97e209ee",
   "metadata": {},
   "outputs": [],
   "source": [
    "d3D.coordset = {\"t\": coord0, \"u\": coord2, \"v\": [coord1, coord1b]}\n",
    "d3D"
   ]
  },
  {
   "cell_type": "code",
   "execution_count": null,
   "id": "abdc7b50",
   "metadata": {},
   "outputs": [],
   "source": [
    "d3D.coordset = CoordSet(t=coord0, u=coord2, v=[coord1, coord1b])\n",
    "d3D"
   ]
  },
  {
   "cell_type": "markdown",
   "id": "d210fd4b",
   "metadata": {},
   "source": [
    "<div class='alert alert-warning'>\n",
    "<b>WARNING</b>\n",
    "\n",
    "Do not use list for setting multiples coordinates! use tuples\n",
    "</div>"
   ]
  },
  {
   "cell_type": "markdown",
   "id": "949a670d",
   "metadata": {},
   "source": [
    "This raise an error (list have another signification: it's used to set a \"same dim\"\n",
    "CoordSet see example A or B)"
   ]
  },
  {
   "cell_type": "code",
   "execution_count": null,
   "id": "62f94804",
   "metadata": {},
   "outputs": [],
   "source": [
    "try:\n",
    "    d3D.coordset = [coord0, coord1, coord2]\n",
    "except ValueError:\n",
    "    scp.error_(\n",
    "        ValueError,\n",
    "        \"Coordinates must be of the same size for a dimension with multiple coordinates\",\n",
    "    )"
   ]
  },
  {
   "cell_type": "markdown",
   "id": "d265bfaa",
   "metadata": {},
   "source": [
    "This works : it uses a tuple `()` , not a list `[]`"
   ]
  },
  {
   "cell_type": "code",
   "execution_count": null,
   "id": "2c198230",
   "metadata": {},
   "outputs": [],
   "source": [
    "d3D.coordset = (\n",
    "    coord0,\n",
    "    coord1,\n",
    "    coord2,\n",
    ")  # equivalent to d3D.coordset = coord0, coord1, coord2\n",
    "d3D"
   ]
  },
  {
   "cell_type": "markdown",
   "id": "ce1a2b13",
   "metadata": {},
   "source": [
    "**E.** Setting the coordinates individually"
   ]
  },
  {
   "cell_type": "markdown",
   "id": "31e07b37",
   "metadata": {},
   "source": [
    "Either a single coordinate"
   ]
  },
  {
   "cell_type": "code",
   "execution_count": null,
   "id": "aa3807bd",
   "metadata": {
    "lines_to_next_cell": 0
   },
   "outputs": [],
   "source": [
    "d3D.u = coord2\n",
    "d3D"
   ]
  },
  {
   "cell_type": "markdown",
   "id": "3fc34a6f",
   "metadata": {},
   "source": [
    "or multiple coordinates for a single dimension"
   ]
  },
  {
   "cell_type": "code",
   "execution_count": null,
   "id": "99424754",
   "metadata": {
    "lines_to_next_cell": 0
   },
   "outputs": [],
   "source": [
    "d3D.v = [coord1, coord1b]\n",
    "d3D"
   ]
  },
  {
   "cell_type": "markdown",
   "id": "5c1dfc7f",
   "metadata": {},
   "source": [
    "or using a CoordSet object."
   ]
  },
  {
   "cell_type": "code",
   "execution_count": null,
   "id": "f009d564",
   "metadata": {},
   "outputs": [],
   "source": [
    "d3D.v = CoordSet(coord1, coord1b)\n",
    "d3D"
   ]
  },
  {
   "cell_type": "markdown",
   "id": "2b8b3661",
   "metadata": {},
   "source": [
    "# Methods to create NDDataset\n",
    "\n",
    "There are many ways to create `NDDataset` objects.\n",
    "\n",
    "Let's first create 2 coordinate objects, for which we can define `labels` and `units`!\n",
    "Note the use of the function\n",
    "`linspace`to generate the data."
   ]
  },
  {
   "cell_type": "code",
   "execution_count": null,
   "id": "dc6b0f74",
   "metadata": {},
   "outputs": [],
   "source": [
    "c0 = Coord.linspace(\n",
    "    start=4000.0, stop=1000.0, num=5, labels=None, units=\"cm^-1\", title=\"wavenumber\"\n",
    ")"
   ]
  },
  {
   "cell_type": "code",
   "execution_count": null,
   "id": "7c49844f",
   "metadata": {},
   "outputs": [],
   "source": [
    "c1 = Coord.linspace(\n",
    "    10.0, 40.0, 3, labels=[\"Cold\", \"RT\", \"Hot\"], units=\"K\", title=\"temperature\"\n",
    ")"
   ]
  },
  {
   "cell_type": "markdown",
   "id": "55fd2479",
   "metadata": {},
   "source": [
    "The full coordset will be the following"
   ]
  },
  {
   "cell_type": "code",
   "execution_count": null,
   "id": "3d7fbb6c",
   "metadata": {
    "lines_to_next_cell": 2
   },
   "outputs": [],
   "source": [
    "cs = CoordSet(c0, c1)\n",
    "cs"
   ]
  },
  {
   "cell_type": "markdown",
   "id": "ac840c3e",
   "metadata": {},
   "source": [
    "Now we will generate the full dataset, using a `fromfunction` method.\n",
    "All needed information are passed as\n",
    "parameter of the NDDataset instance constructor."
   ]
  },
  {
   "cell_type": "markdown",
   "id": "a3e33a28",
   "metadata": {
    "lines_to_next_cell": 2
   },
   "source": [
    "## Create a dataset from a function"
   ]
  },
  {
   "cell_type": "code",
   "execution_count": null,
   "id": "afb55017",
   "metadata": {},
   "outputs": [],
   "source": [
    "def func(x, y, extra):\n",
    "    return x * y / extra"
   ]
  },
  {
   "cell_type": "code",
   "execution_count": null,
   "id": "8f40fc6b",
   "metadata": {},
   "outputs": [],
   "source": [
    "ds = NDDataset.fromfunction(\n",
    "    func,\n",
    "    extra=100 * ur.cm**-1,  # extra arguments passed to the function\n",
    "    coordset=cs,\n",
    "    name=\"mydataset\",\n",
    "    title=\"absorbance\",\n",
    "    units=None,\n",
    ")  # when None, units will be determined from the function results\n",
    "\n",
    "ds.description = \"\"\"Dataset example created for this tutorial.\n",
    "It's a 2-D dataset\"\"\"\n",
    "\n",
    "ds.author = \"Blake & Mortimer\"\n",
    "ds"
   ]
  },
  {
   "cell_type": "markdown",
   "id": "74163b88",
   "metadata": {},
   "source": [
    "## Using numpy-like constructors of NDDatasets"
   ]
  },
  {
   "cell_type": "code",
   "execution_count": null,
   "id": "a0093098",
   "metadata": {},
   "outputs": [],
   "source": [
    "dz = NDDataset.zeros(\n",
    "    (5, 3), coordset=cs, units=\"meters\", title=\"Datasets with only zeros\"\n",
    ")"
   ]
  },
  {
   "cell_type": "code",
   "execution_count": null,
   "id": "382d9645",
   "metadata": {},
   "outputs": [],
   "source": [
    "do = NDDataset.ones(\n",
    "    (5, 3), coordset=cs, units=\"kilograms\", title=\"Datasets with only ones\"\n",
    ")"
   ]
  },
  {
   "cell_type": "code",
   "execution_count": null,
   "id": "c166045a",
   "metadata": {},
   "outputs": [],
   "source": [
    "df = NDDataset.full(\n",
    "    (5, 3), fill_value=1.25, coordset=cs, units=\"radians\", title=\"with only float=1.25\"\n",
    ")\n",
    "df"
   ]
  },
  {
   "cell_type": "markdown",
   "id": "50a56dbe",
   "metadata": {},
   "source": [
    "As with numpy, it is also possible to take another dataset as a template:"
   ]
  },
  {
   "cell_type": "code",
   "execution_count": null,
   "id": "87a28436",
   "metadata": {},
   "outputs": [],
   "source": [
    "df = NDDataset.full_like(d3D, dtype=\"int\", fill_value=2)\n",
    "df"
   ]
  },
  {
   "cell_type": "code",
   "execution_count": null,
   "id": "12705425",
   "metadata": {},
   "outputs": [],
   "source": [
    "nd = NDDataset.diag((3, 3, 2.5))\n",
    "nd"
   ]
  },
  {
   "cell_type": "markdown",
   "id": "7f1c9b10",
   "metadata": {},
   "source": [
    "## Copying existing NDDataset\n",
    "\n",
    "To copy an existing dataset, this is as simple as:"
   ]
  },
  {
   "cell_type": "code",
   "execution_count": null,
   "id": "3b6f1ec9",
   "metadata": {},
   "outputs": [],
   "source": [
    "d3D_copy = d3D.copy()"
   ]
  },
  {
   "cell_type": "markdown",
   "id": "f61b1764",
   "metadata": {},
   "source": [
    "or alternatively:"
   ]
  },
  {
   "cell_type": "code",
   "execution_count": null,
   "id": "ea122288",
   "metadata": {},
   "outputs": [],
   "source": [
    "d3D_copy = d3D[:]"
   ]
  },
  {
   "cell_type": "markdown",
   "id": "418e1329",
   "metadata": {},
   "source": [
    "Finally, it is also possible to initialize a dataset using an existing one:"
   ]
  },
  {
   "cell_type": "code",
   "execution_count": null,
   "id": "e28b90b9",
   "metadata": {},
   "outputs": [],
   "source": [
    "d3Dduplicate = NDDataset(d3D, name=f\"duplicate of {d3D.name}\", units=\"absorbance\")\n",
    "d3Dduplicate"
   ]
  },
  {
   "cell_type": "markdown",
   "id": "220daf3d",
   "metadata": {},
   "source": [
    "## Importing from external dataset\n",
    "\n",
    "NDDataset can be created from the importation of external data\n",
    "\n",
    "A **test**'s data folder contains some data for experimenting some features of\n",
    "datasets."
   ]
  },
  {
   "cell_type": "code",
   "execution_count": null,
   "id": "b6c863de",
   "metadata": {},
   "outputs": [],
   "source": [
    "# let check if this directory exists and display its actual content:\n",
    "datadir = scp.preferences.datadir\n",
    "if datadir.exists():\n",
    "    print(datadir.name)"
   ]
  },
  {
   "cell_type": "markdown",
   "id": "d23d029c",
   "metadata": {},
   "source": [
    "Let's load grouped IR spectra acquired using OMNIC:"
   ]
  },
  {
   "cell_type": "code",
   "execution_count": null,
   "id": "3b7364a6",
   "metadata": {},
   "outputs": [],
   "source": [
    "nd = NDDataset.read_omnic(datadir / \"irdata/nh4y-activation.spg\")\n",
    "nd.preferences.reset()\n",
    "_ = nd.plot()"
   ]
  },
  {
   "cell_type": "markdown",
   "id": "f6f84a9d",
   "metadata": {},
   "source": [
    "Even if we do not specify the **datadir**, the application first look in the\n",
    "directory by default."
   ]
  },
  {
   "cell_type": "markdown",
   "id": "e778383c",
   "metadata": {},
   "source": [
    "Now, lets load a NMR dataset (in the Bruker format)."
   ]
  },
  {
   "cell_type": "code",
   "execution_count": null,
   "id": "d56ec10c",
   "metadata": {},
   "outputs": [],
   "source": [
    "path = datadir / \"nmrdata\" / \"bruker\" / \"tests\" / \"nmr\" / \"topspin_2d\"\n",
    "\n",
    "# load the data directly (no need to create the dataset first)\n",
    "nd2 = NDDataset.read_topspin(path, expno=1, remove_digital_filter=True)\n",
    "\n",
    "# view it...\n",
    "nd2.x.to(\"s\")\n",
    "nd2.y.to(\"ms\")\n",
    "\n",
    "ax = nd2.plot(method=\"map\")"
   ]
  }
 ],
 "metadata": {
  "jupytext": {
   "formats": "ipynb,py:percent",
   "notebook_metadata_filter": "all"
  },
  "kernelspec": {
   "display_name": "Python 3 (ipykernel)",
   "language": "python",
   "name": "python3"
  },
  "language_info": {
   "codemirror_mode": {
    "name": "ipython",
    "version": 3
   },
   "file_extension": ".py",
   "mimetype": "text/x-python",
   "name": "python",
   "nbconvert_exporter": "python",
   "pygments_lexer": "ipython3",
   "version": "3.10.8"
  },
  "widgets": {
   "application/vnd.jupyter.widget-state+json": {
    "state": {},
    "version_major": 2,
    "version_minor": 0
   }
  }
 },
 "nbformat": 4,
 "nbformat_minor": 5
}
