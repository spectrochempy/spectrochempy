{
 "cells": [
  {
   "cell_type": "markdown",
   "id": "74acd6b5",
   "metadata": {},
   "source": [
    "# Starting Jupyter lab\n",
    "\n",
    "Currently, **SpectroChemPy** can be used as a library for python scripts.\n",
    "\n",
    "For ease of use, we recommend using the\n",
    "__[JupyterLab](https://jupyterlab.readthedocs.io/en/stable/getting_started/overview.html)__\n",
    "application or for those who are more comfortable programming,\n",
    "writing python scripts in a development environment such as\n",
    "__[PyCharm](https://www.jetbrains.com/fr-fr/pycharm/)__, __[VS\n",
    "Code](https://code.visualstudio.com)__ or __[Spyder](https://www.spyder-ide.org)__.\n",
    "\n",
    "To launch `Jupyter Lab` , open a terminal and follow the steps below:\n",
    "\n",
    "* Go to your favorite user document folder (*e.g.,* `$HOME/workspace` or\n",
    "any other folder you want to use to store your work).\n",
    "```bash\n",
    "$ cd $HOME/workspace\n",
    "```\n",
    "* Then type the following command:\n",
    "```bash\n",
    "$ jupyter lab\n",
    "```\n",
    "\n",
    "Your default browser should now be open, and the window should look like\n",
    "this:\n",
    "\n",
    "<img src='images/launch_lab.png' />\n",
    "\n",
    "From there, it is quite easy to create notebooks or to navigate to\n",
    "already existing ones.\n",
    "\n",
    "## Create a new Jupyter notebook\n",
    "\n",
    "* Click on the Notebook python 3 icon\n",
    "* A new notebook is created\n",
    "* Enter your first command, in the displayed cell, and type `SHIFT+ENTER` to run the code\n",
    "\n",
    "```ipython3\n",
    "from spectrochempy import *\n",
    "```\n",
    "\n",
    "* You can rename the notebook using context menu in the sidebar\n",
    "\n",
    "<img src='images/enter_code.png' />\n",
    "\n",
    "* Then you can click on the `+` sign to create a new cell. This cell is by default a Code cell which can contain\n",
    "Python code, but you can also enter some text, in Markdown format. Choose the content type of the cell in the\n",
    "dropdown menu, or by typing `ESC+M` .\n",
    "<img src='images/enter_md.png' />\n",
    "\n",
    "## Markdown cheat sheet\n",
    "To get more information on Markdown format, you can look [here](mdcheatsheet.ipynb)\n",
    "\n",
    "## Using the application in a web browser\n",
    "\n",
    "<div class='alert alert-warning'>\n",
    "   <b>In Progress</b>\n",
    "\n",
    "   For the moment we don’t yet have a graphical interface to offer other\n",
    "   than Jupyter notebooks or python scripts. It is in any case our\n",
    "   preferred way of working with SpectroChemPy because it offers all the\n",
    "   necessary flexibility for a fast and above all reproducible realization\n",
    "   of the different tasks to be performed on spectroscopic data.\n",
    "\n",
    "   However, we have started to create a simple interface using Dash which\n",
    "   will allow in a future version to work perhaps more simply for those who\n",
    "   do not have the time or the will to learn to master the rudiments of\n",
    "   python or who do not wish to program.\n",
    " </div>"
   ]
  },
  {
   "cell_type": "code",
   "execution_count": null,
   "id": "695c7527",
   "metadata": {},
   "outputs": [],
   "source": []
  }
 ],
 "metadata": {
  "jupytext": {
   "formats": "ipynb,py:percent",
   "notebook_metadata_filter": "all"
  },
  "kernelspec": {
   "display_name": "Python 3",
   "language": "python",
   "name": "python3"
  },
  "language_info": {
   "codemirror_mode": {
    "name": "ipython",
    "version": 3
   },
   "file_extension": ".py",
   "mimetype": "text/x-python",
   "name": "python",
   "nbconvert_exporter": "python",
   "pygments_lexer": "ipython3",
   "version": "3.9.1"
  },
  "nbsphinx": {
   "orphan": true
  },
  "widgets": {
   "application/vnd.jupyter.widget-state+json": {
    "state": {},
    "version_major": 2,
    "version_minor": 0
   }
  }
 },
 "nbformat": 4,
 "nbformat_minor": 5
}
