{
  "cells": [
    {
      "cell_type": "markdown",
      "metadata": {},
      "source": [
        "# Reading Renishaw WiRE files\n\nThis example shows how to read a Renishaw WiRE files (`.wdf` format).\n\nThe spectral data used has been downloaded from\n<https://github.com/alchem0x2A/py-wdf-reader> (MIT License) and stored\nin the local directory `ramandata/wire`.\n\nThe examples given here is a modified version of the original examples:\nSee <https://github.com/alchem0x2A/py-wdf-reader/blob/master/examples>\n"
      ]
    },
    {
      "cell_type": "code",
      "execution_count": null,
      "metadata": {
        "collapsed": false
      },
      "outputs": [],
      "source": [
        "import numpy as np"
      ]
    },
    {
      "cell_type": "markdown",
      "metadata": {},
      "source": [
        "First we need to import the spectrochempy API package\n"
      ]
    },
    {
      "cell_type": "code",
      "execution_count": null,
      "metadata": {
        "collapsed": false
      },
      "outputs": [],
      "source": [
        "import spectrochempy as scp"
      ]
    },
    {
      "cell_type": "markdown",
      "metadata": {},
      "source": [
        "**Import dataset from local files** Read Raman data recorded in WiRe\nformat (`.wdf` extension). We just pass the file name as parameter.\n"
      ]
    },
    {
      "cell_type": "markdown",
      "metadata": {},
      "source": [
        "First read a single spectrum (measurement type : single)\n"
      ]
    },
    {
      "cell_type": "code",
      "execution_count": null,
      "metadata": {
        "collapsed": false
      },
      "outputs": [],
      "source": [
        "dataset = scp.read_wire(\"ramandata/wire/sp.wdf\")  # or read_wdf (or read)\n_ = dataset.plot()"
      ]
    },
    {
      "cell_type": "markdown",
      "metadata": {},
      "source": [
        "Now read a series of spectra (measurement type : series) from a Z-depth\nscan.\n"
      ]
    },
    {
      "cell_type": "code",
      "execution_count": null,
      "metadata": {
        "collapsed": false
      },
      "outputs": [],
      "source": [
        "dataset = scp.read_wdf(\"ramandata/wire/depth.wdf\")\n_ = dataset.plot_image()"
      ]
    },
    {
      "cell_type": "markdown",
      "metadata": {},
      "source": [
        "filter blank spectra\n"
      ]
    },
    {
      "cell_type": "code",
      "execution_count": null,
      "metadata": {
        "collapsed": false
      },
      "outputs": [],
      "source": [
        "keep_rows = np.where(dataset.data.mean(axis=1) > 0)[0]\ndataset = dataset[keep_rows]\n_ = dataset.plot_image()"
      ]
    },
    {
      "cell_type": "markdown",
      "metadata": {},
      "source": [
        "extract a line scan data from a StreamLine HR measurement\n"
      ]
    },
    {
      "cell_type": "code",
      "execution_count": null,
      "metadata": {
        "collapsed": false
      },
      "outputs": [],
      "source": [
        "dataset = scp.read(\"ramandata/wire/line.wdf\")\n_ = dataset.plot_image()"
      ]
    },
    {
      "cell_type": "markdown",
      "metadata": {},
      "source": [
        "finally extract grid scan data from a StreamLine HR measurement\n"
      ]
    },
    {
      "cell_type": "code",
      "execution_count": null,
      "metadata": {
        "collapsed": false
      },
      "outputs": [],
      "source": [
        "dataset = scp.read_wdf(\"ramandata/wire/mapping.wdf\")\n# plot the dataset as an image (summming all wavenumbers)\n_ = dataset.sum(dim=2).plot_image()\n# plot the image taken at 1529cm-1\n_ = dataset[..., 1529.0].plot_image()"
      ]
    },
    {
      "cell_type": "markdown",
      "metadata": {},
      "source": [
        "This ends the example ! The following line can be uncommented if no plot\nshows when running the .py script with python\n"
      ]
    },
    {
      "cell_type": "code",
      "execution_count": null,
      "metadata": {
        "collapsed": false
      },
      "outputs": [],
      "source": [
        "# scp.show()"
      ]
    }
  ],
  "metadata": {
    "kernelspec": {
      "display_name": "Python 3",
      "language": "python",
      "name": "python3"
    },
    "language_info": {
      "codemirror_mode": {
        "name": "ipython",
        "version": 3
      },
      "file_extension": ".py",
      "mimetype": "text/x-python",
      "name": "python",
      "nbconvert_exporter": "python",
      "pygments_lexer": "ipython3",
      "version": "3.10.16"
    }
  },
  "nbformat": 4,
  "nbformat_minor": 0
}