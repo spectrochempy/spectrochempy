{
  "cells": [
    {
      "cell_type": "markdown",
      "metadata": {},
      "source": [
        "# Processing RAMAN spectra\n\nVarious examples of processing RAMAN spectra\n"
      ]
    },
    {
      "cell_type": "markdown",
      "metadata": {},
      "source": [
        "Import API\n"
      ]
    },
    {
      "cell_type": "code",
      "execution_count": null,
      "metadata": {
        "collapsed": false
      },
      "outputs": [],
      "source": [
        "import spectrochempy as scp"
      ]
    },
    {
      "cell_type": "markdown",
      "metadata": {},
      "source": [
        "# Importing a 1D spectra\n\nDefine the folder where are the spectra\n"
      ]
    },
    {
      "cell_type": "code",
      "execution_count": null,
      "metadata": {
        "collapsed": false
      },
      "outputs": [],
      "source": [
        "datadir = scp.preferences.datadir\nramandir = datadir / \"ramandata/labspec\""
      ]
    },
    {
      "cell_type": "markdown",
      "metadata": {},
      "source": [
        "Read a single spectrum\n"
      ]
    },
    {
      "cell_type": "code",
      "execution_count": null,
      "metadata": {
        "collapsed": false
      },
      "outputs": [],
      "source": [
        "A = scp.read_labspec(\"SMC1-Initial_RT.txt\", directory=ramandir)"
      ]
    },
    {
      "cell_type": "markdown",
      "metadata": {},
      "source": [
        "Plot the spectrum\n"
      ]
    },
    {
      "cell_type": "code",
      "execution_count": null,
      "metadata": {
        "collapsed": false
      },
      "outputs": [],
      "source": [
        "_ = A.plot()"
      ]
    },
    {
      "cell_type": "markdown",
      "metadata": {},
      "source": [
        "Crop the spectrum to a useful region\n"
      ]
    },
    {
      "cell_type": "code",
      "execution_count": null,
      "metadata": {
        "collapsed": false
      },
      "outputs": [],
      "source": [
        "B = A[60.0:]\n_ = B.plot()"
      ]
    },
    {
      "cell_type": "markdown",
      "metadata": {},
      "source": [
        "# Baseline correction\n\nLet\\'s try to remove the baseline using different methods For this we\nuse the [Baseline]{.title-ref} processor\n\nFirst, we define the baseline processor\n"
      ]
    },
    {
      "cell_type": "code",
      "execution_count": null,
      "metadata": {
        "collapsed": false
      },
      "outputs": [],
      "source": [
        "blc = scp.Baseline(log_level=\"INFO\")"
      ]
    },
    {
      "cell_type": "markdown",
      "metadata": {},
      "source": [
        "Now we can try the various baseline methods.\n"
      ]
    },
    {
      "cell_type": "markdown",
      "metadata": {},
      "source": [
        "# Detrending\n\nthe [detrend]{.title-ref} method is not strictly speaking a method to\ncalculate a bottom line, but it can be useful as a preprocessing to\nremove a trend. Let\\'s define the model to be used for detrending\n"
      ]
    },
    {
      "cell_type": "code",
      "execution_count": null,
      "metadata": {
        "collapsed": false
      },
      "outputs": [],
      "source": [
        "blc.model = \"detrend\""
      ]
    },
    {
      "cell_type": "markdown",
      "metadata": {},
      "source": [
        "Now we need to define the order of the detrending either as an integer\ngiving the degree of the polynomial trend or a string among {\n[constant]{.title-ref} , [linear]{.title-ref} , [quadratic]{.title-ref}\n, [cubic]{.title-ref} }\n"
      ]
    },
    {
      "cell_type": "code",
      "execution_count": null,
      "metadata": {
        "collapsed": false
      },
      "outputs": [],
      "source": [
        "blc.order = \"linear\""
      ]
    },
    {
      "cell_type": "markdown",
      "metadata": {},
      "source": [
        "Now we can fit the model to the data\n"
      ]
    },
    {
      "cell_type": "code",
      "execution_count": null,
      "metadata": {
        "collapsed": false
      },
      "outputs": [],
      "source": [
        "_ = blc.fit(B)"
      ]
    },
    {
      "cell_type": "markdown",
      "metadata": {},
      "source": [
        "The baseline is now stored in the [baseline]{.title-ref} attribute of\nthe processor\n"
      ]
    },
    {
      "cell_type": "code",
      "execution_count": null,
      "metadata": {
        "collapsed": false
      },
      "outputs": [],
      "source": [
        "corr = blc.transform()\nbaseline = blc.baseline"
      ]
    },
    {
      "cell_type": "markdown",
      "metadata": {},
      "source": [
        "Let\\'s plot the result of the correction\n\nAs we will use this type of plot several times, we define a function for\nit\n"
      ]
    },
    {
      "cell_type": "code",
      "execution_count": null,
      "metadata": {
        "collapsed": false
      },
      "outputs": [],
      "source": [
        "def plot_result(X, Xc, bas):\n    Xcm = Xc.min()\n    Xcp = Xc.ptp()\n    offset = Xcm + Xcp\n    (Xc - Xcm).plot()\n    (X + offset).plot(clear=False, color=\"g\", linestyle=\"-\")\n    (bas + offset).plot(clear=False, color=\"r\", linestyle=\"--\")\n\n\nplot_result(B, corr, baseline)"
      ]
    },
    {
      "cell_type": "markdown",
      "metadata": {},
      "source": [
        "Let\\'s try with a polynomial detrend of order 2\n"
      ]
    },
    {
      "cell_type": "code",
      "execution_count": null,
      "metadata": {
        "collapsed": false
      },
      "outputs": [],
      "source": [
        "blc.order = 2  # quadratic detrending\nblc.fit(B)\ncorr = blc.transform()\nbaseline = blc.baseline\nplot_result(B, corr, baseline)"
      ]
    },
    {
      "cell_type": "markdown",
      "metadata": {},
      "source": [
        "Ok this is a good start. But we can do better with more specific\nbaseline correction methods. Let\\'s try the asymmetric least squares\nsmoothing model ( [asls]{.title-ref} ), on this detrended spectrum:\n"
      ]
    },
    {
      "cell_type": "code",
      "execution_count": null,
      "metadata": {
        "collapsed": false
      },
      "outputs": [],
      "source": [
        "Bd = blc.corrected"
      ]
    },
    {
      "cell_type": "markdown",
      "metadata": {},
      "source": [
        "# Asymmetric Least Squares smoothing\n"
      ]
    },
    {
      "cell_type": "code",
      "execution_count": null,
      "metadata": {
        "collapsed": false
      },
      "outputs": [],
      "source": [
        "blc.model = \"asls\""
      ]
    },
    {
      "cell_type": "markdown",
      "metadata": {},
      "source": [
        "We need to define the smoothness and asymmetry parameters. The\nsmoothness parameter is a positive number that controls the smoothness\nof the baseline. The larger this number is, the smoother the resulting\nbaseline. The asymmetry parameter controls the asymmetry for the AsLS\nresolution.\n"
      ]
    },
    {
      "cell_type": "code",
      "execution_count": null,
      "metadata": {
        "collapsed": false
      },
      "outputs": [],
      "source": [
        "blc.lamb = 10**8  # smoothness\nblc.asymmetry = 0.01"
      ]
    },
    {
      "cell_type": "markdown",
      "metadata": {},
      "source": [
        "Now we can fit the model to the data\n"
      ]
    },
    {
      "cell_type": "code",
      "execution_count": null,
      "metadata": {
        "collapsed": false
      },
      "outputs": [],
      "source": [
        "blc.fit(Bd)\ncorr = blc.transform()\nbaseline = blc.baseline\nplot_result(Bd, corr, baseline)"
      ]
    },
    {
      "cell_type": "markdown",
      "metadata": {},
      "source": [
        "The correction appears to be good, but let\\'s see if we can do better by\nusing the [snip]{.title-ref} method. This method requires to adjust the\nwidth of a window (usually set to the FWHM of the characteristic peaks).\n"
      ]
    },
    {
      "cell_type": "code",
      "execution_count": null,
      "metadata": {
        "collapsed": false
      },
      "outputs": [],
      "source": [
        "blc.model = \"snip\"\nblc.snip_width = 55  # estimated FWHM of the peaks (expressed in point. TODO: alternatively use true coordinates)\nBs = A[55.0:]\nblc.fit(Bs)\ncorr = blc.transform()\nbaseline = blc.baseline\nplot_result(Bs, corr, baseline)"
      ]
    },
    {
      "cell_type": "markdown",
      "metadata": {},
      "source": [
        "# Baseline correction 2D spectra (series of spectra)\n\nFirst, we read the series of spectra\n"
      ]
    },
    {
      "cell_type": "code",
      "execution_count": null,
      "metadata": {
        "collapsed": false
      },
      "outputs": [],
      "source": [
        "C = scp.read_labspec(\"Activation.txt\", directory=ramandir)\n# C = C[20:]  # discard the first 20 spectra\n_ = C.plot()"
      ]
    },
    {
      "cell_type": "markdown",
      "metadata": {},
      "source": [
        "Now we apply the AsLS method on the series of spectra\n\nWe keep the same parameters as before and fit the new dataset The\nbaseline is calculated for each spectrum of the series. So the process\nis very slow! For the demonstration we will the limit the series to 1\nspectrum over 10.\n"
      ]
    },
    {
      "cell_type": "code",
      "execution_count": null,
      "metadata": {
        "collapsed": false
      },
      "outputs": [],
      "source": [
        "blc.model = \"asls\"\nblc.log_level = (\n    \"WARNING\"  # supress output of asls (to long for the moment:  TODO optimize this)\n)\nblc.fit(C[::10])\ncorr = blc.transform()\nbaseline = blc.baseline\n_ = corr.plot()"
      ]
    },
    {
      "cell_type": "markdown",
      "metadata": {},
      "source": [
        "or the [snip]{.title-ref} method (which is much faster)\n"
      ]
    },
    {
      "cell_type": "code",
      "execution_count": null,
      "metadata": {
        "collapsed": false
      },
      "outputs": [],
      "source": [
        "blc.model = \"snip\"\nblc.fit(C)\ncorr = blc.transform()\nbaseline = blc.baseline\n_ = corr[::10].plot()"
      ]
    },
    {
      "cell_type": "markdown",
      "metadata": {},
      "source": [
        "# Denoising\n"
      ]
    },
    {
      "cell_type": "code",
      "execution_count": null,
      "metadata": {
        "collapsed": false
      },
      "outputs": [],
      "source": [
        "D = corr.copy()\nG = scp.denoise(D, ratio=98)\n\n_ = G[::10].plot()"
      ]
    },
    {
      "cell_type": "markdown",
      "metadata": {},
      "source": [
        "This ends the example ! The following line can be removed or commented\nwhen the example is run as a notebook ([.ipynb]{.title-ref}).\n"
      ]
    },
    {
      "cell_type": "code",
      "execution_count": null,
      "metadata": {
        "collapsed": false
      },
      "outputs": [],
      "source": [
        "# scp.show()"
      ]
    }
  ],
  "metadata": {
    "kernelspec": {
      "display_name": "Python 3",
      "language": "python",
      "name": "python3"
    },
    "language_info": {
      "codemirror_mode": {
        "name": "ipython",
        "version": 3
      },
      "file_extension": ".py",
      "mimetype": "text/x-python",
      "name": "python",
      "nbconvert_exporter": "python",
      "pygments_lexer": "ipython3",
      "version": "3.10.16"
    }
  },
  "nbformat": 4,
  "nbformat_minor": 0
}