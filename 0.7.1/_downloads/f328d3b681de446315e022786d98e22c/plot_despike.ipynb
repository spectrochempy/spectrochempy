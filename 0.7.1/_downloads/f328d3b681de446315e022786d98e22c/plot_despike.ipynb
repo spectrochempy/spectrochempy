{
  "cells": [
    {
      "cell_type": "markdown",
      "metadata": {},
      "source": [
        "# Removing cosmic ray spikes from a Raman spectrum\n\nIn this example, we use the [despike]{.title-ref} method to remove the\nnoise from a Raman spectrum.\n"
      ]
    },
    {
      "cell_type": "code",
      "execution_count": null,
      "metadata": {
        "collapsed": false
      },
      "outputs": [],
      "source": [
        "import spectrochempy as scp"
      ]
    },
    {
      "cell_type": "markdown",
      "metadata": {},
      "source": [
        "Load the data\n"
      ]
    },
    {
      "cell_type": "code",
      "execution_count": null,
      "metadata": {
        "collapsed": false
      },
      "outputs": [],
      "source": [
        "dataset = scp.read(\"ramandata/labspec/serie190214-1.txt\")"
      ]
    },
    {
      "cell_type": "markdown",
      "metadata": {},
      "source": [
        "Keep only one spectrum in this series and select the useful region\n"
      ]
    },
    {
      "cell_type": "code",
      "execution_count": null,
      "metadata": {
        "collapsed": false
      },
      "outputs": [],
      "source": [
        "X = dataset[0, 70.0:]"
      ]
    },
    {
      "cell_type": "markdown",
      "metadata": {},
      "source": [
        "Baseline correction the data using the fast \\~spectrochempy.snip\\`\nalgorithm\n"
      ]
    },
    {
      "cell_type": "code",
      "execution_count": null,
      "metadata": {
        "collapsed": false
      },
      "outputs": [],
      "source": [
        "X1 = X.snip()"
      ]
    },
    {
      "cell_type": "markdown",
      "metadata": {},
      "source": [
        "Plot the data\n"
      ]
    },
    {
      "cell_type": "code",
      "execution_count": null,
      "metadata": {
        "collapsed": false
      },
      "outputs": [],
      "source": [
        "prefs = X.preferences\nprefs.figure.figsize = (8, 4)\n_ = X1.plot()"
      ]
    },
    {
      "cell_type": "markdown",
      "metadata": {},
      "source": [
        "Now let\\'s use the [\\~spectrochempy.despike]{.title-ref} method. Only\ntwo parameters needs to be tuned: the [size]{.title-ref} of the filter\n(actually a Savitsky-Golay filter of order 2), and [delta]{.title-ref},\nthe threshold for the detection of spikes (outliers). A spike is\ndetected if its value is greater than [delta]{.title-ref} times the\nstandard deviation of the difference between the original and the\nsmoothed data.\n"
      ]
    },
    {
      "cell_type": "code",
      "execution_count": null,
      "metadata": {
        "collapsed": false
      },
      "outputs": [],
      "source": [
        "X2 = scp.despike(X1, size=11, delta=5)\n_ = X1.plot()\n_ = X2.plot(clear=False, ls=\"-\", c=\"r\")"
      ]
    },
    {
      "cell_type": "markdown",
      "metadata": {},
      "source": [
        "Another method, \\'whitaker\\', is also available (see the documentation\nfor details): %%\n"
      ]
    },
    {
      "cell_type": "code",
      "execution_count": null,
      "metadata": {
        "collapsed": false
      },
      "outputs": [],
      "source": [
        "X3 = scp.despike(X1, size=11, delta=5, method=\"whitaker\")\n_ = X1.plot()\n_ = X3.plot(clear=False, ls=\"-\", c=\"r\")"
      ]
    },
    {
      "cell_type": "markdown",
      "metadata": {},
      "source": [
        "Getting the desired results require the tuning of size and delta\nparameters. And sometimes may need to repeat the procedure on a\npreviously filtered spectra.\n\nFor example, if size or delta are badly chosen, valid peaks could be\nremoved. So careful inspection of the results is crucial.\n"
      ]
    },
    {
      "cell_type": "code",
      "execution_count": null,
      "metadata": {
        "collapsed": false
      },
      "outputs": [],
      "source": [
        "X4 = scp.despike(X1, size=21, delta=2)\n_ = X1.plot()\n_ = X4.plot(clear=False, ls=\"-\", c=\"r\")"
      ]
    },
    {
      "cell_type": "markdown",
      "metadata": {},
      "source": [
        "This ends the example ! The following line can be uncommented if no plot\nshows when running the .py script with python\n"
      ]
    },
    {
      "cell_type": "code",
      "execution_count": null,
      "metadata": {
        "collapsed": false
      },
      "outputs": [],
      "source": [
        "# scp.show()"
      ]
    }
  ],
  "metadata": {
    "kernelspec": {
      "display_name": "Python 3",
      "language": "python",
      "name": "python3"
    },
    "language_info": {
      "codemirror_mode": {
        "name": "ipython",
        "version": 3
      },
      "file_extension": ".py",
      "mimetype": "text/x-python",
      "name": "python",
      "nbconvert_exporter": "python",
      "pygments_lexer": "ipython3",
      "version": "3.10.16"
    }
  },
  "nbformat": 4,
  "nbformat_minor": 0
}