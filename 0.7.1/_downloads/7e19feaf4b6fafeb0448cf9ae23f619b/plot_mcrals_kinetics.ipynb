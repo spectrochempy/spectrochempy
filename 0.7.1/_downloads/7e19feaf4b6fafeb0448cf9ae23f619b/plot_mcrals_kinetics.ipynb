{
  "cells": [
    {
      "cell_type": "markdown",
      "metadata": {},
      "source": [
        "# MCR-ALS with kinetic constraints\n\nIn this example, we perform the MCR ALS optimization of the UV-vis of\nspectra resulting from a three-component reaction [A]{.title-ref} -\\>\n[B]{.title-ref} -\\> [C]{.title-ref} which was investigated by UV--Vis\nspectroscopy. Full details on the reaction and data acquisition\nconditions can be found in `bijlsma:2001`{.interpreted-text\nrole=\"cite:t\"} . The data can be downloded from the author website\n[Biosystems Data Analysis group University of\nAmsterdam](http://www.bdagroup.nl/content/Downloads/datasets/datasets.php)\n(Copyright 2005 Biosystems Data Analysis Group ; Universiteit van\nAmsterdam ). For the user convenience, \\# this dataset is present in the\n\\'datadir\\' of spectrochempy in \\'matlabdata/METING9.MAT\\'.\n"
      ]
    },
    {
      "cell_type": "code",
      "execution_count": null,
      "metadata": {
        "collapsed": false
      },
      "outputs": [],
      "source": [
        "import numpy as np\n\nimport spectrochempy as scp"
      ]
    },
    {
      "cell_type": "markdown",
      "metadata": {},
      "source": [
        "# Loading a NDDataset\n\nLoad the data with the [read]{.title-ref} function.\n"
      ]
    },
    {
      "cell_type": "code",
      "execution_count": null,
      "metadata": {
        "collapsed": false
      },
      "outputs": [],
      "source": [
        "ds = scp.read(\"matlabdata/METING9.MAT\")"
      ]
    },
    {
      "cell_type": "markdown",
      "metadata": {},
      "source": [
        "This file contains a pair of datasets. The first dataset contains the\ntime in seconds since the start of the reaction (t=0). The second\ndataset contains the UV-VIS spectra of the reaction mixture, recorded at\ndifferent time points. The first column of the matrix contains the\nwavelength axis and the remaining columns are the measured UV-VIS\nspectra (wavelengths x timepoints)\n"
      ]
    },
    {
      "cell_type": "code",
      "execution_count": null,
      "metadata": {
        "collapsed": false
      },
      "outputs": [],
      "source": [
        "print(\"\\n NDDataset names: \" + str([d.name for d in ds]))"
      ]
    },
    {
      "cell_type": "markdown",
      "metadata": {},
      "source": [
        "We load the experimental spectra (in [ds\\[1\\]]{.title-ref}), add the\n[y]{.title-ref} (time) and [x]{.title-ref} (wavelength) coordinates, and\nkeep one spectrum of out 4:\n"
      ]
    },
    {
      "cell_type": "code",
      "execution_count": null,
      "metadata": {
        "collapsed": false
      },
      "outputs": [],
      "source": [
        "D = scp.NDDataset(ds[1][:, 1:].data.T)\nD.y = scp.Coord(ds[0].data.squeeze(), title=\"time\") / 60\nD.x = scp.Coord(ds[1][:, 0].data.squeeze(), title=\"wavelength / cm$^{-1}$\")\nD = D[::4]\n_ = D.plot()"
      ]
    },
    {
      "cell_type": "markdown",
      "metadata": {},
      "source": [
        "A first estimate of the concentrations can be obtained by EFA:\n"
      ]
    },
    {
      "cell_type": "code",
      "execution_count": null,
      "metadata": {
        "collapsed": false
      },
      "outputs": [],
      "source": [
        "print(\"compute EFA...\")\nefa = scp.EFA()\nefa.fit(D[:, 300.0:500.0])\nefa.n_components = 3\nC0 = efa.transform()\nC0 = C0 / C0.max(dim=\"y\") * 5.0\n_ = C0.T.plot()"
      ]
    },
    {
      "cell_type": "markdown",
      "metadata": {},
      "source": [
        "We can get a better estimate of the concentration (C) and pure spectra\nprofiles (St) by soft MCR-ALS:\n"
      ]
    },
    {
      "cell_type": "code",
      "execution_count": null,
      "metadata": {
        "collapsed": false
      },
      "outputs": [],
      "source": [
        "mcr_1 = scp.MCRALS(log_level=\"INFO\")\n_ = mcr_1.fit(D, C0)\n\n_ = mcr_1.C.T.plot()\n_ = mcr_1.St.plot()"
      ]
    },
    {
      "cell_type": "markdown",
      "metadata": {},
      "source": [
        "Kinetic constraints can be added, i.e., imposing that the concentration\nprofiles obey a kinetic model. To do so we first define an\nActionMAssKinetics object with roughly estimated rate constants:\n"
      ]
    },
    {
      "cell_type": "code",
      "execution_count": null,
      "metadata": {
        "collapsed": false
      },
      "outputs": [],
      "source": [
        "reactions = (\"A -> B\", \"B -> C\")\nspecies_concentrations = {\"A\": 5.0, \"B\": 0.0, \"C\": 0.0}\nk0 = np.array((0.5, 0.05))\nkin = scp.ActionMassKinetics(reactions, species_concentrations, k0)"
      ]
    },
    {
      "cell_type": "markdown",
      "metadata": {},
      "source": [
        "The concentration profile obtained with this approximate model can be\ncomputed and compared with those of the soft MCR-ALS:\n"
      ]
    },
    {
      "cell_type": "code",
      "execution_count": null,
      "metadata": {
        "collapsed": false
      },
      "outputs": [],
      "source": [
        "Ckin = kin.integrate(D.y.data)\n_ = mcr_1.C.T.plot(linestyle=\"-\", cmap=None)\n_ = Ckin.T.plot(clear=False, cmap=None)"
      ]
    },
    {
      "cell_type": "markdown",
      "metadata": {},
      "source": [
        "Even though very approximate, the same values can be used to run a\nhard-soft MCR-ALS:\n"
      ]
    },
    {
      "cell_type": "code",
      "execution_count": null,
      "metadata": {
        "collapsed": false
      },
      "outputs": [],
      "source": [
        "X = D[:, 300.0:500.0]\nparam_to_optimize = {\"k[0]\": 0.5, \"k[1]\": 0.05}\nmcr_2 = scp.MCRALS()\nmcr_2.hardConc = [0, 1, 2]\nmcr_2.getConc = kin.fit_to_concentrations\nmcr_2.argsGetConc = ([0, 1, 2], [0, 1, 2], param_to_optimize)\nmcr_2.kwargsGetConc = {\"ivp_solver_kwargs\": {\"return_NDDataset\": False}}\n\nmcr_2.fit(X, Ckin)"
      ]
    },
    {
      "cell_type": "markdown",
      "metadata": {},
      "source": [
        "Now, let\\'s compare the concentration profile of MCR-ALS (C =\nX([C](){kin}\\^+ X)\\^+) with that of the optimized kinetic model\n([C](){kin} equiv [C_constrained]{.title-ref}):\n"
      ]
    },
    {
      "cell_type": "code",
      "execution_count": null,
      "metadata": {
        "collapsed": false
      },
      "outputs": [],
      "source": [
        "_ = mcr_2.C.T.plot()\n_ = mcr_2.C_constrained.T.plot(clear=False)"
      ]
    },
    {
      "cell_type": "markdown",
      "metadata": {},
      "source": [
        "Finally, let\\'s plot some of the pure spectra profiles St, and the\n\n:   reconstructed dataset (X_hat = C St) vs original dataset (X) and\n    residuals.\n"
      ]
    },
    {
      "cell_type": "code",
      "execution_count": null,
      "metadata": {
        "collapsed": false
      },
      "outputs": [],
      "source": [
        "_ = mcr_2.St.plot()\n_ = mcr_2.plotmerit(nb_traces=10)"
      ]
    },
    {
      "cell_type": "markdown",
      "metadata": {},
      "source": [
        "This ends the example ! The following line can be uncommented if no plot\nshows when running the .py script with python\n"
      ]
    },
    {
      "cell_type": "code",
      "execution_count": null,
      "metadata": {
        "collapsed": false
      },
      "outputs": [],
      "source": [
        "# scp.show()"
      ]
    }
  ],
  "metadata": {
    "kernelspec": {
      "display_name": "Python 3",
      "language": "python",
      "name": "python3"
    },
    "language_info": {
      "codemirror_mode": {
        "name": "ipython",
        "version": 3
      },
      "file_extension": ".py",
      "mimetype": "text/x-python",
      "name": "python",
      "nbconvert_exporter": "python",
      "pygments_lexer": "ipython3",
      "version": "3.10.16"
    }
  },
  "nbformat": 4,
  "nbformat_minor": 0
}