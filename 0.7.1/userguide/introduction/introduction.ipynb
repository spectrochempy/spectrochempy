{
 "cells": [
  {
   "cell_type": "markdown",
   "id": "59f29af5",
   "metadata": {},
   "source": [
    "# Introduction\n",
    "\n",
    "The **SpectroChemPy** project was developed to provide advanced tools for processing and\n",
    "analyzing spectroscopic data, initially for internal purposes within the\n",
    "[LCS (https://www.lcs.ensicaen.fr)](https://www.lcs.ensicaen.fr).\n",
    "\n",
    "The **SpectroChemPy** project is essentially a library written in\n",
    "[python](https://www.python.org) language and provides objects,\n",
    "[NDDataset](../../reference/generated/spectrochempy.NDDataset.rst)\n",
    "and [Project](../../reference/generated/spectrochempy.Project.rst),\n",
    "to hold data, equipped with methods to analyze, transform or display these data in a\n",
    "simple way through a python type interface.\n",
    "\n",
    "The processed data are mainly spectroscopic data from techniques such as IR, Raman or\n",
    "NMR, but they are not limited to this type of application, as any type of data can be\n",
    "used."
   ]
  },
  {
   "cell_type": "markdown",
   "id": "eaf87545",
   "metadata": {},
   "source": [
    "## About this user's guide\n",
    "\n",
    "The ``User's guide and tutorials`` section is designed to give you a quick overview of the main features of **SpectroChemPy**. It does not cover all\n",
    "features, but should help you to get started quickly, and to find your way around.\n",
    "For more details on the various features, check out the [Public API reference](../../reference/index.rst) section which gives\n",
    "[Gallery of Examples](../../gettingstarted/examples/index.rst)\n",
    "\n",
    "## What to do if questions arise\n",
    "\n",
    "If, despite this documentation, which we're constantly trying to improve,\n",
    "you still have unresolved questions, don't hesitate to post your question on the\n",
    "[discussion forum](https://github.com/spectrochempy/spectrochempy/discussions).\n",
    "You can also post on [StackOverflow](https://stackoverflow.com),\n",
    "if you prefer, but don't forget to put \"Spectrochempy\" in the title\n",
    "(as there are no tags yet to enable us to find new questions easily."
   ]
  },
  {
   "cell_type": "markdown",
   "id": "ae89e48f",
   "metadata": {},
   "source": [
    "## How to get started\n",
    "\n",
    "We assume that the SpectroChemPy package has been correctly\n",
    "installed. if is not the case, please go to [SpectroChemPy installation\n",
    "procedure](../../gettingstarted/install/index.rst)."
   ]
  },
  {
   "cell_type": "markdown",
   "id": "5cbb45c4",
   "metadata": {},
   "source": [
    "### Writing and executing SpectroChemPy scripts\n",
    "\n",
    "If you are already an experienced `python` user, you can certainly use your favorite\n",
    "IDE to run your scripts, debug them and display the results. But if you want an easier\n",
    "way, especially if you are a beginner, we recommend you to use `Jupyter Lab` to do it.\n",
    "To get started, you can follow this link : [Jupyter Lab interface](interface.rst)."
   ]
  },
  {
   "cell_type": "markdown",
   "id": "9968d426",
   "metadata": {},
   "source": [
    "### Loading the API\n",
    "\n",
    "Before using SpectroChemPy, we need to load the **API\n",
    "(Application Programming Interface)**: it exposes many\n",
    "objects and functions.\n",
    "\n",
    "To load the API, you must import it using one of the following syntax.\n",
    "\n",
    "**Syntax 1** (recommended)\n",
    "\n",
    "In the first syntax we load the library into a namespace called `scp`\n",
    "(we recommend this name, but you can choose whatever\n",
    "you want - except something already in use):"
   ]
  },
  {
   "cell_type": "code",
   "execution_count": 1,
   "id": "2c649973",
   "metadata": {
    "execution": {
     "iopub.execute_input": "2025-02-25T08:01:42.471387Z",
     "iopub.status.busy": "2025-02-25T08:01:42.471186Z",
     "iopub.status.idle": "2025-02-25T08:01:44.451454Z",
     "shell.execute_reply": "2025-02-25T08:01:44.450799Z"
    }
   },
   "outputs": [
    {
     "data": {
      "text/html": [
       "\n",
       "    \n",
       "    <div>\n",
       "    <table>\n",
       "    <tr>\n",
       "    <td>\n",
       "    \n",
       "    <img src='data:image/png;base64,iVBORw0KGgoAAAANSUhEUgAAABgAAAAYCAYAAADgdz34AAAAAXNSR0IArs4c6QAAAAlw\n",
       "    SFlzAAAJOgAACToB8GSSSgAAAetpVFh0WE1MOmNvbS5hZG9iZS54bXAAAAAAADx4OnhtcG1ldGEgeG1sbnM6eD0iYWRvYmU6bnM6\n",
       "    bWV0YS8iIHg6eG1wdGs9IlhNUCBDb3JlIDUuNC4wIj4KICAgPHJkZjpSREYgeG1sbnM6cmRmPSJodHRwOi8vd3d3LnczLm9yZy8x\n",
       "    OTk5LzAyLzIyLXJkZi1zeW50YXgtbnMjIj4KICAgICAgPHJkZjpEZXNjcmlwdGlvbiByZGY6YWJvdXQ9IiIKICAgICAgICAgICAg\n",
       "    eG1sbnM6eG1wPSJodHRwOi8vbnMuYWRvYmUuY29tL3hhcC8xLjAvIgogICAgICAgICAgICB4bWxuczp0aWZmPSJodHRwOi8vbnMu\n",
       "    YWRvYmUuY29tL3RpZmYvMS4wLyI+CiAgICAgICAgIDx4bXA6Q3JlYXRvclRvb2w+bWF0cGxvdGxpYiB2ZXJzaW9uIDIuMS4wLCBo\n",
       "    dHRwOi8vbWF0cGxvdGxpYi5vcmcvPC94bXA6Q3JlYXRvclRvb2w+CiAgICAgICAgIDx0aWZmOk9yaWVudGF0aW9uPjE8L3RpZmY6\n",
       "    T3JpZW50YXRpb24+CiAgICAgIDwvcmRmOkRlc2NyaXB0aW9uPgogICA8L3JkZjpSREY+CjwveDp4bXBtZXRhPgqNQaNYAAAGiUlE\n",
       "    QVRIDY1We4xU1Rn/3XPuYx47u8w+hnU38hTcuoUEt/6D2y4RB0ME1BoEd9taJaKh9CFiN7YGp7appUAMNmktMZFoJTYVLVQ0smsy\n",
       "    26CN0SU1QgsuFAaW3WVmx33N677O6XfuyoIxTXqSO/fec+75fd93vt/3/UbDV0aKSZmCpkFMLz3T9utuu2N+o98aDSMBKVAo89z5\n",
       "    y+zEz3ZafcCOfvWdlGCalqKn1Bf71CygTd+mf1esSOnpdMpTb+vWpTZuWVfe3jLPa5tzHYNm0T5N0gpdkkHaDBeGBU6d1/t/fyS8\n",
       "    +/CbqdfUvmsx1PuMgc2bNxv79u1zgd31r+7JH1jbIZKxWRXAcYUQ8IWvBfBXNjEuJWPgMA02NR7C3/pYT9fjdZ3A9tGrWF8YSJHn\n",
       "    qcDz3y7q2T967PZv+gnYJdd1mEZ+62zGDQV/dQgKhmLzDNOXCEWM3j6eTT5Y3w78dOBKJLR1PQf+4ivPj76UPZnssBN+wbM9Aet/\n",
       "    AV81Mf1EEULXYfOobvX2WWQk0aoioXwwSmirOlioY0mu8BIouzYl7P8GV3vpqCCEZvlFz769w08oLDWvyKIyL1asSm28d6WfzA97\n",
       "    ztvvV1kexUMsmhlkULEkuGYmFYC6AvfUrITnwUKl5K79lkjeSSRRTCTbQPd95e1WzMbZSya74XoXAxctCllCnbECMOjZNGRwvzIX\n",
       "    nD85wbkMmKK+U045Dtdi8Qp+SAxU2GTg2bYlC9224pgvmSb54vkVTBQYyhUt2KjAMyMmPjwRQW5Mh2WKwJhlBh6jVGagFM84wZnQ\n",
       "    4bpC0Rt4pk1PbSt0NDcxDA5xryosDHWgtbM0DGZDWLSoiDMDYeQnGVrmOThxLozB0RAaahzkJzjKNqcIQBymJFMkOlN8Dqjpg0XY\n",
       "    Tx5xO/QbmmUrqIjGJznq47TqTaClKYfjp+PInLMwnOdYvtQBZ2XcunQY+VwIo4U4muoFEjVEFE6lQyEUKzHYfgQG9ylCyngU+Cxj\n",
       "    tOqxCDGHcCsOMCs6iQul5ZiStdATYxjMZXDLTUVwLY8Jey4uOh2IxjwsrP8UXJYxUrkZrghBahzV5iXU6gNkq0Z1EzIsUBUSCV2n\n",
       "    EOHo0LVxHCpuxabJJdhi5PFnvw5vLXwXIfNZvD/+JNo/X40NegE54sUaazl+UL8XD1x+FB9Ijjt4EQfdGN6J/x131LwIV9ap/AYs\n",
       "    0x1fz1ZKFbh6A7qKy/By9Dg6G36Ep91vUJJ15Cqr0Z67E8/HzmBrw1OwxWyM+3Mo6BAuSB17oyfx0Oyl2DN0Hqs/70Cx6hBCvESF\n",
       "    UY1ShWXZZEE7OTAYxZzaPH4TuoiusZvRnunFy2NbiHYuBp2vB66srX4vMEjpRKPxKXmnoQ4+Mn4DPiv8CYcrs3GfNUXJLtM+alSO\n",
       "    hrMj/KT+wBNW3+E/2liywNO3iSflbaFva/+stGDTxE0E9Sjaox8HBhxpEamzMGSEaFKg+mjEddzDh1MxTDq3YV1kGBsjfwW3S9Cq\n",
       "    anjmko+ndlb1UR3s6K8JlfphNWq9Ew/7c61T2BB/EbcaNkb8GBaE0tANH7/M34PLdhJDzjIcL9xPbdTG6zyM72Y+wXPHmvB489No\n",
       "    fm0b5HnbQ9Rgp/7DSSd29AeVvPeNyK6JcYl/yQVi5dBjuGvoV/gaJe47s45QUxrDmcYX0MBsdF7egvXZ7+O0vZA4X8QmOQWjlSK7\n",
       "    RDz5wIM30gp9UbWcGjXxhzdDu1SiNSpx6kcQB57rPnr/3dlkZarWLnlRq5oPET1dOCIOk4wALib9eeS5iygfhkd09H0DWphB/+gs\n",
       "    +PcOAS+ssrFmmXXgVfR0de9cpbAJfH3Q1jofW9DZk56dDcVsq9YcsoUMEd1qyLoT3BX1YiyHMJuk97hyjqIoE91t+NcTLeN0ZrfM\n",
       "    oXatZbu6G0h4VG+ibqq0IJVK6cAjo6serG3vSUezCMct0yQeSOFJSUImqb2qbknUpDqlZxE0QZ+ZUpSlZx79h4Nda6zef9dlk121\n",
       "    JDjbR5XggPRZlRnS6bRQRtLpn4++cuie/Yvn2svmNxuLw9WCcYIl4fEoTEGiSTUqJdfgU+8ROqf1iMkLzS389YtNPXc/PH8l8ONB\n",
       "    JZkHD+4JtD04HmVEDWWErmBhzV2/2LB1bemJG6krzv2S6NOHUgtEP0Oif5pE/3fHoruP7N8RiP61GArzSwbUhJJQpXJKiKbfr/3b\n",
       "    IhKq76sKPUdF9NW/LSqfSn6vjv8C45H/6FSgvZQAAAAASUVORK5CYII='\n",
       "         style='height:25px; border-radius:12px; display:inline-block; float:left; vertical-align:middle'>\n",
       "    </img>\n",
       "    \n",
       "    </td>\n",
       "    <td>\n",
       "    \n",
       "    &nbsp;&nbsp;<span style='font-size:12px'>SpectroChemPy's API - v.0.7.1<br/>© Copyright 2014-2025 - A.Travert & C.Fernandez @ LCS</span>\n",
       "    \n",
       "    </td>\n",
       "    </tr>\n",
       "    </table>\n",
       "    </div>\n",
       "    "
      ]
     },
     "metadata": {},
     "output_type": "display_data"
    }
   ],
   "source": [
    "import spectrochempy as scp\n",
    "\n",
    "nd = scp.NDDataset()"
   ]
  },
  {
   "cell_type": "markdown",
   "id": "43bf4237",
   "metadata": {},
   "source": [
    "**Syntax 2** (discouraged)\n",
    "\n",
    "With a wild `*` import. In this second syntax, the access to objects/functions can be\n",
    "greatly simplified. For example, we can use directly `NDDataset` without a prefix\n",
    "instead of `scp.NDDataset` but there is always a risk of overwriting some variables or\n",
    "functions already present in the namespace. Therefore, the first syntax is generally\n",
    "highly recommended."
   ]
  },
  {
   "cell_type": "code",
   "execution_count": 2,
   "id": "daac5346",
   "metadata": {
    "execution": {
     "iopub.execute_input": "2025-02-25T08:01:44.453912Z",
     "iopub.status.busy": "2025-02-25T08:01:44.453413Z",
     "iopub.status.idle": "2025-02-25T08:01:44.456883Z",
     "shell.execute_reply": "2025-02-25T08:01:44.456307Z"
    }
   },
   "outputs": [],
   "source": [
    "from spectrochempy import *  # noqa: F403\n",
    "\n",
    "nd = NDDataset()  # noqa: F405"
   ]
  },
  {
   "cell_type": "markdown",
   "id": "4ed0e3d5",
   "metadata": {},
   "source": [
    "Alternatively, you can also load only the objects and function required by your\n",
    "application:"
   ]
  },
  {
   "cell_type": "code",
   "execution_count": 3,
   "id": "81947a63",
   "metadata": {
    "execution": {
     "iopub.execute_input": "2025-02-25T08:01:44.458810Z",
     "iopub.status.busy": "2025-02-25T08:01:44.458424Z",
     "iopub.status.idle": "2025-02-25T08:01:44.461599Z",
     "shell.execute_reply": "2025-02-25T08:01:44.461060Z"
    },
    "lines_to_next_cell": 2
   },
   "outputs": [],
   "source": [
    "from spectrochempy import NDDataset\n",
    "\n",
    "nd = NDDataset()"
   ]
  },
  {
   "cell_type": "code",
   "execution_count": 4,
   "id": "fc9ec40c",
   "metadata": {
    "execution": {
     "iopub.execute_input": "2025-02-25T08:01:44.463450Z",
     "iopub.status.busy": "2025-02-25T08:01:44.463073Z",
     "iopub.status.idle": "2025-02-25T08:01:44.469126Z",
     "shell.execute_reply": "2025-02-25T08:01:44.468512Z"
    }
   },
   "outputs": [
    {
     "data": {
      "text/html": [
       "<table style='background:transparent'>\n",
       "<tr><td style='padding-right:5px; padding-bottom:0px; padding-top:0px; width:124px'><font color='#28A745'>         name</font> </td><td style='text-align:left; padding-bottom:0px; padding-top:0px; border:.5px solid lightgray;  '> NDDataset_c11c954a</td><tr>\n",
       "<tr><td style='padding-right:5px; padding-bottom:0px; padding-top:0px; width:124px'><font color='#28A745'>       author</font> </td><td style='text-align:left; padding-bottom:0px; padding-top:0px; border:.5px solid lightgray;  '> runner@fv-az1774-299</td><tr>\n",
       "<tr><td style='padding-right:5px; padding-bottom:0px; padding-top:0px; width:124px'><font color='#28A745'>      created</font> </td><td style='text-align:left; padding-bottom:0px; padding-top:0px; border:.5px solid lightgray;  '> 2025-02-25 08:01:44+00:00</td><tr>\n",
       "<tr><td style='padding-right:5px; padding-bottom:0px; padding-top:0px; width:124px'><font color='#28A745'>       values</font> </td><td style='text-align:left; padding-bottom:0px; padding-top:0px; border:.5px solid lightgray;  '>          empty</td><tr>\n",
       "<tr><td style='padding-right:5px; padding-bottom:0px; padding-top:0px; width:124px'><font color='#28A745'>         size</font> </td><td style='text-align:left; padding-bottom:0px; padding-top:0px; border:.5px solid lightgray;  '> 0</td><tr>\n",
       "</table>"
      ],
      "text/plain": [
       "NDDataset: empty (size: 0)"
      ]
     },
     "execution_count": 4,
     "metadata": {},
     "output_type": "execute_result"
    }
   ],
   "source": [
    "nd"
   ]
  },
  {
   "cell_type": "markdown",
   "id": "4f4ab1fb",
   "metadata": {},
   "source": [
    "## Where to go next?"
   ]
  },
  {
   "cell_type": "markdown",
   "id": "aad446ae",
   "metadata": {},
   "source": [
    "The ``User's guide & tutorial`` section is divided into several sections describing the main features of spectrochempy.\n",
    "\n",
    "* [Core objects](../objects/index.rst) : This is really the starting point for understanding how SpectroChemPy works. In fact, virtually all the functions offered by the API use one of these objects: `NDDataset` (the most important!) , `Project` or `Script`.\n",
    "\n",
    "* [Import & export](../importexport/index.rst) : This part shows how to import spectroscopic data and transform it into an NDDataset, the object on which processsing and analysis procedures will then be applied.\n",
    "\n",
    "* [Processing](../processing/index.rst) : This section explains how to prepare datasets for future analysis. By processing, we mean methods which generally return the same dataset transformed by mathematical operations (for example, this may be a `sqrt` or `log` operation, or a `fft` operation or many others), or part of a dataset transformed by a slicing or concatenation operation.\n",
    "\n",
    "* [Analysis](../analysis/index.rst) : This section presents the analysis methods implemented in SpectroChemPy. Generally speaking, analysis methods are any methods used to extract properties or characteristics from one or more NDDatasets. Analysis methods include statistical methods (mean, standard deviation, etc.), peaks, integration, etc.\n",
    "But perhaps the most important is the implementation of various chemometrics methods (PCA, PLS-R, EFA, MCR-ALS, ...), data fit methods, and baseline extraction.\n",
    "\n",
    "* [Plotting](../plotting/plotting.ipynb) : Finally, this section attempts to give the basics for using the plot methods included in SpectroChemPy.  These methods do not claim to cover all needs, and so it may be worthwhile for the user to learn how to use packages such as matplotlib, on which the methods described in this section are based."
   ]
  }
 ],
 "metadata": {
  "jupytext": {
   "cell_metadata_json": true,
   "formats": "ipynb,py:percent",
   "notebook_metadata_filter": "all"
  },
  "kernelspec": {
   "display_name": "Python 3 (ipykernel)",
   "language": "python",
   "name": "python3"
  },
  "language_info": {
   "codemirror_mode": {
    "name": "ipython",
    "version": 3
   },
   "file_extension": ".py",
   "mimetype": "text/x-python",
   "name": "python",
   "nbconvert_exporter": "python",
   "pygments_lexer": "ipython3",
   "version": "3.10.16"
  },
  "widgets": {
   "application/vnd.jupyter.widget-state+json": {
    "state": {},
    "version_major": 2,
    "version_minor": 0
   }
  }
 },
 "nbformat": 4,
 "nbformat_minor": 5
}
