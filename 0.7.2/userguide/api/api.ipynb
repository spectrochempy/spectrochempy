{
 "cells": [
  {
   "cell_type": "markdown",
   "id": "e6cb0746",
   "metadata": {},
   "source": [
    "# API Configuration"
   ]
  },
  {
   "cell_type": "markdown",
   "id": "16e76cab",
   "metadata": {},
   "source": [
    "Many options of the API can be set up.\n",
    "Let's first import it in the usual way:"
   ]
  },
  {
   "cell_type": "code",
   "execution_count": 1,
   "id": "eafa7a2d",
   "metadata": {
    "execution": {
     "iopub.execute_input": "2025-03-09T01:17:12.221873Z",
     "iopub.status.busy": "2025-03-09T01:17:12.221361Z",
     "iopub.status.idle": "2025-03-09T01:17:14.219348Z",
     "shell.execute_reply": "2025-03-09T01:17:14.218781Z"
    }
   },
   "outputs": [
    {
     "data": {
      "text/html": [
       "\n",
       "    \n",
       "    <div>\n",
       "    <table>\n",
       "    <tr>\n",
       "    <td>\n",
       "    \n",
       "    <img src='data:image/png;base64,iVBORw0KGgoAAAANSUhEUgAAABgAAAAYCAYAAADgdz34AAAAAXNSR0IArs4c6QAAAAlw\n",
       "    SFlzAAAJOgAACToB8GSSSgAAAetpVFh0WE1MOmNvbS5hZG9iZS54bXAAAAAAADx4OnhtcG1ldGEgeG1sbnM6eD0iYWRvYmU6bnM6\n",
       "    bWV0YS8iIHg6eG1wdGs9IlhNUCBDb3JlIDUuNC4wIj4KICAgPHJkZjpSREYgeG1sbnM6cmRmPSJodHRwOi8vd3d3LnczLm9yZy8x\n",
       "    OTk5LzAyLzIyLXJkZi1zeW50YXgtbnMjIj4KICAgICAgPHJkZjpEZXNjcmlwdGlvbiByZGY6YWJvdXQ9IiIKICAgICAgICAgICAg\n",
       "    eG1sbnM6eG1wPSJodHRwOi8vbnMuYWRvYmUuY29tL3hhcC8xLjAvIgogICAgICAgICAgICB4bWxuczp0aWZmPSJodHRwOi8vbnMu\n",
       "    YWRvYmUuY29tL3RpZmYvMS4wLyI+CiAgICAgICAgIDx4bXA6Q3JlYXRvclRvb2w+bWF0cGxvdGxpYiB2ZXJzaW9uIDIuMS4wLCBo\n",
       "    dHRwOi8vbWF0cGxvdGxpYi5vcmcvPC94bXA6Q3JlYXRvclRvb2w+CiAgICAgICAgIDx0aWZmOk9yaWVudGF0aW9uPjE8L3RpZmY6\n",
       "    T3JpZW50YXRpb24+CiAgICAgIDwvcmRmOkRlc2NyaXB0aW9uPgogICA8L3JkZjpSREY+CjwveDp4bXBtZXRhPgqNQaNYAAAGiUlE\n",
       "    QVRIDY1We4xU1Rn/3XPuYx47u8w+hnU38hTcuoUEt/6D2y4RB0ME1BoEd9taJaKh9CFiN7YGp7appUAMNmktMZFoJTYVLVQ0smsy\n",
       "    26CN0SU1QgsuFAaW3WVmx33N677O6XfuyoIxTXqSO/fec+75fd93vt/3/UbDV0aKSZmCpkFMLz3T9utuu2N+o98aDSMBKVAo89z5\n",
       "    y+zEz3ZafcCOfvWdlGCalqKn1Bf71CygTd+mf1esSOnpdMpTb+vWpTZuWVfe3jLPa5tzHYNm0T5N0gpdkkHaDBeGBU6d1/t/fyS8\n",
       "    +/CbqdfUvmsx1PuMgc2bNxv79u1zgd31r+7JH1jbIZKxWRXAcYUQ8IWvBfBXNjEuJWPgMA02NR7C3/pYT9fjdZ3A9tGrWF8YSJHn\n",
       "    qcDz3y7q2T967PZv+gnYJdd1mEZ+62zGDQV/dQgKhmLzDNOXCEWM3j6eTT5Y3w78dOBKJLR1PQf+4ivPj76UPZnssBN+wbM9Aet/\n",
       "    AV81Mf1EEULXYfOobvX2WWQk0aoioXwwSmirOlioY0mu8BIouzYl7P8GV3vpqCCEZvlFz769w08oLDWvyKIyL1asSm28d6WfzA97\n",
       "    ztvvV1kexUMsmhlkULEkuGYmFYC6AvfUrITnwUKl5K79lkjeSSRRTCTbQPd95e1WzMbZSya74XoXAxctCllCnbECMOjZNGRwvzIX\n",
       "    nD85wbkMmKK+U045Dtdi8Qp+SAxU2GTg2bYlC9224pgvmSb54vkVTBQYyhUt2KjAMyMmPjwRQW5Mh2WKwJhlBh6jVGagFM84wZnQ\n",
       "    4bpC0Rt4pk1PbSt0NDcxDA5xryosDHWgtbM0DGZDWLSoiDMDYeQnGVrmOThxLozB0RAaahzkJzjKNqcIQBymJFMkOlN8Dqjpg0XY\n",
       "    Tx5xO/QbmmUrqIjGJznq47TqTaClKYfjp+PInLMwnOdYvtQBZ2XcunQY+VwIo4U4muoFEjVEFE6lQyEUKzHYfgQG9ylCyngU+Cxj\n",
       "    tOqxCDGHcCsOMCs6iQul5ZiStdATYxjMZXDLTUVwLY8Jey4uOh2IxjwsrP8UXJYxUrkZrghBahzV5iXU6gNkq0Z1EzIsUBUSCV2n\n",
       "    EOHo0LVxHCpuxabJJdhi5PFnvw5vLXwXIfNZvD/+JNo/X40NegE54sUaazl+UL8XD1x+FB9Ijjt4EQfdGN6J/x131LwIV9ap/AYs\n",
       "    0x1fz1ZKFbh6A7qKy/By9Dg6G36Ep91vUJJ15Cqr0Z67E8/HzmBrw1OwxWyM+3Mo6BAuSB17oyfx0Oyl2DN0Hqs/70Cx6hBCvESF\n",
       "    UY1ShWXZZEE7OTAYxZzaPH4TuoiusZvRnunFy2NbiHYuBp2vB66srX4vMEjpRKPxKXmnoQ4+Mn4DPiv8CYcrs3GfNUXJLtM+alSO\n",
       "    hrMj/KT+wBNW3+E/2liywNO3iSflbaFva/+stGDTxE0E9Sjaox8HBhxpEamzMGSEaFKg+mjEddzDh1MxTDq3YV1kGBsjfwW3S9Cq\n",
       "    anjmko+ndlb1UR3s6K8JlfphNWq9Ew/7c61T2BB/EbcaNkb8GBaE0tANH7/M34PLdhJDzjIcL9xPbdTG6zyM72Y+wXPHmvB489No\n",
       "    fm0b5HnbQ9Rgp/7DSSd29AeVvPeNyK6JcYl/yQVi5dBjuGvoV/gaJe47s45QUxrDmcYX0MBsdF7egvXZ7+O0vZA4X8QmOQWjlSK7\n",
       "    RDz5wIM30gp9UbWcGjXxhzdDu1SiNSpx6kcQB57rPnr/3dlkZarWLnlRq5oPET1dOCIOk4wALib9eeS5iygfhkd09H0DWphB/+gs\n",
       "    +PcOAS+ssrFmmXXgVfR0de9cpbAJfH3Q1jofW9DZk56dDcVsq9YcsoUMEd1qyLoT3BX1YiyHMJuk97hyjqIoE91t+NcTLeN0ZrfM\n",
       "    oXatZbu6G0h4VG+ibqq0IJVK6cAjo6serG3vSUezCMct0yQeSOFJSUImqb2qbknUpDqlZxE0QZ+ZUpSlZx79h4Nda6zef9dlk121\n",
       "    JDjbR5XggPRZlRnS6bRQRtLpn4++cuie/Yvn2svmNxuLw9WCcYIl4fEoTEGiSTUqJdfgU+8ROqf1iMkLzS389YtNPXc/PH8l8ONB\n",
       "    JZkHD+4JtD04HmVEDWWErmBhzV2/2LB1bemJG6krzv2S6NOHUgtEP0Oif5pE/3fHoruP7N8RiP61GArzSwbUhJJQpXJKiKbfr/3b\n",
       "    IhKq76sKPUdF9NW/LSqfSn6vjv8C45H/6FSgvZQAAAAASUVORK5CYII='\n",
       "         style='height:25px; border-radius:12px; display:inline-block; float:left; vertical-align:middle'>\n",
       "    </img>\n",
       "    \n",
       "    </td>\n",
       "    <td>\n",
       "    \n",
       "    &nbsp;&nbsp;<span style='font-size:12px'>SpectroChemPy's API - v.0.7.2<br/>© Copyright 2014-2025 - A.Travert & C.Fernandez @ LCS</span>\n",
       "    \n",
       "    </td>\n",
       "    </tr>\n",
       "    </table>\n",
       "    </div>\n",
       "    "
      ]
     },
     "metadata": {},
     "output_type": "display_data"
    },
    {
     "data": {
      "text/html": [
       "<style>/* SpectroChemPy output styling */\n",
       ".scp-output {\n",
       "    display: flex;\n",
       "    flex-direction: column;\n",
       "    gap: 2px;\n",
       "}\n",
       "\n",
       ".scp-output details {\n",
       "    padding: 1px;\n",
       "}\n",
       "\n",
       ".scp-output summary {\n",
       "    cursor: pointer;\n",
       "    font-weight: normal;\n",
       "    /*bold;*/\n",
       "    font-size: 11pt;\n",
       "}\n",
       "\n",
       ".scp-output summary:hover {\n",
       "    color: #888;\n",
       "}\n",
       "\n",
       "/* Parameters display styling */\n",
       ".scp-output .section {\n",
       "    display: flex;\n",
       "    flex-direction: row;\n",
       "    gap: 2px;\n",
       "    font-family: Arial, sans-serif;\n",
       "    font-size: 10pt;\n",
       "    margin-left: 15px;\n",
       "}\n",
       "\n",
       ".scp-output .meta-name,\n",
       ".scp-output .attr-name {\n",
       "    font-weight: 500;\n",
       "    color: #28A745;\n",
       "    text-align: right;\n",
       "}\n",
       "\n",
       ".scp-output .attr-name {\n",
       "    min-width: 100px;\n",
       "}\n",
       "\n",
       ".scp-output .meta-name {\n",
       "    min-width: 150px;\n",
       "}\n",
       "\n",
       ".scp-output .meta-value,\n",
       ".scp-output .attr-value {\n",
       "    flex: 1;\n",
       "}\n",
       "\n",
       ".scp-output .numeric {\n",
       "    color: #2D7FF9;\n",
       "    margin-left: 120px;\n",
       "    font-size: 10pt;\n",
       "}\n",
       "\n",
       ".scp-output .label {\n",
       "    color: darkcyan;\n",
       "    margin-left: 120px;\n",
       "    font-size: 10pt;\n",
       "}\n",
       "\n",
       ".scp-output .attr-value .numeric {\n",
       "    color: #2D7FF9;\n",
       "    margin-left: 0px;\n",
       "    font-size: 10pt;\n",
       "}\n",
       "\n",
       ".scp-output .attr-value .label {\n",
       "    color: darkcyan;\n",
       "    margin-left: 0px;\n",
       "    font-size: 10pt;\n",
       "}\n",
       "</style>"
      ],
      "text/plain": [
       "<IPython.core.display.HTML object>"
      ]
     },
     "metadata": {},
     "output_type": "display_data"
    }
   ],
   "source": [
    "import spectrochempy as scp"
   ]
  },
  {
   "cell_type": "markdown",
   "id": "84f95cf8",
   "metadata": {},
   "source": [
    "## General information\n",
    "General information on the API can be obtained the following variables:"
   ]
  },
  {
   "cell_type": "code",
   "execution_count": 2,
   "id": "753eba47",
   "metadata": {
    "execution": {
     "iopub.execute_input": "2025-03-09T01:17:14.221834Z",
     "iopub.status.busy": "2025-03-09T01:17:14.221305Z",
     "iopub.status.idle": "2025-03-09T01:17:14.225381Z",
     "shell.execute_reply": "2025-03-09T01:17:14.224828Z"
    }
   },
   "outputs": [
    {
     "name": "stdout",
     "output_type": "stream",
     "text": [
      "   copyright : 2014-2025 - A.Travert & C.Fernandez @ LCS\n",
      "     version : 0.7.2\n",
      "     release : 0.7.2\n",
      "     license : CeCILL-B license\n",
      "         url : https://www.spectrochempy.fr\n",
      "release_date : 2025-03-04\n",
      "     authors : C. Fernandez & A. Travert\n",
      "contributors : A. Ait Blal, W. Guérin, M. Mailänder\n",
      " description : SpectroChemPy is a framework for processing, analysing and modelling Spectroscopic data for Chemistry with Python.\n"
     ]
    }
   ],
   "source": [
    "print(f\"   copyright : {scp.copyright}\")\n",
    "print(f\"     version : {scp.version}\")\n",
    "print(f\"     release : {scp.release}\")\n",
    "print(f\"     license : {scp.license}\")\n",
    "print(f\"         url : {scp.url}\")\n",
    "print(f\"release_date : {scp.release_date}\")\n",
    "print(f\"     authors : {scp.authors}\")\n",
    "print(f\"contributors : {scp.contributors}\")\n",
    "print(f\" description : {scp.description}\")"
   ]
  },
  {
   "cell_type": "markdown",
   "id": "618db590",
   "metadata": {
    "lines_to_next_cell": 0
   },
   "source": [
    "## Loglevel\n",
    "During the execution, the API can display, besides the expected output, various\n",
    "messages categorized according\n",
    "to their criticality:\n",
    "\n",
    "| Loglevel / criticality | use |\n",
    "| --- | --- |\n",
    "| `DEBUG` / `10` | diagnose problems on the running process or help developers |\n",
    "| `INFO`  / `20` | general information on the running process |\n",
    "| `WARNING` / `30` (default) | a condition might cause a problem WRT expected\n",
    "behaviour |\n",
    "| `ERROR`   / `40` | wrong argument/commands or bug |\n",
    "| `CRITICAL` / `50` | could lead to a system crash |\n",
    "\n",
    " Not all this information is always necessary and the level of information displayed\n",
    " by SpectroChemPy can be\n",
    " tuned using the command `scp.set_loglevel()` with the rule that only information\n",
    " having a\n",
    " criticality larger than that passed to the `set_loglevel()` function will be shown.\n",
    "\n",
    " For instance, the `DEBUG` level can be triggered by using one of the\n",
    " equivalent instructions\n",
    "\n",
    "```python\n",
    "scp.set_loglevel('DEBUG')\n",
    "scp.set_loglevel(10)\n",
    "```\n",
    "\n",
    "The current loglevel can be obtained with the `scp.get_loglevel()` function.\n",
    "\n",
    "The following instruction prints the current loglevel"
   ]
  },
  {
   "cell_type": "code",
   "execution_count": 3,
   "id": "4f7cedf4",
   "metadata": {
    "execution": {
     "iopub.execute_input": "2025-03-09T01:17:14.227523Z",
     "iopub.status.busy": "2025-03-09T01:17:14.227135Z",
     "iopub.status.idle": "2025-03-09T01:17:14.230199Z",
     "shell.execute_reply": "2025-03-09T01:17:14.229628Z"
    }
   },
   "outputs": [
    {
     "name": "stdout",
     "output_type": "stream",
     "text": [
      "Default: 30\n"
     ]
    }
   ],
   "source": [
    "print(f\"Default: {scp.get_loglevel()}\")  # print the current loglevel"
   ]
  },
  {
   "cell_type": "markdown",
   "id": "53a47677",
   "metadata": {
    "lines_to_next_cell": 0
   },
   "source": [
    "It yields `30` the numerical value corresponding to the `WARNING` level. Now, the\n",
    "next instruction\n",
    "lowers the loglevel to ``\"INFO\"``:"
   ]
  },
  {
   "cell_type": "code",
   "execution_count": 4,
   "id": "eeefe2fb",
   "metadata": {
    "execution": {
     "iopub.execute_input": "2025-03-09T01:17:14.232271Z",
     "iopub.status.busy": "2025-03-09T01:17:14.231902Z",
     "iopub.status.idle": "2025-03-09T01:17:14.235469Z",
     "shell.execute_reply": "2025-03-09T01:17:14.234987Z"
    },
    "lines_to_next_cell": 2
   },
   "outputs": [],
   "source": [
    "scp.set_loglevel(scp.INFO)"
   ]
  },
  {
   "cell_type": "markdown",
   "id": "ca8a44f7",
   "metadata": {},
   "source": [
    "We see that the API then delivers the INFO message:\n",
    "``\"changed default log_level to INFO\"``."
   ]
  },
  {
   "cell_type": "markdown",
   "id": "02be53c8",
   "metadata": {},
   "source": [
    "And  finally, the next instructions reset the loglevel to ``\"WARNING\"``\n",
    "level (default), and print it.\n",
    "As seen below, no message ``\"changed default log_level to ...\"`` is delivered"
   ]
  },
  {
   "cell_type": "code",
   "execution_count": 5,
   "id": "2ea73347",
   "metadata": {
    "execution": {
     "iopub.execute_input": "2025-03-09T01:17:14.237597Z",
     "iopub.status.busy": "2025-03-09T01:17:14.237200Z",
     "iopub.status.idle": "2025-03-09T01:17:14.240946Z",
     "shell.execute_reply": "2025-03-09T01:17:14.240421Z"
    }
   },
   "outputs": [
    {
     "name": "stdout",
     "output_type": "stream",
     "text": [
      "New loglevel: 30\n"
     ]
    }
   ],
   "source": [
    "scp.set_loglevel(\"WARNING\")  # reset to default\n",
    "print(f\"New loglevel: {scp.get_loglevel()}\")"
   ]
  },
  {
   "cell_type": "markdown",
   "id": "5824d3ea",
   "metadata": {},
   "source": [
    "It is also possible to issue such messages in scripts. In the cell below, we set\n",
    "the loglevel to `INFO` and try to\n",
    "print two types of messages:"
   ]
  },
  {
   "cell_type": "code",
   "execution_count": 6,
   "id": "9a6f9937",
   "metadata": {
    "execution": {
     "iopub.execute_input": "2025-03-09T01:17:14.242709Z",
     "iopub.status.busy": "2025-03-09T01:17:14.242527Z",
     "iopub.status.idle": "2025-03-09T01:17:14.246812Z",
     "shell.execute_reply": "2025-03-09T01:17:14.246266Z"
    }
   },
   "outputs": [
    {
     "name": "stderr",
     "output_type": "stream",
     "text": [
      " this is an info message!\n"
     ]
    }
   ],
   "source": [
    "scp.set_loglevel(\"INFO\")\n",
    "scp.info_(\"this is an info message!\")\n",
    "scp.debug_(\"this is a debug message!\")"
   ]
  },
  {
   "cell_type": "markdown",
   "id": "8e0d837f",
   "metadata": {},
   "source": [
    "As expected, only the info message was displayed.\n",
    "\n",
    "If we change the loglevel to `DEBUG` , then the two messages will be printed:"
   ]
  },
  {
   "cell_type": "code",
   "execution_count": 7,
   "id": "f2cdfaba",
   "metadata": {
    "execution": {
     "iopub.execute_input": "2025-03-09T01:17:14.248570Z",
     "iopub.status.busy": "2025-03-09T01:17:14.248347Z",
     "iopub.status.idle": "2025-03-09T01:17:14.253467Z",
     "shell.execute_reply": "2025-03-09T01:17:14.252932Z"
    }
   },
   "outputs": [
    {
     "name": "stderr",
     "output_type": "stream",
     "text": [
      " this is an info message!\n"
     ]
    },
    {
     "name": "stderr",
     "output_type": "stream",
     "text": [
      " DEBUG | this is a debug message!\n"
     ]
    }
   ],
   "source": [
    "scp.set_loglevel(scp.DEBUG)\n",
    "scp.info_(\"this is an info message!\")\n",
    "scp.debug_(\"this is a debug message!\")"
   ]
  },
  {
   "cell_type": "markdown",
   "id": "2c68dee4",
   "metadata": {},
   "source": [
    "Finally, we come back to the standard level of message for the rest of the Tutorial\n",
    "-- in this case neither `DEBUG`\n",
    "nor `INFO` messages will be printed."
   ]
  },
  {
   "cell_type": "code",
   "execution_count": 8,
   "id": "8967ead7",
   "metadata": {
    "execution": {
     "iopub.execute_input": "2025-03-09T01:17:14.255267Z",
     "iopub.status.busy": "2025-03-09T01:17:14.255072Z",
     "iopub.status.idle": "2025-03-09T01:17:14.258633Z",
     "shell.execute_reply": "2025-03-09T01:17:14.258107Z"
    }
   },
   "outputs": [],
   "source": [
    "scp.set_loglevel(scp.WARNING)\n",
    "\n",
    "scp.info_(\"this is an info message!\")\n",
    "scp.debug_(\"this is a debug message!\")"
   ]
  },
  {
   "cell_type": "markdown",
   "id": "7a1015e5",
   "metadata": {},
   "source": [
    "\n",
    "### Error handling\n",
    "If something goes wrong with during a cell execution,  a `traceback` is displayed.\n",
    "\n",
    "For instance, the object or method `toto` does not exist in the API, so an error\n",
    "(`ImportError` ) is generated\n",
    "when trying to import this from the API.\n",
    "\n",
    "Here we catch the error with a conventional `try-except` structure"
   ]
  },
  {
   "cell_type": "code",
   "execution_count": 9,
   "id": "8c16668d",
   "metadata": {
    "execution": {
     "iopub.execute_input": "2025-03-09T01:17:14.260675Z",
     "iopub.status.busy": "2025-03-09T01:17:14.260289Z",
     "iopub.status.idle": "2025-03-09T01:17:14.264323Z",
     "shell.execute_reply": "2025-03-09T01:17:14.263674Z"
    }
   },
   "outputs": [
    {
     "name": "stderr",
     "output_type": "stream",
     "text": [
      " ERROR | ImportError: OOPS, THAT'S AN IMPORT ERROR! : cannot import name 'toto' from 'spectrochempy' (/home/runner/work/spectrochempy/spectrochempy/src/spectrochempy/__init__.py)\n"
     ]
    }
   ],
   "source": [
    "try:\n",
    "    from spectrochempy import toto\n",
    "except ImportError as e:\n",
    "    scp.error_(ImportError, f\"OOPS, THAT'S AN IMPORT ERROR! : {e}\")"
   ]
  },
  {
   "cell_type": "markdown",
   "id": "386fd73f",
   "metadata": {},
   "source": [
    "The error will stop the execution if not caught.\n",
    "\n",
    "This is a basic behavior of python : one way to avoid stopping the execution without\n",
    "displaying a message is :"
   ]
  },
  {
   "cell_type": "code",
   "execution_count": 10,
   "id": "dce04854",
   "metadata": {
    "execution": {
     "iopub.execute_input": "2025-03-09T01:17:14.266451Z",
     "iopub.status.busy": "2025-03-09T01:17:14.266091Z",
     "iopub.status.idle": "2025-03-09T01:17:14.269291Z",
     "shell.execute_reply": "2025-03-09T01:17:14.268657Z"
    }
   },
   "outputs": [],
   "source": [
    "from contextlib import suppress\n",
    "\n",
    "with suppress(Exception):\n",
    "    from spectrochempy import toto  # noqa: F401"
   ]
  }
 ],
 "metadata": {
  "jupytext": {
   "cell_metadata_json": true,
   "formats": "ipynb,py:percent",
   "notebook_metadata_filter": "all"
  },
  "kernelspec": {
   "display_name": "Python 3",
   "language": "python",
   "name": "python3"
  },
  "language_info": {
   "codemirror_mode": {
    "name": "ipython",
    "version": 3
   },
   "file_extension": ".py",
   "mimetype": "text/x-python",
   "name": "python",
   "nbconvert_exporter": "python",
   "pygments_lexer": "ipython3",
   "version": "3.10.16"
  },
  "widgets": {
   "application/vnd.jupyter.widget-state+json": {
    "state": {},
    "version_major": 2,
    "version_minor": 0
   }
  }
 },
 "nbformat": 4,
 "nbformat_minor": 5
}
