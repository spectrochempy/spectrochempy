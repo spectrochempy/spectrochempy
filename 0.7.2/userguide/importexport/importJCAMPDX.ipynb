{
 "cells": [
  {
   "cell_type": "markdown",
   "id": "0a55ec85",
   "metadata": {},
   "source": [
    "# Import/Export of JCAMP-DX files\n",
    "\n",
    "[JCAMP-DX](http://www.jcamp-dx.org/) is an open format initially developed for IR\n",
    "data and extended to other spectroscopies. At present, the JCAMP-DX reader implemented\n",
    "in SpectroChemPy is limited to IR data and AFFN encoding (see <cite data-cite=\"mcdonald:1988\">McDonald and Wilks, 1988</cite>.\n",
    "\n",
    "The JCAMP-DX reader of SpectroChemPy has been essentially written to read JCAMP-DX files\n",
    "exported by the SpectroChemPy `write_jdx()` writer.\n"
   ]
  },
  {
   "cell_type": "code",
   "execution_count": 1,
   "id": "6d572828",
   "metadata": {
    "execution": {
     "iopub.execute_input": "2025-03-09T01:17:25.743886Z",
     "iopub.status.busy": "2025-03-09T01:17:25.743691Z",
     "iopub.status.idle": "2025-03-09T01:17:28.016633Z",
     "shell.execute_reply": "2025-03-09T01:17:28.015938Z"
    }
   },
   "outputs": [
    {
     "data": {
      "text/html": [
       "\n",
       "    \n",
       "    <div>\n",
       "    <table>\n",
       "    <tr>\n",
       "    <td>\n",
       "    \n",
       "    <img src='data:image/png;base64,iVBORw0KGgoAAAANSUhEUgAAABgAAAAYCAYAAADgdz34AAAAAXNSR0IArs4c6QAAAAlw\n",
       "    SFlzAAAJOgAACToB8GSSSgAAAetpVFh0WE1MOmNvbS5hZG9iZS54bXAAAAAAADx4OnhtcG1ldGEgeG1sbnM6eD0iYWRvYmU6bnM6\n",
       "    bWV0YS8iIHg6eG1wdGs9IlhNUCBDb3JlIDUuNC4wIj4KICAgPHJkZjpSREYgeG1sbnM6cmRmPSJodHRwOi8vd3d3LnczLm9yZy8x\n",
       "    OTk5LzAyLzIyLXJkZi1zeW50YXgtbnMjIj4KICAgICAgPHJkZjpEZXNjcmlwdGlvbiByZGY6YWJvdXQ9IiIKICAgICAgICAgICAg\n",
       "    eG1sbnM6eG1wPSJodHRwOi8vbnMuYWRvYmUuY29tL3hhcC8xLjAvIgogICAgICAgICAgICB4bWxuczp0aWZmPSJodHRwOi8vbnMu\n",
       "    YWRvYmUuY29tL3RpZmYvMS4wLyI+CiAgICAgICAgIDx4bXA6Q3JlYXRvclRvb2w+bWF0cGxvdGxpYiB2ZXJzaW9uIDIuMS4wLCBo\n",
       "    dHRwOi8vbWF0cGxvdGxpYi5vcmcvPC94bXA6Q3JlYXRvclRvb2w+CiAgICAgICAgIDx0aWZmOk9yaWVudGF0aW9uPjE8L3RpZmY6\n",
       "    T3JpZW50YXRpb24+CiAgICAgIDwvcmRmOkRlc2NyaXB0aW9uPgogICA8L3JkZjpSREY+CjwveDp4bXBtZXRhPgqNQaNYAAAGiUlE\n",
       "    QVRIDY1We4xU1Rn/3XPuYx47u8w+hnU38hTcuoUEt/6D2y4RB0ME1BoEd9taJaKh9CFiN7YGp7appUAMNmktMZFoJTYVLVQ0smsy\n",
       "    26CN0SU1QgsuFAaW3WVmx33N677O6XfuyoIxTXqSO/fec+75fd93vt/3/UbDV0aKSZmCpkFMLz3T9utuu2N+o98aDSMBKVAo89z5\n",
       "    y+zEz3ZafcCOfvWdlGCalqKn1Bf71CygTd+mf1esSOnpdMpTb+vWpTZuWVfe3jLPa5tzHYNm0T5N0gpdkkHaDBeGBU6d1/t/fyS8\n",
       "    +/CbqdfUvmsx1PuMgc2bNxv79u1zgd31r+7JH1jbIZKxWRXAcYUQ8IWvBfBXNjEuJWPgMA02NR7C3/pYT9fjdZ3A9tGrWF8YSJHn\n",
       "    qcDz3y7q2T967PZv+gnYJdd1mEZ+62zGDQV/dQgKhmLzDNOXCEWM3j6eTT5Y3w78dOBKJLR1PQf+4ivPj76UPZnssBN+wbM9Aet/\n",
       "    AV81Mf1EEULXYfOobvX2WWQk0aoioXwwSmirOlioY0mu8BIouzYl7P8GV3vpqCCEZvlFz769w08oLDWvyKIyL1asSm28d6WfzA97\n",
       "    ztvvV1kexUMsmhlkULEkuGYmFYC6AvfUrITnwUKl5K79lkjeSSRRTCTbQPd95e1WzMbZSya74XoXAxctCllCnbECMOjZNGRwvzIX\n",
       "    nD85wbkMmKK+U045Dtdi8Qp+SAxU2GTg2bYlC9224pgvmSb54vkVTBQYyhUt2KjAMyMmPjwRQW5Mh2WKwJhlBh6jVGagFM84wZnQ\n",
       "    4bpC0Rt4pk1PbSt0NDcxDA5xryosDHWgtbM0DGZDWLSoiDMDYeQnGVrmOThxLozB0RAaahzkJzjKNqcIQBymJFMkOlN8Dqjpg0XY\n",
       "    Tx5xO/QbmmUrqIjGJznq47TqTaClKYfjp+PInLMwnOdYvtQBZ2XcunQY+VwIo4U4muoFEjVEFE6lQyEUKzHYfgQG9ylCyngU+Cxj\n",
       "    tOqxCDGHcCsOMCs6iQul5ZiStdATYxjMZXDLTUVwLY8Jey4uOh2IxjwsrP8UXJYxUrkZrghBahzV5iXU6gNkq0Z1EzIsUBUSCV2n\n",
       "    EOHo0LVxHCpuxabJJdhi5PFnvw5vLXwXIfNZvD/+JNo/X40NegE54sUaazl+UL8XD1x+FB9Ijjt4EQfdGN6J/x131LwIV9ap/AYs\n",
       "    0x1fz1ZKFbh6A7qKy/By9Dg6G36Ep91vUJJ15Cqr0Z67E8/HzmBrw1OwxWyM+3Mo6BAuSB17oyfx0Oyl2DN0Hqs/70Cx6hBCvESF\n",
       "    UY1ShWXZZEE7OTAYxZzaPH4TuoiusZvRnunFy2NbiHYuBp2vB66srX4vMEjpRKPxKXmnoQ4+Mn4DPiv8CYcrs3GfNUXJLtM+alSO\n",
       "    hrMj/KT+wBNW3+E/2liywNO3iSflbaFva/+stGDTxE0E9Sjaox8HBhxpEamzMGSEaFKg+mjEddzDh1MxTDq3YV1kGBsjfwW3S9Cq\n",
       "    anjmko+ndlb1UR3s6K8JlfphNWq9Ew/7c61T2BB/EbcaNkb8GBaE0tANH7/M34PLdhJDzjIcL9xPbdTG6zyM72Y+wXPHmvB489No\n",
       "    fm0b5HnbQ9Rgp/7DSSd29AeVvPeNyK6JcYl/yQVi5dBjuGvoV/gaJe47s45QUxrDmcYX0MBsdF7egvXZ7+O0vZA4X8QmOQWjlSK7\n",
       "    RDz5wIM30gp9UbWcGjXxhzdDu1SiNSpx6kcQB57rPnr/3dlkZarWLnlRq5oPET1dOCIOk4wALib9eeS5iygfhkd09H0DWphB/+gs\n",
       "    +PcOAS+ssrFmmXXgVfR0de9cpbAJfH3Q1jofW9DZk56dDcVsq9YcsoUMEd1qyLoT3BX1YiyHMJuk97hyjqIoE91t+NcTLeN0ZrfM\n",
       "    oXatZbu6G0h4VG+ibqq0IJVK6cAjo6serG3vSUezCMct0yQeSOFJSUImqb2qbknUpDqlZxE0QZ+ZUpSlZx79h4Nda6zef9dlk121\n",
       "    JDjbR5XggPRZlRnS6bRQRtLpn4++cuie/Yvn2svmNxuLw9WCcYIl4fEoTEGiSTUqJdfgU+8ROqf1iMkLzS389YtNPXc/PH8l8ONB\n",
       "    JZkHD+4JtD04HmVEDWWErmBhzV2/2LB1bemJG6krzv2S6NOHUgtEP0Oif5pE/3fHoruP7N8RiP61GArzSwbUhJJQpXJKiKbfr/3b\n",
       "    IhKq76sKPUdF9NW/LSqfSn6vjv8C45H/6FSgvZQAAAAASUVORK5CYII='\n",
       "         style='height:25px; border-radius:12px; display:inline-block; float:left; vertical-align:middle'>\n",
       "    </img>\n",
       "    \n",
       "    </td>\n",
       "    <td>\n",
       "    \n",
       "    &nbsp;&nbsp;<span style='font-size:12px'>SpectroChemPy's API - v.0.7.2<br/>© Copyright 2014-2025 - A.Travert & C.Fernandez @ LCS</span>\n",
       "    \n",
       "    </td>\n",
       "    </tr>\n",
       "    </table>\n",
       "    </div>\n",
       "    "
      ]
     },
     "metadata": {},
     "output_type": "display_data"
    },
    {
     "data": {
      "text/html": [
       "<style>/* SpectroChemPy output styling */\n",
       ".scp-output {\n",
       "    display: flex;\n",
       "    flex-direction: column;\n",
       "    gap: 2px;\n",
       "}\n",
       "\n",
       ".scp-output details {\n",
       "    padding: 1px;\n",
       "}\n",
       "\n",
       ".scp-output summary {\n",
       "    cursor: pointer;\n",
       "    font-weight: normal;\n",
       "    /*bold;*/\n",
       "    font-size: 11pt;\n",
       "}\n",
       "\n",
       ".scp-output summary:hover {\n",
       "    color: #888;\n",
       "}\n",
       "\n",
       "/* Parameters display styling */\n",
       ".scp-output .section {\n",
       "    display: flex;\n",
       "    flex-direction: row;\n",
       "    gap: 2px;\n",
       "    font-family: Arial, sans-serif;\n",
       "    font-size: 10pt;\n",
       "    margin-left: 15px;\n",
       "}\n",
       "\n",
       ".scp-output .meta-name,\n",
       ".scp-output .attr-name {\n",
       "    font-weight: 500;\n",
       "    color: #28A745;\n",
       "    text-align: right;\n",
       "}\n",
       "\n",
       ".scp-output .attr-name {\n",
       "    min-width: 100px;\n",
       "}\n",
       "\n",
       ".scp-output .meta-name {\n",
       "    min-width: 150px;\n",
       "}\n",
       "\n",
       ".scp-output .meta-value,\n",
       ".scp-output .attr-value {\n",
       "    flex: 1;\n",
       "}\n",
       "\n",
       ".scp-output .numeric {\n",
       "    color: #2D7FF9;\n",
       "    margin-left: 120px;\n",
       "    font-size: 10pt;\n",
       "}\n",
       "\n",
       ".scp-output .label {\n",
       "    color: darkcyan;\n",
       "    margin-left: 120px;\n",
       "    font-size: 10pt;\n",
       "}\n",
       "\n",
       ".scp-output .attr-value .numeric {\n",
       "    color: #2D7FF9;\n",
       "    margin-left: 0px;\n",
       "    font-size: 10pt;\n",
       "}\n",
       "\n",
       ".scp-output .attr-value .label {\n",
       "    color: darkcyan;\n",
       "    margin-left: 0px;\n",
       "    font-size: 10pt;\n",
       "}\n",
       "</style>"
      ],
      "text/plain": [
       "<IPython.core.display.HTML object>"
      ]
     },
     "metadata": {},
     "output_type": "display_data"
    },
    {
     "data": {
      "text/html": [
       "<div class='scp-output'><details><summary>NDDataset: [float64] a.u. (shape: (y:1, x:3112))[CO@Mo_Al2O3]</summary><div class=\"scp-output section\"><details><summary>Summary</summary>\n",
       "<div class=\"scp-output section\"><div class=\"attr-name\">         name</div><div>:</div><div class=\"attr-value\"> CO@Mo_Al2O3</div></div>\n",
       "<div class=\"scp-output section\"><div class=\"attr-name\">       author</div><div>:</div><div class=\"attr-value\"> runner@fv-az1696-90</div></div>\n",
       "<div class=\"scp-output section\"><div class=\"attr-name\">      created</div><div>:</div><div class=\"attr-value\"> 2025-03-09 01:17:27+00:00</div></div>\n",
       "<div class=\"scp-output section\"><div class=\"attr-name\">  description</div><div>:</div><div class=\"attr-value\"> <div>Omnic title: Group sust Mo_Al2O3_base line.SPG<br/>               Omnic filename: /home/runner/.spectrochempy/testdata/irdata/CO@Mo_Al2O3.SPG</div></div></div>\n",
       "<div class=\"scp-output section\"><div class=\"attr-name\">      history</div><div>:</div><div class=\"attr-value\"> <div>2025-03-09 01:17:27+00:00> Imported from spg file /home/runner/.spectrochempy/testdata/irdata/CO@Mo_Al2O3.SPG.<br/>               2025-03-09 01:17:27+00:00> Sorted by date<br/>               2025-03-09 01:17:28+00:00> Slice extracted: (0)</div></div></div></details></div>\n",
       "<div class=\"scp-output section\"><details><summary>          Data </summary>\n",
       "<div class=\"scp-output section\"><div class=\"attr-name\">        title</div><div>:</div><div class=\"attr-value\"> absorbance</div></div>\n",
       "<div class=\"scp-output section\"><div class=\"attr-name\">       values</div><div>:</div><div class=\"attr-value\"> ... </div></div>\n",
       "<div class='numeric'>         [[0.0008032 3.788e-05 ... 0.0003027 0.0003745]] a.u.</div>\n",
       "<div class=\"scp-output section\"><div class=\"attr-name\">        shape</div><div>:</div><div class=\"attr-value\"> (y:1, x:3112)</div></div></details></div>\n",
       "<div class=\"scp-output section\"><details><summary>     Dimension `x`</summary>\n",
       "<div class=\"scp-output section\"><div class=\"attr-name\">         size</div><div>:</div><div class=\"attr-value\"> 3112</div></div>\n",
       "<div class=\"scp-output section\"><div class=\"attr-name\">        title</div><div>:</div><div class=\"attr-value\"> wavenumbers</div></div>\n",
       "<div class=\"scp-output section\"><div class=\"attr-name\">  coordinates</div><div>:</div><div class=\"attr-value\"> <div class='numeric'>[    4000     3999 ...     1001    999.9] cm⁻¹</div></div></div></details></div>\n",
       "<div class=\"scp-output section\"><details><summary>     Dimension `y`</summary>\n",
       "<div class=\"scp-output section\"><div class=\"attr-name\">         size</div><div>:</div><div class=\"attr-value\"> 1</div></div>\n",
       "<div class=\"scp-output section\"><div class=\"attr-name\">        title</div><div>:</div><div class=\"attr-value\"> acquisition timestamp (GMT)</div></div>\n",
       "<div class=\"scp-output section\"><div class=\"attr-name\">  coordinates</div><div>:</div><div class=\"attr-value\"> <div class='numeric'>[1.477e+09] s</div></div></div>\n",
       "<div class=\"scp-output section\"><div class=\"attr-name\">       labels</div><div>:</div><div class=\"attr-value\"> ... </div></div>\n",
       "<div class='label'>         [[  2016-10-18 13:49:35+00:00]<br/>          [  *Résultat de Soustraction:04_Mo_Al2O3_calc_0.003torr_LT_after sulf_Oct 18 15:46:42 2016 (GMT+02:00)]]</div></details></div></details></div>"
      ],
      "text/plain": [
       "NDDataset: [float64] a.u. (shape: (y:1, x:3112))"
      ]
     },
     "execution_count": 1,
     "metadata": {},
     "output_type": "execute_result"
    }
   ],
   "source": [
    "import spectrochempy as scp\n",
    "\n",
    "X = scp.read_omnic(\"irdata//CO@Mo_Al2O3.SPG\")\n",
    "S0 = X[0]\n",
    "S0"
   ]
  },
  {
   "cell_type": "code",
   "execution_count": 2,
   "id": "52b1d391",
   "metadata": {
    "execution": {
     "iopub.execute_input": "2025-03-09T01:17:28.018957Z",
     "iopub.status.busy": "2025-03-09T01:17:28.018638Z",
     "iopub.status.idle": "2025-03-09T01:17:28.070366Z",
     "shell.execute_reply": "2025-03-09T01:17:28.069692Z"
    }
   },
   "outputs": [
    {
     "data": {
      "text/plain": [
       "PosixPath('/home/runner/work/spectrochempy/spectrochempy/docs/sources/userguide/importexport/CO@Mo_Al2O3_0.jdx')"
      ]
     },
     "execution_count": 2,
     "metadata": {},
     "output_type": "execute_result"
    }
   ],
   "source": [
    "S0.write_jcamp(\"CO@Mo_Al2O3_0.jdx\", confirm=False)"
   ]
  },
  {
   "cell_type": "markdown",
   "id": "bb124ba1",
   "metadata": {},
   "source": [
    "Then used (and maybe changed) by a 3rd party software, and re-imported in\n",
    "spectrochempy:"
   ]
  },
  {
   "cell_type": "code",
   "execution_count": 3,
   "id": "d25609a0",
   "metadata": {
    "execution": {
     "iopub.execute_input": "2025-03-09T01:17:28.072265Z",
     "iopub.status.busy": "2025-03-09T01:17:28.072068Z",
     "iopub.status.idle": "2025-03-09T01:17:28.198190Z",
     "shell.execute_reply": "2025-03-09T01:17:28.197538Z"
    }
   },
   "outputs": [
    {
     "data": {
      "text/html": [
       "<div class='scp-output'><details><summary>NDDataset: [float64] a.u. (shape: (y:1, x:3112))[CO@Mo_Al2O3]</summary><div class=\"scp-output section\"><details><summary>Summary</summary>\n",
       "<div class=\"scp-output section\"><div class=\"attr-name\">         name</div><div>:</div><div class=\"attr-value\"> CO@Mo_Al2O3</div></div>\n",
       "<div class=\"scp-output section\"><div class=\"attr-name\">       author</div><div>:</div><div class=\"attr-value\"> runner@fv-az1696-90</div></div>\n",
       "<div class=\"scp-output section\"><div class=\"attr-name\">      created</div><div>:</div><div class=\"attr-value\"> 2025-03-09 01:17:28+00:00</div></div>\n",
       "<div class=\"scp-output section\"><div class=\"attr-name\">  description</div><div>:</div><div class=\"attr-value\"> <div>Dataset from jdx file: 'CO@Mo_Al2O3'</div></div></div>\n",
       "<div class=\"scp-output section\"><div class=\"attr-name\">      history</div><div>:</div><div class=\"attr-value\"> <div>2025-03-09 01:17:28+00:00> Imported from jdx file</div></div></div></details></div>\n",
       "<div class=\"scp-output section\"><details><summary>          Data </summary>\n",
       "<div class=\"scp-output section\"><div class=\"attr-name\">        title</div><div>:</div><div class=\"attr-value\"> absorbance</div></div>\n",
       "<div class=\"scp-output section\"><div class=\"attr-name\">       values</div><div>:</div><div class=\"attr-value\"> ... </div></div>\n",
       "<div class='numeric'>         [[0.0008032 3.787e-05 ... 0.0003027 0.0003745]] a.u.</div>\n",
       "<div class=\"scp-output section\"><div class=\"attr-name\">        shape</div><div>:</div><div class=\"attr-value\"> (y:1, x:3112)</div></div></details></div>\n",
       "<div class=\"scp-output section\"><details><summary>     Dimension `x`</summary>\n",
       "<div class=\"scp-output section\"><div class=\"attr-name\">         size</div><div>:</div><div class=\"attr-value\"> 3112</div></div>\n",
       "<div class=\"scp-output section\"><div class=\"attr-name\">        title</div><div>:</div><div class=\"attr-value\"> wavenumbers</div></div>\n",
       "<div class=\"scp-output section\"><div class=\"attr-name\">  coordinates</div><div>:</div><div class=\"attr-value\"> <div class='numeric'>[    4000     3999 ...     1001    999.9] cm⁻¹</div></div></div></details></div></details></div>"
      ],
      "text/plain": [
       "NDDataset: [float64] a.u. (shape: (y:1, x:3112))"
      ]
     },
     "execution_count": 3,
     "metadata": {},
     "output_type": "execute_result"
    }
   ],
   "source": [
    "newS0 = scp.read_jcamp(\"CO@Mo_Al2O3_0.jdx\")\n",
    "newS0"
   ]
  },
  {
   "cell_type": "markdown",
   "id": "0f4d9b03",
   "metadata": {
    "lines_to_next_cell": 2
   },
   "source": [
    "It is important to note here that the conversion to JCAMP-DX changes the last digits\n",
    "of absorbance and wavenumbers:"
   ]
  },
  {
   "cell_type": "code",
   "execution_count": 4,
   "id": "4e20f825",
   "metadata": {
    "execution": {
     "iopub.execute_input": "2025-03-09T01:17:28.200118Z",
     "iopub.status.busy": "2025-03-09T01:17:28.199918Z",
     "iopub.status.idle": "2025-03-09T01:17:28.202970Z",
     "shell.execute_reply": "2025-03-09T01:17:28.202400Z"
    }
   },
   "outputs": [],
   "source": [
    "from spectrochempy.utils.compare import difference"
   ]
  },
  {
   "cell_type": "code",
   "execution_count": 5,
   "id": "bc30baf4",
   "metadata": {
    "execution": {
     "iopub.execute_input": "2025-03-09T01:17:28.204737Z",
     "iopub.status.busy": "2025-03-09T01:17:28.204544Z",
     "iopub.status.idle": "2025-03-09T01:17:28.208589Z",
     "shell.execute_reply": "2025-03-09T01:17:28.208023Z"
    }
   },
   "outputs": [
    {
     "name": "stdout",
     "output_type": "stream",
     "text": [
      "Max absolute difference in absorbance: 1.12e-08\n",
      "Max relative difference in absorbance: 0.863\n"
     ]
    }
   ],
   "source": [
    "max_error, max_rel_error = difference(S0, newS0)\n",
    "print(f\"Max absolute difference in absorbance: {max_error:.3g}\")\n",
    "print(f\"Max relative difference in absorbance: {max_rel_error:.3g}\")"
   ]
  },
  {
   "cell_type": "code",
   "execution_count": 6,
   "id": "84938b49",
   "metadata": {
    "execution": {
     "iopub.execute_input": "2025-03-09T01:17:28.210532Z",
     "iopub.status.busy": "2025-03-09T01:17:28.210077Z",
     "iopub.status.idle": "2025-03-09T01:17:28.214288Z",
     "shell.execute_reply": "2025-03-09T01:17:28.213657Z"
    }
   },
   "outputs": [
    {
     "name": "stdout",
     "output_type": "stream",
     "text": [
      "Max absolute difference in wavenumber: 0\n",
      "Max relative difference in wavenumber: 0\n"
     ]
    }
   ],
   "source": [
    "max_error, max_rel_error = difference(S0.x, newS0.x)\n",
    "print(f\"Max absolute difference in wavenumber: {max_error:.3g}\")\n",
    "print(f\"Max relative difference in wavenumber: {max_rel_error:.3g}\")"
   ]
  },
  {
   "cell_type": "markdown",
   "id": "bf26bff7",
   "metadata": {},
   "source": [
    "But this is much beyond the experimental accuracy of the data."
   ]
  }
 ],
 "metadata": {
  "jupytext": {
   "cell_metadata_json": true,
   "formats": "ipynb,py:percent",
   "notebook_metadata_filter": "all"
  },
  "kernelspec": {
   "display_name": "Python 3 (ipykernel)",
   "language": "python",
   "name": "python3"
  },
  "language_info": {
   "codemirror_mode": {
    "name": "ipython",
    "version": 3
   },
   "file_extension": ".py",
   "mimetype": "text/x-python",
   "name": "python",
   "nbconvert_exporter": "python",
   "pygments_lexer": "ipython3",
   "version": "3.10.16"
  },
  "widgets": {
   "application/vnd.jupyter.widget-state+json": {
    "state": {},
    "version_major": 2,
    "version_minor": 0
   }
  }
 },
 "nbformat": 4,
 "nbformat_minor": 5
}
