{
 "cells": [
  {
   "cell_type": "markdown",
   "id": "9d72ffdf",
   "metadata": {},
   "source": [
    "# Import Data in SpectroChemPy\n",
    "\n",
    "This tutorial shows how to import data in **SpectroChemPy (SCPy)** .\n",
    "\n",
    "First, let's `import spectrochempy as scp` in the current\n",
    "namespace, so that all spectrochempy commands will be called as\n",
    "`scp.method(<method parameters>)` ."
   ]
  },
  {
   "cell_type": "code",
   "execution_count": 1,
   "id": "c799d084",
   "metadata": {
    "execution": {
     "iopub.execute_input": "2025-03-09T01:17:16.158818Z",
     "iopub.status.busy": "2025-03-09T01:17:16.158416Z",
     "iopub.status.idle": "2025-03-09T01:17:18.177142Z",
     "shell.execute_reply": "2025-03-09T01:17:18.176579Z"
    }
   },
   "outputs": [
    {
     "data": {
      "text/html": [
       "\n",
       "    \n",
       "    <div>\n",
       "    <table>\n",
       "    <tr>\n",
       "    <td>\n",
       "    \n",
       "    <img src='data:image/png;base64,iVBORw0KGgoAAAANSUhEUgAAABgAAAAYCAYAAADgdz34AAAAAXNSR0IArs4c6QAAAAlw\n",
       "    SFlzAAAJOgAACToB8GSSSgAAAetpVFh0WE1MOmNvbS5hZG9iZS54bXAAAAAAADx4OnhtcG1ldGEgeG1sbnM6eD0iYWRvYmU6bnM6\n",
       "    bWV0YS8iIHg6eG1wdGs9IlhNUCBDb3JlIDUuNC4wIj4KICAgPHJkZjpSREYgeG1sbnM6cmRmPSJodHRwOi8vd3d3LnczLm9yZy8x\n",
       "    OTk5LzAyLzIyLXJkZi1zeW50YXgtbnMjIj4KICAgICAgPHJkZjpEZXNjcmlwdGlvbiByZGY6YWJvdXQ9IiIKICAgICAgICAgICAg\n",
       "    eG1sbnM6eG1wPSJodHRwOi8vbnMuYWRvYmUuY29tL3hhcC8xLjAvIgogICAgICAgICAgICB4bWxuczp0aWZmPSJodHRwOi8vbnMu\n",
       "    YWRvYmUuY29tL3RpZmYvMS4wLyI+CiAgICAgICAgIDx4bXA6Q3JlYXRvclRvb2w+bWF0cGxvdGxpYiB2ZXJzaW9uIDIuMS4wLCBo\n",
       "    dHRwOi8vbWF0cGxvdGxpYi5vcmcvPC94bXA6Q3JlYXRvclRvb2w+CiAgICAgICAgIDx0aWZmOk9yaWVudGF0aW9uPjE8L3RpZmY6\n",
       "    T3JpZW50YXRpb24+CiAgICAgIDwvcmRmOkRlc2NyaXB0aW9uPgogICA8L3JkZjpSREY+CjwveDp4bXBtZXRhPgqNQaNYAAAGiUlE\n",
       "    QVRIDY1We4xU1Rn/3XPuYx47u8w+hnU38hTcuoUEt/6D2y4RB0ME1BoEd9taJaKh9CFiN7YGp7appUAMNmktMZFoJTYVLVQ0smsy\n",
       "    26CN0SU1QgsuFAaW3WVmx33N677O6XfuyoIxTXqSO/fec+75fd93vt/3/UbDV0aKSZmCpkFMLz3T9utuu2N+o98aDSMBKVAo89z5\n",
       "    y+zEz3ZafcCOfvWdlGCalqKn1Bf71CygTd+mf1esSOnpdMpTb+vWpTZuWVfe3jLPa5tzHYNm0T5N0gpdkkHaDBeGBU6d1/t/fyS8\n",
       "    +/CbqdfUvmsx1PuMgc2bNxv79u1zgd31r+7JH1jbIZKxWRXAcYUQ8IWvBfBXNjEuJWPgMA02NR7C3/pYT9fjdZ3A9tGrWF8YSJHn\n",
       "    qcDz3y7q2T967PZv+gnYJdd1mEZ+62zGDQV/dQgKhmLzDNOXCEWM3j6eTT5Y3w78dOBKJLR1PQf+4ivPj76UPZnssBN+wbM9Aet/\n",
       "    AV81Mf1EEULXYfOobvX2WWQk0aoioXwwSmirOlioY0mu8BIouzYl7P8GV3vpqCCEZvlFz769w08oLDWvyKIyL1asSm28d6WfzA97\n",
       "    ztvvV1kexUMsmhlkULEkuGYmFYC6AvfUrITnwUKl5K79lkjeSSRRTCTbQPd95e1WzMbZSya74XoXAxctCllCnbECMOjZNGRwvzIX\n",
       "    nD85wbkMmKK+U045Dtdi8Qp+SAxU2GTg2bYlC9224pgvmSb54vkVTBQYyhUt2KjAMyMmPjwRQW5Mh2WKwJhlBh6jVGagFM84wZnQ\n",
       "    4bpC0Rt4pk1PbSt0NDcxDA5xryosDHWgtbM0DGZDWLSoiDMDYeQnGVrmOThxLozB0RAaahzkJzjKNqcIQBymJFMkOlN8Dqjpg0XY\n",
       "    Tx5xO/QbmmUrqIjGJznq47TqTaClKYfjp+PInLMwnOdYvtQBZ2XcunQY+VwIo4U4muoFEjVEFE6lQyEUKzHYfgQG9ylCyngU+Cxj\n",
       "    tOqxCDGHcCsOMCs6iQul5ZiStdATYxjMZXDLTUVwLY8Jey4uOh2IxjwsrP8UXJYxUrkZrghBahzV5iXU6gNkq0Z1EzIsUBUSCV2n\n",
       "    EOHo0LVxHCpuxabJJdhi5PFnvw5vLXwXIfNZvD/+JNo/X40NegE54sUaazl+UL8XD1x+FB9Ijjt4EQfdGN6J/x131LwIV9ap/AYs\n",
       "    0x1fz1ZKFbh6A7qKy/By9Dg6G36Ep91vUJJ15Cqr0Z67E8/HzmBrw1OwxWyM+3Mo6BAuSB17oyfx0Oyl2DN0Hqs/70Cx6hBCvESF\n",
       "    UY1ShWXZZEE7OTAYxZzaPH4TuoiusZvRnunFy2NbiHYuBp2vB66srX4vMEjpRKPxKXmnoQ4+Mn4DPiv8CYcrs3GfNUXJLtM+alSO\n",
       "    hrMj/KT+wBNW3+E/2liywNO3iSflbaFva/+stGDTxE0E9Sjaox8HBhxpEamzMGSEaFKg+mjEddzDh1MxTDq3YV1kGBsjfwW3S9Cq\n",
       "    anjmko+ndlb1UR3s6K8JlfphNWq9Ew/7c61T2BB/EbcaNkb8GBaE0tANH7/M34PLdhJDzjIcL9xPbdTG6zyM72Y+wXPHmvB489No\n",
       "    fm0b5HnbQ9Rgp/7DSSd29AeVvPeNyK6JcYl/yQVi5dBjuGvoV/gaJe47s45QUxrDmcYX0MBsdF7egvXZ7+O0vZA4X8QmOQWjlSK7\n",
       "    RDz5wIM30gp9UbWcGjXxhzdDu1SiNSpx6kcQB57rPnr/3dlkZarWLnlRq5oPET1dOCIOk4wALib9eeS5iygfhkd09H0DWphB/+gs\n",
       "    +PcOAS+ssrFmmXXgVfR0de9cpbAJfH3Q1jofW9DZk56dDcVsq9YcsoUMEd1qyLoT3BX1YiyHMJuk97hyjqIoE91t+NcTLeN0ZrfM\n",
       "    oXatZbu6G0h4VG+ibqq0IJVK6cAjo6serG3vSUezCMct0yQeSOFJSUImqb2qbknUpDqlZxE0QZ+ZUpSlZx79h4Nda6zef9dlk121\n",
       "    JDjbR5XggPRZlRnS6bRQRtLpn4++cuie/Yvn2svmNxuLw9WCcYIl4fEoTEGiSTUqJdfgU+8ROqf1iMkLzS389YtNPXc/PH8l8ONB\n",
       "    JZkHD+4JtD04HmVEDWWErmBhzV2/2LB1bemJG6krzv2S6NOHUgtEP0Oif5pE/3fHoruP7N8RiP61GArzSwbUhJJQpXJKiKbfr/3b\n",
       "    IhKq76sKPUdF9NW/LSqfSn6vjv8C45H/6FSgvZQAAAAASUVORK5CYII='\n",
       "         style='height:25px; border-radius:12px; display:inline-block; float:left; vertical-align:middle'>\n",
       "    </img>\n",
       "    \n",
       "    </td>\n",
       "    <td>\n",
       "    \n",
       "    &nbsp;&nbsp;<span style='font-size:12px'>SpectroChemPy's API - v.0.7.2<br/>© Copyright 2014-2025 - A.Travert & C.Fernandez @ LCS</span>\n",
       "    \n",
       "    </td>\n",
       "    </tr>\n",
       "    </table>\n",
       "    </div>\n",
       "    "
      ]
     },
     "metadata": {},
     "output_type": "display_data"
    },
    {
     "data": {
      "text/html": [
       "<style>/* SpectroChemPy output styling */\n",
       ".scp-output {\n",
       "    display: flex;\n",
       "    flex-direction: column;\n",
       "    gap: 2px;\n",
       "}\n",
       "\n",
       ".scp-output details {\n",
       "    padding: 1px;\n",
       "}\n",
       "\n",
       ".scp-output summary {\n",
       "    cursor: pointer;\n",
       "    font-weight: normal;\n",
       "    /*bold;*/\n",
       "    font-size: 11pt;\n",
       "}\n",
       "\n",
       ".scp-output summary:hover {\n",
       "    color: #888;\n",
       "}\n",
       "\n",
       "/* Parameters display styling */\n",
       ".scp-output .section {\n",
       "    display: flex;\n",
       "    flex-direction: row;\n",
       "    gap: 2px;\n",
       "    font-family: Arial, sans-serif;\n",
       "    font-size: 10pt;\n",
       "    margin-left: 15px;\n",
       "}\n",
       "\n",
       ".scp-output .meta-name,\n",
       ".scp-output .attr-name {\n",
       "    font-weight: 500;\n",
       "    color: #28A745;\n",
       "    text-align: right;\n",
       "}\n",
       "\n",
       ".scp-output .attr-name {\n",
       "    min-width: 100px;\n",
       "}\n",
       "\n",
       ".scp-output .meta-name {\n",
       "    min-width: 150px;\n",
       "}\n",
       "\n",
       ".scp-output .meta-value,\n",
       ".scp-output .attr-value {\n",
       "    flex: 1;\n",
       "}\n",
       "\n",
       ".scp-output .numeric {\n",
       "    color: #2D7FF9;\n",
       "    margin-left: 120px;\n",
       "    font-size: 10pt;\n",
       "}\n",
       "\n",
       ".scp-output .label {\n",
       "    color: darkcyan;\n",
       "    margin-left: 120px;\n",
       "    font-size: 10pt;\n",
       "}\n",
       "\n",
       ".scp-output .attr-value .numeric {\n",
       "    color: #2D7FF9;\n",
       "    margin-left: 0px;\n",
       "    font-size: 10pt;\n",
       "}\n",
       "\n",
       ".scp-output .attr-value .label {\n",
       "    color: darkcyan;\n",
       "    margin-left: 0px;\n",
       "    font-size: 10pt;\n",
       "}\n",
       "</style>"
      ],
      "text/plain": [
       "<IPython.core.display.HTML object>"
      ]
     },
     "metadata": {},
     "output_type": "display_data"
    }
   ],
   "source": [
    "import spectrochempy as scp"
   ]
  },
  {
   "cell_type": "markdown",
   "id": "3b839ea8",
   "metadata": {},
   "source": [
    "## Generic read command"
   ]
  },
  {
   "cell_type": "markdown",
   "id": "5f616c3e",
   "metadata": {},
   "source": [
    "To read a file containing spectrocopic data or similar,\n",
    "the `read` method can be used.\n",
    "This method will try to guess the file format based on\n",
    "the file extension."
   ]
  },
  {
   "cell_type": "code",
   "execution_count": 2,
   "id": "1a7e541a",
   "metadata": {
    "execution": {
     "iopub.execute_input": "2025-03-09T01:17:18.179267Z",
     "iopub.status.busy": "2025-03-09T01:17:18.178947Z",
     "iopub.status.idle": "2025-03-09T01:17:18.441990Z",
     "shell.execute_reply": "2025-03-09T01:17:18.441389Z"
    }
   },
   "outputs": [],
   "source": [
    "X = scp.read(\"wodger.spg\")"
   ]
  },
  {
   "cell_type": "markdown",
   "id": "aa319f3f",
   "metadata": {
    "lines_to_next_cell": 0
   },
   "source": [
    "The above command will extract the data from the file `wodger.spg`\n",
    "and store it in a `NDDataset` object named `X`.\n",
    "To display information about the dataset, simply type `X`\n",
    "in a cell and run it."
   ]
  },
  {
   "cell_type": "code",
   "execution_count": 3,
   "id": "c5d542bf",
   "metadata": {
    "execution": {
     "iopub.execute_input": "2025-03-09T01:17:18.444140Z",
     "iopub.status.busy": "2025-03-09T01:17:18.443921Z",
     "iopub.status.idle": "2025-03-09T01:17:18.452207Z",
     "shell.execute_reply": "2025-03-09T01:17:18.451654Z"
    }
   },
   "outputs": [
    {
     "data": {
      "text/html": [
       "<div class='scp-output'><details><summary>NDDataset: [float64] a.u. (shape: (y:2, x:5549))[wodger]</summary><div class=\"scp-output section\"><details><summary>Summary</summary>\n",
       "<div class=\"scp-output section\"><div class=\"attr-name\">         name</div><div>:</div><div class=\"attr-value\"> wodger</div></div>\n",
       "<div class=\"scp-output section\"><div class=\"attr-name\">       author</div><div>:</div><div class=\"attr-value\"> runner@fv-az1696-90</div></div>\n",
       "<div class=\"scp-output section\"><div class=\"attr-name\">      created</div><div>:</div><div class=\"attr-value\"> 2025-03-09 01:17:18+00:00</div></div>\n",
       "<div class=\"scp-output section\"><div class=\"attr-name\">  description</div><div>:</div><div class=\"attr-value\"> <div>Omnic title: wodger.spg<br/>               Omnic filename: /home/runner/work/spectrochempy/spectrochempy/docs/sources/userguide/importexport/wodger.spg</div></div></div>\n",
       "<div class=\"scp-output section\"><div class=\"attr-name\">      history</div><div>:</div><div class=\"attr-value\"> <div>2025-03-09 01:17:18+00:00> Imported from spg file<br/>               /home/runner/work/spectrochempy/spectrochempy/docs/sources/userguide/importexport/wodger.spg.<br/>               2025-03-09 01:17:18+00:00> Sorted by date</div></div></div></details></div>\n",
       "<div class=\"scp-output section\"><details><summary>          Data </summary>\n",
       "<div class=\"scp-output section\"><div class=\"attr-name\">        title</div><div>:</div><div class=\"attr-value\"> absorbance</div></div>\n",
       "<div class=\"scp-output section\"><div class=\"attr-name\">       values</div><div>:</div><div class=\"attr-value\"> ... </div></div>\n",
       "<div class='numeric'>         [[   2.005    2.003 ...    1.826    1.831]<br/>          [   1.983    1.984 ...    1.698    1.704]] a.u.</div>\n",
       "<div class=\"scp-output section\"><div class=\"attr-name\">        shape</div><div>:</div><div class=\"attr-value\"> (y:2, x:5549)</div></div></details></div>\n",
       "<div class=\"scp-output section\"><details><summary>     Dimension `x`</summary>\n",
       "<div class=\"scp-output section\"><div class=\"attr-name\">         size</div><div>:</div><div class=\"attr-value\"> 5549</div></div>\n",
       "<div class=\"scp-output section\"><div class=\"attr-name\">        title</div><div>:</div><div class=\"attr-value\"> wavenumbers</div></div>\n",
       "<div class=\"scp-output section\"><div class=\"attr-name\">  coordinates</div><div>:</div><div class=\"attr-value\"> <div class='numeric'>[    6000     5999 ...    650.9    649.9] cm⁻¹</div></div></div></details></div>\n",
       "<div class=\"scp-output section\"><details><summary>     Dimension `y`</summary>\n",
       "<div class=\"scp-output section\"><div class=\"attr-name\">         size</div><div>:</div><div class=\"attr-value\"> 2</div></div>\n",
       "<div class=\"scp-output section\"><div class=\"attr-name\">        title</div><div>:</div><div class=\"attr-value\"> acquisition timestamp (GMT)</div></div>\n",
       "<div class=\"scp-output section\"><div class=\"attr-name\">  coordinates</div><div>:</div><div class=\"attr-value\"> <div class='numeric'>[1.468e+09 1.468e+09] s</div></div></div>\n",
       "<div class=\"scp-output section\"><div class=\"attr-name\">       labels</div><div>:</div><div class=\"attr-value\"> ... </div></div>\n",
       "<div class='label'>         [[  vz0470.spa, Wed Jul 06 21:40:37 2016 (GMT+02:00)   2016-07-06 19:43:13+00:00]<br/>          [  vz0468.spa, Wed Jul 06 21:20:38 2016 (GMT+02:00)   2016-07-06 19:23:14+00:00]]</div></details></div></details></div>"
      ],
      "text/plain": [
       "NDDataset: [float64] a.u. (shape: (y:2, x:5549))"
      ]
     },
     "execution_count": 3,
     "metadata": {},
     "output_type": "execute_result"
    }
   ],
   "source": [
    "X"
   ]
  },
  {
   "cell_type": "markdown",
   "id": "de1cc72c",
   "metadata": {},
   "source": [
    "In this case, the data were in an OMNIC file format,\n",
    "and the `read` method guessed it correctly using the file name extension.\n",
    "The `read` method can also read other file formats, such as\n",
    "OPUS, JCAMP-DX, CSV, MATLAB, TOPSPIN, etc. or even a directory."
   ]
  },
  {
   "cell_type": "markdown",
   "id": "d7cd0e31",
   "metadata": {},
   "source": [
    "## Using a specific reader"
   ]
  },
  {
   "cell_type": "markdown",
   "id": "9bf4f52e",
   "metadata": {},
   "source": [
    "Instead of using the generic read method, you can also use a specific\n",
    "reader, such as `read_omnic`, `read_opus`, `read_csv`, `read_jcamp`, etc.\n",
    "These methods are more specific and will only read the file format\n",
    "they are. For example, `read_omnic` will only read OMNIC files."
   ]
  },
  {
   "cell_type": "markdown",
   "id": "007db2c3",
   "metadata": {},
   "source": [
    "The following table lists the available file readers in SCPy\n",
    "along with the corresponding file formats and extensions they support:\n",
    "\n",
    "| Reader         | File Formats                                      | Extensions      |\n",
    "|---------------|-------------------------------------------------|----------------|\n",
    "| read_omnic,<br/>read_spa,<br/>read_spg,<br/>read_srs    | Thermo Scientific/Nicolet OMNIC files          | .spa, .spg, .srs     |\n",
    "| read_opus     | Bruker OPUS files                              | .0, .1, .000, ... |\n",
    "| read_csv      | Comma-Separated Values (CSV) files             | .csv           |\n",
    "| read_jcamp, <br/>read_dx| JCAMP-DX spectral data files                   | .dx, .jdx      |\n",
    "| read_matlab,<br/>read_mat   | MATLAB files                                   | .mat, .dso     |\n",
    "| read_topspin  | Bruker TopSpin NMR files                       | fid, ser, 1r, 1i, 2rr... |\n",
    "| read_labspec  | LABSPEC6 spectral data files                   | .txt           |\n",
    "| read_wire,<br/>read_wdf | Renishaw Wire files                     | .wdf           |\n",
    "| read_scp      | SpectroChemPy-specific files                   | .scp           |\n",
    "| read_soc,<br/>read_ddr,<br/>read_hdr,<br/>read_sdr     | Surface Optics Corporation files               | .ddr, .hdr, .sdr |\n",
    "| read_galactic | Galactic spectral files                        | .spc           |\n",
    "| read_quadera  | Pfeiffer Vacuum QUADERA mass spectrometer files | .txt           |\n",
    "| read          | Generic reader (automatically detects format)  | -              |\n",
    "| read_dir      | Reads all supported files in a directory       | -              |\n",
    "| read_zip      | Reads files from a ZIP archive                 | .zip           |\n",
    "| read_carroucell | Reads files from a carrousel experiment directory | -          |\n",
    "\n",
    "The `read_dir` function scans a directory and reads all supported files,\n",
    "returning a list of `NDDataset` objects.\n",
    "\n",
    "Other reader functions return either a single `NDDataset` or multiple `NDDataset`\n",
    "objects, depending on the file type and content.\n",
    "\n",
    "Further details on specific cases are provided below. See the section [Reading directories](#Reading-directories)."
   ]
  },
  {
   "cell_type": "markdown",
   "id": "1c7d9928",
   "metadata": {},
   "source": [
    "## Using relative or absolute pathnames"
   ]
  },
  {
   "cell_type": "markdown",
   "id": "fa4f63e3",
   "metadata": {},
   "source": [
    "In the above examples, the file `wodger.spg` was read from the current working directory.\n",
    "\n",
    "If the file is located in another directory, the full path to the file can be provided. For example:\n",
    "\n",
    "```ipython\n",
    "X = scp.read('/users/Brian/s/Life/wodger.spg')\n",
    "```\n",
    "\n",
    "or, for Windows:\n",
    "\n",
    "```ipython\n",
    "X = scp.read(r'C:\\users\\Brian\\s\\Life\\wodger.spg')\n",
    "```\n",
    "\n",
    "Notes:\n",
    "- The path separator is a backslash `\\` on Windows, but in many contexts, backslash is also used as an escape character to\n",
    "  represent non-printable characters.\n",
    "  To avoid problems, either it has to be escaped itself, a double backslash `\\\\`, or one can also use raw string literals\n",
    "  to represent Windows paths.\n",
    "  These are string literals that have an `r` prepended to them. In raw string literals, the `\\\\` represents\n",
    "  a literal backslash: `r'C:\\users\\Brian'`.\n",
    "- In python, the slash `/` is used as the path separator in all systems (Windows, Linux, OSX, ...).\n",
    "  So it can be used in all cases. For exemple:\n",
    "\n",
    "  ```ipython\n",
    "  X = scp.read('C:/users/Brian/s/Life/wodger.spg')\n",
    "\n",
    "  ```\n",
    "\n",
    "- The use of relative pathnames is a good practice. SpectroChemPy readers use relative paths.\n",
    "  If the given path is not absolute,\n",
    "  then SpectroChemPy will search relative to the current directory or to a directory specified using the `directory`keywords.\n",
    "\n",
    "  For example:\n",
    "\n",
    "  ```ipython\n",
    "  X = scp.read('wodger.spg', directory='C:/users/Brian/s/Life')\n",
    "  X = scp.read('Life/wodger.spg', directory='C:\\\\users\\\\Brian\\\\s')\n",
    "\n",
    "  ```\n",
    "\n",
    "- The `os` or `pathlib` modules can be used to work with pathnames.\n",
    "  See the section\n",
    "  [Good practice:Use of os or pathlib packages](#Use-os-or-pathlib-packages).\n",
    "- The `preferences.datadir` variable can be used to set a default directory where to look for data.\n",
    "  See the section [Another default search directory: datadir](#Another-default-search-directory:-datadir).\n"
   ]
  },
  {
   "cell_type": "markdown",
   "id": "74a13f70",
   "metadata": {},
   "source": [
    "## Good practices\n",
    "\n",
    "\n",
    "\n",
    "\n",
    "\n",
    "\n",
    "\n",
    "\n",
    "\n",
    "\n",
    "\n",
    "\n",
    "\n",
    "\n",
    "\n",
    "\n",
    "\n",
    "\n",
    "\n",
    "\n",
    "\n",
    "\n",
    "\n",
    "\n",
    "\n",
    "\n",
    "\n",
    "\n",
    "\n",
    "\n",
    "\n",
    "\n",
    "### Use relative paths\n",
    "\n",
    "As path are system dependent, it is a good practice to use relative pathnames in scripts and notebooks.\n",
    "\n",
    "If, for instance, Brian has a project organised in a folder (`s` ) with a directory\n",
    "dedicated to input data (`Life` )\n",
    "and a notebook for preprocessing (`welease.ipynb` ) as illustrate below:\n",
    "\n",
    "```\n",
    "C:\\users\n",
    "|    +-- Brian\n",
    "|    |    +-- s\n",
    "|    |    |   +-- Life\n",
    "|    |    |   |   +-- wodger.spg\n",
    "|    |    |   +-- welease.ipynb\n",
    "\n",
    "```\n",
    "\n",
    "Then running this project in John's Linux computer (e.g. in `/home/john/s_copy` )\n",
    "will certainly result in execution\n",
    "errors if absolute paths are used in the notebook:\n",
    "\n",
    "```text\n",
    "OSError: Can't find this filename C:\\users\\Brian\\s\\life\\wodger.spg\n",
    "```\n",
    "\n",
    "Fortunately, SpectroChemPy readers use relative paths. If the given path is not\n",
    "absolute, then SpectroChemPy will search in the current directory. Hence, the opening\n",
    "of the `spg` file from scripts in `welease.ipynb` can be made\n",
    "by the command:\n",
    "\n",
    "```ipython\n",
    "X = scp.read('Life/wodger.spg')\n",
    "```\n",
    "\n",
    "or:\n",
    "\n",
    "```ipython\n",
    "X = scp.read('wodger.spg', directory='Life')\n",
    "```\n",
    "\n",
    "### Use os or pathlib packages\n",
    "\n",
    "In python, working with pathnames is classically done with dedicated modules such as\n",
    "`os` or `pathlib` python modules.\n",
    "With `os` we mention the following methods that can be particularly useful:\n",
    "\n",
    "```ipython\n",
    "import os\n",
    "os.getcwd()              # returns the absolute path of the current working directory\n",
    "                         # preferences.datadir\n",
    "os.path.expanduser(\"~\")  # returns the home directory of the user\n",
    "os.path.join('path1','path2','path3', ...)\n",
    "                         # intelligently concatenates path components\n",
    "                         # using the system separator (`/` or `\\\\` )\n",
    "```\n",
    "\n",
    "Using `Pathlib` is even simpler:\n",
    "\n",
    "```ipython\n",
    "from pathlib import Path\n",
    "Path.cwd()               # returns the absolute path of the current working directory\n",
    "Path.home()              # returns the home directory of the user\n",
    "Path('path1') / 'path2' / 'path3' / '...'   # intelligently concatenates path\n",
    "components\n",
    "```\n",
    "\n",
    "The interested readers will find more details on the use of these modules here:\n",
    "\n",
    "- [os](https://docs.python.org/3/library/os.html)\n",
    "- [pathlib](https://docs.python.org/3/library/pathlib.html)\n",
    "\n",
    "#### Another default search directory: datadir\n",
    "\n",
    "Spectrochempy also comes with the definition of a second default directory path where\n",
    "to look at the data: the `datadir` directory. It is defined in the variable `preferences.datadir` which\n",
    "is imported at the same time as spectrochempy. By default, `datadir` points in the\n",
    "'$HOME/.spectrochempy/tesdata' directory.:"
   ]
  },
  {
   "cell_type": "code",
   "execution_count": 4,
   "id": "ab5f59db",
   "metadata": {
    "execution": {
     "iopub.execute_input": "2025-03-09T01:17:18.454388Z",
     "iopub.status.busy": "2025-03-09T01:17:18.454186Z",
     "iopub.status.idle": "2025-03-09T01:17:18.458130Z",
     "shell.execute_reply": "2025-03-09T01:17:18.457633Z"
    }
   },
   "outputs": [
    {
     "data": {
      "text/plain": [
       "PosixPath('/home/runner/.spectrochempy/testdata')"
      ]
     },
     "execution_count": 4,
     "metadata": {},
     "output_type": "execute_result"
    }
   ],
   "source": [
    "DATADIR = scp.preferences.datadir\n",
    "DATADIR"
   ]
  },
  {
   "cell_type": "markdown",
   "id": "df27fe38",
   "metadata": {},
   "source": [
    "DATADIR is already a pathlib object and so can be used easily"
   ]
  },
  {
   "cell_type": "code",
   "execution_count": 5,
   "id": "936247ee",
   "metadata": {
    "execution": {
     "iopub.execute_input": "2025-03-09T01:17:18.459907Z",
     "iopub.status.busy": "2025-03-09T01:17:18.459713Z",
     "iopub.status.idle": "2025-03-09T01:17:18.587875Z",
     "shell.execute_reply": "2025-03-09T01:17:18.587278Z"
    }
   },
   "outputs": [
    {
     "data": {
      "text/html": [
       "<div class='scp-output'><details><summary>NDDataset: [float64] a.u. (shape: (y:2, x:5549))[wodger]</summary><div class=\"scp-output section\"><details><summary>Summary</summary>\n",
       "<div class=\"scp-output section\"><div class=\"attr-name\">         name</div><div>:</div><div class=\"attr-value\"> wodger</div></div>\n",
       "<div class=\"scp-output section\"><div class=\"attr-name\">       author</div><div>:</div><div class=\"attr-value\"> runner@fv-az1696-90</div></div>\n",
       "<div class=\"scp-output section\"><div class=\"attr-name\">      created</div><div>:</div><div class=\"attr-value\"> 2025-03-09 01:17:18+00:00</div></div>\n",
       "<div class=\"scp-output section\"><div class=\"attr-name\">  description</div><div>:</div><div class=\"attr-value\"> <div>Omnic title: wodger.spg<br/>               Omnic filename: /home/runner/.spectrochempy/testdata/wodger.spg</div></div></div>\n",
       "<div class=\"scp-output section\"><div class=\"attr-name\">      history</div><div>:</div><div class=\"attr-value\"> <div>2025-03-09 01:17:18+00:00> Imported from spg file /home/runner/.spectrochempy/testdata/wodger.spg.<br/>               2025-03-09 01:17:18+00:00> Sorted by date</div></div></div></details></div>\n",
       "<div class=\"scp-output section\"><details><summary>          Data </summary>\n",
       "<div class=\"scp-output section\"><div class=\"attr-name\">        title</div><div>:</div><div class=\"attr-value\"> absorbance</div></div>\n",
       "<div class=\"scp-output section\"><div class=\"attr-name\">       values</div><div>:</div><div class=\"attr-value\"> ... </div></div>\n",
       "<div class='numeric'>         [[   2.005    2.003 ...    1.826    1.831]<br/>          [   1.983    1.984 ...    1.698    1.704]] a.u.</div>\n",
       "<div class=\"scp-output section\"><div class=\"attr-name\">        shape</div><div>:</div><div class=\"attr-value\"> (y:2, x:5549)</div></div></details></div>\n",
       "<div class=\"scp-output section\"><details><summary>     Dimension `x`</summary>\n",
       "<div class=\"scp-output section\"><div class=\"attr-name\">         size</div><div>:</div><div class=\"attr-value\"> 5549</div></div>\n",
       "<div class=\"scp-output section\"><div class=\"attr-name\">        title</div><div>:</div><div class=\"attr-value\"> wavenumbers</div></div>\n",
       "<div class=\"scp-output section\"><div class=\"attr-name\">  coordinates</div><div>:</div><div class=\"attr-value\"> <div class='numeric'>[    6000     5999 ...    650.9    649.9] cm⁻¹</div></div></div></details></div>\n",
       "<div class=\"scp-output section\"><details><summary>     Dimension `y`</summary>\n",
       "<div class=\"scp-output section\"><div class=\"attr-name\">         size</div><div>:</div><div class=\"attr-value\"> 2</div></div>\n",
       "<div class=\"scp-output section\"><div class=\"attr-name\">        title</div><div>:</div><div class=\"attr-value\"> acquisition timestamp (GMT)</div></div>\n",
       "<div class=\"scp-output section\"><div class=\"attr-name\">  coordinates</div><div>:</div><div class=\"attr-value\"> <div class='numeric'>[1.468e+09 1.468e+09] s</div></div></div>\n",
       "<div class=\"scp-output section\"><div class=\"attr-name\">       labels</div><div>:</div><div class=\"attr-value\"> ... </div></div>\n",
       "<div class='label'>         [[  vz0470.spa, Wed Jul 06 21:40:37 2016 (GMT+02:00)   2016-07-06 19:43:13+00:00]<br/>          [  vz0468.spa, Wed Jul 06 21:20:38 2016 (GMT+02:00)   2016-07-06 19:23:14+00:00]]</div></details></div></details></div>"
      ],
      "text/plain": [
       "NDDataset: [float64] a.u. (shape: (y:2, x:5549))"
      ]
     },
     "execution_count": 5,
     "metadata": {},
     "output_type": "execute_result"
    }
   ],
   "source": [
    "scp.read_omnic(DATADIR / \"wodger.spg\")"
   ]
  },
  {
   "cell_type": "markdown",
   "id": "03c1f5c5",
   "metadata": {
    "lines_to_next_cell": 0
   },
   "source": [
    "It can be set to another pathname *permanently* (i.e., even after computer restart)\n",
    "by a new assignment:\n",
    "\n",
    "```python\n",
    "scp.preferences.datadir = 'C:/users/Brian/s/Life'\n",
    "```\n",
    "\n",
    "This will change the default value in the SCPy preference file located in the hidden\n",
    "folder\n",
    "` .spectrochempy/` at the root of the user home directory.\n",
    "\n",
    "Finally, by default, the import functions used in Spectrochempy will search the data\n",
    "files using this order of\n",
    "precedence:\n",
    "\n",
    "1. try absolute path\n",
    "2. try in current working directory\n",
    "3. try in `datadir`\n",
    "4. if none of these works: generate an OSError (file or directory not found)\n"
   ]
  },
  {
   "cell_type": "markdown",
   "id": "181b2555",
   "metadata": {},
   "source": [
    "## Reading directories"
   ]
  },
  {
   "cell_type": "markdown",
   "id": "5c02a689",
   "metadata": {},
   "source": [
    "The `read_dir` function is designed to read an entire directory, create NDDatasets for each file, and finally merge all compatible datasets. Let's see an example:"
   ]
  },
  {
   "cell_type": "markdown",
   "id": "b501e5ca",
   "metadata": {},
   "source": [
    "- Here is a list of the files presents in `DATADIR/irdata/subdir/`"
   ]
  },
  {
   "cell_type": "code",
   "execution_count": 6,
   "id": "38f15d4f",
   "metadata": {
    "execution": {
     "iopub.execute_input": "2025-03-09T01:17:18.589917Z",
     "iopub.status.busy": "2025-03-09T01:17:18.589713Z",
     "iopub.status.idle": "2025-03-09T01:17:18.594265Z",
     "shell.execute_reply": "2025-03-09T01:17:18.593744Z"
    }
   },
   "outputs": [
    {
     "data": {
      "text/plain": [
       "['irdata/subdir/TGAIR-unreadable.srs',\n",
       " 'irdata/subdir/7_CZ0-100_Pd_102.SPA',\n",
       " 'irdata/subdir/7_CZ0-100_Pd_103.SPA',\n",
       " 'irdata/subdir/7_CZ0-100_Pd_104.SPA',\n",
       " 'irdata/subdir/7_CZ0-100_Pd_101.SPA']"
      ]
     },
     "execution_count": 6,
     "metadata": {},
     "output_type": "execute_result"
    }
   ],
   "source": [
    "folder = DATADIR / \"irdata\" / \"subdir\"\n",
    "[str(item.relative_to(DATADIR)) for item in folder.glob(\"*.*\")]"
   ]
  },
  {
   "cell_type": "markdown",
   "id": "6e5f0cfa",
   "metadata": {},
   "source": [
    "- Now read all files in the `DATADIR/irdata/subdir/` directory  (*i.e.,*, four `.spa` files and one `.srs` file). Any file in unknown format will be ignored silently:"
   ]
  },
  {
   "cell_type": "code",
   "execution_count": 7,
   "id": "68536de8",
   "metadata": {
    "execution": {
     "iopub.execute_input": "2025-03-09T01:17:18.596176Z",
     "iopub.status.busy": "2025-03-09T01:17:18.595977Z",
     "iopub.status.idle": "2025-03-09T01:17:19.173786Z",
     "shell.execute_reply": "2025-03-09T01:17:19.173171Z"
    },
    "lines_to_next_cell": 0
   },
   "outputs": [
    {
     "data": {
      "text/html": [
       "<div class='scp-output'><details><summary>List (len=2, type=NDDataset)</summary><ul><div class='scp-output section'><div class='scp-output'><details><summary>0: NDDataset: [float64] a.u. (shape: (y:335, x:1868))[dd_6.6_19039_538]</summary><div class=\"scp-output section\"><details><summary>Summary</summary>\n",
       "<div class=\"scp-output section\"><div class=\"attr-name\">         name</div><div>:</div><div class=\"attr-value\"> dd_6.6_19039_538</div></div>\n",
       "<div class=\"scp-output section\"><div class=\"attr-name\">       author</div><div>:</div><div class=\"attr-value\"> runner@fv-az1696-90</div></div>\n",
       "<div class=\"scp-output section\"><div class=\"attr-name\">      created</div><div>:</div><div class=\"attr-value\"> 2025-03-09 01:17:18+00:00</div></div>\n",
       "<div class=\"scp-output section\"><div class=\"attr-name\">  description</div><div>:</div><div class=\"attr-value\"> <div>Concatenation of 1  datasets:<br/>               ( dd_6.6_19039_538 )</div></div></div>\n",
       "<div class=\"scp-output section\"><div class=\"attr-name\">      history</div><div>:</div><div class=\"attr-value\"> <div>2025-03-09 01:17:18+00:00> Created by concatenate<br/>               2025-03-09 01:17:18+00:00> Merged from several files</div></div></div></details></div>\n",
       "<div class=\"scp-output section\"><details><summary>          Data </summary>\n",
       "<div class=\"scp-output section\"><div class=\"attr-name\">        title</div><div>:</div><div class=\"attr-value\"> absorbance</div></div>\n",
       "<div class=\"scp-output section\"><div class=\"attr-name\">       values</div><div>:</div><div class=\"attr-value\"> ... </div></div>\n",
       "<div class='numeric'>         [[-0.007524 -0.0003661 ... 8.291e-05 9.239e-05]<br/>          [-0.009306 -0.002252 ... 0.0001051 0.000107]<br/>          ...<br/>          [ 0.02474  0.02814 ... 0.002962 0.002967]<br/>          [ 0.02663  0.02899 ... 0.002907 0.002916]] a.u.</div>\n",
       "<div class=\"scp-output section\"><div class=\"attr-name\">        shape</div><div>:</div><div class=\"attr-value\"> (y:335, x:1868)</div></div></details></div>\n",
       "<div class=\"scp-output section\"><details><summary>     Dimension `x`</summary>\n",
       "<div class=\"scp-output section\"><div class=\"attr-name\">         size</div><div>:</div><div class=\"attr-value\"> 1868</div></div>\n",
       "<div class=\"scp-output section\"><div class=\"attr-name\">        title</div><div>:</div><div class=\"attr-value\"> wavenumbers</div></div>\n",
       "<div class=\"scp-output section\"><div class=\"attr-name\">  coordinates</div><div>:</div><div class=\"attr-value\"> <div class='numeric'>[    4000     3998 ...    401.1    399.2] cm⁻¹</div></div></div></details></div>\n",
       "<div class=\"scp-output section\"><details><summary>     Dimension `y`</summary>\n",
       "<div class=\"scp-output section\"><div class=\"attr-name\">         size</div><div>:</div><div class=\"attr-value\"> 335</div></div>\n",
       "<div class=\"scp-output section\"><div class=\"attr-name\">        title</div><div>:</div><div class=\"attr-value\"> Time</div></div>\n",
       "<div class=\"scp-output section\"><div class=\"attr-name\">  coordinates</div><div>:</div><div class=\"attr-value\"> <div class='numeric'>[    0.26     0.52 ...    86.76    87.02] min</div></div></div>\n",
       "<div class=\"scp-output section\"><div class=\"attr-name\">       labels</div><div>:</div><div class=\"attr-value\"> ... </div></div>\n",
       "<div class='label'>         [  Verknüpftes Spektrum bei 0,260 Min.<br/>          Ë\u0018<br/>          ÁØs\u0007úË\u0018<br/>          t/ä<br/>          \b/ä<br/>          \b/ä<br/><br/><br/><br/>          ±½@<br/>          ö»Îö¿¹·j»D\u0003»t4\u001f»*<br/>          »Ý©S»£°\u0003»ýóÉº-êÒº\u0010¿p»¢»<br/><br/>          \u0016»[ýéºùH|»<br/>          \t\u0001»Íu\u0005»ää©ºLÊÐºsöþºvÐmºÎG4ºCà¦ºÔÍºÕ<br/>          º\u001b¹¶\u0005:»ñ&Rº*<br/>          Ò:Ý¿9WÅEºÓo<br/>          ºB'ÆºP|_º)ïQ9OÌºÜìº-ºÁrï¹ç<br/>          ±ºð¹¯ºq\u001aHº\u000eIKº                          Verknüpftes Spektrum bei 0,519 Min.<br/>                                                Ë\u0018<br/>                                                ÁØs\u0007úË\u0018<br/>                                                t/ä<br/>                                                \b/ä<br/>                                                \b/ä<br/><br/><br/><br/>                                                îÂ@<br/>                                                y\u0018¼\u0013»¾¯^¹¸\u0011:¸4êº=x»ØÃ1»¼-øº\u0011ÿÉº\u000eÓÅº\u0018[L»×<br/><br/>                                                »£Êp»Õ­@»¤(»ëð¢¹±w 95\u0004ºÍ9ÔºÓà³ºOuºÔ<br/>                                                Ü¹ºm¼BºâÞå7ÛÍ\u00159M\u0013º\u0018,ºJq\u0011:\u0016ò49\tjZºL\u001fÛº\u0010¬ëºÃi¹;ý\u0005:ì) º)vÂº¡ê¹xÕ½·?\u000e³º©ëÁºÀ\u0002<br/>                                                ºó(<br/>                                                ¹                                                                                ...<br/>            Verknüpftes Spektrum bei 86,756 Min.<br/>          Ë\u0018<br/>          ÁØs\u0007úË\u0018<br/>          t/ä<br/>          \b/ä<br/>          \b/ä<br/><br/><br/><br/>          ã!@<br/>          ¡Ê<Læ<ä<\b#n<­<\u0010g<³­U<èx\"<sw\u0010<¿`<Z=\u0019<­\u0007§;6G\u0013<åO/<ñÈ÷;*ß\u001a<<br/>          r\u0012<lf<br/>          <«>\u0014<­<br/>          é;\u0012òÙ;\\<br/>          <â½Ä;\u0011²;ÿÐæ;¤ññ;°Í¹;¡´;ÛYÎ;?å;Þ¦ò;²ø§;hAe;°TÉ;ó÷Ì;dK;úºY;ÛýÀ;j8;ïkª;#G;¸Û;Öþ;<br/>            Verknüpftes Spektrum bei 87,016 Min.<br/>          Ë\u0018<br/>          ÁØs\u0007úË\u0018<br/>          t/ä<br/>          \b/ä<br/>          \b/ä<br/><br/><br/><br/>          0+@<br/>          +1Ú<9}í<<I0<­·¦<ú2<¬Çe<Nï\u000f<|î;32_<VK-<G\\ú;<br/>          B <µ*<;µÖ;ÓÆ\"<ss\u001b<\u0013«\u0010<7<br/>          \u0019<½²ò;ç\u0002\u0004<àP\u0010<ãâ;4Å;vüö;ÑMà;·S;\u0012M;HÃà;¾cö;M¶ü;C;Ö[#;3\u0005Ó;*Ûæ;\u000f6;ýH;R±Ã;ÍN;í\u0011­;j7;oÚ;ú\u0007;]</div></details></div></details></div></div>\n",
       "<div class='scp-output section'><div class='scp-output'><details><summary>1: NDDataset: [float64] a.u. (shape: (y:4, x:5549))[7_CZ0-100 Pd_104]</summary><div class=\"scp-output section\"><details><summary>Summary</summary>\n",
       "<div class=\"scp-output section\"><div class=\"attr-name\">         name</div><div>:</div><div class=\"attr-value\"> 7_CZ0-100 Pd_104</div></div>\n",
       "<div class=\"scp-output section\"><div class=\"attr-name\">       author</div><div>:</div><div class=\"attr-value\"> runner@fv-az1696-90</div></div>\n",
       "<div class=\"scp-output section\"><div class=\"attr-name\">      created</div><div>:</div><div class=\"attr-value\"> 2025-03-09 01:17:18+00:00</div></div>\n",
       "<div class=\"scp-output section\"><div class=\"attr-name\">  description</div><div>:</div><div class=\"attr-value\"> <div>Concatenation of 1  datasets:<br/>               ( 7_CZ0-100 Pd_104 )</div></div></div>\n",
       "<div class=\"scp-output section\"><div class=\"attr-name\">      history</div><div>:</div><div class=\"attr-value\"> <div>2025-03-09 01:17:18+00:00> Created by concatenate<br/>               2025-03-09 01:17:18+00:00> Merged from several files</div></div></div></details></div>\n",
       "<div class=\"scp-output section\"><details><summary>          Data </summary>\n",
       "<div class=\"scp-output section\"><div class=\"attr-name\">        title</div><div>:</div><div class=\"attr-value\"> absorbance</div></div>\n",
       "<div class=\"scp-output section\"><div class=\"attr-name\">       values</div><div>:</div><div class=\"attr-value\"> ... </div></div>\n",
       "<div class='numeric'>         [[   1.544    1.543 ...      2.1    2.091]<br/>          [   1.552    1.553 ...    2.161    2.109]<br/>          [   1.461     1.46 ...    2.087    2.088]<br/>          [   1.448    1.447 ...    2.071    2.065]] a.u.</div>\n",
       "<div class=\"scp-output section\"><div class=\"attr-name\">        shape</div><div>:</div><div class=\"attr-value\"> (y:4, x:5549)</div></div></details></div>\n",
       "<div class=\"scp-output section\"><details><summary>     Dimension `x`</summary>\n",
       "<div class=\"scp-output section\"><div class=\"attr-name\">         size</div><div>:</div><div class=\"attr-value\"> 5549</div></div>\n",
       "<div class=\"scp-output section\"><div class=\"attr-name\">        title</div><div>:</div><div class=\"attr-value\"> wavenumbers</div></div>\n",
       "<div class=\"scp-output section\"><div class=\"attr-name\">  coordinates</div><div>:</div><div class=\"attr-value\"> <div class='numeric'>[    6000     5999 ...    650.9    649.9] cm⁻¹</div></div></div></details></div>\n",
       "<div class=\"scp-output section\"><details><summary>     Dimension `y`</summary>\n",
       "<div class=\"scp-output section\"><div class=\"attr-name\">         size</div><div>:</div><div class=\"attr-value\"> 4</div></div>\n",
       "<div class=\"scp-output section\"><div class=\"attr-name\">        title</div><div>:</div><div class=\"attr-value\"> acquisition timestamp (GMT)</div></div>\n",
       "<div class=\"scp-output section\"><div class=\"attr-name\">  coordinates</div><div>:</div><div class=\"attr-value\"> <div class='numeric'>[1.544e+09 1.544e+09 1.544e+09 1.544e+09] s</div></div></div>\n",
       "<div class=\"scp-output section\"><div class=\"attr-name\">       labels</div><div>:</div><div class=\"attr-value\"> ... </div></div>\n",
       "<div class='label'>         [[  2018-11-30 07:10:57+00:00   2018-11-30 07:22:52+00:00   2018-11-30 07:34:49+00:00   2018-11-30 07:46:44+00:00]<br/>          [  /home/runner/.spectrochempy/testdata/irdata/subdir/7_CZ0-100_Pd_101.SPA<br/>             /home/runner/.spectrochempy/testdata/irdata/subdir/7_CZ0-100_Pd_102.SPA<br/>             /home/runner/.spectrochempy/testdata/irdata/subdir/7_CZ0-100_Pd_103.SPA<br/>             /home/runner/.spectrochempy/testdata/irdata/subdir/7_CZ0-100_Pd_104.SPA]]</div></details></div></details></div></div>\n",
       "</details></div>"
      ],
      "text/plain": [
       "[NDDataset: [float64] a.u. (shape: (y:335, x:1868)),\n",
       " NDDataset: [float64] a.u. (shape: (y:4, x:5549))]"
      ]
     },
     "execution_count": 7,
     "metadata": {},
     "output_type": "execute_result"
    }
   ],
   "source": [
    "scp.read_dir(folder)"
   ]
  },
  {
   "cell_type": "markdown",
   "id": "b2051d6d",
   "metadata": {},
   "source": [
    "The above command have read all files in the `DATADIR/irdata/subdir/` directory and merged them into two groups of compatible NDDatasets:\n",
    "\n",
    "* a first `NDDataset` object (id: 0, shape [335,1868]) comes from the single `.srs` file.\n",
    "* a second `NDDataset` object (id: 1, shape [335,1868]) comes from the merging of four `.spa` files."
   ]
  },
  {
   "cell_type": "markdown",
   "id": "ecab09ed",
   "metadata": {
    "lines_to_next_cell": 0
   },
   "source": [
    "Merging  compatible NDDataset is the default behavior of `read_dir`  (or  equivalently `read`). If you want to read the files separately, you can use the `merge=False` keyword:"
   ]
  },
  {
   "cell_type": "code",
   "execution_count": 8,
   "id": "aa3dd53c",
   "metadata": {
    "execution": {
     "iopub.execute_input": "2025-03-09T01:17:19.175839Z",
     "iopub.status.busy": "2025-03-09T01:17:19.175635Z",
     "iopub.status.idle": "2025-03-09T01:17:19.587274Z",
     "shell.execute_reply": "2025-03-09T01:17:19.586672Z"
    }
   },
   "outputs": [
    {
     "data": {
      "text/html": [
       "<div class='scp-output'><details><summary>List (len=5, type=NDDataset)</summary><ul><div class='scp-output section'><div class='scp-output'><details><summary>0: NDDataset: [float64] a.u. (shape: (y:1, x:5549))[7_CZ0-100 Pd_101]</summary><div class=\"scp-output section\"><details><summary>Summary</summary>\n",
       "<div class=\"scp-output section\"><div class=\"attr-name\">         name</div><div>:</div><div class=\"attr-value\"> 7_CZ0-100 Pd_101</div></div>\n",
       "<div class=\"scp-output section\"><div class=\"attr-name\">       author</div><div>:</div><div class=\"attr-value\"> runner@fv-az1696-90</div></div>\n",
       "<div class=\"scp-output section\"><div class=\"attr-name\">      created</div><div>:</div><div class=\"attr-value\"> 2025-03-09 01:17:19+00:00</div></div>\n",
       "<div class=\"scp-output section\"><div class=\"attr-name\">  description</div><div>:</div><div class=\"attr-value\"> <div># Omnic name: 7_CZ0-100 Pd_101<br/>               # Filename: 7_CZ0-100_Pd_101.SPA</div></div></div>\n",
       "<div class=\"scp-output section\"><div class=\"attr-name\">      history</div><div>:</div><div class=\"attr-value\"> <div>2025-03-09 01:17:19+00:00> Imported from spa file(s)<br/>               2025-03-09 01:17:19+00:00> Data processing history from Omnic :<br/>               ------------------------------------<br/>               Acquisition échantillon\r",
       "<br/>               \t Background acquis le Ven Nov 30 08:03:45 2018 (GMT+01:00)\r",
       "<br/>               \t Format Final :\tAbsorbance\r",
       "<br/>               \t Résolution:\t 4,000 de 649,9207 à 5999,7134\r",
       "<br/>               \t Roue de validation: 0\r",
       "<br/>               \t Roue porte écran atténuation: Vide\r",
       "<br/>               \t Numéro Série du banc:ALK1100494</div></div></div></details></div>\n",
       "<div class=\"scp-output section\"><details><summary>          Data </summary>\n",
       "<div class=\"scp-output section\"><div class=\"attr-name\">        title</div><div>:</div><div class=\"attr-value\"> absorbance</div></div>\n",
       "<div class=\"scp-output section\"><div class=\"attr-name\">       values</div><div>:</div><div class=\"attr-value\"> ... </div></div>\n",
       "<div class='numeric'>         [[   1.544    1.543 ...      2.1    2.091]] a.u.</div>\n",
       "<div class=\"scp-output section\"><div class=\"attr-name\">        shape</div><div>:</div><div class=\"attr-value\"> (y:1, x:5549)</div></div></details></div>\n",
       "<div class=\"scp-output section\"><details><summary>     Dimension `x`</summary>\n",
       "<div class=\"scp-output section\"><div class=\"attr-name\">         size</div><div>:</div><div class=\"attr-value\"> 5549</div></div>\n",
       "<div class=\"scp-output section\"><div class=\"attr-name\">        title</div><div>:</div><div class=\"attr-value\"> wavenumbers</div></div>\n",
       "<div class=\"scp-output section\"><div class=\"attr-name\">  coordinates</div><div>:</div><div class=\"attr-value\"> <div class='numeric'>[    6000     5999 ...    650.9    649.9] cm⁻¹</div></div></div></details></div>\n",
       "<div class=\"scp-output section\"><details><summary>     Dimension `y`</summary>\n",
       "<div class=\"scp-output section\"><div class=\"attr-name\">         size</div><div>:</div><div class=\"attr-value\"> 1</div></div>\n",
       "<div class=\"scp-output section\"><div class=\"attr-name\">        title</div><div>:</div><div class=\"attr-value\"> acquisition timestamp (GMT)</div></div>\n",
       "<div class=\"scp-output section\"><div class=\"attr-name\">  coordinates</div><div>:</div><div class=\"attr-value\"> <div class='numeric'>[1.544e+09] s</div></div></div>\n",
       "<div class=\"scp-output section\"><div class=\"attr-name\">       labels</div><div>:</div><div class=\"attr-value\"> ... </div></div>\n",
       "<div class='label'>         [[  2018-11-30 07:10:57+00:00]<br/>          [  /home/runner/.spectrochempy/testdata/irdata/subdir/7_CZ0-100_Pd_101.SPA]]</div></details></div></details></div></div>\n",
       "<div class='scp-output section'><div class='scp-output'><details><summary>1: NDDataset: [float64] a.u. (shape: (y:1, x:5549))[7_CZ0-100 Pd_102]</summary><div class=\"scp-output section\"><details><summary>Summary</summary>\n",
       "<div class=\"scp-output section\"><div class=\"attr-name\">         name</div><div>:</div><div class=\"attr-value\"> 7_CZ0-100 Pd_102</div></div>\n",
       "<div class=\"scp-output section\"><div class=\"attr-name\">       author</div><div>:</div><div class=\"attr-value\"> runner@fv-az1696-90</div></div>\n",
       "<div class=\"scp-output section\"><div class=\"attr-name\">      created</div><div>:</div><div class=\"attr-value\"> 2025-03-09 01:17:19+00:00</div></div>\n",
       "<div class=\"scp-output section\"><div class=\"attr-name\">  description</div><div>:</div><div class=\"attr-value\"> <div># Omnic name: 7_CZ0-100 Pd_102<br/>               # Filename: 7_CZ0-100_Pd_102.SPA</div></div></div>\n",
       "<div class=\"scp-output section\"><div class=\"attr-name\">      history</div><div>:</div><div class=\"attr-value\"> <div>2025-03-09 01:17:19+00:00> Imported from spa file(s)<br/>               2025-03-09 01:17:19+00:00> Data processing history from Omnic :<br/>               ------------------------------------<br/>               Acquisition échantillon\r",
       "<br/>               \t Background acquis le Ven Nov 30 08:12:56 2018 (GMT+01:00)\r",
       "<br/>               \t Format Final :\tAbsorbance\r",
       "<br/>               \t Résolution:\t 4,000 de 649,9207 à 5999,7134\r",
       "<br/>               \t Roue de validation: 0\r",
       "<br/>               \t Roue porte écran atténuation: Vide\r",
       "<br/>               \t Numéro Série du banc:ALK1100494</div></div></div></details></div>\n",
       "<div class=\"scp-output section\"><details><summary>          Data </summary>\n",
       "<div class=\"scp-output section\"><div class=\"attr-name\">        title</div><div>:</div><div class=\"attr-value\"> absorbance</div></div>\n",
       "<div class=\"scp-output section\"><div class=\"attr-name\">       values</div><div>:</div><div class=\"attr-value\"> ... </div></div>\n",
       "<div class='numeric'>         [[   1.552    1.553 ...    2.161    2.109]] a.u.</div>\n",
       "<div class=\"scp-output section\"><div class=\"attr-name\">        shape</div><div>:</div><div class=\"attr-value\"> (y:1, x:5549)</div></div></details></div>\n",
       "<div class=\"scp-output section\"><details><summary>     Dimension `x`</summary>\n",
       "<div class=\"scp-output section\"><div class=\"attr-name\">         size</div><div>:</div><div class=\"attr-value\"> 5549</div></div>\n",
       "<div class=\"scp-output section\"><div class=\"attr-name\">        title</div><div>:</div><div class=\"attr-value\"> wavenumbers</div></div>\n",
       "<div class=\"scp-output section\"><div class=\"attr-name\">  coordinates</div><div>:</div><div class=\"attr-value\"> <div class='numeric'>[    6000     5999 ...    650.9    649.9] cm⁻¹</div></div></div></details></div>\n",
       "<div class=\"scp-output section\"><details><summary>     Dimension `y`</summary>\n",
       "<div class=\"scp-output section\"><div class=\"attr-name\">         size</div><div>:</div><div class=\"attr-value\"> 1</div></div>\n",
       "<div class=\"scp-output section\"><div class=\"attr-name\">        title</div><div>:</div><div class=\"attr-value\"> acquisition timestamp (GMT)</div></div>\n",
       "<div class=\"scp-output section\"><div class=\"attr-name\">  coordinates</div><div>:</div><div class=\"attr-value\"> <div class='numeric'>[1.544e+09] s</div></div></div>\n",
       "<div class=\"scp-output section\"><div class=\"attr-name\">       labels</div><div>:</div><div class=\"attr-value\"> ... </div></div>\n",
       "<div class='label'>         [[  2018-11-30 07:22:52+00:00]<br/>          [  /home/runner/.spectrochempy/testdata/irdata/subdir/7_CZ0-100_Pd_102.SPA]]</div></details></div></details></div></div>\n",
       "<div class='scp-output section'><div class='scp-output'><details><summary>2: NDDataset: [float64] a.u. (shape: (y:1, x:5549))[7_CZ0-100 Pd_103]</summary><div class=\"scp-output section\"><details><summary>Summary</summary>\n",
       "<div class=\"scp-output section\"><div class=\"attr-name\">         name</div><div>:</div><div class=\"attr-value\"> 7_CZ0-100 Pd_103</div></div>\n",
       "<div class=\"scp-output section\"><div class=\"attr-name\">       author</div><div>:</div><div class=\"attr-value\"> runner@fv-az1696-90</div></div>\n",
       "<div class=\"scp-output section\"><div class=\"attr-name\">      created</div><div>:</div><div class=\"attr-value\"> 2025-03-09 01:17:19+00:00</div></div>\n",
       "<div class=\"scp-output section\"><div class=\"attr-name\">  description</div><div>:</div><div class=\"attr-value\"> <div># Omnic name: 7_CZ0-100 Pd_103<br/>               # Filename: 7_CZ0-100_Pd_103.SPA</div></div></div>\n",
       "<div class=\"scp-output section\"><div class=\"attr-name\">      history</div><div>:</div><div class=\"attr-value\"> <div>2025-03-09 01:17:19+00:00> Imported from spa file(s)<br/>               2025-03-09 01:17:19+00:00> Data processing history from Omnic :<br/>               ------------------------------------<br/>               Acquisition échantillon\r",
       "<br/>               \t Background acquis le Ven Nov 30 08:24:51 2018 (GMT+01:00)\r",
       "<br/>               \t Format Final :\tAbsorbance\r",
       "<br/>               \t Résolution:\t 4,000 de 649,9207 à 5999,7134\r",
       "<br/>               \t Roue de validation: 0\r",
       "<br/>               \t Roue porte écran atténuation: Vide\r",
       "<br/>               \t Numéro Série du banc:ALK1100494</div></div></div></details></div>\n",
       "<div class=\"scp-output section\"><details><summary>          Data </summary>\n",
       "<div class=\"scp-output section\"><div class=\"attr-name\">        title</div><div>:</div><div class=\"attr-value\"> absorbance</div></div>\n",
       "<div class=\"scp-output section\"><div class=\"attr-name\">       values</div><div>:</div><div class=\"attr-value\"> ... </div></div>\n",
       "<div class='numeric'>         [[   1.461     1.46 ...    2.087    2.088]] a.u.</div>\n",
       "<div class=\"scp-output section\"><div class=\"attr-name\">        shape</div><div>:</div><div class=\"attr-value\"> (y:1, x:5549)</div></div></details></div>\n",
       "<div class=\"scp-output section\"><details><summary>     Dimension `x`</summary>\n",
       "<div class=\"scp-output section\"><div class=\"attr-name\">         size</div><div>:</div><div class=\"attr-value\"> 5549</div></div>\n",
       "<div class=\"scp-output section\"><div class=\"attr-name\">        title</div><div>:</div><div class=\"attr-value\"> wavenumbers</div></div>\n",
       "<div class=\"scp-output section\"><div class=\"attr-name\">  coordinates</div><div>:</div><div class=\"attr-value\"> <div class='numeric'>[    6000     5999 ...    650.9    649.9] cm⁻¹</div></div></div></details></div>\n",
       "<div class=\"scp-output section\"><details><summary>     Dimension `y`</summary>\n",
       "<div class=\"scp-output section\"><div class=\"attr-name\">         size</div><div>:</div><div class=\"attr-value\"> 1</div></div>\n",
       "<div class=\"scp-output section\"><div class=\"attr-name\">        title</div><div>:</div><div class=\"attr-value\"> acquisition timestamp (GMT)</div></div>\n",
       "<div class=\"scp-output section\"><div class=\"attr-name\">  coordinates</div><div>:</div><div class=\"attr-value\"> <div class='numeric'>[1.544e+09] s</div></div></div>\n",
       "<div class=\"scp-output section\"><div class=\"attr-name\">       labels</div><div>:</div><div class=\"attr-value\"> ... </div></div>\n",
       "<div class='label'>         [[  2018-11-30 07:34:49+00:00]<br/>          [  /home/runner/.spectrochempy/testdata/irdata/subdir/7_CZ0-100_Pd_103.SPA]]</div></details></div></details></div></div>\n",
       "<div class='scp-output section'><div class='scp-output'><details><summary>3: NDDataset: [float64] a.u. (shape: (y:1, x:5549))[7_CZ0-100 Pd_104]</summary><div class=\"scp-output section\"><details><summary>Summary</summary>\n",
       "<div class=\"scp-output section\"><div class=\"attr-name\">         name</div><div>:</div><div class=\"attr-value\"> 7_CZ0-100 Pd_104</div></div>\n",
       "<div class=\"scp-output section\"><div class=\"attr-name\">       author</div><div>:</div><div class=\"attr-value\"> runner@fv-az1696-90</div></div>\n",
       "<div class=\"scp-output section\"><div class=\"attr-name\">      created</div><div>:</div><div class=\"attr-value\"> 2025-03-09 01:17:19+00:00</div></div>\n",
       "<div class=\"scp-output section\"><div class=\"attr-name\">  description</div><div>:</div><div class=\"attr-value\"> <div># Omnic name: 7_CZ0-100 Pd_104<br/>               # Filename: 7_CZ0-100_Pd_104.SPA</div></div></div>\n",
       "<div class=\"scp-output section\"><div class=\"attr-name\">      history</div><div>:</div><div class=\"attr-value\"> <div>2025-03-09 01:17:19+00:00> Imported from spa file(s)<br/>               2025-03-09 01:17:19+00:00> Data processing history from Omnic :<br/>               ------------------------------------<br/>               Acquisition échantillon\r",
       "<br/>               \t Background acquis le Ven Nov 30 08:36:47 2018 (GMT+01:00)\r",
       "<br/>               \t Format Final :\tAbsorbance\r",
       "<br/>               \t Résolution:\t 4,000 de 649,9207 à 5999,7134\r",
       "<br/>               \t Roue de validation: 0\r",
       "<br/>               \t Roue porte écran atténuation: Vide\r",
       "<br/>               \t Numéro Série du banc:ALK1100494</div></div></div></details></div>\n",
       "<div class=\"scp-output section\"><details><summary>          Data </summary>\n",
       "<div class=\"scp-output section\"><div class=\"attr-name\">        title</div><div>:</div><div class=\"attr-value\"> absorbance</div></div>\n",
       "<div class=\"scp-output section\"><div class=\"attr-name\">       values</div><div>:</div><div class=\"attr-value\"> ... </div></div>\n",
       "<div class='numeric'>         [[   1.448    1.447 ...    2.071    2.065]] a.u.</div>\n",
       "<div class=\"scp-output section\"><div class=\"attr-name\">        shape</div><div>:</div><div class=\"attr-value\"> (y:1, x:5549)</div></div></details></div>\n",
       "<div class=\"scp-output section\"><details><summary>     Dimension `x`</summary>\n",
       "<div class=\"scp-output section\"><div class=\"attr-name\">         size</div><div>:</div><div class=\"attr-value\"> 5549</div></div>\n",
       "<div class=\"scp-output section\"><div class=\"attr-name\">        title</div><div>:</div><div class=\"attr-value\"> wavenumbers</div></div>\n",
       "<div class=\"scp-output section\"><div class=\"attr-name\">  coordinates</div><div>:</div><div class=\"attr-value\"> <div class='numeric'>[    6000     5999 ...    650.9    649.9] cm⁻¹</div></div></div></details></div>\n",
       "<div class=\"scp-output section\"><details><summary>     Dimension `y`</summary>\n",
       "<div class=\"scp-output section\"><div class=\"attr-name\">         size</div><div>:</div><div class=\"attr-value\"> 1</div></div>\n",
       "<div class=\"scp-output section\"><div class=\"attr-name\">        title</div><div>:</div><div class=\"attr-value\"> acquisition timestamp (GMT)</div></div>\n",
       "<div class=\"scp-output section\"><div class=\"attr-name\">  coordinates</div><div>:</div><div class=\"attr-value\"> <div class='numeric'>[1.544e+09] s</div></div></div>\n",
       "<div class=\"scp-output section\"><div class=\"attr-name\">       labels</div><div>:</div><div class=\"attr-value\"> ... </div></div>\n",
       "<div class='label'>         [[  2018-11-30 07:46:44+00:00]<br/>          [  /home/runner/.spectrochempy/testdata/irdata/subdir/7_CZ0-100_Pd_104.SPA]]</div></details></div></details></div></div>\n",
       "<div class='scp-output section'><div class='scp-output'><details><summary>4: NDDataset: [float64] a.u. (shape: (y:335, x:1868))[dd_6.6_19039_538]</summary><div class=\"scp-output section\"><details><summary>Summary</summary>\n",
       "<div class=\"scp-output section\"><div class=\"attr-name\">         name</div><div>:</div><div class=\"attr-value\"> dd_6.6_19039_538</div></div>\n",
       "<div class=\"scp-output section\"><div class=\"attr-name\">       author</div><div>:</div><div class=\"attr-value\"> runner@fv-az1696-90</div></div>\n",
       "<div class=\"scp-output section\"><div class=\"attr-name\">      created</div><div>:</div><div class=\"attr-value\"> 2025-03-09 01:17:19+00:00</div></div>\n",
       "<div class=\"scp-output section\"><div class=\"attr-name\">  description</div><div>:</div><div class=\"attr-value\"> <div>Dataset from omnic srs file.</div></div></div></details></div>\n",
       "<div class=\"scp-output section\"><details><summary>          Data </summary>\n",
       "<div class=\"scp-output section\"><div class=\"attr-name\">        title</div><div>:</div><div class=\"attr-value\"> absorbance</div></div>\n",
       "<div class=\"scp-output section\"><div class=\"attr-name\">       values</div><div>:</div><div class=\"attr-value\"> ... </div></div>\n",
       "<div class='numeric'>         [[-0.007524 -0.0003661 ... 8.291e-05 9.239e-05]<br/>          [-0.009306 -0.002252 ... 0.0001051 0.000107]<br/>          ...<br/>          [ 0.02474  0.02814 ... 0.002962 0.002967]<br/>          [ 0.02663  0.02899 ... 0.002907 0.002916]] a.u.</div>\n",
       "<div class=\"scp-output section\"><div class=\"attr-name\">        shape</div><div>:</div><div class=\"attr-value\"> (y:335, x:1868)</div></div></details></div>\n",
       "<div class=\"scp-output section\"><details><summary>     Dimension `x`</summary>\n",
       "<div class=\"scp-output section\"><div class=\"attr-name\">         size</div><div>:</div><div class=\"attr-value\"> 1868</div></div>\n",
       "<div class=\"scp-output section\"><div class=\"attr-name\">        title</div><div>:</div><div class=\"attr-value\"> wavenumbers</div></div>\n",
       "<div class=\"scp-output section\"><div class=\"attr-name\">  coordinates</div><div>:</div><div class=\"attr-value\"> <div class='numeric'>[    4000     3998 ...    401.1    399.2] cm⁻¹</div></div></div></details></div>\n",
       "<div class=\"scp-output section\"><details><summary>     Dimension `y`</summary>\n",
       "<div class=\"scp-output section\"><div class=\"attr-name\">         size</div><div>:</div><div class=\"attr-value\"> 335</div></div>\n",
       "<div class=\"scp-output section\"><div class=\"attr-name\">        title</div><div>:</div><div class=\"attr-value\"> Time</div></div>\n",
       "<div class=\"scp-output section\"><div class=\"attr-name\">  coordinates</div><div>:</div><div class=\"attr-value\"> <div class='numeric'>[    0.26     0.52 ...    86.76    87.02] min</div></div></div>\n",
       "<div class=\"scp-output section\"><div class=\"attr-name\">       labels</div><div>:</div><div class=\"attr-value\"> ... </div></div>\n",
       "<div class='label'>         [  Verknüpftes Spektrum bei 0,260 Min.<br/>          Ë\u0018<br/>          ÁØs\u0007úË\u0018<br/>          t/ä<br/>          \b/ä<br/>          \b/ä<br/><br/><br/><br/>          ±½@<br/>          ö»Îö¿¹·j»D\u0003»t4\u001f»*<br/>          »Ý©S»£°\u0003»ýóÉº-êÒº\u0010¿p»¢»<br/><br/>          \u0016»[ýéºùH|»<br/>          \t\u0001»Íu\u0005»ää©ºLÊÐºsöþºvÐmºÎG4ºCà¦ºÔÍºÕ<br/>          º\u001b¹¶\u0005:»ñ&Rº*<br/>          Ò:Ý¿9WÅEºÓo<br/>          ºB'ÆºP|_º)ïQ9OÌºÜìº-ºÁrï¹ç<br/>          ±ºð¹¯ºq\u001aHº\u000eIKº                          Verknüpftes Spektrum bei 0,519 Min.<br/>                                                Ë\u0018<br/>                                                ÁØs\u0007úË\u0018<br/>                                                t/ä<br/>                                                \b/ä<br/>                                                \b/ä<br/><br/><br/><br/>                                                îÂ@<br/>                                                y\u0018¼\u0013»¾¯^¹¸\u0011:¸4êº=x»ØÃ1»¼-øº\u0011ÿÉº\u000eÓÅº\u0018[L»×<br/><br/>                                                »£Êp»Õ­@»¤(»ëð¢¹±w 95\u0004ºÍ9ÔºÓà³ºOuºÔ<br/>                                                Ü¹ºm¼BºâÞå7ÛÍ\u00159M\u0013º\u0018,ºJq\u0011:\u0016ò49\tjZºL\u001fÛº\u0010¬ëºÃi¹;ý\u0005:ì) º)vÂº¡ê¹xÕ½·?\u000e³º©ëÁºÀ\u0002<br/>                                                ºó(<br/>                                                ¹                                                                                ...<br/>            Verknüpftes Spektrum bei 86,756 Min.<br/>          Ë\u0018<br/>          ÁØs\u0007úË\u0018<br/>          t/ä<br/>          \b/ä<br/>          \b/ä<br/><br/><br/><br/>          ã!@<br/>          ¡Ê<Læ<ä<\b#n<­<\u0010g<³­U<èx\"<sw\u0010<¿`<Z=\u0019<­\u0007§;6G\u0013<åO/<ñÈ÷;*ß\u001a<<br/>          r\u0012<lf<br/>          <«>\u0014<­<br/>          é;\u0012òÙ;\\<br/>          <â½Ä;\u0011²;ÿÐæ;¤ññ;°Í¹;¡´;ÛYÎ;?å;Þ¦ò;²ø§;hAe;°TÉ;ó÷Ì;dK;úºY;ÛýÀ;j8;ïkª;#G;¸Û;Öþ;<br/>            Verknüpftes Spektrum bei 87,016 Min.<br/>          Ë\u0018<br/>          ÁØs\u0007úË\u0018<br/>          t/ä<br/>          \b/ä<br/>          \b/ä<br/><br/><br/><br/>          0+@<br/>          +1Ú<9}í<<I0<­·¦<ú2<¬Çe<Nï\u000f<|î;32_<VK-<G\\ú;<br/>          B <µ*<;µÖ;ÓÆ\"<ss\u001b<\u0013«\u0010<7<br/>          \u0019<½²ò;ç\u0002\u0004<àP\u0010<ãâ;4Å;vüö;ÑMà;·S;\u0012M;HÃà;¾cö;M¶ü;C;Ö[#;3\u0005Ó;*Ûæ;\u000f6;ýH;R±Ã;ÍN;í\u0011­;j7;oÚ;ú\u0007;]</div></details></div></details></div></div>\n",
       "</details></div>"
      ],
      "text/plain": [
       "[NDDataset: [float64] a.u. (shape: (y:1, x:5549)),\n",
       " NDDataset: [float64] a.u. (shape: (y:1, x:5549)),\n",
       " NDDataset: [float64] a.u. (shape: (y:1, x:5549)),\n",
       " NDDataset: [float64] a.u. (shape: (y:1, x:5549)),\n",
       " NDDataset: [float64] a.u. (shape: (y:335, x:1868))]"
      ]
     },
     "execution_count": 8,
     "metadata": {},
     "output_type": "execute_result"
    }
   ],
   "source": [
    "scp.read_dir(folder, merge=False)"
   ]
  },
  {
   "cell_type": "markdown",
   "id": "de72d29a",
   "metadata": {},
   "source": [
    "As expected the result is a list of 5 NDDataset objects, one for each file in the directory."
   ]
  },
  {
   "cell_type": "markdown",
   "id": "3400ba46",
   "metadata": {},
   "source": [
    "## Additional options for reading directories"
   ]
  },
  {
   "cell_type": "markdown",
   "id": "5e91608d",
   "metadata": {},
   "source": [
    "The `read_dir`/`read` function has additional options to control the behavior of the reading process:\n",
    "\n",
    "- `recursive`: if `True`, the function will scan the directory recursively and read all supported files in all subdirectories.\n",
    "- `pattern`: a string or a list of strings that can be used to filter the files to be read. Only files whose name matches the pattern will be read."
   ]
  },
  {
   "cell_type": "markdown",
   "id": "03d74247",
   "metadata": {},
   "source": [
    "Let's see an example with the `recursive` option:\n",
    "\n",
    "First we list files in all directories under `DATADIR/irdata/subdir/`:"
   ]
  },
  {
   "cell_type": "code",
   "execution_count": 9,
   "id": "8693e4fb",
   "metadata": {
    "execution": {
     "iopub.execute_input": "2025-03-09T01:17:19.589657Z",
     "iopub.status.busy": "2025-03-09T01:17:19.589215Z",
     "iopub.status.idle": "2025-03-09T01:17:19.594315Z",
     "shell.execute_reply": "2025-03-09T01:17:19.593640Z"
    }
   },
   "outputs": [
    {
     "data": {
      "text/plain": [
       "['irdata/subdir/TGAIR-unreadable.srs',\n",
       " 'irdata/subdir/7_CZ0-100_Pd_102.SPA',\n",
       " 'irdata/subdir/7_CZ0-100_Pd_103.SPA',\n",
       " 'irdata/subdir/7_CZ0-100_Pd_104.SPA',\n",
       " 'irdata/subdir/7_CZ0-100_Pd_101.SPA',\n",
       " 'irdata/subdir/1-20/7_CZ0-100_Pd_3.SPA',\n",
       " 'irdata/subdir/1-20/7_CZ0-100_Pd_5.SPA',\n",
       " 'irdata/subdir/1-20/7_CZ0-100_Pd_4.SPA',\n",
       " 'irdata/subdir/20-50/7_CZ0-100_Pd_21.SPA']"
      ]
     },
     "execution_count": 9,
     "metadata": {},
     "output_type": "execute_result"
    }
   ],
   "source": [
    "[str(item.relative_to(DATADIR)) for item in folder.glob(\"**/*.*\")]"
   ]
  },
  {
   "cell_type": "markdown",
   "id": "8873002a",
   "metadata": {
    "lines_to_next_cell": 0
   },
   "source": [
    "the ìrdata/subdir/` directory contains two subdirectory `1-20` and `20-50` with two additional `.spa` files.\n",
    "\n",
    "Now we read all files (a total of 9) in the `DATADIR/irdata/subdir/` directory and its subdirectories:"
   ]
  },
  {
   "cell_type": "code",
   "execution_count": 10,
   "id": "0ad56dfa",
   "metadata": {
    "execution": {
     "iopub.execute_input": "2025-03-09T01:17:19.596417Z",
     "iopub.status.busy": "2025-03-09T01:17:19.596048Z",
     "iopub.status.idle": "2025-03-09T01:17:20.043867Z",
     "shell.execute_reply": "2025-03-09T01:17:20.043165Z"
    },
    "lines_to_next_cell": 0
   },
   "outputs": [
    {
     "data": {
      "text/html": [
       "<div class='scp-output'><details><summary>List (len=9, type=NDDataset)</summary><ul><div class='scp-output section'><div class='scp-output'><details><summary>0: NDDataset: [float64] a.u. (shape: (y:1, x:5549))[7_CZ0-100 Pd_3]</summary><div class=\"scp-output section\"><details><summary>Summary</summary>\n",
       "<div class=\"scp-output section\"><div class=\"attr-name\">         name</div><div>:</div><div class=\"attr-value\"> 7_CZ0-100 Pd_3</div></div>\n",
       "<div class=\"scp-output section\"><div class=\"attr-name\">       author</div><div>:</div><div class=\"attr-value\"> runner@fv-az1696-90</div></div>\n",
       "<div class=\"scp-output section\"><div class=\"attr-name\">      created</div><div>:</div><div class=\"attr-value\"> 2025-03-09 01:17:19+00:00</div></div>\n",
       "<div class=\"scp-output section\"><div class=\"attr-name\">  description</div><div>:</div><div class=\"attr-value\"> <div># Omnic name: 7_CZ0-100 Pd_3<br/>               # Filename: 7_CZ0-100_Pd_3.SPA</div></div></div>\n",
       "<div class=\"scp-output section\"><div class=\"attr-name\">      history</div><div>:</div><div class=\"attr-value\"> <div>2025-03-09 01:17:19+00:00> Imported from spa file(s)<br/>               2025-03-09 01:17:19+00:00> Data processing history from Omnic :<br/>               ------------------------------------<br/>               Acquisition échantillon\r",
       "<br/>               \t Background acquis le Jeu Nov 29 17:13:06 2018 (GMT+01:00)\r",
       "<br/>               \t Format Final :\tAbsorbance\r",
       "<br/>               \t Résolution:\t 4,000 de 649,9207 à 5999,7134\r",
       "<br/>               \t Roue de validation: 0\r",
       "<br/>               \t Roue porte écran atténuation: Vide\r",
       "<br/>               \t Numéro Série du banc:ALK1100494</div></div></div></details></div>\n",
       "<div class=\"scp-output section\"><details><summary>          Data </summary>\n",
       "<div class=\"scp-output section\"><div class=\"attr-name\">        title</div><div>:</div><div class=\"attr-value\"> absorbance</div></div>\n",
       "<div class=\"scp-output section\"><div class=\"attr-name\">       values</div><div>:</div><div class=\"attr-value\"> ... </div></div>\n",
       "<div class='numeric'>         [[   1.245    1.245 ...    1.311    1.307]] a.u.</div>\n",
       "<div class=\"scp-output section\"><div class=\"attr-name\">        shape</div><div>:</div><div class=\"attr-value\"> (y:1, x:5549)</div></div></details></div>\n",
       "<div class=\"scp-output section\"><details><summary>     Dimension `x`</summary>\n",
       "<div class=\"scp-output section\"><div class=\"attr-name\">         size</div><div>:</div><div class=\"attr-value\"> 5549</div></div>\n",
       "<div class=\"scp-output section\"><div class=\"attr-name\">        title</div><div>:</div><div class=\"attr-value\"> wavenumbers</div></div>\n",
       "<div class=\"scp-output section\"><div class=\"attr-name\">  coordinates</div><div>:</div><div class=\"attr-value\"> <div class='numeric'>[    6000     5999 ...    650.9    649.9] cm⁻¹</div></div></div></details></div>\n",
       "<div class=\"scp-output section\"><details><summary>     Dimension `y`</summary>\n",
       "<div class=\"scp-output section\"><div class=\"attr-name\">         size</div><div>:</div><div class=\"attr-value\"> 1</div></div>\n",
       "<div class=\"scp-output section\"><div class=\"attr-name\">        title</div><div>:</div><div class=\"attr-value\"> acquisition timestamp (GMT)</div></div>\n",
       "<div class=\"scp-output section\"><div class=\"attr-name\">  coordinates</div><div>:</div><div class=\"attr-value\"> <div class='numeric'>[1.544e+09] s</div></div></div>\n",
       "<div class=\"scp-output section\"><div class=\"attr-name\">       labels</div><div>:</div><div class=\"attr-value\"> ... </div></div>\n",
       "<div class='label'>         [[  2018-11-29 16:23:05+00:00]<br/>          [  /home/runner/.spectrochempy/testdata/irdata/subdir/1-20/7_CZ0-100_Pd_3.SPA]]</div></details></div></details></div></div>\n",
       "<div class='scp-output section'><div class='scp-output'><details><summary>1: NDDataset: [float64] a.u. (shape: (y:1, x:5549))[7_CZ0-100 Pd_4]</summary><div class=\"scp-output section\"><details><summary>Summary</summary>\n",
       "<div class=\"scp-output section\"><div class=\"attr-name\">         name</div><div>:</div><div class=\"attr-value\"> 7_CZ0-100 Pd_4</div></div>\n",
       "<div class=\"scp-output section\"><div class=\"attr-name\">       author</div><div>:</div><div class=\"attr-value\"> runner@fv-az1696-90</div></div>\n",
       "<div class=\"scp-output section\"><div class=\"attr-name\">      created</div><div>:</div><div class=\"attr-value\"> 2025-03-09 01:17:19+00:00</div></div>\n",
       "<div class=\"scp-output section\"><div class=\"attr-name\">  description</div><div>:</div><div class=\"attr-value\"> <div># Omnic name: 7_CZ0-100 Pd_4<br/>               # Filename: 7_CZ0-100_Pd_4.SPA</div></div></div>\n",
       "<div class=\"scp-output section\"><div class=\"attr-name\">      history</div><div>:</div><div class=\"attr-value\"> <div>2025-03-09 01:17:19+00:00> Imported from spa file(s)<br/>               2025-03-09 01:17:19+00:00> Data processing history from Omnic :<br/>               ------------------------------------<br/>               Acquisition échantillon\r",
       "<br/>               \t Background acquis le Jeu Nov 29 17:25:03 2018 (GMT+01:00)\r",
       "<br/>               \t Format Final :\tAbsorbance\r",
       "<br/>               \t Résolution:\t 4,000 de 649,9207 à 5999,7134\r",
       "<br/>               \t Roue de validation: 0\r",
       "<br/>               \t Roue porte écran atténuation: Vide\r",
       "<br/>               \t Numéro Série du banc:ALK1100494</div></div></div></details></div>\n",
       "<div class=\"scp-output section\"><details><summary>          Data </summary>\n",
       "<div class=\"scp-output section\"><div class=\"attr-name\">        title</div><div>:</div><div class=\"attr-value\"> absorbance</div></div>\n",
       "<div class=\"scp-output section\"><div class=\"attr-name\">       values</div><div>:</div><div class=\"attr-value\"> ... </div></div>\n",
       "<div class='numeric'>         [[   1.245    1.245 ...    1.302    1.299]] a.u.</div>\n",
       "<div class=\"scp-output section\"><div class=\"attr-name\">        shape</div><div>:</div><div class=\"attr-value\"> (y:1, x:5549)</div></div></details></div>\n",
       "<div class=\"scp-output section\"><details><summary>     Dimension `x`</summary>\n",
       "<div class=\"scp-output section\"><div class=\"attr-name\">         size</div><div>:</div><div class=\"attr-value\"> 5549</div></div>\n",
       "<div class=\"scp-output section\"><div class=\"attr-name\">        title</div><div>:</div><div class=\"attr-value\"> wavenumbers</div></div>\n",
       "<div class=\"scp-output section\"><div class=\"attr-name\">  coordinates</div><div>:</div><div class=\"attr-value\"> <div class='numeric'>[    6000     5999 ...    650.9    649.9] cm⁻¹</div></div></div></details></div>\n",
       "<div class=\"scp-output section\"><details><summary>     Dimension `y`</summary>\n",
       "<div class=\"scp-output section\"><div class=\"attr-name\">         size</div><div>:</div><div class=\"attr-value\"> 1</div></div>\n",
       "<div class=\"scp-output section\"><div class=\"attr-name\">        title</div><div>:</div><div class=\"attr-value\"> acquisition timestamp (GMT)</div></div>\n",
       "<div class=\"scp-output section\"><div class=\"attr-name\">  coordinates</div><div>:</div><div class=\"attr-value\"> <div class='numeric'>[1.544e+09] s</div></div></div>\n",
       "<div class=\"scp-output section\"><div class=\"attr-name\">       labels</div><div>:</div><div class=\"attr-value\"> ... </div></div>\n",
       "<div class='label'>         [[  2018-11-29 16:35:00+00:00]<br/>          [  /home/runner/.spectrochempy/testdata/irdata/subdir/1-20/7_CZ0-100_Pd_4.SPA]]</div></details></div></details></div></div>\n",
       "<div class='scp-output section'><div class='scp-output'><details><summary>2: NDDataset: [float64] a.u. (shape: (y:1, x:5549))[7_CZ0-100 Pd_5]</summary><div class=\"scp-output section\"><details><summary>Summary</summary>\n",
       "<div class=\"scp-output section\"><div class=\"attr-name\">         name</div><div>:</div><div class=\"attr-value\"> 7_CZ0-100 Pd_5</div></div>\n",
       "<div class=\"scp-output section\"><div class=\"attr-name\">       author</div><div>:</div><div class=\"attr-value\"> runner@fv-az1696-90</div></div>\n",
       "<div class=\"scp-output section\"><div class=\"attr-name\">      created</div><div>:</div><div class=\"attr-value\"> 2025-03-09 01:17:19+00:00</div></div>\n",
       "<div class=\"scp-output section\"><div class=\"attr-name\">  description</div><div>:</div><div class=\"attr-value\"> <div># Omnic name: 7_CZ0-100 Pd_5<br/>               # Filename: 7_CZ0-100_Pd_5.SPA</div></div></div>\n",
       "<div class=\"scp-output section\"><div class=\"attr-name\">      history</div><div>:</div><div class=\"attr-value\"> <div>2025-03-09 01:17:19+00:00> Imported from spa file(s)<br/>               2025-03-09 01:17:19+00:00> Data processing history from Omnic :<br/>               ------------------------------------<br/>               Acquisition échantillon\r",
       "<br/>               \t Background acquis le Jeu Nov 29 17:36:59 2018 (GMT+01:00)\r",
       "<br/>               \t Format Final :\tAbsorbance\r",
       "<br/>               \t Résolution:\t 4,000 de 649,9207 à 5999,7134\r",
       "<br/>               \t Roue de validation: 0\r",
       "<br/>               \t Roue porte écran atténuation: Vide\r",
       "<br/>               \t Numéro Série du banc:ALK1100494</div></div></div></details></div>\n",
       "<div class=\"scp-output section\"><details><summary>          Data </summary>\n",
       "<div class=\"scp-output section\"><div class=\"attr-name\">        title</div><div>:</div><div class=\"attr-value\"> absorbance</div></div>\n",
       "<div class=\"scp-output section\"><div class=\"attr-name\">       values</div><div>:</div><div class=\"attr-value\"> ... </div></div>\n",
       "<div class='numeric'>         [[   1.236    1.235 ...      1.3    1.296]] a.u.</div>\n",
       "<div class=\"scp-output section\"><div class=\"attr-name\">        shape</div><div>:</div><div class=\"attr-value\"> (y:1, x:5549)</div></div></details></div>\n",
       "<div class=\"scp-output section\"><details><summary>     Dimension `x`</summary>\n",
       "<div class=\"scp-output section\"><div class=\"attr-name\">         size</div><div>:</div><div class=\"attr-value\"> 5549</div></div>\n",
       "<div class=\"scp-output section\"><div class=\"attr-name\">        title</div><div>:</div><div class=\"attr-value\"> wavenumbers</div></div>\n",
       "<div class=\"scp-output section\"><div class=\"attr-name\">  coordinates</div><div>:</div><div class=\"attr-value\"> <div class='numeric'>[    6000     5999 ...    650.9    649.9] cm⁻¹</div></div></div></details></div>\n",
       "<div class=\"scp-output section\"><details><summary>     Dimension `y`</summary>\n",
       "<div class=\"scp-output section\"><div class=\"attr-name\">         size</div><div>:</div><div class=\"attr-value\"> 1</div></div>\n",
       "<div class=\"scp-output section\"><div class=\"attr-name\">        title</div><div>:</div><div class=\"attr-value\"> acquisition timestamp (GMT)</div></div>\n",
       "<div class=\"scp-output section\"><div class=\"attr-name\">  coordinates</div><div>:</div><div class=\"attr-value\"> <div class='numeric'>[1.544e+09] s</div></div></div>\n",
       "<div class=\"scp-output section\"><div class=\"attr-name\">       labels</div><div>:</div><div class=\"attr-value\"> ... </div></div>\n",
       "<div class='label'>         [[  2018-11-29 16:46:56+00:00]<br/>          [  /home/runner/.spectrochempy/testdata/irdata/subdir/1-20/7_CZ0-100_Pd_5.SPA]]</div></details></div></details></div></div>\n",
       "<div class='scp-output section'><div class='scp-output'><details><summary>3: NDDataset: [float64] a.u. (shape: (y:1, x:5549))[7_CZ0-100 Pd_21]</summary><div class=\"scp-output section\"><details><summary>Summary</summary>\n",
       "<div class=\"scp-output section\"><div class=\"attr-name\">         name</div><div>:</div><div class=\"attr-value\"> 7_CZ0-100 Pd_21</div></div>\n",
       "<div class=\"scp-output section\"><div class=\"attr-name\">       author</div><div>:</div><div class=\"attr-value\"> runner@fv-az1696-90</div></div>\n",
       "<div class=\"scp-output section\"><div class=\"attr-name\">      created</div><div>:</div><div class=\"attr-value\"> 2025-03-09 01:17:19+00:00</div></div>\n",
       "<div class=\"scp-output section\"><div class=\"attr-name\">  description</div><div>:</div><div class=\"attr-value\"> <div># Omnic name: 7_CZ0-100 Pd_21<br/>               # Filename: 7_CZ0-100_Pd_21.SPA</div></div></div>\n",
       "<div class=\"scp-output section\"><div class=\"attr-name\">      history</div><div>:</div><div class=\"attr-value\"> <div>2025-03-09 01:17:19+00:00> Imported from spa file(s)<br/>               2025-03-09 01:17:19+00:00> Data processing history from Omnic :<br/>               ------------------------------------<br/>               Acquisition échantillon\r",
       "<br/>               \t Background acquis le Jeu Nov 29 20:48:01 2018 (GMT+01:00)\r",
       "<br/>               \t Format Final :\tAbsorbance\r",
       "<br/>               \t Résolution:\t 4,000 de 649,9207 à 5999,7134\r",
       "<br/>               \t Roue de validation: 0\r",
       "<br/>               \t Roue porte écran atténuation: Vide\r",
       "<br/>               \t Numéro Série du banc:ALK1100494</div></div></div></details></div>\n",
       "<div class=\"scp-output section\"><details><summary>          Data </summary>\n",
       "<div class=\"scp-output section\"><div class=\"attr-name\">        title</div><div>:</div><div class=\"attr-value\"> absorbance</div></div>\n",
       "<div class=\"scp-output section\"><div class=\"attr-name\">       values</div><div>:</div><div class=\"attr-value\"> ... </div></div>\n",
       "<div class='numeric'>         [[   1.234    1.233 ...    1.291    1.288]] a.u.</div>\n",
       "<div class=\"scp-output section\"><div class=\"attr-name\">        shape</div><div>:</div><div class=\"attr-value\"> (y:1, x:5549)</div></div></details></div>\n",
       "<div class=\"scp-output section\"><details><summary>     Dimension `x`</summary>\n",
       "<div class=\"scp-output section\"><div class=\"attr-name\">         size</div><div>:</div><div class=\"attr-value\"> 5549</div></div>\n",
       "<div class=\"scp-output section\"><div class=\"attr-name\">        title</div><div>:</div><div class=\"attr-value\"> wavenumbers</div></div>\n",
       "<div class=\"scp-output section\"><div class=\"attr-name\">  coordinates</div><div>:</div><div class=\"attr-value\"> <div class='numeric'>[    6000     5999 ...    650.9    649.9] cm⁻¹</div></div></div></details></div>\n",
       "<div class=\"scp-output section\"><details><summary>     Dimension `y`</summary>\n",
       "<div class=\"scp-output section\"><div class=\"attr-name\">         size</div><div>:</div><div class=\"attr-value\"> 1</div></div>\n",
       "<div class=\"scp-output section\"><div class=\"attr-name\">        title</div><div>:</div><div class=\"attr-value\"> acquisition timestamp (GMT)</div></div>\n",
       "<div class=\"scp-output section\"><div class=\"attr-name\">  coordinates</div><div>:</div><div class=\"attr-value\"> <div class='numeric'>[1.544e+09] s</div></div></div>\n",
       "<div class=\"scp-output section\"><div class=\"attr-name\">       labels</div><div>:</div><div class=\"attr-value\"> ... </div></div>\n",
       "<div class='label'>         [[  2018-11-29 19:58:01+00:00]<br/>          [  /home/runner/.spectrochempy/testdata/irdata/subdir/20-50/7_CZ0-100_Pd_21.SPA]]</div></details></div></details></div></div>\n",
       "<div class='scp-output section'><div class='scp-output'><details><summary>4: NDDataset: [float64] a.u. (shape: (y:1, x:5549))[7_CZ0-100 Pd_101]</summary><div class=\"scp-output section\"><details><summary>Summary</summary>\n",
       "<div class=\"scp-output section\"><div class=\"attr-name\">         name</div><div>:</div><div class=\"attr-value\"> 7_CZ0-100 Pd_101</div></div>\n",
       "<div class=\"scp-output section\"><div class=\"attr-name\">       author</div><div>:</div><div class=\"attr-value\"> runner@fv-az1696-90</div></div>\n",
       "<div class=\"scp-output section\"><div class=\"attr-name\">      created</div><div>:</div><div class=\"attr-value\"> 2025-03-09 01:17:19+00:00</div></div>\n",
       "<div class=\"scp-output section\"><div class=\"attr-name\">  description</div><div>:</div><div class=\"attr-value\"> <div># Omnic name: 7_CZ0-100 Pd_101<br/>               # Filename: 7_CZ0-100_Pd_101.SPA</div></div></div>\n",
       "<div class=\"scp-output section\"><div class=\"attr-name\">      history</div><div>:</div><div class=\"attr-value\"> <div>2025-03-09 01:17:19+00:00> Imported from spa file(s)<br/>               2025-03-09 01:17:19+00:00> Data processing history from Omnic :<br/>               ------------------------------------<br/>               Acquisition échantillon\r",
       "<br/>               \t Background acquis le Ven Nov 30 08:03:45 2018 (GMT+01:00)\r",
       "<br/>               \t Format Final :\tAbsorbance\r",
       "<br/>               \t Résolution:\t 4,000 de 649,9207 à 5999,7134\r",
       "<br/>               \t Roue de validation: 0\r",
       "<br/>               \t Roue porte écran atténuation: Vide\r",
       "<br/>               \t Numéro Série du banc:ALK1100494</div></div></div></details></div>\n",
       "<div class=\"scp-output section\"><details><summary>          Data </summary>\n",
       "<div class=\"scp-output section\"><div class=\"attr-name\">        title</div><div>:</div><div class=\"attr-value\"> absorbance</div></div>\n",
       "<div class=\"scp-output section\"><div class=\"attr-name\">       values</div><div>:</div><div class=\"attr-value\"> ... </div></div>\n",
       "<div class='numeric'>         [[   1.544    1.543 ...      2.1    2.091]] a.u.</div>\n",
       "<div class=\"scp-output section\"><div class=\"attr-name\">        shape</div><div>:</div><div class=\"attr-value\"> (y:1, x:5549)</div></div></details></div>\n",
       "<div class=\"scp-output section\"><details><summary>     Dimension `x`</summary>\n",
       "<div class=\"scp-output section\"><div class=\"attr-name\">         size</div><div>:</div><div class=\"attr-value\"> 5549</div></div>\n",
       "<div class=\"scp-output section\"><div class=\"attr-name\">        title</div><div>:</div><div class=\"attr-value\"> wavenumbers</div></div>\n",
       "<div class=\"scp-output section\"><div class=\"attr-name\">  coordinates</div><div>:</div><div class=\"attr-value\"> <div class='numeric'>[    6000     5999 ...    650.9    649.9] cm⁻¹</div></div></div></details></div>\n",
       "<div class=\"scp-output section\"><details><summary>     Dimension `y`</summary>\n",
       "<div class=\"scp-output section\"><div class=\"attr-name\">         size</div><div>:</div><div class=\"attr-value\"> 1</div></div>\n",
       "<div class=\"scp-output section\"><div class=\"attr-name\">        title</div><div>:</div><div class=\"attr-value\"> acquisition timestamp (GMT)</div></div>\n",
       "<div class=\"scp-output section\"><div class=\"attr-name\">  coordinates</div><div>:</div><div class=\"attr-value\"> <div class='numeric'>[1.544e+09] s</div></div></div>\n",
       "<div class=\"scp-output section\"><div class=\"attr-name\">       labels</div><div>:</div><div class=\"attr-value\"> ... </div></div>\n",
       "<div class='label'>         [[  2018-11-30 07:10:57+00:00]<br/>          [  /home/runner/.spectrochempy/testdata/irdata/subdir/7_CZ0-100_Pd_101.SPA]]</div></details></div></details></div></div>\n",
       "<div class='scp-output section'><div class='scp-output'><details><summary>5: NDDataset: [float64] a.u. (shape: (y:1, x:5549))[7_CZ0-100 Pd_102]</summary><div class=\"scp-output section\"><details><summary>Summary</summary>\n",
       "<div class=\"scp-output section\"><div class=\"attr-name\">         name</div><div>:</div><div class=\"attr-value\"> 7_CZ0-100 Pd_102</div></div>\n",
       "<div class=\"scp-output section\"><div class=\"attr-name\">       author</div><div>:</div><div class=\"attr-value\"> runner@fv-az1696-90</div></div>\n",
       "<div class=\"scp-output section\"><div class=\"attr-name\">      created</div><div>:</div><div class=\"attr-value\"> 2025-03-09 01:17:19+00:00</div></div>\n",
       "<div class=\"scp-output section\"><div class=\"attr-name\">  description</div><div>:</div><div class=\"attr-value\"> <div># Omnic name: 7_CZ0-100 Pd_102<br/>               # Filename: 7_CZ0-100_Pd_102.SPA</div></div></div>\n",
       "<div class=\"scp-output section\"><div class=\"attr-name\">      history</div><div>:</div><div class=\"attr-value\"> <div>2025-03-09 01:17:19+00:00> Imported from spa file(s)<br/>               2025-03-09 01:17:19+00:00> Data processing history from Omnic :<br/>               ------------------------------------<br/>               Acquisition échantillon\r",
       "<br/>               \t Background acquis le Ven Nov 30 08:12:56 2018 (GMT+01:00)\r",
       "<br/>               \t Format Final :\tAbsorbance\r",
       "<br/>               \t Résolution:\t 4,000 de 649,9207 à 5999,7134\r",
       "<br/>               \t Roue de validation: 0\r",
       "<br/>               \t Roue porte écran atténuation: Vide\r",
       "<br/>               \t Numéro Série du banc:ALK1100494</div></div></div></details></div>\n",
       "<div class=\"scp-output section\"><details><summary>          Data </summary>\n",
       "<div class=\"scp-output section\"><div class=\"attr-name\">        title</div><div>:</div><div class=\"attr-value\"> absorbance</div></div>\n",
       "<div class=\"scp-output section\"><div class=\"attr-name\">       values</div><div>:</div><div class=\"attr-value\"> ... </div></div>\n",
       "<div class='numeric'>         [[   1.552    1.553 ...    2.161    2.109]] a.u.</div>\n",
       "<div class=\"scp-output section\"><div class=\"attr-name\">        shape</div><div>:</div><div class=\"attr-value\"> (y:1, x:5549)</div></div></details></div>\n",
       "<div class=\"scp-output section\"><details><summary>     Dimension `x`</summary>\n",
       "<div class=\"scp-output section\"><div class=\"attr-name\">         size</div><div>:</div><div class=\"attr-value\"> 5549</div></div>\n",
       "<div class=\"scp-output section\"><div class=\"attr-name\">        title</div><div>:</div><div class=\"attr-value\"> wavenumbers</div></div>\n",
       "<div class=\"scp-output section\"><div class=\"attr-name\">  coordinates</div><div>:</div><div class=\"attr-value\"> <div class='numeric'>[    6000     5999 ...    650.9    649.9] cm⁻¹</div></div></div></details></div>\n",
       "<div class=\"scp-output section\"><details><summary>     Dimension `y`</summary>\n",
       "<div class=\"scp-output section\"><div class=\"attr-name\">         size</div><div>:</div><div class=\"attr-value\"> 1</div></div>\n",
       "<div class=\"scp-output section\"><div class=\"attr-name\">        title</div><div>:</div><div class=\"attr-value\"> acquisition timestamp (GMT)</div></div>\n",
       "<div class=\"scp-output section\"><div class=\"attr-name\">  coordinates</div><div>:</div><div class=\"attr-value\"> <div class='numeric'>[1.544e+09] s</div></div></div>\n",
       "<div class=\"scp-output section\"><div class=\"attr-name\">       labels</div><div>:</div><div class=\"attr-value\"> ... </div></div>\n",
       "<div class='label'>         [[  2018-11-30 07:22:52+00:00]<br/>          [  /home/runner/.spectrochempy/testdata/irdata/subdir/7_CZ0-100_Pd_102.SPA]]</div></details></div></details></div></div>\n",
       "<div class='scp-output section'><div class='scp-output'><details><summary>6: NDDataset: [float64] a.u. (shape: (y:1, x:5549))[7_CZ0-100 Pd_103]</summary><div class=\"scp-output section\"><details><summary>Summary</summary>\n",
       "<div class=\"scp-output section\"><div class=\"attr-name\">         name</div><div>:</div><div class=\"attr-value\"> 7_CZ0-100 Pd_103</div></div>\n",
       "<div class=\"scp-output section\"><div class=\"attr-name\">       author</div><div>:</div><div class=\"attr-value\"> runner@fv-az1696-90</div></div>\n",
       "<div class=\"scp-output section\"><div class=\"attr-name\">      created</div><div>:</div><div class=\"attr-value\"> 2025-03-09 01:17:19+00:00</div></div>\n",
       "<div class=\"scp-output section\"><div class=\"attr-name\">  description</div><div>:</div><div class=\"attr-value\"> <div># Omnic name: 7_CZ0-100 Pd_103<br/>               # Filename: 7_CZ0-100_Pd_103.SPA</div></div></div>\n",
       "<div class=\"scp-output section\"><div class=\"attr-name\">      history</div><div>:</div><div class=\"attr-value\"> <div>2025-03-09 01:17:19+00:00> Imported from spa file(s)<br/>               2025-03-09 01:17:19+00:00> Data processing history from Omnic :<br/>               ------------------------------------<br/>               Acquisition échantillon\r",
       "<br/>               \t Background acquis le Ven Nov 30 08:24:51 2018 (GMT+01:00)\r",
       "<br/>               \t Format Final :\tAbsorbance\r",
       "<br/>               \t Résolution:\t 4,000 de 649,9207 à 5999,7134\r",
       "<br/>               \t Roue de validation: 0\r",
       "<br/>               \t Roue porte écran atténuation: Vide\r",
       "<br/>               \t Numéro Série du banc:ALK1100494</div></div></div></details></div>\n",
       "<div class=\"scp-output section\"><details><summary>          Data </summary>\n",
       "<div class=\"scp-output section\"><div class=\"attr-name\">        title</div><div>:</div><div class=\"attr-value\"> absorbance</div></div>\n",
       "<div class=\"scp-output section\"><div class=\"attr-name\">       values</div><div>:</div><div class=\"attr-value\"> ... </div></div>\n",
       "<div class='numeric'>         [[   1.461     1.46 ...    2.087    2.088]] a.u.</div>\n",
       "<div class=\"scp-output section\"><div class=\"attr-name\">        shape</div><div>:</div><div class=\"attr-value\"> (y:1, x:5549)</div></div></details></div>\n",
       "<div class=\"scp-output section\"><details><summary>     Dimension `x`</summary>\n",
       "<div class=\"scp-output section\"><div class=\"attr-name\">         size</div><div>:</div><div class=\"attr-value\"> 5549</div></div>\n",
       "<div class=\"scp-output section\"><div class=\"attr-name\">        title</div><div>:</div><div class=\"attr-value\"> wavenumbers</div></div>\n",
       "<div class=\"scp-output section\"><div class=\"attr-name\">  coordinates</div><div>:</div><div class=\"attr-value\"> <div class='numeric'>[    6000     5999 ...    650.9    649.9] cm⁻¹</div></div></div></details></div>\n",
       "<div class=\"scp-output section\"><details><summary>     Dimension `y`</summary>\n",
       "<div class=\"scp-output section\"><div class=\"attr-name\">         size</div><div>:</div><div class=\"attr-value\"> 1</div></div>\n",
       "<div class=\"scp-output section\"><div class=\"attr-name\">        title</div><div>:</div><div class=\"attr-value\"> acquisition timestamp (GMT)</div></div>\n",
       "<div class=\"scp-output section\"><div class=\"attr-name\">  coordinates</div><div>:</div><div class=\"attr-value\"> <div class='numeric'>[1.544e+09] s</div></div></div>\n",
       "<div class=\"scp-output section\"><div class=\"attr-name\">       labels</div><div>:</div><div class=\"attr-value\"> ... </div></div>\n",
       "<div class='label'>         [[  2018-11-30 07:34:49+00:00]<br/>          [  /home/runner/.spectrochempy/testdata/irdata/subdir/7_CZ0-100_Pd_103.SPA]]</div></details></div></details></div></div>\n",
       "<div class='scp-output section'><div class='scp-output'><details><summary>7: NDDataset: [float64] a.u. (shape: (y:1, x:5549))[7_CZ0-100 Pd_104]</summary><div class=\"scp-output section\"><details><summary>Summary</summary>\n",
       "<div class=\"scp-output section\"><div class=\"attr-name\">         name</div><div>:</div><div class=\"attr-value\"> 7_CZ0-100 Pd_104</div></div>\n",
       "<div class=\"scp-output section\"><div class=\"attr-name\">       author</div><div>:</div><div class=\"attr-value\"> runner@fv-az1696-90</div></div>\n",
       "<div class=\"scp-output section\"><div class=\"attr-name\">      created</div><div>:</div><div class=\"attr-value\"> 2025-03-09 01:17:19+00:00</div></div>\n",
       "<div class=\"scp-output section\"><div class=\"attr-name\">  description</div><div>:</div><div class=\"attr-value\"> <div># Omnic name: 7_CZ0-100 Pd_104<br/>               # Filename: 7_CZ0-100_Pd_104.SPA</div></div></div>\n",
       "<div class=\"scp-output section\"><div class=\"attr-name\">      history</div><div>:</div><div class=\"attr-value\"> <div>2025-03-09 01:17:19+00:00> Imported from spa file(s)<br/>               2025-03-09 01:17:19+00:00> Data processing history from Omnic :<br/>               ------------------------------------<br/>               Acquisition échantillon\r",
       "<br/>               \t Background acquis le Ven Nov 30 08:36:47 2018 (GMT+01:00)\r",
       "<br/>               \t Format Final :\tAbsorbance\r",
       "<br/>               \t Résolution:\t 4,000 de 649,9207 à 5999,7134\r",
       "<br/>               \t Roue de validation: 0\r",
       "<br/>               \t Roue porte écran atténuation: Vide\r",
       "<br/>               \t Numéro Série du banc:ALK1100494</div></div></div></details></div>\n",
       "<div class=\"scp-output section\"><details><summary>          Data </summary>\n",
       "<div class=\"scp-output section\"><div class=\"attr-name\">        title</div><div>:</div><div class=\"attr-value\"> absorbance</div></div>\n",
       "<div class=\"scp-output section\"><div class=\"attr-name\">       values</div><div>:</div><div class=\"attr-value\"> ... </div></div>\n",
       "<div class='numeric'>         [[   1.448    1.447 ...    2.071    2.065]] a.u.</div>\n",
       "<div class=\"scp-output section\"><div class=\"attr-name\">        shape</div><div>:</div><div class=\"attr-value\"> (y:1, x:5549)</div></div></details></div>\n",
       "<div class=\"scp-output section\"><details><summary>     Dimension `x`</summary>\n",
       "<div class=\"scp-output section\"><div class=\"attr-name\">         size</div><div>:</div><div class=\"attr-value\"> 5549</div></div>\n",
       "<div class=\"scp-output section\"><div class=\"attr-name\">        title</div><div>:</div><div class=\"attr-value\"> wavenumbers</div></div>\n",
       "<div class=\"scp-output section\"><div class=\"attr-name\">  coordinates</div><div>:</div><div class=\"attr-value\"> <div class='numeric'>[    6000     5999 ...    650.9    649.9] cm⁻¹</div></div></div></details></div>\n",
       "<div class=\"scp-output section\"><details><summary>     Dimension `y`</summary>\n",
       "<div class=\"scp-output section\"><div class=\"attr-name\">         size</div><div>:</div><div class=\"attr-value\"> 1</div></div>\n",
       "<div class=\"scp-output section\"><div class=\"attr-name\">        title</div><div>:</div><div class=\"attr-value\"> acquisition timestamp (GMT)</div></div>\n",
       "<div class=\"scp-output section\"><div class=\"attr-name\">  coordinates</div><div>:</div><div class=\"attr-value\"> <div class='numeric'>[1.544e+09] s</div></div></div>\n",
       "<div class=\"scp-output section\"><div class=\"attr-name\">       labels</div><div>:</div><div class=\"attr-value\"> ... </div></div>\n",
       "<div class='label'>         [[  2018-11-30 07:46:44+00:00]<br/>          [  /home/runner/.spectrochempy/testdata/irdata/subdir/7_CZ0-100_Pd_104.SPA]]</div></details></div></details></div></div>\n",
       "<div class='scp-output section'><div class='scp-output'><details><summary>8: NDDataset: [float64] a.u. (shape: (y:335, x:1868))[dd_6.6_19039_538]</summary><div class=\"scp-output section\"><details><summary>Summary</summary>\n",
       "<div class=\"scp-output section\"><div class=\"attr-name\">         name</div><div>:</div><div class=\"attr-value\"> dd_6.6_19039_538</div></div>\n",
       "<div class=\"scp-output section\"><div class=\"attr-name\">       author</div><div>:</div><div class=\"attr-value\"> runner@fv-az1696-90</div></div>\n",
       "<div class=\"scp-output section\"><div class=\"attr-name\">      created</div><div>:</div><div class=\"attr-value\"> 2025-03-09 01:17:19+00:00</div></div>\n",
       "<div class=\"scp-output section\"><div class=\"attr-name\">  description</div><div>:</div><div class=\"attr-value\"> <div>Dataset from omnic srs file.</div></div></div></details></div>\n",
       "<div class=\"scp-output section\"><details><summary>          Data </summary>\n",
       "<div class=\"scp-output section\"><div class=\"attr-name\">        title</div><div>:</div><div class=\"attr-value\"> absorbance</div></div>\n",
       "<div class=\"scp-output section\"><div class=\"attr-name\">       values</div><div>:</div><div class=\"attr-value\"> ... </div></div>\n",
       "<div class='numeric'>         [[-0.007524 -0.0003661 ... 8.291e-05 9.239e-05]<br/>          [-0.009306 -0.002252 ... 0.0001051 0.000107]<br/>          ...<br/>          [ 0.02474  0.02814 ... 0.002962 0.002967]<br/>          [ 0.02663  0.02899 ... 0.002907 0.002916]] a.u.</div>\n",
       "<div class=\"scp-output section\"><div class=\"attr-name\">        shape</div><div>:</div><div class=\"attr-value\"> (y:335, x:1868)</div></div></details></div>\n",
       "<div class=\"scp-output section\"><details><summary>     Dimension `x`</summary>\n",
       "<div class=\"scp-output section\"><div class=\"attr-name\">         size</div><div>:</div><div class=\"attr-value\"> 1868</div></div>\n",
       "<div class=\"scp-output section\"><div class=\"attr-name\">        title</div><div>:</div><div class=\"attr-value\"> wavenumbers</div></div>\n",
       "<div class=\"scp-output section\"><div class=\"attr-name\">  coordinates</div><div>:</div><div class=\"attr-value\"> <div class='numeric'>[    4000     3998 ...    401.1    399.2] cm⁻¹</div></div></div></details></div>\n",
       "<div class=\"scp-output section\"><details><summary>     Dimension `y`</summary>\n",
       "<div class=\"scp-output section\"><div class=\"attr-name\">         size</div><div>:</div><div class=\"attr-value\"> 335</div></div>\n",
       "<div class=\"scp-output section\"><div class=\"attr-name\">        title</div><div>:</div><div class=\"attr-value\"> Time</div></div>\n",
       "<div class=\"scp-output section\"><div class=\"attr-name\">  coordinates</div><div>:</div><div class=\"attr-value\"> <div class='numeric'>[    0.26     0.52 ...    86.76    87.02] min</div></div></div>\n",
       "<div class=\"scp-output section\"><div class=\"attr-name\">       labels</div><div>:</div><div class=\"attr-value\"> ... </div></div>\n",
       "<div class='label'>         [  Verknüpftes Spektrum bei 0,260 Min.<br/>          Ë\u0018<br/>          ÁØs\u0007úË\u0018<br/>          t/ä<br/>          \b/ä<br/>          \b/ä<br/><br/><br/><br/>          ±½@<br/>          ö»Îö¿¹·j»D\u0003»t4\u001f»*<br/>          »Ý©S»£°\u0003»ýóÉº-êÒº\u0010¿p»¢»<br/><br/>          \u0016»[ýéºùH|»<br/>          \t\u0001»Íu\u0005»ää©ºLÊÐºsöþºvÐmºÎG4ºCà¦ºÔÍºÕ<br/>          º\u001b¹¶\u0005:»ñ&Rº*<br/>          Ò:Ý¿9WÅEºÓo<br/>          ºB'ÆºP|_º)ïQ9OÌºÜìº-ºÁrï¹ç<br/>          ±ºð¹¯ºq\u001aHº\u000eIKº                          Verknüpftes Spektrum bei 0,519 Min.<br/>                                                Ë\u0018<br/>                                                ÁØs\u0007úË\u0018<br/>                                                t/ä<br/>                                                \b/ä<br/>                                                \b/ä<br/><br/><br/><br/>                                                îÂ@<br/>                                                y\u0018¼\u0013»¾¯^¹¸\u0011:¸4êº=x»ØÃ1»¼-øº\u0011ÿÉº\u000eÓÅº\u0018[L»×<br/><br/>                                                »£Êp»Õ­@»¤(»ëð¢¹±w 95\u0004ºÍ9ÔºÓà³ºOuºÔ<br/>                                                Ü¹ºm¼BºâÞå7ÛÍ\u00159M\u0013º\u0018,ºJq\u0011:\u0016ò49\tjZºL\u001fÛº\u0010¬ëºÃi¹;ý\u0005:ì) º)vÂº¡ê¹xÕ½·?\u000e³º©ëÁºÀ\u0002<br/>                                                ºó(<br/>                                                ¹                                                                                ...<br/>            Verknüpftes Spektrum bei 86,756 Min.<br/>          Ë\u0018<br/>          ÁØs\u0007úË\u0018<br/>          t/ä<br/>          \b/ä<br/>          \b/ä<br/><br/><br/><br/>          ã!@<br/>          ¡Ê<Læ<ä<\b#n<­<\u0010g<³­U<èx\"<sw\u0010<¿`<Z=\u0019<­\u0007§;6G\u0013<åO/<ñÈ÷;*ß\u001a<<br/>          r\u0012<lf<br/>          <«>\u0014<­<br/>          é;\u0012òÙ;\\<br/>          <â½Ä;\u0011²;ÿÐæ;¤ññ;°Í¹;¡´;ÛYÎ;?å;Þ¦ò;²ø§;hAe;°TÉ;ó÷Ì;dK;úºY;ÛýÀ;j8;ïkª;#G;¸Û;Öþ;<br/>            Verknüpftes Spektrum bei 87,016 Min.<br/>          Ë\u0018<br/>          ÁØs\u0007úË\u0018<br/>          t/ä<br/>          \b/ä<br/>          \b/ä<br/><br/><br/><br/>          0+@<br/>          +1Ú<9}í<<I0<­·¦<ú2<¬Çe<Nï\u000f<|î;32_<VK-<G\\ú;<br/>          B <µ*<;µÖ;ÓÆ\"<ss\u001b<\u0013«\u0010<7<br/>          \u0019<½²ò;ç\u0002\u0004<àP\u0010<ãâ;4Å;vüö;ÑMà;·S;\u0012M;HÃà;¾cö;M¶ü;C;Ö[#;3\u0005Ó;*Ûæ;\u000f6;ýH;R±Ã;ÍN;í\u0011­;j7;oÚ;ú\u0007;]</div></details></div></details></div></div>\n",
       "</details></div>"
      ],
      "text/plain": [
       "[NDDataset: [float64] a.u. (shape: (y:1, x:5549)),\n",
       " NDDataset: [float64] a.u. (shape: (y:1, x:5549)),\n",
       " NDDataset: [float64] a.u. (shape: (y:1, x:5549)),\n",
       " NDDataset: [float64] a.u. (shape: (y:1, x:5549)),\n",
       " NDDataset: [float64] a.u. (shape: (y:1, x:5549)),\n",
       " NDDataset: [float64] a.u. (shape: (y:1, x:5549)),\n",
       " NDDataset: [float64] a.u. (shape: (y:1, x:5549)),\n",
       " NDDataset: [float64] a.u. (shape: (y:1, x:5549)),\n",
       " NDDataset: [float64] a.u. (shape: (y:335, x:1868))]"
      ]
     },
     "execution_count": 10,
     "metadata": {},
     "output_type": "execute_result"
    }
   ],
   "source": [
    "scp.read_dir(folder, recursive=True, merge=False)"
   ]
  },
  {
   "cell_type": "markdown",
   "id": "7b686465",
   "metadata": {
    "lines_to_next_cell": 0
   },
   "source": [
    "and we allow merging them:"
   ]
  },
  {
   "cell_type": "code",
   "execution_count": 11,
   "id": "b1cd7642",
   "metadata": {
    "execution": {
     "iopub.execute_input": "2025-03-09T01:17:20.046235Z",
     "iopub.status.busy": "2025-03-09T01:17:20.045825Z",
     "iopub.status.idle": "2025-03-09T01:17:20.562960Z",
     "shell.execute_reply": "2025-03-09T01:17:20.562311Z"
    },
    "lines_to_next_cell": 0
   },
   "outputs": [
    {
     "data": {
      "text/html": [
       "<div class='scp-output'><details><summary>List (len=2, type=NDDataset)</summary><ul><div class='scp-output section'><div class='scp-output'><details><summary>0: NDDataset: [float64] a.u. (shape: (y:335, x:1868))[dd_6.6_19039_538]</summary><div class=\"scp-output section\"><details><summary>Summary</summary>\n",
       "<div class=\"scp-output section\"><div class=\"attr-name\">         name</div><div>:</div><div class=\"attr-value\"> dd_6.6_19039_538</div></div>\n",
       "<div class=\"scp-output section\"><div class=\"attr-name\">       author</div><div>:</div><div class=\"attr-value\"> runner@fv-az1696-90</div></div>\n",
       "<div class=\"scp-output section\"><div class=\"attr-name\">      created</div><div>:</div><div class=\"attr-value\"> 2025-03-09 01:17:20+00:00</div></div>\n",
       "<div class=\"scp-output section\"><div class=\"attr-name\">  description</div><div>:</div><div class=\"attr-value\"> <div>Concatenation of 1  datasets:<br/>               ( dd_6.6_19039_538 )</div></div></div>\n",
       "<div class=\"scp-output section\"><div class=\"attr-name\">      history</div><div>:</div><div class=\"attr-value\"> <div>2025-03-09 01:17:20+00:00> Created by concatenate<br/>               2025-03-09 01:17:20+00:00> Merged from several files</div></div></div></details></div>\n",
       "<div class=\"scp-output section\"><details><summary>          Data </summary>\n",
       "<div class=\"scp-output section\"><div class=\"attr-name\">        title</div><div>:</div><div class=\"attr-value\"> absorbance</div></div>\n",
       "<div class=\"scp-output section\"><div class=\"attr-name\">       values</div><div>:</div><div class=\"attr-value\"> ... </div></div>\n",
       "<div class='numeric'>         [[-0.007524 -0.0003661 ... 8.291e-05 9.239e-05]<br/>          [-0.009306 -0.002252 ... 0.0001051 0.000107]<br/>          ...<br/>          [ 0.02474  0.02814 ... 0.002962 0.002967]<br/>          [ 0.02663  0.02899 ... 0.002907 0.002916]] a.u.</div>\n",
       "<div class=\"scp-output section\"><div class=\"attr-name\">        shape</div><div>:</div><div class=\"attr-value\"> (y:335, x:1868)</div></div></details></div>\n",
       "<div class=\"scp-output section\"><details><summary>     Dimension `x`</summary>\n",
       "<div class=\"scp-output section\"><div class=\"attr-name\">         size</div><div>:</div><div class=\"attr-value\"> 1868</div></div>\n",
       "<div class=\"scp-output section\"><div class=\"attr-name\">        title</div><div>:</div><div class=\"attr-value\"> wavenumbers</div></div>\n",
       "<div class=\"scp-output section\"><div class=\"attr-name\">  coordinates</div><div>:</div><div class=\"attr-value\"> <div class='numeric'>[    4000     3998 ...    401.1    399.2] cm⁻¹</div></div></div></details></div>\n",
       "<div class=\"scp-output section\"><details><summary>     Dimension `y`</summary>\n",
       "<div class=\"scp-output section\"><div class=\"attr-name\">         size</div><div>:</div><div class=\"attr-value\"> 335</div></div>\n",
       "<div class=\"scp-output section\"><div class=\"attr-name\">        title</div><div>:</div><div class=\"attr-value\"> Time</div></div>\n",
       "<div class=\"scp-output section\"><div class=\"attr-name\">  coordinates</div><div>:</div><div class=\"attr-value\"> <div class='numeric'>[    0.26     0.52 ...    86.76    87.02] min</div></div></div>\n",
       "<div class=\"scp-output section\"><div class=\"attr-name\">       labels</div><div>:</div><div class=\"attr-value\"> ... </div></div>\n",
       "<div class='label'>         [  Verknüpftes Spektrum bei 0,260 Min.<br/>          Ë\u0018<br/>          ÁØs\u0007úË\u0018<br/>          t/ä<br/>          \b/ä<br/>          \b/ä<br/><br/><br/><br/>          ±½@<br/>          ö»Îö¿¹·j»D\u0003»t4\u001f»*<br/>          »Ý©S»£°\u0003»ýóÉº-êÒº\u0010¿p»¢»<br/><br/>          \u0016»[ýéºùH|»<br/>          \t\u0001»Íu\u0005»ää©ºLÊÐºsöþºvÐmºÎG4ºCà¦ºÔÍºÕ<br/>          º\u001b¹¶\u0005:»ñ&Rº*<br/>          Ò:Ý¿9WÅEºÓo<br/>          ºB'ÆºP|_º)ïQ9OÌºÜìº-ºÁrï¹ç<br/>          ±ºð¹¯ºq\u001aHº\u000eIKº                          Verknüpftes Spektrum bei 0,519 Min.<br/>                                                Ë\u0018<br/>                                                ÁØs\u0007úË\u0018<br/>                                                t/ä<br/>                                                \b/ä<br/>                                                \b/ä<br/><br/><br/><br/>                                                îÂ@<br/>                                                y\u0018¼\u0013»¾¯^¹¸\u0011:¸4êº=x»ØÃ1»¼-øº\u0011ÿÉº\u000eÓÅº\u0018[L»×<br/><br/>                                                »£Êp»Õ­@»¤(»ëð¢¹±w 95\u0004ºÍ9ÔºÓà³ºOuºÔ<br/>                                                Ü¹ºm¼BºâÞå7ÛÍ\u00159M\u0013º\u0018,ºJq\u0011:\u0016ò49\tjZºL\u001fÛº\u0010¬ëºÃi¹;ý\u0005:ì) º)vÂº¡ê¹xÕ½·?\u000e³º©ëÁºÀ\u0002<br/>                                                ºó(<br/>                                                ¹                                                                                ...<br/>            Verknüpftes Spektrum bei 86,756 Min.<br/>          Ë\u0018<br/>          ÁØs\u0007úË\u0018<br/>          t/ä<br/>          \b/ä<br/>          \b/ä<br/><br/><br/><br/>          ã!@<br/>          ¡Ê<Læ<ä<\b#n<­<\u0010g<³­U<èx\"<sw\u0010<¿`<Z=\u0019<­\u0007§;6G\u0013<åO/<ñÈ÷;*ß\u001a<<br/>          r\u0012<lf<br/>          <«>\u0014<­<br/>          é;\u0012òÙ;\\<br/>          <â½Ä;\u0011²;ÿÐæ;¤ññ;°Í¹;¡´;ÛYÎ;?å;Þ¦ò;²ø§;hAe;°TÉ;ó÷Ì;dK;úºY;ÛýÀ;j8;ïkª;#G;¸Û;Öþ;<br/>            Verknüpftes Spektrum bei 87,016 Min.<br/>          Ë\u0018<br/>          ÁØs\u0007úË\u0018<br/>          t/ä<br/>          \b/ä<br/>          \b/ä<br/><br/><br/><br/>          0+@<br/>          +1Ú<9}í<<I0<­·¦<ú2<¬Çe<Nï\u000f<|î;32_<VK-<G\\ú;<br/>          B <µ*<;µÖ;ÓÆ\"<ss\u001b<\u0013«\u0010<7<br/>          \u0019<½²ò;ç\u0002\u0004<àP\u0010<ãâ;4Å;vüö;ÑMà;·S;\u0012M;HÃà;¾cö;M¶ü;C;Ö[#;3\u0005Ó;*Ûæ;\u000f6;ýH;R±Ã;ÍN;í\u0011­;j7;oÚ;ú\u0007;]</div></details></div></details></div></div>\n",
       "<div class='scp-output section'><div class='scp-output'><details><summary>1: NDDataset: [float64] a.u. (shape: (y:8, x:5549))[7_CZ0-100 Pd_104]</summary><div class=\"scp-output section\"><details><summary>Summary</summary>\n",
       "<div class=\"scp-output section\"><div class=\"attr-name\">         name</div><div>:</div><div class=\"attr-value\"> 7_CZ0-100 Pd_104</div></div>\n",
       "<div class=\"scp-output section\"><div class=\"attr-name\">       author</div><div>:</div><div class=\"attr-value\"> runner@fv-az1696-90</div></div>\n",
       "<div class=\"scp-output section\"><div class=\"attr-name\">      created</div><div>:</div><div class=\"attr-value\"> 2025-03-09 01:17:20+00:00</div></div>\n",
       "<div class=\"scp-output section\"><div class=\"attr-name\">  description</div><div>:</div><div class=\"attr-value\"> <div>Concatenation of 1  datasets:<br/>               ( 7_CZ0-100 Pd_104 )</div></div></div>\n",
       "<div class=\"scp-output section\"><div class=\"attr-name\">      history</div><div>:</div><div class=\"attr-value\"> <div>2025-03-09 01:17:20+00:00> Created by concatenate<br/>               2025-03-09 01:17:20+00:00> Merged from several files</div></div></div></details></div>\n",
       "<div class=\"scp-output section\"><details><summary>          Data </summary>\n",
       "<div class=\"scp-output section\"><div class=\"attr-name\">        title</div><div>:</div><div class=\"attr-value\"> absorbance</div></div>\n",
       "<div class=\"scp-output section\"><div class=\"attr-name\">       values</div><div>:</div><div class=\"attr-value\"> ... </div></div>\n",
       "<div class='numeric'>         [[   1.245    1.245 ...    1.311    1.307]<br/>          [   1.245    1.245 ...    1.302    1.299]<br/>          ...<br/>          [   1.461     1.46 ...    2.087    2.088]<br/>          [   1.448    1.447 ...    2.071    2.065]] a.u.</div>\n",
       "<div class=\"scp-output section\"><div class=\"attr-name\">        shape</div><div>:</div><div class=\"attr-value\"> (y:8, x:5549)</div></div></details></div>\n",
       "<div class=\"scp-output section\"><details><summary>     Dimension `x`</summary>\n",
       "<div class=\"scp-output section\"><div class=\"attr-name\">         size</div><div>:</div><div class=\"attr-value\"> 5549</div></div>\n",
       "<div class=\"scp-output section\"><div class=\"attr-name\">        title</div><div>:</div><div class=\"attr-value\"> wavenumbers</div></div>\n",
       "<div class=\"scp-output section\"><div class=\"attr-name\">  coordinates</div><div>:</div><div class=\"attr-value\"> <div class='numeric'>[    6000     5999 ...    650.9    649.9] cm⁻¹</div></div></div></details></div>\n",
       "<div class=\"scp-output section\"><details><summary>     Dimension `y`</summary>\n",
       "<div class=\"scp-output section\"><div class=\"attr-name\">         size</div><div>:</div><div class=\"attr-value\"> 8</div></div>\n",
       "<div class=\"scp-output section\"><div class=\"attr-name\">        title</div><div>:</div><div class=\"attr-value\"> acquisition timestamp (GMT)</div></div>\n",
       "<div class=\"scp-output section\"><div class=\"attr-name\">  coordinates</div><div>:</div><div class=\"attr-value\"> <div class='numeric'>[1.544e+09 1.544e+09 ... 1.544e+09 1.544e+09] s</div></div></div>\n",
       "<div class=\"scp-output section\"><div class=\"attr-name\">       labels</div><div>:</div><div class=\"attr-value\"> ... </div></div>\n",
       "<div class='label'>         [[  2018-11-29 16:23:05+00:00   2018-11-29 16:35:00+00:00 ...   2018-11-30 07:34:49+00:00   2018-11-30 07:46:44+00:00]<br/>          [  /home/runner/.spectrochempy/testdata/irdata/subdir/1-20/7_CZ0-100_Pd_3.SPA<br/>             /home/runner/.spectrochempy/testdata/irdata/subdir/1-20/7_CZ0-100_Pd_4.SPA ...<br/>             /home/runner/.spectrochempy/testdata/irdata/subdir/7_CZ0-100_Pd_103.SPA<br/>             /home/runner/.spectrochempy/testdata/irdata/subdir/7_CZ0-100_Pd_104.SPA]]</div></details></div></details></div></div>\n",
       "</details></div>"
      ],
      "text/plain": [
       "[NDDataset: [float64] a.u. (shape: (y:335, x:1868)),\n",
       " NDDataset: [float64] a.u. (shape: (y:8, x:5549))]"
      ]
     },
     "execution_count": 11,
     "metadata": {},
     "output_type": "execute_result"
    }
   ],
   "source": [
    "scp.read_dir(folder, recursive=True)"
   ]
  },
  {
   "cell_type": "markdown",
   "id": "3f1803fb",
   "metadata": {},
   "source": [
    "As the 8 `.spa` files are compatible, they are merged into a single `NDDataset` object. The `.srs` file is read separately."
   ]
  },
  {
   "cell_type": "markdown",
   "id": "fed2070c",
   "metadata": {
    "lines_to_next_cell": 0
   },
   "source": [
    "Specific reader can equivalently read folder recursively:"
   ]
  },
  {
   "cell_type": "code",
   "execution_count": 12,
   "id": "ddf25b00",
   "metadata": {
    "execution": {
     "iopub.execute_input": "2025-03-09T01:17:20.565044Z",
     "iopub.status.busy": "2025-03-09T01:17:20.564845Z",
     "iopub.status.idle": "2025-03-09T01:17:21.190846Z",
     "shell.execute_reply": "2025-03-09T01:17:21.190241Z"
    }
   },
   "outputs": [
    {
     "data": {
      "text/html": [
       "<div class='scp-output'><details><summary>List (len=2, type=NDDataset)</summary><ul><div class='scp-output section'><div class='scp-output'><details><summary>0: NDDataset: [float64] a.u. (shape: (y:335, x:1868))[dd_6.6_19039_538]</summary><div class=\"scp-output section\"><details><summary>Summary</summary>\n",
       "<div class=\"scp-output section\"><div class=\"attr-name\">         name</div><div>:</div><div class=\"attr-value\"> dd_6.6_19039_538</div></div>\n",
       "<div class=\"scp-output section\"><div class=\"attr-name\">       author</div><div>:</div><div class=\"attr-value\"> runner@fv-az1696-90</div></div>\n",
       "<div class=\"scp-output section\"><div class=\"attr-name\">      created</div><div>:</div><div class=\"attr-value\"> 2025-03-09 01:17:20+00:00</div></div>\n",
       "<div class=\"scp-output section\"><div class=\"attr-name\">  description</div><div>:</div><div class=\"attr-value\"> <div>Concatenation of 1  datasets:<br/>               ( dd_6.6_19039_538 )</div></div></div>\n",
       "<div class=\"scp-output section\"><div class=\"attr-name\">      history</div><div>:</div><div class=\"attr-value\"> <div>2025-03-09 01:17:21+00:00> Created by concatenate<br/>               2025-03-09 01:17:21+00:00> Merged from several files</div></div></div></details></div>\n",
       "<div class=\"scp-output section\"><details><summary>          Data </summary>\n",
       "<div class=\"scp-output section\"><div class=\"attr-name\">        title</div><div>:</div><div class=\"attr-value\"> absorbance</div></div>\n",
       "<div class=\"scp-output section\"><div class=\"attr-name\">       values</div><div>:</div><div class=\"attr-value\"> ... </div></div>\n",
       "<div class='numeric'>         [[-0.007524 -0.0003661 ... 8.291e-05 9.239e-05]<br/>          [-0.009306 -0.002252 ... 0.0001051 0.000107]<br/>          ...<br/>          [ 0.02474  0.02814 ... 0.002962 0.002967]<br/>          [ 0.02663  0.02899 ... 0.002907 0.002916]] a.u.</div>\n",
       "<div class=\"scp-output section\"><div class=\"attr-name\">        shape</div><div>:</div><div class=\"attr-value\"> (y:335, x:1868)</div></div></details></div>\n",
       "<div class=\"scp-output section\"><details><summary>     Dimension `x`</summary>\n",
       "<div class=\"scp-output section\"><div class=\"attr-name\">         size</div><div>:</div><div class=\"attr-value\"> 1868</div></div>\n",
       "<div class=\"scp-output section\"><div class=\"attr-name\">        title</div><div>:</div><div class=\"attr-value\"> wavenumbers</div></div>\n",
       "<div class=\"scp-output section\"><div class=\"attr-name\">  coordinates</div><div>:</div><div class=\"attr-value\"> <div class='numeric'>[    4000     3998 ...    401.1    399.2] cm⁻¹</div></div></div></details></div>\n",
       "<div class=\"scp-output section\"><details><summary>     Dimension `y`</summary>\n",
       "<div class=\"scp-output section\"><div class=\"attr-name\">         size</div><div>:</div><div class=\"attr-value\"> 335</div></div>\n",
       "<div class=\"scp-output section\"><div class=\"attr-name\">        title</div><div>:</div><div class=\"attr-value\"> Time</div></div>\n",
       "<div class=\"scp-output section\"><div class=\"attr-name\">  coordinates</div><div>:</div><div class=\"attr-value\"> <div class='numeric'>[    0.26     0.52 ...    86.76    87.02] min</div></div></div>\n",
       "<div class=\"scp-output section\"><div class=\"attr-name\">       labels</div><div>:</div><div class=\"attr-value\"> ... </div></div>\n",
       "<div class='label'>         [  Verknüpftes Spektrum bei 0,260 Min.<br/>          Ë\u0018<br/>          ÁØs\u0007úË\u0018<br/>          t/ä<br/>          \b/ä<br/>          \b/ä<br/><br/><br/><br/>          ±½@<br/>          ö»Îö¿¹·j»D\u0003»t4\u001f»*<br/>          »Ý©S»£°\u0003»ýóÉº-êÒº\u0010¿p»¢»<br/><br/>          \u0016»[ýéºùH|»<br/>          \t\u0001»Íu\u0005»ää©ºLÊÐºsöþºvÐmºÎG4ºCà¦ºÔÍºÕ<br/>          º\u001b¹¶\u0005:»ñ&Rº*<br/>          Ò:Ý¿9WÅEºÓo<br/>          ºB'ÆºP|_º)ïQ9OÌºÜìº-ºÁrï¹ç<br/>          ±ºð¹¯ºq\u001aHº\u000eIKº                          Verknüpftes Spektrum bei 0,519 Min.<br/>                                                Ë\u0018<br/>                                                ÁØs\u0007úË\u0018<br/>                                                t/ä<br/>                                                \b/ä<br/>                                                \b/ä<br/><br/><br/><br/>                                                îÂ@<br/>                                                y\u0018¼\u0013»¾¯^¹¸\u0011:¸4êº=x»ØÃ1»¼-øº\u0011ÿÉº\u000eÓÅº\u0018[L»×<br/><br/>                                                »£Êp»Õ­@»¤(»ëð¢¹±w 95\u0004ºÍ9ÔºÓà³ºOuºÔ<br/>                                                Ü¹ºm¼BºâÞå7ÛÍ\u00159M\u0013º\u0018,ºJq\u0011:\u0016ò49\tjZºL\u001fÛº\u0010¬ëºÃi¹;ý\u0005:ì) º)vÂº¡ê¹xÕ½·?\u000e³º©ëÁºÀ\u0002<br/>                                                ºó(<br/>                                                ¹                                                                                ...<br/>            Verknüpftes Spektrum bei 86,756 Min.<br/>          Ë\u0018<br/>          ÁØs\u0007úË\u0018<br/>          t/ä<br/>          \b/ä<br/>          \b/ä<br/><br/><br/><br/>          ã!@<br/>          ¡Ê<Læ<ä<\b#n<­<\u0010g<³­U<èx\"<sw\u0010<¿`<Z=\u0019<­\u0007§;6G\u0013<åO/<ñÈ÷;*ß\u001a<<br/>          r\u0012<lf<br/>          <«>\u0014<­<br/>          é;\u0012òÙ;\\<br/>          <â½Ä;\u0011²;ÿÐæ;¤ññ;°Í¹;¡´;ÛYÎ;?å;Þ¦ò;²ø§;hAe;°TÉ;ó÷Ì;dK;úºY;ÛýÀ;j8;ïkª;#G;¸Û;Öþ;<br/>            Verknüpftes Spektrum bei 87,016 Min.<br/>          Ë\u0018<br/>          ÁØs\u0007úË\u0018<br/>          t/ä<br/>          \b/ä<br/>          \b/ä<br/><br/><br/><br/>          0+@<br/>          +1Ú<9}í<<I0<­·¦<ú2<¬Çe<Nï\u000f<|î;32_<VK-<G\\ú;<br/>          B <µ*<;µÖ;ÓÆ\"<ss\u001b<\u0013«\u0010<7<br/>          \u0019<½²ò;ç\u0002\u0004<àP\u0010<ãâ;4Å;vüö;ÑMà;·S;\u0012M;HÃà;¾cö;M¶ü;C;Ö[#;3\u0005Ó;*Ûæ;\u000f6;ýH;R±Ã;ÍN;í\u0011­;j7;oÚ;ú\u0007;]</div></details></div></details></div></div>\n",
       "<div class='scp-output section'><div class='scp-output'><details><summary>1: NDDataset: [float64] a.u. (shape: (y:8, x:5549))[7_CZ0-100 Pd_104]</summary><div class=\"scp-output section\"><details><summary>Summary</summary>\n",
       "<div class=\"scp-output section\"><div class=\"attr-name\">         name</div><div>:</div><div class=\"attr-value\"> 7_CZ0-100 Pd_104</div></div>\n",
       "<div class=\"scp-output section\"><div class=\"attr-name\">       author</div><div>:</div><div class=\"attr-value\"> runner@fv-az1696-90</div></div>\n",
       "<div class=\"scp-output section\"><div class=\"attr-name\">      created</div><div>:</div><div class=\"attr-value\"> 2025-03-09 01:17:20+00:00</div></div>\n",
       "<div class=\"scp-output section\"><div class=\"attr-name\">  description</div><div>:</div><div class=\"attr-value\"> <div>Concatenation of 1  datasets:<br/>               ( 7_CZ0-100 Pd_104 )</div></div></div>\n",
       "<div class=\"scp-output section\"><div class=\"attr-name\">      history</div><div>:</div><div class=\"attr-value\"> <div>2025-03-09 01:17:21+00:00> Created by concatenate<br/>               2025-03-09 01:17:21+00:00> Merged from several files</div></div></div></details></div>\n",
       "<div class=\"scp-output section\"><details><summary>          Data </summary>\n",
       "<div class=\"scp-output section\"><div class=\"attr-name\">        title</div><div>:</div><div class=\"attr-value\"> absorbance</div></div>\n",
       "<div class=\"scp-output section\"><div class=\"attr-name\">       values</div><div>:</div><div class=\"attr-value\"> ... </div></div>\n",
       "<div class='numeric'>         [[   1.245    1.245 ...    1.311    1.307]<br/>          [   1.245    1.245 ...    1.302    1.299]<br/>          ...<br/>          [   1.461     1.46 ...    2.087    2.088]<br/>          [   1.448    1.447 ...    2.071    2.065]] a.u.</div>\n",
       "<div class=\"scp-output section\"><div class=\"attr-name\">        shape</div><div>:</div><div class=\"attr-value\"> (y:8, x:5549)</div></div></details></div>\n",
       "<div class=\"scp-output section\"><details><summary>     Dimension `x`</summary>\n",
       "<div class=\"scp-output section\"><div class=\"attr-name\">         size</div><div>:</div><div class=\"attr-value\"> 5549</div></div>\n",
       "<div class=\"scp-output section\"><div class=\"attr-name\">        title</div><div>:</div><div class=\"attr-value\"> wavenumbers</div></div>\n",
       "<div class=\"scp-output section\"><div class=\"attr-name\">  coordinates</div><div>:</div><div class=\"attr-value\"> <div class='numeric'>[    6000     5999 ...    650.9    649.9] cm⁻¹</div></div></div></details></div>\n",
       "<div class=\"scp-output section\"><details><summary>     Dimension `y`</summary>\n",
       "<div class=\"scp-output section\"><div class=\"attr-name\">         size</div><div>:</div><div class=\"attr-value\"> 8</div></div>\n",
       "<div class=\"scp-output section\"><div class=\"attr-name\">        title</div><div>:</div><div class=\"attr-value\"> acquisition timestamp (GMT)</div></div>\n",
       "<div class=\"scp-output section\"><div class=\"attr-name\">  coordinates</div><div>:</div><div class=\"attr-value\"> <div class='numeric'>[1.544e+09 1.544e+09 ... 1.544e+09 1.544e+09] s</div></div></div>\n",
       "<div class=\"scp-output section\"><div class=\"attr-name\">       labels</div><div>:</div><div class=\"attr-value\"> ... </div></div>\n",
       "<div class='label'>         [[  2018-11-29 16:23:05+00:00   2018-11-29 16:35:00+00:00 ...   2018-11-30 07:34:49+00:00   2018-11-30 07:46:44+00:00]<br/>          [  /home/runner/.spectrochempy/testdata/irdata/subdir/1-20/7_CZ0-100_Pd_3.SPA<br/>             /home/runner/.spectrochempy/testdata/irdata/subdir/1-20/7_CZ0-100_Pd_4.SPA ...<br/>             /home/runner/.spectrochempy/testdata/irdata/subdir/7_CZ0-100_Pd_103.SPA<br/>             /home/runner/.spectrochempy/testdata/irdata/subdir/7_CZ0-100_Pd_104.SPA]]</div></details></div></details></div></div>\n",
       "</details></div>"
      ],
      "text/plain": [
       "[NDDataset: [float64] a.u. (shape: (y:335, x:1868)),\n",
       " NDDataset: [float64] a.u. (shape: (y:8, x:5549))]"
      ]
     },
     "execution_count": 12,
     "metadata": {},
     "output_type": "execute_result"
    }
   ],
   "source": [
    "scp.read_omnic(folder, recursive=True)"
   ]
  },
  {
   "cell_type": "markdown",
   "id": "16098d6c",
   "metadata": {
    "lines_to_next_cell": 0
   },
   "source": [
    "Let's see an example with the `pattern` option:\n",
    "\n",
    "We read all files in the `DATADIR/irdata/subdir/` directory and its subdirectories, but only those with the `.spa` extension and whose name contains the string `4`:"
   ]
  },
  {
   "cell_type": "code",
   "execution_count": 13,
   "id": "ef25a8c1",
   "metadata": {
    "execution": {
     "iopub.execute_input": "2025-03-09T01:17:21.192914Z",
     "iopub.status.busy": "2025-03-09T01:17:21.192689Z",
     "iopub.status.idle": "2025-03-09T01:17:21.452932Z",
     "shell.execute_reply": "2025-03-09T01:17:21.452292Z"
    }
   },
   "outputs": [
    {
     "data": {
      "text/html": [
       "<div class='scp-output'><details><summary>NDDataset: [float64] a.u. (shape: (y:2, x:5549))[7_CZ0-100 Pd_104]</summary><div class=\"scp-output section\"><details><summary>Summary</summary>\n",
       "<div class=\"scp-output section\"><div class=\"attr-name\">         name</div><div>:</div><div class=\"attr-value\"> 7_CZ0-100 Pd_104</div></div>\n",
       "<div class=\"scp-output section\"><div class=\"attr-name\">       author</div><div>:</div><div class=\"attr-value\"> runner@fv-az1696-90</div></div>\n",
       "<div class=\"scp-output section\"><div class=\"attr-name\">      created</div><div>:</div><div class=\"attr-value\"> 2025-03-09 01:17:21+00:00</div></div>\n",
       "<div class=\"scp-output section\"><div class=\"attr-name\">  description</div><div>:</div><div class=\"attr-value\"> <div>Concatenation of 2  datasets:<br/>               ( 7_CZ0-100 Pd_4, 7_CZ0-100 Pd_104 )</div></div></div>\n",
       "<div class=\"scp-output section\"><div class=\"attr-name\">      history</div><div>:</div><div class=\"attr-value\"> <div>2025-03-09 01:17:21+00:00> Created by concatenate<br/>               2025-03-09 01:17:21+00:00> Merged from several files</div></div></div></details></div>\n",
       "<div class=\"scp-output section\"><details><summary>          Data </summary>\n",
       "<div class=\"scp-output section\"><div class=\"attr-name\">        title</div><div>:</div><div class=\"attr-value\"> absorbance</div></div>\n",
       "<div class=\"scp-output section\"><div class=\"attr-name\">       values</div><div>:</div><div class=\"attr-value\"> ... </div></div>\n",
       "<div class='numeric'>         [[   1.245    1.245 ...    1.302    1.299]<br/>          [   1.448    1.447 ...    2.071    2.065]] a.u.</div>\n",
       "<div class=\"scp-output section\"><div class=\"attr-name\">        shape</div><div>:</div><div class=\"attr-value\"> (y:2, x:5549)</div></div></details></div>\n",
       "<div class=\"scp-output section\"><details><summary>     Dimension `x`</summary>\n",
       "<div class=\"scp-output section\"><div class=\"attr-name\">         size</div><div>:</div><div class=\"attr-value\"> 5549</div></div>\n",
       "<div class=\"scp-output section\"><div class=\"attr-name\">        title</div><div>:</div><div class=\"attr-value\"> wavenumbers</div></div>\n",
       "<div class=\"scp-output section\"><div class=\"attr-name\">  coordinates</div><div>:</div><div class=\"attr-value\"> <div class='numeric'>[    6000     5999 ...    650.9    649.9] cm⁻¹</div></div></div></details></div>\n",
       "<div class=\"scp-output section\"><details><summary>     Dimension `y`</summary>\n",
       "<div class=\"scp-output section\"><div class=\"attr-name\">         size</div><div>:</div><div class=\"attr-value\"> 2</div></div>\n",
       "<div class=\"scp-output section\"><div class=\"attr-name\">        title</div><div>:</div><div class=\"attr-value\"> acquisition timestamp (GMT)</div></div>\n",
       "<div class=\"scp-output section\"><div class=\"attr-name\">  coordinates</div><div>:</div><div class=\"attr-value\"> <div class='numeric'>[1.544e+09 1.544e+09] s</div></div></div>\n",
       "<div class=\"scp-output section\"><div class=\"attr-name\">       labels</div><div>:</div><div class=\"attr-value\"> ... </div></div>\n",
       "<div class='label'>         [[  2018-11-29 16:35:00+00:00   2018-11-30 07:46:44+00:00]<br/>          [  /home/runner/.spectrochempy/testdata/irdata/subdir/1-20/7_CZ0-100_Pd_4.SPA<br/>             /home/runner/.spectrochempy/testdata/irdata/subdir/7_CZ0-100_Pd_104.SPA]]</div></details></div></details></div>"
      ],
      "text/plain": [
       "NDDataset: [float64] a.u. (shape: (y:2, x:5549))"
      ]
     },
     "execution_count": 13,
     "metadata": {},
     "output_type": "execute_result"
    }
   ],
   "source": [
    "scp.read_dir(folder, recursive=True, pattern=\"*4*\")"
   ]
  },
  {
   "cell_type": "markdown",
   "id": "a9eb14c9",
   "metadata": {},
   "source": [
    "The above pattern \"\\*4\\*\" match only two files which are then merged and returned as a single `NDDataset` object."
   ]
  },
  {
   "cell_type": "markdown",
   "id": "30640aa4",
   "metadata": {},
   "source": [
    "This `pattern` option is obviously interesting to select only a type of extension:"
   ]
  },
  {
   "cell_type": "code",
   "execution_count": 14,
   "id": "6df71b43",
   "metadata": {
    "execution": {
     "iopub.execute_input": "2025-03-09T01:17:21.454895Z",
     "iopub.status.busy": "2025-03-09T01:17:21.454685Z",
     "iopub.status.idle": "2025-03-09T01:17:21.778065Z",
     "shell.execute_reply": "2025-03-09T01:17:21.777375Z"
    }
   },
   "outputs": [
    {
     "data": {
      "text/html": [
       "<div class='scp-output'><details><summary>NDDataset: [float64] a.u. (shape: (y:8, x:5549))[7_CZ0-100 Pd_104]</summary><div class=\"scp-output section\"><details><summary>Summary</summary>\n",
       "<div class=\"scp-output section\"><div class=\"attr-name\">         name</div><div>:</div><div class=\"attr-value\"> 7_CZ0-100 Pd_104</div></div>\n",
       "<div class=\"scp-output section\"><div class=\"attr-name\">       author</div><div>:</div><div class=\"attr-value\"> runner@fv-az1696-90</div></div>\n",
       "<div class=\"scp-output section\"><div class=\"attr-name\">      created</div><div>:</div><div class=\"attr-value\"> 2025-03-09 01:17:21+00:00</div></div>\n",
       "<div class=\"scp-output section\"><div class=\"attr-name\">  description</div><div>:</div><div class=\"attr-value\"> <div>Concatenation of 8  datasets:<br/>               ( 7_CZ0-100 Pd_3, 7_CZ0-100 Pd_4, 7_CZ0-100 Pd_5, 7_CZ0-100 Pd_21, 7_CZ0-100 Pd_101, 7_CZ0-100 Pd_102, 7_CZ0-100 Pd_103, 7_CZ0-100 Pd_104 )</div></div></div>\n",
       "<div class=\"scp-output section\"><div class=\"attr-name\">      history</div><div>:</div><div class=\"attr-value\"> <div>2025-03-09 01:17:21+00:00> Created by concatenate<br/>               2025-03-09 01:17:21+00:00> Merged from several files</div></div></div></details></div>\n",
       "<div class=\"scp-output section\"><details><summary>          Data </summary>\n",
       "<div class=\"scp-output section\"><div class=\"attr-name\">        title</div><div>:</div><div class=\"attr-value\"> absorbance</div></div>\n",
       "<div class=\"scp-output section\"><div class=\"attr-name\">       values</div><div>:</div><div class=\"attr-value\"> ... </div></div>\n",
       "<div class='numeric'>         [[   1.245    1.245 ...    1.311    1.307]<br/>          [   1.245    1.245 ...    1.302    1.299]<br/>          ...<br/>          [   1.461     1.46 ...    2.087    2.088]<br/>          [   1.448    1.447 ...    2.071    2.065]] a.u.</div>\n",
       "<div class=\"scp-output section\"><div class=\"attr-name\">        shape</div><div>:</div><div class=\"attr-value\"> (y:8, x:5549)</div></div></details></div>\n",
       "<div class=\"scp-output section\"><details><summary>     Dimension `x`</summary>\n",
       "<div class=\"scp-output section\"><div class=\"attr-name\">         size</div><div>:</div><div class=\"attr-value\"> 5549</div></div>\n",
       "<div class=\"scp-output section\"><div class=\"attr-name\">        title</div><div>:</div><div class=\"attr-value\"> wavenumbers</div></div>\n",
       "<div class=\"scp-output section\"><div class=\"attr-name\">  coordinates</div><div>:</div><div class=\"attr-value\"> <div class='numeric'>[    6000     5999 ...    650.9    649.9] cm⁻¹</div></div></div></details></div>\n",
       "<div class=\"scp-output section\"><details><summary>     Dimension `y`</summary>\n",
       "<div class=\"scp-output section\"><div class=\"attr-name\">         size</div><div>:</div><div class=\"attr-value\"> 8</div></div>\n",
       "<div class=\"scp-output section\"><div class=\"attr-name\">        title</div><div>:</div><div class=\"attr-value\"> acquisition timestamp (GMT)</div></div>\n",
       "<div class=\"scp-output section\"><div class=\"attr-name\">  coordinates</div><div>:</div><div class=\"attr-value\"> <div class='numeric'>[1.544e+09 1.544e+09 ... 1.544e+09 1.544e+09] s</div></div></div>\n",
       "<div class=\"scp-output section\"><div class=\"attr-name\">       labels</div><div>:</div><div class=\"attr-value\"> ... </div></div>\n",
       "<div class='label'>         [[  2018-11-29 16:23:05+00:00   2018-11-29 16:35:00+00:00 ...   2018-11-30 07:34:49+00:00   2018-11-30 07:46:44+00:00]<br/>          [  /home/runner/.spectrochempy/testdata/irdata/subdir/1-20/7_CZ0-100_Pd_3.SPA<br/>             /home/runner/.spectrochempy/testdata/irdata/subdir/1-20/7_CZ0-100_Pd_4.SPA ...<br/>             /home/runner/.spectrochempy/testdata/irdata/subdir/7_CZ0-100_Pd_103.SPA<br/>             /home/runner/.spectrochempy/testdata/irdata/subdir/7_CZ0-100_Pd_104.SPA]]</div></details></div></details></div>"
      ],
      "text/plain": [
       "NDDataset: [float64] a.u. (shape: (y:8, x:5549))"
      ]
     },
     "execution_count": 14,
     "metadata": {},
     "output_type": "execute_result"
    }
   ],
   "source": [
    "scp.read_dir(folder, recursive=True, pattern=\"*.spa\")"
   ]
  },
  {
   "cell_type": "code",
   "execution_count": 15,
   "id": "e3949488",
   "metadata": {
    "execution": {
     "iopub.execute_input": "2025-03-09T01:17:21.780395Z",
     "iopub.status.busy": "2025-03-09T01:17:21.779974Z",
     "iopub.status.idle": "2025-03-09T01:17:22.103879Z",
     "shell.execute_reply": "2025-03-09T01:17:22.103239Z"
    }
   },
   "outputs": [
    {
     "data": {
      "text/html": [
       "<div class='scp-output'><details><summary>NDDataset: [float64] a.u. (shape: (y:8, x:5549))[7_CZ0-100 Pd_104]</summary><div class=\"scp-output section\"><details><summary>Summary</summary>\n",
       "<div class=\"scp-output section\"><div class=\"attr-name\">         name</div><div>:</div><div class=\"attr-value\"> 7_CZ0-100 Pd_104</div></div>\n",
       "<div class=\"scp-output section\"><div class=\"attr-name\">       author</div><div>:</div><div class=\"attr-value\"> runner@fv-az1696-90</div></div>\n",
       "<div class=\"scp-output section\"><div class=\"attr-name\">      created</div><div>:</div><div class=\"attr-value\"> 2025-03-09 01:17:21+00:00</div></div>\n",
       "<div class=\"scp-output section\"><div class=\"attr-name\">  description</div><div>:</div><div class=\"attr-value\"> <div>Concatenation of 8  datasets:<br/>               ( 7_CZ0-100 Pd_3, 7_CZ0-100 Pd_4, 7_CZ0-100 Pd_5, 7_CZ0-100 Pd_21, 7_CZ0-100 Pd_101, 7_CZ0-100 Pd_102, 7_CZ0-100 Pd_103, 7_CZ0-100 Pd_104 )</div></div></div>\n",
       "<div class=\"scp-output section\"><div class=\"attr-name\">      history</div><div>:</div><div class=\"attr-value\"> <div>2025-03-09 01:17:21+00:00> Created by concatenate<br/>               2025-03-09 01:17:21+00:00> Merged from several files</div></div></div></details></div>\n",
       "<div class=\"scp-output section\"><details><summary>          Data </summary>\n",
       "<div class=\"scp-output section\"><div class=\"attr-name\">        title</div><div>:</div><div class=\"attr-value\"> absorbance</div></div>\n",
       "<div class=\"scp-output section\"><div class=\"attr-name\">       values</div><div>:</div><div class=\"attr-value\"> ... </div></div>\n",
       "<div class='numeric'>         [[   1.245    1.245 ...    1.311    1.307]<br/>          [   1.245    1.245 ...    1.302    1.299]<br/>          ...<br/>          [   1.461     1.46 ...    2.087    2.088]<br/>          [   1.448    1.447 ...    2.071    2.065]] a.u.</div>\n",
       "<div class=\"scp-output section\"><div class=\"attr-name\">        shape</div><div>:</div><div class=\"attr-value\"> (y:8, x:5549)</div></div></details></div>\n",
       "<div class=\"scp-output section\"><details><summary>     Dimension `x`</summary>\n",
       "<div class=\"scp-output section\"><div class=\"attr-name\">         size</div><div>:</div><div class=\"attr-value\"> 5549</div></div>\n",
       "<div class=\"scp-output section\"><div class=\"attr-name\">        title</div><div>:</div><div class=\"attr-value\"> wavenumbers</div></div>\n",
       "<div class=\"scp-output section\"><div class=\"attr-name\">  coordinates</div><div>:</div><div class=\"attr-value\"> <div class='numeric'>[    6000     5999 ...    650.9    649.9] cm⁻¹</div></div></div></details></div>\n",
       "<div class=\"scp-output section\"><details><summary>     Dimension `y`</summary>\n",
       "<div class=\"scp-output section\"><div class=\"attr-name\">         size</div><div>:</div><div class=\"attr-value\"> 8</div></div>\n",
       "<div class=\"scp-output section\"><div class=\"attr-name\">        title</div><div>:</div><div class=\"attr-value\"> acquisition timestamp (GMT)</div></div>\n",
       "<div class=\"scp-output section\"><div class=\"attr-name\">  coordinates</div><div>:</div><div class=\"attr-value\"> <div class='numeric'>[1.544e+09 1.544e+09 ... 1.544e+09 1.544e+09] s</div></div></div>\n",
       "<div class=\"scp-output section\"><div class=\"attr-name\">       labels</div><div>:</div><div class=\"attr-value\"> ... </div></div>\n",
       "<div class='label'>         [[  2018-11-29 16:23:05+00:00   2018-11-29 16:35:00+00:00 ...   2018-11-30 07:34:49+00:00   2018-11-30 07:46:44+00:00]<br/>          [  /home/runner/.spectrochempy/testdata/irdata/subdir/1-20/7_CZ0-100_Pd_3.SPA<br/>             /home/runner/.spectrochempy/testdata/irdata/subdir/1-20/7_CZ0-100_Pd_4.SPA ...<br/>             /home/runner/.spectrochempy/testdata/irdata/subdir/7_CZ0-100_Pd_103.SPA<br/>             /home/runner/.spectrochempy/testdata/irdata/subdir/7_CZ0-100_Pd_104.SPA]]</div></details></div></details></div>"
      ],
      "text/plain": [
       "NDDataset: [float64] a.u. (shape: (y:8, x:5549))"
      ]
     },
     "execution_count": 15,
     "metadata": {},
     "output_type": "execute_result"
    }
   ],
   "source": [
    "scp.read(folder, recursive=True, pattern=\"*.spa\")  # equivalent"
   ]
  },
  {
   "cell_type": "code",
   "execution_count": 16,
   "id": "d8e70ff4",
   "metadata": {
    "execution": {
     "iopub.execute_input": "2025-03-09T01:17:22.105963Z",
     "iopub.status.busy": "2025-03-09T01:17:22.105748Z",
     "iopub.status.idle": "2025-03-09T01:17:22.478104Z",
     "shell.execute_reply": "2025-03-09T01:17:22.477373Z"
    }
   },
   "outputs": [
    {
     "data": {
      "text/html": [
       "<div class='scp-output'><details><summary>NDDataset: [float64] a.u. (shape: (y:2, x:5549))[7_CZ0-100 Pd_104]</summary><div class=\"scp-output section\"><details><summary>Summary</summary>\n",
       "<div class=\"scp-output section\"><div class=\"attr-name\">         name</div><div>:</div><div class=\"attr-value\"> 7_CZ0-100 Pd_104</div></div>\n",
       "<div class=\"scp-output section\"><div class=\"attr-name\">       author</div><div>:</div><div class=\"attr-value\"> runner@fv-az1696-90</div></div>\n",
       "<div class=\"scp-output section\"><div class=\"attr-name\">      created</div><div>:</div><div class=\"attr-value\"> 2025-03-09 01:17:22+00:00</div></div>\n",
       "<div class=\"scp-output section\"><div class=\"attr-name\">  description</div><div>:</div><div class=\"attr-value\"> <div>Concatenation of 2  datasets:<br/>               ( 7_CZ0-100 Pd_4, 7_CZ0-100 Pd_104 )</div></div></div>\n",
       "<div class=\"scp-output section\"><div class=\"attr-name\">      history</div><div>:</div><div class=\"attr-value\"> <div>2025-03-09 01:17:22+00:00> Created by concatenate<br/>               2025-03-09 01:17:22+00:00> Merged from several files</div></div></div></details></div>\n",
       "<div class=\"scp-output section\"><details><summary>          Data </summary>\n",
       "<div class=\"scp-output section\"><div class=\"attr-name\">        title</div><div>:</div><div class=\"attr-value\"> absorbance</div></div>\n",
       "<div class=\"scp-output section\"><div class=\"attr-name\">       values</div><div>:</div><div class=\"attr-value\"> ... </div></div>\n",
       "<div class='numeric'>         [[   1.245    1.245 ...    1.302    1.299]<br/>          [   1.448    1.447 ...    2.071    2.065]] a.u.</div>\n",
       "<div class=\"scp-output section\"><div class=\"attr-name\">        shape</div><div>:</div><div class=\"attr-value\"> (y:2, x:5549)</div></div></details></div>\n",
       "<div class=\"scp-output section\"><details><summary>     Dimension `x`</summary>\n",
       "<div class=\"scp-output section\"><div class=\"attr-name\">         size</div><div>:</div><div class=\"attr-value\"> 5549</div></div>\n",
       "<div class=\"scp-output section\"><div class=\"attr-name\">        title</div><div>:</div><div class=\"attr-value\"> wavenumbers</div></div>\n",
       "<div class=\"scp-output section\"><div class=\"attr-name\">  coordinates</div><div>:</div><div class=\"attr-value\"> <div class='numeric'>[    6000     5999 ...    650.9    649.9] cm⁻¹</div></div></div></details></div>\n",
       "<div class=\"scp-output section\"><details><summary>     Dimension `y`</summary>\n",
       "<div class=\"scp-output section\"><div class=\"attr-name\">         size</div><div>:</div><div class=\"attr-value\"> 2</div></div>\n",
       "<div class=\"scp-output section\"><div class=\"attr-name\">        title</div><div>:</div><div class=\"attr-value\"> acquisition timestamp (GMT)</div></div>\n",
       "<div class=\"scp-output section\"><div class=\"attr-name\">  coordinates</div><div>:</div><div class=\"attr-value\"> <div class='numeric'>[1.544e+09 1.544e+09] s</div></div></div>\n",
       "<div class=\"scp-output section\"><div class=\"attr-name\">       labels</div><div>:</div><div class=\"attr-value\"> ... </div></div>\n",
       "<div class='label'>         [[  2018-11-29 16:35:00+00:00   2018-11-30 07:46:44+00:00]<br/>          [  /home/runner/.spectrochempy/testdata/irdata/subdir/1-20/7_CZ0-100_Pd_4.SPA<br/>             /home/runner/.spectrochempy/testdata/irdata/subdir/7_CZ0-100_Pd_104.SPA]]</div></details></div></details></div>"
      ],
      "text/plain": [
       "NDDataset: [float64] a.u. (shape: (y:2, x:5549))"
      ]
     },
     "execution_count": 16,
     "metadata": {},
     "output_type": "execute_result"
    }
   ],
   "source": [
    "scp.read_omnic(folder, recursive=True, pattern=\"*4.spa\")  # equivalent"
   ]
  },
  {
   "cell_type": "markdown",
   "id": "e6afceb5",
   "metadata": {},
   "source": [
    "This way the \".srs\" file is ignored."
   ]
  },
  {
   "cell_type": "markdown",
   "id": "78e2bbb9",
   "metadata": {},
   "source": [
    "## Reading files from a ZIP archive"
   ]
  },
  {
   "cell_type": "markdown",
   "id": "4372be73",
   "metadata": {},
   "source": [
    "The `read_zip` function is designed to read files from a ZIP archive. It can be used to read a single file\n",
    "or all files in the archive. As usual, by default all files are merged. The `merge` keyword can be used to\n",
    "read the files separately."
   ]
  },
  {
   "cell_type": "code",
   "execution_count": 17,
   "id": "371ba6b2",
   "metadata": {
    "execution": {
     "iopub.execute_input": "2025-03-09T01:17:22.480638Z",
     "iopub.status.busy": "2025-03-09T01:17:22.480161Z",
     "iopub.status.idle": "2025-03-09T01:17:23.112116Z",
     "shell.execute_reply": "2025-03-09T01:17:23.111443Z"
    }
   },
   "outputs": [
    {
     "data": {
      "text/html": [
       "<div class='scp-output'><details><summary>List (len=7, type=NDDataset)</summary><ul><div class='scp-output section'><div class='scp-output'><details><summary>0: NDDataset: [float64] unitless (shape: (y:3, x:700))[m5nbs]</summary><div class=\"scp-output section\"><details><summary>Summary</summary>\n",
       "<div class=\"scp-output section\"><div class=\"attr-name\">         name</div><div>:</div><div class=\"attr-value\"> m5nbs</div></div>\n",
       "<div class=\"scp-output section\"><div class=\"attr-name\">       author</div><div>:</div><div class=\"attr-value\"> *unknown*</div></div>\n",
       "<div class=\"scp-output section\"><div class=\"attr-name\">      created</div><div>:</div><div class=\"attr-value\"> 2025-03-09 01:17:22+00:00</div></div>\n",
       "<div class=\"scp-output section\"><div class=\"attr-name\">      history</div><div>:</div><div class=\"attr-value\"> <div>2025-03-09 01:17:22+00:00> M5nbs.axisscale{2,1}=freqs;   %class double 1x700<br/>               2025-03-09 01:17:22+00:00> Imported by spectrochempy.</div></div></div></details></div>\n",
       "<div class=\"scp-output section\"><details><summary>          Data </summary>\n",
       "<div class=\"scp-output section\"><div class=\"attr-name\">        title</div><div>:</div><div class=\"attr-value\"> <untitled></div></div>\n",
       "<div class=\"scp-output section\"><div class=\"attr-name\">       values</div><div>:</div><div class=\"attr-value\"> ... </div></div>\n",
       "<div class='numeric'>         [[   0.134    0.132 ...  0.09665  0.09771]<br/>          [  0.1374   0.1354 ...  0.09898  0.09999]<br/>          [  0.1437   0.1416 ...   0.1037   0.1048]]</div>\n",
       "<div class=\"scp-output section\"><div class=\"attr-name\">        shape</div><div>:</div><div class=\"attr-value\"> (y:3, x:700)</div></div></details></div>\n",
       "<div class=\"scp-output section\"><details><summary>     Dimension `x`</summary>\n",
       "<div class=\"scp-output section\"><div class=\"attr-name\">         size</div><div>:</div><div class=\"attr-value\"> 700</div></div>\n",
       "<div class=\"scp-output section\"><div class=\"attr-name\">        title</div><div>:</div><div class=\"attr-value\"> <untitled></div></div>\n",
       "<div class=\"scp-output section\"><div class=\"attr-name\">  coordinates</div><div>:</div><div class=\"attr-value\"> <div class='numeric'>[    1100     1102 ...     2496     2498]</div></div></div></details></div>\n",
       "<div class=\"scp-output section\"><details><summary>     Dimension `y`</summary>\n",
       "<div class=\"scp-output section\"><div class=\"attr-name\">         size</div><div>:</div><div class=\"attr-value\"> 3</div></div>\n",
       "<div class=\"scp-output section\"><div class=\"attr-name\">        title</div><div>:</div><div class=\"attr-value\"> index</div></div>\n",
       "<div class=\"scp-output section\"><div class=\"attr-name\">  coordinates</div><div>:</div><div class=\"attr-value\"> <div class='numeric'>[       0        1        2]</div></div></div></details></div></details></div></div>\n",
       "<div class='scp-output section'><div class='scp-output'><details><summary>1: NDDataset: [float64] unitless (shape: (y:4, x:700))[mp5nbs]</summary><div class=\"scp-output section\"><details><summary>Summary</summary>\n",
       "<div class=\"scp-output section\"><div class=\"attr-name\">         name</div><div>:</div><div class=\"attr-value\"> mp5nbs</div></div>\n",
       "<div class=\"scp-output section\"><div class=\"attr-name\">       author</div><div>:</div><div class=\"attr-value\"> *unknown*</div></div>\n",
       "<div class=\"scp-output section\"><div class=\"attr-name\">      created</div><div>:</div><div class=\"attr-value\"> 2025-03-09 01:17:22+00:00</div></div>\n",
       "<div class=\"scp-output section\"><div class=\"attr-name\">      history</div><div>:</div><div class=\"attr-value\"> <div>2025-03-09 01:17:22+00:00> Mp5nbs.axisscale{2,1}=freqs;   %class double 1x700<br/>               2025-03-09 01:17:22+00:00> Imported by spectrochempy.</div></div></div></details></div>\n",
       "<div class=\"scp-output section\"><details><summary>          Data </summary>\n",
       "<div class=\"scp-output section\"><div class=\"attr-name\">        title</div><div>:</div><div class=\"attr-value\"> <untitled></div></div>\n",
       "<div class=\"scp-output section\"><div class=\"attr-name\">       values</div><div>:</div><div class=\"attr-value\"> ... </div></div>\n",
       "<div class='numeric'>         [[ 0.06679   0.0645 ...  0.03636  0.03724]<br/>          [ 0.06031  0.05819 ...  0.02807  0.02892]<br/>          [ 0.06189  0.05965 ...  0.03215  0.03299]<br/>          [ 0.06115  0.05901 ...  0.03013  0.03099]]</div>\n",
       "<div class=\"scp-output section\"><div class=\"attr-name\">        shape</div><div>:</div><div class=\"attr-value\"> (y:4, x:700)</div></div></details></div>\n",
       "<div class=\"scp-output section\"><details><summary>     Dimension `x`</summary>\n",
       "<div class=\"scp-output section\"><div class=\"attr-name\">         size</div><div>:</div><div class=\"attr-value\"> 700</div></div>\n",
       "<div class=\"scp-output section\"><div class=\"attr-name\">        title</div><div>:</div><div class=\"attr-value\"> <untitled></div></div>\n",
       "<div class=\"scp-output section\"><div class=\"attr-name\">  coordinates</div><div>:</div><div class=\"attr-value\"> <div class='numeric'>[    1100     1102 ...     2496     2498]</div></div></div></details></div>\n",
       "<div class=\"scp-output section\"><details><summary>     Dimension `y`</summary>\n",
       "<div class=\"scp-output section\"><div class=\"attr-name\">         size</div><div>:</div><div class=\"attr-value\"> 4</div></div>\n",
       "<div class=\"scp-output section\"><div class=\"attr-name\">        title</div><div>:</div><div class=\"attr-value\"> index</div></div>\n",
       "<div class=\"scp-output section\"><div class=\"attr-name\">  coordinates</div><div>:</div><div class=\"attr-value\"> <div class='numeric'>[       0        1        2        3]</div></div></div></details></div></details></div></div>\n",
       "<div class='scp-output section'><div class='scp-output'><details><summary>2: NDDataset: [float64] unitless (shape: (y:4, x:700))[mp6nbs]</summary><div class=\"scp-output section\"><details><summary>Summary</summary>\n",
       "<div class=\"scp-output section\"><div class=\"attr-name\">         name</div><div>:</div><div class=\"attr-value\"> mp6nbs</div></div>\n",
       "<div class=\"scp-output section\"><div class=\"attr-name\">       author</div><div>:</div><div class=\"attr-value\"> *unknown*</div></div>\n",
       "<div class=\"scp-output section\"><div class=\"attr-name\">      created</div><div>:</div><div class=\"attr-value\"> 2025-03-09 01:17:22+00:00</div></div>\n",
       "<div class=\"scp-output section\"><div class=\"attr-name\">      history</div><div>:</div><div class=\"attr-value\"> <div>2025-03-09 01:17:22+00:00> Mp6nbs.axisscale{2,1}=freqs;   %class double 1x700<br/>               2025-03-09 01:17:22+00:00> Imported by spectrochempy.</div></div></div></details></div>\n",
       "<div class=\"scp-output section\"><details><summary>          Data </summary>\n",
       "<div class=\"scp-output section\"><div class=\"attr-name\">        title</div><div>:</div><div class=\"attr-value\"> <untitled></div></div>\n",
       "<div class=\"scp-output section\"><div class=\"attr-name\">       values</div><div>:</div><div class=\"attr-value\"> ... </div></div>\n",
       "<div class='numeric'>         [[ 0.05404   0.0524 ...  0.02147  0.02236]<br/>          [ 0.05388  0.05223 ...  0.02187  0.02277]<br/>          [ 0.05238  0.05069 ...  0.02207  0.02295]<br/>          [ 0.05311  0.05144 ...  0.02195  0.02284]]</div>\n",
       "<div class=\"scp-output section\"><div class=\"attr-name\">        shape</div><div>:</div><div class=\"attr-value\"> (y:4, x:700)</div></div></details></div>\n",
       "<div class=\"scp-output section\"><details><summary>     Dimension `x`</summary>\n",
       "<div class=\"scp-output section\"><div class=\"attr-name\">         size</div><div>:</div><div class=\"attr-value\"> 700</div></div>\n",
       "<div class=\"scp-output section\"><div class=\"attr-name\">        title</div><div>:</div><div class=\"attr-value\"> <untitled></div></div>\n",
       "<div class=\"scp-output section\"><div class=\"attr-name\">  coordinates</div><div>:</div><div class=\"attr-value\"> <div class='numeric'>[    1100     1102 ...     2496     2498]</div></div></div></details></div>\n",
       "<div class=\"scp-output section\"><details><summary>     Dimension `y`</summary>\n",
       "<div class=\"scp-output section\"><div class=\"attr-name\">         size</div><div>:</div><div class=\"attr-value\"> 4</div></div>\n",
       "<div class=\"scp-output section\"><div class=\"attr-name\">        title</div><div>:</div><div class=\"attr-value\"> index</div></div>\n",
       "<div class=\"scp-output section\"><div class=\"attr-name\">  coordinates</div><div>:</div><div class=\"attr-value\"> <div class='numeric'>[       0        1        2        3]</div></div></div></details></div></details></div></div>\n",
       "<div class='scp-output section'><div class='scp-output'><details><summary>3: NDDataset: [float64] unitless (shape: (y:80, x:4))[propvals]</summary><div class=\"scp-output section\"><details><summary>Summary</summary>\n",
       "<div class=\"scp-output section\"><div class=\"attr-name\">         name</div><div>:</div><div class=\"attr-value\"> propvals</div></div>\n",
       "<div class=\"scp-output section\"><div class=\"attr-name\">       author</div><div>:</div><div class=\"attr-value\"> *unknown*</div></div>\n",
       "<div class=\"scp-output section\"><div class=\"attr-name\">      created</div><div>:</div><div class=\"attr-value\"> 2025-03-09 01:17:22+00:00</div></div>\n",
       "<div class=\"scp-output section\"><div class=\"attr-name\">      history</div><div>:</div><div class=\"attr-value\"> <div>2025-03-09 01:17:22+00:00> Propvals.label{2,1}=proplbls;   %class char 4x8<br/>               2025-03-09 01:17:22+00:00> Imported by spectrochempy.</div></div></div></details></div>\n",
       "<div class=\"scp-output section\"><details><summary>          Data </summary>\n",
       "<div class=\"scp-output section\"><div class=\"attr-name\">        title</div><div>:</div><div class=\"attr-value\"> <untitled></div></div>\n",
       "<div class=\"scp-output section\"><div class=\"attr-name\">       values</div><div>:</div><div class=\"attr-value\"> ... </div></div>\n",
       "<div class='numeric'>         [[   10.45    3.687    8.746    64.84]<br/>          [   10.41     3.72    8.658    64.85]<br/>          ...<br/>          [   10.59    3.176    8.132    65.21]<br/>          [   10.98    3.328    8.428    64.85]]</div>\n",
       "<div class=\"scp-output section\"><div class=\"attr-name\">        shape</div><div>:</div><div class=\"attr-value\"> (y:80, x:4)</div></div></details></div>\n",
       "<div class=\"scp-output section\"><details><summary>     Dimension `x`</summary>\n",
       "<div class=\"scp-output section\"><div class=\"attr-name\">         size</div><div>:</div><div class=\"attr-value\"> 4</div></div>\n",
       "<div class=\"scp-output section\"><div class=\"attr-name\">        title</div><div>:</div><div class=\"attr-value\"> <untitled></div></div>\n",
       "<div class=\"scp-output section\"><div class=\"attr-name\">       labels</div><div>:</div><div class=\"attr-value\"> <div class='label'>[  Moisture   Oil        Protein    Starch  ]</div> </div></div></details></div>\n",
       "<div class=\"scp-output section\"><details><summary>     Dimension `y`</summary>\n",
       "<div class=\"scp-output section\"><div class=\"attr-name\">         size</div><div>:</div><div class=\"attr-value\"> 80</div></div>\n",
       "<div class=\"scp-output section\"><div class=\"attr-name\">        title</div><div>:</div><div class=\"attr-value\"> index</div></div>\n",
       "<div class=\"scp-output section\"><div class=\"attr-name\">  coordinates</div><div>:</div><div class=\"attr-value\"> <div class='numeric'>[       0        1 ...       78       79]</div></div></div></details></div></details></div></div>\n",
       "<div class='scp-output section'><div class='scp-output'><details><summary>4: NDDataset: [float64] unitless (shape: (y:80, x:700))[m5spec]</summary><div class=\"scp-output section\"><details><summary>Summary</summary>\n",
       "<div class=\"scp-output section\"><div class=\"attr-name\">         name</div><div>:</div><div class=\"attr-value\"> m5spec</div></div>\n",
       "<div class=\"scp-output section\"><div class=\"attr-name\">       author</div><div>:</div><div class=\"attr-value\"> *unknown*</div></div>\n",
       "<div class=\"scp-output section\"><div class=\"attr-name\">      created</div><div>:</div><div class=\"attr-value\"> 2025-03-09 01:17:22+00:00</div></div>\n",
       "<div class=\"scp-output section\"><div class=\"attr-name\">      history</div><div>:</div><div class=\"attr-value\"> <div>2025-03-09 01:17:22+00:00> M5spec.axisscale{2,1}=freqs;   %class double 1x700<br/>               2025-03-09 01:17:22+00:00> Imported by spectrochempy.</div></div></div></details></div>\n",
       "<div class=\"scp-output section\"><details><summary>          Data </summary>\n",
       "<div class=\"scp-output section\"><div class=\"attr-name\">        title</div><div>:</div><div class=\"attr-value\"> <untitled></div></div>\n",
       "<div class=\"scp-output section\"><div class=\"attr-name\">       values</div><div>:</div><div class=\"attr-value\"> ... </div></div>\n",
       "<div class='numeric'>         [[ 0.04449  0.04438 ...   0.7309   0.7306]<br/>          [  0.0465  0.04635 ...   0.7275    0.727]<br/>          ...<br/>          [ 0.05944  0.05932 ...   0.7362   0.7357]<br/>          [ 0.05009  0.04993 ...   0.7289   0.7282]]</div>\n",
       "<div class=\"scp-output section\"><div class=\"attr-name\">        shape</div><div>:</div><div class=\"attr-value\"> (y:80, x:700)</div></div></details></div>\n",
       "<div class=\"scp-output section\"><details><summary>     Dimension `x`</summary>\n",
       "<div class=\"scp-output section\"><div class=\"attr-name\">         size</div><div>:</div><div class=\"attr-value\"> 700</div></div>\n",
       "<div class=\"scp-output section\"><div class=\"attr-name\">        title</div><div>:</div><div class=\"attr-value\"> <untitled></div></div>\n",
       "<div class=\"scp-output section\"><div class=\"attr-name\">  coordinates</div><div>:</div><div class=\"attr-value\"> <div class='numeric'>[    1100     1102 ...     2496     2498]</div></div></div></details></div>\n",
       "<div class=\"scp-output section\"><details><summary>     Dimension `y`</summary>\n",
       "<div class=\"scp-output section\"><div class=\"attr-name\">         size</div><div>:</div><div class=\"attr-value\"> 80</div></div>\n",
       "<div class=\"scp-output section\"><div class=\"attr-name\">        title</div><div>:</div><div class=\"attr-value\"> index</div></div>\n",
       "<div class=\"scp-output section\"><div class=\"attr-name\">  coordinates</div><div>:</div><div class=\"attr-value\"> <div class='numeric'>[       0        1 ...       78       79]</div></div></div></details></div></details></div></div>\n",
       "<div class='scp-output section'><div class='scp-output'><details><summary>5: NDDataset: [float64] unitless (shape: (y:80, x:700))[mp5spec]</summary><div class=\"scp-output section\"><details><summary>Summary</summary>\n",
       "<div class=\"scp-output section\"><div class=\"attr-name\">         name</div><div>:</div><div class=\"attr-value\"> mp5spec</div></div>\n",
       "<div class=\"scp-output section\"><div class=\"attr-name\">       author</div><div>:</div><div class=\"attr-value\"> *unknown*</div></div>\n",
       "<div class=\"scp-output section\"><div class=\"attr-name\">      created</div><div>:</div><div class=\"attr-value\"> 2025-03-09 01:17:22+00:00</div></div>\n",
       "<div class=\"scp-output section\"><div class=\"attr-name\">      history</div><div>:</div><div class=\"attr-value\"> <div>2025-03-09 01:17:22+00:00> Mp5spec.axisscale{2,1}=freqs;   %class double 1x700<br/>               2025-03-09 01:17:22+00:00> Imported by spectrochempy.</div></div></div></details></div>\n",
       "<div class=\"scp-output section\"><details><summary>          Data </summary>\n",
       "<div class=\"scp-output section\"><div class=\"attr-name\">        title</div><div>:</div><div class=\"attr-value\"> <untitled></div></div>\n",
       "<div class=\"scp-output section\"><div class=\"attr-name\">       values</div><div>:</div><div class=\"attr-value\"> ... </div></div>\n",
       "<div class='numeric'>         [[-0.01244 -0.01251 ...   0.6849   0.6844]<br/>          [-0.01419 -0.01425 ...   0.6924   0.6919]<br/>          ...<br/>          [0.005116  0.00504 ...   0.6979   0.6976]<br/>          [-0.003701 -0.003818 ...   0.7128   0.7121]]</div>\n",
       "<div class=\"scp-output section\"><div class=\"attr-name\">        shape</div><div>:</div><div class=\"attr-value\"> (y:80, x:700)</div></div></details></div>\n",
       "<div class=\"scp-output section\"><details><summary>     Dimension `x`</summary>\n",
       "<div class=\"scp-output section\"><div class=\"attr-name\">         size</div><div>:</div><div class=\"attr-value\"> 700</div></div>\n",
       "<div class=\"scp-output section\"><div class=\"attr-name\">        title</div><div>:</div><div class=\"attr-value\"> <untitled></div></div>\n",
       "<div class=\"scp-output section\"><div class=\"attr-name\">  coordinates</div><div>:</div><div class=\"attr-value\"> <div class='numeric'>[    1100     1102 ...     2496     2498]</div></div></div></details></div>\n",
       "<div class=\"scp-output section\"><details><summary>     Dimension `y`</summary>\n",
       "<div class=\"scp-output section\"><div class=\"attr-name\">         size</div><div>:</div><div class=\"attr-value\"> 80</div></div>\n",
       "<div class=\"scp-output section\"><div class=\"attr-name\">        title</div><div>:</div><div class=\"attr-value\"> index</div></div>\n",
       "<div class=\"scp-output section\"><div class=\"attr-name\">  coordinates</div><div>:</div><div class=\"attr-value\"> <div class='numeric'>[       0        1 ...       78       79]</div></div></div></details></div></details></div></div>\n",
       "<div class='scp-output section'><div class='scp-output'><details><summary>6: NDDataset: [float64] unitless (shape: (y:80, x:700))[mp6spec]</summary><div class=\"scp-output section\"><details><summary>Summary</summary>\n",
       "<div class=\"scp-output section\"><div class=\"attr-name\">         name</div><div>:</div><div class=\"attr-value\"> mp6spec</div></div>\n",
       "<div class=\"scp-output section\"><div class=\"attr-name\">       author</div><div>:</div><div class=\"attr-value\"> *unknown*</div></div>\n",
       "<div class=\"scp-output section\"><div class=\"attr-name\">      created</div><div>:</div><div class=\"attr-value\"> 2025-03-09 01:17:22+00:00</div></div>\n",
       "<div class=\"scp-output section\"><div class=\"attr-name\">      history</div><div>:</div><div class=\"attr-value\"> <div>2025-03-09 01:17:22+00:00> Mp6spec.axisscale{2,1}=freqs;   %class double 1x700<br/>               2025-03-09 01:17:22+00:00> Imported by spectrochempy.</div></div></div></details></div>\n",
       "<div class=\"scp-output section\"><details><summary>          Data </summary>\n",
       "<div class=\"scp-output section\"><div class=\"attr-name\">        title</div><div>:</div><div class=\"attr-value\"> <untitled></div></div>\n",
       "<div class=\"scp-output section\"><div class=\"attr-name\">       values</div><div>:</div><div class=\"attr-value\"> ... </div></div>\n",
       "<div class='numeric'>         [[ -0.0227  -0.0228 ...   0.6747   0.6741]<br/>          [-0.02192 -0.02206 ...   0.6826   0.6822]<br/>          ...<br/>          [-0.006796 -0.006888 ...   0.6899   0.6891]<br/>          [-0.01526 -0.01538 ...   0.7028   0.7021]]</div>\n",
       "<div class=\"scp-output section\"><div class=\"attr-name\">        shape</div><div>:</div><div class=\"attr-value\"> (y:80, x:700)</div></div></details></div>\n",
       "<div class=\"scp-output section\"><details><summary>     Dimension `x`</summary>\n",
       "<div class=\"scp-output section\"><div class=\"attr-name\">         size</div><div>:</div><div class=\"attr-value\"> 700</div></div>\n",
       "<div class=\"scp-output section\"><div class=\"attr-name\">        title</div><div>:</div><div class=\"attr-value\"> <untitled></div></div>\n",
       "<div class=\"scp-output section\"><div class=\"attr-name\">  coordinates</div><div>:</div><div class=\"attr-value\"> <div class='numeric'>[    1100     1102 ...     2496     2498]</div></div></div></details></div>\n",
       "<div class=\"scp-output section\"><details><summary>     Dimension `y`</summary>\n",
       "<div class=\"scp-output section\"><div class=\"attr-name\">         size</div><div>:</div><div class=\"attr-value\"> 80</div></div>\n",
       "<div class=\"scp-output section\"><div class=\"attr-name\">        title</div><div>:</div><div class=\"attr-value\"> index</div></div>\n",
       "<div class=\"scp-output section\"><div class=\"attr-name\">  coordinates</div><div>:</div><div class=\"attr-value\"> <div class='numeric'>[       0        1 ...       78       79]</div></div></div></details></div></details></div></div>\n",
       "</details></div>"
      ],
      "text/plain": [
       "[NDDataset: [float64] unitless (shape: (y:3, x:700)),\n",
       " NDDataset: [float64] unitless (shape: (y:4, x:700)),\n",
       " NDDataset: [float64] unitless (shape: (y:4, x:700)),\n",
       " NDDataset: [float64] unitless (shape: (y:80, x:4)),\n",
       " NDDataset: [float64] unitless (shape: (y:80, x:700)),\n",
       " NDDataset: [float64] unitless (shape: (y:80, x:700)),\n",
       " NDDataset: [float64] unitless (shape: (y:80, x:700))]"
      ]
     },
     "execution_count": 17,
     "metadata": {},
     "output_type": "execute_result"
    }
   ],
   "source": [
    "scp.read(\n",
    "    \"https://eigenvector.com/wp-content/uploads/2019/06/corn.mat_.zip\", merge=False\n",
    ")"
   ]
  }
 ],
 "metadata": {
  "jupytext": {
   "formats": "ipynb,py:percent",
   "notebook_metadata_filter": "all"
  },
  "kernelspec": {
   "display_name": "Python 3 (ipykernel)",
   "language": "python",
   "name": "python3"
  },
  "language_info": {
   "codemirror_mode": {
    "name": "ipython",
    "version": 3
   },
   "file_extension": ".py",
   "mimetype": "text/x-python",
   "name": "python",
   "nbconvert_exporter": "python",
   "pygments_lexer": "ipython3",
   "version": "3.10.16"
  },
  "toc-showcode": false,
  "toc-showtags": false,
  "widgets": {
   "application/vnd.jupyter.widget-state+json": {
    "state": {},
    "version_major": 2,
    "version_minor": 0
   }
  }
 },
 "nbformat": 4,
 "nbformat_minor": 5
}
