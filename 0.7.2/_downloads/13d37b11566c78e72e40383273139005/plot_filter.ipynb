{
  "cells": [
    {
      "cell_type": "markdown",
      "metadata": {},
      "source": [
        "# Savitky-Golay and Whittaker-Eilers smoothing of a Raman spectrum\n\nIn this example, we use the [Filter]{.title-ref} processor to smooth a\nRaman spectrum.\n"
      ]
    },
    {
      "cell_type": "code",
      "execution_count": null,
      "metadata": {
        "collapsed": false
      },
      "outputs": [],
      "source": [
        "import spectrochempy as scp"
      ]
    },
    {
      "cell_type": "markdown",
      "metadata": {},
      "source": [
        "First, we import a sample raman spectrum and plot it:\n"
      ]
    },
    {
      "cell_type": "code",
      "execution_count": null,
      "metadata": {
        "collapsed": false
      },
      "outputs": [],
      "source": [
        "# use the generic read function.\n# Note that read_labspec would be equivalent for this file format.\n\nX = scp.read(\"ramandata/labspec/SMC1-Initial_RT.txt\")\nprefs = X.preferences\nprefs.figure.figsize = (8, 4)\nX.plot()"
      ]
    },
    {
      "cell_type": "markdown",
      "metadata": {},
      "source": [
        "here [Filter]{.title-ref} processor is used to apply a Savitzky-Golay\nfilter to the spectrum.\n"
      ]
    },
    {
      "cell_type": "code",
      "execution_count": null,
      "metadata": {
        "collapsed": false
      },
      "outputs": [],
      "source": [
        "filter = scp.Filter(\n    method=\"savgol\", size=5, order=0\n)  # default is size=5, order=2, deriv=0\n\n# plot the result\nXm = filter(X)\nX.plot(color=\"b\", label=\"original\")\nax = Xm.plot(clear=False, color=\"r\", ls=\"-\", lw=1.5, label=\"SG filter\")\ndiff = X - Xm\ns = round(diff.std(dim=-1).values, 2)\nax = diff.plot(clear=False, ls=\"-\", lw=1, label=f\"difference (std={s})\")\nax.legend(loc=\"best\", fontsize=10)\nax.set_title(\"Savitzky-Golay filter (size=7, order=2)\")"
      ]
    },
    {
      "cell_type": "markdown",
      "metadata": {},
      "source": [
        "As good alternative to the Savitzky-Golay filter want can choose to use\nthe Whittaker-Eilers smoother\n"
      ]
    },
    {
      "cell_type": "code",
      "execution_count": null,
      "metadata": {
        "collapsed": false
      },
      "outputs": [],
      "source": [
        "filter = scp.Filter(method=\"whittaker\", order=2, lamb=1.5)\nXm = filter(X)\n# plot the result\nXm = filter(X)\nX.plot(color=\"b\", label=\"original\")\nax = Xm.plot(clear=False, color=\"r\", ls=\"-\", lw=1.5, label=\"WE filter\")\ndiff = X - Xm\ns = round(diff.std(dim=-1).values, 2)\nax = diff.plot(clear=False, ls=\"-\", lw=1, label=f\"difference (std={s})\")\nax.legend(loc=\"best\", fontsize=10)\nax.set_title(\"Whittaker-Eiler filter (order=2, lamb=1.5)\")"
      ]
    }
  ],
  "metadata": {
    "kernelspec": {
      "display_name": "Python 3",
      "language": "python",
      "name": "python3"
    },
    "language_info": {
      "codemirror_mode": {
        "name": "ipython",
        "version": 3
      },
      "file_extension": ".py",
      "mimetype": "text/x-python",
      "name": "python",
      "nbconvert_exporter": "python",
      "pygments_lexer": "ipython3",
      "version": "3.10.16"
    }
  },
  "nbformat": 4,
  "nbformat_minor": 0
}