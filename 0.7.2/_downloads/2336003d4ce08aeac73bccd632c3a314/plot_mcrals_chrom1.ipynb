{
  "cells": [
    {
      "cell_type": "markdown",
      "metadata": {},
      "source": [
        "# MCR-ALS example (adapted from Jaumot et al. 2005)\n\nIn this example, we perform the MCR ALS optimization of a dataset\ncorresponding to a HPLC-DAD run, from `jaumot:2005`{.interpreted-text\nrole=\"cite:t\"} and `jaumot:2015`{.interpreted-text role=\"cite:t\"}.\n\nThis dataset (and others) can be downloaded from the [Multivariate Curve\nResolution\nHomepage](https://mcrals.wordpress.com/download/example-data-sets).\n\nFor the user convenience, this dataset is present in the test data\ndirectory [scp.preferences.datadir]{.title-ref} of SpectroChemPy as\n`als2004dataset.MAT`.\n"
      ]
    },
    {
      "cell_type": "markdown",
      "metadata": {},
      "source": [
        "Import the spectrochempy API package\n"
      ]
    },
    {
      "cell_type": "code",
      "execution_count": null,
      "metadata": {
        "collapsed": false
      },
      "outputs": [],
      "source": [
        "import spectrochempy as scp"
      ]
    },
    {
      "cell_type": "markdown",
      "metadata": {},
      "source": [
        "# Loading the example dataset\n\nThe file type (matlab) is inferred from the extension `.mat`, so we can\nuse the generic API function [read]{.title-ref}. Alternatively, one can\nbe more specific by using the [read_matlab]{.title-ref} function. Both\nhave exactly the same behavior.\n"
      ]
    },
    {
      "cell_type": "code",
      "execution_count": null,
      "metadata": {
        "collapsed": false
      },
      "outputs": [],
      "source": [
        "datasets = scp.read(\"matlabdata/als2004dataset.MAT\")"
      ]
    },
    {
      "cell_type": "markdown",
      "metadata": {},
      "source": [
        "As the `.mat` file contains 6 matrices, 6 [NDDataset]{.title-ref}\nobjects are returned.\n"
      ]
    },
    {
      "cell_type": "code",
      "execution_count": null,
      "metadata": {
        "collapsed": false
      },
      "outputs": [],
      "source": [
        "print(\"NDDataset names:\")\nfor ds in datasets:\n    print(f\"{ds.name} : {ds.shape}\")"
      ]
    },
    {
      "cell_type": "markdown",
      "metadata": {},
      "source": [
        "We are interested in the last dataset (`\"m1\"`) that contains a single\nHPLS-DAD run `(51x96)` dataset.\n\nAs usual, the 51 rows correspond to the `time axis` of the HPLC run, and\nthe 96 columns to the `wavelength` axis of the UV spectra. The original\ndataset does not contain information as to the actual time and\nwavelength coordinates.\n\nMCR-ALS needs also an initial guess for either concentration profiles or\npure spectra concentration profiles. The 4th dataset in the example\n(`\"spure\"`) contains (4x96) guess of spectral profiles.\n\nThe experimental data as $X$ (`X`) and the `guess` are thus:\n"
      ]
    },
    {
      "cell_type": "code",
      "execution_count": null,
      "metadata": {
        "collapsed": false
      },
      "outputs": [],
      "source": [
        "X = datasets[-1]\nguess = datasets[3]"
      ]
    },
    {
      "cell_type": "markdown",
      "metadata": {},
      "source": [
        "Plot of X and of the guess:\n"
      ]
    },
    {
      "cell_type": "code",
      "execution_count": null,
      "metadata": {
        "collapsed": false
      },
      "outputs": [],
      "source": [
        "X.plot()\nguess.plot()"
      ]
    },
    {
      "cell_type": "markdown",
      "metadata": {},
      "source": [
        "# Create a MCR-ALS object\n\nWe first create a MCR-ALS object named here `mcr`.\n\nThe [log_level]{.title-ref} option can be set to `\"INFO\"` to get verbose\nouput of the MCR-ALS optimization steps.\n"
      ]
    },
    {
      "cell_type": "code",
      "execution_count": null,
      "metadata": {
        "collapsed": false
      },
      "outputs": [],
      "source": [
        "mcr = scp.MCRALS(log_level=\"INFO\")"
      ]
    },
    {
      "cell_type": "markdown",
      "metadata": {},
      "source": [
        "# Fit the MCR-ALS model\n\nThen we execute the optimization process using the [fit]{.title-ref}\nmethod with the `X` and `guess` dataset as input arguments.\n"
      ]
    },
    {
      "cell_type": "code",
      "execution_count": null,
      "metadata": {
        "collapsed": false
      },
      "outputs": [],
      "source": [
        "mcr.fit(X, guess)"
      ]
    },
    {
      "cell_type": "markdown",
      "metadata": {},
      "source": [
        "# Plotting the results\n\nThe optimization has converged. We can get the concentration $C$ (C) and\npure spectra profiles $S^T$ (St) and plot them\n"
      ]
    },
    {
      "cell_type": "code",
      "execution_count": null,
      "metadata": {
        "collapsed": false
      },
      "outputs": [],
      "source": [
        "mcr.C.T.plot()\nmcr.St.plot()"
      ]
    },
    {
      "cell_type": "markdown",
      "metadata": {},
      "source": [
        "Finally, plots the reconstructed dataset ($\\hat{X} = C.S^T$) *vs.*\noriginal dataset ($X$) as well as the residuals ($E$) for few spectra.\n\nThe fit is good and comparable to the original paper\n(`jaumot:2005`{.interpreted-text role=\"cite:t\"}).\n"
      ]
    },
    {
      "cell_type": "code",
      "execution_count": null,
      "metadata": {
        "collapsed": false
      },
      "outputs": [],
      "source": [
        "mcr.plotmerit(nb_traces=5)"
      ]
    },
    {
      "cell_type": "markdown",
      "metadata": {},
      "source": [
        "This ends the example ! The following line can be uncommented if no plot\nshows when running the .py script with python\n"
      ]
    },
    {
      "cell_type": "code",
      "execution_count": null,
      "metadata": {
        "collapsed": false
      },
      "outputs": [],
      "source": [
        "# scp.show()"
      ]
    }
  ],
  "metadata": {
    "kernelspec": {
      "display_name": "Python 3",
      "language": "python",
      "name": "python3"
    },
    "language_info": {
      "codemirror_mode": {
        "name": "ipython",
        "version": 3
      },
      "file_extension": ".py",
      "mimetype": "text/x-python",
      "name": "python",
      "nbconvert_exporter": "python",
      "pygments_lexer": "ipython3",
      "version": "3.10.16"
    }
  },
  "nbformat": 4,
  "nbformat_minor": 0
}