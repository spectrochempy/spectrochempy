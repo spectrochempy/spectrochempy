{
  "cells": [
    {
      "cell_type": "markdown",
      "metadata": {},
      "source": [
        "# 2D-IRIS analysis example\n\nIn this example, we perform the 2D IRIS analysis of CO adsorption on a\nsulfide catalyst.\n"
      ]
    },
    {
      "cell_type": "code",
      "execution_count": null,
      "metadata": {
        "collapsed": false
      },
      "outputs": [],
      "source": [
        "import spectrochempy as scp"
      ]
    },
    {
      "cell_type": "markdown",
      "metadata": {},
      "source": [
        "# Uploading dataset\n"
      ]
    },
    {
      "cell_type": "code",
      "execution_count": null,
      "metadata": {
        "collapsed": false
      },
      "outputs": [],
      "source": [
        "X = scp.read(\"irdata/CO@Mo_Al2O3.SPG\")"
      ]
    },
    {
      "cell_type": "markdown",
      "metadata": {},
      "source": [
        "[X]{.title-ref} has two coordinates: \\* [wavenumbers]{.title-ref} named\n\\\"x\\\" \\* and [timestamps]{.title-ref} (*i.e.,* the time of recording)\nnamed \\\"y\\\".\n"
      ]
    },
    {
      "cell_type": "code",
      "execution_count": null,
      "metadata": {
        "collapsed": false
      },
      "outputs": [],
      "source": [
        "print(X.coordset)"
      ]
    },
    {
      "cell_type": "markdown",
      "metadata": {},
      "source": [
        "# Setting new coordinates\n\nThe [y]{.title-ref} coordinates of the dataset is the acquisition\ntimestamp. However, each spectrum has been recorded with a given\npressure of CO in the infrared cell.\n\nHence, it would be interesting to add pressure coordinates to the\n[y]{.title-ref} dimension:\n"
      ]
    },
    {
      "cell_type": "code",
      "execution_count": null,
      "metadata": {
        "collapsed": false
      },
      "outputs": [],
      "source": [
        "pressures = [\n    0.003,\n    0.004,\n    0.009,\n    0.014,\n    0.021,\n    0.026,\n    0.036,\n    0.051,\n    0.093,\n    0.150,\n    0.203,\n    0.300,\n    0.404,\n    0.503,\n    0.602,\n    0.702,\n    0.801,\n    0.905,\n    1.004,\n]\n\nc_pressures = scp.Coord(pressures, title=\"pressure\", units=\"torr\")"
      ]
    },
    {
      "cell_type": "markdown",
      "metadata": {},
      "source": [
        "Now we can set multiple coordinates:\n"
      ]
    },
    {
      "cell_type": "code",
      "execution_count": null,
      "metadata": {
        "collapsed": false
      },
      "outputs": [],
      "source": [
        "c_times = X.y.copy()  # the original coordinate\nX.y = [c_times, c_pressures]\nprint(X.y)"
      ]
    },
    {
      "cell_type": "markdown",
      "metadata": {},
      "source": [
        "To get a detailed a rich display of these coordinates. In a jupyter\nnotebook, just type:\n"
      ]
    },
    {
      "cell_type": "code",
      "execution_count": null,
      "metadata": {
        "collapsed": false
      },
      "outputs": [],
      "source": [
        "X.coordset"
      ]
    },
    {
      "cell_type": "markdown",
      "metadata": {},
      "source": [
        "By default, the current coordinate is the first one (here\n[c_times]{.title-ref} ). For example, it will be used by default for\nplotting:\n"
      ]
    },
    {
      "cell_type": "code",
      "execution_count": null,
      "metadata": {
        "collapsed": false
      },
      "outputs": [],
      "source": [
        "prefs = X.preferences\nprefs.figure.figsize = (7, 3)\nX.plot(colorbar=True)\nX.plot_map(colorbar=True)"
      ]
    },
    {
      "cell_type": "markdown",
      "metadata": {},
      "source": [
        "To seamlessly work with the second coordinates (pressures), we can\nchange the default coordinate:\n"
      ]
    },
    {
      "cell_type": "code",
      "execution_count": null,
      "metadata": {
        "collapsed": false
      },
      "outputs": [],
      "source": [
        "X.y.select(2)  # to select coordinate `_2`\nX.y.default"
      ]
    },
    {
      "cell_type": "markdown",
      "metadata": {},
      "source": [
        "Let\\'s now plot the spectral range of interest. The default coordinate\nis now used:\n"
      ]
    },
    {
      "cell_type": "code",
      "execution_count": null,
      "metadata": {
        "collapsed": false
      },
      "outputs": [],
      "source": [
        "X_ = X[:, 2250.0:1950.0]\nprint(X_.y.default)\nX_.plot()\nX_.plot_map()"
      ]
    },
    {
      "cell_type": "markdown",
      "metadata": {},
      "source": [
        "# IRIS analysis without regularization\n\nPerform IRIS without regularization (the loglevel can be set to\n[INFO]{.title-ref} to have information on the running process)\n"
      ]
    },
    {
      "cell_type": "code",
      "execution_count": null,
      "metadata": {
        "collapsed": false
      },
      "outputs": [],
      "source": [
        "iris1 = scp.IRIS(log_level=\"INFO\")"
      ]
    },
    {
      "cell_type": "markdown",
      "metadata": {},
      "source": [
        "first we compute the kernel object\n"
      ]
    },
    {
      "cell_type": "code",
      "execution_count": null,
      "metadata": {
        "collapsed": false
      },
      "outputs": [],
      "source": [
        "K = scp.IrisKernel(X_, \"langmuir\", q=[-8, -1, 50])"
      ]
    },
    {
      "cell_type": "markdown",
      "metadata": {},
      "source": [
        "The actual kernel is given by the [kernel]{.title-ref} attribute\n"
      ]
    },
    {
      "cell_type": "code",
      "execution_count": null,
      "metadata": {
        "collapsed": false
      },
      "outputs": [],
      "source": [
        "kernel = K.kernel\nkernel"
      ]
    },
    {
      "cell_type": "markdown",
      "metadata": {},
      "source": [
        "Now we fit the model - we can pass either the Kernel object or the\nkernel NDDataset\n"
      ]
    },
    {
      "cell_type": "code",
      "execution_count": null,
      "metadata": {
        "collapsed": false
      },
      "outputs": [],
      "source": [
        "iris1.fit(X_, K)"
      ]
    },
    {
      "cell_type": "markdown",
      "metadata": {},
      "source": [
        "Plots the results\n"
      ]
    },
    {
      "cell_type": "code",
      "execution_count": null,
      "metadata": {
        "collapsed": false
      },
      "outputs": [],
      "source": [
        "iris1.plotdistribution()\niris1.plotmerit()"
      ]
    },
    {
      "cell_type": "markdown",
      "metadata": {},
      "source": [
        "# With regularization and a manual search\n\nPerform IRIS with regularization, manual search\n"
      ]
    },
    {
      "cell_type": "code",
      "execution_count": null,
      "metadata": {
        "collapsed": false
      },
      "outputs": [],
      "source": [
        "iris2 = scp.IRIS(reg_par=[-10, 1, 12])"
      ]
    },
    {
      "cell_type": "markdown",
      "metadata": {},
      "source": [
        "We keep the same kernel object as previously - performs the fit.\n"
      ]
    },
    {
      "cell_type": "code",
      "execution_count": null,
      "metadata": {
        "collapsed": false
      },
      "outputs": [],
      "source": [
        "iris2.fit(X_, K)\n\niris2.plotlcurve(title=\"L curve, manual search\")\niris2.plotdistribution(-7)\niris2.plotmerit(-7)"
      ]
    },
    {
      "cell_type": "markdown",
      "metadata": {},
      "source": [
        "# Automatic search\n\n%% Now try an automatic search of the regularization parameter:\n"
      ]
    },
    {
      "cell_type": "code",
      "execution_count": null,
      "metadata": {
        "collapsed": false
      },
      "outputs": [],
      "source": [
        "iris3 = scp.IRIS(reg_par=[-10, 1])\niris3.fit(X_, K)\niris3.plotlcurve(title=\"L curve, automated search\")"
      ]
    },
    {
      "cell_type": "markdown",
      "metadata": {},
      "source": [
        "The data corresponding to the largest curvature of the L-curve are at\nthe second last position of output data.\n"
      ]
    },
    {
      "cell_type": "code",
      "execution_count": null,
      "metadata": {
        "collapsed": false
      },
      "outputs": [],
      "source": [
        "iris3.plotdistribution(-2)\niris3.plotmerit(-2)"
      ]
    },
    {
      "cell_type": "markdown",
      "metadata": {},
      "source": [
        "This ends the example ! The following line can be uncommented if no plot\nshows when running the .py script with python\n"
      ]
    },
    {
      "cell_type": "code",
      "execution_count": null,
      "metadata": {
        "collapsed": false
      },
      "outputs": [],
      "source": [
        "# scp.show()"
      ]
    }
  ],
  "metadata": {
    "kernelspec": {
      "display_name": "Python 3",
      "language": "python",
      "name": "python3"
    },
    "language_info": {
      "codemirror_mode": {
        "name": "ipython",
        "version": 3
      },
      "file_extension": ".py",
      "mimetype": "text/x-python",
      "name": "python",
      "nbconvert_exporter": "python",
      "pygments_lexer": "ipython3",
      "version": "3.10.16"
    }
  },
  "nbformat": 4,
  "nbformat_minor": 0
}