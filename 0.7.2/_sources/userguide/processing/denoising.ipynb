{
 "cells": [
  {
   "cell_type": "markdown",
   "id": "fdbc99d0",
   "metadata": {},
   "source": [
    "# Denoising"
   ]
  },
  {
   "cell_type": "code",
   "execution_count": null,
   "id": "78b5b61f",
   "metadata": {},
   "outputs": [],
   "source": [
    "import spectrochempy as scp"
   ]
  },
  {
   "cell_type": "markdown",
   "id": "08d19b42",
   "metadata": {},
   "source": [
    "## Denoising 2D spectra\n",
    "Denoising 2D spectra can be done using the above filtering techniques which can be applied sequentially\n",
    "to each rows of a 2D dataset.\n",
    "\n",
    "e.g., let's take a series of Raman spectra for demonstration: These spectra present both a significant noise and cosmic rays spikes."
   ]
  },
  {
   "cell_type": "code",
   "execution_count": null,
   "id": "d326c2ff",
   "metadata": {},
   "outputs": [],
   "source": [
    "# Load the data\n",
    "dataset = scp.read(\"ramandata/labspec/serie190214-1.txt\")\n",
    "# select the useful region (in particular spectra are 0 after 6500 s)\n",
    "nd = dataset[0.0:6500.0, 70.0:]\n",
    "# baseline correction the data (for a easier comparison)\n",
    "nd1 = nd.snip()\n",
    "# plot\n",
    "prefs = nd1.preferences\n",
    "prefs.figure.figsize = (9, 5)\n",
    "nd1.plot()"
   ]
  },
  {
   "cell_type": "markdown",
   "id": "4c1c5dbf",
   "metadata": {},
   "source": [
    "We can apply a Savgol filter to denoise the spectra"
   ]
  },
  {
   "cell_type": "code",
   "execution_count": null,
   "id": "768eacc1",
   "metadata": {},
   "outputs": [],
   "source": [
    "nd2 = nd1.savgol(size=7, order=2)\n",
    "nd2.plot()"
   ]
  },
  {
   "cell_type": "markdown",
   "id": "f6c66b2f",
   "metadata": {},
   "source": [
    "The problem is that, not only the spikes are not removed, but they are also broadened."
   ]
  },
  {
   "cell_type": "markdown",
   "id": "a30df821",
   "metadata": {},
   "source": [
    "A better way to simply denoise this spectra is to use the `denoise` dataset method.\n",
    "\n",
    "The ratio parameter fix the amount of variance we want to preserve in % (default 99.8%)"
   ]
  },
  {
   "cell_type": "code",
   "execution_count": null,
   "id": "fbbda212",
   "metadata": {},
   "outputs": [],
   "source": [
    "nd3 = nd1.denoise(ratio=90)\n",
    "nd3.plot()"
   ]
  },
  {
   "cell_type": "markdown",
   "id": "b3684c79",
   "metadata": {},
   "source": [
    "This clearly help to increase the signal-to-noise ratio.\n",
    "However, it apparently has in the present case a poor effect on eliminating cosmic ray peaks."
   ]
  },
  {
   "cell_type": "markdown",
   "id": "f5506d0b",
   "metadata": {},
   "source": [
    "## Removing cosmic rays spike from Raman spectra"
   ]
  },
  {
   "cell_type": "markdown",
   "id": "49ffce57",
   "metadata": {},
   "source": [
    "### Median filter"
   ]
  },
  {
   "cell_type": "markdown",
   "id": "4cc740ea",
   "metadata": {},
   "source": [
    "A first way to perform this is to apply a median-filter to the data"
   ]
  },
  {
   "cell_type": "code",
   "execution_count": null,
   "id": "4d6d60eb",
   "metadata": {},
   "outputs": [],
   "source": [
    "filter = scp.Filter(method=\"median\", size=5)\n",
    "nd4 = filter(nd1)\n",
    "nd4.plot()"
   ]
  },
  {
   "cell_type": "markdown",
   "id": "df8100de",
   "metadata": {},
   "source": [
    "However, the spike are not fully removed, and are broadened."
   ]
  },
  {
   "cell_type": "markdown",
   "id": "d9b333c5",
   "metadata": {},
   "source": [
    "### `despike` method\n",
    "\n",
    "To obtain better results, one can use the despike methods. The default method ('katsumo') is based on\n",
    ":cite:t:`katsumoto:2003`. The second one ('whitaker') is based on :cite:t:`Whitaker:2018`\n",
    "For both methods, only two parameters needs to be tuned: `delta`, a threshold for the detection of spikes, and\n",
    "`size` the size of the window to consider around the spike to estimate the original intensity."
   ]
  },
  {
   "cell_type": "code",
   "execution_count": null,
   "id": "b0336ed1",
   "metadata": {},
   "outputs": [],
   "source": [
    "X = nd1[0]\n",
    "nd5 = scp.despike(X, size=11, delta=5)\n",
    "X.plot()\n",
    "nd5.plot(clear=False, ls=\"-\", c=\"r\")"
   ]
  },
  {
   "cell_type": "markdown",
   "id": "f8a06f4a",
   "metadata": {},
   "source": [
    "Getting the desired results require the tuning of size and delta parameters. And sometimes may need to repeat the procedure on a previously filtered spectra.\n",
    "\n",
    "For example, it size or delta are badly chosen, valid peaks could be removed. So careful inspection of the results is crucial."
   ]
  },
  {
   "cell_type": "code",
   "execution_count": null,
   "id": "ab0cc7b5",
   "metadata": {},
   "outputs": [],
   "source": [
    "nd5b = scp.despike(X, size=21, delta=2)\n",
    "X.plot()\n",
    "nd5b.plot(clear=False, ls=\"-\", c=\"r\")"
   ]
  },
  {
   "cell_type": "markdown",
   "id": "682c3784",
   "metadata": {},
   "source": [
    "Last we can apply it to the full 2D dataset"
   ]
  },
  {
   "cell_type": "code",
   "execution_count": null,
   "id": "08c7ee37",
   "metadata": {},
   "outputs": [],
   "source": [
    "nd6 = scp.despike(nd1, size=11, delta=5)\n",
    "nd6.plot()"
   ]
  },
  {
   "cell_type": "markdown",
   "id": "7e976669",
   "metadata": {},
   "source": [
    "It is however rarely perfect as the setting of size and delta may be depending on the row.\n",
    "\n",
    "A possibility to improve it is to apply a denoise filter afterward."
   ]
  },
  {
   "cell_type": "code",
   "execution_count": null,
   "id": "a57aea2d",
   "metadata": {},
   "outputs": [],
   "source": [
    "nd7 = nd6.denoise(ratio=92)\n",
    "nd7.plot()"
   ]
  },
  {
   "cell_type": "markdown",
   "id": "9d9b5047",
   "metadata": {
    "lines_to_next_cell": 0
   },
   "source": [
    "The 'whitaker' method is also available:"
   ]
  },
  {
   "cell_type": "code",
   "execution_count": null,
   "id": "9b881690",
   "metadata": {},
   "outputs": [],
   "source": [
    "nd8 = scp.despike(nd1, size=11, delta=5, method=\"whitaker\")\n",
    "nd8.plot()"
   ]
  }
 ],
 "metadata": {
  "jupytext": {
   "cell_metadata_filter": "title,-all",
   "formats": "ipynb,py:percent",
   "notebook_metadata_filter": "all"
  },
  "kernelspec": {
   "display_name": "Python 3 (ipykernel)",
   "language": "python",
   "name": "python3"
  },
  "language_info": {
   "codemirror_mode": {
    "name": "ipython",
    "version": 3
   },
   "file_extension": ".py",
   "mimetype": "text/x-python",
   "name": "python",
   "nbconvert_exporter": "python",
   "pygments_lexer": "ipython3",
   "version": "3.13.2"
  }
 },
 "nbformat": 4,
 "nbformat_minor": 5
}
