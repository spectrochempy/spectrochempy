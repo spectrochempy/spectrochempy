{
 "cells": [
  {
   "cell_type": "markdown",
   "id": "017c5aa7",
   "metadata": {},
   "source": [
    "# Peak Integration\n",
    "\n",
    "This tutorial shows how to find peak maxima and determine peak areas with\n",
    "SpectroChemPy. As a prerequisite,\n",
    "the user is expected to have read the [Import](../importexport/import.rst),\n",
    "[Import IR](../importexport/importIR.rst),\n",
    "[Slicing](../processing/slicing.rst), and\n",
    "[Baseline Correction](../processing/baseline.rst) tutorials."
   ]
  },
  {
   "cell_type": "markdown",
   "id": "61b90900",
   "metadata": {},
   "source": [
    "First, let's import the SpectroChemPy API."
   ]
  },
  {
   "cell_type": "code",
   "execution_count": null,
   "id": "c5c3cabf",
   "metadata": {},
   "outputs": [],
   "source": [
    "import spectrochempy as scp"
   ]
  },
  {
   "cell_type": "markdown",
   "id": "1369fced",
   "metadata": {},
   "source": [
    "Now, import some 2D data into an NDDataset object."
   ]
  },
  {
   "cell_type": "code",
   "execution_count": null,
   "id": "b1439cb7",
   "metadata": {},
   "outputs": [],
   "source": [
    "ds = scp.read_omnic(\"irdata/nh4y-activation.spg\")\n",
    "ds"
   ]
  },
  {
   "cell_type": "markdown",
   "id": "697e54bd",
   "metadata": {},
   "source": [
    "It's a series of 55 spectra.\n",
    "\n",
    "For the demonstration, select only the first 20 on a limited region from 1250 to\n",
    "1800 cm$^{-1}$ (Do not forget to\n",
    "use floating numbers for slicing)."
   ]
  },
  {
   "cell_type": "code",
   "execution_count": null,
   "id": "55e1d2ed",
   "metadata": {},
   "outputs": [],
   "source": [
    "X = ds[:20, 1250.0:1800.0]"
   ]
  },
  {
   "cell_type": "markdown",
   "id": "03be6b05",
   "metadata": {},
   "source": [
    "We can also eventually remove the offset on the acquisition time dimension (y)."
   ]
  },
  {
   "cell_type": "code",
   "execution_count": null,
   "id": "b2f2bb08",
   "metadata": {},
   "outputs": [],
   "source": [
    "X.y -= X.y[0]\n",
    "X.y.ito(\"min\")\n",
    "X.y.title = \"acquisition time\""
   ]
  },
  {
   "cell_type": "markdown",
   "id": "b8f0f6ae",
   "metadata": {},
   "source": [
    "We set some plotting preferences and then plot the raw data."
   ]
  },
  {
   "cell_type": "code",
   "execution_count": null,
   "id": "9ca28277",
   "metadata": {},
   "outputs": [],
   "source": [
    "prefs = X.preferences\n",
    "prefs.figure.figsize = (6, 3)\n",
    "prefs.colormap = \"Dark2\"\n",
    "prefs.colorbar = True\n",
    "X.plot()"
   ]
  },
  {
   "cell_type": "markdown",
   "id": "81c3b26f",
   "metadata": {},
   "source": [
    "Now we can perform some baseline correction."
   ]
  },
  {
   "cell_type": "code",
   "execution_count": null,
   "id": "e2d62036",
   "metadata": {},
   "outputs": [],
   "source": [
    "blc = scp.Baseline()\n",
    "blc.ranges = (\n",
    "    [1740.0, 1800.0],\n",
    "    [1550.0, 1570.0],\n",
    "    [1250.0, 1300.0],\n",
    ")  # define 3 regions where we want the baseline to reach zero.\n",
    "blc.model = \"polynomial\"\n",
    "blc.order = 3\n",
    "\n",
    "blc.fit(X)  # fit the baseline\n",
    "\n",
    "Xcorr = blc.corrected  # get the corrected dataset\n",
    "Xcorr.plot()"
   ]
  },
  {
   "cell_type": "markdown",
   "id": "1b88d838",
   "metadata": {},
   "source": [
    "To integrate each row on the full range, we can use the sum or trapz method of an\n",
    "NDDataset."
   ]
  },
  {
   "cell_type": "code",
   "execution_count": null,
   "id": "e512d772",
   "metadata": {},
   "outputs": [],
   "source": [
    "inttrapz = Xcorr.trapezoid(dim=\"x\")\n",
    "intsimps = Xcorr.simpson(dim=\"x\")"
   ]
  },
  {
   "cell_type": "markdown",
   "id": "b84a94c9",
   "metadata": {},
   "source": [
    "As you can see, both methods give almost the same results in this case."
   ]
  },
  {
   "cell_type": "code",
   "execution_count": null,
   "id": "c2955bde",
   "metadata": {},
   "outputs": [],
   "source": [
    "scp.plot_multiple(\n",
    "    method=\"scatter\",\n",
    "    ms=5,\n",
    "    datasets=[inttrapz, intsimps],\n",
    "    labels=[\"trapezoidal rule\", \"Simpson's rule\"],\n",
    "    legend=\"best\",\n",
    ")"
   ]
  },
  {
   "cell_type": "markdown",
   "id": "556eec03",
   "metadata": {},
   "source": [
    "The difference between the trapezoidal and Simpson integration methods is visualized\n",
    "below. In this case, they are\n",
    "extremely close."
   ]
  },
  {
   "cell_type": "code",
   "execution_count": null,
   "id": "4368e71d",
   "metadata": {},
   "outputs": [],
   "source": [
    "diff = (inttrapz - intsimps) * 100.0 / intsimps\n",
    "diff.title = \"difference\"\n",
    "diff.units = \"percent\"\n",
    "diff.plot(scatter=True, ms=5)"
   ]
  }
 ],
 "metadata": {
  "jupytext": {
   "formats": "ipynb,py:percent",
   "notebook_metadata_filter": "all"
  },
  "kernelspec": {
   "display_name": "Python 3",
   "language": "python",
   "name": "python3"
  }
 },
 "nbformat": 4,
 "nbformat_minor": 5
}
