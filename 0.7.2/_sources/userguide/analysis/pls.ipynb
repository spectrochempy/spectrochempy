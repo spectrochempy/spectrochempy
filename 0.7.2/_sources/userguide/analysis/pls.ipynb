{
 "cells": [
  {
   "cell_type": "markdown",
   "id": "bab42fc9",
   "metadata": {},
   "source": [
    "# Partial Least Squares Regression (PLSRegression)"
   ]
  },
  {
   "cell_type": "code",
   "execution_count": null,
   "id": "f030f665",
   "metadata": {},
   "outputs": [],
   "source": [
    "import spectrochempy as scp"
   ]
  },
  {
   "cell_type": "markdown",
   "id": "8b24dbd6",
   "metadata": {
    "lines_to_next_cell": 0
   },
   "source": [
    "## Introduction\n",
    "\n",
    "PLSRegression (standing for Partial Least Squares regression ) is a statistical method to estimate\n",
    "$n \\times l$ dependant or predicted variables $Y$ from $n \\times m$ explanatory or observed\n",
    "variables $X$ by projecting both of them on new spaces spanned by $k$ latent variables,\n",
    "according to the master equations :\n",
    "$$ X = S_X L_X^T + E_X $$\n",
    "$$ Y = S_Y L_Y^T + E_Y $$\n",
    "$$ S_X, S_y = \\textrm{argmax}_{S_X, S_Y}(\\textrm{cov}(S_X, S_Y)) $$\n",
    "$S_X$ and $S_Y$ are $n \\times k$ matrices often called score matrices, and $L_X^T$ and $L_Y^T$ are,\n",
    "respectively, $k \\times l$ and $k \\times m$ loading matrices. Matrices $E_X$ and $E_Y$ are the error\n",
    "terms or residuals.\n",
    "As indicated by the third equation, the decompositions of $X$ and $Y$ are made to maximise\n",
    "the covariance of the score matrices.\n",
    "\n",
    "The implementation of PLSRegression in spectrochempy is based on the [Scikit-Learn implementation of\n",
    "PLSRegression](https://scikit-learn.org/stable/modules/generated/sklearn.cross_decomposition.PLSRegression.html)\n",
    "with similar methods and attributes on the one hand, and some that are specific to spectrochempy.\n",
    "\n",
    "## Loading of the dataset\n",
    "Here we show how PLSRegression is implemented in Scpy on a dataset consisting of 80 samples of corn measured\n",
    "on 3 different NIR spectrometers, together with moisture, oil,\n",
    "protein and starch values for each of the samples. This dataset (and others) can be loaded from\n",
    "[http://www.eigenvector.com](http://www.eigenvector.com/data/)."
   ]
  },
  {
   "cell_type": "code",
   "execution_count": null,
   "id": "da90bf09",
   "metadata": {},
   "outputs": [],
   "source": [
    "A = scp.read(\"http://www.eigenvector.com/data/Corn/corn.mat\", merge=False)"
   ]
  },
  {
   "cell_type": "markdown",
   "id": "56d13b5b",
   "metadata": {
    "lines_to_next_cell": 0
   },
   "source": [
    "The .mat file contains 7 eigenvectors's datasets which are thus returned in A as a list of 7\n",
    "NDDatasets. We print the names and dimensions of these datasets:"
   ]
  },
  {
   "cell_type": "code",
   "execution_count": null,
   "id": "c12b2417",
   "metadata": {},
   "outputs": [],
   "source": [
    "for a in A:\n",
    "    print(f\"{a.name} : {a.shape}\")"
   ]
  },
  {
   "cell_type": "markdown",
   "id": "8ab3eeb8",
   "metadata": {},
   "source": [
    "In this tutorial, we are first interested in the dataset named `'m5spec'`, corresponding to the 80 spectra\n",
    "on one of the instruments and `'propvals'` giving the property values of the 80 corn samples.\n",
    "\n",
    "Let's name the specta NDDataset `X` , add few informations about the x-scale and plot it, before and\n",
    "after detrend:"
   ]
  },
  {
   "cell_type": "code",
   "execution_count": null,
   "id": "576eaf8b",
   "metadata": {},
   "outputs": [],
   "source": [
    "X = A[-3]\n",
    "X.title = \"absorbance\"\n",
    "X.x.title = \"Wavelength\"\n",
    "X.x.units = \"nm\"\n",
    "X.plot(cmap=None)"
   ]
  },
  {
   "cell_type": "code",
   "execution_count": null,
   "id": "d58a23bb",
   "metadata": {
    "lines_to_next_cell": 0
   },
   "outputs": [],
   "source": [
    "X_ = X.detrend()\n",
    "X_.plot(cmap=None)"
   ]
  },
  {
   "cell_type": "markdown",
   "id": "cc57c4aa",
   "metadata": {},
   "source": [
    "Let's plot the properties of the sample:"
   ]
  },
  {
   "cell_type": "code",
   "execution_count": null,
   "id": "572dc5d9",
   "metadata": {},
   "outputs": [],
   "source": [
    "Y = A[3]\n",
    "Y.T.plot(cmap=None, legend=Y.x.labels)"
   ]
  },
  {
   "cell_type": "markdown",
   "id": "e7927caf",
   "metadata": {},
   "source": [
    "Standardization of the values allows better visualization:"
   ]
  },
  {
   "cell_type": "code",
   "execution_count": null,
   "id": "cc1c2d04",
   "metadata": {},
   "outputs": [],
   "source": [
    "Y_std = (Y - Y.mean(dim=0)) / Y.std(dim=0)\n",
    "Y_std.T.plot(cmap=None, legend=Y.x.labels)"
   ]
  },
  {
   "cell_type": "markdown",
   "id": "3288ce2a",
   "metadata": {},
   "source": [
    "## Running PLSRegression\n",
    "First we select 57 first samples (2/3 of the total) to train/calibrate the model and the remaining ones\n",
    "to test/validate the model, and we restrict first our analysis to the moisture content:"
   ]
  },
  {
   "cell_type": "code",
   "execution_count": null,
   "id": "37865142",
   "metadata": {},
   "outputs": [],
   "source": [
    "X_train = X[:57]\n",
    "X_test = X[57:]\n",
    "y_train = Y[:57, \"Moisture\"]\n",
    "y_test = Y[57:, \"Moisture\"]"
   ]
  },
  {
   "cell_type": "markdown",
   "id": "971ff201",
   "metadata": {},
   "source": [
    "Then we create a PLSRegression object with 5 components and fit the train datasets:"
   ]
  },
  {
   "cell_type": "code",
   "execution_count": null,
   "id": "93a1891a",
   "metadata": {},
   "outputs": [],
   "source": [
    "pls = scp.PLSRegression(n_components=5)\n",
    "_ = pls.fit(X_train, y_train)"
   ]
  },
  {
   "cell_type": "markdown",
   "id": "14d30317",
   "metadata": {},
   "source": [
    "The scores and loading matrices are stored in the `x_scores`,`x_loadings`, `y_scores` and `y_loadings`\n",
    "attributes. Let's for instance, plot the $S_X$ matrix:"
   ]
  },
  {
   "cell_type": "code",
   "execution_count": null,
   "id": "30d080df",
   "metadata": {},
   "outputs": [],
   "source": [
    "pls.x_loadings.plot()"
   ]
  },
  {
   "cell_type": "markdown",
   "id": "85bd9f2f",
   "metadata": {},
   "source": [
    "Once fitted, the PLS model can be used to predict the property values of another dataset, for instance:"
   ]
  },
  {
   "cell_type": "code",
   "execution_count": null,
   "id": "89c46913",
   "metadata": {},
   "outputs": [],
   "source": [
    "y_test_hat = pls.predict(X_test)\n",
    "y_test_hat.T.plot(title=\"predicted moisture for $X_{test}$\", marker=\"o\")"
   ]
  },
  {
   "cell_type": "markdown",
   "id": "7d396fad",
   "metadata": {},
   "source": [
    "We can generate a parity plot to compare the predicted and actual values, for\n",
    "both train set and test set."
   ]
  },
  {
   "cell_type": "code",
   "execution_count": null,
   "id": "6a6cd75d",
   "metadata": {},
   "outputs": [],
   "source": [
    "ax = pls.parityplot(label=\"calibration\")\n",
    "_ = pls.parityplot(y_test, y_test_hat, c=\"red\", label=\"validation\", clear=False)\n",
    "_ = ax.legend(loc=\"lower right\")"
   ]
  },
  {
   "cell_type": "markdown",
   "id": "27e425a9",
   "metadata": {},
   "source": [
    "The goodness of fit (as expressed by R-squared) can also be obtained using the `score()` method. For the training dataset\n",
    "it is obtained by passing no arguments, while for validation datasets, $X$ and $Y$ must be\n",
    "passed."
   ]
  },
  {
   "cell_type": "code",
   "execution_count": null,
   "id": "69049fe5",
   "metadata": {},
   "outputs": [],
   "source": [
    "print(f\"R-squared training dataset: {pls.score():.3}\")\n",
    "print(f\"R-squared test dataset: {pls.score(X_test, y_test):.3}\")"
   ]
  },
  {
   "cell_type": "markdown",
   "id": "dbfe4908",
   "metadata": {},
   "source": [
    "As expected, the goodness of fit is slightly lower for the validation than for the calibration."
   ]
  }
 ],
 "metadata": {
  "jupytext": {
   "formats": "ipynb,py:percent",
   "notebook_metadata_filter": "all"
  },
  "kernelspec": {
   "display_name": "Python 3 (ipykernel)",
   "language": "python",
   "name": "python3"
  },
  "language_info": {
   "codemirror_mode": {
    "name": "ipython",
    "version": 3
   },
   "file_extension": ".py",
   "mimetype": "text/x-python",
   "name": "python",
   "nbconvert_exporter": "python",
   "pygments_lexer": "ipython3",
   "version": "3.10.8"
  }
 },
 "nbformat": 4,
 "nbformat_minor": 5
}
