{
 "cells": [
  {
   "cell_type": "markdown",
   "id": "0a55ec85",
   "metadata": {},
   "source": [
    "# Import/Export of JCAMP-DX files\n",
    "\n",
    "[JCAMP-DX](http://www.jcamp-dx.org/) is an open format initially developed for IR\n",
    "data and extended to other spectroscopies. At present, the JCAMP-DX reader implemented\n",
    "in SpectroChemPy is limited to IR data and AFFN encoding (see <cite data-cite=\"mcdonald:1988\">McDonald and Wilks, 1988</cite>.\n",
    "\n",
    "The JCAMP-DX reader of SpectroChemPy has been essentially written to read JCAMP-DX files\n",
    "exported by the SpectroChemPy `write_jdx()` writer.\n"
   ]
  },
  {
   "cell_type": "code",
   "execution_count": null,
   "id": "6d572828",
   "metadata": {},
   "outputs": [],
   "source": [
    "import spectrochempy as scp\n",
    "\n",
    "X = scp.read_omnic(\"irdata//CO@Mo_Al2O3.SPG\")\n",
    "S0 = X[0]\n",
    "S0"
   ]
  },
  {
   "cell_type": "code",
   "execution_count": null,
   "id": "52b1d391",
   "metadata": {},
   "outputs": [],
   "source": [
    "S0.write_jcamp(\"CO@Mo_Al2O3_0.jdx\", confirm=False)"
   ]
  },
  {
   "cell_type": "markdown",
   "id": "bb124ba1",
   "metadata": {},
   "source": [
    "Then used (and maybe changed) by a 3rd party software, and re-imported in\n",
    "spectrochempy:"
   ]
  },
  {
   "cell_type": "code",
   "execution_count": null,
   "id": "d25609a0",
   "metadata": {},
   "outputs": [],
   "source": [
    "newS0 = scp.read_jcamp(\"CO@Mo_Al2O3_0.jdx\")\n",
    "newS0"
   ]
  },
  {
   "cell_type": "markdown",
   "id": "0f4d9b03",
   "metadata": {
    "lines_to_next_cell": 2
   },
   "source": [
    "It is important to note here that the conversion to JCAMP-DX changes the last digits\n",
    "of absorbance and wavenumbers:"
   ]
  },
  {
   "cell_type": "code",
   "execution_count": null,
   "id": "4e20f825",
   "metadata": {},
   "outputs": [],
   "source": [
    "from spectrochempy.utils.compare import difference"
   ]
  },
  {
   "cell_type": "code",
   "execution_count": null,
   "id": "bc30baf4",
   "metadata": {},
   "outputs": [],
   "source": [
    "max_error, max_rel_error = difference(S0, newS0)\n",
    "print(f\"Max absolute difference in absorbance: {max_error:.3g}\")\n",
    "print(f\"Max relative difference in absorbance: {max_rel_error:.3g}\")"
   ]
  },
  {
   "cell_type": "code",
   "execution_count": null,
   "id": "84938b49",
   "metadata": {},
   "outputs": [],
   "source": [
    "max_error, max_rel_error = difference(S0.x, newS0.x)\n",
    "print(f\"Max absolute difference in wavenumber: {max_error:.3g}\")\n",
    "print(f\"Max relative difference in wavenumber: {max_rel_error:.3g}\")"
   ]
  },
  {
   "cell_type": "markdown",
   "id": "bf26bff7",
   "metadata": {},
   "source": [
    "But this is much beyond the experimental accuracy of the data."
   ]
  }
 ],
 "metadata": {
  "jupytext": {
   "cell_metadata_json": true,
   "formats": "ipynb,py:percent",
   "notebook_metadata_filter": "all"
  },
  "kernelspec": {
   "display_name": "Python 3 (ipykernel)",
   "language": "python",
   "name": "python3"
  },
  "language_info": {
   "codemirror_mode": {
    "name": "ipython",
    "version": 3
   },
   "file_extension": ".py",
   "mimetype": "text/x-python",
   "name": "python",
   "nbconvert_exporter": "python",
   "pygments_lexer": "ipython3",
   "version": "3.13.2"
  },
  "widgets": {
   "application/vnd.jupyter.widget-state+json": {
    "state": {},
    "version_major": 2,
    "version_minor": 0
   }
  }
 },
 "nbformat": 4,
 "nbformat_minor": 5
}
