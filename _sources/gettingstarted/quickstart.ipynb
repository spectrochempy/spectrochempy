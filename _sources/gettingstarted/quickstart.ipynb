{
 "cells": [
  {
   "cell_type": "code",
   "execution_count": null,
   "id": "bf7d9b91",
   "metadata": {
    "lines_to_next_cell": 0
   },
   "outputs": [],
   "source": [
    "# ruff: noqa: T201"
   ]
  },
  {
   "cell_type": "markdown",
   "id": "abe16cfe",
   "metadata": {},
   "source": [
    "# Quickstart Tutorial 🚀\n",
    "\n",
    "**Contents**\n",
    "- [Installing SpectroChemPy](#installing-spectrochempy)\n",
    "- [Getting Started](#getting-started)\n",
    "- [Working with Spectroscopic Data](#working-with-spectroscopic-data)\n",
    "- [Data Processing Techniques](#data-processing-techniques)\n",
    "- [Advanced Analysis](#advanced-analysis)\n",
    "\n",
    "> **What you'll learn**\n",
    "> * Load and visualize spectroscopic data\n",
    "> * Perform basic data manipulation and plotting\n",
    "> * Apply common processing techniques\n",
    "> * Use advanced analysis methods"
   ]
  },
  {
   "cell_type": "markdown",
   "id": "a4ad3e2c",
   "metadata": {},
   "source": [
    "## Installing SpectroChemPy\n",
    "\n",
    "> **Prerequisites** ✅\n",
    "> * Python 3.11 or later\n",
    "> * Basic knowledge of Python\n",
    "> * Jupyter notebook environment\n",
    "\n",
    "You can install SpectroChemPy using either pip or mamba:\n",
    "\n",
    "**Using pip:**\n",
    "```bash\n",
    "pip install spectrochempy\n",
    "```\n",
    "\n",
    "**Using mamba:**\n",
    "```bash\n",
    "mamba install -c spectrocat spectrochempy\n",
    "```\n",
    "\n",
    "See the [Installation Guide](install/index.rst) for detailed instructions."
   ]
  },
  {
   "cell_type": "markdown",
   "id": "5e1dcaeb",
   "metadata": {},
   "source": [
    "In the following, we assume that we are running `spectrochempy` in a Jupyter notebook.\n",
    "See [here](../userguide/introduction/interface.ipynb) for details on how to start a Jupyter notebook."
   ]
  },
  {
   "cell_type": "markdown",
   "id": "35acbd29",
   "metadata": {},
   "source": [
    "## Getting Started\n",
    "\n",
    "Let's start by importing SpectroChemPy and checking its version:"
   ]
  },
  {
   "cell_type": "code",
   "execution_count": null,
   "id": "b6cc6cd8",
   "metadata": {},
   "outputs": [],
   "source": [
    "import spectrochempy as scp"
   ]
  },
  {
   "cell_type": "markdown",
   "id": "48477305",
   "metadata": {},
   "source": [
    "## Working with Spectroscopic Data\n",
    "\n",
    "### Loading Data\n",
    "\n",
    "SpectroChemPy supports many file formats including:\n",
    "* OMNIC (.spa, .spg)\n",
    "* JCAMP-DX (.dx, .jdx)\n",
    "* CSV files\n",
    "* And [many more](../userguide/importexport/import.ipynb)\n",
    "\n",
    "Let's load an example FTIR dataset:"
   ]
  },
  {
   "cell_type": "code",
   "execution_count": null,
   "id": "ada7ddb9",
   "metadata": {},
   "outputs": [],
   "source": [
    "# Load FTIR data of NH4Y zeolite activation\n",
    "ds = scp.read(\"irdata/nh4y-activation.spg\")\n",
    "print(f\"Dataset shape: {ds.shape}\")  # Show dimensions\n",
    "print(f\"x-axis unit: {ds.x.units}\")  # Show wavenumber units\n",
    "print(f\"y-axis unit: {ds.y.units}\")  # Show time units"
   ]
  },
  {
   "cell_type": "markdown",
   "id": "e9cc1e28",
   "metadata": {},
   "source": [
    "The `read` function is a powerful method that can load various file formats. In this case,\n",
    "we loaded an OMNIC file. For a full list of supported formats, see the\n",
    "[Import tutorial](../userguide/importexport/import.ipynb) section.\n",
    "\n",
    "The `read` function returns an `NDDataset` object."
   ]
  },
  {
   "cell_type": "markdown",
   "id": "decd5ae8",
   "metadata": {},
   "source": [
    "## Exploring the Data"
   ]
  },
  {
   "cell_type": "markdown",
   "id": "e4fccea1",
   "metadata": {},
   "source": [
    "### Understanding the NDDataset object\n",
    "The `NDDataset` is the core data structure in SpectroChemPy. It's designed specifically\n",
    "for spectroscopic data and provides:\n",
    "\n",
    "* Multi-dimensional data support\n",
    "* Coordinates and units handling\n",
    "* Built-in visualization\n",
    "* Processing methods"
   ]
  },
  {
   "cell_type": "markdown",
   "id": "787df518",
   "metadata": {},
   "source": [
    "You can display the loaded NDDataset in a Jupyter notebook as follows:"
   ]
  },
  {
   "cell_type": "code",
   "execution_count": null,
   "id": "8d74de54",
   "metadata": {},
   "outputs": [],
   "source": [
    "ds"
   ]
  },
  {
   "cell_type": "markdown",
   "id": "3a9ce5c5",
   "metadata": {},
   "source": [
    "Basic information about the data are given in the summary: data type, units, shape, and name of the dataset.\n",
    "\n",
    "Clicking on the arrow on the left side of the summary will expand the metadata section,\n",
    "which contains additional information about the dataset.\n",
    "\n",
    "The data itself is contained in the `data` attribute, which is a `numpy` array of shape (55,5549)."
   ]
  },
  {
   "cell_type": "code",
   "execution_count": null,
   "id": "0c53b205",
   "metadata": {},
   "outputs": [],
   "source": [
    "ds.data"
   ]
  },
  {
   "cell_type": "markdown",
   "id": "71b33756",
   "metadata": {},
   "source": [
    "The `x` and `y` attributes contain the coordinates of the dataset.\n",
    "In this case, the x-axis represents the wavenumber:"
   ]
  },
  {
   "cell_type": "code",
   "execution_count": null,
   "id": "448556a6",
   "metadata": {},
   "outputs": [],
   "source": [
    "ds.x"
   ]
  },
  {
   "cell_type": "markdown",
   "id": "cf5cfdaf",
   "metadata": {},
   "source": [
    "The y-axis represents the sample acquisition time:"
   ]
  },
  {
   "cell_type": "code",
   "execution_count": null,
   "id": "b304fa2b",
   "metadata": {},
   "outputs": [],
   "source": [
    "ds.y"
   ]
  },
  {
   "cell_type": "markdown",
   "id": "57424cbc",
   "metadata": {},
   "source": [
    "### Data Visualization\n",
    "\n",
    "SpectroChemPy's plotting capabilities are built on matplotlib but provide\n",
    "spectroscopy-specific features:"
   ]
  },
  {
   "cell_type": "code",
   "execution_count": null,
   "id": "5b6a6528",
   "metadata": {},
   "outputs": [],
   "source": [
    "ds.plot()"
   ]
  },
  {
   "cell_type": "markdown",
   "id": "0df7a531",
   "metadata": {},
   "source": [
    "### Data Selection and Manipulation\n",
    "\n",
    "You can easily select specific regions of your spectra using intuitive slicing.\n",
    "Here we select wavenumbers between 4000 and 2000 cm⁻¹:"
   ]
  },
  {
   "cell_type": "code",
   "execution_count": null,
   "id": "b087dc60",
   "metadata": {},
   "outputs": [],
   "source": [
    "region = ds[:, 4000.0:2000.0]\n",
    "region.plot()"
   ]
  },
  {
   "cell_type": "markdown",
   "id": "adb2aafd",
   "metadata": {},
   "source": [
    "### Mathematical Operations\n",
    "\n",
    "NDDataset supports various mathematical operations. Here's an example of baseline correction:"
   ]
  },
  {
   "cell_type": "markdown",
   "id": "3c8144ec",
   "metadata": {},
   "source": [
    "Make y coordinate relative to the first point"
   ]
  },
  {
   "cell_type": "code",
   "execution_count": null,
   "id": "86b1d19a",
   "metadata": {},
   "outputs": [],
   "source": [
    "region.y -= region.y[0]\n",
    "region.y.title = \"Dehydration time\""
   ]
  },
  {
   "cell_type": "markdown",
   "id": "c7824b0f",
   "metadata": {},
   "source": [
    "Subtract the last spectrum from all spectra"
   ]
  },
  {
   "cell_type": "code",
   "execution_count": null,
   "id": "8d0f21bb",
   "metadata": {},
   "outputs": [],
   "source": [
    "region -= region[-1]"
   ]
  },
  {
   "cell_type": "markdown",
   "id": "7db98f5f",
   "metadata": {},
   "source": [
    "Plot with colorbar to show intensity changes"
   ]
  },
  {
   "cell_type": "code",
   "execution_count": null,
   "id": "f92e9c99",
   "metadata": {},
   "outputs": [],
   "source": [
    "region.plot(colorbar=True)"
   ]
  },
  {
   "cell_type": "markdown",
   "id": "61e6d3fc",
   "metadata": {},
   "source": [
    "### Other Operations\n",
    "\n",
    "NDDataset supports many other operations, such as:\n",
    "- Arithmetic operations\n",
    "- Statistical analysis\n",
    "- Data transformation\n",
    "- And more\n",
    "\n",
    "For more information, see:\n",
    "\n",
    "- [More insight on the NDDataset objects](../userguide/objects/dataset/dataset.ipynb) section.\n",
    "- [API Reference](../reference/index.rst) for a full list of available operations.\n",
    "- [Plotting tutorial](../userguide/plotting/plotting.ipynb) for more information on advanced plotting."
   ]
  },
  {
   "cell_type": "markdown",
   "id": "273db8c3",
   "metadata": {},
   "source": [
    "## Data Processing Techniques\n",
    "\n",
    "SpectroChemPy includes numerous processing methods. Here are some common examples:"
   ]
  },
  {
   "cell_type": "markdown",
   "id": "db1e9eaa",
   "metadata": {},
   "source": [
    "### Spectral Smoothing\n",
    "\n",
    "Reduce noise while preserving spectral features:"
   ]
  },
  {
   "cell_type": "code",
   "execution_count": null,
   "id": "660c36b9",
   "metadata": {},
   "outputs": [],
   "source": [
    "smoothed = region.smooth(size=51, window=\"hanning\")\n",
    "smoothed.plot(colormap=\"magma\")"
   ]
  },
  {
   "cell_type": "markdown",
   "id": "07056ee9",
   "metadata": {},
   "source": [
    "### Baseline Correction\n",
    "\n",
    "Remove baseline artifacts using various algorithms:"
   ]
  },
  {
   "cell_type": "markdown",
   "id": "b8a77513",
   "metadata": {},
   "source": [
    "Prepare data"
   ]
  },
  {
   "cell_type": "code",
   "execution_count": null,
   "id": "176fbafa",
   "metadata": {},
   "outputs": [],
   "source": [
    "region = ds[:, 4000.0:2000.0]\n",
    "smoothed = region.smooth(size=51, window=\"hanning\")"
   ]
  },
  {
   "cell_type": "markdown",
   "id": "f77f8aa2",
   "metadata": {},
   "source": [
    "Configure baseline correction"
   ]
  },
  {
   "cell_type": "code",
   "execution_count": null,
   "id": "52e0285c",
   "metadata": {},
   "outputs": [],
   "source": [
    "blc = scp.Baseline()\n",
    "blc.ranges = [[2000.0, 2300.0], [3800.0, 3900.0]]  # Baseline regions\n",
    "blc.multivariate = True\n",
    "blc.model = \"polynomial\"\n",
    "blc.order = \"pchip\"\n",
    "blc.n_components = 5"
   ]
  },
  {
   "cell_type": "markdown",
   "id": "4c81a694",
   "metadata": {},
   "source": [
    "Apply correction"
   ]
  },
  {
   "cell_type": "code",
   "execution_count": null,
   "id": "d8996e43",
   "metadata": {},
   "outputs": [],
   "source": [
    "blc.fit(smoothed)\n",
    "blc.corrected.plot()"
   ]
  },
  {
   "cell_type": "markdown",
   "id": "028a8fdb",
   "metadata": {},
   "source": [
    "SpectroChemPy provides many other processing techniques, such as:\n",
    "* Normalization\n",
    "* Derivatives\n",
    "* Peak detection\n",
    "* And more\n",
    "\n",
    "For more information, see the [Processing tutorial](../userguide/processing/index.rst) section."
   ]
  },
  {
   "cell_type": "markdown",
   "id": "c4b6ca41",
   "metadata": {},
   "source": [
    "## Advanced Analysis\n",
    "\n",
    "### IRIS Processing example\n",
    "\n",
    "IRIS (Iterative Regularized Inverse Solver) is an advanced technique for analyzing\n",
    "spectroscopic data. Here's an example with CO adsorption data:"
   ]
  },
  {
   "cell_type": "markdown",
   "id": "4b8924fe",
   "metadata": {},
   "source": [
    "Load and prepare CO adsorption data"
   ]
  },
  {
   "cell_type": "code",
   "execution_count": null,
   "id": "02c5467a",
   "metadata": {},
   "outputs": [],
   "source": [
    "ds = scp.read_omnic(\"irdata/CO@Mo_Al2O3.SPG\")[:, 2250.0:1950.0]"
   ]
  },
  {
   "cell_type": "markdown",
   "id": "b6ca37e7",
   "metadata": {},
   "source": [
    "Define pressure coordinates"
   ]
  },
  {
   "cell_type": "code",
   "execution_count": null,
   "id": "fc5d3970",
   "metadata": {},
   "outputs": [],
   "source": [
    "pressure = [\n",
    "    0.00300,\n",
    "    0.00400,\n",
    "    0.00900,\n",
    "    0.01400,\n",
    "    0.02100,\n",
    "    0.02600,\n",
    "    0.03600,\n",
    "    0.05100,\n",
    "    0.09300,\n",
    "    0.15000,\n",
    "    0.20300,\n",
    "    0.30000,\n",
    "    0.40400,\n",
    "    0.50300,\n",
    "    0.60200,\n",
    "    0.70200,\n",
    "    0.80100,\n",
    "    0.90500,\n",
    "    1.00400,\n",
    "]\n",
    "ds.y = scp.Coord(pressure, title=\"Pressure\", units=\"torr\")"
   ]
  },
  {
   "cell_type": "markdown",
   "id": "18f17cf3",
   "metadata": {},
   "source": [
    "Plot the dataset"
   ]
  },
  {
   "cell_type": "code",
   "execution_count": null,
   "id": "e3dbf538",
   "metadata": {},
   "outputs": [],
   "source": [
    "ds.plot(colormap=\"magma\")"
   ]
  },
  {
   "cell_type": "markdown",
   "id": "db41fb78",
   "metadata": {},
   "source": [
    "Perform IRIS analysis"
   ]
  },
  {
   "cell_type": "code",
   "execution_count": null,
   "id": "1cd5b946",
   "metadata": {},
   "outputs": [],
   "source": [
    "iris = scp.IRIS(reg_par=[-10, 1, 12])\n",
    "K = scp.IrisKernel(ds, \"langmuir\", q=[-8, -1, 50])\n",
    "iris.fit(ds, K)\n",
    "iris.plotdistribution(-7, colormap=\"magma\")"
   ]
  },
  {
   "cell_type": "markdown",
   "id": "e0ca9d26",
   "metadata": {},
   "source": [
    "### Other Advanced Analysis Techniques\n",
    "SpectroChemPy includes many other advanced analysis techniques, such as:\n",
    "* Multivariate analysis\n",
    "* Peak fitting\n",
    "* Kinetic modeling\n",
    "* And more\n",
    "\n",
    "For more information, see the [Advanced Analysis tutorial](../userguide/analysis/index.rst) section."
   ]
  },
  {
   "cell_type": "markdown",
   "id": "3f7b887c",
   "metadata": {},
   "source": [
    "## Next Steps 🎯\n",
    "\n",
    "Now that you've got a taste of SpectroChemPy's capabilities, here are some suggestions for diving deeper:\n",
    "\n",
    "- [Examples Gallery](examples/index) 📈: Browse through practical examples and use cases\n",
    "- [User Guide](../userguide/index) 📖: Learn about specific features in detail\n",
    "- [API Reference](../reference/index) 🔍: Explore the complete API documentation\n",
    "- [Get Help](https://github.com/spectrochempy/spectrochempy/discussions) 💬: Join our community discussions"
   ]
  }
 ],
 "metadata": {
  "jupytext": {
   "formats": "ipynb,py:percent",
   "notebook_metadata_filter": "all"
  },
  "kernelspec": {
   "display_name": "Python 3 (ipykernel)",
   "language": "python",
   "name": "python3"
  },
  "language_info": {
   "codemirror_mode": {
    "name": "ipython",
    "version": 3
   },
   "file_extension": ".py",
   "mimetype": "text/x-python",
   "name": "python",
   "nbconvert_exporter": "python",
   "pygments_lexer": "ipython3",
   "version": "3.13.2"
  },
  "widgets": {
   "application/vnd.jupyter.widget-state+json": {
    "state": {},
    "version_major": 2,
    "version_minor": 0
   }
  }
 },
 "nbformat": 4,
 "nbformat_minor": 5
}
