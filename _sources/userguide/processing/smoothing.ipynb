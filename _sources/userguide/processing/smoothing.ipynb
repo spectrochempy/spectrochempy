{
 "cells": [
  {
   "cell_type": "markdown",
   "id": "2d88b8c5",
   "metadata": {},
   "source": [
    "# Filtering, Smoothing and Denoising\n",
    "\n",
    "In this tutorial, we show how to filter/smooth 1D and 2D spectra and gives information\n",
    "on the algorithms used in Spectrochempy.\n",
    "\n",
    "We first import spectrochempy, the other libraries used in this tutorial, and a sample\n",
    "raman dataset:"
   ]
  },
  {
   "cell_type": "code",
   "execution_count": null,
   "id": "eafb85d6",
   "metadata": {},
   "outputs": [],
   "source": [
    "import spectrochempy as scp\n",
    "from spectrochempy import info_"
   ]
  },
  {
   "cell_type": "markdown",
   "id": "bd1cd867",
   "metadata": {},
   "source": [
    "First, we import a sample raman spectrum:"
   ]
  },
  {
   "cell_type": "code",
   "execution_count": null,
   "id": "2e9ea33d",
   "metadata": {},
   "outputs": [],
   "source": [
    "# use the generic read function. Note that read_labspec would be equivalent for this file format.\n",
    "X = scp.read(\"ramandata/labspec/SMC1-Initial_RT.txt\")"
   ]
  },
  {
   "cell_type": "markdown",
   "id": "a4a651db",
   "metadata": {},
   "source": [
    "and plot it:"
   ]
  },
  {
   "cell_type": "code",
   "execution_count": null,
   "id": "2396352f",
   "metadata": {},
   "outputs": [],
   "source": [
    "# Use preferences to set the figure size for all figures\n",
    "prefs = scp.preferences\n",
    "prefs.figure.figsize = (8, 4)\n",
    "\n",
    "# and use plot method of the NDDataset\n",
    "X.plot()"
   ]
  },
  {
   "cell_type": "markdown",
   "id": "91f3252a",
   "metadata": {},
   "source": [
    "To have a better view of the filters effect, we will zoom on a smaller region:\n",
    "(0,400) cm$^{-1}$ and we will add some additional noise."
   ]
  },
  {
   "cell_type": "code",
   "execution_count": null,
   "id": "b9da1ac6",
   "metadata": {},
   "outputs": [],
   "source": [
    "# select a region by slicing (note the original shape is (1, 1024)\n",
    "Xs = X[:, 0.0:400.0]\n",
    "info_(f\"shape: {X.shape}\")\n",
    "Xs.plot()"
   ]
  },
  {
   "cell_type": "code",
   "execution_count": null,
   "id": "f26d87a9",
   "metadata": {},
   "outputs": [],
   "source": [
    "import numpy as np\n",
    "\n",
    "noise = np.random.normal(0, 100, 215)\n",
    "Xn = Xs + noise\n",
    "Xn.plot()"
   ]
  },
  {
   "cell_type": "markdown",
   "id": "3fdff8fe",
   "metadata": {},
   "source": [
    "## The `Filter` processor\n",
    "\n",
    "The `Filter` processor is a generic processor which can be used to filter 1D and 2D\n",
    "spectra.\n",
    "\n",
    "Here is a demonstration on how to use it to smooth a 1D spectrum."
   ]
  },
  {
   "cell_type": "markdown",
   "id": "d6875f5c",
   "metadata": {},
   "source": [
    "### Moving average\n",
    "\n",
    "In its simplest form of smoothing is a unweighted moving average - each absorbance at\n",
    "a given wavenumber of the smoothed spectrum is the average of the absorbance at the\n",
    "absorbance at the considered wavenumber and the N neighboring wavenumbers\n",
    "(i.e. N/2 before and N/2 after), hence the conventional use of an odd number of\n",
    "N+1 points to define the window length. For the points located at both end of the\n",
    "spectra, the extremities of the spectrum are mirrored beyond the initial limits to\n",
    "minimize boundary effects.\n",
    "\n",
    "\n",
    "Let's create a filter processor with a moving average (method `avg`) of 3 points\n",
    "(default size is 5)."
   ]
  },
  {
   "cell_type": "code",
   "execution_count": null,
   "id": "757eb116",
   "metadata": {},
   "outputs": [],
   "source": [
    "filter = scp.Filter(method=\"avg\", size=5)"
   ]
  },
  {
   "cell_type": "markdown",
   "id": "5304023f",
   "metadata": {},
   "source": [
    "Apply the filter to the spectrum Xn"
   ]
  },
  {
   "cell_type": "code",
   "execution_count": null,
   "id": "76142f26",
   "metadata": {},
   "outputs": [],
   "source": [
    "Xsm = filter.transform(Xn)"
   ]
  },
  {
   "cell_type": "markdown",
   "id": "6929a199",
   "metadata": {},
   "source": [
    "Note that the above syntax can be simplified to the equivalent:"
   ]
  },
  {
   "cell_type": "code",
   "execution_count": null,
   "id": "3905b6d5",
   "metadata": {},
   "outputs": [],
   "source": [
    "Xsm = filter(Xn)"
   ]
  },
  {
   "cell_type": "markdown",
   "id": "57e33695",
   "metadata": {
    "lines_to_next_cell": 2
   },
   "source": [
    "Now, let's plot the result.\n",
    "\n",
    "However, as this will be repeated along the tutorial, we first make a function to plot\n",
    "both original and transformed spectra on the same figure, with a legend."
   ]
  },
  {
   "cell_type": "code",
   "execution_count": null,
   "id": "2e44b93d",
   "metadata": {},
   "outputs": [],
   "source": [
    "def plot(X, Xm, label=None, xlim=None):\n",
    "    X.plot(color=\"b\", label=\"original\")\n",
    "    ax = Xm.plot(clear=False, color=\"r\", ls=\"-\", lw=1.5, label=label)\n",
    "    diff = X - Xm\n",
    "    s = round(diff.std(dim=-1).values, 2)\n",
    "    ax = diff.plot(clear=False, ls=\"-\", lw=1, label=f\"difference (std={s})\")\n",
    "    ax.legend(loc=\"best\", fontsize=10)\n",
    "    if xlim is not None:\n",
    "        ax.set_xlim(xlim)\n",
    "    # scp.show()"
   ]
  },
  {
   "cell_type": "code",
   "execution_count": null,
   "id": "42175093",
   "metadata": {
    "lines_to_next_cell": 2
   },
   "outputs": [],
   "source": [
    "plot(Xn, Xsm, label=\"Moving average (5 points)\")"
   ]
  },
  {
   "cell_type": "markdown",
   "id": "13cd1207",
   "metadata": {
    "lines_to_next_cell": 2
   },
   "source": [
    "### Convolution with window filters\n",
    "\n",
    "These filters are based on the convolution of scaled window, with the signal.\n",
    "For instance the `han` convolution method use a `han` (also known as 'hanning')\n",
    "window."
   ]
  },
  {
   "cell_type": "code",
   "execution_count": null,
   "id": "2ff9b531",
   "metadata": {},
   "outputs": [],
   "source": [
    "filter = scp.Filter(\n",
    "    method=\"han\", size=7\n",
    ")  # can also be one of 'hamming', 'bartlett', # 'blackman'.\n",
    "Xhan = filter(Xn)\n",
    "plot(Xn, Xhan, label=\"Hanning filter (7 points)\")"
   ]
  },
  {
   "cell_type": "markdown",
   "id": "814dcb30",
   "metadata": {},
   "source": [
    "### Savitzky-Golay filter\n",
    "\n",
    "The `Filter` processor can also be used to apply a Savitzky-Golay filter to the\n",
    "spectrum.\n",
    "\n",
    "This algorithm uses a polynomial interpolation in the moving window. A demonstrative\n",
    "illustration of the method can be found on the Savitzky-Golay filter entry of\n",
    "Wikipedia.\n",
    "\n",
    "The function implemented in spectrochempy is a wrapper of the savgol_filter() method\n",
    "from the scipy.signal module to which we refer the interested reader. It not only\n",
    "used to smooth spectra but also to compute their successive derivatives. The latter\n",
    "are treated in the peak-finding tutorial and we will focus here on the smoothing\n",
    "which is the default of the filter (default parameter: deriv=0 ).\n",
    "\n",
    "As for the previous kernel-based filters, it is a moving-window based method. Hence,\n",
    "the window length (`size` parameter) plays an equivalent role. Moreover,\n",
    "instead of choosing a window function, the user can choose the order of the\n",
    "polynomial used to fit the window data points (`order` , default value: 0).\n",
    "The latter must be strictly smaller than the window size (so that the polynomial\n",
    "coefficients can be fully determined)."
   ]
  },
  {
   "cell_type": "code",
   "execution_count": null,
   "id": "520a51c1",
   "metadata": {},
   "outputs": [],
   "source": [
    "filter = scp.Filter(\n",
    "    method=\"savgol\", size=5, order=0\n",
    ")  # default is size=5, order=2, deriv=0\n",
    "Xsgs = filter(Xn)\n",
    "plot(Xn, Xsgs, label=\"Savitzky-Golay (5 points, order=0)\")"
   ]
  },
  {
   "cell_type": "markdown",
   "id": "981eed39",
   "metadata": {
    "lines_to_next_cell": 2
   },
   "source": [
    "As the `order` is set to 0, there is no much difference compared to a simple moving\n",
    "average."
   ]
  },
  {
   "cell_type": "markdown",
   "id": "b1a48d2c",
   "metadata": {
    "lines_to_next_cell": 2
   },
   "source": [
    "Now we can try to increase the polynomial order to 2 to see the effect on the\n",
    "smoothing."
   ]
  },
  {
   "cell_type": "code",
   "execution_count": null,
   "id": "2c5e1877",
   "metadata": {
    "lines_to_next_cell": 2
   },
   "outputs": [],
   "source": [
    "filter.order = 2\n",
    "filter.size = 7\n",
    "Xsm2 = filter(Xn)\n",
    "plot(Xn, Xsm2, label=\"Savitzky-Golay (7 points, order=2)\")"
   ]
  },
  {
   "cell_type": "markdown",
   "id": "7e4be7a7",
   "metadata": {},
   "source": [
    "### Whittaker-Eilers filter\n",
    "\n",
    "As good alternative to the Savitzky-Golay filter want can choose to use the\n",
    "Whittaker-Eilers smoother described in:\n",
    "P. H. C. Eilers, \"A perfect smoother\", Anal. Chem. 2003, 75, 3631-3636.\n",
    "The implementation in SpectroChemPy is based on the work by H. V. Werts\n",
    "(https://github.com/mhvwerts/whittaker-eilers-smoother). The main parameter to be\n",
    "changed is the `lamb` ('λ' in the Eilers paper), which determines the strength\n",
    "of the smoothing. Note that it may needs tuning over several orders of\n",
    "magnitude (1, 10, 100, 1000, ...)."
   ]
  },
  {
   "cell_type": "code",
   "execution_count": null,
   "id": "33a6e2aa",
   "metadata": {
    "lines_to_next_cell": 2
   },
   "outputs": [],
   "source": [
    "filter = scp.Filter(method=\"whittaker\", order=2, lamb=1.5)\n",
    "Xwhit = filter(Xn)\n",
    "plot(Xn, Xwhit, label=\"Whittaker-Eilers (order=2, lamb=1.5)\")"
   ]
  },
  {
   "cell_type": "markdown",
   "id": "c1e9ce4e",
   "metadata": {},
   "source": [
    "## Filtering using API or NDDataset methods.\n",
    "\n",
    "In addition to the `Filter` processor which provide an uniform interface to the\n",
    "various filter methods provided by\n",
    "SpectroChemPy, it is also possible (as in previous version of spectrochempy)\n",
    "to use specific NDDataset methods or API functions.\n",
    "\n",
    "Let's demonstrate this here.\n",
    "\n",
    "### The `smooth` method"
   ]
  },
  {
   "cell_type": "markdown",
   "id": "63fb15e1",
   "metadata": {},
   "source": [
    "When simply used as this, i.e. `X.smooth()` , the method uses a default\n",
    "moving average ('avg') of 5 points:"
   ]
  },
  {
   "cell_type": "code",
   "execution_count": null,
   "id": "141c6fc8",
   "metadata": {},
   "outputs": [],
   "source": [
    "Xsm = Xn.smooth()  # NDDataset method"
   ]
  },
  {
   "cell_type": "markdown",
   "id": "264a5b93",
   "metadata": {},
   "source": [
    "Note that it is also possible to use the API function `scp.smooth(X)` instead of the\n",
    "dataset method `X.smooth()`. The result\n",
    "is the same."
   ]
  },
  {
   "cell_type": "code",
   "execution_count": null,
   "id": "4cf15423",
   "metadata": {},
   "outputs": [],
   "source": [
    "Xsm = scp.smooth(Xn)  # SpectroChemPy API function"
   ]
  },
  {
   "cell_type": "markdown",
   "id": "4fe8e901",
   "metadata": {},
   "source": [
    "#### Window size influence\n",
    "\n",
    "The following code compares the influence of the window size on the smoothing of\n",
    "the `Xn` NDDataset."
   ]
  },
  {
   "cell_type": "code",
   "execution_count": null,
   "id": "9348ee3a",
   "metadata": {
    "lines_to_next_cell": 2
   },
   "outputs": [],
   "source": [
    "for size in [3, 5, 7, 9, 11]:\n",
    "    Xsm = Xn.smooth(size)\n",
    "    plot(Xn, Xsm, label=f\"smooth `avg` size={size}\")"
   ]
  },
  {
   "cell_type": "markdown",
   "id": "5332ea2a",
   "metadata": {},
   "source": [
    "The above spectra clearly show that for large value of the `size` parameter,\n",
    "the spectrum is flattened out and distorted.\n",
    "\n",
    "When determining the optimum window size, one should thus consider\n",
    "the balance between noise removal and signal integrity: the larger the window size,\n",
    "the stronger the smoothing,\n",
    "but also the greater the chance to distort the spectrum."
   ]
  },
  {
   "cell_type": "markdown",
   "id": "4e71139c",
   "metadata": {},
   "source": [
    "### Convolution with windows\n",
    "\n",
    "Besides the window `size`, the user can also choose the type of\n",
    "window (`window` ) from `flat`(eq. to `avg`) , `han` , `hamming` ,\n",
    "`bartlett` or `blackman` .\n",
    "The `flat` window - which is the default shown above - should be fine for the vast\n",
    "majority of\n",
    "cases.\n",
    "\n",
    "The code below compares the effect of the type of window:"
   ]
  },
  {
   "cell_type": "code",
   "execution_count": null,
   "id": "75b35334",
   "metadata": {},
   "outputs": [],
   "source": [
    "size = 7\n",
    "for window in [\"flat\", \"bartlett\", \"han\", \"hamming\", \"blackman\"]:\n",
    "    Xsm = Xn.smooth(size=size, window=window)\n",
    "    plot(Xn, Xsm, label=f\"window=`{window}` size={size}\")"
   ]
  },
  {
   "cell_type": "markdown",
   "id": "fef405fd",
   "metadata": {},
   "source": [
    "Close examination of the spectra shows that the flat window leads to the stronger\n",
    "smoothing. This is\n",
    "because the other window functions are used as weighting functions for the\n",
    "N+1 points, with the largest weight on the central point and smaller weights for\n",
    "external points.\n",
    "\n",
    "The window functions as used in SpectroChemPy are derived from the scipy library.\n",
    "These builtin functions are such\n",
    "that the value of the central point is 1. Hence, as shown below,  they are normalized\n",
    "to the sum of weights. The\n",
    "code below displays the corresponding normalized functions for size=27 points:"
   ]
  },
  {
   "cell_type": "code",
   "execution_count": null,
   "id": "234cccb8",
   "metadata": {},
   "outputs": [],
   "source": [
    "import numpy as np\n",
    "import scipy\n",
    "\n",
    "functions = []\n",
    "labels = []\n",
    "size = 27\n",
    "for i, method in enumerate([\"bartlett\", \"han\", \"hamming\", \"blackman\"]):\n",
    "    data = scipy.signal.get_window(method, size, fftbins=False)\n",
    "    data = data / np.sum(data)\n",
    "\n",
    "    s = scp.NDDataset(\n",
    "        data + 0.02 * i\n",
    "    )  # normalized window function, y shifted : +0.1 for each function\n",
    "    functions.append(s)\n",
    "    labels.append(f\"function: {method}\")\n",
    "\n",
    "ax = scp.plot_multiple(\n",
    "    figsize=(8, 5),  # ylim=(0,0.1),\n",
    "    method=\"pen\",\n",
    "    datasets=functions,\n",
    "    labels=labels,\n",
    "    ls=\"-\",\n",
    "    lw=2,\n",
    ")\n",
    "_ = ax.legend(labels, loc=\"upper left\", fontsize=10)"
   ]
  },
  {
   "cell_type": "markdown",
   "id": "83a6886d",
   "metadata": {},
   "source": [
    "As shown above, the \"bartlett\" function is equivalent to a triangular window,\n",
    "while other\n",
    "functions (`hanning` , `hamming` , `blackman` ) are bell-shaped. More information on\n",
    "window functions can be found [\n",
    "here](https://en.wikipedia.org/wiki/Window_function)."
   ]
  },
  {
   "cell_type": "markdown",
   "id": "17627f9e",
   "metadata": {},
   "source": [
    "### Savitzky-Golay filter:`savgol`\n",
    "Similarly, the Savitsky-Golay filter is also implemented as an API/NDDataset method:"
   ]
  },
  {
   "cell_type": "code",
   "execution_count": null,
   "id": "e3cd9e51",
   "metadata": {},
   "outputs": [],
   "source": [
    "Xsg = scp.savgol(Xn, size=5, order=2, mode=\"mirror\")"
   ]
  },
  {
   "cell_type": "markdown",
   "id": "68d52381",
   "metadata": {},
   "source": [
    "### Whittaker-eilers filter : `whittaker`\n",
    "Finally, we can also use the `whittaker` filter directly. *e.g*.:"
   ]
  },
  {
   "cell_type": "code",
   "execution_count": null,
   "id": "44d45680",
   "metadata": {},
   "outputs": [],
   "source": [
    "Xw = scp.whittaker(Xn, lamb=10)"
   ]
  }
 ],
 "metadata": {
  "jupytext": {
   "cell_metadata_filter": "title,-all",
   "formats": "ipynb,py:percent",
   "notebook_metadata_filter": "all"
  },
  "kernelspec": {
   "display_name": "Python 3 (ipykernel)",
   "language": "python",
   "name": "python3"
  },
  "language_info": {
   "codemirror_mode": {
    "name": "ipython",
    "version": 3
   },
   "file_extension": ".py",
   "mimetype": "text/x-python",
   "name": "python",
   "nbconvert_exporter": "python",
   "pygments_lexer": "ipython3",
   "version": "3.10.10"
  }
 },
 "nbformat": 4,
 "nbformat_minor": 5
}
