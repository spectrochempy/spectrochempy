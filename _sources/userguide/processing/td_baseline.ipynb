{
 "cells": [
  {
   "cell_type": "markdown",
   "id": "7376d206",
   "metadata": {},
   "source": [
    "# Time domain baseline correction (NMR)\n",
    "\n",
    "Here we show how to baseline correct dataset in the time domain before applying FFT.\n",
    "\n",
    "The example spectra were downloaded from [this page](\n",
    "http://anorganik.uni-tuebingen.de/klaus/nmr/processing/index.php?p=dcoffset/dcoffset) where you can find some\n",
    "explanations on this kind of process."
   ]
  },
  {
   "cell_type": "code",
   "execution_count": null,
   "id": "4a44e4f0",
   "metadata": {},
   "outputs": [],
   "source": [
    "import spectrochempy as scp"
   ]
  },
  {
   "cell_type": "code",
   "execution_count": null,
   "id": "1752bb31",
   "metadata": {},
   "outputs": [],
   "source": [
    "path = scp.preferences.datadir / \"nmrdata\" / \"bruker\" / \"tests\" / \"nmr\" / \"h3po4\"\n",
    "fid = scp.read_topspin(path, expno=4)\n",
    "prefs = scp.preferences\n",
    "prefs.figure.figsize = (7, 3)\n",
    "fid.plot(show_complex=True)"
   ]
  },
  {
   "cell_type": "code",
   "execution_count": null,
   "id": "2fef6122",
   "metadata": {},
   "outputs": [],
   "source": [
    "spec = scp.fft(fid)\n",
    "spec.plot(xlim=(5, -5))"
   ]
  },
  {
   "cell_type": "markdown",
   "id": "9796275d",
   "metadata": {},
   "source": [
    "We can see that in the middle of the spectrum there are an artifact (a transmitter spike)\n",
    "due to different DC offset between imaginary.\n",
    "\n",
    "In SpectroChemPy, for now, we provide a simple kind of dc correction using the `dc`command."
   ]
  },
  {
   "cell_type": "code",
   "execution_count": null,
   "id": "fe6250cf",
   "metadata": {},
   "outputs": [],
   "source": [
    "dc_corrected_fid = fid.dc()\n",
    "spec = scp.fft(dc_corrected_fid)\n",
    "spec.plot(xlim=(5, -5))"
   ]
  },
  {
   "cell_type": "code",
   "execution_count": null,
   "id": "6a88703d",
   "metadata": {},
   "outputs": [],
   "source": [
    "path = scp.preferences.datadir / \"nmrdata\" / \"bruker\" / \"tests\" / \"nmr\" / \"cadmium\"\n",
    "fid2 = scp.read_topspin(path, expno=100)\n",
    "fid2.plot(show_complex=True)"
   ]
  },
  {
   "cell_type": "code",
   "execution_count": null,
   "id": "c5b92f3a",
   "metadata": {},
   "outputs": [],
   "source": [
    "spec2 = scp.fft(fid2)\n",
    "spec2.plot()"
   ]
  },
  {
   "cell_type": "code",
   "execution_count": null,
   "id": "902e2d5f",
   "metadata": {},
   "outputs": [],
   "source": [
    "dc_corrected_fid2 = fid2.dc()\n",
    "spec2 = scp.fft(dc_corrected_fid2)\n",
    "spec2.plot()"
   ]
  }
 ],
 "metadata": {
  "jupytext": {
   "formats": "ipynb,py:percent",
   "notebook_metadata_filter": "all"
  },
  "kernelspec": {
   "display_name": "Python 3",
   "language": "python",
   "name": "python3"
  },
  "language_info": {
   "codemirror_mode": {
    "name": "ipython",
    "version": 3
   },
   "file_extension": ".py",
   "mimetype": "text/x-python",
   "name": "python",
   "nbconvert_exporter": "python",
   "pygments_lexer": "ipython3",
   "version": "3.9.1"
  },
  "widgets": {
   "application/vnd.jupyter.widget-state+json": {
    "state": {},
    "version_major": 2,
    "version_minor": 0
   }
  }
 },
 "nbformat": 4,
 "nbformat_minor": 5
}
