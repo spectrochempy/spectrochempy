{
 "cells": [
  {
   "cell_type": "markdown",
   "id": "b7adf4c5",
   "metadata": {},
   "source": [
    "# Fitting\n"
   ]
  },
  {
   "cell_type": "code",
   "execution_count": null,
   "id": "cfe74ab5",
   "metadata": {},
   "outputs": [],
   "source": [
    "import numpy as np\n",
    "\n",
    "import spectrochempy as scp\n",
    "from spectrochempy import ur"
   ]
  },
  {
   "cell_type": "markdown",
   "id": "c515b005",
   "metadata": {
    "lines_to_next_cell": 2
   },
   "source": [
    "## Solving a linear equation using the least square method (LSTSQ)\n",
    "In the first example, we find the least square solution of a simple linear equation.\n",
    "\n",
    "Let's first create a NDDataset with some data. We have for instance some noisy data\n",
    "that represent the distance ``d`` traveled by some objects versus time ``t``:"
   ]
  },
  {
   "cell_type": "code",
   "execution_count": null,
   "id": "54f8a74a",
   "metadata": {},
   "outputs": [],
   "source": [
    "def func(t, v, var):\n",
    "    d = v * t + (np.random.rand(len(t)) - 0.5) * var\n",
    "    d[0].data = 0.0\n",
    "    return d\n",
    "\n",
    "\n",
    "time = scp.Coord.linspace(0, 10, 20, title=\"time\", units=\"hour\")\n",
    "d = scp.fromfunction(\n",
    "    func,\n",
    "    v=100.0 * ur(\"km/hr\"),\n",
    "    var=60.0 * ur(\"km\"),\n",
    "    # extra arguments passed to the function v, var\n",
    "    coordset=scp.CoordSet(t=time),\n",
    "    name=\"mydataset\",\n",
    "    title=\"distance travelled\",\n",
    ")"
   ]
  },
  {
   "cell_type": "markdown",
   "id": "e2213ea3",
   "metadata": {},
   "source": [
    "Here is a plot of these data-points:"
   ]
  },
  {
   "cell_type": "code",
   "execution_count": null,
   "id": "53cfa5b8",
   "metadata": {},
   "outputs": [],
   "source": [
    "prefs = scp.preferences\n",
    "prefs.figure.figsize = (7, 3)\n",
    "d.plot_scatter(markersize=7, mfc=\"red\", label=\"Original data\")"
   ]
  },
  {
   "cell_type": "markdown",
   "id": "80c6ba4b",
   "metadata": {},
   "source": [
    "We want to fit a line through these data-points of equation\n",
    "\n",
    "$d = v.t + d_0$\n",
    "\n",
    "By construction, we know already that the line should have a\n",
    "gradient of roughly 100 km/h and cut the y-axis at, more or less, 0 km.\n",
    "\n",
    "Using LSTSQ, the solution is found very easily:"
   ]
  },
  {
   "cell_type": "code",
   "execution_count": null,
   "id": "9fae1507",
   "metadata": {
    "lines_to_next_cell": 2
   },
   "outputs": [],
   "source": [
    "lst = scp.LSTSQ()\n",
    "lst.fit(time, d)\n",
    "\n",
    "v, d0 = lst.coef, lst.intercept\n",
    "print(f\"speed : {v:.3f},  distance at time 0 : {d0:.3f}\")\n",
    "\n",
    "dfit = lst.predict()\n",
    "dfit.plot_pen(clear=False, color=\"g\", lw=2, label=\" Fitted line\", legend=\"best\")"
   ]
  },
  {
   "cell_type": "markdown",
   "id": "55fe0240",
   "metadata": {},
   "source": [
    "<div class=\"alert alert-info\">\n",
    "<b>Note</b>\n",
    "\n",
    "In the particular case where the variation is proportional to the x dataset\n",
    "coordinate, the same result can be obtained directly using ``d`` as a single\n",
    "parameter on LSTSQ (as ``t  `` is the ``x`` coordinate axis!)\n",
    "</div>"
   ]
  },
  {
   "cell_type": "code",
   "execution_count": null,
   "id": "d120ee88",
   "metadata": {},
   "outputs": [],
   "source": [
    "lst = scp.LSTSQ()\n",
    "lst.fit(d)\n",
    "v, d0 = lst.coef, lst.intercept"
   ]
  },
  {
   "cell_type": "markdown",
   "id": "42e5de62",
   "metadata": {},
   "source": [
    "and the final plot"
   ]
  },
  {
   "cell_type": "code",
   "execution_count": null,
   "id": "1abef4a7",
   "metadata": {
    "lines_to_next_cell": 2
   },
   "outputs": [],
   "source": [
    "d.plot_scatter(\n",
    "    markersize=7,\n",
    "    mfc=\"red\",\n",
    "    mec=\"black\",\n",
    "    label=\"Original data\",\n",
    "    title=f\"Linear regression, $r^2={lst.score(): .3f} \",\n",
    ")\n",
    "dfit = lst.predict()\n",
    "dfit.plot_pen(clear=False, color=\"g\", lw=2, label=\" Fitted line\", legend=\"best\")"
   ]
  },
  {
   "cell_type": "markdown",
   "id": "d715343f",
   "metadata": {
    "lines_to_next_cell": 2
   },
   "source": [
    "Let's try now with a quadratic increase of the speed:"
   ]
  },
  {
   "cell_type": "code",
   "execution_count": null,
   "id": "af62d6a7",
   "metadata": {},
   "outputs": [],
   "source": [
    "def func(t, a, var):\n",
    "    d = a * (t / 3.0) ** 2 + (np.random.rand(len(t)) - 0.8) * var\n",
    "    for i in range(t.size):\n",
    "        if d[i].magnitude < 0:\n",
    "            d[i] = 0.0 * d.units\n",
    "    return d\n",
    "\n",
    "\n",
    "time = scp.Coord.linspace(0, 10, 20, title=\"time\", units=\"hour\")\n",
    "d2 = scp.NDDataset.fromfunction(\n",
    "    func,\n",
    "    a=100.0 * ur(\"km/hr^2\"),\n",
    "    var=60.0 * ur(\"km\"),\n",
    "    # extra arguments passed to the function v, var\n",
    "    coordset=scp.CoordSet(t=time),\n",
    "    name=\"mydataset\",\n",
    "    title=\"distance travelled\",\n",
    ")\n",
    "\n",
    "d2.plot_scatter(markersize=7, mfc=\"red\")"
   ]
  },
  {
   "cell_type": "markdown",
   "id": "ca15d4f7",
   "metadata": {},
   "source": [
    "Now we must use the first syntax LSTQ(X, Y) as the variation is not proportional\n",
    "to time, but to its square."
   ]
  },
  {
   "cell_type": "code",
   "execution_count": null,
   "id": "afdb87c3",
   "metadata": {},
   "outputs": [],
   "source": [
    "X = time**2\n",
    "lst = scp.LSTSQ()\n",
    "lst.fit(X, d2)\n",
    "\n",
    "v, d0 = lst.coef, lst.intercept\n",
    "print(f\"acceleration : {v:.3f},  distance at time 0 : {d0:.3f}\")"
   ]
  },
  {
   "cell_type": "code",
   "execution_count": null,
   "id": "d44a5df1",
   "metadata": {},
   "outputs": [],
   "source": [
    "d2.plot_scatter(\n",
    "    markersize=7,\n",
    "    mfc=\"red\",\n",
    "    mec=\"black\",\n",
    "    label=\"Original data\",\n",
    "    title=\"Least-square fitting example on quadratic data\",\n",
    ")\n",
    "dfit = lst.predict()\n",
    "\n",
    "dfit.plot_pen(clear=False, color=\"g\", lw=2, label=\" Fitted line\", legend=\"best\")"
   ]
  },
  {
   "cell_type": "markdown",
   "id": "3874fbaa",
   "metadata": {},
   "source": [
    "## Least square with non-negativity constraint (NNLS)"
   ]
  },
  {
   "cell_type": "markdown",
   "id": "9c4e6e2f",
   "metadata": {},
   "source": [
    "When fitting data with LSTSQ, it happens that we get some negative values were\n",
    "it should not, for instance having a negative distance at time 0.\n",
    "\n",
    "In this case, we can use the NNLS method of fitting. It operates as `LSTSQ`\n",
    "but keep the Y values always positive."
   ]
  },
  {
   "cell_type": "code",
   "execution_count": null,
   "id": "dd278e41",
   "metadata": {},
   "outputs": [],
   "source": [
    "X = time**2\n",
    "nls = scp.NNLS()\n",
    "nls.fit(X, d2)\n",
    "\n",
    "v, d0 = lst.coef, lst.intercept\n",
    "print(f\"acceleration : {v: .3f},  distance at time 0 : {d0: .3f}\")"
   ]
  },
  {
   "cell_type": "code",
   "execution_count": null,
   "id": "42db9021",
   "metadata": {},
   "outputs": [],
   "source": [
    "d2.plot_scatter(\n",
    "    markersize=7,\n",
    "    mfc=\"red\",\n",
    "    mec=\"black\",\n",
    "    label=\"Original data\",\n",
    "    title=\"Non-negative Least-square fitting example\",\n",
    ")\n",
    "dfit = lst.predict()\n",
    "\n",
    "dfit.plot_pen(clear=False, color=\"g\", lw=2, label=\" Fitted line\", legend=\"best\")"
   ]
  },
  {
   "cell_type": "markdown",
   "id": "b2ce7a54",
   "metadata": {},
   "source": [
    "## NDDataset modelling using non-linear optimisation method"
   ]
  },
  {
   "cell_type": "markdown",
   "id": "e9f17d15",
   "metadata": {},
   "source": [
    "First we will load an IR dataset"
   ]
  },
  {
   "cell_type": "code",
   "execution_count": null,
   "id": "f0478c30",
   "metadata": {},
   "outputs": [],
   "source": [
    "nd = scp.read(\"irdata/nh4y-activation.spg\")"
   ]
  },
  {
   "cell_type": "markdown",
   "id": "3228a06e",
   "metadata": {},
   "source": [
    "As we want to start with a single 1D spectra, we select the last one (index -1)"
   ]
  },
  {
   "cell_type": "code",
   "execution_count": null,
   "id": "09505625",
   "metadata": {},
   "outputs": [],
   "source": [
    "nd = nd[-1].squeeze()\n",
    "# nd[-1] returns a nddataset with shape (1,5549)\n",
    "# this is why we squeeze it to get a pure 1D dataset with shape (5549,)"
   ]
  },
  {
   "cell_type": "markdown",
   "id": "82797d81",
   "metadata": {},
   "source": [
    "Now we slice it to keep only the OH vibration region:"
   ]
  },
  {
   "cell_type": "code",
   "execution_count": null,
   "id": "ef656493",
   "metadata": {},
   "outputs": [],
   "source": [
    "ndOH = nd[3700.0:3300.0]\n",
    "ndOH.plot()"
   ]
  },
  {
   "cell_type": "markdown",
   "id": "93b6b3f0",
   "metadata": {},
   "source": [
    "### Baseline correction"
   ]
  },
  {
   "cell_type": "markdown",
   "id": "b8f616a0",
   "metadata": {},
   "source": [
    "We can perform a linear baseline correction to start with this data (see the\n",
    ":doc:`baseline tutorial </userguide/processing/baseline>`).\n",
    "For removing a linear baseline, the fastest method is however to use the `abc` (\n",
    "automatic baseline correction)"
   ]
  },
  {
   "cell_type": "code",
   "execution_count": null,
   "id": "73c775ac",
   "metadata": {},
   "outputs": [],
   "source": [
    "ndOHcorr = scp.basc(ndOH)\n",
    "ndOHcorr.plot()"
   ]
  },
  {
   "cell_type": "markdown",
   "id": "5a9640bb",
   "metadata": {},
   "source": [
    "### Peak finding\n",
    "\n",
    "Below we will need to start with some guess of the peak position and width.\n",
    "For this we can use the `find_peaks()` method\n",
    "(see :doc:`Peak finding tutorial </userguide/analysis/peak_finding>`)"
   ]
  },
  {
   "cell_type": "code",
   "execution_count": null,
   "id": "37c676c4",
   "metadata": {},
   "outputs": [],
   "source": [
    "peaks, _ = ndOHcorr.find_peaks()\n",
    "peaks.x.values"
   ]
  },
  {
   "cell_type": "code",
   "execution_count": null,
   "id": "657ec4b6",
   "metadata": {},
   "outputs": [],
   "source": [
    "ax = ndOHcorr.plot_pen()  # output the spectrum on ax. ax will receive next plot too\n",
    "pks = peaks + 0.01  # add a small offset on the y position of the markers\n",
    "pks.plot_scatter(\n",
    "    ax=ax,\n",
    "    marker=\"v\",\n",
    "    color=\"black\",\n",
    "    clear=False,  # we need to keep the previous output on ax\n",
    "    data_only=True,  # we don't need to redraw all things like labels, etc...\n",
    "    ylim=(-0.05, 1.3),\n",
    ")"
   ]
  },
  {
   "cell_type": "markdown",
   "id": "0d125869",
   "metadata": {},
   "source": [
    "The maximum of the two major peaks are thus exactly at 3624.61 and 3541.68 cm$^{-1}$"
   ]
  },
  {
   "cell_type": "markdown",
   "id": "6e831f1b",
   "metadata": {},
   "source": [
    "### Fitting script\n",
    "Now we will define the fitting procedure as a script"
   ]
  },
  {
   "cell_type": "code",
   "execution_count": null,
   "id": "3dd23e85",
   "metadata": {},
   "outputs": [],
   "source": [
    "script = \"\"\"\n",
    "\n",
    "#-----------------------------------------------------------\n",
    "# syntax for parameters definition :\n",
    "# name : value, low_bound,  high_bound\n",
    "#  * for fixed parameters\n",
    "#  $ for variable parameters\n",
    "#  > for reference to a parameter in the COMMON block\n",
    "#    (> is forbidden in the COMMON block)\n",
    "# common block parameters should not have a _ in their names\n",
    "#-----------------------------------------------------------\n",
    "#\n",
    "COMMON:\n",
    "# common parameters ex.\n",
    "# $ gwidth: 1.0, 0.0, none\n",
    "$ gratio: 0.1, 0.0, 1.0\n",
    "$ gasym: 0.1, 0, 1\n",
    "\n",
    "MODEL: LINE_1\n",
    "shape: asymmetricvoigtmodel\n",
    "    * ampl:  1.0, 0.0, none\n",
    "    $ pos:   3624.61, 3610.0, 3640.0\n",
    "    > ratio: gratio\n",
    "    > asym: gasym\n",
    "    $ width: 200, 0, 1000\n",
    "\n",
    "MODEL: LINE_2\n",
    "shape: asymmetricvoigtmodel\n",
    "    $ ampl:  0.2, 0.0, none\n",
    "    $ pos:   3541.68, 3520.0, 3560.0\n",
    "    > ratio: gratio\n",
    "    > asym: gasym\n",
    "    $ width: 200, 0, 1000\n",
    "\n",
    "\"\"\""
   ]
  },
  {
   "cell_type": "markdown",
   "id": "2c94c852",
   "metadata": {},
   "source": [
    "#### Syntax for parameters definition\n",
    "\n",
    "In such script, the char `#` at the beginning of a line denote that the whole line is\n",
    "a comment. Comments are\n",
    "obviously optional but may be useful to explain\n",
    "\n",
    "Each individual model component is identified by the keyword `MODEL`\n",
    "\n",
    "A `MODEL` have a name, *e.g.*, `MODEL: LINE_1` .\n",
    "\n",
    "Then come for each model components its `shape` , *i.e.,* the shape of the line.\n",
    "\n",
    "Come after the definition of the model parameters depending on the shape, e.g., for\n",
    "a `gaussianmodel` we have three\n",
    "parameters: `amplitude` (`ampl`), `width` and `position` (`pos`) of the line.\n",
    "\n",
    "To define a given parameter, we have to write its `name` and a set of 3 values:\n",
    "the expected `value` and 2 limits\n",
    "for the allowed variations : `low_bound`,  `high_bound`:\n",
    "\n",
    "```\n",
    "name : value, low_bound,  high_bound\n",
    "```\n",
    "These parameters are preceded by a mark saying what kind of parameter it will behave\n",
    "in the fit procedure:\n",
    "\n",
    "* `$` is the default and denote a variable parameters\n",
    "* `*` denotes fixed parameters\n",
    "* `>` say that the given parameters is actually defined in a COMMON block\n",
    "\n",
    "`COMMON`is the common block containing parameters to which a parameter in the MODEL\n",
    "blocks can make reference using\n",
    "the  `>` markers.  (`>` obviously is forbidden in the COMMON block)\n",
    "common block parameters should not have a `_`(underscore) in their names\n",
    "\n",
    "With this parameter script definition, you can thus make rather complex search for\n",
    "modelling, as you can make\n",
    "parameters dependents or fixed.\n",
    "\n",
    "The line shape can be (up to now) in the following list of shape (for 1D models -\n",
    "see below for 2D):\n",
    "\n",
    "* PolynomialBaseline -> `polynomialbaseline`:\n",
    "\n",
    "  Arbitrary-degree polynomial (degree limited to 10, however). As a linear\n",
    "  baseline is automatically calculated\n",
    "  during fitting, this polynom is always of\n",
    "  greater or equal to order 2 (parabolic function at the minimum).\n",
    "\n",
    "  $f(x) = ampl * \\sum_{i=2}^{max} c_i*x^i$\n",
    "\n",
    "  ```\n",
    "  MODEL: baseline\n",
    "  shape: polynomialbaseline\n",
    "  # This polynomial starts at the order 2\n",
    "  $ ampl: val, 0.0, None\n",
    "  $ c_2: 1.0, None, None\n",
    "  * c_3: 0.0, None, None\n",
    "  * c_4: 0.0, None, None\n",
    "  # etc\n",
    "  ```\n",
    "\n",
    "\n",
    "* Gaussian Model -> `gaussianmodel`:\n",
    "\n",
    "  Normalized 1D gaussian function.\n",
    "\n",
    "  $f(x) = \\frac{ampl}{\\sqrt{2 \\pi \\sigma^2}} \\exp({\\frac{-(x-pos)^2}{2 \\sigma^2}})$\n",
    "\n",
    "  where $\\sigma = \\frac{width}{2.3548}$\n",
    "\n",
    "  ```\n",
    "  MODEL: Linex\n",
    "  shape: gaussianmodel\n",
    "  $ ampl: val, 0.0, None\n",
    "  $ width: val, 0.0, None\n",
    "  $ pos: val, lob,  upb\n",
    "  ```\n",
    "\n",
    "\n",
    "* Lorentzian Model -> `lorentzianmodel`:\n",
    "\n",
    "  A standard Lorentzian function (also known as the Cauchy distribution).\n",
    "\n",
    "  $f(x) = \\frac{ampl * \\lambda}{\\pi [(x-pos)^2+ \\lambda^2]}$\n",
    "\n",
    "  where $\\lambda = \\frac{width}{2}$\n",
    "\n",
    "  ```\n",
    "  MODEL: liney:\n",
    "  shape: lorentzianmodel\n",
    "  $ ampl:val, 0.0, None\n",
    "  $ width: val, 0.0, None\n",
    "  $ pos: val, lob, upb\n",
    "  ```\n",
    "\n",
    "\n",
    "* Voigt Model -> `voigtmodel`:\n",
    "\n",
    "  A Voigt model constructed as the convolution of a `GaussianModel` and\n",
    "  a `LorentzianModel` -- commonly used for spectral line fitting.\n",
    "\n",
    "  ```\n",
    "  MODEL: linez\n",
    "  shape: voigtmodel\n",
    "  $ ampl: val, 0.0, None\n",
    "  $ width: val, 0.0, None\n",
    "  $ pos: val, lob, upb\n",
    "  $ ratio: val, 0.0, 1.0\n",
    "  ```\n",
    "\n",
    "\n",
    "* Asymmetric Voigt Model -> `asymmetricvoigtmodel`:\n",
    "\n",
    "  An asymmetric Voigt model\n",
    "  (A. L. Stancik and E. B. Brauns, Vibrational Spectroscopy, 2008, 47, 66-69)\n",
    "\n",
    "  ```\n",
    "  MODEL: linez\n",
    "  shape: voigtmodel\n",
    "  $ ampl: val, 0.0, None\n",
    "  $ width: val, 0.0, None\n",
    "  $ pos: val, lob, upb\n",
    "  $ ratio: val, 0.0, 1.0\n",
    "  $ asym: val, 0.0, 1.0\n",
    "  ```"
   ]
  },
  {
   "cell_type": "code",
   "execution_count": null,
   "id": "d1ee5810",
   "metadata": {
    "lines_to_next_cell": 2
   },
   "outputs": [],
   "source": [
    "f1 = scp.Optimize(log_level=\"INFO\")\n",
    "f1.script = script\n",
    "f1.max_iter = 2000\n",
    "# f1.autobase = True\n",
    "f1.fit(ndOHcorr)\n",
    "\n",
    "# Show the result\n",
    "ndOHcorr.plot()\n",
    "ax = (f1.components[:]).plot(clear=False)\n",
    "ax.autoscale(enable=True, axis=\"y\")\n",
    "\n",
    "# plotmerit\n",
    "som = f1.inverse_transform()\n",
    "f1.plotmerit(offset=0, kind=\"scatter\")"
   ]
  },
  {
   "cell_type": "markdown",
   "id": "8912fbb0",
   "metadata": {},
   "source": [
    "<div class='alert alert-warning'>\n",
    "<b>Todo</b>\n",
    "\n",
    "Tutorial to be continued with other methods of optimization and fitting (2D...)\n",
    "</div>"
   ]
  }
 ],
 "metadata": {
  "jupytext": {
   "formats": "ipynb,py:percent",
   "notebook_metadata_filter": "all"
  },
  "kernelspec": {
   "display_name": "Python 3 (ipykernel)",
   "language": "python",
   "name": "python3"
  },
  "language_info": {
   "codemirror_mode": {
    "name": "ipython",
    "version": 3
   },
   "file_extension": ".py",
   "mimetype": "text/x-python",
   "name": "python",
   "nbconvert_exporter": "python",
   "pygments_lexer": "ipython3",
   "version": "3.10.8"
  },
  "widgets": {
   "application/vnd.jupyter.widget-state+json": {
    "state": {},
    "version_major": 2,
    "version_minor": 0
   }
  }
 },
 "nbformat": 4,
 "nbformat_minor": 5
}
