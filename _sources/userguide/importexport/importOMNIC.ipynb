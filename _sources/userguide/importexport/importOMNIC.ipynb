{
 "cells": [
  {
   "cell_type": "markdown",
   "id": "e5d5a3d2",
   "metadata": {},
   "source": [
    "# Import of OMNIC files\n",
    "\n",
    "Thermo Scientific [OMNIC](https://www.thermofisher.com/search/results?query=OMNIC)\n",
    "software have two proprietary binary file formats:\n",
    "\n",
    "- .spa files that handle single spectra\n",
    "- .spg files which contain a group of spectra\n",
    "\n",
    "Both have been reverse engineered, hence allowing extracting their key data.\n",
    "The Omnic reader of Spectrochempy ( `read_omnic()` ) has been developed based on\n",
    "posts in open forums on the .spa file format and extended to .spg file formats."
   ]
  },
  {
   "cell_type": "markdown",
   "id": "cad06800",
   "metadata": {},
   "source": [
    "## Import spg file\n",
    "\n",
    "Let's import an .spg file from the `datadir` (see :ref:`import.ipynb` for details)):\n",
    "and display its main attributes:"
   ]
  },
  {
   "cell_type": "code",
   "execution_count": null,
   "id": "17de7c9f",
   "metadata": {},
   "outputs": [],
   "source": [
    "import spectrochempy as scp"
   ]
  },
  {
   "cell_type": "code",
   "execution_count": null,
   "id": "a5ccfaf2",
   "metadata": {
    "pycharm": {
     "name": "#%%\n"
    }
   },
   "outputs": [],
   "source": [
    "X = scp.read_omnic(\"irdata/CO@Mo_Al2O3.SPG\")\n",
    "X"
   ]
  },
  {
   "cell_type": "markdown",
   "id": "a680ed69",
   "metadata": {
    "lines_to_next_cell": 2
   },
   "source": [
    "The displayed attributes are detailed in the following:\n",
    "\n",
    "- `name` is the name of the group of spectra as it appears in the .spg file. OMNIC\n",
    "  sets this name to the .spg filename used at the creation of the group.\n",
    "  In this example, the name (\"Group sust Mo_Al2O3_base line.SPG\") differs\n",
    "  from the filename (`\"CO@Mo_Al2O3.SPG\"`) because the latter has been changed from\n",
    "  outside OMNIC (directly in the OS).\n",
    "\n",
    "- `author` is that of the creator of the NDDataset (not of the .spg file, which, to\n",
    "  our knowledge, does not have\n",
    "  this type of attribute). The string is composed of the username and of the machine\n",
    "  name as given by the OS, e.g., `\"username@machinename\"`.\n",
    "  It can be accessed and changed using `X.author` .\n",
    "\n",
    "- `created` is the creation date of the NDDataset (again not that of the .spg file).\n",
    "  It can be accessed (or even changed) using `X.created` .\n",
    "\n",
    "- `description` indicates the complete pathname of the .spg file. As the pathname is\n",
    "  also given in the history (below), it can be a good practice to give a\n",
    "  self-explaining description of the group, for instance:"
   ]
  },
  {
   "cell_type": "code",
   "execution_count": null,
   "id": "43d2e376",
   "metadata": {},
   "outputs": [],
   "source": [
    "X.description = \"CO adsorption on CoMo/Al2O3, difference spectra\"\n",
    "X.description"
   ]
  },
  {
   "cell_type": "markdown",
   "id": "173144d2",
   "metadata": {},
   "source": [
    "or directly at the import:"
   ]
  },
  {
   "cell_type": "code",
   "execution_count": null,
   "id": "c3fad883",
   "metadata": {},
   "outputs": [],
   "source": [
    "X = scp.read_omnic(\"irdata//CO@Mo_Al2O3.SPG\", description=\"CO@CoMo/Al2O3, diff spectra\")\n",
    "X.description"
   ]
  },
  {
   "cell_type": "markdown",
   "id": "e99fabae",
   "metadata": {},
   "source": [
    "- `history` records changes made to the dataset. Here, right after its creation, it\n",
    "  has been sorted by date (see below).\n",
    "\n",
    "Then come the attributes related to the data themselves:\n",
    "\n",
    "- `title` (not to be confused with the `name` of the dataset) describes the nature\n",
    "  of data (here **absorbance** ).\n",
    "\n",
    "- `values` shows the data as quantity (with their units when they exist - here a.u.\n",
    "  for absorbance units).\n",
    "\n",
    "- The numerical values ar accessed through the `data` attribute and the units\n",
    "  throughout `units` attribute."
   ]
  },
  {
   "cell_type": "code",
   "execution_count": null,
   "id": "88dfeb93",
   "metadata": {},
   "outputs": [],
   "source": [
    "X.values"
   ]
  },
  {
   "cell_type": "code",
   "execution_count": null,
   "id": "69a3b945",
   "metadata": {},
   "outputs": [],
   "source": [
    "X.data"
   ]
  },
  {
   "cell_type": "code",
   "execution_count": null,
   "id": "65d9e197",
   "metadata": {},
   "outputs": [],
   "source": [
    "X.units"
   ]
  },
  {
   "cell_type": "markdown",
   "id": "998aca3b",
   "metadata": {},
   "source": [
    "- `shape` is the same as the ndarray `shape` attribute and gives the shape of the\n",
    "  data array, here 19 x 3112.\n",
    "\n",
    "Then come the attributes related to the dimensions of the dataset.\n",
    "\n",
    "- `x` : this dimension has one coordinate (a `Coord` object) made of the 3112 the\n",
    "  wavenumbers."
   ]
  },
  {
   "cell_type": "code",
   "execution_count": null,
   "id": "e391984e",
   "metadata": {},
   "outputs": [],
   "source": [
    "print(X.x)\n",
    "X.x"
   ]
  },
  {
   "cell_type": "markdown",
   "id": "d3426731",
   "metadata": {},
   "source": [
    "- `y` : this dimension contains:\n",
    "\n",
    "  - one coordinate made of the 19 acquisition timestamps\n",
    "  - two labels:\n",
    "\n",
    "    - the acquisition date (UTC) of each spectrum\n",
    "    - the name of each spectrum."
   ]
  },
  {
   "cell_type": "code",
   "execution_count": null,
   "id": "8439dd58",
   "metadata": {},
   "outputs": [],
   "source": [
    "X.y"
   ]
  },
  {
   "cell_type": "markdown",
   "id": "8dd93fd6",
   "metadata": {},
   "source": [
    "- `dims` : Note that the `x` and `y` dimensions are the second and first\n",
    "   dimension respectively. Hence, `X[i,j]` will return the absorbance of the ith\n",
    "   spectrum at the jth  wavenumber.\n",
    "   However, this is subject to change, for instance if you perform operation on your\n",
    "   data such as\n",
    "   [Transposition](../processing/transformations.ipynb#Transposition). At any time\n",
    "   the attribute `dims` gives the correct names (which can be modified) and order of\n",
    "   the dimensions."
   ]
  },
  {
   "cell_type": "code",
   "execution_count": null,
   "id": "a921a537",
   "metadata": {},
   "outputs": [],
   "source": [
    "X.dims"
   ]
  },
  {
   "cell_type": "markdown",
   "id": "1642427d",
   "metadata": {},
   "source": [
    "### Acquisition dates and `y` axis\n",
    "\n",
    "The acquisition timestamps are the *Unix times* of the acquisition, i.e. the time\n",
    "elapsed in seconds since the\n",
    "reference date of Jan 1st 1970, 00:00:00 UTC."
   ]
  },
  {
   "cell_type": "code",
   "execution_count": null,
   "id": "00cc6463",
   "metadata": {},
   "outputs": [],
   "source": [
    "X.y.values"
   ]
  },
  {
   "cell_type": "markdown",
   "id": "f68fae00",
   "metadata": {},
   "source": [
    "In OMNIC, the acquisition time is that of the start of the acquisition.\n",
    "As such these may be not convenient to use directly (they are currently in the order\n",
    "of 1.5 billion...)\n",
    "With this respect, it can be convenient to shift the origin of time coordinate to\n",
    "that of the 1st spectrum,\n",
    "which has the index `0` :"
   ]
  },
  {
   "cell_type": "code",
   "execution_count": null,
   "id": "45799cfe",
   "metadata": {},
   "outputs": [],
   "source": [
    "X.y = X.y - X.y[0]\n",
    "X.y.values"
   ]
  },
  {
   "cell_type": "markdown",
   "id": "f5765196",
   "metadata": {},
   "source": [
    "Note that you can also use the inplace subtract operator to perform the same\n",
    "operation."
   ]
  },
  {
   "cell_type": "code",
   "execution_count": null,
   "id": "5a2a17fa",
   "metadata": {},
   "outputs": [],
   "source": [
    "X.y -= X.y[0]"
   ]
  },
  {
   "cell_type": "markdown",
   "id": "7f38c3cb",
   "metadata": {},
   "source": [
    "It is also possible to use the ability of SpectroChemPy to handle unit changes. For\n",
    "this one can use the `to` or `ito` (inplace) methods.\n",
    "\n",
    "```ipython\n",
    "val = val.to(some_units)\n",
    "val.ito(some_units)   # the same inplace\n",
    "```"
   ]
  },
  {
   "cell_type": "code",
   "execution_count": null,
   "id": "9ea91f4a",
   "metadata": {},
   "outputs": [],
   "source": [
    "X.y.ito(\"minute\")\n",
    "X.y.values"
   ]
  },
  {
   "cell_type": "markdown",
   "id": "4fc9100f",
   "metadata": {},
   "source": [
    "As shown above, the values of the `Coord` object are accessed through the `values`\n",
    "attribute. To get the last\n",
    "values corresponding to the last row of the `X` dataset, you can use:"
   ]
  },
  {
   "cell_type": "code",
   "execution_count": null,
   "id": "7201f653",
   "metadata": {},
   "outputs": [],
   "source": [
    "tf = X.y.values[-1]\n",
    "tf"
   ]
  },
  {
   "cell_type": "markdown",
   "id": "d046b9e0",
   "metadata": {},
   "source": [
    "Negative index in python indicates the position in a sequence from the end, so -1\n",
    "indicate the last element."
   ]
  },
  {
   "cell_type": "markdown",
   "id": "889ebc09",
   "metadata": {},
   "source": [
    "Finally, if for instance you want the `x` time axis to be shifted by 2 minutes, it\n",
    "is also very easy to do so:"
   ]
  },
  {
   "cell_type": "code",
   "execution_count": null,
   "id": "daf8c443",
   "metadata": {},
   "outputs": [],
   "source": [
    "X.y = X.y + 2\n",
    "X.y.values"
   ]
  },
  {
   "cell_type": "markdown",
   "id": "60bfc57a",
   "metadata": {},
   "source": [
    "or using the inplace add/subtract operator:"
   ]
  },
  {
   "cell_type": "code",
   "execution_count": null,
   "id": "0a79b40d",
   "metadata": {},
   "outputs": [],
   "source": [
    "X.y -= 2  # this restore the previous coordinates\n",
    "X.y.values"
   ]
  },
  {
   "cell_type": "markdown",
   "id": "d653efe0",
   "metadata": {},
   "source": [
    "### The order of spectra\n",
    "\n",
    "The order of spectra in OMNIC .spg files depends on the order in which the spectra\n",
    "were included in the OMNIC\n",
    "window before the group was saved. By default, spectrochempy reorders the spectra\n",
    "by acquisition date but the\n",
    "original OMNIC order can be kept using the `sortbydate=True` at the function call.\n",
    "For instance:"
   ]
  },
  {
   "cell_type": "code",
   "execution_count": null,
   "id": "4d28b13a",
   "metadata": {},
   "outputs": [],
   "source": [
    "X2 = scp.read_omnic(\"irdata/CO@Mo_Al2O3.SPG\", sortbydate=False)"
   ]
  },
  {
   "cell_type": "markdown",
   "id": "259b942a",
   "metadata": {},
   "source": [
    "In the present case, this will change nothing because the spectra in the OMNIC file\n",
    "were already ordered by increasing data.\n",
    "\n",
    "Finally, it is worth mentioning that a `NDDataset` can generally be manipulated as\n",
    "numpy ndarray. Hence, for\n",
    "instance, the following will inverse the order of the first dimension:"
   ]
  },
  {
   "cell_type": "code",
   "execution_count": null,
   "id": "98911a7f",
   "metadata": {},
   "outputs": [],
   "source": [
    "X = X[::-1]  # reorders the NDDataset along the first dimension going backward\n",
    "X.y.values  # displays the `y` dimension"
   ]
  },
  {
   "cell_type": "markdown",
   "id": "de8af364",
   "metadata": {},
   "source": [
    "<div class='alert alert-info'>\n",
    "<b>Note</b>\n",
    "\n",
    "<strong>Case of groups with different wavenumbers</strong> <br/>\n",
    "An OMNIC .spg file can contain spectra having different wavenumber axes (e.g.\n",
    "different spacings or wavenumber\n",
    "ranges). In its current implementation, the spg reader will purposely return an error\n",
    "because such spectra\n",
    "<i>cannot</i> be included in a single NDDataset which, by definition, contains items that\n",
    "share common axes or dimensions !\n",
    "Future releases might include an option to deal with such a case and return a list of\n",
    "NDDatasets. Let us know if you\n",
    "are interested in such a feature, see <a href=\"https://www.spectrochempy.fr/devguide/issues.html\">Bug reports and enhancement requests.</a>\n",
    "</div>\n"
   ]
  },
  {
   "cell_type": "markdown",
   "id": "4baba5a9",
   "metadata": {},
   "source": [
    "## Import of .spa files\n",
    "\n",
    "The import of a single spectrum follows exactly the same rules as that of the import\n",
    "of a group:"
   ]
  },
  {
   "cell_type": "code",
   "execution_count": null,
   "id": "f08f8f9e",
   "metadata": {},
   "outputs": [],
   "source": [
    "scp.read_omnic(\"irdata/subdir/7_CZ0-100_Pd_101.SPA\")"
   ]
  },
  {
   "cell_type": "markdown",
   "id": "07b7925e",
   "metadata": {},
   "source": [
    "The omnic reader can also import several spa files together, providing that they share\n",
    "a common axis for the wavenumbers.\n",
    "\n",
    "This is the case of the following files in the irdata/subdir directory:\n",
    "\"7_CZ0-100 Pd_101.SPA\", ..., \"7_CZ0-100 Pd_104.spa\".\n",
    "\n",
    "It is possible to import them in a single NDDataset by using\n",
    "the list of filenames\n",
    "in the function call:"
   ]
  },
  {
   "cell_type": "code",
   "execution_count": null,
   "id": "c4ffd263",
   "metadata": {},
   "outputs": [],
   "source": [
    "list_files = (\n",
    "    \"7_CZ0-100_Pd_101.SPA\",\n",
    "    \"7_CZ0-100_Pd_102.SPA\",\n",
    "    \"7_CZ0-100_Pd_103.SPA\",\n",
    "    \"7_CZ0-100_Pd_104.SPA\",\n",
    ")\n",
    "scp.read_omnic(list_files, directory=\"irdata/subdir\", name=\"Merged 7_CZ0-100 Pd\")"
   ]
  },
  {
   "cell_type": "markdown",
   "id": "efc15b18",
   "metadata": {},
   "source": [
    "When compatible .spa files are alone in a directory, a very convenient is to call the\n",
    "read_omnic method\n",
    "using only the directory path as argument that will gather the .spa files together:"
   ]
  },
  {
   "cell_type": "code",
   "execution_count": null,
   "id": "febd9662",
   "metadata": {},
   "outputs": [],
   "source": [
    "scp.read_omnic(\"irdata/subdir/1-20\")"
   ]
  },
  {
   "cell_type": "markdown",
   "id": "1ea97bf8",
   "metadata": {},
   "source": [
    "In the case  where not all files are compatibles, they are returned in different NDDatasets(with independent merging).\n",
    "\n",
    "For example:"
   ]
  },
  {
   "cell_type": "code",
   "execution_count": null,
   "id": "412fc959",
   "metadata": {},
   "outputs": [],
   "source": [
    "Y = scp.read_omnic(\"irdata/subdir/\")\n",
    "Y"
   ]
  },
  {
   "cell_type": "markdown",
   "id": "9b155e08",
   "metadata": {},
   "source": [
    "Here we get a list of two NDDataset because there is two type of file in the directory (`.spa` and `.srs`).\n",
    "\n",
    "The desired dataset can be obtained using a list:"
   ]
  },
  {
   "cell_type": "code",
   "execution_count": null,
   "id": "5689ad79",
   "metadata": {},
   "outputs": [],
   "source": [
    "Y[1]"
   ]
  },
  {
   "cell_type": "markdown",
   "id": "822a67d0",
   "metadata": {},
   "source": [
    "Other ways to select only the required file with extension (`.spa`)are:\n",
    "\n",
    "- writing a list as previously explicitely  listing the required files.\n",
    "- using a more specific reader:"
   ]
  },
  {
   "cell_type": "code",
   "execution_count": null,
   "id": "90b72ccb",
   "metadata": {},
   "outputs": [],
   "source": [
    "scp.read_spa(\"irdata/subdir/\")"
   ]
  },
  {
   "cell_type": "markdown",
   "id": "59935d77",
   "metadata": {},
   "source": [
    "- using a pattern filter"
   ]
  },
  {
   "cell_type": "code",
   "execution_count": null,
   "id": "7145a3fa",
   "metadata": {},
   "outputs": [],
   "source": [
    "scp.read_omnic(\"irdata/subdir/\", pattern=\"*.spa\")"
   ]
  },
  {
   "cell_type": "markdown",
   "id": "890060a8",
   "metadata": {},
   "source": [
    "One advantage of the latter solution is a greter flexibility. For instance the lollowing will select only the `*101.spa` and `*102.spa`:"
   ]
  },
  {
   "cell_type": "code",
   "execution_count": null,
   "id": "d7bfbb38",
   "metadata": {},
   "outputs": [],
   "source": [
    "scp.read_omnic(\"irdata/subdir/\", pattern=\"*10[12].spa\", merge=False)"
   ]
  },
  {
   "cell_type": "markdown",
   "id": "c71a5f98",
   "metadata": {},
   "source": [
    "## Handling Metadata"
   ]
  },
  {
   "cell_type": "markdown",
   "id": "c1a2fffb",
   "metadata": {},
   "source": [
    "Here is an example of accessing metadata"
   ]
  },
  {
   "cell_type": "code",
   "execution_count": null,
   "id": "ae00c4dd",
   "metadata": {},
   "outputs": [],
   "source": [
    "X = scp.read_omnic(\"irdata/CO@Mo_Al2O3.SPG\")\n",
    "print(f\"Title: {X.title}\")\n",
    "print(f\"Origin: {X.origin}\")\n",
    "print(f\"Description: {X.description}\")"
   ]
  },
  {
   "cell_type": "markdown",
   "id": "6dc7508f",
   "metadata": {},
   "source": [
    "and now do some modifications:"
   ]
  },
  {
   "cell_type": "code",
   "execution_count": null,
   "id": "2445511e",
   "metadata": {},
   "outputs": [],
   "source": [
    "X.title = \"Modified title\"\n",
    "X.origin = \"OMNIC measurement\"\n",
    "X.description = \"Modified description\"\n",
    "print(\"Modified metadata:\")\n",
    "print(f\"Title: {X.title}\")\n",
    "print(f\"Origin: {X.origin}\")\n",
    "print(f\"Description: {X.description}\")"
   ]
  },
  {
   "cell_type": "markdown",
   "id": "465b20ac",
   "metadata": {},
   "source": [
    "Reading the metadata now reflect the change"
   ]
  },
  {
   "cell_type": "code",
   "execution_count": null,
   "id": "5c147227",
   "metadata": {},
   "outputs": [],
   "source": [
    "X.title"
   ]
  },
  {
   "cell_type": "markdown",
   "id": "81b36998",
   "metadata": {},
   "source": [
    "## Error Handling"
   ]
  },
  {
   "cell_type": "markdown",
   "id": "c131b9bc",
   "metadata": {},
   "source": [
    "When trying to read file, it is a good practice to handle errors explicitely. For example:"
   ]
  },
  {
   "cell_type": "code",
   "execution_count": null,
   "id": "78c84b48",
   "metadata": {},
   "outputs": [],
   "source": [
    "try:\n",
    "    X = scp.read_omnic(\"nonexistent_file.spa\")\n",
    "except FileNotFoundError:\n",
    "    scp.error_(FileNotFoundError, \"File not found\")\n",
    "except Exception as e:\n",
    "    scp.error_(f\"Error reading file: {e}\")"
   ]
  },
  {
   "cell_type": "markdown",
   "id": "0d39bee6",
   "metadata": {},
   "source": [
    "## Advanced Data Operations"
   ]
  },
  {
   "cell_type": "markdown",
   "id": "ac7fd499",
   "metadata": {},
   "source": [
    "Example of data manipulation:"
   ]
  },
  {
   "cell_type": "code",
   "execution_count": null,
   "id": "4e9ebab2",
   "metadata": {},
   "outputs": [],
   "source": [
    "X = scp.read_omnic(\"irdata/CO@Mo_Al2O3.SPG\")"
   ]
  },
  {
   "cell_type": "markdown",
   "id": "4f2ef80b",
   "metadata": {},
   "source": [
    "- Baseline correction"
   ]
  },
  {
   "cell_type": "code",
   "execution_count": null,
   "id": "44f874da",
   "metadata": {},
   "outputs": [],
   "source": [
    "X_corrected = X - X[0]  # Subtract first spectrum as baseline"
   ]
  },
  {
   "cell_type": "markdown",
   "id": "7bffe25b",
   "metadata": {},
   "source": [
    "- Normalization"
   ]
  },
  {
   "cell_type": "code",
   "execution_count": null,
   "id": "f0b8c833",
   "metadata": {},
   "outputs": [],
   "source": [
    "X_normalized = X / X.max()"
   ]
  },
  {
   "cell_type": "code",
   "execution_count": null,
   "id": "10cc9442",
   "metadata": {},
   "outputs": [],
   "source": [
    "print(\"Original data shape:\", X.shape)\n",
    "print(\"Max value before normalization:\", X.max())\n",
    "print(\"Max value after normalization:\", X_normalized.max())"
   ]
  }
 ],
 "metadata": {
  "jupytext": {
   "cell_metadata_json": true,
   "formats": "ipynb,py:percent",
   "notebook_metadata_filter": "all"
  },
  "kernelspec": {
   "display_name": "Python 3 (ipykernel)",
   "language": "python",
   "name": "python3"
  },
  "language_info": {
   "codemirror_mode": {
    "name": "ipython",
    "version": 3
   },
   "file_extension": ".py",
   "mimetype": "text/x-python",
   "name": "python",
   "nbconvert_exporter": "python",
   "pygments_lexer": "ipython3",
   "version": "3.13.2"
  },
  "widgets": {
   "application/vnd.jupyter.widget-state+json": {
    "state": {},
    "version_major": 2,
    "version_minor": 0
   }
  }
 },
 "nbformat": 4,
 "nbformat_minor": 5
}
